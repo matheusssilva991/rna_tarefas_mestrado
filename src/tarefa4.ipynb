{
 "cells": [
  {
   "cell_type": "code",
   "execution_count": 1,
   "id": "749e9c66",
   "metadata": {},
   "outputs": [],
   "source": [
    "import numpy as np\n",
    "import sys\n",
    "import os\n",
    "import pandas as pd\n",
    "import plotly.graph_objects as go\n",
    "\n",
    "sys.path.append(os.path.abspath(\"../libs\"))\n",
    "sys.path.append(os.path.abspath(\"../utils\"))\n",
    "\n",
    "from levenberg_marquadt import levenberg_marquadt\n",
    "from normalize import StandardScaler\n",
    "from loss_fn_tarefa4 import make_mse_loss_for_neuron\n",
    "\n",
    "pd.set_option('display.float_format', '{:.5f}'.format)"
   ]
  },
  {
   "cell_type": "markdown",
   "id": "f77a74e5",
   "metadata": {},
   "source": [
    "# Ajuste de curva por otimização"
   ]
  },
  {
   "cell_type": "markdown",
   "id": "76c8d133",
   "metadata": {},
   "source": [
    "## Carregar os dados"
   ]
  },
  {
   "cell_type": "code",
   "execution_count": 2,
   "id": "037534c3",
   "metadata": {},
   "outputs": [
    {
     "data": {
      "text/html": [
       "<div>\n",
       "<style scoped>\n",
       "    .dataframe tbody tr th:only-of-type {\n",
       "        vertical-align: middle;\n",
       "    }\n",
       "\n",
       "    .dataframe tbody tr th {\n",
       "        vertical-align: top;\n",
       "    }\n",
       "\n",
       "    .dataframe thead th {\n",
       "        text-align: right;\n",
       "    }\n",
       "</style>\n",
       "<table border=\"1\" class=\"dataframe\">\n",
       "  <thead>\n",
       "    <tr style=\"text-align: right;\">\n",
       "      <th></th>\n",
       "      <th>x1</th>\n",
       "      <th>x2</th>\n",
       "      <th>y</th>\n",
       "    </tr>\n",
       "  </thead>\n",
       "  <tbody>\n",
       "    <tr>\n",
       "      <th>0</th>\n",
       "      <td>-5.00000</td>\n",
       "      <td>-3.00000</td>\n",
       "      <td>-0.91722</td>\n",
       "    </tr>\n",
       "    <tr>\n",
       "      <th>1</th>\n",
       "      <td>-4.89899</td>\n",
       "      <td>-2.93939</td>\n",
       "      <td>-0.93968</td>\n",
       "    </tr>\n",
       "    <tr>\n",
       "      <th>2</th>\n",
       "      <td>-4.79798</td>\n",
       "      <td>-2.87879</td>\n",
       "      <td>-0.91822</td>\n",
       "    </tr>\n",
       "    <tr>\n",
       "      <th>3</th>\n",
       "      <td>-4.69697</td>\n",
       "      <td>-2.81818</td>\n",
       "      <td>-0.90445</td>\n",
       "    </tr>\n",
       "    <tr>\n",
       "      <th>4</th>\n",
       "      <td>-4.59596</td>\n",
       "      <td>-2.75758</td>\n",
       "      <td>-0.93496</td>\n",
       "    </tr>\n",
       "  </tbody>\n",
       "</table>\n",
       "</div>"
      ],
      "text/plain": [
       "        x1       x2        y\n",
       "0 -5.00000 -3.00000 -0.91722\n",
       "1 -4.89899 -2.93939 -0.93968\n",
       "2 -4.79798 -2.87879 -0.91822\n",
       "3 -4.69697 -2.81818 -0.90445\n",
       "4 -4.59596 -2.75758 -0.93496"
      ]
     },
     "execution_count": 2,
     "metadata": {},
     "output_type": "execute_result"
    }
   ],
   "source": [
    "# Carregamento dos dados\n",
    "df = pd.read_excel('../data/Trabalho4dados.xlsx')\n",
    "\n",
    "df.head()"
   ]
  },
  {
   "cell_type": "markdown",
   "id": "1983fdde",
   "metadata": {},
   "source": [
    "## EDA dados"
   ]
  },
  {
   "cell_type": "code",
   "execution_count": 3,
   "id": "d9f7363f",
   "metadata": {},
   "outputs": [
    {
     "data": {
      "text/html": [
       "<div>\n",
       "<style scoped>\n",
       "    .dataframe tbody tr th:only-of-type {\n",
       "        vertical-align: middle;\n",
       "    }\n",
       "\n",
       "    .dataframe tbody tr th {\n",
       "        vertical-align: top;\n",
       "    }\n",
       "\n",
       "    .dataframe thead th {\n",
       "        text-align: right;\n",
       "    }\n",
       "</style>\n",
       "<table border=\"1\" class=\"dataframe\">\n",
       "  <thead>\n",
       "    <tr style=\"text-align: right;\">\n",
       "      <th></th>\n",
       "      <th>x1</th>\n",
       "      <th>x2</th>\n",
       "      <th>y</th>\n",
       "    </tr>\n",
       "  </thead>\n",
       "  <tbody>\n",
       "    <tr>\n",
       "      <th>count</th>\n",
       "      <td>100.00000</td>\n",
       "      <td>100.00000</td>\n",
       "      <td>100.00000</td>\n",
       "    </tr>\n",
       "    <tr>\n",
       "      <th>mean</th>\n",
       "      <td>0.00000</td>\n",
       "      <td>-0.00000</td>\n",
       "      <td>0.27400</td>\n",
       "    </tr>\n",
       "    <tr>\n",
       "      <th>std</th>\n",
       "      <td>2.93045</td>\n",
       "      <td>1.75827</td>\n",
       "      <td>0.93269</td>\n",
       "    </tr>\n",
       "    <tr>\n",
       "      <th>min</th>\n",
       "      <td>-5.00000</td>\n",
       "      <td>-3.00000</td>\n",
       "      <td>-0.99989</td>\n",
       "    </tr>\n",
       "    <tr>\n",
       "      <th>25%</th>\n",
       "      <td>-2.50000</td>\n",
       "      <td>-1.50000</td>\n",
       "      <td>-0.91039</td>\n",
       "    </tr>\n",
       "    <tr>\n",
       "      <th>50%</th>\n",
       "      <td>0.00000</td>\n",
       "      <td>0.00000</td>\n",
       "      <td>1.00238</td>\n",
       "    </tr>\n",
       "    <tr>\n",
       "      <th>75%</th>\n",
       "      <td>2.50000</td>\n",
       "      <td>1.50000</td>\n",
       "      <td>1.05173</td>\n",
       "    </tr>\n",
       "    <tr>\n",
       "      <th>max</th>\n",
       "      <td>5.00000</td>\n",
       "      <td>3.00000</td>\n",
       "      <td>1.09797</td>\n",
       "    </tr>\n",
       "  </tbody>\n",
       "</table>\n",
       "</div>"
      ],
      "text/plain": [
       "             x1        x2         y\n",
       "count 100.00000 100.00000 100.00000\n",
       "mean    0.00000  -0.00000   0.27400\n",
       "std     2.93045   1.75827   0.93269\n",
       "min    -5.00000  -3.00000  -0.99989\n",
       "25%    -2.50000  -1.50000  -0.91039\n",
       "50%     0.00000   0.00000   1.00238\n",
       "75%     2.50000   1.50000   1.05173\n",
       "max     5.00000   3.00000   1.09797"
      ]
     },
     "execution_count": 3,
     "metadata": {},
     "output_type": "execute_result"
    }
   ],
   "source": [
    "df.describe()"
   ]
  },
  {
   "cell_type": "code",
   "execution_count": 4,
   "id": "ef14e37c",
   "metadata": {},
   "outputs": [
    {
     "data": {
      "text/plain": [
       "x1    0\n",
       "x2    0\n",
       "y     0\n",
       "dtype: int64"
      ]
     },
     "execution_count": 4,
     "metadata": {},
     "output_type": "execute_result"
    }
   ],
   "source": [
    "df.isna().sum()"
   ]
  },
  {
   "cell_type": "code",
   "execution_count": 5,
   "id": "32edf9b1",
   "metadata": {},
   "outputs": [
    {
     "data": {
      "application/vnd.plotly.v1+json": {
       "config": {
        "plotlyServerURL": "https://plot.ly"
       },
       "data": [
        {
         "marker": {
          "color": "red",
          "size": 3,
          "symbol": "circle"
         },
         "mode": "markers",
         "name": "Pontos de Dados Originais",
         "type": "scatter3d",
         "x": {
          "bdata": "AAAAAAAAFMBDYt7OkJgTwIbEvJ0hMRPAyiabbLLJEsANiXk7Q2ISwFDrVwrU+hHAk0022WSTEcDWrxSo9SsRwBoS83aGxBDAXXTRRRddEMBBrV8pUOsPwMdxHMdxHA/ATjbZZJNNDsDU+pUCtX4NwFq/UqDWrwzA4oMPPvjgC8BoSMzbGRILwO4MiXk7QwrAdNFFF110CcD6lQK1fqUIwIFav1Kg1gfACB988MEHB8CO4ziO4zgGwBWo9SsFagXAm2yyySabBMAiMW9nSMwDwKj1KwVq/QLALrrooosuAsC1fqVArV8BwDxDYt7OkADAhA8++OCD/7+RmLczJOb9v54hMW9nSPy/qqqqqqqq+r+4MyTm7Qz5v8S8nSExb/e/0UUXXXTR9b/fzpCYtzP0v+tXCtT6lfK/+OCDDz748L8K1PqVArXuvyTm7QyJeeu/Pvjggw8+6L9YCtT6lQLlv3Icx3Ecx+G/GF100UUX3b9LgVq/UqDWv3+lQK1fKdC/ZZNNNtlkw78yb2dIzNupvzJvZ0jM26k/ZZNNNtlkwz9/pUCtXynQP0uBWr9SoNY/GF100UUX3T9yHMdxHMfhP1gK1PqVAuU/Pvjggw8+6D8k5u0MiXnrPwrU+pUCte4/+OCDDz748D/rVwrU+pXyP9/OkJi3M/Q/0UUXXXTR9T/EvJ0hMW/3P7gzJObtDPk/qqqqqqqq+j+eITFvZ0j8P5GYtzMk5v0/hA8++OCD/z88Q2LezpAAQLV+pUCtXwFALrrooosuAkCo9SsFav0CQCIxb2dIzANAm2yyySabBEAVqPUrBWoFQI7jOI7jOAZACB988MEHB0CBWr9SoNYHQPqVArV+pQhAdNFFF110CUDuDIl5O0MKQGhIzNsZEgtA4oMPPvjgC0Bav1Kg1q8MQNT6lQK1fg1ATjbZZJNNDkDHcRzHcRwPQEGtXylQ6w9AXXTRRRddEEAaEvN2hsQQQNavFKj1KxFAk0022WSTEUBQ61cK1PoRQA2JeTtDYhJAyiabbLLJEkCGxLydITETQENi3s6QmBNAAAAAAAAAFEA=",
          "dtype": "f8"
         },
         "y": {
          "bdata": "AAAAAAAACMCEDz744IMHwAgffPDBBwfAjC666KKLBsAQPvjggw8GwJRNNtlkkwXAF1100UUXBcCbbLLJJpsEwB988MEHHwTAo4suuuiiA8Anm2yyySYDwKuqqqqqqgLALrrooosuAsCyySabbLIBwDbZZJNNNgHAuuiiiy66AMA++OCDDz4AwIQPPvjgg/+/jC666KKL/r+TTTbZZJP9v5pssskmm/y/pIsuuuii+7+rqqqqqqr6v7LJJptssvm/uuiiiy66+L/CBx988MH3v8omm2yyyfa/0UUXXXTR9b/aZJNNNtn0v+GDDz744PO/6KKLLrro8r/xwQcffPDxv/jggw8++PC/AAAAAAAA8L8QPvjggw/uvx988MEHH+y/Lrrooosu6r8++OCDDz7ov0422WSTTea/XXTRRRdd5L9ssskmm2ziv3zwwQcffOC/GF100UUX3b832WSTTTbZv1VVVVVVVdW/dNFFF1100b8mm2yyySbLv2WTTTbZZMO/RhdddNFFt78IH3zwwQefvwgffPDBB58/RhdddNFFtz9lk0022WTDPyabbLLJJss/dNFFF1100T9VVVVVVVXVPzfZZJNNNtk/GF100UUX3T988MEHH3zgP2yyySabbOI/XXTRRRdd5D9ONtlkk03mPz744IMPPug/Lrrooosu6j8ffPDBBx/sPxA++OCDD+4/AAAAAAAA8D/44IMPPvjwP/HBBx988PE/6KKLLrro8j/hgw8++ODzP9pkk0022fQ/0UUXXXTR9T/KJptsssn2P8IHH3zwwfc/uuiiiy66+D+yySabbLL5P6uqqqqqqvo/pIsuuuii+z+abLLJJpv8P5NNNtlkk/0/jC666KKL/j+EDz744IP/Pz744IMPPgBAuuiiiy66AEA22WSTTTYBQLLJJptssgFALrrooosuAkCrqqqqqqoCQCebbLLJJgNAo4suuuiiA0AffPDBBx8EQJtssskmmwRAF1100UUXBUCUTTbZZJMFQBA++OCDDwZAjC666KKLBkAIH3zwwQcHQIQPPvjggwdAAAAAAAAACEA=",
          "dtype": "f8"
         },
         "z": {
          "bdata": "o82WIehZ7b+f9iyd0xHuvyFs1NUFYu2/FjUYCDfx7L+x70guNevtv4xGsiDU/e2/rzVDDVXu7b8zHgVKGM3vvyJU3RNq/+y/CaKEFMMf7b9ZR6UetMbtvwRRKq2bAe+/vANwMobm7r9lx2oaesHvvzGCYgmzVe6/QBmtA9EM7r9///1tjKvtvyeSEjYQ/++/Gr9mzO5y778gXEfo74Luvy88moxS0u6/jGtiJAby7L8IHVM8Tf3sv8Ng/flX3uy/sHq4Jk5M779s/J6qvF/vvxhjWx/mCO6/hLfSVSWb7b/OYRh+Pijtv/w1Kg43QO2/dkYMWZQz7L+jbEO8rfDsv5Hmx1kdZ+6/uPBlKYkv7L8IOeGbLrbqv7nTkSb4ytS/yveRzCy93L+mLompl3GrP2+20qOFR6E/3Nj9WEU8uT/A65SOTf+Lv8r6eDHQpOk/jF2CsGt96T+ChwnEixPlPyU+qYyAhew/YGguEOCR7j+ZZCRDES/vP94g/zxRte8/VbFMxDaH8D/z7SnVi23vPzvzpVCXUfA/8gu6Ly048T8IL11CQlbwPzMFSkV3AvA/bLVAt0yR8T9WxG169vXwPwhkdTMMYPA/qWrRETuy8D8PpqrqeCvxP9baYV524/A/miyof/yy8D8weStQEffwPzcUDdj7SfA/lOWRGjFL8T+fiJ3QX0/xP/JBMQd7x/A/i1Kg0T818T+XlSvxn6XwP4rk6OE2KfE/C3Dv5xE/8D+go3NzgdDwPznmlUegEfE/xEJKS34+8D+dRY/hrRnwP8XGjPwUivA/7jgNf6i28D8jtU4kVTbxP5p0OGl3NfA/8XwuT0Jx8T/0+qUfQFrwP+qGYekNm/A/aJsvKimt8D9FJpKJaY7xPxeF4niBSPA/7C9tZWFp8T+K61aFy+HwP6t+ft6ug/A/7F9WppNw8T9WN6iIDN7wP8v303SZvfA/XsPOT/JK8T9PBuOIypPwP+fSwQq5jfE/8JKgNorj8D+td0lyUTvxPwO0ltuTFvE/UV+AuwxU8D+EAMOO3FXxP2Jtrct+YvE/otQFxQER8D8=",
          "dtype": "f8"
         }
        }
       ],
       "layout": {
        "margin": {
         "b": 0,
         "l": 0,
         "r": 0,
         "t": 50
        },
        "scene": {
         "xaxis": {
          "title": {
           "text": "Eixo X1"
          }
         },
         "yaxis": {
          "title": {
           "text": "Eixo X2"
          }
         },
         "zaxis": {
          "title": {
           "text": "Eixo Y (Valor)"
          }
         }
        },
        "template": {
         "data": {
          "bar": [
           {
            "error_x": {
             "color": "#2a3f5f"
            },
            "error_y": {
             "color": "#2a3f5f"
            },
            "marker": {
             "line": {
              "color": "#E5ECF6",
              "width": 0.5
             },
             "pattern": {
              "fillmode": "overlay",
              "size": 10,
              "solidity": 0.2
             }
            },
            "type": "bar"
           }
          ],
          "barpolar": [
           {
            "marker": {
             "line": {
              "color": "#E5ECF6",
              "width": 0.5
             },
             "pattern": {
              "fillmode": "overlay",
              "size": 10,
              "solidity": 0.2
             }
            },
            "type": "barpolar"
           }
          ],
          "carpet": [
           {
            "aaxis": {
             "endlinecolor": "#2a3f5f",
             "gridcolor": "white",
             "linecolor": "white",
             "minorgridcolor": "white",
             "startlinecolor": "#2a3f5f"
            },
            "baxis": {
             "endlinecolor": "#2a3f5f",
             "gridcolor": "white",
             "linecolor": "white",
             "minorgridcolor": "white",
             "startlinecolor": "#2a3f5f"
            },
            "type": "carpet"
           }
          ],
          "choropleth": [
           {
            "colorbar": {
             "outlinewidth": 0,
             "ticks": ""
            },
            "type": "choropleth"
           }
          ],
          "contour": [
           {
            "colorbar": {
             "outlinewidth": 0,
             "ticks": ""
            },
            "colorscale": [
             [
              0,
              "#0d0887"
             ],
             [
              0.1111111111111111,
              "#46039f"
             ],
             [
              0.2222222222222222,
              "#7201a8"
             ],
             [
              0.3333333333333333,
              "#9c179e"
             ],
             [
              0.4444444444444444,
              "#bd3786"
             ],
             [
              0.5555555555555556,
              "#d8576b"
             ],
             [
              0.6666666666666666,
              "#ed7953"
             ],
             [
              0.7777777777777778,
              "#fb9f3a"
             ],
             [
              0.8888888888888888,
              "#fdca26"
             ],
             [
              1,
              "#f0f921"
             ]
            ],
            "type": "contour"
           }
          ],
          "contourcarpet": [
           {
            "colorbar": {
             "outlinewidth": 0,
             "ticks": ""
            },
            "type": "contourcarpet"
           }
          ],
          "heatmap": [
           {
            "colorbar": {
             "outlinewidth": 0,
             "ticks": ""
            },
            "colorscale": [
             [
              0,
              "#0d0887"
             ],
             [
              0.1111111111111111,
              "#46039f"
             ],
             [
              0.2222222222222222,
              "#7201a8"
             ],
             [
              0.3333333333333333,
              "#9c179e"
             ],
             [
              0.4444444444444444,
              "#bd3786"
             ],
             [
              0.5555555555555556,
              "#d8576b"
             ],
             [
              0.6666666666666666,
              "#ed7953"
             ],
             [
              0.7777777777777778,
              "#fb9f3a"
             ],
             [
              0.8888888888888888,
              "#fdca26"
             ],
             [
              1,
              "#f0f921"
             ]
            ],
            "type": "heatmap"
           }
          ],
          "histogram": [
           {
            "marker": {
             "pattern": {
              "fillmode": "overlay",
              "size": 10,
              "solidity": 0.2
             }
            },
            "type": "histogram"
           }
          ],
          "histogram2d": [
           {
            "colorbar": {
             "outlinewidth": 0,
             "ticks": ""
            },
            "colorscale": [
             [
              0,
              "#0d0887"
             ],
             [
              0.1111111111111111,
              "#46039f"
             ],
             [
              0.2222222222222222,
              "#7201a8"
             ],
             [
              0.3333333333333333,
              "#9c179e"
             ],
             [
              0.4444444444444444,
              "#bd3786"
             ],
             [
              0.5555555555555556,
              "#d8576b"
             ],
             [
              0.6666666666666666,
              "#ed7953"
             ],
             [
              0.7777777777777778,
              "#fb9f3a"
             ],
             [
              0.8888888888888888,
              "#fdca26"
             ],
             [
              1,
              "#f0f921"
             ]
            ],
            "type": "histogram2d"
           }
          ],
          "histogram2dcontour": [
           {
            "colorbar": {
             "outlinewidth": 0,
             "ticks": ""
            },
            "colorscale": [
             [
              0,
              "#0d0887"
             ],
             [
              0.1111111111111111,
              "#46039f"
             ],
             [
              0.2222222222222222,
              "#7201a8"
             ],
             [
              0.3333333333333333,
              "#9c179e"
             ],
             [
              0.4444444444444444,
              "#bd3786"
             ],
             [
              0.5555555555555556,
              "#d8576b"
             ],
             [
              0.6666666666666666,
              "#ed7953"
             ],
             [
              0.7777777777777778,
              "#fb9f3a"
             ],
             [
              0.8888888888888888,
              "#fdca26"
             ],
             [
              1,
              "#f0f921"
             ]
            ],
            "type": "histogram2dcontour"
           }
          ],
          "mesh3d": [
           {
            "colorbar": {
             "outlinewidth": 0,
             "ticks": ""
            },
            "type": "mesh3d"
           }
          ],
          "parcoords": [
           {
            "line": {
             "colorbar": {
              "outlinewidth": 0,
              "ticks": ""
             }
            },
            "type": "parcoords"
           }
          ],
          "pie": [
           {
            "automargin": true,
            "type": "pie"
           }
          ],
          "scatter": [
           {
            "fillpattern": {
             "fillmode": "overlay",
             "size": 10,
             "solidity": 0.2
            },
            "type": "scatter"
           }
          ],
          "scatter3d": [
           {
            "line": {
             "colorbar": {
              "outlinewidth": 0,
              "ticks": ""
             }
            },
            "marker": {
             "colorbar": {
              "outlinewidth": 0,
              "ticks": ""
             }
            },
            "type": "scatter3d"
           }
          ],
          "scattercarpet": [
           {
            "marker": {
             "colorbar": {
              "outlinewidth": 0,
              "ticks": ""
             }
            },
            "type": "scattercarpet"
           }
          ],
          "scattergeo": [
           {
            "marker": {
             "colorbar": {
              "outlinewidth": 0,
              "ticks": ""
             }
            },
            "type": "scattergeo"
           }
          ],
          "scattergl": [
           {
            "marker": {
             "colorbar": {
              "outlinewidth": 0,
              "ticks": ""
             }
            },
            "type": "scattergl"
           }
          ],
          "scattermap": [
           {
            "marker": {
             "colorbar": {
              "outlinewidth": 0,
              "ticks": ""
             }
            },
            "type": "scattermap"
           }
          ],
          "scattermapbox": [
           {
            "marker": {
             "colorbar": {
              "outlinewidth": 0,
              "ticks": ""
             }
            },
            "type": "scattermapbox"
           }
          ],
          "scatterpolar": [
           {
            "marker": {
             "colorbar": {
              "outlinewidth": 0,
              "ticks": ""
             }
            },
            "type": "scatterpolar"
           }
          ],
          "scatterpolargl": [
           {
            "marker": {
             "colorbar": {
              "outlinewidth": 0,
              "ticks": ""
             }
            },
            "type": "scatterpolargl"
           }
          ],
          "scatterternary": [
           {
            "marker": {
             "colorbar": {
              "outlinewidth": 0,
              "ticks": ""
             }
            },
            "type": "scatterternary"
           }
          ],
          "surface": [
           {
            "colorbar": {
             "outlinewidth": 0,
             "ticks": ""
            },
            "colorscale": [
             [
              0,
              "#0d0887"
             ],
             [
              0.1111111111111111,
              "#46039f"
             ],
             [
              0.2222222222222222,
              "#7201a8"
             ],
             [
              0.3333333333333333,
              "#9c179e"
             ],
             [
              0.4444444444444444,
              "#bd3786"
             ],
             [
              0.5555555555555556,
              "#d8576b"
             ],
             [
              0.6666666666666666,
              "#ed7953"
             ],
             [
              0.7777777777777778,
              "#fb9f3a"
             ],
             [
              0.8888888888888888,
              "#fdca26"
             ],
             [
              1,
              "#f0f921"
             ]
            ],
            "type": "surface"
           }
          ],
          "table": [
           {
            "cells": {
             "fill": {
              "color": "#EBF0F8"
             },
             "line": {
              "color": "white"
             }
            },
            "header": {
             "fill": {
              "color": "#C8D4E3"
             },
             "line": {
              "color": "white"
             }
            },
            "type": "table"
           }
          ]
         },
         "layout": {
          "annotationdefaults": {
           "arrowcolor": "#2a3f5f",
           "arrowhead": 0,
           "arrowwidth": 1
          },
          "autotypenumbers": "strict",
          "coloraxis": {
           "colorbar": {
            "outlinewidth": 0,
            "ticks": ""
           }
          },
          "colorscale": {
           "diverging": [
            [
             0,
             "#8e0152"
            ],
            [
             0.1,
             "#c51b7d"
            ],
            [
             0.2,
             "#de77ae"
            ],
            [
             0.3,
             "#f1b6da"
            ],
            [
             0.4,
             "#fde0ef"
            ],
            [
             0.5,
             "#f7f7f7"
            ],
            [
             0.6,
             "#e6f5d0"
            ],
            [
             0.7,
             "#b8e186"
            ],
            [
             0.8,
             "#7fbc41"
            ],
            [
             0.9,
             "#4d9221"
            ],
            [
             1,
             "#276419"
            ]
           ],
           "sequential": [
            [
             0,
             "#0d0887"
            ],
            [
             0.1111111111111111,
             "#46039f"
            ],
            [
             0.2222222222222222,
             "#7201a8"
            ],
            [
             0.3333333333333333,
             "#9c179e"
            ],
            [
             0.4444444444444444,
             "#bd3786"
            ],
            [
             0.5555555555555556,
             "#d8576b"
            ],
            [
             0.6666666666666666,
             "#ed7953"
            ],
            [
             0.7777777777777778,
             "#fb9f3a"
            ],
            [
             0.8888888888888888,
             "#fdca26"
            ],
            [
             1,
             "#f0f921"
            ]
           ],
           "sequentialminus": [
            [
             0,
             "#0d0887"
            ],
            [
             0.1111111111111111,
             "#46039f"
            ],
            [
             0.2222222222222222,
             "#7201a8"
            ],
            [
             0.3333333333333333,
             "#9c179e"
            ],
            [
             0.4444444444444444,
             "#bd3786"
            ],
            [
             0.5555555555555556,
             "#d8576b"
            ],
            [
             0.6666666666666666,
             "#ed7953"
            ],
            [
             0.7777777777777778,
             "#fb9f3a"
            ],
            [
             0.8888888888888888,
             "#fdca26"
            ],
            [
             1,
             "#f0f921"
            ]
           ]
          },
          "colorway": [
           "#636efa",
           "#EF553B",
           "#00cc96",
           "#ab63fa",
           "#FFA15A",
           "#19d3f3",
           "#FF6692",
           "#B6E880",
           "#FF97FF",
           "#FECB52"
          ],
          "font": {
           "color": "#2a3f5f"
          },
          "geo": {
           "bgcolor": "white",
           "lakecolor": "white",
           "landcolor": "#E5ECF6",
           "showlakes": true,
           "showland": true,
           "subunitcolor": "white"
          },
          "hoverlabel": {
           "align": "left"
          },
          "hovermode": "closest",
          "mapbox": {
           "style": "light"
          },
          "paper_bgcolor": "white",
          "plot_bgcolor": "#E5ECF6",
          "polar": {
           "angularaxis": {
            "gridcolor": "white",
            "linecolor": "white",
            "ticks": ""
           },
           "bgcolor": "#E5ECF6",
           "radialaxis": {
            "gridcolor": "white",
            "linecolor": "white",
            "ticks": ""
           }
          },
          "scene": {
           "xaxis": {
            "backgroundcolor": "#E5ECF6",
            "gridcolor": "white",
            "gridwidth": 2,
            "linecolor": "white",
            "showbackground": true,
            "ticks": "",
            "zerolinecolor": "white"
           },
           "yaxis": {
            "backgroundcolor": "#E5ECF6",
            "gridcolor": "white",
            "gridwidth": 2,
            "linecolor": "white",
            "showbackground": true,
            "ticks": "",
            "zerolinecolor": "white"
           },
           "zaxis": {
            "backgroundcolor": "#E5ECF6",
            "gridcolor": "white",
            "gridwidth": 2,
            "linecolor": "white",
            "showbackground": true,
            "ticks": "",
            "zerolinecolor": "white"
           }
          },
          "shapedefaults": {
           "line": {
            "color": "#2a3f5f"
           }
          },
          "ternary": {
           "aaxis": {
            "gridcolor": "white",
            "linecolor": "white",
            "ticks": ""
           },
           "baxis": {
            "gridcolor": "white",
            "linecolor": "white",
            "ticks": ""
           },
           "bgcolor": "#E5ECF6",
           "caxis": {
            "gridcolor": "white",
            "linecolor": "white",
            "ticks": ""
           }
          },
          "title": {
           "x": 0.05
          },
          "xaxis": {
           "automargin": true,
           "gridcolor": "white",
           "linecolor": "white",
           "ticks": "",
           "title": {
            "standoff": 15
           },
           "zerolinecolor": "white",
           "zerolinewidth": 2
          },
          "yaxis": {
           "automargin": true,
           "gridcolor": "white",
           "linecolor": "white",
           "ticks": "",
           "title": {
            "standoff": 15
           },
           "zerolinecolor": "white",
           "zerolinewidth": 2
          }
         }
        },
        "title": {
         "text": "y = f(x1, x2)",
         "x": 0.5
        }
       }
      }
     },
     "metadata": {},
     "output_type": "display_data"
    }
   ],
   "source": [
    "df_pivot = df.pivot(index='x2', columns='x1', values='y')\n",
    "\n",
    "fig = go.Figure()\n",
    "\n",
    "# Adicionar os Pontos de Dados Originais\n",
    "fig.add_trace(go.Scatter3d(\n",
    "    x=df['x1'],\n",
    "    y=df['x2'],\n",
    "    z=df['y'],\n",
    "    mode='markers',\n",
    "    marker=dict(size=3, color='red', symbol='circle'),\n",
    "    name='Pontos de Dados Originais'\n",
    "))\n",
    "\n",
    "# Melhorar o Layout\n",
    "fig.update_layout(\n",
    "    title=dict(text='y = f(x1, x2)', x=0.5),\n",
    "    scene=dict(\n",
    "        xaxis_title='Eixo X1',\n",
    "        yaxis_title='Eixo X2',\n",
    "        zaxis_title='Eixo Y (Valor)'\n",
    "    ),\n",
    "    margin=dict(l=0, r=0, b=0, t=50)\n",
    ")\n",
    "\n",
    "fig.show()"
   ]
  },
  {
   "cell_type": "markdown",
   "id": "a11523f5",
   "metadata": {},
   "source": [
    "## Calcular as funções de perda"
   ]
  },
  {
   "cell_type": "markdown",
   "id": "2e6d8f5f",
   "metadata": {},
   "source": [
    "### Funções utilizadas para os cálculos"
   ]
  },
  {
   "cell_type": "code",
   "execution_count": 6,
   "id": "5f2939c5",
   "metadata": {},
   "outputs": [],
   "source": [
    "def tanh_derivative(x):\n",
    "    \"\"\"Derivada de tanh(x) = 1 - tanh(x)^2\"\"\"\n",
    "    t = np.tanh(x)\n",
    "    return 1 - t**2\n",
    "\n",
    "\n",
    "def make_neuron(w, activation_fn=np.tanh):\n",
    "    def neuron(x1, x2):\n",
    "        # Converte para arrays para suportar tanto escalar quanto vetor\n",
    "        x1 = np.atleast_1d(x1)\n",
    "        x2 = np.atleast_1d(x2)\n",
    "\n",
    "        # Matriz de entradas com bias = 1\n",
    "        X = np.stack([x1, x2, np.ones_like(x1)], axis=1)\n",
    "\n",
    "        # Potencial de ativação\n",
    "        activation_potentials = X @ w  # produto matricial\n",
    "\n",
    "        # Saída após ativação\n",
    "        y = activation_fn(activation_potentials)\n",
    "\n",
    "        # Se a entrada era escalar, devolve escalar\n",
    "        return y if len(y) > 1 else y.item()\n",
    "    return neuron\n",
    "\n",
    "\n",
    "def make_residuals_fn(X1: np.ndarray, X2: np.ndarray, Y: np.ndarray, activation_fn=np.tanh):\n",
    "    def residuals_fn(w: np.ndarray) -> np.ndarray:\n",
    "        neuron = make_neuron(w, activation_fn)\n",
    "        predictions = neuron(X1, X2)\n",
    "        return Y - predictions\n",
    "    return residuals_fn\n",
    "\n",
    "\n",
    "def make_jacobian_fn(X1, X2, activation_fn=np.tanh, activation_deriv=tanh_derivative):\n",
    "    \"\"\"\n",
    "    Jacobiana genérica: derivada dos resíduos em relação aos pesos.\n",
    "    Funciona para qualquer função de ativação.\n",
    "    \"\"\"\n",
    "    def jacobian_fn(w):\n",
    "        X1_ = np.atleast_1d(X1)\n",
    "        X2_ = np.atleast_1d(X2)\n",
    "        X = np.stack([X1_, X2_, np.ones_like(X1_)], axis=1)\n",
    "        z = X @ w\n",
    "        phi_prime = activation_deriv(z)\n",
    "        J = -phi_prime[:, np.newaxis] * X  # cada linha: -φ'(z_i) * [x1, x2, 1]\n",
    "        return J\n",
    "    return jacobian_fn"
   ]
  },
  {
   "cell_type": "markdown",
   "id": "4e4192a6",
   "metadata": {},
   "source": [
    "### Pré-processamento dos dados"
   ]
  },
  {
   "cell_type": "code",
   "execution_count": 7,
   "id": "fedadb6e",
   "metadata": {},
   "outputs": [],
   "source": [
    "\n",
    "features = df[['x1', 'x2']]\n",
    "y = df['y']\n",
    "\n",
    "# Criar os objetos para Padronização\n",
    "scaler = StandardScaler()\n",
    "scaler_y = StandardScaler()\n",
    "\n",
    "# Cria as cópias dos dados para padronizar\n",
    "scaled_features = features.copy()\n",
    "scaled_y = y.copy()\n",
    "\n",
    "# Ajusta os padronizadores aos dados\n",
    "scaler.fit(scaled_features)\n",
    "scaler_y.fit(scaled_y.to_frame())\n",
    "\n",
    "# Padroniza os dados\n",
    "scaled_features = scaler.normalize(scaled_features)\n",
    "scaled_y = scaler_y.normalize(scaled_y.to_frame()).squeeze()\n",
    "\n",
    "initial_weights = np.random.randn(3)  # 2 entradas + 1 bias\n",
    "n_iterations = 10000\n",
    "tolerance = 1e-6\n",
    "alpha = 1e-3"
   ]
  },
  {
   "cell_type": "markdown",
   "id": "f4a0a850",
   "metadata": {},
   "source": [
    "### Rodar os experimentos"
   ]
  },
  {
   "cell_type": "code",
   "execution_count": 8,
   "id": "6ec386dc",
   "metadata": {},
   "outputs": [
    {
     "data": {
      "text/html": [
       "<div>\n",
       "<style scoped>\n",
       "    .dataframe tbody tr th:only-of-type {\n",
       "        vertical-align: middle;\n",
       "    }\n",
       "\n",
       "    .dataframe tbody tr th {\n",
       "        vertical-align: top;\n",
       "    }\n",
       "\n",
       "    .dataframe thead th {\n",
       "        text-align: right;\n",
       "    }\n",
       "</style>\n",
       "<table border=\"1\" class=\"dataframe\">\n",
       "  <thead>\n",
       "    <tr style=\"text-align: right;\">\n",
       "      <th></th>\n",
       "      <th>Feature_Set</th>\n",
       "      <th>Loss_Function</th>\n",
       "      <th>Initial_Weights</th>\n",
       "      <th>Weights_Raw</th>\n",
       "      <th>Final_Weights</th>\n",
       "      <th>Final_Loss</th>\n",
       "      <th>MSE_Final</th>\n",
       "      <th>RMSE_Final</th>\n",
       "      <th>MAE_Final</th>\n",
       "      <th>Iterations</th>\n",
       "    </tr>\n",
       "  </thead>\n",
       "  <tbody>\n",
       "    <tr>\n",
       "      <th>0</th>\n",
       "      <td>Standardized</td>\n",
       "      <td>MSE</td>\n",
       "      <td>['-1.42848', '0.87861', '1.32728']</td>\n",
       "      <td>['2.03713', '4.34423', '2.10975']</td>\n",
       "      <td>['0.69866', '2.48318', '2.10975']</td>\n",
       "      <td>0.05313</td>\n",
       "      <td>0.01846</td>\n",
       "      <td>0.13585</td>\n",
       "      <td>0.08375</td>\n",
       "      <td>10</td>\n",
       "    </tr>\n",
       "  </tbody>\n",
       "</table>\n",
       "</div>"
      ],
      "text/plain": [
       "    Feature_Set Loss_Function                     Initial_Weights  \\\n",
       "0  Standardized           MSE  ['-1.42848', '0.87861', '1.32728']   \n",
       "\n",
       "                         Weights_Raw                      Final_Weights  \\\n",
       "0  ['2.03713', '4.34423', '2.10975']  ['0.69866', '2.48318', '2.10975']   \n",
       "\n",
       "   Final_Loss  MSE_Final  RMSE_Final  MAE_Final  Iterations  \n",
       "0     0.05313    0.01846     0.13585    0.08375          10  "
      ]
     },
     "execution_count": 8,
     "metadata": {},
     "output_type": "execute_result"
    }
   ],
   "source": [
    "dict_results = {}\n",
    "\n",
    "x1_scaled = scaled_features['x1'].values\n",
    "x2_scaled = scaled_features['x2'].values\n",
    "y_scaled_data = scaled_y.values\n",
    "\n",
    "# Função de custo e gradiente\n",
    "loss_function, grad_loss_function = make_mse_loss_for_neuron(x1_scaled, x2_scaled, y_scaled_data, activation_fn=np.tanh)\n",
    "\n",
    "# Função de residuos e jacobiana\n",
    "residuals_fn = make_residuals_fn(x1_scaled, x2_scaled, y_scaled_data, activation_fn=np.tanh)\n",
    "jacobian_fn = make_jacobian_fn(x1_scaled, x2_scaled, activation_fn=np.tanh, activation_deriv=tanh_derivative)\n",
    "\n",
    "# Treinar o modelo com Levenberg-Marquadt\n",
    "weights, losses, n_iters = levenberg_marquadt(\n",
    "    initial_weights, residuals_fn, loss_function, jacobian_fn,\n",
    "    alpha=alpha, alpha_variability=10, max_iter=n_iterations,\n",
    "    tolerance=tolerance, stopping_criteria=[1, 3]\n",
    ")\n",
    "\n",
    "# Desnormalizar os pesos finais\n",
    "final_weights_raw = weights[-1].copy()\n",
    "final_weights_denorm = scaler.desnormalize_weights(weights[-1])\n",
    "\n",
    "# Usar o neurônio com pesos desnormalizados\n",
    "x1_data = features['x1'].values\n",
    "x2_data = features['x2'].values\n",
    "neuron = make_neuron(final_weights_denorm, activation_fn=np.tanh)\n",
    "y_hat = neuron(x1_data, x2_data)\n",
    "\n",
    "# Cálculo das métricas finais\n",
    "mse_final = np.mean((y - y_hat) ** 2)\n",
    "rmse_final = np.sqrt(mse_final)\n",
    "mae_final = np.mean(np.abs(y - y_hat))\n",
    "\n",
    "dict_results = {\n",
    "    'Feature_Set': \"Standardized\",\n",
    "    'Loss_Function': \"MSE\",\n",
    "    'Initial_Weights': str([f\"{w:.5f}\" for w in initial_weights.tolist()]),\n",
    "    'Weights_Raw': str([f\"{w:.5f}\" for w in final_weights_raw.tolist()]),\n",
    "    'Final_Weights': str([f\"{w:.5f}\" for w in final_weights_denorm.tolist()]),\n",
    "    'Final_Loss': losses[-1],\n",
    "    'MSE_Final': mse_final,\n",
    "    'RMSE_Final': rmse_final,\n",
    "    'MAE_Final': mae_final,\n",
    "    'Iterations': n_iters\n",
    "}\n",
    "\n",
    "# Criar DataFrame com um único registro\n",
    "df_result = pd.DataFrame([dict_results])  # Note os colchetes extras aqui\n",
    "df_result"
   ]
  },
  {
   "cell_type": "markdown",
   "id": "4636062a",
   "metadata": {},
   "source": [
    "## Resultados"
   ]
  },
  {
   "cell_type": "code",
   "execution_count": 9,
   "id": "872089b5",
   "metadata": {},
   "outputs": [
    {
     "data": {
      "application/vnd.plotly.v1+json": {
       "config": {
        "plotlyServerURL": "https://plot.ly"
       },
       "data": [
        {
         "marker": {
          "color": "red",
          "size": 5,
          "symbol": "circle"
         },
         "mode": "markers",
         "name": "Dados Originais",
         "type": "scatter3d",
         "x": {
          "bdata": "AAAAAAAAFMBDYt7OkJgTwIbEvJ0hMRPAyiabbLLJEsANiXk7Q2ISwFDrVwrU+hHAk0022WSTEcDWrxSo9SsRwBoS83aGxBDAXXTRRRddEMBBrV8pUOsPwMdxHMdxHA/ATjbZZJNNDsDU+pUCtX4NwFq/UqDWrwzA4oMPPvjgC8BoSMzbGRILwO4MiXk7QwrAdNFFF110CcD6lQK1fqUIwIFav1Kg1gfACB988MEHB8CO4ziO4zgGwBWo9SsFagXAm2yyySabBMAiMW9nSMwDwKj1KwVq/QLALrrooosuAsC1fqVArV8BwDxDYt7OkADAhA8++OCD/7+RmLczJOb9v54hMW9nSPy/qqqqqqqq+r+4MyTm7Qz5v8S8nSExb/e/0UUXXXTR9b/fzpCYtzP0v+tXCtT6lfK/+OCDDz748L8K1PqVArXuvyTm7QyJeeu/Pvjggw8+6L9YCtT6lQLlv3Icx3Ecx+G/GF100UUX3b9LgVq/UqDWv3+lQK1fKdC/ZZNNNtlkw78yb2dIzNupvzJvZ0jM26k/ZZNNNtlkwz9/pUCtXynQP0uBWr9SoNY/GF100UUX3T9yHMdxHMfhP1gK1PqVAuU/Pvjggw8+6D8k5u0MiXnrPwrU+pUCte4/+OCDDz748D/rVwrU+pXyP9/OkJi3M/Q/0UUXXXTR9T/EvJ0hMW/3P7gzJObtDPk/qqqqqqqq+j+eITFvZ0j8P5GYtzMk5v0/hA8++OCD/z88Q2LezpAAQLV+pUCtXwFALrrooosuAkCo9SsFav0CQCIxb2dIzANAm2yyySabBEAVqPUrBWoFQI7jOI7jOAZACB988MEHB0CBWr9SoNYHQPqVArV+pQhAdNFFF110CUDuDIl5O0MKQGhIzNsZEgtA4oMPPvjgC0Bav1Kg1q8MQNT6lQK1fg1ATjbZZJNNDkDHcRzHcRwPQEGtXylQ6w9AXXTRRRddEEAaEvN2hsQQQNavFKj1KxFAk0022WSTEUBQ61cK1PoRQA2JeTtDYhJAyiabbLLJEkCGxLydITETQENi3s6QmBNAAAAAAAAAFEA=",
          "dtype": "f8"
         },
         "y": {
          "bdata": "AAAAAAAACMCEDz744IMHwAgffPDBBwfAjC666KKLBsAQPvjggw8GwJRNNtlkkwXAF1100UUXBcCbbLLJJpsEwB988MEHHwTAo4suuuiiA8Anm2yyySYDwKuqqqqqqgLALrrooosuAsCyySabbLIBwDbZZJNNNgHAuuiiiy66AMA++OCDDz4AwIQPPvjgg/+/jC666KKL/r+TTTbZZJP9v5pssskmm/y/pIsuuuii+7+rqqqqqqr6v7LJJptssvm/uuiiiy66+L/CBx988MH3v8omm2yyyfa/0UUXXXTR9b/aZJNNNtn0v+GDDz744PO/6KKLLrro8r/xwQcffPDxv/jggw8++PC/AAAAAAAA8L8QPvjggw/uvx988MEHH+y/Lrrooosu6r8++OCDDz7ov0422WSTTea/XXTRRRdd5L9ssskmm2ziv3zwwQcffOC/GF100UUX3b832WSTTTbZv1VVVVVVVdW/dNFFF1100b8mm2yyySbLv2WTTTbZZMO/RhdddNFFt78IH3zwwQefvwgffPDBB58/RhdddNFFtz9lk0022WTDPyabbLLJJss/dNFFF1100T9VVVVVVVXVPzfZZJNNNtk/GF100UUX3T988MEHH3zgP2yyySabbOI/XXTRRRdd5D9ONtlkk03mPz744IMPPug/Lrrooosu6j8ffPDBBx/sPxA++OCDD+4/AAAAAAAA8D/44IMPPvjwP/HBBx988PE/6KKLLrro8j/hgw8++ODzP9pkk0022fQ/0UUXXXTR9T/KJptsssn2P8IHH3zwwfc/uuiiiy66+D+yySabbLL5P6uqqqqqqvo/pIsuuuii+z+abLLJJpv8P5NNNtlkk/0/jC666KKL/j+EDz744IP/Pz744IMPPgBAuuiiiy66AEA22WSTTTYBQLLJJptssgFALrrooosuAkCrqqqqqqoCQCebbLLJJgNAo4suuuiiA0AffPDBBx8EQJtssskmmwRAF1100UUXBUCUTTbZZJMFQBA++OCDDwZAjC666KKLBkAIH3zwwQcHQIQPPvjggwdAAAAAAAAACEA=",
          "dtype": "f8"
         },
         "z": {
          "bdata": "o82WIehZ7b+f9iyd0xHuvyFs1NUFYu2/FjUYCDfx7L+x70guNevtv4xGsiDU/e2/rzVDDVXu7b8zHgVKGM3vvyJU3RNq/+y/CaKEFMMf7b9ZR6UetMbtvwRRKq2bAe+/vANwMobm7r9lx2oaesHvvzGCYgmzVe6/QBmtA9EM7r9///1tjKvtvyeSEjYQ/++/Gr9mzO5y778gXEfo74Luvy88moxS0u6/jGtiJAby7L8IHVM8Tf3sv8Ng/flX3uy/sHq4Jk5M779s/J6qvF/vvxhjWx/mCO6/hLfSVSWb7b/OYRh+Pijtv/w1Kg43QO2/dkYMWZQz7L+jbEO8rfDsv5Hmx1kdZ+6/uPBlKYkv7L8IOeGbLrbqv7nTkSb4ytS/yveRzCy93L+mLompl3GrP2+20qOFR6E/3Nj9WEU8uT/A65SOTf+Lv8r6eDHQpOk/jF2CsGt96T+ChwnEixPlPyU+qYyAhew/YGguEOCR7j+ZZCRDES/vP94g/zxRte8/VbFMxDaH8D/z7SnVi23vPzvzpVCXUfA/8gu6Ly048T8IL11CQlbwPzMFSkV3AvA/bLVAt0yR8T9WxG169vXwPwhkdTMMYPA/qWrRETuy8D8PpqrqeCvxP9baYV524/A/miyof/yy8D8weStQEffwPzcUDdj7SfA/lOWRGjFL8T+fiJ3QX0/xP/JBMQd7x/A/i1Kg0T818T+XlSvxn6XwP4rk6OE2KfE/C3Dv5xE/8D+go3NzgdDwPznmlUegEfE/xEJKS34+8D+dRY/hrRnwP8XGjPwUivA/7jgNf6i28D8jtU4kVTbxP5p0OGl3NfA/8XwuT0Jx8T/0+qUfQFrwP+qGYekNm/A/aJsvKimt8D9FJpKJaY7xPxeF4niBSPA/7C9tZWFp8T+K61aFy+HwP6t+ft6ug/A/7F9WppNw8T9WN6iIDN7wP8v303SZvfA/XsPOT/JK8T9PBuOIypPwP+fSwQq5jfE/8JKgNorj8D+td0lyUTvxPwO0ltuTFvE/UV+AuwxU8D+EAMOO3FXxP2Jtrct+YvE/otQFxQER8D8=",
          "dtype": "f8"
         }
        },
        {
         "marker": {
          "color": "blue",
          "size": 5,
          "symbol": "diamond"
         },
         "mode": "markers",
         "name": "Valores Previstos",
         "type": "scatter3d",
         "x": {
          "bdata": "AAAAAAAAFMBDYt7OkJgTwIbEvJ0hMRPAyiabbLLJEsANiXk7Q2ISwFDrVwrU+hHAk0022WSTEcDWrxSo9SsRwBoS83aGxBDAXXTRRRddEMBBrV8pUOsPwMdxHMdxHA/ATjbZZJNNDsDU+pUCtX4NwFq/UqDWrwzA4oMPPvjgC8BoSMzbGRILwO4MiXk7QwrAdNFFF110CcD6lQK1fqUIwIFav1Kg1gfACB988MEHB8CO4ziO4zgGwBWo9SsFagXAm2yyySabBMAiMW9nSMwDwKj1KwVq/QLALrrooosuAsC1fqVArV8BwDxDYt7OkADAhA8++OCD/7+RmLczJOb9v54hMW9nSPy/qqqqqqqq+r+4MyTm7Qz5v8S8nSExb/e/0UUXXXTR9b/fzpCYtzP0v+tXCtT6lfK/+OCDDz748L8K1PqVArXuvyTm7QyJeeu/Pvjggw8+6L9YCtT6lQLlv3Icx3Ecx+G/GF100UUX3b9LgVq/UqDWv3+lQK1fKdC/ZZNNNtlkw78yb2dIzNupvzJvZ0jM26k/ZZNNNtlkwz9/pUCtXynQP0uBWr9SoNY/GF100UUX3T9yHMdxHMfhP1gK1PqVAuU/Pvjggw8+6D8k5u0MiXnrPwrU+pUCte4/+OCDDz748D/rVwrU+pXyP9/OkJi3M/Q/0UUXXXTR9T/EvJ0hMW/3P7gzJObtDPk/qqqqqqqq+j+eITFvZ0j8P5GYtzMk5v0/hA8++OCD/z88Q2LezpAAQLV+pUCtXwFALrrooosuAkCo9SsFav0CQCIxb2dIzANAm2yyySabBEAVqPUrBWoFQI7jOI7jOAZACB988MEHB0CBWr9SoNYHQPqVArV+pQhAdNFFF110CUDuDIl5O0MKQGhIzNsZEgtA4oMPPvjgC0Bav1Kg1q8MQNT6lQK1fg1ATjbZZJNNDkDHcRzHcRwPQEGtXylQ6w9AXXTRRRddEEAaEvN2hsQQQNavFKj1KxFAk0022WSTEUBQ61cK1PoRQA2JeTtDYhJAyiabbLLJEkCGxLydITETQENi3s6QmBNAAAAAAAAAFEA=",
          "dtype": "f8"
         },
         "y": {
          "bdata": "AAAAAAAACMCEDz744IMHwAgffPDBBwfAjC666KKLBsAQPvjggw8GwJRNNtlkkwXAF1100UUXBcCbbLLJJpsEwB988MEHHwTAo4suuuiiA8Anm2yyySYDwKuqqqqqqgLALrrooosuAsCyySabbLIBwDbZZJNNNgHAuuiiiy66AMA++OCDDz4AwIQPPvjgg/+/jC666KKL/r+TTTbZZJP9v5pssskmm/y/pIsuuuii+7+rqqqqqqr6v7LJJptssvm/uuiiiy66+L/CBx988MH3v8omm2yyyfa/0UUXXXTR9b/aZJNNNtn0v+GDDz744PO/6KKLLrro8r/xwQcffPDxv/jggw8++PC/AAAAAAAA8L8QPvjggw/uvx988MEHH+y/Lrrooosu6r8++OCDDz7ov0422WSTTea/XXTRRRdd5L9ssskmm2ziv3zwwQcffOC/GF100UUX3b832WSTTTbZv1VVVVVVVdW/dNFFF1100b8mm2yyySbLv2WTTTbZZMO/RhdddNFFt78IH3zwwQefvwgffPDBB58/RhdddNFFtz9lk0022WTDPyabbLLJJss/dNFFF1100T9VVVVVVVXVPzfZZJNNNtk/GF100UUX3T988MEHH3zgP2yyySabbOI/XXTRRRdd5D9ONtlkk03mPz744IMPPug/Lrrooosu6j8ffPDBBx/sPxA++OCDD+4/AAAAAAAA8D/44IMPPvjwP/HBBx988PE/6KKLLrro8j/hgw8++ODzP9pkk0022fQ/0UUXXXTR9T/KJptsssn2P8IHH3zwwfc/uuiiiy66+D+yySabbLL5P6uqqqqqqvo/pIsuuuii+z+abLLJJpv8P5NNNtlkk/0/jC666KKL/j+EDz744IP/Pz744IMPPgBAuuiiiy66AEA22WSTTTYBQLLJJptssgFALrrooosuAkCrqqqqqqoCQCebbLLJJgNAo4suuuiiA0AffPDBBx8EQJtssskmmwRAF1100UUXBUCUTTbZZJMFQBA++OCDDwZAjC666KKLBkAIH3zwwQcHQIQPPvjggwdAAAAAAAAACEA=",
          "dtype": "f8"
         },
         "z": {
          "bdata": "ssAq6f//779jo3jc///vv3dft8j//++/7SH6qf//779GYiV6///vv2Q6uC///++/xgLpu/7/778gKLUH/v/vv2HITu/8/++/3I3/Ovv/778D9RaU+P/vv33+sHP0/++/UlDpB+7/77/b0CcK5P/vv9cvPn7U/++/kFpzTbz/77/5/XCplv/vvydf5Rdc/++/Vn1e9gD/779cqQMrc/7vv5yWH42W/e+/oZPSTz/877/mzG1VKfrvvzHsRbjq9u+/p5yh6t7x77+S3xxrBurvv80olPfU3e+/vQ5aJeXK77/Nle4YhK3vv3lri84CgO+/aA/1+LQ577/gmdBdg83uv+DOe+8BKO6/TyHhVCUt7b8sjbXIJrbrvyImQzsUkem/vQgpGP+E5r9TI2k+5l7ivz/2ijJWE9q/ZW7Uw5mryr/vKxunDq6DP4jCqSiPA80/tpZMpuEX2z8Gff4gSsfiPzBpmsBl0+Y/ap0dICfJ6T+hAtzM39zrP+VWBa0+R+0/T2f14U857j8RDVXA3NjuP25BzuUYQe8/ApAcEM2E7z+IglaAnLDvP4rcYDLkzO8/iXjoJR7f7z/QsMVH2urvPwmlTDNn8u8/BEx5W0L37z8fwkutYfrvPwAN0Ydj/O8/bbnX1K397z9QUH8hgv7vPwZrPZQK/+8/fIQdRmL/7z/yWE2imv/vP9rW9dq+/+8/gdo7Itb/7z/o4REY5f/vP4xAYLXu/+8/GsAr4/T/7z9Zx7vb+P/vP46GCmn7/+8/GNXlDP3/7z/nW7ka/v/vP16fIcj+/+8/o96SN///7z9AjDF////vP82OOK3//+8/Ww7Nyv//7z/Knc/d///vPwAsB+r//+8/YiLh8f//7z+V3Oz2///vP5sBK/r//+8/UIJA/P//7z8IX5f9///vP0K3c/7//+8/tFIB////7z8mVFz////vP4rQlv///+8/u2a8////7z+OjtT////vP6oU5P///+8/rQ7u////7z8LePT////vP+OW+P///+8/zDz7////7z938Pz////vP3MI/v///+8/Y7z+////7z8=",
          "dtype": "f8"
         }
        },
        {
         "line": {
          "color": "green",
          "width": 2
         },
         "mode": "lines",
         "showlegend": false,
         "type": "scatter3d",
         "x": [
          -5,
          -5
         ],
         "y": [
          -3,
          -3
         ],
         "z": [
          -0.9172249465977312,
          -0.9999999574702285
         ]
        },
        {
         "line": {
          "color": "green",
          "width": 2
         },
         "mode": "lines",
         "showlegend": false,
         "type": "scatter3d",
         "x": [
          -4.898989898989899,
          -4.898989898989899
         ],
         "y": [
          -2.9393939393939394,
          -2.9393939393939394
         ],
         "z": [
          -0.9396761007153208,
          -0.9999999338225333
         ]
        },
        {
         "line": {
          "color": "green",
          "width": 2
         },
         "mode": "lines",
         "showlegend": false,
         "type": "scatter3d",
         "x": [
          -4.797979797979798,
          -4.797979797979798
         ],
         "y": [
          -2.878787878787879,
          -2.878787878787879
         ],
         "z": [
          -0.918215673099784,
          -0.9999998970260852
         ]
        },
        {
         "line": {
          "color": "green",
          "width": 2
         },
         "mode": "lines",
         "showlegend": false,
         "type": "scatter3d",
         "x": [
          -4.696969696969697,
          -4.696969696969697
         ],
         "y": [
          -2.8181818181818183,
          -2.8181818181818183
         ],
         "z": [
          -0.9044451864334941,
          -0.9999998397698256
         ]
        },
        {
         "line": {
          "color": "green",
          "width": 2
         },
         "mode": "lines",
         "showlegend": false,
         "type": "scatter3d",
         "x": [
          -4.595959595959596,
          -4.595959595959596
         ],
         "y": [
          -2.757575757575758,
          -2.757575757575758
         ],
         "z": [
          -0.934961882019243,
          -0.9999997506775535
         ]
        },
        {
         "line": {
          "color": "green",
          "width": 2
         },
         "mode": "lines",
         "showlegend": false,
         "type": "scatter3d",
         "x": [
          -4.494949494949495,
          -4.494949494949495
         ],
         "y": [
          -2.6969696969696972,
          -2.6969696969696972
         ],
         "z": [
          -0.9372349394418094,
          -0.9999996120475996
         ]
        },
        {
         "line": {
          "color": "green",
          "width": 2
         },
         "mode": "lines",
         "showlegend": false,
         "type": "scatter3d",
         "x": [
          -4.393939393939394,
          -4.393939393939394
         ],
         "y": [
          -2.6363636363636362,
          -2.6363636363636362
         ],
         "z": [
          -0.9353432902368491,
          -0.9999993963357034
         ]
        },
        {
         "line": {
          "color": "green",
          "width": 2
         },
         "mode": "lines",
         "showlegend": false,
         "type": "scatter3d",
         "x": [
          -4.292929292929292,
          -4.292929292929292
         ],
         "y": [
          -2.5757575757575757,
          -2.5757575757575757
         ],
         "z": [
          -0.993785996027276,
          -0.9999990606822884
         ]
        },
        {
         "line": {
          "color": "green",
          "width": 2
         },
         "mode": "lines",
         "showlegend": false,
         "type": "scatter3d",
         "x": [
          -4.191919191919192,
          -4.191919191919192
         ],
         "y": [
          -2.515151515151515,
          -2.515151515151515
         ],
         "z": [
          -0.9061785114269052,
          -0.9999985383967777
         ]
        },
        {
         "line": {
          "color": "green",
          "width": 2
         },
         "mode": "lines",
         "showlegend": false,
         "type": "scatter3d",
         "x": [
          -4.090909090909091,
          -4.090909090909091
         ],
         "y": [
          -2.4545454545454546,
          -2.4545454545454546
         ],
         "z": [
          -0.9101272011512843,
          -0.9999977257070287
         ]
        },
        {
         "line": {
          "color": "green",
          "width": 2
         },
         "mode": "lines",
         "showlegend": false,
         "type": "scatter3d",
         "x": [
          -3.98989898989899,
          -3.98989898989899
         ],
         "y": [
          -2.393939393939394,
          -2.393939393939394
         ],
         "z": [
          -0.9305058096453919,
          -0.9999964611412512
         ]
        },
        {
         "line": {
          "color": "green",
          "width": 2
         },
         "mode": "lines",
         "showlegend": false,
         "type": "scatter3d",
         "x": [
          -3.888888888888889,
          -3.888888888888889
         ],
         "y": [
          -2.3333333333333335,
          -2.3333333333333335
         ],
         "z": [
          -0.9689463026175251,
          -0.9999944934460953
         ]
        },
        {
         "line": {
          "color": "green",
          "width": 2
         },
         "mode": "lines",
         "showlegend": false,
         "type": "scatter3d",
         "x": [
          -3.787878787878788,
          -3.787878787878788
         ],
         "y": [
          -2.2727272727272725,
          -2.2727272727272725
         ],
         "z": [
          -0.9656401620014701,
          -0.9999914316672494
         ]
        },
        {
         "line": {
          "color": "green",
          "width": 2
         },
         "mode": "lines",
         "showlegend": false,
         "type": "scatter3d",
         "x": [
          -3.686868686868687,
          -3.686868686868687
         ],
         "y": [
          -2.212121212121212,
          -2.212121212121212
         ],
         "z": [
          -0.9923677936514933,
          -0.9999866674757202
         ]
        },
        {
         "line": {
          "color": "green",
          "width": 2
         },
         "mode": "lines",
         "showlegend": false,
         "type": "scatter3d",
         "x": [
          -3.5858585858585856,
          -3.5858585858585856
         ],
         "y": [
          -2.1515151515151514,
          -2.1515151515151514
         ],
         "z": [
          -0.9479613478943688,
          -0.9999792543107969
         ]
        },
        {
         "line": {
          "color": "green",
          "width": 2
         },
         "mode": "lines",
         "showlegend": false,
         "type": "scatter3d",
         "x": [
          -3.4848484848484853,
          -3.4848484848484853
         ],
         "y": [
          -2.090909090909091,
          -2.090909090909091
         ],
         "z": [
          -0.9390645095634582,
          -0.9999677193362277
         ]
        },
        {
         "line": {
          "color": "green",
          "width": 2
         },
         "mode": "lines",
         "showlegend": false,
         "type": "scatter3d",
         "x": [
          -3.383838383838384,
          -3.383838383838384
         ],
         "y": [
          -2.0303030303030303,
          -2.0303030303030303
         ],
         "z": [
          -0.9271909855160486,
          -0.9999497708703863
         ]
        },
        {
         "line": {
          "color": "green",
          "width": 2
         },
         "mode": "lines",
         "showlegend": false,
         "type": "scatter3d",
         "x": [
          -3.282828282828283,
          -3.282828282828283
         ],
         "y": [
          -1.9696969696969697,
          -1.9696969696969697
         ],
         "z": [
          -0.9998856597999904,
          -0.9999218432157918
         ]
        },
        {
         "line": {
          "color": "green",
          "width": 2
         },
         "mode": "lines",
         "showlegend": false,
         "type": "scatter3d",
         "x": [
          -3.1818181818181817,
          -3.1818181818181817
         ],
         "y": [
          -1.9090909090909092,
          -1.9090909090909092
         ],
         "z": [
          -0.9827798835958419,
          -0.999878388585709
         ]
        },
        {
         "line": {
          "color": "green",
          "width": 2
         },
         "mode": "lines",
         "showlegend": false,
         "type": "scatter3d",
         "x": [
          -3.0808080808080804,
          -3.0808080808080804
         ],
         "y": [
          -1.8484848484848484,
          -1.8484848484848484
         ],
         "z": [
          -0.9534835373586965,
          -0.9998107757685761
         ]
        },
        {
         "line": {
          "color": "green",
          "width": 2
         },
         "mode": "lines",
         "showlegend": false,
         "type": "scatter3d",
         "x": [
          -2.9797979797979797,
          -2.9797979797979797
         ],
         "y": [
          -1.7878787878787876,
          -1.7878787878787876
         ],
         "z": [
          -0.9631741281645015,
          -0.9997055774990318
         ]
        },
        {
         "line": {
          "color": "green",
          "width": 2
         },
         "mode": "lines",
         "showlegend": false,
         "type": "scatter3d",
         "x": [
          -2.878787878787879,
          -2.878787878787879
         ],
         "y": [
          -1.7272727272727275,
          -1.7272727272727275
         ],
         "z": [
          -0.9045439444192751,
          -0.9995419081720806
         ]
        },
        {
         "line": {
          "color": "green",
          "width": 2
         },
         "mode": "lines",
         "showlegend": false,
         "type": "scatter3d",
         "x": [
          -2.7777777777777777,
          -2.7777777777777777
         ],
         "y": [
          -1.6666666666666667,
          -1.6666666666666667
         ],
         "z": [
          -0.9059206178871202,
          -0.999287287572227
         ]
        },
        {
         "line": {
          "color": "green",
          "width": 2
         },
         "mode": "lines",
         "showlegend": false,
         "type": "scatter3d",
         "x": [
          -2.676767676767677,
          -2.676767676767677
         ],
         "y": [
          -1.606060606060606,
          -1.606060606060606
         ],
         "z": [
          -0.9021415598499732,
          -0.998891220005481
         ]
        },
        {
         "line": {
          "color": "green",
          "width": 2
         },
         "mode": "lines",
         "showlegend": false,
         "type": "scatter3d",
         "x": [
          -2.5757575757575757,
          -2.5757575757575757
         ],
         "y": [
          -1.5454545454545454,
          -1.5454545454545454
         ],
         "z": [
          -0.9780646091711187,
          -0.9982752401964675
         ]
        },
        {
         "line": {
          "color": "green",
          "width": 2
         },
         "mode": "lines",
         "showlegend": false,
         "type": "scatter3d",
         "x": [
          -2.474747474747475,
          -2.474747474747475
         ],
         "y": [
          -1.4848484848484849,
          -1.4848484848484849
         ],
         "z": [
          -0.9804366428796931,
          -0.9973175136610613
         ]
        },
        {
         "line": {
          "color": "green",
          "width": 2
         },
         "mode": "lines",
         "showlegend": false,
         "type": "scatter3d",
         "x": [
          -2.3737373737373737,
          -2.3737373737373737
         ],
         "y": [
          -1.4242424242424243,
          -1.4242424242424243
         ],
         "z": [
          -0.9385862934533149,
          -0.9958290896913923
         ]
        },
        {
         "line": {
          "color": "green",
          "width": 2
         },
         "mode": "lines",
         "showlegend": false,
         "type": "scatter3d",
         "x": [
          -2.2727272727272725,
          -2.2727272727272725
         ],
         "y": [
          -1.3636363636363635,
          -1.3636363636363635
         ],
         "z": [
          -0.9251887012703581,
          -0.9935174684073541
         ]
        },
        {
         "line": {
          "color": "green",
          "width": 2
         },
         "mode": "lines",
         "showlegend": false,
         "type": "scatter3d",
         "x": [
          -2.1717171717171717,
          -2.1717171717171717
         ],
         "y": [
          -1.3030303030303032,
          -1.3030303030303032
         ],
         "z": [
          -0.9111626112745002,
          -0.9899311530068019
         ]
        },
        {
         "line": {
          "color": "green",
          "width": 2
         },
         "mode": "lines",
         "showlegend": false,
         "type": "scatter3d",
         "x": [
          -2.070707070707071,
          -2.070707070707071
         ],
         "y": [
          -1.2424242424242424,
          -1.2424242424242424
         ],
         "z": [
          -0.9140887524278578,
          -0.9843763383936298
         ]
        },
        {
         "line": {
          "color": "green",
          "width": 2
         },
         "mode": "lines",
         "showlegend": false,
         "type": "scatter3d",
         "x": [
          -1.9696969696969697,
          -1.9696969696969697
         ],
         "y": [
          -1.1818181818181817,
          -1.1818181818181817
         ],
         "z": [
          -0.8812963237016465,
          -0.9757943022200211
         ]
        },
        {
         "line": {
          "color": "green",
          "width": 2
         },
         "mode": "lines",
         "showlegend": false,
         "type": "scatter3d",
         "x": [
          -1.8686868686868687,
          -1.8686868686868687
         ],
         "y": [
          -1.1212121212121213,
          -1.1212121212121213
         ],
         "z": [
          -0.904379718496234,
          -0.9625870544739961
         ]
        },
        {
         "line": {
          "color": "green",
          "width": 2
         },
         "mode": "lines",
         "showlegend": false,
         "type": "scatter3d",
         "x": [
          -1.7676767676767677,
          -1.7676767676767677
         ],
         "y": [
          -1.0606060606060606,
          -1.0606060606060606
         ],
         "z": [
          -0.9500872376949748,
          -0.9423837354101714
         ]
        },
        {
         "line": {
          "color": "green",
          "width": 2
         },
         "mode": "lines",
         "showlegend": false,
         "type": "scatter3d",
         "x": [
          -1.6666666666666665,
          -1.6666666666666665
         ],
         "y": [
          -1,
          -1
         ],
         "z": [
          -0.8808027084883383,
          -0.9117609651375832
         ]
        },
        {
         "line": {
          "color": "green",
          "width": 2
         },
         "mode": "lines",
         "showlegend": false,
         "type": "scatter3d",
         "x": [
          -1.5656565656565657,
          -1.5656565656565657
         ],
         "y": [
          -0.9393939393939394,
          -0.9393939393939394
         ],
         "z": [
          -0.8347390217329869,
          -0.8659852905370022
         ]
        },
        {
         "line": {
          "color": "green",
          "width": 2
         },
         "mode": "lines",
         "showlegend": false,
         "type": "scatter3d",
         "x": [
          -1.4646464646464645,
          -1.4646464646464645
         ],
         "y": [
          -0.8787878787878788,
          -0.8787878787878788
         ],
         "z": [
          -0.3248882652908907,
          -0.7989598424403008
         ]
        },
        {
         "line": {
          "color": "green",
          "width": 2
         },
         "mode": "lines",
         "showlegend": false,
         "type": "scatter3d",
         "x": [
          -1.3636363636363635,
          -1.3636363636363635
         ],
         "y": [
          -0.8181818181818181,
          -0.8181818181818181
         ],
         "z": [
          -0.4490463254695639,
          -0.703734919727388
         ]
        },
        {
         "line": {
          "color": "green",
          "width": 2
         },
         "mode": "lines",
         "showlegend": false,
         "type": "scatter3d",
         "x": [
          -1.2626262626262628,
          -1.2626262626262628
         ],
         "y": [
          -0.7575757575757576,
          -0.7575757575757576
         ],
         "z": [
          0.05360101646928443,
          -0.5740843981703655
         ]
        },
        {
         "line": {
          "color": "green",
          "width": 2
         },
         "mode": "lines",
         "showlegend": false,
         "type": "scatter3d",
         "x": [
          -1.1616161616161615,
          -1.1616161616161615
         ],
         "y": [
          -0.696969696969697,
          -0.696969696969697
         ],
         "z": [
          0.03374879479211478,
          -0.4074302190382219
         ]
        },
        {
         "line": {
          "color": "green",
          "width": 2
         },
         "mode": "lines",
         "showlegend": false,
         "type": "scatter3d",
         "x": [
          -1.0606060606060606,
          -1.0606060606060606
         ],
         "y": [
          -0.6363636363636364,
          -0.6363636363636364
         ],
         "z": [
          0.09857591078420874,
          -0.20836183607103745
         ]
        },
        {
         "line": {
          "color": "green",
          "width": 2
         },
         "mode": "lines",
         "showlegend": false,
         "type": "scatter3d",
         "x": [
          -0.9595959595959596,
          -0.9595959595959596
         ],
         "y": [
          -0.5757575757575757,
          -0.5757575757575757
         ],
         "z": [
          -0.013670545495747422,
          0.009609331583666473
         ]
        },
        {
         "line": {
          "color": "green",
          "width": 2
         },
         "mode": "lines",
         "showlegend": false,
         "type": "scatter3d",
         "x": [
          -0.8585858585858586,
          -0.8585858585858586
         ],
         "y": [
          -0.5151515151515151,
          -0.5151515151515151
         ],
         "z": [
          0.8013688055287613,
          0.2266711185980237
         ]
        },
        {
         "line": {
          "color": "green",
          "width": 2
         },
         "mode": "lines",
         "showlegend": false,
         "type": "scatter3d",
         "x": [
          -0.7575757575757576,
          -0.7575757575757576
         ],
         "y": [
          -0.4545454545454546,
          -0.4545454545454546
         ],
         "z": [
          0.7965601394125073,
          0.42333260765222336
         ]
        },
        {
         "line": {
          "color": "green",
          "width": 2
         },
         "mode": "lines",
         "showlegend": false,
         "type": "scatter3d",
         "x": [
          -0.6565656565656566,
          -0.6565656565656566
         ],
         "y": [
          -0.393939393939394,
          -0.393939393939394
         ],
         "z": [
          0.6586359814502745,
          0.5868273395934984
         ]
        },
        {
         "line": {
          "color": "green",
          "width": 2
         },
         "mode": "lines",
         "showlegend": false,
         "type": "scatter3d",
         "x": [
          -0.5555555555555556,
          -0.5555555555555556
         ],
         "y": [
          -0.3333333333333333,
          -0.3333333333333333
         ],
         "z": [
          0.891296648720474,
          0.7133053552418342
         ]
        },
        {
         "line": {
          "color": "green",
          "width": 2
         },
         "mode": "lines",
         "showlegend": false,
         "type": "scatter3d",
         "x": [
          -0.4545454545454546,
          -0.4545454545454546
         ],
         "y": [
          -0.2727272727272727,
          -0.2727272727272727
         ],
         "z": [
          0.9553070369759205,
          0.8058047892817914
         ]
        },
        {
         "line": {
          "color": "green",
          "width": 2
         },
         "mode": "lines",
         "showlegend": false,
         "type": "scatter3d",
         "x": [
          -0.35353535353535354,
          -0.35353535353535354
         ],
         "y": [
          -0.2121212121212121,
          -0.2121212121212121
         ],
         "z": [
          0.9744955359812081,
          0.8707121850166751
         ]
        },
        {
         "line": {
          "color": "green",
          "width": 2
         },
         "mode": "lines",
         "showlegend": false,
         "type": "scatter3d",
         "x": [
          -0.25252525252525254,
          -0.25252525252525254
         ],
         "y": [
          -0.15151515151515152,
          -0.15151515151515152
         ],
         "z": [
          0.9908834639873267,
          0.9149468783677689
         ]
        },
        {
         "line": {
          "color": "green",
          "width": 2
         },
         "mode": "lines",
         "showlegend": false,
         "type": "scatter3d",
         "x": [
          -0.15151515151515152,
          -0.15151515151515152
         ],
         "y": [
          -0.09090909090909091,
          -0.09090909090909091
         ],
         "z": [
          1.0330112140610102,
          0.9444960988287024
         ]
        },
        {
         "line": {
          "color": "green",
          "width": 2
         },
         "mode": "lines",
         "showlegend": false,
         "type": "scatter3d",
         "x": [
          -0.05050505050505051,
          -0.05050505050505051
         ],
         "y": [
          -0.030303030303030304,
          -0.030303030303030304
         ],
         "z": [
          0.9821223414759842,
          0.9639724499215011
         ]
        },
        {
         "line": {
          "color": "green",
          "width": 2
         },
         "mode": "lines",
         "showlegend": false,
         "type": "scatter3d",
         "x": [
          0.05050505050505051,
          0.05050505050505051
         ],
         "y": [
          0.030303030303030304,
          0.030303030303030304
         ],
         "z": [
          1.0199196958848933,
          0.9766964424507429
         ]
        },
        {
         "line": {
          "color": "green",
          "width": 2
         },
         "mode": "lines",
         "showlegend": false,
         "type": "scatter3d",
         "x": [
          0.15151515151515152,
          0.15151515151515152
         ],
         "y": [
          0.09090909090909091,
          0.09090909090909091
         ],
         "z": [
          1.0762149681402176,
          0.9849610628775738
         ]
        },
        {
         "line": {
          "color": "green",
          "width": 2
         },
         "mode": "lines",
         "showlegend": false,
         "type": "scatter3d",
         "x": [
          0.25252525252525254,
          0.25252525252525254
         ],
         "y": [
          0.15151515151515152,
          0.15151515151515152
         ],
         "z": [
          1.021059283480044,
          0.9903090006447011
         ]
        },
        {
         "line": {
          "color": "green",
          "width": 2
         },
         "mode": "lines",
         "showlegend": false,
         "type": "scatter3d",
         "x": [
          0.35353535353535354,
          0.35353535353535354
         ],
         "y": [
          0.2121212121212121,
          0.2121212121212121
         ],
         "z": [
          1.0006020266158202,
          0.9937611564590878
         ]
        },
        {
         "line": {
          "color": "green",
          "width": 2
         },
         "mode": "lines",
         "showlegend": false,
         "type": "scatter3d",
         "x": [
          0.4545454545454546,
          0.4545454545454546
         ],
         "y": [
          0.2727272727272727,
          0.2727272727272727
         ],
         "z": [
          1.0979735525428067,
          0.9959860554115646
         ]
        },
        {
         "line": {
          "color": "green",
          "width": 2
         },
         "mode": "lines",
         "showlegend": false,
         "type": "scatter3d",
         "x": [
          0.5555555555555556,
          0.5555555555555556
         ],
         "y": [
          0.3333333333333333,
          0.3333333333333333
         ],
         "z": [
          1.0600495130895715,
          0.9974185373116828
         ]
        },
        {
         "line": {
          "color": "green",
          "width": 2
         },
         "mode": "lines",
         "showlegend": false,
         "type": "scatter3d",
         "x": [
          0.6565656565656566,
          0.6565656565656566
         ],
         "y": [
          0.393939393939394,
          0.393939393939394
         ],
         "z": [
          1.0234491357898623,
          0.9983402254048609
         ]
        },
        {
         "line": {
          "color": "green",
          "width": 2
         },
         "mode": "lines",
         "showlegend": false,
         "type": "scatter3d",
         "x": [
          0.7575757575757576,
          0.7575757575757576
         ],
         "y": [
          0.4545454545454546,
          0.4545454545454546
         ],
         "z": [
          1.0435133644120163,
          0.9989330088232014
         ]
        },
        {
         "line": {
          "color": "green",
          "width": 2
         },
         "mode": "lines",
         "showlegend": false,
         "type": "scatter3d",
         "x": [
          0.8585858585858586,
          0.8585858585858586
         ],
         "y": [
          0.5151515151515151,
          0.5151515151515151
         ],
         "z": [
          1.0731133619941635,
          0.9993141541181706
         ]
        },
        {
         "line": {
          "color": "green",
          "width": 2
         },
         "mode": "lines",
         "showlegend": false,
         "type": "scatter3d",
         "x": [
          0.9595959595959596,
          0.9595959595959596
         ],
         "y": [
          0.5757575757575757,
          0.5757575757575757
         ],
         "z": [
          1.0555328070455992,
          0.9995591786068019
         ]
        },
        {
         "line": {
          "color": "green",
          "width": 2
         },
         "mode": "lines",
         "showlegend": false,
         "type": "scatter3d",
         "x": [
          1.0606060606060606,
          1.0606060606060606
         ],
         "y": [
          0.6363636363636364,
          0.6363636363636364
         ],
         "z": [
          1.0436978327368593,
          0.9997166783412418
         ]
        },
        {
         "line": {
          "color": "green",
          "width": 2
         },
         "mode": "lines",
         "showlegend": false,
         "type": "scatter3d",
         "x": [
          1.1616161616161615,
          1.1616161616161615
         ],
         "y": [
          0.696969696969697,
          0.696969696969697
         ],
         "z": [
          1.0603192454942238,
          0.9998179105991856
         ]
        },
        {
         "line": {
          "color": "green",
          "width": 2
         },
         "mode": "lines",
         "showlegend": false,
         "type": "scatter3d",
         "x": [
          1.2626262626262628,
          1.2626262626262628
         ],
         "y": [
          0.7575757575757576,
          0.7575757575757576
         ],
         "z": [
          1.0180624427314464,
          0.9998829741774393
         ]
        },
        {
         "line": {
          "color": "green",
          "width": 2
         },
         "mode": "lines",
         "showlegend": false,
         "type": "scatter3d",
         "x": [
          1.3636363636363635,
          1.3636363636363635
         ],
         "y": [
          0.8181818181818181,
          0.8181818181818181
         ],
         "z": [
          1.0808573758971294,
          0.9999247903289326
         ]
        },
        {
         "line": {
          "color": "green",
          "width": 2
         },
         "mode": "lines",
         "showlegend": false,
         "type": "scatter3d",
         "x": [
          1.4646464646464645,
          1.4646464646464645
         ],
         "y": [
          0.8787878787878788,
          0.8787878787878788
         ],
         "z": [
          1.0818784855878574,
          0.9999516649211542
         ]
        },
        {
         "line": {
          "color": "green",
          "width": 2
         },
         "mode": "lines",
         "showlegend": false,
         "type": "scatter3d",
         "x": [
          1.5656565656565657,
          1.5656565656565657
         ],
         "y": [
          0.9393939393939394,
          0.9393939393939394
         ],
         "z": [
          1.0487013131097425,
          0.9999689365929172
         ]
        },
        {
         "line": {
          "color": "green",
          "width": 2
         },
         "mode": "lines",
         "showlegend": false,
         "type": "scatter3d",
         "x": [
          1.6666666666666665,
          1.6666666666666665
         ],
         "y": [
          1,
          1
         ],
         "z": [
          1.0755003155256044,
          0.9999800366047823
         ]
        },
        {
         "line": {
          "color": "green",
          "width": 2
         },
         "mode": "lines",
         "showlegend": false,
         "type": "scatter3d",
         "x": [
          1.7676767676767677,
          1.7676767676767677
         ],
         "y": [
          1.0606060606060606,
          1.0606060606060606
         ],
         "z": [
          1.040435735770506,
          0.999987170230324
         ]
        },
        {
         "line": {
          "color": "green",
          "width": 2
         },
         "mode": "lines",
         "showlegend": false,
         "type": "scatter3d",
         "x": [
          1.8686868686868687,
          1.8686868686868687
         ],
         "y": [
          1.1212121212121213,
          1.1212121212121213
         ],
         "z": [
          1.0725621056174384,
          0.9999917547702508
         ]
        },
        {
         "line": {
          "color": "green",
          "width": 2
         },
         "mode": "lines",
         "showlegend": false,
         "type": "scatter3d",
         "x": [
          1.9696969696969697,
          1.9696969696969697
         ],
         "y": [
          1.1818181818181817,
          1.1818181818181817
         ],
         "z": [
          1.0153979358647145,
          0.9999947010928765
         ]
        },
        {
         "line": {
          "color": "green",
          "width": 2
         },
         "mode": "lines",
         "showlegend": false,
         "type": "scatter3d",
         "x": [
          2.070707070707071,
          2.070707070707071
         ],
         "y": [
          1.2424242424242424,
          1.2424242424242424
         ],
         "z": [
          1.050904704077972,
          0.9999965945882919
         ]
        },
        {
         "line": {
          "color": "green",
          "width": 2
         },
         "mode": "lines",
         "showlegend": false,
         "type": "scatter3d",
         "x": [
          2.1717171717171717,
          2.1717171717171717
         ],
         "y": [
          1.3030303030303032,
          1.3030303030303032
         ],
         "z": [
          1.0668032451925582,
          0.9999978114685335
         ]
        },
        {
         "line": {
          "color": "green",
          "width": 2
         },
         "mode": "lines",
         "showlegend": false,
         "type": "scatter3d",
         "x": [
          2.2727272727272725,
          2.2727272727272725
         ],
         "y": [
          1.3636363636363635,
          1.3636363636363635
         ],
         "z": [
          1.0152571621912765,
          0.999998593512518
         ]
        },
        {
         "line": {
          "color": "green",
          "width": 2
         },
         "mode": "lines",
         "showlegend": false,
         "type": "scatter3d",
         "x": [
          2.3737373737373737,
          2.3737373737373737
         ],
         "y": [
          1.4242424242424243,
          1.4242424242424243
         ],
         "z": [
          1.0062693415569364,
          0.9999990961031217
         ]
        },
        {
         "line": {
          "color": "green",
          "width": 2
         },
         "mode": "lines",
         "showlegend": false,
         "type": "scatter3d",
         "x": [
          2.474747474747475,
          2.474747474747475
         ],
         "y": [
          1.4848484848484849,
          1.4848484848484849
         ],
         "z": [
          1.0337114205580502,
          0.9999994190993495
         ]
        },
        {
         "line": {
          "color": "green",
          "width": 2
         },
         "mode": "lines",
         "showlegend": false,
         "type": "scatter3d",
         "x": [
          2.5757575757575757,
          2.5757575757575757
         ],
         "y": [
          1.5454545454545454,
          1.5454545454545454
         ],
         "z": [
          1.0445942843394351,
          0.9999996266769425
         ]
        },
        {
         "line": {
          "color": "green",
          "width": 2
         },
         "mode": "lines",
         "showlegend": false,
         "type": "scatter3d",
         "x": [
          2.676767676767677,
          2.676767676767677
         ],
         "y": [
          1.606060606060606,
          1.606060606060606
         ],
         "z": [
          1.075764791322691,
          0.9999997600792838
         ]
        },
        {
         "line": {
          "color": "green",
          "width": 2
         },
         "mode": "lines",
         "showlegend": false,
         "type": "scatter3d",
         "x": [
          2.7777777777777777,
          2.7777777777777777
         ],
         "y": [
          1.6666666666666667,
          1.6666666666666667
         ],
         "z": [
          1.013053332345669,
          0.9999998458119649
         ]
        },
        {
         "line": {
          "color": "green",
          "width": 2
         },
         "mode": "lines",
         "showlegend": false,
         "type": "scatter3d",
         "x": [
          2.878787878787879,
          2.878787878787879
         ],
         "y": [
          1.7272727272727275,
          1.7272727272727275
         ],
         "z": [
          1.0901511281043066,
          0.9999999009091413
         ]
        },
        {
         "line": {
          "color": "green",
          "width": 2
         },
         "mode": "lines",
         "showlegend": false,
         "type": "scatter3d",
         "x": [
          2.9797979797979797,
          2.9797979797979797
         ],
         "y": [
          1.7878787878787876,
          1.7878787878787876
         ],
         "z": [
          1.0220338093055803,
          0.9999999363180276
         ]
        },
        {
         "line": {
          "color": "green",
          "width": 2
         },
         "mode": "lines",
         "showlegend": false,
         "type": "scatter3d",
         "x": [
          3.0808080808080804,
          3.0808080808080804
         ],
         "y": [
          1.8484848484848484,
          1.8484848484848484
         ],
         "z": [
          1.0378550640529576,
          0.999999959073989
         ]
        },
        {
         "line": {
          "color": "green",
          "width": 2
         },
         "mode": "lines",
         "showlegend": false,
         "type": "scatter3d",
         "x": [
          3.1818181818181817,
          3.1818181818181817
         ],
         "y": [
          1.9090909090909092,
          1.9090909090909092
         ],
         "z": [
          1.042275585926939,
          0.9999999736983904
         ]
        },
        {
         "line": {
          "color": "green",
          "width": 2
         },
         "mode": "lines",
         "showlegend": false,
         "type": "scatter3d",
         "x": [
          3.282828282828283,
          3.282828282828283
         ],
         "y": [
          1.9696969696969697,
          1.9696969696969697
         ],
         "z": [
          1.0972686170447485,
          0.9999999830969438
         ]
        },
        {
         "line": {
          "color": "green",
          "width": 2
         },
         "mode": "lines",
         "showlegend": false,
         "type": "scatter3d",
         "x": [
          3.383838383838384,
          3.383838383838384
         ],
         "y": [
          2.0303030303030303,
          2.0303030303030303
         ],
         "z": [
          1.0177015993179503,
          0.9999999891370409
         ]
        },
        {
         "line": {
          "color": "green",
          "width": 2
         },
         "mode": "lines",
         "showlegend": false,
         "type": "scatter3d",
         "x": [
          3.4848484848484853,
          3.4848484848484853
         ],
         "y": [
          2.090909090909091,
          2.090909090909091
         ],
         "z": [
          1.0882276498768944,
          0.9999999930187844
         ]
        },
        {
         "line": {
          "color": "green",
          "width": 2
         },
         "mode": "lines",
         "showlegend": false,
         "type": "scatter3d",
         "x": [
          3.5858585858585856,
          3.5858585858585856
         ],
         "y": [
          2.1515151515151514,
          2.1515151515151514
         ],
         "z": [
          1.0551257332396937,
          0.9999999955134351
         ]
        },
        {
         "line": {
          "color": "green",
          "width": 2
         },
         "mode": "lines",
         "showlegend": false,
         "type": "scatter3d",
         "x": [
          3.686868686868687,
          3.686868686868687
         ],
         "y": [
          2.212121212121212,
          2.212121212121212
         ],
         "z": [
          1.0321491900612425,
          0.9999999971166533
         ]
        },
        {
         "line": {
          "color": "green",
          "width": 2
         },
         "mode": "lines",
         "showlegend": false,
         "type": "scatter3d",
         "x": [
          3.787878787878788,
          3.787878787878788
         ],
         "y": [
          2.2727272727272725,
          2.2727272727272725
         ],
         "z": [
          1.0899845597796185,
          0.9999999981469814
         ]
        },
        {
         "line": {
          "color": "green",
          "width": 2
         },
         "mode": "lines",
         "showlegend": false,
         "type": "scatter3d",
         "x": [
          3.888888888888889,
          3.888888888888889
         ],
         "y": [
          2.3333333333333335,
          2.3333333333333335
         ],
         "z": [
          1.0542111719291447,
          0.9999999988091346
         ]
        },
        {
         "line": {
          "color": "green",
          "width": 2
         },
         "mode": "lines",
         "showlegend": false,
         "type": "scatter3d",
         "x": [
          3.98989898989899,
          3.98989898989899
         ],
         "y": [
          2.393939393939394,
          2.393939393939394
         ],
         "z": [
          1.0462889255136243,
          0.9999999992346755
         ]
        },
        {
         "line": {
          "color": "green",
          "width": 2
         },
         "mode": "lines",
         "showlegend": false,
         "type": "scatter3d",
         "x": [
          4.090909090909091,
          4.090909090909091
         ],
         "y": [
          2.4545454545454546,
          2.4545454545454546
         ],
         "z": [
          1.0807974927413038,
          0.9999999995081547
         ]
        },
        {
         "line": {
          "color": "green",
          "width": 2
         },
         "mode": "lines",
         "showlegend": false,
         "type": "scatter3d",
         "x": [
          4.191919191919192,
          4.191919191919192
         ],
         "y": [
          2.515151515151515,
          2.515151515151515
         ],
         "z": [
          1.036081824030038,
          0.9999999996839095
         ]
        },
        {
         "line": {
          "color": "green",
          "width": 2
         },
         "mode": "lines",
         "showlegend": false,
         "type": "scatter3d",
         "x": [
          4.292929292929292,
          4.292929292929292
         ],
         "y": [
          2.5757575757575757,
          2.5757575757575757
         ],
         "z": [
          1.0971002979469462,
          0.9999999997968605
         ]
        },
        {
         "line": {
          "color": "green",
          "width": 2
         },
         "mode": "lines",
         "showlegend": false,
         "type": "scatter3d",
         "x": [
          4.393939393939394,
          4.393939393939394
         ],
         "y": [
          2.6363636363636362,
          2.6363636363636362
         ],
         "z": [
          1.055551732432999,
          0.9999999998694499
         ]
        },
        {
         "line": {
          "color": "green",
          "width": 2
         },
         "mode": "lines",
         "showlegend": false,
         "type": "scatter3d",
         "x": [
          4.494949494949495,
          4.494949494949495
         ],
         "y": [
          2.6969696969696972,
          2.6969696969696972
         ],
         "z": [
          1.0769819702468155,
          0.9999999999161003
         ]
        },
        {
         "line": {
          "color": "green",
          "width": 2
         },
         "mode": "lines",
         "showlegend": false,
         "type": "scatter3d",
         "x": [
          4.595959595959596,
          4.595959595959596
         ],
         "y": [
          2.757575757575758,
          2.757575757575758
         ],
         "z": [
          1.0680121019061068,
          0.9999999999460808
         ]
        },
        {
         "line": {
          "color": "green",
          "width": 2
         },
         "mode": "lines",
         "showlegend": false,
         "type": "scatter3d",
         "x": [
          4.696969696969697,
          4.696969696969697
         ],
         "y": [
          2.8181818181818183,
          2.8181818181818183
         ],
         "z": [
          1.020519955089146,
          0.9999999999653482
         ]
        },
        {
         "line": {
          "color": "green",
          "width": 2
         },
         "mode": "lines",
         "showlegend": false,
         "type": "scatter3d",
         "x": [
          4.797979797979798,
          4.797979797979798
         ],
         "y": [
          2.878787878787879,
          2.878787878787879
         ],
         "z": [
          1.0834622933034845,
          0.9999999999777306
         ]
        },
        {
         "line": {
          "color": "green",
          "width": 2
         },
         "mode": "lines",
         "showlegend": false,
         "type": "scatter3d",
         "x": [
          4.898989898989899,
          4.898989898989899
         ],
         "y": [
          2.9393939393939394,
          2.9393939393939394
         ],
         "z": [
          1.0865467029714968,
          0.9999999999856882
         ]
        },
        {
         "line": {
          "color": "green",
          "width": 2
         },
         "mode": "lines",
         "showlegend": false,
         "type": "scatter3d",
         "x": [
          5,
          5
         ],
         "y": [
          3,
          3
         ],
         "z": [
          1.0041520782663516,
          0.9999999999908024
         ]
        }
       ],
       "layout": {
        "annotations": [
         {
          "bgcolor": "rgba(255, 255, 255, 0.8)",
          "bordercolor": "black",
          "borderpad": 4,
          "borderwidth": 1,
          "font": {
           "size": 12
          },
          "showarrow": false,
          "text": "Pesos finais: ['0.69866', '2.48318', '2.10975']<br>MSE: 0.01846, RMSE: 0.13585<br>Iterações: 10",
          "x": 0.5,
          "xref": "paper",
          "y": 0.01,
          "yref": "paper"
         }
        ],
        "height": 700,
        "legend": {
         "bgcolor": "rgba(255,255,255,0.8)",
         "x": 0.01,
         "xanchor": "left",
         "y": 0.99,
         "yanchor": "top"
        },
        "scene": {
         "aspectmode": "data",
         "xaxis": {
          "title": {
           "text": "x1"
          }
         },
         "yaxis": {
          "title": {
           "text": "x2"
          }
         },
         "zaxis": {
          "title": {
           "text": "y"
          }
         }
        },
        "template": {
         "data": {
          "bar": [
           {
            "error_x": {
             "color": "#2a3f5f"
            },
            "error_y": {
             "color": "#2a3f5f"
            },
            "marker": {
             "line": {
              "color": "#E5ECF6",
              "width": 0.5
             },
             "pattern": {
              "fillmode": "overlay",
              "size": 10,
              "solidity": 0.2
             }
            },
            "type": "bar"
           }
          ],
          "barpolar": [
           {
            "marker": {
             "line": {
              "color": "#E5ECF6",
              "width": 0.5
             },
             "pattern": {
              "fillmode": "overlay",
              "size": 10,
              "solidity": 0.2
             }
            },
            "type": "barpolar"
           }
          ],
          "carpet": [
           {
            "aaxis": {
             "endlinecolor": "#2a3f5f",
             "gridcolor": "white",
             "linecolor": "white",
             "minorgridcolor": "white",
             "startlinecolor": "#2a3f5f"
            },
            "baxis": {
             "endlinecolor": "#2a3f5f",
             "gridcolor": "white",
             "linecolor": "white",
             "minorgridcolor": "white",
             "startlinecolor": "#2a3f5f"
            },
            "type": "carpet"
           }
          ],
          "choropleth": [
           {
            "colorbar": {
             "outlinewidth": 0,
             "ticks": ""
            },
            "type": "choropleth"
           }
          ],
          "contour": [
           {
            "colorbar": {
             "outlinewidth": 0,
             "ticks": ""
            },
            "colorscale": [
             [
              0,
              "#0d0887"
             ],
             [
              0.1111111111111111,
              "#46039f"
             ],
             [
              0.2222222222222222,
              "#7201a8"
             ],
             [
              0.3333333333333333,
              "#9c179e"
             ],
             [
              0.4444444444444444,
              "#bd3786"
             ],
             [
              0.5555555555555556,
              "#d8576b"
             ],
             [
              0.6666666666666666,
              "#ed7953"
             ],
             [
              0.7777777777777778,
              "#fb9f3a"
             ],
             [
              0.8888888888888888,
              "#fdca26"
             ],
             [
              1,
              "#f0f921"
             ]
            ],
            "type": "contour"
           }
          ],
          "contourcarpet": [
           {
            "colorbar": {
             "outlinewidth": 0,
             "ticks": ""
            },
            "type": "contourcarpet"
           }
          ],
          "heatmap": [
           {
            "colorbar": {
             "outlinewidth": 0,
             "ticks": ""
            },
            "colorscale": [
             [
              0,
              "#0d0887"
             ],
             [
              0.1111111111111111,
              "#46039f"
             ],
             [
              0.2222222222222222,
              "#7201a8"
             ],
             [
              0.3333333333333333,
              "#9c179e"
             ],
             [
              0.4444444444444444,
              "#bd3786"
             ],
             [
              0.5555555555555556,
              "#d8576b"
             ],
             [
              0.6666666666666666,
              "#ed7953"
             ],
             [
              0.7777777777777778,
              "#fb9f3a"
             ],
             [
              0.8888888888888888,
              "#fdca26"
             ],
             [
              1,
              "#f0f921"
             ]
            ],
            "type": "heatmap"
           }
          ],
          "histogram": [
           {
            "marker": {
             "pattern": {
              "fillmode": "overlay",
              "size": 10,
              "solidity": 0.2
             }
            },
            "type": "histogram"
           }
          ],
          "histogram2d": [
           {
            "colorbar": {
             "outlinewidth": 0,
             "ticks": ""
            },
            "colorscale": [
             [
              0,
              "#0d0887"
             ],
             [
              0.1111111111111111,
              "#46039f"
             ],
             [
              0.2222222222222222,
              "#7201a8"
             ],
             [
              0.3333333333333333,
              "#9c179e"
             ],
             [
              0.4444444444444444,
              "#bd3786"
             ],
             [
              0.5555555555555556,
              "#d8576b"
             ],
             [
              0.6666666666666666,
              "#ed7953"
             ],
             [
              0.7777777777777778,
              "#fb9f3a"
             ],
             [
              0.8888888888888888,
              "#fdca26"
             ],
             [
              1,
              "#f0f921"
             ]
            ],
            "type": "histogram2d"
           }
          ],
          "histogram2dcontour": [
           {
            "colorbar": {
             "outlinewidth": 0,
             "ticks": ""
            },
            "colorscale": [
             [
              0,
              "#0d0887"
             ],
             [
              0.1111111111111111,
              "#46039f"
             ],
             [
              0.2222222222222222,
              "#7201a8"
             ],
             [
              0.3333333333333333,
              "#9c179e"
             ],
             [
              0.4444444444444444,
              "#bd3786"
             ],
             [
              0.5555555555555556,
              "#d8576b"
             ],
             [
              0.6666666666666666,
              "#ed7953"
             ],
             [
              0.7777777777777778,
              "#fb9f3a"
             ],
             [
              0.8888888888888888,
              "#fdca26"
             ],
             [
              1,
              "#f0f921"
             ]
            ],
            "type": "histogram2dcontour"
           }
          ],
          "mesh3d": [
           {
            "colorbar": {
             "outlinewidth": 0,
             "ticks": ""
            },
            "type": "mesh3d"
           }
          ],
          "parcoords": [
           {
            "line": {
             "colorbar": {
              "outlinewidth": 0,
              "ticks": ""
             }
            },
            "type": "parcoords"
           }
          ],
          "pie": [
           {
            "automargin": true,
            "type": "pie"
           }
          ],
          "scatter": [
           {
            "fillpattern": {
             "fillmode": "overlay",
             "size": 10,
             "solidity": 0.2
            },
            "type": "scatter"
           }
          ],
          "scatter3d": [
           {
            "line": {
             "colorbar": {
              "outlinewidth": 0,
              "ticks": ""
             }
            },
            "marker": {
             "colorbar": {
              "outlinewidth": 0,
              "ticks": ""
             }
            },
            "type": "scatter3d"
           }
          ],
          "scattercarpet": [
           {
            "marker": {
             "colorbar": {
              "outlinewidth": 0,
              "ticks": ""
             }
            },
            "type": "scattercarpet"
           }
          ],
          "scattergeo": [
           {
            "marker": {
             "colorbar": {
              "outlinewidth": 0,
              "ticks": ""
             }
            },
            "type": "scattergeo"
           }
          ],
          "scattergl": [
           {
            "marker": {
             "colorbar": {
              "outlinewidth": 0,
              "ticks": ""
             }
            },
            "type": "scattergl"
           }
          ],
          "scattermap": [
           {
            "marker": {
             "colorbar": {
              "outlinewidth": 0,
              "ticks": ""
             }
            },
            "type": "scattermap"
           }
          ],
          "scattermapbox": [
           {
            "marker": {
             "colorbar": {
              "outlinewidth": 0,
              "ticks": ""
             }
            },
            "type": "scattermapbox"
           }
          ],
          "scatterpolar": [
           {
            "marker": {
             "colorbar": {
              "outlinewidth": 0,
              "ticks": ""
             }
            },
            "type": "scatterpolar"
           }
          ],
          "scatterpolargl": [
           {
            "marker": {
             "colorbar": {
              "outlinewidth": 0,
              "ticks": ""
             }
            },
            "type": "scatterpolargl"
           }
          ],
          "scatterternary": [
           {
            "marker": {
             "colorbar": {
              "outlinewidth": 0,
              "ticks": ""
             }
            },
            "type": "scatterternary"
           }
          ],
          "surface": [
           {
            "colorbar": {
             "outlinewidth": 0,
             "ticks": ""
            },
            "colorscale": [
             [
              0,
              "#0d0887"
             ],
             [
              0.1111111111111111,
              "#46039f"
             ],
             [
              0.2222222222222222,
              "#7201a8"
             ],
             [
              0.3333333333333333,
              "#9c179e"
             ],
             [
              0.4444444444444444,
              "#bd3786"
             ],
             [
              0.5555555555555556,
              "#d8576b"
             ],
             [
              0.6666666666666666,
              "#ed7953"
             ],
             [
              0.7777777777777778,
              "#fb9f3a"
             ],
             [
              0.8888888888888888,
              "#fdca26"
             ],
             [
              1,
              "#f0f921"
             ]
            ],
            "type": "surface"
           }
          ],
          "table": [
           {
            "cells": {
             "fill": {
              "color": "#EBF0F8"
             },
             "line": {
              "color": "white"
             }
            },
            "header": {
             "fill": {
              "color": "#C8D4E3"
             },
             "line": {
              "color": "white"
             }
            },
            "type": "table"
           }
          ]
         },
         "layout": {
          "annotationdefaults": {
           "arrowcolor": "#2a3f5f",
           "arrowhead": 0,
           "arrowwidth": 1
          },
          "autotypenumbers": "strict",
          "coloraxis": {
           "colorbar": {
            "outlinewidth": 0,
            "ticks": ""
           }
          },
          "colorscale": {
           "diverging": [
            [
             0,
             "#8e0152"
            ],
            [
             0.1,
             "#c51b7d"
            ],
            [
             0.2,
             "#de77ae"
            ],
            [
             0.3,
             "#f1b6da"
            ],
            [
             0.4,
             "#fde0ef"
            ],
            [
             0.5,
             "#f7f7f7"
            ],
            [
             0.6,
             "#e6f5d0"
            ],
            [
             0.7,
             "#b8e186"
            ],
            [
             0.8,
             "#7fbc41"
            ],
            [
             0.9,
             "#4d9221"
            ],
            [
             1,
             "#276419"
            ]
           ],
           "sequential": [
            [
             0,
             "#0d0887"
            ],
            [
             0.1111111111111111,
             "#46039f"
            ],
            [
             0.2222222222222222,
             "#7201a8"
            ],
            [
             0.3333333333333333,
             "#9c179e"
            ],
            [
             0.4444444444444444,
             "#bd3786"
            ],
            [
             0.5555555555555556,
             "#d8576b"
            ],
            [
             0.6666666666666666,
             "#ed7953"
            ],
            [
             0.7777777777777778,
             "#fb9f3a"
            ],
            [
             0.8888888888888888,
             "#fdca26"
            ],
            [
             1,
             "#f0f921"
            ]
           ],
           "sequentialminus": [
            [
             0,
             "#0d0887"
            ],
            [
             0.1111111111111111,
             "#46039f"
            ],
            [
             0.2222222222222222,
             "#7201a8"
            ],
            [
             0.3333333333333333,
             "#9c179e"
            ],
            [
             0.4444444444444444,
             "#bd3786"
            ],
            [
             0.5555555555555556,
             "#d8576b"
            ],
            [
             0.6666666666666666,
             "#ed7953"
            ],
            [
             0.7777777777777778,
             "#fb9f3a"
            ],
            [
             0.8888888888888888,
             "#fdca26"
            ],
            [
             1,
             "#f0f921"
            ]
           ]
          },
          "colorway": [
           "#636efa",
           "#EF553B",
           "#00cc96",
           "#ab63fa",
           "#FFA15A",
           "#19d3f3",
           "#FF6692",
           "#B6E880",
           "#FF97FF",
           "#FECB52"
          ],
          "font": {
           "color": "#2a3f5f"
          },
          "geo": {
           "bgcolor": "white",
           "lakecolor": "white",
           "landcolor": "#E5ECF6",
           "showlakes": true,
           "showland": true,
           "subunitcolor": "white"
          },
          "hoverlabel": {
           "align": "left"
          },
          "hovermode": "closest",
          "mapbox": {
           "style": "light"
          },
          "paper_bgcolor": "white",
          "plot_bgcolor": "#E5ECF6",
          "polar": {
           "angularaxis": {
            "gridcolor": "white",
            "linecolor": "white",
            "ticks": ""
           },
           "bgcolor": "#E5ECF6",
           "radialaxis": {
            "gridcolor": "white",
            "linecolor": "white",
            "ticks": ""
           }
          },
          "scene": {
           "xaxis": {
            "backgroundcolor": "#E5ECF6",
            "gridcolor": "white",
            "gridwidth": 2,
            "linecolor": "white",
            "showbackground": true,
            "ticks": "",
            "zerolinecolor": "white"
           },
           "yaxis": {
            "backgroundcolor": "#E5ECF6",
            "gridcolor": "white",
            "gridwidth": 2,
            "linecolor": "white",
            "showbackground": true,
            "ticks": "",
            "zerolinecolor": "white"
           },
           "zaxis": {
            "backgroundcolor": "#E5ECF6",
            "gridcolor": "white",
            "gridwidth": 2,
            "linecolor": "white",
            "showbackground": true,
            "ticks": "",
            "zerolinecolor": "white"
           }
          },
          "shapedefaults": {
           "line": {
            "color": "#2a3f5f"
           }
          },
          "ternary": {
           "aaxis": {
            "gridcolor": "white",
            "linecolor": "white",
            "ticks": ""
           },
           "baxis": {
            "gridcolor": "white",
            "linecolor": "white",
            "ticks": ""
           },
           "bgcolor": "#E5ECF6",
           "caxis": {
            "gridcolor": "white",
            "linecolor": "white",
            "ticks": ""
           }
          },
          "title": {
           "x": 0.05
          },
          "xaxis": {
           "automargin": true,
           "gridcolor": "white",
           "linecolor": "white",
           "ticks": "",
           "title": {
            "standoff": 15
           },
           "zerolinecolor": "white",
           "zerolinewidth": 2
          },
          "yaxis": {
           "automargin": true,
           "gridcolor": "white",
           "linecolor": "white",
           "ticks": "",
           "title": {
            "standoff": 15
           },
           "zerolinecolor": "white",
           "zerolinewidth": 2
          }
         }
        },
        "title": {
         "text": "Comparação entre Valores Reais e Previstos"
        },
        "width": 900
       }
      }
     },
     "metadata": {},
     "output_type": "display_data"
    }
   ],
   "source": [
    "# Criar figura 3D\n",
    "fig = go.Figure()\n",
    "\n",
    "# Adicionar pontos originais\n",
    "fig.add_trace(go.Scatter3d(\n",
    "    x=x1_data,\n",
    "    y=x2_data,\n",
    "    z=y,\n",
    "    mode='markers',\n",
    "    marker=dict(\n",
    "        size=5,\n",
    "        color='red',\n",
    "        symbol='circle'\n",
    "    ),\n",
    "    name='Dados Originais'\n",
    "))\n",
    "\n",
    "# Adicionar pontos previstos\n",
    "fig.add_trace(go.Scatter3d(\n",
    "    x=x1_data,\n",
    "    y=x2_data,\n",
    "    z=y_hat,\n",
    "    mode='markers',\n",
    "    marker=dict(\n",
    "        size=5,\n",
    "        color='blue',\n",
    "        symbol='diamond'\n",
    "    ),\n",
    "    name='Valores Previstos'\n",
    "))\n",
    "\n",
    "# Adicionar linhas verticais conectando pontos originais e previsões\n",
    "for i in range(len(x1_data)):\n",
    "    fig.add_trace(go.Scatter3d(\n",
    "        x=[x1_data[i], x1_data[i]],\n",
    "        y=[x2_data[i], x2_data[i]],\n",
    "        z=[y[i], y_hat[i]],\n",
    "        mode='lines',\n",
    "        line=dict(color='green', width=2),\n",
    "        showlegend=False\n",
    "    ))\n",
    "\n",
    "# Configurar layout\n",
    "fig.update_layout(\n",
    "    title='Comparação entre Valores Reais e Previstos',\n",
    "    scene=dict(\n",
    "        xaxis_title='x1',\n",
    "        yaxis_title='x2',\n",
    "        zaxis_title='y',\n",
    "        aspectmode='data'\n",
    "    ),\n",
    "    width=900,\n",
    "    height=700,\n",
    "    legend=dict(\n",
    "        yanchor=\"top\",\n",
    "        y=0.99,\n",
    "        xanchor=\"left\",\n",
    "        x=0.01,\n",
    "        bgcolor=\"rgba(255,255,255,0.8)\"\n",
    "    )\n",
    ")\n",
    "\n",
    "pesos_info = (f\"Pesos finais: {[f'{w:.5f}' for w in final_weights_denorm]}<br>\"\n",
    "              f\"MSE: {mse_final:.5f}, RMSE: {rmse_final:.5f}<br>\"\n",
    "              f\"Iterações: {n_iters}\")\n",
    "\n",
    "fig.add_annotation(\n",
    "    x=0.5, y=0.01,\n",
    "    xref=\"paper\", yref=\"paper\",\n",
    "    text=pesos_info,\n",
    "    showarrow=False,\n",
    "    font=dict(size=12),\n",
    "    bgcolor=\"rgba(255, 255, 255, 0.8)\",\n",
    "    bordercolor=\"black\",\n",
    "    borderwidth=1,\n",
    "    borderpad=4\n",
    ")\n",
    "\n",
    "fig.show()"
   ]
  }
 ],
 "metadata": {
  "kernelspec": {
   "display_name": "rna_tarefas_mestrado (3.13.5)",
   "language": "python",
   "name": "python3"
  },
  "language_info": {
   "codemirror_mode": {
    "name": "ipython",
    "version": 3
   },
   "file_extension": ".py",
   "mimetype": "text/x-python",
   "name": "python",
   "nbconvert_exporter": "python",
   "pygments_lexer": "ipython3",
   "version": "3.13.5"
  }
 },
 "nbformat": 4,
 "nbformat_minor": 5
}
