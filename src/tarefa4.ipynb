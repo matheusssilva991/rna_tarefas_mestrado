{
 "cells": [
  {
   "cell_type": "code",
   "execution_count": 1,
   "id": "749e9c66",
   "metadata": {},
   "outputs": [],
   "source": [
    "import numpy as np\n",
    "import sys\n",
    "import os\n",
    "import pandas as pd\n",
    "import plotly.graph_objects as go\n",
    "\n",
    "sys.path.append(os.path.abspath(\"../libs\"))\n",
    "sys.path.append(os.path.abspath(\"../utils\"))\n",
    "\n",
    "from levenberg_marquadt import levenberg_marquadt\n",
    "from normalize import  MinMaxNormalizer\n",
    "from loss_fn_tarefa4 import make_mse_loss_for_neuron\n",
    "from activations_fn import tanh_derivative\n",
    "from network import neuron\n",
    "from plots.plots_tarefa4 import plot_original_surface, plot_predicted_surface_comparison\n",
    "\n",
    "pd.set_option('display.float_format', '{:.5f}'.format)"
   ]
  },
  {
   "cell_type": "markdown",
   "id": "f77a74e5",
   "metadata": {},
   "source": [
    "# Ajuste de curva por otimização"
   ]
  },
  {
   "cell_type": "markdown",
   "id": "76c8d133",
   "metadata": {},
   "source": [
    "## Carregar os dados"
   ]
  },
  {
   "cell_type": "code",
   "execution_count": 2,
   "id": "037534c3",
   "metadata": {},
   "outputs": [
    {
     "data": {
      "text/html": [
       "<div>\n",
       "<style scoped>\n",
       "    .dataframe tbody tr th:only-of-type {\n",
       "        vertical-align: middle;\n",
       "    }\n",
       "\n",
       "    .dataframe tbody tr th {\n",
       "        vertical-align: top;\n",
       "    }\n",
       "\n",
       "    .dataframe thead th {\n",
       "        text-align: right;\n",
       "    }\n",
       "</style>\n",
       "<table border=\"1\" class=\"dataframe\">\n",
       "  <thead>\n",
       "    <tr style=\"text-align: right;\">\n",
       "      <th></th>\n",
       "      <th>x1</th>\n",
       "      <th>x2</th>\n",
       "      <th>y</th>\n",
       "    </tr>\n",
       "  </thead>\n",
       "  <tbody>\n",
       "    <tr>\n",
       "      <th>0</th>\n",
       "      <td>-5.00000</td>\n",
       "      <td>-3.00000</td>\n",
       "      <td>-0.91722</td>\n",
       "    </tr>\n",
       "    <tr>\n",
       "      <th>1</th>\n",
       "      <td>-4.89899</td>\n",
       "      <td>-2.93939</td>\n",
       "      <td>-0.93968</td>\n",
       "    </tr>\n",
       "    <tr>\n",
       "      <th>2</th>\n",
       "      <td>-4.79798</td>\n",
       "      <td>-2.87879</td>\n",
       "      <td>-0.91822</td>\n",
       "    </tr>\n",
       "    <tr>\n",
       "      <th>3</th>\n",
       "      <td>-4.69697</td>\n",
       "      <td>-2.81818</td>\n",
       "      <td>-0.90445</td>\n",
       "    </tr>\n",
       "    <tr>\n",
       "      <th>4</th>\n",
       "      <td>-4.59596</td>\n",
       "      <td>-2.75758</td>\n",
       "      <td>-0.93496</td>\n",
       "    </tr>\n",
       "  </tbody>\n",
       "</table>\n",
       "</div>"
      ],
      "text/plain": [
       "        x1       x2        y\n",
       "0 -5.00000 -3.00000 -0.91722\n",
       "1 -4.89899 -2.93939 -0.93968\n",
       "2 -4.79798 -2.87879 -0.91822\n",
       "3 -4.69697 -2.81818 -0.90445\n",
       "4 -4.59596 -2.75758 -0.93496"
      ]
     },
     "execution_count": 2,
     "metadata": {},
     "output_type": "execute_result"
    }
   ],
   "source": [
    "# Carregamento dos dados\n",
    "df = pd.read_excel('../data/Trabalho4dados.xlsx')\n",
    "\n",
    "df.head()"
   ]
  },
  {
   "cell_type": "markdown",
   "id": "2a718d01",
   "metadata": {},
   "source": [
    "### Mostrar superfície dos dados originais"
   ]
  },
  {
   "cell_type": "code",
   "execution_count": 3,
   "id": "59789c83",
   "metadata": {},
   "outputs": [
    {
     "data": {
      "application/vnd.plotly.v1+json": {
       "config": {
        "plotlyServerURL": "https://plot.ly"
       },
       "data": [
        {
         "colorscale": [
          [
           0,
           "#440154"
          ],
          [
           0.1111111111111111,
           "#482878"
          ],
          [
           0.2222222222222222,
           "#3e4989"
          ],
          [
           0.3333333333333333,
           "#31688e"
          ],
          [
           0.4444444444444444,
           "#26828e"
          ],
          [
           0.5555555555555556,
           "#1f9e89"
          ],
          [
           0.6666666666666666,
           "#35b779"
          ],
          [
           0.7777777777777778,
           "#6ece58"
          ],
          [
           0.8888888888888888,
           "#b5de2b"
          ],
          [
           1,
           "#fde725"
          ]
         ],
         "intensity": {
          "bdata": "o82WIehZ7b+f9iyd0xHuvyFs1NUFYu2/FjUYCDfx7L+x70guNevtv4xGsiDU/e2/rzVDDVXu7b8zHgVKGM3vvyJU3RNq/+y/CaKEFMMf7b9ZR6UetMbtvwRRKq2bAe+/vANwMobm7r9lx2oaesHvvzGCYgmzVe6/QBmtA9EM7r9///1tjKvtvyeSEjYQ/++/Gr9mzO5y778gXEfo74Luvy88moxS0u6/jGtiJAby7L8IHVM8Tf3sv8Ng/flX3uy/sHq4Jk5M779s/J6qvF/vvxhjWx/mCO6/hLfSVSWb7b/OYRh+Pijtv/w1Kg43QO2/dkYMWZQz7L+jbEO8rfDsv5Hmx1kdZ+6/uPBlKYkv7L8IOeGbLrbqv7nTkSb4ytS/yveRzCy93L+mLompl3GrP2+20qOFR6E/3Nj9WEU8uT/A65SOTf+Lv8r6eDHQpOk/jF2CsGt96T+ChwnEixPlPyU+qYyAhew/YGguEOCR7j+ZZCRDES/vP94g/zxRte8/VbFMxDaH8D/z7SnVi23vPzvzpVCXUfA/8gu6Ly048T8IL11CQlbwPzMFSkV3AvA/bLVAt0yR8T9WxG169vXwPwhkdTMMYPA/qWrRETuy8D8PpqrqeCvxP9baYV524/A/miyof/yy8D8weStQEffwPzcUDdj7SfA/lOWRGjFL8T+fiJ3QX0/xP/JBMQd7x/A/i1Kg0T818T+XlSvxn6XwP4rk6OE2KfE/C3Dv5xE/8D+go3NzgdDwPznmlUegEfE/xEJKS34+8D+dRY/hrRnwP8XGjPwUivA/7jgNf6i28D8jtU4kVTbxP5p0OGl3NfA/8XwuT0Jx8T/0+qUfQFrwP+qGYekNm/A/aJsvKimt8D9FJpKJaY7xPxeF4niBSPA/7C9tZWFp8T+K61aFy+HwP6t+ft6ug/A/7F9WppNw8T9WN6iIDN7wP8v303SZvfA/XsPOT/JK8T9PBuOIypPwP+fSwQq5jfE/8JKgNorj8D+td0lyUTvxPwO0ltuTFvE/UV+AuwxU8D+EAMOO3FXxP2Jtrct+YvE/otQFxQER8D8=",
          "dtype": "f8"
         },
         "name": "Superfície Original",
         "opacity": 0.8,
         "showscale": true,
         "type": "mesh3d",
         "x": {
          "bdata": "AAAAAAAAFMBDYt7OkJgTwIbEvJ0hMRPAyiabbLLJEsANiXk7Q2ISwFDrVwrU+hHAk0022WSTEcDWrxSo9SsRwBoS83aGxBDAXXTRRRddEMBBrV8pUOsPwMdxHMdxHA/ATjbZZJNNDsDU+pUCtX4NwFq/UqDWrwzA4oMPPvjgC8BoSMzbGRILwO4MiXk7QwrAdNFFF110CcD6lQK1fqUIwIFav1Kg1gfACB988MEHB8CO4ziO4zgGwBWo9SsFagXAm2yyySabBMAiMW9nSMwDwKj1KwVq/QLALrrooosuAsC1fqVArV8BwDxDYt7OkADAhA8++OCD/7+RmLczJOb9v54hMW9nSPy/qqqqqqqq+r+4MyTm7Qz5v8S8nSExb/e/0UUXXXTR9b/fzpCYtzP0v+tXCtT6lfK/+OCDDz748L8K1PqVArXuvyTm7QyJeeu/Pvjggw8+6L9YCtT6lQLlv3Icx3Ecx+G/GF100UUX3b9LgVq/UqDWv3+lQK1fKdC/ZZNNNtlkw78yb2dIzNupvzJvZ0jM26k/ZZNNNtlkwz9/pUCtXynQP0uBWr9SoNY/GF100UUX3T9yHMdxHMfhP1gK1PqVAuU/Pvjggw8+6D8k5u0MiXnrPwrU+pUCte4/+OCDDz748D/rVwrU+pXyP9/OkJi3M/Q/0UUXXXTR9T/EvJ0hMW/3P7gzJObtDPk/qqqqqqqq+j+eITFvZ0j8P5GYtzMk5v0/hA8++OCD/z88Q2LezpAAQLV+pUCtXwFALrrooosuAkCo9SsFav0CQCIxb2dIzANAm2yyySabBEAVqPUrBWoFQI7jOI7jOAZACB988MEHB0CBWr9SoNYHQPqVArV+pQhAdNFFF110CUDuDIl5O0MKQGhIzNsZEgtA4oMPPvjgC0Bav1Kg1q8MQNT6lQK1fg1ATjbZZJNNDkDHcRzHcRwPQEGtXylQ6w9AXXTRRRddEEAaEvN2hsQQQNavFKj1KxFAk0022WSTEUBQ61cK1PoRQA2JeTtDYhJAyiabbLLJEkCGxLydITETQENi3s6QmBNAAAAAAAAAFEA=",
          "dtype": "f8"
         },
         "y": {
          "bdata": "AAAAAAAACMCEDz744IMHwAgffPDBBwfAjC666KKLBsAQPvjggw8GwJRNNtlkkwXAF1100UUXBcCbbLLJJpsEwB988MEHHwTAo4suuuiiA8Anm2yyySYDwKuqqqqqqgLALrrooosuAsCyySabbLIBwDbZZJNNNgHAuuiiiy66AMA++OCDDz4AwIQPPvjgg/+/jC666KKL/r+TTTbZZJP9v5pssskmm/y/pIsuuuii+7+rqqqqqqr6v7LJJptssvm/uuiiiy66+L/CBx988MH3v8omm2yyyfa/0UUXXXTR9b/aZJNNNtn0v+GDDz744PO/6KKLLrro8r/xwQcffPDxv/jggw8++PC/AAAAAAAA8L8QPvjggw/uvx988MEHH+y/Lrrooosu6r8++OCDDz7ov0422WSTTea/XXTRRRdd5L9ssskmm2ziv3zwwQcffOC/GF100UUX3b832WSTTTbZv1VVVVVVVdW/dNFFF1100b8mm2yyySbLv2WTTTbZZMO/RhdddNFFt78IH3zwwQefvwgffPDBB58/RhdddNFFtz9lk0022WTDPyabbLLJJss/dNFFF1100T9VVVVVVVXVPzfZZJNNNtk/GF100UUX3T988MEHH3zgP2yyySabbOI/XXTRRRdd5D9ONtlkk03mPz744IMPPug/Lrrooosu6j8ffPDBBx/sPxA++OCDD+4/AAAAAAAA8D/44IMPPvjwP/HBBx988PE/6KKLLrro8j/hgw8++ODzP9pkk0022fQ/0UUXXXTR9T/KJptsssn2P8IHH3zwwfc/uuiiiy66+D+yySabbLL5P6uqqqqqqvo/pIsuuuii+z+abLLJJpv8P5NNNtlkk/0/jC666KKL/j+EDz744IP/Pz744IMPPgBAuuiiiy66AEA22WSTTTYBQLLJJptssgFALrrooosuAkCrqqqqqqoCQCebbLLJJgNAo4suuuiiA0AffPDBBx8EQJtssskmmwRAF1100UUXBUCUTTbZZJMFQBA++OCDDwZAjC666KKLBkAIH3zwwQcHQIQPPvjggwdAAAAAAAAACEA=",
          "dtype": "f8"
         },
         "z": {
          "bdata": "o82WIehZ7b+f9iyd0xHuvyFs1NUFYu2/FjUYCDfx7L+x70guNevtv4xGsiDU/e2/rzVDDVXu7b8zHgVKGM3vvyJU3RNq/+y/CaKEFMMf7b9ZR6UetMbtvwRRKq2bAe+/vANwMobm7r9lx2oaesHvvzGCYgmzVe6/QBmtA9EM7r9///1tjKvtvyeSEjYQ/++/Gr9mzO5y778gXEfo74Luvy88moxS0u6/jGtiJAby7L8IHVM8Tf3sv8Ng/flX3uy/sHq4Jk5M779s/J6qvF/vvxhjWx/mCO6/hLfSVSWb7b/OYRh+Pijtv/w1Kg43QO2/dkYMWZQz7L+jbEO8rfDsv5Hmx1kdZ+6/uPBlKYkv7L8IOeGbLrbqv7nTkSb4ytS/yveRzCy93L+mLompl3GrP2+20qOFR6E/3Nj9WEU8uT/A65SOTf+Lv8r6eDHQpOk/jF2CsGt96T+ChwnEixPlPyU+qYyAhew/YGguEOCR7j+ZZCRDES/vP94g/zxRte8/VbFMxDaH8D/z7SnVi23vPzvzpVCXUfA/8gu6Ly048T8IL11CQlbwPzMFSkV3AvA/bLVAt0yR8T9WxG169vXwPwhkdTMMYPA/qWrRETuy8D8PpqrqeCvxP9baYV524/A/miyof/yy8D8weStQEffwPzcUDdj7SfA/lOWRGjFL8T+fiJ3QX0/xP/JBMQd7x/A/i1Kg0T818T+XlSvxn6XwP4rk6OE2KfE/C3Dv5xE/8D+go3NzgdDwPznmlUegEfE/xEJKS34+8D+dRY/hrRnwP8XGjPwUivA/7jgNf6i28D8jtU4kVTbxP5p0OGl3NfA/8XwuT0Jx8T/0+qUfQFrwP+qGYekNm/A/aJsvKimt8D9FJpKJaY7xPxeF4niBSPA/7C9tZWFp8T+K61aFy+HwP6t+ft6ug/A/7F9WppNw8T9WN6iIDN7wP8v303SZvfA/XsPOT/JK8T9PBuOIypPwP+fSwQq5jfE/8JKgNorj8D+td0lyUTvxPwO0ltuTFvE/UV+AuwxU8D+EAMOO3FXxP2Jtrct+YvE/otQFxQER8D8=",
          "dtype": "f8"
         }
        },
        {
         "marker": {
          "color": "red",
          "line": {
           "color": "darkred",
           "width": 1
          },
          "size": 6,
          "symbol": "circle"
         },
         "mode": "markers",
         "name": "Dados Originais",
         "type": "scatter3d",
         "x": {
          "bdata": "AAAAAAAAFMBDYt7OkJgTwIbEvJ0hMRPAyiabbLLJEsANiXk7Q2ISwFDrVwrU+hHAk0022WSTEcDWrxSo9SsRwBoS83aGxBDAXXTRRRddEMBBrV8pUOsPwMdxHMdxHA/ATjbZZJNNDsDU+pUCtX4NwFq/UqDWrwzA4oMPPvjgC8BoSMzbGRILwO4MiXk7QwrAdNFFF110CcD6lQK1fqUIwIFav1Kg1gfACB988MEHB8CO4ziO4zgGwBWo9SsFagXAm2yyySabBMAiMW9nSMwDwKj1KwVq/QLALrrooosuAsC1fqVArV8BwDxDYt7OkADAhA8++OCD/7+RmLczJOb9v54hMW9nSPy/qqqqqqqq+r+4MyTm7Qz5v8S8nSExb/e/0UUXXXTR9b/fzpCYtzP0v+tXCtT6lfK/+OCDDz748L8K1PqVArXuvyTm7QyJeeu/Pvjggw8+6L9YCtT6lQLlv3Icx3Ecx+G/GF100UUX3b9LgVq/UqDWv3+lQK1fKdC/ZZNNNtlkw78yb2dIzNupvzJvZ0jM26k/ZZNNNtlkwz9/pUCtXynQP0uBWr9SoNY/GF100UUX3T9yHMdxHMfhP1gK1PqVAuU/Pvjggw8+6D8k5u0MiXnrPwrU+pUCte4/+OCDDz748D/rVwrU+pXyP9/OkJi3M/Q/0UUXXXTR9T/EvJ0hMW/3P7gzJObtDPk/qqqqqqqq+j+eITFvZ0j8P5GYtzMk5v0/hA8++OCD/z88Q2LezpAAQLV+pUCtXwFALrrooosuAkCo9SsFav0CQCIxb2dIzANAm2yyySabBEAVqPUrBWoFQI7jOI7jOAZACB988MEHB0CBWr9SoNYHQPqVArV+pQhAdNFFF110CUDuDIl5O0MKQGhIzNsZEgtA4oMPPvjgC0Bav1Kg1q8MQNT6lQK1fg1ATjbZZJNNDkDHcRzHcRwPQEGtXylQ6w9AXXTRRRddEEAaEvN2hsQQQNavFKj1KxFAk0022WSTEUBQ61cK1PoRQA2JeTtDYhJAyiabbLLJEkCGxLydITETQENi3s6QmBNAAAAAAAAAFEA=",
          "dtype": "f8"
         },
         "y": {
          "bdata": "AAAAAAAACMCEDz744IMHwAgffPDBBwfAjC666KKLBsAQPvjggw8GwJRNNtlkkwXAF1100UUXBcCbbLLJJpsEwB988MEHHwTAo4suuuiiA8Anm2yyySYDwKuqqqqqqgLALrrooosuAsCyySabbLIBwDbZZJNNNgHAuuiiiy66AMA++OCDDz4AwIQPPvjgg/+/jC666KKL/r+TTTbZZJP9v5pssskmm/y/pIsuuuii+7+rqqqqqqr6v7LJJptssvm/uuiiiy66+L/CBx988MH3v8omm2yyyfa/0UUXXXTR9b/aZJNNNtn0v+GDDz744PO/6KKLLrro8r/xwQcffPDxv/jggw8++PC/AAAAAAAA8L8QPvjggw/uvx988MEHH+y/Lrrooosu6r8++OCDDz7ov0422WSTTea/XXTRRRdd5L9ssskmm2ziv3zwwQcffOC/GF100UUX3b832WSTTTbZv1VVVVVVVdW/dNFFF1100b8mm2yyySbLv2WTTTbZZMO/RhdddNFFt78IH3zwwQefvwgffPDBB58/RhdddNFFtz9lk0022WTDPyabbLLJJss/dNFFF1100T9VVVVVVVXVPzfZZJNNNtk/GF100UUX3T988MEHH3zgP2yyySabbOI/XXTRRRdd5D9ONtlkk03mPz744IMPPug/Lrrooosu6j8ffPDBBx/sPxA++OCDD+4/AAAAAAAA8D/44IMPPvjwP/HBBx988PE/6KKLLrro8j/hgw8++ODzP9pkk0022fQ/0UUXXXTR9T/KJptsssn2P8IHH3zwwfc/uuiiiy66+D+yySabbLL5P6uqqqqqqvo/pIsuuuii+z+abLLJJpv8P5NNNtlkk/0/jC666KKL/j+EDz744IP/Pz744IMPPgBAuuiiiy66AEA22WSTTTYBQLLJJptssgFALrrooosuAkCrqqqqqqoCQCebbLLJJgNAo4suuuiiA0AffPDBBx8EQJtssskmmwRAF1100UUXBUCUTTbZZJMFQBA++OCDDwZAjC666KKLBkAIH3zwwQcHQIQPPvjggwdAAAAAAAAACEA=",
          "dtype": "f8"
         },
         "z": {
          "bdata": "o82WIehZ7b+f9iyd0xHuvyFs1NUFYu2/FjUYCDfx7L+x70guNevtv4xGsiDU/e2/rzVDDVXu7b8zHgVKGM3vvyJU3RNq/+y/CaKEFMMf7b9ZR6UetMbtvwRRKq2bAe+/vANwMobm7r9lx2oaesHvvzGCYgmzVe6/QBmtA9EM7r9///1tjKvtvyeSEjYQ/++/Gr9mzO5y778gXEfo74Luvy88moxS0u6/jGtiJAby7L8IHVM8Tf3sv8Ng/flX3uy/sHq4Jk5M779s/J6qvF/vvxhjWx/mCO6/hLfSVSWb7b/OYRh+Pijtv/w1Kg43QO2/dkYMWZQz7L+jbEO8rfDsv5Hmx1kdZ+6/uPBlKYkv7L8IOeGbLrbqv7nTkSb4ytS/yveRzCy93L+mLompl3GrP2+20qOFR6E/3Nj9WEU8uT/A65SOTf+Lv8r6eDHQpOk/jF2CsGt96T+ChwnEixPlPyU+qYyAhew/YGguEOCR7j+ZZCRDES/vP94g/zxRte8/VbFMxDaH8D/z7SnVi23vPzvzpVCXUfA/8gu6Ly048T8IL11CQlbwPzMFSkV3AvA/bLVAt0yR8T9WxG169vXwPwhkdTMMYPA/qWrRETuy8D8PpqrqeCvxP9baYV524/A/miyof/yy8D8weStQEffwPzcUDdj7SfA/lOWRGjFL8T+fiJ3QX0/xP/JBMQd7x/A/i1Kg0T818T+XlSvxn6XwP4rk6OE2KfE/C3Dv5xE/8D+go3NzgdDwPznmlUegEfE/xEJKS34+8D+dRY/hrRnwP8XGjPwUivA/7jgNf6i28D8jtU4kVTbxP5p0OGl3NfA/8XwuT0Jx8T/0+qUfQFrwP+qGYekNm/A/aJsvKimt8D9FJpKJaY7xPxeF4niBSPA/7C9tZWFp8T+K61aFy+HwP6t+ft6ug/A/7F9WppNw8T9WN6iIDN7wP8v303SZvfA/XsPOT/JK8T9PBuOIypPwP+fSwQq5jfE/8JKgNorj8D+td0lyUTvxPwO0ltuTFvE/UV+AuwxU8D+EAMOO3FXxP2Jtrct+YvE/otQFxQER8D8=",
          "dtype": "f8"
         }
        }
       ],
       "layout": {
        "height": 700,
        "legend": {
         "bgcolor": "rgba(255,255,255,0.8)",
         "bordercolor": "black",
         "borderwidth": 1,
         "x": 0.01,
         "xanchor": "left",
         "y": 0.99,
         "yanchor": "top"
        },
        "scene": {
         "aspectmode": "manual",
         "aspectratio": {
          "x": 1,
          "y": 1,
          "z": 2
         },
         "camera": {
          "eye": {
           "x": 2,
           "y": 2,
           "z": 1.5
          },
          "up": {
           "x": 0,
           "y": 0,
           "z": 1
          }
         },
         "xaxis": {
          "gridcolor": "lightgray",
          "title": {
           "text": "x1"
          }
         },
         "yaxis": {
          "gridcolor": "lightgray",
          "title": {
           "text": "x2"
          }
         },
         "zaxis": {
          "gridcolor": "lightgray",
          "title": {
           "text": "y"
          }
         }
        },
        "template": {
         "data": {
          "bar": [
           {
            "error_x": {
             "color": "#2a3f5f"
            },
            "error_y": {
             "color": "#2a3f5f"
            },
            "marker": {
             "line": {
              "color": "#E5ECF6",
              "width": 0.5
             },
             "pattern": {
              "fillmode": "overlay",
              "size": 10,
              "solidity": 0.2
             }
            },
            "type": "bar"
           }
          ],
          "barpolar": [
           {
            "marker": {
             "line": {
              "color": "#E5ECF6",
              "width": 0.5
             },
             "pattern": {
              "fillmode": "overlay",
              "size": 10,
              "solidity": 0.2
             }
            },
            "type": "barpolar"
           }
          ],
          "carpet": [
           {
            "aaxis": {
             "endlinecolor": "#2a3f5f",
             "gridcolor": "white",
             "linecolor": "white",
             "minorgridcolor": "white",
             "startlinecolor": "#2a3f5f"
            },
            "baxis": {
             "endlinecolor": "#2a3f5f",
             "gridcolor": "white",
             "linecolor": "white",
             "minorgridcolor": "white",
             "startlinecolor": "#2a3f5f"
            },
            "type": "carpet"
           }
          ],
          "choropleth": [
           {
            "colorbar": {
             "outlinewidth": 0,
             "ticks": ""
            },
            "type": "choropleth"
           }
          ],
          "contour": [
           {
            "colorbar": {
             "outlinewidth": 0,
             "ticks": ""
            },
            "colorscale": [
             [
              0,
              "#0d0887"
             ],
             [
              0.1111111111111111,
              "#46039f"
             ],
             [
              0.2222222222222222,
              "#7201a8"
             ],
             [
              0.3333333333333333,
              "#9c179e"
             ],
             [
              0.4444444444444444,
              "#bd3786"
             ],
             [
              0.5555555555555556,
              "#d8576b"
             ],
             [
              0.6666666666666666,
              "#ed7953"
             ],
             [
              0.7777777777777778,
              "#fb9f3a"
             ],
             [
              0.8888888888888888,
              "#fdca26"
             ],
             [
              1,
              "#f0f921"
             ]
            ],
            "type": "contour"
           }
          ],
          "contourcarpet": [
           {
            "colorbar": {
             "outlinewidth": 0,
             "ticks": ""
            },
            "type": "contourcarpet"
           }
          ],
          "heatmap": [
           {
            "colorbar": {
             "outlinewidth": 0,
             "ticks": ""
            },
            "colorscale": [
             [
              0,
              "#0d0887"
             ],
             [
              0.1111111111111111,
              "#46039f"
             ],
             [
              0.2222222222222222,
              "#7201a8"
             ],
             [
              0.3333333333333333,
              "#9c179e"
             ],
             [
              0.4444444444444444,
              "#bd3786"
             ],
             [
              0.5555555555555556,
              "#d8576b"
             ],
             [
              0.6666666666666666,
              "#ed7953"
             ],
             [
              0.7777777777777778,
              "#fb9f3a"
             ],
             [
              0.8888888888888888,
              "#fdca26"
             ],
             [
              1,
              "#f0f921"
             ]
            ],
            "type": "heatmap"
           }
          ],
          "histogram": [
           {
            "marker": {
             "pattern": {
              "fillmode": "overlay",
              "size": 10,
              "solidity": 0.2
             }
            },
            "type": "histogram"
           }
          ],
          "histogram2d": [
           {
            "colorbar": {
             "outlinewidth": 0,
             "ticks": ""
            },
            "colorscale": [
             [
              0,
              "#0d0887"
             ],
             [
              0.1111111111111111,
              "#46039f"
             ],
             [
              0.2222222222222222,
              "#7201a8"
             ],
             [
              0.3333333333333333,
              "#9c179e"
             ],
             [
              0.4444444444444444,
              "#bd3786"
             ],
             [
              0.5555555555555556,
              "#d8576b"
             ],
             [
              0.6666666666666666,
              "#ed7953"
             ],
             [
              0.7777777777777778,
              "#fb9f3a"
             ],
             [
              0.8888888888888888,
              "#fdca26"
             ],
             [
              1,
              "#f0f921"
             ]
            ],
            "type": "histogram2d"
           }
          ],
          "histogram2dcontour": [
           {
            "colorbar": {
             "outlinewidth": 0,
             "ticks": ""
            },
            "colorscale": [
             [
              0,
              "#0d0887"
             ],
             [
              0.1111111111111111,
              "#46039f"
             ],
             [
              0.2222222222222222,
              "#7201a8"
             ],
             [
              0.3333333333333333,
              "#9c179e"
             ],
             [
              0.4444444444444444,
              "#bd3786"
             ],
             [
              0.5555555555555556,
              "#d8576b"
             ],
             [
              0.6666666666666666,
              "#ed7953"
             ],
             [
              0.7777777777777778,
              "#fb9f3a"
             ],
             [
              0.8888888888888888,
              "#fdca26"
             ],
             [
              1,
              "#f0f921"
             ]
            ],
            "type": "histogram2dcontour"
           }
          ],
          "mesh3d": [
           {
            "colorbar": {
             "outlinewidth": 0,
             "ticks": ""
            },
            "type": "mesh3d"
           }
          ],
          "parcoords": [
           {
            "line": {
             "colorbar": {
              "outlinewidth": 0,
              "ticks": ""
             }
            },
            "type": "parcoords"
           }
          ],
          "pie": [
           {
            "automargin": true,
            "type": "pie"
           }
          ],
          "scatter": [
           {
            "fillpattern": {
             "fillmode": "overlay",
             "size": 10,
             "solidity": 0.2
            },
            "type": "scatter"
           }
          ],
          "scatter3d": [
           {
            "line": {
             "colorbar": {
              "outlinewidth": 0,
              "ticks": ""
             }
            },
            "marker": {
             "colorbar": {
              "outlinewidth": 0,
              "ticks": ""
             }
            },
            "type": "scatter3d"
           }
          ],
          "scattercarpet": [
           {
            "marker": {
             "colorbar": {
              "outlinewidth": 0,
              "ticks": ""
             }
            },
            "type": "scattercarpet"
           }
          ],
          "scattergeo": [
           {
            "marker": {
             "colorbar": {
              "outlinewidth": 0,
              "ticks": ""
             }
            },
            "type": "scattergeo"
           }
          ],
          "scattergl": [
           {
            "marker": {
             "colorbar": {
              "outlinewidth": 0,
              "ticks": ""
             }
            },
            "type": "scattergl"
           }
          ],
          "scattermap": [
           {
            "marker": {
             "colorbar": {
              "outlinewidth": 0,
              "ticks": ""
             }
            },
            "type": "scattermap"
           }
          ],
          "scattermapbox": [
           {
            "marker": {
             "colorbar": {
              "outlinewidth": 0,
              "ticks": ""
             }
            },
            "type": "scattermapbox"
           }
          ],
          "scatterpolar": [
           {
            "marker": {
             "colorbar": {
              "outlinewidth": 0,
              "ticks": ""
             }
            },
            "type": "scatterpolar"
           }
          ],
          "scatterpolargl": [
           {
            "marker": {
             "colorbar": {
              "outlinewidth": 0,
              "ticks": ""
             }
            },
            "type": "scatterpolargl"
           }
          ],
          "scatterternary": [
           {
            "marker": {
             "colorbar": {
              "outlinewidth": 0,
              "ticks": ""
             }
            },
            "type": "scatterternary"
           }
          ],
          "surface": [
           {
            "colorbar": {
             "outlinewidth": 0,
             "ticks": ""
            },
            "colorscale": [
             [
              0,
              "#0d0887"
             ],
             [
              0.1111111111111111,
              "#46039f"
             ],
             [
              0.2222222222222222,
              "#7201a8"
             ],
             [
              0.3333333333333333,
              "#9c179e"
             ],
             [
              0.4444444444444444,
              "#bd3786"
             ],
             [
              0.5555555555555556,
              "#d8576b"
             ],
             [
              0.6666666666666666,
              "#ed7953"
             ],
             [
              0.7777777777777778,
              "#fb9f3a"
             ],
             [
              0.8888888888888888,
              "#fdca26"
             ],
             [
              1,
              "#f0f921"
             ]
            ],
            "type": "surface"
           }
          ],
          "table": [
           {
            "cells": {
             "fill": {
              "color": "#EBF0F8"
             },
             "line": {
              "color": "white"
             }
            },
            "header": {
             "fill": {
              "color": "#C8D4E3"
             },
             "line": {
              "color": "white"
             }
            },
            "type": "table"
           }
          ]
         },
         "layout": {
          "annotationdefaults": {
           "arrowcolor": "#2a3f5f",
           "arrowhead": 0,
           "arrowwidth": 1
          },
          "autotypenumbers": "strict",
          "coloraxis": {
           "colorbar": {
            "outlinewidth": 0,
            "ticks": ""
           }
          },
          "colorscale": {
           "diverging": [
            [
             0,
             "#8e0152"
            ],
            [
             0.1,
             "#c51b7d"
            ],
            [
             0.2,
             "#de77ae"
            ],
            [
             0.3,
             "#f1b6da"
            ],
            [
             0.4,
             "#fde0ef"
            ],
            [
             0.5,
             "#f7f7f7"
            ],
            [
             0.6,
             "#e6f5d0"
            ],
            [
             0.7,
             "#b8e186"
            ],
            [
             0.8,
             "#7fbc41"
            ],
            [
             0.9,
             "#4d9221"
            ],
            [
             1,
             "#276419"
            ]
           ],
           "sequential": [
            [
             0,
             "#0d0887"
            ],
            [
             0.1111111111111111,
             "#46039f"
            ],
            [
             0.2222222222222222,
             "#7201a8"
            ],
            [
             0.3333333333333333,
             "#9c179e"
            ],
            [
             0.4444444444444444,
             "#bd3786"
            ],
            [
             0.5555555555555556,
             "#d8576b"
            ],
            [
             0.6666666666666666,
             "#ed7953"
            ],
            [
             0.7777777777777778,
             "#fb9f3a"
            ],
            [
             0.8888888888888888,
             "#fdca26"
            ],
            [
             1,
             "#f0f921"
            ]
           ],
           "sequentialminus": [
            [
             0,
             "#0d0887"
            ],
            [
             0.1111111111111111,
             "#46039f"
            ],
            [
             0.2222222222222222,
             "#7201a8"
            ],
            [
             0.3333333333333333,
             "#9c179e"
            ],
            [
             0.4444444444444444,
             "#bd3786"
            ],
            [
             0.5555555555555556,
             "#d8576b"
            ],
            [
             0.6666666666666666,
             "#ed7953"
            ],
            [
             0.7777777777777778,
             "#fb9f3a"
            ],
            [
             0.8888888888888888,
             "#fdca26"
            ],
            [
             1,
             "#f0f921"
            ]
           ]
          },
          "colorway": [
           "#636efa",
           "#EF553B",
           "#00cc96",
           "#ab63fa",
           "#FFA15A",
           "#19d3f3",
           "#FF6692",
           "#B6E880",
           "#FF97FF",
           "#FECB52"
          ],
          "font": {
           "color": "#2a3f5f"
          },
          "geo": {
           "bgcolor": "white",
           "lakecolor": "white",
           "landcolor": "#E5ECF6",
           "showlakes": true,
           "showland": true,
           "subunitcolor": "white"
          },
          "hoverlabel": {
           "align": "left"
          },
          "hovermode": "closest",
          "mapbox": {
           "style": "light"
          },
          "paper_bgcolor": "white",
          "plot_bgcolor": "#E5ECF6",
          "polar": {
           "angularaxis": {
            "gridcolor": "white",
            "linecolor": "white",
            "ticks": ""
           },
           "bgcolor": "#E5ECF6",
           "radialaxis": {
            "gridcolor": "white",
            "linecolor": "white",
            "ticks": ""
           }
          },
          "scene": {
           "xaxis": {
            "backgroundcolor": "#E5ECF6",
            "gridcolor": "white",
            "gridwidth": 2,
            "linecolor": "white",
            "showbackground": true,
            "ticks": "",
            "zerolinecolor": "white"
           },
           "yaxis": {
            "backgroundcolor": "#E5ECF6",
            "gridcolor": "white",
            "gridwidth": 2,
            "linecolor": "white",
            "showbackground": true,
            "ticks": "",
            "zerolinecolor": "white"
           },
           "zaxis": {
            "backgroundcolor": "#E5ECF6",
            "gridcolor": "white",
            "gridwidth": 2,
            "linecolor": "white",
            "showbackground": true,
            "ticks": "",
            "zerolinecolor": "white"
           }
          },
          "shapedefaults": {
           "line": {
            "color": "#2a3f5f"
           }
          },
          "ternary": {
           "aaxis": {
            "gridcolor": "white",
            "linecolor": "white",
            "ticks": ""
           },
           "baxis": {
            "gridcolor": "white",
            "linecolor": "white",
            "ticks": ""
           },
           "bgcolor": "#E5ECF6",
           "caxis": {
            "gridcolor": "white",
            "linecolor": "white",
            "ticks": ""
           }
          },
          "title": {
           "x": 0.05
          },
          "xaxis": {
           "automargin": true,
           "gridcolor": "white",
           "linecolor": "white",
           "ticks": "",
           "title": {
            "standoff": 15
           },
           "zerolinecolor": "white",
           "zerolinewidth": 2
          },
          "yaxis": {
           "automargin": true,
           "gridcolor": "white",
           "linecolor": "white",
           "ticks": "",
           "title": {
            "standoff": 15
           },
           "zerolinecolor": "white",
           "zerolinewidth": 2
          }
         }
        },
        "title": {
         "text": "Superfície dos Dados Originais"
        },
        "width": 900
       }
      }
     },
     "metadata": {},
     "output_type": "display_data"
    }
   ],
   "source": [
    "# Extrair os dados\n",
    "x1_data = df['x1'].values\n",
    "x2_data = df['x2'].values\n",
    "y_data = df['y'].values\n",
    "\n",
    "fig_surface = plot_original_surface(x1_data, x2_data, y_data)"
   ]
  },
  {
   "cell_type": "markdown",
   "id": "a11523f5",
   "metadata": {},
   "source": [
    "## Calcular as funções de perda"
   ]
  },
  {
   "cell_type": "markdown",
   "id": "2e6d8f5f",
   "metadata": {},
   "source": [
    "### Funções utilizadas para os cálculos"
   ]
  },
  {
   "cell_type": "code",
   "execution_count": 4,
   "id": "5f2939c5",
   "metadata": {},
   "outputs": [],
   "source": [
    "def make_residuals_fn(X1: np.ndarray, X2: np.ndarray, Y: np.ndarray, activation_fn=np.tanh):\n",
    "    def residuals_fn(w: np.ndarray) -> np.ndarray:\n",
    "        predictions = neuron(X1, X2, weights=w, activation_fn=activation_fn)\n",
    "        return Y - predictions\n",
    "    return residuals_fn\n",
    "\n",
    "\n",
    "def make_jacobian_fn(X1, X2, activation_fn=np.tanh, activation_deriv=tanh_derivative):\n",
    "    \"\"\"\n",
    "    Jacobiana genérica: derivada dos resíduos em relação aos pesos.\n",
    "    Funciona para qualquer função de ativação.\n",
    "    \"\"\"\n",
    "    def jacobian_fn(w):\n",
    "        X1_ = np.atleast_1d(X1)\n",
    "        X2_ = np.atleast_1d(X2)\n",
    "        X = np.stack([X1_, X2_, np.ones_like(X1_)], axis=1)\n",
    "        z = X @ w\n",
    "        phi_prime = activation_deriv(z)\n",
    "        J = -phi_prime[:, np.newaxis] * X  # cada linha: -φ'(z_i) * [x1, x2, 1]\n",
    "        return J\n",
    "    return jacobian_fn"
   ]
  },
  {
   "cell_type": "markdown",
   "id": "4e4192a6",
   "metadata": {},
   "source": [
    "### Pré-processamento dos dados"
   ]
  },
  {
   "cell_type": "code",
   "execution_count": 5,
   "id": "fedadb6e",
   "metadata": {},
   "outputs": [],
   "source": [
    "\n",
    "features = df[['x1', 'x2']]\n",
    "y = df['y']\n",
    "\n",
    "# Criar os objetos para Padronização\n",
    "scaler = MinMaxNormalizer(-1, 1)\n",
    "scaler_y = MinMaxNormalizer(-1, 1)\n",
    "\n",
    "# Cria as cópias dos dados para padronizar\n",
    "scaled_features = features.copy()\n",
    "scaled_y = y.copy()\n",
    "\n",
    "# Ajusta os padronizadores aos dados\n",
    "scaler.fit(scaled_features)\n",
    "scaler_y.fit(scaled_y.to_frame())\n",
    "\n",
    "# Padroniza os dados\n",
    "scaled_features = scaler.normalize(scaled_features)\n",
    "scaled_y = scaler_y.normalize(scaled_y.to_frame()).squeeze()\n",
    "\n",
    "# initial_weights = np.random.randn(features.shape[1] + 1)  # 2 entradas + 1 bias\n",
    "initial_weights = np.zeros(features.shape[1] + 1)  # 2 entradas + 1 bias\n",
    "n_iterations = 10000\n",
    "tolerance = 1e-6\n",
    "alpha = 1e-3"
   ]
  },
  {
   "cell_type": "markdown",
   "id": "f4a0a850",
   "metadata": {},
   "source": [
    "### Rodar os experimentos"
   ]
  },
  {
   "cell_type": "code",
   "execution_count": null,
   "id": "6ec386dc",
   "metadata": {},
   "outputs": [
    {
     "data": {
      "text/html": [
       "<div>\n",
       "<style scoped>\n",
       "    .dataframe tbody tr th:only-of-type {\n",
       "        vertical-align: middle;\n",
       "    }\n",
       "\n",
       "    .dataframe tbody tr th {\n",
       "        vertical-align: top;\n",
       "    }\n",
       "\n",
       "    .dataframe thead th {\n",
       "        text-align: right;\n",
       "    }\n",
       "</style>\n",
       "<table border=\"1\" class=\"dataframe\">\n",
       "  <thead>\n",
       "    <tr style=\"text-align: right;\">\n",
       "      <th></th>\n",
       "      <th>Feature_Set</th>\n",
       "      <th>Loss_Function</th>\n",
       "      <th>Initial_Weights</th>\n",
       "      <th>Raw_Weights</th>\n",
       "      <th>Final_Weights</th>\n",
       "      <th>Final_Loss</th>\n",
       "      <th>MSE_Final</th>\n",
       "      <th>RMSE_Final</th>\n",
       "      <th>MAE_Final</th>\n",
       "      <th>Iterations</th>\n",
       "    </tr>\n",
       "  </thead>\n",
       "  <tbody>\n",
       "    <tr>\n",
       "      <th>0</th>\n",
       "      <td>MinMax(-1,1)</td>\n",
       "      <td>MSE</td>\n",
       "      <td>['0.00000', '0.00000', '0.00000']</td>\n",
       "      <td>['4.60081', '4.60081', '2.07464']</td>\n",
       "      <td>['0.92016', '1.53360', '2.07464']</td>\n",
       "      <td>0.00630</td>\n",
       "      <td>0.00806</td>\n",
       "      <td>0.08975</td>\n",
       "      <td>0.06793</td>\n",
       "      <td>8</td>\n",
       "    </tr>\n",
       "  </tbody>\n",
       "</table>\n",
       "</div>"
      ],
      "text/plain": [
       "    Feature_Set Loss_Function                    Initial_Weights  \\\n",
       "0  MinMax(-1,1)           MSE  ['0.00000', '0.00000', '0.00000']   \n",
       "\n",
       "                         Raw_Weights                      Final_Weights  \\\n",
       "0  ['4.60081', '4.60081', '2.07464']  ['0.92016', '1.53360', '2.07464']   \n",
       "\n",
       "   Final_Loss  MSE_Final  RMSE_Final  MAE_Final  Iterations  \n",
       "0     0.00630    0.00806     0.08975    0.06793           8  "
      ]
     },
     "execution_count": 6,
     "metadata": {},
     "output_type": "execute_result"
    }
   ],
   "source": [
    "dict_results = {}\n",
    "\n",
    "x1_scaled = scaled_features['x1'].values\n",
    "x2_scaled = scaled_features['x2'].values\n",
    "y_scaled_data = scaled_y.values\n",
    "\n",
    "# Função de custo e gradiente\n",
    "loss_function, grad_loss_function = make_mse_loss_for_neuron(x1_scaled, x2_scaled, y_scaled_data, activation_fn=np.tanh)\n",
    "\n",
    "# Função de residuos e jacobiana\n",
    "residuals_fn = make_residuals_fn(x1_scaled, x2_scaled, y_scaled_data, activation_fn=np.tanh)\n",
    "jacobian_fn = make_jacobian_fn(x1_scaled, x2_scaled, activation_fn=np.tanh, activation_deriv=tanh_derivative)\n",
    "\n",
    "# Treinar o modelo com Levenberg-Marquadt\n",
    "weights, losses, n_iters = levenberg_marquadt(\n",
    "    initial_weights, residuals_fn, loss_function, jacobian_fn,\n",
    "    alpha=alpha, alpha_variability=10, max_iter=n_iterations,\n",
    "    tolerance=tolerance, stopping_criteria=[1, 3]\n",
    ")\n",
    "\n",
    "# Desnormalizar os pesos finais\n",
    "final_raw_weights = weights[-1].copy()\n",
    "final_denorm_weights = scaler.desnormalize_weights(weights[-1])\n",
    "\n",
    "# Usar o neurônio com pesos desnormalizados\n",
    "y_hat = neuron(x1_data, x2_data, weights=final_denorm_weights, activation_fn=np.tanh)\n",
    "\n",
    "# Cálculo das métricas finais\n",
    "mse_final = np.mean((y - y_hat) ** 2)\n",
    "rmse_final = np.sqrt(mse_final)\n",
    "mae_final = np.mean(np.abs(y - y_hat))\n",
    "\n",
    "dict_results = {\n",
    "    'Feature_Set': \"MinMax(-1,1)\",\n",
    "    'Loss_Function': \"MSE\",\n",
    "    'Initial_Weights': str([f\"{w:.5f}\" for w in initial_weights.tolist()]),\n",
    "    'Raw_Weights': str([f\"{w:.5f}\" for w in final_raw_weights.tolist()]),\n",
    "    'Final_Weights': str([f\"{w:.5f}\" for w in final_denorm_weights.tolist()]),\n",
    "    'Final_Loss': losses[-1],\n",
    "    'MSE_Final': mse_final,\n",
    "    'RMSE_Final': rmse_final,\n",
    "    'MAE_Final': mae_final,\n",
    "    'Iterations': n_iters\n",
    "}\n",
    "\n",
    "# Criar DataFrame com um único registro\n",
    "df_result = pd.DataFrame([dict_results]) \n",
    "df_result"
   ]
  },
  {
   "cell_type": "markdown",
   "id": "4636062a",
   "metadata": {},
   "source": [
    "## Resultados"
   ]
  },
  {
   "cell_type": "code",
   "execution_count": 7,
   "id": "872089b5",
   "metadata": {},
   "outputs": [
    {
     "data": {
      "application/vnd.plotly.v1+json": {
       "config": {
        "plotlyServerURL": "https://plot.ly"
       },
       "data": [
        {
         "colorscale": [
          [
           0,
           "#440154"
          ],
          [
           0.1111111111111111,
           "#482878"
          ],
          [
           0.2222222222222222,
           "#3e4989"
          ],
          [
           0.3333333333333333,
           "#31688e"
          ],
          [
           0.4444444444444444,
           "#26828e"
          ],
          [
           0.5555555555555556,
           "#1f9e89"
          ],
          [
           0.6666666666666666,
           "#35b779"
          ],
          [
           0.7777777777777778,
           "#6ece58"
          ],
          [
           0.8888888888888888,
           "#b5de2b"
          ],
          [
           1,
           "#fde725"
          ]
         ],
         "intensity": {
          "bdata": "o82WIehZ7b+f9iyd0xHuvyFs1NUFYu2/FjUYCDfx7L+x70guNevtv4xGsiDU/e2/rzVDDVXu7b8zHgVKGM3vvyJU3RNq/+y/CaKEFMMf7b9ZR6UetMbtvwRRKq2bAe+/vANwMobm7r9lx2oaesHvvzGCYgmzVe6/QBmtA9EM7r9///1tjKvtvyeSEjYQ/++/Gr9mzO5y778gXEfo74Luvy88moxS0u6/jGtiJAby7L8IHVM8Tf3sv8Ng/flX3uy/sHq4Jk5M779s/J6qvF/vvxhjWx/mCO6/hLfSVSWb7b/OYRh+Pijtv/w1Kg43QO2/dkYMWZQz7L+jbEO8rfDsv5Hmx1kdZ+6/uPBlKYkv7L8IOeGbLrbqv7nTkSb4ytS/yveRzCy93L+mLompl3GrP2+20qOFR6E/3Nj9WEU8uT/A65SOTf+Lv8r6eDHQpOk/jF2CsGt96T+ChwnEixPlPyU+qYyAhew/YGguEOCR7j+ZZCRDES/vP94g/zxRte8/VbFMxDaH8D/z7SnVi23vPzvzpVCXUfA/8gu6Ly048T8IL11CQlbwPzMFSkV3AvA/bLVAt0yR8T9WxG169vXwPwhkdTMMYPA/qWrRETuy8D8PpqrqeCvxP9baYV524/A/miyof/yy8D8weStQEffwPzcUDdj7SfA/lOWRGjFL8T+fiJ3QX0/xP/JBMQd7x/A/i1Kg0T818T+XlSvxn6XwP4rk6OE2KfE/C3Dv5xE/8D+go3NzgdDwPznmlUegEfE/xEJKS34+8D+dRY/hrRnwP8XGjPwUivA/7jgNf6i28D8jtU4kVTbxP5p0OGl3NfA/8XwuT0Jx8T/0+qUfQFrwP+qGYekNm/A/aJsvKimt8D9FJpKJaY7xPxeF4niBSPA/7C9tZWFp8T+K61aFy+HwP6t+ft6ug/A/7F9WppNw8T9WN6iIDN7wP8v303SZvfA/XsPOT/JK8T9PBuOIypPwP+fSwQq5jfE/8JKgNorj8D+td0lyUTvxPwO0ltuTFvE/UV+AuwxU8D+EAMOO3FXxP2Jtrct+YvE/otQFxQER8D8=",
          "dtype": "f8"
         },
         "name": "Superfície Original",
         "opacity": 0.8,
         "showscale": true,
         "type": "mesh3d",
         "x": {
          "bdata": "AAAAAAAAFMBDYt7OkJgTwIbEvJ0hMRPAyiabbLLJEsANiXk7Q2ISwFDrVwrU+hHAk0022WSTEcDWrxSo9SsRwBoS83aGxBDAXXTRRRddEMBBrV8pUOsPwMdxHMdxHA/ATjbZZJNNDsDU+pUCtX4NwFq/UqDWrwzA4oMPPvjgC8BoSMzbGRILwO4MiXk7QwrAdNFFF110CcD6lQK1fqUIwIFav1Kg1gfACB988MEHB8CO4ziO4zgGwBWo9SsFagXAm2yyySabBMAiMW9nSMwDwKj1KwVq/QLALrrooosuAsC1fqVArV8BwDxDYt7OkADAhA8++OCD/7+RmLczJOb9v54hMW9nSPy/qqqqqqqq+r+4MyTm7Qz5v8S8nSExb/e/0UUXXXTR9b/fzpCYtzP0v+tXCtT6lfK/+OCDDz748L8K1PqVArXuvyTm7QyJeeu/Pvjggw8+6L9YCtT6lQLlv3Icx3Ecx+G/GF100UUX3b9LgVq/UqDWv3+lQK1fKdC/ZZNNNtlkw78yb2dIzNupvzJvZ0jM26k/ZZNNNtlkwz9/pUCtXynQP0uBWr9SoNY/GF100UUX3T9yHMdxHMfhP1gK1PqVAuU/Pvjggw8+6D8k5u0MiXnrPwrU+pUCte4/+OCDDz748D/rVwrU+pXyP9/OkJi3M/Q/0UUXXXTR9T/EvJ0hMW/3P7gzJObtDPk/qqqqqqqq+j+eITFvZ0j8P5GYtzMk5v0/hA8++OCD/z88Q2LezpAAQLV+pUCtXwFALrrooosuAkCo9SsFav0CQCIxb2dIzANAm2yyySabBEAVqPUrBWoFQI7jOI7jOAZACB988MEHB0CBWr9SoNYHQPqVArV+pQhAdNFFF110CUDuDIl5O0MKQGhIzNsZEgtA4oMPPvjgC0Bav1Kg1q8MQNT6lQK1fg1ATjbZZJNNDkDHcRzHcRwPQEGtXylQ6w9AXXTRRRddEEAaEvN2hsQQQNavFKj1KxFAk0022WSTEUBQ61cK1PoRQA2JeTtDYhJAyiabbLLJEkCGxLydITETQENi3s6QmBNAAAAAAAAAFEA=",
          "dtype": "f8"
         },
         "y": {
          "bdata": "AAAAAAAACMCEDz744IMHwAgffPDBBwfAjC666KKLBsAQPvjggw8GwJRNNtlkkwXAF1100UUXBcCbbLLJJpsEwB988MEHHwTAo4suuuiiA8Anm2yyySYDwKuqqqqqqgLALrrooosuAsCyySabbLIBwDbZZJNNNgHAuuiiiy66AMA++OCDDz4AwIQPPvjgg/+/jC666KKL/r+TTTbZZJP9v5pssskmm/y/pIsuuuii+7+rqqqqqqr6v7LJJptssvm/uuiiiy66+L/CBx988MH3v8omm2yyyfa/0UUXXXTR9b/aZJNNNtn0v+GDDz744PO/6KKLLrro8r/xwQcffPDxv/jggw8++PC/AAAAAAAA8L8QPvjggw/uvx988MEHH+y/Lrrooosu6r8++OCDDz7ov0422WSTTea/XXTRRRdd5L9ssskmm2ziv3zwwQcffOC/GF100UUX3b832WSTTTbZv1VVVVVVVdW/dNFFF1100b8mm2yyySbLv2WTTTbZZMO/RhdddNFFt78IH3zwwQefvwgffPDBB58/RhdddNFFtz9lk0022WTDPyabbLLJJss/dNFFF1100T9VVVVVVVXVPzfZZJNNNtk/GF100UUX3T988MEHH3zgP2yyySabbOI/XXTRRRdd5D9ONtlkk03mPz744IMPPug/Lrrooosu6j8ffPDBBx/sPxA++OCDD+4/AAAAAAAA8D/44IMPPvjwP/HBBx988PE/6KKLLrro8j/hgw8++ODzP9pkk0022fQ/0UUXXXTR9T/KJptsssn2P8IHH3zwwfc/uuiiiy66+D+yySabbLL5P6uqqqqqqvo/pIsuuuii+z+abLLJJpv8P5NNNtlkk/0/jC666KKL/j+EDz744IP/Pz744IMPPgBAuuiiiy66AEA22WSTTTYBQLLJJptssgFALrrooosuAkCrqqqqqqoCQCebbLLJJgNAo4suuuiiA0AffPDBBx8EQJtssskmmwRAF1100UUXBUCUTTbZZJMFQBA++OCDDwZAjC666KKLBkAIH3zwwQcHQIQPPvjggwdAAAAAAAAACEA=",
          "dtype": "f8"
         },
         "z": {
          "bdata": "o82WIehZ7b+f9iyd0xHuvyFs1NUFYu2/FjUYCDfx7L+x70guNevtv4xGsiDU/e2/rzVDDVXu7b8zHgVKGM3vvyJU3RNq/+y/CaKEFMMf7b9ZR6UetMbtvwRRKq2bAe+/vANwMobm7r9lx2oaesHvvzGCYgmzVe6/QBmtA9EM7r9///1tjKvtvyeSEjYQ/++/Gr9mzO5y778gXEfo74Luvy88moxS0u6/jGtiJAby7L8IHVM8Tf3sv8Ng/flX3uy/sHq4Jk5M779s/J6qvF/vvxhjWx/mCO6/hLfSVSWb7b/OYRh+Pijtv/w1Kg43QO2/dkYMWZQz7L+jbEO8rfDsv5Hmx1kdZ+6/uPBlKYkv7L8IOeGbLrbqv7nTkSb4ytS/yveRzCy93L+mLompl3GrP2+20qOFR6E/3Nj9WEU8uT/A65SOTf+Lv8r6eDHQpOk/jF2CsGt96T+ChwnEixPlPyU+qYyAhew/YGguEOCR7j+ZZCRDES/vP94g/zxRte8/VbFMxDaH8D/z7SnVi23vPzvzpVCXUfA/8gu6Ly048T8IL11CQlbwPzMFSkV3AvA/bLVAt0yR8T9WxG169vXwPwhkdTMMYPA/qWrRETuy8D8PpqrqeCvxP9baYV524/A/miyof/yy8D8weStQEffwPzcUDdj7SfA/lOWRGjFL8T+fiJ3QX0/xP/JBMQd7x/A/i1Kg0T818T+XlSvxn6XwP4rk6OE2KfE/C3Dv5xE/8D+go3NzgdDwPznmlUegEfE/xEJKS34+8D+dRY/hrRnwP8XGjPwUivA/7jgNf6i28D8jtU4kVTbxP5p0OGl3NfA/8XwuT0Jx8T/0+qUfQFrwP+qGYekNm/A/aJsvKimt8D9FJpKJaY7xPxeF4niBSPA/7C9tZWFp8T+K61aFy+HwP6t+ft6ug/A/7F9WppNw8T9WN6iIDN7wP8v303SZvfA/XsPOT/JK8T9PBuOIypPwP+fSwQq5jfE/8JKgNorj8D+td0lyUTvxPwO0ltuTFvE/UV+AuwxU8D+EAMOO3FXxP2Jtrct+YvE/otQFxQER8D8=",
          "dtype": "f8"
         }
        },
        {
         "marker": {
          "color": "red",
          "line": {
           "color": "darkred",
           "width": 1
          },
          "size": 6,
          "symbol": "circle"
         },
         "mode": "markers",
         "name": "Dados Originais",
         "type": "scatter3d",
         "x": {
          "bdata": "AAAAAAAAFMBDYt7OkJgTwIbEvJ0hMRPAyiabbLLJEsANiXk7Q2ISwFDrVwrU+hHAk0022WSTEcDWrxSo9SsRwBoS83aGxBDAXXTRRRddEMBBrV8pUOsPwMdxHMdxHA/ATjbZZJNNDsDU+pUCtX4NwFq/UqDWrwzA4oMPPvjgC8BoSMzbGRILwO4MiXk7QwrAdNFFF110CcD6lQK1fqUIwIFav1Kg1gfACB988MEHB8CO4ziO4zgGwBWo9SsFagXAm2yyySabBMAiMW9nSMwDwKj1KwVq/QLALrrooosuAsC1fqVArV8BwDxDYt7OkADAhA8++OCD/7+RmLczJOb9v54hMW9nSPy/qqqqqqqq+r+4MyTm7Qz5v8S8nSExb/e/0UUXXXTR9b/fzpCYtzP0v+tXCtT6lfK/+OCDDz748L8K1PqVArXuvyTm7QyJeeu/Pvjggw8+6L9YCtT6lQLlv3Icx3Ecx+G/GF100UUX3b9LgVq/UqDWv3+lQK1fKdC/ZZNNNtlkw78yb2dIzNupvzJvZ0jM26k/ZZNNNtlkwz9/pUCtXynQP0uBWr9SoNY/GF100UUX3T9yHMdxHMfhP1gK1PqVAuU/Pvjggw8+6D8k5u0MiXnrPwrU+pUCte4/+OCDDz748D/rVwrU+pXyP9/OkJi3M/Q/0UUXXXTR9T/EvJ0hMW/3P7gzJObtDPk/qqqqqqqq+j+eITFvZ0j8P5GYtzMk5v0/hA8++OCD/z88Q2LezpAAQLV+pUCtXwFALrrooosuAkCo9SsFav0CQCIxb2dIzANAm2yyySabBEAVqPUrBWoFQI7jOI7jOAZACB988MEHB0CBWr9SoNYHQPqVArV+pQhAdNFFF110CUDuDIl5O0MKQGhIzNsZEgtA4oMPPvjgC0Bav1Kg1q8MQNT6lQK1fg1ATjbZZJNNDkDHcRzHcRwPQEGtXylQ6w9AXXTRRRddEEAaEvN2hsQQQNavFKj1KxFAk0022WSTEUBQ61cK1PoRQA2JeTtDYhJAyiabbLLJEkCGxLydITETQENi3s6QmBNAAAAAAAAAFEA=",
          "dtype": "f8"
         },
         "y": {
          "bdata": "AAAAAAAACMCEDz744IMHwAgffPDBBwfAjC666KKLBsAQPvjggw8GwJRNNtlkkwXAF1100UUXBcCbbLLJJpsEwB988MEHHwTAo4suuuiiA8Anm2yyySYDwKuqqqqqqgLALrrooosuAsCyySabbLIBwDbZZJNNNgHAuuiiiy66AMA++OCDDz4AwIQPPvjgg/+/jC666KKL/r+TTTbZZJP9v5pssskmm/y/pIsuuuii+7+rqqqqqqr6v7LJJptssvm/uuiiiy66+L/CBx988MH3v8omm2yyyfa/0UUXXXTR9b/aZJNNNtn0v+GDDz744PO/6KKLLrro8r/xwQcffPDxv/jggw8++PC/AAAAAAAA8L8QPvjggw/uvx988MEHH+y/Lrrooosu6r8++OCDDz7ov0422WSTTea/XXTRRRdd5L9ssskmm2ziv3zwwQcffOC/GF100UUX3b832WSTTTbZv1VVVVVVVdW/dNFFF1100b8mm2yyySbLv2WTTTbZZMO/RhdddNFFt78IH3zwwQefvwgffPDBB58/RhdddNFFtz9lk0022WTDPyabbLLJJss/dNFFF1100T9VVVVVVVXVPzfZZJNNNtk/GF100UUX3T988MEHH3zgP2yyySabbOI/XXTRRRdd5D9ONtlkk03mPz744IMPPug/Lrrooosu6j8ffPDBBx/sPxA++OCDD+4/AAAAAAAA8D/44IMPPvjwP/HBBx988PE/6KKLLrro8j/hgw8++ODzP9pkk0022fQ/0UUXXXTR9T/KJptsssn2P8IHH3zwwfc/uuiiiy66+D+yySabbLL5P6uqqqqqqvo/pIsuuuii+z+abLLJJpv8P5NNNtlkk/0/jC666KKL/j+EDz744IP/Pz744IMPPgBAuuiiiy66AEA22WSTTTYBQLLJJptssgFALrrooosuAkCrqqqqqqoCQCebbLLJJgNAo4suuuiiA0AffPDBBx8EQJtssskmmwRAF1100UUXBUCUTTbZZJMFQBA++OCDDwZAjC666KKLBkAIH3zwwQcHQIQPPvjggwdAAAAAAAAACEA=",
          "dtype": "f8"
         },
         "z": {
          "bdata": "o82WIehZ7b+f9iyd0xHuvyFs1NUFYu2/FjUYCDfx7L+x70guNevtv4xGsiDU/e2/rzVDDVXu7b8zHgVKGM3vvyJU3RNq/+y/CaKEFMMf7b9ZR6UetMbtvwRRKq2bAe+/vANwMobm7r9lx2oaesHvvzGCYgmzVe6/QBmtA9EM7r9///1tjKvtvyeSEjYQ/++/Gr9mzO5y778gXEfo74Luvy88moxS0u6/jGtiJAby7L8IHVM8Tf3sv8Ng/flX3uy/sHq4Jk5M779s/J6qvF/vvxhjWx/mCO6/hLfSVSWb7b/OYRh+Pijtv/w1Kg43QO2/dkYMWZQz7L+jbEO8rfDsv5Hmx1kdZ+6/uPBlKYkv7L8IOeGbLrbqv7nTkSb4ytS/yveRzCy93L+mLompl3GrP2+20qOFR6E/3Nj9WEU8uT/A65SOTf+Lv8r6eDHQpOk/jF2CsGt96T+ChwnEixPlPyU+qYyAhew/YGguEOCR7j+ZZCRDES/vP94g/zxRte8/VbFMxDaH8D/z7SnVi23vPzvzpVCXUfA/8gu6Ly048T8IL11CQlbwPzMFSkV3AvA/bLVAt0yR8T9WxG169vXwPwhkdTMMYPA/qWrRETuy8D8PpqrqeCvxP9baYV524/A/miyof/yy8D8weStQEffwPzcUDdj7SfA/lOWRGjFL8T+fiJ3QX0/xP/JBMQd7x/A/i1Kg0T818T+XlSvxn6XwP4rk6OE2KfE/C3Dv5xE/8D+go3NzgdDwPznmlUegEfE/xEJKS34+8D+dRY/hrRnwP8XGjPwUivA/7jgNf6i28D8jtU4kVTbxP5p0OGl3NfA/8XwuT0Jx8T/0+qUfQFrwP+qGYekNm/A/aJsvKimt8D9FJpKJaY7xPxeF4niBSPA/7C9tZWFp8T+K61aFy+HwP6t+ft6ug/A/7F9WppNw8T9WN6iIDN7wP8v303SZvfA/XsPOT/JK8T9PBuOIypPwP+fSwQq5jfE/8JKgNorj8D+td0lyUTvxPwO0ltuTFvE/UV+AuwxU8D+EAMOO3FXxP2Jtrct+YvE/otQFxQER8D8=",
          "dtype": "f8"
         }
        },
        {
         "colorscale": [
          [
           0,
           "rgb(255,245,240)"
          ],
          [
           0.125,
           "rgb(254,224,210)"
          ],
          [
           0.25,
           "rgb(252,187,161)"
          ],
          [
           0.375,
           "rgb(252,146,114)"
          ],
          [
           0.5,
           "rgb(251,106,74)"
          ],
          [
           0.625,
           "rgb(239,59,44)"
          ],
          [
           0.75,
           "rgb(203,24,29)"
          ],
          [
           0.875,
           "rgb(165,15,21)"
          ],
          [
           1,
           "rgb(103,0,13)"
          ]
         ],
         "name": "Superfície Prevista",
         "opacity": 0.6,
         "showscale": true,
         "type": "surface",
         "x": {
          "bdata": "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",
          "dtype": "f8",
          "shape": "30, 30"
         },
         "y": {
          "bdata": "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",
          "dtype": "f8",
          "shape": "30, 30"
         },
         "z": {
          "bdata": "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",
          "dtype": "f8",
          "shape": "30, 30"
         }
        },
        {
         "marker": {
          "color": "blue",
          "line": {
           "color": "darkblue",
           "width": 1
          },
          "size": 6,
          "symbol": "diamond"
         },
         "mode": "markers",
         "name": "Valores Previstos",
         "type": "scatter3d",
         "x": {
          "bdata": "AAAAAAAAFMBDYt7OkJgTwIbEvJ0hMRPAyiabbLLJEsANiXk7Q2ISwFDrVwrU+hHAk0022WSTEcDWrxSo9SsRwBoS83aGxBDAXXTRRRddEMBBrV8pUOsPwMdxHMdxHA/ATjbZZJNNDsDU+pUCtX4NwFq/UqDWrwzA4oMPPvjgC8BoSMzbGRILwO4MiXk7QwrAdNFFF110CcD6lQK1fqUIwIFav1Kg1gfACB988MEHB8CO4ziO4zgGwBWo9SsFagXAm2yyySabBMAiMW9nSMwDwKj1KwVq/QLALrrooosuAsC1fqVArV8BwDxDYt7OkADAhA8++OCD/7+RmLczJOb9v54hMW9nSPy/qqqqqqqq+r+4MyTm7Qz5v8S8nSExb/e/0UUXXXTR9b/fzpCYtzP0v+tXCtT6lfK/+OCDDz748L8K1PqVArXuvyTm7QyJeeu/Pvjggw8+6L9YCtT6lQLlv3Icx3Ecx+G/GF100UUX3b9LgVq/UqDWv3+lQK1fKdC/ZZNNNtlkw78yb2dIzNupvzJvZ0jM26k/ZZNNNtlkwz9/pUCtXynQP0uBWr9SoNY/GF100UUX3T9yHMdxHMfhP1gK1PqVAuU/Pvjggw8+6D8k5u0MiXnrPwrU+pUCte4/+OCDDz748D/rVwrU+pXyP9/OkJi3M/Q/0UUXXXTR9T/EvJ0hMW/3P7gzJObtDPk/qqqqqqqq+j+eITFvZ0j8P5GYtzMk5v0/hA8++OCD/z88Q2LezpAAQLV+pUCtXwFALrrooosuAkCo9SsFav0CQCIxb2dIzANAm2yyySabBEAVqPUrBWoFQI7jOI7jOAZACB988MEHB0CBWr9SoNYHQPqVArV+pQhAdNFFF110CUDuDIl5O0MKQGhIzNsZEgtA4oMPPvjgC0Bav1Kg1q8MQNT6lQK1fg1ATjbZZJNNDkDHcRzHcRwPQEGtXylQ6w9AXXTRRRddEEAaEvN2hsQQQNavFKj1KxFAk0022WSTEUBQ61cK1PoRQA2JeTtDYhJAyiabbLLJEkCGxLydITETQENi3s6QmBNAAAAAAAAAFEA=",
          "dtype": "f8"
         },
         "y": {
          "bdata": "AAAAAAAACMCEDz744IMHwAgffPDBBwfAjC666KKLBsAQPvjggw8GwJRNNtlkkwXAF1100UUXBcCbbLLJJpsEwB988MEHHwTAo4suuuiiA8Anm2yyySYDwKuqqqqqqgLALrrooosuAsCyySabbLIBwDbZZJNNNgHAuuiiiy66AMA++OCDDz4AwIQPPvjgg/+/jC666KKL/r+TTTbZZJP9v5pssskmm/y/pIsuuuii+7+rqqqqqqr6v7LJJptssvm/uuiiiy66+L/CBx988MH3v8omm2yyyfa/0UUXXXTR9b/aZJNNNtn0v+GDDz744PO/6KKLLrro8r/xwQcffPDxv/jggw8++PC/AAAAAAAA8L8QPvjggw/uvx988MEHH+y/Lrrooosu6r8++OCDDz7ov0422WSTTea/XXTRRRdd5L9ssskmm2ziv3zwwQcffOC/GF100UUX3b832WSTTTbZv1VVVVVVVdW/dNFFF1100b8mm2yyySbLv2WTTTbZZMO/RhdddNFFt78IH3zwwQefvwgffPDBB58/RhdddNFFtz9lk0022WTDPyabbLLJJss/dNFFF1100T9VVVVVVVXVPzfZZJNNNtk/GF100UUX3T988MEHH3zgP2yyySabbOI/XXTRRRdd5D9ONtlkk03mPz744IMPPug/Lrrooosu6j8ffPDBBx/sPxA++OCDD+4/AAAAAAAA8D/44IMPPvjwP/HBBx988PE/6KKLLrro8j/hgw8++ODzP9pkk0022fQ/0UUXXXTR9T/KJptsssn2P8IHH3zwwfc/uuiiiy66+D+yySabbLL5P6uqqqqqqvo/pIsuuuii+z+abLLJJpv8P5NNNtlkk/0/jC666KKL/j+EDz744IP/Pz744IMPPgBAuuiiiy66AEA22WSTTTYBQLLJJptssgFALrrooosuAkCrqqqqqqoCQCebbLLJJgNAo4suuuiiA0AffPDBBx8EQJtssskmmwRAF1100UUXBUCUTTbZZJMFQBA++OCDDwZAjC666KKLBkAIH3zwwQcHQIQPPvjggwdAAAAAAAAACEA=",
          "dtype": "f8"
         },
         "z": {
          "bdata": "5dFnS/3/77/Gp4QT/P/vvyjFLk/6/++/xTMnv/f/77+2ArQH9P/vv7kgzaPu/++/AOCC0ub/779CjQR82//vvxDwgQrL/++/+ThwMbP/77+IVEWbkP/vvx9GLHJe/++/nooLsxX/77/r7LwyrP7vv6GnhTIT/u+/0pQ8UTX97796Hf+P8/vvv3Nz3wAh+u+/Qrhlh3z377/eTUjQp/Pvv/c6nkca7u+/lSQBUQ7m779128FPZtrvvyv3wxqGye+/6kryQRyx77/pC20g1Y3vv4fNn1bwWu+/eIhJorAR778vK2ezn6juv2gA7cmmEu6/GrKYbg8+7b8/+Yd7phPsv7rIgt6Aduq/YftGY0VF6L/2NEM8PV7lvzXto+NTp+G/1MCxAa8z2r8QfxHV0DrPv9WZMLKuIrC/wLmFzjhGvz9Kgk0ZhybTP1TAZogSTd0/EGz4ACPw4j9PGpOnZmLmPwKPCSSqC+k/IpXSr5YJ6z/TgdjLb37sP2btFdlqiu0/PcaCh6hI7j+SBPNdh87uP1sceGMmLO8/Dm+A+FZt7z9aXEpmmJrvP1LThEnyue8/66nfMaLP7z/VRPDcnt7vPyBYPl346O8/i0AVKR3w7z82RKcNC/XvP5d/iZNx+O8/soAcBMr67z/eqjIfaPzvP4dJd7KF/e8/3X0FoEr+7z8O7SBr0v7vPzX7vQ0w/+8/dDIznnD/7z9cQe8inf/vP3l8K9W7/+8/QY6F/9D/7z+saIeX3//vPy0+iafp/+8/Vuq1l/D/7z8IvGRg9f/vP1qj0az4/+8/PewN8/r/7z+6KoKE/P/vP2AWUJn9/+8/HbArWP7/7z/UlsTb/v/vPxg6gTb//+8/6HcRdf//7z99uzSg///vP5wb873//+8/KEB10v//7z/LPpng///vPwk/Wer//+8/vD8S8f//7z8k47T1///vP0QU5/j//+8/zDkb+///7z8GNaD8///vP01prP3//+8/11Zl/v//7z8F2eT+///vP/DDPP///+8/i2J5////7z+wLqP////vP3sAwP///+8/f9/T////7z8=",
          "dtype": "f8"
         }
        },
        {
         "line": {
          "color": "rgba(0,100,0,0.5)",
          "width": 2
         },
         "mode": "lines",
         "showlegend": false,
         "type": "scatter3d",
         "x": [
          -5,
          -5
         ],
         "y": [
          -3,
          -3
         ],
         "z": [
          -0.9172249465977312,
          -0.9999987099423008
         ]
        },
        {
         "line": {
          "color": "rgba(0,100,0,0.5)",
          "width": 2
         },
         "mode": "lines",
         "showlegend": false,
         "type": "scatter3d",
         "x": [
          -4.898989898989899,
          -4.898989898989899
         ],
         "y": [
          -2.9393939393939394,
          -2.9393939393939394
         ],
         "z": [
          -0.9396761007153208,
          -0.9999981290068198
         ]
        },
        {
         "line": {
          "color": "rgba(0,100,0,0.5)",
          "width": 2
         },
         "mode": "lines",
         "showlegend": false,
         "type": "scatter3d",
         "x": [
          -4.797979797979798,
          -4.797979797979798
         ],
         "y": [
          -2.878787878787879,
          -2.878787878787879
         ],
         "z": [
          -0.918215673099784,
          -0.9999972864663151
         ]
        },
        {
         "line": {
          "color": "rgba(0,100,0,0.5)",
          "width": 2
         },
         "mode": "lines",
         "showlegend": false,
         "type": "scatter3d",
         "x": [
          -4.696969696969697,
          -4.696969696969697
         ],
         "y": [
          -2.8181818181818183,
          -2.8181818181818183
         ],
         "z": [
          -0.9044451864334941,
          -0.9999960645160334
         ]
        },
        {
         "line": {
          "color": "rgba(0,100,0,0.5)",
          "width": 2
         },
         "mode": "lines",
         "showlegend": false,
         "type": "scatter3d",
         "x": [
          -4.595959595959596,
          -4.595959595959596
         ],
         "y": [
          -2.757575757575758,
          -2.757575757575758
         ],
         "z": [
          -0.934961882019243,
          -0.999994292302367
         ]
        },
        {
         "line": {
          "color": "rgba(0,100,0,0.5)",
          "width": 2
         },
         "mode": "lines",
         "showlegend": false,
         "type": "scatter3d",
         "x": [
          -4.494949494949495,
          -4.494949494949495
         ],
         "y": [
          -2.6969696969696972,
          -2.6969696969696972
         ],
         "z": [
          -0.9372349394418094,
          -0.999991722034813
         ]
        },
        {
         "line": {
          "color": "rgba(0,100,0,0.5)",
          "width": 2
         },
         "mode": "lines",
         "showlegend": false,
         "type": "scatter3d",
         "x": [
          -4.393939393939394,
          -4.393939393939394
         ],
         "y": [
          -2.6363636363636362,
          -2.6363636363636362
         ],
         "z": [
          -0.9353432902368491,
          -0.999987994341609
         ]
        },
        {
         "line": {
          "color": "rgba(0,100,0,0.5)",
          "width": 2
         },
         "mode": "lines",
         "showlegend": false,
         "type": "scatter3d",
         "x": [
          -4.292929292929292,
          -4.292929292929292
         ],
         "y": [
          -2.5757575757575757,
          -2.5757575757575757
         ],
         "z": [
          -0.993785996027276,
          -0.9999825880262636
         ]
        },
        {
         "line": {
          "color": "rgba(0,100,0,0.5)",
          "width": 2
         },
         "mode": "lines",
         "showlegend": false,
         "type": "scatter3d",
         "x": [
          -4.191919191919192,
          -4.191919191919192
         ],
         "y": [
          -2.515151515151515,
          -2.515151515151515
         ],
         "z": [
          -0.9061785114269052,
          -0.9999747472024882
         ]
        },
        {
         "line": {
          "color": "rgba(0,100,0,0.5)",
          "width": 2
         },
         "mode": "lines",
         "showlegend": false,
         "type": "scatter3d",
         "x": [
          -4.090909090909091,
          -4.090909090909091
         ],
         "y": [
          -2.4545454545454546,
          -2.4545454545454546
         ],
         "z": [
          -0.9101272011512843,
          -0.9999633756249572
         ]
        },
        {
         "line": {
          "color": "rgba(0,100,0,0.5)",
          "width": 2
         },
         "mode": "lines",
         "showlegend": false,
         "type": "scatter3d",
         "x": [
          -3.98989898989899,
          -3.98989898989899
         ],
         "y": [
          -2.393939393939394,
          -2.393939393939394
         ],
         "z": [
          -0.9305058096453919,
          -0.999946883452723
         ]
        },
        {
         "line": {
          "color": "rgba(0,100,0,0.5)",
          "width": 2
         },
         "mode": "lines",
         "showlegend": false,
         "type": "scatter3d",
         "x": [
          -3.888888888888889,
          -3.888888888888889
         ],
         "y": [
          -2.3333333333333335,
          -2.3333333333333335
         ],
         "z": [
          -0.9689463026175251,
          -0.9999229650440532
         ]
        },
        {
         "line": {
          "color": "rgba(0,100,0,0.5)",
          "width": 2
         },
         "mode": "lines",
         "showlegend": false,
         "type": "scatter3d",
         "x": [
          -3.787878787878788,
          -3.787878787878788
         ],
         "y": [
          -2.2727272727272725,
          -2.2727272727272725
         ],
         "z": [
          -0.9656401620014701,
          -0.9998882767652792
         ]
        },
        {
         "line": {
          "color": "rgba(0,100,0,0.5)",
          "width": 2
         },
         "mode": "lines",
         "showlegend": false,
         "type": "scatter3d",
         "x": [
          -3.686868686868687,
          -3.686868686868687
         ],
         "y": [
          -2.212121212121212,
          -2.212121212121212
         ],
         "z": [
          -0.9923677936514933,
          -0.999837969873082
         ]
        },
        {
         "line": {
          "color": "rgba(0,100,0,0.5)",
          "width": 2
         },
         "mode": "lines",
         "showlegend": false,
         "type": "scatter3d",
         "x": [
          -3.5858585858585856,
          -3.5858585858585856
         ],
         "y": [
          -2.1515151515151514,
          -2.1515151515151514
         ],
         "z": [
          -0.9479613478943688,
          -0.99976501338573
         ]
        },
        {
         "line": {
          "color": "rgba(0,100,0,0.5)",
          "width": 2
         },
         "mode": "lines",
         "showlegend": false,
         "type": "scatter3d",
         "x": [
          -3.4848484848484853,
          -3.4848484848484853
         ],
         "y": [
          -2.090909090909091,
          -2.090909090909091
         ],
         "z": [
          -0.9390645095634582,
          -0.999659212746929
         ]
        },
        {
         "line": {
          "color": "rgba(0,100,0,0.5)",
          "width": 2
         },
         "mode": "lines",
         "showlegend": false,
         "type": "scatter3d",
         "x": [
          -3.383838383838384,
          -3.383838383838384
         ],
         "y": [
          -2.0303030303030303,
          -2.0303030303030303
         ],
         "z": [
          -0.9271909855160486,
          -0.9995057880814067
         ]
        },
        {
         "line": {
          "color": "rgba(0,100,0,0.5)",
          "width": 2
         },
         "mode": "lines",
         "showlegend": false,
         "type": "scatter3d",
         "x": [
          -3.282828282828283,
          -3.282828282828283
         ],
         "y": [
          -1.9696969696969697,
          -1.9696969696969697
         ],
         "z": [
          -0.9998856597999904,
          -0.9992833153770405
         ]
        },
        {
         "line": {
          "color": "rgba(0,100,0,0.5)",
          "width": 2
         },
         "mode": "lines",
         "showlegend": false,
         "type": "scatter3d",
         "x": [
          -3.1818181818181817,
          -3.1818181818181817
         ],
         "y": [
          -1.9090909090909092,
          -1.9090909090909092
         ],
         "z": [
          -0.9827798835958419,
          -0.998960747192321
         ]
        },
        {
         "line": {
          "color": "rgba(0,100,0,0.5)",
          "width": 2
         },
         "mode": "lines",
         "showlegend": false,
         "type": "scatter3d",
         "x": [
          -3.0808080808080804,
          -3.0808080808080804
         ],
         "y": [
          -1.8484848484848484,
          -1.8484848484848484
         ],
         "z": [
          -0.9534835373586965,
          -0.998493105699193
         ]
        },
        {
         "line": {
          "color": "rgba(0,100,0,0.5)",
          "width": 2
         },
         "mode": "lines",
         "showlegend": false,
         "type": "scatter3d",
         "x": [
          -2.9797979797979797,
          -2.9797979797979797
         ],
         "y": [
          -1.7878787878787876,
          -1.7878787878787876
         ],
         "z": [
          -0.9631741281645015,
          -0.9978152655401961
         ]
        },
        {
         "line": {
          "color": "rgba(0,100,0,0.5)",
          "width": 2
         },
         "mode": "lines",
         "showlegend": false,
         "type": "scatter3d",
         "x": [
          -2.878787878787879,
          -2.878787878787879
         ],
         "y": [
          -1.7272727272727275,
          -1.7272727272727275
         ],
         "z": [
          -0.9045439444192751,
          -0.9968329984777876
         ]
        },
        {
         "line": {
          "color": "rgba(0,100,0,0.5)",
          "width": 2
         },
         "mode": "lines",
         "showlegend": false,
         "type": "scatter3d",
         "x": [
          -2.7777777777777777,
          -2.7777777777777777
         ],
         "y": [
          -1.6666666666666667,
          -1.6666666666666667
         ],
         "z": [
          -0.9059206178871202,
          -0.9954101140746007
         ]
        },
        {
         "line": {
          "color": "rgba(0,100,0,0.5)",
          "width": 2
         },
         "mode": "lines",
         "showlegend": false,
         "type": "scatter3d",
         "x": [
          -2.676767676767677,
          -2.676767676767677
         ],
         "y": [
          -1.606060606060606,
          -1.606060606060606
         ],
         "z": [
          -0.9021415598499732,
          -0.9933500788463098
         ]
        },
        {
         "line": {
          "color": "rgba(0,100,0,0.5)",
          "width": 2
         },
         "mode": "lines",
         "showlegend": false,
         "type": "scatter3d",
         "x": [
          -2.5757575757575757,
          -2.5757575757575757
         ],
         "y": [
          -1.5454545454545454,
          -1.5454545454545454
         ],
         "z": [
          -0.9780646091711187,
          -0.9903699195877753
         ]
        },
        {
         "line": {
          "color": "rgba(0,100,0,0.5)",
          "width": 2
         },
         "mode": "lines",
         "showlegend": false,
         "type": "scatter3d",
         "x": [
          -2.474747474747475,
          -2.474747474747475
         ],
         "y": [
          -1.4848484848484849,
          -1.4848484848484849
         ],
         "z": [
          -0.9804366428796931,
          -0.9860635407752599
         ]
        },
        {
         "line": {
          "color": "rgba(0,100,0,0.5)",
          "width": 2
         },
         "mode": "lines",
         "showlegend": false,
         "type": "scatter3d",
         "x": [
          -2.3737373737373737,
          -2.3737373737373737
         ],
         "y": [
          -1.4242424242424243,
          -1.4242424242424243
         ],
         "z": [
          -0.9385862934533149,
          -0.9798509303931703
         ]
        },
        {
         "line": {
          "color": "rgba(0,100,0,0.5)",
          "width": 2
         },
         "mode": "lines",
         "showlegend": false,
         "type": "scatter3d",
         "x": [
          -2.2727272727272725,
          -2.2727272727272725
         ],
         "y": [
          -1.3636363636363635,
          -1.3636363636363635
         ],
         "z": [
          -0.9251887012703581,
          -0.9709094209358815
         ]
        },
        {
         "line": {
          "color": "rgba(0,100,0,0.5)",
          "width": 2
         },
         "mode": "lines",
         "showlegend": false,
         "type": "scatter3d",
         "x": [
          -2.1717171717171717,
          -2.1717171717171717
         ],
         "y": [
          -1.3030303030303032,
          -1.3030303030303032
         ],
         "z": [
          -0.9111626112745002,
          -0.958083963772287
         ]
        },
        {
         "line": {
          "color": "rgba(0,100,0,0.5)",
          "width": 2
         },
         "mode": "lines",
         "showlegend": false,
         "type": "scatter3d",
         "x": [
          -2.070707070707071,
          -2.070707070707071
         ],
         "y": [
          -1.2424242424242424,
          -1.2424242424242424
         ],
         "z": [
          -0.9140887524278578,
          -0.9397767967093502
         ]
        },
        {
         "line": {
          "color": "rgba(0,100,0,0.5)",
          "width": 2
         },
         "mode": "lines",
         "showlegend": false,
         "type": "scatter3d",
         "x": [
          -1.9696969696969697,
          -1.9696969696969697
         ],
         "y": [
          -1.1818181818181817,
          -1.1818181818181817
         ],
         "z": [
          -0.8812963237016465,
          -0.913825717934347
         ]
        },
        {
         "line": {
          "color": "rgba(0,100,0,0.5)",
          "width": 2
         },
         "mode": "lines",
         "showlegend": false,
         "type": "scatter3d",
         "x": [
          -1.8686868686868687,
          -1.8686868686868687
         ],
         "y": [
          -1.1212121212121213,
          -1.1212121212121213
         ],
         "z": [
          -0.904379718496234,
          -0.8773987210004534
         ]
        },
        {
         "line": {
          "color": "rgba(0,100,0,0.5)",
          "width": 2
         },
         "mode": "lines",
         "showlegend": false,
         "type": "scatter3d",
         "x": [
          -1.7676767676767677,
          -1.7676767676767677
         ],
         "y": [
          -1.0606060606060606,
          -1.0606060606060606
         ],
         "z": [
          -0.9500872376949748,
          -0.8269657464900526
         ]
        },
        {
         "line": {
          "color": "rgba(0,100,0,0.5)",
          "width": 2
         },
         "mode": "lines",
         "showlegend": false,
         "type": "scatter3d",
         "x": [
          -1.6666666666666665,
          -1.6666666666666665
         ],
         "y": [
          -1,
          -1
         ],
         "z": [
          -0.8808027084883383,
          -0.7584559382447474
         ]
        },
        {
         "line": {
          "color": "rgba(0,100,0,0.5)",
          "width": 2
         },
         "mode": "lines",
         "showlegend": false,
         "type": "scatter3d",
         "x": [
          -1.5656565656565657,
          -1.5656565656565657
         ],
         "y": [
          -0.9393939393939394,
          -0.9393939393939394
         ],
         "z": [
          -0.8347390217329869,
          -0.6677538086893537
         ]
        },
        {
         "line": {
          "color": "rgba(0,100,0,0.5)",
          "width": 2
         },
         "mode": "lines",
         "showlegend": false,
         "type": "scatter3d",
         "x": [
          -1.4646464646464645,
          -1.4646464646464645
         ],
         "y": [
          -0.8787878787878788,
          -0.8787878787878788
         ],
         "z": [
          -0.3248882652908907,
          -0.5516757436848027
         ]
        },
        {
         "line": {
          "color": "rgba(0,100,0,0.5)",
          "width": 2
         },
         "mode": "lines",
         "showlegend": false,
         "type": "scatter3d",
         "x": [
          -1.3636363636363635,
          -1.3636363636363635
         ],
         "y": [
          -0.8181818181818181,
          -0.8181818181818181
         ],
         "z": [
          -0.4490463254695639,
          -0.40940451779807785
         ]
        },
        {
         "line": {
          "color": "rgba(0,100,0,0.5)",
          "width": 2
         },
         "mode": "lines",
         "showlegend": false,
         "type": "scatter3d",
         "x": [
          -1.2626262626262628,
          -1.2626262626262628
         ],
         "y": [
          -0.7575757575757576,
          -0.7575757575757576
         ],
         "z": [
          0.05360101646928443,
          -0.2439824142811564
         ]
        },
        {
         "line": {
          "color": "rgba(0,100,0,0.5)",
          "width": 2
         },
         "mode": "lines",
         "showlegend": false,
         "type": "scatter3d",
         "x": [
          -1.1616161616161615,
          -1.1616161616161615
         ],
         "y": [
          -0.696969696969697,
          -0.696969696969697
         ],
         "z": [
          0.03374879479211478,
          -0.06302921152437276
         ]
        },
        {
         "line": {
          "color": "rgba(0,100,0,0.5)",
          "width": 2
         },
         "mode": "lines",
         "showlegend": false,
         "type": "scatter3d",
         "x": [
          -1.0606060606060606,
          -1.0606060606060606
         ],
         "y": [
          -0.6363636363636364,
          -0.6363636363636364
         ],
         "z": [
          0.09857591078420874,
          0.12216525117921773
         ]
        },
        {
         "line": {
          "color": "rgba(0,100,0,0.5)",
          "width": 2
         },
         "mode": "lines",
         "showlegend": false,
         "type": "scatter3d",
         "x": [
          -0.9595959595959596,
          -0.9595959595959596
         ],
         "y": [
          -0.5757575757575757,
          -0.5757575757575757
         ],
         "z": [
          -0.013670545495747422,
          0.29922654601071896
         ]
        },
        {
         "line": {
          "color": "rgba(0,100,0,0.5)",
          "width": 2
         },
         "mode": "lines",
         "showlegend": false,
         "type": "scatter3d",
         "x": [
          -0.8585858585858586,
          -0.8585858585858586
         ],
         "y": [
          -0.5151515151515151,
          -0.5151515151515151
         ],
         "z": [
          0.8013688055287613,
          0.45782912559935096
         ]
        },
        {
         "line": {
          "color": "rgba(0,100,0,0.5)",
          "width": 2
         },
         "mode": "lines",
         "showlegend": false,
         "type": "scatter3d",
         "x": [
          -0.7575757575757576,
          -0.7575757575757576
         ],
         "y": [
          -0.4545454545454546,
          -0.4545454545454546
         ],
         "z": [
          0.7965601394125073,
          0.5918135661080459
         ]
        },
        {
         "line": {
          "color": "rgba(0,100,0,0.5)",
          "width": 2
         },
         "mode": "lines",
         "showlegend": false,
         "type": "scatter3d",
         "x": [
          -0.6565656565656566,
          -0.6565656565656566
         ],
         "y": [
          -0.393939393939394,
          -0.393939393939394
         ],
         "z": [
          0.6586359814502745,
          0.6995118401471901
         ]
        },
        {
         "line": {
          "color": "rgba(0,100,0,0.5)",
          "width": 2
         },
         "mode": "lines",
         "showlegend": false,
         "type": "scatter3d",
         "x": [
          -0.5555555555555556,
          -0.5555555555555556
         ],
         "y": [
          -0.3333333333333333,
          -0.3333333333333333
         ],
         "z": [
          0.891296648720474,
          0.782673902879168
         ]
        },
        {
         "line": {
          "color": "rgba(0,100,0,0.5)",
          "width": 2
         },
         "mode": "lines",
         "showlegend": false,
         "type": "scatter3d",
         "x": [
          -0.4545454545454546,
          -0.4545454545454546
         ],
         "y": [
          -0.2727272727272727,
          -0.2727272727272727
         ],
         "z": [
          0.9553070369759205,
          0.8449204858813213
         ]
        },
        {
         "line": {
          "color": "rgba(0,100,0,0.5)",
          "width": 2
         },
         "mode": "lines",
         "showlegend": false,
         "type": "scatter3d",
         "x": [
          -0.35353535353535354,
          -0.35353535353535354
         ],
         "y": [
          -0.2121212121212121,
          -0.2121212121212121
         ],
         "z": [
          0.9744955359812081,
          0.8904341679918225
         ]
        },
        {
         "line": {
          "color": "rgba(0,100,0,0.5)",
          "width": 2
         },
         "mode": "lines",
         "showlegend": false,
         "type": "scatter3d",
         "x": [
          -0.25252525252525254,
          -0.25252525252525254
         ],
         "y": [
          -0.15151515151515152,
          -0.15151515151515152
         ],
         "z": [
          0.9908834639873267,
          0.9231466522173093
         ]
        },
        {
         "line": {
          "color": "rgba(0,100,0,0.5)",
          "width": 2
         },
         "mode": "lines",
         "showlegend": false,
         "type": "scatter3d",
         "x": [
          -0.15151515151515152,
          -0.15151515151515152
         ],
         "y": [
          -0.09090909090909091,
          -0.09090909090909091
         ],
         "z": [
          1.0330112140610102,
          0.946369423551182
         ]
        },
        {
         "line": {
          "color": "rgba(0,100,0,0.5)",
          "width": 2
         },
         "mode": "lines",
         "showlegend": false,
         "type": "scatter3d",
         "x": [
          -0.05050505050505051,
          -0.05050505050505051
         ],
         "y": [
          -0.030303030303030304,
          -0.030303030303030304
         ],
         "z": [
          0.9821223414759842,
          0.9627110323855439
         ]
        },
        {
         "line": {
          "color": "rgba(0,100,0,0.5)",
          "width": 2
         },
         "mode": "lines",
         "showlegend": false,
         "type": "scatter3d",
         "x": [
          0.05050505050505051,
          0.05050505050505051
         ],
         "y": [
          0.030303030303030304,
          0.030303030303030304
         ],
         "z": [
          1.0199196958848933,
          0.9741393988378023
         ]
        },
        {
         "line": {
          "color": "rgba(0,100,0,0.5)",
          "width": 2
         },
         "mode": "lines",
         "showlegend": false,
         "type": "scatter3d",
         "x": [
          0.15151515151515152,
          0.15151515151515152
         ],
         "y": [
          0.09090909090909091,
          0.09090909090909091
         ],
         "z": [
          1.0762149681402176,
          0.9820971349285814
         ]
        },
        {
         "line": {
          "color": "rgba(0,100,0,0.5)",
          "width": 2
         },
         "mode": "lines",
         "showlegend": false,
         "type": "scatter3d",
         "x": [
          0.25252525252525254,
          0.25252525252525254
         ],
         "y": [
          0.15151515151515152,
          0.15151515151515152
         ],
         "z": [
          1.021059283480044,
          0.9876214979038977
         ]
        },
        {
         "line": {
          "color": "rgba(0,100,0,0.5)",
          "width": 2
         },
         "mode": "lines",
         "showlegend": false,
         "type": "scatter3d",
         "x": [
          0.35353535353535354,
          0.35353535353535354
         ],
         "y": [
          0.2121212121212121,
          0.2121212121212121
         ],
         "z": [
          1.0006020266158202,
          0.9914485393443135
         ]
        },
        {
         "line": {
          "color": "rgba(0,100,0,0.5)",
          "width": 2
         },
         "mode": "lines",
         "showlegend": false,
         "type": "scatter3d",
         "x": [
          0.4545454545454546,
          0.4545454545454546
         ],
         "y": [
          0.2727272727272727,
          0.2727272727272727
         ],
         "z": [
          1.0979735525428067,
          0.9940958952041091
         ]
        },
        {
         "line": {
          "color": "rgba(0,100,0,0.5)",
          "width": 2
         },
         "mode": "lines",
         "showlegend": false,
         "type": "scatter3d",
         "x": [
          0.5555555555555556,
          0.5555555555555556
         ],
         "y": [
          0.3333333333333333,
          0.3333333333333333
         ],
         "z": [
          1.0600495130895715,
          0.9959253611761151
         ]
        },
        {
         "line": {
          "color": "rgba(0,100,0,0.5)",
          "width": 2
         },
         "mode": "lines",
         "showlegend": false,
         "type": "scatter3d",
         "x": [
          0.6565656565656566,
          0.6565656565656566
         ],
         "y": [
          0.393939393939394,
          0.393939393939394
         ],
         "z": [
          1.0234491357898623,
          0.9971887417948473
         ]
        },
        {
         "line": {
          "color": "rgba(0,100,0,0.5)",
          "width": 2
         },
         "mode": "lines",
         "showlegend": false,
         "type": "scatter3d",
         "x": [
          0.7575757575757576,
          0.7575757575757576
         ],
         "y": [
          0.4545454545454546,
          0.4545454545454546
         ],
         "z": [
          1.0435133644120163,
          0.9980607798006685
         ]
        },
        {
         "line": {
          "color": "rgba(0,100,0,0.5)",
          "width": 2
         },
         "mode": "lines",
         "showlegend": false,
         "type": "scatter3d",
         "x": [
          0.8585858585858586,
          0.8585858585858586
         ],
         "y": [
          0.5151515151515151,
          0.5151515151515151
         ],
         "z": [
          1.0731133619941635,
          0.9986624972026508
         ]
        },
        {
         "line": {
          "color": "rgba(0,100,0,0.5)",
          "width": 2
         },
         "mode": "lines",
         "showlegend": false,
         "type": "scatter3d",
         "x": [
          0.9595959595959596,
          0.9595959595959596
         ],
         "y": [
          0.5757575757575757,
          0.5757575757575757
         ],
         "z": [
          1.0555328070455992,
          0.9990775949081464
         ]
        },
        {
         "line": {
          "color": "rgba(0,100,0,0.5)",
          "width": 2
         },
         "mode": "lines",
         "showlegend": false,
         "type": "scatter3d",
         "x": [
          1.0606060606060606,
          1.0606060606060606
         ],
         "y": [
          0.6363636363636364,
          0.6363636363636364
         ],
         "z": [
          1.0436978327368593,
          0.9993639068889222
         ]
        },
        {
         "line": {
          "color": "rgba(0,100,0,0.5)",
          "width": 2
         },
         "mode": "lines",
         "showlegend": false,
         "type": "scatter3d",
         "x": [
          1.1616161616161615,
          1.1616161616161615
         ],
         "y": [
          0.696969696969697,
          0.696969696969697
         ],
         "z": [
          1.0603192454942238,
          0.999561367925107
         ]
        },
        {
         "line": {
          "color": "rgba(0,100,0,0.5)",
          "width": 2
         },
         "mode": "lines",
         "showlegend": false,
         "type": "scatter3d",
         "x": [
          1.2626262626262628,
          1.2626262626262628
         ],
         "y": [
          0.7575757575757576,
          0.7575757575757576
         ],
         "z": [
          1.0180624427314464,
          0.9996975408233063
         ]
        },
        {
         "line": {
          "color": "rgba(0,100,0,0.5)",
          "width": 2
         },
         "mode": "lines",
         "showlegend": false,
         "type": "scatter3d",
         "x": [
          1.3636363636363635,
          1.3636363636363635
         ],
         "y": [
          0.8181818181818181,
          0.8181818181818181
         ],
         "z": [
          1.0808573758971294,
          0.999791443387888
         ]
        },
        {
         "line": {
          "color": "rgba(0,100,0,0.5)",
          "width": 2
         },
         "mode": "lines",
         "showlegend": false,
         "type": "scatter3d",
         "x": [
          1.4646464646464645,
          1.4646464646464645
         ],
         "y": [
          0.8787878787878788,
          0.8787878787878788
         ],
         "z": [
          1.0818784855878574,
          0.9998561947208218
         ]
        },
        {
         "line": {
          "color": "rgba(0,100,0,0.5)",
          "width": 2
         },
         "mode": "lines",
         "showlegend": false,
         "type": "scatter3d",
         "x": [
          1.5656565656565657,
          1.5656565656565657
         ],
         "y": [
          0.9393939393939394,
          0.9393939393939394
         ],
         "z": [
          1.0487013131097425,
          0.9999008434677764
         ]
        },
        {
         "line": {
          "color": "rgba(0,100,0,0.5)",
          "width": 2
         },
         "mode": "lines",
         "showlegend": false,
         "type": "scatter3d",
         "x": [
          1.6666666666666665,
          1.6666666666666665
         ],
         "y": [
          1,
          1
         ],
         "z": [
          1.0755003155256044,
          0.9999316301196601
         ]
        },
        {
         "line": {
          "color": "rgba(0,100,0,0.5)",
          "width": 2
         },
         "mode": "lines",
         "showlegend": false,
         "type": "scatter3d",
         "x": [
          1.7676767676767677,
          1.7676767676767677
         ],
         "y": [
          1.0606060606060606,
          1.0606060606060606
         ],
         "z": [
          1.040435735770506,
          0.9999528581920845
         ]
        },
        {
         "line": {
          "color": "rgba(0,100,0,0.5)",
          "width": 2
         },
         "mode": "lines",
         "showlegend": false,
         "type": "scatter3d",
         "x": [
          1.8686868686868687,
          1.8686868686868687
         ],
         "y": [
          1.1212121212121213,
          1.1212121212121213
         ],
         "z": [
          1.0725621056174384,
          0.9999674952959047
         ]
        },
        {
         "line": {
          "color": "rgba(0,100,0,0.5)",
          "width": 2
         },
         "mode": "lines",
         "showlegend": false,
         "type": "scatter3d",
         "x": [
          1.9696969696969697,
          1.9696969696969697
         ],
         "y": [
          1.1818181818181817,
          1.1818181818181817
         ],
         "z": [
          1.0153979358647145,
          0.9999775877626648
         ]
        },
        {
         "line": {
          "color": "rgba(0,100,0,0.5)",
          "width": 2
         },
         "mode": "lines",
         "showlegend": false,
         "type": "scatter3d",
         "x": [
          2.070707070707071,
          2.070707070707071
         ],
         "y": [
          1.2424242424242424,
          1.2424242424242424
         ],
         "z": [
          1.050904704077972,
          0.9999845466184261
         ]
        },
        {
         "line": {
          "color": "rgba(0,100,0,0.5)",
          "width": 2
         },
         "mode": "lines",
         "showlegend": false,
         "type": "scatter3d",
         "x": [
          2.1717171717171717,
          2.1717171717171717
         ],
         "y": [
          1.3030303030303032,
          1.3030303030303032
         ],
         "z": [
          1.0668032451925582,
          0.9999893448056746
         ]
        },
        {
         "line": {
          "color": "rgba(0,100,0,0.5)",
          "width": 2
         },
         "mode": "lines",
         "showlegend": false,
         "type": "scatter3d",
         "x": [
          2.2727272727272725,
          2.2727272727272725
         ],
         "y": [
          1.3636363636363635,
          1.3636363636363635
         ],
         "z": [
          1.0152571621912765,
          0.9999926531884948
         ]
        },
        {
         "line": {
          "color": "rgba(0,100,0,0.5)",
          "width": 2
         },
         "mode": "lines",
         "showlegend": false,
         "type": "scatter3d",
         "x": [
          2.3737373737373737,
          2.3737373737373737
         ],
         "y": [
          1.4242424242424243,
          1.4242424242424243
         ],
         "z": [
          1.0062693415569364,
          0.999994934338134
         ]
        },
        {
         "line": {
          "color": "rgba(0,100,0,0.5)",
          "width": 2
         },
         "mode": "lines",
         "showlegend": false,
         "type": "scatter3d",
         "x": [
          2.474747474747475,
          2.474747474747475
         ],
         "y": [
          1.4848484848484849,
          1.4848484848484849
         ],
         "z": [
          1.0337114205580502,
          0.9999965072030179
         ]
        },
        {
         "line": {
          "color": "rgba(0,100,0,0.5)",
          "width": 2
         },
         "mode": "lines",
         "showlegend": false,
         "type": "scatter3d",
         "x": [
          2.5757575757575757,
          2.5757575757575757
         ],
         "y": [
          1.5454545454545454,
          1.5454545454545454
         ],
         "z": [
          1.0445942843394351,
          0.9999975917011238
         ]
        },
        {
         "line": {
          "color": "rgba(0,100,0,0.5)",
          "width": 2
         },
         "mode": "lines",
         "showlegend": false,
         "type": "scatter3d",
         "x": [
          2.676767676767677,
          2.676767676767677
         ],
         "y": [
          1.606060606060606,
          1.606060606060606
         ],
         "z": [
          1.075764791322691,
          0.9999983394676157
         ]
        },
        {
         "line": {
          "color": "rgba(0,100,0,0.5)",
          "width": 2
         },
         "mode": "lines",
         "showlegend": false,
         "type": "scatter3d",
         "x": [
          2.7777777777777777,
          2.7777777777777777
         ],
         "y": [
          1.6666666666666667,
          1.6666666666666667
         ],
         "z": [
          1.013053332345669,
          0.9999988550559458
         ]
        },
        {
         "line": {
          "color": "rgba(0,100,0,0.5)",
          "width": 2
         },
         "mode": "lines",
         "showlegend": false,
         "type": "scatter3d",
         "x": [
          2.878787878787879,
          2.878787878787879
         ],
         "y": [
          1.7272727272727275,
          1.7272727272727275
         ],
         "z": [
          1.0901511281043066,
          0.9999992105563283
         ]
        },
        {
         "line": {
          "color": "rgba(0,100,0,0.5)",
          "width": 2
         },
         "mode": "lines",
         "showlegend": false,
         "type": "scatter3d",
         "x": [
          2.9797979797979797,
          2.9797979797979797
         ],
         "y": [
          1.7878787878787876,
          1.7878787878787876
         ],
         "z": [
          1.0220338093055803,
          0.9999994556753458
         ]
        },
        {
         "line": {
          "color": "rgba(0,100,0,0.5)",
          "width": 2
         },
         "mode": "lines",
         "showlegend": false,
         "type": "scatter3d",
         "x": [
          3.0808080808080804,
          3.0808080808080804
         ],
         "y": [
          1.8484848484848484,
          1.8484848484848484
         ],
         "z": [
          1.0378550640529576,
          0.9999996246859295
         ]
        },
        {
         "line": {
          "color": "rgba(0,100,0,0.5)",
          "width": 2
         },
         "mode": "lines",
         "showlegend": false,
         "type": "scatter3d",
         "x": [
          3.1818181818181817,
          3.1818181818181817
         ],
         "y": [
          1.9090909090909092,
          1.9090909090909092
         ],
         "z": [
          1.042275585926939,
          0.9999997412194235
         ]
        },
        {
         "line": {
          "color": "rgba(0,100,0,0.5)",
          "width": 2
         },
         "mode": "lines",
         "showlegend": false,
         "type": "scatter3d",
         "x": [
          3.282828282828283,
          3.282828282828283
         ],
         "y": [
          1.9696969696969697,
          1.9696969696969697
         ],
         "z": [
          1.0972686170447485,
          0.9999998215697442
         ]
        },
        {
         "line": {
          "color": "rgba(0,100,0,0.5)",
          "width": 2
         },
         "mode": "lines",
         "showlegend": false,
         "type": "scatter3d",
         "x": [
          3.383838383838384,
          3.383838383838384
         ],
         "y": [
          2.0303030303030303,
          2.0303030303030303
         ],
         "z": [
          1.0177015993179503,
          0.9999998769716174
         ]
        },
        {
         "line": {
          "color": "rgba(0,100,0,0.5)",
          "width": 2
         },
         "mode": "lines",
         "showlegend": false,
         "type": "scatter3d",
         "x": [
          3.4848484848484853,
          3.4848484848484853
         ],
         "y": [
          2.090909090909091,
          2.090909090909091
         ],
         "z": [
          1.0882276498768944,
          0.9999999151714336
         ]
        },
        {
         "line": {
          "color": "rgba(0,100,0,0.5)",
          "width": 2
         },
         "mode": "lines",
         "showlegend": false,
         "type": "scatter3d",
         "x": [
          3.5858585858585856,
          3.5858585858585856
         ],
         "y": [
          2.1515151515151514,
          2.1515151515151514
         ],
         "z": [
          1.0551257332396937,
          0.9999999415103614
         ]
        },
        {
         "line": {
          "color": "rgba(0,100,0,0.5)",
          "width": 2
         },
         "mode": "lines",
         "showlegend": false,
         "type": "scatter3d",
         "x": [
          3.686868686868687,
          3.686868686868687
         ],
         "y": [
          2.212121212121212,
          2.212121212121212
         ],
         "z": [
          1.0321491900612425,
          0.9999999596711585
         ]
        },
        {
         "line": {
          "color": "rgba(0,100,0,0.5)",
          "width": 2
         },
         "mode": "lines",
         "showlegend": false,
         "type": "scatter3d",
         "x": [
          3.787878787878788,
          3.787878787878788
         ],
         "y": [
          2.2727272727272725,
          2.2727272727272725
         ],
         "z": [
          1.0899845597796185,
          0.9999999721931014
         ]
        },
        {
         "line": {
          "color": "rgba(0,100,0,0.5)",
          "width": 2
         },
         "mode": "lines",
         "showlegend": false,
         "type": "scatter3d",
         "x": [
          3.888888888888889,
          3.888888888888889
         ],
         "y": [
          2.3333333333333335,
          2.3333333333333335
         ],
         "z": [
          1.0542111719291447,
          0.9999999808270315
         ]
        },
        {
         "line": {
          "color": "rgba(0,100,0,0.5)",
          "width": 2
         },
         "mode": "lines",
         "showlegend": false,
         "type": "scatter3d",
         "x": [
          3.98989898989899,
          3.98989898989899
         ],
         "y": [
          2.393939393939394,
          2.393939393939394
         ],
         "z": [
          1.0462889255136243,
          0.999999986780161
         ]
        },
        {
         "line": {
          "color": "rgba(0,100,0,0.5)",
          "width": 2
         },
         "mode": "lines",
         "showlegend": false,
         "type": "scatter3d",
         "x": [
          4.090909090909091,
          4.090909090909091
         ],
         "y": [
          2.4545454545454546,
          2.4545454545454546
         ],
         "z": [
          1.0807974927413038,
          0.9999999908848678
         ]
        },
        {
         "line": {
          "color": "rgba(0,100,0,0.5)",
          "width": 2
         },
         "mode": "lines",
         "showlegend": false,
         "type": "scatter3d",
         "x": [
          4.191919191919192,
          4.191919191919192
         ],
         "y": [
          2.515151515151515,
          2.515151515151515
         ],
         "z": [
          1.036081824030038,
          0.9999999937150796
         ]
        },
        {
         "line": {
          "color": "rgba(0,100,0,0.5)",
          "width": 2
         },
         "mode": "lines",
         "showlegend": false,
         "type": "scatter3d",
         "x": [
          4.292929292929292,
          4.292929292929292
         ],
         "y": [
          2.5757575757575757,
          2.5757575757575757
         ],
         "z": [
          1.0971002979469462,
          0.9999999956665221
         ]
        },
        {
         "line": {
          "color": "rgba(0,100,0,0.5)",
          "width": 2
         },
         "mode": "lines",
         "showlegend": false,
         "type": "scatter3d",
         "x": [
          4.393939393939394,
          4.393939393939394
         ],
         "y": [
          2.6363636363636362,
          2.6363636363636362
         ],
         "z": [
          1.055551732432999,
          0.9999999970120496
         ]
        },
        {
         "line": {
          "color": "rgba(0,100,0,0.5)",
          "width": 2
         },
         "mode": "lines",
         "showlegend": false,
         "type": "scatter3d",
         "x": [
          4.494949494949495,
          4.494949494949495
         ],
         "y": [
          2.6969696969696972,
          2.6969696969696972
         ],
         "z": [
          1.0769819702468155,
          0.9999999979397961
         ]
        },
        {
         "line": {
          "color": "rgba(0,100,0,0.5)",
          "width": 2
         },
         "mode": "lines",
         "showlegend": false,
         "type": "scatter3d",
         "x": [
          4.595959595959596,
          4.595959595959596
         ],
         "y": [
          2.757575757575758,
          2.757575757575758
         ],
         "z": [
          1.0680121019061068,
          0.9999999985794812
         ]
        },
        {
         "line": {
          "color": "rgba(0,100,0,0.5)",
          "width": 2
         },
         "mode": "lines",
         "showlegend": false,
         "type": "scatter3d",
         "x": [
          4.696969696969697,
          4.696969696969697
         ],
         "y": [
          2.8181818181818183,
          2.8181818181818183
         ],
         "z": [
          1.020519955089146,
          0.9999999990205465
         ]
        },
        {
         "line": {
          "color": "rgba(0,100,0,0.5)",
          "width": 2
         },
         "mode": "lines",
         "showlegend": false,
         "type": "scatter3d",
         "x": [
          4.797979797979798,
          4.797979797979798
         ],
         "y": [
          2.878787878787879,
          2.878787878787879
         ],
         "z": [
          1.0834622933034845,
          0.9999999993246629
         ]
        },
        {
         "line": {
          "color": "rgba(0,100,0,0.5)",
          "width": 2
         },
         "mode": "lines",
         "showlegend": false,
         "type": "scatter3d",
         "x": [
          4.898989898989899,
          4.898989898989899
         ],
         "y": [
          2.9393939393939394,
          2.9393939393939394
         ],
         "z": [
          1.0865467029714968,
          0.9999999995343524
         ]
        },
        {
         "line": {
          "color": "rgba(0,100,0,0.5)",
          "width": 2
         },
         "mode": "lines",
         "showlegend": false,
         "type": "scatter3d",
         "x": [
          5,
          5
         ],
         "y": [
          3,
          3
         ],
         "z": [
          1.0041520782663516,
          0.999999999678934
         ]
        }
       ],
       "layout": {
        "annotations": [
         {
          "bgcolor": "rgba(255, 255, 255, 0.9)",
          "bordercolor": "black",
          "borderpad": 5,
          "borderwidth": 1,
          "font": {
           "size": 12
          },
          "showarrow": false,
          "text": "<b>Neurônio com tanh:</b> w=[0.9202, 1.5336, 2.0746]<br>MSE: 0.00806, RMSE: 0.08975, MAE: 0.06793",
          "x": 0.5,
          "xref": "paper",
          "y": 0.02,
          "yref": "paper"
         }
        ],
        "height": 700,
        "legend": {
         "bgcolor": "rgba(255,255,255,0.8)",
         "bordercolor": "black",
         "borderwidth": 1,
         "x": 0.01,
         "xanchor": "left",
         "y": 0.99,
         "yanchor": "top"
        },
        "scene": {
         "aspectmode": "manual",
         "aspectratio": {
          "x": 1,
          "y": 1,
          "z": 2
         },
         "camera": {
          "eye": {
           "x": 1.8,
           "y": 1.8,
           "z": 1.2
          },
          "up": {
           "x": 0,
           "y": 0,
           "z": 1
          }
         },
         "xaxis": {
          "gridcolor": "lightgray",
          "title": {
           "text": "x1"
          }
         },
         "yaxis": {
          "gridcolor": "lightgray",
          "title": {
           "text": "x2"
          }
         },
         "zaxis": {
          "gridcolor": "lightgray",
          "title": {
           "text": "y"
          }
         }
        },
        "template": {
         "data": {
          "bar": [
           {
            "error_x": {
             "color": "#2a3f5f"
            },
            "error_y": {
             "color": "#2a3f5f"
            },
            "marker": {
             "line": {
              "color": "#E5ECF6",
              "width": 0.5
             },
             "pattern": {
              "fillmode": "overlay",
              "size": 10,
              "solidity": 0.2
             }
            },
            "type": "bar"
           }
          ],
          "barpolar": [
           {
            "marker": {
             "line": {
              "color": "#E5ECF6",
              "width": 0.5
             },
             "pattern": {
              "fillmode": "overlay",
              "size": 10,
              "solidity": 0.2
             }
            },
            "type": "barpolar"
           }
          ],
          "carpet": [
           {
            "aaxis": {
             "endlinecolor": "#2a3f5f",
             "gridcolor": "white",
             "linecolor": "white",
             "minorgridcolor": "white",
             "startlinecolor": "#2a3f5f"
            },
            "baxis": {
             "endlinecolor": "#2a3f5f",
             "gridcolor": "white",
             "linecolor": "white",
             "minorgridcolor": "white",
             "startlinecolor": "#2a3f5f"
            },
            "type": "carpet"
           }
          ],
          "choropleth": [
           {
            "colorbar": {
             "outlinewidth": 0,
             "ticks": ""
            },
            "type": "choropleth"
           }
          ],
          "contour": [
           {
            "colorbar": {
             "outlinewidth": 0,
             "ticks": ""
            },
            "colorscale": [
             [
              0,
              "#0d0887"
             ],
             [
              0.1111111111111111,
              "#46039f"
             ],
             [
              0.2222222222222222,
              "#7201a8"
             ],
             [
              0.3333333333333333,
              "#9c179e"
             ],
             [
              0.4444444444444444,
              "#bd3786"
             ],
             [
              0.5555555555555556,
              "#d8576b"
             ],
             [
              0.6666666666666666,
              "#ed7953"
             ],
             [
              0.7777777777777778,
              "#fb9f3a"
             ],
             [
              0.8888888888888888,
              "#fdca26"
             ],
             [
              1,
              "#f0f921"
             ]
            ],
            "type": "contour"
           }
          ],
          "contourcarpet": [
           {
            "colorbar": {
             "outlinewidth": 0,
             "ticks": ""
            },
            "type": "contourcarpet"
           }
          ],
          "heatmap": [
           {
            "colorbar": {
             "outlinewidth": 0,
             "ticks": ""
            },
            "colorscale": [
             [
              0,
              "#0d0887"
             ],
             [
              0.1111111111111111,
              "#46039f"
             ],
             [
              0.2222222222222222,
              "#7201a8"
             ],
             [
              0.3333333333333333,
              "#9c179e"
             ],
             [
              0.4444444444444444,
              "#bd3786"
             ],
             [
              0.5555555555555556,
              "#d8576b"
             ],
             [
              0.6666666666666666,
              "#ed7953"
             ],
             [
              0.7777777777777778,
              "#fb9f3a"
             ],
             [
              0.8888888888888888,
              "#fdca26"
             ],
             [
              1,
              "#f0f921"
             ]
            ],
            "type": "heatmap"
           }
          ],
          "histogram": [
           {
            "marker": {
             "pattern": {
              "fillmode": "overlay",
              "size": 10,
              "solidity": 0.2
             }
            },
            "type": "histogram"
           }
          ],
          "histogram2d": [
           {
            "colorbar": {
             "outlinewidth": 0,
             "ticks": ""
            },
            "colorscale": [
             [
              0,
              "#0d0887"
             ],
             [
              0.1111111111111111,
              "#46039f"
             ],
             [
              0.2222222222222222,
              "#7201a8"
             ],
             [
              0.3333333333333333,
              "#9c179e"
             ],
             [
              0.4444444444444444,
              "#bd3786"
             ],
             [
              0.5555555555555556,
              "#d8576b"
             ],
             [
              0.6666666666666666,
              "#ed7953"
             ],
             [
              0.7777777777777778,
              "#fb9f3a"
             ],
             [
              0.8888888888888888,
              "#fdca26"
             ],
             [
              1,
              "#f0f921"
             ]
            ],
            "type": "histogram2d"
           }
          ],
          "histogram2dcontour": [
           {
            "colorbar": {
             "outlinewidth": 0,
             "ticks": ""
            },
            "colorscale": [
             [
              0,
              "#0d0887"
             ],
             [
              0.1111111111111111,
              "#46039f"
             ],
             [
              0.2222222222222222,
              "#7201a8"
             ],
             [
              0.3333333333333333,
              "#9c179e"
             ],
             [
              0.4444444444444444,
              "#bd3786"
             ],
             [
              0.5555555555555556,
              "#d8576b"
             ],
             [
              0.6666666666666666,
              "#ed7953"
             ],
             [
              0.7777777777777778,
              "#fb9f3a"
             ],
             [
              0.8888888888888888,
              "#fdca26"
             ],
             [
              1,
              "#f0f921"
             ]
            ],
            "type": "histogram2dcontour"
           }
          ],
          "mesh3d": [
           {
            "colorbar": {
             "outlinewidth": 0,
             "ticks": ""
            },
            "type": "mesh3d"
           }
          ],
          "parcoords": [
           {
            "line": {
             "colorbar": {
              "outlinewidth": 0,
              "ticks": ""
             }
            },
            "type": "parcoords"
           }
          ],
          "pie": [
           {
            "automargin": true,
            "type": "pie"
           }
          ],
          "scatter": [
           {
            "fillpattern": {
             "fillmode": "overlay",
             "size": 10,
             "solidity": 0.2
            },
            "type": "scatter"
           }
          ],
          "scatter3d": [
           {
            "line": {
             "colorbar": {
              "outlinewidth": 0,
              "ticks": ""
             }
            },
            "marker": {
             "colorbar": {
              "outlinewidth": 0,
              "ticks": ""
             }
            },
            "type": "scatter3d"
           }
          ],
          "scattercarpet": [
           {
            "marker": {
             "colorbar": {
              "outlinewidth": 0,
              "ticks": ""
             }
            },
            "type": "scattercarpet"
           }
          ],
          "scattergeo": [
           {
            "marker": {
             "colorbar": {
              "outlinewidth": 0,
              "ticks": ""
             }
            },
            "type": "scattergeo"
           }
          ],
          "scattergl": [
           {
            "marker": {
             "colorbar": {
              "outlinewidth": 0,
              "ticks": ""
             }
            },
            "type": "scattergl"
           }
          ],
          "scattermap": [
           {
            "marker": {
             "colorbar": {
              "outlinewidth": 0,
              "ticks": ""
             }
            },
            "type": "scattermap"
           }
          ],
          "scattermapbox": [
           {
            "marker": {
             "colorbar": {
              "outlinewidth": 0,
              "ticks": ""
             }
            },
            "type": "scattermapbox"
           }
          ],
          "scatterpolar": [
           {
            "marker": {
             "colorbar": {
              "outlinewidth": 0,
              "ticks": ""
             }
            },
            "type": "scatterpolar"
           }
          ],
          "scatterpolargl": [
           {
            "marker": {
             "colorbar": {
              "outlinewidth": 0,
              "ticks": ""
             }
            },
            "type": "scatterpolargl"
           }
          ],
          "scatterternary": [
           {
            "marker": {
             "colorbar": {
              "outlinewidth": 0,
              "ticks": ""
             }
            },
            "type": "scatterternary"
           }
          ],
          "surface": [
           {
            "colorbar": {
             "outlinewidth": 0,
             "ticks": ""
            },
            "colorscale": [
             [
              0,
              "#0d0887"
             ],
             [
              0.1111111111111111,
              "#46039f"
             ],
             [
              0.2222222222222222,
              "#7201a8"
             ],
             [
              0.3333333333333333,
              "#9c179e"
             ],
             [
              0.4444444444444444,
              "#bd3786"
             ],
             [
              0.5555555555555556,
              "#d8576b"
             ],
             [
              0.6666666666666666,
              "#ed7953"
             ],
             [
              0.7777777777777778,
              "#fb9f3a"
             ],
             [
              0.8888888888888888,
              "#fdca26"
             ],
             [
              1,
              "#f0f921"
             ]
            ],
            "type": "surface"
           }
          ],
          "table": [
           {
            "cells": {
             "fill": {
              "color": "#EBF0F8"
             },
             "line": {
              "color": "white"
             }
            },
            "header": {
             "fill": {
              "color": "#C8D4E3"
             },
             "line": {
              "color": "white"
             }
            },
            "type": "table"
           }
          ]
         },
         "layout": {
          "annotationdefaults": {
           "arrowcolor": "#2a3f5f",
           "arrowhead": 0,
           "arrowwidth": 1
          },
          "autotypenumbers": "strict",
          "coloraxis": {
           "colorbar": {
            "outlinewidth": 0,
            "ticks": ""
           }
          },
          "colorscale": {
           "diverging": [
            [
             0,
             "#8e0152"
            ],
            [
             0.1,
             "#c51b7d"
            ],
            [
             0.2,
             "#de77ae"
            ],
            [
             0.3,
             "#f1b6da"
            ],
            [
             0.4,
             "#fde0ef"
            ],
            [
             0.5,
             "#f7f7f7"
            ],
            [
             0.6,
             "#e6f5d0"
            ],
            [
             0.7,
             "#b8e186"
            ],
            [
             0.8,
             "#7fbc41"
            ],
            [
             0.9,
             "#4d9221"
            ],
            [
             1,
             "#276419"
            ]
           ],
           "sequential": [
            [
             0,
             "#0d0887"
            ],
            [
             0.1111111111111111,
             "#46039f"
            ],
            [
             0.2222222222222222,
             "#7201a8"
            ],
            [
             0.3333333333333333,
             "#9c179e"
            ],
            [
             0.4444444444444444,
             "#bd3786"
            ],
            [
             0.5555555555555556,
             "#d8576b"
            ],
            [
             0.6666666666666666,
             "#ed7953"
            ],
            [
             0.7777777777777778,
             "#fb9f3a"
            ],
            [
             0.8888888888888888,
             "#fdca26"
            ],
            [
             1,
             "#f0f921"
            ]
           ],
           "sequentialminus": [
            [
             0,
             "#0d0887"
            ],
            [
             0.1111111111111111,
             "#46039f"
            ],
            [
             0.2222222222222222,
             "#7201a8"
            ],
            [
             0.3333333333333333,
             "#9c179e"
            ],
            [
             0.4444444444444444,
             "#bd3786"
            ],
            [
             0.5555555555555556,
             "#d8576b"
            ],
            [
             0.6666666666666666,
             "#ed7953"
            ],
            [
             0.7777777777777778,
             "#fb9f3a"
            ],
            [
             0.8888888888888888,
             "#fdca26"
            ],
            [
             1,
             "#f0f921"
            ]
           ]
          },
          "colorway": [
           "#636efa",
           "#EF553B",
           "#00cc96",
           "#ab63fa",
           "#FFA15A",
           "#19d3f3",
           "#FF6692",
           "#B6E880",
           "#FF97FF",
           "#FECB52"
          ],
          "font": {
           "color": "#2a3f5f"
          },
          "geo": {
           "bgcolor": "white",
           "lakecolor": "white",
           "landcolor": "#E5ECF6",
           "showlakes": true,
           "showland": true,
           "subunitcolor": "white"
          },
          "hoverlabel": {
           "align": "left"
          },
          "hovermode": "closest",
          "mapbox": {
           "style": "light"
          },
          "paper_bgcolor": "white",
          "plot_bgcolor": "#E5ECF6",
          "polar": {
           "angularaxis": {
            "gridcolor": "white",
            "linecolor": "white",
            "ticks": ""
           },
           "bgcolor": "#E5ECF6",
           "radialaxis": {
            "gridcolor": "white",
            "linecolor": "white",
            "ticks": ""
           }
          },
          "scene": {
           "xaxis": {
            "backgroundcolor": "#E5ECF6",
            "gridcolor": "white",
            "gridwidth": 2,
            "linecolor": "white",
            "showbackground": true,
            "ticks": "",
            "zerolinecolor": "white"
           },
           "yaxis": {
            "backgroundcolor": "#E5ECF6",
            "gridcolor": "white",
            "gridwidth": 2,
            "linecolor": "white",
            "showbackground": true,
            "ticks": "",
            "zerolinecolor": "white"
           },
           "zaxis": {
            "backgroundcolor": "#E5ECF6",
            "gridcolor": "white",
            "gridwidth": 2,
            "linecolor": "white",
            "showbackground": true,
            "ticks": "",
            "zerolinecolor": "white"
           }
          },
          "shapedefaults": {
           "line": {
            "color": "#2a3f5f"
           }
          },
          "ternary": {
           "aaxis": {
            "gridcolor": "white",
            "linecolor": "white",
            "ticks": ""
           },
           "baxis": {
            "gridcolor": "white",
            "linecolor": "white",
            "ticks": ""
           },
           "bgcolor": "#E5ECF6",
           "caxis": {
            "gridcolor": "white",
            "linecolor": "white",
            "ticks": ""
           }
          },
          "title": {
           "x": 0.05
          },
          "xaxis": {
           "automargin": true,
           "gridcolor": "white",
           "linecolor": "white",
           "ticks": "",
           "title": {
            "standoff": 15
           },
           "zerolinecolor": "white",
           "zerolinewidth": 2
          },
          "yaxis": {
           "automargin": true,
           "gridcolor": "white",
           "linecolor": "white",
           "ticks": "",
           "title": {
            "standoff": 15
           },
           "zerolinecolor": "white",
           "zerolinewidth": 2
          }
         }
        },
        "title": {
         "text": "Comparação: Superfície Original vs. Prevista"
        },
        "width": 900
       }
      }
     },
     "metadata": {},
     "output_type": "display_data"
    }
   ],
   "source": [
    "# Criar grade para superfície prevista\n",
    "x1_range = np.linspace(min(x1_data), max(x1_data), 30)\n",
    "x2_range = np.linspace(min(x2_data), max(x2_data), 30)\n",
    "x1_grid, x2_grid = np.meshgrid(x1_range, x2_range)\n",
    "y_grid = np.zeros_like(x1_grid)\n",
    "\n",
    "fig_surface = plot_predicted_surface_comparison(\n",
    "    fig_surface,\n",
    "    x1_data, x2_data, y_data, y_hat,\n",
    "    final_denorm_weights,\n",
    "    neuron_fn=neuron,\n",
    "    mse_final=mse_final, rmse_final=rmse_final, mae_final=mae_final\n",
    ")"
   ]
  }
 ],
 "metadata": {
  "kernelspec": {
   "display_name": "rna-tarefas-mestrado (3.13.2)",
   "language": "python",
   "name": "python3"
  },
  "language_info": {
   "codemirror_mode": {
    "name": "ipython",
    "version": 3
   },
   "file_extension": ".py",
   "mimetype": "text/x-python",
   "name": "python",
   "nbconvert_exporter": "python",
   "pygments_lexer": "ipython3",
   "version": "3.13.2"
  }
 },
 "nbformat": 4,
 "nbformat_minor": 5
}
