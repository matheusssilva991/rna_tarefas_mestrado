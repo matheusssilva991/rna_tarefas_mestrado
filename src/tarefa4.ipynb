{
 "cells": [
  {
   "cell_type": "code",
   "execution_count": 1,
   "id": "749e9c66",
   "metadata": {},
   "outputs": [],
   "source": [
    "import numpy as np\n",
    "import sys\n",
    "import os\n",
    "import pandas as pd\n",
    "import plotly.graph_objects as go\n",
    "\n",
    "sys.path.append(os.path.abspath(\"../libs\"))\n",
    "sys.path.append(os.path.abspath(\"../utils\"))\n",
    "\n",
    "from levenberg_marquadt import levenberg_marquadt\n",
    "from normalize import StandardScaler\n",
    "from loss_fn_tarefa4 import make_mse_loss_for_neuron\n",
    "\n",
    "pd.set_option('display.float_format', '{:.5f}'.format)"
   ]
  },
  {
   "cell_type": "markdown",
   "id": "f77a74e5",
   "metadata": {},
   "source": [
    "# Ajuste de curva por otimização"
   ]
  },
  {
   "cell_type": "markdown",
   "id": "76c8d133",
   "metadata": {},
   "source": [
    "## Carregar os dados"
   ]
  },
  {
   "cell_type": "code",
   "execution_count": 2,
   "id": "037534c3",
   "metadata": {},
   "outputs": [
    {
     "data": {
      "text/html": [
       "<div>\n",
       "<style scoped>\n",
       "    .dataframe tbody tr th:only-of-type {\n",
       "        vertical-align: middle;\n",
       "    }\n",
       "\n",
       "    .dataframe tbody tr th {\n",
       "        vertical-align: top;\n",
       "    }\n",
       "\n",
       "    .dataframe thead th {\n",
       "        text-align: right;\n",
       "    }\n",
       "</style>\n",
       "<table border=\"1\" class=\"dataframe\">\n",
       "  <thead>\n",
       "    <tr style=\"text-align: right;\">\n",
       "      <th></th>\n",
       "      <th>x1</th>\n",
       "      <th>x2</th>\n",
       "      <th>y</th>\n",
       "    </tr>\n",
       "  </thead>\n",
       "  <tbody>\n",
       "    <tr>\n",
       "      <th>0</th>\n",
       "      <td>-5.00000</td>\n",
       "      <td>-3.00000</td>\n",
       "      <td>-0.91722</td>\n",
       "    </tr>\n",
       "    <tr>\n",
       "      <th>1</th>\n",
       "      <td>-4.89899</td>\n",
       "      <td>-2.93939</td>\n",
       "      <td>-0.93968</td>\n",
       "    </tr>\n",
       "    <tr>\n",
       "      <th>2</th>\n",
       "      <td>-4.79798</td>\n",
       "      <td>-2.87879</td>\n",
       "      <td>-0.91822</td>\n",
       "    </tr>\n",
       "    <tr>\n",
       "      <th>3</th>\n",
       "      <td>-4.69697</td>\n",
       "      <td>-2.81818</td>\n",
       "      <td>-0.90445</td>\n",
       "    </tr>\n",
       "    <tr>\n",
       "      <th>4</th>\n",
       "      <td>-4.59596</td>\n",
       "      <td>-2.75758</td>\n",
       "      <td>-0.93496</td>\n",
       "    </tr>\n",
       "  </tbody>\n",
       "</table>\n",
       "</div>"
      ],
      "text/plain": [
       "        x1       x2        y\n",
       "0 -5.00000 -3.00000 -0.91722\n",
       "1 -4.89899 -2.93939 -0.93968\n",
       "2 -4.79798 -2.87879 -0.91822\n",
       "3 -4.69697 -2.81818 -0.90445\n",
       "4 -4.59596 -2.75758 -0.93496"
      ]
     },
     "execution_count": 2,
     "metadata": {},
     "output_type": "execute_result"
    }
   ],
   "source": [
    "# Carregamento dos dados\n",
    "df = pd.read_excel('../data/Trabalho4dados.xlsx')\n",
    "\n",
    "df.head()"
   ]
  },
  {
   "cell_type": "markdown",
   "id": "1983fdde",
   "metadata": {},
   "source": [
    "## EDA dados"
   ]
  },
  {
   "cell_type": "code",
   "execution_count": 3,
   "id": "d9f7363f",
   "metadata": {},
   "outputs": [
    {
     "data": {
      "text/html": [
       "<div>\n",
       "<style scoped>\n",
       "    .dataframe tbody tr th:only-of-type {\n",
       "        vertical-align: middle;\n",
       "    }\n",
       "\n",
       "    .dataframe tbody tr th {\n",
       "        vertical-align: top;\n",
       "    }\n",
       "\n",
       "    .dataframe thead th {\n",
       "        text-align: right;\n",
       "    }\n",
       "</style>\n",
       "<table border=\"1\" class=\"dataframe\">\n",
       "  <thead>\n",
       "    <tr style=\"text-align: right;\">\n",
       "      <th></th>\n",
       "      <th>x1</th>\n",
       "      <th>x2</th>\n",
       "      <th>y</th>\n",
       "    </tr>\n",
       "  </thead>\n",
       "  <tbody>\n",
       "    <tr>\n",
       "      <th>count</th>\n",
       "      <td>100.00000</td>\n",
       "      <td>100.00000</td>\n",
       "      <td>100.00000</td>\n",
       "    </tr>\n",
       "    <tr>\n",
       "      <th>mean</th>\n",
       "      <td>0.00000</td>\n",
       "      <td>-0.00000</td>\n",
       "      <td>0.27400</td>\n",
       "    </tr>\n",
       "    <tr>\n",
       "      <th>std</th>\n",
       "      <td>2.93045</td>\n",
       "      <td>1.75827</td>\n",
       "      <td>0.93269</td>\n",
       "    </tr>\n",
       "    <tr>\n",
       "      <th>min</th>\n",
       "      <td>-5.00000</td>\n",
       "      <td>-3.00000</td>\n",
       "      <td>-0.99989</td>\n",
       "    </tr>\n",
       "    <tr>\n",
       "      <th>25%</th>\n",
       "      <td>-2.50000</td>\n",
       "      <td>-1.50000</td>\n",
       "      <td>-0.91039</td>\n",
       "    </tr>\n",
       "    <tr>\n",
       "      <th>50%</th>\n",
       "      <td>0.00000</td>\n",
       "      <td>0.00000</td>\n",
       "      <td>1.00238</td>\n",
       "    </tr>\n",
       "    <tr>\n",
       "      <th>75%</th>\n",
       "      <td>2.50000</td>\n",
       "      <td>1.50000</td>\n",
       "      <td>1.05173</td>\n",
       "    </tr>\n",
       "    <tr>\n",
       "      <th>max</th>\n",
       "      <td>5.00000</td>\n",
       "      <td>3.00000</td>\n",
       "      <td>1.09797</td>\n",
       "    </tr>\n",
       "  </tbody>\n",
       "</table>\n",
       "</div>"
      ],
      "text/plain": [
       "             x1        x2         y\n",
       "count 100.00000 100.00000 100.00000\n",
       "mean    0.00000  -0.00000   0.27400\n",
       "std     2.93045   1.75827   0.93269\n",
       "min    -5.00000  -3.00000  -0.99989\n",
       "25%    -2.50000  -1.50000  -0.91039\n",
       "50%     0.00000   0.00000   1.00238\n",
       "75%     2.50000   1.50000   1.05173\n",
       "max     5.00000   3.00000   1.09797"
      ]
     },
     "execution_count": 3,
     "metadata": {},
     "output_type": "execute_result"
    }
   ],
   "source": [
    "df.describe()"
   ]
  },
  {
   "cell_type": "code",
   "execution_count": 4,
   "id": "ef14e37c",
   "metadata": {},
   "outputs": [
    {
     "data": {
      "text/plain": [
       "x1    0\n",
       "x2    0\n",
       "y     0\n",
       "dtype: int64"
      ]
     },
     "execution_count": 4,
     "metadata": {},
     "output_type": "execute_result"
    }
   ],
   "source": [
    "df.isna().sum()"
   ]
  },
  {
   "cell_type": "code",
   "execution_count": 5,
   "id": "32edf9b1",
   "metadata": {},
   "outputs": [
    {
     "data": {
      "application/vnd.plotly.v1+json": {
       "config": {
        "plotlyServerURL": "https://plot.ly"
       },
       "data": [
        {
         "marker": {
          "color": "red",
          "size": 3,
          "symbol": "circle"
         },
         "mode": "markers",
         "name": "Pontos de Dados Originais",
         "type": "scatter3d",
         "x": {
          "bdata": "AAAAAAAAFMBDYt7OkJgTwIbEvJ0hMRPAyiabbLLJEsANiXk7Q2ISwFDrVwrU+hHAk0022WSTEcDWrxSo9SsRwBoS83aGxBDAXXTRRRddEMBBrV8pUOsPwMdxHMdxHA/ATjbZZJNNDsDU+pUCtX4NwFq/UqDWrwzA4oMPPvjgC8BoSMzbGRILwO4MiXk7QwrAdNFFF110CcD6lQK1fqUIwIFav1Kg1gfACB988MEHB8CO4ziO4zgGwBWo9SsFagXAm2yyySabBMAiMW9nSMwDwKj1KwVq/QLALrrooosuAsC1fqVArV8BwDxDYt7OkADAhA8++OCD/7+RmLczJOb9v54hMW9nSPy/qqqqqqqq+r+4MyTm7Qz5v8S8nSExb/e/0UUXXXTR9b/fzpCYtzP0v+tXCtT6lfK/+OCDDz748L8K1PqVArXuvyTm7QyJeeu/Pvjggw8+6L9YCtT6lQLlv3Icx3Ecx+G/GF100UUX3b9LgVq/UqDWv3+lQK1fKdC/ZZNNNtlkw78yb2dIzNupvzJvZ0jM26k/ZZNNNtlkwz9/pUCtXynQP0uBWr9SoNY/GF100UUX3T9yHMdxHMfhP1gK1PqVAuU/Pvjggw8+6D8k5u0MiXnrPwrU+pUCte4/+OCDDz748D/rVwrU+pXyP9/OkJi3M/Q/0UUXXXTR9T/EvJ0hMW/3P7gzJObtDPk/qqqqqqqq+j+eITFvZ0j8P5GYtzMk5v0/hA8++OCD/z88Q2LezpAAQLV+pUCtXwFALrrooosuAkCo9SsFav0CQCIxb2dIzANAm2yyySabBEAVqPUrBWoFQI7jOI7jOAZACB988MEHB0CBWr9SoNYHQPqVArV+pQhAdNFFF110CUDuDIl5O0MKQGhIzNsZEgtA4oMPPvjgC0Bav1Kg1q8MQNT6lQK1fg1ATjbZZJNNDkDHcRzHcRwPQEGtXylQ6w9AXXTRRRddEEAaEvN2hsQQQNavFKj1KxFAk0022WSTEUBQ61cK1PoRQA2JeTtDYhJAyiabbLLJEkCGxLydITETQENi3s6QmBNAAAAAAAAAFEA=",
          "dtype": "f8"
         },
         "y": {
          "bdata": "AAAAAAAACMCEDz744IMHwAgffPDBBwfAjC666KKLBsAQPvjggw8GwJRNNtlkkwXAF1100UUXBcCbbLLJJpsEwB988MEHHwTAo4suuuiiA8Anm2yyySYDwKuqqqqqqgLALrrooosuAsCyySabbLIBwDbZZJNNNgHAuuiiiy66AMA++OCDDz4AwIQPPvjgg/+/jC666KKL/r+TTTbZZJP9v5pssskmm/y/pIsuuuii+7+rqqqqqqr6v7LJJptssvm/uuiiiy66+L/CBx988MH3v8omm2yyyfa/0UUXXXTR9b/aZJNNNtn0v+GDDz744PO/6KKLLrro8r/xwQcffPDxv/jggw8++PC/AAAAAAAA8L8QPvjggw/uvx988MEHH+y/Lrrooosu6r8++OCDDz7ov0422WSTTea/XXTRRRdd5L9ssskmm2ziv3zwwQcffOC/GF100UUX3b832WSTTTbZv1VVVVVVVdW/dNFFF1100b8mm2yyySbLv2WTTTbZZMO/RhdddNFFt78IH3zwwQefvwgffPDBB58/RhdddNFFtz9lk0022WTDPyabbLLJJss/dNFFF1100T9VVVVVVVXVPzfZZJNNNtk/GF100UUX3T988MEHH3zgP2yyySabbOI/XXTRRRdd5D9ONtlkk03mPz744IMPPug/Lrrooosu6j8ffPDBBx/sPxA++OCDD+4/AAAAAAAA8D/44IMPPvjwP/HBBx988PE/6KKLLrro8j/hgw8++ODzP9pkk0022fQ/0UUXXXTR9T/KJptsssn2P8IHH3zwwfc/uuiiiy66+D+yySabbLL5P6uqqqqqqvo/pIsuuuii+z+abLLJJpv8P5NNNtlkk/0/jC666KKL/j+EDz744IP/Pz744IMPPgBAuuiiiy66AEA22WSTTTYBQLLJJptssgFALrrooosuAkCrqqqqqqoCQCebbLLJJgNAo4suuuiiA0AffPDBBx8EQJtssskmmwRAF1100UUXBUCUTTbZZJMFQBA++OCDDwZAjC666KKLBkAIH3zwwQcHQIQPPvjggwdAAAAAAAAACEA=",
          "dtype": "f8"
         },
         "z": {
          "bdata": "o82WIehZ7b+f9iyd0xHuvyFs1NUFYu2/FjUYCDfx7L+x70guNevtv4xGsiDU/e2/rzVDDVXu7b8zHgVKGM3vvyJU3RNq/+y/CaKEFMMf7b9ZR6UetMbtvwRRKq2bAe+/vANwMobm7r9lx2oaesHvvzGCYgmzVe6/QBmtA9EM7r9///1tjKvtvyeSEjYQ/++/Gr9mzO5y778gXEfo74Luvy88moxS0u6/jGtiJAby7L8IHVM8Tf3sv8Ng/flX3uy/sHq4Jk5M779s/J6qvF/vvxhjWx/mCO6/hLfSVSWb7b/OYRh+Pijtv/w1Kg43QO2/dkYMWZQz7L+jbEO8rfDsv5Hmx1kdZ+6/uPBlKYkv7L8IOeGbLrbqv7nTkSb4ytS/yveRzCy93L+mLompl3GrP2+20qOFR6E/3Nj9WEU8uT/A65SOTf+Lv8r6eDHQpOk/jF2CsGt96T+ChwnEixPlPyU+qYyAhew/YGguEOCR7j+ZZCRDES/vP94g/zxRte8/VbFMxDaH8D/z7SnVi23vPzvzpVCXUfA/8gu6Ly048T8IL11CQlbwPzMFSkV3AvA/bLVAt0yR8T9WxG169vXwPwhkdTMMYPA/qWrRETuy8D8PpqrqeCvxP9baYV524/A/miyof/yy8D8weStQEffwPzcUDdj7SfA/lOWRGjFL8T+fiJ3QX0/xP/JBMQd7x/A/i1Kg0T818T+XlSvxn6XwP4rk6OE2KfE/C3Dv5xE/8D+go3NzgdDwPznmlUegEfE/xEJKS34+8D+dRY/hrRnwP8XGjPwUivA/7jgNf6i28D8jtU4kVTbxP5p0OGl3NfA/8XwuT0Jx8T/0+qUfQFrwP+qGYekNm/A/aJsvKimt8D9FJpKJaY7xPxeF4niBSPA/7C9tZWFp8T+K61aFy+HwP6t+ft6ug/A/7F9WppNw8T9WN6iIDN7wP8v303SZvfA/XsPOT/JK8T9PBuOIypPwP+fSwQq5jfE/8JKgNorj8D+td0lyUTvxPwO0ltuTFvE/UV+AuwxU8D+EAMOO3FXxP2Jtrct+YvE/otQFxQER8D8=",
          "dtype": "f8"
         }
        }
       ],
       "layout": {
        "margin": {
         "b": 0,
         "l": 0,
         "r": 0,
         "t": 50
        },
        "scene": {
         "xaxis": {
          "title": {
           "text": "Eixo X1"
          }
         },
         "yaxis": {
          "title": {
           "text": "Eixo X2"
          }
         },
         "zaxis": {
          "title": {
           "text": "Eixo Y (Valor)"
          }
         }
        },
        "template": {
         "data": {
          "bar": [
           {
            "error_x": {
             "color": "#2a3f5f"
            },
            "error_y": {
             "color": "#2a3f5f"
            },
            "marker": {
             "line": {
              "color": "#E5ECF6",
              "width": 0.5
             },
             "pattern": {
              "fillmode": "overlay",
              "size": 10,
              "solidity": 0.2
             }
            },
            "type": "bar"
           }
          ],
          "barpolar": [
           {
            "marker": {
             "line": {
              "color": "#E5ECF6",
              "width": 0.5
             },
             "pattern": {
              "fillmode": "overlay",
              "size": 10,
              "solidity": 0.2
             }
            },
            "type": "barpolar"
           }
          ],
          "carpet": [
           {
            "aaxis": {
             "endlinecolor": "#2a3f5f",
             "gridcolor": "white",
             "linecolor": "white",
             "minorgridcolor": "white",
             "startlinecolor": "#2a3f5f"
            },
            "baxis": {
             "endlinecolor": "#2a3f5f",
             "gridcolor": "white",
             "linecolor": "white",
             "minorgridcolor": "white",
             "startlinecolor": "#2a3f5f"
            },
            "type": "carpet"
           }
          ],
          "choropleth": [
           {
            "colorbar": {
             "outlinewidth": 0,
             "ticks": ""
            },
            "type": "choropleth"
           }
          ],
          "contour": [
           {
            "colorbar": {
             "outlinewidth": 0,
             "ticks": ""
            },
            "colorscale": [
             [
              0,
              "#0d0887"
             ],
             [
              0.1111111111111111,
              "#46039f"
             ],
             [
              0.2222222222222222,
              "#7201a8"
             ],
             [
              0.3333333333333333,
              "#9c179e"
             ],
             [
              0.4444444444444444,
              "#bd3786"
             ],
             [
              0.5555555555555556,
              "#d8576b"
             ],
             [
              0.6666666666666666,
              "#ed7953"
             ],
             [
              0.7777777777777778,
              "#fb9f3a"
             ],
             [
              0.8888888888888888,
              "#fdca26"
             ],
             [
              1,
              "#f0f921"
             ]
            ],
            "type": "contour"
           }
          ],
          "contourcarpet": [
           {
            "colorbar": {
             "outlinewidth": 0,
             "ticks": ""
            },
            "type": "contourcarpet"
           }
          ],
          "heatmap": [
           {
            "colorbar": {
             "outlinewidth": 0,
             "ticks": ""
            },
            "colorscale": [
             [
              0,
              "#0d0887"
             ],
             [
              0.1111111111111111,
              "#46039f"
             ],
             [
              0.2222222222222222,
              "#7201a8"
             ],
             [
              0.3333333333333333,
              "#9c179e"
             ],
             [
              0.4444444444444444,
              "#bd3786"
             ],
             [
              0.5555555555555556,
              "#d8576b"
             ],
             [
              0.6666666666666666,
              "#ed7953"
             ],
             [
              0.7777777777777778,
              "#fb9f3a"
             ],
             [
              0.8888888888888888,
              "#fdca26"
             ],
             [
              1,
              "#f0f921"
             ]
            ],
            "type": "heatmap"
           }
          ],
          "histogram": [
           {
            "marker": {
             "pattern": {
              "fillmode": "overlay",
              "size": 10,
              "solidity": 0.2
             }
            },
            "type": "histogram"
           }
          ],
          "histogram2d": [
           {
            "colorbar": {
             "outlinewidth": 0,
             "ticks": ""
            },
            "colorscale": [
             [
              0,
              "#0d0887"
             ],
             [
              0.1111111111111111,
              "#46039f"
             ],
             [
              0.2222222222222222,
              "#7201a8"
             ],
             [
              0.3333333333333333,
              "#9c179e"
             ],
             [
              0.4444444444444444,
              "#bd3786"
             ],
             [
              0.5555555555555556,
              "#d8576b"
             ],
             [
              0.6666666666666666,
              "#ed7953"
             ],
             [
              0.7777777777777778,
              "#fb9f3a"
             ],
             [
              0.8888888888888888,
              "#fdca26"
             ],
             [
              1,
              "#f0f921"
             ]
            ],
            "type": "histogram2d"
           }
          ],
          "histogram2dcontour": [
           {
            "colorbar": {
             "outlinewidth": 0,
             "ticks": ""
            },
            "colorscale": [
             [
              0,
              "#0d0887"
             ],
             [
              0.1111111111111111,
              "#46039f"
             ],
             [
              0.2222222222222222,
              "#7201a8"
             ],
             [
              0.3333333333333333,
              "#9c179e"
             ],
             [
              0.4444444444444444,
              "#bd3786"
             ],
             [
              0.5555555555555556,
              "#d8576b"
             ],
             [
              0.6666666666666666,
              "#ed7953"
             ],
             [
              0.7777777777777778,
              "#fb9f3a"
             ],
             [
              0.8888888888888888,
              "#fdca26"
             ],
             [
              1,
              "#f0f921"
             ]
            ],
            "type": "histogram2dcontour"
           }
          ],
          "mesh3d": [
           {
            "colorbar": {
             "outlinewidth": 0,
             "ticks": ""
            },
            "type": "mesh3d"
           }
          ],
          "parcoords": [
           {
            "line": {
             "colorbar": {
              "outlinewidth": 0,
              "ticks": ""
             }
            },
            "type": "parcoords"
           }
          ],
          "pie": [
           {
            "automargin": true,
            "type": "pie"
           }
          ],
          "scatter": [
           {
            "fillpattern": {
             "fillmode": "overlay",
             "size": 10,
             "solidity": 0.2
            },
            "type": "scatter"
           }
          ],
          "scatter3d": [
           {
            "line": {
             "colorbar": {
              "outlinewidth": 0,
              "ticks": ""
             }
            },
            "marker": {
             "colorbar": {
              "outlinewidth": 0,
              "ticks": ""
             }
            },
            "type": "scatter3d"
           }
          ],
          "scattercarpet": [
           {
            "marker": {
             "colorbar": {
              "outlinewidth": 0,
              "ticks": ""
             }
            },
            "type": "scattercarpet"
           }
          ],
          "scattergeo": [
           {
            "marker": {
             "colorbar": {
              "outlinewidth": 0,
              "ticks": ""
             }
            },
            "type": "scattergeo"
           }
          ],
          "scattergl": [
           {
            "marker": {
             "colorbar": {
              "outlinewidth": 0,
              "ticks": ""
             }
            },
            "type": "scattergl"
           }
          ],
          "scattermap": [
           {
            "marker": {
             "colorbar": {
              "outlinewidth": 0,
              "ticks": ""
             }
            },
            "type": "scattermap"
           }
          ],
          "scattermapbox": [
           {
            "marker": {
             "colorbar": {
              "outlinewidth": 0,
              "ticks": ""
             }
            },
            "type": "scattermapbox"
           }
          ],
          "scatterpolar": [
           {
            "marker": {
             "colorbar": {
              "outlinewidth": 0,
              "ticks": ""
             }
            },
            "type": "scatterpolar"
           }
          ],
          "scatterpolargl": [
           {
            "marker": {
             "colorbar": {
              "outlinewidth": 0,
              "ticks": ""
             }
            },
            "type": "scatterpolargl"
           }
          ],
          "scatterternary": [
           {
            "marker": {
             "colorbar": {
              "outlinewidth": 0,
              "ticks": ""
             }
            },
            "type": "scatterternary"
           }
          ],
          "surface": [
           {
            "colorbar": {
             "outlinewidth": 0,
             "ticks": ""
            },
            "colorscale": [
             [
              0,
              "#0d0887"
             ],
             [
              0.1111111111111111,
              "#46039f"
             ],
             [
              0.2222222222222222,
              "#7201a8"
             ],
             [
              0.3333333333333333,
              "#9c179e"
             ],
             [
              0.4444444444444444,
              "#bd3786"
             ],
             [
              0.5555555555555556,
              "#d8576b"
             ],
             [
              0.6666666666666666,
              "#ed7953"
             ],
             [
              0.7777777777777778,
              "#fb9f3a"
             ],
             [
              0.8888888888888888,
              "#fdca26"
             ],
             [
              1,
              "#f0f921"
             ]
            ],
            "type": "surface"
           }
          ],
          "table": [
           {
            "cells": {
             "fill": {
              "color": "#EBF0F8"
             },
             "line": {
              "color": "white"
             }
            },
            "header": {
             "fill": {
              "color": "#C8D4E3"
             },
             "line": {
              "color": "white"
             }
            },
            "type": "table"
           }
          ]
         },
         "layout": {
          "annotationdefaults": {
           "arrowcolor": "#2a3f5f",
           "arrowhead": 0,
           "arrowwidth": 1
          },
          "autotypenumbers": "strict",
          "coloraxis": {
           "colorbar": {
            "outlinewidth": 0,
            "ticks": ""
           }
          },
          "colorscale": {
           "diverging": [
            [
             0,
             "#8e0152"
            ],
            [
             0.1,
             "#c51b7d"
            ],
            [
             0.2,
             "#de77ae"
            ],
            [
             0.3,
             "#f1b6da"
            ],
            [
             0.4,
             "#fde0ef"
            ],
            [
             0.5,
             "#f7f7f7"
            ],
            [
             0.6,
             "#e6f5d0"
            ],
            [
             0.7,
             "#b8e186"
            ],
            [
             0.8,
             "#7fbc41"
            ],
            [
             0.9,
             "#4d9221"
            ],
            [
             1,
             "#276419"
            ]
           ],
           "sequential": [
            [
             0,
             "#0d0887"
            ],
            [
             0.1111111111111111,
             "#46039f"
            ],
            [
             0.2222222222222222,
             "#7201a8"
            ],
            [
             0.3333333333333333,
             "#9c179e"
            ],
            [
             0.4444444444444444,
             "#bd3786"
            ],
            [
             0.5555555555555556,
             "#d8576b"
            ],
            [
             0.6666666666666666,
             "#ed7953"
            ],
            [
             0.7777777777777778,
             "#fb9f3a"
            ],
            [
             0.8888888888888888,
             "#fdca26"
            ],
            [
             1,
             "#f0f921"
            ]
           ],
           "sequentialminus": [
            [
             0,
             "#0d0887"
            ],
            [
             0.1111111111111111,
             "#46039f"
            ],
            [
             0.2222222222222222,
             "#7201a8"
            ],
            [
             0.3333333333333333,
             "#9c179e"
            ],
            [
             0.4444444444444444,
             "#bd3786"
            ],
            [
             0.5555555555555556,
             "#d8576b"
            ],
            [
             0.6666666666666666,
             "#ed7953"
            ],
            [
             0.7777777777777778,
             "#fb9f3a"
            ],
            [
             0.8888888888888888,
             "#fdca26"
            ],
            [
             1,
             "#f0f921"
            ]
           ]
          },
          "colorway": [
           "#636efa",
           "#EF553B",
           "#00cc96",
           "#ab63fa",
           "#FFA15A",
           "#19d3f3",
           "#FF6692",
           "#B6E880",
           "#FF97FF",
           "#FECB52"
          ],
          "font": {
           "color": "#2a3f5f"
          },
          "geo": {
           "bgcolor": "white",
           "lakecolor": "white",
           "landcolor": "#E5ECF6",
           "showlakes": true,
           "showland": true,
           "subunitcolor": "white"
          },
          "hoverlabel": {
           "align": "left"
          },
          "hovermode": "closest",
          "mapbox": {
           "style": "light"
          },
          "paper_bgcolor": "white",
          "plot_bgcolor": "#E5ECF6",
          "polar": {
           "angularaxis": {
            "gridcolor": "white",
            "linecolor": "white",
            "ticks": ""
           },
           "bgcolor": "#E5ECF6",
           "radialaxis": {
            "gridcolor": "white",
            "linecolor": "white",
            "ticks": ""
           }
          },
          "scene": {
           "xaxis": {
            "backgroundcolor": "#E5ECF6",
            "gridcolor": "white",
            "gridwidth": 2,
            "linecolor": "white",
            "showbackground": true,
            "ticks": "",
            "zerolinecolor": "white"
           },
           "yaxis": {
            "backgroundcolor": "#E5ECF6",
            "gridcolor": "white",
            "gridwidth": 2,
            "linecolor": "white",
            "showbackground": true,
            "ticks": "",
            "zerolinecolor": "white"
           },
           "zaxis": {
            "backgroundcolor": "#E5ECF6",
            "gridcolor": "white",
            "gridwidth": 2,
            "linecolor": "white",
            "showbackground": true,
            "ticks": "",
            "zerolinecolor": "white"
           }
          },
          "shapedefaults": {
           "line": {
            "color": "#2a3f5f"
           }
          },
          "ternary": {
           "aaxis": {
            "gridcolor": "white",
            "linecolor": "white",
            "ticks": ""
           },
           "baxis": {
            "gridcolor": "white",
            "linecolor": "white",
            "ticks": ""
           },
           "bgcolor": "#E5ECF6",
           "caxis": {
            "gridcolor": "white",
            "linecolor": "white",
            "ticks": ""
           }
          },
          "title": {
           "x": 0.05
          },
          "xaxis": {
           "automargin": true,
           "gridcolor": "white",
           "linecolor": "white",
           "ticks": "",
           "title": {
            "standoff": 15
           },
           "zerolinecolor": "white",
           "zerolinewidth": 2
          },
          "yaxis": {
           "automargin": true,
           "gridcolor": "white",
           "linecolor": "white",
           "ticks": "",
           "title": {
            "standoff": 15
           },
           "zerolinecolor": "white",
           "zerolinewidth": 2
          }
         }
        },
        "title": {
         "text": "y = f(x1, x2)",
         "x": 0.5
        }
       }
      }
     },
     "metadata": {},
     "output_type": "display_data"
    }
   ],
   "source": [
    "df_pivot = df.pivot(index='x2', columns='x1', values='y')\n",
    "\n",
    "fig = go.Figure()\n",
    "\n",
    "# Adicionar os Pontos de Dados Originais\n",
    "fig.add_trace(go.Scatter3d(\n",
    "    x=df['x1'],\n",
    "    y=df['x2'],\n",
    "    z=df['y'],\n",
    "    mode='markers',\n",
    "    marker=dict(size=3, color='red', symbol='circle'),\n",
    "    name='Pontos de Dados Originais'\n",
    "))\n",
    "\n",
    "# Melhorar o Layout\n",
    "fig.update_layout(\n",
    "    title=dict(text='y = f(x1, x2)', x=0.5),\n",
    "    scene=dict(\n",
    "        xaxis_title='Eixo X1',\n",
    "        yaxis_title='Eixo X2',\n",
    "        zaxis_title='Eixo Y (Valor)'\n",
    "    ),\n",
    "    margin=dict(l=0, r=0, b=0, t=50)\n",
    ")\n",
    "\n",
    "fig.show()"
   ]
  },
  {
   "cell_type": "markdown",
   "id": "a11523f5",
   "metadata": {},
   "source": [
    "## Calcular as funções de perda"
   ]
  },
  {
   "cell_type": "markdown",
   "id": "2e6d8f5f",
   "metadata": {},
   "source": [
    "### Funções utilizadas para os cálculos"
   ]
  },
  {
   "cell_type": "code",
   "execution_count": null,
   "id": "5f2939c5",
   "metadata": {},
   "outputs": [],
   "source": [
    "def tanh_derivative(x):\n",
    "    \"\"\"Derivada de tanh(x) = 1 - tanh(x)^2\"\"\"\n",
    "    t = np.tanh(x)\n",
    "    return 1 - t**2\n",
    "\n",
    "\n",
    "def make_neuron(w, activation_fn=np.tanh):\n",
    "    def neuron(x1, x2):\n",
    "        # Converte para array 1D\n",
    "        x1 = np.atleast_1d(x1)\n",
    "        x2 = np.atleast_1d(x2)\n",
    "\n",
    "        # Transforma entrada para X = [x1, x2, 1] (bias)\n",
    "        X = np.stack([x1, x2, np.ones_like(x1)], axis=1)\n",
    "\n",
    "        # Potencial de ativação\n",
    "        activation_potentials = X @ w  # produto matricial\n",
    "\n",
    "        # Saída após ativação\n",
    "        y = activation_fn(activation_potentials)\n",
    "\n",
    "        # Retorna escalar se a entrada for escalar\n",
    "        return y if len(y) > 1 else y.item()\n",
    "    return neuron\n",
    "\n",
    "\n",
    "def make_residuals_fn(X1: np.ndarray, X2: np.ndarray, Y: np.ndarray, activation_fn=np.tanh):\n",
    "    def residuals_fn(w: np.ndarray) -> np.ndarray:\n",
    "        neuron = make_neuron(w, activation_fn)\n",
    "        predictions = neuron(X1, X2)\n",
    "        return Y - predictions\n",
    "    return residuals_fn\n",
    "\n",
    "\n",
    "def make_jacobian_fn(X1, X2, activation_fn=np.tanh, activation_deriv=tanh_derivative):\n",
    "    \"\"\"\n",
    "    Jacobiana genérica: derivada dos resíduos em relação aos pesos.\n",
    "    Funciona para qualquer função de ativação.\n",
    "    \"\"\"\n",
    "    def jacobian_fn(w):\n",
    "        X1_ = np.atleast_1d(X1)\n",
    "        X2_ = np.atleast_1d(X2)\n",
    "        X = np.stack([X1_, X2_, np.ones_like(X1_)], axis=1)\n",
    "        z = X @ w\n",
    "        phi_prime = activation_deriv(z)\n",
    "        J = -phi_prime[:, np.newaxis] * X  # cada linha: -φ'(z_i) * [x1, x2, 1]\n",
    "        return J\n",
    "    return jacobian_fn"
   ]
  },
  {
   "cell_type": "markdown",
   "id": "4e4192a6",
   "metadata": {},
   "source": [
    "### Pré-processamento dos dados"
   ]
  },
  {
   "cell_type": "code",
   "execution_count": 7,
   "id": "fedadb6e",
   "metadata": {},
   "outputs": [],
   "source": [
    "\n",
    "features = df[['x1', 'x2']]\n",
    "y = df['y']\n",
    "\n",
    "# Criar os objetos para Padronização\n",
    "scaler = StandardScaler()\n",
    "scaler_y = StandardScaler()\n",
    "\n",
    "# Cria as cópias dos dados para padronizar\n",
    "scaled_features = features.copy()\n",
    "scaled_y = y.copy()\n",
    "\n",
    "# Ajusta os padronizadores aos dados\n",
    "scaler.fit(scaled_features)\n",
    "scaler_y.fit(scaled_y.to_frame())\n",
    "\n",
    "# Padroniza os dados\n",
    "scaled_features = scaler.normalize(scaled_features)\n",
    "scaled_y = scaler_y.normalize(scaled_y.to_frame()).squeeze()\n",
    "\n",
    "# initial_weights = np.random.randn(3)  # 2 entradas + 1 bias\n",
    "initial_weights = np.zeros(3)  # 2 entradas + 1 bias\n",
    "n_iterations = 10000\n",
    "tolerance = 1e-6\n",
    "alpha = 1e-3"
   ]
  },
  {
   "cell_type": "markdown",
   "id": "f4a0a850",
   "metadata": {},
   "source": [
    "### Rodar os experimentos"
   ]
  },
  {
   "cell_type": "code",
   "execution_count": 8,
   "id": "6ec386dc",
   "metadata": {},
   "outputs": [
    {
     "data": {
      "text/html": [
       "<div>\n",
       "<style scoped>\n",
       "    .dataframe tbody tr th:only-of-type {\n",
       "        vertical-align: middle;\n",
       "    }\n",
       "\n",
       "    .dataframe tbody tr th {\n",
       "        vertical-align: top;\n",
       "    }\n",
       "\n",
       "    .dataframe thead th {\n",
       "        text-align: right;\n",
       "    }\n",
       "</style>\n",
       "<table border=\"1\" class=\"dataframe\">\n",
       "  <thead>\n",
       "    <tr style=\"text-align: right;\">\n",
       "      <th></th>\n",
       "      <th>Feature_Set</th>\n",
       "      <th>Loss_Function</th>\n",
       "      <th>Initial_Weights</th>\n",
       "      <th>Weights_Raw</th>\n",
       "      <th>Final_Weights</th>\n",
       "      <th>Final_Loss</th>\n",
       "      <th>MSE_Final</th>\n",
       "      <th>RMSE_Final</th>\n",
       "      <th>MAE_Final</th>\n",
       "      <th>Iterations</th>\n",
       "    </tr>\n",
       "  </thead>\n",
       "  <tbody>\n",
       "    <tr>\n",
       "      <th>0</th>\n",
       "      <td>Standardized</td>\n",
       "      <td>MSE</td>\n",
       "      <td>['0.00000', '0.00000', '0.00000']</td>\n",
       "      <td>['3.19042', '3.19042', '2.10946']</td>\n",
       "      <td>['1.09420', '1.82366', '2.10946']</td>\n",
       "      <td>0.05313</td>\n",
       "      <td>0.01846</td>\n",
       "      <td>0.13588</td>\n",
       "      <td>0.08376</td>\n",
       "      <td>9</td>\n",
       "    </tr>\n",
       "  </tbody>\n",
       "</table>\n",
       "</div>"
      ],
      "text/plain": [
       "    Feature_Set Loss_Function                    Initial_Weights  \\\n",
       "0  Standardized           MSE  ['0.00000', '0.00000', '0.00000']   \n",
       "\n",
       "                         Weights_Raw                      Final_Weights  \\\n",
       "0  ['3.19042', '3.19042', '2.10946']  ['1.09420', '1.82366', '2.10946']   \n",
       "\n",
       "   Final_Loss  MSE_Final  RMSE_Final  MAE_Final  Iterations  \n",
       "0     0.05313    0.01846     0.13588    0.08376           9  "
      ]
     },
     "execution_count": 8,
     "metadata": {},
     "output_type": "execute_result"
    }
   ],
   "source": [
    "dict_results = {}\n",
    "\n",
    "# x1_scaled = features['x1'].values\n",
    "x1_scaled = scaled_features['x1'].values\n",
    "# x2_scaled = features['x2'].values\n",
    "x2_scaled = scaled_features['x2'].values\n",
    "# y_scaled_data = y.values\n",
    "y_scaled_data = scaled_y.values\n",
    "\n",
    "# Função de custo e gradiente\n",
    "loss_function, grad_loss_function = make_mse_loss_for_neuron(x1_scaled, x2_scaled, y_scaled_data, activation_fn=np.tanh)\n",
    "\n",
    "# Função de residuos e jacobiana\n",
    "residuals_fn = make_residuals_fn(x1_scaled, x2_scaled, y_scaled_data, activation_fn=np.tanh)\n",
    "jacobian_fn = make_jacobian_fn(x1_scaled, x2_scaled, activation_fn=np.tanh, activation_deriv=tanh_derivative)\n",
    "\n",
    "# Treinar o modelo com Levenberg-Marquadt\n",
    "weights, losses, n_iters = levenberg_marquadt(\n",
    "    initial_weights, residuals_fn, loss_function, jacobian_fn,\n",
    "    alpha=alpha, alpha_variability=10, max_iter=n_iterations,\n",
    "    tolerance=tolerance, stopping_criteria=[1, 3]\n",
    ")\n",
    "\n",
    "# Desnormalizar os pesos finais\n",
    "final_weights_raw = weights[-1].copy()\n",
    "final_weights_denorm = scaler.desnormalize_weights(weights[-1])\n",
    "#final_weights_denorm = weights[-1].copy()\n",
    "\n",
    "# Usar o neurônio com pesos desnormalizados\n",
    "x1_data = features['x1'].values\n",
    "x2_data = features['x2'].values\n",
    "neuron = make_neuron(final_weights_denorm, activation_fn=np.tanh)\n",
    "y_hat = neuron(x1_data, x2_data)\n",
    "\n",
    "# Cálculo das métricas finais\n",
    "mse_final = np.mean((y - y_hat) ** 2)\n",
    "rmse_final = np.sqrt(mse_final)\n",
    "mae_final = np.mean(np.abs(y - y_hat))\n",
    "\n",
    "dict_results = {\n",
    "    'Feature_Set': \"Standardized\",\n",
    "    'Loss_Function': \"MSE\",\n",
    "    'Initial_Weights': str([f\"{w:.5f}\" for w in initial_weights.tolist()]),\n",
    "    'Weights_Raw': str([f\"{w:.5f}\" for w in final_weights_raw.tolist()]),\n",
    "    'Final_Weights': str([f\"{w:.5f}\" for w in final_weights_denorm.tolist()]),\n",
    "    'Final_Loss': losses[-1],\n",
    "    'MSE_Final': mse_final,\n",
    "    'RMSE_Final': rmse_final,\n",
    "    'MAE_Final': mae_final,\n",
    "    'Iterations': n_iters\n",
    "}\n",
    "\n",
    "# Criar DataFrame com um único registro\n",
    "df_result = pd.DataFrame([dict_results])  # Note os colchetes extras aqui\n",
    "df_result"
   ]
  },
  {
   "cell_type": "markdown",
   "id": "4636062a",
   "metadata": {},
   "source": [
    "## Resultados"
   ]
  },
  {
   "cell_type": "code",
   "execution_count": 9,
   "id": "872089b5",
   "metadata": {},
   "outputs": [
    {
     "data": {
      "application/vnd.plotly.v1+json": {
       "config": {
        "plotlyServerURL": "https://plot.ly"
       },
       "data": [
        {
         "colorscale": [
          [
           0,
           "rgb(247,251,255)"
          ],
          [
           0.125,
           "rgb(222,235,247)"
          ],
          [
           0.25,
           "rgb(198,219,239)"
          ],
          [
           0.375,
           "rgb(158,202,225)"
          ],
          [
           0.5,
           "rgb(107,174,214)"
          ],
          [
           0.625,
           "rgb(66,146,198)"
          ],
          [
           0.75,
           "rgb(33,113,181)"
          ],
          [
           0.875,
           "rgb(8,81,156)"
          ],
          [
           1,
           "rgb(8,48,107)"
          ]
         ],
         "name": "Superfície de Predição",
         "opacity": 0.7,
         "showscale": false,
         "type": "surface",
         "x": {
          "bdata": "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",
          "dtype": "f8",
          "shape": "30, 30"
         },
         "y": {
          "bdata": "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",
          "dtype": "f8",
          "shape": "30, 30"
         },
         "z": {
          "bdata": "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",
          "dtype": "f8",
          "shape": "30, 30"
         }
        },
        {
         "marker": {
          "color": "red",
          "line": {
           "color": "darkred",
           "width": 1
          },
          "size": 7,
          "symbol": "circle"
         },
         "mode": "markers",
         "name": "Dados Originais",
         "type": "scatter3d",
         "x": {
          "bdata": "AAAAAAAAFMBDYt7OkJgTwIbEvJ0hMRPAyiabbLLJEsANiXk7Q2ISwFDrVwrU+hHAk0022WSTEcDWrxSo9SsRwBoS83aGxBDAXXTRRRddEMBBrV8pUOsPwMdxHMdxHA/ATjbZZJNNDsDU+pUCtX4NwFq/UqDWrwzA4oMPPvjgC8BoSMzbGRILwO4MiXk7QwrAdNFFF110CcD6lQK1fqUIwIFav1Kg1gfACB988MEHB8CO4ziO4zgGwBWo9SsFagXAm2yyySabBMAiMW9nSMwDwKj1KwVq/QLALrrooosuAsC1fqVArV8BwDxDYt7OkADAhA8++OCD/7+RmLczJOb9v54hMW9nSPy/qqqqqqqq+r+4MyTm7Qz5v8S8nSExb/e/0UUXXXTR9b/fzpCYtzP0v+tXCtT6lfK/+OCDDz748L8K1PqVArXuvyTm7QyJeeu/Pvjggw8+6L9YCtT6lQLlv3Icx3Ecx+G/GF100UUX3b9LgVq/UqDWv3+lQK1fKdC/ZZNNNtlkw78yb2dIzNupvzJvZ0jM26k/ZZNNNtlkwz9/pUCtXynQP0uBWr9SoNY/GF100UUX3T9yHMdxHMfhP1gK1PqVAuU/Pvjggw8+6D8k5u0MiXnrPwrU+pUCte4/+OCDDz748D/rVwrU+pXyP9/OkJi3M/Q/0UUXXXTR9T/EvJ0hMW/3P7gzJObtDPk/qqqqqqqq+j+eITFvZ0j8P5GYtzMk5v0/hA8++OCD/z88Q2LezpAAQLV+pUCtXwFALrrooosuAkCo9SsFav0CQCIxb2dIzANAm2yyySabBEAVqPUrBWoFQI7jOI7jOAZACB988MEHB0CBWr9SoNYHQPqVArV+pQhAdNFFF110CUDuDIl5O0MKQGhIzNsZEgtA4oMPPvjgC0Bav1Kg1q8MQNT6lQK1fg1ATjbZZJNNDkDHcRzHcRwPQEGtXylQ6w9AXXTRRRddEEAaEvN2hsQQQNavFKj1KxFAk0022WSTEUBQ61cK1PoRQA2JeTtDYhJAyiabbLLJEkCGxLydITETQENi3s6QmBNAAAAAAAAAFEA=",
          "dtype": "f8"
         },
         "y": {
          "bdata": "AAAAAAAACMCEDz744IMHwAgffPDBBwfAjC666KKLBsAQPvjggw8GwJRNNtlkkwXAF1100UUXBcCbbLLJJpsEwB988MEHHwTAo4suuuiiA8Anm2yyySYDwKuqqqqqqgLALrrooosuAsCyySabbLIBwDbZZJNNNgHAuuiiiy66AMA++OCDDz4AwIQPPvjgg/+/jC666KKL/r+TTTbZZJP9v5pssskmm/y/pIsuuuii+7+rqqqqqqr6v7LJJptssvm/uuiiiy66+L/CBx988MH3v8omm2yyyfa/0UUXXXTR9b/aZJNNNtn0v+GDDz744PO/6KKLLrro8r/xwQcffPDxv/jggw8++PC/AAAAAAAA8L8QPvjggw/uvx988MEHH+y/Lrrooosu6r8++OCDDz7ov0422WSTTea/XXTRRRdd5L9ssskmm2ziv3zwwQcffOC/GF100UUX3b832WSTTTbZv1VVVVVVVdW/dNFFF1100b8mm2yyySbLv2WTTTbZZMO/RhdddNFFt78IH3zwwQefvwgffPDBB58/RhdddNFFtz9lk0022WTDPyabbLLJJss/dNFFF1100T9VVVVVVVXVPzfZZJNNNtk/GF100UUX3T988MEHH3zgP2yyySabbOI/XXTRRRdd5D9ONtlkk03mPz744IMPPug/Lrrooosu6j8ffPDBBx/sPxA++OCDD+4/AAAAAAAA8D/44IMPPvjwP/HBBx988PE/6KKLLrro8j/hgw8++ODzP9pkk0022fQ/0UUXXXTR9T/KJptsssn2P8IHH3zwwfc/uuiiiy66+D+yySabbLL5P6uqqqqqqvo/pIsuuuii+z+abLLJJpv8P5NNNtlkk/0/jC666KKL/j+EDz744IP/Pz744IMPPgBAuuiiiy66AEA22WSTTTYBQLLJJptssgFALrrooosuAkCrqqqqqqoCQCebbLLJJgNAo4suuuiiA0AffPDBBx8EQJtssskmmwRAF1100UUXBUCUTTbZZJMFQBA++OCDDwZAjC666KKLBkAIH3zwwQcHQIQPPvjggwdAAAAAAAAACEA=",
          "dtype": "f8"
         },
         "z": {
          "bdata": "o82WIehZ7b+f9iyd0xHuvyFs1NUFYu2/FjUYCDfx7L+x70guNevtv4xGsiDU/e2/rzVDDVXu7b8zHgVKGM3vvyJU3RNq/+y/CaKEFMMf7b9ZR6UetMbtvwRRKq2bAe+/vANwMobm7r9lx2oaesHvvzGCYgmzVe6/QBmtA9EM7r9///1tjKvtvyeSEjYQ/++/Gr9mzO5y778gXEfo74Luvy88moxS0u6/jGtiJAby7L8IHVM8Tf3sv8Ng/flX3uy/sHq4Jk5M779s/J6qvF/vvxhjWx/mCO6/hLfSVSWb7b/OYRh+Pijtv/w1Kg43QO2/dkYMWZQz7L+jbEO8rfDsv5Hmx1kdZ+6/uPBlKYkv7L8IOeGbLrbqv7nTkSb4ytS/yveRzCy93L+mLompl3GrP2+20qOFR6E/3Nj9WEU8uT/A65SOTf+Lv8r6eDHQpOk/jF2CsGt96T+ChwnEixPlPyU+qYyAhew/YGguEOCR7j+ZZCRDES/vP94g/zxRte8/VbFMxDaH8D/z7SnVi23vPzvzpVCXUfA/8gu6Ly048T8IL11CQlbwPzMFSkV3AvA/bLVAt0yR8T9WxG169vXwPwhkdTMMYPA/qWrRETuy8D8PpqrqeCvxP9baYV524/A/miyof/yy8D8weStQEffwPzcUDdj7SfA/lOWRGjFL8T+fiJ3QX0/xP/JBMQd7x/A/i1Kg0T818T+XlSvxn6XwP4rk6OE2KfE/C3Dv5xE/8D+go3NzgdDwPznmlUegEfE/xEJKS34+8D+dRY/hrRnwP8XGjPwUivA/7jgNf6i28D8jtU4kVTbxP5p0OGl3NfA/8XwuT0Jx8T/0+qUfQFrwP+qGYekNm/A/aJsvKimt8D9FJpKJaY7xPxeF4niBSPA/7C9tZWFp8T+K61aFy+HwP6t+ft6ug/A/7F9WppNw8T9WN6iIDN7wP8v303SZvfA/XsPOT/JK8T9PBuOIypPwP+fSwQq5jfE/8JKgNorj8D+td0lyUTvxPwO0ltuTFvE/UV+AuwxU8D+EAMOO3FXxP2Jtrct+YvE/otQFxQER8D8=",
          "dtype": "f8"
         }
        },
        {
         "marker": {
          "color": "blue",
          "line": {
           "color": "darkblue",
           "width": 1
          },
          "size": 7,
          "symbol": "diamond"
         },
         "mode": "markers",
         "name": "Valores Previstos",
         "type": "scatter3d",
         "x": {
          "bdata": "AAAAAAAAFMBDYt7OkJgTwIbEvJ0hMRPAyiabbLLJEsANiXk7Q2ISwFDrVwrU+hHAk0022WSTEcDWrxSo9SsRwBoS83aGxBDAXXTRRRddEMBBrV8pUOsPwMdxHMdxHA/ATjbZZJNNDsDU+pUCtX4NwFq/UqDWrwzA4oMPPvjgC8BoSMzbGRILwO4MiXk7QwrAdNFFF110CcD6lQK1fqUIwIFav1Kg1gfACB988MEHB8CO4ziO4zgGwBWo9SsFagXAm2yyySabBMAiMW9nSMwDwKj1KwVq/QLALrrooosuAsC1fqVArV8BwDxDYt7OkADAhA8++OCD/7+RmLczJOb9v54hMW9nSPy/qqqqqqqq+r+4MyTm7Qz5v8S8nSExb/e/0UUXXXTR9b/fzpCYtzP0v+tXCtT6lfK/+OCDDz748L8K1PqVArXuvyTm7QyJeeu/Pvjggw8+6L9YCtT6lQLlv3Icx3Ecx+G/GF100UUX3b9LgVq/UqDWv3+lQK1fKdC/ZZNNNtlkw78yb2dIzNupvzJvZ0jM26k/ZZNNNtlkwz9/pUCtXynQP0uBWr9SoNY/GF100UUX3T9yHMdxHMfhP1gK1PqVAuU/Pvjggw8+6D8k5u0MiXnrPwrU+pUCte4/+OCDDz748D/rVwrU+pXyP9/OkJi3M/Q/0UUXXXTR9T/EvJ0hMW/3P7gzJObtDPk/qqqqqqqq+j+eITFvZ0j8P5GYtzMk5v0/hA8++OCD/z88Q2LezpAAQLV+pUCtXwFALrrooosuAkCo9SsFav0CQCIxb2dIzANAm2yyySabBEAVqPUrBWoFQI7jOI7jOAZACB988MEHB0CBWr9SoNYHQPqVArV+pQhAdNFFF110CUDuDIl5O0MKQGhIzNsZEgtA4oMPPvjgC0Bav1Kg1q8MQNT6lQK1fg1ATjbZZJNNDkDHcRzHcRwPQEGtXylQ6w9AXXTRRRddEEAaEvN2hsQQQNavFKj1KxFAk0022WSTEUBQ61cK1PoRQA2JeTtDYhJAyiabbLLJEkCGxLydITETQENi3s6QmBNAAAAAAAAAFEA=",
          "dtype": "f8"
         },
         "y": {
          "bdata": "AAAAAAAACMCEDz744IMHwAgffPDBBwfAjC666KKLBsAQPvjggw8GwJRNNtlkkwXAF1100UUXBcCbbLLJJpsEwB988MEHHwTAo4suuuiiA8Anm2yyySYDwKuqqqqqqgLALrrooosuAsCyySabbLIBwDbZZJNNNgHAuuiiiy66AMA++OCDDz4AwIQPPvjgg/+/jC666KKL/r+TTTbZZJP9v5pssskmm/y/pIsuuuii+7+rqqqqqqr6v7LJJptssvm/uuiiiy66+L/CBx988MH3v8omm2yyyfa/0UUXXXTR9b/aZJNNNtn0v+GDDz744PO/6KKLLrro8r/xwQcffPDxv/jggw8++PC/AAAAAAAA8L8QPvjggw/uvx988MEHH+y/Lrrooosu6r8++OCDDz7ov0422WSTTea/XXTRRRdd5L9ssskmm2ziv3zwwQcffOC/GF100UUX3b832WSTTTbZv1VVVVVVVdW/dNFFF1100b8mm2yyySbLv2WTTTbZZMO/RhdddNFFt78IH3zwwQefvwgffPDBB58/RhdddNFFtz9lk0022WTDPyabbLLJJss/dNFFF1100T9VVVVVVVXVPzfZZJNNNtk/GF100UUX3T988MEHH3zgP2yyySabbOI/XXTRRRdd5D9ONtlkk03mPz744IMPPug/Lrrooosu6j8ffPDBBx/sPxA++OCDD+4/AAAAAAAA8D/44IMPPvjwP/HBBx988PE/6KKLLrro8j/hgw8++ODzP9pkk0022fQ/0UUXXXTR9T/KJptsssn2P8IHH3zwwfc/uuiiiy66+D+yySabbLL5P6uqqqqqqvo/pIsuuuii+z+abLLJJpv8P5NNNtlkk/0/jC666KKL/j+EDz744IP/Pz744IMPPgBAuuiiiy66AEA22WSTTTYBQLLJJptssgFALrrooosuAkCrqqqqqqoCQCebbLLJJgNAo4suuuiiA0AffPDBBx8EQJtssskmmwRAF1100UUXBUCUTTbZZJMFQBA++OCDDwZAjC666KKLBkAIH3zwwQcHQIQPPvjggwdAAAAAAAAACEA=",
          "dtype": "f8"
         },
         "z": {
          "bdata": "J/Mj6f//779pYG7c///vv9Dop8j//++/39riqf//778jYgJ6///vvx6qgy///++/kSyau/7/77+RFD8H/v/vvxY0nu78/++/JOv3Ofv/77+uC46S+P/vvzqNaHH0/++/WdKFBO7/779jMiMF5P/vv9XF1HbU/++/9NiIQrz/778OaGqZlv/vvwINdABc/++/EmY31AD/77/ZZn35cv7vvxSMsUWW/e+/Y0Rx6T78779xq8XDKPrvv4M84urp9u+/A7YmzN3x778nH+/gBOrvv4/aoeLS3e+/6OBkZeLK778Htc+UgK3vv4S1xIX+f++/hyS1JbA5779Iu2Kyfs3uv5Ej7P3+J+6/1yF8Lyct7b+mvZTbMrbrv7tsAi4zkem/KZogHD2F5r8wT0SdUV/iv0uE3oifFNq/NT2L9Buvyr8mDj/nDWqDP5BIlGD5/sw/jX6OmqgV2z+nKSxlTsbiP6QxC9SW0uY/SF3ET4bI6T/CAQ7dZ9zrP1RsztTnRu0/I/zQThI57j+9FRO+sdjuP0tA5S37QO8/z8iksLiE7z+WCjOejrDvPyj/f8fazO8/Wr+FyBff7z9V7dv91ervPwWoXlFk8u8/qNGSbED37z9TtARiYPrvP1cmcapi/O8/fhYjQa397z8pPhW/gf7vPzeCwFIK/+8/2OOWGmL/7z9XsWeFmv/vPzuOy8e+/+8/bwqJFdb/7z/W56kP5f/vPx3m0K/u/+8/AhR/3/T/7z9Uk07Z+P/vP9uWcGf7/+8/Rn/XC/3/7z87Mwca/v/vP21IrMf+/+8/5KFFN///7z9fvP5+///vP+MlF63//+8/hhm3yv//7z+tMcHd///vP+uz/en//+8/jeva8f//7z8Gyej2///vP1ZVKPr//+8/zsE+/P//7z8rOZb9///vP8n2cv7//+8/sNQA////7z+rAVz////vP5Oalv///+8/b0O8////7z95d9T////vP5MF5P///+8/0QTu////7z+acfT////vP66S+P///+8/DTr7////7z+s7vz////vP0gH/v///+8/oLv+////7z8=",
          "dtype": "f8"
         }
        },
        {
         "line": {
          "color": "rgba(0,100,0,0.5)",
          "width": 2
         },
         "mode": "lines",
         "showlegend": false,
         "type": "scatter3d",
         "x": [
          -5,
          -5
         ],
         "y": [
          -3,
          -3
         ],
         "z": [
          -0.9172249465977312,
          -0.9999999574207309
         ]
        },
        {
         "line": {
          "color": "rgba(0,100,0,0.5)",
          "width": 2
         },
         "mode": "lines",
         "showlegend": false,
         "type": "scatter3d",
         "x": [
          -4.898989898989899,
          -4.898989898989899
         ],
         "y": [
          -2.9393939393939394,
          -2.9393939393939394
         ],
         "z": [
          -0.9396761007153208,
          -0.9999999337478701
         ]
        },
        {
         "line": {
          "color": "rgba(0,100,0,0.5)",
          "width": 2
         },
         "mode": "lines",
         "showlegend": false,
         "type": "scatter3d",
         "x": [
          -4.797979797979798,
          -4.797979797979798
         ],
         "y": [
          -2.878787878787879,
          -2.878787878787879
         ],
         "z": [
          -0.918215673099784,
          -0.9999998969135735
         ]
        },
        {
         "line": {
          "color": "rgba(0,100,0,0.5)",
          "width": 2
         },
         "mode": "lines",
         "showlegend": false,
         "type": "scatter3d",
         "x": [
          -4.696969696969697,
          -4.696969696969697
         ],
         "y": [
          -2.8181818181818183,
          -2.8181818181818183
         ],
         "z": [
          -0.9044451864334941,
          -0.9999998396004591
         ]
        },
        {
         "line": {
          "color": "rgba(0,100,0,0.5)",
          "width": 2
         },
         "mode": "lines",
         "showlegend": false,
         "type": "scatter3d",
         "x": [
          -4.595959595959596,
          -4.595959595959596
         ],
         "y": [
          -2.757575757575758,
          -2.757575757575758
         ],
         "z": [
          -0.934961882019243,
          -0.9999997504228911
         ]
        },
        {
         "line": {
          "color": "rgba(0,100,0,0.5)",
          "width": 2
         },
         "mode": "lines",
         "showlegend": false,
         "type": "scatter3d",
         "x": [
          -4.494949494949495,
          -4.494949494949495
         ],
         "y": [
          -2.6969696969696972,
          -2.6969696969696972
         ],
         "z": [
          -0.9372349394418094,
          -0.9999996116651493
         ]
        },
        {
         "line": {
          "color": "rgba(0,100,0,0.5)",
          "width": 2
         },
         "mode": "lines",
         "showlegend": false,
         "type": "scatter3d",
         "x": [
          -4.393939393939394,
          -4.393939393939394
         ],
         "y": [
          -2.6363636363636362,
          -2.6363636363636362
         ],
         "z": [
          -0.9353432902368491,
          -0.9999993957620906
         ]
        },
        {
         "line": {
          "color": "rgba(0,100,0,0.5)",
          "width": 2
         },
         "mode": "lines",
         "showlegend": false,
         "type": "scatter3d",
         "x": [
          -4.292929292929292,
          -4.292929292929292
         ],
         "y": [
          -2.5757575757575757,
          -2.5757575757575757
         ],
         "z": [
          -0.993785996027276,
          -0.9999990598231695
         ]
        },
        {
         "line": {
          "color": "rgba(0,100,0,0.5)",
          "width": 2
         },
         "mode": "lines",
         "showlegend": false,
         "type": "scatter3d",
         "x": [
          -4.191919191919192,
          -4.191919191919192
         ],
         "y": [
          -2.515151515151515,
          -2.515151515151515
         ],
         "z": [
          -0.9061785114269052,
          -0.9999985371119944
         ]
        },
        {
         "line": {
          "color": "rgba(0,100,0,0.5)",
          "width": 2
         },
         "mode": "lines",
         "showlegend": false,
         "type": "scatter3d",
         "x": [
          -4.090909090909091,
          -4.090909090909091
         ],
         "y": [
          -2.4545454545454546,
          -2.4545454545454546
         ],
         "z": [
          -0.9101272011512843,
          -0.9999977237888271
         ]
        },
        {
         "line": {
          "color": "rgba(0,100,0,0.5)",
          "width": 2
         },
         "mode": "lines",
         "showlegend": false,
         "type": "scatter3d",
         "x": [
          -3.98989898989899,
          -3.98989898989899
         ],
         "y": [
          -2.393939393939394,
          -2.393939393939394
         ],
         "z": [
          -0.9305058096453919,
          -0.9999964582824441
         ]
        },
        {
         "line": {
          "color": "rgba(0,100,0,0.5)",
          "width": 2
         },
         "mode": "lines",
         "showlegend": false,
         "type": "scatter3d",
         "x": [
          -3.888888888888889,
          -3.888888888888889
         ],
         "y": [
          -2.3333333333333335,
          -2.3333333333333335
         ],
         "z": [
          -0.9689463026175251,
          -0.9999944891937169
         ]
        },
        {
         "line": {
          "color": "rgba(0,100,0,0.5)",
          "width": 2
         },
         "mode": "lines",
         "showlegend": false,
         "type": "scatter3d",
         "x": [
          -3.787878787878788,
          -3.787878787878788
         ],
         "y": [
          -2.2727272727272725,
          -2.2727272727272725
         ],
         "z": [
          -0.9656401620014701,
          -0.9999914253554137
         ]
        },
        {
         "line": {
          "color": "rgba(0,100,0,0.5)",
          "width": 2
         },
         "mode": "lines",
         "showlegend": false,
         "type": "scatter3d",
         "x": [
          -3.686868686868687,
          -3.686868686868687
         ],
         "y": [
          -2.212121212121212,
          -2.212121212121212
         ],
         "z": [
          -0.9923677936514933,
          -0.9999866581288867
         ]
        },
        {
         "line": {
          "color": "rgba(0,100,0,0.5)",
          "width": 2
         },
         "mode": "lines",
         "showlegend": false,
         "type": "scatter3d",
         "x": [
          -3.5858585858585856,
          -3.5858585858585856
         ],
         "y": [
          -2.1515151515151514,
          -2.1515151515151514
         ],
         "z": [
          -0.9479613478943688,
          -0.9999792405052924
         ]
        },
        {
         "line": {
          "color": "rgba(0,100,0,0.5)",
          "width": 2
         },
         "mode": "lines",
         "showlegend": false,
         "type": "scatter3d",
         "x": [
          -3.4848484848484853,
          -3.4848484848484853
         ],
         "y": [
          -2.090909090909091,
          -2.090909090909091
         ],
         "z": [
          -0.9390645095634582,
          -0.9999676990035185
         ]
        },
        {
         "line": {
          "color": "rgba(0,100,0,0.5)",
          "width": 2
         },
         "mode": "lines",
         "showlegend": false,
         "type": "scatter3d",
         "x": [
          -3.383838383838384,
          -3.383838383838384
         ],
         "y": [
          -2.0303030303030303,
          -2.0303030303030303
         ],
         "z": [
          -0.9271909855160486,
          -0.9999497410201472
         ]
        },
        {
         "line": {
          "color": "rgba(0,100,0,0.5)",
          "width": 2
         },
         "mode": "lines",
         "showlegend": false,
         "type": "scatter3d",
         "x": [
          -3.282828282828283,
          -3.282828282828283
         ],
         "y": [
          -1.9696969696969697,
          -1.9696969696969697
         ],
         "z": [
          -0.9998856597999904,
          -0.9999217995504355
         ]
        },
        {
         "line": {
          "color": "rgba(0,100,0,0.5)",
          "width": 2
         },
         "mode": "lines",
         "showlegend": false,
         "type": "scatter3d",
         "x": [
          -3.1818181818181817,
          -3.1818181818181817
         ],
         "y": [
          -1.9090909090909092,
          -1.9090909090909092
         ],
         "z": [
          -0.9827798835958419,
          -0.9998783249713503
         ]
        },
        {
         "line": {
          "color": "rgba(0,100,0,0.5)",
          "width": 2
         },
         "mode": "lines",
         "showlegend": false,
         "type": "scatter3d",
         "x": [
          -3.0808080808080804,
          -3.0808080808080804
         ],
         "y": [
          -1.8484848484848484,
          -1.8484848484848484
         ],
         "z": [
          -0.9534835373586965,
          -0.9998106835220951
         ]
        },
        {
         "line": {
          "color": "rgba(0,100,0,0.5)",
          "width": 2
         },
         "mode": "lines",
         "showlegend": false,
         "type": "scatter3d",
         "x": [
          -2.9797979797979797,
          -2.9797979797979797
         ],
         "y": [
          -1.7878787878787876,
          -1.7878787878787876
         ],
         "z": [
          -0.9631741281645015,
          -0.9997054444505715
         ]
        },
        {
         "line": {
          "color": "rgba(0,100,0,0.5)",
          "width": 2
         },
         "mode": "lines",
         "showlegend": false,
         "type": "scatter3d",
         "x": [
          -2.878787878787879,
          -2.878787878787879
         ],
         "y": [
          -1.7272727272727275,
          -1.7272727272727275
         ],
         "z": [
          -0.9045439444192751,
          -0.9995417174742552
         ]
        },
        {
         "line": {
          "color": "rgba(0,100,0,0.5)",
          "width": 2
         },
         "mode": "lines",
         "showlegend": false,
         "type": "scatter3d",
         "x": [
          -2.7777777777777777,
          -2.7777777777777777
         ],
         "y": [
          -1.6666666666666667,
          -1.6666666666666667
         ],
         "z": [
          -0.9059206178871202,
          -0.9992870162653685
         ]
        },
        {
         "line": {
          "color": "rgba(0,100,0,0.5)",
          "width": 2
         },
         "mode": "lines",
         "showlegend": false,
         "type": "scatter3d",
         "x": [
          -2.676767676767677,
          -2.676767676767677
         ],
         "y": [
          -1.606060606060606,
          -1.606060606060606
         ],
         "z": [
          -0.9021415598499732,
          -0.9988908374379125
         ]
        },
        {
         "line": {
          "color": "rgba(0,100,0,0.5)",
          "width": 2
         },
         "mode": "lines",
         "showlegend": false,
         "type": "scatter3d",
         "x": [
          -2.5757575757575757,
          -2.5757575757575757
         ],
         "y": [
          -1.5454545454545454,
          -1.5454545454545454
         ],
         "z": [
          -0.9780646091711187,
          -0.9982747065857328
         ]
        },
        {
         "line": {
          "color": "rgba(0,100,0,0.5)",
          "width": 2
         },
         "mode": "lines",
         "showlegend": false,
         "type": "scatter3d",
         "x": [
          -2.474747474747475,
          -2.474747474747475
         ],
         "y": [
          -1.4848484848484849,
          -1.4848484848484849
         ],
         "z": [
          -0.9804366428796931,
          -0.9973167794459855
         ]
        },
        {
         "line": {
          "color": "rgba(0,100,0,0.5)",
          "width": 2
         },
         "mode": "lines",
         "showlegend": false,
         "type": "scatter3d",
         "x": [
          -2.3737373737373737,
          -2.3737373737373737
         ],
         "y": [
          -1.4242424242424243,
          -1.4242424242424243
         ],
         "z": [
          -0.9385862934533149,
          -0.9958280970011674
         ]
        },
        {
         "line": {
          "color": "rgba(0,100,0,0.5)",
          "width": 2
         },
         "mode": "lines",
         "showlegend": false,
         "type": "scatter3d",
         "x": [
          -2.2727272727272725,
          -2.2727272727272725
         ],
         "y": [
          -1.3636363636363635,
          -1.3636363636363635
         ],
         "z": [
          -0.9251887012703581,
          -0.993516157183902
         ]
        },
        {
         "line": {
          "color": "rgba(0,100,0,0.5)",
          "width": 2
         },
         "mode": "lines",
         "showlegend": false,
         "type": "scatter3d",
         "x": [
          -2.1717171717171717,
          -2.1717171717171717
         ],
         "y": [
          -1.3030303030303032,
          -1.3030303030303032
         ],
         "z": [
          -0.9111626112745002,
          -0.9899294764015004
         ]
        },
        {
         "line": {
          "color": "rgba(0,100,0,0.5)",
          "width": 2
         },
         "mode": "lines",
         "showlegend": false,
         "type": "scatter3d",
         "x": [
          -2.070707070707071,
          -2.070707070707071
         ],
         "y": [
          -1.2424242424242424,
          -1.2424242424242424
         ],
         "z": [
          -0.9140887524278578,
          -0.9843742954887351
         ]
        },
        {
         "line": {
          "color": "rgba(0,100,0,0.5)",
          "width": 2
         },
         "mode": "lines",
         "showlegend": false,
         "type": "scatter3d",
         "x": [
          -1.9696969696969697,
          -1.9696969696969697
         ],
         "y": [
          -1.1818181818181817,
          -1.1818181818181817
         ],
         "z": [
          -0.8812963237016465,
          -0.9757920013882008
         ]
        },
        {
         "line": {
          "color": "rgba(0,100,0,0.5)",
          "width": 2
         },
         "mode": "lines",
         "showlegend": false,
         "type": "scatter3d",
         "x": [
          -1.8686868686868687,
          -1.8686868686868687
         ],
         "y": [
          -1.1212121212121213,
          -1.1212121212121213
         ],
         "z": [
          -0.904379718496234,
          -0.9625848278136369
         ]
        },
        {
         "line": {
          "color": "rgba(0,100,0,0.5)",
          "width": 2
         },
         "mode": "lines",
         "showlegend": false,
         "type": "scatter3d",
         "x": [
          -1.7676767676767677,
          -1.7676767676767677
         ],
         "y": [
          -1.0606060606060606,
          -1.0606060606060606
         ],
         "z": [
          -0.9500872376949748,
          -0.9423823317930432
         ]
        },
        {
         "line": {
          "color": "rgba(0,100,0,0.5)",
          "width": 2
         },
         "mode": "lines",
         "showlegend": false,
         "type": "scatter3d",
         "x": [
          -1.6666666666666665,
          -1.6666666666666665
         ],
         "y": [
          -1,
          -1
         ],
         "z": [
          -0.8808027084883383,
          -0.9117618491591725
         ]
        },
        {
         "line": {
          "color": "rgba(0,100,0,0.5)",
          "width": 2
         },
         "mode": "lines",
         "showlegend": false,
         "type": "scatter3d",
         "x": [
          -1.5656565656565657,
          -1.5656565656565657
         ],
         "y": [
          -0.9393939393939394,
          -0.9393939393939394
         ],
         "z": [
          -0.8347390217329869,
          -0.8659910477344297
         ]
        },
        {
         "line": {
          "color": "rgba(0,100,0,0.5)",
          "width": 2
         },
         "mode": "lines",
         "showlegend": false,
         "type": "scatter3d",
         "x": [
          -1.4646464646464645,
          -1.4646464646464645
         ],
         "y": [
          -0.8787878787878788,
          -0.8787878787878788
         ],
         "z": [
          -0.3248882652908907,
          -0.7989745997068874
         ]
        },
        {
         "line": {
          "color": "rgba(0,100,0,0.5)",
          "width": 2
         },
         "mode": "lines",
         "showlegend": false,
         "type": "scatter3d",
         "x": [
          -1.3636363636363635,
          -1.3636363636363635
         ],
         "y": [
          -0.8181818181818181,
          -0.8181818181818181
         ],
         "z": [
          -0.4490463254695639,
          -0.7037644910204267
         ]
        },
        {
         "line": {
          "color": "rgba(0,100,0,0.5)",
          "width": 2
         },
         "mode": "lines",
         "showlegend": false,
         "type": "scatter3d",
         "x": [
          -1.2626262626262628,
          -1.2626262626262628
         ],
         "y": [
          -0.7575757575757576,
          -0.7575757575757576
         ],
         "z": [
          0.05360101646928443,
          -0.5741355964296186
         ]
        },
        {
         "line": {
          "color": "rgba(0,100,0,0.5)",
          "width": 2
         },
         "mode": "lines",
         "showlegend": false,
         "type": "scatter3d",
         "x": [
          -1.1616161616161615,
          -1.1616161616161615
         ],
         "y": [
          -0.696969696969697,
          -0.696969696969697
         ],
         "z": [
          0.03374879479211478,
          -0.4075087391484586
         ]
        },
        {
         "line": {
          "color": "rgba(0,100,0,0.5)",
          "width": 2
         },
         "mode": "lines",
         "showlegend": false,
         "type": "scatter3d",
         "x": [
          -1.0606060606060606,
          -1.0606060606060606
         ],
         "y": [
          -0.6363636363636364,
          -0.6363636363636364
         ],
         "z": [
          0.09857591078420874,
          -0.2084689086973214
         ]
        },
        {
         "line": {
          "color": "rgba(0,100,0,0.5)",
          "width": 2
         },
         "mode": "lines",
         "showlegend": false,
         "type": "scatter3d",
         "x": [
          -0.9595959595959596,
          -0.9595959595959596
         ],
         "y": [
          -0.5757575757575757,
          -0.5757575757575757
         ],
         "z": [
          -0.013670545495747422,
          0.009479626292779274
         ]
        },
        {
         "line": {
          "color": "rgba(0,100,0,0.5)",
          "width": 2
         },
         "mode": "lines",
         "showlegend": false,
         "type": "scatter3d",
         "x": [
          -0.8585858585858586,
          -0.8585858585858586
         ],
         "y": [
          -0.5151515151515151,
          -0.5151515151515151
         ],
         "z": [
          0.8013688055287613,
          0.22653119293005775
         ]
        },
        {
         "line": {
          "color": "rgba(0,100,0,0.5)",
          "width": 2
         },
         "mode": "lines",
         "showlegend": false,
         "type": "scatter3d",
         "x": [
          -0.7575757575757576,
          -0.7575757575757576
         ],
         "y": [
          -0.4545454545454546,
          -0.4545454545454546
         ],
         "z": [
          0.7965601394125073,
          0.42319693654460694
         ]
        },
        {
         "line": {
          "color": "rgba(0,100,0,0.5)",
          "width": 2
         },
         "mode": "lines",
         "showlegend": false,
         "type": "scatter3d",
         "x": [
          -0.6565656565656566,
          -0.6565656565656566
         ],
         "y": [
          -0.393939393939394,
          -0.393939393939394
         ],
         "z": [
          0.6586359814502745,
          0.5867073036218259
         ]
        },
        {
         "line": {
          "color": "rgba(0,100,0,0.5)",
          "width": 2
         },
         "mode": "lines",
         "showlegend": false,
         "type": "scatter3d",
         "x": [
          -0.5555555555555556,
          -0.5555555555555556
         ],
         "y": [
          -0.3333333333333333,
          -0.3333333333333333
         ],
         "z": [
          0.891296648720474,
          0.7132066861609485
         ]
        },
        {
         "line": {
          "color": "rgba(0,100,0,0.5)",
          "width": 2
         },
         "mode": "lines",
         "showlegend": false,
         "type": "scatter3d",
         "x": [
          -0.4545454545454546,
          -0.4545454545454546
         ],
         "y": [
          -0.2727272727272727,
          -0.2727272727272727
         ],
         "z": [
          0.9553070369759205,
          0.8057281072569049
         ]
        },
        {
         "line": {
          "color": "rgba(0,100,0,0.5)",
          "width": 2
         },
         "mode": "lines",
         "showlegend": false,
         "type": "scatter3d",
         "x": [
          -0.35353535353535354,
          -0.35353535353535354
         ],
         "y": [
          -0.2121212121212121,
          -0.2121212121212121
         ],
         "z": [
          0.9744955359812081,
          0.8706549947237863
         ]
        },
        {
         "line": {
          "color": "rgba(0,100,0,0.5)",
          "width": 2
         },
         "mode": "lines",
         "showlegend": false,
         "type": "scatter3d",
         "x": [
          -0.25252525252525254,
          -0.25252525252525254
         ],
         "y": [
          -0.15151515151515152,
          -0.15151515151515152
         ],
         "z": [
          0.9908834639873267,
          0.9149054676412427
         ]
        },
        {
         "line": {
          "color": "rgba(0,100,0,0.5)",
          "width": 2
         },
         "mode": "lines",
         "showlegend": false,
         "type": "scatter3d",
         "x": [
          -0.15151515151515152,
          -0.15151515151515152
         ],
         "y": [
          -0.09090909090909091,
          -0.09090909090909091
         ],
         "z": [
          1.0330112140610102,
          0.9444667376882346
         ]
        },
        {
         "line": {
          "color": "rgba(0,100,0,0.5)",
          "width": 2
         },
         "mode": "lines",
         "showlegend": false,
         "type": "scatter3d",
         "x": [
          -0.05050505050505051,
          -0.05050505050505051
         ],
         "y": [
          -0.030303030303030304,
          -0.030303030303030304
         ],
         "z": [
          0.9821223414759842,
          0.9639519417184413
         ]
        },
        {
         "line": {
          "color": "rgba(0,100,0,0.5)",
          "width": 2
         },
         "mode": "lines",
         "showlegend": false,
         "type": "scatter3d",
         "x": [
          0.05050505050505051,
          0.05050505050505051
         ],
         "y": [
          0.030303030303030304,
          0.030303030303030304
         ],
         "z": [
          1.0199196958848933,
          0.9766822716137623
         ]
        },
        {
         "line": {
          "color": "rgba(0,100,0,0.5)",
          "width": 2
         },
         "mode": "lines",
         "showlegend": false,
         "type": "scatter3d",
         "x": [
          0.15151515151515152,
          0.15151515151515152
         ],
         "y": [
          0.09090909090909091,
          0.09090909090909091
         ],
         "z": [
          1.0762149681402176,
          0.98495134831162
         ]
        },
        {
         "line": {
          "color": "rgba(0,100,0,0.5)",
          "width": 2
         },
         "mode": "lines",
         "showlegend": false,
         "type": "scatter3d",
         "x": [
          0.25252525252525254,
          0.25252525252525254
         ],
         "y": [
          0.15151515151515152,
          0.15151515151515152
         ],
         "z": [
          1.021059283480044,
          0.9903023805457731
         ]
        },
        {
         "line": {
          "color": "rgba(0,100,0,0.5)",
          "width": 2
         },
         "mode": "lines",
         "showlegend": false,
         "type": "scatter3d",
         "x": [
          0.35353535353535354,
          0.35353535353535354
         ],
         "y": [
          0.2121212121212121,
          0.2121212121212121
         ],
         "z": [
          1.0006020266158202,
          0.9937566658481716
         ]
        },
        {
         "line": {
          "color": "rgba(0,100,0,0.5)",
          "width": 2
         },
         "mode": "lines",
         "showlegend": false,
         "type": "scatter3d",
         "x": [
          0.4545454545454546,
          0.4545454545454546
         ],
         "y": [
          0.2727272727272727,
          0.2727272727272727
         ],
         "z": [
          1.0979735525428067,
          0.9959830204443094
         ]
        },
        {
         "line": {
          "color": "rgba(0,100,0,0.5)",
          "width": 2
         },
         "mode": "lines",
         "showlegend": false,
         "type": "scatter3d",
         "x": [
          0.5555555555555556,
          0.5555555555555556
         ],
         "y": [
          0.3333333333333333,
          0.3333333333333333
         ],
         "z": [
          1.0600495130895715,
          0.9974164922891001
         ]
        },
        {
         "line": {
          "color": "rgba(0,100,0,0.5)",
          "width": 2
         },
         "mode": "lines",
         "showlegend": false,
         "type": "scatter3d",
         "x": [
          0.6565656565656566,
          0.6565656565656566
         ],
         "y": [
          0.393939393939394,
          0.393939393939394
         ],
         "z": [
          1.0234491357898623,
          0.9983388509037928
         ]
        },
        {
         "line": {
          "color": "rgba(0,100,0,0.5)",
          "width": 2
         },
         "mode": "lines",
         "showlegend": false,
         "type": "scatter3d",
         "x": [
          0.7575757575757576,
          0.7575757575757576
         ],
         "y": [
          0.4545454545454546,
          0.4545454545454546
         ],
         "z": [
          1.0435133644120163,
          0.9989320869995497
         ]
        },
        {
         "line": {
          "color": "rgba(0,100,0,0.5)",
          "width": 2
         },
         "mode": "lines",
         "showlegend": false,
         "type": "scatter3d",
         "x": [
          0.8585858585858586,
          0.8585858585858586
         ],
         "y": [
          0.5151515151515151,
          0.5151515151515151
         ],
         "z": [
          1.0731133619941635,
          0.9993135370656411
         ]
        },
        {
         "line": {
          "color": "rgba(0,100,0,0.5)",
          "width": 2
         },
         "mode": "lines",
         "showlegend": false,
         "type": "scatter3d",
         "x": [
          0.9595959595959596,
          0.9595959595959596
         ],
         "y": [
          0.5757575757575757,
          0.5757575757575757
         ],
         "z": [
          1.0555328070455992,
          0.9995587662644522
         ]
        },
        {
         "line": {
          "color": "rgba(0,100,0,0.5)",
          "width": 2
         },
         "mode": "lines",
         "showlegend": false,
         "type": "scatter3d",
         "x": [
          1.0606060606060606,
          1.0606060606060606
         ],
         "y": [
          0.6363636363636364,
          0.6363636363636364
         ],
         "z": [
          1.0436978327368593,
          0.9997164032181016
         ]
        },
        {
         "line": {
          "color": "rgba(0,100,0,0.5)",
          "width": 2
         },
         "mode": "lines",
         "showlegend": false,
         "type": "scatter3d",
         "x": [
          1.1616161616161615,
          1.1616161616161615
         ],
         "y": [
          0.696969696969697,
          0.696969696969697
         ],
         "z": [
          1.0603192454942238,
          0.9998177272881935
         ]
        },
        {
         "line": {
          "color": "rgba(0,100,0,0.5)",
          "width": 2
         },
         "mode": "lines",
         "showlegend": false,
         "type": "scatter3d",
         "x": [
          1.2626262626262628,
          1.2626262626262628
         ],
         "y": [
          0.7575757575757576,
          0.7575757575757576
         ],
         "z": [
          1.0180624427314464,
          0.9998828521966691
         ]
        },
        {
         "line": {
          "color": "rgba(0,100,0,0.5)",
          "width": 2
         },
         "mode": "lines",
         "showlegend": false,
         "type": "scatter3d",
         "x": [
          1.3636363636363635,
          1.3636363636363635
         ],
         "y": [
          0.8181818181818181,
          0.8181818181818181
         ],
         "z": [
          1.0808573758971294,
          0.9999247092556471
         ]
        },
        {
         "line": {
          "color": "rgba(0,100,0,0.5)",
          "width": 2
         },
         "mode": "lines",
         "showlegend": false,
         "type": "scatter3d",
         "x": [
          1.4646464646464645,
          1.4646464646464645
         ],
         "y": [
          0.8787878787878788,
          0.8787878787878788
         ],
         "z": [
          1.0818784855878574,
          0.9999516110961321
         ]
        },
        {
         "line": {
          "color": "rgba(0,100,0,0.5)",
          "width": 2
         },
         "mode": "lines",
         "showlegend": false,
         "type": "scatter3d",
         "x": [
          1.5656565656565657,
          1.5656565656565657
         ],
         "y": [
          0.9393939393939394,
          0.9393939393939394
         ],
         "z": [
          1.0487013131097425,
          0.9999689008950051
         ]
        },
        {
         "line": {
          "color": "rgba(0,100,0,0.5)",
          "width": 2
         },
         "mode": "lines",
         "showlegend": false,
         "type": "scatter3d",
         "x": [
          1.6666666666666665,
          1.6666666666666665
         ],
         "y": [
          1,
          1
         ],
         "z": [
          1.0755003155256044,
          0.9999800129520063
         ]
        },
        {
         "line": {
          "color": "rgba(0,100,0,0.5)",
          "width": 2
         },
         "mode": "lines",
         "showlegend": false,
         "type": "scatter3d",
         "x": [
          1.7676767676767677,
          1.7676767676767677
         ],
         "y": [
          1.0606060606060606,
          1.0606060606060606
         ],
         "z": [
          1.040435735770506,
          0.9999871545726318
         ]
        },
        {
         "line": {
          "color": "rgba(0,100,0,0.5)",
          "width": 2
         },
         "mode": "lines",
         "showlegend": false,
         "type": "scatter3d",
         "x": [
          1.8686868686868687,
          1.8686868686868687
         ],
         "y": [
          1.1212121212121213,
          1.1212121212121213
         ],
         "z": [
          1.0725621056174384,
          0.9999917444139929
         ]
        },
        {
         "line": {
          "color": "rgba(0,100,0,0.5)",
          "width": 2
         },
         "mode": "lines",
         "showlegend": false,
         "type": "scatter3d",
         "x": [
          1.9696969696969697,
          1.9696969696969697
         ],
         "y": [
          1.1818181818181817,
          1.1818181818181817
         ],
         "z": [
          1.0153979358647145,
          0.9999946942485851
         ]
        },
        {
         "line": {
          "color": "rgba(0,100,0,0.5)",
          "width": 2
         },
         "mode": "lines",
         "showlegend": false,
         "type": "scatter3d",
         "x": [
          2.070707070707071,
          2.070707070707071
         ],
         "y": [
          1.2424242424242424,
          1.2424242424242424
         ],
         "z": [
          1.050904704077972,
          0.9999965900684438
         ]
        },
        {
         "line": {
          "color": "rgba(0,100,0,0.5)",
          "width": 2
         },
         "mode": "lines",
         "showlegend": false,
         "type": "scatter3d",
         "x": [
          2.1717171717171717,
          2.1717171717171717
         ],
         "y": [
          1.3030303030303032,
          1.3030303030303032
         ],
         "z": [
          1.0668032451925582,
          0.9999978084858542
         ]
        },
        {
         "line": {
          "color": "rgba(0,100,0,0.5)",
          "width": 2
         },
         "mode": "lines",
         "showlegend": false,
         "type": "scatter3d",
         "x": [
          2.2727272727272725,
          2.2727272727272725
         ],
         "y": [
          1.3636363636363635,
          1.3636363636363635
         ],
         "z": [
          1.0152571621912765,
          0.9999985915455702
         ]
        },
        {
         "line": {
          "color": "rgba(0,100,0,0.5)",
          "width": 2
         },
         "mode": "lines",
         "showlegend": false,
         "type": "scatter3d",
         "x": [
          2.3737373737373737,
          2.3737373737373737
         ],
         "y": [
          1.4242424242424243,
          1.4242424242424243
         ],
         "z": [
          1.0062693415569364,
          0.9999990948068452
         ]
        },
        {
         "line": {
          "color": "rgba(0,100,0,0.5)",
          "width": 2
         },
         "mode": "lines",
         "showlegend": false,
         "type": "scatter3d",
         "x": [
          2.474747474747475,
          2.474747474747475
         ],
         "y": [
          1.4848484848484849,
          1.4848484848484849
         ],
         "z": [
          1.0337114205580502,
          0.9999994182455915
         ]
        },
        {
         "line": {
          "color": "rgba(0,100,0,0.5)",
          "width": 2
         },
         "mode": "lines",
         "showlegend": false,
         "type": "scatter3d",
         "x": [
          2.5757575757575757,
          2.5757575757575757
         ],
         "y": [
          1.5454545454545454,
          1.5454545454545454
         ],
         "z": [
          1.0445942843394351,
          0.9999996261149673
         ]
        },
        {
         "line": {
          "color": "rgba(0,100,0,0.5)",
          "width": 2
         },
         "mode": "lines",
         "showlegend": false,
         "type": "scatter3d",
         "x": [
          2.676767676767677,
          2.676767676767677
         ],
         "y": [
          1.606060606060606,
          1.606060606060606
         ],
         "z": [
          1.075764791322691,
          0.9999997597095777
         ]
        },
        {
         "line": {
          "color": "rgba(0,100,0,0.5)",
          "width": 2
         },
         "mode": "lines",
         "showlegend": false,
         "type": "scatter3d",
         "x": [
          2.7777777777777777,
          2.7777777777777777
         ],
         "y": [
          1.6666666666666667,
          1.6666666666666667
         ],
         "z": [
          1.013053332345669,
          0.9999998455688764
         ]
        },
        {
         "line": {
          "color": "rgba(0,100,0,0.5)",
          "width": 2
         },
         "mode": "lines",
         "showlegend": false,
         "type": "scatter3d",
         "x": [
          2.878787878787879,
          2.878787878787879
         ],
         "y": [
          1.7272727272727275,
          1.7272727272727275
         ],
         "z": [
          1.0901511281043066,
          0.9999999007493876
         ]
        },
        {
         "line": {
          "color": "rgba(0,100,0,0.5)",
          "width": 2
         },
         "mode": "lines",
         "showlegend": false,
         "type": "scatter3d",
         "x": [
          2.9797979797979797,
          2.9797979797979797
         ],
         "y": [
          1.7878787878787876,
          1.7878787878787876
         ],
         "z": [
          1.0220338093055803,
          0.9999999362130915
         ]
        },
        {
         "line": {
          "color": "rgba(0,100,0,0.5)",
          "width": 2
         },
         "mode": "lines",
         "showlegend": false,
         "type": "scatter3d",
         "x": [
          3.0808080808080804,
          3.0808080808080804
         ],
         "y": [
          1.8484848484848484,
          1.8484848484848484
         ],
         "z": [
          1.0378550640529576,
          0.9999999590050924
         ]
        },
        {
         "line": {
          "color": "rgba(0,100,0,0.5)",
          "width": 2
         },
         "mode": "lines",
         "showlegend": false,
         "type": "scatter3d",
         "x": [
          3.1818181818181817,
          3.1818181818181817
         ],
         "y": [
          1.9090909090909092,
          1.9090909090909092
         ],
         "z": [
          1.042275585926939,
          0.9999999736531763
         ]
        },
        {
         "line": {
          "color": "rgba(0,100,0,0.5)",
          "width": 2
         },
         "mode": "lines",
         "showlegend": false,
         "type": "scatter3d",
         "x": [
          3.282828282828283,
          3.282828282828283
         ],
         "y": [
          1.9696969696969697,
          1.9696969696969697
         ],
         "z": [
          1.0972686170447485,
          0.9999999830672841
         ]
        },
        {
         "line": {
          "color": "rgba(0,100,0,0.5)",
          "width": 2
         },
         "mode": "lines",
         "showlegend": false,
         "type": "scatter3d",
         "x": [
          3.383838383838384,
          3.383838383838384
         ],
         "y": [
          2.0303030303030303,
          2.0303030303030303
         ],
         "z": [
          1.0177015993179503,
          0.9999999891175928
         ]
        },
        {
         "line": {
          "color": "rgba(0,100,0,0.5)",
          "width": 2
         },
         "mode": "lines",
         "showlegend": false,
         "type": "scatter3d",
         "x": [
          3.4848484848484853,
          3.4848484848484853
         ],
         "y": [
          2.090909090909091,
          2.090909090909091
         ],
         "z": [
          1.0882276498768944,
          0.999999993006037
         ]
        },
        {
         "line": {
          "color": "rgba(0,100,0,0.5)",
          "width": 2
         },
         "mode": "lines",
         "showlegend": false,
         "type": "scatter3d",
         "x": [
          3.5858585858585856,
          3.5858585858585856
         ],
         "y": [
          2.1515151515151514,
          2.1515151515151514
         ],
         "z": [
          1.0551257332396937,
          0.999999995505083
         ]
        },
        {
         "line": {
          "color": "rgba(0,100,0,0.5)",
          "width": 2
         },
         "mode": "lines",
         "showlegend": false,
         "type": "scatter3d",
         "x": [
          3.686868686868687,
          3.686868686868687
         ],
         "y": [
          2.212121212121212,
          2.212121212121212
         ],
         "z": [
          1.0321491900612425,
          0.9999999971111829
         ]
        },
        {
         "line": {
          "color": "rgba(0,100,0,0.5)",
          "width": 2
         },
         "mode": "lines",
         "showlegend": false,
         "type": "scatter3d",
         "x": [
          3.787878787878788,
          3.787878787878788
         ],
         "y": [
          2.2727272727272725,
          2.2727272727272725
         ],
         "z": [
          1.0899845597796185,
          0.9999999981433998
         ]
        },
        {
         "line": {
          "color": "rgba(0,100,0,0.5)",
          "width": 2
         },
         "mode": "lines",
         "showlegend": false,
         "type": "scatter3d",
         "x": [
          3.888888888888889,
          3.888888888888889
         ],
         "y": [
          2.3333333333333335,
          2.3333333333333335
         ],
         "z": [
          1.0542111719291447,
          0.9999999988067904
         ]
        },
        {
         "line": {
          "color": "rgba(0,100,0,0.5)",
          "width": 2
         },
         "mode": "lines",
         "showlegend": false,
         "type": "scatter3d",
         "x": [
          3.98989898989899,
          3.98989898989899
         ],
         "y": [
          2.393939393939394,
          2.393939393939394
         ],
         "z": [
          1.0462889255136243,
          0.9999999992331418
         ]
        },
        {
         "line": {
          "color": "rgba(0,100,0,0.5)",
          "width": 2
         },
         "mode": "lines",
         "showlegend": false,
         "type": "scatter3d",
         "x": [
          4.090909090909091,
          4.090909090909091
         ],
         "y": [
          2.4545454545454546,
          2.4545454545454546
         ],
         "z": [
          1.0807974927413038,
          0.9999999995071515
         ]
        },
        {
         "line": {
          "color": "rgba(0,100,0,0.5)",
          "width": 2
         },
         "mode": "lines",
         "showlegend": false,
         "type": "scatter3d",
         "x": [
          4.191919191919192,
          4.191919191919192
         ],
         "y": [
          2.515151515151515,
          2.515151515151515
         ],
         "z": [
          1.036081824030038,
          0.9999999996832535
         ]
        },
        {
         "line": {
          "color": "rgba(0,100,0,0.5)",
          "width": 2
         },
         "mode": "lines",
         "showlegend": false,
         "type": "scatter3d",
         "x": [
          4.292929292929292,
          4.292929292929292
         ],
         "y": [
          2.5757575757575757,
          2.5757575757575757
         ],
         "z": [
          1.0971002979469462,
          0.9999999997964316
         ]
        },
        {
         "line": {
          "color": "rgba(0,100,0,0.5)",
          "width": 2
         },
         "mode": "lines",
         "showlegend": false,
         "type": "scatter3d",
         "x": [
          4.393939393939394,
          4.393939393939394
         ],
         "y": [
          2.6363636363636362,
          2.6363636363636362
         ],
         "z": [
          1.055551732432999,
          0.9999999998691697
         ]
        },
        {
         "line": {
          "color": "rgba(0,100,0,0.5)",
          "width": 2
         },
         "mode": "lines",
         "showlegend": false,
         "type": "scatter3d",
         "x": [
          4.494949494949495,
          4.494949494949495
         ],
         "y": [
          2.6969696969696972,
          2.6969696969696972
         ],
         "z": [
          1.0769819702468155,
          0.9999999999159173
         ]
        },
        {
         "line": {
          "color": "rgba(0,100,0,0.5)",
          "width": 2
         },
         "mode": "lines",
         "showlegend": false,
         "type": "scatter3d",
         "x": [
          4.595959595959596,
          4.595959595959596
         ],
         "y": [
          2.757575757575758,
          2.757575757575758
         ],
         "z": [
          1.0680121019061068,
          0.9999999999459612
         ]
        },
        {
         "line": {
          "color": "rgba(0,100,0,0.5)",
          "width": 2
         },
         "mode": "lines",
         "showlegend": false,
         "type": "scatter3d",
         "x": [
          4.696969696969697,
          4.696969696969697
         ],
         "y": [
          2.8181818181818183,
          2.8181818181818183
         ],
         "z": [
          1.020519955089146,
          0.9999999999652701
         ]
        },
        {
         "line": {
          "color": "rgba(0,100,0,0.5)",
          "width": 2
         },
         "mode": "lines",
         "showlegend": false,
         "type": "scatter3d",
         "x": [
          4.797979797979798,
          4.797979797979798
         ],
         "y": [
          2.878787878787879,
          2.878787878787879
         ],
         "z": [
          1.0834622933034845,
          0.9999999999776796
         ]
        },
        {
         "line": {
          "color": "rgba(0,100,0,0.5)",
          "width": 2
         },
         "mode": "lines",
         "showlegend": false,
         "type": "scatter3d",
         "x": [
          4.898989898989899,
          4.898989898989899
         ],
         "y": [
          2.9393939393939394,
          2.9393939393939394
         ],
         "z": [
          1.0865467029714968,
          0.999999999985655
         ]
        },
        {
         "line": {
          "color": "rgba(0,100,0,0.5)",
          "width": 2
         },
         "mode": "lines",
         "showlegend": false,
         "type": "scatter3d",
         "x": [
          5,
          5
         ],
         "y": [
          3,
          3
         ],
         "z": [
          1.0041520782663516,
          0.9999999999907807
         ]
        }
       ],
       "layout": {
        "annotations": [
         {
          "bgcolor": "rgba(255, 255, 255, 0.9)",
          "bordercolor": "black",
          "borderpad": 5,
          "borderwidth": 1,
          "font": {
           "size": 13
          },
          "showarrow": false,
          "text": "<b>Neurônio com tanh:</b> w=[1.0942, 1.8237, 2.1095]<br>MSE: 0.01846, RMSE: 0.13588, MAE: 0.08376<br>Iterações: 9",
          "x": 0.5,
          "xref": "paper",
          "y": 0.02,
          "yref": "paper"
         }
        ],
        "height": 800,
        "legend": {
         "bgcolor": "rgba(255,255,255,0.8)",
         "bordercolor": "black",
         "borderwidth": 1,
         "x": 0.01,
         "xanchor": "left",
         "y": 0.99,
         "yanchor": "top"
        },
        "scene": {
         "aspectmode": "cube",
         "camera": {
          "eye": {
           "x": 1.5,
           "y": -1.5,
           "z": 1
          },
          "up": {
           "x": 0,
           "y": 0,
           "z": 1
          }
         },
         "xaxis": {
          "gridcolor": "lightgray",
          "title": {
           "text": "x1"
          }
         },
         "yaxis": {
          "gridcolor": "lightgray",
          "title": {
           "text": "x2"
          }
         },
         "zaxis": {
          "gridcolor": "lightgray",
          "title": {
           "text": "y"
          }
         }
        },
        "template": {
         "data": {
          "bar": [
           {
            "error_x": {
             "color": "#2a3f5f"
            },
            "error_y": {
             "color": "#2a3f5f"
            },
            "marker": {
             "line": {
              "color": "#E5ECF6",
              "width": 0.5
             },
             "pattern": {
              "fillmode": "overlay",
              "size": 10,
              "solidity": 0.2
             }
            },
            "type": "bar"
           }
          ],
          "barpolar": [
           {
            "marker": {
             "line": {
              "color": "#E5ECF6",
              "width": 0.5
             },
             "pattern": {
              "fillmode": "overlay",
              "size": 10,
              "solidity": 0.2
             }
            },
            "type": "barpolar"
           }
          ],
          "carpet": [
           {
            "aaxis": {
             "endlinecolor": "#2a3f5f",
             "gridcolor": "white",
             "linecolor": "white",
             "minorgridcolor": "white",
             "startlinecolor": "#2a3f5f"
            },
            "baxis": {
             "endlinecolor": "#2a3f5f",
             "gridcolor": "white",
             "linecolor": "white",
             "minorgridcolor": "white",
             "startlinecolor": "#2a3f5f"
            },
            "type": "carpet"
           }
          ],
          "choropleth": [
           {
            "colorbar": {
             "outlinewidth": 0,
             "ticks": ""
            },
            "type": "choropleth"
           }
          ],
          "contour": [
           {
            "colorbar": {
             "outlinewidth": 0,
             "ticks": ""
            },
            "colorscale": [
             [
              0,
              "#0d0887"
             ],
             [
              0.1111111111111111,
              "#46039f"
             ],
             [
              0.2222222222222222,
              "#7201a8"
             ],
             [
              0.3333333333333333,
              "#9c179e"
             ],
             [
              0.4444444444444444,
              "#bd3786"
             ],
             [
              0.5555555555555556,
              "#d8576b"
             ],
             [
              0.6666666666666666,
              "#ed7953"
             ],
             [
              0.7777777777777778,
              "#fb9f3a"
             ],
             [
              0.8888888888888888,
              "#fdca26"
             ],
             [
              1,
              "#f0f921"
             ]
            ],
            "type": "contour"
           }
          ],
          "contourcarpet": [
           {
            "colorbar": {
             "outlinewidth": 0,
             "ticks": ""
            },
            "type": "contourcarpet"
           }
          ],
          "heatmap": [
           {
            "colorbar": {
             "outlinewidth": 0,
             "ticks": ""
            },
            "colorscale": [
             [
              0,
              "#0d0887"
             ],
             [
              0.1111111111111111,
              "#46039f"
             ],
             [
              0.2222222222222222,
              "#7201a8"
             ],
             [
              0.3333333333333333,
              "#9c179e"
             ],
             [
              0.4444444444444444,
              "#bd3786"
             ],
             [
              0.5555555555555556,
              "#d8576b"
             ],
             [
              0.6666666666666666,
              "#ed7953"
             ],
             [
              0.7777777777777778,
              "#fb9f3a"
             ],
             [
              0.8888888888888888,
              "#fdca26"
             ],
             [
              1,
              "#f0f921"
             ]
            ],
            "type": "heatmap"
           }
          ],
          "histogram": [
           {
            "marker": {
             "pattern": {
              "fillmode": "overlay",
              "size": 10,
              "solidity": 0.2
             }
            },
            "type": "histogram"
           }
          ],
          "histogram2d": [
           {
            "colorbar": {
             "outlinewidth": 0,
             "ticks": ""
            },
            "colorscale": [
             [
              0,
              "#0d0887"
             ],
             [
              0.1111111111111111,
              "#46039f"
             ],
             [
              0.2222222222222222,
              "#7201a8"
             ],
             [
              0.3333333333333333,
              "#9c179e"
             ],
             [
              0.4444444444444444,
              "#bd3786"
             ],
             [
              0.5555555555555556,
              "#d8576b"
             ],
             [
              0.6666666666666666,
              "#ed7953"
             ],
             [
              0.7777777777777778,
              "#fb9f3a"
             ],
             [
              0.8888888888888888,
              "#fdca26"
             ],
             [
              1,
              "#f0f921"
             ]
            ],
            "type": "histogram2d"
           }
          ],
          "histogram2dcontour": [
           {
            "colorbar": {
             "outlinewidth": 0,
             "ticks": ""
            },
            "colorscale": [
             [
              0,
              "#0d0887"
             ],
             [
              0.1111111111111111,
              "#46039f"
             ],
             [
              0.2222222222222222,
              "#7201a8"
             ],
             [
              0.3333333333333333,
              "#9c179e"
             ],
             [
              0.4444444444444444,
              "#bd3786"
             ],
             [
              0.5555555555555556,
              "#d8576b"
             ],
             [
              0.6666666666666666,
              "#ed7953"
             ],
             [
              0.7777777777777778,
              "#fb9f3a"
             ],
             [
              0.8888888888888888,
              "#fdca26"
             ],
             [
              1,
              "#f0f921"
             ]
            ],
            "type": "histogram2dcontour"
           }
          ],
          "mesh3d": [
           {
            "colorbar": {
             "outlinewidth": 0,
             "ticks": ""
            },
            "type": "mesh3d"
           }
          ],
          "parcoords": [
           {
            "line": {
             "colorbar": {
              "outlinewidth": 0,
              "ticks": ""
             }
            },
            "type": "parcoords"
           }
          ],
          "pie": [
           {
            "automargin": true,
            "type": "pie"
           }
          ],
          "scatter": [
           {
            "fillpattern": {
             "fillmode": "overlay",
             "size": 10,
             "solidity": 0.2
            },
            "type": "scatter"
           }
          ],
          "scatter3d": [
           {
            "line": {
             "colorbar": {
              "outlinewidth": 0,
              "ticks": ""
             }
            },
            "marker": {
             "colorbar": {
              "outlinewidth": 0,
              "ticks": ""
             }
            },
            "type": "scatter3d"
           }
          ],
          "scattercarpet": [
           {
            "marker": {
             "colorbar": {
              "outlinewidth": 0,
              "ticks": ""
             }
            },
            "type": "scattercarpet"
           }
          ],
          "scattergeo": [
           {
            "marker": {
             "colorbar": {
              "outlinewidth": 0,
              "ticks": ""
             }
            },
            "type": "scattergeo"
           }
          ],
          "scattergl": [
           {
            "marker": {
             "colorbar": {
              "outlinewidth": 0,
              "ticks": ""
             }
            },
            "type": "scattergl"
           }
          ],
          "scattermap": [
           {
            "marker": {
             "colorbar": {
              "outlinewidth": 0,
              "ticks": ""
             }
            },
            "type": "scattermap"
           }
          ],
          "scattermapbox": [
           {
            "marker": {
             "colorbar": {
              "outlinewidth": 0,
              "ticks": ""
             }
            },
            "type": "scattermapbox"
           }
          ],
          "scatterpolar": [
           {
            "marker": {
             "colorbar": {
              "outlinewidth": 0,
              "ticks": ""
             }
            },
            "type": "scatterpolar"
           }
          ],
          "scatterpolargl": [
           {
            "marker": {
             "colorbar": {
              "outlinewidth": 0,
              "ticks": ""
             }
            },
            "type": "scatterpolargl"
           }
          ],
          "scatterternary": [
           {
            "marker": {
             "colorbar": {
              "outlinewidth": 0,
              "ticks": ""
             }
            },
            "type": "scatterternary"
           }
          ],
          "surface": [
           {
            "colorbar": {
             "outlinewidth": 0,
             "ticks": ""
            },
            "colorscale": [
             [
              0,
              "#0d0887"
             ],
             [
              0.1111111111111111,
              "#46039f"
             ],
             [
              0.2222222222222222,
              "#7201a8"
             ],
             [
              0.3333333333333333,
              "#9c179e"
             ],
             [
              0.4444444444444444,
              "#bd3786"
             ],
             [
              0.5555555555555556,
              "#d8576b"
             ],
             [
              0.6666666666666666,
              "#ed7953"
             ],
             [
              0.7777777777777778,
              "#fb9f3a"
             ],
             [
              0.8888888888888888,
              "#fdca26"
             ],
             [
              1,
              "#f0f921"
             ]
            ],
            "type": "surface"
           }
          ],
          "table": [
           {
            "cells": {
             "fill": {
              "color": "#EBF0F8"
             },
             "line": {
              "color": "white"
             }
            },
            "header": {
             "fill": {
              "color": "#C8D4E3"
             },
             "line": {
              "color": "white"
             }
            },
            "type": "table"
           }
          ]
         },
         "layout": {
          "annotationdefaults": {
           "arrowcolor": "#2a3f5f",
           "arrowhead": 0,
           "arrowwidth": 1
          },
          "autotypenumbers": "strict",
          "coloraxis": {
           "colorbar": {
            "outlinewidth": 0,
            "ticks": ""
           }
          },
          "colorscale": {
           "diverging": [
            [
             0,
             "#8e0152"
            ],
            [
             0.1,
             "#c51b7d"
            ],
            [
             0.2,
             "#de77ae"
            ],
            [
             0.3,
             "#f1b6da"
            ],
            [
             0.4,
             "#fde0ef"
            ],
            [
             0.5,
             "#f7f7f7"
            ],
            [
             0.6,
             "#e6f5d0"
            ],
            [
             0.7,
             "#b8e186"
            ],
            [
             0.8,
             "#7fbc41"
            ],
            [
             0.9,
             "#4d9221"
            ],
            [
             1,
             "#276419"
            ]
           ],
           "sequential": [
            [
             0,
             "#0d0887"
            ],
            [
             0.1111111111111111,
             "#46039f"
            ],
            [
             0.2222222222222222,
             "#7201a8"
            ],
            [
             0.3333333333333333,
             "#9c179e"
            ],
            [
             0.4444444444444444,
             "#bd3786"
            ],
            [
             0.5555555555555556,
             "#d8576b"
            ],
            [
             0.6666666666666666,
             "#ed7953"
            ],
            [
             0.7777777777777778,
             "#fb9f3a"
            ],
            [
             0.8888888888888888,
             "#fdca26"
            ],
            [
             1,
             "#f0f921"
            ]
           ],
           "sequentialminus": [
            [
             0,
             "#0d0887"
            ],
            [
             0.1111111111111111,
             "#46039f"
            ],
            [
             0.2222222222222222,
             "#7201a8"
            ],
            [
             0.3333333333333333,
             "#9c179e"
            ],
            [
             0.4444444444444444,
             "#bd3786"
            ],
            [
             0.5555555555555556,
             "#d8576b"
            ],
            [
             0.6666666666666666,
             "#ed7953"
            ],
            [
             0.7777777777777778,
             "#fb9f3a"
            ],
            [
             0.8888888888888888,
             "#fdca26"
            ],
            [
             1,
             "#f0f921"
            ]
           ]
          },
          "colorway": [
           "#636efa",
           "#EF553B",
           "#00cc96",
           "#ab63fa",
           "#FFA15A",
           "#19d3f3",
           "#FF6692",
           "#B6E880",
           "#FF97FF",
           "#FECB52"
          ],
          "font": {
           "color": "#2a3f5f"
          },
          "geo": {
           "bgcolor": "white",
           "lakecolor": "white",
           "landcolor": "#E5ECF6",
           "showlakes": true,
           "showland": true,
           "subunitcolor": "white"
          },
          "hoverlabel": {
           "align": "left"
          },
          "hovermode": "closest",
          "mapbox": {
           "style": "light"
          },
          "paper_bgcolor": "white",
          "plot_bgcolor": "#E5ECF6",
          "polar": {
           "angularaxis": {
            "gridcolor": "white",
            "linecolor": "white",
            "ticks": ""
           },
           "bgcolor": "#E5ECF6",
           "radialaxis": {
            "gridcolor": "white",
            "linecolor": "white",
            "ticks": ""
           }
          },
          "scene": {
           "xaxis": {
            "backgroundcolor": "#E5ECF6",
            "gridcolor": "white",
            "gridwidth": 2,
            "linecolor": "white",
            "showbackground": true,
            "ticks": "",
            "zerolinecolor": "white"
           },
           "yaxis": {
            "backgroundcolor": "#E5ECF6",
            "gridcolor": "white",
            "gridwidth": 2,
            "linecolor": "white",
            "showbackground": true,
            "ticks": "",
            "zerolinecolor": "white"
           },
           "zaxis": {
            "backgroundcolor": "#E5ECF6",
            "gridcolor": "white",
            "gridwidth": 2,
            "linecolor": "white",
            "showbackground": true,
            "ticks": "",
            "zerolinecolor": "white"
           }
          },
          "shapedefaults": {
           "line": {
            "color": "#2a3f5f"
           }
          },
          "ternary": {
           "aaxis": {
            "gridcolor": "white",
            "linecolor": "white",
            "ticks": ""
           },
           "baxis": {
            "gridcolor": "white",
            "linecolor": "white",
            "ticks": ""
           },
           "bgcolor": "#E5ECF6",
           "caxis": {
            "gridcolor": "white",
            "linecolor": "white",
            "ticks": ""
           }
          },
          "title": {
           "x": 0.05
          },
          "xaxis": {
           "automargin": true,
           "gridcolor": "white",
           "linecolor": "white",
           "ticks": "",
           "title": {
            "standoff": 15
           },
           "zerolinecolor": "white",
           "zerolinewidth": 2
          },
          "yaxis": {
           "automargin": true,
           "gridcolor": "white",
           "linecolor": "white",
           "ticks": "",
           "title": {
            "standoff": 15
           },
           "zerolinecolor": "white",
           "zerolinewidth": 2
          }
         }
        },
        "title": {
         "text": "Modelo do Neurônio: Valores Reais vs. Previstos"
        },
        "width": 1000
       }
      }
     },
     "metadata": {},
     "output_type": "display_data"
    }
   ],
   "source": [
    "# Criar figura 3D melhorada\n",
    "fig = go.Figure()\n",
    "\n",
    "# Adicionar superfície de predição para melhor visualização\n",
    "x1_range = np.linspace(min(x1_data), max(x1_data), 30)\n",
    "x2_range = np.linspace(min(x2_data), max(x2_data), 30)\n",
    "x1_grid, x2_grid = np.meshgrid(x1_range, x2_range)\n",
    "y_grid = np.zeros_like(x1_grid)\n",
    "\n",
    "# Calcular valores preditos para toda a superfície\n",
    "for i in range(x1_grid.shape[0]):\n",
    "    for j in range(x1_grid.shape[1]):\n",
    "        y_grid[i, j] = neuron(x1_grid[i, j], x2_grid[i, j])\n",
    "\n",
    "# Adicionar superfície de predição\n",
    "fig.add_trace(go.Surface(\n",
    "    x=x1_grid, y=x2_grid, z=y_grid,\n",
    "    colorscale='Blues',\n",
    "    opacity=0.7,\n",
    "    showscale=False,\n",
    "    name='Superfície de Predição'\n",
    "))\n",
    "\n",
    "# Adicionar pontos originais\n",
    "fig.add_trace(go.Scatter3d(\n",
    "    x=x1_data,\n",
    "    y=x2_data,\n",
    "    z=y,\n",
    "    mode='markers',\n",
    "    marker=dict(\n",
    "        size=7,\n",
    "        color='red',\n",
    "        symbol='circle',\n",
    "        line=dict(width=1, color='darkred')\n",
    "    ),\n",
    "    name='Dados Originais'\n",
    "))\n",
    "\n",
    "# Adicionar pontos previstos\n",
    "fig.add_trace(go.Scatter3d(\n",
    "    x=x1_data,\n",
    "    y=x2_data,\n",
    "    z=y_hat,\n",
    "    mode='markers',\n",
    "    marker=dict(\n",
    "        size=7,\n",
    "        color='blue',\n",
    "        symbol='diamond',\n",
    "        line=dict(width=1, color='darkblue')\n",
    "    ),\n",
    "    name='Valores Previstos'\n",
    "))\n",
    "\n",
    "# Adicionar linhas verticais mais finas\n",
    "for i in range(len(x1_data)):\n",
    "    fig.add_trace(go.Scatter3d(\n",
    "        x=[x1_data[i], x1_data[i]],\n",
    "        y=[x2_data[i], x2_data[i]],\n",
    "        z=[y[i], y_hat[i]],\n",
    "        mode='lines',\n",
    "        line=dict(color='rgba(0,100,0,0.5)', width=2),\n",
    "        showlegend=False\n",
    "    ))\n",
    "\n",
    "# Configurar layout\n",
    "fig.update_layout(\n",
    "    title='Modelo do Neurônio: Valores Reais vs. Previstos',\n",
    "    scene=dict(\n",
    "        xaxis_title='x1',\n",
    "        yaxis_title='x2',\n",
    "        zaxis_title='y',\n",
    "        # Usar proporções cúbicas para evitar achatamento\n",
    "        aspectmode='cube',\n",
    "        camera=dict(\n",
    "            eye=dict(x=1.5, y=-1.5, z=1),  # Posição da câmera\n",
    "            up=dict(x=0, y=0, z=1)  # Orientação \"para cima\"\n",
    "        ),\n",
    "        xaxis=dict(gridcolor='lightgray'),\n",
    "        yaxis=dict(gridcolor='lightgray'),\n",
    "        zaxis=dict(gridcolor='lightgray')\n",
    "    ),\n",
    "    width=1000,\n",
    "    height=800,\n",
    "    legend=dict(\n",
    "        yanchor=\"top\",\n",
    "        y=0.99,\n",
    "        xanchor=\"left\",\n",
    "        x=0.01,\n",
    "        bgcolor=\"rgba(255,255,255,0.8)\",\n",
    "        bordercolor=\"black\",\n",
    "        borderwidth=1\n",
    "    )\n",
    ")\n",
    "\n",
    "pesos_info = (f\"<b>Neurônio com tanh:</b> w=[{', '.join([f'{w:.4f}' for w in final_weights_denorm])}]<br>\"\n",
    "              f\"MSE: {mse_final:.5f}, RMSE: {rmse_final:.5f}, MAE: {mae_final:.5f}<br>\"\n",
    "              f\"Iterações: {n_iters}\")\n",
    "\n",
    "fig.add_annotation(\n",
    "    x=0.5, y=0.02,\n",
    "    xref=\"paper\", yref=\"paper\",\n",
    "    text=pesos_info,\n",
    "    showarrow=False,\n",
    "    font=dict(size=13),\n",
    "    bgcolor=\"rgba(255, 255, 255, 0.9)\",\n",
    "    bordercolor=\"black\",\n",
    "    borderwidth=1,\n",
    "    borderpad=5\n",
    ")\n",
    "\n",
    "fig.show()"
   ]
  }
 ],
 "metadata": {
  "kernelspec": {
   "display_name": "rna-tarefas-mestrado (3.13.2)",
   "language": "python",
   "name": "python3"
  },
  "language_info": {
   "codemirror_mode": {
    "name": "ipython",
    "version": 3
   },
   "file_extension": ".py",
   "mimetype": "text/x-python",
   "name": "python",
   "nbconvert_exporter": "python",
   "pygments_lexer": "ipython3",
   "version": "3.13.2"
  }
 },
 "nbformat": 4,
 "nbformat_minor": 5
}
