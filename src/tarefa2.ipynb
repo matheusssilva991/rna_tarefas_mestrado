{
 "cells": [
  {
   "cell_type": "code",
   "execution_count": 1,
   "id": "749e9c66",
   "metadata": {},
   "outputs": [],
   "source": [
    "import numpy as np\n",
    "import sys\n",
    "import os\n",
    "from typing import Sequence\n",
    "import pandas as pd\n",
    "import matplotlib.pyplot as plt\n",
    "import plotly.express as px\n",
    "import plotly.graph_objects as go\n",
    "\n",
    "sys.path.append(os.path.abspath(\"../libs\"))\n",
    "sys.path.append(os.path.abspath(\"../utils\"))\n",
    "\n",
    "from gradient_descendent import gradient_descendent\n",
    "from normalize import MinMaxNormalizer, StandardScaler\n",
    "from loss_fn_tarefa2 import make_mse_loss_function, make_mae_loss_function, make_rmse_loss_function\n",
    "from plots.plots_tarefa2 import plot_best_by_loss"
   ]
  },
  {
   "cell_type": "markdown",
   "id": "f77a74e5",
   "metadata": {},
   "source": [
    "# Ajuste de curva por otimização"
   ]
  },
  {
   "cell_type": "markdown",
   "id": "76c8d133",
   "metadata": {},
   "source": [
    "## Carregar os dados"
   ]
  },
  {
   "cell_type": "code",
   "execution_count": 2,
   "id": "037534c3",
   "metadata": {},
   "outputs": [
    {
     "data": {
      "text/html": [
       "<div>\n",
       "<style scoped>\n",
       "    .dataframe tbody tr th:only-of-type {\n",
       "        vertical-align: middle;\n",
       "    }\n",
       "\n",
       "    .dataframe tbody tr th {\n",
       "        vertical-align: top;\n",
       "    }\n",
       "\n",
       "    .dataframe thead th {\n",
       "        text-align: right;\n",
       "    }\n",
       "</style>\n",
       "<table border=\"1\" class=\"dataframe\">\n",
       "  <thead>\n",
       "    <tr style=\"text-align: right;\">\n",
       "      <th></th>\n",
       "      <th>x</th>\n",
       "      <th>y</th>\n",
       "      <th>z</th>\n",
       "    </tr>\n",
       "  </thead>\n",
       "  <tbody>\n",
       "    <tr>\n",
       "      <th>0</th>\n",
       "      <td>-5.0</td>\n",
       "      <td>-5.0</td>\n",
       "      <td>-458.963629</td>\n",
       "    </tr>\n",
       "    <tr>\n",
       "      <th>1</th>\n",
       "      <td>-5.0</td>\n",
       "      <td>-3.8</td>\n",
       "      <td>-520.361381</td>\n",
       "    </tr>\n",
       "    <tr>\n",
       "      <th>2</th>\n",
       "      <td>-5.0</td>\n",
       "      <td>-2.6</td>\n",
       "      <td>-593.039231</td>\n",
       "    </tr>\n",
       "    <tr>\n",
       "      <th>3</th>\n",
       "      <td>-5.0</td>\n",
       "      <td>-1.4</td>\n",
       "      <td>-606.776605</td>\n",
       "    </tr>\n",
       "    <tr>\n",
       "      <th>4</th>\n",
       "      <td>-5.0</td>\n",
       "      <td>-0.2</td>\n",
       "      <td>-657.401892</td>\n",
       "    </tr>\n",
       "  </tbody>\n",
       "</table>\n",
       "</div>"
      ],
      "text/plain": [
       "     x    y           z\n",
       "0 -5.0 -5.0 -458.963629\n",
       "1 -5.0 -3.8 -520.361381\n",
       "2 -5.0 -2.6 -593.039231\n",
       "3 -5.0 -1.4 -606.776605\n",
       "4 -5.0 -0.2 -657.401892"
      ]
     },
     "execution_count": 2,
     "metadata": {},
     "output_type": "execute_result"
    }
   ],
   "source": [
    "# Carregamento dos dados\n",
    "df = pd.read_excel('../data/Trabalho2dados.xlsx')\n",
    "\n",
    "df.head()"
   ]
  },
  {
   "cell_type": "markdown",
   "id": "1983fdde",
   "metadata": {},
   "source": [
    "## EDA dados"
   ]
  },
  {
   "cell_type": "code",
   "execution_count": 3,
   "id": "d9f7363f",
   "metadata": {},
   "outputs": [
    {
     "data": {
      "text/html": [
       "<div>\n",
       "<style scoped>\n",
       "    .dataframe tbody tr th:only-of-type {\n",
       "        vertical-align: middle;\n",
       "    }\n",
       "\n",
       "    .dataframe tbody tr th {\n",
       "        vertical-align: top;\n",
       "    }\n",
       "\n",
       "    .dataframe thead th {\n",
       "        text-align: right;\n",
       "    }\n",
       "</style>\n",
       "<table border=\"1\" class=\"dataframe\">\n",
       "  <thead>\n",
       "    <tr style=\"text-align: right;\">\n",
       "      <th></th>\n",
       "      <th>x</th>\n",
       "      <th>y</th>\n",
       "      <th>z</th>\n",
       "    </tr>\n",
       "  </thead>\n",
       "  <tbody>\n",
       "    <tr>\n",
       "      <th>count</th>\n",
       "      <td>81.000000</td>\n",
       "      <td>81.000000</td>\n",
       "      <td>81.000000</td>\n",
       "    </tr>\n",
       "    <tr>\n",
       "      <th>mean</th>\n",
       "      <td>-0.200000</td>\n",
       "      <td>-0.200000</td>\n",
       "      <td>36.990573</td>\n",
       "    </tr>\n",
       "    <tr>\n",
       "      <th>std</th>\n",
       "      <td>3.117691</td>\n",
       "      <td>3.117691</td>\n",
       "      <td>294.680404</td>\n",
       "    </tr>\n",
       "    <tr>\n",
       "      <th>min</th>\n",
       "      <td>-5.000000</td>\n",
       "      <td>-5.000000</td>\n",
       "      <td>-657.401892</td>\n",
       "    </tr>\n",
       "    <tr>\n",
       "      <th>25%</th>\n",
       "      <td>-2.600000</td>\n",
       "      <td>-2.600000</td>\n",
       "      <td>-42.780939</td>\n",
       "    </tr>\n",
       "    <tr>\n",
       "      <th>50%</th>\n",
       "      <td>-0.200000</td>\n",
       "      <td>-0.200000</td>\n",
       "      <td>59.403645</td>\n",
       "    </tr>\n",
       "    <tr>\n",
       "      <th>75%</th>\n",
       "      <td>2.200000</td>\n",
       "      <td>2.200000</td>\n",
       "      <td>170.599518</td>\n",
       "    </tr>\n",
       "    <tr>\n",
       "      <th>max</th>\n",
       "      <td>4.600000</td>\n",
       "      <td>4.600000</td>\n",
       "      <td>614.700100</td>\n",
       "    </tr>\n",
       "  </tbody>\n",
       "</table>\n",
       "</div>"
      ],
      "text/plain": [
       "               x          y           z\n",
       "count  81.000000  81.000000   81.000000\n",
       "mean   -0.200000  -0.200000   36.990573\n",
       "std     3.117691   3.117691  294.680404\n",
       "min    -5.000000  -5.000000 -657.401892\n",
       "25%    -2.600000  -2.600000  -42.780939\n",
       "50%    -0.200000  -0.200000   59.403645\n",
       "75%     2.200000   2.200000  170.599518\n",
       "max     4.600000   4.600000  614.700100"
      ]
     },
     "execution_count": 3,
     "metadata": {},
     "output_type": "execute_result"
    }
   ],
   "source": [
    "df.describe()"
   ]
  },
  {
   "cell_type": "code",
   "execution_count": 4,
   "id": "ef14e37c",
   "metadata": {},
   "outputs": [
    {
     "data": {
      "text/plain": [
       "x    0\n",
       "y    0\n",
       "z    0\n",
       "dtype: int64"
      ]
     },
     "execution_count": 4,
     "metadata": {},
     "output_type": "execute_result"
    }
   ],
   "source": [
    "df.isna().sum()"
   ]
  },
  {
   "cell_type": "code",
   "execution_count": 5,
   "id": "32edf9b1",
   "metadata": {},
   "outputs": [
    {
     "data": {
      "application/vnd.plotly.v1+json": {
       "config": {
        "plotlyServerURL": "https://plot.ly"
       },
       "data": [
        {
         "colorscale": [
          [
           0,
           "#440154"
          ],
          [
           0.1111111111111111,
           "#482878"
          ],
          [
           0.2222222222222222,
           "#3e4989"
          ],
          [
           0.3333333333333333,
           "#31688e"
          ],
          [
           0.4444444444444444,
           "#26828e"
          ],
          [
           0.5555555555555556,
           "#1f9e89"
          ],
          [
           0.6666666666666666,
           "#35b779"
          ],
          [
           0.7777777777777778,
           "#6ece58"
          ],
          [
           0.8888888888888888,
           "#b5de2b"
          ],
          [
           1,
           "#fde725"
          ]
         ],
         "contours": {
          "z": {
           "highlightcolor": "white",
           "project": {
            "z": true
           },
           "show": true,
           "usecolormap": true
          }
         },
         "name": "Superfície dos Dados",
         "opacity": 0.9,
         "type": "surface",
         "x": {
          "bdata": "AAAAAAAAFMBmZmZmZmYOwM3MzMzMzATAaGZmZmZm9r+gmZmZmZnJvwAAAAAAAPA/mZmZmZmZAUAyMzMzMzMLQGZmZmZmZhJA",
          "dtype": "f8"
         },
         "y": {
          "bdata": "AAAAAAAAFMBmZmZmZmYOwM3MzMzMzATAaGZmZmZm9r+gmZmZmZnJvwAAAAAAAPA/mZmZmZmZAUAyMzMzMzMLQGZmZmZmZhJA",
          "dtype": "f8"
         },
         "z": {
          "bdata": "9sghBmuvfMC0I0+f2t1hwK8LugEe2lJAqRchANEXY0CXyXr2YdNiQAXkA6qEaGRAYRUI67oQZkCrc0pJRUR3QPvexyqfJYNA56vLG+RCgMBgZFWNY0RmwEa0ZU71tjdASHovQizPUEC2yUt2ioZXQIE/ymEiEFJAofS3QC9TZUDm0Y69RzpxQBxk+a3Gm4JAh69vWFCIgsDr2fnzbGBtwMXwCs/1Y0XAAKbl/Ohw5z+MPGrMWAZUQIPM0KKqs01AdnFhUEEJY0BYWYDTU69vQGvDh4ASt4BAxGnZfDb2gsC8hbDvayFqwFXOkBgITEHATybcMR6bRkD4ZK9QxgMSQLZw2jvWoCRAbl3iWwiMV0AD6gnTpuNpQNwbLrpiU4BAAeQkEzeLhMAk6/XeOCtuwLj38j6P0FXA/Yd56iUkL8DWRXvas+Q5QPddrDvbtSpAiXUrThCVTEAi8fVSARFpQN9/ze8BZX9ANYX9+71QgsBaaZmAw0RzwKEVjb8aVVDAjlnf8IZjEUDsg/0U6SE2QBSM3YxpuTtAIlxfPf9zU0AmTk5q1SNpQMAYRqOGBIBA/M43o1W0gsACTn1vyk9swPoCevfMxUHAOsIQ26pKQkAcJJh7USlBQOqpfkVp8jlAN2AcB9zjUUAW4wxTc+FqQNasiNjrAH9AUTA5arzNgcDHxNnozt5rwPVOnU/RQxvAfddQOV36UEA6vegZHBdNQIdtQ2USplNAhP5SrQhFZUCdRKEKSBtwQJ8BCeQTDYFAihsM/ebRfsBpdWkKCdBhwBqUJlS9rFBAp8B+eU9JWkAiG2r8lmdgQIRpKZrCnmJAx2bRaHMgakCkRVdKg5R0QNmH6s2ZNYNA",
          "dtype": "f8",
          "shape": "9, 9"
         }
        },
        {
         "marker": {
          "color": "red",
          "size": 3,
          "symbol": "circle"
         },
         "mode": "markers",
         "name": "Pontos de Dados Originais",
         "type": "scatter3d",
         "x": {
          "bdata": "AAAAAAAAFMAAAAAAAAAUwAAAAAAAABTAAAAAAAAAFMAAAAAAAAAUwAAAAAAAABTAAAAAAAAAFMAAAAAAAAAUwAAAAAAAABTAZmZmZmZmDsBmZmZmZmYOwGZmZmZmZg7AZmZmZmZmDsBmZmZmZmYOwGZmZmZmZg7AZmZmZmZmDsBmZmZmZmYOwGZmZmZmZg7AzczMzMzMBMDNzMzMzMwEwM3MzMzMzATAzczMzMzMBMDNzMzMzMwEwM3MzMzMzATAzczMzMzMBMDNzMzMzMwEwM3MzMzMzATAaGZmZmZm9r9oZmZmZmb2v2hmZmZmZva/aGZmZmZm9r9oZmZmZmb2v2hmZmZmZva/aGZmZmZm9r9oZmZmZmb2v2hmZmZmZva/oJmZmZmZyb+gmZmZmZnJv6CZmZmZmcm/oJmZmZmZyb+gmZmZmZnJv6CZmZmZmcm/oJmZmZmZyb+gmZmZmZnJv6CZmZmZmcm/AAAAAAAA8D8AAAAAAADwPwAAAAAAAPA/AAAAAAAA8D8AAAAAAADwPwAAAAAAAPA/AAAAAAAA8D8AAAAAAADwPwAAAAAAAPA/mZmZmZmZAUCZmZmZmZkBQJmZmZmZmQFAmZmZmZmZAUCZmZmZmZkBQJmZmZmZmQFAmZmZmZmZAUCZmZmZmZkBQJmZmZmZmQFAMjMzMzMzC0AyMzMzMzMLQDIzMzMzMwtAMjMzMzMzC0AyMzMzMzMLQDIzMzMzMwtAMjMzMzMzC0AyMzMzMzMLQDIzMzMzMwtAZmZmZmZmEkBmZmZmZmYSQGZmZmZmZhJAZmZmZmZmEkBmZmZmZmYSQGZmZmZmZhJAZmZmZmZmEkBmZmZmZmYSQGZmZmZmZhJA",
          "dtype": "f8"
         },
         "y": {
          "bdata": "AAAAAAAAFMBmZmZmZmYOwM3MzMzMzATAaGZmZmZm9r+gmZmZmZnJvwAAAAAAAPA/mZmZmZmZAUAyMzMzMzMLQGZmZmZmZhJAAAAAAAAAFMBmZmZmZmYOwM3MzMzMzATAaGZmZmZm9r+gmZmZmZnJvwAAAAAAAPA/mZmZmZmZAUAyMzMzMzMLQGZmZmZmZhJAAAAAAAAAFMBmZmZmZmYOwM3MzMzMzATAaGZmZmZm9r+gmZmZmZnJvwAAAAAAAPA/mZmZmZmZAUAyMzMzMzMLQGZmZmZmZhJAAAAAAAAAFMBmZmZmZmYOwM3MzMzMzATAaGZmZmZm9r+gmZmZmZnJvwAAAAAAAPA/mZmZmZmZAUAyMzMzMzMLQGZmZmZmZhJAAAAAAAAAFMBmZmZmZmYOwM3MzMzMzATAaGZmZmZm9r+gmZmZmZnJvwAAAAAAAPA/mZmZmZmZAUAyMzMzMzMLQGZmZmZmZhJAAAAAAAAAFMBmZmZmZmYOwM3MzMzMzATAaGZmZmZm9r+gmZmZmZnJvwAAAAAAAPA/mZmZmZmZAUAyMzMzMzMLQGZmZmZmZhJAAAAAAAAAFMBmZmZmZmYOwM3MzMzMzATAaGZmZmZm9r+gmZmZmZnJvwAAAAAAAPA/mZmZmZmZAUAyMzMzMzMLQGZmZmZmZhJAAAAAAAAAFMBmZmZmZmYOwM3MzMzMzATAaGZmZmZm9r+gmZmZmZnJvwAAAAAAAPA/mZmZmZmZAUAyMzMzMzMLQGZmZmZmZhJAAAAAAAAAFMBmZmZmZmYOwM3MzMzMzATAaGZmZmZm9r+gmZmZmZnJvwAAAAAAAPA/mZmZmZmZAUAyMzMzMzMLQGZmZmZmZhJA",
          "dtype": "f8"
         },
         "z": {
          "bdata": "9sghBmuvfMDnq8sb5EKAwIevb1hQiILAxGnZfDb2gsAB5CQTN4uEwDWF/fu9UILA/M43o1W0gsBRMDlqvM2BwIobDP3m0X7AtCNPn9rdYcBgZFWNY0RmwOvZ+fNsYG3AvIWw72shasAk6/XeOCtuwFppmYDDRHPAAk59b8pPbMDHxNnozt5rwGl1aQoJ0GHArwu6AR7aUkBGtGVO9bY3QMXwCs/1Y0XAVc6QGAhMQcC49/I+j9BVwKEVjb8aVVDA+gJ698zFQcD1Tp1P0UMbwBqUJlS9rFBAqRchANEXY0BIei9CLM9QQACm5fzocOc/TybcMR6bRkD9h3nqJSQvwI5Z3/CGYxFAOsIQ26pKQkB911A5XfpQQKfAfnlPSVpAl8l69mHTYkC2yUt2ioZXQIw8asxYBlRA+GSvUMYDEkDWRXvas+Q5QOyD/RTpITZAHCSYe1EpQUA6vegZHBdNQCIbavyWZ2BABeQDqoRoZECBP8phIhBSQIPM0KKqs01AtnDaO9agJED3Xaw727UqQBSM3YxpuTtA6ql+RWnyOUCHbUNlEqZTQIRpKZrCnmJAYRUI67oQZkCh9LdAL1NlQHZxYVBBCWNAbl3iWwiMV0CJdStOEJVMQCJcXz3/c1NAN2AcB9zjUUCE/lKtCEVlQMdm0WhzIGpAq3NKSUVEd0Dm0Y69RzpxQFhZgNNTr29AA+oJ06bjaUAi8fVSARFpQCZOTmrVI2lAFuMMU3PhakCdRKEKSBtwQKRFV0qDlHRA+97HKp8lg0AcZPmtxpuCQGvDh4ASt4BA3BsuumJTgEDff83vAWV/QMAYRqOGBIBA1qyI2OsAf0CfAQnkEw2BQNmH6s2ZNYNA",
          "dtype": "f8"
         }
        }
       ],
       "layout": {
        "margin": {
         "b": 0,
         "l": 0,
         "r": 0,
         "t": 50
        },
        "scene": {
         "xaxis": {
          "title": {
           "text": "Eixo X"
          }
         },
         "yaxis": {
          "title": {
           "text": "Eixo Y"
          }
         },
         "zaxis": {
          "title": {
           "text": "Eixo Z (Valor)"
          }
         }
        },
        "template": {
         "data": {
          "bar": [
           {
            "error_x": {
             "color": "#2a3f5f"
            },
            "error_y": {
             "color": "#2a3f5f"
            },
            "marker": {
             "line": {
              "color": "#E5ECF6",
              "width": 0.5
             },
             "pattern": {
              "fillmode": "overlay",
              "size": 10,
              "solidity": 0.2
             }
            },
            "type": "bar"
           }
          ],
          "barpolar": [
           {
            "marker": {
             "line": {
              "color": "#E5ECF6",
              "width": 0.5
             },
             "pattern": {
              "fillmode": "overlay",
              "size": 10,
              "solidity": 0.2
             }
            },
            "type": "barpolar"
           }
          ],
          "carpet": [
           {
            "aaxis": {
             "endlinecolor": "#2a3f5f",
             "gridcolor": "white",
             "linecolor": "white",
             "minorgridcolor": "white",
             "startlinecolor": "#2a3f5f"
            },
            "baxis": {
             "endlinecolor": "#2a3f5f",
             "gridcolor": "white",
             "linecolor": "white",
             "minorgridcolor": "white",
             "startlinecolor": "#2a3f5f"
            },
            "type": "carpet"
           }
          ],
          "choropleth": [
           {
            "colorbar": {
             "outlinewidth": 0,
             "ticks": ""
            },
            "type": "choropleth"
           }
          ],
          "contour": [
           {
            "colorbar": {
             "outlinewidth": 0,
             "ticks": ""
            },
            "colorscale": [
             [
              0,
              "#0d0887"
             ],
             [
              0.1111111111111111,
              "#46039f"
             ],
             [
              0.2222222222222222,
              "#7201a8"
             ],
             [
              0.3333333333333333,
              "#9c179e"
             ],
             [
              0.4444444444444444,
              "#bd3786"
             ],
             [
              0.5555555555555556,
              "#d8576b"
             ],
             [
              0.6666666666666666,
              "#ed7953"
             ],
             [
              0.7777777777777778,
              "#fb9f3a"
             ],
             [
              0.8888888888888888,
              "#fdca26"
             ],
             [
              1,
              "#f0f921"
             ]
            ],
            "type": "contour"
           }
          ],
          "contourcarpet": [
           {
            "colorbar": {
             "outlinewidth": 0,
             "ticks": ""
            },
            "type": "contourcarpet"
           }
          ],
          "heatmap": [
           {
            "colorbar": {
             "outlinewidth": 0,
             "ticks": ""
            },
            "colorscale": [
             [
              0,
              "#0d0887"
             ],
             [
              0.1111111111111111,
              "#46039f"
             ],
             [
              0.2222222222222222,
              "#7201a8"
             ],
             [
              0.3333333333333333,
              "#9c179e"
             ],
             [
              0.4444444444444444,
              "#bd3786"
             ],
             [
              0.5555555555555556,
              "#d8576b"
             ],
             [
              0.6666666666666666,
              "#ed7953"
             ],
             [
              0.7777777777777778,
              "#fb9f3a"
             ],
             [
              0.8888888888888888,
              "#fdca26"
             ],
             [
              1,
              "#f0f921"
             ]
            ],
            "type": "heatmap"
           }
          ],
          "histogram": [
           {
            "marker": {
             "pattern": {
              "fillmode": "overlay",
              "size": 10,
              "solidity": 0.2
             }
            },
            "type": "histogram"
           }
          ],
          "histogram2d": [
           {
            "colorbar": {
             "outlinewidth": 0,
             "ticks": ""
            },
            "colorscale": [
             [
              0,
              "#0d0887"
             ],
             [
              0.1111111111111111,
              "#46039f"
             ],
             [
              0.2222222222222222,
              "#7201a8"
             ],
             [
              0.3333333333333333,
              "#9c179e"
             ],
             [
              0.4444444444444444,
              "#bd3786"
             ],
             [
              0.5555555555555556,
              "#d8576b"
             ],
             [
              0.6666666666666666,
              "#ed7953"
             ],
             [
              0.7777777777777778,
              "#fb9f3a"
             ],
             [
              0.8888888888888888,
              "#fdca26"
             ],
             [
              1,
              "#f0f921"
             ]
            ],
            "type": "histogram2d"
           }
          ],
          "histogram2dcontour": [
           {
            "colorbar": {
             "outlinewidth": 0,
             "ticks": ""
            },
            "colorscale": [
             [
              0,
              "#0d0887"
             ],
             [
              0.1111111111111111,
              "#46039f"
             ],
             [
              0.2222222222222222,
              "#7201a8"
             ],
             [
              0.3333333333333333,
              "#9c179e"
             ],
             [
              0.4444444444444444,
              "#bd3786"
             ],
             [
              0.5555555555555556,
              "#d8576b"
             ],
             [
              0.6666666666666666,
              "#ed7953"
             ],
             [
              0.7777777777777778,
              "#fb9f3a"
             ],
             [
              0.8888888888888888,
              "#fdca26"
             ],
             [
              1,
              "#f0f921"
             ]
            ],
            "type": "histogram2dcontour"
           }
          ],
          "mesh3d": [
           {
            "colorbar": {
             "outlinewidth": 0,
             "ticks": ""
            },
            "type": "mesh3d"
           }
          ],
          "parcoords": [
           {
            "line": {
             "colorbar": {
              "outlinewidth": 0,
              "ticks": ""
             }
            },
            "type": "parcoords"
           }
          ],
          "pie": [
           {
            "automargin": true,
            "type": "pie"
           }
          ],
          "scatter": [
           {
            "fillpattern": {
             "fillmode": "overlay",
             "size": 10,
             "solidity": 0.2
            },
            "type": "scatter"
           }
          ],
          "scatter3d": [
           {
            "line": {
             "colorbar": {
              "outlinewidth": 0,
              "ticks": ""
             }
            },
            "marker": {
             "colorbar": {
              "outlinewidth": 0,
              "ticks": ""
             }
            },
            "type": "scatter3d"
           }
          ],
          "scattercarpet": [
           {
            "marker": {
             "colorbar": {
              "outlinewidth": 0,
              "ticks": ""
             }
            },
            "type": "scattercarpet"
           }
          ],
          "scattergeo": [
           {
            "marker": {
             "colorbar": {
              "outlinewidth": 0,
              "ticks": ""
             }
            },
            "type": "scattergeo"
           }
          ],
          "scattergl": [
           {
            "marker": {
             "colorbar": {
              "outlinewidth": 0,
              "ticks": ""
             }
            },
            "type": "scattergl"
           }
          ],
          "scattermap": [
           {
            "marker": {
             "colorbar": {
              "outlinewidth": 0,
              "ticks": ""
             }
            },
            "type": "scattermap"
           }
          ],
          "scattermapbox": [
           {
            "marker": {
             "colorbar": {
              "outlinewidth": 0,
              "ticks": ""
             }
            },
            "type": "scattermapbox"
           }
          ],
          "scatterpolar": [
           {
            "marker": {
             "colorbar": {
              "outlinewidth": 0,
              "ticks": ""
             }
            },
            "type": "scatterpolar"
           }
          ],
          "scatterpolargl": [
           {
            "marker": {
             "colorbar": {
              "outlinewidth": 0,
              "ticks": ""
             }
            },
            "type": "scatterpolargl"
           }
          ],
          "scatterternary": [
           {
            "marker": {
             "colorbar": {
              "outlinewidth": 0,
              "ticks": ""
             }
            },
            "type": "scatterternary"
           }
          ],
          "surface": [
           {
            "colorbar": {
             "outlinewidth": 0,
             "ticks": ""
            },
            "colorscale": [
             [
              0,
              "#0d0887"
             ],
             [
              0.1111111111111111,
              "#46039f"
             ],
             [
              0.2222222222222222,
              "#7201a8"
             ],
             [
              0.3333333333333333,
              "#9c179e"
             ],
             [
              0.4444444444444444,
              "#bd3786"
             ],
             [
              0.5555555555555556,
              "#d8576b"
             ],
             [
              0.6666666666666666,
              "#ed7953"
             ],
             [
              0.7777777777777778,
              "#fb9f3a"
             ],
             [
              0.8888888888888888,
              "#fdca26"
             ],
             [
              1,
              "#f0f921"
             ]
            ],
            "type": "surface"
           }
          ],
          "table": [
           {
            "cells": {
             "fill": {
              "color": "#EBF0F8"
             },
             "line": {
              "color": "white"
             }
            },
            "header": {
             "fill": {
              "color": "#C8D4E3"
             },
             "line": {
              "color": "white"
             }
            },
            "type": "table"
           }
          ]
         },
         "layout": {
          "annotationdefaults": {
           "arrowcolor": "#2a3f5f",
           "arrowhead": 0,
           "arrowwidth": 1
          },
          "autotypenumbers": "strict",
          "coloraxis": {
           "colorbar": {
            "outlinewidth": 0,
            "ticks": ""
           }
          },
          "colorscale": {
           "diverging": [
            [
             0,
             "#8e0152"
            ],
            [
             0.1,
             "#c51b7d"
            ],
            [
             0.2,
             "#de77ae"
            ],
            [
             0.3,
             "#f1b6da"
            ],
            [
             0.4,
             "#fde0ef"
            ],
            [
             0.5,
             "#f7f7f7"
            ],
            [
             0.6,
             "#e6f5d0"
            ],
            [
             0.7,
             "#b8e186"
            ],
            [
             0.8,
             "#7fbc41"
            ],
            [
             0.9,
             "#4d9221"
            ],
            [
             1,
             "#276419"
            ]
           ],
           "sequential": [
            [
             0,
             "#0d0887"
            ],
            [
             0.1111111111111111,
             "#46039f"
            ],
            [
             0.2222222222222222,
             "#7201a8"
            ],
            [
             0.3333333333333333,
             "#9c179e"
            ],
            [
             0.4444444444444444,
             "#bd3786"
            ],
            [
             0.5555555555555556,
             "#d8576b"
            ],
            [
             0.6666666666666666,
             "#ed7953"
            ],
            [
             0.7777777777777778,
             "#fb9f3a"
            ],
            [
             0.8888888888888888,
             "#fdca26"
            ],
            [
             1,
             "#f0f921"
            ]
           ],
           "sequentialminus": [
            [
             0,
             "#0d0887"
            ],
            [
             0.1111111111111111,
             "#46039f"
            ],
            [
             0.2222222222222222,
             "#7201a8"
            ],
            [
             0.3333333333333333,
             "#9c179e"
            ],
            [
             0.4444444444444444,
             "#bd3786"
            ],
            [
             0.5555555555555556,
             "#d8576b"
            ],
            [
             0.6666666666666666,
             "#ed7953"
            ],
            [
             0.7777777777777778,
             "#fb9f3a"
            ],
            [
             0.8888888888888888,
             "#fdca26"
            ],
            [
             1,
             "#f0f921"
            ]
           ]
          },
          "colorway": [
           "#636efa",
           "#EF553B",
           "#00cc96",
           "#ab63fa",
           "#FFA15A",
           "#19d3f3",
           "#FF6692",
           "#B6E880",
           "#FF97FF",
           "#FECB52"
          ],
          "font": {
           "color": "#2a3f5f"
          },
          "geo": {
           "bgcolor": "white",
           "lakecolor": "white",
           "landcolor": "#E5ECF6",
           "showlakes": true,
           "showland": true,
           "subunitcolor": "white"
          },
          "hoverlabel": {
           "align": "left"
          },
          "hovermode": "closest",
          "mapbox": {
           "style": "light"
          },
          "paper_bgcolor": "white",
          "plot_bgcolor": "#E5ECF6",
          "polar": {
           "angularaxis": {
            "gridcolor": "white",
            "linecolor": "white",
            "ticks": ""
           },
           "bgcolor": "#E5ECF6",
           "radialaxis": {
            "gridcolor": "white",
            "linecolor": "white",
            "ticks": ""
           }
          },
          "scene": {
           "xaxis": {
            "backgroundcolor": "#E5ECF6",
            "gridcolor": "white",
            "gridwidth": 2,
            "linecolor": "white",
            "showbackground": true,
            "ticks": "",
            "zerolinecolor": "white"
           },
           "yaxis": {
            "backgroundcolor": "#E5ECF6",
            "gridcolor": "white",
            "gridwidth": 2,
            "linecolor": "white",
            "showbackground": true,
            "ticks": "",
            "zerolinecolor": "white"
           },
           "zaxis": {
            "backgroundcolor": "#E5ECF6",
            "gridcolor": "white",
            "gridwidth": 2,
            "linecolor": "white",
            "showbackground": true,
            "ticks": "",
            "zerolinecolor": "white"
           }
          },
          "shapedefaults": {
           "line": {
            "color": "#2a3f5f"
           }
          },
          "ternary": {
           "aaxis": {
            "gridcolor": "white",
            "linecolor": "white",
            "ticks": ""
           },
           "baxis": {
            "gridcolor": "white",
            "linecolor": "white",
            "ticks": ""
           },
           "bgcolor": "#E5ECF6",
           "caxis": {
            "gridcolor": "white",
            "linecolor": "white",
            "ticks": ""
           }
          },
          "title": {
           "x": 0.05
          },
          "xaxis": {
           "automargin": true,
           "gridcolor": "white",
           "linecolor": "white",
           "ticks": "",
           "title": {
            "standoff": 15
           },
           "zerolinecolor": "white",
           "zerolinewidth": 2
          },
          "yaxis": {
           "automargin": true,
           "gridcolor": "white",
           "linecolor": "white",
           "ticks": "",
           "title": {
            "standoff": 15
           },
           "zerolinecolor": "white",
           "zerolinewidth": 2
          }
         }
        },
        "title": {
         "text": "z = f(x, y)",
         "x": 0.5
        }
       }
      }
     },
     "metadata": {},
     "output_type": "display_data"
    }
   ],
   "source": [
    "df_pivot = df.pivot(index='y', columns='x', values='z')\n",
    "\n",
    "# Gerar a malha\n",
    "x_axis = df_pivot.columns.values\n",
    "y_axis = df_pivot.index.values\n",
    "z_grid = df_pivot.values\n",
    "\n",
    "fig = go.Figure()\n",
    "\n",
    "# Adicionar a Superfície\n",
    "fig.add_trace(go.Surface(\n",
    "    x=x_axis,\n",
    "    y=y_axis,\n",
    "    z=z_grid,\n",
    "    colorscale='Viridis',\n",
    "    opacity=0.9,\n",
    "    contours_z=dict(show=True, usecolormap=True, project_z=True, highlightcolor=\"white\"),\n",
    "    name='Superfície dos Dados'\n",
    "))\n",
    "\n",
    "# Adicionar os Pontos de Dados Originais\n",
    "fig.add_trace(go.Scatter3d(\n",
    "    x=df['x'],\n",
    "    y=df['y'],\n",
    "    z=df['z'],\n",
    "    mode='markers',\n",
    "    marker=dict(size=3, color='red', symbol='circle'),\n",
    "    name='Pontos de Dados Originais'\n",
    "))\n",
    "\n",
    "# Melhorar o Layout\n",
    "fig.update_layout(\n",
    "    title=dict(text='z = f(x, y)', x=0.5),\n",
    "    scene=dict(\n",
    "        xaxis_title='Eixo X',\n",
    "        yaxis_title='Eixo Y',\n",
    "        zaxis_title='Eixo Z (Valor)'\n",
    "    ),\n",
    "    margin=dict(l=0, r=0, b=0, t=50)\n",
    ")\n",
    "\n",
    "fig.show()"
   ]
  },
  {
   "cell_type": "code",
   "execution_count": 6,
   "id": "c90974b4",
   "metadata": {},
   "outputs": [
    {
     "data": {
      "text/plain": [
       "array([ 5.0081046 ,  5.73419945, 10.59963756])"
      ]
     },
     "execution_count": 6,
     "metadata": {},
     "output_type": "execute_result"
    }
   ],
   "source": [
    "X = np.column_stack([df['x'] ** 3, df['y'] ** 2, np.ones(len(df['x']))])\n",
    "\n",
    "true_weights = np.linalg.inv((X.T @ X) + (X.T @ X).T) @ (2 * X.T @ df['z'])\n",
    "true_weights"
   ]
  },
  {
   "cell_type": "markdown",
   "id": "a11523f5",
   "metadata": {},
   "source": [
    "## Calcular as funções de perda"
   ]
  },
  {
   "cell_type": "markdown",
   "id": "2e6d8f5f",
   "metadata": {},
   "source": [
    "### Configurações"
   ]
  },
  {
   "cell_type": "code",
   "execution_count": 7,
   "id": "5f2939c5",
   "metadata": {},
   "outputs": [],
   "source": [
    "def make_function(w):\n",
    "    def f(x, y):\n",
    "        if np.isscalar(x) and np.isscalar(y):\n",
    "            return w @ np.array([x, y, 1])\n",
    "        else:\n",
    "            return np.array([w @ np.array([xi, yi, 1]) for xi, yi in zip(x, y)])\n",
    "    return f\n",
    "\n",
    "features = df[['x', 'y']]\n",
    "y = df['z']\n",
    "\n",
    "# Criar os objetos para Normalização e Padronização\n",
    "min_max_scaler = MinMaxNormalizer(-1, 1)\n",
    "standard_scaler = StandardScaler()\n",
    "min_max_scaler_z = MinMaxNormalizer(-1, 1)\n",
    "standard_scaler_z = StandardScaler()\n",
    "\n",
    "# Cria as cópias dos dados para normalização e padronização\n",
    "cubed_squared_features = features.copy()  # Mantém os dados originais para comparação\n",
    "cubed_squared_features.loc[:, 'x'] = cubed_squared_features['x'] ** 3\n",
    "cubed_squared_features.loc[:, 'y'] = cubed_squared_features['y'] ** 2\n",
    "features_normalized = cubed_squared_features.copy()\n",
    "features_standardized = cubed_squared_features.copy()\n",
    "\n",
    "# Ajusta os normalizadores e padronizadores aos dados\n",
    "min_max_scaler.fit(features_normalized)\n",
    "standard_scaler.fit(features_standardized)\n",
    "min_max_scaler_z.fit(y.values.reshape(-1, 1))\n",
    "standard_scaler_z.fit(y.values.reshape(-1, 1))\n",
    "\n",
    "# Normaliza e Padroniza os dados\n",
    "features_normalized = min_max_scaler.normalize(features_normalized)\n",
    "features_standardized = standard_scaler.normalize(features_standardized)\n",
    "y_normalized = min_max_scaler_z.normalize(y.values.reshape(-1, 1)).flatten()\n",
    "y_standardized = standard_scaler_z.normalize(y.values.reshape(-1, 1)).flatten()\n",
    "\n",
    "# Listas para iteração\n",
    "features_list = [cubed_squared_features, features_normalized, features_standardized]\n",
    "features_names = ['Original', 'Normalized', 'Standardized']\n",
    "#target_list = [y.values, y_normalized, y_standardized]\n",
    "target_list = [y.values, y.values, y.values]\n",
    "loss_fn_names = ['MSE', 'MAE', 'RMSE']\n",
    "loss_fn_makers = [make_mse_loss_function, make_mae_loss_function, make_rmse_loss_function]\n",
    "\n",
    "learning_rates = [0.001, 0.0001, 0.00001]\n",
    "initial_weights = [\n",
    "    np.zeros(3),  # Zero sempre seguro\n",
    "    np.array([0.1, 0.1, 0.1]),  # Valores pequenos\n",
    "    np.random.randn(3) * 0.01  # Inicialização normal pequena\n",
    "]\n",
    "n_iterations = 10000\n",
    "tolerance = 1e-6"
   ]
  },
  {
   "cell_type": "markdown",
   "id": "f4a0a850",
   "metadata": {},
   "source": [
    "### Rodar os experimentos"
   ]
  },
  {
   "cell_type": "code",
   "execution_count": 8,
   "id": "6ec386dc",
   "metadata": {},
   "outputs": [
    {
     "name": "stderr",
     "output_type": "stream",
     "text": [
      "c:\\Users\\mathe\\Documents\\Meus Codes\\rna_tarefas_mestrado\\.venv\\Lib\\site-packages\\numpy\\_core\\_methods.py:134: RuntimeWarning:\n",
      "\n",
      "overflow encountered in reduce\n",
      "\n",
      "c:\\Users\\mathe\\Documents\\Meus Codes\\rna_tarefas_mestrado\\utils\\loss_fn_tarefa2.py:14: RuntimeWarning:\n",
      "\n",
      "overflow encountered in square\n",
      "\n",
      "c:\\Users\\mathe\\Documents\\Meus Codes\\rna_tarefas_mestrado\\libs\\gradient_descendent.py:63: RuntimeWarning:\n",
      "\n",
      "invalid value encountered in scalar subtract\n",
      "\n",
      "c:\\Users\\mathe\\Documents\\Meus Codes\\rna_tarefas_mestrado\\utils\\loss_fn_tarefa2.py:19: RuntimeWarning:\n",
      "\n",
      "overflow encountered in matmul\n",
      "\n",
      "c:\\Users\\mathe\\Documents\\Meus Codes\\rna_tarefas_mestrado\\utils\\loss_fn_tarefa2.py:19: RuntimeWarning:\n",
      "\n",
      "invalid value encountered in matmul\n",
      "\n",
      "c:\\Users\\mathe\\Documents\\Meus Codes\\rna_tarefas_mestrado\\libs\\gradient_descendent.py:49: RuntimeWarning:\n",
      "\n",
      "invalid value encountered in subtract\n",
      "\n"
     ]
    },
    {
     "name": "stdout",
     "output_type": "stream",
     "text": [
      "Overflow detectado para LR=0.001, Initial_W=[0. 0. 0.]\n",
      "Overflow detectado para LR=0.001, Initial_W=[0.1 0.1 0.1]\n",
      "Overflow detectado para LR=0.001, Initial_W=[-0.0008095   0.0034561   0.01245966]\n"
     ]
    },
    {
     "data": {
      "text/html": [
       "<div>\n",
       "<style scoped>\n",
       "    .dataframe tbody tr th:only-of-type {\n",
       "        vertical-align: middle;\n",
       "    }\n",
       "\n",
       "    .dataframe tbody tr th {\n",
       "        vertical-align: top;\n",
       "    }\n",
       "\n",
       "    .dataframe thead th {\n",
       "        text-align: right;\n",
       "    }\n",
       "</style>\n",
       "<table border=\"1\" class=\"dataframe\">\n",
       "  <thead>\n",
       "    <tr style=\"text-align: right;\">\n",
       "      <th></th>\n",
       "      <th>Feature_Set</th>\n",
       "      <th>Loss_Function</th>\n",
       "      <th>Learning_Rate</th>\n",
       "      <th>Initial_Weights</th>\n",
       "      <th>Weights_raw</th>\n",
       "      <th>Final_Weights</th>\n",
       "      <th>Final_Loss</th>\n",
       "      <th>MSE_Final</th>\n",
       "      <th>RMSE_Final</th>\n",
       "      <th>MAE_Final</th>\n",
       "      <th>Iterations</th>\n",
       "    </tr>\n",
       "  </thead>\n",
       "  <tbody>\n",
       "    <tr>\n",
       "      <th>0</th>\n",
       "      <td>Standardized</td>\n",
       "      <td>MSE</td>\n",
       "      <td>0.0010</td>\n",
       "      <td>(-0.0008095019450254399, 0.0034561029535432643...</td>\n",
       "      <td>[288.0966188051318, 48.82206766173166, 36.9885...</td>\n",
       "      <td>[5.007836663413999, 5.733892693254057, 10.5990...</td>\n",
       "      <td>372.092180</td>\n",
       "      <td>372.092180</td>\n",
       "      <td>19.289691</td>\n",
       "      <td>15.294893</td>\n",
       "      <td>4913</td>\n",
       "    </tr>\n",
       "    <tr>\n",
       "      <th>1</th>\n",
       "      <td>Standardized</td>\n",
       "      <td>MSE</td>\n",
       "      <td>0.0010</td>\n",
       "      <td>(0.0, 0.0, 0.0)</td>\n",
       "      <td>[288.09661884843933, 48.822067476832046, 36.98...</td>\n",
       "      <td>[5.007836664166791, 5.7338926715385785, 10.599...</td>\n",
       "      <td>372.092180</td>\n",
       "      <td>372.092180</td>\n",
       "      <td>19.289691</td>\n",
       "      <td>15.294893</td>\n",
       "      <td>4913</td>\n",
       "    </tr>\n",
       "    <tr>\n",
       "      <th>2</th>\n",
       "      <td>Standardized</td>\n",
       "      <td>MSE</td>\n",
       "      <td>0.0010</td>\n",
       "      <td>(0.1, 0.1, 0.1)</td>\n",
       "      <td>[288.0965933196544, 48.82206760284204, 36.9885...</td>\n",
       "      <td>[5.007836220412937, 5.733892686337784, 10.5990...</td>\n",
       "      <td>372.092181</td>\n",
       "      <td>372.092181</td>\n",
       "      <td>19.289691</td>\n",
       "      <td>15.294892</td>\n",
       "      <td>4912</td>\n",
       "    </tr>\n",
       "    <tr>\n",
       "      <th>3</th>\n",
       "      <td>Original</td>\n",
       "      <td>RMSE</td>\n",
       "      <td>0.0010</td>\n",
       "      <td>(0.1, 0.1, 0.1)</td>\n",
       "      <td>[5.001863826357645, 6.213147485618186, 2.36617...</td>\n",
       "      <td>[5.001863826357645, 6.213147485618186, 2.36617...</td>\n",
       "      <td>20.041726</td>\n",
       "      <td>401.670789</td>\n",
       "      <td>20.041726</td>\n",
       "      <td>15.672183</td>\n",
       "      <td>10000</td>\n",
       "    </tr>\n",
       "    <tr>\n",
       "      <th>4</th>\n",
       "      <td>Original</td>\n",
       "      <td>RMSE</td>\n",
       "      <td>0.0010</td>\n",
       "      <td>(-0.0008095019450254399, 0.0034561029535432643...</td>\n",
       "      <td>[5.001811598900067, 6.217155683909959, 2.29727...</td>\n",
       "      <td>[5.001811598900067, 6.217155683909959, 2.29727...</td>\n",
       "      <td>20.054125</td>\n",
       "      <td>402.167937</td>\n",
       "      <td>20.054125</td>\n",
       "      <td>15.681766</td>\n",
       "      <td>10000</td>\n",
       "    </tr>\n",
       "    <tr>\n",
       "      <th>5</th>\n",
       "      <td>Original</td>\n",
       "      <td>RMSE</td>\n",
       "      <td>0.0010</td>\n",
       "      <td>(0.0, 0.0, 0.0)</td>\n",
       "      <td>[5.001803905449378, 6.217746118086512, 2.28712...</td>\n",
       "      <td>[5.001803905449378, 6.217746118086512, 2.28712...</td>\n",
       "      <td>20.055960</td>\n",
       "      <td>402.241520</td>\n",
       "      <td>20.055960</td>\n",
       "      <td>15.683177</td>\n",
       "      <td>10000</td>\n",
       "    </tr>\n",
       "    <tr>\n",
       "      <th>6</th>\n",
       "      <td>Original</td>\n",
       "      <td>MAE</td>\n",
       "      <td>0.0010</td>\n",
       "      <td>(0.0, 0.0, 0.0)</td>\n",
       "      <td>[5.01816187654278, 6.283904691357363, 1.135543...</td>\n",
       "      <td>[5.01816187654278, 6.283904691357363, 1.135543...</td>\n",
       "      <td>15.825815</td>\n",
       "      <td>412.167477</td>\n",
       "      <td>20.301908</td>\n",
       "      <td>15.825815</td>\n",
       "      <td>4949</td>\n",
       "    </tr>\n",
       "    <tr>\n",
       "      <th>7</th>\n",
       "      <td>Original</td>\n",
       "      <td>MAE</td>\n",
       "      <td>0.0010</td>\n",
       "      <td>(0.1, 0.1, 0.1)</td>\n",
       "      <td>[5.0166004938267905, 6.285862716048745, 1.1116...</td>\n",
       "      <td>[5.0166004938267905, 6.285862716048745, 1.1116...</td>\n",
       "      <td>15.829857</td>\n",
       "      <td>412.194659</td>\n",
       "      <td>20.302578</td>\n",
       "      <td>15.829857</td>\n",
       "      <td>4256</td>\n",
       "    </tr>\n",
       "    <tr>\n",
       "      <th>8</th>\n",
       "      <td>Original</td>\n",
       "      <td>MAE</td>\n",
       "      <td>0.0001</td>\n",
       "      <td>(0.1, 0.1, 0.1)</td>\n",
       "      <td>[5.007548316049207, 6.24645397530912, 0.644371...</td>\n",
       "      <td>[5.007548316049207, 6.24645397530912, 0.644371...</td>\n",
       "      <td>15.919502</td>\n",
       "      <td>416.256517</td>\n",
       "      <td>20.402365</td>\n",
       "      <td>15.919502</td>\n",
       "      <td>9749</td>\n",
       "    </tr>\n",
       "  </tbody>\n",
       "</table>\n",
       "</div>"
      ],
      "text/plain": [
       "    Feature_Set Loss_Function  Learning_Rate  \\\n",
       "0  Standardized           MSE         0.0010   \n",
       "1  Standardized           MSE         0.0010   \n",
       "2  Standardized           MSE         0.0010   \n",
       "3      Original          RMSE         0.0010   \n",
       "4      Original          RMSE         0.0010   \n",
       "5      Original          RMSE         0.0010   \n",
       "6      Original           MAE         0.0010   \n",
       "7      Original           MAE         0.0010   \n",
       "8      Original           MAE         0.0001   \n",
       "\n",
       "                                     Initial_Weights  \\\n",
       "0  (-0.0008095019450254399, 0.0034561029535432643...   \n",
       "1                                    (0.0, 0.0, 0.0)   \n",
       "2                                    (0.1, 0.1, 0.1)   \n",
       "3                                    (0.1, 0.1, 0.1)   \n",
       "4  (-0.0008095019450254399, 0.0034561029535432643...   \n",
       "5                                    (0.0, 0.0, 0.0)   \n",
       "6                                    (0.0, 0.0, 0.0)   \n",
       "7                                    (0.1, 0.1, 0.1)   \n",
       "8                                    (0.1, 0.1, 0.1)   \n",
       "\n",
       "                                         Weights_raw  \\\n",
       "0  [288.0966188051318, 48.82206766173166, 36.9885...   \n",
       "1  [288.09661884843933, 48.822067476832046, 36.98...   \n",
       "2  [288.0965933196544, 48.82206760284204, 36.9885...   \n",
       "3  [5.001863826357645, 6.213147485618186, 2.36617...   \n",
       "4  [5.001811598900067, 6.217155683909959, 2.29727...   \n",
       "5  [5.001803905449378, 6.217746118086512, 2.28712...   \n",
       "6  [5.01816187654278, 6.283904691357363, 1.135543...   \n",
       "7  [5.0166004938267905, 6.285862716048745, 1.1116...   \n",
       "8  [5.007548316049207, 6.24645397530912, 0.644371...   \n",
       "\n",
       "                                       Final_Weights  Final_Loss   MSE_Final  \\\n",
       "0  [5.007836663413999, 5.733892693254057, 10.5990...  372.092180  372.092180   \n",
       "1  [5.007836664166791, 5.7338926715385785, 10.599...  372.092180  372.092180   \n",
       "2  [5.007836220412937, 5.733892686337784, 10.5990...  372.092181  372.092181   \n",
       "3  [5.001863826357645, 6.213147485618186, 2.36617...   20.041726  401.670789   \n",
       "4  [5.001811598900067, 6.217155683909959, 2.29727...   20.054125  402.167937   \n",
       "5  [5.001803905449378, 6.217746118086512, 2.28712...   20.055960  402.241520   \n",
       "6  [5.01816187654278, 6.283904691357363, 1.135543...   15.825815  412.167477   \n",
       "7  [5.0166004938267905, 6.285862716048745, 1.1116...   15.829857  412.194659   \n",
       "8  [5.007548316049207, 6.24645397530912, 0.644371...   15.919502  416.256517   \n",
       "\n",
       "   RMSE_Final  MAE_Final  Iterations  \n",
       "0   19.289691  15.294893        4913  \n",
       "1   19.289691  15.294893        4913  \n",
       "2   19.289691  15.294892        4912  \n",
       "3   20.041726  15.672183       10000  \n",
       "4   20.054125  15.681766       10000  \n",
       "5   20.055960  15.683177       10000  \n",
       "6   20.301908  15.825815        4949  \n",
       "7   20.302578  15.829857        4256  \n",
       "8   20.402365  15.919502        9749  "
      ]
     },
     "execution_count": 8,
     "metadata": {},
     "output_type": "execute_result"
    }
   ],
   "source": [
    "dict_results = {}\n",
    "\n",
    "for feature_set, feature_name, target in zip(features_list, features_names, target_list):\n",
    "    x_data = feature_set['x'].values\n",
    "    y_data = feature_set['y'].values\n",
    "    z_data = target\n",
    "\n",
    "    x_data_orig = cubed_squared_features['x'].values\n",
    "    y_data_orig = cubed_squared_features['y'].values\n",
    "    z_data_orig = y\n",
    "\n",
    "    for loss_fn_name, loss_fn_maker in zip(loss_fn_names, loss_fn_makers):\n",
    "        loss_function, grad_loss_function = None, None\n",
    "\n",
    "        loss_function, grad_loss_function = loss_fn_maker(x_data, y_data, z_data)\n",
    "\n",
    "        for lr in learning_rates:\n",
    "            for initial_w in initial_weights:\n",
    "                try:\n",
    "                    weights, losses, n_iters = gradient_descendent(\n",
    "                        initial_w, loss_function, grad_loss_function,\n",
    "                        learning_rate=lr, max_iter=n_iterations, tolerance=tolerance, stopping_criteria=[1, 2, 3]\n",
    "                    )\n",
    "\n",
    "                    # Verificar se há overflow\n",
    "                    if np.any(np.isnan(weights[-1])) or np.any(np.isinf(weights[-1])):\n",
    "                        print(f\"Overflow detectado para LR={lr}, Initial_W={initial_w}\")\n",
    "                        continue\n",
    "\n",
    "                except Exception as e:\n",
    "                    print(f\"Erro para LR={lr}, Initial_W={initial_w}: {e}\")\n",
    "                    continue\n",
    "\n",
    "                weights_raw = weights[-1].copy()\n",
    "                if feature_name == 'Standardized':\n",
    "                    weights[-1] = standard_scaler.desnormalize_weights(weights[-1])\n",
    "                elif feature_name == 'Normalized':\n",
    "                    weights[-1] = min_max_scaler.desnormalize_weights(weights[-1])\n",
    "\n",
    "                function_aprox = make_function(weights[-1])\n",
    "\n",
    "                mse_final = np.mean((z_data_orig - function_aprox(x_data_orig, y_data_orig)) ** 2)\n",
    "                rmse_final = np.sqrt(mse_final)\n",
    "                mae_final = np.mean(np.abs(z_data_orig - function_aprox(x_data_orig, y_data_orig)))\n",
    "\n",
    "                key = (feature_name, loss_fn_name, lr, tuple(initial_w))\n",
    "                dict_results[key] = {\n",
    "                    'weights': weights,\n",
    "                    'weights_raw': weights_raw,\n",
    "                    'losses': losses,\n",
    "                    'n_iters': n_iters,\n",
    "                    'mse_final': mse_final,\n",
    "                    'rmse_final': rmse_final,\n",
    "                    'mae_final': mae_final\n",
    "                }\n",
    "\n",
    "df_result = pd.DataFrame([\n",
    "    {\n",
    "        'Feature_Set': key[0],\n",
    "        'Loss_Function': key[1],\n",
    "        'Learning_Rate': key[2],\n",
    "        'Initial_Weights': key[3],\n",
    "        'Weights_raw': value['weights_raw'],\n",
    "        'Final_Weights': value['weights'][-1],\n",
    "        'Final_Loss': value['losses'][-1],\n",
    "        'MSE_Final': value['mse_final'],\n",
    "        'RMSE_Final': value['rmse_final'],\n",
    "        'MAE_Final': value['mae_final'],\n",
    "        'Iterations': value['n_iters']\n",
    "    }\n",
    "    for key, value in dict_results.items()\n",
    "])\n",
    "\n",
    "df_result_to_save = df_result.copy()\n",
    "df_result_to_save['Learning_Rate'] = df_result_to_save['Learning_Rate'].apply(lambda x: f\"{float(x):.6g}\")\n",
    "df_result_to_save['Initial_Weights'] = df_result_to_save['Initial_Weights'].apply(lambda x: np.array(x).tolist())\n",
    "df_result_to_save['Final_Weights'] = df_result_to_save['Final_Weights'].apply(lambda x: np.array(x).tolist())\n",
    "\n",
    "df_result_to_save['Initial_Weights'] = df_result_to_save['Initial_Weights'].apply(lambda x: str(x))\n",
    "df_result_to_save['Final_Weights'] = df_result_to_save['Final_Weights'].apply(lambda x: str(x))\n",
    "\n",
    "df_result_to_save.to_excel('../output/tarefa2_results.xlsx', index=False, float_format=\"%.6g\")\n",
    "\n",
    "df_result.sort_values(by='MSE_Final').groupby('Loss_Function').head(3).reset_index(drop=True)"
   ]
  },
  {
   "cell_type": "markdown",
   "id": "4636062a",
   "metadata": {},
   "source": [
    "## Resultados"
   ]
  },
  {
   "cell_type": "markdown",
   "id": "c21da672",
   "metadata": {},
   "source": [
    "### MSE"
   ]
  },
  {
   "cell_type": "code",
   "execution_count": 9,
   "id": "be433092",
   "metadata": {},
   "outputs": [
    {
     "name": "stdout",
     "output_type": "stream",
     "text": [
      "Melhor resultado MSE:\n",
      "Feature Set: Standardized\n",
      "Learning Rate: 0.001\n",
      "Final Loss: 372.09217994900183\n",
      "Pesos: [ 5.00783666  5.73389269 10.59907094]\n"
     ]
    },
    {
     "data": {
      "application/vnd.plotly.v1+json": {
       "config": {
        "plotlyServerURL": "https://plot.ly"
       },
       "data": [
        {
         "colorscale": [
          [
           0,
           "#440154"
          ],
          [
           0.1111111111111111,
           "#482878"
          ],
          [
           0.2222222222222222,
           "#3e4989"
          ],
          [
           0.3333333333333333,
           "#31688e"
          ],
          [
           0.4444444444444444,
           "#26828e"
          ],
          [
           0.5555555555555556,
           "#1f9e89"
          ],
          [
           0.6666666666666666,
           "#35b779"
          ],
          [
           0.7777777777777778,
           "#6ece58"
          ],
          [
           0.8888888888888888,
           "#b5de2b"
          ],
          [
           1,
           "#fde725"
          ]
         ],
         "name": "Dados Originais",
         "opacity": 0.7,
         "type": "surface",
         "x": {
          "bdata": "AAAAAAAAFMBmZmZmZmYOwM3MzMzMzATAaGZmZmZm9r+gmZmZmZnJvwAAAAAAAPA/mZmZmZmZAUAyMzMzMzMLQGZmZmZmZhJA",
          "dtype": "f8"
         },
         "y": {
          "bdata": "AAAAAAAAFMBmZmZmZmYOwM3MzMzMzATAaGZmZmZm9r+gmZmZmZnJvwAAAAAAAPA/mZmZmZmZAUAyMzMzMzMLQGZmZmZmZhJA",
          "dtype": "f8"
         },
         "z": {
          "bdata": "9sghBmuvfMC0I0+f2t1hwK8LugEe2lJAqRchANEXY0CXyXr2YdNiQAXkA6qEaGRAYRUI67oQZkCrc0pJRUR3QPvexyqfJYNA56vLG+RCgMBgZFWNY0RmwEa0ZU71tjdASHovQizPUEC2yUt2ioZXQIE/ymEiEFJAofS3QC9TZUDm0Y69RzpxQBxk+a3Gm4JAh69vWFCIgsDr2fnzbGBtwMXwCs/1Y0XAAKbl/Ohw5z+MPGrMWAZUQIPM0KKqs01AdnFhUEEJY0BYWYDTU69vQGvDh4ASt4BAxGnZfDb2gsC8hbDvayFqwFXOkBgITEHATybcMR6bRkD4ZK9QxgMSQLZw2jvWoCRAbl3iWwiMV0AD6gnTpuNpQNwbLrpiU4BAAeQkEzeLhMAk6/XeOCtuwLj38j6P0FXA/Yd56iUkL8DWRXvas+Q5QPddrDvbtSpAiXUrThCVTEAi8fVSARFpQN9/ze8BZX9ANYX9+71QgsBaaZmAw0RzwKEVjb8aVVDAjlnf8IZjEUDsg/0U6SE2QBSM3YxpuTtAIlxfPf9zU0AmTk5q1SNpQMAYRqOGBIBA/M43o1W0gsACTn1vyk9swPoCevfMxUHAOsIQ26pKQkAcJJh7USlBQOqpfkVp8jlAN2AcB9zjUUAW4wxTc+FqQNasiNjrAH9AUTA5arzNgcDHxNnozt5rwPVOnU/RQxvAfddQOV36UEA6vegZHBdNQIdtQ2USplNAhP5SrQhFZUCdRKEKSBtwQJ8BCeQTDYFAihsM/ebRfsBpdWkKCdBhwBqUJlS9rFBAp8B+eU9JWkAiG2r8lmdgQIRpKZrCnmJAx2bRaHMgakCkRVdKg5R0QNmH6s2ZNYNA",
          "dtype": "f8",
          "shape": "9, 9"
         }
        },
        {
         "marker": {
          "color": "red",
          "size": 4,
          "symbol": "circle"
         },
         "mode": "markers",
         "name": "Pontos Originais",
         "type": "scatter3d",
         "x": {
          "bdata": "AAAAAAAAFMAAAAAAAAAUwAAAAAAAABTAAAAAAAAAFMAAAAAAAAAUwAAAAAAAABTAAAAAAAAAFMAAAAAAAAAUwAAAAAAAABTAZmZmZmZmDsBmZmZmZmYOwGZmZmZmZg7AZmZmZmZmDsBmZmZmZmYOwGZmZmZmZg7AZmZmZmZmDsBmZmZmZmYOwGZmZmZmZg7AzczMzMzMBMDNzMzMzMwEwM3MzMzMzATAzczMzMzMBMDNzMzMzMwEwM3MzMzMzATAzczMzMzMBMDNzMzMzMwEwM3MzMzMzATAaGZmZmZm9r9oZmZmZmb2v2hmZmZmZva/aGZmZmZm9r9oZmZmZmb2v2hmZmZmZva/aGZmZmZm9r9oZmZmZmb2v2hmZmZmZva/oJmZmZmZyb+gmZmZmZnJv6CZmZmZmcm/oJmZmZmZyb+gmZmZmZnJv6CZmZmZmcm/oJmZmZmZyb+gmZmZmZnJv6CZmZmZmcm/AAAAAAAA8D8AAAAAAADwPwAAAAAAAPA/AAAAAAAA8D8AAAAAAADwPwAAAAAAAPA/AAAAAAAA8D8AAAAAAADwPwAAAAAAAPA/mZmZmZmZAUCZmZmZmZkBQJmZmZmZmQFAmZmZmZmZAUCZmZmZmZkBQJmZmZmZmQFAmZmZmZmZAUCZmZmZmZkBQJmZmZmZmQFAMjMzMzMzC0AyMzMzMzMLQDIzMzMzMwtAMjMzMzMzC0AyMzMzMzMLQDIzMzMzMwtAMjMzMzMzC0AyMzMzMzMLQDIzMzMzMwtAZmZmZmZmEkBmZmZmZmYSQGZmZmZmZhJAZmZmZmZmEkBmZmZmZmYSQGZmZmZmZhJAZmZmZmZmEkBmZmZmZmYSQGZmZmZmZhJA",
          "dtype": "f8"
         },
         "y": {
          "bdata": "AAAAAAAAFMBmZmZmZmYOwM3MzMzMzATAaGZmZmZm9r+gmZmZmZnJvwAAAAAAAPA/mZmZmZmZAUAyMzMzMzMLQGZmZmZmZhJAAAAAAAAAFMBmZmZmZmYOwM3MzMzMzATAaGZmZmZm9r+gmZmZmZnJvwAAAAAAAPA/mZmZmZmZAUAyMzMzMzMLQGZmZmZmZhJAAAAAAAAAFMBmZmZmZmYOwM3MzMzMzATAaGZmZmZm9r+gmZmZmZnJvwAAAAAAAPA/mZmZmZmZAUAyMzMzMzMLQGZmZmZmZhJAAAAAAAAAFMBmZmZmZmYOwM3MzMzMzATAaGZmZmZm9r+gmZmZmZnJvwAAAAAAAPA/mZmZmZmZAUAyMzMzMzMLQGZmZmZmZhJAAAAAAAAAFMBmZmZmZmYOwM3MzMzMzATAaGZmZmZm9r+gmZmZmZnJvwAAAAAAAPA/mZmZmZmZAUAyMzMzMzMLQGZmZmZmZhJAAAAAAAAAFMBmZmZmZmYOwM3MzMzMzATAaGZmZmZm9r+gmZmZmZnJvwAAAAAAAPA/mZmZmZmZAUAyMzMzMzMLQGZmZmZmZhJAAAAAAAAAFMBmZmZmZmYOwM3MzMzMzATAaGZmZmZm9r+gmZmZmZnJvwAAAAAAAPA/mZmZmZmZAUAyMzMzMzMLQGZmZmZmZhJAAAAAAAAAFMBmZmZmZmYOwM3MzMzMzATAaGZmZmZm9r+gmZmZmZnJvwAAAAAAAPA/mZmZmZmZAUAyMzMzMzMLQGZmZmZmZhJAAAAAAAAAFMBmZmZmZmYOwM3MzMzMzATAaGZmZmZm9r+gmZmZmZnJvwAAAAAAAPA/mZmZmZmZAUAyMzMzMzMLQGZmZmZmZhJA",
          "dtype": "f8"
         },
         "z": {
          "bdata": "9sghBmuvfMDnq8sb5EKAwIevb1hQiILAxGnZfDb2gsAB5CQTN4uEwDWF/fu9UILA/M43o1W0gsBRMDlqvM2BwIobDP3m0X7AtCNPn9rdYcBgZFWNY0RmwOvZ+fNsYG3AvIWw72shasAk6/XeOCtuwFppmYDDRHPAAk59b8pPbMDHxNnozt5rwGl1aQoJ0GHArwu6AR7aUkBGtGVO9bY3QMXwCs/1Y0XAVc6QGAhMQcC49/I+j9BVwKEVjb8aVVDA+gJ698zFQcD1Tp1P0UMbwBqUJlS9rFBAqRchANEXY0BIei9CLM9QQACm5fzocOc/TybcMR6bRkD9h3nqJSQvwI5Z3/CGYxFAOsIQ26pKQkB911A5XfpQQKfAfnlPSVpAl8l69mHTYkC2yUt2ioZXQIw8asxYBlRA+GSvUMYDEkDWRXvas+Q5QOyD/RTpITZAHCSYe1EpQUA6vegZHBdNQCIbavyWZ2BABeQDqoRoZECBP8phIhBSQIPM0KKqs01AtnDaO9agJED3Xaw727UqQBSM3YxpuTtA6ql+RWnyOUCHbUNlEqZTQIRpKZrCnmJAYRUI67oQZkCh9LdAL1NlQHZxYVBBCWNAbl3iWwiMV0CJdStOEJVMQCJcXz3/c1NAN2AcB9zjUUCE/lKtCEVlQMdm0WhzIGpAq3NKSUVEd0Dm0Y69RzpxQFhZgNNTr29AA+oJ06bjaUAi8fVSARFpQCZOTmrVI2lAFuMMU3PhakCdRKEKSBtwQKRFV0qDlHRA+97HKp8lg0AcZPmtxpuCQGvDh4ASt4BA3BsuumJTgEDff83vAWV/QMAYRqOGBIBA1qyI2OsAf0CfAQnkEw2BQNmH6s2ZNYNA",
          "dtype": "f8"
         }
        },
        {
         "marker": {
          "color": "blue",
          "size": 5,
          "symbol": "circle"
         },
         "mode": "markers",
         "name": "Predições",
         "type": "scatter3d",
         "x": {
          "bdata": "AAAAAAAAFMAAAAAAAAAUwAAAAAAAABTAAAAAAAAAFMAAAAAAAAAUwAAAAAAAABTAAAAAAAAAFMAAAAAAAAAUwAAAAAAAABTAZmZmZmZmDsBmZmZmZmYOwGZmZmZmZg7AZmZmZmZmDsBmZmZmZmYOwGZmZmZmZg7AZmZmZmZmDsBmZmZmZmYOwGZmZmZmZg7AzczMzMzMBMDNzMzMzMwEwM3MzMzMzATAzczMzMzMBMDNzMzMzMwEwM3MzMzMzATAzczMzMzMBMDNzMzMzMwEwM3MzMzMzATAaGZmZmZm9r9oZmZmZmb2v2hmZmZmZva/aGZmZmZm9r9oZmZmZmb2v2hmZmZmZva/aGZmZmZm9r9oZmZmZmb2v2hmZmZmZva/oJmZmZmZyb+gmZmZmZnJv6CZmZmZmcm/oJmZmZmZyb+gmZmZmZnJv6CZmZmZmcm/oJmZmZmZyb+gmZmZmZnJv6CZmZmZmcm/AAAAAAAA8D8AAAAAAADwPwAAAAAAAPA/AAAAAAAA8D8AAAAAAADwPwAAAAAAAPA/AAAAAAAA8D8AAAAAAADwPwAAAAAAAPA/mZmZmZmZAUCZmZmZmZkBQJmZmZmZmQFAmZmZmZmZAUCZmZmZmZkBQJmZmZmZmQFAmZmZmZmZAUCZmZmZmZkBQJmZmZmZmQFAMjMzMzMzC0AyMzMzMzMLQDIzMzMzMwtAMjMzMzMzC0AyMzMzMzMLQDIzMzMzMwtAMjMzMzMzC0AyMzMzMzMLQDIzMzMzMwtAZmZmZmZmEkBmZmZmZmYSQGZmZmZmZhJAZmZmZmZmEkBmZmZmZmYSQGZmZmZmZhJAZmZmZmZmEkBmZmZmZmYSQGZmZmZmZhJA",
          "dtype": "f8"
         },
         "y": {
          "bdata": "AAAAAAAAFMBmZmZmZmYOwM3MzMzMzATAaGZmZmZm9r+gmZmZmZnJvwAAAAAAAPA/mZmZmZmZAUAyMzMzMzMLQGZmZmZmZhJAAAAAAAAAFMBmZmZmZmYOwM3MzMzMzATAaGZmZmZm9r+gmZmZmZnJvwAAAAAAAPA/mZmZmZmZAUAyMzMzMzMLQGZmZmZmZhJAAAAAAAAAFMBmZmZmZmYOwM3MzMzMzATAaGZmZmZm9r+gmZmZmZnJvwAAAAAAAPA/mZmZmZmZAUAyMzMzMzMLQGZmZmZmZhJAAAAAAAAAFMBmZmZmZmYOwM3MzMzMzATAaGZmZmZm9r+gmZmZmZnJvwAAAAAAAPA/mZmZmZmZAUAyMzMzMzMLQGZmZmZmZhJAAAAAAAAAFMBmZmZmZmYOwM3MzMzMzATAaGZmZmZm9r+gmZmZmZnJvwAAAAAAAPA/mZmZmZmZAUAyMzMzMzMLQGZmZmZmZhJAAAAAAAAAFMBmZmZmZmYOwM3MzMzMzATAaGZmZmZm9r+gmZmZmZnJvwAAAAAAAPA/mZmZmZmZAUAyMzMzMzMLQGZmZmZmZhJAAAAAAAAAFMBmZmZmZmYOwM3MzMzMzATAaGZmZmZm9r+gmZmZmZnJvwAAAAAAAPA/mZmZmZmZAUAyMzMzMzMLQGZmZmZmZhJAAAAAAAAAFMBmZmZmZmYOwM3MzMzMzATAaGZmZmZm9r+gmZmZmZnJvwAAAAAAAPA/mZmZmZmZAUAyMzMzMzMLQGZmZmZmZhJAAAAAAAAAFMBmZmZmZmYOwM3MzMzMzATAaGZmZmZm9r+gmZmZmZnJvwAAAAAAAPA/mZmZmZmZAUAyMzMzMzMLQGZmZmZmZhJA",
          "dtype": "f8"
         },
         "z": {
          "bdata": "qhof94eAfcC3VB4xqqSAwFxxnYb0BILAQ+MM/CLhgsBsqmyRNTmDwNjGvEYsDYPAhTj9GwddgsB1/y0RxiiBwE83nkzS4H7AeXY99P01XsDI2FnQl6xmwFpLVibBLWzA9hIU/Hqeb8DNl8moYn9wwKTQaRNQJ3DA/2fVewuObcC/g5hQB71owIj0HKWT22HArr/oBG97UECMSSiH1YMVQBjBDKcqVEPAw+8B/4iLUMANKQCqHUxTwGgMgVTT61HArDMJ/VPVSMCyilZADUUmwDKa2F2L9EVA3VTdaY6GYUClbkQn6+lTQAATl/Ywz0FARtJ/fiYxIEAk4Mdl+00HwHC0G0pPuwRA2EA1QQ+cOEBsMY5NGJJPQCU3vn3zi11AyFx+ngA9Y0B8foaQz1ZXQKwyG8n5qEhAfChI5CTMNUCphp5wpJMlQOi1S477SjBAGMAec9AnQ0CNKAmQ8DVTQH4jgPNrfGBAirC5AoneY0AAJv1Y4JlYQLaBCFobL0tAj8YiBmjYOkDOwlO0KqwvQPpTJrA+VzVAIg8MBPKtRUAR0H9YAXlUQEB3u1f0HWFAFonxeKLoaUCMa7aiCVdiQPPxc5nAq1lAvGL47UzKUkByKfpCuAlQQBdGeZgCalFAqbh17ivrVkCUwHcimkZgQMxP880NKGdArw/E8WPsdUDqgKaGlyNyQEGPULcFxm5ApceS4UtVa0AAqxOMAfVpQFM507YmpWpAnHLRYbtlbUBuK4fGXxtxQArzRJwZjHRAFus3CR0LhEC0I6nTtiaCQA8HKn5sxoBAUCp1EXzUf0D+m7XmViR/QCdjFXxpfH9A5j/K6FlugED2eJnzmqKBQMRceN73WoNA",
          "dtype": "f8"
         }
        }
       ],
       "layout": {
        "legend": {
         "x": 0.02,
         "y": 0.98
        },
        "margin": {
         "b": 0,
         "l": 0,
         "r": 0,
         "t": 60
        },
        "scene": {
         "xaxis": {
          "title": {
           "text": "X"
          }
         },
         "yaxis": {
          "title": {
           "text": "Y"
          }
         },
         "zaxis": {
          "title": {
           "text": "Z"
          }
         }
        },
        "template": {
         "data": {
          "bar": [
           {
            "error_x": {
             "color": "#2a3f5f"
            },
            "error_y": {
             "color": "#2a3f5f"
            },
            "marker": {
             "line": {
              "color": "#E5ECF6",
              "width": 0.5
             },
             "pattern": {
              "fillmode": "overlay",
              "size": 10,
              "solidity": 0.2
             }
            },
            "type": "bar"
           }
          ],
          "barpolar": [
           {
            "marker": {
             "line": {
              "color": "#E5ECF6",
              "width": 0.5
             },
             "pattern": {
              "fillmode": "overlay",
              "size": 10,
              "solidity": 0.2
             }
            },
            "type": "barpolar"
           }
          ],
          "carpet": [
           {
            "aaxis": {
             "endlinecolor": "#2a3f5f",
             "gridcolor": "white",
             "linecolor": "white",
             "minorgridcolor": "white",
             "startlinecolor": "#2a3f5f"
            },
            "baxis": {
             "endlinecolor": "#2a3f5f",
             "gridcolor": "white",
             "linecolor": "white",
             "minorgridcolor": "white",
             "startlinecolor": "#2a3f5f"
            },
            "type": "carpet"
           }
          ],
          "choropleth": [
           {
            "colorbar": {
             "outlinewidth": 0,
             "ticks": ""
            },
            "type": "choropleth"
           }
          ],
          "contour": [
           {
            "colorbar": {
             "outlinewidth": 0,
             "ticks": ""
            },
            "colorscale": [
             [
              0,
              "#0d0887"
             ],
             [
              0.1111111111111111,
              "#46039f"
             ],
             [
              0.2222222222222222,
              "#7201a8"
             ],
             [
              0.3333333333333333,
              "#9c179e"
             ],
             [
              0.4444444444444444,
              "#bd3786"
             ],
             [
              0.5555555555555556,
              "#d8576b"
             ],
             [
              0.6666666666666666,
              "#ed7953"
             ],
             [
              0.7777777777777778,
              "#fb9f3a"
             ],
             [
              0.8888888888888888,
              "#fdca26"
             ],
             [
              1,
              "#f0f921"
             ]
            ],
            "type": "contour"
           }
          ],
          "contourcarpet": [
           {
            "colorbar": {
             "outlinewidth": 0,
             "ticks": ""
            },
            "type": "contourcarpet"
           }
          ],
          "heatmap": [
           {
            "colorbar": {
             "outlinewidth": 0,
             "ticks": ""
            },
            "colorscale": [
             [
              0,
              "#0d0887"
             ],
             [
              0.1111111111111111,
              "#46039f"
             ],
             [
              0.2222222222222222,
              "#7201a8"
             ],
             [
              0.3333333333333333,
              "#9c179e"
             ],
             [
              0.4444444444444444,
              "#bd3786"
             ],
             [
              0.5555555555555556,
              "#d8576b"
             ],
             [
              0.6666666666666666,
              "#ed7953"
             ],
             [
              0.7777777777777778,
              "#fb9f3a"
             ],
             [
              0.8888888888888888,
              "#fdca26"
             ],
             [
              1,
              "#f0f921"
             ]
            ],
            "type": "heatmap"
           }
          ],
          "histogram": [
           {
            "marker": {
             "pattern": {
              "fillmode": "overlay",
              "size": 10,
              "solidity": 0.2
             }
            },
            "type": "histogram"
           }
          ],
          "histogram2d": [
           {
            "colorbar": {
             "outlinewidth": 0,
             "ticks": ""
            },
            "colorscale": [
             [
              0,
              "#0d0887"
             ],
             [
              0.1111111111111111,
              "#46039f"
             ],
             [
              0.2222222222222222,
              "#7201a8"
             ],
             [
              0.3333333333333333,
              "#9c179e"
             ],
             [
              0.4444444444444444,
              "#bd3786"
             ],
             [
              0.5555555555555556,
              "#d8576b"
             ],
             [
              0.6666666666666666,
              "#ed7953"
             ],
             [
              0.7777777777777778,
              "#fb9f3a"
             ],
             [
              0.8888888888888888,
              "#fdca26"
             ],
             [
              1,
              "#f0f921"
             ]
            ],
            "type": "histogram2d"
           }
          ],
          "histogram2dcontour": [
           {
            "colorbar": {
             "outlinewidth": 0,
             "ticks": ""
            },
            "colorscale": [
             [
              0,
              "#0d0887"
             ],
             [
              0.1111111111111111,
              "#46039f"
             ],
             [
              0.2222222222222222,
              "#7201a8"
             ],
             [
              0.3333333333333333,
              "#9c179e"
             ],
             [
              0.4444444444444444,
              "#bd3786"
             ],
             [
              0.5555555555555556,
              "#d8576b"
             ],
             [
              0.6666666666666666,
              "#ed7953"
             ],
             [
              0.7777777777777778,
              "#fb9f3a"
             ],
             [
              0.8888888888888888,
              "#fdca26"
             ],
             [
              1,
              "#f0f921"
             ]
            ],
            "type": "histogram2dcontour"
           }
          ],
          "mesh3d": [
           {
            "colorbar": {
             "outlinewidth": 0,
             "ticks": ""
            },
            "type": "mesh3d"
           }
          ],
          "parcoords": [
           {
            "line": {
             "colorbar": {
              "outlinewidth": 0,
              "ticks": ""
             }
            },
            "type": "parcoords"
           }
          ],
          "pie": [
           {
            "automargin": true,
            "type": "pie"
           }
          ],
          "scatter": [
           {
            "fillpattern": {
             "fillmode": "overlay",
             "size": 10,
             "solidity": 0.2
            },
            "type": "scatter"
           }
          ],
          "scatter3d": [
           {
            "line": {
             "colorbar": {
              "outlinewidth": 0,
              "ticks": ""
             }
            },
            "marker": {
             "colorbar": {
              "outlinewidth": 0,
              "ticks": ""
             }
            },
            "type": "scatter3d"
           }
          ],
          "scattercarpet": [
           {
            "marker": {
             "colorbar": {
              "outlinewidth": 0,
              "ticks": ""
             }
            },
            "type": "scattercarpet"
           }
          ],
          "scattergeo": [
           {
            "marker": {
             "colorbar": {
              "outlinewidth": 0,
              "ticks": ""
             }
            },
            "type": "scattergeo"
           }
          ],
          "scattergl": [
           {
            "marker": {
             "colorbar": {
              "outlinewidth": 0,
              "ticks": ""
             }
            },
            "type": "scattergl"
           }
          ],
          "scattermap": [
           {
            "marker": {
             "colorbar": {
              "outlinewidth": 0,
              "ticks": ""
             }
            },
            "type": "scattermap"
           }
          ],
          "scattermapbox": [
           {
            "marker": {
             "colorbar": {
              "outlinewidth": 0,
              "ticks": ""
             }
            },
            "type": "scattermapbox"
           }
          ],
          "scatterpolar": [
           {
            "marker": {
             "colorbar": {
              "outlinewidth": 0,
              "ticks": ""
             }
            },
            "type": "scatterpolar"
           }
          ],
          "scatterpolargl": [
           {
            "marker": {
             "colorbar": {
              "outlinewidth": 0,
              "ticks": ""
             }
            },
            "type": "scatterpolargl"
           }
          ],
          "scatterternary": [
           {
            "marker": {
             "colorbar": {
              "outlinewidth": 0,
              "ticks": ""
             }
            },
            "type": "scatterternary"
           }
          ],
          "surface": [
           {
            "colorbar": {
             "outlinewidth": 0,
             "ticks": ""
            },
            "colorscale": [
             [
              0,
              "#0d0887"
             ],
             [
              0.1111111111111111,
              "#46039f"
             ],
             [
              0.2222222222222222,
              "#7201a8"
             ],
             [
              0.3333333333333333,
              "#9c179e"
             ],
             [
              0.4444444444444444,
              "#bd3786"
             ],
             [
              0.5555555555555556,
              "#d8576b"
             ],
             [
              0.6666666666666666,
              "#ed7953"
             ],
             [
              0.7777777777777778,
              "#fb9f3a"
             ],
             [
              0.8888888888888888,
              "#fdca26"
             ],
             [
              1,
              "#f0f921"
             ]
            ],
            "type": "surface"
           }
          ],
          "table": [
           {
            "cells": {
             "fill": {
              "color": "#EBF0F8"
             },
             "line": {
              "color": "white"
             }
            },
            "header": {
             "fill": {
              "color": "#C8D4E3"
             },
             "line": {
              "color": "white"
             }
            },
            "type": "table"
           }
          ]
         },
         "layout": {
          "annotationdefaults": {
           "arrowcolor": "#2a3f5f",
           "arrowhead": 0,
           "arrowwidth": 1
          },
          "autotypenumbers": "strict",
          "coloraxis": {
           "colorbar": {
            "outlinewidth": 0,
            "ticks": ""
           }
          },
          "colorscale": {
           "diverging": [
            [
             0,
             "#8e0152"
            ],
            [
             0.1,
             "#c51b7d"
            ],
            [
             0.2,
             "#de77ae"
            ],
            [
             0.3,
             "#f1b6da"
            ],
            [
             0.4,
             "#fde0ef"
            ],
            [
             0.5,
             "#f7f7f7"
            ],
            [
             0.6,
             "#e6f5d0"
            ],
            [
             0.7,
             "#b8e186"
            ],
            [
             0.8,
             "#7fbc41"
            ],
            [
             0.9,
             "#4d9221"
            ],
            [
             1,
             "#276419"
            ]
           ],
           "sequential": [
            [
             0,
             "#0d0887"
            ],
            [
             0.1111111111111111,
             "#46039f"
            ],
            [
             0.2222222222222222,
             "#7201a8"
            ],
            [
             0.3333333333333333,
             "#9c179e"
            ],
            [
             0.4444444444444444,
             "#bd3786"
            ],
            [
             0.5555555555555556,
             "#d8576b"
            ],
            [
             0.6666666666666666,
             "#ed7953"
            ],
            [
             0.7777777777777778,
             "#fb9f3a"
            ],
            [
             0.8888888888888888,
             "#fdca26"
            ],
            [
             1,
             "#f0f921"
            ]
           ],
           "sequentialminus": [
            [
             0,
             "#0d0887"
            ],
            [
             0.1111111111111111,
             "#46039f"
            ],
            [
             0.2222222222222222,
             "#7201a8"
            ],
            [
             0.3333333333333333,
             "#9c179e"
            ],
            [
             0.4444444444444444,
             "#bd3786"
            ],
            [
             0.5555555555555556,
             "#d8576b"
            ],
            [
             0.6666666666666666,
             "#ed7953"
            ],
            [
             0.7777777777777778,
             "#fb9f3a"
            ],
            [
             0.8888888888888888,
             "#fdca26"
            ],
            [
             1,
             "#f0f921"
            ]
           ]
          },
          "colorway": [
           "#636efa",
           "#EF553B",
           "#00cc96",
           "#ab63fa",
           "#FFA15A",
           "#19d3f3",
           "#FF6692",
           "#B6E880",
           "#FF97FF",
           "#FECB52"
          ],
          "font": {
           "color": "#2a3f5f"
          },
          "geo": {
           "bgcolor": "white",
           "lakecolor": "white",
           "landcolor": "#E5ECF6",
           "showlakes": true,
           "showland": true,
           "subunitcolor": "white"
          },
          "hoverlabel": {
           "align": "left"
          },
          "hovermode": "closest",
          "mapbox": {
           "style": "light"
          },
          "paper_bgcolor": "white",
          "plot_bgcolor": "#E5ECF6",
          "polar": {
           "angularaxis": {
            "gridcolor": "white",
            "linecolor": "white",
            "ticks": ""
           },
           "bgcolor": "#E5ECF6",
           "radialaxis": {
            "gridcolor": "white",
            "linecolor": "white",
            "ticks": ""
           }
          },
          "scene": {
           "xaxis": {
            "backgroundcolor": "#E5ECF6",
            "gridcolor": "white",
            "gridwidth": 2,
            "linecolor": "white",
            "showbackground": true,
            "ticks": "",
            "zerolinecolor": "white"
           },
           "yaxis": {
            "backgroundcolor": "#E5ECF6",
            "gridcolor": "white",
            "gridwidth": 2,
            "linecolor": "white",
            "showbackground": true,
            "ticks": "",
            "zerolinecolor": "white"
           },
           "zaxis": {
            "backgroundcolor": "#E5ECF6",
            "gridcolor": "white",
            "gridwidth": 2,
            "linecolor": "white",
            "showbackground": true,
            "ticks": "",
            "zerolinecolor": "white"
           }
          },
          "shapedefaults": {
           "line": {
            "color": "#2a3f5f"
           }
          },
          "ternary": {
           "aaxis": {
            "gridcolor": "white",
            "linecolor": "white",
            "ticks": ""
           },
           "baxis": {
            "gridcolor": "white",
            "linecolor": "white",
            "ticks": ""
           },
           "bgcolor": "#E5ECF6",
           "caxis": {
            "gridcolor": "white",
            "linecolor": "white",
            "ticks": ""
           }
          },
          "title": {
           "x": 0.05
          },
          "xaxis": {
           "automargin": true,
           "gridcolor": "white",
           "linecolor": "white",
           "ticks": "",
           "title": {
            "standoff": 15
           },
           "zerolinecolor": "white",
           "zerolinewidth": 2
          },
          "yaxis": {
           "automargin": true,
           "gridcolor": "white",
           "linecolor": "white",
           "ticks": "",
           "title": {
            "standoff": 15
           },
           "zerolinecolor": "white",
           "zerolinewidth": 2
          }
         }
        },
        "title": {
         "text": "Ajuste de Curva - MSE | Feature: Standardized | LR: 0.001 | Loss: 372.092180"
        }
       }
      }
     },
     "metadata": {},
     "output_type": "display_data"
    }
   ],
   "source": [
    "_ = plot_best_by_loss(df_result, \"MSE\", df, features_normalized, features_standardized, show_original_points=True)"
   ]
  },
  {
   "cell_type": "code",
   "execution_count": 10,
   "id": "81bc3c8f",
   "metadata": {},
   "outputs": [
    {
     "data": {
      "text/html": [
       "<div>\n",
       "<style scoped>\n",
       "    .dataframe tbody tr th:only-of-type {\n",
       "        vertical-align: middle;\n",
       "    }\n",
       "\n",
       "    .dataframe tbody tr th {\n",
       "        vertical-align: top;\n",
       "    }\n",
       "\n",
       "    .dataframe thead th {\n",
       "        text-align: right;\n",
       "    }\n",
       "</style>\n",
       "<table border=\"1\" class=\"dataframe\">\n",
       "  <thead>\n",
       "    <tr style=\"text-align: right;\">\n",
       "      <th></th>\n",
       "      <th>Feature_Set</th>\n",
       "      <th>Loss_Function</th>\n",
       "      <th>Learning_Rate</th>\n",
       "      <th>Initial_Weights</th>\n",
       "      <th>Weights_raw</th>\n",
       "      <th>Final_Weights</th>\n",
       "      <th>Final_Loss</th>\n",
       "      <th>MSE_Final</th>\n",
       "      <th>RMSE_Final</th>\n",
       "      <th>MAE_Final</th>\n",
       "      <th>Iterations</th>\n",
       "    </tr>\n",
       "  </thead>\n",
       "  <tbody>\n",
       "    <tr>\n",
       "      <th>0</th>\n",
       "      <td>Standardized</td>\n",
       "      <td>MSE</td>\n",
       "      <td>0.00100</td>\n",
       "      <td>(-0.0008095019450254399, 0.0034561029535432643...</td>\n",
       "      <td>[288.0966188051318, 48.82206766173166, 36.9885...</td>\n",
       "      <td>[5.007836663413999, 5.733892693254057, 10.5990...</td>\n",
       "      <td>372.092180</td>\n",
       "      <td>372.092180</td>\n",
       "      <td>19.289691</td>\n",
       "      <td>15.294893</td>\n",
       "      <td>4913</td>\n",
       "    </tr>\n",
       "    <tr>\n",
       "      <th>1</th>\n",
       "      <td>Standardized</td>\n",
       "      <td>MSE</td>\n",
       "      <td>0.00100</td>\n",
       "      <td>(0.0, 0.0, 0.0)</td>\n",
       "      <td>[288.09661884843933, 48.822067476832046, 36.98...</td>\n",
       "      <td>[5.007836664166791, 5.7338926715385785, 10.599...</td>\n",
       "      <td>372.092180</td>\n",
       "      <td>372.092180</td>\n",
       "      <td>19.289691</td>\n",
       "      <td>15.294893</td>\n",
       "      <td>4913</td>\n",
       "    </tr>\n",
       "    <tr>\n",
       "      <th>2</th>\n",
       "      <td>Standardized</td>\n",
       "      <td>MSE</td>\n",
       "      <td>0.00100</td>\n",
       "      <td>(0.1, 0.1, 0.1)</td>\n",
       "      <td>[288.0965933196544, 48.82206760284204, 36.9885...</td>\n",
       "      <td>[5.007836220412937, 5.733892686337784, 10.5990...</td>\n",
       "      <td>372.092181</td>\n",
       "      <td>372.092181</td>\n",
       "      <td>19.289691</td>\n",
       "      <td>15.294892</td>\n",
       "      <td>4912</td>\n",
       "    </tr>\n",
       "    <tr>\n",
       "      <th>3</th>\n",
       "      <td>Original</td>\n",
       "      <td>MSE</td>\n",
       "      <td>0.00010</td>\n",
       "      <td>(0.1, 0.1, 0.1)</td>\n",
       "      <td>[5.004883393524895, 5.981410684267237, 6.34990...</td>\n",
       "      <td>[5.004883393524895, 5.981410684267237, 6.34990...</td>\n",
       "      <td>379.972200</td>\n",
       "      <td>379.972200</td>\n",
       "      <td>19.492876</td>\n",
       "      <td>15.316278</td>\n",
       "      <td>10000</td>\n",
       "    </tr>\n",
       "    <tr>\n",
       "      <th>4</th>\n",
       "      <td>Original</td>\n",
       "      <td>MSE</td>\n",
       "      <td>0.00010</td>\n",
       "      <td>(-0.0008095019450254399, 0.0034561029535432643...</td>\n",
       "      <td>[5.0048574353025606, 5.983402849064158, 6.3156...</td>\n",
       "      <td>[5.0048574353025606, 5.983402849064158, 6.3156...</td>\n",
       "      <td>380.099719</td>\n",
       "      <td>380.099719</td>\n",
       "      <td>19.496146</td>\n",
       "      <td>15.318211</td>\n",
       "      <td>10000</td>\n",
       "    </tr>\n",
       "    <tr>\n",
       "      <th>5</th>\n",
       "      <td>Original</td>\n",
       "      <td>MSE</td>\n",
       "      <td>0.00010</td>\n",
       "      <td>(0.0, 0.0, 0.0)</td>\n",
       "      <td>[5.004853554896708, 5.983700650964379, 6.31053...</td>\n",
       "      <td>[5.004853554896708, 5.983700650964379, 6.31053...</td>\n",
       "      <td>380.118869</td>\n",
       "      <td>380.118869</td>\n",
       "      <td>19.496637</td>\n",
       "      <td>15.318501</td>\n",
       "      <td>10000</td>\n",
       "    </tr>\n",
       "    <tr>\n",
       "      <th>6</th>\n",
       "      <td>Original</td>\n",
       "      <td>MSE</td>\n",
       "      <td>0.00001</td>\n",
       "      <td>(0.1, 0.1, 0.1)</td>\n",
       "      <td>[5.001058032080917, 6.274988199168381, 1.30309...</td>\n",
       "      <td>[5.001058032080917, 6.274988199168381, 1.30309...</td>\n",
       "      <td>409.802224</td>\n",
       "      <td>409.802224</td>\n",
       "      <td>20.243572</td>\n",
       "      <td>15.820022</td>\n",
       "      <td>10000</td>\n",
       "    </tr>\n",
       "    <tr>\n",
       "      <th>7</th>\n",
       "      <td>Original</td>\n",
       "      <td>MSE</td>\n",
       "      <td>0.00001</td>\n",
       "      <td>(-0.0008095019450254399, 0.0034561029535432643...</td>\n",
       "      <td>[5.00100124698145, 6.279346173866839, 1.228177...</td>\n",
       "      <td>[5.00100124698145, 6.279346173866839, 1.228177...</td>\n",
       "      <td>410.412454</td>\n",
       "      <td>410.412454</td>\n",
       "      <td>20.258639</td>\n",
       "      <td>15.830440</td>\n",
       "      <td>10000</td>\n",
       "    </tr>\n",
       "    <tr>\n",
       "      <th>8</th>\n",
       "      <td>Original</td>\n",
       "      <td>MSE</td>\n",
       "      <td>0.00001</td>\n",
       "      <td>(0.0, 0.0, 0.0)</td>\n",
       "      <td>[5.0009927583711935, 6.279997632595718, 1.2169...</td>\n",
       "      <td>[5.0009927583711935, 6.279997632595718, 1.2169...</td>\n",
       "      <td>410.504096</td>\n",
       "      <td>410.504096</td>\n",
       "      <td>20.260901</td>\n",
       "      <td>15.831998</td>\n",
       "      <td>10000</td>\n",
       "    </tr>\n",
       "    <tr>\n",
       "      <th>9</th>\n",
       "      <td>Standardized</td>\n",
       "      <td>MSE</td>\n",
       "      <td>0.00010</td>\n",
       "      <td>(0.1, 0.1, 0.1)</td>\n",
       "      <td>[249.1416385636257, 42.231830137837406, 31.998...</td>\n",
       "      <td>[4.330702099721204, 4.959904277874321, 9.16498...</td>\n",
       "      <td>1959.165260</td>\n",
       "      <td>1959.165260</td>\n",
       "      <td>44.262459</td>\n",
       "      <td>33.734391</td>\n",
       "      <td>10000</td>\n",
       "    </tr>\n",
       "    <tr>\n",
       "      <th>10</th>\n",
       "      <td>Standardized</td>\n",
       "      <td>MSE</td>\n",
       "      <td>0.00010</td>\n",
       "      <td>(-0.0008095019450254399, 0.0034561029535432643...</td>\n",
       "      <td>[249.12799820983454, 42.218766955432216, 31.98...</td>\n",
       "      <td>[4.330464996404614, 4.95837007644183, 9.166564...</td>\n",
       "      <td>1960.519394</td>\n",
       "      <td>1960.519394</td>\n",
       "      <td>44.277753</td>\n",
       "      <td>33.746760</td>\n",
       "      <td>10000</td>\n",
       "    </tr>\n",
       "    <tr>\n",
       "      <th>11</th>\n",
       "      <td>Standardized</td>\n",
       "      <td>MSE</td>\n",
       "      <td>0.00010</td>\n",
       "      <td>(0.0, 0.0, 0.0)</td>\n",
       "      <td>[249.12810774209868, 42.21829931630968, 31.985...</td>\n",
       "      <td>[4.330466900348125, 4.958315154709175, 9.16541...</td>\n",
       "      <td>1960.533906</td>\n",
       "      <td>1960.533906</td>\n",
       "      <td>44.277917</td>\n",
       "      <td>33.747134</td>\n",
       "      <td>10000</td>\n",
       "    </tr>\n",
       "    <tr>\n",
       "      <th>12</th>\n",
       "      <td>Standardized</td>\n",
       "      <td>MSE</td>\n",
       "      <td>0.00001</td>\n",
       "      <td>(0.1, 0.1, 0.1)</td>\n",
       "      <td>[52.308195883669576, 8.932365758032656, 6.7871...</td>\n",
       "      <td>[0.9092467042123288, 1.0490589441708944, 1.918...</td>\n",
       "      <td>58479.182618</td>\n",
       "      <td>58479.182618</td>\n",
       "      <td>241.824694</td>\n",
       "      <td>177.650311</td>\n",
       "      <td>10000</td>\n",
       "    </tr>\n",
       "    <tr>\n",
       "      <th>13</th>\n",
       "      <td>Standardized</td>\n",
       "      <td>MSE</td>\n",
       "      <td>0.00001</td>\n",
       "      <td>(-0.0008095019450254399, 0.0034561029535432643...</td>\n",
       "      <td>[52.22566020929842, 8.853322458587597, 6.71551...</td>\n",
       "      <td>[0.9078120286584478, 1.039775728222751, 1.9283...</td>\n",
       "      <td>58528.761176</td>\n",
       "      <td>58528.761176</td>\n",
       "      <td>241.927182</td>\n",
       "      <td>177.742058</td>\n",
       "      <td>10000</td>\n",
       "    </tr>\n",
       "    <tr>\n",
       "      <th>14</th>\n",
       "      <td>Standardized</td>\n",
       "      <td>MSE</td>\n",
       "      <td>0.00001</td>\n",
       "      <td>(0.0, 0.0, 0.0)</td>\n",
       "      <td>[52.22632297211007, 8.850492846473026, 6.70531...</td>\n",
       "      <td>[0.9078235491265502, 1.0394434052998283, 1.921...</td>\n",
       "      <td>58529.292499</td>\n",
       "      <td>58529.292499</td>\n",
       "      <td>241.928280</td>\n",
       "      <td>177.745623</td>\n",
       "      <td>10000</td>\n",
       "    </tr>\n",
       "    <tr>\n",
       "      <th>15</th>\n",
       "      <td>Normalized</td>\n",
       "      <td>MSE</td>\n",
       "      <td>0.00001</td>\n",
       "      <td>(0.1, 0.1, 0.1)</td>\n",
       "      <td>[29.595072526708186, 5.002230533716091, 6.6941...</td>\n",
       "      <td>[0.2662193484339755, 0.40081975430417394, 39.9...</td>\n",
       "      <td>77711.067488</td>\n",
       "      <td>76880.363159</td>\n",
       "      <td>277.273084</td>\n",
       "      <td>196.163812</td>\n",
       "      <td>10000</td>\n",
       "    </tr>\n",
       "    <tr>\n",
       "      <th>16</th>\n",
       "      <td>Normalized</td>\n",
       "      <td>MSE</td>\n",
       "      <td>0.00001</td>\n",
       "      <td>(0.0, 0.0, 0.0)</td>\n",
       "      <td>[29.501369845400042, 4.907746054847963, 6.6094...</td>\n",
       "      <td>[0.2653764558631984, 0.393248882599997, 39.765...</td>\n",
       "      <td>77747.472516</td>\n",
       "      <td>76910.017532</td>\n",
       "      <td>277.326554</td>\n",
       "      <td>196.239406</td>\n",
       "      <td>10000</td>\n",
       "    </tr>\n",
       "    <tr>\n",
       "      <th>17</th>\n",
       "      <td>Normalized</td>\n",
       "      <td>MSE</td>\n",
       "      <td>0.00001</td>\n",
       "      <td>(-0.0008095019450254399, 0.0034561029535432643...</td>\n",
       "      <td>[29.500454451332082, 4.911356688873011, 6.6198...</td>\n",
       "      <td>[0.26536822153256406, 0.39353819622379893, 39....</td>\n",
       "      <td>77746.951242</td>\n",
       "      <td>76910.174561</td>\n",
       "      <td>277.326837</td>\n",
       "      <td>196.237852</td>\n",
       "      <td>10000</td>\n",
       "    </tr>\n",
       "    <tr>\n",
       "      <th>18</th>\n",
       "      <td>Normalized</td>\n",
       "      <td>MSE</td>\n",
       "      <td>0.00010</td>\n",
       "      <td>(0.0, 0.0, 0.0)</td>\n",
       "      <td>[232.2560031899983, 39.96864817412401, 27.3921...</td>\n",
       "      <td>[2.0892343407275322, 3.2026160395932703, 288.4...</td>\n",
       "      <td>29037.805965</td>\n",
       "      <td>102069.103685</td>\n",
       "      <td>319.482556</td>\n",
       "      <td>276.278125</td>\n",
       "      <td>10000</td>\n",
       "    </tr>\n",
       "    <tr>\n",
       "      <th>19</th>\n",
       "      <td>Normalized</td>\n",
       "      <td>MSE</td>\n",
       "      <td>0.00010</td>\n",
       "      <td>(-0.0008095019450254399, 0.0034561029535432643...</td>\n",
       "      <td>[232.25500875904336, 39.97131793299439, 27.394...</td>\n",
       "      <td>[2.089225395428931, 3.2028299625796786, 288.41...</td>\n",
       "      <td>29037.893578</td>\n",
       "      <td>102071.020070</td>\n",
       "      <td>319.485555</td>\n",
       "      <td>276.280987</td>\n",
       "      <td>10000</td>\n",
       "    </tr>\n",
       "    <tr>\n",
       "      <th>20</th>\n",
       "      <td>Normalized</td>\n",
       "      <td>MSE</td>\n",
       "      <td>0.00010</td>\n",
       "      <td>(0.1, 0.1, 0.1)</td>\n",
       "      <td>[232.31049164984128, 40.01827500990086, 27.414...</td>\n",
       "      <td>[2.089724485911785, 3.2065925488702613, 288.50...</td>\n",
       "      <td>29026.819888</td>\n",
       "      <td>102122.493283</td>\n",
       "      <td>319.566102</td>\n",
       "      <td>276.363140</td>\n",
       "      <td>10000</td>\n",
       "    </tr>\n",
       "    <tr>\n",
       "      <th>21</th>\n",
       "      <td>Normalized</td>\n",
       "      <td>MSE</td>\n",
       "      <td>0.00100</td>\n",
       "      <td>(-0.0008095019450254399, 0.0034561029535432643...</td>\n",
       "      <td>[554.056647396928, 71.6327114436895, 13.405119...</td>\n",
       "      <td>[4.983958040055844, 5.739800596449479, 636.170...</td>\n",
       "      <td>374.029450</td>\n",
       "      <td>391954.504394</td>\n",
       "      <td>626.062700</td>\n",
       "      <td>625.763918</td>\n",
       "      <td>10000</td>\n",
       "    </tr>\n",
       "    <tr>\n",
       "      <th>22</th>\n",
       "      <td>Normalized</td>\n",
       "      <td>MSE</td>\n",
       "      <td>0.00100</td>\n",
       "      <td>(0.0, 0.0, 0.0)</td>\n",
       "      <td>[554.0566583901958, 71.6327096736123, 13.40511...</td>\n",
       "      <td>[4.983958138944623, 5.73980045461637, 636.1702...</td>\n",
       "      <td>374.029434</td>\n",
       "      <td>391954.515225</td>\n",
       "      <td>626.062709</td>\n",
       "      <td>625.763926</td>\n",
       "      <td>10000</td>\n",
       "    </tr>\n",
       "    <tr>\n",
       "      <th>23</th>\n",
       "      <td>Normalized</td>\n",
       "      <td>MSE</td>\n",
       "      <td>0.00100</td>\n",
       "      <td>(0.1, 0.1, 0.1)</td>\n",
       "      <td>[554.0570761701158, 71.63272049339506, 13.4050...</td>\n",
       "      <td>[4.983961897039758, 5.739801321586142, 636.170...</td>\n",
       "      <td>374.028833</td>\n",
       "      <td>391955.041109</td>\n",
       "      <td>626.063129</td>\n",
       "      <td>625.764347</td>\n",
       "      <td>10000</td>\n",
       "    </tr>\n",
       "  </tbody>\n",
       "</table>\n",
       "</div>"
      ],
      "text/plain": [
       "     Feature_Set Loss_Function  Learning_Rate  \\\n",
       "0   Standardized           MSE        0.00100   \n",
       "1   Standardized           MSE        0.00100   \n",
       "2   Standardized           MSE        0.00100   \n",
       "3       Original           MSE        0.00010   \n",
       "4       Original           MSE        0.00010   \n",
       "5       Original           MSE        0.00010   \n",
       "6       Original           MSE        0.00001   \n",
       "7       Original           MSE        0.00001   \n",
       "8       Original           MSE        0.00001   \n",
       "9   Standardized           MSE        0.00010   \n",
       "10  Standardized           MSE        0.00010   \n",
       "11  Standardized           MSE        0.00010   \n",
       "12  Standardized           MSE        0.00001   \n",
       "13  Standardized           MSE        0.00001   \n",
       "14  Standardized           MSE        0.00001   \n",
       "15    Normalized           MSE        0.00001   \n",
       "16    Normalized           MSE        0.00001   \n",
       "17    Normalized           MSE        0.00001   \n",
       "18    Normalized           MSE        0.00010   \n",
       "19    Normalized           MSE        0.00010   \n",
       "20    Normalized           MSE        0.00010   \n",
       "21    Normalized           MSE        0.00100   \n",
       "22    Normalized           MSE        0.00100   \n",
       "23    Normalized           MSE        0.00100   \n",
       "\n",
       "                                      Initial_Weights  \\\n",
       "0   (-0.0008095019450254399, 0.0034561029535432643...   \n",
       "1                                     (0.0, 0.0, 0.0)   \n",
       "2                                     (0.1, 0.1, 0.1)   \n",
       "3                                     (0.1, 0.1, 0.1)   \n",
       "4   (-0.0008095019450254399, 0.0034561029535432643...   \n",
       "5                                     (0.0, 0.0, 0.0)   \n",
       "6                                     (0.1, 0.1, 0.1)   \n",
       "7   (-0.0008095019450254399, 0.0034561029535432643...   \n",
       "8                                     (0.0, 0.0, 0.0)   \n",
       "9                                     (0.1, 0.1, 0.1)   \n",
       "10  (-0.0008095019450254399, 0.0034561029535432643...   \n",
       "11                                    (0.0, 0.0, 0.0)   \n",
       "12                                    (0.1, 0.1, 0.1)   \n",
       "13  (-0.0008095019450254399, 0.0034561029535432643...   \n",
       "14                                    (0.0, 0.0, 0.0)   \n",
       "15                                    (0.1, 0.1, 0.1)   \n",
       "16                                    (0.0, 0.0, 0.0)   \n",
       "17  (-0.0008095019450254399, 0.0034561029535432643...   \n",
       "18                                    (0.0, 0.0, 0.0)   \n",
       "19  (-0.0008095019450254399, 0.0034561029535432643...   \n",
       "20                                    (0.1, 0.1, 0.1)   \n",
       "21  (-0.0008095019450254399, 0.0034561029535432643...   \n",
       "22                                    (0.0, 0.0, 0.0)   \n",
       "23                                    (0.1, 0.1, 0.1)   \n",
       "\n",
       "                                          Weights_raw  \\\n",
       "0   [288.0966188051318, 48.82206766173166, 36.9885...   \n",
       "1   [288.09661884843933, 48.822067476832046, 36.98...   \n",
       "2   [288.0965933196544, 48.82206760284204, 36.9885...   \n",
       "3   [5.004883393524895, 5.981410684267237, 6.34990...   \n",
       "4   [5.0048574353025606, 5.983402849064158, 6.3156...   \n",
       "5   [5.004853554896708, 5.983700650964379, 6.31053...   \n",
       "6   [5.001058032080917, 6.274988199168381, 1.30309...   \n",
       "7   [5.00100124698145, 6.279346173866839, 1.228177...   \n",
       "8   [5.0009927583711935, 6.279997632595718, 1.2169...   \n",
       "9   [249.1416385636257, 42.231830137837406, 31.998...   \n",
       "10  [249.12799820983454, 42.218766955432216, 31.98...   \n",
       "11  [249.12810774209868, 42.21829931630968, 31.985...   \n",
       "12  [52.308195883669576, 8.932365758032656, 6.7871...   \n",
       "13  [52.22566020929842, 8.853322458587597, 6.71551...   \n",
       "14  [52.22632297211007, 8.850492846473026, 6.70531...   \n",
       "15  [29.595072526708186, 5.002230533716091, 6.6941...   \n",
       "16  [29.501369845400042, 4.907746054847963, 6.6094...   \n",
       "17  [29.500454451332082, 4.911356688873011, 6.6198...   \n",
       "18  [232.2560031899983, 39.96864817412401, 27.3921...   \n",
       "19  [232.25500875904336, 39.97131793299439, 27.394...   \n",
       "20  [232.31049164984128, 40.01827500990086, 27.414...   \n",
       "21  [554.056647396928, 71.6327114436895, 13.405119...   \n",
       "22  [554.0566583901958, 71.6327096736123, 13.40511...   \n",
       "23  [554.0570761701158, 71.63272049339506, 13.4050...   \n",
       "\n",
       "                                        Final_Weights    Final_Loss  \\\n",
       "0   [5.007836663413999, 5.733892693254057, 10.5990...    372.092180   \n",
       "1   [5.007836664166791, 5.7338926715385785, 10.599...    372.092180   \n",
       "2   [5.007836220412937, 5.733892686337784, 10.5990...    372.092181   \n",
       "3   [5.004883393524895, 5.981410684267237, 6.34990...    379.972200   \n",
       "4   [5.0048574353025606, 5.983402849064158, 6.3156...    380.099719   \n",
       "5   [5.004853554896708, 5.983700650964379, 6.31053...    380.118869   \n",
       "6   [5.001058032080917, 6.274988199168381, 1.30309...    409.802224   \n",
       "7   [5.00100124698145, 6.279346173866839, 1.228177...    410.412454   \n",
       "8   [5.0009927583711935, 6.279997632595718, 1.2169...    410.504096   \n",
       "9   [4.330702099721204, 4.959904277874321, 9.16498...   1959.165260   \n",
       "10  [4.330464996404614, 4.95837007644183, 9.166564...   1960.519394   \n",
       "11  [4.330466900348125, 4.958315154709175, 9.16541...   1960.533906   \n",
       "12  [0.9092467042123288, 1.0490589441708944, 1.918...  58479.182618   \n",
       "13  [0.9078120286584478, 1.039775728222751, 1.9283...  58528.761176   \n",
       "14  [0.9078235491265502, 1.0394434052998283, 1.921...  58529.292499   \n",
       "15  [0.2662193484339755, 0.40081975430417394, 39.9...  77711.067488   \n",
       "16  [0.2653764558631984, 0.393248882599997, 39.765...  77747.472516   \n",
       "17  [0.26536822153256406, 0.39353819622379893, 39....  77746.951242   \n",
       "18  [2.0892343407275322, 3.2026160395932703, 288.4...  29037.805965   \n",
       "19  [2.089225395428931, 3.2028299625796786, 288.41...  29037.893578   \n",
       "20  [2.089724485911785, 3.2065925488702613, 288.50...  29026.819888   \n",
       "21  [4.983958040055844, 5.739800596449479, 636.170...    374.029450   \n",
       "22  [4.983958138944623, 5.73980045461637, 636.1702...    374.029434   \n",
       "23  [4.983961897039758, 5.739801321586142, 636.170...    374.028833   \n",
       "\n",
       "        MSE_Final  RMSE_Final   MAE_Final  Iterations  \n",
       "0      372.092180   19.289691   15.294893        4913  \n",
       "1      372.092180   19.289691   15.294893        4913  \n",
       "2      372.092181   19.289691   15.294892        4912  \n",
       "3      379.972200   19.492876   15.316278       10000  \n",
       "4      380.099719   19.496146   15.318211       10000  \n",
       "5      380.118869   19.496637   15.318501       10000  \n",
       "6      409.802224   20.243572   15.820022       10000  \n",
       "7      410.412454   20.258639   15.830440       10000  \n",
       "8      410.504096   20.260901   15.831998       10000  \n",
       "9     1959.165260   44.262459   33.734391       10000  \n",
       "10    1960.519394   44.277753   33.746760       10000  \n",
       "11    1960.533906   44.277917   33.747134       10000  \n",
       "12   58479.182618  241.824694  177.650311       10000  \n",
       "13   58528.761176  241.927182  177.742058       10000  \n",
       "14   58529.292499  241.928280  177.745623       10000  \n",
       "15   76880.363159  277.273084  196.163812       10000  \n",
       "16   76910.017532  277.326554  196.239406       10000  \n",
       "17   76910.174561  277.326837  196.237852       10000  \n",
       "18  102069.103685  319.482556  276.278125       10000  \n",
       "19  102071.020070  319.485555  276.280987       10000  \n",
       "20  102122.493283  319.566102  276.363140       10000  \n",
       "21  391954.504394  626.062700  625.763918       10000  \n",
       "22  391954.515225  626.062709  625.763926       10000  \n",
       "23  391955.041109  626.063129  625.764347       10000  "
      ]
     },
     "execution_count": 10,
     "metadata": {},
     "output_type": "execute_result"
    }
   ],
   "source": [
    "df_result_mse = df_result[df_result['Loss_Function'] == 'MSE'].sort_values(by='MSE_Final').reset_index(drop=True)\n",
    "df_result_mse"
   ]
  },
  {
   "cell_type": "markdown",
   "id": "7f27ad02",
   "metadata": {},
   "source": [
    "### RMSE"
   ]
  },
  {
   "cell_type": "code",
   "execution_count": 11,
   "id": "b8f68d53",
   "metadata": {},
   "outputs": [
    {
     "name": "stdout",
     "output_type": "stream",
     "text": [
      "Melhor resultado RMSE:\n",
      "Feature Set: Original\n",
      "Learning Rate: 0.001\n",
      "Final Loss: 20.041726203384506\n",
      "Pesos: [5.00186383 6.21314749 2.36617984]\n"
     ]
    },
    {
     "data": {
      "application/vnd.plotly.v1+json": {
       "config": {
        "plotlyServerURL": "https://plot.ly"
       },
       "data": [
        {
         "colorscale": [
          [
           0,
           "#440154"
          ],
          [
           0.1111111111111111,
           "#482878"
          ],
          [
           0.2222222222222222,
           "#3e4989"
          ],
          [
           0.3333333333333333,
           "#31688e"
          ],
          [
           0.4444444444444444,
           "#26828e"
          ],
          [
           0.5555555555555556,
           "#1f9e89"
          ],
          [
           0.6666666666666666,
           "#35b779"
          ],
          [
           0.7777777777777778,
           "#6ece58"
          ],
          [
           0.8888888888888888,
           "#b5de2b"
          ],
          [
           1,
           "#fde725"
          ]
         ],
         "name": "Dados Originais",
         "opacity": 0.7,
         "type": "surface",
         "x": {
          "bdata": "AAAAAAAAFMBmZmZmZmYOwM3MzMzMzATAaGZmZmZm9r+gmZmZmZnJvwAAAAAAAPA/mZmZmZmZAUAyMzMzMzMLQGZmZmZmZhJA",
          "dtype": "f8"
         },
         "y": {
          "bdata": "AAAAAAAAFMBmZmZmZmYOwM3MzMzMzATAaGZmZmZm9r+gmZmZmZnJvwAAAAAAAPA/mZmZmZmZAUAyMzMzMzMLQGZmZmZmZhJA",
          "dtype": "f8"
         },
         "z": {
          "bdata": "9sghBmuvfMC0I0+f2t1hwK8LugEe2lJAqRchANEXY0CXyXr2YdNiQAXkA6qEaGRAYRUI67oQZkCrc0pJRUR3QPvexyqfJYNA56vLG+RCgMBgZFWNY0RmwEa0ZU71tjdASHovQizPUEC2yUt2ioZXQIE/ymEiEFJAofS3QC9TZUDm0Y69RzpxQBxk+a3Gm4JAh69vWFCIgsDr2fnzbGBtwMXwCs/1Y0XAAKbl/Ohw5z+MPGrMWAZUQIPM0KKqs01AdnFhUEEJY0BYWYDTU69vQGvDh4ASt4BAxGnZfDb2gsC8hbDvayFqwFXOkBgITEHATybcMR6bRkD4ZK9QxgMSQLZw2jvWoCRAbl3iWwiMV0AD6gnTpuNpQNwbLrpiU4BAAeQkEzeLhMAk6/XeOCtuwLj38j6P0FXA/Yd56iUkL8DWRXvas+Q5QPddrDvbtSpAiXUrThCVTEAi8fVSARFpQN9/ze8BZX9ANYX9+71QgsBaaZmAw0RzwKEVjb8aVVDAjlnf8IZjEUDsg/0U6SE2QBSM3YxpuTtAIlxfPf9zU0AmTk5q1SNpQMAYRqOGBIBA/M43o1W0gsACTn1vyk9swPoCevfMxUHAOsIQ26pKQkAcJJh7USlBQOqpfkVp8jlAN2AcB9zjUUAW4wxTc+FqQNasiNjrAH9AUTA5arzNgcDHxNnozt5rwPVOnU/RQxvAfddQOV36UEA6vegZHBdNQIdtQ2USplNAhP5SrQhFZUCdRKEKSBtwQJ8BCeQTDYFAihsM/ebRfsBpdWkKCdBhwBqUJlS9rFBAp8B+eU9JWkAiG2r8lmdgQIRpKZrCnmJAx2bRaHMgakCkRVdKg5R0QNmH6s2ZNYNA",
          "dtype": "f8",
          "shape": "9, 9"
         }
        },
        {
         "marker": {
          "color": "red",
          "size": 4,
          "symbol": "circle"
         },
         "mode": "markers",
         "name": "Pontos Originais",
         "type": "scatter3d",
         "x": {
          "bdata": "AAAAAAAAFMAAAAAAAAAUwAAAAAAAABTAAAAAAAAAFMAAAAAAAAAUwAAAAAAAABTAAAAAAAAAFMAAAAAAAAAUwAAAAAAAABTAZmZmZmZmDsBmZmZmZmYOwGZmZmZmZg7AZmZmZmZmDsBmZmZmZmYOwGZmZmZmZg7AZmZmZmZmDsBmZmZmZmYOwGZmZmZmZg7AzczMzMzMBMDNzMzMzMwEwM3MzMzMzATAzczMzMzMBMDNzMzMzMwEwM3MzMzMzATAzczMzMzMBMDNzMzMzMwEwM3MzMzMzATAaGZmZmZm9r9oZmZmZmb2v2hmZmZmZva/aGZmZmZm9r9oZmZmZmb2v2hmZmZmZva/aGZmZmZm9r9oZmZmZmb2v2hmZmZmZva/oJmZmZmZyb+gmZmZmZnJv6CZmZmZmcm/oJmZmZmZyb+gmZmZmZnJv6CZmZmZmcm/oJmZmZmZyb+gmZmZmZnJv6CZmZmZmcm/AAAAAAAA8D8AAAAAAADwPwAAAAAAAPA/AAAAAAAA8D8AAAAAAADwPwAAAAAAAPA/AAAAAAAA8D8AAAAAAADwPwAAAAAAAPA/mZmZmZmZAUCZmZmZmZkBQJmZmZmZmQFAmZmZmZmZAUCZmZmZmZkBQJmZmZmZmQFAmZmZmZmZAUCZmZmZmZkBQJmZmZmZmQFAMjMzMzMzC0AyMzMzMzMLQDIzMzMzMwtAMjMzMzMzC0AyMzMzMzMLQDIzMzMzMwtAMjMzMzMzC0AyMzMzMzMLQDIzMzMzMwtAZmZmZmZmEkBmZmZmZmYSQGZmZmZmZhJAZmZmZmZmEkBmZmZmZmYSQGZmZmZmZhJAZmZmZmZmEkBmZmZmZmYSQGZmZmZmZhJA",
          "dtype": "f8"
         },
         "y": {
          "bdata": "AAAAAAAAFMBmZmZmZmYOwM3MzMzMzATAaGZmZmZm9r+gmZmZmZnJvwAAAAAAAPA/mZmZmZmZAUAyMzMzMzMLQGZmZmZmZhJAAAAAAAAAFMBmZmZmZmYOwM3MzMzMzATAaGZmZmZm9r+gmZmZmZnJvwAAAAAAAPA/mZmZmZmZAUAyMzMzMzMLQGZmZmZmZhJAAAAAAAAAFMBmZmZmZmYOwM3MzMzMzATAaGZmZmZm9r+gmZmZmZnJvwAAAAAAAPA/mZmZmZmZAUAyMzMzMzMLQGZmZmZmZhJAAAAAAAAAFMBmZmZmZmYOwM3MzMzMzATAaGZmZmZm9r+gmZmZmZnJvwAAAAAAAPA/mZmZmZmZAUAyMzMzMzMLQGZmZmZmZhJAAAAAAAAAFMBmZmZmZmYOwM3MzMzMzATAaGZmZmZm9r+gmZmZmZnJvwAAAAAAAPA/mZmZmZmZAUAyMzMzMzMLQGZmZmZmZhJAAAAAAAAAFMBmZmZmZmYOwM3MzMzMzATAaGZmZmZm9r+gmZmZmZnJvwAAAAAAAPA/mZmZmZmZAUAyMzMzMzMLQGZmZmZmZhJAAAAAAAAAFMBmZmZmZmYOwM3MzMzMzATAaGZmZmZm9r+gmZmZmZnJvwAAAAAAAPA/mZmZmZmZAUAyMzMzMzMLQGZmZmZmZhJAAAAAAAAAFMBmZmZmZmYOwM3MzMzMzATAaGZmZmZm9r+gmZmZmZnJvwAAAAAAAPA/mZmZmZmZAUAyMzMzMzMLQGZmZmZmZhJAAAAAAAAAFMBmZmZmZmYOwM3MzMzMzATAaGZmZmZm9r+gmZmZmZnJvwAAAAAAAPA/mZmZmZmZAUAyMzMzMzMLQGZmZmZmZhJA",
          "dtype": "f8"
         },
         "z": {
          "bdata": "9sghBmuvfMDnq8sb5EKAwIevb1hQiILAxGnZfDb2gsAB5CQTN4uEwDWF/fu9UILA/M43o1W0gsBRMDlqvM2BwIobDP3m0X7AtCNPn9rdYcBgZFWNY0RmwOvZ+fNsYG3AvIWw72shasAk6/XeOCtuwFppmYDDRHPAAk59b8pPbMDHxNnozt5rwGl1aQoJ0GHArwu6AR7aUkBGtGVO9bY3QMXwCs/1Y0XAVc6QGAhMQcC49/I+j9BVwKEVjb8aVVDA+gJ698zFQcD1Tp1P0UMbwBqUJlS9rFBAqRchANEXY0BIei9CLM9QQACm5fzocOc/TybcMR6bRkD9h3nqJSQvwI5Z3/CGYxFAOsIQ26pKQkB911A5XfpQQKfAfnlPSVpAl8l69mHTYkC2yUt2ioZXQIw8asxYBlRA+GSvUMYDEkDWRXvas+Q5QOyD/RTpITZAHCSYe1EpQUA6vegZHBdNQCIbavyWZ2BABeQDqoRoZECBP8phIhBSQIPM0KKqs01AtnDaO9agJED3Xaw727UqQBSM3YxpuTtA6ql+RWnyOUCHbUNlEqZTQIRpKZrCnmJAYRUI67oQZkCh9LdAL1NlQHZxYVBBCWNAbl3iWwiMV0CJdStOEJVMQCJcXz3/c1NAN2AcB9zjUUCE/lKtCEVlQMdm0WhzIGpAq3NKSUVEd0Dm0Y69RzpxQFhZgNNTr29AA+oJ06bjaUAi8fVSARFpQCZOTmrVI2lAFuMMU3PhakCdRKEKSBtwQKRFV0qDlHRA+97HKp8lg0AcZPmtxpuCQGvDh4ASt4BA3BsuumJTgEDff83vAWV/QMAYRqOGBIBA1qyI2OsAf0CfAQnkEw2BQNmH6s2ZNYNA",
          "dtype": "f8"
         }
        },
        {
         "marker": {
          "color": "blue",
          "size": 5,
          "symbol": "circle"
         },
         "mode": "markers",
         "name": "Predições",
         "type": "scatter3d",
         "x": {
          "bdata": "AAAAAAAAFMAAAAAAAAAUwAAAAAAAABTAAAAAAAAAFMAAAAAAAAAUwAAAAAAAABTAAAAAAAAAFMAAAAAAAAAUwAAAAAAAABTAZmZmZmZmDsBmZmZmZmYOwGZmZmZmZg7AZmZmZmZmDsBmZmZmZmYOwGZmZmZmZg7AZmZmZmZmDsBmZmZmZmYOwGZmZmZmZg7AzczMzMzMBMDNzMzMzMwEwM3MzMzMzATAzczMzMzMBMDNzMzMzMwEwM3MzMzMzATAzczMzMzMBMDNzMzMzMwEwM3MzMzMzATAaGZmZmZm9r9oZmZmZmb2v2hmZmZmZva/aGZmZmZm9r9oZmZmZmb2v2hmZmZmZva/aGZmZmZm9r9oZmZmZmb2v2hmZmZmZva/oJmZmZmZyb+gmZmZmZnJv6CZmZmZmcm/oJmZmZmZyb+gmZmZmZnJv6CZmZmZmcm/oJmZmZmZyb+gmZmZmZnJv6CZmZmZmcm/AAAAAAAA8D8AAAAAAADwPwAAAAAAAPA/AAAAAAAA8D8AAAAAAADwPwAAAAAAAPA/AAAAAAAA8D8AAAAAAADwPwAAAAAAAPA/mZmZmZmZAUCZmZmZmZkBQJmZmZmZmQFAmZmZmZmZAUCZmZmZmZkBQJmZmZmZmQFAmZmZmZmZAUCZmZmZmZkBQJmZmZmZmQFAMjMzMzMzC0AyMzMzMzMLQDIzMzMzMwtAMjMzMzMzC0AyMzMzMzMLQDIzMzMzMwtAMjMzMzMzC0AyMzMzMzMLQDIzMzMzMwtAZmZmZmZmEkBmZmZmZmYSQGZmZmZmZhJAZmZmZmZmEkBmZmZmZmYSQGZmZmZmZhJAZmZmZmZmEkBmZmZmZmYSQGZmZmZmZhJA",
          "dtype": "f8"
         },
         "y": {
          "bdata": "AAAAAAAAFMBmZmZmZmYOwM3MzMzMzATAaGZmZmZm9r+gmZmZmZnJvwAAAAAAAPA/mZmZmZmZAUAyMzMzMzMLQGZmZmZmZhJAAAAAAAAAFMBmZmZmZmYOwM3MzMzMzATAaGZmZmZm9r+gmZmZmZnJvwAAAAAAAPA/mZmZmZmZAUAyMzMzMzMLQGZmZmZmZhJAAAAAAAAAFMBmZmZmZmYOwM3MzMzMzATAaGZmZmZm9r+gmZmZmZnJvwAAAAAAAPA/mZmZmZmZAUAyMzMzMzMLQGZmZmZmZhJAAAAAAAAAFMBmZmZmZmYOwM3MzMzMzATAaGZmZmZm9r+gmZmZmZnJvwAAAAAAAPA/mZmZmZmZAUAyMzMzMzMLQGZmZmZmZhJAAAAAAAAAFMBmZmZmZmYOwM3MzMzMzATAaGZmZmZm9r+gmZmZmZnJvwAAAAAAAPA/mZmZmZmZAUAyMzMzMzMLQGZmZmZmZhJAAAAAAAAAFMBmZmZmZmYOwM3MzMzMzATAaGZmZmZm9r+gmZmZmZnJvwAAAAAAAPA/mZmZmZmZAUAyMzMzMzMLQGZmZmZmZhJAAAAAAAAAFMBmZmZmZmYOwM3MzMzMzATAaGZmZmZm9r+gmZmZmZnJvwAAAAAAAPA/mZmZmZmZAUAyMzMzMzMLQGZmZmZmZhJAAAAAAAAAFMBmZmZmZmYOwM3MzMzMzATAaGZmZmZm9r+gmZmZmZnJvwAAAAAAAPA/mZmZmZmZAUAyMzMzMzMLQGZmZmZmZhJAAAAAAAAAFMBmZmZmZmYOwM3MzMzMzATAaGZmZmZm9r+gmZmZmZnJvwAAAAAAAPA/mZmZmZmZAUAyMzMzMzMLQGZmZmZmZhJA",
          "dtype": "f8"
         },
         "z": {
          "bdata": "zemcGpw4fcD16wwMMamAwNFZOmjtJoLAer7WIYMVg8DxGeI48nSDwDZsXK06RYPASLVFf1yGgsAn9Z2uVziBwKlXynZYtn7AMwx0KR0xXcBU4rOPGsxmwMOZaQAMw2zANJZtc7E+cMAiTYShj/1wwKvxeIognnDAnweXXMhAbsAeB/gZtQhpwNLhFE0HlGHAKXg+EA5yUUBe+6ukYa8QQFFeQY7ZxUXAdNQDlJpXUsAssF5ME1NVwFFCMfBW1VPAwhX3/sq8S8D5TuzR93ErwHKBET859kZAhfauNgj/YUCYNGp3+JZTQOcW+1dWpD5ABDfQjeQz6j9T2vl5hzgmwObWHDFJlRTABKiPdnO2MkAG1sPFhjtOQJs1qPweB15AzCxSjPS0Y0AmobAi0QJXQI9kioLcKUZA4GcQowMCLUB1KOaA95gEQPz4pMEgFCFAHq3UEesyQECRVygOnIlSQBRR99N7uWBAeuJlnktWZECDDNhGf0VYQEg72co4r0hAYuElYrqLM0ACyukCXnceQOBT4OKRKStA14MjWke4QkDuwk8ySsxTQMIGC+bSWmFAIhtHAo1eakDoPk0HAStiQPMOLy0faFhAqOlLYHHzUEDfG+JP8e9LQJf3PAhq605AOzPUdKZsVUA9NBL6zNxfQGo/7EkUY2dAKm2pJpwkdkANfywp1gpyQKtGo+G6Hm5ABbQx+2NkakApRgSfp+ZoQBf9Gs2FpWlAz9h1hf6gbECobArkiOxwQE7/e8rfpnRA6og5RXMkhEDcEXtGkBeCQACkTerTmYBArX5iYXxWf0C/x0sznpd+QDYjV0oN935AiUhC02Q6gECpCOqjaYiBQPzRIheVZYNA",
          "dtype": "f8"
         }
        }
       ],
       "layout": {
        "legend": {
         "x": 0.02,
         "y": 0.98
        },
        "margin": {
         "b": 0,
         "l": 0,
         "r": 0,
         "t": 60
        },
        "scene": {
         "xaxis": {
          "title": {
           "text": "X"
          }
         },
         "yaxis": {
          "title": {
           "text": "Y"
          }
         },
         "zaxis": {
          "title": {
           "text": "Z"
          }
         }
        },
        "template": {
         "data": {
          "bar": [
           {
            "error_x": {
             "color": "#2a3f5f"
            },
            "error_y": {
             "color": "#2a3f5f"
            },
            "marker": {
             "line": {
              "color": "#E5ECF6",
              "width": 0.5
             },
             "pattern": {
              "fillmode": "overlay",
              "size": 10,
              "solidity": 0.2
             }
            },
            "type": "bar"
           }
          ],
          "barpolar": [
           {
            "marker": {
             "line": {
              "color": "#E5ECF6",
              "width": 0.5
             },
             "pattern": {
              "fillmode": "overlay",
              "size": 10,
              "solidity": 0.2
             }
            },
            "type": "barpolar"
           }
          ],
          "carpet": [
           {
            "aaxis": {
             "endlinecolor": "#2a3f5f",
             "gridcolor": "white",
             "linecolor": "white",
             "minorgridcolor": "white",
             "startlinecolor": "#2a3f5f"
            },
            "baxis": {
             "endlinecolor": "#2a3f5f",
             "gridcolor": "white",
             "linecolor": "white",
             "minorgridcolor": "white",
             "startlinecolor": "#2a3f5f"
            },
            "type": "carpet"
           }
          ],
          "choropleth": [
           {
            "colorbar": {
             "outlinewidth": 0,
             "ticks": ""
            },
            "type": "choropleth"
           }
          ],
          "contour": [
           {
            "colorbar": {
             "outlinewidth": 0,
             "ticks": ""
            },
            "colorscale": [
             [
              0,
              "#0d0887"
             ],
             [
              0.1111111111111111,
              "#46039f"
             ],
             [
              0.2222222222222222,
              "#7201a8"
             ],
             [
              0.3333333333333333,
              "#9c179e"
             ],
             [
              0.4444444444444444,
              "#bd3786"
             ],
             [
              0.5555555555555556,
              "#d8576b"
             ],
             [
              0.6666666666666666,
              "#ed7953"
             ],
             [
              0.7777777777777778,
              "#fb9f3a"
             ],
             [
              0.8888888888888888,
              "#fdca26"
             ],
             [
              1,
              "#f0f921"
             ]
            ],
            "type": "contour"
           }
          ],
          "contourcarpet": [
           {
            "colorbar": {
             "outlinewidth": 0,
             "ticks": ""
            },
            "type": "contourcarpet"
           }
          ],
          "heatmap": [
           {
            "colorbar": {
             "outlinewidth": 0,
             "ticks": ""
            },
            "colorscale": [
             [
              0,
              "#0d0887"
             ],
             [
              0.1111111111111111,
              "#46039f"
             ],
             [
              0.2222222222222222,
              "#7201a8"
             ],
             [
              0.3333333333333333,
              "#9c179e"
             ],
             [
              0.4444444444444444,
              "#bd3786"
             ],
             [
              0.5555555555555556,
              "#d8576b"
             ],
             [
              0.6666666666666666,
              "#ed7953"
             ],
             [
              0.7777777777777778,
              "#fb9f3a"
             ],
             [
              0.8888888888888888,
              "#fdca26"
             ],
             [
              1,
              "#f0f921"
             ]
            ],
            "type": "heatmap"
           }
          ],
          "histogram": [
           {
            "marker": {
             "pattern": {
              "fillmode": "overlay",
              "size": 10,
              "solidity": 0.2
             }
            },
            "type": "histogram"
           }
          ],
          "histogram2d": [
           {
            "colorbar": {
             "outlinewidth": 0,
             "ticks": ""
            },
            "colorscale": [
             [
              0,
              "#0d0887"
             ],
             [
              0.1111111111111111,
              "#46039f"
             ],
             [
              0.2222222222222222,
              "#7201a8"
             ],
             [
              0.3333333333333333,
              "#9c179e"
             ],
             [
              0.4444444444444444,
              "#bd3786"
             ],
             [
              0.5555555555555556,
              "#d8576b"
             ],
             [
              0.6666666666666666,
              "#ed7953"
             ],
             [
              0.7777777777777778,
              "#fb9f3a"
             ],
             [
              0.8888888888888888,
              "#fdca26"
             ],
             [
              1,
              "#f0f921"
             ]
            ],
            "type": "histogram2d"
           }
          ],
          "histogram2dcontour": [
           {
            "colorbar": {
             "outlinewidth": 0,
             "ticks": ""
            },
            "colorscale": [
             [
              0,
              "#0d0887"
             ],
             [
              0.1111111111111111,
              "#46039f"
             ],
             [
              0.2222222222222222,
              "#7201a8"
             ],
             [
              0.3333333333333333,
              "#9c179e"
             ],
             [
              0.4444444444444444,
              "#bd3786"
             ],
             [
              0.5555555555555556,
              "#d8576b"
             ],
             [
              0.6666666666666666,
              "#ed7953"
             ],
             [
              0.7777777777777778,
              "#fb9f3a"
             ],
             [
              0.8888888888888888,
              "#fdca26"
             ],
             [
              1,
              "#f0f921"
             ]
            ],
            "type": "histogram2dcontour"
           }
          ],
          "mesh3d": [
           {
            "colorbar": {
             "outlinewidth": 0,
             "ticks": ""
            },
            "type": "mesh3d"
           }
          ],
          "parcoords": [
           {
            "line": {
             "colorbar": {
              "outlinewidth": 0,
              "ticks": ""
             }
            },
            "type": "parcoords"
           }
          ],
          "pie": [
           {
            "automargin": true,
            "type": "pie"
           }
          ],
          "scatter": [
           {
            "fillpattern": {
             "fillmode": "overlay",
             "size": 10,
             "solidity": 0.2
            },
            "type": "scatter"
           }
          ],
          "scatter3d": [
           {
            "line": {
             "colorbar": {
              "outlinewidth": 0,
              "ticks": ""
             }
            },
            "marker": {
             "colorbar": {
              "outlinewidth": 0,
              "ticks": ""
             }
            },
            "type": "scatter3d"
           }
          ],
          "scattercarpet": [
           {
            "marker": {
             "colorbar": {
              "outlinewidth": 0,
              "ticks": ""
             }
            },
            "type": "scattercarpet"
           }
          ],
          "scattergeo": [
           {
            "marker": {
             "colorbar": {
              "outlinewidth": 0,
              "ticks": ""
             }
            },
            "type": "scattergeo"
           }
          ],
          "scattergl": [
           {
            "marker": {
             "colorbar": {
              "outlinewidth": 0,
              "ticks": ""
             }
            },
            "type": "scattergl"
           }
          ],
          "scattermap": [
           {
            "marker": {
             "colorbar": {
              "outlinewidth": 0,
              "ticks": ""
             }
            },
            "type": "scattermap"
           }
          ],
          "scattermapbox": [
           {
            "marker": {
             "colorbar": {
              "outlinewidth": 0,
              "ticks": ""
             }
            },
            "type": "scattermapbox"
           }
          ],
          "scatterpolar": [
           {
            "marker": {
             "colorbar": {
              "outlinewidth": 0,
              "ticks": ""
             }
            },
            "type": "scatterpolar"
           }
          ],
          "scatterpolargl": [
           {
            "marker": {
             "colorbar": {
              "outlinewidth": 0,
              "ticks": ""
             }
            },
            "type": "scatterpolargl"
           }
          ],
          "scatterternary": [
           {
            "marker": {
             "colorbar": {
              "outlinewidth": 0,
              "ticks": ""
             }
            },
            "type": "scatterternary"
           }
          ],
          "surface": [
           {
            "colorbar": {
             "outlinewidth": 0,
             "ticks": ""
            },
            "colorscale": [
             [
              0,
              "#0d0887"
             ],
             [
              0.1111111111111111,
              "#46039f"
             ],
             [
              0.2222222222222222,
              "#7201a8"
             ],
             [
              0.3333333333333333,
              "#9c179e"
             ],
             [
              0.4444444444444444,
              "#bd3786"
             ],
             [
              0.5555555555555556,
              "#d8576b"
             ],
             [
              0.6666666666666666,
              "#ed7953"
             ],
             [
              0.7777777777777778,
              "#fb9f3a"
             ],
             [
              0.8888888888888888,
              "#fdca26"
             ],
             [
              1,
              "#f0f921"
             ]
            ],
            "type": "surface"
           }
          ],
          "table": [
           {
            "cells": {
             "fill": {
              "color": "#EBF0F8"
             },
             "line": {
              "color": "white"
             }
            },
            "header": {
             "fill": {
              "color": "#C8D4E3"
             },
             "line": {
              "color": "white"
             }
            },
            "type": "table"
           }
          ]
         },
         "layout": {
          "annotationdefaults": {
           "arrowcolor": "#2a3f5f",
           "arrowhead": 0,
           "arrowwidth": 1
          },
          "autotypenumbers": "strict",
          "coloraxis": {
           "colorbar": {
            "outlinewidth": 0,
            "ticks": ""
           }
          },
          "colorscale": {
           "diverging": [
            [
             0,
             "#8e0152"
            ],
            [
             0.1,
             "#c51b7d"
            ],
            [
             0.2,
             "#de77ae"
            ],
            [
             0.3,
             "#f1b6da"
            ],
            [
             0.4,
             "#fde0ef"
            ],
            [
             0.5,
             "#f7f7f7"
            ],
            [
             0.6,
             "#e6f5d0"
            ],
            [
             0.7,
             "#b8e186"
            ],
            [
             0.8,
             "#7fbc41"
            ],
            [
             0.9,
             "#4d9221"
            ],
            [
             1,
             "#276419"
            ]
           ],
           "sequential": [
            [
             0,
             "#0d0887"
            ],
            [
             0.1111111111111111,
             "#46039f"
            ],
            [
             0.2222222222222222,
             "#7201a8"
            ],
            [
             0.3333333333333333,
             "#9c179e"
            ],
            [
             0.4444444444444444,
             "#bd3786"
            ],
            [
             0.5555555555555556,
             "#d8576b"
            ],
            [
             0.6666666666666666,
             "#ed7953"
            ],
            [
             0.7777777777777778,
             "#fb9f3a"
            ],
            [
             0.8888888888888888,
             "#fdca26"
            ],
            [
             1,
             "#f0f921"
            ]
           ],
           "sequentialminus": [
            [
             0,
             "#0d0887"
            ],
            [
             0.1111111111111111,
             "#46039f"
            ],
            [
             0.2222222222222222,
             "#7201a8"
            ],
            [
             0.3333333333333333,
             "#9c179e"
            ],
            [
             0.4444444444444444,
             "#bd3786"
            ],
            [
             0.5555555555555556,
             "#d8576b"
            ],
            [
             0.6666666666666666,
             "#ed7953"
            ],
            [
             0.7777777777777778,
             "#fb9f3a"
            ],
            [
             0.8888888888888888,
             "#fdca26"
            ],
            [
             1,
             "#f0f921"
            ]
           ]
          },
          "colorway": [
           "#636efa",
           "#EF553B",
           "#00cc96",
           "#ab63fa",
           "#FFA15A",
           "#19d3f3",
           "#FF6692",
           "#B6E880",
           "#FF97FF",
           "#FECB52"
          ],
          "font": {
           "color": "#2a3f5f"
          },
          "geo": {
           "bgcolor": "white",
           "lakecolor": "white",
           "landcolor": "#E5ECF6",
           "showlakes": true,
           "showland": true,
           "subunitcolor": "white"
          },
          "hoverlabel": {
           "align": "left"
          },
          "hovermode": "closest",
          "mapbox": {
           "style": "light"
          },
          "paper_bgcolor": "white",
          "plot_bgcolor": "#E5ECF6",
          "polar": {
           "angularaxis": {
            "gridcolor": "white",
            "linecolor": "white",
            "ticks": ""
           },
           "bgcolor": "#E5ECF6",
           "radialaxis": {
            "gridcolor": "white",
            "linecolor": "white",
            "ticks": ""
           }
          },
          "scene": {
           "xaxis": {
            "backgroundcolor": "#E5ECF6",
            "gridcolor": "white",
            "gridwidth": 2,
            "linecolor": "white",
            "showbackground": true,
            "ticks": "",
            "zerolinecolor": "white"
           },
           "yaxis": {
            "backgroundcolor": "#E5ECF6",
            "gridcolor": "white",
            "gridwidth": 2,
            "linecolor": "white",
            "showbackground": true,
            "ticks": "",
            "zerolinecolor": "white"
           },
           "zaxis": {
            "backgroundcolor": "#E5ECF6",
            "gridcolor": "white",
            "gridwidth": 2,
            "linecolor": "white",
            "showbackground": true,
            "ticks": "",
            "zerolinecolor": "white"
           }
          },
          "shapedefaults": {
           "line": {
            "color": "#2a3f5f"
           }
          },
          "ternary": {
           "aaxis": {
            "gridcolor": "white",
            "linecolor": "white",
            "ticks": ""
           },
           "baxis": {
            "gridcolor": "white",
            "linecolor": "white",
            "ticks": ""
           },
           "bgcolor": "#E5ECF6",
           "caxis": {
            "gridcolor": "white",
            "linecolor": "white",
            "ticks": ""
           }
          },
          "title": {
           "x": 0.05
          },
          "xaxis": {
           "automargin": true,
           "gridcolor": "white",
           "linecolor": "white",
           "ticks": "",
           "title": {
            "standoff": 15
           },
           "zerolinecolor": "white",
           "zerolinewidth": 2
          },
          "yaxis": {
           "automargin": true,
           "gridcolor": "white",
           "linecolor": "white",
           "ticks": "",
           "title": {
            "standoff": 15
           },
           "zerolinecolor": "white",
           "zerolinewidth": 2
          }
         }
        },
        "title": {
         "text": "Ajuste de Curva - RMSE | Feature: Original | LR: 0.001 | Loss: 20.041726"
        }
       }
      }
     },
     "metadata": {},
     "output_type": "display_data"
    }
   ],
   "source": [
    "_ = plot_best_by_loss(df_result, \"RMSE\", df, features_normalized, features_standardized, show_original_points=True)"
   ]
  },
  {
   "cell_type": "code",
   "execution_count": 12,
   "id": "d01fb303",
   "metadata": {},
   "outputs": [
    {
     "data": {
      "text/html": [
       "<div>\n",
       "<style scoped>\n",
       "    .dataframe tbody tr th:only-of-type {\n",
       "        vertical-align: middle;\n",
       "    }\n",
       "\n",
       "    .dataframe tbody tr th {\n",
       "        vertical-align: top;\n",
       "    }\n",
       "\n",
       "    .dataframe thead th {\n",
       "        text-align: right;\n",
       "    }\n",
       "</style>\n",
       "<table border=\"1\" class=\"dataframe\">\n",
       "  <thead>\n",
       "    <tr style=\"text-align: right;\">\n",
       "      <th></th>\n",
       "      <th>Feature_Set</th>\n",
       "      <th>Loss_Function</th>\n",
       "      <th>Learning_Rate</th>\n",
       "      <th>Initial_Weights</th>\n",
       "      <th>Weights_raw</th>\n",
       "      <th>Final_Weights</th>\n",
       "      <th>MSE_Final</th>\n",
       "      <th>RMSE_Final</th>\n",
       "      <th>MAE_Final</th>\n",
       "      <th>Iterations</th>\n",
       "    </tr>\n",
       "  </thead>\n",
       "  <tbody>\n",
       "    <tr>\n",
       "      <th>0</th>\n",
       "      <td>Original</td>\n",
       "      <td>RMSE</td>\n",
       "      <td>0.00100</td>\n",
       "      <td>(0.1, 0.1, 0.1)</td>\n",
       "      <td>[5.001863826357645, 6.213147485618186, 2.36617...</td>\n",
       "      <td>[5.001863826357645, 6.213147485618186, 2.36617...</td>\n",
       "      <td>401.670789</td>\n",
       "      <td>20.041726</td>\n",
       "      <td>15.672183</td>\n",
       "      <td>10000</td>\n",
       "    </tr>\n",
       "    <tr>\n",
       "      <th>1</th>\n",
       "      <td>Original</td>\n",
       "      <td>RMSE</td>\n",
       "      <td>0.00100</td>\n",
       "      <td>(-0.0008095019450254399, 0.0034561029535432643...</td>\n",
       "      <td>[5.001811598900067, 6.217155683909959, 2.29727...</td>\n",
       "      <td>[5.001811598900067, 6.217155683909959, 2.29727...</td>\n",
       "      <td>402.167937</td>\n",
       "      <td>20.054125</td>\n",
       "      <td>15.681766</td>\n",
       "      <td>10000</td>\n",
       "    </tr>\n",
       "    <tr>\n",
       "      <th>2</th>\n",
       "      <td>Original</td>\n",
       "      <td>RMSE</td>\n",
       "      <td>0.00100</td>\n",
       "      <td>(0.0, 0.0, 0.0)</td>\n",
       "      <td>[5.001803905449378, 6.217746118086512, 2.28712...</td>\n",
       "      <td>[5.001803905449378, 6.217746118086512, 2.28712...</td>\n",
       "      <td>402.241520</td>\n",
       "      <td>20.055960</td>\n",
       "      <td>15.683177</td>\n",
       "      <td>10000</td>\n",
       "    </tr>\n",
       "    <tr>\n",
       "      <th>3</th>\n",
       "      <td>Original</td>\n",
       "      <td>RMSE</td>\n",
       "      <td>0.00010</td>\n",
       "      <td>(0.1, 0.1, 0.1)</td>\n",
       "      <td>[5.000111977584725, 6.291770872525102, 0.60501...</td>\n",
       "      <td>[5.000111977584725, 6.291770872525102, 0.60501...</td>\n",
       "      <td>415.759530</td>\n",
       "      <td>20.390182</td>\n",
       "      <td>15.922895</td>\n",
       "      <td>10000</td>\n",
       "    </tr>\n",
       "    <tr>\n",
       "      <th>4</th>\n",
       "      <td>Original</td>\n",
       "      <td>RMSE</td>\n",
       "      <td>0.00010</td>\n",
       "      <td>(-0.0008095019450254399, 0.0034561029535432643...</td>\n",
       "      <td>[5.000015371203457, 6.294603347747767, 0.52270...</td>\n",
       "      <td>[5.000015371203457, 6.294603347747767, 0.52270...</td>\n",
       "      <td>416.495231</td>\n",
       "      <td>20.408215</td>\n",
       "      <td>15.935522</td>\n",
       "      <td>10000</td>\n",
       "    </tr>\n",
       "    <tr>\n",
       "      <th>5</th>\n",
       "      <td>Original</td>\n",
       "      <td>RMSE</td>\n",
       "      <td>0.00010</td>\n",
       "      <td>(0.0, 0.0, 0.0)</td>\n",
       "      <td>[5.000004796867698, 6.295228044651212, 0.51059...</td>\n",
       "      <td>[5.000004796867698, 6.295228044651212, 0.51059...</td>\n",
       "      <td>416.602406</td>\n",
       "      <td>20.410840</td>\n",
       "      <td>15.937325</td>\n",
       "      <td>10000</td>\n",
       "    </tr>\n",
       "    <tr>\n",
       "      <th>6</th>\n",
       "      <td>Original</td>\n",
       "      <td>RMSE</td>\n",
       "      <td>0.00001</td>\n",
       "      <td>(0.1, 0.1, 0.1)</td>\n",
       "      <td>[4.4955877486300215, 0.7459156620336218, 0.137...</td>\n",
       "      <td>[4.4955877486300215, 0.7459156620336218, 0.137...</td>\n",
       "      <td>6136.013689</td>\n",
       "      <td>78.332711</td>\n",
       "      <td>63.852982</td>\n",
       "      <td>10000</td>\n",
       "    </tr>\n",
       "    <tr>\n",
       "      <th>7</th>\n",
       "      <td>Original</td>\n",
       "      <td>RMSE</td>\n",
       "      <td>0.00001</td>\n",
       "      <td>(-0.0008095019450254399, 0.0034561029535432643...</td>\n",
       "      <td>[4.451610508518476, 0.6383814056200646, 0.0492...</td>\n",
       "      <td>[4.451610508518476, 0.6383814056200646, 0.0492...</td>\n",
       "      <td>6467.854501</td>\n",
       "      <td>80.422972</td>\n",
       "      <td>65.528344</td>\n",
       "      <td>10000</td>\n",
       "    </tr>\n",
       "    <tr>\n",
       "      <th>8</th>\n",
       "      <td>Original</td>\n",
       "      <td>RMSE</td>\n",
       "      <td>0.00001</td>\n",
       "      <td>(0.0, 0.0, 0.0)</td>\n",
       "      <td>[4.4513994783966515, 0.6352689964662742, 0.036...</td>\n",
       "      <td>[4.4513994783966515, 0.6352689964662742, 0.036...</td>\n",
       "      <td>6475.589258</td>\n",
       "      <td>80.471046</td>\n",
       "      <td>65.569009</td>\n",
       "      <td>10000</td>\n",
       "    </tr>\n",
       "    <tr>\n",
       "      <th>9</th>\n",
       "      <td>Standardized</td>\n",
       "      <td>RMSE</td>\n",
       "      <td>0.00100</td>\n",
       "      <td>(0.1, 0.1, 0.1)</td>\n",
       "      <td>[9.860535839657262, 1.7512469176741832, 1.3501...</td>\n",
       "      <td>[0.17140066795488465, 0.20567465464406204, 0.3...</td>\n",
       "      <td>81282.131892</td>\n",
       "      <td>285.100214</td>\n",
       "      <td>209.298387</td>\n",
       "      <td>10000</td>\n",
       "    </tr>\n",
       "    <tr>\n",
       "      <th>10</th>\n",
       "      <td>Standardized</td>\n",
       "      <td>RMSE</td>\n",
       "      <td>0.00100</td>\n",
       "      <td>(-0.0008095019450254399, 0.0034561029535432643...</td>\n",
       "      <td>[9.758998655318102, 1.657272612588525, 1.26509...</td>\n",
       "      <td>[0.16963569883951504, 0.19463787133906812, 0.3...</td>\n",
       "      <td>81353.577795</td>\n",
       "      <td>285.225486</td>\n",
       "      <td>209.409739</td>\n",
       "      <td>10000</td>\n",
       "    </tr>\n",
       "    <tr>\n",
       "      <th>11</th>\n",
       "      <td>Standardized</td>\n",
       "      <td>RMSE</td>\n",
       "      <td>0.00100</td>\n",
       "      <td>(0.0, 0.0, 0.0)</td>\n",
       "      <td>[9.759736353211444, 1.653926063753114, 1.25304...</td>\n",
       "      <td>[0.1696485218659432, 0.19424483694224715, 0.35...</td>\n",
       "      <td>81354.343471</td>\n",
       "      <td>285.226828</td>\n",
       "      <td>209.413980</td>\n",
       "      <td>10000</td>\n",
       "    </tr>\n",
       "    <tr>\n",
       "      <th>12</th>\n",
       "      <td>Normalized</td>\n",
       "      <td>RMSE</td>\n",
       "      <td>0.00100</td>\n",
       "      <td>(0.1, 0.1, 0.1)</td>\n",
       "      <td>[5.241977366961326, 0.9416046868699037, 1.3325...</td>\n",
       "      <td>[0.04715365363199235, 0.075449093499191, 7.223...</td>\n",
       "      <td>85005.559073</td>\n",
       "      <td>291.557128</td>\n",
       "      <td>212.161611</td>\n",
       "      <td>10000</td>\n",
       "    </tr>\n",
       "    <tr>\n",
       "      <th>13</th>\n",
       "      <td>Normalized</td>\n",
       "      <td>RMSE</td>\n",
       "      <td>0.00100</td>\n",
       "      <td>(-0.0008095019450254399, 0.0034561029535432643...</td>\n",
       "      <td>[5.141027901347199, 0.8458198597549669, 1.2471...</td>\n",
       "      <td>[0.04624557337855497, 0.06777402722395567, 7.0...</td>\n",
       "      <td>85057.427158</td>\n",
       "      <td>291.646065</td>\n",
       "      <td>212.290814</td>\n",
       "      <td>10000</td>\n",
       "    </tr>\n",
       "    <tr>\n",
       "      <th>14</th>\n",
       "      <td>Normalized</td>\n",
       "      <td>RMSE</td>\n",
       "      <td>0.00100</td>\n",
       "      <td>(0.0, 0.0, 0.0)</td>\n",
       "      <td>[5.141833834477648, 0.8423252292101567, 1.2350...</td>\n",
       "      <td>[0.04625282306488961, 0.06749400875081384, 7.0...</td>\n",
       "      <td>85058.241671</td>\n",
       "      <td>291.647461</td>\n",
       "      <td>212.295241</td>\n",
       "      <td>10000</td>\n",
       "    </tr>\n",
       "    <tr>\n",
       "      <th>15</th>\n",
       "      <td>Standardized</td>\n",
       "      <td>RMSE</td>\n",
       "      <td>0.00010</td>\n",
       "      <td>(0.1, 0.1, 0.1)</td>\n",
       "      <td>[1.0761196477465456, 0.26513586816349394, 0.22...</td>\n",
       "      <td>[0.01870563926975638, 0.031138800341589366, 0....</td>\n",
       "      <td>86471.441872</td>\n",
       "      <td>294.060269</td>\n",
       "      <td>215.861211</td>\n",
       "      <td>10000</td>\n",
       "    </tr>\n",
       "    <tr>\n",
       "      <th>16</th>\n",
       "      <td>Standardized</td>\n",
       "      <td>RMSE</td>\n",
       "      <td>0.00010</td>\n",
       "      <td>(-0.0008095019450254399, 0.0034561029535432643...</td>\n",
       "      <td>[0.975237287477579, 0.16884893327490977, 0.137...</td>\n",
       "      <td>[0.01695205262739322, 0.019830410941968846, 0....</td>\n",
       "      <td>86545.152994</td>\n",
       "      <td>294.185576</td>\n",
       "      <td>215.974682</td>\n",
       "      <td>10000</td>\n",
       "    </tr>\n",
       "    <tr>\n",
       "      <th>17</th>\n",
       "      <td>Standardized</td>\n",
       "      <td>RMSE</td>\n",
       "      <td>0.00010</td>\n",
       "      <td>(0.0, 0.0, 0.0)</td>\n",
       "      <td>[0.9760396076204185, 0.16540378631924668, 0.12...</td>\n",
       "      <td>[0.016965998949442302, 0.01942579671929538, 0....</td>\n",
       "      <td>86545.942941</td>\n",
       "      <td>294.186918</td>\n",
       "      <td>215.979301</td>\n",
       "      <td>10000</td>\n",
       "    </tr>\n",
       "    <tr>\n",
       "      <th>18</th>\n",
       "      <td>Normalized</td>\n",
       "      <td>RMSE</td>\n",
       "      <td>0.00010</td>\n",
       "      <td>(0.1, 0.1, 0.1)</td>\n",
       "      <td>[0.6142056160836782, 0.18389027253323909, 0.22...</td>\n",
       "      <td>[0.005525021733625488, 0.014734797478624927, 0...</td>\n",
       "      <td>86862.713280</td>\n",
       "      <td>294.724809</td>\n",
       "      <td>216.093455</td>\n",
       "      <td>10000</td>\n",
       "    </tr>\n",
       "    <tr>\n",
       "      <th>19</th>\n",
       "      <td>Normalized</td>\n",
       "      <td>RMSE</td>\n",
       "      <td>0.00010</td>\n",
       "      <td>(-0.0008095019450254399, 0.0034561029535432643...</td>\n",
       "      <td>[0.5133819329041082, 0.08742179624883559, 0.13...</td>\n",
       "      <td>[0.004618072942790265, 0.007004951622502851, 0...</td>\n",
       "      <td>86918.632933</td>\n",
       "      <td>294.819662</td>\n",
       "      <td>216.233810</td>\n",
       "      <td>10000</td>\n",
       "    </tr>\n",
       "    <tr>\n",
       "      <th>20</th>\n",
       "      <td>Normalized</td>\n",
       "      <td>RMSE</td>\n",
       "      <td>0.00010</td>\n",
       "      <td>(0.0, 0.0, 0.0)</td>\n",
       "      <td>[0.5141910548588704, 0.08396168172219858, 0.12...</td>\n",
       "      <td>[0.004625351313857139, 0.006727698855945399, 0...</td>\n",
       "      <td>86919.652480</td>\n",
       "      <td>294.821391</td>\n",
       "      <td>216.238918</td>\n",
       "      <td>10000</td>\n",
       "    </tr>\n",
       "    <tr>\n",
       "      <th>21</th>\n",
       "      <td>Standardized</td>\n",
       "      <td>RMSE</td>\n",
       "      <td>0.00001</td>\n",
       "      <td>(0.1, 0.1, 0.1)</td>\n",
       "      <td>[0.19761260336823805, 0.1165136948509601, 0.11...</td>\n",
       "      <td>[0.0034349991485652363, 0.013683914991040285, ...</td>\n",
       "      <td>86999.282695</td>\n",
       "      <td>294.956408</td>\n",
       "      <td>216.518884</td>\n",
       "      <td>10000</td>\n",
       "    </tr>\n",
       "    <tr>\n",
       "      <th>22</th>\n",
       "      <td>Normalized</td>\n",
       "      <td>RMSE</td>\n",
       "      <td>0.00001</td>\n",
       "      <td>(0.1, 0.1, 0.1)</td>\n",
       "      <td>[0.15142063279015583, 0.10838628143350548, 0.1...</td>\n",
       "      <td>[0.0013620883058987824, 0.008684798191787298, ...</td>\n",
       "      <td>87054.047168</td>\n",
       "      <td>295.049228</td>\n",
       "      <td>216.510931</td>\n",
       "      <td>10000</td>\n",
       "    </tr>\n",
       "    <tr>\n",
       "      <th>23</th>\n",
       "      <td>Standardized</td>\n",
       "      <td>RMSE</td>\n",
       "      <td>0.00001</td>\n",
       "      <td>(-0.0008095019450254399, 0.0034561029535432643...</td>\n",
       "      <td>[0.09679581472927158, 0.01999549405048556, 0.0...</td>\n",
       "      <td>[0.0016825523044203129, 0.002348364637656511, ...</td>\n",
       "      <td>87073.220339</td>\n",
       "      <td>295.081718</td>\n",
       "      <td>216.632422</td>\n",
       "      <td>10000</td>\n",
       "    </tr>\n",
       "    <tr>\n",
       "      <th>24</th>\n",
       "      <td>Standardized</td>\n",
       "      <td>RMSE</td>\n",
       "      <td>0.00001</td>\n",
       "      <td>(0.0, 0.0, 0.0)</td>\n",
       "      <td>[0.09760459848067361, 0.016540486702412142, 0....</td>\n",
       "      <td>[0.00169661098008212, 0.0019425923642346402, 0...</td>\n",
       "      <td>87074.012713</td>\n",
       "      <td>295.083061</td>\n",
       "      <td>216.637053</td>\n",
       "      <td>10000</td>\n",
       "    </tr>\n",
       "    <tr>\n",
       "      <th>25</th>\n",
       "      <td>Normalized</td>\n",
       "      <td>RMSE</td>\n",
       "      <td>0.00001</td>\n",
       "      <td>(-0.0008095019450254399, 0.0034561029535432643...</td>\n",
       "      <td>[0.05060971085057382, 0.011849921566950325, 0....</td>\n",
       "      <td>[0.00045525430744975016, 0.0009495129460697375...</td>\n",
       "      <td>87110.376112</td>\n",
       "      <td>295.144670</td>\n",
       "      <td>216.657552</td>\n",
       "      <td>10000</td>\n",
       "    </tr>\n",
       "    <tr>\n",
       "      <th>26</th>\n",
       "      <td>Normalized</td>\n",
       "      <td>RMSE</td>\n",
       "      <td>0.00001</td>\n",
       "      <td>(0.0, 0.0, 0.0)</td>\n",
       "      <td>[0.051419174559656756, 0.008393415857631115, 0...</td>\n",
       "      <td>[0.0004625357527315123, 0.0006725493475665958,...</td>\n",
       "      <td>87111.416660</td>\n",
       "      <td>295.146433</td>\n",
       "      <td>216.663002</td>\n",
       "      <td>10000</td>\n",
       "    </tr>\n",
       "  </tbody>\n",
       "</table>\n",
       "</div>"
      ],
      "text/plain": [
       "     Feature_Set Loss_Function  Learning_Rate  \\\n",
       "0       Original          RMSE        0.00100   \n",
       "1       Original          RMSE        0.00100   \n",
       "2       Original          RMSE        0.00100   \n",
       "3       Original          RMSE        0.00010   \n",
       "4       Original          RMSE        0.00010   \n",
       "5       Original          RMSE        0.00010   \n",
       "6       Original          RMSE        0.00001   \n",
       "7       Original          RMSE        0.00001   \n",
       "8       Original          RMSE        0.00001   \n",
       "9   Standardized          RMSE        0.00100   \n",
       "10  Standardized          RMSE        0.00100   \n",
       "11  Standardized          RMSE        0.00100   \n",
       "12    Normalized          RMSE        0.00100   \n",
       "13    Normalized          RMSE        0.00100   \n",
       "14    Normalized          RMSE        0.00100   \n",
       "15  Standardized          RMSE        0.00010   \n",
       "16  Standardized          RMSE        0.00010   \n",
       "17  Standardized          RMSE        0.00010   \n",
       "18    Normalized          RMSE        0.00010   \n",
       "19    Normalized          RMSE        0.00010   \n",
       "20    Normalized          RMSE        0.00010   \n",
       "21  Standardized          RMSE        0.00001   \n",
       "22    Normalized          RMSE        0.00001   \n",
       "23  Standardized          RMSE        0.00001   \n",
       "24  Standardized          RMSE        0.00001   \n",
       "25    Normalized          RMSE        0.00001   \n",
       "26    Normalized          RMSE        0.00001   \n",
       "\n",
       "                                      Initial_Weights  \\\n",
       "0                                     (0.1, 0.1, 0.1)   \n",
       "1   (-0.0008095019450254399, 0.0034561029535432643...   \n",
       "2                                     (0.0, 0.0, 0.0)   \n",
       "3                                     (0.1, 0.1, 0.1)   \n",
       "4   (-0.0008095019450254399, 0.0034561029535432643...   \n",
       "5                                     (0.0, 0.0, 0.0)   \n",
       "6                                     (0.1, 0.1, 0.1)   \n",
       "7   (-0.0008095019450254399, 0.0034561029535432643...   \n",
       "8                                     (0.0, 0.0, 0.0)   \n",
       "9                                     (0.1, 0.1, 0.1)   \n",
       "10  (-0.0008095019450254399, 0.0034561029535432643...   \n",
       "11                                    (0.0, 0.0, 0.0)   \n",
       "12                                    (0.1, 0.1, 0.1)   \n",
       "13  (-0.0008095019450254399, 0.0034561029535432643...   \n",
       "14                                    (0.0, 0.0, 0.0)   \n",
       "15                                    (0.1, 0.1, 0.1)   \n",
       "16  (-0.0008095019450254399, 0.0034561029535432643...   \n",
       "17                                    (0.0, 0.0, 0.0)   \n",
       "18                                    (0.1, 0.1, 0.1)   \n",
       "19  (-0.0008095019450254399, 0.0034561029535432643...   \n",
       "20                                    (0.0, 0.0, 0.0)   \n",
       "21                                    (0.1, 0.1, 0.1)   \n",
       "22                                    (0.1, 0.1, 0.1)   \n",
       "23  (-0.0008095019450254399, 0.0034561029535432643...   \n",
       "24                                    (0.0, 0.0, 0.0)   \n",
       "25  (-0.0008095019450254399, 0.0034561029535432643...   \n",
       "26                                    (0.0, 0.0, 0.0)   \n",
       "\n",
       "                                          Weights_raw  \\\n",
       "0   [5.001863826357645, 6.213147485618186, 2.36617...   \n",
       "1   [5.001811598900067, 6.217155683909959, 2.29727...   \n",
       "2   [5.001803905449378, 6.217746118086512, 2.28712...   \n",
       "3   [5.000111977584725, 6.291770872525102, 0.60501...   \n",
       "4   [5.000015371203457, 6.294603347747767, 0.52270...   \n",
       "5   [5.000004796867698, 6.295228044651212, 0.51059...   \n",
       "6   [4.4955877486300215, 0.7459156620336218, 0.137...   \n",
       "7   [4.451610508518476, 0.6383814056200646, 0.0492...   \n",
       "8   [4.4513994783966515, 0.6352689964662742, 0.036...   \n",
       "9   [9.860535839657262, 1.7512469176741832, 1.3501...   \n",
       "10  [9.758998655318102, 1.657272612588525, 1.26509...   \n",
       "11  [9.759736353211444, 1.653926063753114, 1.25304...   \n",
       "12  [5.241977366961326, 0.9416046868699037, 1.3325...   \n",
       "13  [5.141027901347199, 0.8458198597549669, 1.2471...   \n",
       "14  [5.141833834477648, 0.8423252292101567, 1.2350...   \n",
       "15  [1.0761196477465456, 0.26513586816349394, 0.22...   \n",
       "16  [0.975237287477579, 0.16884893327490977, 0.137...   \n",
       "17  [0.9760396076204185, 0.16540378631924668, 0.12...   \n",
       "18  [0.6142056160836782, 0.18389027253323909, 0.22...   \n",
       "19  [0.5133819329041082, 0.08742179624883559, 0.13...   \n",
       "20  [0.5141910548588704, 0.08396168172219858, 0.12...   \n",
       "21  [0.19761260336823805, 0.1165136948509601, 0.11...   \n",
       "22  [0.15142063279015583, 0.10838628143350548, 0.1...   \n",
       "23  [0.09679581472927158, 0.01999549405048556, 0.0...   \n",
       "24  [0.09760459848067361, 0.016540486702412142, 0....   \n",
       "25  [0.05060971085057382, 0.011849921566950325, 0....   \n",
       "26  [0.051419174559656756, 0.008393415857631115, 0...   \n",
       "\n",
       "                                        Final_Weights     MSE_Final  \\\n",
       "0   [5.001863826357645, 6.213147485618186, 2.36617...    401.670789   \n",
       "1   [5.001811598900067, 6.217155683909959, 2.29727...    402.167937   \n",
       "2   [5.001803905449378, 6.217746118086512, 2.28712...    402.241520   \n",
       "3   [5.000111977584725, 6.291770872525102, 0.60501...    415.759530   \n",
       "4   [5.000015371203457, 6.294603347747767, 0.52270...    416.495231   \n",
       "5   [5.000004796867698, 6.295228044651212, 0.51059...    416.602406   \n",
       "6   [4.4955877486300215, 0.7459156620336218, 0.137...   6136.013689   \n",
       "7   [4.451610508518476, 0.6383814056200646, 0.0492...   6467.854501   \n",
       "8   [4.4513994783966515, 0.6352689964662742, 0.036...   6475.589258   \n",
       "9   [0.17140066795488465, 0.20567465464406204, 0.3...  81282.131892   \n",
       "10  [0.16963569883951504, 0.19463787133906812, 0.3...  81353.577795   \n",
       "11  [0.1696485218659432, 0.19424483694224715, 0.35...  81354.343471   \n",
       "12  [0.04715365363199235, 0.075449093499191, 7.223...  85005.559073   \n",
       "13  [0.04624557337855497, 0.06777402722395567, 7.0...  85057.427158   \n",
       "14  [0.04625282306488961, 0.06749400875081384, 7.0...  85058.241671   \n",
       "15  [0.01870563926975638, 0.031138800341589366, 0....  86471.441872   \n",
       "16  [0.01695205262739322, 0.019830410941968846, 0....  86545.152994   \n",
       "17  [0.016965998949442302, 0.01942579671929538, 0....  86545.942941   \n",
       "18  [0.005525021733625488, 0.014734797478624927, 0...  86862.713280   \n",
       "19  [0.004618072942790265, 0.007004951622502851, 0...  86918.632933   \n",
       "20  [0.004625351313857139, 0.006727698855945399, 0...  86919.652480   \n",
       "21  [0.0034349991485652363, 0.013683914991040285, ...  86999.282695   \n",
       "22  [0.0013620883058987824, 0.008684798191787298, ...  87054.047168   \n",
       "23  [0.0016825523044203129, 0.002348364637656511, ...  87073.220339   \n",
       "24  [0.00169661098008212, 0.0019425923642346402, 0...  87074.012713   \n",
       "25  [0.00045525430744975016, 0.0009495129460697375...  87110.376112   \n",
       "26  [0.0004625357527315123, 0.0006725493475665958,...  87111.416660   \n",
       "\n",
       "    RMSE_Final   MAE_Final  Iterations  \n",
       "0    20.041726   15.672183       10000  \n",
       "1    20.054125   15.681766       10000  \n",
       "2    20.055960   15.683177       10000  \n",
       "3    20.390182   15.922895       10000  \n",
       "4    20.408215   15.935522       10000  \n",
       "5    20.410840   15.937325       10000  \n",
       "6    78.332711   63.852982       10000  \n",
       "7    80.422972   65.528344       10000  \n",
       "8    80.471046   65.569009       10000  \n",
       "9   285.100214  209.298387       10000  \n",
       "10  285.225486  209.409739       10000  \n",
       "11  285.226828  209.413980       10000  \n",
       "12  291.557128  212.161611       10000  \n",
       "13  291.646065  212.290814       10000  \n",
       "14  291.647461  212.295241       10000  \n",
       "15  294.060269  215.861211       10000  \n",
       "16  294.185576  215.974682       10000  \n",
       "17  294.186918  215.979301       10000  \n",
       "18  294.724809  216.093455       10000  \n",
       "19  294.819662  216.233810       10000  \n",
       "20  294.821391  216.238918       10000  \n",
       "21  294.956408  216.518884       10000  \n",
       "22  295.049228  216.510931       10000  \n",
       "23  295.081718  216.632422       10000  \n",
       "24  295.083061  216.637053       10000  \n",
       "25  295.144670  216.657552       10000  \n",
       "26  295.146433  216.663002       10000  "
      ]
     },
     "execution_count": 12,
     "metadata": {},
     "output_type": "execute_result"
    }
   ],
   "source": [
    "df_result_rmse = df_result[df_result['Loss_Function'] == 'RMSE'].sort_values(by='RMSE_Final').drop(columns='Final_Loss').reset_index(drop=True)\n",
    "df_result_rmse"
   ]
  },
  {
   "cell_type": "markdown",
   "id": "57c3e4ff",
   "metadata": {},
   "source": [
    "### MAE"
   ]
  },
  {
   "cell_type": "code",
   "execution_count": 13,
   "id": "3935a465",
   "metadata": {},
   "outputs": [
    {
     "name": "stdout",
     "output_type": "stream",
     "text": [
      "Melhor resultado MAE:\n",
      "Feature Set: Original\n",
      "Learning Rate: 0.001\n",
      "Final Loss: 15.825814843820108\n",
      "Pesos: [5.01816188 6.28390469 1.13554321]\n"
     ]
    },
    {
     "data": {
      "application/vnd.plotly.v1+json": {
       "config": {
        "plotlyServerURL": "https://plot.ly"
       },
       "data": [
        {
         "colorscale": [
          [
           0,
           "#440154"
          ],
          [
           0.1111111111111111,
           "#482878"
          ],
          [
           0.2222222222222222,
           "#3e4989"
          ],
          [
           0.3333333333333333,
           "#31688e"
          ],
          [
           0.4444444444444444,
           "#26828e"
          ],
          [
           0.5555555555555556,
           "#1f9e89"
          ],
          [
           0.6666666666666666,
           "#35b779"
          ],
          [
           0.7777777777777778,
           "#6ece58"
          ],
          [
           0.8888888888888888,
           "#b5de2b"
          ],
          [
           1,
           "#fde725"
          ]
         ],
         "name": "Dados Originais",
         "opacity": 0.7,
         "type": "surface",
         "x": {
          "bdata": "AAAAAAAAFMBmZmZmZmYOwM3MzMzMzATAaGZmZmZm9r+gmZmZmZnJvwAAAAAAAPA/mZmZmZmZAUAyMzMzMzMLQGZmZmZmZhJA",
          "dtype": "f8"
         },
         "y": {
          "bdata": "AAAAAAAAFMBmZmZmZmYOwM3MzMzMzATAaGZmZmZm9r+gmZmZmZnJvwAAAAAAAPA/mZmZmZmZAUAyMzMzMzMLQGZmZmZmZhJA",
          "dtype": "f8"
         },
         "z": {
          "bdata": "9sghBmuvfMC0I0+f2t1hwK8LugEe2lJAqRchANEXY0CXyXr2YdNiQAXkA6qEaGRAYRUI67oQZkCrc0pJRUR3QPvexyqfJYNA56vLG+RCgMBgZFWNY0RmwEa0ZU71tjdASHovQizPUEC2yUt2ioZXQIE/ymEiEFJAofS3QC9TZUDm0Y69RzpxQBxk+a3Gm4JAh69vWFCIgsDr2fnzbGBtwMXwCs/1Y0XAAKbl/Ohw5z+MPGrMWAZUQIPM0KKqs01AdnFhUEEJY0BYWYDTU69vQGvDh4ASt4BAxGnZfDb2gsC8hbDvayFqwFXOkBgITEHATybcMR6bRkD4ZK9QxgMSQLZw2jvWoCRAbl3iWwiMV0AD6gnTpuNpQNwbLrpiU4BAAeQkEzeLhMAk6/XeOCtuwLj38j6P0FXA/Yd56iUkL8DWRXvas+Q5QPddrDvbtSpAiXUrThCVTEAi8fVSARFpQN9/ze8BZX9ANYX9+71QgsBaaZmAw0RzwKEVjb8aVVDAjlnf8IZjEUDsg/0U6SE2QBSM3YxpuTtAIlxfPf9zU0AmTk5q1SNpQMAYRqOGBIBA/M43o1W0gsACTn1vyk9swPoCevfMxUHAOsIQ26pKQkAcJJh7USlBQOqpfkVp8jlAN2AcB9zjUUAW4wxTc+FqQNasiNjrAH9AUTA5arzNgcDHxNnozt5rwPVOnU/RQxvAfddQOV36UEA6vegZHBdNQIdtQ2USplNAhP5SrQhFZUCdRKEKSBtwQJ8BCeQTDYFAihsM/ebRfsBpdWkKCdBhwBqUJlS9rFBAp8B+eU9JWkAiG2r8lmdgQIRpKZrCnmJAx2bRaHMgakCkRVdKg5R0QNmH6s2ZNYNA",
          "dtype": "f8",
          "shape": "9, 9"
         }
        },
        {
         "marker": {
          "color": "red",
          "size": 4,
          "symbol": "circle"
         },
         "mode": "markers",
         "name": "Pontos Originais",
         "type": "scatter3d",
         "x": {
          "bdata": "AAAAAAAAFMAAAAAAAAAUwAAAAAAAABTAAAAAAAAAFMAAAAAAAAAUwAAAAAAAABTAAAAAAAAAFMAAAAAAAAAUwAAAAAAAABTAZmZmZmZmDsBmZmZmZmYOwGZmZmZmZg7AZmZmZmZmDsBmZmZmZmYOwGZmZmZmZg7AZmZmZmZmDsBmZmZmZmYOwGZmZmZmZg7AzczMzMzMBMDNzMzMzMwEwM3MzMzMzATAzczMzMzMBMDNzMzMzMwEwM3MzMzMzATAzczMzMzMBMDNzMzMzMwEwM3MzMzMzATAaGZmZmZm9r9oZmZmZmb2v2hmZmZmZva/aGZmZmZm9r9oZmZmZmb2v2hmZmZmZva/aGZmZmZm9r9oZmZmZmb2v2hmZmZmZva/oJmZmZmZyb+gmZmZmZnJv6CZmZmZmcm/oJmZmZmZyb+gmZmZmZnJv6CZmZmZmcm/oJmZmZmZyb+gmZmZmZnJv6CZmZmZmcm/AAAAAAAA8D8AAAAAAADwPwAAAAAAAPA/AAAAAAAA8D8AAAAAAADwPwAAAAAAAPA/AAAAAAAA8D8AAAAAAADwPwAAAAAAAPA/mZmZmZmZAUCZmZmZmZkBQJmZmZmZmQFAmZmZmZmZAUCZmZmZmZkBQJmZmZmZmQFAmZmZmZmZAUCZmZmZmZkBQJmZmZmZmQFAMjMzMzMzC0AyMzMzMzMLQDIzMzMzMwtAMjMzMzMzC0AyMzMzMzMLQDIzMzMzMwtAMjMzMzMzC0AyMzMzMzMLQDIzMzMzMwtAZmZmZmZmEkBmZmZmZmYSQGZmZmZmZhJAZmZmZmZmEkBmZmZmZmYSQGZmZmZmZhJAZmZmZmZmEkBmZmZmZmYSQGZmZmZmZhJA",
          "dtype": "f8"
         },
         "y": {
          "bdata": "AAAAAAAAFMBmZmZmZmYOwM3MzMzMzATAaGZmZmZm9r+gmZmZmZnJvwAAAAAAAPA/mZmZmZmZAUAyMzMzMzMLQGZmZmZmZhJAAAAAAAAAFMBmZmZmZmYOwM3MzMzMzATAaGZmZmZm9r+gmZmZmZnJvwAAAAAAAPA/mZmZmZmZAUAyMzMzMzMLQGZmZmZmZhJAAAAAAAAAFMBmZmZmZmYOwM3MzMzMzATAaGZmZmZm9r+gmZmZmZnJvwAAAAAAAPA/mZmZmZmZAUAyMzMzMzMLQGZmZmZmZhJAAAAAAAAAFMBmZmZmZmYOwM3MzMzMzATAaGZmZmZm9r+gmZmZmZnJvwAAAAAAAPA/mZmZmZmZAUAyMzMzMzMLQGZmZmZmZhJAAAAAAAAAFMBmZmZmZmYOwM3MzMzMzATAaGZmZmZm9r+gmZmZmZnJvwAAAAAAAPA/mZmZmZmZAUAyMzMzMzMLQGZmZmZmZhJAAAAAAAAAFMBmZmZmZmYOwM3MzMzMzATAaGZmZmZm9r+gmZmZmZnJvwAAAAAAAPA/mZmZmZmZAUAyMzMzMzMLQGZmZmZmZhJAAAAAAAAAFMBmZmZmZmYOwM3MzMzMzATAaGZmZmZm9r+gmZmZmZnJvwAAAAAAAPA/mZmZmZmZAUAyMzMzMzMLQGZmZmZmZhJAAAAAAAAAFMBmZmZmZmYOwM3MzMzMzATAaGZmZmZm9r+gmZmZmZnJvwAAAAAAAPA/mZmZmZmZAUAyMzMzMzMLQGZmZmZmZhJAAAAAAAAAFMBmZmZmZmYOwM3MzMzMzATAaGZmZmZm9r+gmZmZmZnJvwAAAAAAAPA/mZmZmZmZAUAyMzMzMzMLQGZmZmZmZhJA",
          "dtype": "f8"
         },
         "z": {
          "bdata": "9sghBmuvfMDnq8sb5EKAwIevb1hQiILAxGnZfDb2gsAB5CQTN4uEwDWF/fu9UILA/M43o1W0gsBRMDlqvM2BwIobDP3m0X7AtCNPn9rdYcBgZFWNY0RmwOvZ+fNsYG3AvIWw72shasAk6/XeOCtuwFppmYDDRHPAAk59b8pPbMDHxNnozt5rwGl1aQoJ0GHArwu6AR7aUkBGtGVO9bY3QMXwCs/1Y0XAVc6QGAhMQcC49/I+j9BVwKEVjb8aVVDA+gJ698zFQcD1Tp1P0UMbwBqUJlS9rFBAqRchANEXY0BIei9CLM9QQACm5fzocOc/TybcMR6bRkD9h3nqJSQvwI5Z3/CGYxFAOsIQ26pKQkB911A5XfpQQKfAfnlPSVpAl8l69mHTYkC2yUt2ioZXQIw8asxYBlRA+GSvUMYDEkDWRXvas+Q5QOyD/RTpITZAHCSYe1EpQUA6vegZHBdNQCIbavyWZ2BABeQDqoRoZECBP8phIhBSQIPM0KKqs01AtnDaO9agJED3Xaw727UqQBSM3YxpuTtA6ql+RWnyOUCHbUNlEqZTQIRpKZrCnmJAYRUI67oQZkCh9LdAL1NlQHZxYVBBCWNAbl3iWwiMV0CJdStOEJVMQCJcXz3/c1NAN2AcB9zjUUCE/lKtCEVlQMdm0WhzIGpAq3NKSUVEd0Dm0Y69RzpxQFhZgNNTr29AA+oJ06bjaUAi8fVSARFpQCZOTmrVI2lAFuMMU3PhakCdRKEKSBtwQKRFV0qDlHRA+97HKp8lg0AcZPmtxpuCQGvDh4ASt4BA3BsuumJTgEDff83vAWV/QMAYRqOGBIBA1qyI2OsAf0CfAQnkEw2BQNmH6s2ZNYNA",
          "dtype": "f8"
         }
        },
        {
         "marker": {
          "color": "blue",
          "size": 5,
          "symbol": "circle"
         },
         "mode": "markers",
         "name": "Predições",
         "type": "scatter3d",
         "x": {
          "bdata": "AAAAAAAAFMAAAAAAAAAUwAAAAAAAABTAAAAAAAAAFMAAAAAAAAAUwAAAAAAAABTAAAAAAAAAFMAAAAAAAAAUwAAAAAAAABTAZmZmZmZmDsBmZmZmZmYOwGZmZmZmZg7AZmZmZmZmDsBmZmZmZmYOwGZmZmZmZg7AZmZmZmZmDsBmZmZmZmYOwGZmZmZmZg7AzczMzMzMBMDNzMzMzMwEwM3MzMzMzATAzczMzMzMBMDNzMzMzMwEwM3MzMzMzATAzczMzMzMBMDNzMzMzMwEwM3MzMzMzATAaGZmZmZm9r9oZmZmZmb2v2hmZmZmZva/aGZmZmZm9r9oZmZmZmb2v2hmZmZmZva/aGZmZmZm9r9oZmZmZmb2v2hmZmZmZva/oJmZmZmZyb+gmZmZmZnJv6CZmZmZmcm/oJmZmZmZyb+gmZmZmZnJv6CZmZmZmcm/oJmZmZmZyb+gmZmZmZnJv6CZmZmZmcm/AAAAAAAA8D8AAAAAAADwPwAAAAAAAPA/AAAAAAAA8D8AAAAAAADwPwAAAAAAAPA/AAAAAAAA8D8AAAAAAADwPwAAAAAAAPA/mZmZmZmZAUCZmZmZmZkBQJmZmZmZmQFAmZmZmZmZAUCZmZmZmZkBQJmZmZmZmQFAmZmZmZmZAUCZmZmZmZkBQJmZmZmZmQFAMjMzMzMzC0AyMzMzMzMLQDIzMzMzMwtAMjMzMzMzC0AyMzMzMzMLQDIzMzMzMwtAMjMzMzMzC0AyMzMzMzMLQDIzMzMzMwtAZmZmZmZmEkBmZmZmZmYSQGZmZmZmZhJAZmZmZmZmEkBmZmZmZmYSQGZmZmZmZhJAZmZmZmZmEkBmZmZmZmYSQGZmZmZmZhJA",
          "dtype": "f8"
         },
         "y": {
          "bdata": "AAAAAAAAFMBmZmZmZmYOwM3MzMzMzATAaGZmZmZm9r+gmZmZmZnJvwAAAAAAAPA/mZmZmZmZAUAyMzMzMzMLQGZmZmZmZhJAAAAAAAAAFMBmZmZmZmYOwM3MzMzMzATAaGZmZmZm9r+gmZmZmZnJvwAAAAAAAPA/mZmZmZmZAUAyMzMzMzMLQGZmZmZmZhJAAAAAAAAAFMBmZmZmZmYOwM3MzMzMzATAaGZmZmZm9r+gmZmZmZnJvwAAAAAAAPA/mZmZmZmZAUAyMzMzMzMLQGZmZmZmZhJAAAAAAAAAFMBmZmZmZmYOwM3MzMzMzATAaGZmZmZm9r+gmZmZmZnJvwAAAAAAAPA/mZmZmZmZAUAyMzMzMzMLQGZmZmZmZhJAAAAAAAAAFMBmZmZmZmYOwM3MzMzMzATAaGZmZmZm9r+gmZmZmZnJvwAAAAAAAPA/mZmZmZmZAUAyMzMzMzMLQGZmZmZmZhJAAAAAAAAAFMBmZmZmZmYOwM3MzMzMzATAaGZmZmZm9r+gmZmZmZnJvwAAAAAAAPA/mZmZmZmZAUAyMzMzMzMLQGZmZmZmZhJAAAAAAAAAFMBmZmZmZmYOwM3MzMzMzATAaGZmZmZm9r+gmZmZmZnJvwAAAAAAAPA/mZmZmZmZAUAyMzMzMzMLQGZmZmZmZhJAAAAAAAAAFMBmZmZmZmYOwM3MzMzMzATAaGZmZmZm9r+gmZmZmZnJvwAAAAAAAPA/mZmZmZmZAUAyMzMzMzMLQGZmZmZmZhJAAAAAAAAAFMBmZmZmZmYOwM3MzMzMzATAaGZmZmZm9r+gmZmZmZnJvwAAAAAAAPA/mZmZmZmZAUAyMzMzMzMLQGZmZmZmZhJA",
          "dtype": "f8"
         },
         "z": {
          "bdata": "Sfj72pdQfcC5Xi4uKbuAwMgagHQ+PYLAUTBzwIsug8BVnwcSEY+DwNNnPWnOXoPAzIkUxsOdgsA/BY0o8UuBwFi0TSGt0n7ABPmXFOZHXcDVhg0NaO9mwBB3VCa992zAm2YQK3lecMCjRDnOgx9xwJ/VpHz+vnDAIDOmbNJ5bsDsIIj2hzJpwKF075YdqGHAJlSDMSyCUUAB8AeARWgNQO5BGw3QSkbAQk0mZtKvUsBgxcny/LNVwFEJeKznMVTAKzJiJiVTTMBwpac37dcswNDHeDCu80ZAPvN9jdMOYkDV0XgVvYZTQHnFq4tL2D1AWOy6rXxX1L9WmIlKEMQowLxv9y/MZhnA/+QdWaHHMUBOOweF+gBOQD32tAFSFV5ACM81Li3GY0BqiehWcPVWQOVRtUiMyUVAQOUPJt7SKkBqIqEHToz1P4oJBOdnhB1AUcPcXm6CP0A8VfODMG9SQOlWkqECwmBAey021QpoZEBPRumkKzlYQLDLtuQCUUhANuYKS1x4MkD0FvRhyJ4ZQPHrh2MO4ChAc9tvy61IQkAhEvTR67JTQFy1kkjgY2FAoP7LXFR1akBNdApa3yliQCMIh4EUQ1hA2FvuIaq4UEB0x5Uq/2hLQJI/ObcpbU5ABJDj9Ok+VUBstB/hfs1fQIGGKNApcWdAQBmiz3g3dkAXVEFOvhFyQPK3O4MnG25AzWFvU/JVakC+pR0N3dNoQMWDRrDnlGlA4/vpPBKZbEAMB4RZLvBwQDFdUIljtXRAS+66nXI1hEC2iwpdlSKCQKfPuBaAoIBAPHSLlWVef0A0lmLyWp1+QDgF90Pg/X5ApGAkxfo/gEAx5atizZGBQEMQkvpndINA",
          "dtype": "f8"
         }
        }
       ],
       "layout": {
        "legend": {
         "x": 0.02,
         "y": 0.98
        },
        "margin": {
         "b": 0,
         "l": 0,
         "r": 0,
         "t": 60
        },
        "scene": {
         "xaxis": {
          "title": {
           "text": "X"
          }
         },
         "yaxis": {
          "title": {
           "text": "Y"
          }
         },
         "zaxis": {
          "title": {
           "text": "Z"
          }
         }
        },
        "template": {
         "data": {
          "bar": [
           {
            "error_x": {
             "color": "#2a3f5f"
            },
            "error_y": {
             "color": "#2a3f5f"
            },
            "marker": {
             "line": {
              "color": "#E5ECF6",
              "width": 0.5
             },
             "pattern": {
              "fillmode": "overlay",
              "size": 10,
              "solidity": 0.2
             }
            },
            "type": "bar"
           }
          ],
          "barpolar": [
           {
            "marker": {
             "line": {
              "color": "#E5ECF6",
              "width": 0.5
             },
             "pattern": {
              "fillmode": "overlay",
              "size": 10,
              "solidity": 0.2
             }
            },
            "type": "barpolar"
           }
          ],
          "carpet": [
           {
            "aaxis": {
             "endlinecolor": "#2a3f5f",
             "gridcolor": "white",
             "linecolor": "white",
             "minorgridcolor": "white",
             "startlinecolor": "#2a3f5f"
            },
            "baxis": {
             "endlinecolor": "#2a3f5f",
             "gridcolor": "white",
             "linecolor": "white",
             "minorgridcolor": "white",
             "startlinecolor": "#2a3f5f"
            },
            "type": "carpet"
           }
          ],
          "choropleth": [
           {
            "colorbar": {
             "outlinewidth": 0,
             "ticks": ""
            },
            "type": "choropleth"
           }
          ],
          "contour": [
           {
            "colorbar": {
             "outlinewidth": 0,
             "ticks": ""
            },
            "colorscale": [
             [
              0,
              "#0d0887"
             ],
             [
              0.1111111111111111,
              "#46039f"
             ],
             [
              0.2222222222222222,
              "#7201a8"
             ],
             [
              0.3333333333333333,
              "#9c179e"
             ],
             [
              0.4444444444444444,
              "#bd3786"
             ],
             [
              0.5555555555555556,
              "#d8576b"
             ],
             [
              0.6666666666666666,
              "#ed7953"
             ],
             [
              0.7777777777777778,
              "#fb9f3a"
             ],
             [
              0.8888888888888888,
              "#fdca26"
             ],
             [
              1,
              "#f0f921"
             ]
            ],
            "type": "contour"
           }
          ],
          "contourcarpet": [
           {
            "colorbar": {
             "outlinewidth": 0,
             "ticks": ""
            },
            "type": "contourcarpet"
           }
          ],
          "heatmap": [
           {
            "colorbar": {
             "outlinewidth": 0,
             "ticks": ""
            },
            "colorscale": [
             [
              0,
              "#0d0887"
             ],
             [
              0.1111111111111111,
              "#46039f"
             ],
             [
              0.2222222222222222,
              "#7201a8"
             ],
             [
              0.3333333333333333,
              "#9c179e"
             ],
             [
              0.4444444444444444,
              "#bd3786"
             ],
             [
              0.5555555555555556,
              "#d8576b"
             ],
             [
              0.6666666666666666,
              "#ed7953"
             ],
             [
              0.7777777777777778,
              "#fb9f3a"
             ],
             [
              0.8888888888888888,
              "#fdca26"
             ],
             [
              1,
              "#f0f921"
             ]
            ],
            "type": "heatmap"
           }
          ],
          "histogram": [
           {
            "marker": {
             "pattern": {
              "fillmode": "overlay",
              "size": 10,
              "solidity": 0.2
             }
            },
            "type": "histogram"
           }
          ],
          "histogram2d": [
           {
            "colorbar": {
             "outlinewidth": 0,
             "ticks": ""
            },
            "colorscale": [
             [
              0,
              "#0d0887"
             ],
             [
              0.1111111111111111,
              "#46039f"
             ],
             [
              0.2222222222222222,
              "#7201a8"
             ],
             [
              0.3333333333333333,
              "#9c179e"
             ],
             [
              0.4444444444444444,
              "#bd3786"
             ],
             [
              0.5555555555555556,
              "#d8576b"
             ],
             [
              0.6666666666666666,
              "#ed7953"
             ],
             [
              0.7777777777777778,
              "#fb9f3a"
             ],
             [
              0.8888888888888888,
              "#fdca26"
             ],
             [
              1,
              "#f0f921"
             ]
            ],
            "type": "histogram2d"
           }
          ],
          "histogram2dcontour": [
           {
            "colorbar": {
             "outlinewidth": 0,
             "ticks": ""
            },
            "colorscale": [
             [
              0,
              "#0d0887"
             ],
             [
              0.1111111111111111,
              "#46039f"
             ],
             [
              0.2222222222222222,
              "#7201a8"
             ],
             [
              0.3333333333333333,
              "#9c179e"
             ],
             [
              0.4444444444444444,
              "#bd3786"
             ],
             [
              0.5555555555555556,
              "#d8576b"
             ],
             [
              0.6666666666666666,
              "#ed7953"
             ],
             [
              0.7777777777777778,
              "#fb9f3a"
             ],
             [
              0.8888888888888888,
              "#fdca26"
             ],
             [
              1,
              "#f0f921"
             ]
            ],
            "type": "histogram2dcontour"
           }
          ],
          "mesh3d": [
           {
            "colorbar": {
             "outlinewidth": 0,
             "ticks": ""
            },
            "type": "mesh3d"
           }
          ],
          "parcoords": [
           {
            "line": {
             "colorbar": {
              "outlinewidth": 0,
              "ticks": ""
             }
            },
            "type": "parcoords"
           }
          ],
          "pie": [
           {
            "automargin": true,
            "type": "pie"
           }
          ],
          "scatter": [
           {
            "fillpattern": {
             "fillmode": "overlay",
             "size": 10,
             "solidity": 0.2
            },
            "type": "scatter"
           }
          ],
          "scatter3d": [
           {
            "line": {
             "colorbar": {
              "outlinewidth": 0,
              "ticks": ""
             }
            },
            "marker": {
             "colorbar": {
              "outlinewidth": 0,
              "ticks": ""
             }
            },
            "type": "scatter3d"
           }
          ],
          "scattercarpet": [
           {
            "marker": {
             "colorbar": {
              "outlinewidth": 0,
              "ticks": ""
             }
            },
            "type": "scattercarpet"
           }
          ],
          "scattergeo": [
           {
            "marker": {
             "colorbar": {
              "outlinewidth": 0,
              "ticks": ""
             }
            },
            "type": "scattergeo"
           }
          ],
          "scattergl": [
           {
            "marker": {
             "colorbar": {
              "outlinewidth": 0,
              "ticks": ""
             }
            },
            "type": "scattergl"
           }
          ],
          "scattermap": [
           {
            "marker": {
             "colorbar": {
              "outlinewidth": 0,
              "ticks": ""
             }
            },
            "type": "scattermap"
           }
          ],
          "scattermapbox": [
           {
            "marker": {
             "colorbar": {
              "outlinewidth": 0,
              "ticks": ""
             }
            },
            "type": "scattermapbox"
           }
          ],
          "scatterpolar": [
           {
            "marker": {
             "colorbar": {
              "outlinewidth": 0,
              "ticks": ""
             }
            },
            "type": "scatterpolar"
           }
          ],
          "scatterpolargl": [
           {
            "marker": {
             "colorbar": {
              "outlinewidth": 0,
              "ticks": ""
             }
            },
            "type": "scatterpolargl"
           }
          ],
          "scatterternary": [
           {
            "marker": {
             "colorbar": {
              "outlinewidth": 0,
              "ticks": ""
             }
            },
            "type": "scatterternary"
           }
          ],
          "surface": [
           {
            "colorbar": {
             "outlinewidth": 0,
             "ticks": ""
            },
            "colorscale": [
             [
              0,
              "#0d0887"
             ],
             [
              0.1111111111111111,
              "#46039f"
             ],
             [
              0.2222222222222222,
              "#7201a8"
             ],
             [
              0.3333333333333333,
              "#9c179e"
             ],
             [
              0.4444444444444444,
              "#bd3786"
             ],
             [
              0.5555555555555556,
              "#d8576b"
             ],
             [
              0.6666666666666666,
              "#ed7953"
             ],
             [
              0.7777777777777778,
              "#fb9f3a"
             ],
             [
              0.8888888888888888,
              "#fdca26"
             ],
             [
              1,
              "#f0f921"
             ]
            ],
            "type": "surface"
           }
          ],
          "table": [
           {
            "cells": {
             "fill": {
              "color": "#EBF0F8"
             },
             "line": {
              "color": "white"
             }
            },
            "header": {
             "fill": {
              "color": "#C8D4E3"
             },
             "line": {
              "color": "white"
             }
            },
            "type": "table"
           }
          ]
         },
         "layout": {
          "annotationdefaults": {
           "arrowcolor": "#2a3f5f",
           "arrowhead": 0,
           "arrowwidth": 1
          },
          "autotypenumbers": "strict",
          "coloraxis": {
           "colorbar": {
            "outlinewidth": 0,
            "ticks": ""
           }
          },
          "colorscale": {
           "diverging": [
            [
             0,
             "#8e0152"
            ],
            [
             0.1,
             "#c51b7d"
            ],
            [
             0.2,
             "#de77ae"
            ],
            [
             0.3,
             "#f1b6da"
            ],
            [
             0.4,
             "#fde0ef"
            ],
            [
             0.5,
             "#f7f7f7"
            ],
            [
             0.6,
             "#e6f5d0"
            ],
            [
             0.7,
             "#b8e186"
            ],
            [
             0.8,
             "#7fbc41"
            ],
            [
             0.9,
             "#4d9221"
            ],
            [
             1,
             "#276419"
            ]
           ],
           "sequential": [
            [
             0,
             "#0d0887"
            ],
            [
             0.1111111111111111,
             "#46039f"
            ],
            [
             0.2222222222222222,
             "#7201a8"
            ],
            [
             0.3333333333333333,
             "#9c179e"
            ],
            [
             0.4444444444444444,
             "#bd3786"
            ],
            [
             0.5555555555555556,
             "#d8576b"
            ],
            [
             0.6666666666666666,
             "#ed7953"
            ],
            [
             0.7777777777777778,
             "#fb9f3a"
            ],
            [
             0.8888888888888888,
             "#fdca26"
            ],
            [
             1,
             "#f0f921"
            ]
           ],
           "sequentialminus": [
            [
             0,
             "#0d0887"
            ],
            [
             0.1111111111111111,
             "#46039f"
            ],
            [
             0.2222222222222222,
             "#7201a8"
            ],
            [
             0.3333333333333333,
             "#9c179e"
            ],
            [
             0.4444444444444444,
             "#bd3786"
            ],
            [
             0.5555555555555556,
             "#d8576b"
            ],
            [
             0.6666666666666666,
             "#ed7953"
            ],
            [
             0.7777777777777778,
             "#fb9f3a"
            ],
            [
             0.8888888888888888,
             "#fdca26"
            ],
            [
             1,
             "#f0f921"
            ]
           ]
          },
          "colorway": [
           "#636efa",
           "#EF553B",
           "#00cc96",
           "#ab63fa",
           "#FFA15A",
           "#19d3f3",
           "#FF6692",
           "#B6E880",
           "#FF97FF",
           "#FECB52"
          ],
          "font": {
           "color": "#2a3f5f"
          },
          "geo": {
           "bgcolor": "white",
           "lakecolor": "white",
           "landcolor": "#E5ECF6",
           "showlakes": true,
           "showland": true,
           "subunitcolor": "white"
          },
          "hoverlabel": {
           "align": "left"
          },
          "hovermode": "closest",
          "mapbox": {
           "style": "light"
          },
          "paper_bgcolor": "white",
          "plot_bgcolor": "#E5ECF6",
          "polar": {
           "angularaxis": {
            "gridcolor": "white",
            "linecolor": "white",
            "ticks": ""
           },
           "bgcolor": "#E5ECF6",
           "radialaxis": {
            "gridcolor": "white",
            "linecolor": "white",
            "ticks": ""
           }
          },
          "scene": {
           "xaxis": {
            "backgroundcolor": "#E5ECF6",
            "gridcolor": "white",
            "gridwidth": 2,
            "linecolor": "white",
            "showbackground": true,
            "ticks": "",
            "zerolinecolor": "white"
           },
           "yaxis": {
            "backgroundcolor": "#E5ECF6",
            "gridcolor": "white",
            "gridwidth": 2,
            "linecolor": "white",
            "showbackground": true,
            "ticks": "",
            "zerolinecolor": "white"
           },
           "zaxis": {
            "backgroundcolor": "#E5ECF6",
            "gridcolor": "white",
            "gridwidth": 2,
            "linecolor": "white",
            "showbackground": true,
            "ticks": "",
            "zerolinecolor": "white"
           }
          },
          "shapedefaults": {
           "line": {
            "color": "#2a3f5f"
           }
          },
          "ternary": {
           "aaxis": {
            "gridcolor": "white",
            "linecolor": "white",
            "ticks": ""
           },
           "baxis": {
            "gridcolor": "white",
            "linecolor": "white",
            "ticks": ""
           },
           "bgcolor": "#E5ECF6",
           "caxis": {
            "gridcolor": "white",
            "linecolor": "white",
            "ticks": ""
           }
          },
          "title": {
           "x": 0.05
          },
          "xaxis": {
           "automargin": true,
           "gridcolor": "white",
           "linecolor": "white",
           "ticks": "",
           "title": {
            "standoff": 15
           },
           "zerolinecolor": "white",
           "zerolinewidth": 2
          },
          "yaxis": {
           "automargin": true,
           "gridcolor": "white",
           "linecolor": "white",
           "ticks": "",
           "title": {
            "standoff": 15
           },
           "zerolinecolor": "white",
           "zerolinewidth": 2
          }
         }
        },
        "title": {
         "text": "Ajuste de Curva - MAE | Feature: Original | LR: 0.001 | Loss: 15.825815"
        }
       }
      }
     },
     "metadata": {},
     "output_type": "display_data"
    }
   ],
   "source": [
    "_ = plot_best_by_loss(df_result, \"MAE\", df, features_normalized, features_standardized, show_original_points=True)"
   ]
  },
  {
   "cell_type": "code",
   "execution_count": 14,
   "id": "eb223d22",
   "metadata": {},
   "outputs": [
    {
     "data": {
      "text/html": [
       "<div>\n",
       "<style scoped>\n",
       "    .dataframe tbody tr th:only-of-type {\n",
       "        vertical-align: middle;\n",
       "    }\n",
       "\n",
       "    .dataframe tbody tr th {\n",
       "        vertical-align: top;\n",
       "    }\n",
       "\n",
       "    .dataframe thead th {\n",
       "        text-align: right;\n",
       "    }\n",
       "</style>\n",
       "<table border=\"1\" class=\"dataframe\">\n",
       "  <thead>\n",
       "    <tr style=\"text-align: right;\">\n",
       "      <th></th>\n",
       "      <th>Feature_Set</th>\n",
       "      <th>Loss_Function</th>\n",
       "      <th>Learning_Rate</th>\n",
       "      <th>Initial_Weights</th>\n",
       "      <th>Weights_raw</th>\n",
       "      <th>Final_Weights</th>\n",
       "      <th>MSE_Final</th>\n",
       "      <th>RMSE_Final</th>\n",
       "      <th>MAE_Final</th>\n",
       "      <th>Iterations</th>\n",
       "    </tr>\n",
       "  </thead>\n",
       "  <tbody>\n",
       "    <tr>\n",
       "      <th>0</th>\n",
       "      <td>Original</td>\n",
       "      <td>MAE</td>\n",
       "      <td>0.00100</td>\n",
       "      <td>(0.0, 0.0, 0.0)</td>\n",
       "      <td>[5.01816187654278, 6.283904691357363, 1.135543...</td>\n",
       "      <td>[5.01816187654278, 6.283904691357363, 1.135543...</td>\n",
       "      <td>412.167477</td>\n",
       "      <td>20.301908</td>\n",
       "      <td>15.825815</td>\n",
       "      <td>4949</td>\n",
       "    </tr>\n",
       "    <tr>\n",
       "      <th>1</th>\n",
       "      <td>Original</td>\n",
       "      <td>MAE</td>\n",
       "      <td>0.00100</td>\n",
       "      <td>(0.1, 0.1, 0.1)</td>\n",
       "      <td>[5.0166004938267905, 6.285862716048745, 1.1116...</td>\n",
       "      <td>[5.0166004938267905, 6.285862716048745, 1.1116...</td>\n",
       "      <td>412.194659</td>\n",
       "      <td>20.302578</td>\n",
       "      <td>15.829857</td>\n",
       "      <td>4256</td>\n",
       "    </tr>\n",
       "    <tr>\n",
       "      <th>2</th>\n",
       "      <td>Original</td>\n",
       "      <td>MAE</td>\n",
       "      <td>0.00100</td>\n",
       "      <td>(-0.0008095019450254399, 0.0034561029535432643...</td>\n",
       "      <td>[5.017439189413042, 6.304686720237419, 0.63715...</td>\n",
       "      <td>[5.017439189413042, 6.304686720237419, 0.63715...</td>\n",
       "      <td>416.377357</td>\n",
       "      <td>20.405327</td>\n",
       "      <td>15.896891</td>\n",
       "      <td>1382</td>\n",
       "    </tr>\n",
       "    <tr>\n",
       "      <th>3</th>\n",
       "      <td>Original</td>\n",
       "      <td>MAE</td>\n",
       "      <td>0.00010</td>\n",
       "      <td>(0.1, 0.1, 0.1)</td>\n",
       "      <td>[5.007548316049207, 6.24645397530912, 0.644371...</td>\n",
       "      <td>[5.007548316049207, 6.24645397530912, 0.644371...</td>\n",
       "      <td>416.256517</td>\n",
       "      <td>20.402365</td>\n",
       "      <td>15.919502</td>\n",
       "      <td>9749</td>\n",
       "    </tr>\n",
       "    <tr>\n",
       "      <th>4</th>\n",
       "      <td>Original</td>\n",
       "      <td>MAE</td>\n",
       "      <td>0.00010</td>\n",
       "      <td>(-0.0008095019450254399, 0.0034561029535432643...</td>\n",
       "      <td>[5.006344927684392, 6.243138769620673, 0.56411...</td>\n",
       "      <td>[5.006344927684392, 6.243138769620673, 0.56411...</td>\n",
       "      <td>417.087088</td>\n",
       "      <td>20.422710</td>\n",
       "      <td>15.934524</td>\n",
       "      <td>9694</td>\n",
       "    </tr>\n",
       "    <tr>\n",
       "      <th>5</th>\n",
       "      <td>Original</td>\n",
       "      <td>MAE</td>\n",
       "      <td>0.00010</td>\n",
       "      <td>(0.0, 0.0, 0.0)</td>\n",
       "      <td>[5.00462019753064, 6.232967753086868, 0.549053...</td>\n",
       "      <td>[5.00462019753064, 6.232967753086868, 0.549053...</td>\n",
       "      <td>417.440771</td>\n",
       "      <td>20.431367</td>\n",
       "      <td>15.945192</td>\n",
       "      <td>9521</td>\n",
       "    </tr>\n",
       "    <tr>\n",
       "      <th>6</th>\n",
       "      <td>Original</td>\n",
       "      <td>MAE</td>\n",
       "      <td>0.00001</td>\n",
       "      <td>(0.1, 0.1, 0.1)</td>\n",
       "      <td>[3.617496393086131, 0.6403988641975492, 0.1449...</td>\n",
       "      <td>[3.617496393086131, 0.6403988641975492, 0.1449...</td>\n",
       "      <td>11309.454215</td>\n",
       "      <td>106.345918</td>\n",
       "      <td>85.443627</td>\n",
       "      <td>10000</td>\n",
       "    </tr>\n",
       "    <tr>\n",
       "      <th>7</th>\n",
       "      <td>Original</td>\n",
       "      <td>MAE</td>\n",
       "      <td>0.00001</td>\n",
       "      <td>(-0.0008095019450254399, 0.0034561029535432643...</td>\n",
       "      <td>[3.5271412239806383, 0.5402885473980458, 0.057...</td>\n",
       "      <td>[3.5271412239806383, 0.5402885473980458, 0.057...</td>\n",
       "      <td>12297.928348</td>\n",
       "      <td>110.896025</td>\n",
       "      <td>88.983460</td>\n",
       "      <td>10000</td>\n",
       "    </tr>\n",
       "    <tr>\n",
       "      <th>8</th>\n",
       "      <td>Original</td>\n",
       "      <td>MAE</td>\n",
       "      <td>0.00001</td>\n",
       "      <td>(0.0, 0.0, 0.0)</td>\n",
       "      <td>[3.5275408809873916, 0.5369946172840103, 0.044...</td>\n",
       "      <td>[3.5275408809873916, 0.5369946172840103, 0.044...</td>\n",
       "      <td>12301.337809</td>\n",
       "      <td>110.911396</td>\n",
       "      <td>89.000437</td>\n",
       "      <td>10000</td>\n",
       "    </tr>\n",
       "    <tr>\n",
       "      <th>9</th>\n",
       "      <td>Standardized</td>\n",
       "      <td>MAE</td>\n",
       "      <td>0.00100</td>\n",
       "      <td>(0.1, 0.1, 0.1)</td>\n",
       "      <td>[6.882833103328159, 1.3659667823491513, 3.7234...</td>\n",
       "      <td>[0.11964077921483865, 0.16042554786508506, 2.8...</td>\n",
       "      <td>82820.985065</td>\n",
       "      <td>287.786353</td>\n",
       "      <td>210.517090</td>\n",
       "      <td>10000</td>\n",
       "    </tr>\n",
       "    <tr>\n",
       "      <th>10</th>\n",
       "      <td>Standardized</td>\n",
       "      <td>MAE</td>\n",
       "      <td>0.00100</td>\n",
       "      <td>(-0.0008095019450254399, 0.0034561029535432643...</td>\n",
       "      <td>[6.782229966307256, 1.2680949773198538, 3.6398...</td>\n",
       "      <td>[0.11789204616785862, 0.14893102388012586, 2.8...</td>\n",
       "      <td>82892.449796</td>\n",
       "      <td>287.910489</td>\n",
       "      <td>210.627774</td>\n",
       "      <td>10000</td>\n",
       "    </tr>\n",
       "    <tr>\n",
       "      <th>11</th>\n",
       "      <td>Standardized</td>\n",
       "      <td>MAE</td>\n",
       "      <td>0.00100</td>\n",
       "      <td>(0.0, 0.0, 0.0)</td>\n",
       "      <td>[6.783078405030409, 1.264388325690308, 3.62812...</td>\n",
       "      <td>[0.1179067941456797, 0.14849569732160425, 2.87...</td>\n",
       "      <td>82893.106786</td>\n",
       "      <td>287.911630</td>\n",
       "      <td>210.631869</td>\n",
       "      <td>10000</td>\n",
       "    </tr>\n",
       "    <tr>\n",
       "      <th>12</th>\n",
       "      <td>Normalized</td>\n",
       "      <td>MAE</td>\n",
       "      <td>0.00100</td>\n",
       "      <td>(0.1, 0.1, 0.1)</td>\n",
       "      <td>[3.872519126207672, 0.12948907882243285, 3.719...</td>\n",
       "      <td>[0.03483483669947891, 0.010375727469746222, 8....</td>\n",
       "      <td>85447.179777</td>\n",
       "      <td>292.313496</td>\n",
       "      <td>212.646157</td>\n",
       "      <td>10000</td>\n",
       "    </tr>\n",
       "    <tr>\n",
       "      <th>13</th>\n",
       "      <td>Normalized</td>\n",
       "      <td>MAE</td>\n",
       "      <td>0.00100</td>\n",
       "      <td>(-0.0008095019450254399, 0.0034561029535432643...</td>\n",
       "      <td>[3.7720174666473194, 0.03152068035145748, 3.63...</td>\n",
       "      <td>[0.033930784638091176, 0.0025256955409821693, ...</td>\n",
       "      <td>85499.065198</td>\n",
       "      <td>292.402232</td>\n",
       "      <td>212.775543</td>\n",
       "      <td>10000</td>\n",
       "    </tr>\n",
       "    <tr>\n",
       "      <th>14</th>\n",
       "      <td>Normalized</td>\n",
       "      <td>MAE</td>\n",
       "      <td>0.00100</td>\n",
       "      <td>(0.0, 0.0, 0.0)</td>\n",
       "      <td>[3.7728909998083613, 0.027768281101616388, 3.6...</td>\n",
       "      <td>[0.033938642413359615, 0.0022250225241679795, ...</td>\n",
       "      <td>85499.862934</td>\n",
       "      <td>292.403596</td>\n",
       "      <td>212.779936</td>\n",
       "      <td>10000</td>\n",
       "    </tr>\n",
       "    <tr>\n",
       "      <th>15</th>\n",
       "      <td>Standardized</td>\n",
       "      <td>MAE</td>\n",
       "      <td>0.00010</td>\n",
       "      <td>(0.1, 0.1, 0.1)</td>\n",
       "      <td>[0.7793540717312467, 0.2197065896449412, 0.482...</td>\n",
       "      <td>[0.013547114542280076, 0.0258033727238543, 0.3...</td>\n",
       "      <td>86627.427143</td>\n",
       "      <td>294.325376</td>\n",
       "      <td>215.969636</td>\n",
       "      <td>10000</td>\n",
       "    </tr>\n",
       "    <tr>\n",
       "      <th>16</th>\n",
       "      <td>Standardized</td>\n",
       "      <td>MAE</td>\n",
       "      <td>0.00010</td>\n",
       "      <td>(-0.0008095019450254399, 0.0034561029535432643...</td>\n",
       "      <td>[0.6785445697862976, 0.12316269259845682, 0.39...</td>\n",
       "      <td>[0.011794794359022764, 0.014464804482775545, 0...</td>\n",
       "      <td>86701.162866</td>\n",
       "      <td>294.450612</td>\n",
       "      <td>216.083182</td>\n",
       "      <td>10000</td>\n",
       "    </tr>\n",
       "    <tr>\n",
       "      <th>17</th>\n",
       "      <td>Standardized</td>\n",
       "      <td>MAE</td>\n",
       "      <td>0.00010</td>\n",
       "      <td>(0.0, 0.0, 0.0)</td>\n",
       "      <td>[0.6793540717313225, 0.1197065896449122, 0.382...</td>\n",
       "      <td>[0.011808865518678206, 0.014058903536306691, 0...</td>\n",
       "      <td>86701.946245</td>\n",
       "      <td>294.451942</td>\n",
       "      <td>216.087814</td>\n",
       "      <td>10000</td>\n",
       "    </tr>\n",
       "    <tr>\n",
       "      <th>18</th>\n",
       "      <td>Normalized</td>\n",
       "      <td>MAE</td>\n",
       "      <td>0.00010</td>\n",
       "      <td>(0.1, 0.1, 0.1)</td>\n",
       "      <td>[0.47932578519804997, 0.09335232668568053, 0.4...</td>\n",
       "      <td>[0.004311724463856955, 0.007480154381865427, 1...</td>\n",
       "      <td>86905.785178</td>\n",
       "      <td>294.797872</td>\n",
       "      <td>216.133109</td>\n",
       "      <td>10000</td>\n",
       "    </tr>\n",
       "    <tr>\n",
       "      <th>19</th>\n",
       "      <td>Normalized</td>\n",
       "      <td>MAE</td>\n",
       "      <td>0.00010</td>\n",
       "      <td>(-0.0008095019450254399, 0.0034561029535432643...</td>\n",
       "      <td>[0.3785162832529987, -0.003191570360796943, 0....</td>\n",
       "      <td>[0.0034049032388187134, -0.0002557348045510371...</td>\n",
       "      <td>86961.716277</td>\n",
       "      <td>294.892720</td>\n",
       "      <td>216.273558</td>\n",
       "      <td>10000</td>\n",
       "    </tr>\n",
       "    <tr>\n",
       "      <th>20</th>\n",
       "      <td>Normalized</td>\n",
       "      <td>MAE</td>\n",
       "      <td>0.00010</td>\n",
       "      <td>(0.0, 0.0, 0.0)</td>\n",
       "      <td>[0.3793257851980243, -0.006647673314338898, 0....</td>\n",
       "      <td>[0.003412185028047858, -0.0005326661309566424,...</td>\n",
       "      <td>86962.736992</td>\n",
       "      <td>294.894451</td>\n",
       "      <td>216.278678</td>\n",
       "      <td>10000</td>\n",
       "    </tr>\n",
       "    <tr>\n",
       "      <th>21</th>\n",
       "      <td>Normalized</td>\n",
       "      <td>MAE</td>\n",
       "      <td>0.00001</td>\n",
       "      <td>(0.1, 0.1, 0.1)</td>\n",
       "      <td>[0.1379325785198255, 0.0993352326685403, 0.138...</td>\n",
       "      <td>[0.0012407579386138593, 0.00795955389972278, 0...</td>\n",
       "      <td>87058.352465</td>\n",
       "      <td>295.056524</td>\n",
       "      <td>216.514751</td>\n",
       "      <td>10000</td>\n",
       "    </tr>\n",
       "    <tr>\n",
       "      <th>22</th>\n",
       "      <td>Standardized</td>\n",
       "      <td>MAE</td>\n",
       "      <td>0.00001</td>\n",
       "      <td>(0.1, 0.1, 0.1)</td>\n",
       "      <td>[0.167935407173092, 0.11197065896449412, 0.138...</td>\n",
       "      <td>[0.002919135575470308, 0.013150359541175213, 0...</td>\n",
       "      <td>87014.915211</td>\n",
       "      <td>294.982907</td>\n",
       "      <td>216.529727</td>\n",
       "      <td>10000</td>\n",
       "    </tr>\n",
       "    <tr>\n",
       "      <th>23</th>\n",
       "      <td>Standardized</td>\n",
       "      <td>MAE</td>\n",
       "      <td>0.00001</td>\n",
       "      <td>(-0.0008095019450254399, 0.0034561029535432643...</td>\n",
       "      <td>[0.06712590522811895, 0.015426761918034389, 0....</td>\n",
       "      <td>[0.0011668153922125783, 0.0018117913000993517,...</td>\n",
       "      <td>87088.855315</td>\n",
       "      <td>295.108210</td>\n",
       "      <td>216.643273</td>\n",
       "      <td>10000</td>\n",
       "    </tr>\n",
       "    <tr>\n",
       "      <th>24</th>\n",
       "      <td>Standardized</td>\n",
       "      <td>MAE</td>\n",
       "      <td>0.00001</td>\n",
       "      <td>(0.0, 0.0, 0.0)</td>\n",
       "      <td>[0.0679354071731438, 0.011970658964489856, 0.0...</td>\n",
       "      <td>[0.0011808865518680212, 0.0014058903536305091,...</td>\n",
       "      <td>87089.647033</td>\n",
       "      <td>295.109551</td>\n",
       "      <td>216.647905</td>\n",
       "      <td>10000</td>\n",
       "    </tr>\n",
       "    <tr>\n",
       "      <th>25</th>\n",
       "      <td>Normalized</td>\n",
       "      <td>MAE</td>\n",
       "      <td>0.00001</td>\n",
       "      <td>(-0.0008095019450254399, 0.0034561029535432643...</td>\n",
       "      <td>[0.03712307657477491, 0.0027913356221095816, 0...</td>\n",
       "      <td>[0.0003339367135756235, 0.00022366471331006262...</td>\n",
       "      <td>87114.682596</td>\n",
       "      <td>295.151965</td>\n",
       "      <td>216.661383</td>\n",
       "      <td>10000</td>\n",
       "    </tr>\n",
       "    <tr>\n",
       "      <th>26</th>\n",
       "      <td>Normalized</td>\n",
       "      <td>MAE</td>\n",
       "      <td>0.00001</td>\n",
       "      <td>(0.0, 0.0, 0.0)</td>\n",
       "      <td>[0.037932578519799934, -0.0006647673314339864,...</td>\n",
       "      <td>[0.0003412185028047634, -5.326661309567198e-05...</td>\n",
       "      <td>87115.723265</td>\n",
       "      <td>295.153728</td>\n",
       "      <td>216.666834</td>\n",
       "      <td>10000</td>\n",
       "    </tr>\n",
       "  </tbody>\n",
       "</table>\n",
       "</div>"
      ],
      "text/plain": [
       "     Feature_Set Loss_Function  Learning_Rate  \\\n",
       "0       Original           MAE        0.00100   \n",
       "1       Original           MAE        0.00100   \n",
       "2       Original           MAE        0.00100   \n",
       "3       Original           MAE        0.00010   \n",
       "4       Original           MAE        0.00010   \n",
       "5       Original           MAE        0.00010   \n",
       "6       Original           MAE        0.00001   \n",
       "7       Original           MAE        0.00001   \n",
       "8       Original           MAE        0.00001   \n",
       "9   Standardized           MAE        0.00100   \n",
       "10  Standardized           MAE        0.00100   \n",
       "11  Standardized           MAE        0.00100   \n",
       "12    Normalized           MAE        0.00100   \n",
       "13    Normalized           MAE        0.00100   \n",
       "14    Normalized           MAE        0.00100   \n",
       "15  Standardized           MAE        0.00010   \n",
       "16  Standardized           MAE        0.00010   \n",
       "17  Standardized           MAE        0.00010   \n",
       "18    Normalized           MAE        0.00010   \n",
       "19    Normalized           MAE        0.00010   \n",
       "20    Normalized           MAE        0.00010   \n",
       "21    Normalized           MAE        0.00001   \n",
       "22  Standardized           MAE        0.00001   \n",
       "23  Standardized           MAE        0.00001   \n",
       "24  Standardized           MAE        0.00001   \n",
       "25    Normalized           MAE        0.00001   \n",
       "26    Normalized           MAE        0.00001   \n",
       "\n",
       "                                      Initial_Weights  \\\n",
       "0                                     (0.0, 0.0, 0.0)   \n",
       "1                                     (0.1, 0.1, 0.1)   \n",
       "2   (-0.0008095019450254399, 0.0034561029535432643...   \n",
       "3                                     (0.1, 0.1, 0.1)   \n",
       "4   (-0.0008095019450254399, 0.0034561029535432643...   \n",
       "5                                     (0.0, 0.0, 0.0)   \n",
       "6                                     (0.1, 0.1, 0.1)   \n",
       "7   (-0.0008095019450254399, 0.0034561029535432643...   \n",
       "8                                     (0.0, 0.0, 0.0)   \n",
       "9                                     (0.1, 0.1, 0.1)   \n",
       "10  (-0.0008095019450254399, 0.0034561029535432643...   \n",
       "11                                    (0.0, 0.0, 0.0)   \n",
       "12                                    (0.1, 0.1, 0.1)   \n",
       "13  (-0.0008095019450254399, 0.0034561029535432643...   \n",
       "14                                    (0.0, 0.0, 0.0)   \n",
       "15                                    (0.1, 0.1, 0.1)   \n",
       "16  (-0.0008095019450254399, 0.0034561029535432643...   \n",
       "17                                    (0.0, 0.0, 0.0)   \n",
       "18                                    (0.1, 0.1, 0.1)   \n",
       "19  (-0.0008095019450254399, 0.0034561029535432643...   \n",
       "20                                    (0.0, 0.0, 0.0)   \n",
       "21                                    (0.1, 0.1, 0.1)   \n",
       "22                                    (0.1, 0.1, 0.1)   \n",
       "23  (-0.0008095019450254399, 0.0034561029535432643...   \n",
       "24                                    (0.0, 0.0, 0.0)   \n",
       "25  (-0.0008095019450254399, 0.0034561029535432643...   \n",
       "26                                    (0.0, 0.0, 0.0)   \n",
       "\n",
       "                                          Weights_raw  \\\n",
       "0   [5.01816187654278, 6.283904691357363, 1.135543...   \n",
       "1   [5.0166004938267905, 6.285862716048745, 1.1116...   \n",
       "2   [5.017439189413042, 6.304686720237419, 0.63715...   \n",
       "3   [5.007548316049207, 6.24645397530912, 0.644371...   \n",
       "4   [5.006344927684392, 6.243138769620673, 0.56411...   \n",
       "5   [5.00462019753064, 6.232967753086868, 0.549053...   \n",
       "6   [3.617496393086131, 0.6403988641975492, 0.1449...   \n",
       "7   [3.5271412239806383, 0.5402885473980458, 0.057...   \n",
       "8   [3.5275408809873916, 0.5369946172840103, 0.044...   \n",
       "9   [6.882833103328159, 1.3659667823491513, 3.7234...   \n",
       "10  [6.782229966307256, 1.2680949773198538, 3.6398...   \n",
       "11  [6.783078405030409, 1.264388325690308, 3.62812...   \n",
       "12  [3.872519126207672, 0.12948907882243285, 3.719...   \n",
       "13  [3.7720174666473194, 0.03152068035145748, 3.63...   \n",
       "14  [3.7728909998083613, 0.027768281101616388, 3.6...   \n",
       "15  [0.7793540717312467, 0.2197065896449412, 0.482...   \n",
       "16  [0.6785445697862976, 0.12316269259845682, 0.39...   \n",
       "17  [0.6793540717313225, 0.1197065896449122, 0.382...   \n",
       "18  [0.47932578519804997, 0.09335232668568053, 0.4...   \n",
       "19  [0.3785162832529987, -0.003191570360796943, 0....   \n",
       "20  [0.3793257851980243, -0.006647673314338898, 0....   \n",
       "21  [0.1379325785198255, 0.0993352326685403, 0.138...   \n",
       "22  [0.167935407173092, 0.11197065896449412, 0.138...   \n",
       "23  [0.06712590522811895, 0.015426761918034389, 0....   \n",
       "24  [0.0679354071731438, 0.011970658964489856, 0.0...   \n",
       "25  [0.03712307657477491, 0.0027913356221095816, 0...   \n",
       "26  [0.037932578519799934, -0.0006647673314339864,...   \n",
       "\n",
       "                                        Final_Weights     MSE_Final  \\\n",
       "0   [5.01816187654278, 6.283904691357363, 1.135543...    412.167477   \n",
       "1   [5.0166004938267905, 6.285862716048745, 1.1116...    412.194659   \n",
       "2   [5.017439189413042, 6.304686720237419, 0.63715...    416.377357   \n",
       "3   [5.007548316049207, 6.24645397530912, 0.644371...    416.256517   \n",
       "4   [5.006344927684392, 6.243138769620673, 0.56411...    417.087088   \n",
       "5   [5.00462019753064, 6.232967753086868, 0.549053...    417.440771   \n",
       "6   [3.617496393086131, 0.6403988641975492, 0.1449...  11309.454215   \n",
       "7   [3.5271412239806383, 0.5402885473980458, 0.057...  12297.928348   \n",
       "8   [3.5275408809873916, 0.5369946172840103, 0.044...  12301.337809   \n",
       "9   [0.11964077921483865, 0.16042554786508506, 2.8...  82820.985065   \n",
       "10  [0.11789204616785862, 0.14893102388012586, 2.8...  82892.449796   \n",
       "11  [0.1179067941456797, 0.14849569732160425, 2.87...  82893.106786   \n",
       "12  [0.03483483669947891, 0.010375727469746222, 8....  85447.179777   \n",
       "13  [0.033930784638091176, 0.0025256955409821693, ...  85499.065198   \n",
       "14  [0.033938642413359615, 0.0022250225241679795, ...  85499.862934   \n",
       "15  [0.013547114542280076, 0.0258033727238543, 0.3...  86627.427143   \n",
       "16  [0.011794794359022764, 0.014464804482775545, 0...  86701.162866   \n",
       "17  [0.011808865518678206, 0.014058903536306691, 0...  86701.946245   \n",
       "18  [0.004311724463856955, 0.007480154381865427, 1...  86905.785178   \n",
       "19  [0.0034049032388187134, -0.0002557348045510371...  86961.716277   \n",
       "20  [0.003412185028047858, -0.0005326661309566424,...  86962.736992   \n",
       "21  [0.0012407579386138593, 0.00795955389972278, 0...  87058.352465   \n",
       "22  [0.002919135575470308, 0.013150359541175213, 0...  87014.915211   \n",
       "23  [0.0011668153922125783, 0.0018117913000993517,...  87088.855315   \n",
       "24  [0.0011808865518680212, 0.0014058903536305091,...  87089.647033   \n",
       "25  [0.0003339367135756235, 0.00022366471331006262...  87114.682596   \n",
       "26  [0.0003412185028047634, -5.326661309567198e-05...  87115.723265   \n",
       "\n",
       "    RMSE_Final   MAE_Final  Iterations  \n",
       "0    20.301908   15.825815        4949  \n",
       "1    20.302578   15.829857        4256  \n",
       "2    20.405327   15.896891        1382  \n",
       "3    20.402365   15.919502        9749  \n",
       "4    20.422710   15.934524        9694  \n",
       "5    20.431367   15.945192        9521  \n",
       "6   106.345918   85.443627       10000  \n",
       "7   110.896025   88.983460       10000  \n",
       "8   110.911396   89.000437       10000  \n",
       "9   287.786353  210.517090       10000  \n",
       "10  287.910489  210.627774       10000  \n",
       "11  287.911630  210.631869       10000  \n",
       "12  292.313496  212.646157       10000  \n",
       "13  292.402232  212.775543       10000  \n",
       "14  292.403596  212.779936       10000  \n",
       "15  294.325376  215.969636       10000  \n",
       "16  294.450612  216.083182       10000  \n",
       "17  294.451942  216.087814       10000  \n",
       "18  294.797872  216.133109       10000  \n",
       "19  294.892720  216.273558       10000  \n",
       "20  294.894451  216.278678       10000  \n",
       "21  295.056524  216.514751       10000  \n",
       "22  294.982907  216.529727       10000  \n",
       "23  295.108210  216.643273       10000  \n",
       "24  295.109551  216.647905       10000  \n",
       "25  295.151965  216.661383       10000  \n",
       "26  295.153728  216.666834       10000  "
      ]
     },
     "execution_count": 14,
     "metadata": {},
     "output_type": "execute_result"
    }
   ],
   "source": [
    "df_result_mae = df_result[df_result['Loss_Function'] == 'MAE'].sort_values(by='MAE_Final').drop(columns='Final_Loss').reset_index(drop=True)\n",
    "df_result_mae"
   ]
  }
 ],
 "metadata": {
  "kernelspec": {
   "display_name": "rna_tarefas_mestrado (3.13.5)",
   "language": "python",
   "name": "python3"
  },
  "language_info": {
   "codemirror_mode": {
    "name": "ipython",
    "version": 3
   },
   "file_extension": ".py",
   "mimetype": "text/x-python",
   "name": "python",
   "nbconvert_exporter": "python",
   "pygments_lexer": "ipython3",
   "version": "3.13.5"
  }
 },
 "nbformat": 4,
 "nbformat_minor": 5
}
