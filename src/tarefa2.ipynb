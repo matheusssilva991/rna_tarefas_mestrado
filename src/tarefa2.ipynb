{
 "cells": [
  {
   "cell_type": "code",
   "execution_count": 1,
   "id": "749e9c66",
   "metadata": {},
   "outputs": [],
   "source": [
    "import numpy as np\n",
    "import sys\n",
    "import os\n",
    "from typing import Sequence\n",
    "import pandas as pd\n",
    "import matplotlib.pyplot as plt\n",
    "import plotly.express as px\n",
    "import plotly.graph_objects as go\n",
    "\n",
    "sys.path.append(os.path.abspath(\"../libs\"))\n",
    "sys.path.append(os.path.abspath(\"../utils\"))\n",
    "\n",
    "from gradient_descendent import gradient_descendent\n",
    "from normalize import min_max_normalize, padronize\n",
    "from loss_fn_tarefa2 import make_mse_loss_function, make_mae_loss_function, make_rmse_loss_function"
   ]
  },
  {
   "cell_type": "markdown",
   "id": "f77a74e5",
   "metadata": {},
   "source": [
    "# Ajuste de curva por otimização"
   ]
  },
  {
   "cell_type": "markdown",
   "id": "76c8d133",
   "metadata": {},
   "source": [
    "## Carregar os dados"
   ]
  },
  {
   "cell_type": "code",
   "execution_count": 2,
   "id": "037534c3",
   "metadata": {},
   "outputs": [
    {
     "data": {
      "text/html": [
       "<div>\n",
       "<style scoped>\n",
       "    .dataframe tbody tr th:only-of-type {\n",
       "        vertical-align: middle;\n",
       "    }\n",
       "\n",
       "    .dataframe tbody tr th {\n",
       "        vertical-align: top;\n",
       "    }\n",
       "\n",
       "    .dataframe thead th {\n",
       "        text-align: right;\n",
       "    }\n",
       "</style>\n",
       "<table border=\"1\" class=\"dataframe\">\n",
       "  <thead>\n",
       "    <tr style=\"text-align: right;\">\n",
       "      <th></th>\n",
       "      <th>x</th>\n",
       "      <th>y</th>\n",
       "      <th>z</th>\n",
       "    </tr>\n",
       "  </thead>\n",
       "  <tbody>\n",
       "    <tr>\n",
       "      <th>0</th>\n",
       "      <td>-5.0</td>\n",
       "      <td>-5.0</td>\n",
       "      <td>-458.963629</td>\n",
       "    </tr>\n",
       "    <tr>\n",
       "      <th>1</th>\n",
       "      <td>-5.0</td>\n",
       "      <td>-3.8</td>\n",
       "      <td>-520.361381</td>\n",
       "    </tr>\n",
       "    <tr>\n",
       "      <th>2</th>\n",
       "      <td>-5.0</td>\n",
       "      <td>-2.6</td>\n",
       "      <td>-593.039231</td>\n",
       "    </tr>\n",
       "    <tr>\n",
       "      <th>3</th>\n",
       "      <td>-5.0</td>\n",
       "      <td>-1.4</td>\n",
       "      <td>-606.776605</td>\n",
       "    </tr>\n",
       "    <tr>\n",
       "      <th>4</th>\n",
       "      <td>-5.0</td>\n",
       "      <td>-0.2</td>\n",
       "      <td>-657.401892</td>\n",
       "    </tr>\n",
       "  </tbody>\n",
       "</table>\n",
       "</div>"
      ],
      "text/plain": [
       "     x    y           z\n",
       "0 -5.0 -5.0 -458.963629\n",
       "1 -5.0 -3.8 -520.361381\n",
       "2 -5.0 -2.6 -593.039231\n",
       "3 -5.0 -1.4 -606.776605\n",
       "4 -5.0 -0.2 -657.401892"
      ]
     },
     "execution_count": 2,
     "metadata": {},
     "output_type": "execute_result"
    }
   ],
   "source": [
    "# Carregamento dos dados\n",
    "df = pd.read_excel('../data/Trabalho2dados.xlsx')\n",
    "\n",
    "df.head()"
   ]
  },
  {
   "cell_type": "markdown",
   "id": "1983fdde",
   "metadata": {},
   "source": [
    "## EDA dados"
   ]
  },
  {
   "cell_type": "code",
   "execution_count": 3,
   "id": "d9f7363f",
   "metadata": {},
   "outputs": [
    {
     "data": {
      "text/html": [
       "<div>\n",
       "<style scoped>\n",
       "    .dataframe tbody tr th:only-of-type {\n",
       "        vertical-align: middle;\n",
       "    }\n",
       "\n",
       "    .dataframe tbody tr th {\n",
       "        vertical-align: top;\n",
       "    }\n",
       "\n",
       "    .dataframe thead th {\n",
       "        text-align: right;\n",
       "    }\n",
       "</style>\n",
       "<table border=\"1\" class=\"dataframe\">\n",
       "  <thead>\n",
       "    <tr style=\"text-align: right;\">\n",
       "      <th></th>\n",
       "      <th>x</th>\n",
       "      <th>y</th>\n",
       "      <th>z</th>\n",
       "    </tr>\n",
       "  </thead>\n",
       "  <tbody>\n",
       "    <tr>\n",
       "      <th>count</th>\n",
       "      <td>81.000000</td>\n",
       "      <td>81.000000</td>\n",
       "      <td>81.000000</td>\n",
       "    </tr>\n",
       "    <tr>\n",
       "      <th>mean</th>\n",
       "      <td>-0.200000</td>\n",
       "      <td>-0.200000</td>\n",
       "      <td>36.990573</td>\n",
       "    </tr>\n",
       "    <tr>\n",
       "      <th>std</th>\n",
       "      <td>3.117691</td>\n",
       "      <td>3.117691</td>\n",
       "      <td>294.680404</td>\n",
       "    </tr>\n",
       "    <tr>\n",
       "      <th>min</th>\n",
       "      <td>-5.000000</td>\n",
       "      <td>-5.000000</td>\n",
       "      <td>-657.401892</td>\n",
       "    </tr>\n",
       "    <tr>\n",
       "      <th>25%</th>\n",
       "      <td>-2.600000</td>\n",
       "      <td>-2.600000</td>\n",
       "      <td>-42.780939</td>\n",
       "    </tr>\n",
       "    <tr>\n",
       "      <th>50%</th>\n",
       "      <td>-0.200000</td>\n",
       "      <td>-0.200000</td>\n",
       "      <td>59.403645</td>\n",
       "    </tr>\n",
       "    <tr>\n",
       "      <th>75%</th>\n",
       "      <td>2.200000</td>\n",
       "      <td>2.200000</td>\n",
       "      <td>170.599518</td>\n",
       "    </tr>\n",
       "    <tr>\n",
       "      <th>max</th>\n",
       "      <td>4.600000</td>\n",
       "      <td>4.600000</td>\n",
       "      <td>614.700100</td>\n",
       "    </tr>\n",
       "  </tbody>\n",
       "</table>\n",
       "</div>"
      ],
      "text/plain": [
       "               x          y           z\n",
       "count  81.000000  81.000000   81.000000\n",
       "mean   -0.200000  -0.200000   36.990573\n",
       "std     3.117691   3.117691  294.680404\n",
       "min    -5.000000  -5.000000 -657.401892\n",
       "25%    -2.600000  -2.600000  -42.780939\n",
       "50%    -0.200000  -0.200000   59.403645\n",
       "75%     2.200000   2.200000  170.599518\n",
       "max     4.600000   4.600000  614.700100"
      ]
     },
     "execution_count": 3,
     "metadata": {},
     "output_type": "execute_result"
    }
   ],
   "source": [
    "df.describe()"
   ]
  },
  {
   "cell_type": "code",
   "execution_count": 4,
   "id": "ef14e37c",
   "metadata": {},
   "outputs": [
    {
     "data": {
      "text/plain": [
       "x    0\n",
       "y    0\n",
       "z    0\n",
       "dtype: int64"
      ]
     },
     "execution_count": 4,
     "metadata": {},
     "output_type": "execute_result"
    }
   ],
   "source": [
    "df.isna().sum()"
   ]
  },
  {
   "cell_type": "code",
   "execution_count": 5,
   "id": "32edf9b1",
   "metadata": {},
   "outputs": [
    {
     "data": {
      "application/vnd.plotly.v1+json": {
       "config": {
        "plotlyServerURL": "https://plot.ly"
       },
       "data": [
        {
         "colorscale": [
          [
           0,
           "#440154"
          ],
          [
           0.1111111111111111,
           "#482878"
          ],
          [
           0.2222222222222222,
           "#3e4989"
          ],
          [
           0.3333333333333333,
           "#31688e"
          ],
          [
           0.4444444444444444,
           "#26828e"
          ],
          [
           0.5555555555555556,
           "#1f9e89"
          ],
          [
           0.6666666666666666,
           "#35b779"
          ],
          [
           0.7777777777777778,
           "#6ece58"
          ],
          [
           0.8888888888888888,
           "#b5de2b"
          ],
          [
           1,
           "#fde725"
          ]
         ],
         "contours": {
          "z": {
           "highlightcolor": "white",
           "project": {
            "z": true
           },
           "show": true,
           "usecolormap": true
          }
         },
         "name": "Superfície dos Dados",
         "opacity": 0.9,
         "type": "surface",
         "x": {
          "bdata": "AAAAAAAAFMBmZmZmZmYOwM3MzMzMzATAaGZmZmZm9r+gmZmZmZnJvwAAAAAAAPA/mZmZmZmZAUAyMzMzMzMLQGZmZmZmZhJA",
          "dtype": "f8"
         },
         "y": {
          "bdata": "AAAAAAAAFMBmZmZmZmYOwM3MzMzMzATAaGZmZmZm9r+gmZmZmZnJvwAAAAAAAPA/mZmZmZmZAUAyMzMzMzMLQGZmZmZmZhJA",
          "dtype": "f8"
         },
         "z": {
          "bdata": "9sghBmuvfMC0I0+f2t1hwK8LugEe2lJAqRchANEXY0CXyXr2YdNiQAXkA6qEaGRAYRUI67oQZkCrc0pJRUR3QPvexyqfJYNA56vLG+RCgMBgZFWNY0RmwEa0ZU71tjdASHovQizPUEC2yUt2ioZXQIE/ymEiEFJAofS3QC9TZUDm0Y69RzpxQBxk+a3Gm4JAh69vWFCIgsDr2fnzbGBtwMXwCs/1Y0XAAKbl/Ohw5z+MPGrMWAZUQIPM0KKqs01AdnFhUEEJY0BYWYDTU69vQGvDh4ASt4BAxGnZfDb2gsC8hbDvayFqwFXOkBgITEHATybcMR6bRkD4ZK9QxgMSQLZw2jvWoCRAbl3iWwiMV0AD6gnTpuNpQNwbLrpiU4BAAeQkEzeLhMAk6/XeOCtuwLj38j6P0FXA/Yd56iUkL8DWRXvas+Q5QPddrDvbtSpAiXUrThCVTEAi8fVSARFpQN9/ze8BZX9ANYX9+71QgsBaaZmAw0RzwKEVjb8aVVDAjlnf8IZjEUDsg/0U6SE2QBSM3YxpuTtAIlxfPf9zU0AmTk5q1SNpQMAYRqOGBIBA/M43o1W0gsACTn1vyk9swPoCevfMxUHAOsIQ26pKQkAcJJh7USlBQOqpfkVp8jlAN2AcB9zjUUAW4wxTc+FqQNasiNjrAH9AUTA5arzNgcDHxNnozt5rwPVOnU/RQxvAfddQOV36UEA6vegZHBdNQIdtQ2USplNAhP5SrQhFZUCdRKEKSBtwQJ8BCeQTDYFAihsM/ebRfsBpdWkKCdBhwBqUJlS9rFBAp8B+eU9JWkAiG2r8lmdgQIRpKZrCnmJAx2bRaHMgakCkRVdKg5R0QNmH6s2ZNYNA",
          "dtype": "f8",
          "shape": "9, 9"
         }
        },
        {
         "marker": {
          "color": "red",
          "size": 3,
          "symbol": "circle"
         },
         "mode": "markers",
         "name": "Pontos de Dados Originais",
         "type": "scatter3d",
         "x": {
          "bdata": "AAAAAAAAFMAAAAAAAAAUwAAAAAAAABTAAAAAAAAAFMAAAAAAAAAUwAAAAAAAABTAAAAAAAAAFMAAAAAAAAAUwAAAAAAAABTAZmZmZmZmDsBmZmZmZmYOwGZmZmZmZg7AZmZmZmZmDsBmZmZmZmYOwGZmZmZmZg7AZmZmZmZmDsBmZmZmZmYOwGZmZmZmZg7AzczMzMzMBMDNzMzMzMwEwM3MzMzMzATAzczMzMzMBMDNzMzMzMwEwM3MzMzMzATAzczMzMzMBMDNzMzMzMwEwM3MzMzMzATAaGZmZmZm9r9oZmZmZmb2v2hmZmZmZva/aGZmZmZm9r9oZmZmZmb2v2hmZmZmZva/aGZmZmZm9r9oZmZmZmb2v2hmZmZmZva/oJmZmZmZyb+gmZmZmZnJv6CZmZmZmcm/oJmZmZmZyb+gmZmZmZnJv6CZmZmZmcm/oJmZmZmZyb+gmZmZmZnJv6CZmZmZmcm/AAAAAAAA8D8AAAAAAADwPwAAAAAAAPA/AAAAAAAA8D8AAAAAAADwPwAAAAAAAPA/AAAAAAAA8D8AAAAAAADwPwAAAAAAAPA/mZmZmZmZAUCZmZmZmZkBQJmZmZmZmQFAmZmZmZmZAUCZmZmZmZkBQJmZmZmZmQFAmZmZmZmZAUCZmZmZmZkBQJmZmZmZmQFAMjMzMzMzC0AyMzMzMzMLQDIzMzMzMwtAMjMzMzMzC0AyMzMzMzMLQDIzMzMzMwtAMjMzMzMzC0AyMzMzMzMLQDIzMzMzMwtAZmZmZmZmEkBmZmZmZmYSQGZmZmZmZhJAZmZmZmZmEkBmZmZmZmYSQGZmZmZmZhJAZmZmZmZmEkBmZmZmZmYSQGZmZmZmZhJA",
          "dtype": "f8"
         },
         "y": {
          "bdata": "AAAAAAAAFMBmZmZmZmYOwM3MzMzMzATAaGZmZmZm9r+gmZmZmZnJvwAAAAAAAPA/mZmZmZmZAUAyMzMzMzMLQGZmZmZmZhJAAAAAAAAAFMBmZmZmZmYOwM3MzMzMzATAaGZmZmZm9r+gmZmZmZnJvwAAAAAAAPA/mZmZmZmZAUAyMzMzMzMLQGZmZmZmZhJAAAAAAAAAFMBmZmZmZmYOwM3MzMzMzATAaGZmZmZm9r+gmZmZmZnJvwAAAAAAAPA/mZmZmZmZAUAyMzMzMzMLQGZmZmZmZhJAAAAAAAAAFMBmZmZmZmYOwM3MzMzMzATAaGZmZmZm9r+gmZmZmZnJvwAAAAAAAPA/mZmZmZmZAUAyMzMzMzMLQGZmZmZmZhJAAAAAAAAAFMBmZmZmZmYOwM3MzMzMzATAaGZmZmZm9r+gmZmZmZnJvwAAAAAAAPA/mZmZmZmZAUAyMzMzMzMLQGZmZmZmZhJAAAAAAAAAFMBmZmZmZmYOwM3MzMzMzATAaGZmZmZm9r+gmZmZmZnJvwAAAAAAAPA/mZmZmZmZAUAyMzMzMzMLQGZmZmZmZhJAAAAAAAAAFMBmZmZmZmYOwM3MzMzMzATAaGZmZmZm9r+gmZmZmZnJvwAAAAAAAPA/mZmZmZmZAUAyMzMzMzMLQGZmZmZmZhJAAAAAAAAAFMBmZmZmZmYOwM3MzMzMzATAaGZmZmZm9r+gmZmZmZnJvwAAAAAAAPA/mZmZmZmZAUAyMzMzMzMLQGZmZmZmZhJAAAAAAAAAFMBmZmZmZmYOwM3MzMzMzATAaGZmZmZm9r+gmZmZmZnJvwAAAAAAAPA/mZmZmZmZAUAyMzMzMzMLQGZmZmZmZhJA",
          "dtype": "f8"
         },
         "z": {
          "bdata": "9sghBmuvfMDnq8sb5EKAwIevb1hQiILAxGnZfDb2gsAB5CQTN4uEwDWF/fu9UILA/M43o1W0gsBRMDlqvM2BwIobDP3m0X7AtCNPn9rdYcBgZFWNY0RmwOvZ+fNsYG3AvIWw72shasAk6/XeOCtuwFppmYDDRHPAAk59b8pPbMDHxNnozt5rwGl1aQoJ0GHArwu6AR7aUkBGtGVO9bY3QMXwCs/1Y0XAVc6QGAhMQcC49/I+j9BVwKEVjb8aVVDA+gJ698zFQcD1Tp1P0UMbwBqUJlS9rFBAqRchANEXY0BIei9CLM9QQACm5fzocOc/TybcMR6bRkD9h3nqJSQvwI5Z3/CGYxFAOsIQ26pKQkB911A5XfpQQKfAfnlPSVpAl8l69mHTYkC2yUt2ioZXQIw8asxYBlRA+GSvUMYDEkDWRXvas+Q5QOyD/RTpITZAHCSYe1EpQUA6vegZHBdNQCIbavyWZ2BABeQDqoRoZECBP8phIhBSQIPM0KKqs01AtnDaO9agJED3Xaw727UqQBSM3YxpuTtA6ql+RWnyOUCHbUNlEqZTQIRpKZrCnmJAYRUI67oQZkCh9LdAL1NlQHZxYVBBCWNAbl3iWwiMV0CJdStOEJVMQCJcXz3/c1NAN2AcB9zjUUCE/lKtCEVlQMdm0WhzIGpAq3NKSUVEd0Dm0Y69RzpxQFhZgNNTr29AA+oJ06bjaUAi8fVSARFpQCZOTmrVI2lAFuMMU3PhakCdRKEKSBtwQKRFV0qDlHRA+97HKp8lg0AcZPmtxpuCQGvDh4ASt4BA3BsuumJTgEDff83vAWV/QMAYRqOGBIBA1qyI2OsAf0CfAQnkEw2BQNmH6s2ZNYNA",
          "dtype": "f8"
         }
        }
       ],
       "layout": {
        "margin": {
         "b": 0,
         "l": 0,
         "r": 0,
         "t": 50
        },
        "scene": {
         "xaxis": {
          "title": {
           "text": "Eixo X"
          }
         },
         "yaxis": {
          "title": {
           "text": "Eixo Y"
          }
         },
         "zaxis": {
          "title": {
           "text": "Eixo Z (Valor)"
          }
         }
        },
        "template": {
         "data": {
          "bar": [
           {
            "error_x": {
             "color": "#2a3f5f"
            },
            "error_y": {
             "color": "#2a3f5f"
            },
            "marker": {
             "line": {
              "color": "#E5ECF6",
              "width": 0.5
             },
             "pattern": {
              "fillmode": "overlay",
              "size": 10,
              "solidity": 0.2
             }
            },
            "type": "bar"
           }
          ],
          "barpolar": [
           {
            "marker": {
             "line": {
              "color": "#E5ECF6",
              "width": 0.5
             },
             "pattern": {
              "fillmode": "overlay",
              "size": 10,
              "solidity": 0.2
             }
            },
            "type": "barpolar"
           }
          ],
          "carpet": [
           {
            "aaxis": {
             "endlinecolor": "#2a3f5f",
             "gridcolor": "white",
             "linecolor": "white",
             "minorgridcolor": "white",
             "startlinecolor": "#2a3f5f"
            },
            "baxis": {
             "endlinecolor": "#2a3f5f",
             "gridcolor": "white",
             "linecolor": "white",
             "minorgridcolor": "white",
             "startlinecolor": "#2a3f5f"
            },
            "type": "carpet"
           }
          ],
          "choropleth": [
           {
            "colorbar": {
             "outlinewidth": 0,
             "ticks": ""
            },
            "type": "choropleth"
           }
          ],
          "contour": [
           {
            "colorbar": {
             "outlinewidth": 0,
             "ticks": ""
            },
            "colorscale": [
             [
              0,
              "#0d0887"
             ],
             [
              0.1111111111111111,
              "#46039f"
             ],
             [
              0.2222222222222222,
              "#7201a8"
             ],
             [
              0.3333333333333333,
              "#9c179e"
             ],
             [
              0.4444444444444444,
              "#bd3786"
             ],
             [
              0.5555555555555556,
              "#d8576b"
             ],
             [
              0.6666666666666666,
              "#ed7953"
             ],
             [
              0.7777777777777778,
              "#fb9f3a"
             ],
             [
              0.8888888888888888,
              "#fdca26"
             ],
             [
              1,
              "#f0f921"
             ]
            ],
            "type": "contour"
           }
          ],
          "contourcarpet": [
           {
            "colorbar": {
             "outlinewidth": 0,
             "ticks": ""
            },
            "type": "contourcarpet"
           }
          ],
          "heatmap": [
           {
            "colorbar": {
             "outlinewidth": 0,
             "ticks": ""
            },
            "colorscale": [
             [
              0,
              "#0d0887"
             ],
             [
              0.1111111111111111,
              "#46039f"
             ],
             [
              0.2222222222222222,
              "#7201a8"
             ],
             [
              0.3333333333333333,
              "#9c179e"
             ],
             [
              0.4444444444444444,
              "#bd3786"
             ],
             [
              0.5555555555555556,
              "#d8576b"
             ],
             [
              0.6666666666666666,
              "#ed7953"
             ],
             [
              0.7777777777777778,
              "#fb9f3a"
             ],
             [
              0.8888888888888888,
              "#fdca26"
             ],
             [
              1,
              "#f0f921"
             ]
            ],
            "type": "heatmap"
           }
          ],
          "histogram": [
           {
            "marker": {
             "pattern": {
              "fillmode": "overlay",
              "size": 10,
              "solidity": 0.2
             }
            },
            "type": "histogram"
           }
          ],
          "histogram2d": [
           {
            "colorbar": {
             "outlinewidth": 0,
             "ticks": ""
            },
            "colorscale": [
             [
              0,
              "#0d0887"
             ],
             [
              0.1111111111111111,
              "#46039f"
             ],
             [
              0.2222222222222222,
              "#7201a8"
             ],
             [
              0.3333333333333333,
              "#9c179e"
             ],
             [
              0.4444444444444444,
              "#bd3786"
             ],
             [
              0.5555555555555556,
              "#d8576b"
             ],
             [
              0.6666666666666666,
              "#ed7953"
             ],
             [
              0.7777777777777778,
              "#fb9f3a"
             ],
             [
              0.8888888888888888,
              "#fdca26"
             ],
             [
              1,
              "#f0f921"
             ]
            ],
            "type": "histogram2d"
           }
          ],
          "histogram2dcontour": [
           {
            "colorbar": {
             "outlinewidth": 0,
             "ticks": ""
            },
            "colorscale": [
             [
              0,
              "#0d0887"
             ],
             [
              0.1111111111111111,
              "#46039f"
             ],
             [
              0.2222222222222222,
              "#7201a8"
             ],
             [
              0.3333333333333333,
              "#9c179e"
             ],
             [
              0.4444444444444444,
              "#bd3786"
             ],
             [
              0.5555555555555556,
              "#d8576b"
             ],
             [
              0.6666666666666666,
              "#ed7953"
             ],
             [
              0.7777777777777778,
              "#fb9f3a"
             ],
             [
              0.8888888888888888,
              "#fdca26"
             ],
             [
              1,
              "#f0f921"
             ]
            ],
            "type": "histogram2dcontour"
           }
          ],
          "mesh3d": [
           {
            "colorbar": {
             "outlinewidth": 0,
             "ticks": ""
            },
            "type": "mesh3d"
           }
          ],
          "parcoords": [
           {
            "line": {
             "colorbar": {
              "outlinewidth": 0,
              "ticks": ""
             }
            },
            "type": "parcoords"
           }
          ],
          "pie": [
           {
            "automargin": true,
            "type": "pie"
           }
          ],
          "scatter": [
           {
            "fillpattern": {
             "fillmode": "overlay",
             "size": 10,
             "solidity": 0.2
            },
            "type": "scatter"
           }
          ],
          "scatter3d": [
           {
            "line": {
             "colorbar": {
              "outlinewidth": 0,
              "ticks": ""
             }
            },
            "marker": {
             "colorbar": {
              "outlinewidth": 0,
              "ticks": ""
             }
            },
            "type": "scatter3d"
           }
          ],
          "scattercarpet": [
           {
            "marker": {
             "colorbar": {
              "outlinewidth": 0,
              "ticks": ""
             }
            },
            "type": "scattercarpet"
           }
          ],
          "scattergeo": [
           {
            "marker": {
             "colorbar": {
              "outlinewidth": 0,
              "ticks": ""
             }
            },
            "type": "scattergeo"
           }
          ],
          "scattergl": [
           {
            "marker": {
             "colorbar": {
              "outlinewidth": 0,
              "ticks": ""
             }
            },
            "type": "scattergl"
           }
          ],
          "scattermap": [
           {
            "marker": {
             "colorbar": {
              "outlinewidth": 0,
              "ticks": ""
             }
            },
            "type": "scattermap"
           }
          ],
          "scattermapbox": [
           {
            "marker": {
             "colorbar": {
              "outlinewidth": 0,
              "ticks": ""
             }
            },
            "type": "scattermapbox"
           }
          ],
          "scatterpolar": [
           {
            "marker": {
             "colorbar": {
              "outlinewidth": 0,
              "ticks": ""
             }
            },
            "type": "scatterpolar"
           }
          ],
          "scatterpolargl": [
           {
            "marker": {
             "colorbar": {
              "outlinewidth": 0,
              "ticks": ""
             }
            },
            "type": "scatterpolargl"
           }
          ],
          "scatterternary": [
           {
            "marker": {
             "colorbar": {
              "outlinewidth": 0,
              "ticks": ""
             }
            },
            "type": "scatterternary"
           }
          ],
          "surface": [
           {
            "colorbar": {
             "outlinewidth": 0,
             "ticks": ""
            },
            "colorscale": [
             [
              0,
              "#0d0887"
             ],
             [
              0.1111111111111111,
              "#46039f"
             ],
             [
              0.2222222222222222,
              "#7201a8"
             ],
             [
              0.3333333333333333,
              "#9c179e"
             ],
             [
              0.4444444444444444,
              "#bd3786"
             ],
             [
              0.5555555555555556,
              "#d8576b"
             ],
             [
              0.6666666666666666,
              "#ed7953"
             ],
             [
              0.7777777777777778,
              "#fb9f3a"
             ],
             [
              0.8888888888888888,
              "#fdca26"
             ],
             [
              1,
              "#f0f921"
             ]
            ],
            "type": "surface"
           }
          ],
          "table": [
           {
            "cells": {
             "fill": {
              "color": "#EBF0F8"
             },
             "line": {
              "color": "white"
             }
            },
            "header": {
             "fill": {
              "color": "#C8D4E3"
             },
             "line": {
              "color": "white"
             }
            },
            "type": "table"
           }
          ]
         },
         "layout": {
          "annotationdefaults": {
           "arrowcolor": "#2a3f5f",
           "arrowhead": 0,
           "arrowwidth": 1
          },
          "autotypenumbers": "strict",
          "coloraxis": {
           "colorbar": {
            "outlinewidth": 0,
            "ticks": ""
           }
          },
          "colorscale": {
           "diverging": [
            [
             0,
             "#8e0152"
            ],
            [
             0.1,
             "#c51b7d"
            ],
            [
             0.2,
             "#de77ae"
            ],
            [
             0.3,
             "#f1b6da"
            ],
            [
             0.4,
             "#fde0ef"
            ],
            [
             0.5,
             "#f7f7f7"
            ],
            [
             0.6,
             "#e6f5d0"
            ],
            [
             0.7,
             "#b8e186"
            ],
            [
             0.8,
             "#7fbc41"
            ],
            [
             0.9,
             "#4d9221"
            ],
            [
             1,
             "#276419"
            ]
           ],
           "sequential": [
            [
             0,
             "#0d0887"
            ],
            [
             0.1111111111111111,
             "#46039f"
            ],
            [
             0.2222222222222222,
             "#7201a8"
            ],
            [
             0.3333333333333333,
             "#9c179e"
            ],
            [
             0.4444444444444444,
             "#bd3786"
            ],
            [
             0.5555555555555556,
             "#d8576b"
            ],
            [
             0.6666666666666666,
             "#ed7953"
            ],
            [
             0.7777777777777778,
             "#fb9f3a"
            ],
            [
             0.8888888888888888,
             "#fdca26"
            ],
            [
             1,
             "#f0f921"
            ]
           ],
           "sequentialminus": [
            [
             0,
             "#0d0887"
            ],
            [
             0.1111111111111111,
             "#46039f"
            ],
            [
             0.2222222222222222,
             "#7201a8"
            ],
            [
             0.3333333333333333,
             "#9c179e"
            ],
            [
             0.4444444444444444,
             "#bd3786"
            ],
            [
             0.5555555555555556,
             "#d8576b"
            ],
            [
             0.6666666666666666,
             "#ed7953"
            ],
            [
             0.7777777777777778,
             "#fb9f3a"
            ],
            [
             0.8888888888888888,
             "#fdca26"
            ],
            [
             1,
             "#f0f921"
            ]
           ]
          },
          "colorway": [
           "#636efa",
           "#EF553B",
           "#00cc96",
           "#ab63fa",
           "#FFA15A",
           "#19d3f3",
           "#FF6692",
           "#B6E880",
           "#FF97FF",
           "#FECB52"
          ],
          "font": {
           "color": "#2a3f5f"
          },
          "geo": {
           "bgcolor": "white",
           "lakecolor": "white",
           "landcolor": "#E5ECF6",
           "showlakes": true,
           "showland": true,
           "subunitcolor": "white"
          },
          "hoverlabel": {
           "align": "left"
          },
          "hovermode": "closest",
          "mapbox": {
           "style": "light"
          },
          "paper_bgcolor": "white",
          "plot_bgcolor": "#E5ECF6",
          "polar": {
           "angularaxis": {
            "gridcolor": "white",
            "linecolor": "white",
            "ticks": ""
           },
           "bgcolor": "#E5ECF6",
           "radialaxis": {
            "gridcolor": "white",
            "linecolor": "white",
            "ticks": ""
           }
          },
          "scene": {
           "xaxis": {
            "backgroundcolor": "#E5ECF6",
            "gridcolor": "white",
            "gridwidth": 2,
            "linecolor": "white",
            "showbackground": true,
            "ticks": "",
            "zerolinecolor": "white"
           },
           "yaxis": {
            "backgroundcolor": "#E5ECF6",
            "gridcolor": "white",
            "gridwidth": 2,
            "linecolor": "white",
            "showbackground": true,
            "ticks": "",
            "zerolinecolor": "white"
           },
           "zaxis": {
            "backgroundcolor": "#E5ECF6",
            "gridcolor": "white",
            "gridwidth": 2,
            "linecolor": "white",
            "showbackground": true,
            "ticks": "",
            "zerolinecolor": "white"
           }
          },
          "shapedefaults": {
           "line": {
            "color": "#2a3f5f"
           }
          },
          "ternary": {
           "aaxis": {
            "gridcolor": "white",
            "linecolor": "white",
            "ticks": ""
           },
           "baxis": {
            "gridcolor": "white",
            "linecolor": "white",
            "ticks": ""
           },
           "bgcolor": "#E5ECF6",
           "caxis": {
            "gridcolor": "white",
            "linecolor": "white",
            "ticks": ""
           }
          },
          "title": {
           "x": 0.05
          },
          "xaxis": {
           "automargin": true,
           "gridcolor": "white",
           "linecolor": "white",
           "ticks": "",
           "title": {
            "standoff": 15
           },
           "zerolinecolor": "white",
           "zerolinewidth": 2
          },
          "yaxis": {
           "automargin": true,
           "gridcolor": "white",
           "linecolor": "white",
           "ticks": "",
           "title": {
            "standoff": 15
           },
           "zerolinecolor": "white",
           "zerolinewidth": 2
          }
         }
        },
        "title": {
         "text": "z = f(x, y)",
         "x": 0.5
        }
       }
      }
     },
     "metadata": {},
     "output_type": "display_data"
    }
   ],
   "source": [
    "df_pivot = df.pivot(index='y', columns='x', values='z')\n",
    "\n",
    "# Extrair os componentes para o Plotly\n",
    "x_axis = df_pivot.columns.values  # Eixo X\n",
    "y_axis = df_pivot.index.values    # Eixo Y\n",
    "z_grid = df_pivot.values        # Valores Z (grid)\n",
    "\n",
    "fig = go.Figure()\n",
    "\n",
    "# Adicionar a Superfície\n",
    "fig.add_trace(go.Surface(\n",
    "    x=x_axis,\n",
    "    y=y_axis,\n",
    "    z=z_grid,\n",
    "    colorscale='Viridis',\n",
    "    opacity=0.9,\n",
    "    contours_z=dict(show=True, usecolormap=True, project_z=True, highlightcolor=\"white\"),\n",
    "    name='Superfície dos Dados'\n",
    "))\n",
    "\n",
    "# Adicionar os Pontos de Dados Originais\n",
    "fig.add_trace(go.Scatter3d(\n",
    "    x=df['x'],\n",
    "    y=df['y'],\n",
    "    z=df['z'],\n",
    "    mode='markers',\n",
    "    marker=dict(size=3, color='red', symbol='circle'),\n",
    "    name='Pontos de Dados Originais'\n",
    "))\n",
    "\n",
    "# Melhorar o Layout\n",
    "fig.update_layout(\n",
    "    title=dict(text='z = f(x, y)', x=0.5),\n",
    "    scene=dict(\n",
    "        xaxis_title='Eixo X',\n",
    "        yaxis_title='Eixo Y',\n",
    "        zaxis_title='Eixo Z (Valor)'\n",
    "    ),\n",
    "    margin=dict(l=0, r=0, b=0, t=50)\n",
    ")\n",
    "\n",
    "fig.show()"
   ]
  },
  {
   "cell_type": "code",
   "execution_count": 6,
   "id": "c90974b4",
   "metadata": {},
   "outputs": [
    {
     "data": {
      "text/plain": [
       "array([ 5.0081046 ,  5.73419945, 10.59963756])"
      ]
     },
     "execution_count": 6,
     "metadata": {},
     "output_type": "execute_result"
    }
   ],
   "source": [
    "X = np.column_stack([df['x'] ** 3, df['y'] ** 2, np.ones(len(df['x']))])\n",
    "\n",
    "true_weights = np.linalg.inv((X.T @ X) + (X.T @ X).T) @ (2 * X.T @ df['z'])\n",
    "true_weights"
   ]
  },
  {
   "cell_type": "markdown",
   "id": "a11523f5",
   "metadata": {},
   "source": [
    "## Calcular as funções de perda"
   ]
  },
  {
   "cell_type": "code",
   "execution_count": 7,
   "id": "5f2939c5",
   "metadata": {},
   "outputs": [
    {
     "data": {
      "text/html": [
       "<div>\n",
       "<style scoped>\n",
       "    .dataframe tbody tr th:only-of-type {\n",
       "        vertical-align: middle;\n",
       "    }\n",
       "\n",
       "    .dataframe tbody tr th {\n",
       "        vertical-align: top;\n",
       "    }\n",
       "\n",
       "    .dataframe thead th {\n",
       "        text-align: right;\n",
       "    }\n",
       "</style>\n",
       "<table border=\"1\" class=\"dataframe\">\n",
       "  <thead>\n",
       "    <tr style=\"text-align: right;\">\n",
       "      <th></th>\n",
       "      <th>Feature_Set</th>\n",
       "      <th>Loss_Function</th>\n",
       "      <th>Learning_Rate</th>\n",
       "      <th>Initial_Weights</th>\n",
       "      <th>Final_Weights</th>\n",
       "      <th>Final_Loss</th>\n",
       "      <th>Iterations</th>\n",
       "    </tr>\n",
       "  </thead>\n",
       "  <tbody>\n",
       "    <tr>\n",
       "      <th>0</th>\n",
       "      <td>Padronized</td>\n",
       "      <td>RMSE</td>\n",
       "      <td>0.01</td>\n",
       "      <td>(5.0, 5.0, 8.0)</td>\n",
       "      <td>[96.40771990606045, 17.932215962751602, 11.963...</td>\n",
       "      <td>112.919446</td>\n",
       "      <td>5000</td>\n",
       "    </tr>\n",
       "    <tr>\n",
       "      <th>1</th>\n",
       "      <td>Padronized</td>\n",
       "      <td>MAE</td>\n",
       "      <td>0.01</td>\n",
       "      <td>(5.0, 5.0, 8.0)</td>\n",
       "      <td>[67.37270415350716, 27.079370370370857, 20.064...</td>\n",
       "      <td>114.863634</td>\n",
       "      <td>5000</td>\n",
       "    </tr>\n",
       "    <tr>\n",
       "      <th>2</th>\n",
       "      <td>Padronized</td>\n",
       "      <td>RMSE</td>\n",
       "      <td>0.01</td>\n",
       "      <td>(0.0, 0.0, 0.0)</td>\n",
       "      <td>[91.09873212820592, 15.493380378739916, 6.3615...</td>\n",
       "      <td>123.502085</td>\n",
       "      <td>5000</td>\n",
       "    </tr>\n",
       "    <tr>\n",
       "      <th>3</th>\n",
       "      <td>Padronized</td>\n",
       "      <td>MAE</td>\n",
       "      <td>0.01</td>\n",
       "      <td>(0.0, 0.0, 0.0)</td>\n",
       "      <td>[62.30012157672005, 22.98651851852012, 14.6691...</td>\n",
       "      <td>124.111235</td>\n",
       "      <td>5000</td>\n",
       "    </tr>\n",
       "    <tr>\n",
       "      <th>4</th>\n",
       "      <td>Padronized</td>\n",
       "      <td>RMSE</td>\n",
       "      <td>0.01</td>\n",
       "      <td>(-1.0, -1.0, -1.0)</td>\n",
       "      <td>[90.03556304949578, 14.87148253872703, 5.69453...</td>\n",
       "      <td>125.669565</td>\n",
       "      <td>5000</td>\n",
       "    </tr>\n",
       "    <tr>\n",
       "      <th>5</th>\n",
       "      <td>Padronized</td>\n",
       "      <td>MAE</td>\n",
       "      <td>0.01</td>\n",
       "      <td>(-1.0, -1.0, -1.0)</td>\n",
       "      <td>[61.30182855826839, 22.084888888890365, 14.030...</td>\n",
       "      <td>125.903328</td>\n",
       "      <td>5000</td>\n",
       "    </tr>\n",
       "    <tr>\n",
       "      <th>6</th>\n",
       "      <td>Padronized</td>\n",
       "      <td>MSE</td>\n",
       "      <td>0.01</td>\n",
       "      <td>(5.0, 5.0, 8.0)</td>\n",
       "      <td>[149.7334226158865, 54.857842523741425, -17.86...</td>\n",
       "      <td>1221.550872</td>\n",
       "      <td>2714</td>\n",
       "    </tr>\n",
       "    <tr>\n",
       "      <th>7</th>\n",
       "      <td>Padronized</td>\n",
       "      <td>MSE</td>\n",
       "      <td>0.01</td>\n",
       "      <td>(0.0, 0.0, 0.0)</td>\n",
       "      <td>[149.7334226158865, 54.85784252079392, -17.867...</td>\n",
       "      <td>1221.550872</td>\n",
       "      <td>2701</td>\n",
       "    </tr>\n",
       "    <tr>\n",
       "      <th>8</th>\n",
       "      <td>Padronized</td>\n",
       "      <td>MSE</td>\n",
       "      <td>0.01</td>\n",
       "      <td>(-1.0, -1.0, -1.0)</td>\n",
       "      <td>[149.7334226158865, 54.857842526936, -17.86726...</td>\n",
       "      <td>1221.550872</td>\n",
       "      <td>2701</td>\n",
       "    </tr>\n",
       "  </tbody>\n",
       "</table>\n",
       "</div>"
      ],
      "text/plain": [
       "  Feature_Set Loss_Function  Learning_Rate     Initial_Weights  \\\n",
       "0  Padronized          RMSE           0.01     (5.0, 5.0, 8.0)   \n",
       "1  Padronized           MAE           0.01     (5.0, 5.0, 8.0)   \n",
       "2  Padronized          RMSE           0.01     (0.0, 0.0, 0.0)   \n",
       "3  Padronized           MAE           0.01     (0.0, 0.0, 0.0)   \n",
       "4  Padronized          RMSE           0.01  (-1.0, -1.0, -1.0)   \n",
       "5  Padronized           MAE           0.01  (-1.0, -1.0, -1.0)   \n",
       "6  Padronized           MSE           0.01     (5.0, 5.0, 8.0)   \n",
       "7  Padronized           MSE           0.01     (0.0, 0.0, 0.0)   \n",
       "8  Padronized           MSE           0.01  (-1.0, -1.0, -1.0)   \n",
       "\n",
       "                                       Final_Weights   Final_Loss  Iterations  \n",
       "0  [96.40771990606045, 17.932215962751602, 11.963...   112.919446        5000  \n",
       "1  [67.37270415350716, 27.079370370370857, 20.064...   114.863634        5000  \n",
       "2  [91.09873212820592, 15.493380378739916, 6.3615...   123.502085        5000  \n",
       "3  [62.30012157672005, 22.98651851852012, 14.6691...   124.111235        5000  \n",
       "4  [90.03556304949578, 14.87148253872703, 5.69453...   125.669565        5000  \n",
       "5  [61.30182855826839, 22.084888888890365, 14.030...   125.903328        5000  \n",
       "6  [149.7334226158865, 54.857842523741425, -17.86...  1221.550872        2714  \n",
       "7  [149.7334226158865, 54.85784252079392, -17.867...  1221.550872        2701  \n",
       "8  [149.7334226158865, 54.857842526936, -17.86726...  1221.550872        2701  "
      ]
     },
     "execution_count": 7,
     "metadata": {},
     "output_type": "execute_result"
    }
   ],
   "source": [
    "features = df[['x', 'y']]\n",
    "y = df['z']\n",
    "features_normalized = features.copy()\n",
    "features_normalized['x'] = min_max_normalize(features['x'], 0, 1)\n",
    "features_normalized['y'] = min_max_normalize(features['y'], 0, 1)\n",
    "\n",
    "features_pradonized = features.copy()\n",
    "features_pradonized['x'] = padronize(features['x'])\n",
    "features_pradonized['y'] = padronize(features['y'])\n",
    "\n",
    "features_list = [features_normalized, features_pradonized]\n",
    "features_names = ['Min-Max Normalized', 'Padronized']\n",
    "\n",
    "loss_fn_names = ['MSE', 'MAE', 'RMSE']\n",
    "loss_fn_makers = [make_mse_loss_function, make_mae_loss_function, make_rmse_loss_function]\n",
    "\n",
    "learning_rates = [0.01, 0.001, 0.0001]\n",
    "initial_weights = [np.zeros(3), np.array([5.0, 5.0, 8.0]), np.array([-1.0, -1.0, -1.0])]\n",
    "n_iterations = 5000\n",
    "tolerance = 1e-6\n",
    "\n",
    "dict_results = {}\n",
    "\n",
    "for feature_set, feature_name in zip(features_list, features_names):\n",
    "    x_data = feature_set['x'].values\n",
    "    y_data = feature_set['y'].values\n",
    "    z_data = y.values\n",
    "\n",
    "    for loss_fn_name, loss_fn_maker in zip(loss_fn_names, loss_fn_makers):\n",
    "        loss_function, grad_loss_function = loss_fn_maker(x_data, y_data, z_data)\n",
    "\n",
    "        for lr in learning_rates:\n",
    "            for initial_w in initial_weights:\n",
    "                weights, losses, n_iters = gradient_descendent(\n",
    "                    initial_w,\n",
    "                    loss_function,\n",
    "                    grad_loss_function,\n",
    "                    learning_rate=lr,\n",
    "                    max_iter=n_iterations,\n",
    "                    tolerance=tolerance\n",
    "                )\n",
    "\n",
    "                key = (feature_name, loss_fn_name, lr, tuple(initial_w))\n",
    "                dict_results[key] = {\n",
    "                    'weights': weights,\n",
    "                    'losses': losses,\n",
    "                    'n_iters': n_iters\n",
    "                }\n",
    "\n",
    "df_result = pd.DataFrame([\n",
    "    {\n",
    "        'Feature_Set': key[0],\n",
    "        'Loss_Function': key[1],\n",
    "        'Learning_Rate': key[2],\n",
    "        'Initial_Weights': key[3],\n",
    "        'Final_Weights': value['weights'][-1],\n",
    "        'Final_Loss': value['losses'][-1],\n",
    "        'Iterations': value['n_iters']\n",
    "    }\n",
    "    for key, value in dict_results.items()\n",
    "])\n",
    "\n",
    "\n",
    "df_result.sort_values(by='Final_Loss').groupby('Loss_Function').head(3).reset_index(drop=True)"
   ]
  },
  {
   "cell_type": "markdown",
   "id": "4636062a",
   "metadata": {},
   "source": [
    "## Resultados"
   ]
  },
  {
   "cell_type": "markdown",
   "id": "c21da672",
   "metadata": {},
   "source": [
    "### MSE"
   ]
  },
  {
   "cell_type": "code",
   "execution_count": null,
   "id": "be433092",
   "metadata": {},
   "outputs": [],
   "source": []
  }
 ],
 "metadata": {
  "kernelspec": {
   "display_name": "rna_tarefas_mestrado (3.13.5)",
   "language": "python",
   "name": "python3"
  },
  "language_info": {
   "codemirror_mode": {
    "name": "ipython",
    "version": 3
   },
   "file_extension": ".py",
   "mimetype": "text/x-python",
   "name": "python",
   "nbconvert_exporter": "python",
   "pygments_lexer": "ipython3",
   "version": "3.13.5"
  }
 },
 "nbformat": 4,
 "nbformat_minor": 5
}
