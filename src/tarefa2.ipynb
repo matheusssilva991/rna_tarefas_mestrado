{
 "cells": [
  {
   "cell_type": "code",
   "execution_count": 1,
   "id": "749e9c66",
   "metadata": {},
   "outputs": [],
   "source": [
    "import numpy as np\n",
    "import sys\n",
    "import os\n",
    "from typing import Sequence\n",
    "import pandas as pd\n",
    "import matplotlib.pyplot as plt\n",
    "import plotly.express as px\n",
    "import plotly.graph_objects as go\n",
    "\n",
    "sys.path.append(os.path.abspath(\"../libs\"))\n",
    "sys.path.append(os.path.abspath(\"../utils\"))\n",
    "\n",
    "from gradient_descendent import gradient_descendent\n",
    "from normalize import min_max_normalize, padronize\n",
    "from loss_fn_tarefa2 import make_mse_loss_function, make_mae_loss_function, make_rmse_loss_function"
   ]
  },
  {
   "cell_type": "markdown",
   "id": "f77a74e5",
   "metadata": {},
   "source": [
    "# Ajuste de curva por otimização"
   ]
  },
  {
   "cell_type": "markdown",
   "id": "76c8d133",
   "metadata": {},
   "source": [
    "## Carregar os dados"
   ]
  },
  {
   "cell_type": "code",
   "execution_count": 2,
   "id": "037534c3",
   "metadata": {},
   "outputs": [
    {
     "data": {
      "text/html": [
       "<div>\n",
       "<style scoped>\n",
       "    .dataframe tbody tr th:only-of-type {\n",
       "        vertical-align: middle;\n",
       "    }\n",
       "\n",
       "    .dataframe tbody tr th {\n",
       "        vertical-align: top;\n",
       "    }\n",
       "\n",
       "    .dataframe thead th {\n",
       "        text-align: right;\n",
       "    }\n",
       "</style>\n",
       "<table border=\"1\" class=\"dataframe\">\n",
       "  <thead>\n",
       "    <tr style=\"text-align: right;\">\n",
       "      <th></th>\n",
       "      <th>x</th>\n",
       "      <th>y</th>\n",
       "      <th>z</th>\n",
       "    </tr>\n",
       "  </thead>\n",
       "  <tbody>\n",
       "    <tr>\n",
       "      <th>0</th>\n",
       "      <td>-5.0</td>\n",
       "      <td>-5.0</td>\n",
       "      <td>-458.963629</td>\n",
       "    </tr>\n",
       "    <tr>\n",
       "      <th>1</th>\n",
       "      <td>-5.0</td>\n",
       "      <td>-3.8</td>\n",
       "      <td>-520.361381</td>\n",
       "    </tr>\n",
       "    <tr>\n",
       "      <th>2</th>\n",
       "      <td>-5.0</td>\n",
       "      <td>-2.6</td>\n",
       "      <td>-593.039231</td>\n",
       "    </tr>\n",
       "    <tr>\n",
       "      <th>3</th>\n",
       "      <td>-5.0</td>\n",
       "      <td>-1.4</td>\n",
       "      <td>-606.776605</td>\n",
       "    </tr>\n",
       "    <tr>\n",
       "      <th>4</th>\n",
       "      <td>-5.0</td>\n",
       "      <td>-0.2</td>\n",
       "      <td>-657.401892</td>\n",
       "    </tr>\n",
       "  </tbody>\n",
       "</table>\n",
       "</div>"
      ],
      "text/plain": [
       "     x    y           z\n",
       "0 -5.0 -5.0 -458.963629\n",
       "1 -5.0 -3.8 -520.361381\n",
       "2 -5.0 -2.6 -593.039231\n",
       "3 -5.0 -1.4 -606.776605\n",
       "4 -5.0 -0.2 -657.401892"
      ]
     },
     "execution_count": 2,
     "metadata": {},
     "output_type": "execute_result"
    }
   ],
   "source": [
    "# Carregamento dos dados\n",
    "df = pd.read_excel('../data/Trabalho2dados.xlsx')\n",
    "\n",
    "df.head()"
   ]
  },
  {
   "cell_type": "markdown",
   "id": "1983fdde",
   "metadata": {},
   "source": [
    "## EDA dados"
   ]
  },
  {
   "cell_type": "code",
   "execution_count": 3,
   "id": "d9f7363f",
   "metadata": {},
   "outputs": [
    {
     "data": {
      "text/html": [
       "<div>\n",
       "<style scoped>\n",
       "    .dataframe tbody tr th:only-of-type {\n",
       "        vertical-align: middle;\n",
       "    }\n",
       "\n",
       "    .dataframe tbody tr th {\n",
       "        vertical-align: top;\n",
       "    }\n",
       "\n",
       "    .dataframe thead th {\n",
       "        text-align: right;\n",
       "    }\n",
       "</style>\n",
       "<table border=\"1\" class=\"dataframe\">\n",
       "  <thead>\n",
       "    <tr style=\"text-align: right;\">\n",
       "      <th></th>\n",
       "      <th>x</th>\n",
       "      <th>y</th>\n",
       "      <th>z</th>\n",
       "    </tr>\n",
       "  </thead>\n",
       "  <tbody>\n",
       "    <tr>\n",
       "      <th>count</th>\n",
       "      <td>81.000000</td>\n",
       "      <td>81.000000</td>\n",
       "      <td>81.000000</td>\n",
       "    </tr>\n",
       "    <tr>\n",
       "      <th>mean</th>\n",
       "      <td>-0.200000</td>\n",
       "      <td>-0.200000</td>\n",
       "      <td>36.990573</td>\n",
       "    </tr>\n",
       "    <tr>\n",
       "      <th>std</th>\n",
       "      <td>3.117691</td>\n",
       "      <td>3.117691</td>\n",
       "      <td>294.680404</td>\n",
       "    </tr>\n",
       "    <tr>\n",
       "      <th>min</th>\n",
       "      <td>-5.000000</td>\n",
       "      <td>-5.000000</td>\n",
       "      <td>-657.401892</td>\n",
       "    </tr>\n",
       "    <tr>\n",
       "      <th>25%</th>\n",
       "      <td>-2.600000</td>\n",
       "      <td>-2.600000</td>\n",
       "      <td>-42.780939</td>\n",
       "    </tr>\n",
       "    <tr>\n",
       "      <th>50%</th>\n",
       "      <td>-0.200000</td>\n",
       "      <td>-0.200000</td>\n",
       "      <td>59.403645</td>\n",
       "    </tr>\n",
       "    <tr>\n",
       "      <th>75%</th>\n",
       "      <td>2.200000</td>\n",
       "      <td>2.200000</td>\n",
       "      <td>170.599518</td>\n",
       "    </tr>\n",
       "    <tr>\n",
       "      <th>max</th>\n",
       "      <td>4.600000</td>\n",
       "      <td>4.600000</td>\n",
       "      <td>614.700100</td>\n",
       "    </tr>\n",
       "  </tbody>\n",
       "</table>\n",
       "</div>"
      ],
      "text/plain": [
       "               x          y           z\n",
       "count  81.000000  81.000000   81.000000\n",
       "mean   -0.200000  -0.200000   36.990573\n",
       "std     3.117691   3.117691  294.680404\n",
       "min    -5.000000  -5.000000 -657.401892\n",
       "25%    -2.600000  -2.600000  -42.780939\n",
       "50%    -0.200000  -0.200000   59.403645\n",
       "75%     2.200000   2.200000  170.599518\n",
       "max     4.600000   4.600000  614.700100"
      ]
     },
     "execution_count": 3,
     "metadata": {},
     "output_type": "execute_result"
    }
   ],
   "source": [
    "df.describe()"
   ]
  },
  {
   "cell_type": "code",
   "execution_count": 4,
   "id": "ef14e37c",
   "metadata": {},
   "outputs": [
    {
     "data": {
      "text/plain": [
       "x    0\n",
       "y    0\n",
       "z    0\n",
       "dtype: int64"
      ]
     },
     "execution_count": 4,
     "metadata": {},
     "output_type": "execute_result"
    }
   ],
   "source": [
    "df.isna().sum()"
   ]
  },
  {
   "cell_type": "code",
   "execution_count": 5,
   "id": "32edf9b1",
   "metadata": {},
   "outputs": [
    {
     "data": {
      "application/vnd.plotly.v1+json": {
       "config": {
        "plotlyServerURL": "https://plot.ly"
       },
       "data": [
        {
         "colorscale": [
          [
           0,
           "#440154"
          ],
          [
           0.1111111111111111,
           "#482878"
          ],
          [
           0.2222222222222222,
           "#3e4989"
          ],
          [
           0.3333333333333333,
           "#31688e"
          ],
          [
           0.4444444444444444,
           "#26828e"
          ],
          [
           0.5555555555555556,
           "#1f9e89"
          ],
          [
           0.6666666666666666,
           "#35b779"
          ],
          [
           0.7777777777777778,
           "#6ece58"
          ],
          [
           0.8888888888888888,
           "#b5de2b"
          ],
          [
           1,
           "#fde725"
          ]
         ],
         "contours": {
          "z": {
           "highlightcolor": "white",
           "project": {
            "z": true
           },
           "show": true,
           "usecolormap": true
          }
         },
         "name": "Superfície dos Dados",
         "opacity": 0.9,
         "type": "surface",
         "x": {
          "bdata": "AAAAAAAAFMBmZmZmZmYOwM3MzMzMzATAaGZmZmZm9r+gmZmZmZnJvwAAAAAAAPA/mZmZmZmZAUAyMzMzMzMLQGZmZmZmZhJA",
          "dtype": "f8"
         },
         "y": {
          "bdata": "AAAAAAAAFMBmZmZmZmYOwM3MzMzMzATAaGZmZmZm9r+gmZmZmZnJvwAAAAAAAPA/mZmZmZmZAUAyMzMzMzMLQGZmZmZmZhJA",
          "dtype": "f8"
         },
         "z": {
          "bdata": "9sghBmuvfMC0I0+f2t1hwK8LugEe2lJAqRchANEXY0CXyXr2YdNiQAXkA6qEaGRAYRUI67oQZkCrc0pJRUR3QPvexyqfJYNA56vLG+RCgMBgZFWNY0RmwEa0ZU71tjdASHovQizPUEC2yUt2ioZXQIE/ymEiEFJAofS3QC9TZUDm0Y69RzpxQBxk+a3Gm4JAh69vWFCIgsDr2fnzbGBtwMXwCs/1Y0XAAKbl/Ohw5z+MPGrMWAZUQIPM0KKqs01AdnFhUEEJY0BYWYDTU69vQGvDh4ASt4BAxGnZfDb2gsC8hbDvayFqwFXOkBgITEHATybcMR6bRkD4ZK9QxgMSQLZw2jvWoCRAbl3iWwiMV0AD6gnTpuNpQNwbLrpiU4BAAeQkEzeLhMAk6/XeOCtuwLj38j6P0FXA/Yd56iUkL8DWRXvas+Q5QPddrDvbtSpAiXUrThCVTEAi8fVSARFpQN9/ze8BZX9ANYX9+71QgsBaaZmAw0RzwKEVjb8aVVDAjlnf8IZjEUDsg/0U6SE2QBSM3YxpuTtAIlxfPf9zU0AmTk5q1SNpQMAYRqOGBIBA/M43o1W0gsACTn1vyk9swPoCevfMxUHAOsIQ26pKQkAcJJh7USlBQOqpfkVp8jlAN2AcB9zjUUAW4wxTc+FqQNasiNjrAH9AUTA5arzNgcDHxNnozt5rwPVOnU/RQxvAfddQOV36UEA6vegZHBdNQIdtQ2USplNAhP5SrQhFZUCdRKEKSBtwQJ8BCeQTDYFAihsM/ebRfsBpdWkKCdBhwBqUJlS9rFBAp8B+eU9JWkAiG2r8lmdgQIRpKZrCnmJAx2bRaHMgakCkRVdKg5R0QNmH6s2ZNYNA",
          "dtype": "f8",
          "shape": "9, 9"
         }
        },
        {
         "marker": {
          "color": "red",
          "size": 3,
          "symbol": "circle"
         },
         "mode": "markers",
         "name": "Pontos de Dados Originais",
         "type": "scatter3d",
         "x": {
          "bdata": "AAAAAAAAFMAAAAAAAAAUwAAAAAAAABTAAAAAAAAAFMAAAAAAAAAUwAAAAAAAABTAAAAAAAAAFMAAAAAAAAAUwAAAAAAAABTAZmZmZmZmDsBmZmZmZmYOwGZmZmZmZg7AZmZmZmZmDsBmZmZmZmYOwGZmZmZmZg7AZmZmZmZmDsBmZmZmZmYOwGZmZmZmZg7AzczMzMzMBMDNzMzMzMwEwM3MzMzMzATAzczMzMzMBMDNzMzMzMwEwM3MzMzMzATAzczMzMzMBMDNzMzMzMwEwM3MzMzMzATAaGZmZmZm9r9oZmZmZmb2v2hmZmZmZva/aGZmZmZm9r9oZmZmZmb2v2hmZmZmZva/aGZmZmZm9r9oZmZmZmb2v2hmZmZmZva/oJmZmZmZyb+gmZmZmZnJv6CZmZmZmcm/oJmZmZmZyb+gmZmZmZnJv6CZmZmZmcm/oJmZmZmZyb+gmZmZmZnJv6CZmZmZmcm/AAAAAAAA8D8AAAAAAADwPwAAAAAAAPA/AAAAAAAA8D8AAAAAAADwPwAAAAAAAPA/AAAAAAAA8D8AAAAAAADwPwAAAAAAAPA/mZmZmZmZAUCZmZmZmZkBQJmZmZmZmQFAmZmZmZmZAUCZmZmZmZkBQJmZmZmZmQFAmZmZmZmZAUCZmZmZmZkBQJmZmZmZmQFAMjMzMzMzC0AyMzMzMzMLQDIzMzMzMwtAMjMzMzMzC0AyMzMzMzMLQDIzMzMzMwtAMjMzMzMzC0AyMzMzMzMLQDIzMzMzMwtAZmZmZmZmEkBmZmZmZmYSQGZmZmZmZhJAZmZmZmZmEkBmZmZmZmYSQGZmZmZmZhJAZmZmZmZmEkBmZmZmZmYSQGZmZmZmZhJA",
          "dtype": "f8"
         },
         "y": {
          "bdata": "AAAAAAAAFMBmZmZmZmYOwM3MzMzMzATAaGZmZmZm9r+gmZmZmZnJvwAAAAAAAPA/mZmZmZmZAUAyMzMzMzMLQGZmZmZmZhJAAAAAAAAAFMBmZmZmZmYOwM3MzMzMzATAaGZmZmZm9r+gmZmZmZnJvwAAAAAAAPA/mZmZmZmZAUAyMzMzMzMLQGZmZmZmZhJAAAAAAAAAFMBmZmZmZmYOwM3MzMzMzATAaGZmZmZm9r+gmZmZmZnJvwAAAAAAAPA/mZmZmZmZAUAyMzMzMzMLQGZmZmZmZhJAAAAAAAAAFMBmZmZmZmYOwM3MzMzMzATAaGZmZmZm9r+gmZmZmZnJvwAAAAAAAPA/mZmZmZmZAUAyMzMzMzMLQGZmZmZmZhJAAAAAAAAAFMBmZmZmZmYOwM3MzMzMzATAaGZmZmZm9r+gmZmZmZnJvwAAAAAAAPA/mZmZmZmZAUAyMzMzMzMLQGZmZmZmZhJAAAAAAAAAFMBmZmZmZmYOwM3MzMzMzATAaGZmZmZm9r+gmZmZmZnJvwAAAAAAAPA/mZmZmZmZAUAyMzMzMzMLQGZmZmZmZhJAAAAAAAAAFMBmZmZmZmYOwM3MzMzMzATAaGZmZmZm9r+gmZmZmZnJvwAAAAAAAPA/mZmZmZmZAUAyMzMzMzMLQGZmZmZmZhJAAAAAAAAAFMBmZmZmZmYOwM3MzMzMzATAaGZmZmZm9r+gmZmZmZnJvwAAAAAAAPA/mZmZmZmZAUAyMzMzMzMLQGZmZmZmZhJAAAAAAAAAFMBmZmZmZmYOwM3MzMzMzATAaGZmZmZm9r+gmZmZmZnJvwAAAAAAAPA/mZmZmZmZAUAyMzMzMzMLQGZmZmZmZhJA",
          "dtype": "f8"
         },
         "z": {
          "bdata": "9sghBmuvfMDnq8sb5EKAwIevb1hQiILAxGnZfDb2gsAB5CQTN4uEwDWF/fu9UILA/M43o1W0gsBRMDlqvM2BwIobDP3m0X7AtCNPn9rdYcBgZFWNY0RmwOvZ+fNsYG3AvIWw72shasAk6/XeOCtuwFppmYDDRHPAAk59b8pPbMDHxNnozt5rwGl1aQoJ0GHArwu6AR7aUkBGtGVO9bY3QMXwCs/1Y0XAVc6QGAhMQcC49/I+j9BVwKEVjb8aVVDA+gJ698zFQcD1Tp1P0UMbwBqUJlS9rFBAqRchANEXY0BIei9CLM9QQACm5fzocOc/TybcMR6bRkD9h3nqJSQvwI5Z3/CGYxFAOsIQ26pKQkB911A5XfpQQKfAfnlPSVpAl8l69mHTYkC2yUt2ioZXQIw8asxYBlRA+GSvUMYDEkDWRXvas+Q5QOyD/RTpITZAHCSYe1EpQUA6vegZHBdNQCIbavyWZ2BABeQDqoRoZECBP8phIhBSQIPM0KKqs01AtnDaO9agJED3Xaw727UqQBSM3YxpuTtA6ql+RWnyOUCHbUNlEqZTQIRpKZrCnmJAYRUI67oQZkCh9LdAL1NlQHZxYVBBCWNAbl3iWwiMV0CJdStOEJVMQCJcXz3/c1NAN2AcB9zjUUCE/lKtCEVlQMdm0WhzIGpAq3NKSUVEd0Dm0Y69RzpxQFhZgNNTr29AA+oJ06bjaUAi8fVSARFpQCZOTmrVI2lAFuMMU3PhakCdRKEKSBtwQKRFV0qDlHRA+97HKp8lg0AcZPmtxpuCQGvDh4ASt4BA3BsuumJTgEDff83vAWV/QMAYRqOGBIBA1qyI2OsAf0CfAQnkEw2BQNmH6s2ZNYNA",
          "dtype": "f8"
         }
        }
       ],
       "layout": {
        "margin": {
         "b": 0,
         "l": 0,
         "r": 0,
         "t": 50
        },
        "scene": {
         "xaxis": {
          "title": {
           "text": "Eixo X"
          }
         },
         "yaxis": {
          "title": {
           "text": "Eixo Y"
          }
         },
         "zaxis": {
          "title": {
           "text": "Eixo Z (Valor)"
          }
         }
        },
        "template": {
         "data": {
          "bar": [
           {
            "error_x": {
             "color": "#2a3f5f"
            },
            "error_y": {
             "color": "#2a3f5f"
            },
            "marker": {
             "line": {
              "color": "#E5ECF6",
              "width": 0.5
             },
             "pattern": {
              "fillmode": "overlay",
              "size": 10,
              "solidity": 0.2
             }
            },
            "type": "bar"
           }
          ],
          "barpolar": [
           {
            "marker": {
             "line": {
              "color": "#E5ECF6",
              "width": 0.5
             },
             "pattern": {
              "fillmode": "overlay",
              "size": 10,
              "solidity": 0.2
             }
            },
            "type": "barpolar"
           }
          ],
          "carpet": [
           {
            "aaxis": {
             "endlinecolor": "#2a3f5f",
             "gridcolor": "white",
             "linecolor": "white",
             "minorgridcolor": "white",
             "startlinecolor": "#2a3f5f"
            },
            "baxis": {
             "endlinecolor": "#2a3f5f",
             "gridcolor": "white",
             "linecolor": "white",
             "minorgridcolor": "white",
             "startlinecolor": "#2a3f5f"
            },
            "type": "carpet"
           }
          ],
          "choropleth": [
           {
            "colorbar": {
             "outlinewidth": 0,
             "ticks": ""
            },
            "type": "choropleth"
           }
          ],
          "contour": [
           {
            "colorbar": {
             "outlinewidth": 0,
             "ticks": ""
            },
            "colorscale": [
             [
              0,
              "#0d0887"
             ],
             [
              0.1111111111111111,
              "#46039f"
             ],
             [
              0.2222222222222222,
              "#7201a8"
             ],
             [
              0.3333333333333333,
              "#9c179e"
             ],
             [
              0.4444444444444444,
              "#bd3786"
             ],
             [
              0.5555555555555556,
              "#d8576b"
             ],
             [
              0.6666666666666666,
              "#ed7953"
             ],
             [
              0.7777777777777778,
              "#fb9f3a"
             ],
             [
              0.8888888888888888,
              "#fdca26"
             ],
             [
              1,
              "#f0f921"
             ]
            ],
            "type": "contour"
           }
          ],
          "contourcarpet": [
           {
            "colorbar": {
             "outlinewidth": 0,
             "ticks": ""
            },
            "type": "contourcarpet"
           }
          ],
          "heatmap": [
           {
            "colorbar": {
             "outlinewidth": 0,
             "ticks": ""
            },
            "colorscale": [
             [
              0,
              "#0d0887"
             ],
             [
              0.1111111111111111,
              "#46039f"
             ],
             [
              0.2222222222222222,
              "#7201a8"
             ],
             [
              0.3333333333333333,
              "#9c179e"
             ],
             [
              0.4444444444444444,
              "#bd3786"
             ],
             [
              0.5555555555555556,
              "#d8576b"
             ],
             [
              0.6666666666666666,
              "#ed7953"
             ],
             [
              0.7777777777777778,
              "#fb9f3a"
             ],
             [
              0.8888888888888888,
              "#fdca26"
             ],
             [
              1,
              "#f0f921"
             ]
            ],
            "type": "heatmap"
           }
          ],
          "histogram": [
           {
            "marker": {
             "pattern": {
              "fillmode": "overlay",
              "size": 10,
              "solidity": 0.2
             }
            },
            "type": "histogram"
           }
          ],
          "histogram2d": [
           {
            "colorbar": {
             "outlinewidth": 0,
             "ticks": ""
            },
            "colorscale": [
             [
              0,
              "#0d0887"
             ],
             [
              0.1111111111111111,
              "#46039f"
             ],
             [
              0.2222222222222222,
              "#7201a8"
             ],
             [
              0.3333333333333333,
              "#9c179e"
             ],
             [
              0.4444444444444444,
              "#bd3786"
             ],
             [
              0.5555555555555556,
              "#d8576b"
             ],
             [
              0.6666666666666666,
              "#ed7953"
             ],
             [
              0.7777777777777778,
              "#fb9f3a"
             ],
             [
              0.8888888888888888,
              "#fdca26"
             ],
             [
              1,
              "#f0f921"
             ]
            ],
            "type": "histogram2d"
           }
          ],
          "histogram2dcontour": [
           {
            "colorbar": {
             "outlinewidth": 0,
             "ticks": ""
            },
            "colorscale": [
             [
              0,
              "#0d0887"
             ],
             [
              0.1111111111111111,
              "#46039f"
             ],
             [
              0.2222222222222222,
              "#7201a8"
             ],
             [
              0.3333333333333333,
              "#9c179e"
             ],
             [
              0.4444444444444444,
              "#bd3786"
             ],
             [
              0.5555555555555556,
              "#d8576b"
             ],
             [
              0.6666666666666666,
              "#ed7953"
             ],
             [
              0.7777777777777778,
              "#fb9f3a"
             ],
             [
              0.8888888888888888,
              "#fdca26"
             ],
             [
              1,
              "#f0f921"
             ]
            ],
            "type": "histogram2dcontour"
           }
          ],
          "mesh3d": [
           {
            "colorbar": {
             "outlinewidth": 0,
             "ticks": ""
            },
            "type": "mesh3d"
           }
          ],
          "parcoords": [
           {
            "line": {
             "colorbar": {
              "outlinewidth": 0,
              "ticks": ""
             }
            },
            "type": "parcoords"
           }
          ],
          "pie": [
           {
            "automargin": true,
            "type": "pie"
           }
          ],
          "scatter": [
           {
            "fillpattern": {
             "fillmode": "overlay",
             "size": 10,
             "solidity": 0.2
            },
            "type": "scatter"
           }
          ],
          "scatter3d": [
           {
            "line": {
             "colorbar": {
              "outlinewidth": 0,
              "ticks": ""
             }
            },
            "marker": {
             "colorbar": {
              "outlinewidth": 0,
              "ticks": ""
             }
            },
            "type": "scatter3d"
           }
          ],
          "scattercarpet": [
           {
            "marker": {
             "colorbar": {
              "outlinewidth": 0,
              "ticks": ""
             }
            },
            "type": "scattercarpet"
           }
          ],
          "scattergeo": [
           {
            "marker": {
             "colorbar": {
              "outlinewidth": 0,
              "ticks": ""
             }
            },
            "type": "scattergeo"
           }
          ],
          "scattergl": [
           {
            "marker": {
             "colorbar": {
              "outlinewidth": 0,
              "ticks": ""
             }
            },
            "type": "scattergl"
           }
          ],
          "scattermap": [
           {
            "marker": {
             "colorbar": {
              "outlinewidth": 0,
              "ticks": ""
             }
            },
            "type": "scattermap"
           }
          ],
          "scattermapbox": [
           {
            "marker": {
             "colorbar": {
              "outlinewidth": 0,
              "ticks": ""
             }
            },
            "type": "scattermapbox"
           }
          ],
          "scatterpolar": [
           {
            "marker": {
             "colorbar": {
              "outlinewidth": 0,
              "ticks": ""
             }
            },
            "type": "scatterpolar"
           }
          ],
          "scatterpolargl": [
           {
            "marker": {
             "colorbar": {
              "outlinewidth": 0,
              "ticks": ""
             }
            },
            "type": "scatterpolargl"
           }
          ],
          "scatterternary": [
           {
            "marker": {
             "colorbar": {
              "outlinewidth": 0,
              "ticks": ""
             }
            },
            "type": "scatterternary"
           }
          ],
          "surface": [
           {
            "colorbar": {
             "outlinewidth": 0,
             "ticks": ""
            },
            "colorscale": [
             [
              0,
              "#0d0887"
             ],
             [
              0.1111111111111111,
              "#46039f"
             ],
             [
              0.2222222222222222,
              "#7201a8"
             ],
             [
              0.3333333333333333,
              "#9c179e"
             ],
             [
              0.4444444444444444,
              "#bd3786"
             ],
             [
              0.5555555555555556,
              "#d8576b"
             ],
             [
              0.6666666666666666,
              "#ed7953"
             ],
             [
              0.7777777777777778,
              "#fb9f3a"
             ],
             [
              0.8888888888888888,
              "#fdca26"
             ],
             [
              1,
              "#f0f921"
             ]
            ],
            "type": "surface"
           }
          ],
          "table": [
           {
            "cells": {
             "fill": {
              "color": "#EBF0F8"
             },
             "line": {
              "color": "white"
             }
            },
            "header": {
             "fill": {
              "color": "#C8D4E3"
             },
             "line": {
              "color": "white"
             }
            },
            "type": "table"
           }
          ]
         },
         "layout": {
          "annotationdefaults": {
           "arrowcolor": "#2a3f5f",
           "arrowhead": 0,
           "arrowwidth": 1
          },
          "autotypenumbers": "strict",
          "coloraxis": {
           "colorbar": {
            "outlinewidth": 0,
            "ticks": ""
           }
          },
          "colorscale": {
           "diverging": [
            [
             0,
             "#8e0152"
            ],
            [
             0.1,
             "#c51b7d"
            ],
            [
             0.2,
             "#de77ae"
            ],
            [
             0.3,
             "#f1b6da"
            ],
            [
             0.4,
             "#fde0ef"
            ],
            [
             0.5,
             "#f7f7f7"
            ],
            [
             0.6,
             "#e6f5d0"
            ],
            [
             0.7,
             "#b8e186"
            ],
            [
             0.8,
             "#7fbc41"
            ],
            [
             0.9,
             "#4d9221"
            ],
            [
             1,
             "#276419"
            ]
           ],
           "sequential": [
            [
             0,
             "#0d0887"
            ],
            [
             0.1111111111111111,
             "#46039f"
            ],
            [
             0.2222222222222222,
             "#7201a8"
            ],
            [
             0.3333333333333333,
             "#9c179e"
            ],
            [
             0.4444444444444444,
             "#bd3786"
            ],
            [
             0.5555555555555556,
             "#d8576b"
            ],
            [
             0.6666666666666666,
             "#ed7953"
            ],
            [
             0.7777777777777778,
             "#fb9f3a"
            ],
            [
             0.8888888888888888,
             "#fdca26"
            ],
            [
             1,
             "#f0f921"
            ]
           ],
           "sequentialminus": [
            [
             0,
             "#0d0887"
            ],
            [
             0.1111111111111111,
             "#46039f"
            ],
            [
             0.2222222222222222,
             "#7201a8"
            ],
            [
             0.3333333333333333,
             "#9c179e"
            ],
            [
             0.4444444444444444,
             "#bd3786"
            ],
            [
             0.5555555555555556,
             "#d8576b"
            ],
            [
             0.6666666666666666,
             "#ed7953"
            ],
            [
             0.7777777777777778,
             "#fb9f3a"
            ],
            [
             0.8888888888888888,
             "#fdca26"
            ],
            [
             1,
             "#f0f921"
            ]
           ]
          },
          "colorway": [
           "#636efa",
           "#EF553B",
           "#00cc96",
           "#ab63fa",
           "#FFA15A",
           "#19d3f3",
           "#FF6692",
           "#B6E880",
           "#FF97FF",
           "#FECB52"
          ],
          "font": {
           "color": "#2a3f5f"
          },
          "geo": {
           "bgcolor": "white",
           "lakecolor": "white",
           "landcolor": "#E5ECF6",
           "showlakes": true,
           "showland": true,
           "subunitcolor": "white"
          },
          "hoverlabel": {
           "align": "left"
          },
          "hovermode": "closest",
          "mapbox": {
           "style": "light"
          },
          "paper_bgcolor": "white",
          "plot_bgcolor": "#E5ECF6",
          "polar": {
           "angularaxis": {
            "gridcolor": "white",
            "linecolor": "white",
            "ticks": ""
           },
           "bgcolor": "#E5ECF6",
           "radialaxis": {
            "gridcolor": "white",
            "linecolor": "white",
            "ticks": ""
           }
          },
          "scene": {
           "xaxis": {
            "backgroundcolor": "#E5ECF6",
            "gridcolor": "white",
            "gridwidth": 2,
            "linecolor": "white",
            "showbackground": true,
            "ticks": "",
            "zerolinecolor": "white"
           },
           "yaxis": {
            "backgroundcolor": "#E5ECF6",
            "gridcolor": "white",
            "gridwidth": 2,
            "linecolor": "white",
            "showbackground": true,
            "ticks": "",
            "zerolinecolor": "white"
           },
           "zaxis": {
            "backgroundcolor": "#E5ECF6",
            "gridcolor": "white",
            "gridwidth": 2,
            "linecolor": "white",
            "showbackground": true,
            "ticks": "",
            "zerolinecolor": "white"
           }
          },
          "shapedefaults": {
           "line": {
            "color": "#2a3f5f"
           }
          },
          "ternary": {
           "aaxis": {
            "gridcolor": "white",
            "linecolor": "white",
            "ticks": ""
           },
           "baxis": {
            "gridcolor": "white",
            "linecolor": "white",
            "ticks": ""
           },
           "bgcolor": "#E5ECF6",
           "caxis": {
            "gridcolor": "white",
            "linecolor": "white",
            "ticks": ""
           }
          },
          "title": {
           "x": 0.05
          },
          "xaxis": {
           "automargin": true,
           "gridcolor": "white",
           "linecolor": "white",
           "ticks": "",
           "title": {
            "standoff": 15
           },
           "zerolinecolor": "white",
           "zerolinewidth": 2
          },
          "yaxis": {
           "automargin": true,
           "gridcolor": "white",
           "linecolor": "white",
           "ticks": "",
           "title": {
            "standoff": 15
           },
           "zerolinecolor": "white",
           "zerolinewidth": 2
          }
         }
        },
        "title": {
         "text": "z = f(x, y)",
         "x": 0.5
        }
       }
      }
     },
     "metadata": {},
     "output_type": "display_data"
    }
   ],
   "source": [
    "df_pivot = df.pivot(index='y', columns='x', values='z')\n",
    "\n",
    "# Extrair os componentes para o Plotly\n",
    "x_axis = df_pivot.columns.values  # Eixo X\n",
    "y_axis = df_pivot.index.values    # Eixo Y\n",
    "z_grid = df_pivot.values        # Valores Z (grid)\n",
    "\n",
    "fig = go.Figure()\n",
    "\n",
    "# Adicionar a Superfície\n",
    "fig.add_trace(go.Surface(\n",
    "    x=x_axis,\n",
    "    y=y_axis,\n",
    "    z=z_grid,\n",
    "    colorscale='Viridis',\n",
    "    opacity=0.9,\n",
    "    contours_z=dict(show=True, usecolormap=True, project_z=True, highlightcolor=\"white\"),\n",
    "    name='Superfície dos Dados'\n",
    "))\n",
    "\n",
    "# Adicionar os Pontos de Dados Originais\n",
    "fig.add_trace(go.Scatter3d(\n",
    "    x=df['x'],\n",
    "    y=df['y'],\n",
    "    z=df['z'],\n",
    "    mode='markers',\n",
    "    marker=dict(size=3, color='red', symbol='circle'),\n",
    "    name='Pontos de Dados Originais'\n",
    "))\n",
    "\n",
    "# Melhorar o Layout\n",
    "fig.update_layout(\n",
    "    title=dict(text='z = f(x, y)', x=0.5),\n",
    "    scene=dict(\n",
    "        xaxis_title='Eixo X',\n",
    "        yaxis_title='Eixo Y',\n",
    "        zaxis_title='Eixo Z (Valor)'\n",
    "    ),\n",
    "    margin=dict(l=0, r=0, b=0, t=50)\n",
    ")\n",
    "\n",
    "fig.show()"
   ]
  },
  {
   "cell_type": "code",
   "execution_count": 6,
   "id": "c90974b4",
   "metadata": {},
   "outputs": [
    {
     "data": {
      "text/plain": [
       "array([ 5.0081046 ,  5.73419945, 10.59963756])"
      ]
     },
     "execution_count": 6,
     "metadata": {},
     "output_type": "execute_result"
    }
   ],
   "source": [
    "X = np.column_stack([df['x'] ** 3, df['y'] ** 2, np.ones(len(df['x']))])\n",
    "\n",
    "true_weights = np.linalg.inv((X.T @ X) + (X.T @ X).T) @ (2 * X.T @ df['z'])\n",
    "true_weights"
   ]
  },
  {
   "cell_type": "markdown",
   "id": "a11523f5",
   "metadata": {},
   "source": [
    "## Calcular as funções de perda"
   ]
  },
  {
   "cell_type": "code",
   "execution_count": 7,
   "id": "5f2939c5",
   "metadata": {},
   "outputs": [
    {
     "name": "stderr",
     "output_type": "stream",
     "text": [
      "c:\\Users\\mathe\\Documents\\Meus Codes\\rna_tarefas_mestrado\\.venv\\Lib\\site-packages\\numpy\\_core\\fromnumeric.py:86: RuntimeWarning:\n",
      "\n",
      "overflow encountered in reduce\n",
      "\n",
      "c:\\Users\\mathe\\Documents\\Meus Codes\\rna_tarefas_mestrado\\utils\\loss_fn_tarefa2.py:14: RuntimeWarning:\n",
      "\n",
      "overflow encountered in square\n",
      "\n",
      "c:\\Users\\mathe\\Documents\\Meus Codes\\rna_tarefas_mestrado\\utils\\loss_fn_tarefa2.py:19: RuntimeWarning:\n",
      "\n",
      "overflow encountered in matmul\n",
      "\n",
      "c:\\Users\\mathe\\Documents\\Meus Codes\\rna_tarefas_mestrado\\utils\\loss_fn_tarefa2.py:12: RuntimeWarning:\n",
      "\n",
      "invalid value encountered in matmul\n",
      "\n",
      "c:\\Users\\mathe\\Documents\\Meus Codes\\rna_tarefas_mestrado\\utils\\loss_fn_tarefa2.py:17: RuntimeWarning:\n",
      "\n",
      "invalid value encountered in matmul\n",
      "\n",
      "c:\\Users\\mathe\\Documents\\Meus Codes\\rna_tarefas_mestrado\\utils\\loss_fn_tarefa2.py:19: RuntimeWarning:\n",
      "\n",
      "invalid value encountered in matmul\n",
      "\n",
      "c:\\Users\\mathe\\Documents\\Meus Codes\\rna_tarefas_mestrado\\libs\\gradient_descendent.py:47: RuntimeWarning:\n",
      "\n",
      "invalid value encountered in subtract\n",
      "\n"
     ]
    },
    {
     "name": "stdout",
     "output_type": "stream",
     "text": [
      "Overflow detectado para LR=0.01, Initial_W=[0. 0. 0.]\n",
      "Overflow detectado para LR=0.01, Initial_W=[5. 5. 8.]\n",
      "Overflow detectado para LR=0.01, Initial_W=[0.05 0.05 0.08]\n",
      "Overflow detectado para LR=0.001, Initial_W=[0. 0. 0.]\n",
      "Overflow detectado para LR=0.001, Initial_W=[5. 5. 8.]\n",
      "Overflow detectado para LR=0.001, Initial_W=[0.05 0.05 0.08]\n"
     ]
    },
    {
     "data": {
      "text/html": [
       "<div>\n",
       "<style scoped>\n",
       "    .dataframe tbody tr th:only-of-type {\n",
       "        vertical-align: middle;\n",
       "    }\n",
       "\n",
       "    .dataframe tbody tr th {\n",
       "        vertical-align: top;\n",
       "    }\n",
       "\n",
       "    .dataframe thead th {\n",
       "        text-align: right;\n",
       "    }\n",
       "</style>\n",
       "<table border=\"1\" class=\"dataframe\">\n",
       "  <thead>\n",
       "    <tr style=\"text-align: right;\">\n",
       "      <th></th>\n",
       "      <th>Feature_Set</th>\n",
       "      <th>Loss_Function</th>\n",
       "      <th>Learning_Rate</th>\n",
       "      <th>Initial_Weights</th>\n",
       "      <th>Final_Weights</th>\n",
       "      <th>Final_Loss</th>\n",
       "      <th>Iterations</th>\n",
       "    </tr>\n",
       "  </thead>\n",
       "  <tbody>\n",
       "    <tr>\n",
       "      <th>0</th>\n",
       "      <td>Original</td>\n",
       "      <td>MAE</td>\n",
       "      <td>0.0001</td>\n",
       "      <td>(5.0, 5.0, 8.0)</td>\n",
       "      <td>[5.005431229629682, 5.883213629629388, 8.06220...</td>\n",
       "      <td>15.241431</td>\n",
       "      <td>5000</td>\n",
       "    </tr>\n",
       "    <tr>\n",
       "      <th>1</th>\n",
       "      <td>Original</td>\n",
       "      <td>MAE</td>\n",
       "      <td>0.0010</td>\n",
       "      <td>(5.0, 5.0, 8.0)</td>\n",
       "      <td>[5.003422617283623, 5.8810261728389355, 8.1157...</td>\n",
       "      <td>15.244330</td>\n",
       "      <td>5000</td>\n",
       "    </tr>\n",
       "    <tr>\n",
       "      <th>2</th>\n",
       "      <td>Original</td>\n",
       "      <td>MAE</td>\n",
       "      <td>0.0100</td>\n",
       "      <td>(5.0, 5.0, 8.0)</td>\n",
       "      <td>[5.01551407407448, 5.8891851851840675, 8.29185...</td>\n",
       "      <td>15.272837</td>\n",
       "      <td>5000</td>\n",
       "    </tr>\n",
       "    <tr>\n",
       "      <th>3</th>\n",
       "      <td>Original</td>\n",
       "      <td>RMSE</td>\n",
       "      <td>0.0100</td>\n",
       "      <td>(5.0, 5.0, 8.0)</td>\n",
       "      <td>[5.007477748293044, 5.78230682525681, 9.772637...</td>\n",
       "      <td>19.297418</td>\n",
       "      <td>5000</td>\n",
       "    </tr>\n",
       "    <tr>\n",
       "      <th>4</th>\n",
       "      <td>Original</td>\n",
       "      <td>RMSE</td>\n",
       "      <td>0.0010</td>\n",
       "      <td>(5.0, 5.0, 8.0)</td>\n",
       "      <td>[5.006377899720806, 5.866714747314398, 8.32160...</td>\n",
       "      <td>19.348288</td>\n",
       "      <td>5000</td>\n",
       "    </tr>\n",
       "    <tr>\n",
       "      <th>5</th>\n",
       "      <td>Original</td>\n",
       "      <td>RMSE</td>\n",
       "      <td>0.0001</td>\n",
       "      <td>(5.0, 5.0, 8.0)</td>\n",
       "      <td>[5.005956655896799, 5.867319533310181, 8.07845...</td>\n",
       "      <td>19.362176</td>\n",
       "      <td>5000</td>\n",
       "    </tr>\n",
       "    <tr>\n",
       "      <th>6</th>\n",
       "      <td>Original</td>\n",
       "      <td>MSE</td>\n",
       "      <td>0.0001</td>\n",
       "      <td>(5.0, 5.0, 8.0)</td>\n",
       "      <td>[5.006854213483814, 5.830160028785147, 8.95000...</td>\n",
       "      <td>373.279313</td>\n",
       "      <td>5000</td>\n",
       "    </tr>\n",
       "    <tr>\n",
       "      <th>7</th>\n",
       "      <td>Original</td>\n",
       "      <td>MSE</td>\n",
       "      <td>0.0001</td>\n",
       "      <td>(0.05, 0.05, 0.08)</td>\n",
       "      <td>[5.003120183475856, 6.11672830902677, 4.023694...</td>\n",
       "      <td>390.960242</td>\n",
       "      <td>5000</td>\n",
       "    </tr>\n",
       "    <tr>\n",
       "      <th>8</th>\n",
       "      <td>Original</td>\n",
       "      <td>MSE</td>\n",
       "      <td>0.0001</td>\n",
       "      <td>(0.0, 0.0, 0.0)</td>\n",
       "      <td>[5.003082466001028, 6.119622938120117, 3.97393...</td>\n",
       "      <td>391.246879</td>\n",
       "      <td>5000</td>\n",
       "    </tr>\n",
       "  </tbody>\n",
       "</table>\n",
       "</div>"
      ],
      "text/plain": [
       "  Feature_Set Loss_Function  Learning_Rate     Initial_Weights  \\\n",
       "0    Original           MAE         0.0001     (5.0, 5.0, 8.0)   \n",
       "1    Original           MAE         0.0010     (5.0, 5.0, 8.0)   \n",
       "2    Original           MAE         0.0100     (5.0, 5.0, 8.0)   \n",
       "3    Original          RMSE         0.0100     (5.0, 5.0, 8.0)   \n",
       "4    Original          RMSE         0.0010     (5.0, 5.0, 8.0)   \n",
       "5    Original          RMSE         0.0001     (5.0, 5.0, 8.0)   \n",
       "6    Original           MSE         0.0001     (5.0, 5.0, 8.0)   \n",
       "7    Original           MSE         0.0001  (0.05, 0.05, 0.08)   \n",
       "8    Original           MSE         0.0001     (0.0, 0.0, 0.0)   \n",
       "\n",
       "                                       Final_Weights  Final_Loss  Iterations  \n",
       "0  [5.005431229629682, 5.883213629629388, 8.06220...   15.241431        5000  \n",
       "1  [5.003422617283623, 5.8810261728389355, 8.1157...   15.244330        5000  \n",
       "2  [5.01551407407448, 5.8891851851840675, 8.29185...   15.272837        5000  \n",
       "3  [5.007477748293044, 5.78230682525681, 9.772637...   19.297418        5000  \n",
       "4  [5.006377899720806, 5.866714747314398, 8.32160...   19.348288        5000  \n",
       "5  [5.005956655896799, 5.867319533310181, 8.07845...   19.362176        5000  \n",
       "6  [5.006854213483814, 5.830160028785147, 8.95000...  373.279313        5000  \n",
       "7  [5.003120183475856, 6.11672830902677, 4.023694...  390.960242        5000  \n",
       "8  [5.003082466001028, 6.119622938120117, 3.97393...  391.246879        5000  "
      ]
     },
     "execution_count": 7,
     "metadata": {},
     "output_type": "execute_result"
    }
   ],
   "source": [
    "features = df[['x', 'y']]\n",
    "y = df['z']\n",
    "features_normalized = features.copy()\n",
    "features_normalized['x'] = min_max_normalize(features['x'], -1, 1)\n",
    "features_normalized['y'] = min_max_normalize(features['y'], -1, 1)\n",
    "\n",
    "features_pradonized = features.copy()\n",
    "features_pradonized['x'] = padronize(features['x'])\n",
    "features_pradonized['y'] = padronize(features['y'])\n",
    "\n",
    "features_list = [features, features_normalized, features_pradonized]\n",
    "features_names = ['Original', 'Min-Max Normalized', 'Padronized']\n",
    "\n",
    "loss_fn_names = ['MSE', 'MAE', 'RMSE']\n",
    "loss_fn_makers = [make_mse_loss_function, make_mae_loss_function, make_rmse_loss_function]\n",
    "\n",
    "learning_rates = [0.01, 0.001, 0.0001]\n",
    "initial_weights = [np.zeros(3), np.array([5.0, 5.0, 8.0]), np.array([0.05, 0.05, 0.08])]\n",
    "n_iterations = 5000\n",
    "tolerance = 1e-6\n",
    "\n",
    "dict_results = {}\n",
    "\n",
    "for feature_set, feature_name in zip(features_list, features_names):\n",
    "    x_data = feature_set['x'].values\n",
    "    y_data = feature_set['y'].values\n",
    "    z_data = y.values\n",
    "\n",
    "    for loss_fn_name, loss_fn_maker in zip(loss_fn_names, loss_fn_makers):\n",
    "        loss_function, grad_loss_function = loss_fn_maker(x_data, y_data, z_data)\n",
    "\n",
    "        # No seu loop de treinamento, adicione:\n",
    "        for lr in learning_rates:\n",
    "            for initial_w in initial_weights:\n",
    "                try:\n",
    "                    weights, losses, n_iters = gradient_descendent(\n",
    "                        initial_w, loss_function, grad_loss_function,\n",
    "                        learning_rate=lr, max_iter=n_iterations, tolerance=tolerance\n",
    "                    )\n",
    "\n",
    "                    # Verificar se há overflow\n",
    "                    if np.any(np.isnan(weights[-1])) or np.any(np.isinf(weights[-1])):\n",
    "                        print(f\"Overflow detectado para LR={lr}, Initial_W={initial_w}\")\n",
    "                        continue\n",
    "\n",
    "                except Exception as e:\n",
    "                    print(f\"Erro para LR={lr}, Initial_W={initial_w}: {e}\")\n",
    "                    continue\n",
    "\n",
    "                key = (feature_name, loss_fn_name, lr, tuple(initial_w))\n",
    "                dict_results[key] = {\n",
    "                    'weights': weights,\n",
    "                    'losses': losses,\n",
    "                    'n_iters': n_iters\n",
    "                }\n",
    "\n",
    "df_result = pd.DataFrame([\n",
    "    {\n",
    "        'Feature_Set': key[0],\n",
    "        'Loss_Function': key[1],\n",
    "        'Learning_Rate': key[2],\n",
    "        'Initial_Weights': key[3],\n",
    "        'Final_Weights': value['weights'][-1],\n",
    "        'Final_Loss': value['losses'][-1],\n",
    "        'Iterations': value['n_iters']\n",
    "    }\n",
    "    for key, value in dict_results.items()\n",
    "])\n",
    "\n",
    "\n",
    "df_result.sort_values(by='Final_Loss').groupby('Loss_Function').head(3).reset_index(drop=True)"
   ]
  },
  {
   "cell_type": "markdown",
   "id": "4636062a",
   "metadata": {},
   "source": [
    "## Resultados"
   ]
  },
  {
   "cell_type": "code",
   "execution_count": 8,
   "id": "29ff719a",
   "metadata": {},
   "outputs": [],
   "source": [
    "def make_function(w):\n",
    "    def f(x, y):\n",
    "        return w[0] * (x ** 3) + w[1] * (y ** 2) + w[2]\n",
    "    return f"
   ]
  },
  {
   "cell_type": "markdown",
   "id": "c21da672",
   "metadata": {},
   "source": [
    "### MSE"
   ]
  },
  {
   "cell_type": "code",
   "execution_count": 9,
   "id": "be433092",
   "metadata": {},
   "outputs": [
    {
     "name": "stdout",
     "output_type": "stream",
     "text": [
      "Melhor resultado MSE:\n",
      "Feature Set: Original\n",
      "Learning Rate: 0.0001\n",
      "Final Loss: 373.2793132812906\n",
      "Pesos: [5.00685421 5.83016003 8.95000686]\n"
     ]
    },
    {
     "data": {
      "application/vnd.plotly.v1+json": {
       "config": {
        "plotlyServerURL": "https://plot.ly"
       },
       "data": [
        {
         "colorscale": [
          [
           0,
           "#440154"
          ],
          [
           0.1111111111111111,
           "#482878"
          ],
          [
           0.2222222222222222,
           "#3e4989"
          ],
          [
           0.3333333333333333,
           "#31688e"
          ],
          [
           0.4444444444444444,
           "#26828e"
          ],
          [
           0.5555555555555556,
           "#1f9e89"
          ],
          [
           0.6666666666666666,
           "#35b779"
          ],
          [
           0.7777777777777778,
           "#6ece58"
          ],
          [
           0.8888888888888888,
           "#b5de2b"
          ],
          [
           1,
           "#fde725"
          ]
         ],
         "name": "Dados Originais",
         "opacity": 0.7,
         "type": "surface",
         "x": {
          "bdata": "AAAAAAAAFMBmZmZmZmYOwM3MzMzMzATAaGZmZmZm9r+gmZmZmZnJvwAAAAAAAPA/mZmZmZmZAUAyMzMzMzMLQGZmZmZmZhJA",
          "dtype": "f8"
         },
         "y": {
          "bdata": "AAAAAAAAFMBmZmZmZmYOwM3MzMzMzATAaGZmZmZm9r+gmZmZmZnJvwAAAAAAAPA/mZmZmZmZAUAyMzMzMzMLQGZmZmZmZhJA",
          "dtype": "f8"
         },
         "z": {
          "bdata": "9sghBmuvfMC0I0+f2t1hwK8LugEe2lJAqRchANEXY0CXyXr2YdNiQAXkA6qEaGRAYRUI67oQZkCrc0pJRUR3QPvexyqfJYNA56vLG+RCgMBgZFWNY0RmwEa0ZU71tjdASHovQizPUEC2yUt2ioZXQIE/ymEiEFJAofS3QC9TZUDm0Y69RzpxQBxk+a3Gm4JAh69vWFCIgsDr2fnzbGBtwMXwCs/1Y0XAAKbl/Ohw5z+MPGrMWAZUQIPM0KKqs01AdnFhUEEJY0BYWYDTU69vQGvDh4ASt4BAxGnZfDb2gsC8hbDvayFqwFXOkBgITEHATybcMR6bRkD4ZK9QxgMSQLZw2jvWoCRAbl3iWwiMV0AD6gnTpuNpQNwbLrpiU4BAAeQkEzeLhMAk6/XeOCtuwLj38j6P0FXA/Yd56iUkL8DWRXvas+Q5QPddrDvbtSpAiXUrThCVTEAi8fVSARFpQN9/ze8BZX9ANYX9+71QgsBaaZmAw0RzwKEVjb8aVVDAjlnf8IZjEUDsg/0U6SE2QBSM3YxpuTtAIlxfPf9zU0AmTk5q1SNpQMAYRqOGBIBA/M43o1W0gsACTn1vyk9swPoCevfMxUHAOsIQ26pKQkAcJJh7USlBQOqpfkVp8jlAN2AcB9zjUUAW4wxTc+FqQNasiNjrAH9AUTA5arzNgcDHxNnozt5rwPVOnU/RQxvAfddQOV36UEA6vegZHBdNQIdtQ2USplNAhP5SrQhFZUCdRKEKSBtwQJ8BCeQTDYFAihsM/ebRfsBpdWkKCdBhwBqUJlS9rFBAp8B+eU9JWkAiG2r8lmdgQIRpKZrCnmJAx2bRaHMgakCkRVdKg5R0QNmH6s2ZNYNA",
          "dtype": "f8",
          "shape": "9, 9"
         }
        },
        {
         "marker": {
          "color": "blue",
          "size": 5,
          "symbol": "circle"
         },
         "mode": "markers",
         "name": "Predições",
         "type": "scatter3d",
         "x": {
          "bdata": "AAAAAAAAFMAAAAAAAAAUwAAAAAAAABTAAAAAAAAAFMAAAAAAAAAUwAAAAAAAABTAAAAAAAAAFMAAAAAAAAAUwAAAAAAAABTAZmZmZmZmDsBmZmZmZmYOwGZmZmZmZg7AZmZmZmZmDsBmZmZmZmYOwGZmZmZmZg7AZmZmZmZmDsBmZmZmZmYOwGZmZmZmZg7AzczMzMzMBMDNzMzMzMwEwM3MzMzMzATAzczMzMzMBMDNzMzMzMwEwM3MzMzMzATAzczMzMzMBMDNzMzMzMwEwM3MzMzMzATAaGZmZmZm9r9oZmZmZmb2v2hmZmZmZva/aGZmZmZm9r9oZmZmZmb2v2hmZmZmZva/aGZmZmZm9r9oZmZmZmb2v2hmZmZmZva/oJmZmZmZyb+gmZmZmZnJv6CZmZmZmcm/oJmZmZmZyb+gmZmZmZnJv6CZmZmZmcm/oJmZmZmZyb+gmZmZmZnJv6CZmZmZmcm/AAAAAAAA8D8AAAAAAADwPwAAAAAAAPA/AAAAAAAA8D8AAAAAAADwPwAAAAAAAPA/AAAAAAAA8D8AAAAAAADwPwAAAAAAAPA/mZmZmZmZAUCZmZmZmZkBQJmZmZmZmQFAmZmZmZmZAUCZmZmZmZkBQJmZmZmZmQFAmZmZmZmZAUCZmZmZmZkBQJmZmZmZmQFAMjMzMzMzC0AyMzMzMzMLQDIzMzMzMwtAMjMzMzMzC0AyMzMzMzMLQDIzMzMzMwtAMjMzMzMzC0AyMzMzMzMLQDIzMzMzMwtAZmZmZmZmEkBmZmZmZmYSQGZmZmZmZhJAZmZmZmZmEkBmZmZmZmYSQGZmZmZmZhJAZmZmZmZmEkBmZmZmZmYSQGZmZmZmZhJA",
          "dtype": "f8"
         },
         "y": {
          "bdata": "AAAAAAAAFMBmZmZmZmYOwM3MzMzMzATAaGZmZmZm9r+gmZmZmZnJvwAAAAAAAPA/mZmZmZmZAUAyMzMzMzMLQGZmZmZmZhJAAAAAAAAAFMBmZmZmZmYOwM3MzMzMzATAaGZmZmZm9r+gmZmZmZnJvwAAAAAAAPA/mZmZmZmZAUAyMzMzMzMLQGZmZmZmZhJAAAAAAAAAFMBmZmZmZmYOwM3MzMzMzATAaGZmZmZm9r+gmZmZmZnJvwAAAAAAAPA/mZmZmZmZAUAyMzMzMzMLQGZmZmZmZhJAAAAAAAAAFMBmZmZmZmYOwM3MzMzMzATAaGZmZmZm9r+gmZmZmZnJvwAAAAAAAPA/mZmZmZmZAUAyMzMzMzMLQGZmZmZmZhJAAAAAAAAAFMBmZmZmZmYOwM3MzMzMzATAaGZmZmZm9r+gmZmZmZnJvwAAAAAAAPA/mZmZmZmZAUAyMzMzMzMLQGZmZmZmZhJAAAAAAAAAFMBmZmZmZmYOwM3MzMzMzATAaGZmZmZm9r+gmZmZmZnJvwAAAAAAAPA/mZmZmZmZAUAyMzMzMzMLQGZmZmZmZhJAAAAAAAAAFMBmZmZmZmYOwM3MzMzMzATAaGZmZmZm9r+gmZmZmZnJvwAAAAAAAPA/mZmZmZmZAUAyMzMzMzMLQGZmZmZmZhJAAAAAAAAAFMBmZmZmZmYOwM3MzMzMzATAaGZmZmZm9r+gmZmZmZnJvwAAAAAAAPA/mZmZmZmZAUAyMzMzMzMLQGZmZmZmZhJAAAAAAAAAFMBmZmZmZmYOwM3MzMzMzATAaGZmZmZm9r+gmZmZmZnJvwAAAAAAAPA/mZmZmZmZAUAyMzMzMzMLQGZmZmZmZhJA",
          "dtype": "f8"
         },
         "z": [
          -471.1527691019616,
          -532.7192590059327,
          -577.4948880270026,
          -605.4796561651714,
          -616.6735634204389,
          -611.0766097928051,
          -588.6887952822701,
          -549.510119888834,
          -493.54058361249656,
          -120.03209681876866,
          -181.5985867227398,
          -226.3742157438097,
          -254.35898388197842,
          -265.5528911372459,
          -259.95593750961217,
          -237.56812299907722,
          -198.38944760564104,
          -142.41991132930363,
          66.70353792732365,
          5.137048023352509,
          -39.63858099771741,
          -67.62334913588612,
          -78.8172563911536,
          -73.22030276351987,
          -50.8324882529849,
          -11.653812859548733,
          44.31572341678867,
          140.96519962171558,
          79.39870971774444,
          34.62308069667452,
          6.638312558505817,
          -4.555594696761672,
          1.041358930872069,
          23.42917344140703,
          62.607848834843196,
          118.5773851111806,
          154.66395274980732,
          93.09746284583616,
          48.321833824766244,
          20.33706568659754,
          9.143158431330054,
          14.740112058963796,
          37.127926569498754,
          76.30660196293492,
          132.27613823927234,
          159.710861796999,
          98.14437189302785,
          53.368742871957934,
          25.383974733789227,
          14.190067478521739,
          19.78702110615548,
          42.174835616690444,
          81.35351101012661,
          137.32304728646403,
          208.01699124869083,
          146.45050134471967,
          101.67487232364975,
          73.69010418548105,
          62.49619693021356,
          68.0931505578473,
          90.48096506838226,
          129.65964046181844,
          185.62917673815585,
          351.4934055902829,
          289.9269156863118,
          245.15128666524188,
          217.16651852707318,
          205.97261127180568,
          211.56956489943943,
          233.95737940997438,
          273.13605480341056,
          329.10559107974797,
          642.0511693071757,
          580.4846794032045,
          535.7090503821346,
          507.7242822439659,
          496.5303749886984,
          502.12732861633214,
          524.5151431268671,
          563.6938185203032,
          619.6633547966406
         ]
        }
       ],
       "layout": {
        "margin": {
         "b": 0,
         "l": 0,
         "r": 0,
         "t": 50
        },
        "scene": {
         "xaxis": {
          "title": {
           "text": "X"
          }
         },
         "yaxis": {
          "title": {
           "text": "Y"
          }
         },
         "zaxis": {
          "title": {
           "text": "Z"
          }
         }
        },
        "template": {
         "data": {
          "bar": [
           {
            "error_x": {
             "color": "#2a3f5f"
            },
            "error_y": {
             "color": "#2a3f5f"
            },
            "marker": {
             "line": {
              "color": "#E5ECF6",
              "width": 0.5
             },
             "pattern": {
              "fillmode": "overlay",
              "size": 10,
              "solidity": 0.2
             }
            },
            "type": "bar"
           }
          ],
          "barpolar": [
           {
            "marker": {
             "line": {
              "color": "#E5ECF6",
              "width": 0.5
             },
             "pattern": {
              "fillmode": "overlay",
              "size": 10,
              "solidity": 0.2
             }
            },
            "type": "barpolar"
           }
          ],
          "carpet": [
           {
            "aaxis": {
             "endlinecolor": "#2a3f5f",
             "gridcolor": "white",
             "linecolor": "white",
             "minorgridcolor": "white",
             "startlinecolor": "#2a3f5f"
            },
            "baxis": {
             "endlinecolor": "#2a3f5f",
             "gridcolor": "white",
             "linecolor": "white",
             "minorgridcolor": "white",
             "startlinecolor": "#2a3f5f"
            },
            "type": "carpet"
           }
          ],
          "choropleth": [
           {
            "colorbar": {
             "outlinewidth": 0,
             "ticks": ""
            },
            "type": "choropleth"
           }
          ],
          "contour": [
           {
            "colorbar": {
             "outlinewidth": 0,
             "ticks": ""
            },
            "colorscale": [
             [
              0,
              "#0d0887"
             ],
             [
              0.1111111111111111,
              "#46039f"
             ],
             [
              0.2222222222222222,
              "#7201a8"
             ],
             [
              0.3333333333333333,
              "#9c179e"
             ],
             [
              0.4444444444444444,
              "#bd3786"
             ],
             [
              0.5555555555555556,
              "#d8576b"
             ],
             [
              0.6666666666666666,
              "#ed7953"
             ],
             [
              0.7777777777777778,
              "#fb9f3a"
             ],
             [
              0.8888888888888888,
              "#fdca26"
             ],
             [
              1,
              "#f0f921"
             ]
            ],
            "type": "contour"
           }
          ],
          "contourcarpet": [
           {
            "colorbar": {
             "outlinewidth": 0,
             "ticks": ""
            },
            "type": "contourcarpet"
           }
          ],
          "heatmap": [
           {
            "colorbar": {
             "outlinewidth": 0,
             "ticks": ""
            },
            "colorscale": [
             [
              0,
              "#0d0887"
             ],
             [
              0.1111111111111111,
              "#46039f"
             ],
             [
              0.2222222222222222,
              "#7201a8"
             ],
             [
              0.3333333333333333,
              "#9c179e"
             ],
             [
              0.4444444444444444,
              "#bd3786"
             ],
             [
              0.5555555555555556,
              "#d8576b"
             ],
             [
              0.6666666666666666,
              "#ed7953"
             ],
             [
              0.7777777777777778,
              "#fb9f3a"
             ],
             [
              0.8888888888888888,
              "#fdca26"
             ],
             [
              1,
              "#f0f921"
             ]
            ],
            "type": "heatmap"
           }
          ],
          "histogram": [
           {
            "marker": {
             "pattern": {
              "fillmode": "overlay",
              "size": 10,
              "solidity": 0.2
             }
            },
            "type": "histogram"
           }
          ],
          "histogram2d": [
           {
            "colorbar": {
             "outlinewidth": 0,
             "ticks": ""
            },
            "colorscale": [
             [
              0,
              "#0d0887"
             ],
             [
              0.1111111111111111,
              "#46039f"
             ],
             [
              0.2222222222222222,
              "#7201a8"
             ],
             [
              0.3333333333333333,
              "#9c179e"
             ],
             [
              0.4444444444444444,
              "#bd3786"
             ],
             [
              0.5555555555555556,
              "#d8576b"
             ],
             [
              0.6666666666666666,
              "#ed7953"
             ],
             [
              0.7777777777777778,
              "#fb9f3a"
             ],
             [
              0.8888888888888888,
              "#fdca26"
             ],
             [
              1,
              "#f0f921"
             ]
            ],
            "type": "histogram2d"
           }
          ],
          "histogram2dcontour": [
           {
            "colorbar": {
             "outlinewidth": 0,
             "ticks": ""
            },
            "colorscale": [
             [
              0,
              "#0d0887"
             ],
             [
              0.1111111111111111,
              "#46039f"
             ],
             [
              0.2222222222222222,
              "#7201a8"
             ],
             [
              0.3333333333333333,
              "#9c179e"
             ],
             [
              0.4444444444444444,
              "#bd3786"
             ],
             [
              0.5555555555555556,
              "#d8576b"
             ],
             [
              0.6666666666666666,
              "#ed7953"
             ],
             [
              0.7777777777777778,
              "#fb9f3a"
             ],
             [
              0.8888888888888888,
              "#fdca26"
             ],
             [
              1,
              "#f0f921"
             ]
            ],
            "type": "histogram2dcontour"
           }
          ],
          "mesh3d": [
           {
            "colorbar": {
             "outlinewidth": 0,
             "ticks": ""
            },
            "type": "mesh3d"
           }
          ],
          "parcoords": [
           {
            "line": {
             "colorbar": {
              "outlinewidth": 0,
              "ticks": ""
             }
            },
            "type": "parcoords"
           }
          ],
          "pie": [
           {
            "automargin": true,
            "type": "pie"
           }
          ],
          "scatter": [
           {
            "fillpattern": {
             "fillmode": "overlay",
             "size": 10,
             "solidity": 0.2
            },
            "type": "scatter"
           }
          ],
          "scatter3d": [
           {
            "line": {
             "colorbar": {
              "outlinewidth": 0,
              "ticks": ""
             }
            },
            "marker": {
             "colorbar": {
              "outlinewidth": 0,
              "ticks": ""
             }
            },
            "type": "scatter3d"
           }
          ],
          "scattercarpet": [
           {
            "marker": {
             "colorbar": {
              "outlinewidth": 0,
              "ticks": ""
             }
            },
            "type": "scattercarpet"
           }
          ],
          "scattergeo": [
           {
            "marker": {
             "colorbar": {
              "outlinewidth": 0,
              "ticks": ""
             }
            },
            "type": "scattergeo"
           }
          ],
          "scattergl": [
           {
            "marker": {
             "colorbar": {
              "outlinewidth": 0,
              "ticks": ""
             }
            },
            "type": "scattergl"
           }
          ],
          "scattermap": [
           {
            "marker": {
             "colorbar": {
              "outlinewidth": 0,
              "ticks": ""
             }
            },
            "type": "scattermap"
           }
          ],
          "scattermapbox": [
           {
            "marker": {
             "colorbar": {
              "outlinewidth": 0,
              "ticks": ""
             }
            },
            "type": "scattermapbox"
           }
          ],
          "scatterpolar": [
           {
            "marker": {
             "colorbar": {
              "outlinewidth": 0,
              "ticks": ""
             }
            },
            "type": "scatterpolar"
           }
          ],
          "scatterpolargl": [
           {
            "marker": {
             "colorbar": {
              "outlinewidth": 0,
              "ticks": ""
             }
            },
            "type": "scatterpolargl"
           }
          ],
          "scatterternary": [
           {
            "marker": {
             "colorbar": {
              "outlinewidth": 0,
              "ticks": ""
             }
            },
            "type": "scatterternary"
           }
          ],
          "surface": [
           {
            "colorbar": {
             "outlinewidth": 0,
             "ticks": ""
            },
            "colorscale": [
             [
              0,
              "#0d0887"
             ],
             [
              0.1111111111111111,
              "#46039f"
             ],
             [
              0.2222222222222222,
              "#7201a8"
             ],
             [
              0.3333333333333333,
              "#9c179e"
             ],
             [
              0.4444444444444444,
              "#bd3786"
             ],
             [
              0.5555555555555556,
              "#d8576b"
             ],
             [
              0.6666666666666666,
              "#ed7953"
             ],
             [
              0.7777777777777778,
              "#fb9f3a"
             ],
             [
              0.8888888888888888,
              "#fdca26"
             ],
             [
              1,
              "#f0f921"
             ]
            ],
            "type": "surface"
           }
          ],
          "table": [
           {
            "cells": {
             "fill": {
              "color": "#EBF0F8"
             },
             "line": {
              "color": "white"
             }
            },
            "header": {
             "fill": {
              "color": "#C8D4E3"
             },
             "line": {
              "color": "white"
             }
            },
            "type": "table"
           }
          ]
         },
         "layout": {
          "annotationdefaults": {
           "arrowcolor": "#2a3f5f",
           "arrowhead": 0,
           "arrowwidth": 1
          },
          "autotypenumbers": "strict",
          "coloraxis": {
           "colorbar": {
            "outlinewidth": 0,
            "ticks": ""
           }
          },
          "colorscale": {
           "diverging": [
            [
             0,
             "#8e0152"
            ],
            [
             0.1,
             "#c51b7d"
            ],
            [
             0.2,
             "#de77ae"
            ],
            [
             0.3,
             "#f1b6da"
            ],
            [
             0.4,
             "#fde0ef"
            ],
            [
             0.5,
             "#f7f7f7"
            ],
            [
             0.6,
             "#e6f5d0"
            ],
            [
             0.7,
             "#b8e186"
            ],
            [
             0.8,
             "#7fbc41"
            ],
            [
             0.9,
             "#4d9221"
            ],
            [
             1,
             "#276419"
            ]
           ],
           "sequential": [
            [
             0,
             "#0d0887"
            ],
            [
             0.1111111111111111,
             "#46039f"
            ],
            [
             0.2222222222222222,
             "#7201a8"
            ],
            [
             0.3333333333333333,
             "#9c179e"
            ],
            [
             0.4444444444444444,
             "#bd3786"
            ],
            [
             0.5555555555555556,
             "#d8576b"
            ],
            [
             0.6666666666666666,
             "#ed7953"
            ],
            [
             0.7777777777777778,
             "#fb9f3a"
            ],
            [
             0.8888888888888888,
             "#fdca26"
            ],
            [
             1,
             "#f0f921"
            ]
           ],
           "sequentialminus": [
            [
             0,
             "#0d0887"
            ],
            [
             0.1111111111111111,
             "#46039f"
            ],
            [
             0.2222222222222222,
             "#7201a8"
            ],
            [
             0.3333333333333333,
             "#9c179e"
            ],
            [
             0.4444444444444444,
             "#bd3786"
            ],
            [
             0.5555555555555556,
             "#d8576b"
            ],
            [
             0.6666666666666666,
             "#ed7953"
            ],
            [
             0.7777777777777778,
             "#fb9f3a"
            ],
            [
             0.8888888888888888,
             "#fdca26"
            ],
            [
             1,
             "#f0f921"
            ]
           ]
          },
          "colorway": [
           "#636efa",
           "#EF553B",
           "#00cc96",
           "#ab63fa",
           "#FFA15A",
           "#19d3f3",
           "#FF6692",
           "#B6E880",
           "#FF97FF",
           "#FECB52"
          ],
          "font": {
           "color": "#2a3f5f"
          },
          "geo": {
           "bgcolor": "white",
           "lakecolor": "white",
           "landcolor": "#E5ECF6",
           "showlakes": true,
           "showland": true,
           "subunitcolor": "white"
          },
          "hoverlabel": {
           "align": "left"
          },
          "hovermode": "closest",
          "mapbox": {
           "style": "light"
          },
          "paper_bgcolor": "white",
          "plot_bgcolor": "#E5ECF6",
          "polar": {
           "angularaxis": {
            "gridcolor": "white",
            "linecolor": "white",
            "ticks": ""
           },
           "bgcolor": "#E5ECF6",
           "radialaxis": {
            "gridcolor": "white",
            "linecolor": "white",
            "ticks": ""
           }
          },
          "scene": {
           "xaxis": {
            "backgroundcolor": "#E5ECF6",
            "gridcolor": "white",
            "gridwidth": 2,
            "linecolor": "white",
            "showbackground": true,
            "ticks": "",
            "zerolinecolor": "white"
           },
           "yaxis": {
            "backgroundcolor": "#E5ECF6",
            "gridcolor": "white",
            "gridwidth": 2,
            "linecolor": "white",
            "showbackground": true,
            "ticks": "",
            "zerolinecolor": "white"
           },
           "zaxis": {
            "backgroundcolor": "#E5ECF6",
            "gridcolor": "white",
            "gridwidth": 2,
            "linecolor": "white",
            "showbackground": true,
            "ticks": "",
            "zerolinecolor": "white"
           }
          },
          "shapedefaults": {
           "line": {
            "color": "#2a3f5f"
           }
          },
          "ternary": {
           "aaxis": {
            "gridcolor": "white",
            "linecolor": "white",
            "ticks": ""
           },
           "baxis": {
            "gridcolor": "white",
            "linecolor": "white",
            "ticks": ""
           },
           "bgcolor": "#E5ECF6",
           "caxis": {
            "gridcolor": "white",
            "linecolor": "white",
            "ticks": ""
           }
          },
          "title": {
           "x": 0.05
          },
          "xaxis": {
           "automargin": true,
           "gridcolor": "white",
           "linecolor": "white",
           "ticks": "",
           "title": {
            "standoff": 15
           },
           "zerolinecolor": "white",
           "zerolinewidth": 2
          },
          "yaxis": {
           "automargin": true,
           "gridcolor": "white",
           "linecolor": "white",
           "ticks": "",
           "title": {
            "standoff": 15
           },
           "zerolinecolor": "white",
           "zerolinewidth": 2
          }
         }
        },
        "title": {
         "text": "MSE: Original | LR: 0.0001 | Loss: 373.279313"
        }
       }
      }
     },
     "metadata": {},
     "output_type": "display_data"
    }
   ],
   "source": [
    "# Filtrar e selecionar o melhor resultado MSE corretamente\n",
    "best_mse_results = df_result[df_result['Loss_Function'] == 'MSE']\n",
    "best_mse = best_mse_results.loc[best_mse_results['Final_Loss'].idxmin()]\n",
    "best_w = best_mse['Final_Weights']\n",
    "feature_set_used = best_mse['Feature_Set']\n",
    "\n",
    "print(\"Melhor resultado MSE:\")\n",
    "print(f\"Feature Set: {feature_set_used}\")\n",
    "print(f\"Learning Rate: {best_mse['Learning_Rate']}\")\n",
    "print(f\"Final Loss: {best_mse['Final_Loss']}\")\n",
    "print(f\"Pesos: {best_w}\")\n",
    "\n",
    "# Determinar qual conjunto de dados usar para predição\n",
    "if feature_set_used == 'Min-Max Normalized':\n",
    "    x_data = features_normalized['x'].values\n",
    "    y_data = features_normalized['y'].values\n",
    "elif feature_set_used == 'Padronized':\n",
    "    x_data = features_pradonized['x'].values\n",
    "    y_data = features_pradonized['y'].values\n",
    "else:\n",
    "    x_data = df['x'].values\n",
    "    y_data = df['y'].values\n",
    "\n",
    "# Criar função de predição\n",
    "f_pred = make_function(best_w)\n",
    "\n",
    "# Gerar predições para os pontos existentes\n",
    "predictions = [f_pred(x, y) for x, y in zip(x_data, y_data)]\n",
    "\n",
    "# Criar superfície com dados originais\n",
    "df_pivot = df.pivot(index='y', columns='x', values='z')\n",
    "x_axis = df_pivot.columns.values\n",
    "y_axis = df_pivot.index.values\n",
    "z_grid = df_pivot.values\n",
    "\n",
    "fig = go.Figure()\n",
    "\n",
    "# Superfície original\n",
    "fig.add_trace(go.Surface(\n",
    "    x=x_axis,\n",
    "    y=y_axis,\n",
    "    z=z_grid,\n",
    "    colorscale='Viridis',\n",
    "    opacity=0.7,\n",
    "    name='Dados Originais'\n",
    "))\n",
    "\n",
    "# Pontos preditos\n",
    "fig.add_trace(go.Scatter3d(\n",
    "    x=df['x'],  # Sempre use coordenadas originais para visualização\n",
    "    y=df['y'],\n",
    "    z=predictions,\n",
    "    mode='markers',\n",
    "    marker=dict(size=5, color='blue', symbol='circle'),\n",
    "    name='Predições',\n",
    "))\n",
    "\n",
    "fig.update_layout(\n",
    "    title=f'MSE: {feature_set_used} | LR: {best_mse[\"Learning_Rate\"]} | Loss: {best_mse[\"Final_Loss\"]:.6f}',\n",
    "    scene=dict(\n",
    "        xaxis_title='X',\n",
    "        yaxis_title='Y',\n",
    "        zaxis_title='Z'\n",
    "    ),\n",
    "    margin=dict(l=0, r=0, b=0, t=50)\n",
    ")\n",
    "\n",
    "fig.show()"
   ]
  },
  {
   "cell_type": "code",
   "execution_count": 10,
   "id": "81bc3c8f",
   "metadata": {},
   "outputs": [
    {
     "data": {
      "text/html": [
       "<div>\n",
       "<style scoped>\n",
       "    .dataframe tbody tr th:only-of-type {\n",
       "        vertical-align: middle;\n",
       "    }\n",
       "\n",
       "    .dataframe tbody tr th {\n",
       "        vertical-align: top;\n",
       "    }\n",
       "\n",
       "    .dataframe thead th {\n",
       "        text-align: right;\n",
       "    }\n",
       "</style>\n",
       "<table border=\"1\" class=\"dataframe\">\n",
       "  <thead>\n",
       "    <tr style=\"text-align: right;\">\n",
       "      <th></th>\n",
       "      <th>Feature_Set</th>\n",
       "      <th>Loss_Function</th>\n",
       "      <th>Learning_Rate</th>\n",
       "      <th>Initial_Weights</th>\n",
       "      <th>Final_Weights</th>\n",
       "      <th>Final_Loss</th>\n",
       "      <th>Iterations</th>\n",
       "    </tr>\n",
       "  </thead>\n",
       "  <tbody>\n",
       "    <tr>\n",
       "      <th>0</th>\n",
       "      <td>Original</td>\n",
       "      <td>MSE</td>\n",
       "      <td>0.0001</td>\n",
       "      <td>(5.0, 5.0, 8.0)</td>\n",
       "      <td>[5.006854213483814, 5.830160028785147, 8.95000...</td>\n",
       "      <td>373.279313</td>\n",
       "      <td>5000</td>\n",
       "    </tr>\n",
       "    <tr>\n",
       "      <th>1</th>\n",
       "      <td>Original</td>\n",
       "      <td>MSE</td>\n",
       "      <td>0.0001</td>\n",
       "      <td>(0.05, 0.05, 0.08)</td>\n",
       "      <td>[5.003120183475856, 6.11672830902677, 4.023694...</td>\n",
       "      <td>390.960242</td>\n",
       "      <td>5000</td>\n",
       "    </tr>\n",
       "    <tr>\n",
       "      <th>2</th>\n",
       "      <td>Original</td>\n",
       "      <td>MSE</td>\n",
       "      <td>0.0001</td>\n",
       "      <td>(0.0, 0.0, 0.0)</td>\n",
       "      <td>[5.003082466001028, 6.119622938120117, 3.97393...</td>\n",
       "      <td>391.246879</td>\n",
       "      <td>5000</td>\n",
       "    </tr>\n",
       "    <tr>\n",
       "      <th>3</th>\n",
       "      <td>Padronized</td>\n",
       "      <td>MSE</td>\n",
       "      <td>0.0100</td>\n",
       "      <td>(0.05, 0.05, 0.08)</td>\n",
       "      <td>[149.7334226158866, 54.85784252672594, -17.867...</td>\n",
       "      <td>1221.550872</td>\n",
       "      <td>2702</td>\n",
       "    </tr>\n",
       "    <tr>\n",
       "      <th>4</th>\n",
       "      <td>Padronized</td>\n",
       "      <td>MSE</td>\n",
       "      <td>0.0100</td>\n",
       "      <td>(0.0, 0.0, 0.0)</td>\n",
       "      <td>[149.7334226158866, 54.85784252079389, -17.867...</td>\n",
       "      <td>1221.550872</td>\n",
       "      <td>2701</td>\n",
       "    </tr>\n",
       "    <tr>\n",
       "      <th>5</th>\n",
       "      <td>Padronized</td>\n",
       "      <td>MSE</td>\n",
       "      <td>0.0100</td>\n",
       "      <td>(5.0, 5.0, 8.0)</td>\n",
       "      <td>[149.7334226158866, 54.8578425237414, -17.8672...</td>\n",
       "      <td>1221.550872</td>\n",
       "      <td>2714</td>\n",
       "    </tr>\n",
       "    <tr>\n",
       "      <th>6</th>\n",
       "      <td>Min-Max Normalized</td>\n",
       "      <td>MSE</td>\n",
       "      <td>0.0100</td>\n",
       "      <td>(5.0, 5.0, 8.0)</td>\n",
       "      <td>[556.7184500739417, 131.6572609884454, -17.866...</td>\n",
       "      <td>1221.550872</td>\n",
       "      <td>5000</td>\n",
       "    </tr>\n",
       "    <tr>\n",
       "      <th>7</th>\n",
       "      <td>Min-Max Normalized</td>\n",
       "      <td>MSE</td>\n",
       "      <td>0.0100</td>\n",
       "      <td>(0.05, 0.05, 0.08)</td>\n",
       "      <td>[556.7184500739281, 131.65724708008565, -17.86...</td>\n",
       "      <td>1221.550872</td>\n",
       "      <td>5000</td>\n",
       "    </tr>\n",
       "    <tr>\n",
       "      <th>8</th>\n",
       "      <td>Min-Max Normalized</td>\n",
       "      <td>MSE</td>\n",
       "      <td>0.0100</td>\n",
       "      <td>(0.0, 0.0, 0.0)</td>\n",
       "      <td>[556.7184500739281, 131.65724693959731, -17.86...</td>\n",
       "      <td>1221.550872</td>\n",
       "      <td>5000</td>\n",
       "    </tr>\n",
       "    <tr>\n",
       "      <th>9</th>\n",
       "      <td>Padronized</td>\n",
       "      <td>MSE</td>\n",
       "      <td>0.0010</td>\n",
       "      <td>(0.0, 0.0, 0.0)</td>\n",
       "      <td>[149.73342261588488, 53.73123486154125, -16.22...</td>\n",
       "      <td>1222.792754</td>\n",
       "      <td>5000</td>\n",
       "    </tr>\n",
       "    <tr>\n",
       "      <th>10</th>\n",
       "      <td>Padronized</td>\n",
       "      <td>MSE</td>\n",
       "      <td>0.0010</td>\n",
       "      <td>(0.05, 0.05, 0.08)</td>\n",
       "      <td>[149.73342261588488, 53.73030824837407, -16.22...</td>\n",
       "      <td>1222.794798</td>\n",
       "      <td>5000</td>\n",
       "    </tr>\n",
       "    <tr>\n",
       "      <th>11</th>\n",
       "      <td>Padronized</td>\n",
       "      <td>MSE</td>\n",
       "      <td>0.0010</td>\n",
       "      <td>(5.0, 5.0, 8.0)</td>\n",
       "      <td>[149.73342261588488, 53.638573544822044, -16.0...</td>\n",
       "      <td>1223.005440</td>\n",
       "      <td>5000</td>\n",
       "    </tr>\n",
       "    <tr>\n",
       "      <th>12</th>\n",
       "      <td>Padronized</td>\n",
       "      <td>MSE</td>\n",
       "      <td>0.0001</td>\n",
       "      <td>(0.0, 0.0, 0.0)</td>\n",
       "      <td>[145.91433780064378, 33.4389530648235, 8.01532...</td>\n",
       "      <td>1648.219588</td>\n",
       "      <td>5000</td>\n",
       "    </tr>\n",
       "    <tr>\n",
       "      <th>13</th>\n",
       "      <td>Padronized</td>\n",
       "      <td>MSE</td>\n",
       "      <td>0.0001</td>\n",
       "      <td>(0.05, 0.05, 0.08)</td>\n",
       "      <td>[145.91561309534703, 33.429486126177245, 8.042...</td>\n",
       "      <td>1648.651990</td>\n",
       "      <td>5000</td>\n",
       "    </tr>\n",
       "    <tr>\n",
       "      <th>14</th>\n",
       "      <td>Padronized</td>\n",
       "      <td>MSE</td>\n",
       "      <td>0.0001</td>\n",
       "      <td>(5.0, 5.0, 8.0)</td>\n",
       "      <td>[146.0418672709688, 32.49225920019662, 10.7036...</td>\n",
       "      <td>1695.204993</td>\n",
       "      <td>5000</td>\n",
       "    </tr>\n",
       "    <tr>\n",
       "      <th>15</th>\n",
       "      <td>Min-Max Normalized</td>\n",
       "      <td>MSE</td>\n",
       "      <td>0.0010</td>\n",
       "      <td>(5.0, 5.0, 8.0)</td>\n",
       "      <td>[517.8827867214297, 94.48055812896921, -0.4262...</td>\n",
       "      <td>1810.257231</td>\n",
       "      <td>5000</td>\n",
       "    </tr>\n",
       "    <tr>\n",
       "      <th>16</th>\n",
       "      <td>Min-Max Normalized</td>\n",
       "      <td>MSE</td>\n",
       "      <td>0.0010</td>\n",
       "      <td>(0.05, 0.05, 0.08)</td>\n",
       "      <td>[517.5343544122039, 94.14984537204835, -0.2711...</td>\n",
       "      <td>1820.838916</td>\n",
       "      <td>5000</td>\n",
       "    </tr>\n",
       "    <tr>\n",
       "      <th>17</th>\n",
       "      <td>Min-Max Normalized</td>\n",
       "      <td>MSE</td>\n",
       "      <td>0.0010</td>\n",
       "      <td>(0.0, 0.0, 0.0)</td>\n",
       "      <td>[517.530834893929, 94.14650483915028, -0.26956...</td>\n",
       "      <td>1820.946283</td>\n",
       "      <td>5000</td>\n",
       "    </tr>\n",
       "    <tr>\n",
       "      <th>18</th>\n",
       "      <td>Min-Max Normalized</td>\n",
       "      <td>MSE</td>\n",
       "      <td>0.0001</td>\n",
       "      <td>(5.0, 5.0, 8.0)</td>\n",
       "      <td>[133.56649595115823, 26.033439763655405, 21.53...</td>\n",
       "      <td>50238.112320</td>\n",
       "      <td>5000</td>\n",
       "    </tr>\n",
       "    <tr>\n",
       "      <th>19</th>\n",
       "      <td>Min-Max Normalized</td>\n",
       "      <td>MSE</td>\n",
       "      <td>0.0001</td>\n",
       "      <td>(0.05, 0.05, 0.08)</td>\n",
       "      <td>[129.7699903736692, 23.93728281116867, 19.4192...</td>\n",
       "      <td>51190.604832</td>\n",
       "      <td>5000</td>\n",
       "    </tr>\n",
       "    <tr>\n",
       "      <th>20</th>\n",
       "      <td>Min-Max Normalized</td>\n",
       "      <td>MSE</td>\n",
       "      <td>0.0001</td>\n",
       "      <td>(0.0, 0.0, 0.0)</td>\n",
       "      <td>[129.73164183248258, 23.91610950861837, 19.397...</td>\n",
       "      <td>51200.362100</td>\n",
       "      <td>5000</td>\n",
       "    </tr>\n",
       "  </tbody>\n",
       "</table>\n",
       "</div>"
      ],
      "text/plain": [
       "           Feature_Set Loss_Function  Learning_Rate     Initial_Weights  \\\n",
       "0             Original           MSE         0.0001     (5.0, 5.0, 8.0)   \n",
       "1             Original           MSE         0.0001  (0.05, 0.05, 0.08)   \n",
       "2             Original           MSE         0.0001     (0.0, 0.0, 0.0)   \n",
       "3           Padronized           MSE         0.0100  (0.05, 0.05, 0.08)   \n",
       "4           Padronized           MSE         0.0100     (0.0, 0.0, 0.0)   \n",
       "5           Padronized           MSE         0.0100     (5.0, 5.0, 8.0)   \n",
       "6   Min-Max Normalized           MSE         0.0100     (5.0, 5.0, 8.0)   \n",
       "7   Min-Max Normalized           MSE         0.0100  (0.05, 0.05, 0.08)   \n",
       "8   Min-Max Normalized           MSE         0.0100     (0.0, 0.0, 0.0)   \n",
       "9           Padronized           MSE         0.0010     (0.0, 0.0, 0.0)   \n",
       "10          Padronized           MSE         0.0010  (0.05, 0.05, 0.08)   \n",
       "11          Padronized           MSE         0.0010     (5.0, 5.0, 8.0)   \n",
       "12          Padronized           MSE         0.0001     (0.0, 0.0, 0.0)   \n",
       "13          Padronized           MSE         0.0001  (0.05, 0.05, 0.08)   \n",
       "14          Padronized           MSE         0.0001     (5.0, 5.0, 8.0)   \n",
       "15  Min-Max Normalized           MSE         0.0010     (5.0, 5.0, 8.0)   \n",
       "16  Min-Max Normalized           MSE         0.0010  (0.05, 0.05, 0.08)   \n",
       "17  Min-Max Normalized           MSE         0.0010     (0.0, 0.0, 0.0)   \n",
       "18  Min-Max Normalized           MSE         0.0001     (5.0, 5.0, 8.0)   \n",
       "19  Min-Max Normalized           MSE         0.0001  (0.05, 0.05, 0.08)   \n",
       "20  Min-Max Normalized           MSE         0.0001     (0.0, 0.0, 0.0)   \n",
       "\n",
       "                                        Final_Weights    Final_Loss  \\\n",
       "0   [5.006854213483814, 5.830160028785147, 8.95000...    373.279313   \n",
       "1   [5.003120183475856, 6.11672830902677, 4.023694...    390.960242   \n",
       "2   [5.003082466001028, 6.119622938120117, 3.97393...    391.246879   \n",
       "3   [149.7334226158866, 54.85784252672594, -17.867...   1221.550872   \n",
       "4   [149.7334226158866, 54.85784252079389, -17.867...   1221.550872   \n",
       "5   [149.7334226158866, 54.8578425237414, -17.8672...   1221.550872   \n",
       "6   [556.7184500739417, 131.6572609884454, -17.866...   1221.550872   \n",
       "7   [556.7184500739281, 131.65724708008565, -17.86...   1221.550872   \n",
       "8   [556.7184500739281, 131.65724693959731, -17.86...   1221.550872   \n",
       "9   [149.73342261588488, 53.73123486154125, -16.22...   1222.792754   \n",
       "10  [149.73342261588488, 53.73030824837407, -16.22...   1222.794798   \n",
       "11  [149.73342261588488, 53.638573544822044, -16.0...   1223.005440   \n",
       "12  [145.91433780064378, 33.4389530648235, 8.01532...   1648.219588   \n",
       "13  [145.91561309534703, 33.429486126177245, 8.042...   1648.651990   \n",
       "14  [146.0418672709688, 32.49225920019662, 10.7036...   1695.204993   \n",
       "15  [517.8827867214297, 94.48055812896921, -0.4262...   1810.257231   \n",
       "16  [517.5343544122039, 94.14984537204835, -0.2711...   1820.838916   \n",
       "17  [517.530834893929, 94.14650483915028, -0.26956...   1820.946283   \n",
       "18  [133.56649595115823, 26.033439763655405, 21.53...  50238.112320   \n",
       "19  [129.7699903736692, 23.93728281116867, 19.4192...  51190.604832   \n",
       "20  [129.73164183248258, 23.91610950861837, 19.397...  51200.362100   \n",
       "\n",
       "    Iterations  \n",
       "0         5000  \n",
       "1         5000  \n",
       "2         5000  \n",
       "3         2702  \n",
       "4         2701  \n",
       "5         2714  \n",
       "6         5000  \n",
       "7         5000  \n",
       "8         5000  \n",
       "9         5000  \n",
       "10        5000  \n",
       "11        5000  \n",
       "12        5000  \n",
       "13        5000  \n",
       "14        5000  \n",
       "15        5000  \n",
       "16        5000  \n",
       "17        5000  \n",
       "18        5000  \n",
       "19        5000  \n",
       "20        5000  "
      ]
     },
     "execution_count": 10,
     "metadata": {},
     "output_type": "execute_result"
    }
   ],
   "source": [
    "df_result_mse = df_result[df_result['Loss_Function'] == 'MSE'].sort_values(by='Final_Loss').reset_index(drop=True)\n",
    "df_result_mse"
   ]
  },
  {
   "cell_type": "markdown",
   "id": "7f27ad02",
   "metadata": {},
   "source": [
    "### RMSE"
   ]
  },
  {
   "cell_type": "code",
   "execution_count": 11,
   "id": "b8f68d53",
   "metadata": {},
   "outputs": [
    {
     "name": "stdout",
     "output_type": "stream",
     "text": [
      "Melhor resultado RMSE:\n",
      "Feature Set: Original\n",
      "Learning Rate: 0.01\n",
      "Final Loss: 19.297418263816873\n",
      "Pesos: [5.00747775 5.78230683 9.7726375 ]\n"
     ]
    },
    {
     "data": {
      "application/vnd.plotly.v1+json": {
       "config": {
        "plotlyServerURL": "https://plot.ly"
       },
       "data": [
        {
         "colorscale": [
          [
           0,
           "#440154"
          ],
          [
           0.1111111111111111,
           "#482878"
          ],
          [
           0.2222222222222222,
           "#3e4989"
          ],
          [
           0.3333333333333333,
           "#31688e"
          ],
          [
           0.4444444444444444,
           "#26828e"
          ],
          [
           0.5555555555555556,
           "#1f9e89"
          ],
          [
           0.6666666666666666,
           "#35b779"
          ],
          [
           0.7777777777777778,
           "#6ece58"
          ],
          [
           0.8888888888888888,
           "#b5de2b"
          ],
          [
           1,
           "#fde725"
          ]
         ],
         "name": "Dados Originais",
         "opacity": 0.7,
         "type": "surface",
         "x": {
          "bdata": "AAAAAAAAFMBmZmZmZmYOwM3MzMzMzATAaGZmZmZm9r+gmZmZmZnJvwAAAAAAAPA/mZmZmZmZAUAyMzMzMzMLQGZmZmZmZhJA",
          "dtype": "f8"
         },
         "y": {
          "bdata": "AAAAAAAAFMBmZmZmZmYOwM3MzMzMzATAaGZmZmZm9r+gmZmZmZnJvwAAAAAAAPA/mZmZmZmZAUAyMzMzMzMLQGZmZmZmZhJA",
          "dtype": "f8"
         },
         "z": {
          "bdata": "9sghBmuvfMC0I0+f2t1hwK8LugEe2lJAqRchANEXY0CXyXr2YdNiQAXkA6qEaGRAYRUI67oQZkCrc0pJRUR3QPvexyqfJYNA56vLG+RCgMBgZFWNY0RmwEa0ZU71tjdASHovQizPUEC2yUt2ioZXQIE/ymEiEFJAofS3QC9TZUDm0Y69RzpxQBxk+a3Gm4JAh69vWFCIgsDr2fnzbGBtwMXwCs/1Y0XAAKbl/Ohw5z+MPGrMWAZUQIPM0KKqs01AdnFhUEEJY0BYWYDTU69vQGvDh4ASt4BAxGnZfDb2gsC8hbDvayFqwFXOkBgITEHATybcMR6bRkD4ZK9QxgMSQLZw2jvWoCRAbl3iWwiMV0AD6gnTpuNpQNwbLrpiU4BAAeQkEzeLhMAk6/XeOCtuwLj38j6P0FXA/Yd56iUkL8DWRXvas+Q5QPddrDvbtSpAiXUrThCVTEAi8fVSARFpQN9/ze8BZX9ANYX9+71QgsBaaZmAw0RzwKEVjb8aVVDAjlnf8IZjEUDsg/0U6SE2QBSM3YxpuTtAIlxfPf9zU0AmTk5q1SNpQMAYRqOGBIBA/M43o1W0gsACTn1vyk9swPoCevfMxUHAOsIQ26pKQkAcJJh7USlBQOqpfkVp8jlAN2AcB9zjUUAW4wxTc+FqQNasiNjrAH9AUTA5arzNgcDHxNnozt5rwPVOnU/RQxvAfddQOV36UEA6vegZHBdNQIdtQ2USplNAhP5SrQhFZUCdRKEKSBtwQJ8BCeQTDYFAihsM/ebRfsBpdWkKCdBhwBqUJlS9rFBAp8B+eU9JWkAiG2r8lmdgQIRpKZrCnmJAx2bRaHMgakCkRVdKg5R0QNmH6s2ZNYNA",
          "dtype": "f8",
          "shape": "9, 9"
         }
        },
        {
         "marker": {
          "color": "blue",
          "size": 5,
          "symbol": "circle"
         },
         "mode": "markers",
         "name": "Predições",
         "type": "scatter3d",
         "x": {
          "bdata": "AAAAAAAAFMAAAAAAAAAUwAAAAAAAABTAAAAAAAAAFMAAAAAAAAAUwAAAAAAAABTAAAAAAAAAFMAAAAAAAAAUwAAAAAAAABTAZmZmZmZmDsBmZmZmZmYOwGZmZmZmZg7AZmZmZmZmDsBmZmZmZmYOwGZmZmZmZg7AZmZmZmZmDsBmZmZmZmYOwGZmZmZmZg7AzczMzMzMBMDNzMzMzMwEwM3MzMzMzATAzczMzMzMBMDNzMzMzMwEwM3MzMzMzATAzczMzMzMBMDNzMzMzMwEwM3MzMzMzATAaGZmZmZm9r9oZmZmZmb2v2hmZmZmZva/aGZmZmZm9r9oZmZmZmb2v2hmZmZmZva/aGZmZmZm9r9oZmZmZmb2v2hmZmZmZva/oJmZmZmZyb+gmZmZmZnJv6CZmZmZmcm/oJmZmZmZyb+gmZmZmZnJv6CZmZmZmcm/oJmZmZmZyb+gmZmZmZnJv6CZmZmZmcm/AAAAAAAA8D8AAAAAAADwPwAAAAAAAPA/AAAAAAAA8D8AAAAAAADwPwAAAAAAAPA/AAAAAAAA8D8AAAAAAADwPwAAAAAAAPA/mZmZmZmZAUCZmZmZmZkBQJmZmZmZmQFAmZmZmZmZAUCZmZmZmZkBQJmZmZmZmQFAmZmZmZmZAUCZmZmZmZkBQJmZmZmZmQFAMjMzMzMzC0AyMzMzMzMLQDIzMzMzMwtAMjMzMzMzC0AyMzMzMzMLQDIzMzMzMwtAMjMzMzMzC0AyMzMzMzMLQDIzMzMzMwtAZmZmZmZmEkBmZmZmZmYSQGZmZmZmZhJAZmZmZmZmEkBmZmZmZmYSQGZmZmZmZhJAZmZmZmZmEkBmZmZmZmYSQGZmZmZmZhJA",
          "dtype": "f8"
         },
         "y": {
          "bdata": "AAAAAAAAFMBmZmZmZmYOwM3MzMzMzATAaGZmZmZm9r+gmZmZmZnJvwAAAAAAAPA/mZmZmZmZAUAyMzMzMzMLQGZmZmZmZhJAAAAAAAAAFMBmZmZmZmYOwM3MzMzMzATAaGZmZmZm9r+gmZmZmZnJvwAAAAAAAPA/mZmZmZmZAUAyMzMzMzMLQGZmZmZmZhJAAAAAAAAAFMBmZmZmZmYOwM3MzMzMzATAaGZmZmZm9r+gmZmZmZnJvwAAAAAAAPA/mZmZmZmZAUAyMzMzMzMLQGZmZmZmZhJAAAAAAAAAFMBmZmZmZmYOwM3MzMzMzATAaGZmZmZm9r+gmZmZmZnJvwAAAAAAAPA/mZmZmZmZAUAyMzMzMzMLQGZmZmZmZhJAAAAAAAAAFMBmZmZmZmYOwM3MzMzMzATAaGZmZmZm9r+gmZmZmZnJvwAAAAAAAPA/mZmZmZmZAUAyMzMzMzMLQGZmZmZmZhJAAAAAAAAAFMBmZmZmZmYOwM3MzMzMzATAaGZmZmZm9r+gmZmZmZnJvwAAAAAAAPA/mZmZmZmZAUAyMzMzMzMLQGZmZmZmZhJAAAAAAAAAFMBmZmZmZmYOwM3MzMzMzATAaGZmZmZm9r+gmZmZmZnJvwAAAAAAAPA/mZmZmZmZAUAyMzMzMzMLQGZmZmZmZhJAAAAAAAAAFMBmZmZmZmYOwM3MzMzMzATAaGZmZmZm9r+gmZmZmZnJvwAAAAAAAPA/mZmZmZmZAUAyMzMzMzMLQGZmZmZmZhJAAAAAAAAAFMBmZmZmZmYOwM3MzMzMzATAaGZmZmZm9r+gmZmZmZnJvwAAAAAAAPA/mZmZmZmZAUAyMzMzMzMLQGZmZmZmZhJA",
          "dtype": "f8"
         },
         "z": [
          -471.6044104065402,
          -532.6655704812521,
          -577.0736868992244,
          -604.8287596604571,
          -615.9307887649502,
          -610.3797742127036,
          -588.1757160037175,
          -549.3186141379917,
          -493.80846861552635,
          -120.44001087424554,
          -181.50117094895748,
          -225.9092873669298,
          -253.66436012816246,
          -264.7663892326555,
          -259.215374680409,
          -237.01131647142284,
          -198.15421460569712,
          -142.64406908323173,
          66.31887922609178,
          5.257719151379856,
          -39.150397266592435,
          -66.90547002782512,
          -78.0074991323182,
          -72.45648458007166,
          -50.25242637108552,
          -11.39532450535977,
          44.1148210171056,
          140.5897891887742,
          79.52862911406228,
          35.12051269608999,
          7.365439934857305,
          -3.736589169635776,
          1.8144253826107617,
          24.018483591596905,
          62.87558545732266,
          118.38573097978802,
          154.29024830810397,
          93.22908823339206,
          48.82097181541977,
          21.065899054187085,
          9.963869949694004,
          15.514884501940541,
          37.71894271092668,
          76.57604457665244,
          132.0861900991178,
          159.33778587838336,
          98.27662580367145,
          53.868509385699156,
          26.113436624466473,
          15.011407519973393,
          20.56242207221993,
          42.76648028120607,
          81.62358214693182,
          137.1337276693972,
          207.64993119391463,
          146.5887711192027,
          102.18065470123044,
          74.42558193999774,
          63.32355283550467,
          68.8745673877512,
          91.07862559673735,
          129.9357274624631,
          185.44587298492846,
          351.144213549,
          290.08305347428814,
          245.6749370563158,
          217.91986429508313,
          206.81783519059005,
          212.36884974283657,
          234.57290795182274,
          273.43000981754847,
          328.94015534001386,
          641.738162237942,
          580.6770021632301,
          536.2688857452578,
          508.5138129840251,
          497.41178387953204,
          502.96279843177854,
          525.1668566407646,
          564.0239585064904,
          619.5341040289558
         ]
        }
       ],
       "layout": {
        "margin": {
         "b": 0,
         "l": 0,
         "r": 0,
         "t": 50
        },
        "scene": {
         "xaxis": {
          "title": {
           "text": "X"
          }
         },
         "yaxis": {
          "title": {
           "text": "Y"
          }
         },
         "zaxis": {
          "title": {
           "text": "Z"
          }
         }
        },
        "template": {
         "data": {
          "bar": [
           {
            "error_x": {
             "color": "#2a3f5f"
            },
            "error_y": {
             "color": "#2a3f5f"
            },
            "marker": {
             "line": {
              "color": "#E5ECF6",
              "width": 0.5
             },
             "pattern": {
              "fillmode": "overlay",
              "size": 10,
              "solidity": 0.2
             }
            },
            "type": "bar"
           }
          ],
          "barpolar": [
           {
            "marker": {
             "line": {
              "color": "#E5ECF6",
              "width": 0.5
             },
             "pattern": {
              "fillmode": "overlay",
              "size": 10,
              "solidity": 0.2
             }
            },
            "type": "barpolar"
           }
          ],
          "carpet": [
           {
            "aaxis": {
             "endlinecolor": "#2a3f5f",
             "gridcolor": "white",
             "linecolor": "white",
             "minorgridcolor": "white",
             "startlinecolor": "#2a3f5f"
            },
            "baxis": {
             "endlinecolor": "#2a3f5f",
             "gridcolor": "white",
             "linecolor": "white",
             "minorgridcolor": "white",
             "startlinecolor": "#2a3f5f"
            },
            "type": "carpet"
           }
          ],
          "choropleth": [
           {
            "colorbar": {
             "outlinewidth": 0,
             "ticks": ""
            },
            "type": "choropleth"
           }
          ],
          "contour": [
           {
            "colorbar": {
             "outlinewidth": 0,
             "ticks": ""
            },
            "colorscale": [
             [
              0,
              "#0d0887"
             ],
             [
              0.1111111111111111,
              "#46039f"
             ],
             [
              0.2222222222222222,
              "#7201a8"
             ],
             [
              0.3333333333333333,
              "#9c179e"
             ],
             [
              0.4444444444444444,
              "#bd3786"
             ],
             [
              0.5555555555555556,
              "#d8576b"
             ],
             [
              0.6666666666666666,
              "#ed7953"
             ],
             [
              0.7777777777777778,
              "#fb9f3a"
             ],
             [
              0.8888888888888888,
              "#fdca26"
             ],
             [
              1,
              "#f0f921"
             ]
            ],
            "type": "contour"
           }
          ],
          "contourcarpet": [
           {
            "colorbar": {
             "outlinewidth": 0,
             "ticks": ""
            },
            "type": "contourcarpet"
           }
          ],
          "heatmap": [
           {
            "colorbar": {
             "outlinewidth": 0,
             "ticks": ""
            },
            "colorscale": [
             [
              0,
              "#0d0887"
             ],
             [
              0.1111111111111111,
              "#46039f"
             ],
             [
              0.2222222222222222,
              "#7201a8"
             ],
             [
              0.3333333333333333,
              "#9c179e"
             ],
             [
              0.4444444444444444,
              "#bd3786"
             ],
             [
              0.5555555555555556,
              "#d8576b"
             ],
             [
              0.6666666666666666,
              "#ed7953"
             ],
             [
              0.7777777777777778,
              "#fb9f3a"
             ],
             [
              0.8888888888888888,
              "#fdca26"
             ],
             [
              1,
              "#f0f921"
             ]
            ],
            "type": "heatmap"
           }
          ],
          "histogram": [
           {
            "marker": {
             "pattern": {
              "fillmode": "overlay",
              "size": 10,
              "solidity": 0.2
             }
            },
            "type": "histogram"
           }
          ],
          "histogram2d": [
           {
            "colorbar": {
             "outlinewidth": 0,
             "ticks": ""
            },
            "colorscale": [
             [
              0,
              "#0d0887"
             ],
             [
              0.1111111111111111,
              "#46039f"
             ],
             [
              0.2222222222222222,
              "#7201a8"
             ],
             [
              0.3333333333333333,
              "#9c179e"
             ],
             [
              0.4444444444444444,
              "#bd3786"
             ],
             [
              0.5555555555555556,
              "#d8576b"
             ],
             [
              0.6666666666666666,
              "#ed7953"
             ],
             [
              0.7777777777777778,
              "#fb9f3a"
             ],
             [
              0.8888888888888888,
              "#fdca26"
             ],
             [
              1,
              "#f0f921"
             ]
            ],
            "type": "histogram2d"
           }
          ],
          "histogram2dcontour": [
           {
            "colorbar": {
             "outlinewidth": 0,
             "ticks": ""
            },
            "colorscale": [
             [
              0,
              "#0d0887"
             ],
             [
              0.1111111111111111,
              "#46039f"
             ],
             [
              0.2222222222222222,
              "#7201a8"
             ],
             [
              0.3333333333333333,
              "#9c179e"
             ],
             [
              0.4444444444444444,
              "#bd3786"
             ],
             [
              0.5555555555555556,
              "#d8576b"
             ],
             [
              0.6666666666666666,
              "#ed7953"
             ],
             [
              0.7777777777777778,
              "#fb9f3a"
             ],
             [
              0.8888888888888888,
              "#fdca26"
             ],
             [
              1,
              "#f0f921"
             ]
            ],
            "type": "histogram2dcontour"
           }
          ],
          "mesh3d": [
           {
            "colorbar": {
             "outlinewidth": 0,
             "ticks": ""
            },
            "type": "mesh3d"
           }
          ],
          "parcoords": [
           {
            "line": {
             "colorbar": {
              "outlinewidth": 0,
              "ticks": ""
             }
            },
            "type": "parcoords"
           }
          ],
          "pie": [
           {
            "automargin": true,
            "type": "pie"
           }
          ],
          "scatter": [
           {
            "fillpattern": {
             "fillmode": "overlay",
             "size": 10,
             "solidity": 0.2
            },
            "type": "scatter"
           }
          ],
          "scatter3d": [
           {
            "line": {
             "colorbar": {
              "outlinewidth": 0,
              "ticks": ""
             }
            },
            "marker": {
             "colorbar": {
              "outlinewidth": 0,
              "ticks": ""
             }
            },
            "type": "scatter3d"
           }
          ],
          "scattercarpet": [
           {
            "marker": {
             "colorbar": {
              "outlinewidth": 0,
              "ticks": ""
             }
            },
            "type": "scattercarpet"
           }
          ],
          "scattergeo": [
           {
            "marker": {
             "colorbar": {
              "outlinewidth": 0,
              "ticks": ""
             }
            },
            "type": "scattergeo"
           }
          ],
          "scattergl": [
           {
            "marker": {
             "colorbar": {
              "outlinewidth": 0,
              "ticks": ""
             }
            },
            "type": "scattergl"
           }
          ],
          "scattermap": [
           {
            "marker": {
             "colorbar": {
              "outlinewidth": 0,
              "ticks": ""
             }
            },
            "type": "scattermap"
           }
          ],
          "scattermapbox": [
           {
            "marker": {
             "colorbar": {
              "outlinewidth": 0,
              "ticks": ""
             }
            },
            "type": "scattermapbox"
           }
          ],
          "scatterpolar": [
           {
            "marker": {
             "colorbar": {
              "outlinewidth": 0,
              "ticks": ""
             }
            },
            "type": "scatterpolar"
           }
          ],
          "scatterpolargl": [
           {
            "marker": {
             "colorbar": {
              "outlinewidth": 0,
              "ticks": ""
             }
            },
            "type": "scatterpolargl"
           }
          ],
          "scatterternary": [
           {
            "marker": {
             "colorbar": {
              "outlinewidth": 0,
              "ticks": ""
             }
            },
            "type": "scatterternary"
           }
          ],
          "surface": [
           {
            "colorbar": {
             "outlinewidth": 0,
             "ticks": ""
            },
            "colorscale": [
             [
              0,
              "#0d0887"
             ],
             [
              0.1111111111111111,
              "#46039f"
             ],
             [
              0.2222222222222222,
              "#7201a8"
             ],
             [
              0.3333333333333333,
              "#9c179e"
             ],
             [
              0.4444444444444444,
              "#bd3786"
             ],
             [
              0.5555555555555556,
              "#d8576b"
             ],
             [
              0.6666666666666666,
              "#ed7953"
             ],
             [
              0.7777777777777778,
              "#fb9f3a"
             ],
             [
              0.8888888888888888,
              "#fdca26"
             ],
             [
              1,
              "#f0f921"
             ]
            ],
            "type": "surface"
           }
          ],
          "table": [
           {
            "cells": {
             "fill": {
              "color": "#EBF0F8"
             },
             "line": {
              "color": "white"
             }
            },
            "header": {
             "fill": {
              "color": "#C8D4E3"
             },
             "line": {
              "color": "white"
             }
            },
            "type": "table"
           }
          ]
         },
         "layout": {
          "annotationdefaults": {
           "arrowcolor": "#2a3f5f",
           "arrowhead": 0,
           "arrowwidth": 1
          },
          "autotypenumbers": "strict",
          "coloraxis": {
           "colorbar": {
            "outlinewidth": 0,
            "ticks": ""
           }
          },
          "colorscale": {
           "diverging": [
            [
             0,
             "#8e0152"
            ],
            [
             0.1,
             "#c51b7d"
            ],
            [
             0.2,
             "#de77ae"
            ],
            [
             0.3,
             "#f1b6da"
            ],
            [
             0.4,
             "#fde0ef"
            ],
            [
             0.5,
             "#f7f7f7"
            ],
            [
             0.6,
             "#e6f5d0"
            ],
            [
             0.7,
             "#b8e186"
            ],
            [
             0.8,
             "#7fbc41"
            ],
            [
             0.9,
             "#4d9221"
            ],
            [
             1,
             "#276419"
            ]
           ],
           "sequential": [
            [
             0,
             "#0d0887"
            ],
            [
             0.1111111111111111,
             "#46039f"
            ],
            [
             0.2222222222222222,
             "#7201a8"
            ],
            [
             0.3333333333333333,
             "#9c179e"
            ],
            [
             0.4444444444444444,
             "#bd3786"
            ],
            [
             0.5555555555555556,
             "#d8576b"
            ],
            [
             0.6666666666666666,
             "#ed7953"
            ],
            [
             0.7777777777777778,
             "#fb9f3a"
            ],
            [
             0.8888888888888888,
             "#fdca26"
            ],
            [
             1,
             "#f0f921"
            ]
           ],
           "sequentialminus": [
            [
             0,
             "#0d0887"
            ],
            [
             0.1111111111111111,
             "#46039f"
            ],
            [
             0.2222222222222222,
             "#7201a8"
            ],
            [
             0.3333333333333333,
             "#9c179e"
            ],
            [
             0.4444444444444444,
             "#bd3786"
            ],
            [
             0.5555555555555556,
             "#d8576b"
            ],
            [
             0.6666666666666666,
             "#ed7953"
            ],
            [
             0.7777777777777778,
             "#fb9f3a"
            ],
            [
             0.8888888888888888,
             "#fdca26"
            ],
            [
             1,
             "#f0f921"
            ]
           ]
          },
          "colorway": [
           "#636efa",
           "#EF553B",
           "#00cc96",
           "#ab63fa",
           "#FFA15A",
           "#19d3f3",
           "#FF6692",
           "#B6E880",
           "#FF97FF",
           "#FECB52"
          ],
          "font": {
           "color": "#2a3f5f"
          },
          "geo": {
           "bgcolor": "white",
           "lakecolor": "white",
           "landcolor": "#E5ECF6",
           "showlakes": true,
           "showland": true,
           "subunitcolor": "white"
          },
          "hoverlabel": {
           "align": "left"
          },
          "hovermode": "closest",
          "mapbox": {
           "style": "light"
          },
          "paper_bgcolor": "white",
          "plot_bgcolor": "#E5ECF6",
          "polar": {
           "angularaxis": {
            "gridcolor": "white",
            "linecolor": "white",
            "ticks": ""
           },
           "bgcolor": "#E5ECF6",
           "radialaxis": {
            "gridcolor": "white",
            "linecolor": "white",
            "ticks": ""
           }
          },
          "scene": {
           "xaxis": {
            "backgroundcolor": "#E5ECF6",
            "gridcolor": "white",
            "gridwidth": 2,
            "linecolor": "white",
            "showbackground": true,
            "ticks": "",
            "zerolinecolor": "white"
           },
           "yaxis": {
            "backgroundcolor": "#E5ECF6",
            "gridcolor": "white",
            "gridwidth": 2,
            "linecolor": "white",
            "showbackground": true,
            "ticks": "",
            "zerolinecolor": "white"
           },
           "zaxis": {
            "backgroundcolor": "#E5ECF6",
            "gridcolor": "white",
            "gridwidth": 2,
            "linecolor": "white",
            "showbackground": true,
            "ticks": "",
            "zerolinecolor": "white"
           }
          },
          "shapedefaults": {
           "line": {
            "color": "#2a3f5f"
           }
          },
          "ternary": {
           "aaxis": {
            "gridcolor": "white",
            "linecolor": "white",
            "ticks": ""
           },
           "baxis": {
            "gridcolor": "white",
            "linecolor": "white",
            "ticks": ""
           },
           "bgcolor": "#E5ECF6",
           "caxis": {
            "gridcolor": "white",
            "linecolor": "white",
            "ticks": ""
           }
          },
          "title": {
           "x": 0.05
          },
          "xaxis": {
           "automargin": true,
           "gridcolor": "white",
           "linecolor": "white",
           "ticks": "",
           "title": {
            "standoff": 15
           },
           "zerolinecolor": "white",
           "zerolinewidth": 2
          },
          "yaxis": {
           "automargin": true,
           "gridcolor": "white",
           "linecolor": "white",
           "ticks": "",
           "title": {
            "standoff": 15
           },
           "zerolinecolor": "white",
           "zerolinewidth": 2
          }
         }
        },
        "title": {
         "text": "RMSE: Original | LR: 0.01 | Loss: 19.297418"
        }
       }
      }
     },
     "metadata": {},
     "output_type": "display_data"
    }
   ],
   "source": [
    "# Filtrar e selecionar o melhor resultado RMSE corretamente\n",
    "best_rmse_results = df_result[df_result['Loss_Function'] == 'RMSE']\n",
    "best_rmse = best_rmse_results.loc[best_rmse_results['Final_Loss'].idxmin()]\n",
    "best_w = best_rmse['Final_Weights']\n",
    "feature_set_used = best_rmse['Feature_Set']\n",
    "\n",
    "print(\"Melhor resultado RMSE:\")\n",
    "print(f\"Feature Set: {feature_set_used}\")\n",
    "print(f\"Learning Rate: {best_rmse['Learning_Rate']}\")\n",
    "print(f\"Final Loss: {best_rmse['Final_Loss']}\")\n",
    "print(f\"Pesos: {best_w}\")\n",
    "\n",
    "# Determinar qual conjunto de dados usar para predição\n",
    "if feature_set_used == 'Min-Max Normalized':\n",
    "    x_data = features_normalized['x'].values\n",
    "    y_data = features_normalized['y'].values\n",
    "elif feature_set_used == 'Padronized':\n",
    "    x_data = features_pradonized['x'].values\n",
    "    y_data = features_pradonized['y'].values\n",
    "else:\n",
    "    x_data = df['x'].values\n",
    "    y_data = df['y'].values\n",
    "\n",
    "# Criar função de predição\n",
    "f_pred = make_function(best_w)\n",
    "\n",
    "# Gerar predições para os pontos existentes\n",
    "predictions = [f_pred(x, y) for x, y in zip(x_data, y_data)]\n",
    "\n",
    "# Criar superfície com dados originais\n",
    "df_pivot = df.pivot(index='y', columns='x', values='z')\n",
    "x_axis = df_pivot.columns.values\n",
    "y_axis = df_pivot.index.values\n",
    "z_grid = df_pivot.values\n",
    "\n",
    "fig = go.Figure()\n",
    "\n",
    "# Superfície original\n",
    "fig.add_trace(go.Surface(\n",
    "    x=x_axis,\n",
    "    y=y_axis,\n",
    "    z=z_grid,\n",
    "    colorscale='Viridis',\n",
    "    opacity=0.7,\n",
    "    name='Dados Originais'\n",
    "))\n",
    "\n",
    "# Pontos preditos\n",
    "fig.add_trace(go.Scatter3d(\n",
    "    x=df['x'],  # Sempre use coordenadas originais para visualização\n",
    "    y=df['y'],\n",
    "    z=predictions,\n",
    "    mode='markers',\n",
    "    marker=dict(size=5, color='blue', symbol='circle'),\n",
    "    name='Predições',\n",
    "))\n",
    "\n",
    "fig.update_layout(\n",
    "    title=f'RMSE: {feature_set_used} | LR: {best_rmse[\"Learning_Rate\"]} | Loss: {best_rmse[\"Final_Loss\"]:.6f}',\n",
    "    scene=dict(\n",
    "        xaxis_title='X',\n",
    "        yaxis_title='Y',\n",
    "        zaxis_title='Z'\n",
    "    ),\n",
    "    margin=dict(l=0, r=0, b=0, t=50)\n",
    ")\n",
    "\n",
    "fig.show()"
   ]
  },
  {
   "cell_type": "code",
   "execution_count": 12,
   "id": "d01fb303",
   "metadata": {},
   "outputs": [
    {
     "data": {
      "text/html": [
       "<div>\n",
       "<style scoped>\n",
       "    .dataframe tbody tr th:only-of-type {\n",
       "        vertical-align: middle;\n",
       "    }\n",
       "\n",
       "    .dataframe tbody tr th {\n",
       "        vertical-align: top;\n",
       "    }\n",
       "\n",
       "    .dataframe thead th {\n",
       "        text-align: right;\n",
       "    }\n",
       "</style>\n",
       "<table border=\"1\" class=\"dataframe\">\n",
       "  <thead>\n",
       "    <tr style=\"text-align: right;\">\n",
       "      <th></th>\n",
       "      <th>Feature_Set</th>\n",
       "      <th>Loss_Function</th>\n",
       "      <th>Learning_Rate</th>\n",
       "      <th>Initial_Weights</th>\n",
       "      <th>Final_Weights</th>\n",
       "      <th>Final_Loss</th>\n",
       "      <th>Iterations</th>\n",
       "    </tr>\n",
       "  </thead>\n",
       "  <tbody>\n",
       "    <tr>\n",
       "      <th>0</th>\n",
       "      <td>Original</td>\n",
       "      <td>RMSE</td>\n",
       "      <td>0.0100</td>\n",
       "      <td>(5.0, 5.0, 8.0)</td>\n",
       "      <td>[5.007477748293044, 5.78230682525681, 9.772637...</td>\n",
       "      <td>19.297418</td>\n",
       "      <td>5000</td>\n",
       "    </tr>\n",
       "    <tr>\n",
       "      <th>1</th>\n",
       "      <td>Original</td>\n",
       "      <td>RMSE</td>\n",
       "      <td>0.0010</td>\n",
       "      <td>(5.0, 5.0, 8.0)</td>\n",
       "      <td>[5.006377899720806, 5.866714747314398, 8.32160...</td>\n",
       "      <td>19.348288</td>\n",
       "      <td>5000</td>\n",
       "    </tr>\n",
       "    <tr>\n",
       "      <th>2</th>\n",
       "      <td>Original</td>\n",
       "      <td>RMSE</td>\n",
       "      <td>0.0001</td>\n",
       "      <td>(5.0, 5.0, 8.0)</td>\n",
       "      <td>[5.005956655896799, 5.867319533310181, 8.07845...</td>\n",
       "      <td>19.362176</td>\n",
       "      <td>5000</td>\n",
       "    </tr>\n",
       "    <tr>\n",
       "      <th>3</th>\n",
       "      <td>Original</td>\n",
       "      <td>RMSE</td>\n",
       "      <td>0.0100</td>\n",
       "      <td>(0.05, 0.05, 0.08)</td>\n",
       "      <td>[5.005525370576057, 5.932142130154375, 7.19686...</td>\n",
       "      <td>19.420200</td>\n",
       "      <td>5000</td>\n",
       "    </tr>\n",
       "    <tr>\n",
       "      <th>4</th>\n",
       "      <td>Original</td>\n",
       "      <td>RMSE</td>\n",
       "      <td>0.0100</td>\n",
       "      <td>(0.0, 0.0, 0.0)</td>\n",
       "      <td>[5.005504614637994, 5.933735045439684, 7.16947...</td>\n",
       "      <td>19.422302</td>\n",
       "      <td>5000</td>\n",
       "    </tr>\n",
       "    <tr>\n",
       "      <th>5</th>\n",
       "      <td>Original</td>\n",
       "      <td>RMSE</td>\n",
       "      <td>0.0010</td>\n",
       "      <td>(0.05, 0.05, 0.08)</td>\n",
       "      <td>[5.001139518500306, 6.26873452069843, 1.410599...</td>\n",
       "      <td>20.222144</td>\n",
       "      <td>5000</td>\n",
       "    </tr>\n",
       "    <tr>\n",
       "      <th>6</th>\n",
       "      <td>Original</td>\n",
       "      <td>RMSE</td>\n",
       "      <td>0.0010</td>\n",
       "      <td>(0.0, 0.0, 0.0)</td>\n",
       "      <td>[5.001085717281649, 6.272863497346317, 1.33961...</td>\n",
       "      <td>20.236267</td>\n",
       "      <td>5000</td>\n",
       "    </tr>\n",
       "    <tr>\n",
       "      <th>7</th>\n",
       "      <td>Original</td>\n",
       "      <td>RMSE</td>\n",
       "      <td>0.0001</td>\n",
       "      <td>(0.05, 0.05, 0.08)</td>\n",
       "      <td>[4.9788627380404815, 5.096876678813543, 0.4139...</td>\n",
       "      <td>25.798080</td>\n",
       "      <td>5000</td>\n",
       "    </tr>\n",
       "    <tr>\n",
       "      <th>8</th>\n",
       "      <td>Original</td>\n",
       "      <td>RMSE</td>\n",
       "      <td>0.0001</td>\n",
       "      <td>(0.0, 0.0, 0.0)</td>\n",
       "      <td>[4.978107433531541, 5.061778956153373, 0.33450...</td>\n",
       "      <td>26.125770</td>\n",
       "      <td>5000</td>\n",
       "    </tr>\n",
       "    <tr>\n",
       "      <th>9</th>\n",
       "      <td>Padronized</td>\n",
       "      <td>RMSE</td>\n",
       "      <td>0.0100</td>\n",
       "      <td>(5.0, 5.0, 8.0)</td>\n",
       "      <td>[96.4077199060605, 17.932215962751602, 11.9633...</td>\n",
       "      <td>112.919446</td>\n",
       "      <td>5000</td>\n",
       "    </tr>\n",
       "    <tr>\n",
       "      <th>10</th>\n",
       "      <td>Padronized</td>\n",
       "      <td>RMSE</td>\n",
       "      <td>0.0100</td>\n",
       "      <td>(0.05, 0.05, 0.08)</td>\n",
       "      <td>[91.15283905217304, 15.519053103788686, 6.4187...</td>\n",
       "      <td>123.391441</td>\n",
       "      <td>5000</td>\n",
       "    </tr>\n",
       "    <tr>\n",
       "      <th>11</th>\n",
       "      <td>Padronized</td>\n",
       "      <td>RMSE</td>\n",
       "      <td>0.0100</td>\n",
       "      <td>(0.0, 0.0, 0.0)</td>\n",
       "      <td>[91.09873212820595, 15.493380378739914, 6.3615...</td>\n",
       "      <td>123.502085</td>\n",
       "      <td>5000</td>\n",
       "    </tr>\n",
       "    <tr>\n",
       "      <th>12</th>\n",
       "      <td>Padronized</td>\n",
       "      <td>RMSE</td>\n",
       "      <td>0.0010</td>\n",
       "      <td>(5.0, 5.0, 8.0)</td>\n",
       "      <td>[14.342249145471948, 6.113017673298784, 8.4224...</td>\n",
       "      <td>266.051589</td>\n",
       "      <td>5000</td>\n",
       "    </tr>\n",
       "    <tr>\n",
       "      <th>13</th>\n",
       "      <td>Padronized</td>\n",
       "      <td>RMSE</td>\n",
       "      <td>0.0010</td>\n",
       "      <td>(0.05, 0.05, 0.08)</td>\n",
       "      <td>[9.342547926370145, 1.4050494192711294, 0.7067...</td>\n",
       "      <td>277.350097</td>\n",
       "      <td>5000</td>\n",
       "    </tr>\n",
       "    <tr>\n",
       "      <th>14</th>\n",
       "      <td>Padronized</td>\n",
       "      <td>RMSE</td>\n",
       "      <td>0.0010</td>\n",
       "      <td>(0.0, 0.0, 0.0)</td>\n",
       "      <td>[9.291983647120336, 1.3573869035349468, 0.6286...</td>\n",
       "      <td>277.466869</td>\n",
       "      <td>5000</td>\n",
       "    </tr>\n",
       "    <tr>\n",
       "      <th>15</th>\n",
       "      <td>Min-Max Normalized</td>\n",
       "      <td>RMSE</td>\n",
       "      <td>0.0100</td>\n",
       "      <td>(5.0, 5.0, 8.0)</td>\n",
       "      <td>[30.13328245521378, 9.658410821285507, 12.1725...</td>\n",
       "      <td>277.865166</td>\n",
       "      <td>5000</td>\n",
       "    </tr>\n",
       "    <tr>\n",
       "      <th>16</th>\n",
       "      <td>Min-Max Normalized</td>\n",
       "      <td>RMSE</td>\n",
       "      <td>0.0100</td>\n",
       "      <td>(0.05, 0.05, 0.08)</td>\n",
       "      <td>[25.092882129006902, 5.409568229749904, 5.7692...</td>\n",
       "      <td>281.374904</td>\n",
       "      <td>5000</td>\n",
       "    </tr>\n",
       "    <tr>\n",
       "      <th>17</th>\n",
       "      <td>Min-Max Normalized</td>\n",
       "      <td>RMSE</td>\n",
       "      <td>0.0100</td>\n",
       "      <td>(0.0, 0.0, 0.0)</td>\n",
       "      <td>[25.041859405723713, 5.36654377364359, 5.70438...</td>\n",
       "      <td>281.411597</td>\n",
       "      <td>5000</td>\n",
       "    </tr>\n",
       "    <tr>\n",
       "      <th>18</th>\n",
       "      <td>Padronized</td>\n",
       "      <td>RMSE</td>\n",
       "      <td>0.0001</td>\n",
       "      <td>(5.0, 5.0, 8.0)</td>\n",
       "      <td>[5.935119949601638, 5.110042800078367, 8.04226...</td>\n",
       "      <td>282.013886</td>\n",
       "      <td>5000</td>\n",
       "    </tr>\n",
       "    <tr>\n",
       "      <th>19</th>\n",
       "      <td>Min-Max Normalized</td>\n",
       "      <td>RMSE</td>\n",
       "      <td>0.0010</td>\n",
       "      <td>(5.0, 5.0, 8.0)</td>\n",
       "      <td>[7.512626620932873, 5.481294270015067, 8.45727...</td>\n",
       "      <td>289.931675</td>\n",
       "      <td>5000</td>\n",
       "    </tr>\n",
       "    <tr>\n",
       "      <th>20</th>\n",
       "      <td>Min-Max Normalized</td>\n",
       "      <td>RMSE</td>\n",
       "      <td>0.0001</td>\n",
       "      <td>(5.0, 5.0, 8.0)</td>\n",
       "      <td>[5.251253099415796, 5.048291033951265, 8.04614...</td>\n",
       "      <td>291.147305</td>\n",
       "      <td>5000</td>\n",
       "    </tr>\n",
       "    <tr>\n",
       "      <th>21</th>\n",
       "      <td>Padronized</td>\n",
       "      <td>RMSE</td>\n",
       "      <td>0.0001</td>\n",
       "      <td>(0.05, 0.05, 0.08)</td>\n",
       "      <td>[0.9801446310801658, 0.18412372514397835, 0.14...</td>\n",
       "      <td>293.292069</td>\n",
       "      <td>5000</td>\n",
       "    </tr>\n",
       "    <tr>\n",
       "      <th>22</th>\n",
       "      <td>Padronized</td>\n",
       "      <td>RMSE</td>\n",
       "      <td>0.0001</td>\n",
       "      <td>(0.0, 0.0, 0.0)</td>\n",
       "      <td>[0.9300882824417096, 0.13435641109211868, 0.06...</td>\n",
       "      <td>293.408545</td>\n",
       "      <td>5000</td>\n",
       "    </tr>\n",
       "    <tr>\n",
       "      <th>23</th>\n",
       "      <td>Min-Max Normalized</td>\n",
       "      <td>RMSE</td>\n",
       "      <td>0.0010</td>\n",
       "      <td>(0.05, 0.05, 0.08)</td>\n",
       "      <td>[2.552186625537106, 0.6061152735371469, 0.6991...</td>\n",
       "      <td>293.751295</td>\n",
       "      <td>5000</td>\n",
       "    </tr>\n",
       "    <tr>\n",
       "      <th>24</th>\n",
       "      <td>Min-Max Normalized</td>\n",
       "      <td>RMSE</td>\n",
       "      <td>0.0010</td>\n",
       "      <td>(0.0, 0.0, 0.0)</td>\n",
       "      <td>[2.50206889389573, 0.5568581621396048, 0.62078...</td>\n",
       "      <td>293.791467</td>\n",
       "      <td>5000</td>\n",
       "    </tr>\n",
       "    <tr>\n",
       "      <th>25</th>\n",
       "      <td>Min-Max Normalized</td>\n",
       "      <td>RMSE</td>\n",
       "      <td>0.0001</td>\n",
       "      <td>(0.05, 0.05, 0.08)</td>\n",
       "      <td>[0.3001939548398395, 0.10582134692259086, 0.14...</td>\n",
       "      <td>295.002792</td>\n",
       "      <td>5000</td>\n",
       "    </tr>\n",
       "    <tr>\n",
       "      <th>26</th>\n",
       "      <td>Min-Max Normalized</td>\n",
       "      <td>RMSE</td>\n",
       "      <td>0.0001</td>\n",
       "      <td>(0.0, 0.0, 0.0)</td>\n",
       "      <td>[0.25018201481898833, 0.05589609860007873, 0.0...</td>\n",
       "      <td>295.043365</td>\n",
       "      <td>5000</td>\n",
       "    </tr>\n",
       "  </tbody>\n",
       "</table>\n",
       "</div>"
      ],
      "text/plain": [
       "           Feature_Set Loss_Function  Learning_Rate     Initial_Weights  \\\n",
       "0             Original          RMSE         0.0100     (5.0, 5.0, 8.0)   \n",
       "1             Original          RMSE         0.0010     (5.0, 5.0, 8.0)   \n",
       "2             Original          RMSE         0.0001     (5.0, 5.0, 8.0)   \n",
       "3             Original          RMSE         0.0100  (0.05, 0.05, 0.08)   \n",
       "4             Original          RMSE         0.0100     (0.0, 0.0, 0.0)   \n",
       "5             Original          RMSE         0.0010  (0.05, 0.05, 0.08)   \n",
       "6             Original          RMSE         0.0010     (0.0, 0.0, 0.0)   \n",
       "7             Original          RMSE         0.0001  (0.05, 0.05, 0.08)   \n",
       "8             Original          RMSE         0.0001     (0.0, 0.0, 0.0)   \n",
       "9           Padronized          RMSE         0.0100     (5.0, 5.0, 8.0)   \n",
       "10          Padronized          RMSE         0.0100  (0.05, 0.05, 0.08)   \n",
       "11          Padronized          RMSE         0.0100     (0.0, 0.0, 0.0)   \n",
       "12          Padronized          RMSE         0.0010     (5.0, 5.0, 8.0)   \n",
       "13          Padronized          RMSE         0.0010  (0.05, 0.05, 0.08)   \n",
       "14          Padronized          RMSE         0.0010     (0.0, 0.0, 0.0)   \n",
       "15  Min-Max Normalized          RMSE         0.0100     (5.0, 5.0, 8.0)   \n",
       "16  Min-Max Normalized          RMSE         0.0100  (0.05, 0.05, 0.08)   \n",
       "17  Min-Max Normalized          RMSE         0.0100     (0.0, 0.0, 0.0)   \n",
       "18          Padronized          RMSE         0.0001     (5.0, 5.0, 8.0)   \n",
       "19  Min-Max Normalized          RMSE         0.0010     (5.0, 5.0, 8.0)   \n",
       "20  Min-Max Normalized          RMSE         0.0001     (5.0, 5.0, 8.0)   \n",
       "21          Padronized          RMSE         0.0001  (0.05, 0.05, 0.08)   \n",
       "22          Padronized          RMSE         0.0001     (0.0, 0.0, 0.0)   \n",
       "23  Min-Max Normalized          RMSE         0.0010  (0.05, 0.05, 0.08)   \n",
       "24  Min-Max Normalized          RMSE         0.0010     (0.0, 0.0, 0.0)   \n",
       "25  Min-Max Normalized          RMSE         0.0001  (0.05, 0.05, 0.08)   \n",
       "26  Min-Max Normalized          RMSE         0.0001     (0.0, 0.0, 0.0)   \n",
       "\n",
       "                                        Final_Weights  Final_Loss  Iterations  \n",
       "0   [5.007477748293044, 5.78230682525681, 9.772637...   19.297418        5000  \n",
       "1   [5.006377899720806, 5.866714747314398, 8.32160...   19.348288        5000  \n",
       "2   [5.005956655896799, 5.867319533310181, 8.07845...   19.362176        5000  \n",
       "3   [5.005525370576057, 5.932142130154375, 7.19686...   19.420200        5000  \n",
       "4   [5.005504614637994, 5.933735045439684, 7.16947...   19.422302        5000  \n",
       "5   [5.001139518500306, 6.26873452069843, 1.410599...   20.222144        5000  \n",
       "6   [5.001085717281649, 6.272863497346317, 1.33961...   20.236267        5000  \n",
       "7   [4.9788627380404815, 5.096876678813543, 0.4139...   25.798080        5000  \n",
       "8   [4.978107433531541, 5.061778956153373, 0.33450...   26.125770        5000  \n",
       "9   [96.4077199060605, 17.932215962751602, 11.9633...  112.919446        5000  \n",
       "10  [91.15283905217304, 15.519053103788686, 6.4187...  123.391441        5000  \n",
       "11  [91.09873212820595, 15.493380378739914, 6.3615...  123.502085        5000  \n",
       "12  [14.342249145471948, 6.113017673298784, 8.4224...  266.051589        5000  \n",
       "13  [9.342547926370145, 1.4050494192711294, 0.7067...  277.350097        5000  \n",
       "14  [9.291983647120336, 1.3573869035349468, 0.6286...  277.466869        5000  \n",
       "15  [30.13328245521378, 9.658410821285507, 12.1725...  277.865166        5000  \n",
       "16  [25.092882129006902, 5.409568229749904, 5.7692...  281.374904        5000  \n",
       "17  [25.041859405723713, 5.36654377364359, 5.70438...  281.411597        5000  \n",
       "18  [5.935119949601638, 5.110042800078367, 8.04226...  282.013886        5000  \n",
       "19  [7.512626620932873, 5.481294270015067, 8.45727...  289.931675        5000  \n",
       "20  [5.251253099415796, 5.048291033951265, 8.04614...  291.147305        5000  \n",
       "21  [0.9801446310801658, 0.18412372514397835, 0.14...  293.292069        5000  \n",
       "22  [0.9300882824417096, 0.13435641109211868, 0.06...  293.408545        5000  \n",
       "23  [2.552186625537106, 0.6061152735371469, 0.6991...  293.751295        5000  \n",
       "24  [2.50206889389573, 0.5568581621396048, 0.62078...  293.791467        5000  \n",
       "25  [0.3001939548398395, 0.10582134692259086, 0.14...  295.002792        5000  \n",
       "26  [0.25018201481898833, 0.05589609860007873, 0.0...  295.043365        5000  "
      ]
     },
     "execution_count": 12,
     "metadata": {},
     "output_type": "execute_result"
    }
   ],
   "source": [
    "df_result_rmse = df_result[df_result['Loss_Function'] == 'RMSE'].sort_values(by='Final_Loss').reset_index(drop=True)\n",
    "df_result_rmse"
   ]
  },
  {
   "cell_type": "markdown",
   "id": "57c3e4ff",
   "metadata": {},
   "source": [
    "### MAE"
   ]
  },
  {
   "cell_type": "code",
   "execution_count": 13,
   "id": "3935a465",
   "metadata": {},
   "outputs": [
    {
     "name": "stdout",
     "output_type": "stream",
     "text": [
      "Melhor resultado MAE:\n",
      "Feature Set: Original\n",
      "Learning Rate: 0.0001\n",
      "Final Loss: 15.241431139520667\n",
      "Pesos: [5.00543123 5.88321363 8.06220741]\n"
     ]
    },
    {
     "data": {
      "application/vnd.plotly.v1+json": {
       "config": {
        "plotlyServerURL": "https://plot.ly"
       },
       "data": [
        {
         "colorscale": [
          [
           0,
           "#440154"
          ],
          [
           0.1111111111111111,
           "#482878"
          ],
          [
           0.2222222222222222,
           "#3e4989"
          ],
          [
           0.3333333333333333,
           "#31688e"
          ],
          [
           0.4444444444444444,
           "#26828e"
          ],
          [
           0.5555555555555556,
           "#1f9e89"
          ],
          [
           0.6666666666666666,
           "#35b779"
          ],
          [
           0.7777777777777778,
           "#6ece58"
          ],
          [
           0.8888888888888888,
           "#b5de2b"
          ],
          [
           1,
           "#fde725"
          ]
         ],
         "name": "Dados Originais",
         "opacity": 0.7,
         "type": "surface",
         "x": {
          "bdata": "AAAAAAAAFMBmZmZmZmYOwM3MzMzMzATAaGZmZmZm9r+gmZmZmZnJvwAAAAAAAPA/mZmZmZmZAUAyMzMzMzMLQGZmZmZmZhJA",
          "dtype": "f8"
         },
         "y": {
          "bdata": "AAAAAAAAFMBmZmZmZmYOwM3MzMzMzATAaGZmZmZm9r+gmZmZmZnJvwAAAAAAAPA/mZmZmZmZAUAyMzMzMzMLQGZmZmZmZhJA",
          "dtype": "f8"
         },
         "z": {
          "bdata": "9sghBmuvfMC0I0+f2t1hwK8LugEe2lJAqRchANEXY0CXyXr2YdNiQAXkA6qEaGRAYRUI67oQZkCrc0pJRUR3QPvexyqfJYNA56vLG+RCgMBgZFWNY0RmwEa0ZU71tjdASHovQizPUEC2yUt2ioZXQIE/ymEiEFJAofS3QC9TZUDm0Y69RzpxQBxk+a3Gm4JAh69vWFCIgsDr2fnzbGBtwMXwCs/1Y0XAAKbl/Ohw5z+MPGrMWAZUQIPM0KKqs01AdnFhUEEJY0BYWYDTU69vQGvDh4ASt4BAxGnZfDb2gsC8hbDvayFqwFXOkBgITEHATybcMR6bRkD4ZK9QxgMSQLZw2jvWoCRAbl3iWwiMV0AD6gnTpuNpQNwbLrpiU4BAAeQkEzeLhMAk6/XeOCtuwLj38j6P0FXA/Yd56iUkL8DWRXvas+Q5QPddrDvbtSpAiXUrThCVTEAi8fVSARFpQN9/ze8BZX9ANYX9+71QgsBaaZmAw0RzwKEVjb8aVVDAjlnf8IZjEUDsg/0U6SE2QBSM3YxpuTtAIlxfPf9zU0AmTk5q1SNpQMAYRqOGBIBA/M43o1W0gsACTn1vyk9swPoCevfMxUHAOsIQ26pKQkAcJJh7USlBQOqpfkVp8jlAN2AcB9zjUUAW4wxTc+FqQNasiNjrAH9AUTA5arzNgcDHxNnozt5rwPVOnU/RQxvAfddQOV36UEA6vegZHBdNQIdtQ2USplNAhP5SrQhFZUCdRKEKSBtwQJ8BCeQTDYFAihsM/ebRfsBpdWkKCdBhwBqUJlS9rFBAp8B+eU9JWkAiG2r8lmdgQIRpKZrCnmJAx2bRaHMgakCkRVdKg5R0QNmH6s2ZNYNA",
          "dtype": "f8",
          "shape": "9, 9"
         }
        },
        {
         "marker": {
          "color": "blue",
          "size": 5,
          "symbol": "circle"
         },
         "mode": "markers",
         "name": "Predições",
         "type": "scatter3d",
         "x": {
          "bdata": "AAAAAAAAFMAAAAAAAAAUwAAAAAAAABTAAAAAAAAAFMAAAAAAAAAUwAAAAAAAABTAAAAAAAAAFMAAAAAAAAAUwAAAAAAAABTAZmZmZmZmDsBmZmZmZmYOwGZmZmZmZg7AZmZmZmZmDsBmZmZmZmYOwGZmZmZmZg7AZmZmZmZmDsBmZmZmZmYOwGZmZmZmZg7AzczMzMzMBMDNzMzMzMwEwM3MzMzMzATAzczMzMzMBMDNzMzMzMwEwM3MzMzMzATAzczMzMzMBMDNzMzMzMwEwM3MzMzMzATAaGZmZmZm9r9oZmZmZmb2v2hmZmZmZva/aGZmZmZm9r9oZmZmZmb2v2hmZmZmZva/aGZmZmZm9r9oZmZmZmb2v2hmZmZmZva/oJmZmZmZyb+gmZmZmZnJv6CZmZmZmcm/oJmZmZmZyb+gmZmZmZnJv6CZmZmZmcm/oJmZmZmZyb+gmZmZmZnJv6CZmZmZmcm/AAAAAAAA8D8AAAAAAADwPwAAAAAAAPA/AAAAAAAA8D8AAAAAAADwPwAAAAAAAPA/AAAAAAAA8D8AAAAAAADwPwAAAAAAAPA/mZmZmZmZAUCZmZmZmZkBQJmZmZmZmQFAmZmZmZmZAUCZmZmZmZkBQJmZmZmZmQFAmZmZmZmZAUCZmZmZmZkBQJmZmZmZmQFAMjMzMzMzC0AyMzMzMzMLQDIzMzMzMwtAMjMzMzMzC0AyMzMzMzMLQDIzMzMzMwtAMjMzMzMzC0AyMzMzMzMLQDIzMzMzMwtAZmZmZmZmEkBmZmZmZmYSQGZmZmZmZhJAZmZmZmZmEkBmZmZmZmYSQGZmZmZmZhJAZmZmZmZmEkBmZmZmZmYSQGZmZmZmZhJA",
          "dtype": "f8"
         },
         "y": {
          "bdata": "AAAAAAAAFMBmZmZmZmYOwM3MzMzMzATAaGZmZmZm9r+gmZmZmZnJvwAAAAAAAPA/mZmZmZmZAUAyMzMzMzMLQGZmZmZmZhJAAAAAAAAAFMBmZmZmZmYOwM3MzMzMzATAaGZmZmZm9r+gmZmZmZnJvwAAAAAAAPA/mZmZmZmZAUAyMzMzMzMLQGZmZmZmZhJAAAAAAAAAFMBmZmZmZmYOwM3MzMzMzATAaGZmZmZm9r+gmZmZmZnJvwAAAAAAAPA/mZmZmZmZAUAyMzMzMzMLQGZmZmZmZhJAAAAAAAAAFMBmZmZmZmYOwM3MzMzMzATAaGZmZmZm9r+gmZmZmZnJvwAAAAAAAPA/mZmZmZmZAUAyMzMzMzMLQGZmZmZmZhJAAAAAAAAAFMBmZmZmZmYOwM3MzMzMzATAaGZmZmZm9r+gmZmZmZnJvwAAAAAAAPA/mZmZmZmZAUAyMzMzMzMLQGZmZmZmZhJAAAAAAAAAFMBmZmZmZmYOwM3MzMzMzATAaGZmZmZm9r+gmZmZmZnJvwAAAAAAAPA/mZmZmZmZAUAyMzMzMzMLQGZmZmZmZhJAAAAAAAAAFMBmZmZmZmYOwM3MzMzMzATAaGZmZmZm9r+gmZmZmZnJvwAAAAAAAPA/mZmZmZmZAUAyMzMzMzMLQGZmZmZmZhJAAAAAAAAAFMBmZmZmZmYOwM3MzMzMzATAaGZmZmZm9r+gmZmZmZnJvwAAAAAAAPA/mZmZmZmZAUAyMzMzMzMLQGZmZmZmZhJAAAAAAAAAFMBmZmZmZmYOwM3MzMzMzATAaGZmZmZm9r+gmZmZmZnJvwAAAAAAAPA/mZmZmZmZAUAyMzMzMzMLQGZmZmZmZhJA",
          "dtype": "f8"
         },
         "z": [
          -470.5363555555722,
          -532.6630914844586,
          -577.8461721600123,
          -606.0855975822333,
          -617.3813677511217,
          -611.7334826666776,
          -589.1419423289007,
          -549.6067467377912,
          -493.12789589334903,
          -119.5154742841018,
          -181.64221021298812,
          -226.82529088854182,
          -255.0647163107629,
          -266.36048647965134,
          -260.7126013952071,
          -238.12106105743027,
          -198.5858654663208,
          -142.10701462187865,
          67.16708885616679,
          5.040352927280448,
          -40.142727748273245,
          -68.3821531704943,
          -79.67792333938274,
          -74.03003825493852,
          -51.43849791716168,
          -11.903302326052202,
          44.57554851838992,
          141.40764485403423,
          79.28090892514788,
          34.09782824959419,
          5.858402827373125,
          -5.437367341515307,
          0.21051774292890535,
          22.80205808070575,
          62.33725367181523,
          118.81610451625735,
          155.10250469830103,
          92.9757687694147,
          47.792688093861,
          19.553262671639942,
          8.257492502751512,
          13.905377587195725,
          36.49691792497257,
          76.03211351608205,
          132.51096436052416,
          160.14797937776777,
          98.02124344888142,
          52.838162773327724,
          24.598737351106664,
          13.302967182218232,
          18.950852266662444,
          41.542392604439286,
          81.07758819554877,
          137.5564390399909,
          208.44037988123492,
          146.31364395234857,
          101.13056327679487,
          72.89113785457383,
          61.59536768568539,
          67.2432527701296,
          89.83479310790645,
          129.36998869901592,
          185.84883954345804,
          351.876017197503,
          289.7492812686167,
          244.566200593063,
          216.32677517084193,
          205.0310050019535,
          210.6788900863977,
          233.27043042417455,
          272.805626015284,
          329.28447685972617,
          642.3512023153727,
          580.2244663864864,
          535.0413857109327,
          506.80196028871165,
          495.5061901198232,
          501.15407520426743,
          523.7456155420442,
          563.2808111331537,
          619.7596619775958
         ]
        }
       ],
       "layout": {
        "margin": {
         "b": 0,
         "l": 0,
         "r": 0,
         "t": 50
        },
        "scene": {
         "xaxis": {
          "title": {
           "text": "X"
          }
         },
         "yaxis": {
          "title": {
           "text": "Y"
          }
         },
         "zaxis": {
          "title": {
           "text": "Z"
          }
         }
        },
        "template": {
         "data": {
          "bar": [
           {
            "error_x": {
             "color": "#2a3f5f"
            },
            "error_y": {
             "color": "#2a3f5f"
            },
            "marker": {
             "line": {
              "color": "#E5ECF6",
              "width": 0.5
             },
             "pattern": {
              "fillmode": "overlay",
              "size": 10,
              "solidity": 0.2
             }
            },
            "type": "bar"
           }
          ],
          "barpolar": [
           {
            "marker": {
             "line": {
              "color": "#E5ECF6",
              "width": 0.5
             },
             "pattern": {
              "fillmode": "overlay",
              "size": 10,
              "solidity": 0.2
             }
            },
            "type": "barpolar"
           }
          ],
          "carpet": [
           {
            "aaxis": {
             "endlinecolor": "#2a3f5f",
             "gridcolor": "white",
             "linecolor": "white",
             "minorgridcolor": "white",
             "startlinecolor": "#2a3f5f"
            },
            "baxis": {
             "endlinecolor": "#2a3f5f",
             "gridcolor": "white",
             "linecolor": "white",
             "minorgridcolor": "white",
             "startlinecolor": "#2a3f5f"
            },
            "type": "carpet"
           }
          ],
          "choropleth": [
           {
            "colorbar": {
             "outlinewidth": 0,
             "ticks": ""
            },
            "type": "choropleth"
           }
          ],
          "contour": [
           {
            "colorbar": {
             "outlinewidth": 0,
             "ticks": ""
            },
            "colorscale": [
             [
              0,
              "#0d0887"
             ],
             [
              0.1111111111111111,
              "#46039f"
             ],
             [
              0.2222222222222222,
              "#7201a8"
             ],
             [
              0.3333333333333333,
              "#9c179e"
             ],
             [
              0.4444444444444444,
              "#bd3786"
             ],
             [
              0.5555555555555556,
              "#d8576b"
             ],
             [
              0.6666666666666666,
              "#ed7953"
             ],
             [
              0.7777777777777778,
              "#fb9f3a"
             ],
             [
              0.8888888888888888,
              "#fdca26"
             ],
             [
              1,
              "#f0f921"
             ]
            ],
            "type": "contour"
           }
          ],
          "contourcarpet": [
           {
            "colorbar": {
             "outlinewidth": 0,
             "ticks": ""
            },
            "type": "contourcarpet"
           }
          ],
          "heatmap": [
           {
            "colorbar": {
             "outlinewidth": 0,
             "ticks": ""
            },
            "colorscale": [
             [
              0,
              "#0d0887"
             ],
             [
              0.1111111111111111,
              "#46039f"
             ],
             [
              0.2222222222222222,
              "#7201a8"
             ],
             [
              0.3333333333333333,
              "#9c179e"
             ],
             [
              0.4444444444444444,
              "#bd3786"
             ],
             [
              0.5555555555555556,
              "#d8576b"
             ],
             [
              0.6666666666666666,
              "#ed7953"
             ],
             [
              0.7777777777777778,
              "#fb9f3a"
             ],
             [
              0.8888888888888888,
              "#fdca26"
             ],
             [
              1,
              "#f0f921"
             ]
            ],
            "type": "heatmap"
           }
          ],
          "histogram": [
           {
            "marker": {
             "pattern": {
              "fillmode": "overlay",
              "size": 10,
              "solidity": 0.2
             }
            },
            "type": "histogram"
           }
          ],
          "histogram2d": [
           {
            "colorbar": {
             "outlinewidth": 0,
             "ticks": ""
            },
            "colorscale": [
             [
              0,
              "#0d0887"
             ],
             [
              0.1111111111111111,
              "#46039f"
             ],
             [
              0.2222222222222222,
              "#7201a8"
             ],
             [
              0.3333333333333333,
              "#9c179e"
             ],
             [
              0.4444444444444444,
              "#bd3786"
             ],
             [
              0.5555555555555556,
              "#d8576b"
             ],
             [
              0.6666666666666666,
              "#ed7953"
             ],
             [
              0.7777777777777778,
              "#fb9f3a"
             ],
             [
              0.8888888888888888,
              "#fdca26"
             ],
             [
              1,
              "#f0f921"
             ]
            ],
            "type": "histogram2d"
           }
          ],
          "histogram2dcontour": [
           {
            "colorbar": {
             "outlinewidth": 0,
             "ticks": ""
            },
            "colorscale": [
             [
              0,
              "#0d0887"
             ],
             [
              0.1111111111111111,
              "#46039f"
             ],
             [
              0.2222222222222222,
              "#7201a8"
             ],
             [
              0.3333333333333333,
              "#9c179e"
             ],
             [
              0.4444444444444444,
              "#bd3786"
             ],
             [
              0.5555555555555556,
              "#d8576b"
             ],
             [
              0.6666666666666666,
              "#ed7953"
             ],
             [
              0.7777777777777778,
              "#fb9f3a"
             ],
             [
              0.8888888888888888,
              "#fdca26"
             ],
             [
              1,
              "#f0f921"
             ]
            ],
            "type": "histogram2dcontour"
           }
          ],
          "mesh3d": [
           {
            "colorbar": {
             "outlinewidth": 0,
             "ticks": ""
            },
            "type": "mesh3d"
           }
          ],
          "parcoords": [
           {
            "line": {
             "colorbar": {
              "outlinewidth": 0,
              "ticks": ""
             }
            },
            "type": "parcoords"
           }
          ],
          "pie": [
           {
            "automargin": true,
            "type": "pie"
           }
          ],
          "scatter": [
           {
            "fillpattern": {
             "fillmode": "overlay",
             "size": 10,
             "solidity": 0.2
            },
            "type": "scatter"
           }
          ],
          "scatter3d": [
           {
            "line": {
             "colorbar": {
              "outlinewidth": 0,
              "ticks": ""
             }
            },
            "marker": {
             "colorbar": {
              "outlinewidth": 0,
              "ticks": ""
             }
            },
            "type": "scatter3d"
           }
          ],
          "scattercarpet": [
           {
            "marker": {
             "colorbar": {
              "outlinewidth": 0,
              "ticks": ""
             }
            },
            "type": "scattercarpet"
           }
          ],
          "scattergeo": [
           {
            "marker": {
             "colorbar": {
              "outlinewidth": 0,
              "ticks": ""
             }
            },
            "type": "scattergeo"
           }
          ],
          "scattergl": [
           {
            "marker": {
             "colorbar": {
              "outlinewidth": 0,
              "ticks": ""
             }
            },
            "type": "scattergl"
           }
          ],
          "scattermap": [
           {
            "marker": {
             "colorbar": {
              "outlinewidth": 0,
              "ticks": ""
             }
            },
            "type": "scattermap"
           }
          ],
          "scattermapbox": [
           {
            "marker": {
             "colorbar": {
              "outlinewidth": 0,
              "ticks": ""
             }
            },
            "type": "scattermapbox"
           }
          ],
          "scatterpolar": [
           {
            "marker": {
             "colorbar": {
              "outlinewidth": 0,
              "ticks": ""
             }
            },
            "type": "scatterpolar"
           }
          ],
          "scatterpolargl": [
           {
            "marker": {
             "colorbar": {
              "outlinewidth": 0,
              "ticks": ""
             }
            },
            "type": "scatterpolargl"
           }
          ],
          "scatterternary": [
           {
            "marker": {
             "colorbar": {
              "outlinewidth": 0,
              "ticks": ""
             }
            },
            "type": "scatterternary"
           }
          ],
          "surface": [
           {
            "colorbar": {
             "outlinewidth": 0,
             "ticks": ""
            },
            "colorscale": [
             [
              0,
              "#0d0887"
             ],
             [
              0.1111111111111111,
              "#46039f"
             ],
             [
              0.2222222222222222,
              "#7201a8"
             ],
             [
              0.3333333333333333,
              "#9c179e"
             ],
             [
              0.4444444444444444,
              "#bd3786"
             ],
             [
              0.5555555555555556,
              "#d8576b"
             ],
             [
              0.6666666666666666,
              "#ed7953"
             ],
             [
              0.7777777777777778,
              "#fb9f3a"
             ],
             [
              0.8888888888888888,
              "#fdca26"
             ],
             [
              1,
              "#f0f921"
             ]
            ],
            "type": "surface"
           }
          ],
          "table": [
           {
            "cells": {
             "fill": {
              "color": "#EBF0F8"
             },
             "line": {
              "color": "white"
             }
            },
            "header": {
             "fill": {
              "color": "#C8D4E3"
             },
             "line": {
              "color": "white"
             }
            },
            "type": "table"
           }
          ]
         },
         "layout": {
          "annotationdefaults": {
           "arrowcolor": "#2a3f5f",
           "arrowhead": 0,
           "arrowwidth": 1
          },
          "autotypenumbers": "strict",
          "coloraxis": {
           "colorbar": {
            "outlinewidth": 0,
            "ticks": ""
           }
          },
          "colorscale": {
           "diverging": [
            [
             0,
             "#8e0152"
            ],
            [
             0.1,
             "#c51b7d"
            ],
            [
             0.2,
             "#de77ae"
            ],
            [
             0.3,
             "#f1b6da"
            ],
            [
             0.4,
             "#fde0ef"
            ],
            [
             0.5,
             "#f7f7f7"
            ],
            [
             0.6,
             "#e6f5d0"
            ],
            [
             0.7,
             "#b8e186"
            ],
            [
             0.8,
             "#7fbc41"
            ],
            [
             0.9,
             "#4d9221"
            ],
            [
             1,
             "#276419"
            ]
           ],
           "sequential": [
            [
             0,
             "#0d0887"
            ],
            [
             0.1111111111111111,
             "#46039f"
            ],
            [
             0.2222222222222222,
             "#7201a8"
            ],
            [
             0.3333333333333333,
             "#9c179e"
            ],
            [
             0.4444444444444444,
             "#bd3786"
            ],
            [
             0.5555555555555556,
             "#d8576b"
            ],
            [
             0.6666666666666666,
             "#ed7953"
            ],
            [
             0.7777777777777778,
             "#fb9f3a"
            ],
            [
             0.8888888888888888,
             "#fdca26"
            ],
            [
             1,
             "#f0f921"
            ]
           ],
           "sequentialminus": [
            [
             0,
             "#0d0887"
            ],
            [
             0.1111111111111111,
             "#46039f"
            ],
            [
             0.2222222222222222,
             "#7201a8"
            ],
            [
             0.3333333333333333,
             "#9c179e"
            ],
            [
             0.4444444444444444,
             "#bd3786"
            ],
            [
             0.5555555555555556,
             "#d8576b"
            ],
            [
             0.6666666666666666,
             "#ed7953"
            ],
            [
             0.7777777777777778,
             "#fb9f3a"
            ],
            [
             0.8888888888888888,
             "#fdca26"
            ],
            [
             1,
             "#f0f921"
            ]
           ]
          },
          "colorway": [
           "#636efa",
           "#EF553B",
           "#00cc96",
           "#ab63fa",
           "#FFA15A",
           "#19d3f3",
           "#FF6692",
           "#B6E880",
           "#FF97FF",
           "#FECB52"
          ],
          "font": {
           "color": "#2a3f5f"
          },
          "geo": {
           "bgcolor": "white",
           "lakecolor": "white",
           "landcolor": "#E5ECF6",
           "showlakes": true,
           "showland": true,
           "subunitcolor": "white"
          },
          "hoverlabel": {
           "align": "left"
          },
          "hovermode": "closest",
          "mapbox": {
           "style": "light"
          },
          "paper_bgcolor": "white",
          "plot_bgcolor": "#E5ECF6",
          "polar": {
           "angularaxis": {
            "gridcolor": "white",
            "linecolor": "white",
            "ticks": ""
           },
           "bgcolor": "#E5ECF6",
           "radialaxis": {
            "gridcolor": "white",
            "linecolor": "white",
            "ticks": ""
           }
          },
          "scene": {
           "xaxis": {
            "backgroundcolor": "#E5ECF6",
            "gridcolor": "white",
            "gridwidth": 2,
            "linecolor": "white",
            "showbackground": true,
            "ticks": "",
            "zerolinecolor": "white"
           },
           "yaxis": {
            "backgroundcolor": "#E5ECF6",
            "gridcolor": "white",
            "gridwidth": 2,
            "linecolor": "white",
            "showbackground": true,
            "ticks": "",
            "zerolinecolor": "white"
           },
           "zaxis": {
            "backgroundcolor": "#E5ECF6",
            "gridcolor": "white",
            "gridwidth": 2,
            "linecolor": "white",
            "showbackground": true,
            "ticks": "",
            "zerolinecolor": "white"
           }
          },
          "shapedefaults": {
           "line": {
            "color": "#2a3f5f"
           }
          },
          "ternary": {
           "aaxis": {
            "gridcolor": "white",
            "linecolor": "white",
            "ticks": ""
           },
           "baxis": {
            "gridcolor": "white",
            "linecolor": "white",
            "ticks": ""
           },
           "bgcolor": "#E5ECF6",
           "caxis": {
            "gridcolor": "white",
            "linecolor": "white",
            "ticks": ""
           }
          },
          "title": {
           "x": 0.05
          },
          "xaxis": {
           "automargin": true,
           "gridcolor": "white",
           "linecolor": "white",
           "ticks": "",
           "title": {
            "standoff": 15
           },
           "zerolinecolor": "white",
           "zerolinewidth": 2
          },
          "yaxis": {
           "automargin": true,
           "gridcolor": "white",
           "linecolor": "white",
           "ticks": "",
           "title": {
            "standoff": 15
           },
           "zerolinecolor": "white",
           "zerolinewidth": 2
          }
         }
        },
        "title": {
         "text": "MAE: Original | LR: 0.0001 | Loss: 15.241431"
        }
       }
      }
     },
     "metadata": {},
     "output_type": "display_data"
    }
   ],
   "source": [
    "# Filtrar e selecionar o melhor resultado MAE corretamente\n",
    "best_mae_results = df_result[df_result['Loss_Function'] == 'MAE']\n",
    "best_mae = best_mae_results.loc[best_mae_results['Final_Loss'].idxmin()]\n",
    "best_w = best_mae['Final_Weights']\n",
    "feature_set_used = best_mae['Feature_Set']\n",
    "\n",
    "print(\"Melhor resultado MAE:\")\n",
    "print(f\"Feature Set: {feature_set_used}\")\n",
    "print(f\"Learning Rate: {best_mae['Learning_Rate']}\")\n",
    "print(f\"Final Loss: {best_mae['Final_Loss']}\")\n",
    "print(f\"Pesos: {best_w}\")\n",
    "\n",
    "# Determinar qual conjunto de dados usar para predição\n",
    "if feature_set_used == 'Min-Max Normalized':\n",
    "    x_data = features_normalized['x'].values\n",
    "    y_data = features_normalized['y'].values\n",
    "elif feature_set_used == 'Padronized':\n",
    "    x_data = features_pradonized['x'].values\n",
    "    y_data = features_pradonized['y'].values\n",
    "else:\n",
    "    x_data = df['x'].values\n",
    "    y_data = df['y'].values\n",
    "\n",
    "# Criar função de predição\n",
    "f_pred = make_function(best_w)\n",
    "\n",
    "# Gerar predições para os pontos existentes\n",
    "predictions = [f_pred(x, y) for x, y in zip(x_data, y_data)]\n",
    "\n",
    "# Criar superfície com dados originais\n",
    "df_pivot = df.pivot(index='y', columns='x', values='z')\n",
    "x_axis = df_pivot.columns.values\n",
    "y_axis = df_pivot.index.values\n",
    "z_grid = df_pivot.values\n",
    "\n",
    "fig = go.Figure()\n",
    "\n",
    "# Superfície original\n",
    "fig.add_trace(go.Surface(\n",
    "    x=x_axis,\n",
    "    y=y_axis,\n",
    "    z=z_grid,\n",
    "    colorscale='Viridis',\n",
    "    opacity=0.7,\n",
    "    name='Dados Originais'\n",
    "))\n",
    "\n",
    "# Pontos preditos\n",
    "fig.add_trace(go.Scatter3d(\n",
    "    x=df['x'],  # Sempre use coordenadas originais para visualização\n",
    "    y=df['y'],\n",
    "    z=predictions,\n",
    "    mode='markers',\n",
    "    marker=dict(size=5, color='blue', symbol='circle'),\n",
    "    name='Predições',\n",
    "))\n",
    "\n",
    "fig.update_layout(\n",
    "    title=f'MAE: {feature_set_used} | LR: {best_mae[\"Learning_Rate\"]} | Loss: {best_mae[\"Final_Loss\"]:.6f}',\n",
    "    scene=dict(\n",
    "        xaxis_title='X',\n",
    "        yaxis_title='Y',\n",
    "        zaxis_title='Z'\n",
    "    ),\n",
    "    margin=dict(l=0, r=0, b=0, t=50)\n",
    ")\n",
    "\n",
    "fig.show()"
   ]
  },
  {
   "cell_type": "code",
   "execution_count": 14,
   "id": "eb223d22",
   "metadata": {},
   "outputs": [
    {
     "data": {
      "text/html": [
       "<div>\n",
       "<style scoped>\n",
       "    .dataframe tbody tr th:only-of-type {\n",
       "        vertical-align: middle;\n",
       "    }\n",
       "\n",
       "    .dataframe tbody tr th {\n",
       "        vertical-align: top;\n",
       "    }\n",
       "\n",
       "    .dataframe thead th {\n",
       "        text-align: right;\n",
       "    }\n",
       "</style>\n",
       "<table border=\"1\" class=\"dataframe\">\n",
       "  <thead>\n",
       "    <tr style=\"text-align: right;\">\n",
       "      <th></th>\n",
       "      <th>Feature_Set</th>\n",
       "      <th>Loss_Function</th>\n",
       "      <th>Learning_Rate</th>\n",
       "      <th>Initial_Weights</th>\n",
       "      <th>Final_Weights</th>\n",
       "      <th>Final_Loss</th>\n",
       "      <th>Iterations</th>\n",
       "    </tr>\n",
       "  </thead>\n",
       "  <tbody>\n",
       "    <tr>\n",
       "      <th>0</th>\n",
       "      <td>Original</td>\n",
       "      <td>MAE</td>\n",
       "      <td>0.0001</td>\n",
       "      <td>(5.0, 5.0, 8.0)</td>\n",
       "      <td>[5.005431229629682, 5.883213629629388, 8.06220...</td>\n",
       "      <td>15.241431</td>\n",
       "      <td>5000</td>\n",
       "    </tr>\n",
       "    <tr>\n",
       "      <th>1</th>\n",
       "      <td>Original</td>\n",
       "      <td>MAE</td>\n",
       "      <td>0.0010</td>\n",
       "      <td>(5.0, 5.0, 8.0)</td>\n",
       "      <td>[5.003422617283623, 5.8810261728389355, 8.1157...</td>\n",
       "      <td>15.244330</td>\n",
       "      <td>5000</td>\n",
       "    </tr>\n",
       "    <tr>\n",
       "      <th>2</th>\n",
       "      <td>Original</td>\n",
       "      <td>MAE</td>\n",
       "      <td>0.0100</td>\n",
       "      <td>(5.0, 5.0, 8.0)</td>\n",
       "      <td>[5.01551407407448, 5.8891851851840675, 8.29185...</td>\n",
       "      <td>15.272837</td>\n",
       "      <td>5000</td>\n",
       "    </tr>\n",
       "    <tr>\n",
       "      <th>3</th>\n",
       "      <td>Original</td>\n",
       "      <td>MAE</td>\n",
       "      <td>0.0100</td>\n",
       "      <td>(0.05, 0.05, 0.08)</td>\n",
       "      <td>[5.0198844444445445, 6.044133333333859, 5.3644...</td>\n",
       "      <td>15.396602</td>\n",
       "      <td>5000</td>\n",
       "    </tr>\n",
       "    <tr>\n",
       "      <th>4</th>\n",
       "      <td>Original</td>\n",
       "      <td>MAE</td>\n",
       "      <td>0.0100</td>\n",
       "      <td>(0.0, 0.0, 0.0)</td>\n",
       "      <td>[4.971419259259352, 6.0456000000005075, 5.3503...</td>\n",
       "      <td>15.462014</td>\n",
       "      <td>5000</td>\n",
       "    </tr>\n",
       "    <tr>\n",
       "      <th>5</th>\n",
       "      <td>Original</td>\n",
       "      <td>MAE</td>\n",
       "      <td>0.0010</td>\n",
       "      <td>(0.05, 0.05, 0.08)</td>\n",
       "      <td>[5.0189366913575535, 6.2818202469128, 1.201135...</td>\n",
       "      <td>15.817841</td>\n",
       "      <td>5000</td>\n",
       "    </tr>\n",
       "    <tr>\n",
       "      <th>6</th>\n",
       "      <td>Original</td>\n",
       "      <td>MAE</td>\n",
       "      <td>0.0010</td>\n",
       "      <td>(0.0, 0.0, 0.0)</td>\n",
       "      <td>[5.0175612839501795, 6.283760987653648, 1.1426...</td>\n",
       "      <td>15.824304</td>\n",
       "      <td>5000</td>\n",
       "    </tr>\n",
       "    <tr>\n",
       "      <th>7</th>\n",
       "      <td>Original</td>\n",
       "      <td>MAE</td>\n",
       "      <td>0.0001</td>\n",
       "      <td>(0.05, 0.05, 0.08)</td>\n",
       "      <td>[4.956628661727751, 4.247628246913503, 0.44755...</td>\n",
       "      <td>27.120281</td>\n",
       "      <td>5000</td>\n",
       "    </tr>\n",
       "    <tr>\n",
       "      <th>8</th>\n",
       "      <td>Original</td>\n",
       "      <td>MAE</td>\n",
       "      <td>0.0001</td>\n",
       "      <td>(0.0, 0.0, 0.0)</td>\n",
       "      <td>[4.953982281480847, 4.200197629629559, 0.36843...</td>\n",
       "      <td>27.580576</td>\n",
       "      <td>5000</td>\n",
       "    </tr>\n",
       "    <tr>\n",
       "      <th>9</th>\n",
       "      <td>Padronized</td>\n",
       "      <td>MAE</td>\n",
       "      <td>0.0100</td>\n",
       "      <td>(5.0, 5.0, 8.0)</td>\n",
       "      <td>[67.37270415350716, 27.079370370370857, 20.064...</td>\n",
       "      <td>114.863634</td>\n",
       "      <td>5000</td>\n",
       "    </tr>\n",
       "    <tr>\n",
       "      <th>10</th>\n",
       "      <td>Padronized</td>\n",
       "      <td>MAE</td>\n",
       "      <td>0.0100</td>\n",
       "      <td>(0.05, 0.05, 0.08)</td>\n",
       "      <td>[62.35002116604077, 23.029592592594202, 14.722...</td>\n",
       "      <td>124.017580</td>\n",
       "      <td>5000</td>\n",
       "    </tr>\n",
       "    <tr>\n",
       "      <th>11</th>\n",
       "      <td>Padronized</td>\n",
       "      <td>MAE</td>\n",
       "      <td>0.0100</td>\n",
       "      <td>(0.0, 0.0, 0.0)</td>\n",
       "      <td>[62.30012157672005, 22.98651851852012, 14.6691...</td>\n",
       "      <td>124.111235</td>\n",
       "      <td>5000</td>\n",
       "    </tr>\n",
       "    <tr>\n",
       "      <th>12</th>\n",
       "      <td>Padronized</td>\n",
       "      <td>MAE</td>\n",
       "      <td>0.0010</td>\n",
       "      <td>(5.0, 5.0, 8.0)</td>\n",
       "      <td>[11.236689467848938, 7.306766666668456, 9.4895...</td>\n",
       "      <td>196.161739</td>\n",
       "      <td>5000</td>\n",
       "    </tr>\n",
       "    <tr>\n",
       "      <th>13</th>\n",
       "      <td>Min-Max Normalized</td>\n",
       "      <td>MAE</td>\n",
       "      <td>0.0100</td>\n",
       "      <td>(5.0, 5.0, 8.0)</td>\n",
       "      <td>[21.784405864197563, 14.435092592592433, 21.28...</td>\n",
       "      <td>200.387134</td>\n",
       "      <td>5000</td>\n",
       "    </tr>\n",
       "    <tr>\n",
       "      <th>14</th>\n",
       "      <td>Min-Max Normalized</td>\n",
       "      <td>MAE</td>\n",
       "      <td>0.0100</td>\n",
       "      <td>(0.05, 0.05, 0.08)</td>\n",
       "      <td>[16.81607253086308, 9.708858024691473, 15.4059...</td>\n",
       "      <td>204.405777</td>\n",
       "      <td>5000</td>\n",
       "    </tr>\n",
       "    <tr>\n",
       "      <th>15</th>\n",
       "      <td>Min-Max Normalized</td>\n",
       "      <td>MAE</td>\n",
       "      <td>0.0100</td>\n",
       "      <td>(0.0, 0.0, 0.0)</td>\n",
       "      <td>[16.76606867283841, 9.661188271605054, 15.3520...</td>\n",
       "      <td>204.445599</td>\n",
       "      <td>5000</td>\n",
       "    </tr>\n",
       "    <tr>\n",
       "      <th>16</th>\n",
       "      <td>Padronized</td>\n",
       "      <td>MAE</td>\n",
       "      <td>0.0001</td>\n",
       "      <td>(5.0, 5.0, 8.0)</td>\n",
       "      <td>[5.6239806502206235, 5.2314814814807775, 8.154...</td>\n",
       "      <td>204.516252</td>\n",
       "      <td>5000</td>\n",
       "    </tr>\n",
       "    <tr>\n",
       "      <th>17</th>\n",
       "      <td>Padronized</td>\n",
       "      <td>MAE</td>\n",
       "      <td>0.0010</td>\n",
       "      <td>(0.05, 0.05, 0.08)</td>\n",
       "      <td>[6.281142495033562, 2.4172592592591515, 1.8958...</td>\n",
       "      <td>207.046686</td>\n",
       "      <td>5000</td>\n",
       "    </tr>\n",
       "    <tr>\n",
       "      <th>18</th>\n",
       "      <td>Padronized</td>\n",
       "      <td>MAE</td>\n",
       "      <td>0.0010</td>\n",
       "      <td>(0.0, 0.0, 0.0)</td>\n",
       "      <td>[6.230887165020368, 2.36989629629619, 1.820197...</td>\n",
       "      <td>207.158677</td>\n",
       "      <td>5000</td>\n",
       "    </tr>\n",
       "    <tr>\n",
       "      <th>19</th>\n",
       "      <td>Min-Max Normalized</td>\n",
       "      <td>MAE</td>\n",
       "      <td>0.0010</td>\n",
       "      <td>(5.0, 5.0, 8.0)</td>\n",
       "      <td>[6.678240740741188, 5.964506172840274, 9.54320...</td>\n",
       "      <td>210.135975</td>\n",
       "      <td>5000</td>\n",
       "    </tr>\n",
       "    <tr>\n",
       "      <th>20</th>\n",
       "      <td>Min-Max Normalized</td>\n",
       "      <td>MAE</td>\n",
       "      <td>0.0001</td>\n",
       "      <td>(5.0, 5.0, 8.0)</td>\n",
       "      <td>[5.167824074073231, 5.096450617284027, 8.15432...</td>\n",
       "      <td>211.239062</td>\n",
       "      <td>5000</td>\n",
       "    </tr>\n",
       "    <tr>\n",
       "      <th>21</th>\n",
       "      <td>Min-Max Normalized</td>\n",
       "      <td>MAE</td>\n",
       "      <td>0.0010</td>\n",
       "      <td>(0.05, 0.05, 0.08)</td>\n",
       "      <td>[1.7257337962961428, 1.0391851851850507, 1.907...</td>\n",
       "      <td>215.227016</td>\n",
       "      <td>5000</td>\n",
       "    </tr>\n",
       "    <tr>\n",
       "      <th>22</th>\n",
       "      <td>Min-Max Normalized</td>\n",
       "      <td>MAE</td>\n",
       "      <td>0.0010</td>\n",
       "      <td>(0.0, 0.0, 0.0)</td>\n",
       "      <td>[1.6756512345677559, 0.990506172839384, 1.8323...</td>\n",
       "      <td>215.280098</td>\n",
       "      <td>5000</td>\n",
       "    </tr>\n",
       "    <tr>\n",
       "      <th>23</th>\n",
       "      <td>Padronized</td>\n",
       "      <td>MAE</td>\n",
       "      <td>0.0001</td>\n",
       "      <td>(0.05, 0.05, 0.08)</td>\n",
       "      <td>[0.6725462119458404, 0.2925925925926095, 0.271...</td>\n",
       "      <td>215.626940</td>\n",
       "      <td>5000</td>\n",
       "    </tr>\n",
       "    <tr>\n",
       "      <th>24</th>\n",
       "      <td>Padronized</td>\n",
       "      <td>MAE</td>\n",
       "      <td>0.0001</td>\n",
       "      <td>(0.0, 0.0, 0.0)</td>\n",
       "      <td>[0.6225462119458516, 0.2425925925926201, 0.191...</td>\n",
       "      <td>215.744072</td>\n",
       "      <td>5000</td>\n",
       "    </tr>\n",
       "    <tr>\n",
       "      <th>25</th>\n",
       "      <td>Min-Max Normalized</td>\n",
       "      <td>MAE</td>\n",
       "      <td>0.0001</td>\n",
       "      <td>(0.05, 0.05, 0.08)</td>\n",
       "      <td>[0.217438271604925, 0.15108024691355285, 0.271...</td>\n",
       "      <td>216.502927</td>\n",
       "      <td>5000</td>\n",
       "    </tr>\n",
       "    <tr>\n",
       "      <th>26</th>\n",
       "      <td>Min-Max Normalized</td>\n",
       "      <td>MAE</td>\n",
       "      <td>0.0001</td>\n",
       "      <td>(0.0, 0.0, 0.0)</td>\n",
       "      <td>[0.16743827160492802, 0.10108024691356973, 0.1...</td>\n",
       "      <td>216.560396</td>\n",
       "      <td>5000</td>\n",
       "    </tr>\n",
       "  </tbody>\n",
       "</table>\n",
       "</div>"
      ],
      "text/plain": [
       "           Feature_Set Loss_Function  Learning_Rate     Initial_Weights  \\\n",
       "0             Original           MAE         0.0001     (5.0, 5.0, 8.0)   \n",
       "1             Original           MAE         0.0010     (5.0, 5.0, 8.0)   \n",
       "2             Original           MAE         0.0100     (5.0, 5.0, 8.0)   \n",
       "3             Original           MAE         0.0100  (0.05, 0.05, 0.08)   \n",
       "4             Original           MAE         0.0100     (0.0, 0.0, 0.0)   \n",
       "5             Original           MAE         0.0010  (0.05, 0.05, 0.08)   \n",
       "6             Original           MAE         0.0010     (0.0, 0.0, 0.0)   \n",
       "7             Original           MAE         0.0001  (0.05, 0.05, 0.08)   \n",
       "8             Original           MAE         0.0001     (0.0, 0.0, 0.0)   \n",
       "9           Padronized           MAE         0.0100     (5.0, 5.0, 8.0)   \n",
       "10          Padronized           MAE         0.0100  (0.05, 0.05, 0.08)   \n",
       "11          Padronized           MAE         0.0100     (0.0, 0.0, 0.0)   \n",
       "12          Padronized           MAE         0.0010     (5.0, 5.0, 8.0)   \n",
       "13  Min-Max Normalized           MAE         0.0100     (5.0, 5.0, 8.0)   \n",
       "14  Min-Max Normalized           MAE         0.0100  (0.05, 0.05, 0.08)   \n",
       "15  Min-Max Normalized           MAE         0.0100     (0.0, 0.0, 0.0)   \n",
       "16          Padronized           MAE         0.0001     (5.0, 5.0, 8.0)   \n",
       "17          Padronized           MAE         0.0010  (0.05, 0.05, 0.08)   \n",
       "18          Padronized           MAE         0.0010     (0.0, 0.0, 0.0)   \n",
       "19  Min-Max Normalized           MAE         0.0010     (5.0, 5.0, 8.0)   \n",
       "20  Min-Max Normalized           MAE         0.0001     (5.0, 5.0, 8.0)   \n",
       "21  Min-Max Normalized           MAE         0.0010  (0.05, 0.05, 0.08)   \n",
       "22  Min-Max Normalized           MAE         0.0010     (0.0, 0.0, 0.0)   \n",
       "23          Padronized           MAE         0.0001  (0.05, 0.05, 0.08)   \n",
       "24          Padronized           MAE         0.0001     (0.0, 0.0, 0.0)   \n",
       "25  Min-Max Normalized           MAE         0.0001  (0.05, 0.05, 0.08)   \n",
       "26  Min-Max Normalized           MAE         0.0001     (0.0, 0.0, 0.0)   \n",
       "\n",
       "                                        Final_Weights  Final_Loss  Iterations  \n",
       "0   [5.005431229629682, 5.883213629629388, 8.06220...   15.241431        5000  \n",
       "1   [5.003422617283623, 5.8810261728389355, 8.1157...   15.244330        5000  \n",
       "2   [5.01551407407448, 5.8891851851840675, 8.29185...   15.272837        5000  \n",
       "3   [5.0198844444445445, 6.044133333333859, 5.3644...   15.396602        5000  \n",
       "4   [4.971419259259352, 6.0456000000005075, 5.3503...   15.462014        5000  \n",
       "5   [5.0189366913575535, 6.2818202469128, 1.201135...   15.817841        5000  \n",
       "6   [5.0175612839501795, 6.283760987653648, 1.1426...   15.824304        5000  \n",
       "7   [4.956628661727751, 4.247628246913503, 0.44755...   27.120281        5000  \n",
       "8   [4.953982281480847, 4.200197629629559, 0.36843...   27.580576        5000  \n",
       "9   [67.37270415350716, 27.079370370370857, 20.064...  114.863634        5000  \n",
       "10  [62.35002116604077, 23.029592592594202, 14.722...  124.017580        5000  \n",
       "11  [62.30012157672005, 22.98651851852012, 14.6691...  124.111235        5000  \n",
       "12  [11.236689467848938, 7.306766666668456, 9.4895...  196.161739        5000  \n",
       "13  [21.784405864197563, 14.435092592592433, 21.28...  200.387134        5000  \n",
       "14  [16.81607253086308, 9.708858024691473, 15.4059...  204.405777        5000  \n",
       "15  [16.76606867283841, 9.661188271605054, 15.3520...  204.445599        5000  \n",
       "16  [5.6239806502206235, 5.2314814814807775, 8.154...  204.516252        5000  \n",
       "17  [6.281142495033562, 2.4172592592591515, 1.8958...  207.046686        5000  \n",
       "18  [6.230887165020368, 2.36989629629619, 1.820197...  207.158677        5000  \n",
       "19  [6.678240740741188, 5.964506172840274, 9.54320...  210.135975        5000  \n",
       "20  [5.167824074073231, 5.096450617284027, 8.15432...  211.239062        5000  \n",
       "21  [1.7257337962961428, 1.0391851851850507, 1.907...  215.227016        5000  \n",
       "22  [1.6756512345677559, 0.990506172839384, 1.8323...  215.280098        5000  \n",
       "23  [0.6725462119458404, 0.2925925925926095, 0.271...  215.626940        5000  \n",
       "24  [0.6225462119458516, 0.2425925925926201, 0.191...  215.744072        5000  \n",
       "25  [0.217438271604925, 0.15108024691355285, 0.271...  216.502927        5000  \n",
       "26  [0.16743827160492802, 0.10108024691356973, 0.1...  216.560396        5000  "
      ]
     },
     "execution_count": 14,
     "metadata": {},
     "output_type": "execute_result"
    }
   ],
   "source": [
    "df_result_mae = df_result[df_result['Loss_Function'] == 'MAE'].sort_values(by='Final_Loss').reset_index(drop=True)\n",
    "df_result_mae"
   ]
  }
 ],
 "metadata": {
  "kernelspec": {
   "display_name": "rna-tarefas-mestrado (3.13.2)",
   "language": "python",
   "name": "python3"
  },
  "language_info": {
   "codemirror_mode": {
    "name": "ipython",
    "version": 3
   },
   "file_extension": ".py",
   "mimetype": "text/x-python",
   "name": "python",
   "nbconvert_exporter": "python",
   "pygments_lexer": "ipython3",
   "version": "3.13.2"
  }
 },
 "nbformat": 4,
 "nbformat_minor": 5
}
