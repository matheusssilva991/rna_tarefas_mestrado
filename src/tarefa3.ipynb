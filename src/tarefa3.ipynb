{
 "cells": [
  {
   "cell_type": "code",
   "execution_count": 1,
   "id": "749e9c66",
   "metadata": {},
   "outputs": [],
   "source": [
    "import numpy as np\n",
    "import sys\n",
    "import os\n",
    "import pandas as pd\n",
    "import plotly.graph_objects as go\n",
    "\n",
    "sys.path.append(os.path.abspath(\"../libs\"))\n",
    "sys.path.append(os.path.abspath(\"../utils\"))\n",
    "\n",
    "from levenberg_marquadt import levenberg_marquadt\n",
    "from normalize import MinMaxNormalizer, StandardScaler\n",
    "from loss_fn_tarefa2 import make_mse_loss_function\n",
    "from plots.plots_tarefa3 import plot_best_by_loss\n",
    "\n",
    "pd.set_option('display.float_format', '{:.10f}'.format)"
   ]
  },
  {
   "cell_type": "markdown",
   "id": "f77a74e5",
   "metadata": {},
   "source": [
    "# Ajuste de curva por otimização"
   ]
  },
  {
   "cell_type": "markdown",
   "id": "76c8d133",
   "metadata": {},
   "source": [
    "## Carregar os dados"
   ]
  },
  {
   "cell_type": "code",
   "execution_count": 2,
   "id": "037534c3",
   "metadata": {},
   "outputs": [
    {
     "data": {
      "text/html": [
       "<div>\n",
       "<style scoped>\n",
       "    .dataframe tbody tr th:only-of-type {\n",
       "        vertical-align: middle;\n",
       "    }\n",
       "\n",
       "    .dataframe tbody tr th {\n",
       "        vertical-align: top;\n",
       "    }\n",
       "\n",
       "    .dataframe thead th {\n",
       "        text-align: right;\n",
       "    }\n",
       "</style>\n",
       "<table border=\"1\" class=\"dataframe\">\n",
       "  <thead>\n",
       "    <tr style=\"text-align: right;\">\n",
       "      <th></th>\n",
       "      <th>x</th>\n",
       "      <th>y</th>\n",
       "      <th>z</th>\n",
       "    </tr>\n",
       "  </thead>\n",
       "  <tbody>\n",
       "    <tr>\n",
       "      <th>0</th>\n",
       "      <td>-5.0000000000</td>\n",
       "      <td>-5.0000000000</td>\n",
       "      <td>-458.9636288948</td>\n",
       "    </tr>\n",
       "    <tr>\n",
       "      <th>1</th>\n",
       "      <td>-5.0000000000</td>\n",
       "      <td>-3.8000000000</td>\n",
       "      <td>-520.3613811409</td>\n",
       "    </tr>\n",
       "    <tr>\n",
       "      <th>2</th>\n",
       "      <td>-5.0000000000</td>\n",
       "      <td>-2.6000000000</td>\n",
       "      <td>-593.0392311788</td>\n",
       "    </tr>\n",
       "    <tr>\n",
       "      <th>3</th>\n",
       "      <td>-5.0000000000</td>\n",
       "      <td>-1.4000000000</td>\n",
       "      <td>-606.7766053186</td>\n",
       "    </tr>\n",
       "    <tr>\n",
       "      <th>4</th>\n",
       "      <td>-5.0000000000</td>\n",
       "      <td>-0.2000000000</td>\n",
       "      <td>-657.4018919832</td>\n",
       "    </tr>\n",
       "  </tbody>\n",
       "</table>\n",
       "</div>"
      ],
      "text/plain": [
       "              x             y               z\n",
       "0 -5.0000000000 -5.0000000000 -458.9636288948\n",
       "1 -5.0000000000 -3.8000000000 -520.3613811409\n",
       "2 -5.0000000000 -2.6000000000 -593.0392311788\n",
       "3 -5.0000000000 -1.4000000000 -606.7766053186\n",
       "4 -5.0000000000 -0.2000000000 -657.4018919832"
      ]
     },
     "execution_count": 2,
     "metadata": {},
     "output_type": "execute_result"
    }
   ],
   "source": [
    "# Carregamento dos dados\n",
    "df = pd.read_excel('../data/Trabalho2dados.xlsx')\n",
    "\n",
    "df.head()"
   ]
  },
  {
   "cell_type": "markdown",
   "id": "1983fdde",
   "metadata": {},
   "source": [
    "## EDA dados"
   ]
  },
  {
   "cell_type": "code",
   "execution_count": 3,
   "id": "d9f7363f",
   "metadata": {},
   "outputs": [
    {
     "data": {
      "text/html": [
       "<div>\n",
       "<style scoped>\n",
       "    .dataframe tbody tr th:only-of-type {\n",
       "        vertical-align: middle;\n",
       "    }\n",
       "\n",
       "    .dataframe tbody tr th {\n",
       "        vertical-align: top;\n",
       "    }\n",
       "\n",
       "    .dataframe thead th {\n",
       "        text-align: right;\n",
       "    }\n",
       "</style>\n",
       "<table border=\"1\" class=\"dataframe\">\n",
       "  <thead>\n",
       "    <tr style=\"text-align: right;\">\n",
       "      <th></th>\n",
       "      <th>x</th>\n",
       "      <th>y</th>\n",
       "      <th>z</th>\n",
       "    </tr>\n",
       "  </thead>\n",
       "  <tbody>\n",
       "    <tr>\n",
       "      <th>count</th>\n",
       "      <td>81.0000000000</td>\n",
       "      <td>81.0000000000</td>\n",
       "      <td>81.0000000000</td>\n",
       "    </tr>\n",
       "    <tr>\n",
       "      <th>mean</th>\n",
       "      <td>-0.2000000000</td>\n",
       "      <td>-0.2000000000</td>\n",
       "      <td>36.9905729348</td>\n",
       "    </tr>\n",
       "    <tr>\n",
       "      <th>std</th>\n",
       "      <td>3.1176914536</td>\n",
       "      <td>3.1176914536</td>\n",
       "      <td>294.6804043410</td>\n",
       "    </tr>\n",
       "    <tr>\n",
       "      <th>min</th>\n",
       "      <td>-5.0000000000</td>\n",
       "      <td>-5.0000000000</td>\n",
       "      <td>-657.4018919832</td>\n",
       "    </tr>\n",
       "    <tr>\n",
       "      <th>25%</th>\n",
       "      <td>-2.6000000000</td>\n",
       "      <td>-2.6000000000</td>\n",
       "      <td>-42.7809389881</td>\n",
       "    </tr>\n",
       "    <tr>\n",
       "      <th>50%</th>\n",
       "      <td>-0.2000000000</td>\n",
       "      <td>-0.2000000000</td>\n",
       "      <td>59.4036448974</td>\n",
       "    </tr>\n",
       "    <tr>\n",
       "      <th>75%</th>\n",
       "      <td>2.2000000000</td>\n",
       "      <td>2.2000000000</td>\n",
       "      <td>170.5995181649</td>\n",
       "    </tr>\n",
       "    <tr>\n",
       "      <th>max</th>\n",
       "      <td>4.6000000000</td>\n",
       "      <td>4.6000000000</td>\n",
       "      <td>614.7000997851</td>\n",
       "    </tr>\n",
       "  </tbody>\n",
       "</table>\n",
       "</div>"
      ],
      "text/plain": [
       "                  x             y               z\n",
       "count 81.0000000000 81.0000000000   81.0000000000\n",
       "mean  -0.2000000000 -0.2000000000   36.9905729348\n",
       "std    3.1176914536  3.1176914536  294.6804043410\n",
       "min   -5.0000000000 -5.0000000000 -657.4018919832\n",
       "25%   -2.6000000000 -2.6000000000  -42.7809389881\n",
       "50%   -0.2000000000 -0.2000000000   59.4036448974\n",
       "75%    2.2000000000  2.2000000000  170.5995181649\n",
       "max    4.6000000000  4.6000000000  614.7000997851"
      ]
     },
     "execution_count": 3,
     "metadata": {},
     "output_type": "execute_result"
    }
   ],
   "source": [
    "df.describe()"
   ]
  },
  {
   "cell_type": "code",
   "execution_count": 4,
   "id": "ef14e37c",
   "metadata": {},
   "outputs": [
    {
     "data": {
      "text/plain": [
       "x    0\n",
       "y    0\n",
       "z    0\n",
       "dtype: int64"
      ]
     },
     "execution_count": 4,
     "metadata": {},
     "output_type": "execute_result"
    }
   ],
   "source": [
    "df.isna().sum()"
   ]
  },
  {
   "cell_type": "code",
   "execution_count": 5,
   "id": "32edf9b1",
   "metadata": {},
   "outputs": [
    {
     "data": {
      "application/vnd.plotly.v1+json": {
       "config": {
        "plotlyServerURL": "https://plot.ly"
       },
       "data": [
        {
         "colorscale": [
          [
           0,
           "#440154"
          ],
          [
           0.1111111111111111,
           "#482878"
          ],
          [
           0.2222222222222222,
           "#3e4989"
          ],
          [
           0.3333333333333333,
           "#31688e"
          ],
          [
           0.4444444444444444,
           "#26828e"
          ],
          [
           0.5555555555555556,
           "#1f9e89"
          ],
          [
           0.6666666666666666,
           "#35b779"
          ],
          [
           0.7777777777777778,
           "#6ece58"
          ],
          [
           0.8888888888888888,
           "#b5de2b"
          ],
          [
           1,
           "#fde725"
          ]
         ],
         "contours": {
          "z": {
           "highlightcolor": "white",
           "project": {
            "z": true
           },
           "show": true,
           "usecolormap": true
          }
         },
         "name": "Superfície dos Dados",
         "opacity": 0.9,
         "type": "surface",
         "x": {
          "bdata": "AAAAAAAAFMBmZmZmZmYOwM3MzMzMzATAaGZmZmZm9r+gmZmZmZnJvwAAAAAAAPA/mZmZmZmZAUAyMzMzMzMLQGZmZmZmZhJA",
          "dtype": "f8"
         },
         "y": {
          "bdata": "AAAAAAAAFMBmZmZmZmYOwM3MzMzMzATAaGZmZmZm9r+gmZmZmZnJvwAAAAAAAPA/mZmZmZmZAUAyMzMzMzMLQGZmZmZmZhJA",
          "dtype": "f8"
         },
         "z": {
          "bdata": "9sghBmuvfMC0I0+f2t1hwK8LugEe2lJAqRchANEXY0CXyXr2YdNiQAXkA6qEaGRAYRUI67oQZkCrc0pJRUR3QPvexyqfJYNA56vLG+RCgMBgZFWNY0RmwEa0ZU71tjdASHovQizPUEC2yUt2ioZXQIE/ymEiEFJAofS3QC9TZUDm0Y69RzpxQBxk+a3Gm4JAh69vWFCIgsDr2fnzbGBtwMXwCs/1Y0XAAKbl/Ohw5z+MPGrMWAZUQIPM0KKqs01AdnFhUEEJY0BYWYDTU69vQGvDh4ASt4BAxGnZfDb2gsC8hbDvayFqwFXOkBgITEHATybcMR6bRkD4ZK9QxgMSQLZw2jvWoCRAbl3iWwiMV0AD6gnTpuNpQNwbLrpiU4BAAeQkEzeLhMAk6/XeOCtuwLj38j6P0FXA/Yd56iUkL8DWRXvas+Q5QPddrDvbtSpAiXUrThCVTEAi8fVSARFpQN9/ze8BZX9ANYX9+71QgsBaaZmAw0RzwKEVjb8aVVDAjlnf8IZjEUDsg/0U6SE2QBSM3YxpuTtAIlxfPf9zU0AmTk5q1SNpQMAYRqOGBIBA/M43o1W0gsACTn1vyk9swPoCevfMxUHAOsIQ26pKQkAcJJh7USlBQOqpfkVp8jlAN2AcB9zjUUAW4wxTc+FqQNasiNjrAH9AUTA5arzNgcDHxNnozt5rwPVOnU/RQxvAfddQOV36UEA6vegZHBdNQIdtQ2USplNAhP5SrQhFZUCdRKEKSBtwQJ8BCeQTDYFAihsM/ebRfsBpdWkKCdBhwBqUJlS9rFBAp8B+eU9JWkAiG2r8lmdgQIRpKZrCnmJAx2bRaHMgakCkRVdKg5R0QNmH6s2ZNYNA",
          "dtype": "f8",
          "shape": "9, 9"
         }
        },
        {
         "marker": {
          "color": "red",
          "size": 3,
          "symbol": "circle"
         },
         "mode": "markers",
         "name": "Pontos de Dados Originais",
         "type": "scatter3d",
         "x": {
          "bdata": "AAAAAAAAFMAAAAAAAAAUwAAAAAAAABTAAAAAAAAAFMAAAAAAAAAUwAAAAAAAABTAAAAAAAAAFMAAAAAAAAAUwAAAAAAAABTAZmZmZmZmDsBmZmZmZmYOwGZmZmZmZg7AZmZmZmZmDsBmZmZmZmYOwGZmZmZmZg7AZmZmZmZmDsBmZmZmZmYOwGZmZmZmZg7AzczMzMzMBMDNzMzMzMwEwM3MzMzMzATAzczMzMzMBMDNzMzMzMwEwM3MzMzMzATAzczMzMzMBMDNzMzMzMwEwM3MzMzMzATAaGZmZmZm9r9oZmZmZmb2v2hmZmZmZva/aGZmZmZm9r9oZmZmZmb2v2hmZmZmZva/aGZmZmZm9r9oZmZmZmb2v2hmZmZmZva/oJmZmZmZyb+gmZmZmZnJv6CZmZmZmcm/oJmZmZmZyb+gmZmZmZnJv6CZmZmZmcm/oJmZmZmZyb+gmZmZmZnJv6CZmZmZmcm/AAAAAAAA8D8AAAAAAADwPwAAAAAAAPA/AAAAAAAA8D8AAAAAAADwPwAAAAAAAPA/AAAAAAAA8D8AAAAAAADwPwAAAAAAAPA/mZmZmZmZAUCZmZmZmZkBQJmZmZmZmQFAmZmZmZmZAUCZmZmZmZkBQJmZmZmZmQFAmZmZmZmZAUCZmZmZmZkBQJmZmZmZmQFAMjMzMzMzC0AyMzMzMzMLQDIzMzMzMwtAMjMzMzMzC0AyMzMzMzMLQDIzMzMzMwtAMjMzMzMzC0AyMzMzMzMLQDIzMzMzMwtAZmZmZmZmEkBmZmZmZmYSQGZmZmZmZhJAZmZmZmZmEkBmZmZmZmYSQGZmZmZmZhJAZmZmZmZmEkBmZmZmZmYSQGZmZmZmZhJA",
          "dtype": "f8"
         },
         "y": {
          "bdata": "AAAAAAAAFMBmZmZmZmYOwM3MzMzMzATAaGZmZmZm9r+gmZmZmZnJvwAAAAAAAPA/mZmZmZmZAUAyMzMzMzMLQGZmZmZmZhJAAAAAAAAAFMBmZmZmZmYOwM3MzMzMzATAaGZmZmZm9r+gmZmZmZnJvwAAAAAAAPA/mZmZmZmZAUAyMzMzMzMLQGZmZmZmZhJAAAAAAAAAFMBmZmZmZmYOwM3MzMzMzATAaGZmZmZm9r+gmZmZmZnJvwAAAAAAAPA/mZmZmZmZAUAyMzMzMzMLQGZmZmZmZhJAAAAAAAAAFMBmZmZmZmYOwM3MzMzMzATAaGZmZmZm9r+gmZmZmZnJvwAAAAAAAPA/mZmZmZmZAUAyMzMzMzMLQGZmZmZmZhJAAAAAAAAAFMBmZmZmZmYOwM3MzMzMzATAaGZmZmZm9r+gmZmZmZnJvwAAAAAAAPA/mZmZmZmZAUAyMzMzMzMLQGZmZmZmZhJAAAAAAAAAFMBmZmZmZmYOwM3MzMzMzATAaGZmZmZm9r+gmZmZmZnJvwAAAAAAAPA/mZmZmZmZAUAyMzMzMzMLQGZmZmZmZhJAAAAAAAAAFMBmZmZmZmYOwM3MzMzMzATAaGZmZmZm9r+gmZmZmZnJvwAAAAAAAPA/mZmZmZmZAUAyMzMzMzMLQGZmZmZmZhJAAAAAAAAAFMBmZmZmZmYOwM3MzMzMzATAaGZmZmZm9r+gmZmZmZnJvwAAAAAAAPA/mZmZmZmZAUAyMzMzMzMLQGZmZmZmZhJAAAAAAAAAFMBmZmZmZmYOwM3MzMzMzATAaGZmZmZm9r+gmZmZmZnJvwAAAAAAAPA/mZmZmZmZAUAyMzMzMzMLQGZmZmZmZhJA",
          "dtype": "f8"
         },
         "z": {
          "bdata": "9sghBmuvfMDnq8sb5EKAwIevb1hQiILAxGnZfDb2gsAB5CQTN4uEwDWF/fu9UILA/M43o1W0gsBRMDlqvM2BwIobDP3m0X7AtCNPn9rdYcBgZFWNY0RmwOvZ+fNsYG3AvIWw72shasAk6/XeOCtuwFppmYDDRHPAAk59b8pPbMDHxNnozt5rwGl1aQoJ0GHArwu6AR7aUkBGtGVO9bY3QMXwCs/1Y0XAVc6QGAhMQcC49/I+j9BVwKEVjb8aVVDA+gJ698zFQcD1Tp1P0UMbwBqUJlS9rFBAqRchANEXY0BIei9CLM9QQACm5fzocOc/TybcMR6bRkD9h3nqJSQvwI5Z3/CGYxFAOsIQ26pKQkB911A5XfpQQKfAfnlPSVpAl8l69mHTYkC2yUt2ioZXQIw8asxYBlRA+GSvUMYDEkDWRXvas+Q5QOyD/RTpITZAHCSYe1EpQUA6vegZHBdNQCIbavyWZ2BABeQDqoRoZECBP8phIhBSQIPM0KKqs01AtnDaO9agJED3Xaw727UqQBSM3YxpuTtA6ql+RWnyOUCHbUNlEqZTQIRpKZrCnmJAYRUI67oQZkCh9LdAL1NlQHZxYVBBCWNAbl3iWwiMV0CJdStOEJVMQCJcXz3/c1NAN2AcB9zjUUCE/lKtCEVlQMdm0WhzIGpAq3NKSUVEd0Dm0Y69RzpxQFhZgNNTr29AA+oJ06bjaUAi8fVSARFpQCZOTmrVI2lAFuMMU3PhakCdRKEKSBtwQKRFV0qDlHRA+97HKp8lg0AcZPmtxpuCQGvDh4ASt4BA3BsuumJTgEDff83vAWV/QMAYRqOGBIBA1qyI2OsAf0CfAQnkEw2BQNmH6s2ZNYNA",
          "dtype": "f8"
         }
        }
       ],
       "layout": {
        "margin": {
         "b": 0,
         "l": 0,
         "r": 0,
         "t": 50
        },
        "scene": {
         "xaxis": {
          "title": {
           "text": "Eixo X"
          }
         },
         "yaxis": {
          "title": {
           "text": "Eixo Y"
          }
         },
         "zaxis": {
          "title": {
           "text": "Eixo Z (Valor)"
          }
         }
        },
        "template": {
         "data": {
          "bar": [
           {
            "error_x": {
             "color": "#2a3f5f"
            },
            "error_y": {
             "color": "#2a3f5f"
            },
            "marker": {
             "line": {
              "color": "#E5ECF6",
              "width": 0.5
             },
             "pattern": {
              "fillmode": "overlay",
              "size": 10,
              "solidity": 0.2
             }
            },
            "type": "bar"
           }
          ],
          "barpolar": [
           {
            "marker": {
             "line": {
              "color": "#E5ECF6",
              "width": 0.5
             },
             "pattern": {
              "fillmode": "overlay",
              "size": 10,
              "solidity": 0.2
             }
            },
            "type": "barpolar"
           }
          ],
          "carpet": [
           {
            "aaxis": {
             "endlinecolor": "#2a3f5f",
             "gridcolor": "white",
             "linecolor": "white",
             "minorgridcolor": "white",
             "startlinecolor": "#2a3f5f"
            },
            "baxis": {
             "endlinecolor": "#2a3f5f",
             "gridcolor": "white",
             "linecolor": "white",
             "minorgridcolor": "white",
             "startlinecolor": "#2a3f5f"
            },
            "type": "carpet"
           }
          ],
          "choropleth": [
           {
            "colorbar": {
             "outlinewidth": 0,
             "ticks": ""
            },
            "type": "choropleth"
           }
          ],
          "contour": [
           {
            "colorbar": {
             "outlinewidth": 0,
             "ticks": ""
            },
            "colorscale": [
             [
              0,
              "#0d0887"
             ],
             [
              0.1111111111111111,
              "#46039f"
             ],
             [
              0.2222222222222222,
              "#7201a8"
             ],
             [
              0.3333333333333333,
              "#9c179e"
             ],
             [
              0.4444444444444444,
              "#bd3786"
             ],
             [
              0.5555555555555556,
              "#d8576b"
             ],
             [
              0.6666666666666666,
              "#ed7953"
             ],
             [
              0.7777777777777778,
              "#fb9f3a"
             ],
             [
              0.8888888888888888,
              "#fdca26"
             ],
             [
              1,
              "#f0f921"
             ]
            ],
            "type": "contour"
           }
          ],
          "contourcarpet": [
           {
            "colorbar": {
             "outlinewidth": 0,
             "ticks": ""
            },
            "type": "contourcarpet"
           }
          ],
          "heatmap": [
           {
            "colorbar": {
             "outlinewidth": 0,
             "ticks": ""
            },
            "colorscale": [
             [
              0,
              "#0d0887"
             ],
             [
              0.1111111111111111,
              "#46039f"
             ],
             [
              0.2222222222222222,
              "#7201a8"
             ],
             [
              0.3333333333333333,
              "#9c179e"
             ],
             [
              0.4444444444444444,
              "#bd3786"
             ],
             [
              0.5555555555555556,
              "#d8576b"
             ],
             [
              0.6666666666666666,
              "#ed7953"
             ],
             [
              0.7777777777777778,
              "#fb9f3a"
             ],
             [
              0.8888888888888888,
              "#fdca26"
             ],
             [
              1,
              "#f0f921"
             ]
            ],
            "type": "heatmap"
           }
          ],
          "histogram": [
           {
            "marker": {
             "pattern": {
              "fillmode": "overlay",
              "size": 10,
              "solidity": 0.2
             }
            },
            "type": "histogram"
           }
          ],
          "histogram2d": [
           {
            "colorbar": {
             "outlinewidth": 0,
             "ticks": ""
            },
            "colorscale": [
             [
              0,
              "#0d0887"
             ],
             [
              0.1111111111111111,
              "#46039f"
             ],
             [
              0.2222222222222222,
              "#7201a8"
             ],
             [
              0.3333333333333333,
              "#9c179e"
             ],
             [
              0.4444444444444444,
              "#bd3786"
             ],
             [
              0.5555555555555556,
              "#d8576b"
             ],
             [
              0.6666666666666666,
              "#ed7953"
             ],
             [
              0.7777777777777778,
              "#fb9f3a"
             ],
             [
              0.8888888888888888,
              "#fdca26"
             ],
             [
              1,
              "#f0f921"
             ]
            ],
            "type": "histogram2d"
           }
          ],
          "histogram2dcontour": [
           {
            "colorbar": {
             "outlinewidth": 0,
             "ticks": ""
            },
            "colorscale": [
             [
              0,
              "#0d0887"
             ],
             [
              0.1111111111111111,
              "#46039f"
             ],
             [
              0.2222222222222222,
              "#7201a8"
             ],
             [
              0.3333333333333333,
              "#9c179e"
             ],
             [
              0.4444444444444444,
              "#bd3786"
             ],
             [
              0.5555555555555556,
              "#d8576b"
             ],
             [
              0.6666666666666666,
              "#ed7953"
             ],
             [
              0.7777777777777778,
              "#fb9f3a"
             ],
             [
              0.8888888888888888,
              "#fdca26"
             ],
             [
              1,
              "#f0f921"
             ]
            ],
            "type": "histogram2dcontour"
           }
          ],
          "mesh3d": [
           {
            "colorbar": {
             "outlinewidth": 0,
             "ticks": ""
            },
            "type": "mesh3d"
           }
          ],
          "parcoords": [
           {
            "line": {
             "colorbar": {
              "outlinewidth": 0,
              "ticks": ""
             }
            },
            "type": "parcoords"
           }
          ],
          "pie": [
           {
            "automargin": true,
            "type": "pie"
           }
          ],
          "scatter": [
           {
            "fillpattern": {
             "fillmode": "overlay",
             "size": 10,
             "solidity": 0.2
            },
            "type": "scatter"
           }
          ],
          "scatter3d": [
           {
            "line": {
             "colorbar": {
              "outlinewidth": 0,
              "ticks": ""
             }
            },
            "marker": {
             "colorbar": {
              "outlinewidth": 0,
              "ticks": ""
             }
            },
            "type": "scatter3d"
           }
          ],
          "scattercarpet": [
           {
            "marker": {
             "colorbar": {
              "outlinewidth": 0,
              "ticks": ""
             }
            },
            "type": "scattercarpet"
           }
          ],
          "scattergeo": [
           {
            "marker": {
             "colorbar": {
              "outlinewidth": 0,
              "ticks": ""
             }
            },
            "type": "scattergeo"
           }
          ],
          "scattergl": [
           {
            "marker": {
             "colorbar": {
              "outlinewidth": 0,
              "ticks": ""
             }
            },
            "type": "scattergl"
           }
          ],
          "scattermap": [
           {
            "marker": {
             "colorbar": {
              "outlinewidth": 0,
              "ticks": ""
             }
            },
            "type": "scattermap"
           }
          ],
          "scattermapbox": [
           {
            "marker": {
             "colorbar": {
              "outlinewidth": 0,
              "ticks": ""
             }
            },
            "type": "scattermapbox"
           }
          ],
          "scatterpolar": [
           {
            "marker": {
             "colorbar": {
              "outlinewidth": 0,
              "ticks": ""
             }
            },
            "type": "scatterpolar"
           }
          ],
          "scatterpolargl": [
           {
            "marker": {
             "colorbar": {
              "outlinewidth": 0,
              "ticks": ""
             }
            },
            "type": "scatterpolargl"
           }
          ],
          "scatterternary": [
           {
            "marker": {
             "colorbar": {
              "outlinewidth": 0,
              "ticks": ""
             }
            },
            "type": "scatterternary"
           }
          ],
          "surface": [
           {
            "colorbar": {
             "outlinewidth": 0,
             "ticks": ""
            },
            "colorscale": [
             [
              0,
              "#0d0887"
             ],
             [
              0.1111111111111111,
              "#46039f"
             ],
             [
              0.2222222222222222,
              "#7201a8"
             ],
             [
              0.3333333333333333,
              "#9c179e"
             ],
             [
              0.4444444444444444,
              "#bd3786"
             ],
             [
              0.5555555555555556,
              "#d8576b"
             ],
             [
              0.6666666666666666,
              "#ed7953"
             ],
             [
              0.7777777777777778,
              "#fb9f3a"
             ],
             [
              0.8888888888888888,
              "#fdca26"
             ],
             [
              1,
              "#f0f921"
             ]
            ],
            "type": "surface"
           }
          ],
          "table": [
           {
            "cells": {
             "fill": {
              "color": "#EBF0F8"
             },
             "line": {
              "color": "white"
             }
            },
            "header": {
             "fill": {
              "color": "#C8D4E3"
             },
             "line": {
              "color": "white"
             }
            },
            "type": "table"
           }
          ]
         },
         "layout": {
          "annotationdefaults": {
           "arrowcolor": "#2a3f5f",
           "arrowhead": 0,
           "arrowwidth": 1
          },
          "autotypenumbers": "strict",
          "coloraxis": {
           "colorbar": {
            "outlinewidth": 0,
            "ticks": ""
           }
          },
          "colorscale": {
           "diverging": [
            [
             0,
             "#8e0152"
            ],
            [
             0.1,
             "#c51b7d"
            ],
            [
             0.2,
             "#de77ae"
            ],
            [
             0.3,
             "#f1b6da"
            ],
            [
             0.4,
             "#fde0ef"
            ],
            [
             0.5,
             "#f7f7f7"
            ],
            [
             0.6,
             "#e6f5d0"
            ],
            [
             0.7,
             "#b8e186"
            ],
            [
             0.8,
             "#7fbc41"
            ],
            [
             0.9,
             "#4d9221"
            ],
            [
             1,
             "#276419"
            ]
           ],
           "sequential": [
            [
             0,
             "#0d0887"
            ],
            [
             0.1111111111111111,
             "#46039f"
            ],
            [
             0.2222222222222222,
             "#7201a8"
            ],
            [
             0.3333333333333333,
             "#9c179e"
            ],
            [
             0.4444444444444444,
             "#bd3786"
            ],
            [
             0.5555555555555556,
             "#d8576b"
            ],
            [
             0.6666666666666666,
             "#ed7953"
            ],
            [
             0.7777777777777778,
             "#fb9f3a"
            ],
            [
             0.8888888888888888,
             "#fdca26"
            ],
            [
             1,
             "#f0f921"
            ]
           ],
           "sequentialminus": [
            [
             0,
             "#0d0887"
            ],
            [
             0.1111111111111111,
             "#46039f"
            ],
            [
             0.2222222222222222,
             "#7201a8"
            ],
            [
             0.3333333333333333,
             "#9c179e"
            ],
            [
             0.4444444444444444,
             "#bd3786"
            ],
            [
             0.5555555555555556,
             "#d8576b"
            ],
            [
             0.6666666666666666,
             "#ed7953"
            ],
            [
             0.7777777777777778,
             "#fb9f3a"
            ],
            [
             0.8888888888888888,
             "#fdca26"
            ],
            [
             1,
             "#f0f921"
            ]
           ]
          },
          "colorway": [
           "#636efa",
           "#EF553B",
           "#00cc96",
           "#ab63fa",
           "#FFA15A",
           "#19d3f3",
           "#FF6692",
           "#B6E880",
           "#FF97FF",
           "#FECB52"
          ],
          "font": {
           "color": "#2a3f5f"
          },
          "geo": {
           "bgcolor": "white",
           "lakecolor": "white",
           "landcolor": "#E5ECF6",
           "showlakes": true,
           "showland": true,
           "subunitcolor": "white"
          },
          "hoverlabel": {
           "align": "left"
          },
          "hovermode": "closest",
          "mapbox": {
           "style": "light"
          },
          "paper_bgcolor": "white",
          "plot_bgcolor": "#E5ECF6",
          "polar": {
           "angularaxis": {
            "gridcolor": "white",
            "linecolor": "white",
            "ticks": ""
           },
           "bgcolor": "#E5ECF6",
           "radialaxis": {
            "gridcolor": "white",
            "linecolor": "white",
            "ticks": ""
           }
          },
          "scene": {
           "xaxis": {
            "backgroundcolor": "#E5ECF6",
            "gridcolor": "white",
            "gridwidth": 2,
            "linecolor": "white",
            "showbackground": true,
            "ticks": "",
            "zerolinecolor": "white"
           },
           "yaxis": {
            "backgroundcolor": "#E5ECF6",
            "gridcolor": "white",
            "gridwidth": 2,
            "linecolor": "white",
            "showbackground": true,
            "ticks": "",
            "zerolinecolor": "white"
           },
           "zaxis": {
            "backgroundcolor": "#E5ECF6",
            "gridcolor": "white",
            "gridwidth": 2,
            "linecolor": "white",
            "showbackground": true,
            "ticks": "",
            "zerolinecolor": "white"
           }
          },
          "shapedefaults": {
           "line": {
            "color": "#2a3f5f"
           }
          },
          "ternary": {
           "aaxis": {
            "gridcolor": "white",
            "linecolor": "white",
            "ticks": ""
           },
           "baxis": {
            "gridcolor": "white",
            "linecolor": "white",
            "ticks": ""
           },
           "bgcolor": "#E5ECF6",
           "caxis": {
            "gridcolor": "white",
            "linecolor": "white",
            "ticks": ""
           }
          },
          "title": {
           "x": 0.05
          },
          "xaxis": {
           "automargin": true,
           "gridcolor": "white",
           "linecolor": "white",
           "ticks": "",
           "title": {
            "standoff": 15
           },
           "zerolinecolor": "white",
           "zerolinewidth": 2
          },
          "yaxis": {
           "automargin": true,
           "gridcolor": "white",
           "linecolor": "white",
           "ticks": "",
           "title": {
            "standoff": 15
           },
           "zerolinecolor": "white",
           "zerolinewidth": 2
          }
         }
        },
        "title": {
         "text": "z = f(x, y)",
         "x": 0.5
        }
       }
      }
     },
     "metadata": {},
     "output_type": "display_data"
    }
   ],
   "source": [
    "df_pivot = df.pivot(index='y', columns='x', values='z')\n",
    "\n",
    "# Gerar a malha\n",
    "x_axis = df_pivot.columns.values\n",
    "y_axis = df_pivot.index.values\n",
    "z_grid = df_pivot.values\n",
    "\n",
    "fig = go.Figure()\n",
    "\n",
    "# Adicionar a Superfície\n",
    "fig.add_trace(go.Surface(\n",
    "    x=x_axis,\n",
    "    y=y_axis,\n",
    "    z=z_grid,\n",
    "    colorscale='Viridis',\n",
    "    opacity=0.9,\n",
    "    contours_z=dict(show=True, usecolormap=True, project_z=True, highlightcolor=\"white\"),\n",
    "    name='Superfície dos Dados'\n",
    "))\n",
    "\n",
    "# Adicionar os Pontos de Dados Originais\n",
    "fig.add_trace(go.Scatter3d(\n",
    "    x=df['x'],\n",
    "    y=df['y'],\n",
    "    z=df['z'],\n",
    "    mode='markers',\n",
    "    marker=dict(size=3, color='red', symbol='circle'),\n",
    "    name='Pontos de Dados Originais'\n",
    "))\n",
    "\n",
    "# Melhorar o Layout\n",
    "fig.update_layout(\n",
    "    title=dict(text='z = f(x, y)', x=0.5),\n",
    "    scene=dict(\n",
    "        xaxis_title='Eixo X',\n",
    "        yaxis_title='Eixo Y',\n",
    "        zaxis_title='Eixo Z (Valor)'\n",
    "    ),\n",
    "    margin=dict(l=0, r=0, b=0, t=50)\n",
    ")\n",
    "\n",
    "fig.show()"
   ]
  },
  {
   "cell_type": "code",
   "execution_count": 6,
   "id": "c90974b4",
   "metadata": {},
   "outputs": [
    {
     "data": {
      "text/plain": [
       "array([ 5.0081046 ,  5.73419945, 10.59963756])"
      ]
     },
     "execution_count": 6,
     "metadata": {},
     "output_type": "execute_result"
    }
   ],
   "source": [
    "X = np.column_stack([df['x'] ** 3, df['y'] ** 2, np.ones(len(df['x']))])\n",
    "\n",
    "true_weights = np.linalg.inv((X.T @ X) + (X.T @ X).T) @ (2 * X.T @ df['z'])\n",
    "true_weights"
   ]
  },
  {
   "cell_type": "markdown",
   "id": "a11523f5",
   "metadata": {},
   "source": [
    "## Calcular as funções de perda"
   ]
  },
  {
   "cell_type": "markdown",
   "id": "2e6d8f5f",
   "metadata": {},
   "source": [
    "### Configurações"
   ]
  },
  {
   "cell_type": "code",
   "execution_count": 7,
   "id": "5f2939c5",
   "metadata": {},
   "outputs": [],
   "source": [
    "def make_function(w):\n",
    "    def f(x, y):\n",
    "        if np.isscalar(x) and np.isscalar(y):\n",
    "            return w @ np.array([x, y, 1])\n",
    "        else:\n",
    "            return np.array([w @ np.array([xi, yi, 1]) for xi, yi in zip(x, y)])\n",
    "    return f\n",
    "\n",
    "features = df[['x', 'y']]\n",
    "y = df['z']\n",
    "\n",
    "# Criar os objetos para Normalização e Padronização\n",
    "min_max_scaler = MinMaxNormalizer(-1.5, 1.5)\n",
    "standard_scaler = StandardScaler()\n",
    "\n",
    "# Cria as cópias dos dados para normalização e padronização\n",
    "cubed_squared_features = features.copy()\n",
    "cubed_squared_features.loc[:, 'x'] = cubed_squared_features['x'] ** 3\n",
    "cubed_squared_features.loc[:, 'y'] = cubed_squared_features['y'] ** 2\n",
    "features_normalized = cubed_squared_features.copy()\n",
    "features_standardized = cubed_squared_features.copy()\n",
    "\n",
    "# Ajusta os normalizadores e padronizadores aos dados\n",
    "min_max_scaler.fit(features_normalized)\n",
    "standard_scaler.fit(features_standardized)\n",
    "\n",
    "# Normaliza e Padroniza os dados\n",
    "features_normalized = min_max_scaler.normalize(features_normalized)\n",
    "features_standardized = standard_scaler.normalize(features_standardized)\n",
    "\n",
    "# Listas para iteração\n",
    "features_list = [cubed_squared_features, features_normalized, features_standardized]\n",
    "features_names = ['Original', 'Normalized', 'Standardized']\n",
    "loss_fn_names = ['MSE']\n",
    "loss_fn_makers = [make_mse_loss_function]\n",
    "\n",
    "initial_weights = [\n",
    "    np.zeros(3),\n",
    "    np.random.rand(3) * 0.1,\n",
    "]\n",
    "n_iterations = 10000\n",
    "tolerance = 1e-6\n",
    "alpha = 1e-3"
   ]
  },
  {
   "cell_type": "markdown",
   "id": "f4a0a850",
   "metadata": {},
   "source": [
    "### Rodar os experimentos"
   ]
  },
  {
   "cell_type": "code",
   "execution_count": 8,
   "id": "ca4ad7e8",
   "metadata": {},
   "outputs": [],
   "source": [
    "def make_residuals_fn(X: np.ndarray, Y: np.ndarray, Z: np.ndarray):\n",
    "    def residuals_fn(w: np.ndarray) -> np.ndarray:\n",
    "        predictions = w[0]*X + w[1]*Y + w[2]\n",
    "        return Z - predictions\n",
    "    return residuals_fn\n",
    "\n",
    "def make_jacobian_fn(X: np.ndarray, Y: np.ndarray):\n",
    "    def jacobian_fn(w: np.ndarray) -> np.ndarray:\n",
    "            # Derivadas parciais em relação a cada peso\n",
    "            J_a = -X\n",
    "            J_b = -Y\n",
    "            J_c = -np.ones_like(X)\n",
    "            return np.vstack([J_a, J_b, J_c]).T\n",
    "    return jacobian_fn"
   ]
  },
  {
   "cell_type": "code",
   "execution_count": 9,
   "id": "6ec386dc",
   "metadata": {},
   "outputs": [
    {
     "data": {
      "text/html": [
       "<div>\n",
       "<style scoped>\n",
       "    .dataframe tbody tr th:only-of-type {\n",
       "        vertical-align: middle;\n",
       "    }\n",
       "\n",
       "    .dataframe tbody tr th {\n",
       "        vertical-align: top;\n",
       "    }\n",
       "\n",
       "    .dataframe thead th {\n",
       "        text-align: right;\n",
       "    }\n",
       "</style>\n",
       "<table border=\"1\" class=\"dataframe\">\n",
       "  <thead>\n",
       "    <tr style=\"text-align: right;\">\n",
       "      <th></th>\n",
       "      <th>Feature_Set</th>\n",
       "      <th>Loss_Function</th>\n",
       "      <th>Initial_Weights</th>\n",
       "      <th>Weights_raw</th>\n",
       "      <th>Final_Weights</th>\n",
       "      <th>MSE_Final</th>\n",
       "      <th>RMSE_Final</th>\n",
       "      <th>MAE_Final</th>\n",
       "      <th>Iterations</th>\n",
       "    </tr>\n",
       "  </thead>\n",
       "  <tbody>\n",
       "    <tr>\n",
       "      <th>0</th>\n",
       "      <td>Standardized</td>\n",
       "      <td>MSE</td>\n",
       "      <td>(0.0, 0.0, 0.0)</td>\n",
       "      <td>[288.11203268441704, 48.82467957045251, 36.990...</td>\n",
       "      <td>[5.008104595020174, 5.734199448068984, 10.5996...</td>\n",
       "      <td>372.0919316255</td>\n",
       "      <td>19.2896845911</td>\n",
       "      <td>15.2952363095</td>\n",
       "      <td>3</td>\n",
       "    </tr>\n",
       "    <tr>\n",
       "      <th>1</th>\n",
       "      <td>Original</td>\n",
       "      <td>MSE</td>\n",
       "      <td>(0.016612939351596613, 0.07334226991833549, 0....</td>\n",
       "      <td>[5.008104595025083, 5.734199448081883, 10.5996...</td>\n",
       "      <td>[5.008104595025083, 5.734199448081883, 10.5996...</td>\n",
       "      <td>372.0919316255</td>\n",
       "      <td>19.2896845911</td>\n",
       "      <td>15.2952363095</td>\n",
       "      <td>3</td>\n",
       "    </tr>\n",
       "    <tr>\n",
       "      <th>2</th>\n",
       "      <td>Standardized</td>\n",
       "      <td>MSE</td>\n",
       "      <td>(0.016612939351596613, 0.07334226991833549, 0....</td>\n",
       "      <td>[288.11203268441704, 48.82467957045258, 36.990...</td>\n",
       "      <td>[5.008104595020174, 5.734199448068993, 10.5996...</td>\n",
       "      <td>372.0919316255</td>\n",
       "      <td>19.2896845911</td>\n",
       "      <td>15.2952363095</td>\n",
       "      <td>3</td>\n",
       "    </tr>\n",
       "    <tr>\n",
       "      <th>3</th>\n",
       "      <td>Original</td>\n",
       "      <td>MSE</td>\n",
       "      <td>(0.0, 0.0, 0.0)</td>\n",
       "      <td>[5.008104595025083, 5.734199448081934, 10.5996...</td>\n",
       "      <td>[5.008104595025083, 5.734199448081934, 10.5996...</td>\n",
       "      <td>372.0919316255</td>\n",
       "      <td>19.2896845911</td>\n",
       "      <td>15.2952363095</td>\n",
       "      <td>3</td>\n",
       "    </tr>\n",
       "    <tr>\n",
       "      <th>4</th>\n",
       "      <td>Normalized</td>\n",
       "      <td>MSE</td>\n",
       "      <td>(0.0, 0.0, 0.0)</td>\n",
       "      <td>[371.16064774478366, 47.70853940799228, 13.119...</td>\n",
       "      <td>[5.008104595001939, 5.734199448075995, 638.903...</td>\n",
       "      <td>395137.7328103567</td>\n",
       "      <td>628.5998192892</td>\n",
       "      <td>628.3037807293</td>\n",
       "      <td>3</td>\n",
       "    </tr>\n",
       "    <tr>\n",
       "      <th>5</th>\n",
       "      <td>Normalized</td>\n",
       "      <td>MSE</td>\n",
       "      <td>(0.016612939351596613, 0.07334226991833549, 0....</td>\n",
       "      <td>[371.1606477447837, 47.708539407992454, 13.119...</td>\n",
       "      <td>[5.00810459500194, 5.734199448076016, 638.9034...</td>\n",
       "      <td>395137.7328103574</td>\n",
       "      <td>628.5998192892</td>\n",
       "      <td>628.3037807293</td>\n",
       "      <td>3</td>\n",
       "    </tr>\n",
       "  </tbody>\n",
       "</table>\n",
       "</div>"
      ],
      "text/plain": [
       "    Feature_Set Loss_Function  \\\n",
       "0  Standardized           MSE   \n",
       "1      Original           MSE   \n",
       "2  Standardized           MSE   \n",
       "3      Original           MSE   \n",
       "4    Normalized           MSE   \n",
       "5    Normalized           MSE   \n",
       "\n",
       "                                     Initial_Weights  \\\n",
       "0                                    (0.0, 0.0, 0.0)   \n",
       "1  (0.016612939351596613, 0.07334226991833549, 0....   \n",
       "2  (0.016612939351596613, 0.07334226991833549, 0....   \n",
       "3                                    (0.0, 0.0, 0.0)   \n",
       "4                                    (0.0, 0.0, 0.0)   \n",
       "5  (0.016612939351596613, 0.07334226991833549, 0....   \n",
       "\n",
       "                                         Weights_raw  \\\n",
       "0  [288.11203268441704, 48.82467957045251, 36.990...   \n",
       "1  [5.008104595025083, 5.734199448081883, 10.5996...   \n",
       "2  [288.11203268441704, 48.82467957045258, 36.990...   \n",
       "3  [5.008104595025083, 5.734199448081934, 10.5996...   \n",
       "4  [371.16064774478366, 47.70853940799228, 13.119...   \n",
       "5  [371.1606477447837, 47.708539407992454, 13.119...   \n",
       "\n",
       "                                       Final_Weights         MSE_Final  \\\n",
       "0  [5.008104595020174, 5.734199448068984, 10.5996...    372.0919316255   \n",
       "1  [5.008104595025083, 5.734199448081883, 10.5996...    372.0919316255   \n",
       "2  [5.008104595020174, 5.734199448068993, 10.5996...    372.0919316255   \n",
       "3  [5.008104595025083, 5.734199448081934, 10.5996...    372.0919316255   \n",
       "4  [5.008104595001939, 5.734199448075995, 638.903... 395137.7328103567   \n",
       "5  [5.00810459500194, 5.734199448076016, 638.9034... 395137.7328103574   \n",
       "\n",
       "      RMSE_Final      MAE_Final  Iterations  \n",
       "0  19.2896845911  15.2952363095           3  \n",
       "1  19.2896845911  15.2952363095           3  \n",
       "2  19.2896845911  15.2952363095           3  \n",
       "3  19.2896845911  15.2952363095           3  \n",
       "4 628.5998192892 628.3037807293           3  \n",
       "5 628.5998192892 628.3037807293           3  "
      ]
     },
     "execution_count": 9,
     "metadata": {},
     "output_type": "execute_result"
    }
   ],
   "source": [
    "dict_results = {}\n",
    "\n",
    "for feature_set, feature_name in zip(features_list, features_names):\n",
    "    x_data = feature_set['x'].values\n",
    "    y_data = feature_set['y'].values\n",
    "    z_data = y\n",
    "\n",
    "    x_data_orig = cubed_squared_features['x'].values\n",
    "    y_data_orig = cubed_squared_features['y'].values\n",
    "\n",
    "    for loss_fn_name, loss_fn_maker in zip(loss_fn_names, loss_fn_makers):\n",
    "        loss_function, grad_loss_function = None, None\n",
    "\n",
    "        loss_function, grad_loss_function = loss_fn_maker(x_data, y_data, z_data)\n",
    "\n",
    "        for initial_w in initial_weights:\n",
    "            try:\n",
    "\n",
    "                residuals_fn = make_residuals_fn(x_data, y_data, z_data)\n",
    "                jacobian_fn = make_jacobian_fn(x_data, y_data)\n",
    "\n",
    "                weights, losses, n_iters = levenberg_marquadt(\n",
    "                    initial_w, residuals_fn, loss_function, jacobian_fn,\n",
    "                    alpha=alpha, alpha_variability=10, max_iter=n_iterations,\n",
    "                    tolerance=tolerance, stopping_criteria=[1, 3]\n",
    "                )\n",
    "\n",
    "                weights_raw = weights[-1].copy()\n",
    "                if feature_name == 'Standardized':\n",
    "                    weights[-1] = standard_scaler.desnormalize_weights(weights[-1])\n",
    "                elif feature_name == 'Normalized':\n",
    "                    weights[-1] = min_max_scaler.desnormalize_weights(weights[-1])\n",
    "\n",
    "                # Verificar se há overflow\n",
    "                if np.any(np.isnan(weights[-1])) or np.any(np.isinf(weights[-1])):\n",
    "                    print(f\"Overflow detectado para Initial_W={initial_w}\")\n",
    "                    continue\n",
    "\n",
    "            except Exception as e:\n",
    "                print(f\"Erro para Initial_W={initial_w}: {e}\")\n",
    "                continue\n",
    "\n",
    "            function_aprox = make_function(weights[-1])\n",
    "\n",
    "            mse_final = np.mean((z_data - function_aprox(x_data_orig, y_data_orig)) ** 2)\n",
    "            rmse_final = np.sqrt(mse_final)\n",
    "            mae_final = np.mean(np.abs(z_data - function_aprox(x_data_orig, y_data_orig)))\n",
    "\n",
    "            key = (feature_name, loss_fn_name, tuple(initial_w))\n",
    "            dict_results[key] = {\n",
    "                'weights': weights,\n",
    "                'weights_raw': weights_raw,\n",
    "                'losses': losses,\n",
    "                'n_iters': n_iters,\n",
    "                'mse_final': mse_final,\n",
    "                'rmse_final': rmse_final,\n",
    "                'mae_final': mae_final\n",
    "            }\n",
    "\n",
    "df_result = pd.DataFrame([\n",
    "    {\n",
    "        'Feature_Set': key[0],\n",
    "        'Loss_Function': key[1],\n",
    "        'Initial_Weights': key[2],\n",
    "        'Weights_raw': value['weights_raw'],\n",
    "        'Final_Weights': value['weights'][-1],\n",
    "        'Final_Loss': value['losses'][-1],\n",
    "        'MSE_Final': value['mse_final'],\n",
    "        'RMSE_Final': value['rmse_final'],\n",
    "        'MAE_Final': value['mae_final'],\n",
    "        'Iterations': value['n_iters']\n",
    "    }\n",
    "    for key, value in dict_results.items()\n",
    "])\n",
    "\n",
    "df_result_to_save = df_result.copy()\n",
    "df_result_to_save['Initial_Weights'] = df_result_to_save['Initial_Weights'].apply(lambda x: np.array(x).tolist())\n",
    "df_result_to_save['Final_Weights'] = df_result_to_save['Final_Weights'].apply(lambda x: np.array(x).tolist())\n",
    "\n",
    "df_result_to_save['Initial_Weights'] = df_result_to_save['Initial_Weights'].apply(lambda x: str(x))\n",
    "df_result_to_save['Final_Weights'] = df_result_to_save['Final_Weights'].apply(lambda x: str(x))\n",
    "\n",
    "df_result_to_save.to_excel('../output/tarefa3_results.xlsx', index=False, float_format=\"%.6g\")\n",
    "\n",
    "df_result.sort_values(by='MSE_Final').groupby('Loss_Function').head(10).reset_index(drop=True).drop(columns=['Final_Loss'])"
   ]
  },
  {
   "cell_type": "code",
   "execution_count": 10,
   "id": "ebe13ba6",
   "metadata": {},
   "outputs": [
    {
     "data": {
      "text/plain": [
       "x   57.5291564339\n",
       "y    8.5146462052\n",
       "dtype: float64"
      ]
     },
     "execution_count": 10,
     "metadata": {},
     "output_type": "execute_result"
    }
   ],
   "source": [
    "standard_scaler.std"
   ]
  },
  {
   "cell_type": "markdown",
   "id": "4636062a",
   "metadata": {},
   "source": [
    "## Resultados"
   ]
  },
  {
   "cell_type": "markdown",
   "id": "c21da672",
   "metadata": {},
   "source": [
    "### MSE"
   ]
  },
  {
   "cell_type": "code",
   "execution_count": 11,
   "id": "be433092",
   "metadata": {},
   "outputs": [
    {
     "name": "stdout",
     "output_type": "stream",
     "text": [
      "Melhor resultado MSE:\n",
      "Feature Set: Standardized\n",
      "Initial Weights: (np.float64(0.0), np.float64(0.0), np.float64(0.0))\n",
      "Final Loss: 372.0919316255451\n",
      "Pesos: [ 5.0081046   5.73419945 10.59963756]\n"
     ]
    },
    {
     "data": {
      "application/vnd.plotly.v1+json": {
       "config": {
        "plotlyServerURL": "https://plot.ly"
       },
       "data": [
        {
         "colorscale": [
          [
           0,
           "#440154"
          ],
          [
           0.1111111111111111,
           "#482878"
          ],
          [
           0.2222222222222222,
           "#3e4989"
          ],
          [
           0.3333333333333333,
           "#31688e"
          ],
          [
           0.4444444444444444,
           "#26828e"
          ],
          [
           0.5555555555555556,
           "#1f9e89"
          ],
          [
           0.6666666666666666,
           "#35b779"
          ],
          [
           0.7777777777777778,
           "#6ece58"
          ],
          [
           0.8888888888888888,
           "#b5de2b"
          ],
          [
           1,
           "#fde725"
          ]
         ],
         "name": "Dados Originais",
         "opacity": 0.7,
         "type": "surface",
         "x": {
          "bdata": "AAAAAAAAFMBmZmZmZmYOwM3MzMzMzATAaGZmZmZm9r+gmZmZmZnJvwAAAAAAAPA/mZmZmZmZAUAyMzMzMzMLQGZmZmZmZhJA",
          "dtype": "f8"
         },
         "y": {
          "bdata": "AAAAAAAAFMBmZmZmZmYOwM3MzMzMzATAaGZmZmZm9r+gmZmZmZnJvwAAAAAAAPA/mZmZmZmZAUAyMzMzMzMLQGZmZmZmZhJA",
          "dtype": "f8"
         },
         "z": {
          "bdata": "9sghBmuvfMC0I0+f2t1hwK8LugEe2lJAqRchANEXY0CXyXr2YdNiQAXkA6qEaGRAYRUI67oQZkCrc0pJRUR3QPvexyqfJYNA56vLG+RCgMBgZFWNY0RmwEa0ZU71tjdASHovQizPUEC2yUt2ioZXQIE/ymEiEFJAofS3QC9TZUDm0Y69RzpxQBxk+a3Gm4JAh69vWFCIgsDr2fnzbGBtwMXwCs/1Y0XAAKbl/Ohw5z+MPGrMWAZUQIPM0KKqs01AdnFhUEEJY0BYWYDTU69vQGvDh4ASt4BAxGnZfDb2gsC8hbDvayFqwFXOkBgITEHATybcMR6bRkD4ZK9QxgMSQLZw2jvWoCRAbl3iWwiMV0AD6gnTpuNpQNwbLrpiU4BAAeQkEzeLhMAk6/XeOCtuwLj38j6P0FXA/Yd56iUkL8DWRXvas+Q5QPddrDvbtSpAiXUrThCVTEAi8fVSARFpQN9/ze8BZX9ANYX9+71QgsBaaZmAw0RzwKEVjb8aVVDAjlnf8IZjEUDsg/0U6SE2QBSM3YxpuTtAIlxfPf9zU0AmTk5q1SNpQMAYRqOGBIBA/M43o1W0gsACTn1vyk9swPoCevfMxUHAOsIQ26pKQkAcJJh7USlBQOqpfkVp8jlAN2AcB9zjUUAW4wxTc+FqQNasiNjrAH9AUTA5arzNgcDHxNnozt5rwPVOnU/RQxvAfddQOV36UEA6vegZHBdNQIdtQ2USplNAhP5SrQhFZUCdRKEKSBtwQJ8BCeQTDYFAihsM/ebRfsBpdWkKCdBhwBqUJlS9rFBAp8B+eU9JWkAiG2r8lmdgQIRpKZrCnmJAx2bRaHMgakCkRVdKg5R0QNmH6s2ZNYNA",
          "dtype": "f8",
          "shape": "9, 9"
         }
        },
        {
         "marker": {
          "color": "red",
          "size": 4,
          "symbol": "circle"
         },
         "mode": "markers",
         "name": "Pontos Originais",
         "type": "scatter3d",
         "x": {
          "bdata": "AAAAAAAAFMAAAAAAAAAUwAAAAAAAABTAAAAAAAAAFMAAAAAAAAAUwAAAAAAAABTAAAAAAAAAFMAAAAAAAAAUwAAAAAAAABTAZmZmZmZmDsBmZmZmZmYOwGZmZmZmZg7AZmZmZmZmDsBmZmZmZmYOwGZmZmZmZg7AZmZmZmZmDsBmZmZmZmYOwGZmZmZmZg7AzczMzMzMBMDNzMzMzMwEwM3MzMzMzATAzczMzMzMBMDNzMzMzMwEwM3MzMzMzATAzczMzMzMBMDNzMzMzMwEwM3MzMzMzATAaGZmZmZm9r9oZmZmZmb2v2hmZmZmZva/aGZmZmZm9r9oZmZmZmb2v2hmZmZmZva/aGZmZmZm9r9oZmZmZmb2v2hmZmZmZva/oJmZmZmZyb+gmZmZmZnJv6CZmZmZmcm/oJmZmZmZyb+gmZmZmZnJv6CZmZmZmcm/oJmZmZmZyb+gmZmZmZnJv6CZmZmZmcm/AAAAAAAA8D8AAAAAAADwPwAAAAAAAPA/AAAAAAAA8D8AAAAAAADwPwAAAAAAAPA/AAAAAAAA8D8AAAAAAADwPwAAAAAAAPA/mZmZmZmZAUCZmZmZmZkBQJmZmZmZmQFAmZmZmZmZAUCZmZmZmZkBQJmZmZmZmQFAmZmZmZmZAUCZmZmZmZkBQJmZmZmZmQFAMjMzMzMzC0AyMzMzMzMLQDIzMzMzMwtAMjMzMzMzC0AyMzMzMzMLQDIzMzMzMwtAMjMzMzMzC0AyMzMzMzMLQDIzMzMzMwtAZmZmZmZmEkBmZmZmZmYSQGZmZmZmZhJAZmZmZmZmEkBmZmZmZmYSQGZmZmZmZhJAZmZmZmZmEkBmZmZmZmYSQGZmZmZmZhJA",
          "dtype": "f8"
         },
         "y": {
          "bdata": "AAAAAAAAFMBmZmZmZmYOwM3MzMzMzATAaGZmZmZm9r+gmZmZmZnJvwAAAAAAAPA/mZmZmZmZAUAyMzMzMzMLQGZmZmZmZhJAAAAAAAAAFMBmZmZmZmYOwM3MzMzMzATAaGZmZmZm9r+gmZmZmZnJvwAAAAAAAPA/mZmZmZmZAUAyMzMzMzMLQGZmZmZmZhJAAAAAAAAAFMBmZmZmZmYOwM3MzMzMzATAaGZmZmZm9r+gmZmZmZnJvwAAAAAAAPA/mZmZmZmZAUAyMzMzMzMLQGZmZmZmZhJAAAAAAAAAFMBmZmZmZmYOwM3MzMzMzATAaGZmZmZm9r+gmZmZmZnJvwAAAAAAAPA/mZmZmZmZAUAyMzMzMzMLQGZmZmZmZhJAAAAAAAAAFMBmZmZmZmYOwM3MzMzMzATAaGZmZmZm9r+gmZmZmZnJvwAAAAAAAPA/mZmZmZmZAUAyMzMzMzMLQGZmZmZmZhJAAAAAAAAAFMBmZmZmZmYOwM3MzMzMzATAaGZmZmZm9r+gmZmZmZnJvwAAAAAAAPA/mZmZmZmZAUAyMzMzMzMLQGZmZmZmZhJAAAAAAAAAFMBmZmZmZmYOwM3MzMzMzATAaGZmZmZm9r+gmZmZmZnJvwAAAAAAAPA/mZmZmZmZAUAyMzMzMzMLQGZmZmZmZhJAAAAAAAAAFMBmZmZmZmYOwM3MzMzMzATAaGZmZmZm9r+gmZmZmZnJvwAAAAAAAPA/mZmZmZmZAUAyMzMzMzMLQGZmZmZmZhJAAAAAAAAAFMBmZmZmZmYOwM3MzMzMzATAaGZmZmZm9r+gmZmZmZnJvwAAAAAAAPA/mZmZmZmZAUAyMzMzMzMLQGZmZmZmZhJA",
          "dtype": "f8"
         },
         "z": {
          "bdata": "9sghBmuvfMDnq8sb5EKAwIevb1hQiILAxGnZfDb2gsAB5CQTN4uEwDWF/fu9UILA/M43o1W0gsBRMDlqvM2BwIobDP3m0X7AtCNPn9rdYcBgZFWNY0RmwOvZ+fNsYG3AvIWw72shasAk6/XeOCtuwFppmYDDRHPAAk59b8pPbMDHxNnozt5rwGl1aQoJ0GHArwu6AR7aUkBGtGVO9bY3QMXwCs/1Y0XAVc6QGAhMQcC49/I+j9BVwKEVjb8aVVDA+gJ698zFQcD1Tp1P0UMbwBqUJlS9rFBAqRchANEXY0BIei9CLM9QQACm5fzocOc/TybcMR6bRkD9h3nqJSQvwI5Z3/CGYxFAOsIQ26pKQkB911A5XfpQQKfAfnlPSVpAl8l69mHTYkC2yUt2ioZXQIw8asxYBlRA+GSvUMYDEkDWRXvas+Q5QOyD/RTpITZAHCSYe1EpQUA6vegZHBdNQCIbavyWZ2BABeQDqoRoZECBP8phIhBSQIPM0KKqs01AtnDaO9agJED3Xaw727UqQBSM3YxpuTtA6ql+RWnyOUCHbUNlEqZTQIRpKZrCnmJAYRUI67oQZkCh9LdAL1NlQHZxYVBBCWNAbl3iWwiMV0CJdStOEJVMQCJcXz3/c1NAN2AcB9zjUUCE/lKtCEVlQMdm0WhzIGpAq3NKSUVEd0Dm0Y69RzpxQFhZgNNTr29AA+oJ06bjaUAi8fVSARFpQCZOTmrVI2lAFuMMU3PhakCdRKEKSBtwQKRFV0qDlHRA+97HKp8lg0AcZPmtxpuCQGvDh4ASt4BA3BsuumJTgEDff83vAWV/QMAYRqOGBIBA1qyI2OsAf0CfAQnkEw2BQNmH6s2ZNYNA",
          "dtype": "f8"
         }
        },
        {
         "marker": {
          "color": "blue",
          "size": 5,
          "symbol": "circle"
         },
         "mode": "markers",
         "name": "Predições",
         "type": "scatter3d",
         "x": {
          "bdata": "AAAAAAAAFMAAAAAAAAAUwAAAAAAAABTAAAAAAAAAFMAAAAAAAAAUwAAAAAAAABTAAAAAAAAAFMAAAAAAAAAUwAAAAAAAABTAZmZmZmZmDsBmZmZmZmYOwGZmZmZmZg7AZmZmZmZmDsBmZmZmZmYOwGZmZmZmZg7AZmZmZmZmDsBmZmZmZmYOwGZmZmZmZg7AzczMzMzMBMDNzMzMzMwEwM3MzMzMzATAzczMzMzMBMDNzMzMzMwEwM3MzMzMzATAzczMzMzMBMDNzMzMzMwEwM3MzMzMzATAaGZmZmZm9r9oZmZmZmb2v2hmZmZmZva/aGZmZmZm9r9oZmZmZmb2v2hmZmZmZva/aGZmZmZm9r9oZmZmZmb2v2hmZmZmZva/oJmZmZmZyb+gmZmZmZnJv6CZmZmZmcm/oJmZmZmZyb+gmZmZmZnJv6CZmZmZmcm/oJmZmZmZyb+gmZmZmZnJv6CZmZmZmcm/AAAAAAAA8D8AAAAAAADwPwAAAAAAAPA/AAAAAAAA8D8AAAAAAADwPwAAAAAAAPA/AAAAAAAA8D8AAAAAAADwPwAAAAAAAPA/mZmZmZmZAUCZmZmZmZkBQJmZmZmZmQFAmZmZmZmZAUCZmZmZmZkBQJmZmZmZmQFAmZmZmZmZAUCZmZmZmZkBQJmZmZmZmQFAMjMzMzMzC0AyMzMzMzMLQDIzMzMzMwtAMjMzMzMzC0AyMzMzMzMLQDIzMzMzMwtAMjMzMzMzC0AyMzMzMzMLQDIzMzMzMwtAZmZmZmZmEkBmZmZmZmYSQGZmZmZmZhJAZmZmZmZmEkBmZmZmZmYSQGZmZmZmZhJAZmZmZmZmEkBmZmZmZmYSQGZmZmZmZhJA",
          "dtype": "f8"
         },
         "y": {
          "bdata": "AAAAAAAAFMBmZmZmZmYOwM3MzMzMzATAaGZmZmZm9r+gmZmZmZnJvwAAAAAAAPA/mZmZmZmZAUAyMzMzMzMLQGZmZmZmZhJAAAAAAAAAFMBmZmZmZmYOwM3MzMzMzATAaGZmZmZm9r+gmZmZmZnJvwAAAAAAAPA/mZmZmZmZAUAyMzMzMzMLQGZmZmZmZhJAAAAAAAAAFMBmZmZmZmYOwM3MzMzMzATAaGZmZmZm9r+gmZmZmZnJvwAAAAAAAPA/mZmZmZmZAUAyMzMzMzMLQGZmZmZmZhJAAAAAAAAAFMBmZmZmZmYOwM3MzMzMzATAaGZmZmZm9r+gmZmZmZnJvwAAAAAAAPA/mZmZmZmZAUAyMzMzMzMLQGZmZmZmZhJAAAAAAAAAFMBmZmZmZmYOwM3MzMzMzATAaGZmZmZm9r+gmZmZmZnJvwAAAAAAAPA/mZmZmZmZAUAyMzMzMzMLQGZmZmZmZhJAAAAAAAAAFMBmZmZmZmYOwM3MzMzMzATAaGZmZmZm9r+gmZmZmZnJvwAAAAAAAPA/mZmZmZmZAUAyMzMzMzMLQGZmZmZmZhJAAAAAAAAAFMBmZmZmZmYOwM3MzMzMzATAaGZmZmZm9r+gmZmZmZnJvwAAAAAAAPA/mZmZmZmZAUAyMzMzMzMLQGZmZmZmZhJAAAAAAAAAFMBmZmZmZmYOwM3MzMzMzATAaGZmZmZm9r+gmZmZmZnJvwAAAAAAAPA/mZmZmZmZAUAyMzMzMzMLQGZmZmZmZhJAAAAAAAAAFMBmZmZmZmYOwM3MzMzMzATAaGZmZmZm9r+gmZmZmZnJvwAAAAAAAPA/mZmZmZmZAUAyMzMzMzMLQGZmZmZmZhJA",
          "dtype": "f8"
         },
         "z": {
          "bdata": "Odfpae+AfcBXU9uM5KSAwJjkgrUzBYLAYZ/rLmXhgsCygxX5eDmDwImRABRvDYPA6cisf0ddgsDPKRo8AimBwHtokZI+4X7AtCmA5mc2XsDDs9lS56xmwMn4d/UjLmzA7eMa2+meb8CYOuGBnH9wwEhWt7eIJ3DADIofHnOObcCmDdUPXr1owF03j0TS22HAU9lky6h7UEAMuBnDIIQVQBjdFXJuVEPA1MRQBMOLUMBY559VYUxTwBdW+CwS7FHAICK0FKvVSMAqwihuW0UmwJgojVHY9EVAw8Ib28uGYUC0RwT3MOpTQE57j2Nvz0FA8zoPNF8xIECwZKdZTU4HwIjDSruXuwRAimzigWWcOEDcJxv6hpJPQH9AmRNbjF1AGtoTEUQ9Y0BidvRiIVdXQKrYbztQqUhAM1jISXHMNUBHnBcJ8JMlQCoTKqc0SzBAopPRmBMoQ0Ccwv3oMzZTQJa3xL+lfGBAVZ+yq87eY0DYADKYNppYQJbt6qV6L0tACoK+HsbYOkD27wOzmawvQAI9IHyJVzVAjqhMAz6uRUASTTseSXlUQNF8Y1owHmFAG/8PT/3oaUAyYHbvSVdiQFY2sJkarFlADmBqzo7KUkCKPRt98AlQQMzOwqU/alFA0hNhSHzrVkBPBnsy00ZgQJfcwP1eKGdACPOhz7DsdUCTI9Uf1yNyQCECDJ1xxm5A/RZpt6tVa0C7hcGOXPVpQFxOFSOEpWpA33BkdCJmbUCidlfBmxtxQMZh+qZhjHRAOZAZUGMLhEB/KDN49iaCQD2Xi0+nxoBA6LhFrOvUf0BH8PEXxCR/QJfUG+LXfH9A7bJhhZNugEAGUvTI2KKBQJjHxbs7W4NA",
          "dtype": "f8"
         }
        }
       ],
       "layout": {
        "legend": {
         "x": 0.02,
         "y": 0.98
        },
        "margin": {
         "b": 0,
         "l": 0,
         "r": 0,
         "t": 60
        },
        "scene": {
         "xaxis": {
          "title": {
           "text": "X"
          }
         },
         "yaxis": {
          "title": {
           "text": "Y"
          }
         },
         "zaxis": {
          "title": {
           "text": "Z"
          }
         }
        },
        "template": {
         "data": {
          "bar": [
           {
            "error_x": {
             "color": "#2a3f5f"
            },
            "error_y": {
             "color": "#2a3f5f"
            },
            "marker": {
             "line": {
              "color": "#E5ECF6",
              "width": 0.5
             },
             "pattern": {
              "fillmode": "overlay",
              "size": 10,
              "solidity": 0.2
             }
            },
            "type": "bar"
           }
          ],
          "barpolar": [
           {
            "marker": {
             "line": {
              "color": "#E5ECF6",
              "width": 0.5
             },
             "pattern": {
              "fillmode": "overlay",
              "size": 10,
              "solidity": 0.2
             }
            },
            "type": "barpolar"
           }
          ],
          "carpet": [
           {
            "aaxis": {
             "endlinecolor": "#2a3f5f",
             "gridcolor": "white",
             "linecolor": "white",
             "minorgridcolor": "white",
             "startlinecolor": "#2a3f5f"
            },
            "baxis": {
             "endlinecolor": "#2a3f5f",
             "gridcolor": "white",
             "linecolor": "white",
             "minorgridcolor": "white",
             "startlinecolor": "#2a3f5f"
            },
            "type": "carpet"
           }
          ],
          "choropleth": [
           {
            "colorbar": {
             "outlinewidth": 0,
             "ticks": ""
            },
            "type": "choropleth"
           }
          ],
          "contour": [
           {
            "colorbar": {
             "outlinewidth": 0,
             "ticks": ""
            },
            "colorscale": [
             [
              0,
              "#0d0887"
             ],
             [
              0.1111111111111111,
              "#46039f"
             ],
             [
              0.2222222222222222,
              "#7201a8"
             ],
             [
              0.3333333333333333,
              "#9c179e"
             ],
             [
              0.4444444444444444,
              "#bd3786"
             ],
             [
              0.5555555555555556,
              "#d8576b"
             ],
             [
              0.6666666666666666,
              "#ed7953"
             ],
             [
              0.7777777777777778,
              "#fb9f3a"
             ],
             [
              0.8888888888888888,
              "#fdca26"
             ],
             [
              1,
              "#f0f921"
             ]
            ],
            "type": "contour"
           }
          ],
          "contourcarpet": [
           {
            "colorbar": {
             "outlinewidth": 0,
             "ticks": ""
            },
            "type": "contourcarpet"
           }
          ],
          "heatmap": [
           {
            "colorbar": {
             "outlinewidth": 0,
             "ticks": ""
            },
            "colorscale": [
             [
              0,
              "#0d0887"
             ],
             [
              0.1111111111111111,
              "#46039f"
             ],
             [
              0.2222222222222222,
              "#7201a8"
             ],
             [
              0.3333333333333333,
              "#9c179e"
             ],
             [
              0.4444444444444444,
              "#bd3786"
             ],
             [
              0.5555555555555556,
              "#d8576b"
             ],
             [
              0.6666666666666666,
              "#ed7953"
             ],
             [
              0.7777777777777778,
              "#fb9f3a"
             ],
             [
              0.8888888888888888,
              "#fdca26"
             ],
             [
              1,
              "#f0f921"
             ]
            ],
            "type": "heatmap"
           }
          ],
          "histogram": [
           {
            "marker": {
             "pattern": {
              "fillmode": "overlay",
              "size": 10,
              "solidity": 0.2
             }
            },
            "type": "histogram"
           }
          ],
          "histogram2d": [
           {
            "colorbar": {
             "outlinewidth": 0,
             "ticks": ""
            },
            "colorscale": [
             [
              0,
              "#0d0887"
             ],
             [
              0.1111111111111111,
              "#46039f"
             ],
             [
              0.2222222222222222,
              "#7201a8"
             ],
             [
              0.3333333333333333,
              "#9c179e"
             ],
             [
              0.4444444444444444,
              "#bd3786"
             ],
             [
              0.5555555555555556,
              "#d8576b"
             ],
             [
              0.6666666666666666,
              "#ed7953"
             ],
             [
              0.7777777777777778,
              "#fb9f3a"
             ],
             [
              0.8888888888888888,
              "#fdca26"
             ],
             [
              1,
              "#f0f921"
             ]
            ],
            "type": "histogram2d"
           }
          ],
          "histogram2dcontour": [
           {
            "colorbar": {
             "outlinewidth": 0,
             "ticks": ""
            },
            "colorscale": [
             [
              0,
              "#0d0887"
             ],
             [
              0.1111111111111111,
              "#46039f"
             ],
             [
              0.2222222222222222,
              "#7201a8"
             ],
             [
              0.3333333333333333,
              "#9c179e"
             ],
             [
              0.4444444444444444,
              "#bd3786"
             ],
             [
              0.5555555555555556,
              "#d8576b"
             ],
             [
              0.6666666666666666,
              "#ed7953"
             ],
             [
              0.7777777777777778,
              "#fb9f3a"
             ],
             [
              0.8888888888888888,
              "#fdca26"
             ],
             [
              1,
              "#f0f921"
             ]
            ],
            "type": "histogram2dcontour"
           }
          ],
          "mesh3d": [
           {
            "colorbar": {
             "outlinewidth": 0,
             "ticks": ""
            },
            "type": "mesh3d"
           }
          ],
          "parcoords": [
           {
            "line": {
             "colorbar": {
              "outlinewidth": 0,
              "ticks": ""
             }
            },
            "type": "parcoords"
           }
          ],
          "pie": [
           {
            "automargin": true,
            "type": "pie"
           }
          ],
          "scatter": [
           {
            "fillpattern": {
             "fillmode": "overlay",
             "size": 10,
             "solidity": 0.2
            },
            "type": "scatter"
           }
          ],
          "scatter3d": [
           {
            "line": {
             "colorbar": {
              "outlinewidth": 0,
              "ticks": ""
             }
            },
            "marker": {
             "colorbar": {
              "outlinewidth": 0,
              "ticks": ""
             }
            },
            "type": "scatter3d"
           }
          ],
          "scattercarpet": [
           {
            "marker": {
             "colorbar": {
              "outlinewidth": 0,
              "ticks": ""
             }
            },
            "type": "scattercarpet"
           }
          ],
          "scattergeo": [
           {
            "marker": {
             "colorbar": {
              "outlinewidth": 0,
              "ticks": ""
             }
            },
            "type": "scattergeo"
           }
          ],
          "scattergl": [
           {
            "marker": {
             "colorbar": {
              "outlinewidth": 0,
              "ticks": ""
             }
            },
            "type": "scattergl"
           }
          ],
          "scattermap": [
           {
            "marker": {
             "colorbar": {
              "outlinewidth": 0,
              "ticks": ""
             }
            },
            "type": "scattermap"
           }
          ],
          "scattermapbox": [
           {
            "marker": {
             "colorbar": {
              "outlinewidth": 0,
              "ticks": ""
             }
            },
            "type": "scattermapbox"
           }
          ],
          "scatterpolar": [
           {
            "marker": {
             "colorbar": {
              "outlinewidth": 0,
              "ticks": ""
             }
            },
            "type": "scatterpolar"
           }
          ],
          "scatterpolargl": [
           {
            "marker": {
             "colorbar": {
              "outlinewidth": 0,
              "ticks": ""
             }
            },
            "type": "scatterpolargl"
           }
          ],
          "scatterternary": [
           {
            "marker": {
             "colorbar": {
              "outlinewidth": 0,
              "ticks": ""
             }
            },
            "type": "scatterternary"
           }
          ],
          "surface": [
           {
            "colorbar": {
             "outlinewidth": 0,
             "ticks": ""
            },
            "colorscale": [
             [
              0,
              "#0d0887"
             ],
             [
              0.1111111111111111,
              "#46039f"
             ],
             [
              0.2222222222222222,
              "#7201a8"
             ],
             [
              0.3333333333333333,
              "#9c179e"
             ],
             [
              0.4444444444444444,
              "#bd3786"
             ],
             [
              0.5555555555555556,
              "#d8576b"
             ],
             [
              0.6666666666666666,
              "#ed7953"
             ],
             [
              0.7777777777777778,
              "#fb9f3a"
             ],
             [
              0.8888888888888888,
              "#fdca26"
             ],
             [
              1,
              "#f0f921"
             ]
            ],
            "type": "surface"
           }
          ],
          "table": [
           {
            "cells": {
             "fill": {
              "color": "#EBF0F8"
             },
             "line": {
              "color": "white"
             }
            },
            "header": {
             "fill": {
              "color": "#C8D4E3"
             },
             "line": {
              "color": "white"
             }
            },
            "type": "table"
           }
          ]
         },
         "layout": {
          "annotationdefaults": {
           "arrowcolor": "#2a3f5f",
           "arrowhead": 0,
           "arrowwidth": 1
          },
          "autotypenumbers": "strict",
          "coloraxis": {
           "colorbar": {
            "outlinewidth": 0,
            "ticks": ""
           }
          },
          "colorscale": {
           "diverging": [
            [
             0,
             "#8e0152"
            ],
            [
             0.1,
             "#c51b7d"
            ],
            [
             0.2,
             "#de77ae"
            ],
            [
             0.3,
             "#f1b6da"
            ],
            [
             0.4,
             "#fde0ef"
            ],
            [
             0.5,
             "#f7f7f7"
            ],
            [
             0.6,
             "#e6f5d0"
            ],
            [
             0.7,
             "#b8e186"
            ],
            [
             0.8,
             "#7fbc41"
            ],
            [
             0.9,
             "#4d9221"
            ],
            [
             1,
             "#276419"
            ]
           ],
           "sequential": [
            [
             0,
             "#0d0887"
            ],
            [
             0.1111111111111111,
             "#46039f"
            ],
            [
             0.2222222222222222,
             "#7201a8"
            ],
            [
             0.3333333333333333,
             "#9c179e"
            ],
            [
             0.4444444444444444,
             "#bd3786"
            ],
            [
             0.5555555555555556,
             "#d8576b"
            ],
            [
             0.6666666666666666,
             "#ed7953"
            ],
            [
             0.7777777777777778,
             "#fb9f3a"
            ],
            [
             0.8888888888888888,
             "#fdca26"
            ],
            [
             1,
             "#f0f921"
            ]
           ],
           "sequentialminus": [
            [
             0,
             "#0d0887"
            ],
            [
             0.1111111111111111,
             "#46039f"
            ],
            [
             0.2222222222222222,
             "#7201a8"
            ],
            [
             0.3333333333333333,
             "#9c179e"
            ],
            [
             0.4444444444444444,
             "#bd3786"
            ],
            [
             0.5555555555555556,
             "#d8576b"
            ],
            [
             0.6666666666666666,
             "#ed7953"
            ],
            [
             0.7777777777777778,
             "#fb9f3a"
            ],
            [
             0.8888888888888888,
             "#fdca26"
            ],
            [
             1,
             "#f0f921"
            ]
           ]
          },
          "colorway": [
           "#636efa",
           "#EF553B",
           "#00cc96",
           "#ab63fa",
           "#FFA15A",
           "#19d3f3",
           "#FF6692",
           "#B6E880",
           "#FF97FF",
           "#FECB52"
          ],
          "font": {
           "color": "#2a3f5f"
          },
          "geo": {
           "bgcolor": "white",
           "lakecolor": "white",
           "landcolor": "#E5ECF6",
           "showlakes": true,
           "showland": true,
           "subunitcolor": "white"
          },
          "hoverlabel": {
           "align": "left"
          },
          "hovermode": "closest",
          "mapbox": {
           "style": "light"
          },
          "paper_bgcolor": "white",
          "plot_bgcolor": "#E5ECF6",
          "polar": {
           "angularaxis": {
            "gridcolor": "white",
            "linecolor": "white",
            "ticks": ""
           },
           "bgcolor": "#E5ECF6",
           "radialaxis": {
            "gridcolor": "white",
            "linecolor": "white",
            "ticks": ""
           }
          },
          "scene": {
           "xaxis": {
            "backgroundcolor": "#E5ECF6",
            "gridcolor": "white",
            "gridwidth": 2,
            "linecolor": "white",
            "showbackground": true,
            "ticks": "",
            "zerolinecolor": "white"
           },
           "yaxis": {
            "backgroundcolor": "#E5ECF6",
            "gridcolor": "white",
            "gridwidth": 2,
            "linecolor": "white",
            "showbackground": true,
            "ticks": "",
            "zerolinecolor": "white"
           },
           "zaxis": {
            "backgroundcolor": "#E5ECF6",
            "gridcolor": "white",
            "gridwidth": 2,
            "linecolor": "white",
            "showbackground": true,
            "ticks": "",
            "zerolinecolor": "white"
           }
          },
          "shapedefaults": {
           "line": {
            "color": "#2a3f5f"
           }
          },
          "ternary": {
           "aaxis": {
            "gridcolor": "white",
            "linecolor": "white",
            "ticks": ""
           },
           "baxis": {
            "gridcolor": "white",
            "linecolor": "white",
            "ticks": ""
           },
           "bgcolor": "#E5ECF6",
           "caxis": {
            "gridcolor": "white",
            "linecolor": "white",
            "ticks": ""
           }
          },
          "title": {
           "x": 0.05
          },
          "xaxis": {
           "automargin": true,
           "gridcolor": "white",
           "linecolor": "white",
           "ticks": "",
           "title": {
            "standoff": 15
           },
           "zerolinecolor": "white",
           "zerolinewidth": 2
          },
          "yaxis": {
           "automargin": true,
           "gridcolor": "white",
           "linecolor": "white",
           "ticks": "",
           "title": {
            "standoff": 15
           },
           "zerolinecolor": "white",
           "zerolinewidth": 2
          }
         }
        },
        "title": {
         "text": "Ajuste de Curva - MSE | Feature: Standardized | Loss: 372.091932"
        }
       }
      }
     },
     "metadata": {},
     "output_type": "display_data"
    }
   ],
   "source": [
    "_ = plot_best_by_loss(df_result, \"MSE\", df, features_normalized, features_standardized, show_original_points=True)"
   ]
  }
 ],
 "metadata": {
  "kernelspec": {
   "display_name": "rna-tarefas-mestrado (3.13.2)",
   "language": "python",
   "name": "python3"
  },
  "language_info": {
   "codemirror_mode": {
    "name": "ipython",
    "version": 3
   },
   "file_extension": ".py",
   "mimetype": "text/x-python",
   "name": "python",
   "nbconvert_exporter": "python",
   "pygments_lexer": "ipython3",
   "version": "3.13.2"
  }
 },
 "nbformat": 4,
 "nbformat_minor": 5
}
