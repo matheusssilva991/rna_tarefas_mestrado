{
 "cells": [
  {
   "cell_type": "code",
   "execution_count": 1,
   "id": "749e9c66",
   "metadata": {},
   "outputs": [],
   "source": [
    "import numpy as np\n",
    "import sys\n",
    "import os\n",
    "import pandas as pd\n",
    "import plotly.graph_objects as go\n",
    "\n",
    "sys.path.append(os.path.abspath(\"../libs\"))\n",
    "sys.path.append(os.path.abspath(\"../utils\"))\n",
    "\n",
    "from levenberg_marquadt import levenberg_marquadt\n",
    "from normalize import MinMaxNormalizer, StandardScaler\n",
    "from loss_fn_tarefa2 import make_mse_loss_function\n",
    "from plots.plots_tarefa2 import plot_best_by_loss\n",
    "\n",
    "pd.set_option('display.float_format', '{:.10f}'.format)"
   ]
  },
  {
   "cell_type": "markdown",
   "id": "f77a74e5",
   "metadata": {},
   "source": [
    "# Ajuste de curva por otimização"
   ]
  },
  {
   "cell_type": "markdown",
   "id": "76c8d133",
   "metadata": {},
   "source": [
    "## Carregar os dados"
   ]
  },
  {
   "cell_type": "code",
   "execution_count": 2,
   "id": "037534c3",
   "metadata": {},
   "outputs": [
    {
     "data": {
      "text/html": [
       "<div>\n",
       "<style scoped>\n",
       "    .dataframe tbody tr th:only-of-type {\n",
       "        vertical-align: middle;\n",
       "    }\n",
       "\n",
       "    .dataframe tbody tr th {\n",
       "        vertical-align: top;\n",
       "    }\n",
       "\n",
       "    .dataframe thead th {\n",
       "        text-align: right;\n",
       "    }\n",
       "</style>\n",
       "<table border=\"1\" class=\"dataframe\">\n",
       "  <thead>\n",
       "    <tr style=\"text-align: right;\">\n",
       "      <th></th>\n",
       "      <th>x</th>\n",
       "      <th>y</th>\n",
       "      <th>z</th>\n",
       "    </tr>\n",
       "  </thead>\n",
       "  <tbody>\n",
       "    <tr>\n",
       "      <th>0</th>\n",
       "      <td>-5.0000000000</td>\n",
       "      <td>-5.0000000000</td>\n",
       "      <td>-458.9636288948</td>\n",
       "    </tr>\n",
       "    <tr>\n",
       "      <th>1</th>\n",
       "      <td>-5.0000000000</td>\n",
       "      <td>-3.8000000000</td>\n",
       "      <td>-520.3613811409</td>\n",
       "    </tr>\n",
       "    <tr>\n",
       "      <th>2</th>\n",
       "      <td>-5.0000000000</td>\n",
       "      <td>-2.6000000000</td>\n",
       "      <td>-593.0392311788</td>\n",
       "    </tr>\n",
       "    <tr>\n",
       "      <th>3</th>\n",
       "      <td>-5.0000000000</td>\n",
       "      <td>-1.4000000000</td>\n",
       "      <td>-606.7766053186</td>\n",
       "    </tr>\n",
       "    <tr>\n",
       "      <th>4</th>\n",
       "      <td>-5.0000000000</td>\n",
       "      <td>-0.2000000000</td>\n",
       "      <td>-657.4018919832</td>\n",
       "    </tr>\n",
       "  </tbody>\n",
       "</table>\n",
       "</div>"
      ],
      "text/plain": [
       "              x             y               z\n",
       "0 -5.0000000000 -5.0000000000 -458.9636288948\n",
       "1 -5.0000000000 -3.8000000000 -520.3613811409\n",
       "2 -5.0000000000 -2.6000000000 -593.0392311788\n",
       "3 -5.0000000000 -1.4000000000 -606.7766053186\n",
       "4 -5.0000000000 -0.2000000000 -657.4018919832"
      ]
     },
     "execution_count": 2,
     "metadata": {},
     "output_type": "execute_result"
    }
   ],
   "source": [
    "# Carregamento dos dados\n",
    "df = pd.read_excel('../data/Trabalho2dados.xlsx')\n",
    "\n",
    "df.head()"
   ]
  },
  {
   "cell_type": "markdown",
   "id": "1983fdde",
   "metadata": {},
   "source": [
    "## EDA dados"
   ]
  },
  {
   "cell_type": "code",
   "execution_count": 3,
   "id": "d9f7363f",
   "metadata": {},
   "outputs": [
    {
     "data": {
      "text/html": [
       "<div>\n",
       "<style scoped>\n",
       "    .dataframe tbody tr th:only-of-type {\n",
       "        vertical-align: middle;\n",
       "    }\n",
       "\n",
       "    .dataframe tbody tr th {\n",
       "        vertical-align: top;\n",
       "    }\n",
       "\n",
       "    .dataframe thead th {\n",
       "        text-align: right;\n",
       "    }\n",
       "</style>\n",
       "<table border=\"1\" class=\"dataframe\">\n",
       "  <thead>\n",
       "    <tr style=\"text-align: right;\">\n",
       "      <th></th>\n",
       "      <th>x</th>\n",
       "      <th>y</th>\n",
       "      <th>z</th>\n",
       "    </tr>\n",
       "  </thead>\n",
       "  <tbody>\n",
       "    <tr>\n",
       "      <th>count</th>\n",
       "      <td>81.0000000000</td>\n",
       "      <td>81.0000000000</td>\n",
       "      <td>81.0000000000</td>\n",
       "    </tr>\n",
       "    <tr>\n",
       "      <th>mean</th>\n",
       "      <td>-0.2000000000</td>\n",
       "      <td>-0.2000000000</td>\n",
       "      <td>36.9905729348</td>\n",
       "    </tr>\n",
       "    <tr>\n",
       "      <th>std</th>\n",
       "      <td>3.1176914536</td>\n",
       "      <td>3.1176914536</td>\n",
       "      <td>294.6804043410</td>\n",
       "    </tr>\n",
       "    <tr>\n",
       "      <th>min</th>\n",
       "      <td>-5.0000000000</td>\n",
       "      <td>-5.0000000000</td>\n",
       "      <td>-657.4018919832</td>\n",
       "    </tr>\n",
       "    <tr>\n",
       "      <th>25%</th>\n",
       "      <td>-2.6000000000</td>\n",
       "      <td>-2.6000000000</td>\n",
       "      <td>-42.7809389881</td>\n",
       "    </tr>\n",
       "    <tr>\n",
       "      <th>50%</th>\n",
       "      <td>-0.2000000000</td>\n",
       "      <td>-0.2000000000</td>\n",
       "      <td>59.4036448974</td>\n",
       "    </tr>\n",
       "    <tr>\n",
       "      <th>75%</th>\n",
       "      <td>2.2000000000</td>\n",
       "      <td>2.2000000000</td>\n",
       "      <td>170.5995181649</td>\n",
       "    </tr>\n",
       "    <tr>\n",
       "      <th>max</th>\n",
       "      <td>4.6000000000</td>\n",
       "      <td>4.6000000000</td>\n",
       "      <td>614.7000997851</td>\n",
       "    </tr>\n",
       "  </tbody>\n",
       "</table>\n",
       "</div>"
      ],
      "text/plain": [
       "                  x             y               z\n",
       "count 81.0000000000 81.0000000000   81.0000000000\n",
       "mean  -0.2000000000 -0.2000000000   36.9905729348\n",
       "std    3.1176914536  3.1176914536  294.6804043410\n",
       "min   -5.0000000000 -5.0000000000 -657.4018919832\n",
       "25%   -2.6000000000 -2.6000000000  -42.7809389881\n",
       "50%   -0.2000000000 -0.2000000000   59.4036448974\n",
       "75%    2.2000000000  2.2000000000  170.5995181649\n",
       "max    4.6000000000  4.6000000000  614.7000997851"
      ]
     },
     "execution_count": 3,
     "metadata": {},
     "output_type": "execute_result"
    }
   ],
   "source": [
    "df.describe()"
   ]
  },
  {
   "cell_type": "code",
   "execution_count": 4,
   "id": "ef14e37c",
   "metadata": {},
   "outputs": [
    {
     "data": {
      "text/plain": [
       "x    0\n",
       "y    0\n",
       "z    0\n",
       "dtype: int64"
      ]
     },
     "execution_count": 4,
     "metadata": {},
     "output_type": "execute_result"
    }
   ],
   "source": [
    "df.isna().sum()"
   ]
  },
  {
   "cell_type": "code",
   "execution_count": 5,
   "id": "32edf9b1",
   "metadata": {},
   "outputs": [
    {
     "data": {
      "application/vnd.plotly.v1+json": {
       "config": {
        "plotlyServerURL": "https://plot.ly"
       },
       "data": [
        {
         "colorscale": [
          [
           0,
           "#440154"
          ],
          [
           0.1111111111111111,
           "#482878"
          ],
          [
           0.2222222222222222,
           "#3e4989"
          ],
          [
           0.3333333333333333,
           "#31688e"
          ],
          [
           0.4444444444444444,
           "#26828e"
          ],
          [
           0.5555555555555556,
           "#1f9e89"
          ],
          [
           0.6666666666666666,
           "#35b779"
          ],
          [
           0.7777777777777778,
           "#6ece58"
          ],
          [
           0.8888888888888888,
           "#b5de2b"
          ],
          [
           1,
           "#fde725"
          ]
         ],
         "contours": {
          "z": {
           "highlightcolor": "white",
           "project": {
            "z": true
           },
           "show": true,
           "usecolormap": true
          }
         },
         "name": "Superfície dos Dados",
         "opacity": 0.9,
         "type": "surface",
         "x": {
          "bdata": "AAAAAAAAFMBmZmZmZmYOwM3MzMzMzATAaGZmZmZm9r+gmZmZmZnJvwAAAAAAAPA/mZmZmZmZAUAyMzMzMzMLQGZmZmZmZhJA",
          "dtype": "f8"
         },
         "y": {
          "bdata": "AAAAAAAAFMBmZmZmZmYOwM3MzMzMzATAaGZmZmZm9r+gmZmZmZnJvwAAAAAAAPA/mZmZmZmZAUAyMzMzMzMLQGZmZmZmZhJA",
          "dtype": "f8"
         },
         "z": {
          "bdata": "9sghBmuvfMC0I0+f2t1hwK8LugEe2lJAqRchANEXY0CXyXr2YdNiQAXkA6qEaGRAYRUI67oQZkCrc0pJRUR3QPvexyqfJYNA56vLG+RCgMBgZFWNY0RmwEa0ZU71tjdASHovQizPUEC2yUt2ioZXQIE/ymEiEFJAofS3QC9TZUDm0Y69RzpxQBxk+a3Gm4JAh69vWFCIgsDr2fnzbGBtwMXwCs/1Y0XAAKbl/Ohw5z+MPGrMWAZUQIPM0KKqs01AdnFhUEEJY0BYWYDTU69vQGvDh4ASt4BAxGnZfDb2gsC8hbDvayFqwFXOkBgITEHATybcMR6bRkD4ZK9QxgMSQLZw2jvWoCRAbl3iWwiMV0AD6gnTpuNpQNwbLrpiU4BAAeQkEzeLhMAk6/XeOCtuwLj38j6P0FXA/Yd56iUkL8DWRXvas+Q5QPddrDvbtSpAiXUrThCVTEAi8fVSARFpQN9/ze8BZX9ANYX9+71QgsBaaZmAw0RzwKEVjb8aVVDAjlnf8IZjEUDsg/0U6SE2QBSM3YxpuTtAIlxfPf9zU0AmTk5q1SNpQMAYRqOGBIBA/M43o1W0gsACTn1vyk9swPoCevfMxUHAOsIQ26pKQkAcJJh7USlBQOqpfkVp8jlAN2AcB9zjUUAW4wxTc+FqQNasiNjrAH9AUTA5arzNgcDHxNnozt5rwPVOnU/RQxvAfddQOV36UEA6vegZHBdNQIdtQ2USplNAhP5SrQhFZUCdRKEKSBtwQJ8BCeQTDYFAihsM/ebRfsBpdWkKCdBhwBqUJlS9rFBAp8B+eU9JWkAiG2r8lmdgQIRpKZrCnmJAx2bRaHMgakCkRVdKg5R0QNmH6s2ZNYNA",
          "dtype": "f8",
          "shape": "9, 9"
         }
        },
        {
         "marker": {
          "color": "red",
          "size": 3,
          "symbol": "circle"
         },
         "mode": "markers",
         "name": "Pontos de Dados Originais",
         "type": "scatter3d",
         "x": {
          "bdata": "AAAAAAAAFMAAAAAAAAAUwAAAAAAAABTAAAAAAAAAFMAAAAAAAAAUwAAAAAAAABTAAAAAAAAAFMAAAAAAAAAUwAAAAAAAABTAZmZmZmZmDsBmZmZmZmYOwGZmZmZmZg7AZmZmZmZmDsBmZmZmZmYOwGZmZmZmZg7AZmZmZmZmDsBmZmZmZmYOwGZmZmZmZg7AzczMzMzMBMDNzMzMzMwEwM3MzMzMzATAzczMzMzMBMDNzMzMzMwEwM3MzMzMzATAzczMzMzMBMDNzMzMzMwEwM3MzMzMzATAaGZmZmZm9r9oZmZmZmb2v2hmZmZmZva/aGZmZmZm9r9oZmZmZmb2v2hmZmZmZva/aGZmZmZm9r9oZmZmZmb2v2hmZmZmZva/oJmZmZmZyb+gmZmZmZnJv6CZmZmZmcm/oJmZmZmZyb+gmZmZmZnJv6CZmZmZmcm/oJmZmZmZyb+gmZmZmZnJv6CZmZmZmcm/AAAAAAAA8D8AAAAAAADwPwAAAAAAAPA/AAAAAAAA8D8AAAAAAADwPwAAAAAAAPA/AAAAAAAA8D8AAAAAAADwPwAAAAAAAPA/mZmZmZmZAUCZmZmZmZkBQJmZmZmZmQFAmZmZmZmZAUCZmZmZmZkBQJmZmZmZmQFAmZmZmZmZAUCZmZmZmZkBQJmZmZmZmQFAMjMzMzMzC0AyMzMzMzMLQDIzMzMzMwtAMjMzMzMzC0AyMzMzMzMLQDIzMzMzMwtAMjMzMzMzC0AyMzMzMzMLQDIzMzMzMwtAZmZmZmZmEkBmZmZmZmYSQGZmZmZmZhJAZmZmZmZmEkBmZmZmZmYSQGZmZmZmZhJAZmZmZmZmEkBmZmZmZmYSQGZmZmZmZhJA",
          "dtype": "f8"
         },
         "y": {
          "bdata": "AAAAAAAAFMBmZmZmZmYOwM3MzMzMzATAaGZmZmZm9r+gmZmZmZnJvwAAAAAAAPA/mZmZmZmZAUAyMzMzMzMLQGZmZmZmZhJAAAAAAAAAFMBmZmZmZmYOwM3MzMzMzATAaGZmZmZm9r+gmZmZmZnJvwAAAAAAAPA/mZmZmZmZAUAyMzMzMzMLQGZmZmZmZhJAAAAAAAAAFMBmZmZmZmYOwM3MzMzMzATAaGZmZmZm9r+gmZmZmZnJvwAAAAAAAPA/mZmZmZmZAUAyMzMzMzMLQGZmZmZmZhJAAAAAAAAAFMBmZmZmZmYOwM3MzMzMzATAaGZmZmZm9r+gmZmZmZnJvwAAAAAAAPA/mZmZmZmZAUAyMzMzMzMLQGZmZmZmZhJAAAAAAAAAFMBmZmZmZmYOwM3MzMzMzATAaGZmZmZm9r+gmZmZmZnJvwAAAAAAAPA/mZmZmZmZAUAyMzMzMzMLQGZmZmZmZhJAAAAAAAAAFMBmZmZmZmYOwM3MzMzMzATAaGZmZmZm9r+gmZmZmZnJvwAAAAAAAPA/mZmZmZmZAUAyMzMzMzMLQGZmZmZmZhJAAAAAAAAAFMBmZmZmZmYOwM3MzMzMzATAaGZmZmZm9r+gmZmZmZnJvwAAAAAAAPA/mZmZmZmZAUAyMzMzMzMLQGZmZmZmZhJAAAAAAAAAFMBmZmZmZmYOwM3MzMzMzATAaGZmZmZm9r+gmZmZmZnJvwAAAAAAAPA/mZmZmZmZAUAyMzMzMzMLQGZmZmZmZhJAAAAAAAAAFMBmZmZmZmYOwM3MzMzMzATAaGZmZmZm9r+gmZmZmZnJvwAAAAAAAPA/mZmZmZmZAUAyMzMzMzMLQGZmZmZmZhJA",
          "dtype": "f8"
         },
         "z": {
          "bdata": "9sghBmuvfMDnq8sb5EKAwIevb1hQiILAxGnZfDb2gsAB5CQTN4uEwDWF/fu9UILA/M43o1W0gsBRMDlqvM2BwIobDP3m0X7AtCNPn9rdYcBgZFWNY0RmwOvZ+fNsYG3AvIWw72shasAk6/XeOCtuwFppmYDDRHPAAk59b8pPbMDHxNnozt5rwGl1aQoJ0GHArwu6AR7aUkBGtGVO9bY3QMXwCs/1Y0XAVc6QGAhMQcC49/I+j9BVwKEVjb8aVVDA+gJ698zFQcD1Tp1P0UMbwBqUJlS9rFBAqRchANEXY0BIei9CLM9QQACm5fzocOc/TybcMR6bRkD9h3nqJSQvwI5Z3/CGYxFAOsIQ26pKQkB911A5XfpQQKfAfnlPSVpAl8l69mHTYkC2yUt2ioZXQIw8asxYBlRA+GSvUMYDEkDWRXvas+Q5QOyD/RTpITZAHCSYe1EpQUA6vegZHBdNQCIbavyWZ2BABeQDqoRoZECBP8phIhBSQIPM0KKqs01AtnDaO9agJED3Xaw727UqQBSM3YxpuTtA6ql+RWnyOUCHbUNlEqZTQIRpKZrCnmJAYRUI67oQZkCh9LdAL1NlQHZxYVBBCWNAbl3iWwiMV0CJdStOEJVMQCJcXz3/c1NAN2AcB9zjUUCE/lKtCEVlQMdm0WhzIGpAq3NKSUVEd0Dm0Y69RzpxQFhZgNNTr29AA+oJ06bjaUAi8fVSARFpQCZOTmrVI2lAFuMMU3PhakCdRKEKSBtwQKRFV0qDlHRA+97HKp8lg0AcZPmtxpuCQGvDh4ASt4BA3BsuumJTgEDff83vAWV/QMAYRqOGBIBA1qyI2OsAf0CfAQnkEw2BQNmH6s2ZNYNA",
          "dtype": "f8"
         }
        }
       ],
       "layout": {
        "margin": {
         "b": 0,
         "l": 0,
         "r": 0,
         "t": 50
        },
        "scene": {
         "xaxis": {
          "title": {
           "text": "Eixo X"
          }
         },
         "yaxis": {
          "title": {
           "text": "Eixo Y"
          }
         },
         "zaxis": {
          "title": {
           "text": "Eixo Z (Valor)"
          }
         }
        },
        "template": {
         "data": {
          "bar": [
           {
            "error_x": {
             "color": "#2a3f5f"
            },
            "error_y": {
             "color": "#2a3f5f"
            },
            "marker": {
             "line": {
              "color": "#E5ECF6",
              "width": 0.5
             },
             "pattern": {
              "fillmode": "overlay",
              "size": 10,
              "solidity": 0.2
             }
            },
            "type": "bar"
           }
          ],
          "barpolar": [
           {
            "marker": {
             "line": {
              "color": "#E5ECF6",
              "width": 0.5
             },
             "pattern": {
              "fillmode": "overlay",
              "size": 10,
              "solidity": 0.2
             }
            },
            "type": "barpolar"
           }
          ],
          "carpet": [
           {
            "aaxis": {
             "endlinecolor": "#2a3f5f",
             "gridcolor": "white",
             "linecolor": "white",
             "minorgridcolor": "white",
             "startlinecolor": "#2a3f5f"
            },
            "baxis": {
             "endlinecolor": "#2a3f5f",
             "gridcolor": "white",
             "linecolor": "white",
             "minorgridcolor": "white",
             "startlinecolor": "#2a3f5f"
            },
            "type": "carpet"
           }
          ],
          "choropleth": [
           {
            "colorbar": {
             "outlinewidth": 0,
             "ticks": ""
            },
            "type": "choropleth"
           }
          ],
          "contour": [
           {
            "colorbar": {
             "outlinewidth": 0,
             "ticks": ""
            },
            "colorscale": [
             [
              0,
              "#0d0887"
             ],
             [
              0.1111111111111111,
              "#46039f"
             ],
             [
              0.2222222222222222,
              "#7201a8"
             ],
             [
              0.3333333333333333,
              "#9c179e"
             ],
             [
              0.4444444444444444,
              "#bd3786"
             ],
             [
              0.5555555555555556,
              "#d8576b"
             ],
             [
              0.6666666666666666,
              "#ed7953"
             ],
             [
              0.7777777777777778,
              "#fb9f3a"
             ],
             [
              0.8888888888888888,
              "#fdca26"
             ],
             [
              1,
              "#f0f921"
             ]
            ],
            "type": "contour"
           }
          ],
          "contourcarpet": [
           {
            "colorbar": {
             "outlinewidth": 0,
             "ticks": ""
            },
            "type": "contourcarpet"
           }
          ],
          "heatmap": [
           {
            "colorbar": {
             "outlinewidth": 0,
             "ticks": ""
            },
            "colorscale": [
             [
              0,
              "#0d0887"
             ],
             [
              0.1111111111111111,
              "#46039f"
             ],
             [
              0.2222222222222222,
              "#7201a8"
             ],
             [
              0.3333333333333333,
              "#9c179e"
             ],
             [
              0.4444444444444444,
              "#bd3786"
             ],
             [
              0.5555555555555556,
              "#d8576b"
             ],
             [
              0.6666666666666666,
              "#ed7953"
             ],
             [
              0.7777777777777778,
              "#fb9f3a"
             ],
             [
              0.8888888888888888,
              "#fdca26"
             ],
             [
              1,
              "#f0f921"
             ]
            ],
            "type": "heatmap"
           }
          ],
          "histogram": [
           {
            "marker": {
             "pattern": {
              "fillmode": "overlay",
              "size": 10,
              "solidity": 0.2
             }
            },
            "type": "histogram"
           }
          ],
          "histogram2d": [
           {
            "colorbar": {
             "outlinewidth": 0,
             "ticks": ""
            },
            "colorscale": [
             [
              0,
              "#0d0887"
             ],
             [
              0.1111111111111111,
              "#46039f"
             ],
             [
              0.2222222222222222,
              "#7201a8"
             ],
             [
              0.3333333333333333,
              "#9c179e"
             ],
             [
              0.4444444444444444,
              "#bd3786"
             ],
             [
              0.5555555555555556,
              "#d8576b"
             ],
             [
              0.6666666666666666,
              "#ed7953"
             ],
             [
              0.7777777777777778,
              "#fb9f3a"
             ],
             [
              0.8888888888888888,
              "#fdca26"
             ],
             [
              1,
              "#f0f921"
             ]
            ],
            "type": "histogram2d"
           }
          ],
          "histogram2dcontour": [
           {
            "colorbar": {
             "outlinewidth": 0,
             "ticks": ""
            },
            "colorscale": [
             [
              0,
              "#0d0887"
             ],
             [
              0.1111111111111111,
              "#46039f"
             ],
             [
              0.2222222222222222,
              "#7201a8"
             ],
             [
              0.3333333333333333,
              "#9c179e"
             ],
             [
              0.4444444444444444,
              "#bd3786"
             ],
             [
              0.5555555555555556,
              "#d8576b"
             ],
             [
              0.6666666666666666,
              "#ed7953"
             ],
             [
              0.7777777777777778,
              "#fb9f3a"
             ],
             [
              0.8888888888888888,
              "#fdca26"
             ],
             [
              1,
              "#f0f921"
             ]
            ],
            "type": "histogram2dcontour"
           }
          ],
          "mesh3d": [
           {
            "colorbar": {
             "outlinewidth": 0,
             "ticks": ""
            },
            "type": "mesh3d"
           }
          ],
          "parcoords": [
           {
            "line": {
             "colorbar": {
              "outlinewidth": 0,
              "ticks": ""
             }
            },
            "type": "parcoords"
           }
          ],
          "pie": [
           {
            "automargin": true,
            "type": "pie"
           }
          ],
          "scatter": [
           {
            "fillpattern": {
             "fillmode": "overlay",
             "size": 10,
             "solidity": 0.2
            },
            "type": "scatter"
           }
          ],
          "scatter3d": [
           {
            "line": {
             "colorbar": {
              "outlinewidth": 0,
              "ticks": ""
             }
            },
            "marker": {
             "colorbar": {
              "outlinewidth": 0,
              "ticks": ""
             }
            },
            "type": "scatter3d"
           }
          ],
          "scattercarpet": [
           {
            "marker": {
             "colorbar": {
              "outlinewidth": 0,
              "ticks": ""
             }
            },
            "type": "scattercarpet"
           }
          ],
          "scattergeo": [
           {
            "marker": {
             "colorbar": {
              "outlinewidth": 0,
              "ticks": ""
             }
            },
            "type": "scattergeo"
           }
          ],
          "scattergl": [
           {
            "marker": {
             "colorbar": {
              "outlinewidth": 0,
              "ticks": ""
             }
            },
            "type": "scattergl"
           }
          ],
          "scattermap": [
           {
            "marker": {
             "colorbar": {
              "outlinewidth": 0,
              "ticks": ""
             }
            },
            "type": "scattermap"
           }
          ],
          "scattermapbox": [
           {
            "marker": {
             "colorbar": {
              "outlinewidth": 0,
              "ticks": ""
             }
            },
            "type": "scattermapbox"
           }
          ],
          "scatterpolar": [
           {
            "marker": {
             "colorbar": {
              "outlinewidth": 0,
              "ticks": ""
             }
            },
            "type": "scatterpolar"
           }
          ],
          "scatterpolargl": [
           {
            "marker": {
             "colorbar": {
              "outlinewidth": 0,
              "ticks": ""
             }
            },
            "type": "scatterpolargl"
           }
          ],
          "scatterternary": [
           {
            "marker": {
             "colorbar": {
              "outlinewidth": 0,
              "ticks": ""
             }
            },
            "type": "scatterternary"
           }
          ],
          "surface": [
           {
            "colorbar": {
             "outlinewidth": 0,
             "ticks": ""
            },
            "colorscale": [
             [
              0,
              "#0d0887"
             ],
             [
              0.1111111111111111,
              "#46039f"
             ],
             [
              0.2222222222222222,
              "#7201a8"
             ],
             [
              0.3333333333333333,
              "#9c179e"
             ],
             [
              0.4444444444444444,
              "#bd3786"
             ],
             [
              0.5555555555555556,
              "#d8576b"
             ],
             [
              0.6666666666666666,
              "#ed7953"
             ],
             [
              0.7777777777777778,
              "#fb9f3a"
             ],
             [
              0.8888888888888888,
              "#fdca26"
             ],
             [
              1,
              "#f0f921"
             ]
            ],
            "type": "surface"
           }
          ],
          "table": [
           {
            "cells": {
             "fill": {
              "color": "#EBF0F8"
             },
             "line": {
              "color": "white"
             }
            },
            "header": {
             "fill": {
              "color": "#C8D4E3"
             },
             "line": {
              "color": "white"
             }
            },
            "type": "table"
           }
          ]
         },
         "layout": {
          "annotationdefaults": {
           "arrowcolor": "#2a3f5f",
           "arrowhead": 0,
           "arrowwidth": 1
          },
          "autotypenumbers": "strict",
          "coloraxis": {
           "colorbar": {
            "outlinewidth": 0,
            "ticks": ""
           }
          },
          "colorscale": {
           "diverging": [
            [
             0,
             "#8e0152"
            ],
            [
             0.1,
             "#c51b7d"
            ],
            [
             0.2,
             "#de77ae"
            ],
            [
             0.3,
             "#f1b6da"
            ],
            [
             0.4,
             "#fde0ef"
            ],
            [
             0.5,
             "#f7f7f7"
            ],
            [
             0.6,
             "#e6f5d0"
            ],
            [
             0.7,
             "#b8e186"
            ],
            [
             0.8,
             "#7fbc41"
            ],
            [
             0.9,
             "#4d9221"
            ],
            [
             1,
             "#276419"
            ]
           ],
           "sequential": [
            [
             0,
             "#0d0887"
            ],
            [
             0.1111111111111111,
             "#46039f"
            ],
            [
             0.2222222222222222,
             "#7201a8"
            ],
            [
             0.3333333333333333,
             "#9c179e"
            ],
            [
             0.4444444444444444,
             "#bd3786"
            ],
            [
             0.5555555555555556,
             "#d8576b"
            ],
            [
             0.6666666666666666,
             "#ed7953"
            ],
            [
             0.7777777777777778,
             "#fb9f3a"
            ],
            [
             0.8888888888888888,
             "#fdca26"
            ],
            [
             1,
             "#f0f921"
            ]
           ],
           "sequentialminus": [
            [
             0,
             "#0d0887"
            ],
            [
             0.1111111111111111,
             "#46039f"
            ],
            [
             0.2222222222222222,
             "#7201a8"
            ],
            [
             0.3333333333333333,
             "#9c179e"
            ],
            [
             0.4444444444444444,
             "#bd3786"
            ],
            [
             0.5555555555555556,
             "#d8576b"
            ],
            [
             0.6666666666666666,
             "#ed7953"
            ],
            [
             0.7777777777777778,
             "#fb9f3a"
            ],
            [
             0.8888888888888888,
             "#fdca26"
            ],
            [
             1,
             "#f0f921"
            ]
           ]
          },
          "colorway": [
           "#636efa",
           "#EF553B",
           "#00cc96",
           "#ab63fa",
           "#FFA15A",
           "#19d3f3",
           "#FF6692",
           "#B6E880",
           "#FF97FF",
           "#FECB52"
          ],
          "font": {
           "color": "#2a3f5f"
          },
          "geo": {
           "bgcolor": "white",
           "lakecolor": "white",
           "landcolor": "#E5ECF6",
           "showlakes": true,
           "showland": true,
           "subunitcolor": "white"
          },
          "hoverlabel": {
           "align": "left"
          },
          "hovermode": "closest",
          "mapbox": {
           "style": "light"
          },
          "paper_bgcolor": "white",
          "plot_bgcolor": "#E5ECF6",
          "polar": {
           "angularaxis": {
            "gridcolor": "white",
            "linecolor": "white",
            "ticks": ""
           },
           "bgcolor": "#E5ECF6",
           "radialaxis": {
            "gridcolor": "white",
            "linecolor": "white",
            "ticks": ""
           }
          },
          "scene": {
           "xaxis": {
            "backgroundcolor": "#E5ECF6",
            "gridcolor": "white",
            "gridwidth": 2,
            "linecolor": "white",
            "showbackground": true,
            "ticks": "",
            "zerolinecolor": "white"
           },
           "yaxis": {
            "backgroundcolor": "#E5ECF6",
            "gridcolor": "white",
            "gridwidth": 2,
            "linecolor": "white",
            "showbackground": true,
            "ticks": "",
            "zerolinecolor": "white"
           },
           "zaxis": {
            "backgroundcolor": "#E5ECF6",
            "gridcolor": "white",
            "gridwidth": 2,
            "linecolor": "white",
            "showbackground": true,
            "ticks": "",
            "zerolinecolor": "white"
           }
          },
          "shapedefaults": {
           "line": {
            "color": "#2a3f5f"
           }
          },
          "ternary": {
           "aaxis": {
            "gridcolor": "white",
            "linecolor": "white",
            "ticks": ""
           },
           "baxis": {
            "gridcolor": "white",
            "linecolor": "white",
            "ticks": ""
           },
           "bgcolor": "#E5ECF6",
           "caxis": {
            "gridcolor": "white",
            "linecolor": "white",
            "ticks": ""
           }
          },
          "title": {
           "x": 0.05
          },
          "xaxis": {
           "automargin": true,
           "gridcolor": "white",
           "linecolor": "white",
           "ticks": "",
           "title": {
            "standoff": 15
           },
           "zerolinecolor": "white",
           "zerolinewidth": 2
          },
          "yaxis": {
           "automargin": true,
           "gridcolor": "white",
           "linecolor": "white",
           "ticks": "",
           "title": {
            "standoff": 15
           },
           "zerolinecolor": "white",
           "zerolinewidth": 2
          }
         }
        },
        "title": {
         "text": "z = f(x, y)",
         "x": 0.5
        }
       }
      }
     },
     "metadata": {},
     "output_type": "display_data"
    }
   ],
   "source": [
    "df_pivot = df.pivot(index='y', columns='x', values='z')\n",
    "\n",
    "# Gerar a malha\n",
    "x_axis = df_pivot.columns.values\n",
    "y_axis = df_pivot.index.values\n",
    "z_grid = df_pivot.values\n",
    "\n",
    "fig = go.Figure()\n",
    "\n",
    "# Adicionar a Superfície\n",
    "fig.add_trace(go.Surface(\n",
    "    x=x_axis,\n",
    "    y=y_axis,\n",
    "    z=z_grid,\n",
    "    colorscale='Viridis',\n",
    "    opacity=0.9,\n",
    "    contours_z=dict(show=True, usecolormap=True, project_z=True, highlightcolor=\"white\"),\n",
    "    name='Superfície dos Dados'\n",
    "))\n",
    "\n",
    "# Adicionar os Pontos de Dados Originais\n",
    "fig.add_trace(go.Scatter3d(\n",
    "    x=df['x'],\n",
    "    y=df['y'],\n",
    "    z=df['z'],\n",
    "    mode='markers',\n",
    "    marker=dict(size=3, color='red', symbol='circle'),\n",
    "    name='Pontos de Dados Originais'\n",
    "))\n",
    "\n",
    "# Melhorar o Layout\n",
    "fig.update_layout(\n",
    "    title=dict(text='z = f(x, y)', x=0.5),\n",
    "    scene=dict(\n",
    "        xaxis_title='Eixo X',\n",
    "        yaxis_title='Eixo Y',\n",
    "        zaxis_title='Eixo Z (Valor)'\n",
    "    ),\n",
    "    margin=dict(l=0, r=0, b=0, t=50)\n",
    ")\n",
    "\n",
    "fig.show()"
   ]
  },
  {
   "cell_type": "code",
   "execution_count": 6,
   "id": "c90974b4",
   "metadata": {},
   "outputs": [
    {
     "data": {
      "text/plain": [
       "array([ 5.0081046 ,  5.73419945, 10.59963756])"
      ]
     },
     "execution_count": 6,
     "metadata": {},
     "output_type": "execute_result"
    }
   ],
   "source": [
    "X = np.column_stack([df['x'] ** 3, df['y'] ** 2, np.ones(len(df['x']))])\n",
    "\n",
    "true_weights = np.linalg.inv((X.T @ X) + (X.T @ X).T) @ (2 * X.T @ df['z'])\n",
    "true_weights"
   ]
  },
  {
   "cell_type": "markdown",
   "id": "a11523f5",
   "metadata": {},
   "source": [
    "## Calcular as funções de perda"
   ]
  },
  {
   "cell_type": "markdown",
   "id": "2e6d8f5f",
   "metadata": {},
   "source": [
    "### Configurações"
   ]
  },
  {
   "cell_type": "code",
   "execution_count": 7,
   "id": "5f2939c5",
   "metadata": {},
   "outputs": [],
   "source": [
    "def make_function(w):\n",
    "    def f(x, y):\n",
    "        if np.isscalar(x) and np.isscalar(y):\n",
    "            return w @ np.array([x**3, y**2, 1])\n",
    "        else:\n",
    "            return np.array([w @ np.array([xi**3, yi**2, 1]) for xi, yi in zip(x, y)])\n",
    "    return f\n",
    "\n",
    "features = df[['x', 'y']]\n",
    "y = df['z']\n",
    "\n",
    "# Criar os objetos para Normalização e Padronização\n",
    "min_max_scaler = MinMaxNormalizer(-1, 1)\n",
    "standard_scaler = StandardScaler()\n",
    "\n",
    "# Cria as cópias dos dados para normalização e padronização\n",
    "cubed_squared_features = features.copy()\n",
    "cubed_squared_features.loc[:, 'x'] = cubed_squared_features['x']\n",
    "cubed_squared_features.loc[:, 'y'] = cubed_squared_features['y']\n",
    "features_normalized = cubed_squared_features.copy()\n",
    "features_standardized = cubed_squared_features.copy()\n",
    "\n",
    "# Ajusta os normalizadores e padronizadores aos dados\n",
    "min_max_scaler.fit(features_normalized)\n",
    "standard_scaler.fit(features_standardized)\n",
    "\n",
    "# Normaliza e Padroniza os dados\n",
    "features_normalized = min_max_scaler.normalize(features_normalized)\n",
    "features_standardized = standard_scaler.normalize(features_standardized)\n",
    "\n",
    "# Listas para iteração\n",
    "features_list = [features, features_normalized, features_standardized]\n",
    "features_names = ['Original', 'Normalized', 'Standardized']\n",
    "loss_fn_names = ['MSE']\n",
    "loss_fn_makers = [make_mse_loss_function]\n",
    "\n",
    "initial_weights = [\n",
    "    np.zeros(3)\n",
    "]\n",
    "n_iterations = 10000\n",
    "tolerance = 1e-6\n",
    "alpha = 1e-3"
   ]
  },
  {
   "cell_type": "markdown",
   "id": "f4a0a850",
   "metadata": {},
   "source": [
    "### Rodar os experimentos"
   ]
  },
  {
   "cell_type": "code",
   "execution_count": 8,
   "id": "ca4ad7e8",
   "metadata": {},
   "outputs": [],
   "source": [
    "def make_residuals_fn(X: np.ndarray, Y: np.ndarray, Z: np.ndarray):\n",
    "    def residuals_fn(w: np.ndarray) -> np.ndarray:\n",
    "        predictions = w[0]*X**3 + w[1]*Y**2 + w[2]\n",
    "        return Z - predictions\n",
    "    return residuals_fn\n",
    "\n",
    "def make_jacobian_fn(X: np.ndarray, Y: np.ndarray):\n",
    "    def jacobian_fn(w: np.ndarray) -> np.ndarray:\n",
    "            # Derivadas parciais em relação a cada peso\n",
    "            J_a = -X**3\n",
    "            J_b = -Y**2\n",
    "            J_c = -np.ones_like(X)\n",
    "            return np.vstack([J_a, J_b, J_c]).T\n",
    "    return jacobian_fn"
   ]
  },
  {
   "cell_type": "code",
   "execution_count": 9,
   "id": "6ec386dc",
   "metadata": {},
   "outputs": [
    {
     "name": "stderr",
     "output_type": "stream",
     "text": [
      "c:\\Users\\mathe\\Documents\\Meus Codes\\rna_tarefas_mestrado\\utils\\normalize.py:73: FutureWarning:\n",
      "\n",
      "Series.__getitem__ treating keys as positions is deprecated. In a future version, integer keys will always be treated as labels (consistent with DataFrame behavior). To access a value by position, use `ser.iloc[pos]`\n",
      "\n",
      "c:\\Users\\mathe\\Documents\\Meus Codes\\rna_tarefas_mestrado\\utils\\normalize.py:149: FutureWarning:\n",
      "\n",
      "Series.__getitem__ treating keys as positions is deprecated. In a future version, integer keys will always be treated as labels (consistent with DataFrame behavior). To access a value by position, use `ser.iloc[pos]`\n",
      "\n"
     ]
    },
    {
     "data": {
      "text/html": [
       "<div>\n",
       "<style scoped>\n",
       "    .dataframe tbody tr th:only-of-type {\n",
       "        vertical-align: middle;\n",
       "    }\n",
       "\n",
       "    .dataframe tbody tr th {\n",
       "        vertical-align: top;\n",
       "    }\n",
       "\n",
       "    .dataframe thead th {\n",
       "        text-align: right;\n",
       "    }\n",
       "</style>\n",
       "<table border=\"1\" class=\"dataframe\">\n",
       "  <thead>\n",
       "    <tr style=\"text-align: right;\">\n",
       "      <th></th>\n",
       "      <th>Feature_Set</th>\n",
       "      <th>Loss_Function</th>\n",
       "      <th>Initial_Weights</th>\n",
       "      <th>Final_Weights</th>\n",
       "      <th>Final_Loss</th>\n",
       "      <th>MSE_Final</th>\n",
       "      <th>RMSE_Final</th>\n",
       "      <th>MAE_Final</th>\n",
       "      <th>Iterations</th>\n",
       "    </tr>\n",
       "  </thead>\n",
       "  <tbody>\n",
       "    <tr>\n",
       "      <th>0</th>\n",
       "      <td>Original</td>\n",
       "      <td>MSE</td>\n",
       "      <td>(0.0, 0.0, 0.0)</td>\n",
       "      <td>[5.008086285784873, 5.735526692821985, 10.5761...</td>\n",
       "      <td>372.0921724869</td>\n",
       "      <td>372.0921724869</td>\n",
       "      <td>19.2896908344</td>\n",
       "      <td>15.2947050637</td>\n",
       "      <td>2</td>\n",
       "    </tr>\n",
       "    <tr>\n",
       "      <th>1</th>\n",
       "      <td>Normalized</td>\n",
       "      <td>MSE</td>\n",
       "      <td>(0.0, 0.0, 0.0)</td>\n",
       "      <td>[5.028550727608425, 5.683969943581228, -17.051...</td>\n",
       "      <td>1221.9873168486</td>\n",
       "      <td>1171.8805813323</td>\n",
       "      <td>34.2327413646</td>\n",
       "      <td>29.4278829920</td>\n",
       "      <td>6</td>\n",
       "    </tr>\n",
       "    <tr>\n",
       "      <th>2</th>\n",
       "      <td>Standardized</td>\n",
       "      <td>MSE</td>\n",
       "      <td>(0.0, 0.0, 0.0)</td>\n",
       "      <td>[5.033983227092021, 5.714335338693724, -17.866...</td>\n",
       "      <td>1221.5508718666</td>\n",
       "      <td>1204.1986175829</td>\n",
       "      <td>34.7015650596</td>\n",
       "      <td>29.9115153575</td>\n",
       "      <td>5</td>\n",
       "    </tr>\n",
       "  </tbody>\n",
       "</table>\n",
       "</div>"
      ],
      "text/plain": [
       "    Feature_Set Loss_Function  Initial_Weights  \\\n",
       "0      Original           MSE  (0.0, 0.0, 0.0)   \n",
       "1    Normalized           MSE  (0.0, 0.0, 0.0)   \n",
       "2  Standardized           MSE  (0.0, 0.0, 0.0)   \n",
       "\n",
       "                                       Final_Weights      Final_Loss  \\\n",
       "0  [5.008086285784873, 5.735526692821985, 10.5761...  372.0921724869   \n",
       "1  [5.028550727608425, 5.683969943581228, -17.051... 1221.9873168486   \n",
       "2  [5.033983227092021, 5.714335338693724, -17.866... 1221.5508718666   \n",
       "\n",
       "        MSE_Final    RMSE_Final     MAE_Final  Iterations  \n",
       "0  372.0921724869 19.2896908344 15.2947050637           2  \n",
       "1 1171.8805813323 34.2327413646 29.4278829920           6  \n",
       "2 1204.1986175829 34.7015650596 29.9115153575           5  "
      ]
     },
     "execution_count": 9,
     "metadata": {},
     "output_type": "execute_result"
    }
   ],
   "source": [
    "dict_results = {}\n",
    "\n",
    "for feature_set, feature_name in zip(features_list, features_names):\n",
    "    x_data = feature_set['x'].values\n",
    "    y_data = feature_set['y'].values\n",
    "    z_data = y\n",
    "\n",
    "    x_data_orig = features['x'].values\n",
    "    y_data_orig = features['y'].values\n",
    "\n",
    "    for loss_fn_name, loss_fn_maker in zip(loss_fn_names, loss_fn_makers):\n",
    "        loss_function, grad_loss_function = None, None\n",
    "\n",
    "        if feature_name == 'Original':\n",
    "            loss_function, grad_loss_function = loss_fn_maker(x_data ** 3, y_data ** 2, z_data)\n",
    "        else:\n",
    "            loss_function, grad_loss_function = loss_fn_maker(x_data ** 3, y_data ** 2, z_data)\n",
    "\n",
    "        for initial_w in initial_weights:\n",
    "            try:\n",
    "                residuals_fn = make_residuals_fn(x_data, y_data, z_data)\n",
    "                jacobian_fn = make_jacobian_fn(x_data, y_data)\n",
    "\n",
    "                weights, losses, n_iters = levenberg_marquadt(\n",
    "                    initial_w, residuals_fn, loss_function, jacobian_fn,\n",
    "                    alpha=alpha, alpha_variability=10, max_iter=n_iterations,\n",
    "                    tolerance=tolerance, stopping_criteria=[1, 2, 3]\n",
    "                )\n",
    "\n",
    "                # Verificar se há overflow\n",
    "                if np.any(np.isnan(weights[-1])) or np.any(np.isinf(weights[-1])):\n",
    "                    print(f\"Overflow detectado para Initial_W={initial_w}\")\n",
    "                    continue\n",
    "\n",
    "            except Exception as e:\n",
    "                print(f\"Erro para Initial_W={initial_w}: {e}\")\n",
    "                continue\n",
    "\n",
    "            if feature_name == 'Standardized':\n",
    "                weights[-1] = standard_scaler.desnormalize_polynomial_weights(weights[-1], powers=[3, 2])\n",
    "            elif feature_name == 'Normalized':\n",
    "                weights[-1] = min_max_scaler.desnormalize_polynomial_weights(weights[-1], powers=[3, 2])\n",
    "\n",
    "            function_aprox = make_function(weights[-1])\n",
    "\n",
    "            mse_final = np.mean((z_data - function_aprox(x_data_orig, y_data_orig)) ** 2)\n",
    "            rmse_final = np.sqrt(mse_final)\n",
    "            mae_final = np.mean(np.abs(z_data - function_aprox(x_data_orig, y_data_orig)))\n",
    "\n",
    "            key = (feature_name, loss_fn_name, tuple(initial_w))\n",
    "            dict_results[key] = {\n",
    "                'weights': weights,\n",
    "                'losses': losses,\n",
    "                'n_iters': n_iters,\n",
    "                'mse_final': mse_final,\n",
    "                'rmse_final': rmse_final,\n",
    "                'mae_final': mae_final\n",
    "            }\n",
    "\n",
    "df_result = pd.DataFrame([\n",
    "    {\n",
    "        'Feature_Set': key[0],\n",
    "        'Loss_Function': key[1],\n",
    "        'Initial_Weights': key[2],\n",
    "        'Final_Weights': value['weights'][-1],\n",
    "        'Final_Loss': value['losses'][-1],\n",
    "        'MSE_Final': value['mse_final'],\n",
    "        'RMSE_Final': value['rmse_final'],\n",
    "        'MAE_Final': value['mae_final'],\n",
    "        'Iterations': value['n_iters']\n",
    "    }\n",
    "    for key, value in dict_results.items()\n",
    "])\n",
    "\n",
    "df_result_to_save = df_result.copy()\n",
    "df_result_to_save['Initial_Weights'] = df_result_to_save['Initial_Weights'].apply(lambda x: np.array(x).tolist())\n",
    "df_result_to_save['Final_Weights'] = df_result_to_save['Final_Weights'].apply(lambda x: np.array(x).tolist())\n",
    "\n",
    "df_result_to_save['Initial_Weights'] = df_result_to_save['Initial_Weights'].apply(lambda x: str(x))\n",
    "df_result_to_save['Final_Weights'] = df_result_to_save['Final_Weights'].apply(lambda x: str(x))\n",
    "\n",
    "df_result_to_save.to_excel('../output/tarefa3_results.xlsx', index=False, float_format=\"%.6g\")\n",
    "\n",
    "df_result.sort_values(by='MAE_Final').groupby('Loss_Function').head(10).reset_index(drop=True)"
   ]
  },
  {
   "cell_type": "markdown",
   "id": "4636062a",
   "metadata": {},
   "source": [
    "## Resultados"
   ]
  },
  {
   "cell_type": "markdown",
   "id": "c21da672",
   "metadata": {},
   "source": [
    "### MSE"
   ]
  },
  {
   "cell_type": "code",
   "execution_count": 10,
   "id": "be433092",
   "metadata": {},
   "outputs": [
    {
     "name": "stdout",
     "output_type": "stream",
     "text": [
      "Melhor resultado MSE:\n",
      "Feature Set: Original\n"
     ]
    },
    {
     "ename": "KeyError",
     "evalue": "'Learning_Rate'",
     "output_type": "error",
     "traceback": [
      "\u001b[31m---------------------------------------------------------------------------\u001b[39m",
      "\u001b[31mKeyError\u001b[39m                                  Traceback (most recent call last)",
      "\u001b[36mFile \u001b[39m\u001b[32mc:\\Users\\mathe\\Documents\\Meus Codes\\rna_tarefas_mestrado\\.venv\\Lib\\site-packages\\pandas\\core\\indexes\\base.py:3812\u001b[39m, in \u001b[36mIndex.get_loc\u001b[39m\u001b[34m(self, key)\u001b[39m\n\u001b[32m   3811\u001b[39m \u001b[38;5;28;01mtry\u001b[39;00m:\n\u001b[32m-> \u001b[39m\u001b[32m3812\u001b[39m     \u001b[38;5;28;01mreturn\u001b[39;00m \u001b[38;5;28;43mself\u001b[39;49m\u001b[43m.\u001b[49m\u001b[43m_engine\u001b[49m\u001b[43m.\u001b[49m\u001b[43mget_loc\u001b[49m\u001b[43m(\u001b[49m\u001b[43mcasted_key\u001b[49m\u001b[43m)\u001b[49m\n\u001b[32m   3813\u001b[39m \u001b[38;5;28;01mexcept\u001b[39;00m \u001b[38;5;167;01mKeyError\u001b[39;00m \u001b[38;5;28;01mas\u001b[39;00m err:\n",
      "\u001b[36mFile \u001b[39m\u001b[32mpandas/_libs/index.pyx:167\u001b[39m, in \u001b[36mpandas._libs.index.IndexEngine.get_loc\u001b[39m\u001b[34m()\u001b[39m\n",
      "\u001b[36mFile \u001b[39m\u001b[32mpandas/_libs/index.pyx:196\u001b[39m, in \u001b[36mpandas._libs.index.IndexEngine.get_loc\u001b[39m\u001b[34m()\u001b[39m\n",
      "\u001b[36mFile \u001b[39m\u001b[32mpandas/_libs/hashtable_class_helper.pxi:7088\u001b[39m, in \u001b[36mpandas._libs.hashtable.PyObjectHashTable.get_item\u001b[39m\u001b[34m()\u001b[39m\n",
      "\u001b[36mFile \u001b[39m\u001b[32mpandas/_libs/hashtable_class_helper.pxi:7096\u001b[39m, in \u001b[36mpandas._libs.hashtable.PyObjectHashTable.get_item\u001b[39m\u001b[34m()\u001b[39m\n",
      "\u001b[31mKeyError\u001b[39m: 'Learning_Rate'",
      "\nThe above exception was the direct cause of the following exception:\n",
      "\u001b[31mKeyError\u001b[39m                                  Traceback (most recent call last)",
      "\u001b[36mCell\u001b[39m\u001b[36m \u001b[39m\u001b[32mIn[10]\u001b[39m\u001b[32m, line 1\u001b[39m\n\u001b[32m----> \u001b[39m\u001b[32m1\u001b[39m _ = \u001b[43mplot_best_by_loss\u001b[49m\u001b[43m(\u001b[49m\u001b[43mdf_result\u001b[49m\u001b[43m,\u001b[49m\u001b[43m \u001b[49m\u001b[33;43m\"\u001b[39;49m\u001b[33;43mMSE\u001b[39;49m\u001b[33;43m\"\u001b[39;49m\u001b[43m,\u001b[49m\u001b[43m \u001b[49m\u001b[43mdf\u001b[49m\u001b[43m,\u001b[49m\u001b[43m \u001b[49m\u001b[43mfeatures_normalized\u001b[49m\u001b[43m,\u001b[49m\u001b[43m \u001b[49m\u001b[43mfeatures_standardized\u001b[49m\u001b[43m,\u001b[49m\u001b[43m \u001b[49m\u001b[43mshow_original_points\u001b[49m\u001b[43m=\u001b[49m\u001b[38;5;28;43;01mTrue\u001b[39;49;00m\u001b[43m)\u001b[49m\n",
      "\u001b[36mFile \u001b[39m\u001b[32mc:\\Users\\mathe\\Documents\\Meus Codes\\rna_tarefas_mestrado\\utils\\plots\\plots_tarefa2.py:45\u001b[39m, in \u001b[36mplot_best_by_loss\u001b[39m\u001b[34m(df_result, loss_name, df, features_normalized, features_pradonized, title_prefix, show_original_points)\u001b[39m\n\u001b[32m     43\u001b[39m \u001b[38;5;28mprint\u001b[39m(\u001b[33mf\u001b[39m\u001b[33m\"\u001b[39m\u001b[33mMelhor resultado \u001b[39m\u001b[38;5;132;01m{\u001b[39;00mloss_key\u001b[38;5;132;01m}\u001b[39;00m\u001b[33m:\u001b[39m\u001b[33m\"\u001b[39m)\n\u001b[32m     44\u001b[39m \u001b[38;5;28mprint\u001b[39m(\u001b[33mf\u001b[39m\u001b[33m\"\u001b[39m\u001b[33mFeature Set: \u001b[39m\u001b[38;5;132;01m{\u001b[39;00mfeature_set_used\u001b[38;5;132;01m}\u001b[39;00m\u001b[33m\"\u001b[39m)\n\u001b[32m---> \u001b[39m\u001b[32m45\u001b[39m \u001b[38;5;28mprint\u001b[39m(\u001b[33mf\u001b[39m\u001b[33m\"\u001b[39m\u001b[33mLearning Rate: \u001b[39m\u001b[38;5;132;01m{\u001b[39;00m\u001b[43mbest_row\u001b[49m\u001b[43m[\u001b[49m\u001b[33;43m'\u001b[39;49m\u001b[33;43mLearning_Rate\u001b[39;49m\u001b[33;43m'\u001b[39;49m\u001b[43m]\u001b[49m\u001b[38;5;132;01m}\u001b[39;00m\u001b[33m\"\u001b[39m)\n\u001b[32m     46\u001b[39m \u001b[38;5;28mprint\u001b[39m(\u001b[33mf\u001b[39m\u001b[33m\"\u001b[39m\u001b[33mFinal Loss: \u001b[39m\u001b[38;5;132;01m{\u001b[39;00mbest_row[\u001b[33m'\u001b[39m\u001b[33mFinal_Loss\u001b[39m\u001b[33m'\u001b[39m]\u001b[38;5;132;01m}\u001b[39;00m\u001b[33m\"\u001b[39m)\n\u001b[32m     47\u001b[39m \u001b[38;5;28mprint\u001b[39m(\u001b[33mf\u001b[39m\u001b[33m\"\u001b[39m\u001b[33mPesos: \u001b[39m\u001b[38;5;132;01m{\u001b[39;00mbest_w\u001b[38;5;132;01m}\u001b[39;00m\u001b[33m\"\u001b[39m)\n",
      "\u001b[36mFile \u001b[39m\u001b[32mc:\\Users\\mathe\\Documents\\Meus Codes\\rna_tarefas_mestrado\\.venv\\Lib\\site-packages\\pandas\\core\\series.py:1130\u001b[39m, in \u001b[36mSeries.__getitem__\u001b[39m\u001b[34m(self, key)\u001b[39m\n\u001b[32m   1127\u001b[39m     \u001b[38;5;28;01mreturn\u001b[39;00m \u001b[38;5;28mself\u001b[39m._values[key]\n\u001b[32m   1129\u001b[39m \u001b[38;5;28;01melif\u001b[39;00m key_is_scalar:\n\u001b[32m-> \u001b[39m\u001b[32m1130\u001b[39m     \u001b[38;5;28;01mreturn\u001b[39;00m \u001b[38;5;28;43mself\u001b[39;49m\u001b[43m.\u001b[49m\u001b[43m_get_value\u001b[49m\u001b[43m(\u001b[49m\u001b[43mkey\u001b[49m\u001b[43m)\u001b[49m\n\u001b[32m   1132\u001b[39m \u001b[38;5;66;03m# Convert generator to list before going through hashable part\u001b[39;00m\n\u001b[32m   1133\u001b[39m \u001b[38;5;66;03m# (We will iterate through the generator there to check for slices)\u001b[39;00m\n\u001b[32m   1134\u001b[39m \u001b[38;5;28;01mif\u001b[39;00m is_iterator(key):\n",
      "\u001b[36mFile \u001b[39m\u001b[32mc:\\Users\\mathe\\Documents\\Meus Codes\\rna_tarefas_mestrado\\.venv\\Lib\\site-packages\\pandas\\core\\series.py:1246\u001b[39m, in \u001b[36mSeries._get_value\u001b[39m\u001b[34m(self, label, takeable)\u001b[39m\n\u001b[32m   1243\u001b[39m     \u001b[38;5;28;01mreturn\u001b[39;00m \u001b[38;5;28mself\u001b[39m._values[label]\n\u001b[32m   1245\u001b[39m \u001b[38;5;66;03m# Similar to Index.get_value, but we do not fall back to positional\u001b[39;00m\n\u001b[32m-> \u001b[39m\u001b[32m1246\u001b[39m loc = \u001b[38;5;28;43mself\u001b[39;49m\u001b[43m.\u001b[49m\u001b[43mindex\u001b[49m\u001b[43m.\u001b[49m\u001b[43mget_loc\u001b[49m\u001b[43m(\u001b[49m\u001b[43mlabel\u001b[49m\u001b[43m)\u001b[49m\n\u001b[32m   1248\u001b[39m \u001b[38;5;28;01mif\u001b[39;00m is_integer(loc):\n\u001b[32m   1249\u001b[39m     \u001b[38;5;28;01mreturn\u001b[39;00m \u001b[38;5;28mself\u001b[39m._values[loc]\n",
      "\u001b[36mFile \u001b[39m\u001b[32mc:\\Users\\mathe\\Documents\\Meus Codes\\rna_tarefas_mestrado\\.venv\\Lib\\site-packages\\pandas\\core\\indexes\\base.py:3819\u001b[39m, in \u001b[36mIndex.get_loc\u001b[39m\u001b[34m(self, key)\u001b[39m\n\u001b[32m   3814\u001b[39m     \u001b[38;5;28;01mif\u001b[39;00m \u001b[38;5;28misinstance\u001b[39m(casted_key, \u001b[38;5;28mslice\u001b[39m) \u001b[38;5;129;01mor\u001b[39;00m (\n\u001b[32m   3815\u001b[39m         \u001b[38;5;28misinstance\u001b[39m(casted_key, abc.Iterable)\n\u001b[32m   3816\u001b[39m         \u001b[38;5;129;01mand\u001b[39;00m \u001b[38;5;28many\u001b[39m(\u001b[38;5;28misinstance\u001b[39m(x, \u001b[38;5;28mslice\u001b[39m) \u001b[38;5;28;01mfor\u001b[39;00m x \u001b[38;5;129;01min\u001b[39;00m casted_key)\n\u001b[32m   3817\u001b[39m     ):\n\u001b[32m   3818\u001b[39m         \u001b[38;5;28;01mraise\u001b[39;00m InvalidIndexError(key)\n\u001b[32m-> \u001b[39m\u001b[32m3819\u001b[39m     \u001b[38;5;28;01mraise\u001b[39;00m \u001b[38;5;167;01mKeyError\u001b[39;00m(key) \u001b[38;5;28;01mfrom\u001b[39;00m\u001b[38;5;250m \u001b[39m\u001b[34;01merr\u001b[39;00m\n\u001b[32m   3820\u001b[39m \u001b[38;5;28;01mexcept\u001b[39;00m \u001b[38;5;167;01mTypeError\u001b[39;00m:\n\u001b[32m   3821\u001b[39m     \u001b[38;5;66;03m# If we have a listlike key, _check_indexing_error will raise\u001b[39;00m\n\u001b[32m   3822\u001b[39m     \u001b[38;5;66;03m#  InvalidIndexError. Otherwise we fall through and re-raise\u001b[39;00m\n\u001b[32m   3823\u001b[39m     \u001b[38;5;66;03m#  the TypeError.\u001b[39;00m\n\u001b[32m   3824\u001b[39m     \u001b[38;5;28mself\u001b[39m._check_indexing_error(key)\n",
      "\u001b[31mKeyError\u001b[39m: 'Learning_Rate'"
     ]
    }
   ],
   "source": [
    "_ = plot_best_by_loss(df_result, \"MSE\", df, features_normalized, features_standardized, show_original_points=True)"
   ]
  },
  {
   "cell_type": "code",
   "execution_count": null,
   "id": "81bc3c8f",
   "metadata": {},
   "outputs": [],
   "source": [
    "df_result_mse = df_result[df_result['Loss_Function'] == 'MSE'].sort_values(by='MSE_Final').reset_index(drop=True)\n",
    "df_result_mse"
   ]
  },
  {
   "cell_type": "markdown",
   "id": "7f27ad02",
   "metadata": {},
   "source": [
    "### RMSE"
   ]
  },
  {
   "cell_type": "code",
   "execution_count": null,
   "id": "b8f68d53",
   "metadata": {},
   "outputs": [],
   "source": [
    "_ = plot_best_by_loss(df_result, \"RMSE\", df, features_normalized, features_standardized, show_original_points=True)"
   ]
  },
  {
   "cell_type": "code",
   "execution_count": null,
   "id": "d01fb303",
   "metadata": {},
   "outputs": [],
   "source": [
    "df_result_rmse = df_result[df_result['Loss_Function'] == 'RMSE'].sort_values(by='RMSE_Final').reset_index(drop=True)\n",
    "df_result_rmse"
   ]
  },
  {
   "cell_type": "markdown",
   "id": "57c3e4ff",
   "metadata": {},
   "source": [
    "### MAE"
   ]
  },
  {
   "cell_type": "code",
   "execution_count": null,
   "id": "3935a465",
   "metadata": {},
   "outputs": [],
   "source": [
    "_ = plot_best_by_loss(df_result, \"MAE\", df, features_normalized, features_standardized, show_original_points=True)"
   ]
  },
  {
   "cell_type": "code",
   "execution_count": null,
   "id": "eb223d22",
   "metadata": {},
   "outputs": [],
   "source": [
    "df_result_mae = df_result[df_result['Loss_Function'] == 'MAE'].sort_values(by='MAE_Final').reset_index(drop=True)\n",
    "df_result_mae"
   ]
  }
 ],
 "metadata": {
  "kernelspec": {
   "display_name": "rna-tarefas-mestrado (3.13.2)",
   "language": "python",
   "name": "python3"
  },
  "language_info": {
   "codemirror_mode": {
    "name": "ipython",
    "version": 3
   },
   "file_extension": ".py",
   "mimetype": "text/x-python",
   "name": "python",
   "nbconvert_exporter": "python",
   "pygments_lexer": "ipython3",
   "version": "3.13.2"
  }
 },
 "nbformat": 4,
 "nbformat_minor": 5
}
