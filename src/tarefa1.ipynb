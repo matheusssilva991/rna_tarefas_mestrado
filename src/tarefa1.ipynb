{
 "cells": [
  {
   "cell_type": "code",
   "execution_count": 1,
   "id": "0efa1322",
   "metadata": {},
   "outputs": [],
   "source": [
    "import pandas as pd\n",
    "import jax.numpy as jnp\n",
    "import matplotlib.pyplot as plt\n",
    "import sys\n",
    "import os\n",
    "from typing import Sequence\n",
    "\n",
    "sys.path.append(os.path.abspath(\"../libs\"))\n",
    "\n",
    "from gradient_descendent import gradient_descendent"
   ]
  },
  {
   "cell_type": "markdown",
   "id": "17a8b226",
   "metadata": {},
   "source": [
    "# Tarefa 1: Otimização unimodal sem restrição"
   ]
  },
  {
   "cell_type": "markdown",
   "id": "dcd31d4e",
   "metadata": {},
   "source": [
    "## Parte 1: Otimização analítica"
   ]
  },
  {
   "cell_type": "markdown",
   "id": "8ca70c1d",
   "metadata": {},
   "source": [
    "### Problema"
   ]
  },
  {
   "cell_type": "markdown",
   "id": "7ac04e60",
   "metadata": {},
   "source": [
    "Seja a função de custo quadrática dada por: \n",
    "$$J(x) = (x - c)^T A (x - c) + b$$\n",
    "onde $A$ é uma matriz. Encontre analiticamente o ponto $x^* \\in \\mathbb{R}^2$ que minimize a função de custo."
   ]
  },
  {
   "cell_type": "markdown",
   "id": "a9e943de",
   "metadata": {},
   "source": [
    "### Solução"
   ]
  },
  {
   "cell_type": "markdown",
   "id": "ff9ed09e",
   "metadata": {},
   "source": [
    "Temos que $\\frac{\\partial {((x - c)^T A (x - c))}}{\\partial x} = (A^T + A)(x - c)$ \n",
    "\n",
    "ou \n",
    "\n",
    "$\\frac{\\partial {((x - c)^T A (x - c))}}{\\partial x} = 2A(x - c)$ no caso de $A$ ser simétrica.\n",
    "\n",
    "Portanto, derivando a função de custo e igualando a zero, temos:\n",
    "$$\\frac{\\partial J(x)}{\\partial x} = (A^T + A)(x - c)$$\n",
    "\n",
    "$$\\frac{\\partial J(x)}{\\partial x} = (A^T + A)(x - c) = 0$$\n",
    "\n",
    "$$\\frac{\\partial J(x)}{\\partial x} = (A^T + A)^{-1}(A^T + A)(x - c) = (A^T + A)^{-1} \\dot \\quad 0$$\n",
    "\n",
    "$$\\frac{\\partial J(x)}{\\partial x} = I(x - c) = (A^T + A)^{-1} \\dot \\quad 0$$\n",
    "\n",
    "$$\\frac{\\partial J(x)}{\\partial x} = x - c = 0$$\n",
    "\n",
    "$$\\frac{\\partial J(x)}{\\partial x} = x = c$$"
   ]
  },
  {
   "cell_type": "markdown",
   "id": "d28dafcb",
   "metadata": {},
   "source": [
    "## Parte 2: Otimização numérica por gradiente descendente"
   ]
  },
  {
   "cell_type": "markdown",
   "id": "e2bf9c70",
   "metadata": {},
   "source": [
    "### Definir a função de custo"
   ]
  },
  {
   "cell_type": "code",
   "execution_count": 2,
   "id": "4e93e910",
   "metadata": {},
   "outputs": [],
   "source": [
    "def wrapper(A: Sequence[Sequence[float | int]],\n",
    "            b: float | int,\n",
    "            c: Sequence[float | int]):\n",
    "    A_np = jnp.array(A, dtype=jnp.float32)\n",
    "    b_np = jnp.float32(b)\n",
    "    c_np = jnp.array(c, dtype=jnp.float32)\n",
    "\n",
    "    def cost_function(x: jnp.ndarray) -> jnp.ndarray:\n",
    "        x_np = jnp.array(x, dtype=jnp.float32)\n",
    "        diff_x_c = x_np - c_np\n",
    "        return diff_x_c.T @ A_np @ diff_x_c + b_np\n",
    "\n",
    "    return cost_function"
   ]
  },
  {
   "cell_type": "markdown",
   "id": "3f18a539",
   "metadata": {},
   "source": [
    "## Calcular o ponto mínimo usando gradiente descendente"
   ]
  },
  {
   "cell_type": "code",
   "execution_count": 3,
   "id": "dfb07282",
   "metadata": {},
   "outputs": [
    {
     "name": "stdout",
     "output_type": "stream",
     "text": [
      "Ponto mínimo: [3.6073224e-08 9.9999982e-01], ou aproximadamente [0. 1.]\n"
     ]
    }
   ],
   "source": [
    "A = [[4, 0],\n",
    "     [1, 2]]\n",
    "b = 2.0\n",
    "c = [0, 1]\n",
    "\n",
    "f = wrapper(A, b, c)\n",
    "\n",
    "x = [0, 0]\n",
    "learning_rate = 0.1\n",
    "max_iter = 100\n",
    "tolerance = 1e-6\n",
    "\n",
    "\n",
    "x_values, costs = gradient_descendent(x, f, learning_rate, max_iter, tolerance)\n",
    "print(f\"Ponto mínimo: {x_values[-1]}, ou aproximadamente {jnp.round(x_values[-1], 4)}\")"
   ]
  }
 ],
 "metadata": {
  "kernelspec": {
   "display_name": "rna-tarefas-mestrado (3.13.2)",
   "language": "python",
   "name": "python3"
  },
  "language_info": {
   "codemirror_mode": {
    "name": "ipython",
    "version": 3
   },
   "file_extension": ".py",
   "mimetype": "text/x-python",
   "name": "python",
   "nbconvert_exporter": "python",
   "pygments_lexer": "ipython3",
   "version": "3.13.2"
  }
 },
 "nbformat": 4,
 "nbformat_minor": 5
}
