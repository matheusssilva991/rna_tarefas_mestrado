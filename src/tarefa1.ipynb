{
 "cells": [
  {
   "cell_type": "code",
   "execution_count": 1,
   "id": "0efa1322",
   "metadata": {},
   "outputs": [],
   "source": [
    "import jax.numpy as jnp\n",
    "import sys\n",
    "import os\n",
    "from typing import Sequence\n",
    "import plotly.graph_objects as go\n",
    "\n",
    "sys.path.append(os.path.abspath(\"../libs\"))\n",
    "\n",
    "from gradient_descendent import gradient_descendent"
   ]
  },
  {
   "cell_type": "markdown",
   "id": "17a8b226",
   "metadata": {},
   "source": [
    "# Tarefa 1: Otimização unimodal sem restrição"
   ]
  },
  {
   "cell_type": "markdown",
   "id": "dcd31d4e",
   "metadata": {},
   "source": [
    "## Parte 1: Otimização analítica"
   ]
  },
  {
   "cell_type": "markdown",
   "id": "8ca70c1d",
   "metadata": {},
   "source": [
    "### Problema"
   ]
  },
  {
   "cell_type": "markdown",
   "id": "7ac04e60",
   "metadata": {},
   "source": [
    "Seja a função de custo quadrática dada por: \n",
    "$$J(x) = (x - c)^T A (x - c) + b$$\n",
    "onde $A$ é uma matriz. Encontre analiticamente o ponto $x^* \\in \\mathbb{R}^2$ que minimize a função de custo."
   ]
  },
  {
   "cell_type": "markdown",
   "id": "a9e943de",
   "metadata": {},
   "source": [
    "### Solução"
   ]
  },
  {
   "cell_type": "markdown",
   "id": "ff9ed09e",
   "metadata": {},
   "source": [
    "Temos que $\\frac{\\partial {((x - c)^T A (x - c))}}{\\partial x} = (A^T + A)(x - c)$ \n",
    "\n",
    "ou \n",
    "\n",
    "$\\frac{\\partial {((x - c)^T A (x - c))}}{\\partial x} = 2A(x - c)$ no caso de $A$ ser simétrica.\n",
    "\n",
    "Portanto, derivando a função de custo e igualando a zero, temos:\n",
    "$$J_x = (A^T + A)(x - c)$$\n",
    "\n",
    "$$J_x = (A^T + A)(x - c) = 0$$\n",
    "\n",
    "$$J_x = (A^T + A)^{-1}(A^T + A)(x - c) = (A^T + A)^{-1} \\dot \\quad 0$$\n",
    "\n",
    "$$J_x = I(x - c) = (A^T + A)^{-1} \\dot \\quad 0$$\n",
    "\n",
    "$$J_x = x - c = 0$$\n",
    "\n",
    "$$J_x = x = c$$\n",
    "\n",
    "$$x^* = c$$\n",
    "\n",
    "$$J_{xx} = (A^T + A)$$\n",
    "\n",
    "Assim, se $(A^T + A) > 0$, $x^* = c$ será um ponto de minímo.\n",
    "\n",
    "No caso de a ser simétrica\n",
    "\n",
    "$$J_x = 2A(x - c)$$\n",
    "\n",
    "$$J_x = 2A(x - c) = 0$$\n",
    "\n",
    "$$J_x = 2A^{-1}A(x - c) = A^{-1}\\dot \\quad 0$$\n",
    "\n",
    "$$J_x = 2(x - c) = 0$$\n",
    "\n",
    "$$J_x = x - c = 0$$\n",
    "\n",
    "$$J_x = x = c$$\n",
    "\n",
    "$$J_{xx} = 2A$$\n",
    "\n",
    "Assim, se $2A > 0$, $x^* = c$ será um ponto de minímo."
   ]
  },
  {
   "cell_type": "markdown",
   "id": "d28dafcb",
   "metadata": {},
   "source": [
    "## Parte 2: Otimização numérica por gradiente descendente"
   ]
  },
  {
   "cell_type": "markdown",
   "id": "e2bf9c70",
   "metadata": {},
   "source": [
    "### Definir a função de custo"
   ]
  },
  {
   "cell_type": "code",
   "execution_count": 2,
   "id": "4e93e910",
   "metadata": {},
   "outputs": [],
   "source": [
    "def wrapper(A: Sequence[Sequence[float | int]],\n",
    "            b: float | int,\n",
    "            c: Sequence[float | int]):\n",
    "    A_np = jnp.array(A, dtype=jnp.float32)\n",
    "    b_np = jnp.float32(b)\n",
    "    c_np = jnp.array(c, dtype=jnp.float32)\n",
    "\n",
    "    def cost_function(x: jnp.ndarray) -> jnp.ndarray:\n",
    "        x_np = jnp.array(x, dtype=jnp.float32)\n",
    "        diff_x_c = x_np - c_np\n",
    "\n",
    "        # (x - c)^T A (x - c) + b\n",
    "        return diff_x_c.T @ A_np @ diff_x_c + b_np\n",
    "\n",
    "    return cost_function"
   ]
  },
  {
   "cell_type": "markdown",
   "id": "3f18a539",
   "metadata": {},
   "source": [
    "### Calcular o ponto mínimo usando gradiente descendente para diferentes taxas de aprendizado"
   ]
  },
  {
   "cell_type": "code",
   "execution_count": 3,
   "id": "dfb07282",
   "metadata": {},
   "outputs": [
    {
     "name": "stdout",
     "output_type": "stream",
     "text": [
      "Taxa de aprendizado: 0.1\n",
      "Ponto mínimo: [-3.3170699e-07  1.0000014e+00], ou aproximadamente [-0.  1.]\n",
      "Custo mínimo: 2.0, ou aproximadamente 2.0\n",
      "Numero de iterações: 29\n",
      "\n",
      "----------------------------------------------------------------------------------------------------\n",
      "\n",
      "Taxa de aprendizado: 0.01\n",
      "Ponto mínimo: [-6.0139814e-06  1.0000255e+00], ou aproximadamente [-9.9999997e-06  1.0000299e+00]\n",
      "Custo mínimo: 2.0, ou aproximadamente 2.0\n",
      "Numero de iterações: 281\n",
      "\n",
      "----------------------------------------------------------------------------------------------------\n",
      "\n",
      "Taxa de aprendizado: 0.001\n",
      "Ponto mínimo: [-0.00580975  1.0283763 ], ou aproximadamente [-0.00581    1.0283799]\n",
      "Custo mínimo: 2.0015804767608643, ou aproximadamente 2.001579999923706\n",
      "Numero de iterações: 1000\n",
      "\n",
      "----------------------------------------------------------------------------------------------------\n",
      "\n",
      "Taxa de aprendizado: 0.3\n",
      "Ponto mínimo: [nan nan], ou aproximadamente [nan nan]\n",
      "Custo mínimo: nan, ou aproximadamente nan\n",
      "Numero de iterações: 1000\n",
      "\n",
      "----------------------------------------------------------------------------------------------------\n",
      "\n"
     ]
    }
   ],
   "source": [
    "A = [[4, 0],\n",
    "     [1, 2]]\n",
    "b = 2.0\n",
    "c = [0, 1]\n",
    "\n",
    "f = wrapper(A, b, c)\n",
    "\n",
    "x = [3, 3]\n",
    "learning_rates = [0.1, 0.01, 0.001, 0.3]\n",
    "max_iter = 1000\n",
    "tolerance = 1e-6\n",
    "\n",
    "dict_of_results = {}\n",
    "\n",
    "for learning_rate in learning_rates:\n",
    "     x_values, costs, num_iter = gradient_descendent(x, f, learning_rate, max_iter, tolerance, 2)\n",
    "     x_values = jnp.array(x_values)\n",
    "     costs = jnp.array(costs)\n",
    "\n",
    "     dict_of_results[learning_rate] = (x_values, costs)\n",
    "\n",
    "     print(f\"Taxa de aprendizado: {learning_rate}\")\n",
    "     print(f\"Ponto mínimo: {x_values[-1]}, ou aproximadamente {jnp.round(x_values[-1], 5)}\")\n",
    "     print(f\"Custo mínimo: {costs[-1]}, ou aproximadamente {jnp.round(costs[-1], 5)}\")\n",
    "     print(f\"Numero de iterações: {num_iter}\\n\")\n",
    "     print(f\"{'-' * 100}\\n\")"
   ]
  },
  {
   "cell_type": "markdown",
   "id": "7211f75d",
   "metadata": {},
   "source": [
    "### Definir função para plotar a função de custo e o ponto mínimo encontrado"
   ]
  },
  {
   "cell_type": "code",
   "execution_count": 4,
   "id": "7e2c4327",
   "metadata": {},
   "outputs": [],
   "source": [
    "def plot_function(f, x_values, costs, title=\"Superfície da Função de Custo + Pontos Encontrados\"):\n",
    "    x1_data = jnp.linspace(-4, 4, 100)\n",
    "    x2_data = jnp.linspace(-4, 4, 100)\n",
    "    X1, X2 = jnp.meshgrid(x1_data, x2_data)\n",
    "    Y = jnp.array([[f(jnp.array([x1, x2])) for x2 in x2_data] for x1 in x1_data])\n",
    "\n",
    "\n",
    "    fig = go.Figure()\n",
    "\n",
    "    # Superfície\n",
    "    fig.add_trace(go.Surface(\n",
    "        x=X1,\n",
    "        y=X2,\n",
    "        z=Y,\n",
    "        colorscale=\"Viridis\",\n",
    "        opacity=0.8\n",
    "    ))\n",
    "\n",
    "    # Pontos encontrados\n",
    "    fig.add_trace(go.Scatter3d(\n",
    "        x=x_values[:, 0],\n",
    "        y=x_values[:, 1],\n",
    "        z=costs,\n",
    "        mode=\"markers+text\",\n",
    "        text=[f\"P{i}\" for i in range(len(x_values))],\n",
    "        textposition=\"top center\",\n",
    "        marker=dict(size=6, color=\"red\", symbol=\"circle\")\n",
    "    ))\n",
    "\n",
    "    # Layout\n",
    "    fig.update_layout(\n",
    "        scene=dict(\n",
    "            xaxis_title=\"x1\",\n",
    "            yaxis_title=\"x2\",\n",
    "            zaxis_title=\"J(x)\"\n",
    "        ),\n",
    "        title=title,\n",
    "        autosize=True,\n",
    "    )\n",
    "\n",
    "    fig.show()"
   ]
  },
  {
   "cell_type": "markdown",
   "id": "455f9752",
   "metadata": {},
   "source": [
    "### Plotar a função de custo e o ponto mínimo encontrado para diferentes taxas de aprendizado"
   ]
  },
  {
   "cell_type": "code",
   "execution_count": 5,
   "id": "d2fd3c20",
   "metadata": {},
   "outputs": [
    {
     "data": {
      "application/vnd.plotly.v1+json": {
       "config": {
        "plotlyServerURL": "https://plot.ly"
       },
       "data": [
        {
         "colorscale": [
          [
           0,
           "#440154"
          ],
          [
           0.1111111111111111,
           "#482878"
          ],
          [
           0.2222222222222222,
           "#3e4989"
          ],
          [
           0.3333333333333333,
           "#31688e"
          ],
          [
           0.4444444444444444,
           "#26828e"
          ],
          [
           0.5555555555555556,
           "#1f9e89"
          ],
          [
           0.6666666666666666,
           "#35b779"
          ],
          [
           0.7777777777777778,
           "#6ece58"
          ],
          [
           0.8888888888888888,
           "#b5de2b"
          ],
          [
           1,
           "#fde725"
          ]
         ],
         "opacity": 0.8,
         "type": "surface",
         "x": {
          "bdata": "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",
          "dtype": "f4",
          "shape": "100, 100"
         },
         "y": {
          "bdata": "AACAwAAAgMAAAIDAAACAwAAAgMAAAIDAAACAwAAAgMAAAIDAAACAwAAAgMAAAIDAAACAwAAAgMAAAIDAAACAwAAAgMAAAIDAAACAwAAAgMAAAIDAAACAwAAAgMAAAIDAAACAwAAAgMAAAIDAAACAwAAAgMAAAIDAAACAwAAAgMAAAIDAAACAwAAAgMAAAIDAAACAwAAAgMAAAIDAAACAwAAAgMAAAIDAAACAwAAAgMAAAIDAAACAwAAAgMAAAIDAAACAwAAAgMAAAIDAAACAwAAAgMAAAIDAAACAwAAAgMAAAIDAAACAwAAAgMAAAIDAAACAwAAAgMAAAIDAAACAwAAAgMAAAIDAAACAwAAAgMAAAIDAAACAwAAAgMAAAIDAAACAwAAAgMAAAIDAAACAwAAAgMAAAIDAAACAwAAAgMAAAIDAAACAwAAAgMAAAIDAAACAwAAAgMAAAIDAAACAwAAAgMAAAIDAAACAwAAAgMAAAIDAAACAwAAAgMAAAIDAAACAwAAAgMAAAIDAAACAwArUesAK1HrACtR6wArUesAK1HrACtR6wArUesAK1HrACtR6wArUesAK1HrACtR6wArUesAK1HrACtR6wArUesAK1HrACtR6wArUesAK1HrACtR6wArUesAK1HrACtR6wArUesAK1HrACtR6wArUesAK1HrACtR6wArUesAK1HrACtR6wArUesAK1HrACtR6wArUesAK1HrACtR6wArUesAK1HrACtR6wArUesAK1HrACtR6wArUesAK1HrACtR6wArUesAK1HrACtR6wArUesAK1HrACtR6wArUesAK1HrACtR6wArUesAK1HrACtR6wArUesAK1HrACtR6wArUesAK1HrACtR6wArUesAK1HrACtR6wArUesAK1HrACtR6wArUesAK1HrACtR6wArUesAK1HrACtR6wArUesAK1HrACtR6wArUesAK1HrACtR6wArUesAK1HrACtR6wArUesAK1HrACtR6wArUesAK1HrACtR6wArUesAK1HrACtR6wArUesAK1HrACtR6wArUesAUqHXAFKh1wBSodcAUqHXAFKh1wBSodcAUqHXAFKh1wBSodcAUqHXAFKh1wBSodcAUqHXAFKh1wBSodcAUqHXAFKh1wBSodcAUqHXAFKh1wBSodcAUqHXAFKh1wBSodcAUqHXAFKh1wBSodcAUqHXAFKh1wBSodcAUqHXAFKh1wBSodcAUqHXAFKh1wBSodcAUqHXAFKh1wBSodcAUqHXAFKh1wBSodcAUqHXAFKh1wBSodcAUqHXAFKh1wBSodcAUqHXAFKh1wBSodcAUqHXAFKh1wBSodcAUqHXAFKh1wBSodcAUqHXAFKh1wBSodcAUqHXAFKh1wBSodcAUqHXAFKh1wBSodcAUqHXAFKh1wBSodcAUqHXAFKh1wBSodcAUqHXAFKh1wBSodcAUqHXAFKh1wBSodcAUqHXAFKh1wBSodcAUqHXAFKh1wBSodcAUqHXAFKh1wBSodcAUqHXAFKh1wBSodcAUqHXAFKh1wBSodcAUqHXAFKh1wBSodcAUqHXAFKh1wBSodcAUqHXAIHxwwCB8cMAgfHDAIHxwwCB8cMAgfHDAIHxwwCB8cMAgfHDAIHxwwCB8cMAgfHDAIHxwwCB8cMAgfHDAIHxwwCB8cMAgfHDAIHxwwCB8cMAgfHDAIHxwwCB8cMAgfHDAIHxwwCB8cMAgfHDAIHxwwCB8cMAgfHDAIHxwwCB8cMAgfHDAIHxwwCB8cMAgfHDAIHxwwCB8cMAgfHDAIHxwwCB8cMAgfHDAIHxwwCB8cMAgfHDAIHxwwCB8cMAgfHDAIHxwwCB8cMAgfHDAIHxwwCB8cMAgfHDAIHxwwCB8cMAgfHDAIHxwwCB8cMAgfHDAIHxwwCB8cMAgfHDAIHxwwCB8cMAgfHDAIHxwwCB8cMAgfHDAIHxwwCB8cMAgfHDAIHxwwCB8cMAgfHDAIHxwwCB8cMAgfHDAIHxwwCB8cMAgfHDAIHxwwCB8cMAgfHDAIHxwwCB8cMAgfHDAIHxwwCB8cMAgfHDAIHxwwCB8cMAgfHDAIHxwwCB8cMAgfHDAIHxwwCB8cMAgfHDAIHxwwCpQa8AqUGvAKlBrwCpQa8AqUGvAKlBrwCpQa8AqUGvAKlBrwCpQa8AqUGvAKlBrwCpQa8AqUGvAKlBrwCpQa8AqUGvAKlBrwCpQa8AqUGvAKlBrwCpQa8AqUGvAKlBrwCpQa8AqUGvAKlBrwCpQa8AqUGvAKlBrwCpQa8AqUGvAKlBrwCpQa8AqUGvAKlBrwCpQa8AqUGvAKlBrwCpQa8AqUGvAKlBrwCpQa8AqUGvAKlBrwCpQa8AqUGvAKlBrwCpQa8AqUGvAKlBrwCpQa8AqUGvAKlBrwCpQa8AqUGvAKlBrwCpQa8AqUGvAKlBrwCpQa8AqUGvAKlBrwCpQa8AqUGvAKlBrwCpQa8AqUGvAKlBrwCpQa8AqUGvAKlBrwCpQa8AqUGvAKlBrwCpQa8AqUGvAKlBrwCpQa8AqUGvAKlBrwCpQa8AqUGvAKlBrwCpQa8AqUGvAKlBrwCpQa8AqUGvAKlBrwCpQa8AqUGvAKlBrwCpQa8AqUGvAKlBrwCpQa8AqUGvAKlBrwCpQa8A0JGbANCRmwDQkZsA0JGbANCRmwDQkZsA0JGbANCRmwDQkZsA0JGbANCRmwDQkZsA0JGbANCRmwDQkZsA0JGbANCRmwDQkZsA0JGbANCRmwDQkZsA0JGbANCRmwDQkZsA0JGbANCRmwDQkZsA0JGbANCRmwDQkZsA0JGbANCRmwDQkZsA0JGbANCRmwDQkZsA0JGbANCRmwDQkZsA0JGbANCRmwDQkZsA0JGbANCRmwDQkZsA0JGbANCRmwDQkZsA0JGbANCRmwDQkZsA0JGbANCRmwDQkZsA0JGbANCRmwDQkZsA0JGbANCRmwDQkZsA0JGbANCRmwDQkZsA0JGbANCRmwDQkZsA0JGbANCRmwDQkZsA0JGbANCRmwDQkZsA0JGbANCRmwDQkZsA0JGbANCRmwDQkZsA0JGbANCRmwDQkZsA0JGbANCRmwDQkZsA0JGbANCRmwDQkZsA0JGbANCRmwDQkZsA0JGbANCRmwDQkZsA0JGbANCRmwDQkZsA0JGbANCRmwDQkZsA0JGbAPvhgwD74YMA++GDAPvhgwD74YMA++GDAPvhgwD74YMA++GDAPvhgwD74YMA++GDAPvhgwD74YMA++GDAPvhgwD74YMA++GDAPvhgwD74YMA++GDAPvhgwD74YMA++GDAPvhgwD74YMA++GDAPvhgwD74YMA++GDAPvhgwD74YMA++GDAPvhgwD74YMA++GDAPvhgwD74YMA++GDAPvhgwD74YMA++GDAPvhgwD74YMA++GDAPvhgwD74YMA++GDAPvhgwD74YMA++GDAPvhgwD74YMA++GDAPvhgwD74YMA++GDAPvhgwD74YMA++GDAPvhgwD74YMA++GDAPvhgwD74YMA++GDAPvhgwD74YMA++GDAPvhgwD74YMA++GDAPvhgwD74YMA++GDAPvhgwD74YMA++GDAPvhgwD74YMA++GDAPvhgwD74YMA++GDAPvhgwD74YMA++GDAPvhgwD74YMA++GDAPvhgwD74YMA++GDAPvhgwD74YMA++GDAPvhgwD74YMA++GDAPvhgwEjMW8BIzFvASMxbwEjMW8BIzFvASMxbwEjMW8BIzFvASMxbwEjMW8BIzFvASMxbwEjMW8BIzFvASMxbwEjMW8BIzFvASMxbwEjMW8BIzFvASMxbwEjMW8BIzFvASMxbwEjMW8BIzFvASMxbwEjMW8BIzFvASMxbwEjMW8BIzFvASMxbwEjMW8BIzFvASMxbwEjMW8BIzFvASMxbwEjMW8BIzFvASMxbwEjMW8BIzFvASMxbwEjMW8BIzFvASMxbwEjMW8BIzFvASMxbwEjMW8BIzFvASMxbwEjMW8BIzFvASMxbwEjMW8BIzFvASMxbwEjMW8BIzFvASMxbwEjMW8BIzFvASMxbwEjMW8BIzFvASMxbwEjMW8BIzFvASMxbwEjMW8BIzFvASMxbwEjMW8BIzFvASMxbwEjMW8BIzFvASMxbwEjMW8BIzFvASMxbwEjMW8BIzFvASMxbwEjMW8BIzFvASMxbwEjMW8BIzFvASMxbwEjMW8BIzFvASMxbwEjMW8BIzFvASMxbwEjMW8BSoFbAUqBWwFKgVsBSoFbAUqBWwFKgVsBSoFbAUqBWwFKgVsBSoFbAUqBWwFKgVsBSoFbAUqBWwFKgVsBSoFbAUqBWwFKgVsBSoFbAUqBWwFKgVsBSoFbAUqBWwFKgVsBSoFbAUqBWwFKgVsBSoFbAUqBWwFKgVsBSoFbAUqBWwFKgVsBSoFbAUqBWwFKgVsBSoFbAUqBWwFKgVsBSoFbAUqBWwFKgVsBSoFbAUqBWwFKgVsBSoFbAUqBWwFKgVsBSoFbAUqBWwFKgVsBSoFbAUqBWwFKgVsBSoFbAUqBWwFKgVsBSoFbAUqBWwFKgVsBSoFbAUqBWwFKgVsBSoFbAUqBWwFKgVsBSoFbAUqBWwFKgVsBSoFbAUqBWwFKgVsBSoFbAUqBWwFKgVsBSoFbAUqBWwFKgVsBSoFbAUqBWwFKgVsBSoFbAUqBWwFKgVsBSoFbAUqBWwFKgVsBSoFbAUqBWwFKgVsBSoFbAUqBWwFKgVsBSoFbAUqBWwFKgVsBSoFbAUqBWwFKgVsBSoFbAXXRRwF10UcBddFHAXXRRwF10UcBddFHAXXRRwF10UcBddFHAXXRRwF10UcBddFHAXXRRwF10UcBddFHAXXRRwF10UcBddFHAXXRRwF10UcBddFHAXXRRwF10UcBddFHAXXRRwF10UcBddFHAXXRRwF10UcBddFHAXXRRwF10UcBddFHAXXRRwF10UcBddFHAXXRRwF10UcBddFHAXXRRwF10UcBddFHAXXRRwF10UcBddFHAXXRRwF10UcBddFHAXXRRwF10UcBddFHAXXRRwF10UcBddFHAXXRRwF10UcBddFHAXXRRwF10UcBddFHAXXRRwF10UcBddFHAXXRRwF10UcBddFHAXXRRwF10UcBddFHAXXRRwF10UcBddFHAXXRRwF10UcBddFHAXXRRwF10UcBddFHAXXRRwF10UcBddFHAXXRRwF10UcBddFHAXXRRwF10UcBddFHAXXRRwF10UcBddFHAXXRRwF10UcBddFHAXXRRwF10UcBddFHAXXRRwF10UcBddFHAXXRRwGhITMBoSEzAaEhMwGhITMBoSEzAaEhMwGhITMBoSEzAaEhMwGhITMBoSEzAaEhMwGhITMBoSEzAaEhMwGhITMBoSEzAaEhMwGhITMBoSEzAaEhMwGhITMBoSEzAaEhMwGhITMBoSEzAaEhMwGhITMBoSEzAaEhMwGhITMBoSEzAaEhMwGhITMBoSEzAaEhMwGhITMBoSEzAaEhMwGhITMBoSEzAaEhMwGhITMBoSEzAaEhMwGhITMBoSEzAaEhMwGhITMBoSEzAaEhMwGhITMBoSEzAaEhMwGhITMBoSEzAaEhMwGhITMBoSEzAaEhMwGhITMBoSEzAaEhMwGhITMBoSEzAaEhMwGhITMBoSEzAaEhMwGhITMBoSEzAaEhMwGhITMBoSEzAaEhMwGhITMBoSEzAaEhMwGhITMBoSEzAaEhMwGhITMBoSEzAaEhMwGhITMBoSEzAaEhMwGhITMBoSEzAaEhMwGhITMBoSEzAaEhMwGhITMBoSEzAaEhMwGhITMBoSEzAaEhMwGhITMByHEfAchxHwHIcR8ByHEfAchxHwHIcR8ByHEfAchxHwHIcR8ByHEfAchxHwHIcR8ByHEfAchxHwHIcR8ByHEfAchxHwHIcR8ByHEfAchxHwHIcR8ByHEfAchxHwHIcR8ByHEfAchxHwHIcR8ByHEfAchxHwHIcR8ByHEfAchxHwHIcR8ByHEfAchxHwHIcR8ByHEfAchxHwHIcR8ByHEfAchxHwHIcR8ByHEfAchxHwHIcR8ByHEfAchxHwHIcR8ByHEfAchxHwHIcR8ByHEfAchxHwHIcR8ByHEfAchxHwHIcR8ByHEfAchxHwHIcR8ByHEfAchxHwHIcR8ByHEfAchxHwHIcR8ByHEfAchxHwHIcR8ByHEfAchxHwHIcR8ByHEfAchxHwHIcR8ByHEfAchxHwHIcR8ByHEfAchxHwHIcR8ByHEfAchxHwHIcR8ByHEfAchxHwHIcR8ByHEfAchxHwHIcR8ByHEfAchxHwHIcR8ByHEfAchxHwHIcR8ByHEfAchxHwHIcR8ByHEfAfPBBwHzwQcB88EHAfPBBwHzwQcB88EHAfPBBwHzwQcB88EHAfPBBwHzwQcB88EHAfPBBwHzwQcB88EHAfPBBwHzwQcB88EHAfPBBwHzwQcB88EHAfPBBwHzwQcB88EHAfPBBwHzwQcB88EHAfPBBwHzwQcB88EHAfPBBwHzwQcB88EHAfPBBwHzwQcB88EHAfPBBwHzwQcB88EHAfPBBwHzwQcB88EHAfPBBwHzwQcB88EHAfPBBwHzwQcB88EHAfPBBwHzwQcB88EHAfPBBwHzwQcB88EHAfPBBwHzwQcB88EHAfPBBwHzwQcB88EHAfPBBwHzwQcB88EHAfPBBwHzwQcB88EHAfPBBwHzwQcB88EHAfPBBwHzwQcB88EHAfPBBwHzwQcB88EHAfPBBwHzwQcB88EHAfPBBwHzwQcB88EHAfPBBwHzwQcB88EHAfPBBwHzwQcB88EHAfPBBwHzwQcB88EHAfPBBwHzwQcB88EHAfPBBwHzwQcB88EHAfPBBwHzwQcB88EHAfPBBwIbEPMCGxDzAhsQ8wIbEPMCGxDzAhsQ8wIbEPMCGxDzAhsQ8wIbEPMCGxDzAhsQ8wIbEPMCGxDzAhsQ8wIbEPMCGxDzAhsQ8wIbEPMCGxDzAhsQ8wIbEPMCGxDzAhsQ8wIbEPMCGxDzAhsQ8wIbEPMCGxDzAhsQ8wIbEPMCGxDzAhsQ8wIbEPMCGxDzAhsQ8wIbEPMCGxDzAhsQ8wIbEPMCGxDzAhsQ8wIbEPMCGxDzAhsQ8wIbEPMCGxDzAhsQ8wIbEPMCGxDzAhsQ8wIbEPMCGxDzAhsQ8wIbEPMCGxDzAhsQ8wIbEPMCGxDzAhsQ8wIbEPMCGxDzAhsQ8wIbEPMCGxDzAhsQ8wIbEPMCGxDzAhsQ8wIbEPMCGxDzAhsQ8wIbEPMCGxDzAhsQ8wIbEPMCGxDzAhsQ8wIbEPMCGxDzAhsQ8wIbEPMCGxDzAhsQ8wIbEPMCGxDzAhsQ8wIbEPMCGxDzAhsQ8wIbEPMCGxDzAhsQ8wIbEPMCGxDzAhsQ8wIbEPMCGxDzAhsQ8wIbEPMCQmDfAkJg3wJCYN8CQmDfAkJg3wJCYN8CQmDfAkJg3wJCYN8CQmDfAkJg3wJCYN8CQmDfAkJg3wJCYN8CQmDfAkJg3wJCYN8CQmDfAkJg3wJCYN8CQmDfAkJg3wJCYN8CQmDfAkJg3wJCYN8CQmDfAkJg3wJCYN8CQmDfAkJg3wJCYN8CQmDfAkJg3wJCYN8CQmDfAkJg3wJCYN8CQmDfAkJg3wJCYN8CQmDfAkJg3wJCYN8CQmDfAkJg3wJCYN8CQmDfAkJg3wJCYN8CQmDfAkJg3wJCYN8CQmDfAkJg3wJCYN8CQmDfAkJg3wJCYN8CQmDfAkJg3wJCYN8CQmDfAkJg3wJCYN8CQmDfAkJg3wJCYN8CQmDfAkJg3wJCYN8CQmDfAkJg3wJCYN8CQmDfAkJg3wJCYN8CQmDfAkJg3wJCYN8CQmDfAkJg3wJCYN8CQmDfAkJg3wJCYN8CQmDfAkJg3wJCYN8CQmDfAkJg3wJCYN8CQmDfAkJg3wJCYN8CQmDfAkJg3wJCYN8CQmDfAnGwywJxsMsCcbDLAnGwywJxsMsCcbDLAnGwywJxsMsCcbDLAnGwywJxsMsCcbDLAnGwywJxsMsCcbDLAnGwywJxsMsCcbDLAnGwywJxsMsCcbDLAnGwywJxsMsCcbDLAnGwywJxsMsCcbDLAnGwywJxsMsCcbDLAnGwywJxsMsCcbDLAnGwywJxsMsCcbDLAnGwywJxsMsCcbDLAnGwywJxsMsCcbDLAnGwywJxsMsCcbDLAnGwywJxsMsCcbDLAnGwywJxsMsCcbDLAnGwywJxsMsCcbDLAnGwywJxsMsCcbDLAnGwywJxsMsCcbDLAnGwywJxsMsCcbDLAnGwywJxsMsCcbDLAnGwywJxsMsCcbDLAnGwywJxsMsCcbDLAnGwywJxsMsCcbDLAnGwywJxsMsCcbDLAnGwywJxsMsCcbDLAnGwywJxsMsCcbDLAnGwywJxsMsCcbDLAnGwywJxsMsCcbDLAnGwywJxsMsCcbDLAnGwywJxsMsCcbDLAnGwywJxsMsCcbDLAnGwywKZALcCmQC3ApkAtwKZALcCmQC3ApkAtwKZALcCmQC3ApkAtwKZALcCmQC3ApkAtwKZALcCmQC3ApkAtwKZALcCmQC3ApkAtwKZALcCmQC3ApkAtwKZALcCmQC3ApkAtwKZALcCmQC3ApkAtwKZALcCmQC3ApkAtwKZALcCmQC3ApkAtwKZALcCmQC3ApkAtwKZALcCmQC3ApkAtwKZALcCmQC3ApkAtwKZALcCmQC3ApkAtwKZALcCmQC3ApkAtwKZALcCmQC3ApkAtwKZALcCmQC3ApkAtwKZALcCmQC3ApkAtwKZALcCmQC3ApkAtwKZALcCmQC3ApkAtwKZALcCmQC3ApkAtwKZALcCmQC3ApkAtwKZALcCmQC3ApkAtwKZALcCmQC3ApkAtwKZALcCmQC3ApkAtwKZALcCmQC3ApkAtwKZALcCmQC3ApkAtwKZALcCmQC3ApkAtwKZALcCmQC3ApkAtwKZALcCmQC3ApkAtwKZALcCmQC3ApkAtwKZALcCmQC3ApkAtwKZALcCwFCjAsBQowLAUKMCwFCjAsBQowLAUKMCwFCjAsBQowLAUKMCwFCjAsBQowLAUKMCwFCjAsBQowLAUKMCwFCjAsBQowLAUKMCwFCjAsBQowLAUKMCwFCjAsBQowLAUKMCwFCjAsBQowLAUKMCwFCjAsBQowLAUKMCwFCjAsBQowLAUKMCwFCjAsBQowLAUKMCwFCjAsBQowLAUKMCwFCjAsBQowLAUKMCwFCjAsBQowLAUKMCwFCjAsBQowLAUKMCwFCjAsBQowLAUKMCwFCjAsBQowLAUKMCwFCjAsBQowLAUKMCwFCjAsBQowLAUKMCwFCjAsBQowLAUKMCwFCjAsBQowLAUKMCwFCjAsBQowLAUKMCwFCjAsBQowLAUKMCwFCjAsBQowLAUKMCwFCjAsBQowLAUKMCwFCjAsBQowLAUKMCwFCjAsBQowLAUKMCwFCjAsBQowLAUKMCwFCjAsBQowLAUKMCwFCjAsBQowLAUKMCwFCjAsBQowLAUKMCwFCjAsBQowLAUKMCwFCjAuugiwLroIsC66CLAuugiwLroIsC66CLAuugiwLroIsC66CLAuugiwLroIsC66CLAuugiwLroIsC66CLAuugiwLroIsC66CLAuugiwLroIsC66CLAuugiwLroIsC66CLAuugiwLroIsC66CLAuugiwLroIsC66CLAuugiwLroIsC66CLAuugiwLroIsC66CLAuugiwLroIsC66CLAuugiwLroIsC66CLAuugiwLroIsC66CLAuugiwLroIsC66CLAuugiwLroIsC66CLAuugiwLroIsC66CLAuugiwLroIsC66CLAuugiwLroIsC66CLAuugiwLroIsC66CLAuugiwLroIsC66CLAuugiwLroIsC66CLAuugiwLroIsC66CLAuugiwLroIsC66CLAuugiwLroIsC66CLAuugiwLroIsC66CLAuugiwLroIsC66CLAuugiwLroIsC66CLAuugiwLroIsC66CLAuugiwLroIsC66CLAuugiwLroIsC66CLAuugiwLroIsC66CLAuugiwMS8HcDEvB3AxLwdwMS8HcDEvB3AxLwdwMS8HcDEvB3AxLwdwMS8HcDEvB3AxLwdwMS8HcDEvB3AxLwdwMS8HcDEvB3AxLwdwMS8HcDEvB3AxLwdwMS8HcDEvB3AxLwdwMS8HcDEvB3AxLwdwMS8HcDEvB3AxLwdwMS8HcDEvB3AxLwdwMS8HcDEvB3AxLwdwMS8HcDEvB3AxLwdwMS8HcDEvB3AxLwdwMS8HcDEvB3AxLwdwMS8HcDEvB3AxLwdwMS8HcDEvB3AxLwdwMS8HcDEvB3AxLwdwMS8HcDEvB3AxLwdwMS8HcDEvB3AxLwdwMS8HcDEvB3AxLwdwMS8HcDEvB3AxLwdwMS8HcDEvB3AxLwdwMS8HcDEvB3AxLwdwMS8HcDEvB3AxLwdwMS8HcDEvB3AxLwdwMS8HcDEvB3AxLwdwMS8HcDEvB3AxLwdwMS8HcDEvB3AxLwdwMS8HcDEvB3AxLwdwMS8HcDEvB3AxLwdwMS8HcDEvB3AxLwdwMS8HcDEvB3AxLwdwMS8HcDPkBjAz5AYwM+QGMDPkBjAz5AYwM+QGMDPkBjAz5AYwM+QGMDPkBjAz5AYwM+QGMDPkBjAz5AYwM+QGMDPkBjAz5AYwM+QGMDPkBjAz5AYwM+QGMDPkBjAz5AYwM+QGMDPkBjAz5AYwM+QGMDPkBjAz5AYwM+QGMDPkBjAz5AYwM+QGMDPkBjAz5AYwM+QGMDPkBjAz5AYwM+QGMDPkBjAz5AYwM+QGMDPkBjAz5AYwM+QGMDPkBjAz5AYwM+QGMDPkBjAz5AYwM+QGMDPkBjAz5AYwM+QGMDPkBjAz5AYwM+QGMDPkBjAz5AYwM+QGMDPkBjAz5AYwM+QGMDPkBjAz5AYwM+QGMDPkBjAz5AYwM+QGMDPkBjAz5AYwM+QGMDPkBjAz5AYwM+QGMDPkBjAz5AYwM+QGMDPkBjAz5AYwM+QGMDPkBjAz5AYwM+QGMDPkBjAz5AYwM+QGMDPkBjAz5AYwM+QGMDPkBjAz5AYwM+QGMDPkBjAz5AYwM+QGMDPkBjAz5AYwM+QGMDPkBjA2WQTwNlkE8DZZBPA2WQTwNlkE8DZZBPA2WQTwNlkE8DZZBPA2WQTwNlkE8DZZBPA2WQTwNlkE8DZZBPA2WQTwNlkE8DZZBPA2WQTwNlkE8DZZBPA2WQTwNlkE8DZZBPA2WQTwNlkE8DZZBPA2WQTwNlkE8DZZBPA2WQTwNlkE8DZZBPA2WQTwNlkE8DZZBPA2WQTwNlkE8DZZBPA2WQTwNlkE8DZZBPA2WQTwNlkE8DZZBPA2WQTwNlkE8DZZBPA2WQTwNlkE8DZZBPA2WQTwNlkE8DZZBPA2WQTwNlkE8DZZBPA2WQTwNlkE8DZZBPA2WQTwNlkE8DZZBPA2WQTwNlkE8DZZBPA2WQTwNlkE8DZZBPA2WQTwNlkE8DZZBPA2WQTwNlkE8DZZBPA2WQTwNlkE8DZZBPA2WQTwNlkE8DZZBPA2WQTwNlkE8DZZBPA2WQTwNlkE8DZZBPA2WQTwNlkE8DZZBPA2WQTwNlkE8DZZBPA2WQTwNlkE8DZZBPA2WQTwNlkE8DZZBPA2WQTwOQ4DsDkOA7A5DgOwOQ4DsDkOA7A5DgOwOQ4DsDkOA7A5DgOwOQ4DsDkOA7A5DgOwOQ4DsDkOA7A5DgOwOQ4DsDkOA7A5DgOwOQ4DsDkOA7A5DgOwOQ4DsDkOA7A5DgOwOQ4DsDkOA7A5DgOwOQ4DsDkOA7A5DgOwOQ4DsDkOA7A5DgOwOQ4DsDkOA7A5DgOwOQ4DsDkOA7A5DgOwOQ4DsDkOA7A5DgOwOQ4DsDkOA7A5DgOwOQ4DsDkOA7A5DgOwOQ4DsDkOA7A5DgOwOQ4DsDkOA7A5DgOwOQ4DsDkOA7A5DgOwOQ4DsDkOA7A5DgOwOQ4DsDkOA7A5DgOwOQ4DsDkOA7A5DgOwOQ4DsDkOA7A5DgOwOQ4DsDkOA7A5DgOwOQ4DsDkOA7A5DgOwOQ4DsDkOA7A5DgOwOQ4DsDkOA7A5DgOwOQ4DsDkOA7A5DgOwOQ4DsDkOA7A5DgOwOQ4DsDkOA7A5DgOwOQ4DsDkOA7A5DgOwOQ4DsDkOA7A5DgOwOQ4DsDkOA7A5DgOwOQ4DsDuDAnA7gwJwO4MCcDuDAnA7gwJwO4MCcDuDAnA7gwJwO4MCcDuDAnA7gwJwO4MCcDuDAnA7gwJwO4MCcDuDAnA7gwJwO4MCcDuDAnA7gwJwO4MCcDuDAnA7gwJwO4MCcDuDAnA7gwJwO4MCcDuDAnA7gwJwO4MCcDuDAnA7gwJwO4MCcDuDAnA7gwJwO4MCcDuDAnA7gwJwO4MCcDuDAnA7gwJwO4MCcDuDAnA7gwJwO4MCcDuDAnA7gwJwO4MCcDuDAnA7gwJwO4MCcDuDAnA7gwJwO4MCcDuDAnA7gwJwO4MCcDuDAnA7gwJwO4MCcDuDAnA7gwJwO4MCcDuDAnA7gwJwO4MCcDuDAnA7gwJwO4MCcDuDAnA7gwJwO4MCcDuDAnA7gwJwO4MCcDuDAnA7gwJwO4MCcDuDAnA7gwJwO4MCcDuDAnA7gwJwO4MCcDuDAnA7gwJwO4MCcDuDAnA7gwJwO4MCcDuDAnA7gwJwO4MCcDuDAnA7gwJwO4MCcDuDAnA7gwJwO4MCcDuDAnA+OADwPjgA8D44APA+OADwPjgA8D44APA+OADwPjgA8D44APA+OADwPjgA8D44APA+OADwPjgA8D44APA+OADwPjgA8D44APA+OADwPjgA8D44APA+OADwPjgA8D44APA+OADwPjgA8D44APA+OADwPjgA8D44APA+OADwPjgA8D44APA+OADwPjgA8D44APA+OADwPjgA8D44APA+OADwPjgA8D44APA+OADwPjgA8D44APA+OADwPjgA8D44APA+OADwPjgA8D44APA+OADwPjgA8D44APA+OADwPjgA8D44APA+OADwPjgA8D44APA+OADwPjgA8D44APA+OADwPjgA8D44APA+OADwPjgA8D44APA+OADwPjgA8D44APA+OADwPjgA8D44APA+OADwPjgA8D44APA+OADwPjgA8D44APA+OADwPjgA8D44APA+OADwPjgA8D44APA+OADwPjgA8D44APA+OADwPjgA8D44APA+OADwPjgA8D44APA+OADwPjgA8D44APA+OADwAdq/b8Hav2/B2r9vwdq/b8Hav2/B2r9vwdq/b8Hav2/B2r9vwdq/b8Hav2/B2r9vwdq/b8Hav2/B2r9vwdq/b8Hav2/B2r9vwdq/b8Hav2/B2r9vwdq/b8Hav2/B2r9vwdq/b8Hav2/B2r9vwdq/b8Hav2/B2r9vwdq/b8Hav2/B2r9vwdq/b8Hav2/B2r9vwdq/b8Hav2/B2r9vwdq/b8Hav2/B2r9vwdq/b8Hav2/B2r9vwdq/b8Hav2/B2r9vwdq/b8Hav2/B2r9vwdq/b8Hav2/B2r9vwdq/b8Hav2/B2r9vwdq/b8Hav2/B2r9vwdq/b8Hav2/B2r9vwdq/b8Hav2/B2r9vwdq/b8Hav2/B2r9vwdq/b8Hav2/B2r9vwdq/b8Hav2/B2r9vwdq/b8Hav2/B2r9vwdq/b8Hav2/B2r9vwdq/b8Hav2/B2r9vwdq/b8Hav2/B2r9vwdq/b8Hav2/B2r9vwdq/b8Hav2/B2r9vwdq/b8Hav2/B2r9vwdq/b8Hav2/B2r9vwdq/b8ZEvO/GRLzvxkS878ZEvO/GRLzvxkS878ZEvO/GRLzvxkS878ZEvO/GRLzvxkS878ZEvO/GRLzvxkS878ZEvO/GRLzvxkS878ZEvO/GRLzvxkS878ZEvO/GRLzvxkS878ZEvO/GRLzvxkS878ZEvO/GRLzvxkS878ZEvO/GRLzvxkS878ZEvO/GRLzvxkS878ZEvO/GRLzvxkS878ZEvO/GRLzvxkS878ZEvO/GRLzvxkS878ZEvO/GRLzvxkS878ZEvO/GRLzvxkS878ZEvO/GRLzvxkS878ZEvO/GRLzvxkS878ZEvO/GRLzvxkS878ZEvO/GRLzvxkS878ZEvO/GRLzvxkS878ZEvO/GRLzvxkS878ZEvO/GRLzvxkS878ZEvO/GRLzvxkS878ZEvO/GRLzvxkS878ZEvO/GRLzvxkS878ZEvO/GRLzvxkS878ZEvO/GRLzvxkS878ZEvO/GRLzvxkS878ZEvO/GRLzvxkS878ZEvO/GRLzvxkS878ZEvO/GRLzvxkS878ZEvO/L7rovy+66L8vuui/L7rovy+66L8vuui/L7rovy+66L8vuui/L7rovy+66L8vuui/L7rovy+66L8vuui/L7rovy+66L8vuui/L7rovy+66L8vuui/L7rovy+66L8vuui/L7rovy+66L8vuui/L7rovy+66L8vuui/L7rovy+66L8vuui/L7rovy+66L8vuui/L7rovy+66L8vuui/L7rovy+66L8vuui/L7rovy+66L8vuui/L7rovy+66L8vuui/L7rovy+66L8vuui/L7rovy+66L8vuui/L7rovy+66L8vuui/L7rovy+66L8vuui/L7rovy+66L8vuui/L7rovy+66L8vuui/L7rovy+66L8vuui/L7rovy+66L8vuui/L7rovy+66L8vuui/L7rovy+66L8vuui/L7rovy+66L8vuui/L7rovy+66L8vuui/L7rovy+66L8vuui/L7rovy+66L8vuui/L7rovy+66L8vuui/L7rovy+66L8vuui/L7rovy+66L8vuui/L7rov0Ri3r9EYt6/RGLev0Ri3r9EYt6/RGLev0Ri3r9EYt6/RGLev0Ri3r9EYt6/RGLev0Ri3r9EYt6/RGLev0Ri3r9EYt6/RGLev0Ri3r9EYt6/RGLev0Ri3r9EYt6/RGLev0Ri3r9EYt6/RGLev0Ri3r9EYt6/RGLev0Ri3r9EYt6/RGLev0Ri3r9EYt6/RGLev0Ri3r9EYt6/RGLev0Ri3r9EYt6/RGLev0Ri3r9EYt6/RGLev0Ri3r9EYt6/RGLev0Ri3r9EYt6/RGLev0Ri3r9EYt6/RGLev0Ri3r9EYt6/RGLev0Ri3r9EYt6/RGLev0Ri3r9EYt6/RGLev0Ri3r9EYt6/RGLev0Ri3r9EYt6/RGLev0Ri3r9EYt6/RGLev0Ri3r9EYt6/RGLev0Ri3r9EYt6/RGLev0Ri3r9EYt6/RGLev0Ri3r9EYt6/RGLev0Ri3r9EYt6/RGLev0Ri3r9EYt6/RGLev0Ri3r9EYt6/RGLev0Ri3r9EYt6/RGLev0Ri3r9EYt6/RGLev0Ri3r9YCtS/WArUv1gK1L9YCtS/WArUv1gK1L9YCtS/WArUv1gK1L9YCtS/WArUv1gK1L9YCtS/WArUv1gK1L9YCtS/WArUv1gK1L9YCtS/WArUv1gK1L9YCtS/WArUv1gK1L9YCtS/WArUv1gK1L9YCtS/WArUv1gK1L9YCtS/WArUv1gK1L9YCtS/WArUv1gK1L9YCtS/WArUv1gK1L9YCtS/WArUv1gK1L9YCtS/WArUv1gK1L9YCtS/WArUv1gK1L9YCtS/WArUv1gK1L9YCtS/WArUv1gK1L9YCtS/WArUv1gK1L9YCtS/WArUv1gK1L9YCtS/WArUv1gK1L9YCtS/WArUv1gK1L9YCtS/WArUv1gK1L9YCtS/WArUv1gK1L9YCtS/WArUv1gK1L9YCtS/WArUv1gK1L9YCtS/WArUv1gK1L9YCtS/WArUv1gK1L9YCtS/WArUv1gK1L9YCtS/WArUv1gK1L9YCtS/WArUv1gK1L9YCtS/WArUv1gK1L9YCtS/WArUv1gK1L9YCtS/bLLJv2yyyb9sssm/bLLJv2yyyb9sssm/bLLJv2yyyb9sssm/bLLJv2yyyb9sssm/bLLJv2yyyb9sssm/bLLJv2yyyb9sssm/bLLJv2yyyb9sssm/bLLJv2yyyb9sssm/bLLJv2yyyb9sssm/bLLJv2yyyb9sssm/bLLJv2yyyb9sssm/bLLJv2yyyb9sssm/bLLJv2yyyb9sssm/bLLJv2yyyb9sssm/bLLJv2yyyb9sssm/bLLJv2yyyb9sssm/bLLJv2yyyb9sssm/bLLJv2yyyb9sssm/bLLJv2yyyb9sssm/bLLJv2yyyb9sssm/bLLJv2yyyb9sssm/bLLJv2yyyb9sssm/bLLJv2yyyb9sssm/bLLJv2yyyb9sssm/bLLJv2yyyb9sssm/bLLJv2yyyb9sssm/bLLJv2yyyb9sssm/bLLJv2yyyb9sssm/bLLJv2yyyb9sssm/bLLJv2yyyb9sssm/bLLJv2yyyb9sssm/bLLJv2yyyb9sssm/bLLJv2yyyb9sssm/bLLJv4Fav7+BWr+/gVq/v4Fav7+BWr+/gVq/v4Fav7+BWr+/gVq/v4Fav7+BWr+/gVq/v4Fav7+BWr+/gVq/v4Fav7+BWr+/gVq/v4Fav7+BWr+/gVq/v4Fav7+BWr+/gVq/v4Fav7+BWr+/gVq/v4Fav7+BWr+/gVq/v4Fav7+BWr+/gVq/v4Fav7+BWr+/gVq/v4Fav7+BWr+/gVq/v4Fav7+BWr+/gVq/v4Fav7+BWr+/gVq/v4Fav7+BWr+/gVq/v4Fav7+BWr+/gVq/v4Fav7+BWr+/gVq/v4Fav7+BWr+/gVq/v4Fav7+BWr+/gVq/v4Fav7+BWr+/gVq/v4Fav7+BWr+/gVq/v4Fav7+BWr+/gVq/v4Fav7+BWr+/gVq/v4Fav7+BWr+/gVq/v4Fav7+BWr+/gVq/v4Fav7+BWr+/gVq/v4Fav7+BWr+/gVq/v4Fav7+BWr+/gVq/v4Fav7+BWr+/gVq/v4Fav7+BWr+/gVq/v4Fav7+BWr+/gVq/v4Fav7+BWr+/gVq/v4Fav7+XArW/lwK1v5cCtb+XArW/lwK1v5cCtb+XArW/lwK1v5cCtb+XArW/lwK1v5cCtb+XArW/lwK1v5cCtb+XArW/lwK1v5cCtb+XArW/lwK1v5cCtb+XArW/lwK1v5cCtb+XArW/lwK1v5cCtb+XArW/lwK1v5cCtb+XArW/lwK1v5cCtb+XArW/lwK1v5cCtb+XArW/lwK1v5cCtb+XArW/lwK1v5cCtb+XArW/lwK1v5cCtb+XArW/lwK1v5cCtb+XArW/lwK1v5cCtb+XArW/lwK1v5cCtb+XArW/lwK1v5cCtb+XArW/lwK1v5cCtb+XArW/lwK1v5cCtb+XArW/lwK1v5cCtb+XArW/lwK1v5cCtb+XArW/lwK1v5cCtb+XArW/lwK1v5cCtb+XArW/lwK1v5cCtb+XArW/lwK1v5cCtb+XArW/lwK1v5cCtb+XArW/lwK1v5cCtb+XArW/lwK1v5cCtb+XArW/lwK1v5cCtb+XArW/lwK1v5cCtb+XArW/lwK1v5cCtb+XArW/qaqqv6mqqr+pqqq/qaqqv6mqqr+pqqq/qaqqv6mqqr+pqqq/qaqqv6mqqr+pqqq/qaqqv6mqqr+pqqq/qaqqv6mqqr+pqqq/qaqqv6mqqr+pqqq/qaqqv6mqqr+pqqq/qaqqv6mqqr+pqqq/qaqqv6mqqr+pqqq/qaqqv6mqqr+pqqq/qaqqv6mqqr+pqqq/qaqqv6mqqr+pqqq/qaqqv6mqqr+pqqq/qaqqv6mqqr+pqqq/qaqqv6mqqr+pqqq/qaqqv6mqqr+pqqq/qaqqv6mqqr+pqqq/qaqqv6mqqr+pqqq/qaqqv6mqqr+pqqq/qaqqv6mqqr+pqqq/qaqqv6mqqr+pqqq/qaqqv6mqqr+pqqq/qaqqv6mqqr+pqqq/qaqqv6mqqr+pqqq/qaqqv6mqqr+pqqq/qaqqv6mqqr+pqqq/qaqqv6mqqr+pqqq/qaqqv6mqqr+pqqq/qaqqv6mqqr+pqqq/qaqqv6mqqr+pqqq/qaqqv6mqqr+pqqq/qaqqv6mqqr+pqqq/qaqqv8BSoL/AUqC/wFKgv8BSoL/AUqC/wFKgv8BSoL/AUqC/wFKgv8BSoL/AUqC/wFKgv8BSoL/AUqC/wFKgv8BSoL/AUqC/wFKgv8BSoL/AUqC/wFKgv8BSoL/AUqC/wFKgv8BSoL/AUqC/wFKgv8BSoL/AUqC/wFKgv8BSoL/AUqC/wFKgv8BSoL/AUqC/wFKgv8BSoL/AUqC/wFKgv8BSoL/AUqC/wFKgv8BSoL/AUqC/wFKgv8BSoL/AUqC/wFKgv8BSoL/AUqC/wFKgv8BSoL/AUqC/wFKgv8BSoL/AUqC/wFKgv8BSoL/AUqC/wFKgv8BSoL/AUqC/wFKgv8BSoL/AUqC/wFKgv8BSoL/AUqC/wFKgv8BSoL/AUqC/wFKgv8BSoL/AUqC/wFKgv8BSoL/AUqC/wFKgv8BSoL/AUqC/wFKgv8BSoL/AUqC/wFKgv8BSoL/AUqC/wFKgv8BSoL/AUqC/wFKgv8BSoL/AUqC/wFKgv8BSoL/AUqC/wFKgv8BSoL/AUqC/wFKgv8BSoL/U+pW/1PqVv9T6lb/U+pW/1PqVv9T6lb/U+pW/1PqVv9T6lb/U+pW/1PqVv9T6lb/U+pW/1PqVv9T6lb/U+pW/1PqVv9T6lb/U+pW/1PqVv9T6lb/U+pW/1PqVv9T6lb/U+pW/1PqVv9T6lb/U+pW/1PqVv9T6lb/U+pW/1PqVv9T6lb/U+pW/1PqVv9T6lb/U+pW/1PqVv9T6lb/U+pW/1PqVv9T6lb/U+pW/1PqVv9T6lb/U+pW/1PqVv9T6lb/U+pW/1PqVv9T6lb/U+pW/1PqVv9T6lb/U+pW/1PqVv9T6lb/U+pW/1PqVv9T6lb/U+pW/1PqVv9T6lb/U+pW/1PqVv9T6lb/U+pW/1PqVv9T6lb/U+pW/1PqVv9T6lb/U+pW/1PqVv9T6lb/U+pW/1PqVv9T6lb/U+pW/1PqVv9T6lb/U+pW/1PqVv9T6lb/U+pW/1PqVv9T6lb/U+pW/1PqVv9T6lb/U+pW/1PqVv9T6lb/U+pW/1PqVv9T6lb/U+pW/1PqVv9T6lb/U+pW/6KKLv+iii7/ooou/6KKLv+iii7/ooou/6KKLv+iii7/ooou/6KKLv+iii7/ooou/6KKLv+iii7/ooou/6KKLv+iii7/ooou/6KKLv+iii7/ooou/6KKLv+iii7/ooou/6KKLv+iii7/ooou/6KKLv+iii7/ooou/6KKLv+iii7/ooou/6KKLv+iii7/ooou/6KKLv+iii7/ooou/6KKLv+iii7/ooou/6KKLv+iii7/ooou/6KKLv+iii7/ooou/6KKLv+iii7/ooou/6KKLv+iii7/ooou/6KKLv+iii7/ooou/6KKLv+iii7/ooou/6KKLv+iii7/ooou/6KKLv+iii7/ooou/6KKLv+iii7/ooou/6KKLv+iii7/ooou/6KKLv+iii7/ooou/6KKLv+iii7/ooou/6KKLv+iii7/ooou/6KKLv+iii7/ooou/6KKLv+iii7/ooou/6KKLv+iii7/ooou/6KKLv+iii7/ooou/6KKLv+iii7/ooou/6KKLv+iii7/ooou/6KKLv/9Kgb//SoG//0qBv/9Kgb//SoG//0qBv/9Kgb//SoG//0qBv/9Kgb//SoG//0qBv/9Kgb//SoG//0qBv/9Kgb//SoG//0qBv/9Kgb//SoG//0qBv/9Kgb//SoG//0qBv/9Kgb//SoG//0qBv/9Kgb//SoG//0qBv/9Kgb//SoG//0qBv/9Kgb//SoG//0qBv/9Kgb//SoG//0qBv/9Kgb//SoG//0qBv/9Kgb//SoG//0qBv/9Kgb//SoG//0qBv/9Kgb//SoG//0qBv/9Kgb//SoG//0qBv/9Kgb//SoG//0qBv/9Kgb//SoG//0qBv/9Kgb//SoG//0qBv/9Kgb//SoG//0qBv/9Kgb//SoG//0qBv/9Kgb//SoG//0qBv/9Kgb//SoG//0qBv/9Kgb//SoG//0qBv/9Kgb//SoG//0qBv/9Kgb//SoG//0qBv/9Kgb//SoG//0qBv/9Kgb//SoG//0qBv/9Kgb//SoG//0qBv/9Kgb//SoG//0qBv/9Kgb//SoG//0qBv/9Kgb8i5m2/IuZtvyLmbb8i5m2/IuZtvyLmbb8i5m2/IuZtvyLmbb8i5m2/IuZtvyLmbb8i5m2/IuZtvyLmbb8i5m2/IuZtvyLmbb8i5m2/IuZtvyLmbb8i5m2/IuZtvyLmbb8i5m2/IuZtvyLmbb8i5m2/IuZtvyLmbb8i5m2/IuZtvyLmbb8i5m2/IuZtvyLmbb8i5m2/IuZtvyLmbb8i5m2/IuZtvyLmbb8i5m2/IuZtvyLmbb8i5m2/IuZtvyLmbb8i5m2/IuZtvyLmbb8i5m2/IuZtvyLmbb8i5m2/IuZtvyLmbb8i5m2/IuZtvyLmbb8i5m2/IuZtvyLmbb8i5m2/IuZtvyLmbb8i5m2/IuZtvyLmbb8i5m2/IuZtvyLmbb8i5m2/IuZtvyLmbb8i5m2/IuZtvyLmbb8i5m2/IuZtvyLmbb8i5m2/IuZtvyLmbb8i5m2/IuZtvyLmbb8i5m2/IuZtvyLmbb8i5m2/IuZtvyLmbb8i5m2/IuZtvyLmbb8i5m2/IuZtvyLmbb8i5m2/TzZZv082Wb9PNlm/TzZZv082Wb9PNlm/TzZZv082Wb9PNlm/TzZZv082Wb9PNlm/TzZZv082Wb9PNlm/TzZZv082Wb9PNlm/TzZZv082Wb9PNlm/TzZZv082Wb9PNlm/TzZZv082Wb9PNlm/TzZZv082Wb9PNlm/TzZZv082Wb9PNlm/TzZZv082Wb9PNlm/TzZZv082Wb9PNlm/TzZZv082Wb9PNlm/TzZZv082Wb9PNlm/TzZZv082Wb9PNlm/TzZZv082Wb9PNlm/TzZZv082Wb9PNlm/TzZZv082Wb9PNlm/TzZZv082Wb9PNlm/TzZZv082Wb9PNlm/TzZZv082Wb9PNlm/TzZZv082Wb9PNlm/TzZZv082Wb9PNlm/TzZZv082Wb9PNlm/TzZZv082Wb9PNlm/TzZZv082Wb9PNlm/TzZZv082Wb9PNlm/TzZZv082Wb9PNlm/TzZZv082Wb9PNlm/TzZZv082Wb9PNlm/TzZZv082Wb9PNlm/TzZZv082Wb9PNlm/TzZZv3iGRL94hkS/eIZEv3iGRL94hkS/eIZEv3iGRL94hkS/eIZEv3iGRL94hkS/eIZEv3iGRL94hkS/eIZEv3iGRL94hkS/eIZEv3iGRL94hkS/eIZEv3iGRL94hkS/eIZEv3iGRL94hkS/eIZEv3iGRL94hkS/eIZEv3iGRL94hkS/eIZEv3iGRL94hkS/eIZEv3iGRL94hkS/eIZEv3iGRL94hkS/eIZEv3iGRL94hkS/eIZEv3iGRL94hkS/eIZEv3iGRL94hkS/eIZEv3iGRL94hkS/eIZEv3iGRL94hkS/eIZEv3iGRL94hkS/eIZEv3iGRL94hkS/eIZEv3iGRL94hkS/eIZEv3iGRL94hkS/eIZEv3iGRL94hkS/eIZEv3iGRL94hkS/eIZEv3iGRL94hkS/eIZEv3iGRL94hkS/eIZEv3iGRL94hkS/eIZEv3iGRL94hkS/eIZEv3iGRL94hkS/eIZEv3iGRL94hkS/eIZEv3iGRL94hkS/eIZEv3iGRL94hkS/eIZEv3iGRL+g1i+/oNYvv6DWL7+g1i+/oNYvv6DWL7+g1i+/oNYvv6DWL7+g1i+/oNYvv6DWL7+g1i+/oNYvv6DWL7+g1i+/oNYvv6DWL7+g1i+/oNYvv6DWL7+g1i+/oNYvv6DWL7+g1i+/oNYvv6DWL7+g1i+/oNYvv6DWL7+g1i+/oNYvv6DWL7+g1i+/oNYvv6DWL7+g1i+/oNYvv6DWL7+g1i+/oNYvv6DWL7+g1i+/oNYvv6DWL7+g1i+/oNYvv6DWL7+g1i+/oNYvv6DWL7+g1i+/oNYvv6DWL7+g1i+/oNYvv6DWL7+g1i+/oNYvv6DWL7+g1i+/oNYvv6DWL7+g1i+/oNYvv6DWL7+g1i+/oNYvv6DWL7+g1i+/oNYvv6DWL7+g1i+/oNYvv6DWL7+g1i+/oNYvv6DWL7+g1i+/oNYvv6DWL7+g1i+/oNYvv6DWL7+g1i+/oNYvv6DWL7+g1i+/oNYvv6DWL7+g1i+/oNYvv6DWL7+g1i+/oNYvv6DWL7+g1i+/oNYvv6DWL7+g1i+/ySYbv8kmG7/JJhu/ySYbv8kmG7/JJhu/ySYbv8kmG7/JJhu/ySYbv8kmG7/JJhu/ySYbv8kmG7/JJhu/ySYbv8kmG7/JJhu/ySYbv8kmG7/JJhu/ySYbv8kmG7/JJhu/ySYbv8kmG7/JJhu/ySYbv8kmG7/JJhu/ySYbv8kmG7/JJhu/ySYbv8kmG7/JJhu/ySYbv8kmG7/JJhu/ySYbv8kmG7/JJhu/ySYbv8kmG7/JJhu/ySYbv8kmG7/JJhu/ySYbv8kmG7/JJhu/ySYbv8kmG7/JJhu/ySYbv8kmG7/JJhu/ySYbv8kmG7/JJhu/ySYbv8kmG7/JJhu/ySYbv8kmG7/JJhu/ySYbv8kmG7/JJhu/ySYbv8kmG7/JJhu/ySYbv8kmG7/JJhu/ySYbv8kmG7/JJhu/ySYbv8kmG7/JJhu/ySYbv8kmG7/JJhu/ySYbv8kmG7/JJhu/ySYbv8kmG7/JJhu/ySYbv8kmG7/JJhu/ySYbv8kmG7/JJhu/ySYbv8kmG7/JJhu/ySYbv/J2Br/ydga/8nYGv/J2Br/ydga/8nYGv/J2Br/ydga/8nYGv/J2Br/ydga/8nYGv/J2Br/ydga/8nYGv/J2Br/ydga/8nYGv/J2Br/ydga/8nYGv/J2Br/ydga/8nYGv/J2Br/ydga/8nYGv/J2Br/ydga/8nYGv/J2Br/ydga/8nYGv/J2Br/ydga/8nYGv/J2Br/ydga/8nYGv/J2Br/ydga/8nYGv/J2Br/ydga/8nYGv/J2Br/ydga/8nYGv/J2Br/ydga/8nYGv/J2Br/ydga/8nYGv/J2Br/ydga/8nYGv/J2Br/ydga/8nYGv/J2Br/ydga/8nYGv/J2Br/ydga/8nYGv/J2Br/ydga/8nYGv/J2Br/ydga/8nYGv/J2Br/ydga/8nYGv/J2Br/ydga/8nYGv/J2Br/ydga/8nYGv/J2Br/ydga/8nYGv/J2Br/ydga/8nYGv/J2Br/ydga/8nYGv/J2Br/ydga/8nYGv/J2Br/ydga/8nYGv/J2Br/ydga/8nYGv/J2Br88juO+PI7jvjyO4748juO+PI7jvjyO4748juO+PI7jvjyO4748juO+PI7jvjyO4748juO+PI7jvjyO4748juO+PI7jvjyO4748juO+PI7jvjyO4748juO+PI7jvjyO4748juO+PI7jvjyO4748juO+PI7jvjyO4748juO+PI7jvjyO4748juO+PI7jvjyO4748juO+PI7jvjyO4748juO+PI7jvjyO4748juO+PI7jvjyO4748juO+PI7jvjyO4748juO+PI7jvjyO4748juO+PI7jvjyO4748juO+PI7jvjyO4748juO+PI7jvjyO4748juO+PI7jvjyO4748juO+PI7jvjyO4748juO+PI7jvjyO4748juO+PI7jvjyO4748juO+PI7jvjyO4748juO+PI7jvjyO4748juO+PI7jvjyO4748juO+PI7jvjyO4748juO+PI7jvjyO4748juO+PI7jvjyO4748juO+PI7jvjyO4748juO+PI7jvjyO4748juO+PI7jvjyO4748juO+hi66voYuur6GLrq+hi66voYuur6GLrq+hi66voYuur6GLrq+hi66voYuur6GLrq+hi66voYuur6GLrq+hi66voYuur6GLrq+hi66voYuur6GLrq+hi66voYuur6GLrq+hi66voYuur6GLrq+hi66voYuur6GLrq+hi66voYuur6GLrq+hi66voYuur6GLrq+hi66voYuur6GLrq+hi66voYuur6GLrq+hi66voYuur6GLrq+hi66voYuur6GLrq+hi66voYuur6GLrq+hi66voYuur6GLrq+hi66voYuur6GLrq+hi66voYuur6GLrq+hi66voYuur6GLrq+hi66voYuur6GLrq+hi66voYuur6GLrq+hi66voYuur6GLrq+hi66voYuur6GLrq+hi66voYuur6GLrq+hi66voYuur6GLrq+hi66voYuur6GLrq+hi66voYuur6GLrq+hi66voYuur6GLrq+hi66voYuur6GLrq+hi66voYuur6GLrq+hi66voYuur6GLrq+hi66vt/OkL7fzpC+386Qvt/OkL7fzpC+386Qvt/OkL7fzpC+386Qvt/OkL7fzpC+386Qvt/OkL7fzpC+386Qvt/OkL7fzpC+386Qvt/OkL7fzpC+386Qvt/OkL7fzpC+386Qvt/OkL7fzpC+386Qvt/OkL7fzpC+386Qvt/OkL7fzpC+386Qvt/OkL7fzpC+386Qvt/OkL7fzpC+386Qvt/OkL7fzpC+386Qvt/OkL7fzpC+386Qvt/OkL7fzpC+386Qvt/OkL7fzpC+386Qvt/OkL7fzpC+386Qvt/OkL7fzpC+386Qvt/OkL7fzpC+386Qvt/OkL7fzpC+386Qvt/OkL7fzpC+386Qvt/OkL7fzpC+386Qvt/OkL7fzpC+386Qvt/OkL7fzpC+386Qvt/OkL7fzpC+386Qvt/OkL7fzpC+386Qvt/OkL7fzpC+386Qvt/OkL7fzpC+386Qvt/OkL7fzpC+386Qvt/OkL7fzpC+386Qvt/OkL7fzpC+386Qvt/OkL7fzpC+386Qvt/OkL5h3k6+Yd5OvmHeTr5h3k6+Yd5OvmHeTr5h3k6+Yd5OvmHeTr5h3k6+Yd5OvmHeTr5h3k6+Yd5OvmHeTr5h3k6+Yd5OvmHeTr5h3k6+Yd5OvmHeTr5h3k6+Yd5OvmHeTr5h3k6+Yd5OvmHeTr5h3k6+Yd5OvmHeTr5h3k6+Yd5OvmHeTr5h3k6+Yd5OvmHeTr5h3k6+Yd5OvmHeTr5h3k6+Yd5OvmHeTr5h3k6+Yd5OvmHeTr5h3k6+Yd5OvmHeTr5h3k6+Yd5OvmHeTr5h3k6+Yd5OvmHeTr5h3k6+Yd5OvmHeTr5h3k6+Yd5OvmHeTr5h3k6+Yd5OvmHeTr5h3k6+Yd5OvmHeTr5h3k6+Yd5OvmHeTr5h3k6+Yd5OvmHeTr5h3k6+Yd5OvmHeTr5h3k6+Yd5OvmHeTr5h3k6+Yd5OvmHeTr5h3k6+Yd5OvmHeTr5h3k6+Yd5OvmHeTr5h3k6+Yd5OvmHeTr5h3k6+Yd5OvmHeTr5h3k6+Yd5OvmHeTr5h3k6+Yd5OvmHeTr5h3k6+CD74vQg++L0IPvi9CD74vQg++L0IPvi9CD74vQg++L0IPvi9CD74vQg++L0IPvi9CD74vQg++L0IPvi9CD74vQg++L0IPvi9CD74vQg++L0IPvi9CD74vQg++L0IPvi9CD74vQg++L0IPvi9CD74vQg++L0IPvi9CD74vQg++L0IPvi9CD74vQg++L0IPvi9CD74vQg++L0IPvi9CD74vQg++L0IPvi9CD74vQg++L0IPvi9CD74vQg++L0IPvi9CD74vQg++L0IPvi9CD74vQg++L0IPvi9CD74vQg++L0IPvi9CD74vQg++L0IPvi9CD74vQg++L0IPvi9CD74vQg++L0IPvi9CD74vQg++L0IPvi9CD74vQg++L0IPvi9CD74vQg++L0IPvi9CD74vQg++L0IPvi9CD74vQg++L0IPvi9CD74vQg++L0IPvi9CD74vQg++L0IPvi9CD74vQg++L0IPvi9CD74vQg++L0IPvi9CD74vQg++L0IPvi9CD74vQg++L0IPvi9CD74vdt+Jb3bfiW9234lvdt+Jb3bfiW9234lvdt+Jb3bfiW9234lvdt+Jb3bfiW9234lvdt+Jb3bfiW9234lvdt+Jb3bfiW9234lvdt+Jb3bfiW9234lvdt+Jb3bfiW9234lvdt+Jb3bfiW9234lvdt+Jb3bfiW9234lvdt+Jb3bfiW9234lvdt+Jb3bfiW9234lvdt+Jb3bfiW9234lvdt+Jb3bfiW9234lvdt+Jb3bfiW9234lvdt+Jb3bfiW9234lvdt+Jb3bfiW9234lvdt+Jb3bfiW9234lvdt+Jb3bfiW9234lvdt+Jb3bfiW9234lvdt+Jb3bfiW9234lvdt+Jb3bfiW9234lvdt+Jb3bfiW9234lvdt+Jb3bfiW9234lvdt+Jb3bfiW9234lvdt+Jb3bfiW9234lvdt+Jb3bfiW9234lvdt+Jb3bfiW9234lvdt+Jb3bfiW9234lvdt+Jb3bfiW9234lvdt+Jb3bfiW9234lvdt+Jb3bfiW9234lvdt+Jb3bfiW9234lvdt+Jb2afiU9mn4lPZp+JT2afiU9mn4lPZp+JT2afiU9mn4lPZp+JT2afiU9mn4lPZp+JT2afiU9mn4lPZp+JT2afiU9mn4lPZp+JT2afiU9mn4lPZp+JT2afiU9mn4lPZp+JT2afiU9mn4lPZp+JT2afiU9mn4lPZp+JT2afiU9mn4lPZp+JT2afiU9mn4lPZp+JT2afiU9mn4lPZp+JT2afiU9mn4lPZp+JT2afiU9mn4lPZp+JT2afiU9mn4lPZp+JT2afiU9mn4lPZp+JT2afiU9mn4lPZp+JT2afiU9mn4lPZp+JT2afiU9mn4lPZp+JT2afiU9mn4lPZp+JT2afiU9mn4lPZp+JT2afiU9mn4lPZp+JT2afiU9mn4lPZp+JT2afiU9mn4lPZp+JT2afiU9mn4lPZp+JT2afiU9mn4lPZp+JT2afiU9mn4lPZp+JT2afiU9mn4lPZp+JT2afiU9mn4lPZp+JT2afiU9mn4lPZp+JT2afiU9mn4lPZp+JT2afiU9mn4lPZp+JT2afiU9CD74PQg++D0IPvg9CD74PQg++D0IPvg9CD74PQg++D0IPvg9CD74PQg++D0IPvg9CD74PQg++D0IPvg9CD74PQg++D0IPvg9CD74PQg++D0IPvg9CD74PQg++D0IPvg9CD74PQg++D0IPvg9CD74PQg++D0IPvg9CD74PQg++D0IPvg9CD74PQg++D0IPvg9CD74PQg++D0IPvg9CD74PQg++D0IPvg9CD74PQg++D0IPvg9CD74PQg++D0IPvg9CD74PQg++D0IPvg9CD74PQg++D0IPvg9CD74PQg++D0IPvg9CD74PQg++D0IPvg9CD74PQg++D0IPvg9CD74PQg++D0IPvg9CD74PQg++D0IPvg9CD74PQg++D0IPvg9CD74PQg++D0IPvg9CD74PQg++D0IPvg9CD74PQg++D0IPvg9CD74PQg++D0IPvg9CD74PQg++D0IPvg9CD74PQg++D0IPvg9CD74PQg++D0IPvg9CD74PQg++D0IPvg9CD74PQg++D0IPvg9CD74PWHeTj5h3k4+Yd5OPmHeTj5h3k4+Yd5OPmHeTj5h3k4+Yd5OPmHeTj5h3k4+Yd5OPmHeTj5h3k4+Yd5OPmHeTj5h3k4+Yd5OPmHeTj5h3k4+Yd5OPmHeTj5h3k4+Yd5OPmHeTj5h3k4+Yd5OPmHeTj5h3k4+Yd5OPmHeTj5h3k4+Yd5OPmHeTj5h3k4+Yd5OPmHeTj5h3k4+Yd5OPmHeTj5h3k4+Yd5OPmHeTj5h3k4+Yd5OPmHeTj5h3k4+Yd5OPmHeTj5h3k4+Yd5OPmHeTj5h3k4+Yd5OPmHeTj5h3k4+Yd5OPmHeTj5h3k4+Yd5OPmHeTj5h3k4+Yd5OPmHeTj5h3k4+Yd5OPmHeTj5h3k4+Yd5OPmHeTj5h3k4+Yd5OPmHeTj5h3k4+Yd5OPmHeTj5h3k4+Yd5OPmHeTj5h3k4+Yd5OPmHeTj5h3k4+Yd5OPmHeTj5h3k4+Yd5OPmHeTj5h3k4+Yd5OPmHeTj5h3k4+Yd5OPmHeTj5h3k4+Yd5OPmHeTj5h3k4+Yd5OPmHeTj7fzpA+386QPt/OkD7fzpA+386QPt/OkD7fzpA+386QPt/OkD7fzpA+386QPt/OkD7fzpA+386QPt/OkD7fzpA+386QPt/OkD7fzpA+386QPt/OkD7fzpA+386QPt/OkD7fzpA+386QPt/OkD7fzpA+386QPt/OkD7fzpA+386QPt/OkD7fzpA+386QPt/OkD7fzpA+386QPt/OkD7fzpA+386QPt/OkD7fzpA+386QPt/OkD7fzpA+386QPt/OkD7fzpA+386QPt/OkD7fzpA+386QPt/OkD7fzpA+386QPt/OkD7fzpA+386QPt/OkD7fzpA+386QPt/OkD7fzpA+386QPt/OkD7fzpA+386QPt/OkD7fzpA+386QPt/OkD7fzpA+386QPt/OkD7fzpA+386QPt/OkD7fzpA+386QPt/OkD7fzpA+386QPt/OkD7fzpA+386QPt/OkD7fzpA+386QPt/OkD7fzpA+386QPt/OkD7fzpA+386QPt/OkD7fzpA+386QPt/OkD7fzpA+ji66Po4uuj6OLro+ji66Po4uuj6OLro+ji66Po4uuj6OLro+ji66Po4uuj6OLro+ji66Po4uuj6OLro+ji66Po4uuj6OLro+ji66Po4uuj6OLro+ji66Po4uuj6OLro+ji66Po4uuj6OLro+ji66Po4uuj6OLro+ji66Po4uuj6OLro+ji66Po4uuj6OLro+ji66Po4uuj6OLro+ji66Po4uuj6OLro+ji66Po4uuj6OLro+ji66Po4uuj6OLro+ji66Po4uuj6OLro+ji66Po4uuj6OLro+ji66Po4uuj6OLro+ji66Po4uuj6OLro+ji66Po4uuj6OLro+ji66Po4uuj6OLro+ji66Po4uuj6OLro+ji66Po4uuj6OLro+ji66Po4uuj6OLro+ji66Po4uuj6OLro+ji66Po4uuj6OLro+ji66Po4uuj6OLro+ji66Po4uuj6OLro+ji66Po4uuj6OLro+ji66Po4uuj6OLro+ji66Po4uuj6OLro+ji66Po4uuj6OLro+ji66PjyO4z48juM+PI7jPjyO4z48juM+PI7jPjyO4z48juM+PI7jPjyO4z48juM+PI7jPjyO4z48juM+PI7jPjyO4z48juM+PI7jPjyO4z48juM+PI7jPjyO4z48juM+PI7jPjyO4z48juM+PI7jPjyO4z48juM+PI7jPjyO4z48juM+PI7jPjyO4z48juM+PI7jPjyO4z48juM+PI7jPjyO4z48juM+PI7jPjyO4z48juM+PI7jPjyO4z48juM+PI7jPjyO4z48juM+PI7jPjyO4z48juM+PI7jPjyO4z48juM+PI7jPjyO4z48juM+PI7jPjyO4z48juM+PI7jPjyO4z48juM+PI7jPjyO4z48juM+PI7jPjyO4z48juM+PI7jPjyO4z48juM+PI7jPjyO4z48juM+PI7jPjyO4z48juM+PI7jPjyO4z48juM+PI7jPjyO4z48juM+PI7jPjyO4z48juM+PI7jPjyO4z48juM+PI7jPjyO4z48juM+PI7jPjyO4z48juM+PI7jPjyO4z7ydgY/8nYGP/J2Bj/ydgY/8nYGP/J2Bj/ydgY/8nYGP/J2Bj/ydgY/8nYGP/J2Bj/ydgY/8nYGP/J2Bj/ydgY/8nYGP/J2Bj/ydgY/8nYGP/J2Bj/ydgY/8nYGP/J2Bj/ydgY/8nYGP/J2Bj/ydgY/8nYGP/J2Bj/ydgY/8nYGP/J2Bj/ydgY/8nYGP/J2Bj/ydgY/8nYGP/J2Bj/ydgY/8nYGP/J2Bj/ydgY/8nYGP/J2Bj/ydgY/8nYGP/J2Bj/ydgY/8nYGP/J2Bj/ydgY/8nYGP/J2Bj/ydgY/8nYGP/J2Bj/ydgY/8nYGP/J2Bj/ydgY/8nYGP/J2Bj/ydgY/8nYGP/J2Bj/ydgY/8nYGP/J2Bj/ydgY/8nYGP/J2Bj/ydgY/8nYGP/J2Bj/ydgY/8nYGP/J2Bj/ydgY/8nYGP/J2Bj/ydgY/8nYGP/J2Bj/ydgY/8nYGP/J2Bj/ydgY/8nYGP/J2Bj/ydgY/8nYGP/J2Bj/ydgY/8nYGP/J2Bj/ydgY/8nYGP/J2Bj/ydgY/ySYbP8kmGz/JJhs/ySYbP8kmGz/JJhs/ySYbP8kmGz/JJhs/ySYbP8kmGz/JJhs/ySYbP8kmGz/JJhs/ySYbP8kmGz/JJhs/ySYbP8kmGz/JJhs/ySYbP8kmGz/JJhs/ySYbP8kmGz/JJhs/ySYbP8kmGz/JJhs/ySYbP8kmGz/JJhs/ySYbP8kmGz/JJhs/ySYbP8kmGz/JJhs/ySYbP8kmGz/JJhs/ySYbP8kmGz/JJhs/ySYbP8kmGz/JJhs/ySYbP8kmGz/JJhs/ySYbP8kmGz/JJhs/ySYbP8kmGz/JJhs/ySYbP8kmGz/JJhs/ySYbP8kmGz/JJhs/ySYbP8kmGz/JJhs/ySYbP8kmGz/JJhs/ySYbP8kmGz/JJhs/ySYbP8kmGz/JJhs/ySYbP8kmGz/JJhs/ySYbP8kmGz/JJhs/ySYbP8kmGz/JJhs/ySYbP8kmGz/JJhs/ySYbP8kmGz/JJhs/ySYbP8kmGz/JJhs/ySYbP8kmGz/JJhs/ySYbP8kmGz/JJhs/ySYbP6DWLz+g1i8/oNYvP6DWLz+g1i8/oNYvP6DWLz+g1i8/oNYvP6DWLz+g1i8/oNYvP6DWLz+g1i8/oNYvP6DWLz+g1i8/oNYvP6DWLz+g1i8/oNYvP6DWLz+g1i8/oNYvP6DWLz+g1i8/oNYvP6DWLz+g1i8/oNYvP6DWLz+g1i8/oNYvP6DWLz+g1i8/oNYvP6DWLz+g1i8/oNYvP6DWLz+g1i8/oNYvP6DWLz+g1i8/oNYvP6DWLz+g1i8/oNYvP6DWLz+g1i8/oNYvP6DWLz+g1i8/oNYvP6DWLz+g1i8/oNYvP6DWLz+g1i8/oNYvP6DWLz+g1i8/oNYvP6DWLz+g1i8/oNYvP6DWLz+g1i8/oNYvP6DWLz+g1i8/oNYvP6DWLz+g1i8/oNYvP6DWLz+g1i8/oNYvP6DWLz+g1i8/oNYvP6DWLz+g1i8/oNYvP6DWLz+g1i8/oNYvP6DWLz+g1i8/oNYvP6DWLz+g1i8/oNYvP6DWLz+g1i8/oNYvP6DWLz+g1i8/oNYvP6DWLz93hkQ/d4ZEP3eGRD93hkQ/d4ZEP3eGRD93hkQ/d4ZEP3eGRD93hkQ/d4ZEP3eGRD93hkQ/d4ZEP3eGRD93hkQ/d4ZEP3eGRD93hkQ/d4ZEP3eGRD93hkQ/d4ZEP3eGRD93hkQ/d4ZEP3eGRD93hkQ/d4ZEP3eGRD93hkQ/d4ZEP3eGRD93hkQ/d4ZEP3eGRD93hkQ/d4ZEP3eGRD93hkQ/d4ZEP3eGRD93hkQ/d4ZEP3eGRD93hkQ/d4ZEP3eGRD93hkQ/d4ZEP3eGRD93hkQ/d4ZEP3eGRD93hkQ/d4ZEP3eGRD93hkQ/d4ZEP3eGRD93hkQ/d4ZEP3eGRD93hkQ/d4ZEP3eGRD93hkQ/d4ZEP3eGRD93hkQ/d4ZEP3eGRD93hkQ/d4ZEP3eGRD93hkQ/d4ZEP3eGRD93hkQ/d4ZEP3eGRD93hkQ/d4ZEP3eGRD93hkQ/d4ZEP3eGRD93hkQ/d4ZEP3eGRD93hkQ/d4ZEP3eGRD93hkQ/d4ZEP3eGRD93hkQ/d4ZEP3eGRD93hkQ/TzZZP082WT9PNlk/TzZZP082WT9PNlk/TzZZP082WT9PNlk/TzZZP082WT9PNlk/TzZZP082WT9PNlk/TzZZP082WT9PNlk/TzZZP082WT9PNlk/TzZZP082WT9PNlk/TzZZP082WT9PNlk/TzZZP082WT9PNlk/TzZZP082WT9PNlk/TzZZP082WT9PNlk/TzZZP082WT9PNlk/TzZZP082WT9PNlk/TzZZP082WT9PNlk/TzZZP082WT9PNlk/TzZZP082WT9PNlk/TzZZP082WT9PNlk/TzZZP082WT9PNlk/TzZZP082WT9PNlk/TzZZP082WT9PNlk/TzZZP082WT9PNlk/TzZZP082WT9PNlk/TzZZP082WT9PNlk/TzZZP082WT9PNlk/TzZZP082WT9PNlk/TzZZP082WT9PNlk/TzZZP082WT9PNlk/TzZZP082WT9PNlk/TzZZP082WT9PNlk/TzZZP082WT9PNlk/TzZZP082WT9PNlk/TzZZP082WT9PNlk/TzZZPybmbT8m5m0/JuZtPybmbT8m5m0/JuZtPybmbT8m5m0/JuZtPybmbT8m5m0/JuZtPybmbT8m5m0/JuZtPybmbT8m5m0/JuZtPybmbT8m5m0/JuZtPybmbT8m5m0/JuZtPybmbT8m5m0/JuZtPybmbT8m5m0/JuZtPybmbT8m5m0/JuZtPybmbT8m5m0/JuZtPybmbT8m5m0/JuZtPybmbT8m5m0/JuZtPybmbT8m5m0/JuZtPybmbT8m5m0/JuZtPybmbT8m5m0/JuZtPybmbT8m5m0/JuZtPybmbT8m5m0/JuZtPybmbT8m5m0/JuZtPybmbT8m5m0/JuZtPybmbT8m5m0/JuZtPybmbT8m5m0/JuZtPybmbT8m5m0/JuZtPybmbT8m5m0/JuZtPybmbT8m5m0/JuZtPybmbT8m5m0/JuZtPybmbT8m5m0/JuZtPybmbT8m5m0/JuZtPybmbT8m5m0/JuZtPybmbT8m5m0/JuZtPybmbT8m5m0/JuZtPybmbT8m5m0/JuZtPybmbT/9SoE//UqBP/1KgT/9SoE//UqBP/1KgT/9SoE//UqBP/1KgT/9SoE//UqBP/1KgT/9SoE//UqBP/1KgT/9SoE//UqBP/1KgT/9SoE//UqBP/1KgT/9SoE//UqBP/1KgT/9SoE//UqBP/1KgT/9SoE//UqBP/1KgT/9SoE//UqBP/1KgT/9SoE//UqBP/1KgT/9SoE//UqBP/1KgT/9SoE//UqBP/1KgT/9SoE//UqBP/1KgT/9SoE//UqBP/1KgT/9SoE//UqBP/1KgT/9SoE//UqBP/1KgT/9SoE//UqBP/1KgT/9SoE//UqBP/1KgT/9SoE//UqBP/1KgT/9SoE//UqBP/1KgT/9SoE//UqBP/1KgT/9SoE//UqBP/1KgT/9SoE//UqBP/1KgT/9SoE//UqBP/1KgT/9SoE//UqBP/1KgT/9SoE//UqBP/1KgT/9SoE//UqBP/1KgT/9SoE//UqBP/1KgT/9SoE//UqBP/1KgT/9SoE//UqBP/1KgT/9SoE//UqBP/1KgT/9SoE/6KKLP+iiiz/ooos/6KKLP+iiiz/ooos/6KKLP+iiiz/ooos/6KKLP+iiiz/ooos/6KKLP+iiiz/ooos/6KKLP+iiiz/ooos/6KKLP+iiiz/ooos/6KKLP+iiiz/ooos/6KKLP+iiiz/ooos/6KKLP+iiiz/ooos/6KKLP+iiiz/ooos/6KKLP+iiiz/ooos/6KKLP+iiiz/ooos/6KKLP+iiiz/ooos/6KKLP+iiiz/ooos/6KKLP+iiiz/ooos/6KKLP+iiiz/ooos/6KKLP+iiiz/ooos/6KKLP+iiiz/ooos/6KKLP+iiiz/ooos/6KKLP+iiiz/ooos/6KKLP+iiiz/ooos/6KKLP+iiiz/ooos/6KKLP+iiiz/ooos/6KKLP+iiiz/ooos/6KKLP+iiiz/ooos/6KKLP+iiiz/ooos/6KKLP+iiiz/ooos/6KKLP+iiiz/ooos/6KKLP+iiiz/ooos/6KKLP+iiiz/ooos/6KKLP+iiiz/ooos/6KKLP+iiiz/ooos/6KKLP9T6lT/U+pU/1PqVP9T6lT/U+pU/1PqVP9T6lT/U+pU/1PqVP9T6lT/U+pU/1PqVP9T6lT/U+pU/1PqVP9T6lT/U+pU/1PqVP9T6lT/U+pU/1PqVP9T6lT/U+pU/1PqVP9T6lT/U+pU/1PqVP9T6lT/U+pU/1PqVP9T6lT/U+pU/1PqVP9T6lT/U+pU/1PqVP9T6lT/U+pU/1PqVP9T6lT/U+pU/1PqVP9T6lT/U+pU/1PqVP9T6lT/U+pU/1PqVP9T6lT/U+pU/1PqVP9T6lT/U+pU/1PqVP9T6lT/U+pU/1PqVP9T6lT/U+pU/1PqVP9T6lT/U+pU/1PqVP9T6lT/U+pU/1PqVP9T6lT/U+pU/1PqVP9T6lT/U+pU/1PqVP9T6lT/U+pU/1PqVP9T6lT/U+pU/1PqVP9T6lT/U+pU/1PqVP9T6lT/U+pU/1PqVP9T6lT/U+pU/1PqVP9T6lT/U+pU/1PqVP9T6lT/U+pU/1PqVP9T6lT/U+pU/1PqVP9T6lT/U+pU/1PqVP9T6lT/AUqA/wFKgP8BSoD/AUqA/wFKgP8BSoD/AUqA/wFKgP8BSoD/AUqA/wFKgP8BSoD/AUqA/wFKgP8BSoD/AUqA/wFKgP8BSoD/AUqA/wFKgP8BSoD/AUqA/wFKgP8BSoD/AUqA/wFKgP8BSoD/AUqA/wFKgP8BSoD/AUqA/wFKgP8BSoD/AUqA/wFKgP8BSoD/AUqA/wFKgP8BSoD/AUqA/wFKgP8BSoD/AUqA/wFKgP8BSoD/AUqA/wFKgP8BSoD/AUqA/wFKgP8BSoD/AUqA/wFKgP8BSoD/AUqA/wFKgP8BSoD/AUqA/wFKgP8BSoD/AUqA/wFKgP8BSoD/AUqA/wFKgP8BSoD/AUqA/wFKgP8BSoD/AUqA/wFKgP8BSoD/AUqA/wFKgP8BSoD/AUqA/wFKgP8BSoD/AUqA/wFKgP8BSoD/AUqA/wFKgP8BSoD/AUqA/wFKgP8BSoD/AUqA/wFKgP8BSoD/AUqA/wFKgP8BSoD/AUqA/wFKgP8BSoD/AUqA/wFKgP8BSoD/AUqA/q6qqP6uqqj+rqqo/q6qqP6uqqj+rqqo/q6qqP6uqqj+rqqo/q6qqP6uqqj+rqqo/q6qqP6uqqj+rqqo/q6qqP6uqqj+rqqo/q6qqP6uqqj+rqqo/q6qqP6uqqj+rqqo/q6qqP6uqqj+rqqo/q6qqP6uqqj+rqqo/q6qqP6uqqj+rqqo/q6qqP6uqqj+rqqo/q6qqP6uqqj+rqqo/q6qqP6uqqj+rqqo/q6qqP6uqqj+rqqo/q6qqP6uqqj+rqqo/q6qqP6uqqj+rqqo/q6qqP6uqqj+rqqo/q6qqP6uqqj+rqqo/q6qqP6uqqj+rqqo/q6qqP6uqqj+rqqo/q6qqP6uqqj+rqqo/q6qqP6uqqj+rqqo/q6qqP6uqqj+rqqo/q6qqP6uqqj+rqqo/q6qqP6uqqj+rqqo/q6qqP6uqqj+rqqo/q6qqP6uqqj+rqqo/q6qqP6uqqj+rqqo/q6qqP6uqqj+rqqo/q6qqP6uqqj+rqqo/q6qqP6uqqj+rqqo/q6qqP6uqqj+rqqo/q6qqP5UCtT+VArU/lQK1P5UCtT+VArU/lQK1P5UCtT+VArU/lQK1P5UCtT+VArU/lQK1P5UCtT+VArU/lQK1P5UCtT+VArU/lQK1P5UCtT+VArU/lQK1P5UCtT+VArU/lQK1P5UCtT+VArU/lQK1P5UCtT+VArU/lQK1P5UCtT+VArU/lQK1P5UCtT+VArU/lQK1P5UCtT+VArU/lQK1P5UCtT+VArU/lQK1P5UCtT+VArU/lQK1P5UCtT+VArU/lQK1P5UCtT+VArU/lQK1P5UCtT+VArU/lQK1P5UCtT+VArU/lQK1P5UCtT+VArU/lQK1P5UCtT+VArU/lQK1P5UCtT+VArU/lQK1P5UCtT+VArU/lQK1P5UCtT+VArU/lQK1P5UCtT+VArU/lQK1P5UCtT+VArU/lQK1P5UCtT+VArU/lQK1P5UCtT+VArU/lQK1P5UCtT+VArU/lQK1P5UCtT+VArU/lQK1P5UCtT+VArU/lQK1P5UCtT+VArU/lQK1P5UCtT+VArU/lQK1P5UCtT+BWr8/gVq/P4Favz+BWr8/gVq/P4Favz+BWr8/gVq/P4Favz+BWr8/gVq/P4Favz+BWr8/gVq/P4Favz+BWr8/gVq/P4Favz+BWr8/gVq/P4Favz+BWr8/gVq/P4Favz+BWr8/gVq/P4Favz+BWr8/gVq/P4Favz+BWr8/gVq/P4Favz+BWr8/gVq/P4Favz+BWr8/gVq/P4Favz+BWr8/gVq/P4Favz+BWr8/gVq/P4Favz+BWr8/gVq/P4Favz+BWr8/gVq/P4Favz+BWr8/gVq/P4Favz+BWr8/gVq/P4Favz+BWr8/gVq/P4Favz+BWr8/gVq/P4Favz+BWr8/gVq/P4Favz+BWr8/gVq/P4Favz+BWr8/gVq/P4Favz+BWr8/gVq/P4Favz+BWr8/gVq/P4Favz+BWr8/gVq/P4Favz+BWr8/gVq/P4Favz+BWr8/gVq/P4Favz+BWr8/gVq/P4Favz+BWr8/gVq/P4Favz+BWr8/gVq/P4Favz+BWr8/gVq/P4Favz+BWr8/bLLJP2yyyT9sssk/bLLJP2yyyT9sssk/bLLJP2yyyT9sssk/bLLJP2yyyT9sssk/bLLJP2yyyT9sssk/bLLJP2yyyT9sssk/bLLJP2yyyT9sssk/bLLJP2yyyT9sssk/bLLJP2yyyT9sssk/bLLJP2yyyT9sssk/bLLJP2yyyT9sssk/bLLJP2yyyT9sssk/bLLJP2yyyT9sssk/bLLJP2yyyT9sssk/bLLJP2yyyT9sssk/bLLJP2yyyT9sssk/bLLJP2yyyT9sssk/bLLJP2yyyT9sssk/bLLJP2yyyT9sssk/bLLJP2yyyT9sssk/bLLJP2yyyT9sssk/bLLJP2yyyT9sssk/bLLJP2yyyT9sssk/bLLJP2yyyT9sssk/bLLJP2yyyT9sssk/bLLJP2yyyT9sssk/bLLJP2yyyT9sssk/bLLJP2yyyT9sssk/bLLJP2yyyT9sssk/bLLJP2yyyT9sssk/bLLJP2yyyT9sssk/bLLJP2yyyT9sssk/bLLJP2yyyT9sssk/bLLJP1gK1D9YCtQ/WArUP1gK1D9YCtQ/WArUP1gK1D9YCtQ/WArUP1gK1D9YCtQ/WArUP1gK1D9YCtQ/WArUP1gK1D9YCtQ/WArUP1gK1D9YCtQ/WArUP1gK1D9YCtQ/WArUP1gK1D9YCtQ/WArUP1gK1D9YCtQ/WArUP1gK1D9YCtQ/WArUP1gK1D9YCtQ/WArUP1gK1D9YCtQ/WArUP1gK1D9YCtQ/WArUP1gK1D9YCtQ/WArUP1gK1D9YCtQ/WArUP1gK1D9YCtQ/WArUP1gK1D9YCtQ/WArUP1gK1D9YCtQ/WArUP1gK1D9YCtQ/WArUP1gK1D9YCtQ/WArUP1gK1D9YCtQ/WArUP1gK1D9YCtQ/WArUP1gK1D9YCtQ/WArUP1gK1D9YCtQ/WArUP1gK1D9YCtQ/WArUP1gK1D9YCtQ/WArUP1gK1D9YCtQ/WArUP1gK1D9YCtQ/WArUP1gK1D9YCtQ/WArUP1gK1D9YCtQ/WArUP1gK1D9YCtQ/WArUP1gK1D9YCtQ/WArUP1gK1D9EYt4/RGLeP0Ri3j9EYt4/RGLeP0Ri3j9EYt4/RGLeP0Ri3j9EYt4/RGLeP0Ri3j9EYt4/RGLeP0Ri3j9EYt4/RGLeP0Ri3j9EYt4/RGLeP0Ri3j9EYt4/RGLeP0Ri3j9EYt4/RGLeP0Ri3j9EYt4/RGLeP0Ri3j9EYt4/RGLeP0Ri3j9EYt4/RGLeP0Ri3j9EYt4/RGLeP0Ri3j9EYt4/RGLeP0Ri3j9EYt4/RGLeP0Ri3j9EYt4/RGLeP0Ri3j9EYt4/RGLeP0Ri3j9EYt4/RGLeP0Ri3j9EYt4/RGLeP0Ri3j9EYt4/RGLeP0Ri3j9EYt4/RGLeP0Ri3j9EYt4/RGLeP0Ri3j9EYt4/RGLeP0Ri3j9EYt4/RGLeP0Ri3j9EYt4/RGLeP0Ri3j9EYt4/RGLeP0Ri3j9EYt4/RGLeP0Ri3j9EYt4/RGLeP0Ri3j9EYt4/RGLeP0Ri3j9EYt4/RGLeP0Ri3j9EYt4/RGLeP0Ri3j9EYt4/RGLeP0Ri3j9EYt4/RGLeP0Ri3j9EYt4/L7roPy+66D8vuug/L7roPy+66D8vuug/L7roPy+66D8vuug/L7roPy+66D8vuug/L7roPy+66D8vuug/L7roPy+66D8vuug/L7roPy+66D8vuug/L7roPy+66D8vuug/L7roPy+66D8vuug/L7roPy+66D8vuug/L7roPy+66D8vuug/L7roPy+66D8vuug/L7roPy+66D8vuug/L7roPy+66D8vuug/L7roPy+66D8vuug/L7roPy+66D8vuug/L7roPy+66D8vuug/L7roPy+66D8vuug/L7roPy+66D8vuug/L7roPy+66D8vuug/L7roPy+66D8vuug/L7roPy+66D8vuug/L7roPy+66D8vuug/L7roPy+66D8vuug/L7roPy+66D8vuug/L7roPy+66D8vuug/L7roPy+66D8vuug/L7roPy+66D8vuug/L7roPy+66D8vuug/L7roPy+66D8vuug/L7roPy+66D8vuug/L7roPy+66D8vuug/L7roPy+66D8vuug/L7roPxkS8z8ZEvM/GRLzPxkS8z8ZEvM/GRLzPxkS8z8ZEvM/GRLzPxkS8z8ZEvM/GRLzPxkS8z8ZEvM/GRLzPxkS8z8ZEvM/GRLzPxkS8z8ZEvM/GRLzPxkS8z8ZEvM/GRLzPxkS8z8ZEvM/GRLzPxkS8z8ZEvM/GRLzPxkS8z8ZEvM/GRLzPxkS8z8ZEvM/GRLzPxkS8z8ZEvM/GRLzPxkS8z8ZEvM/GRLzPxkS8z8ZEvM/GRLzPxkS8z8ZEvM/GRLzPxkS8z8ZEvM/GRLzPxkS8z8ZEvM/GRLzPxkS8z8ZEvM/GRLzPxkS8z8ZEvM/GRLzPxkS8z8ZEvM/GRLzPxkS8z8ZEvM/GRLzPxkS8z8ZEvM/GRLzPxkS8z8ZEvM/GRLzPxkS8z8ZEvM/GRLzPxkS8z8ZEvM/GRLzPxkS8z8ZEvM/GRLzPxkS8z8ZEvM/GRLzPxkS8z8ZEvM/GRLzPxkS8z8ZEvM/GRLzPxkS8z8ZEvM/GRLzPxkS8z8ZEvM/GRLzPxkS8z8ZEvM/GRLzPxkS8z8Fav0/BWr9PwVq/T8Fav0/BWr9PwVq/T8Fav0/BWr9PwVq/T8Fav0/BWr9PwVq/T8Fav0/BWr9PwVq/T8Fav0/BWr9PwVq/T8Fav0/BWr9PwVq/T8Fav0/BWr9PwVq/T8Fav0/BWr9PwVq/T8Fav0/BWr9PwVq/T8Fav0/BWr9PwVq/T8Fav0/BWr9PwVq/T8Fav0/BWr9PwVq/T8Fav0/BWr9PwVq/T8Fav0/BWr9PwVq/T8Fav0/BWr9PwVq/T8Fav0/BWr9PwVq/T8Fav0/BWr9PwVq/T8Fav0/BWr9PwVq/T8Fav0/BWr9PwVq/T8Fav0/BWr9PwVq/T8Fav0/BWr9PwVq/T8Fav0/BWr9PwVq/T8Fav0/BWr9PwVq/T8Fav0/BWr9PwVq/T8Fav0/BWr9PwVq/T8Fav0/BWr9PwVq/T8Fav0/BWr9PwVq/T8Fav0/BWr9PwVq/T8Fav0/BWr9PwVq/T8Fav0/BWr9PwVq/T8Fav0/BWr9PwVq/T8Fav0/BWr9PwVq/T8Fav0/+OADQPjgA0D44ANA+OADQPjgA0D44ANA+OADQPjgA0D44ANA+OADQPjgA0D44ANA+OADQPjgA0D44ANA+OADQPjgA0D44ANA+OADQPjgA0D44ANA+OADQPjgA0D44ANA+OADQPjgA0D44ANA+OADQPjgA0D44ANA+OADQPjgA0D44ANA+OADQPjgA0D44ANA+OADQPjgA0D44ANA+OADQPjgA0D44ANA+OADQPjgA0D44ANA+OADQPjgA0D44ANA+OADQPjgA0D44ANA+OADQPjgA0D44ANA+OADQPjgA0D44ANA+OADQPjgA0D44ANA+OADQPjgA0D44ANA+OADQPjgA0D44ANA+OADQPjgA0D44ANA+OADQPjgA0D44ANA+OADQPjgA0D44ANA+OADQPjgA0D44ANA+OADQPjgA0D44ANA+OADQPjgA0D44ANA+OADQPjgA0D44ANA+OADQPjgA0D44ANA+OADQPjgA0D44ANA+OADQPjgA0D44ANA+OADQPjgA0D44ANA+OADQO4MCUDuDAlA7gwJQO4MCUDuDAlA7gwJQO4MCUDuDAlA7gwJQO4MCUDuDAlA7gwJQO4MCUDuDAlA7gwJQO4MCUDuDAlA7gwJQO4MCUDuDAlA7gwJQO4MCUDuDAlA7gwJQO4MCUDuDAlA7gwJQO4MCUDuDAlA7gwJQO4MCUDuDAlA7gwJQO4MCUDuDAlA7gwJQO4MCUDuDAlA7gwJQO4MCUDuDAlA7gwJQO4MCUDuDAlA7gwJQO4MCUDuDAlA7gwJQO4MCUDuDAlA7gwJQO4MCUDuDAlA7gwJQO4MCUDuDAlA7gwJQO4MCUDuDAlA7gwJQO4MCUDuDAlA7gwJQO4MCUDuDAlA7gwJQO4MCUDuDAlA7gwJQO4MCUDuDAlA7gwJQO4MCUDuDAlA7gwJQO4MCUDuDAlA7gwJQO4MCUDuDAlA7gwJQO4MCUDuDAlA7gwJQO4MCUDuDAlA7gwJQO4MCUDuDAlA7gwJQO4MCUDuDAlA7gwJQO4MCUDuDAlA7gwJQO4MCUDuDAlA7gwJQO4MCUDkOA5A5DgOQOQ4DkDkOA5A5DgOQOQ4DkDkOA5A5DgOQOQ4DkDkOA5A5DgOQOQ4DkDkOA5A5DgOQOQ4DkDkOA5A5DgOQOQ4DkDkOA5A5DgOQOQ4DkDkOA5A5DgOQOQ4DkDkOA5A5DgOQOQ4DkDkOA5A5DgOQOQ4DkDkOA5A5DgOQOQ4DkDkOA5A5DgOQOQ4DkDkOA5A5DgOQOQ4DkDkOA5A5DgOQOQ4DkDkOA5A5DgOQOQ4DkDkOA5A5DgOQOQ4DkDkOA5A5DgOQOQ4DkDkOA5A5DgOQOQ4DkDkOA5A5DgOQOQ4DkDkOA5A5DgOQOQ4DkDkOA5A5DgOQOQ4DkDkOA5A5DgOQOQ4DkDkOA5A5DgOQOQ4DkDkOA5A5DgOQOQ4DkDkOA5A5DgOQOQ4DkDkOA5A5DgOQOQ4DkDkOA5A5DgOQOQ4DkDkOA5A5DgOQOQ4DkDkOA5A5DgOQOQ4DkDkOA5A5DgOQOQ4DkDkOA5A5DgOQOQ4DkDkOA5A5DgOQOQ4DkDkOA5A5DgOQOQ4DkDkOA5A2mQTQNpkE0DaZBNA2mQTQNpkE0DaZBNA2mQTQNpkE0DaZBNA2mQTQNpkE0DaZBNA2mQTQNpkE0DaZBNA2mQTQNpkE0DaZBNA2mQTQNpkE0DaZBNA2mQTQNpkE0DaZBNA2mQTQNpkE0DaZBNA2mQTQNpkE0DaZBNA2mQTQNpkE0DaZBNA2mQTQNpkE0DaZBNA2mQTQNpkE0DaZBNA2mQTQNpkE0DaZBNA2mQTQNpkE0DaZBNA2mQTQNpkE0DaZBNA2mQTQNpkE0DaZBNA2mQTQNpkE0DaZBNA2mQTQNpkE0DaZBNA2mQTQNpkE0DaZBNA2mQTQNpkE0DaZBNA2mQTQNpkE0DaZBNA2mQTQNpkE0DaZBNA2mQTQNpkE0DaZBNA2mQTQNpkE0DaZBNA2mQTQNpkE0DaZBNA2mQTQNpkE0DaZBNA2mQTQNpkE0DaZBNA2mQTQNpkE0DaZBNA2mQTQNpkE0DaZBNA2mQTQNpkE0DaZBNA2mQTQNpkE0DaZBNA2mQTQNpkE0DaZBNA2mQTQM6QGEDOkBhAzpAYQM6QGEDOkBhAzpAYQM6QGEDOkBhAzpAYQM6QGEDOkBhAzpAYQM6QGEDOkBhAzpAYQM6QGEDOkBhAzpAYQM6QGEDOkBhAzpAYQM6QGEDOkBhAzpAYQM6QGEDOkBhAzpAYQM6QGEDOkBhAzpAYQM6QGEDOkBhAzpAYQM6QGEDOkBhAzpAYQM6QGEDOkBhAzpAYQM6QGEDOkBhAzpAYQM6QGEDOkBhAzpAYQM6QGEDOkBhAzpAYQM6QGEDOkBhAzpAYQM6QGEDOkBhAzpAYQM6QGEDOkBhAzpAYQM6QGEDOkBhAzpAYQM6QGEDOkBhAzpAYQM6QGEDOkBhAzpAYQM6QGEDOkBhAzpAYQM6QGEDOkBhAzpAYQM6QGEDOkBhAzpAYQM6QGEDOkBhAzpAYQM6QGEDOkBhAzpAYQM6QGEDOkBhAzpAYQM6QGEDOkBhAzpAYQM6QGEDOkBhAzpAYQM6QGEDOkBhAzpAYQM6QGEDOkBhAzpAYQM6QGEDOkBhAzpAYQM6QGEDEvB1AxLwdQMS8HUDEvB1AxLwdQMS8HUDEvB1AxLwdQMS8HUDEvB1AxLwdQMS8HUDEvB1AxLwdQMS8HUDEvB1AxLwdQMS8HUDEvB1AxLwdQMS8HUDEvB1AxLwdQMS8HUDEvB1AxLwdQMS8HUDEvB1AxLwdQMS8HUDEvB1AxLwdQMS8HUDEvB1AxLwdQMS8HUDEvB1AxLwdQMS8HUDEvB1AxLwdQMS8HUDEvB1AxLwdQMS8HUDEvB1AxLwdQMS8HUDEvB1AxLwdQMS8HUDEvB1AxLwdQMS8HUDEvB1AxLwdQMS8HUDEvB1AxLwdQMS8HUDEvB1AxLwdQMS8HUDEvB1AxLwdQMS8HUDEvB1AxLwdQMS8HUDEvB1AxLwdQMS8HUDEvB1AxLwdQMS8HUDEvB1AxLwdQMS8HUDEvB1AxLwdQMS8HUDEvB1AxLwdQMS8HUDEvB1AxLwdQMS8HUDEvB1AxLwdQMS8HUDEvB1AxLwdQMS8HUDEvB1AxLwdQMS8HUDEvB1AxLwdQMS8HUDEvB1AuugiQLroIkC66CJAuugiQLroIkC66CJAuugiQLroIkC66CJAuugiQLroIkC66CJAuugiQLroIkC66CJAuugiQLroIkC66CJAuugiQLroIkC66CJAuugiQLroIkC66CJAuugiQLroIkC66CJAuugiQLroIkC66CJAuugiQLroIkC66CJAuugiQLroIkC66CJAuugiQLroIkC66CJAuugiQLroIkC66CJAuugiQLroIkC66CJAuugiQLroIkC66CJAuugiQLroIkC66CJAuugiQLroIkC66CJAuugiQLroIkC66CJAuugiQLroIkC66CJAuugiQLroIkC66CJAuugiQLroIkC66CJAuugiQLroIkC66CJAuugiQLroIkC66CJAuugiQLroIkC66CJAuugiQLroIkC66CJAuugiQLroIkC66CJAuugiQLroIkC66CJAuugiQLroIkC66CJAuugiQLroIkC66CJAuugiQLroIkC66CJAuugiQLroIkC66CJAuugiQLroIkC66CJAuugiQLAUKECwFChAsBQoQLAUKECwFChAsBQoQLAUKECwFChAsBQoQLAUKECwFChAsBQoQLAUKECwFChAsBQoQLAUKECwFChAsBQoQLAUKECwFChAsBQoQLAUKECwFChAsBQoQLAUKECwFChAsBQoQLAUKECwFChAsBQoQLAUKECwFChAsBQoQLAUKECwFChAsBQoQLAUKECwFChAsBQoQLAUKECwFChAsBQoQLAUKECwFChAsBQoQLAUKECwFChAsBQoQLAUKECwFChAsBQoQLAUKECwFChAsBQoQLAUKECwFChAsBQoQLAUKECwFChAsBQoQLAUKECwFChAsBQoQLAUKECwFChAsBQoQLAUKECwFChAsBQoQLAUKECwFChAsBQoQLAUKECwFChAsBQoQLAUKECwFChAsBQoQLAUKECwFChAsBQoQLAUKECwFChAsBQoQLAUKECwFChAsBQoQLAUKECwFChAsBQoQLAUKECwFChAsBQoQLAUKECwFChAsBQoQLAUKECwFChAsBQoQLAUKECmQC1ApkAtQKZALUCmQC1ApkAtQKZALUCmQC1ApkAtQKZALUCmQC1ApkAtQKZALUCmQC1ApkAtQKZALUCmQC1ApkAtQKZALUCmQC1ApkAtQKZALUCmQC1ApkAtQKZALUCmQC1ApkAtQKZALUCmQC1ApkAtQKZALUCmQC1ApkAtQKZALUCmQC1ApkAtQKZALUCmQC1ApkAtQKZALUCmQC1ApkAtQKZALUCmQC1ApkAtQKZALUCmQC1ApkAtQKZALUCmQC1ApkAtQKZALUCmQC1ApkAtQKZALUCmQC1ApkAtQKZALUCmQC1ApkAtQKZALUCmQC1ApkAtQKZALUCmQC1ApkAtQKZALUCmQC1ApkAtQKZALUCmQC1ApkAtQKZALUCmQC1ApkAtQKZALUCmQC1ApkAtQKZALUCmQC1ApkAtQKZALUCmQC1ApkAtQKZALUCmQC1ApkAtQKZALUCmQC1ApkAtQKZALUCmQC1ApkAtQKZALUCmQC1ApkAtQKZALUCmQC1ApkAtQKZALUCmQC1AnGwyQJxsMkCcbDJAnGwyQJxsMkCcbDJAnGwyQJxsMkCcbDJAnGwyQJxsMkCcbDJAnGwyQJxsMkCcbDJAnGwyQJxsMkCcbDJAnGwyQJxsMkCcbDJAnGwyQJxsMkCcbDJAnGwyQJxsMkCcbDJAnGwyQJxsMkCcbDJAnGwyQJxsMkCcbDJAnGwyQJxsMkCcbDJAnGwyQJxsMkCcbDJAnGwyQJxsMkCcbDJAnGwyQJxsMkCcbDJAnGwyQJxsMkCcbDJAnGwyQJxsMkCcbDJAnGwyQJxsMkCcbDJAnGwyQJxsMkCcbDJAnGwyQJxsMkCcbDJAnGwyQJxsMkCcbDJAnGwyQJxsMkCcbDJAnGwyQJxsMkCcbDJAnGwyQJxsMkCcbDJAnGwyQJxsMkCcbDJAnGwyQJxsMkCcbDJAnGwyQJxsMkCcbDJAnGwyQJxsMkCcbDJAnGwyQJxsMkCcbDJAnGwyQJxsMkCcbDJAnGwyQJxsMkCcbDJAnGwyQJxsMkCcbDJAnGwyQJxsMkCcbDJAnGwyQJCYN0CQmDdAkJg3QJCYN0CQmDdAkJg3QJCYN0CQmDdAkJg3QJCYN0CQmDdAkJg3QJCYN0CQmDdAkJg3QJCYN0CQmDdAkJg3QJCYN0CQmDdAkJg3QJCYN0CQmDdAkJg3QJCYN0CQmDdAkJg3QJCYN0CQmDdAkJg3QJCYN0CQmDdAkJg3QJCYN0CQmDdAkJg3QJCYN0CQmDdAkJg3QJCYN0CQmDdAkJg3QJCYN0CQmDdAkJg3QJCYN0CQmDdAkJg3QJCYN0CQmDdAkJg3QJCYN0CQmDdAkJg3QJCYN0CQmDdAkJg3QJCYN0CQmDdAkJg3QJCYN0CQmDdAkJg3QJCYN0CQmDdAkJg3QJCYN0CQmDdAkJg3QJCYN0CQmDdAkJg3QJCYN0CQmDdAkJg3QJCYN0CQmDdAkJg3QJCYN0CQmDdAkJg3QJCYN0CQmDdAkJg3QJCYN0CQmDdAkJg3QJCYN0CQmDdAkJg3QJCYN0CQmDdAkJg3QJCYN0CQmDdAkJg3QJCYN0CQmDdAkJg3QJCYN0CGxDxAhsQ8QIbEPECGxDxAhsQ8QIbEPECGxDxAhsQ8QIbEPECGxDxAhsQ8QIbEPECGxDxAhsQ8QIbEPECGxDxAhsQ8QIbEPECGxDxAhsQ8QIbEPECGxDxAhsQ8QIbEPECGxDxAhsQ8QIbEPECGxDxAhsQ8QIbEPECGxDxAhsQ8QIbEPECGxDxAhsQ8QIbEPECGxDxAhsQ8QIbEPECGxDxAhsQ8QIbEPECGxDxAhsQ8QIbEPECGxDxAhsQ8QIbEPECGxDxAhsQ8QIbEPECGxDxAhsQ8QIbEPECGxDxAhsQ8QIbEPECGxDxAhsQ8QIbEPECGxDxAhsQ8QIbEPECGxDxAhsQ8QIbEPECGxDxAhsQ8QIbEPECGxDxAhsQ8QIbEPECGxDxAhsQ8QIbEPECGxDxAhsQ8QIbEPECGxDxAhsQ8QIbEPECGxDxAhsQ8QIbEPECGxDxAhsQ8QIbEPECGxDxAhsQ8QIbEPECGxDxAhsQ8QIbEPECGxDxAhsQ8QIbEPECGxDxAhsQ8QIbEPECGxDxAfPBBQHzwQUB88EFAfPBBQHzwQUB88EFAfPBBQHzwQUB88EFAfPBBQHzwQUB88EFAfPBBQHzwQUB88EFAfPBBQHzwQUB88EFAfPBBQHzwQUB88EFAfPBBQHzwQUB88EFAfPBBQHzwQUB88EFAfPBBQHzwQUB88EFAfPBBQHzwQUB88EFAfPBBQHzwQUB88EFAfPBBQHzwQUB88EFAfPBBQHzwQUB88EFAfPBBQHzwQUB88EFAfPBBQHzwQUB88EFAfPBBQHzwQUB88EFAfPBBQHzwQUB88EFAfPBBQHzwQUB88EFAfPBBQHzwQUB88EFAfPBBQHzwQUB88EFAfPBBQHzwQUB88EFAfPBBQHzwQUB88EFAfPBBQHzwQUB88EFAfPBBQHzwQUB88EFAfPBBQHzwQUB88EFAfPBBQHzwQUB88EFAfPBBQHzwQUB88EFAfPBBQHzwQUB88EFAfPBBQHzwQUB88EFAfPBBQHzwQUB88EFAfPBBQHzwQUB88EFAfPBBQHzwQUB88EFAfPBBQHIcR0ByHEdAchxHQHIcR0ByHEdAchxHQHIcR0ByHEdAchxHQHIcR0ByHEdAchxHQHIcR0ByHEdAchxHQHIcR0ByHEdAchxHQHIcR0ByHEdAchxHQHIcR0ByHEdAchxHQHIcR0ByHEdAchxHQHIcR0ByHEdAchxHQHIcR0ByHEdAchxHQHIcR0ByHEdAchxHQHIcR0ByHEdAchxHQHIcR0ByHEdAchxHQHIcR0ByHEdAchxHQHIcR0ByHEdAchxHQHIcR0ByHEdAchxHQHIcR0ByHEdAchxHQHIcR0ByHEdAchxHQHIcR0ByHEdAchxHQHIcR0ByHEdAchxHQHIcR0ByHEdAchxHQHIcR0ByHEdAchxHQHIcR0ByHEdAchxHQHIcR0ByHEdAchxHQHIcR0ByHEdAchxHQHIcR0ByHEdAchxHQHIcR0ByHEdAchxHQHIcR0ByHEdAchxHQHIcR0ByHEdAchxHQHIcR0ByHEdAchxHQHIcR0ByHEdAchxHQHIcR0ByHEdAchxHQHIcR0BoSExAaEhMQGhITEBoSExAaEhMQGhITEBoSExAaEhMQGhITEBoSExAaEhMQGhITEBoSExAaEhMQGhITEBoSExAaEhMQGhITEBoSExAaEhMQGhITEBoSExAaEhMQGhITEBoSExAaEhMQGhITEBoSExAaEhMQGhITEBoSExAaEhMQGhITEBoSExAaEhMQGhITEBoSExAaEhMQGhITEBoSExAaEhMQGhITEBoSExAaEhMQGhITEBoSExAaEhMQGhITEBoSExAaEhMQGhITEBoSExAaEhMQGhITEBoSExAaEhMQGhITEBoSExAaEhMQGhITEBoSExAaEhMQGhITEBoSExAaEhMQGhITEBoSExAaEhMQGhITEBoSExAaEhMQGhITEBoSExAaEhMQGhITEBoSExAaEhMQGhITEBoSExAaEhMQGhITEBoSExAaEhMQGhITEBoSExAaEhMQGhITEBoSExAaEhMQGhITEBoSExAaEhMQGhITEBoSExAaEhMQGhITEBoSExAaEhMQGhITEBoSExAXnRRQF50UUBedFFAXnRRQF50UUBedFFAXnRRQF50UUBedFFAXnRRQF50UUBedFFAXnRRQF50UUBedFFAXnRRQF50UUBedFFAXnRRQF50UUBedFFAXnRRQF50UUBedFFAXnRRQF50UUBedFFAXnRRQF50UUBedFFAXnRRQF50UUBedFFAXnRRQF50UUBedFFAXnRRQF50UUBedFFAXnRRQF50UUBedFFAXnRRQF50UUBedFFAXnRRQF50UUBedFFAXnRRQF50UUBedFFAXnRRQF50UUBedFFAXnRRQF50UUBedFFAXnRRQF50UUBedFFAXnRRQF50UUBedFFAXnRRQF50UUBedFFAXnRRQF50UUBedFFAXnRRQF50UUBedFFAXnRRQF50UUBedFFAXnRRQF50UUBedFFAXnRRQF50UUBedFFAXnRRQF50UUBedFFAXnRRQF50UUBedFFAXnRRQF50UUBedFFAXnRRQF50UUBedFFAXnRRQF50UUBedFFAXnRRQF50UUBedFFAXnRRQFKgVkBSoFZAUqBWQFKgVkBSoFZAUqBWQFKgVkBSoFZAUqBWQFKgVkBSoFZAUqBWQFKgVkBSoFZAUqBWQFKgVkBSoFZAUqBWQFKgVkBSoFZAUqBWQFKgVkBSoFZAUqBWQFKgVkBSoFZAUqBWQFKgVkBSoFZAUqBWQFKgVkBSoFZAUqBWQFKgVkBSoFZAUqBWQFKgVkBSoFZAUqBWQFKgVkBSoFZAUqBWQFKgVkBSoFZAUqBWQFKgVkBSoFZAUqBWQFKgVkBSoFZAUqBWQFKgVkBSoFZAUqBWQFKgVkBSoFZAUqBWQFKgVkBSoFZAUqBWQFKgVkBSoFZAUqBWQFKgVkBSoFZAUqBWQFKgVkBSoFZAUqBWQFKgVkBSoFZAUqBWQFKgVkBSoFZAUqBWQFKgVkBSoFZAUqBWQFKgVkBSoFZAUqBWQFKgVkBSoFZAUqBWQFKgVkBSoFZAUqBWQFKgVkBSoFZAUqBWQFKgVkBSoFZAUqBWQFKgVkBSoFZAUqBWQFKgVkBSoFZAUqBWQFKgVkBIzFtASMxbQEjMW0BIzFtASMxbQEjMW0BIzFtASMxbQEjMW0BIzFtASMxbQEjMW0BIzFtASMxbQEjMW0BIzFtASMxbQEjMW0BIzFtASMxbQEjMW0BIzFtASMxbQEjMW0BIzFtASMxbQEjMW0BIzFtASMxbQEjMW0BIzFtASMxbQEjMW0BIzFtASMxbQEjMW0BIzFtASMxbQEjMW0BIzFtASMxbQEjMW0BIzFtASMxbQEjMW0BIzFtASMxbQEjMW0BIzFtASMxbQEjMW0BIzFtASMxbQEjMW0BIzFtASMxbQEjMW0BIzFtASMxbQEjMW0BIzFtASMxbQEjMW0BIzFtASMxbQEjMW0BIzFtASMxbQEjMW0BIzFtASMxbQEjMW0BIzFtASMxbQEjMW0BIzFtASMxbQEjMW0BIzFtASMxbQEjMW0BIzFtASMxbQEjMW0BIzFtASMxbQEjMW0BIzFtASMxbQEjMW0BIzFtASMxbQEjMW0BIzFtASMxbQEjMW0BIzFtASMxbQEjMW0BIzFtAPvhgQD74YEA++GBAPvhgQD74YEA++GBAPvhgQD74YEA++GBAPvhgQD74YEA++GBAPvhgQD74YEA++GBAPvhgQD74YEA++GBAPvhgQD74YEA++GBAPvhgQD74YEA++GBAPvhgQD74YEA++GBAPvhgQD74YEA++GBAPvhgQD74YEA++GBAPvhgQD74YEA++GBAPvhgQD74YEA++GBAPvhgQD74YEA++GBAPvhgQD74YEA++GBAPvhgQD74YEA++GBAPvhgQD74YEA++GBAPvhgQD74YEA++GBAPvhgQD74YEA++GBAPvhgQD74YEA++GBAPvhgQD74YEA++GBAPvhgQD74YEA++GBAPvhgQD74YEA++GBAPvhgQD74YEA++GBAPvhgQD74YEA++GBAPvhgQD74YEA++GBAPvhgQD74YEA++GBAPvhgQD74YEA++GBAPvhgQD74YEA++GBAPvhgQD74YEA++GBAPvhgQD74YEA++GBAPvhgQD74YEA++GBAPvhgQD74YEA++GBAPvhgQDQkZkA0JGZANCRmQDQkZkA0JGZANCRmQDQkZkA0JGZANCRmQDQkZkA0JGZANCRmQDQkZkA0JGZANCRmQDQkZkA0JGZANCRmQDQkZkA0JGZANCRmQDQkZkA0JGZANCRmQDQkZkA0JGZANCRmQDQkZkA0JGZANCRmQDQkZkA0JGZANCRmQDQkZkA0JGZANCRmQDQkZkA0JGZANCRmQDQkZkA0JGZANCRmQDQkZkA0JGZANCRmQDQkZkA0JGZANCRmQDQkZkA0JGZANCRmQDQkZkA0JGZANCRmQDQkZkA0JGZANCRmQDQkZkA0JGZANCRmQDQkZkA0JGZANCRmQDQkZkA0JGZANCRmQDQkZkA0JGZANCRmQDQkZkA0JGZANCRmQDQkZkA0JGZANCRmQDQkZkA0JGZANCRmQDQkZkA0JGZANCRmQDQkZkA0JGZANCRmQDQkZkA0JGZANCRmQDQkZkA0JGZANCRmQDQkZkA0JGZANCRmQDQkZkA0JGZANCRmQDQkZkA0JGZANCRmQDQkZkAqUGtAKlBrQCpQa0AqUGtAKlBrQCpQa0AqUGtAKlBrQCpQa0AqUGtAKlBrQCpQa0AqUGtAKlBrQCpQa0AqUGtAKlBrQCpQa0AqUGtAKlBrQCpQa0AqUGtAKlBrQCpQa0AqUGtAKlBrQCpQa0AqUGtAKlBrQCpQa0AqUGtAKlBrQCpQa0AqUGtAKlBrQCpQa0AqUGtAKlBrQCpQa0AqUGtAKlBrQCpQa0AqUGtAKlBrQCpQa0AqUGtAKlBrQCpQa0AqUGtAKlBrQCpQa0AqUGtAKlBrQCpQa0AqUGtAKlBrQCpQa0AqUGtAKlBrQCpQa0AqUGtAKlBrQCpQa0AqUGtAKlBrQCpQa0AqUGtAKlBrQCpQa0AqUGtAKlBrQCpQa0AqUGtAKlBrQCpQa0AqUGtAKlBrQCpQa0AqUGtAKlBrQCpQa0AqUGtAKlBrQCpQa0AqUGtAKlBrQCpQa0AqUGtAKlBrQCpQa0AqUGtAKlBrQCpQa0AqUGtAKlBrQCpQa0AqUGtAKlBrQCpQa0AqUGtAIHxwQCB8cEAgfHBAIHxwQCB8cEAgfHBAIHxwQCB8cEAgfHBAIHxwQCB8cEAgfHBAIHxwQCB8cEAgfHBAIHxwQCB8cEAgfHBAIHxwQCB8cEAgfHBAIHxwQCB8cEAgfHBAIHxwQCB8cEAgfHBAIHxwQCB8cEAgfHBAIHxwQCB8cEAgfHBAIHxwQCB8cEAgfHBAIHxwQCB8cEAgfHBAIHxwQCB8cEAgfHBAIHxwQCB8cEAgfHBAIHxwQCB8cEAgfHBAIHxwQCB8cEAgfHBAIHxwQCB8cEAgfHBAIHxwQCB8cEAgfHBAIHxwQCB8cEAgfHBAIHxwQCB8cEAgfHBAIHxwQCB8cEAgfHBAIHxwQCB8cEAgfHBAIHxwQCB8cEAgfHBAIHxwQCB8cEAgfHBAIHxwQCB8cEAgfHBAIHxwQCB8cEAgfHBAIHxwQCB8cEAgfHBAIHxwQCB8cEAgfHBAIHxwQCB8cEAgfHBAIHxwQCB8cEAgfHBAIHxwQCB8cEAgfHBAIHxwQCB8cEAgfHBAIHxwQBSodUAUqHVAFKh1QBSodUAUqHVAFKh1QBSodUAUqHVAFKh1QBSodUAUqHVAFKh1QBSodUAUqHVAFKh1QBSodUAUqHVAFKh1QBSodUAUqHVAFKh1QBSodUAUqHVAFKh1QBSodUAUqHVAFKh1QBSodUAUqHVAFKh1QBSodUAUqHVAFKh1QBSodUAUqHVAFKh1QBSodUAUqHVAFKh1QBSodUAUqHVAFKh1QBSodUAUqHVAFKh1QBSodUAUqHVAFKh1QBSodUAUqHVAFKh1QBSodUAUqHVAFKh1QBSodUAUqHVAFKh1QBSodUAUqHVAFKh1QBSodUAUqHVAFKh1QBSodUAUqHVAFKh1QBSodUAUqHVAFKh1QBSodUAUqHVAFKh1QBSodUAUqHVAFKh1QBSodUAUqHVAFKh1QBSodUAUqHVAFKh1QBSodUAUqHVAFKh1QBSodUAUqHVAFKh1QBSodUAUqHVAFKh1QBSodUAUqHVAFKh1QBSodUAUqHVAFKh1QBSodUAUqHVAFKh1QBSodUAK1HpACtR6QArUekAK1HpACtR6QArUekAK1HpACtR6QArUekAK1HpACtR6QArUekAK1HpACtR6QArUekAK1HpACtR6QArUekAK1HpACtR6QArUekAK1HpACtR6QArUekAK1HpACtR6QArUekAK1HpACtR6QArUekAK1HpACtR6QArUekAK1HpACtR6QArUekAK1HpACtR6QArUekAK1HpACtR6QArUekAK1HpACtR6QArUekAK1HpACtR6QArUekAK1HpACtR6QArUekAK1HpACtR6QArUekAK1HpACtR6QArUekAK1HpACtR6QArUekAK1HpACtR6QArUekAK1HpACtR6QArUekAK1HpACtR6QArUekAK1HpACtR6QArUekAK1HpACtR6QArUekAK1HpACtR6QArUekAK1HpACtR6QArUekAK1HpACtR6QArUekAK1HpACtR6QArUekAK1HpACtR6QArUekAK1HpACtR6QArUekAK1HpACtR6QArUekAK1HpACtR6QArUekAK1HpAAACAQAAAgEAAAIBAAACAQAAAgEAAAIBAAACAQAAAgEAAAIBAAACAQAAAgEAAAIBAAACAQAAAgEAAAIBAAACAQAAAgEAAAIBAAACAQAAAgEAAAIBAAACAQAAAgEAAAIBAAACAQAAAgEAAAIBAAACAQAAAgEAAAIBAAACAQAAAgEAAAIBAAACAQAAAgEAAAIBAAACAQAAAgEAAAIBAAACAQAAAgEAAAIBAAACAQAAAgEAAAIBAAACAQAAAgEAAAIBAAACAQAAAgEAAAIBAAACAQAAAgEAAAIBAAACAQAAAgEAAAIBAAACAQAAAgEAAAIBAAACAQAAAgEAAAIBAAACAQAAAgEAAAIBAAACAQAAAgEAAAIBAAACAQAAAgEAAAIBAAACAQAAAgEAAAIBAAACAQAAAgEAAAIBAAACAQAAAgEAAAIBAAACAQAAAgEAAAIBAAACAQAAAgEAAAIBAAACAQAAAgEAAAIBAAACAQAAAgEAAAIBAAACAQAAAgEAAAIBAAACAQAAAgEAAAIBAAACAQA==",
          "dtype": "f4",
          "shape": "100, 100"
         },
         "z": {
          "bdata": "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",
          "dtype": "f4",
          "shape": "100, 100"
         }
        },
        {
         "marker": {
          "color": "red",
          "size": 6,
          "symbol": "circle"
         },
         "mode": "markers+text",
         "text": [
          "P0",
          "P1",
          "P2",
          "P3",
          "P4",
          "P5",
          "P6",
          "P7",
          "P8",
          "P9",
          "P10",
          "P11",
          "P12",
          "P13",
          "P14",
          "P15",
          "P16",
          "P17",
          "P18",
          "P19",
          "P20",
          "P21",
          "P22",
          "P23",
          "P24",
          "P25",
          "P26",
          "P27",
          "P28",
          "P29"
         ],
         "textposition": "top center",
         "type": "scatter3d",
         "x": {
          "bdata": "AABAQMjMzD5A1yO89/1UvVTjJb0CkNq8zVqKvJ5ILby/YNi72vqGu1ddKLsi/tG6BvSCugJUI7rOtMu57BF+uWJwHrnAmcW4s3B2uCSwGbjbrL+38RFvt5YDFbdvAbq2kwBoturMELbEHrW1Tgxitak1DbV2FbK0",
          "dtype": "f4"
         },
         "y": {
          "bdata": "AABAQDMz8z8AAMA/K4emP0vIlz+wyY4/1jaJP6W+hT8LlYM/3TuCP55kgT9j3oA/r4qAP3xWgD/vNYA/oiGAP/kUgD8UDYA/KAiAPxYFgD8sA4A/+gGAPzwBgD/FAIA/ewCAP00AgD8wAIA/HgCAPxMAgD8MAIA/",
          "dtype": "f4"
         },
         "z": {
          "bdata": "AABQQgnXk0CitB9AlUkLQGpbBECCsQFAlKgAQI9BAEB/GQBA6gkAQNsDAECAAQBAlQAAQDoAAEAXAABACQAAQAMAAEABAABAAQAAQAAAAEAAAABAAAAAQAAAAEAAAABAAAAAQAAAAEAAAABAAAAAQAAAAEAAAABA",
          "dtype": "f4"
         }
        }
       ],
       "layout": {
        "autosize": true,
        "scene": {
         "xaxis": {
          "title": {
           "text": "x1"
          }
         },
         "yaxis": {
          "title": {
           "text": "x2"
          }
         },
         "zaxis": {
          "title": {
           "text": "J(x)"
          }
         }
        },
        "template": {
         "data": {
          "bar": [
           {
            "error_x": {
             "color": "#2a3f5f"
            },
            "error_y": {
             "color": "#2a3f5f"
            },
            "marker": {
             "line": {
              "color": "#E5ECF6",
              "width": 0.5
             },
             "pattern": {
              "fillmode": "overlay",
              "size": 10,
              "solidity": 0.2
             }
            },
            "type": "bar"
           }
          ],
          "barpolar": [
           {
            "marker": {
             "line": {
              "color": "#E5ECF6",
              "width": 0.5
             },
             "pattern": {
              "fillmode": "overlay",
              "size": 10,
              "solidity": 0.2
             }
            },
            "type": "barpolar"
           }
          ],
          "carpet": [
           {
            "aaxis": {
             "endlinecolor": "#2a3f5f",
             "gridcolor": "white",
             "linecolor": "white",
             "minorgridcolor": "white",
             "startlinecolor": "#2a3f5f"
            },
            "baxis": {
             "endlinecolor": "#2a3f5f",
             "gridcolor": "white",
             "linecolor": "white",
             "minorgridcolor": "white",
             "startlinecolor": "#2a3f5f"
            },
            "type": "carpet"
           }
          ],
          "choropleth": [
           {
            "colorbar": {
             "outlinewidth": 0,
             "ticks": ""
            },
            "type": "choropleth"
           }
          ],
          "contour": [
           {
            "colorbar": {
             "outlinewidth": 0,
             "ticks": ""
            },
            "colorscale": [
             [
              0,
              "#0d0887"
             ],
             [
              0.1111111111111111,
              "#46039f"
             ],
             [
              0.2222222222222222,
              "#7201a8"
             ],
             [
              0.3333333333333333,
              "#9c179e"
             ],
             [
              0.4444444444444444,
              "#bd3786"
             ],
             [
              0.5555555555555556,
              "#d8576b"
             ],
             [
              0.6666666666666666,
              "#ed7953"
             ],
             [
              0.7777777777777778,
              "#fb9f3a"
             ],
             [
              0.8888888888888888,
              "#fdca26"
             ],
             [
              1,
              "#f0f921"
             ]
            ],
            "type": "contour"
           }
          ],
          "contourcarpet": [
           {
            "colorbar": {
             "outlinewidth": 0,
             "ticks": ""
            },
            "type": "contourcarpet"
           }
          ],
          "heatmap": [
           {
            "colorbar": {
             "outlinewidth": 0,
             "ticks": ""
            },
            "colorscale": [
             [
              0,
              "#0d0887"
             ],
             [
              0.1111111111111111,
              "#46039f"
             ],
             [
              0.2222222222222222,
              "#7201a8"
             ],
             [
              0.3333333333333333,
              "#9c179e"
             ],
             [
              0.4444444444444444,
              "#bd3786"
             ],
             [
              0.5555555555555556,
              "#d8576b"
             ],
             [
              0.6666666666666666,
              "#ed7953"
             ],
             [
              0.7777777777777778,
              "#fb9f3a"
             ],
             [
              0.8888888888888888,
              "#fdca26"
             ],
             [
              1,
              "#f0f921"
             ]
            ],
            "type": "heatmap"
           }
          ],
          "histogram": [
           {
            "marker": {
             "pattern": {
              "fillmode": "overlay",
              "size": 10,
              "solidity": 0.2
             }
            },
            "type": "histogram"
           }
          ],
          "histogram2d": [
           {
            "colorbar": {
             "outlinewidth": 0,
             "ticks": ""
            },
            "colorscale": [
             [
              0,
              "#0d0887"
             ],
             [
              0.1111111111111111,
              "#46039f"
             ],
             [
              0.2222222222222222,
              "#7201a8"
             ],
             [
              0.3333333333333333,
              "#9c179e"
             ],
             [
              0.4444444444444444,
              "#bd3786"
             ],
             [
              0.5555555555555556,
              "#d8576b"
             ],
             [
              0.6666666666666666,
              "#ed7953"
             ],
             [
              0.7777777777777778,
              "#fb9f3a"
             ],
             [
              0.8888888888888888,
              "#fdca26"
             ],
             [
              1,
              "#f0f921"
             ]
            ],
            "type": "histogram2d"
           }
          ],
          "histogram2dcontour": [
           {
            "colorbar": {
             "outlinewidth": 0,
             "ticks": ""
            },
            "colorscale": [
             [
              0,
              "#0d0887"
             ],
             [
              0.1111111111111111,
              "#46039f"
             ],
             [
              0.2222222222222222,
              "#7201a8"
             ],
             [
              0.3333333333333333,
              "#9c179e"
             ],
             [
              0.4444444444444444,
              "#bd3786"
             ],
             [
              0.5555555555555556,
              "#d8576b"
             ],
             [
              0.6666666666666666,
              "#ed7953"
             ],
             [
              0.7777777777777778,
              "#fb9f3a"
             ],
             [
              0.8888888888888888,
              "#fdca26"
             ],
             [
              1,
              "#f0f921"
             ]
            ],
            "type": "histogram2dcontour"
           }
          ],
          "mesh3d": [
           {
            "colorbar": {
             "outlinewidth": 0,
             "ticks": ""
            },
            "type": "mesh3d"
           }
          ],
          "parcoords": [
           {
            "line": {
             "colorbar": {
              "outlinewidth": 0,
              "ticks": ""
             }
            },
            "type": "parcoords"
           }
          ],
          "pie": [
           {
            "automargin": true,
            "type": "pie"
           }
          ],
          "scatter": [
           {
            "fillpattern": {
             "fillmode": "overlay",
             "size": 10,
             "solidity": 0.2
            },
            "type": "scatter"
           }
          ],
          "scatter3d": [
           {
            "line": {
             "colorbar": {
              "outlinewidth": 0,
              "ticks": ""
             }
            },
            "marker": {
             "colorbar": {
              "outlinewidth": 0,
              "ticks": ""
             }
            },
            "type": "scatter3d"
           }
          ],
          "scattercarpet": [
           {
            "marker": {
             "colorbar": {
              "outlinewidth": 0,
              "ticks": ""
             }
            },
            "type": "scattercarpet"
           }
          ],
          "scattergeo": [
           {
            "marker": {
             "colorbar": {
              "outlinewidth": 0,
              "ticks": ""
             }
            },
            "type": "scattergeo"
           }
          ],
          "scattergl": [
           {
            "marker": {
             "colorbar": {
              "outlinewidth": 0,
              "ticks": ""
             }
            },
            "type": "scattergl"
           }
          ],
          "scattermap": [
           {
            "marker": {
             "colorbar": {
              "outlinewidth": 0,
              "ticks": ""
             }
            },
            "type": "scattermap"
           }
          ],
          "scattermapbox": [
           {
            "marker": {
             "colorbar": {
              "outlinewidth": 0,
              "ticks": ""
             }
            },
            "type": "scattermapbox"
           }
          ],
          "scatterpolar": [
           {
            "marker": {
             "colorbar": {
              "outlinewidth": 0,
              "ticks": ""
             }
            },
            "type": "scatterpolar"
           }
          ],
          "scatterpolargl": [
           {
            "marker": {
             "colorbar": {
              "outlinewidth": 0,
              "ticks": ""
             }
            },
            "type": "scatterpolargl"
           }
          ],
          "scatterternary": [
           {
            "marker": {
             "colorbar": {
              "outlinewidth": 0,
              "ticks": ""
             }
            },
            "type": "scatterternary"
           }
          ],
          "surface": [
           {
            "colorbar": {
             "outlinewidth": 0,
             "ticks": ""
            },
            "colorscale": [
             [
              0,
              "#0d0887"
             ],
             [
              0.1111111111111111,
              "#46039f"
             ],
             [
              0.2222222222222222,
              "#7201a8"
             ],
             [
              0.3333333333333333,
              "#9c179e"
             ],
             [
              0.4444444444444444,
              "#bd3786"
             ],
             [
              0.5555555555555556,
              "#d8576b"
             ],
             [
              0.6666666666666666,
              "#ed7953"
             ],
             [
              0.7777777777777778,
              "#fb9f3a"
             ],
             [
              0.8888888888888888,
              "#fdca26"
             ],
             [
              1,
              "#f0f921"
             ]
            ],
            "type": "surface"
           }
          ],
          "table": [
           {
            "cells": {
             "fill": {
              "color": "#EBF0F8"
             },
             "line": {
              "color": "white"
             }
            },
            "header": {
             "fill": {
              "color": "#C8D4E3"
             },
             "line": {
              "color": "white"
             }
            },
            "type": "table"
           }
          ]
         },
         "layout": {
          "annotationdefaults": {
           "arrowcolor": "#2a3f5f",
           "arrowhead": 0,
           "arrowwidth": 1
          },
          "autotypenumbers": "strict",
          "coloraxis": {
           "colorbar": {
            "outlinewidth": 0,
            "ticks": ""
           }
          },
          "colorscale": {
           "diverging": [
            [
             0,
             "#8e0152"
            ],
            [
             0.1,
             "#c51b7d"
            ],
            [
             0.2,
             "#de77ae"
            ],
            [
             0.3,
             "#f1b6da"
            ],
            [
             0.4,
             "#fde0ef"
            ],
            [
             0.5,
             "#f7f7f7"
            ],
            [
             0.6,
             "#e6f5d0"
            ],
            [
             0.7,
             "#b8e186"
            ],
            [
             0.8,
             "#7fbc41"
            ],
            [
             0.9,
             "#4d9221"
            ],
            [
             1,
             "#276419"
            ]
           ],
           "sequential": [
            [
             0,
             "#0d0887"
            ],
            [
             0.1111111111111111,
             "#46039f"
            ],
            [
             0.2222222222222222,
             "#7201a8"
            ],
            [
             0.3333333333333333,
             "#9c179e"
            ],
            [
             0.4444444444444444,
             "#bd3786"
            ],
            [
             0.5555555555555556,
             "#d8576b"
            ],
            [
             0.6666666666666666,
             "#ed7953"
            ],
            [
             0.7777777777777778,
             "#fb9f3a"
            ],
            [
             0.8888888888888888,
             "#fdca26"
            ],
            [
             1,
             "#f0f921"
            ]
           ],
           "sequentialminus": [
            [
             0,
             "#0d0887"
            ],
            [
             0.1111111111111111,
             "#46039f"
            ],
            [
             0.2222222222222222,
             "#7201a8"
            ],
            [
             0.3333333333333333,
             "#9c179e"
            ],
            [
             0.4444444444444444,
             "#bd3786"
            ],
            [
             0.5555555555555556,
             "#d8576b"
            ],
            [
             0.6666666666666666,
             "#ed7953"
            ],
            [
             0.7777777777777778,
             "#fb9f3a"
            ],
            [
             0.8888888888888888,
             "#fdca26"
            ],
            [
             1,
             "#f0f921"
            ]
           ]
          },
          "colorway": [
           "#636efa",
           "#EF553B",
           "#00cc96",
           "#ab63fa",
           "#FFA15A",
           "#19d3f3",
           "#FF6692",
           "#B6E880",
           "#FF97FF",
           "#FECB52"
          ],
          "font": {
           "color": "#2a3f5f"
          },
          "geo": {
           "bgcolor": "white",
           "lakecolor": "white",
           "landcolor": "#E5ECF6",
           "showlakes": true,
           "showland": true,
           "subunitcolor": "white"
          },
          "hoverlabel": {
           "align": "left"
          },
          "hovermode": "closest",
          "mapbox": {
           "style": "light"
          },
          "paper_bgcolor": "white",
          "plot_bgcolor": "#E5ECF6",
          "polar": {
           "angularaxis": {
            "gridcolor": "white",
            "linecolor": "white",
            "ticks": ""
           },
           "bgcolor": "#E5ECF6",
           "radialaxis": {
            "gridcolor": "white",
            "linecolor": "white",
            "ticks": ""
           }
          },
          "scene": {
           "xaxis": {
            "backgroundcolor": "#E5ECF6",
            "gridcolor": "white",
            "gridwidth": 2,
            "linecolor": "white",
            "showbackground": true,
            "ticks": "",
            "zerolinecolor": "white"
           },
           "yaxis": {
            "backgroundcolor": "#E5ECF6",
            "gridcolor": "white",
            "gridwidth": 2,
            "linecolor": "white",
            "showbackground": true,
            "ticks": "",
            "zerolinecolor": "white"
           },
           "zaxis": {
            "backgroundcolor": "#E5ECF6",
            "gridcolor": "white",
            "gridwidth": 2,
            "linecolor": "white",
            "showbackground": true,
            "ticks": "",
            "zerolinecolor": "white"
           }
          },
          "shapedefaults": {
           "line": {
            "color": "#2a3f5f"
           }
          },
          "ternary": {
           "aaxis": {
            "gridcolor": "white",
            "linecolor": "white",
            "ticks": ""
           },
           "baxis": {
            "gridcolor": "white",
            "linecolor": "white",
            "ticks": ""
           },
           "bgcolor": "#E5ECF6",
           "caxis": {
            "gridcolor": "white",
            "linecolor": "white",
            "ticks": ""
           }
          },
          "title": {
           "x": 0.05
          },
          "xaxis": {
           "automargin": true,
           "gridcolor": "white",
           "linecolor": "white",
           "ticks": "",
           "title": {
            "standoff": 15
           },
           "zerolinecolor": "white",
           "zerolinewidth": 2
          },
          "yaxis": {
           "automargin": true,
           "gridcolor": "white",
           "linecolor": "white",
           "ticks": "",
           "title": {
            "standoff": 15
           },
           "zerolinecolor": "white",
           "zerolinewidth": 2
          }
         }
        },
        "title": {
         "text": "Superfície da Função de Custo + Pontos Encontrados (Taxa de Aprendizado = 0.1)"
        }
       }
      }
     },
     "metadata": {},
     "output_type": "display_data"
    }
   ],
   "source": [
    "x_values, costs = dict_of_results[learning_rates[0]]\n",
    "\n",
    "plot_function(f, x_values,costs, title=f\"Superfície da Função de Custo + Pontos Encontrados (Taxa de Aprendizado = {learning_rates[0]})\")"
   ]
  },
  {
   "cell_type": "code",
   "execution_count": 6,
   "id": "4880bddd",
   "metadata": {},
   "outputs": [
    {
     "data": {
      "application/vnd.plotly.v1+json": {
       "config": {
        "plotlyServerURL": "https://plot.ly"
       },
       "data": [
        {
         "colorscale": [
          [
           0,
           "#440154"
          ],
          [
           0.1111111111111111,
           "#482878"
          ],
          [
           0.2222222222222222,
           "#3e4989"
          ],
          [
           0.3333333333333333,
           "#31688e"
          ],
          [
           0.4444444444444444,
           "#26828e"
          ],
          [
           0.5555555555555556,
           "#1f9e89"
          ],
          [
           0.6666666666666666,
           "#35b779"
          ],
          [
           0.7777777777777778,
           "#6ece58"
          ],
          [
           0.8888888888888888,
           "#b5de2b"
          ],
          [
           1,
           "#fde725"
          ]
         ],
         "opacity": 0.8,
         "type": "surface",
         "x": {
          "bdata": "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",
          "dtype": "f4",
          "shape": "100, 100"
         },
         "y": {
          "bdata": "AACAwAAAgMAAAIDAAACAwAAAgMAAAIDAAACAwAAAgMAAAIDAAACAwAAAgMAAAIDAAACAwAAAgMAAAIDAAACAwAAAgMAAAIDAAACAwAAAgMAAAIDAAACAwAAAgMAAAIDAAACAwAAAgMAAAIDAAACAwAAAgMAAAIDAAACAwAAAgMAAAIDAAACAwAAAgMAAAIDAAACAwAAAgMAAAIDAAACAwAAAgMAAAIDAAACAwAAAgMAAAIDAAACAwAAAgMAAAIDAAACAwAAAgMAAAIDAAACAwAAAgMAAAIDAAACAwAAAgMAAAIDAAACAwAAAgMAAAIDAAACAwAAAgMAAAIDAAACAwAAAgMAAAIDAAACAwAAAgMAAAIDAAACAwAAAgMAAAIDAAACAwAAAgMAAAIDAAACAwAAAgMAAAIDAAACAwAAAgMAAAIDAAACAwAAAgMAAAIDAAACAwAAAgMAAAIDAAACAwAAAgMAAAIDAAACAwAAAgMAAAIDAAACAwAAAgMAAAIDAAACAwAAAgMAAAIDAAACAwArUesAK1HrACtR6wArUesAK1HrACtR6wArUesAK1HrACtR6wArUesAK1HrACtR6wArUesAK1HrACtR6wArUesAK1HrACtR6wArUesAK1HrACtR6wArUesAK1HrACtR6wArUesAK1HrACtR6wArUesAK1HrACtR6wArUesAK1HrACtR6wArUesAK1HrACtR6wArUesAK1HrACtR6wArUesAK1HrACtR6wArUesAK1HrACtR6wArUesAK1HrACtR6wArUesAK1HrACtR6wArUesAK1HrACtR6wArUesAK1HrACtR6wArUesAK1HrACtR6wArUesAK1HrACtR6wArUesAK1HrACtR6wArUesAK1HrACtR6wArUesAK1HrACtR6wArUesAK1HrACtR6wArUesAK1HrACtR6wArUesAK1HrACtR6wArUesAK1HrACtR6wArUesAK1HrACtR6wArUesAK1HrACtR6wArUesAK1HrACtR6wArUesAK1HrACtR6wArUesAK1HrACtR6wArUesAUqHXAFKh1wBSodcAUqHXAFKh1wBSodcAUqHXAFKh1wBSodcAUqHXAFKh1wBSodcAUqHXAFKh1wBSodcAUqHXAFKh1wBSodcAUqHXAFKh1wBSodcAUqHXAFKh1wBSodcAUqHXAFKh1wBSodcAUqHXAFKh1wBSodcAUqHXAFKh1wBSodcAUqHXAFKh1wBSodcAUqHXAFKh1wBSodcAUqHXAFKh1wBSodcAUqHXAFKh1wBSodcAUqHXAFKh1wBSodcAUqHXAFKh1wBSodcAUqHXAFKh1wBSodcAUqHXAFKh1wBSodcAUqHXAFKh1wBSodcAUqHXAFKh1wBSodcAUqHXAFKh1wBSodcAUqHXAFKh1wBSodcAUqHXAFKh1wBSodcAUqHXAFKh1wBSodcAUqHXAFKh1wBSodcAUqHXAFKh1wBSodcAUqHXAFKh1wBSodcAUqHXAFKh1wBSodcAUqHXAFKh1wBSodcAUqHXAFKh1wBSodcAUqHXAFKh1wBSodcAUqHXAFKh1wBSodcAUqHXAIHxwwCB8cMAgfHDAIHxwwCB8cMAgfHDAIHxwwCB8cMAgfHDAIHxwwCB8cMAgfHDAIHxwwCB8cMAgfHDAIHxwwCB8cMAgfHDAIHxwwCB8cMAgfHDAIHxwwCB8cMAgfHDAIHxwwCB8cMAgfHDAIHxwwCB8cMAgfHDAIHxwwCB8cMAgfHDAIHxwwCB8cMAgfHDAIHxwwCB8cMAgfHDAIHxwwCB8cMAgfHDAIHxwwCB8cMAgfHDAIHxwwCB8cMAgfHDAIHxwwCB8cMAgfHDAIHxwwCB8cMAgfHDAIHxwwCB8cMAgfHDAIHxwwCB8cMAgfHDAIHxwwCB8cMAgfHDAIHxwwCB8cMAgfHDAIHxwwCB8cMAgfHDAIHxwwCB8cMAgfHDAIHxwwCB8cMAgfHDAIHxwwCB8cMAgfHDAIHxwwCB8cMAgfHDAIHxwwCB8cMAgfHDAIHxwwCB8cMAgfHDAIHxwwCB8cMAgfHDAIHxwwCB8cMAgfHDAIHxwwCB8cMAgfHDAIHxwwCB8cMAgfHDAIHxwwCpQa8AqUGvAKlBrwCpQa8AqUGvAKlBrwCpQa8AqUGvAKlBrwCpQa8AqUGvAKlBrwCpQa8AqUGvAKlBrwCpQa8AqUGvAKlBrwCpQa8AqUGvAKlBrwCpQa8AqUGvAKlBrwCpQa8AqUGvAKlBrwCpQa8AqUGvAKlBrwCpQa8AqUGvAKlBrwCpQa8AqUGvAKlBrwCpQa8AqUGvAKlBrwCpQa8AqUGvAKlBrwCpQa8AqUGvAKlBrwCpQa8AqUGvAKlBrwCpQa8AqUGvAKlBrwCpQa8AqUGvAKlBrwCpQa8AqUGvAKlBrwCpQa8AqUGvAKlBrwCpQa8AqUGvAKlBrwCpQa8AqUGvAKlBrwCpQa8AqUGvAKlBrwCpQa8AqUGvAKlBrwCpQa8AqUGvAKlBrwCpQa8AqUGvAKlBrwCpQa8AqUGvAKlBrwCpQa8AqUGvAKlBrwCpQa8AqUGvAKlBrwCpQa8AqUGvAKlBrwCpQa8AqUGvAKlBrwCpQa8AqUGvAKlBrwCpQa8AqUGvAKlBrwCpQa8A0JGbANCRmwDQkZsA0JGbANCRmwDQkZsA0JGbANCRmwDQkZsA0JGbANCRmwDQkZsA0JGbANCRmwDQkZsA0JGbANCRmwDQkZsA0JGbANCRmwDQkZsA0JGbANCRmwDQkZsA0JGbANCRmwDQkZsA0JGbANCRmwDQkZsA0JGbANCRmwDQkZsA0JGbANCRmwDQkZsA0JGbANCRmwDQkZsA0JGbANCRmwDQkZsA0JGbANCRmwDQkZsA0JGbANCRmwDQkZsA0JGbANCRmwDQkZsA0JGbANCRmwDQkZsA0JGbANCRmwDQkZsA0JGbANCRmwDQkZsA0JGbANCRmwDQkZsA0JGbANCRmwDQkZsA0JGbANCRmwDQkZsA0JGbANCRmwDQkZsA0JGbANCRmwDQkZsA0JGbANCRmwDQkZsA0JGbANCRmwDQkZsA0JGbANCRmwDQkZsA0JGbANCRmwDQkZsA0JGbANCRmwDQkZsA0JGbANCRmwDQkZsA0JGbANCRmwDQkZsA0JGbANCRmwDQkZsA0JGbAPvhgwD74YMA++GDAPvhgwD74YMA++GDAPvhgwD74YMA++GDAPvhgwD74YMA++GDAPvhgwD74YMA++GDAPvhgwD74YMA++GDAPvhgwD74YMA++GDAPvhgwD74YMA++GDAPvhgwD74YMA++GDAPvhgwD74YMA++GDAPvhgwD74YMA++GDAPvhgwD74YMA++GDAPvhgwD74YMA++GDAPvhgwD74YMA++GDAPvhgwD74YMA++GDAPvhgwD74YMA++GDAPvhgwD74YMA++GDAPvhgwD74YMA++GDAPvhgwD74YMA++GDAPvhgwD74YMA++GDAPvhgwD74YMA++GDAPvhgwD74YMA++GDAPvhgwD74YMA++GDAPvhgwD74YMA++GDAPvhgwD74YMA++GDAPvhgwD74YMA++GDAPvhgwD74YMA++GDAPvhgwD74YMA++GDAPvhgwD74YMA++GDAPvhgwD74YMA++GDAPvhgwD74YMA++GDAPvhgwD74YMA++GDAPvhgwD74YMA++GDAPvhgwEjMW8BIzFvASMxbwEjMW8BIzFvASMxbwEjMW8BIzFvASMxbwEjMW8BIzFvASMxbwEjMW8BIzFvASMxbwEjMW8BIzFvASMxbwEjMW8BIzFvASMxbwEjMW8BIzFvASMxbwEjMW8BIzFvASMxbwEjMW8BIzFvASMxbwEjMW8BIzFvASMxbwEjMW8BIzFvASMxbwEjMW8BIzFvASMxbwEjMW8BIzFvASMxbwEjMW8BIzFvASMxbwEjMW8BIzFvASMxbwEjMW8BIzFvASMxbwEjMW8BIzFvASMxbwEjMW8BIzFvASMxbwEjMW8BIzFvASMxbwEjMW8BIzFvASMxbwEjMW8BIzFvASMxbwEjMW8BIzFvASMxbwEjMW8BIzFvASMxbwEjMW8BIzFvASMxbwEjMW8BIzFvASMxbwEjMW8BIzFvASMxbwEjMW8BIzFvASMxbwEjMW8BIzFvASMxbwEjMW8BIzFvASMxbwEjMW8BIzFvASMxbwEjMW8BIzFvASMxbwEjMW8BIzFvASMxbwEjMW8BSoFbAUqBWwFKgVsBSoFbAUqBWwFKgVsBSoFbAUqBWwFKgVsBSoFbAUqBWwFKgVsBSoFbAUqBWwFKgVsBSoFbAUqBWwFKgVsBSoFbAUqBWwFKgVsBSoFbAUqBWwFKgVsBSoFbAUqBWwFKgVsBSoFbAUqBWwFKgVsBSoFbAUqBWwFKgVsBSoFbAUqBWwFKgVsBSoFbAUqBWwFKgVsBSoFbAUqBWwFKgVsBSoFbAUqBWwFKgVsBSoFbAUqBWwFKgVsBSoFbAUqBWwFKgVsBSoFbAUqBWwFKgVsBSoFbAUqBWwFKgVsBSoFbAUqBWwFKgVsBSoFbAUqBWwFKgVsBSoFbAUqBWwFKgVsBSoFbAUqBWwFKgVsBSoFbAUqBWwFKgVsBSoFbAUqBWwFKgVsBSoFbAUqBWwFKgVsBSoFbAUqBWwFKgVsBSoFbAUqBWwFKgVsBSoFbAUqBWwFKgVsBSoFbAUqBWwFKgVsBSoFbAUqBWwFKgVsBSoFbAUqBWwFKgVsBSoFbAUqBWwFKgVsBSoFbAXXRRwF10UcBddFHAXXRRwF10UcBddFHAXXRRwF10UcBddFHAXXRRwF10UcBddFHAXXRRwF10UcBddFHAXXRRwF10UcBddFHAXXRRwF10UcBddFHAXXRRwF10UcBddFHAXXRRwF10UcBddFHAXXRRwF10UcBddFHAXXRRwF10UcBddFHAXXRRwF10UcBddFHAXXRRwF10UcBddFHAXXRRwF10UcBddFHAXXRRwF10UcBddFHAXXRRwF10UcBddFHAXXRRwF10UcBddFHAXXRRwF10UcBddFHAXXRRwF10UcBddFHAXXRRwF10UcBddFHAXXRRwF10UcBddFHAXXRRwF10UcBddFHAXXRRwF10UcBddFHAXXRRwF10UcBddFHAXXRRwF10UcBddFHAXXRRwF10UcBddFHAXXRRwF10UcBddFHAXXRRwF10UcBddFHAXXRRwF10UcBddFHAXXRRwF10UcBddFHAXXRRwF10UcBddFHAXXRRwF10UcBddFHAXXRRwF10UcBddFHAXXRRwGhITMBoSEzAaEhMwGhITMBoSEzAaEhMwGhITMBoSEzAaEhMwGhITMBoSEzAaEhMwGhITMBoSEzAaEhMwGhITMBoSEzAaEhMwGhITMBoSEzAaEhMwGhITMBoSEzAaEhMwGhITMBoSEzAaEhMwGhITMBoSEzAaEhMwGhITMBoSEzAaEhMwGhITMBoSEzAaEhMwGhITMBoSEzAaEhMwGhITMBoSEzAaEhMwGhITMBoSEzAaEhMwGhITMBoSEzAaEhMwGhITMBoSEzAaEhMwGhITMBoSEzAaEhMwGhITMBoSEzAaEhMwGhITMBoSEzAaEhMwGhITMBoSEzAaEhMwGhITMBoSEzAaEhMwGhITMBoSEzAaEhMwGhITMBoSEzAaEhMwGhITMBoSEzAaEhMwGhITMBoSEzAaEhMwGhITMBoSEzAaEhMwGhITMBoSEzAaEhMwGhITMBoSEzAaEhMwGhITMBoSEzAaEhMwGhITMBoSEzAaEhMwGhITMBoSEzAaEhMwGhITMBoSEzAaEhMwGhITMByHEfAchxHwHIcR8ByHEfAchxHwHIcR8ByHEfAchxHwHIcR8ByHEfAchxHwHIcR8ByHEfAchxHwHIcR8ByHEfAchxHwHIcR8ByHEfAchxHwHIcR8ByHEfAchxHwHIcR8ByHEfAchxHwHIcR8ByHEfAchxHwHIcR8ByHEfAchxHwHIcR8ByHEfAchxHwHIcR8ByHEfAchxHwHIcR8ByHEfAchxHwHIcR8ByHEfAchxHwHIcR8ByHEfAchxHwHIcR8ByHEfAchxHwHIcR8ByHEfAchxHwHIcR8ByHEfAchxHwHIcR8ByHEfAchxHwHIcR8ByHEfAchxHwHIcR8ByHEfAchxHwHIcR8ByHEfAchxHwHIcR8ByHEfAchxHwHIcR8ByHEfAchxHwHIcR8ByHEfAchxHwHIcR8ByHEfAchxHwHIcR8ByHEfAchxHwHIcR8ByHEfAchxHwHIcR8ByHEfAchxHwHIcR8ByHEfAchxHwHIcR8ByHEfAchxHwHIcR8ByHEfAchxHwHIcR8ByHEfAfPBBwHzwQcB88EHAfPBBwHzwQcB88EHAfPBBwHzwQcB88EHAfPBBwHzwQcB88EHAfPBBwHzwQcB88EHAfPBBwHzwQcB88EHAfPBBwHzwQcB88EHAfPBBwHzwQcB88EHAfPBBwHzwQcB88EHAfPBBwHzwQcB88EHAfPBBwHzwQcB88EHAfPBBwHzwQcB88EHAfPBBwHzwQcB88EHAfPBBwHzwQcB88EHAfPBBwHzwQcB88EHAfPBBwHzwQcB88EHAfPBBwHzwQcB88EHAfPBBwHzwQcB88EHAfPBBwHzwQcB88EHAfPBBwHzwQcB88EHAfPBBwHzwQcB88EHAfPBBwHzwQcB88EHAfPBBwHzwQcB88EHAfPBBwHzwQcB88EHAfPBBwHzwQcB88EHAfPBBwHzwQcB88EHAfPBBwHzwQcB88EHAfPBBwHzwQcB88EHAfPBBwHzwQcB88EHAfPBBwHzwQcB88EHAfPBBwHzwQcB88EHAfPBBwHzwQcB88EHAfPBBwHzwQcB88EHAfPBBwIbEPMCGxDzAhsQ8wIbEPMCGxDzAhsQ8wIbEPMCGxDzAhsQ8wIbEPMCGxDzAhsQ8wIbEPMCGxDzAhsQ8wIbEPMCGxDzAhsQ8wIbEPMCGxDzAhsQ8wIbEPMCGxDzAhsQ8wIbEPMCGxDzAhsQ8wIbEPMCGxDzAhsQ8wIbEPMCGxDzAhsQ8wIbEPMCGxDzAhsQ8wIbEPMCGxDzAhsQ8wIbEPMCGxDzAhsQ8wIbEPMCGxDzAhsQ8wIbEPMCGxDzAhsQ8wIbEPMCGxDzAhsQ8wIbEPMCGxDzAhsQ8wIbEPMCGxDzAhsQ8wIbEPMCGxDzAhsQ8wIbEPMCGxDzAhsQ8wIbEPMCGxDzAhsQ8wIbEPMCGxDzAhsQ8wIbEPMCGxDzAhsQ8wIbEPMCGxDzAhsQ8wIbEPMCGxDzAhsQ8wIbEPMCGxDzAhsQ8wIbEPMCGxDzAhsQ8wIbEPMCGxDzAhsQ8wIbEPMCGxDzAhsQ8wIbEPMCGxDzAhsQ8wIbEPMCGxDzAhsQ8wIbEPMCGxDzAhsQ8wIbEPMCQmDfAkJg3wJCYN8CQmDfAkJg3wJCYN8CQmDfAkJg3wJCYN8CQmDfAkJg3wJCYN8CQmDfAkJg3wJCYN8CQmDfAkJg3wJCYN8CQmDfAkJg3wJCYN8CQmDfAkJg3wJCYN8CQmDfAkJg3wJCYN8CQmDfAkJg3wJCYN8CQmDfAkJg3wJCYN8CQmDfAkJg3wJCYN8CQmDfAkJg3wJCYN8CQmDfAkJg3wJCYN8CQmDfAkJg3wJCYN8CQmDfAkJg3wJCYN8CQmDfAkJg3wJCYN8CQmDfAkJg3wJCYN8CQmDfAkJg3wJCYN8CQmDfAkJg3wJCYN8CQmDfAkJg3wJCYN8CQmDfAkJg3wJCYN8CQmDfAkJg3wJCYN8CQmDfAkJg3wJCYN8CQmDfAkJg3wJCYN8CQmDfAkJg3wJCYN8CQmDfAkJg3wJCYN8CQmDfAkJg3wJCYN8CQmDfAkJg3wJCYN8CQmDfAkJg3wJCYN8CQmDfAkJg3wJCYN8CQmDfAkJg3wJCYN8CQmDfAkJg3wJCYN8CQmDfAnGwywJxsMsCcbDLAnGwywJxsMsCcbDLAnGwywJxsMsCcbDLAnGwywJxsMsCcbDLAnGwywJxsMsCcbDLAnGwywJxsMsCcbDLAnGwywJxsMsCcbDLAnGwywJxsMsCcbDLAnGwywJxsMsCcbDLAnGwywJxsMsCcbDLAnGwywJxsMsCcbDLAnGwywJxsMsCcbDLAnGwywJxsMsCcbDLAnGwywJxsMsCcbDLAnGwywJxsMsCcbDLAnGwywJxsMsCcbDLAnGwywJxsMsCcbDLAnGwywJxsMsCcbDLAnGwywJxsMsCcbDLAnGwywJxsMsCcbDLAnGwywJxsMsCcbDLAnGwywJxsMsCcbDLAnGwywJxsMsCcbDLAnGwywJxsMsCcbDLAnGwywJxsMsCcbDLAnGwywJxsMsCcbDLAnGwywJxsMsCcbDLAnGwywJxsMsCcbDLAnGwywJxsMsCcbDLAnGwywJxsMsCcbDLAnGwywJxsMsCcbDLAnGwywJxsMsCcbDLAnGwywJxsMsCcbDLAnGwywKZALcCmQC3ApkAtwKZALcCmQC3ApkAtwKZALcCmQC3ApkAtwKZALcCmQC3ApkAtwKZALcCmQC3ApkAtwKZALcCmQC3ApkAtwKZALcCmQC3ApkAtwKZALcCmQC3ApkAtwKZALcCmQC3ApkAtwKZALcCmQC3ApkAtwKZALcCmQC3ApkAtwKZALcCmQC3ApkAtwKZALcCmQC3ApkAtwKZALcCmQC3ApkAtwKZALcCmQC3ApkAtwKZALcCmQC3ApkAtwKZALcCmQC3ApkAtwKZALcCmQC3ApkAtwKZALcCmQC3ApkAtwKZALcCmQC3ApkAtwKZALcCmQC3ApkAtwKZALcCmQC3ApkAtwKZALcCmQC3ApkAtwKZALcCmQC3ApkAtwKZALcCmQC3ApkAtwKZALcCmQC3ApkAtwKZALcCmQC3ApkAtwKZALcCmQC3ApkAtwKZALcCmQC3ApkAtwKZALcCmQC3ApkAtwKZALcCmQC3ApkAtwKZALcCmQC3ApkAtwKZALcCmQC3ApkAtwKZALcCwFCjAsBQowLAUKMCwFCjAsBQowLAUKMCwFCjAsBQowLAUKMCwFCjAsBQowLAUKMCwFCjAsBQowLAUKMCwFCjAsBQowLAUKMCwFCjAsBQowLAUKMCwFCjAsBQowLAUKMCwFCjAsBQowLAUKMCwFCjAsBQowLAUKMCwFCjAsBQowLAUKMCwFCjAsBQowLAUKMCwFCjAsBQowLAUKMCwFCjAsBQowLAUKMCwFCjAsBQowLAUKMCwFCjAsBQowLAUKMCwFCjAsBQowLAUKMCwFCjAsBQowLAUKMCwFCjAsBQowLAUKMCwFCjAsBQowLAUKMCwFCjAsBQowLAUKMCwFCjAsBQowLAUKMCwFCjAsBQowLAUKMCwFCjAsBQowLAUKMCwFCjAsBQowLAUKMCwFCjAsBQowLAUKMCwFCjAsBQowLAUKMCwFCjAsBQowLAUKMCwFCjAsBQowLAUKMCwFCjAsBQowLAUKMCwFCjAsBQowLAUKMCwFCjAsBQowLAUKMCwFCjAsBQowLAUKMCwFCjAuugiwLroIsC66CLAuugiwLroIsC66CLAuugiwLroIsC66CLAuugiwLroIsC66CLAuugiwLroIsC66CLAuugiwLroIsC66CLAuugiwLroIsC66CLAuugiwLroIsC66CLAuugiwLroIsC66CLAuugiwLroIsC66CLAuugiwLroIsC66CLAuugiwLroIsC66CLAuugiwLroIsC66CLAuugiwLroIsC66CLAuugiwLroIsC66CLAuugiwLroIsC66CLAuugiwLroIsC66CLAuugiwLroIsC66CLAuugiwLroIsC66CLAuugiwLroIsC66CLAuugiwLroIsC66CLAuugiwLroIsC66CLAuugiwLroIsC66CLAuugiwLroIsC66CLAuugiwLroIsC66CLAuugiwLroIsC66CLAuugiwLroIsC66CLAuugiwLroIsC66CLAuugiwLroIsC66CLAuugiwLroIsC66CLAuugiwLroIsC66CLAuugiwLroIsC66CLAuugiwLroIsC66CLAuugiwMS8HcDEvB3AxLwdwMS8HcDEvB3AxLwdwMS8HcDEvB3AxLwdwMS8HcDEvB3AxLwdwMS8HcDEvB3AxLwdwMS8HcDEvB3AxLwdwMS8HcDEvB3AxLwdwMS8HcDEvB3AxLwdwMS8HcDEvB3AxLwdwMS8HcDEvB3AxLwdwMS8HcDEvB3AxLwdwMS8HcDEvB3AxLwdwMS8HcDEvB3AxLwdwMS8HcDEvB3AxLwdwMS8HcDEvB3AxLwdwMS8HcDEvB3AxLwdwMS8HcDEvB3AxLwdwMS8HcDEvB3AxLwdwMS8HcDEvB3AxLwdwMS8HcDEvB3AxLwdwMS8HcDEvB3AxLwdwMS8HcDEvB3AxLwdwMS8HcDEvB3AxLwdwMS8HcDEvB3AxLwdwMS8HcDEvB3AxLwdwMS8HcDEvB3AxLwdwMS8HcDEvB3AxLwdwMS8HcDEvB3AxLwdwMS8HcDEvB3AxLwdwMS8HcDEvB3AxLwdwMS8HcDEvB3AxLwdwMS8HcDEvB3AxLwdwMS8HcDEvB3AxLwdwMS8HcDPkBjAz5AYwM+QGMDPkBjAz5AYwM+QGMDPkBjAz5AYwM+QGMDPkBjAz5AYwM+QGMDPkBjAz5AYwM+QGMDPkBjAz5AYwM+QGMDPkBjAz5AYwM+QGMDPkBjAz5AYwM+QGMDPkBjAz5AYwM+QGMDPkBjAz5AYwM+QGMDPkBjAz5AYwM+QGMDPkBjAz5AYwM+QGMDPkBjAz5AYwM+QGMDPkBjAz5AYwM+QGMDPkBjAz5AYwM+QGMDPkBjAz5AYwM+QGMDPkBjAz5AYwM+QGMDPkBjAz5AYwM+QGMDPkBjAz5AYwM+QGMDPkBjAz5AYwM+QGMDPkBjAz5AYwM+QGMDPkBjAz5AYwM+QGMDPkBjAz5AYwM+QGMDPkBjAz5AYwM+QGMDPkBjAz5AYwM+QGMDPkBjAz5AYwM+QGMDPkBjAz5AYwM+QGMDPkBjAz5AYwM+QGMDPkBjAz5AYwM+QGMDPkBjAz5AYwM+QGMDPkBjAz5AYwM+QGMDPkBjAz5AYwM+QGMDPkBjAz5AYwM+QGMDPkBjA2WQTwNlkE8DZZBPA2WQTwNlkE8DZZBPA2WQTwNlkE8DZZBPA2WQTwNlkE8DZZBPA2WQTwNlkE8DZZBPA2WQTwNlkE8DZZBPA2WQTwNlkE8DZZBPA2WQTwNlkE8DZZBPA2WQTwNlkE8DZZBPA2WQTwNlkE8DZZBPA2WQTwNlkE8DZZBPA2WQTwNlkE8DZZBPA2WQTwNlkE8DZZBPA2WQTwNlkE8DZZBPA2WQTwNlkE8DZZBPA2WQTwNlkE8DZZBPA2WQTwNlkE8DZZBPA2WQTwNlkE8DZZBPA2WQTwNlkE8DZZBPA2WQTwNlkE8DZZBPA2WQTwNlkE8DZZBPA2WQTwNlkE8DZZBPA2WQTwNlkE8DZZBPA2WQTwNlkE8DZZBPA2WQTwNlkE8DZZBPA2WQTwNlkE8DZZBPA2WQTwNlkE8DZZBPA2WQTwNlkE8DZZBPA2WQTwNlkE8DZZBPA2WQTwNlkE8DZZBPA2WQTwNlkE8DZZBPA2WQTwNlkE8DZZBPA2WQTwNlkE8DZZBPA2WQTwOQ4DsDkOA7A5DgOwOQ4DsDkOA7A5DgOwOQ4DsDkOA7A5DgOwOQ4DsDkOA7A5DgOwOQ4DsDkOA7A5DgOwOQ4DsDkOA7A5DgOwOQ4DsDkOA7A5DgOwOQ4DsDkOA7A5DgOwOQ4DsDkOA7A5DgOwOQ4DsDkOA7A5DgOwOQ4DsDkOA7A5DgOwOQ4DsDkOA7A5DgOwOQ4DsDkOA7A5DgOwOQ4DsDkOA7A5DgOwOQ4DsDkOA7A5DgOwOQ4DsDkOA7A5DgOwOQ4DsDkOA7A5DgOwOQ4DsDkOA7A5DgOwOQ4DsDkOA7A5DgOwOQ4DsDkOA7A5DgOwOQ4DsDkOA7A5DgOwOQ4DsDkOA7A5DgOwOQ4DsDkOA7A5DgOwOQ4DsDkOA7A5DgOwOQ4DsDkOA7A5DgOwOQ4DsDkOA7A5DgOwOQ4DsDkOA7A5DgOwOQ4DsDkOA7A5DgOwOQ4DsDkOA7A5DgOwOQ4DsDkOA7A5DgOwOQ4DsDkOA7A5DgOwOQ4DsDkOA7A5DgOwOQ4DsDkOA7A5DgOwOQ4DsDuDAnA7gwJwO4MCcDuDAnA7gwJwO4MCcDuDAnA7gwJwO4MCcDuDAnA7gwJwO4MCcDuDAnA7gwJwO4MCcDuDAnA7gwJwO4MCcDuDAnA7gwJwO4MCcDuDAnA7gwJwO4MCcDuDAnA7gwJwO4MCcDuDAnA7gwJwO4MCcDuDAnA7gwJwO4MCcDuDAnA7gwJwO4MCcDuDAnA7gwJwO4MCcDuDAnA7gwJwO4MCcDuDAnA7gwJwO4MCcDuDAnA7gwJwO4MCcDuDAnA7gwJwO4MCcDuDAnA7gwJwO4MCcDuDAnA7gwJwO4MCcDuDAnA7gwJwO4MCcDuDAnA7gwJwO4MCcDuDAnA7gwJwO4MCcDuDAnA7gwJwO4MCcDuDAnA7gwJwO4MCcDuDAnA7gwJwO4MCcDuDAnA7gwJwO4MCcDuDAnA7gwJwO4MCcDuDAnA7gwJwO4MCcDuDAnA7gwJwO4MCcDuDAnA7gwJwO4MCcDuDAnA7gwJwO4MCcDuDAnA7gwJwO4MCcDuDAnA7gwJwO4MCcDuDAnA+OADwPjgA8D44APA+OADwPjgA8D44APA+OADwPjgA8D44APA+OADwPjgA8D44APA+OADwPjgA8D44APA+OADwPjgA8D44APA+OADwPjgA8D44APA+OADwPjgA8D44APA+OADwPjgA8D44APA+OADwPjgA8D44APA+OADwPjgA8D44APA+OADwPjgA8D44APA+OADwPjgA8D44APA+OADwPjgA8D44APA+OADwPjgA8D44APA+OADwPjgA8D44APA+OADwPjgA8D44APA+OADwPjgA8D44APA+OADwPjgA8D44APA+OADwPjgA8D44APA+OADwPjgA8D44APA+OADwPjgA8D44APA+OADwPjgA8D44APA+OADwPjgA8D44APA+OADwPjgA8D44APA+OADwPjgA8D44APA+OADwPjgA8D44APA+OADwPjgA8D44APA+OADwPjgA8D44APA+OADwPjgA8D44APA+OADwPjgA8D44APA+OADwPjgA8D44APA+OADwPjgA8D44APA+OADwAdq/b8Hav2/B2r9vwdq/b8Hav2/B2r9vwdq/b8Hav2/B2r9vwdq/b8Hav2/B2r9vwdq/b8Hav2/B2r9vwdq/b8Hav2/B2r9vwdq/b8Hav2/B2r9vwdq/b8Hav2/B2r9vwdq/b8Hav2/B2r9vwdq/b8Hav2/B2r9vwdq/b8Hav2/B2r9vwdq/b8Hav2/B2r9vwdq/b8Hav2/B2r9vwdq/b8Hav2/B2r9vwdq/b8Hav2/B2r9vwdq/b8Hav2/B2r9vwdq/b8Hav2/B2r9vwdq/b8Hav2/B2r9vwdq/b8Hav2/B2r9vwdq/b8Hav2/B2r9vwdq/b8Hav2/B2r9vwdq/b8Hav2/B2r9vwdq/b8Hav2/B2r9vwdq/b8Hav2/B2r9vwdq/b8Hav2/B2r9vwdq/b8Hav2/B2r9vwdq/b8Hav2/B2r9vwdq/b8Hav2/B2r9vwdq/b8Hav2/B2r9vwdq/b8Hav2/B2r9vwdq/b8Hav2/B2r9vwdq/b8Hav2/B2r9vwdq/b8Hav2/B2r9vwdq/b8ZEvO/GRLzvxkS878ZEvO/GRLzvxkS878ZEvO/GRLzvxkS878ZEvO/GRLzvxkS878ZEvO/GRLzvxkS878ZEvO/GRLzvxkS878ZEvO/GRLzvxkS878ZEvO/GRLzvxkS878ZEvO/GRLzvxkS878ZEvO/GRLzvxkS878ZEvO/GRLzvxkS878ZEvO/GRLzvxkS878ZEvO/GRLzvxkS878ZEvO/GRLzvxkS878ZEvO/GRLzvxkS878ZEvO/GRLzvxkS878ZEvO/GRLzvxkS878ZEvO/GRLzvxkS878ZEvO/GRLzvxkS878ZEvO/GRLzvxkS878ZEvO/GRLzvxkS878ZEvO/GRLzvxkS878ZEvO/GRLzvxkS878ZEvO/GRLzvxkS878ZEvO/GRLzvxkS878ZEvO/GRLzvxkS878ZEvO/GRLzvxkS878ZEvO/GRLzvxkS878ZEvO/GRLzvxkS878ZEvO/GRLzvxkS878ZEvO/GRLzvxkS878ZEvO/GRLzvxkS878ZEvO/GRLzvxkS878ZEvO/L7rovy+66L8vuui/L7rovy+66L8vuui/L7rovy+66L8vuui/L7rovy+66L8vuui/L7rovy+66L8vuui/L7rovy+66L8vuui/L7rovy+66L8vuui/L7rovy+66L8vuui/L7rovy+66L8vuui/L7rovy+66L8vuui/L7rovy+66L8vuui/L7rovy+66L8vuui/L7rovy+66L8vuui/L7rovy+66L8vuui/L7rovy+66L8vuui/L7rovy+66L8vuui/L7rovy+66L8vuui/L7rovy+66L8vuui/L7rovy+66L8vuui/L7rovy+66L8vuui/L7rovy+66L8vuui/L7rovy+66L8vuui/L7rovy+66L8vuui/L7rovy+66L8vuui/L7rovy+66L8vuui/L7rovy+66L8vuui/L7rovy+66L8vuui/L7rovy+66L8vuui/L7rovy+66L8vuui/L7rovy+66L8vuui/L7rovy+66L8vuui/L7rovy+66L8vuui/L7rovy+66L8vuui/L7rov0Ri3r9EYt6/RGLev0Ri3r9EYt6/RGLev0Ri3r9EYt6/RGLev0Ri3r9EYt6/RGLev0Ri3r9EYt6/RGLev0Ri3r9EYt6/RGLev0Ri3r9EYt6/RGLev0Ri3r9EYt6/RGLev0Ri3r9EYt6/RGLev0Ri3r9EYt6/RGLev0Ri3r9EYt6/RGLev0Ri3r9EYt6/RGLev0Ri3r9EYt6/RGLev0Ri3r9EYt6/RGLev0Ri3r9EYt6/RGLev0Ri3r9EYt6/RGLev0Ri3r9EYt6/RGLev0Ri3r9EYt6/RGLev0Ri3r9EYt6/RGLev0Ri3r9EYt6/RGLev0Ri3r9EYt6/RGLev0Ri3r9EYt6/RGLev0Ri3r9EYt6/RGLev0Ri3r9EYt6/RGLev0Ri3r9EYt6/RGLev0Ri3r9EYt6/RGLev0Ri3r9EYt6/RGLev0Ri3r9EYt6/RGLev0Ri3r9EYt6/RGLev0Ri3r9EYt6/RGLev0Ri3r9EYt6/RGLev0Ri3r9EYt6/RGLev0Ri3r9EYt6/RGLev0Ri3r9YCtS/WArUv1gK1L9YCtS/WArUv1gK1L9YCtS/WArUv1gK1L9YCtS/WArUv1gK1L9YCtS/WArUv1gK1L9YCtS/WArUv1gK1L9YCtS/WArUv1gK1L9YCtS/WArUv1gK1L9YCtS/WArUv1gK1L9YCtS/WArUv1gK1L9YCtS/WArUv1gK1L9YCtS/WArUv1gK1L9YCtS/WArUv1gK1L9YCtS/WArUv1gK1L9YCtS/WArUv1gK1L9YCtS/WArUv1gK1L9YCtS/WArUv1gK1L9YCtS/WArUv1gK1L9YCtS/WArUv1gK1L9YCtS/WArUv1gK1L9YCtS/WArUv1gK1L9YCtS/WArUv1gK1L9YCtS/WArUv1gK1L9YCtS/WArUv1gK1L9YCtS/WArUv1gK1L9YCtS/WArUv1gK1L9YCtS/WArUv1gK1L9YCtS/WArUv1gK1L9YCtS/WArUv1gK1L9YCtS/WArUv1gK1L9YCtS/WArUv1gK1L9YCtS/WArUv1gK1L9YCtS/WArUv1gK1L9YCtS/bLLJv2yyyb9sssm/bLLJv2yyyb9sssm/bLLJv2yyyb9sssm/bLLJv2yyyb9sssm/bLLJv2yyyb9sssm/bLLJv2yyyb9sssm/bLLJv2yyyb9sssm/bLLJv2yyyb9sssm/bLLJv2yyyb9sssm/bLLJv2yyyb9sssm/bLLJv2yyyb9sssm/bLLJv2yyyb9sssm/bLLJv2yyyb9sssm/bLLJv2yyyb9sssm/bLLJv2yyyb9sssm/bLLJv2yyyb9sssm/bLLJv2yyyb9sssm/bLLJv2yyyb9sssm/bLLJv2yyyb9sssm/bLLJv2yyyb9sssm/bLLJv2yyyb9sssm/bLLJv2yyyb9sssm/bLLJv2yyyb9sssm/bLLJv2yyyb9sssm/bLLJv2yyyb9sssm/bLLJv2yyyb9sssm/bLLJv2yyyb9sssm/bLLJv2yyyb9sssm/bLLJv2yyyb9sssm/bLLJv2yyyb9sssm/bLLJv2yyyb9sssm/bLLJv2yyyb9sssm/bLLJv2yyyb9sssm/bLLJv4Fav7+BWr+/gVq/v4Fav7+BWr+/gVq/v4Fav7+BWr+/gVq/v4Fav7+BWr+/gVq/v4Fav7+BWr+/gVq/v4Fav7+BWr+/gVq/v4Fav7+BWr+/gVq/v4Fav7+BWr+/gVq/v4Fav7+BWr+/gVq/v4Fav7+BWr+/gVq/v4Fav7+BWr+/gVq/v4Fav7+BWr+/gVq/v4Fav7+BWr+/gVq/v4Fav7+BWr+/gVq/v4Fav7+BWr+/gVq/v4Fav7+BWr+/gVq/v4Fav7+BWr+/gVq/v4Fav7+BWr+/gVq/v4Fav7+BWr+/gVq/v4Fav7+BWr+/gVq/v4Fav7+BWr+/gVq/v4Fav7+BWr+/gVq/v4Fav7+BWr+/gVq/v4Fav7+BWr+/gVq/v4Fav7+BWr+/gVq/v4Fav7+BWr+/gVq/v4Fav7+BWr+/gVq/v4Fav7+BWr+/gVq/v4Fav7+BWr+/gVq/v4Fav7+BWr+/gVq/v4Fav7+BWr+/gVq/v4Fav7+BWr+/gVq/v4Fav7+BWr+/gVq/v4Fav7+XArW/lwK1v5cCtb+XArW/lwK1v5cCtb+XArW/lwK1v5cCtb+XArW/lwK1v5cCtb+XArW/lwK1v5cCtb+XArW/lwK1v5cCtb+XArW/lwK1v5cCtb+XArW/lwK1v5cCtb+XArW/lwK1v5cCtb+XArW/lwK1v5cCtb+XArW/lwK1v5cCtb+XArW/lwK1v5cCtb+XArW/lwK1v5cCtb+XArW/lwK1v5cCtb+XArW/lwK1v5cCtb+XArW/lwK1v5cCtb+XArW/lwK1v5cCtb+XArW/lwK1v5cCtb+XArW/lwK1v5cCtb+XArW/lwK1v5cCtb+XArW/lwK1v5cCtb+XArW/lwK1v5cCtb+XArW/lwK1v5cCtb+XArW/lwK1v5cCtb+XArW/lwK1v5cCtb+XArW/lwK1v5cCtb+XArW/lwK1v5cCtb+XArW/lwK1v5cCtb+XArW/lwK1v5cCtb+XArW/lwK1v5cCtb+XArW/lwK1v5cCtb+XArW/lwK1v5cCtb+XArW/lwK1v5cCtb+XArW/qaqqv6mqqr+pqqq/qaqqv6mqqr+pqqq/qaqqv6mqqr+pqqq/qaqqv6mqqr+pqqq/qaqqv6mqqr+pqqq/qaqqv6mqqr+pqqq/qaqqv6mqqr+pqqq/qaqqv6mqqr+pqqq/qaqqv6mqqr+pqqq/qaqqv6mqqr+pqqq/qaqqv6mqqr+pqqq/qaqqv6mqqr+pqqq/qaqqv6mqqr+pqqq/qaqqv6mqqr+pqqq/qaqqv6mqqr+pqqq/qaqqv6mqqr+pqqq/qaqqv6mqqr+pqqq/qaqqv6mqqr+pqqq/qaqqv6mqqr+pqqq/qaqqv6mqqr+pqqq/qaqqv6mqqr+pqqq/qaqqv6mqqr+pqqq/qaqqv6mqqr+pqqq/qaqqv6mqqr+pqqq/qaqqv6mqqr+pqqq/qaqqv6mqqr+pqqq/qaqqv6mqqr+pqqq/qaqqv6mqqr+pqqq/qaqqv6mqqr+pqqq/qaqqv6mqqr+pqqq/qaqqv6mqqr+pqqq/qaqqv6mqqr+pqqq/qaqqv6mqqr+pqqq/qaqqv8BSoL/AUqC/wFKgv8BSoL/AUqC/wFKgv8BSoL/AUqC/wFKgv8BSoL/AUqC/wFKgv8BSoL/AUqC/wFKgv8BSoL/AUqC/wFKgv8BSoL/AUqC/wFKgv8BSoL/AUqC/wFKgv8BSoL/AUqC/wFKgv8BSoL/AUqC/wFKgv8BSoL/AUqC/wFKgv8BSoL/AUqC/wFKgv8BSoL/AUqC/wFKgv8BSoL/AUqC/wFKgv8BSoL/AUqC/wFKgv8BSoL/AUqC/wFKgv8BSoL/AUqC/wFKgv8BSoL/AUqC/wFKgv8BSoL/AUqC/wFKgv8BSoL/AUqC/wFKgv8BSoL/AUqC/wFKgv8BSoL/AUqC/wFKgv8BSoL/AUqC/wFKgv8BSoL/AUqC/wFKgv8BSoL/AUqC/wFKgv8BSoL/AUqC/wFKgv8BSoL/AUqC/wFKgv8BSoL/AUqC/wFKgv8BSoL/AUqC/wFKgv8BSoL/AUqC/wFKgv8BSoL/AUqC/wFKgv8BSoL/AUqC/wFKgv8BSoL/AUqC/wFKgv8BSoL/U+pW/1PqVv9T6lb/U+pW/1PqVv9T6lb/U+pW/1PqVv9T6lb/U+pW/1PqVv9T6lb/U+pW/1PqVv9T6lb/U+pW/1PqVv9T6lb/U+pW/1PqVv9T6lb/U+pW/1PqVv9T6lb/U+pW/1PqVv9T6lb/U+pW/1PqVv9T6lb/U+pW/1PqVv9T6lb/U+pW/1PqVv9T6lb/U+pW/1PqVv9T6lb/U+pW/1PqVv9T6lb/U+pW/1PqVv9T6lb/U+pW/1PqVv9T6lb/U+pW/1PqVv9T6lb/U+pW/1PqVv9T6lb/U+pW/1PqVv9T6lb/U+pW/1PqVv9T6lb/U+pW/1PqVv9T6lb/U+pW/1PqVv9T6lb/U+pW/1PqVv9T6lb/U+pW/1PqVv9T6lb/U+pW/1PqVv9T6lb/U+pW/1PqVv9T6lb/U+pW/1PqVv9T6lb/U+pW/1PqVv9T6lb/U+pW/1PqVv9T6lb/U+pW/1PqVv9T6lb/U+pW/1PqVv9T6lb/U+pW/1PqVv9T6lb/U+pW/1PqVv9T6lb/U+pW/6KKLv+iii7/ooou/6KKLv+iii7/ooou/6KKLv+iii7/ooou/6KKLv+iii7/ooou/6KKLv+iii7/ooou/6KKLv+iii7/ooou/6KKLv+iii7/ooou/6KKLv+iii7/ooou/6KKLv+iii7/ooou/6KKLv+iii7/ooou/6KKLv+iii7/ooou/6KKLv+iii7/ooou/6KKLv+iii7/ooou/6KKLv+iii7/ooou/6KKLv+iii7/ooou/6KKLv+iii7/ooou/6KKLv+iii7/ooou/6KKLv+iii7/ooou/6KKLv+iii7/ooou/6KKLv+iii7/ooou/6KKLv+iii7/ooou/6KKLv+iii7/ooou/6KKLv+iii7/ooou/6KKLv+iii7/ooou/6KKLv+iii7/ooou/6KKLv+iii7/ooou/6KKLv+iii7/ooou/6KKLv+iii7/ooou/6KKLv+iii7/ooou/6KKLv+iii7/ooou/6KKLv+iii7/ooou/6KKLv+iii7/ooou/6KKLv+iii7/ooou/6KKLv/9Kgb//SoG//0qBv/9Kgb//SoG//0qBv/9Kgb//SoG//0qBv/9Kgb//SoG//0qBv/9Kgb//SoG//0qBv/9Kgb//SoG//0qBv/9Kgb//SoG//0qBv/9Kgb//SoG//0qBv/9Kgb//SoG//0qBv/9Kgb//SoG//0qBv/9Kgb//SoG//0qBv/9Kgb//SoG//0qBv/9Kgb//SoG//0qBv/9Kgb//SoG//0qBv/9Kgb//SoG//0qBv/9Kgb//SoG//0qBv/9Kgb//SoG//0qBv/9Kgb//SoG//0qBv/9Kgb//SoG//0qBv/9Kgb//SoG//0qBv/9Kgb//SoG//0qBv/9Kgb//SoG//0qBv/9Kgb//SoG//0qBv/9Kgb//SoG//0qBv/9Kgb//SoG//0qBv/9Kgb//SoG//0qBv/9Kgb//SoG//0qBv/9Kgb//SoG//0qBv/9Kgb//SoG//0qBv/9Kgb//SoG//0qBv/9Kgb//SoG//0qBv/9Kgb//SoG//0qBv/9Kgb//SoG//0qBv/9Kgb8i5m2/IuZtvyLmbb8i5m2/IuZtvyLmbb8i5m2/IuZtvyLmbb8i5m2/IuZtvyLmbb8i5m2/IuZtvyLmbb8i5m2/IuZtvyLmbb8i5m2/IuZtvyLmbb8i5m2/IuZtvyLmbb8i5m2/IuZtvyLmbb8i5m2/IuZtvyLmbb8i5m2/IuZtvyLmbb8i5m2/IuZtvyLmbb8i5m2/IuZtvyLmbb8i5m2/IuZtvyLmbb8i5m2/IuZtvyLmbb8i5m2/IuZtvyLmbb8i5m2/IuZtvyLmbb8i5m2/IuZtvyLmbb8i5m2/IuZtvyLmbb8i5m2/IuZtvyLmbb8i5m2/IuZtvyLmbb8i5m2/IuZtvyLmbb8i5m2/IuZtvyLmbb8i5m2/IuZtvyLmbb8i5m2/IuZtvyLmbb8i5m2/IuZtvyLmbb8i5m2/IuZtvyLmbb8i5m2/IuZtvyLmbb8i5m2/IuZtvyLmbb8i5m2/IuZtvyLmbb8i5m2/IuZtvyLmbb8i5m2/IuZtvyLmbb8i5m2/IuZtvyLmbb8i5m2/TzZZv082Wb9PNlm/TzZZv082Wb9PNlm/TzZZv082Wb9PNlm/TzZZv082Wb9PNlm/TzZZv082Wb9PNlm/TzZZv082Wb9PNlm/TzZZv082Wb9PNlm/TzZZv082Wb9PNlm/TzZZv082Wb9PNlm/TzZZv082Wb9PNlm/TzZZv082Wb9PNlm/TzZZv082Wb9PNlm/TzZZv082Wb9PNlm/TzZZv082Wb9PNlm/TzZZv082Wb9PNlm/TzZZv082Wb9PNlm/TzZZv082Wb9PNlm/TzZZv082Wb9PNlm/TzZZv082Wb9PNlm/TzZZv082Wb9PNlm/TzZZv082Wb9PNlm/TzZZv082Wb9PNlm/TzZZv082Wb9PNlm/TzZZv082Wb9PNlm/TzZZv082Wb9PNlm/TzZZv082Wb9PNlm/TzZZv082Wb9PNlm/TzZZv082Wb9PNlm/TzZZv082Wb9PNlm/TzZZv082Wb9PNlm/TzZZv082Wb9PNlm/TzZZv082Wb9PNlm/TzZZv082Wb9PNlm/TzZZv3iGRL94hkS/eIZEv3iGRL94hkS/eIZEv3iGRL94hkS/eIZEv3iGRL94hkS/eIZEv3iGRL94hkS/eIZEv3iGRL94hkS/eIZEv3iGRL94hkS/eIZEv3iGRL94hkS/eIZEv3iGRL94hkS/eIZEv3iGRL94hkS/eIZEv3iGRL94hkS/eIZEv3iGRL94hkS/eIZEv3iGRL94hkS/eIZEv3iGRL94hkS/eIZEv3iGRL94hkS/eIZEv3iGRL94hkS/eIZEv3iGRL94hkS/eIZEv3iGRL94hkS/eIZEv3iGRL94hkS/eIZEv3iGRL94hkS/eIZEv3iGRL94hkS/eIZEv3iGRL94hkS/eIZEv3iGRL94hkS/eIZEv3iGRL94hkS/eIZEv3iGRL94hkS/eIZEv3iGRL94hkS/eIZEv3iGRL94hkS/eIZEv3iGRL94hkS/eIZEv3iGRL94hkS/eIZEv3iGRL94hkS/eIZEv3iGRL94hkS/eIZEv3iGRL94hkS/eIZEv3iGRL94hkS/eIZEv3iGRL+g1i+/oNYvv6DWL7+g1i+/oNYvv6DWL7+g1i+/oNYvv6DWL7+g1i+/oNYvv6DWL7+g1i+/oNYvv6DWL7+g1i+/oNYvv6DWL7+g1i+/oNYvv6DWL7+g1i+/oNYvv6DWL7+g1i+/oNYvv6DWL7+g1i+/oNYvv6DWL7+g1i+/oNYvv6DWL7+g1i+/oNYvv6DWL7+g1i+/oNYvv6DWL7+g1i+/oNYvv6DWL7+g1i+/oNYvv6DWL7+g1i+/oNYvv6DWL7+g1i+/oNYvv6DWL7+g1i+/oNYvv6DWL7+g1i+/oNYvv6DWL7+g1i+/oNYvv6DWL7+g1i+/oNYvv6DWL7+g1i+/oNYvv6DWL7+g1i+/oNYvv6DWL7+g1i+/oNYvv6DWL7+g1i+/oNYvv6DWL7+g1i+/oNYvv6DWL7+g1i+/oNYvv6DWL7+g1i+/oNYvv6DWL7+g1i+/oNYvv6DWL7+g1i+/oNYvv6DWL7+g1i+/oNYvv6DWL7+g1i+/oNYvv6DWL7+g1i+/oNYvv6DWL7+g1i+/ySYbv8kmG7/JJhu/ySYbv8kmG7/JJhu/ySYbv8kmG7/JJhu/ySYbv8kmG7/JJhu/ySYbv8kmG7/JJhu/ySYbv8kmG7/JJhu/ySYbv8kmG7/JJhu/ySYbv8kmG7/JJhu/ySYbv8kmG7/JJhu/ySYbv8kmG7/JJhu/ySYbv8kmG7/JJhu/ySYbv8kmG7/JJhu/ySYbv8kmG7/JJhu/ySYbv8kmG7/JJhu/ySYbv8kmG7/JJhu/ySYbv8kmG7/JJhu/ySYbv8kmG7/JJhu/ySYbv8kmG7/JJhu/ySYbv8kmG7/JJhu/ySYbv8kmG7/JJhu/ySYbv8kmG7/JJhu/ySYbv8kmG7/JJhu/ySYbv8kmG7/JJhu/ySYbv8kmG7/JJhu/ySYbv8kmG7/JJhu/ySYbv8kmG7/JJhu/ySYbv8kmG7/JJhu/ySYbv8kmG7/JJhu/ySYbv8kmG7/JJhu/ySYbv8kmG7/JJhu/ySYbv8kmG7/JJhu/ySYbv8kmG7/JJhu/ySYbv8kmG7/JJhu/ySYbv/J2Br/ydga/8nYGv/J2Br/ydga/8nYGv/J2Br/ydga/8nYGv/J2Br/ydga/8nYGv/J2Br/ydga/8nYGv/J2Br/ydga/8nYGv/J2Br/ydga/8nYGv/J2Br/ydga/8nYGv/J2Br/ydga/8nYGv/J2Br/ydga/8nYGv/J2Br/ydga/8nYGv/J2Br/ydga/8nYGv/J2Br/ydga/8nYGv/J2Br/ydga/8nYGv/J2Br/ydga/8nYGv/J2Br/ydga/8nYGv/J2Br/ydga/8nYGv/J2Br/ydga/8nYGv/J2Br/ydga/8nYGv/J2Br/ydga/8nYGv/J2Br/ydga/8nYGv/J2Br/ydga/8nYGv/J2Br/ydga/8nYGv/J2Br/ydga/8nYGv/J2Br/ydga/8nYGv/J2Br/ydga/8nYGv/J2Br/ydga/8nYGv/J2Br/ydga/8nYGv/J2Br/ydga/8nYGv/J2Br/ydga/8nYGv/J2Br/ydga/8nYGv/J2Br/ydga/8nYGv/J2Br/ydga/8nYGv/J2Br88juO+PI7jvjyO4748juO+PI7jvjyO4748juO+PI7jvjyO4748juO+PI7jvjyO4748juO+PI7jvjyO4748juO+PI7jvjyO4748juO+PI7jvjyO4748juO+PI7jvjyO4748juO+PI7jvjyO4748juO+PI7jvjyO4748juO+PI7jvjyO4748juO+PI7jvjyO4748juO+PI7jvjyO4748juO+PI7jvjyO4748juO+PI7jvjyO4748juO+PI7jvjyO4748juO+PI7jvjyO4748juO+PI7jvjyO4748juO+PI7jvjyO4748juO+PI7jvjyO4748juO+PI7jvjyO4748juO+PI7jvjyO4748juO+PI7jvjyO4748juO+PI7jvjyO4748juO+PI7jvjyO4748juO+PI7jvjyO4748juO+PI7jvjyO4748juO+PI7jvjyO4748juO+PI7jvjyO4748juO+PI7jvjyO4748juO+PI7jvjyO4748juO+PI7jvjyO4748juO+PI7jvjyO4748juO+hi66voYuur6GLrq+hi66voYuur6GLrq+hi66voYuur6GLrq+hi66voYuur6GLrq+hi66voYuur6GLrq+hi66voYuur6GLrq+hi66voYuur6GLrq+hi66voYuur6GLrq+hi66voYuur6GLrq+hi66voYuur6GLrq+hi66voYuur6GLrq+hi66voYuur6GLrq+hi66voYuur6GLrq+hi66voYuur6GLrq+hi66voYuur6GLrq+hi66voYuur6GLrq+hi66voYuur6GLrq+hi66voYuur6GLrq+hi66voYuur6GLrq+hi66voYuur6GLrq+hi66voYuur6GLrq+hi66voYuur6GLrq+hi66voYuur6GLrq+hi66voYuur6GLrq+hi66voYuur6GLrq+hi66voYuur6GLrq+hi66voYuur6GLrq+hi66voYuur6GLrq+hi66voYuur6GLrq+hi66voYuur6GLrq+hi66voYuur6GLrq+hi66voYuur6GLrq+hi66voYuur6GLrq+hi66vt/OkL7fzpC+386Qvt/OkL7fzpC+386Qvt/OkL7fzpC+386Qvt/OkL7fzpC+386Qvt/OkL7fzpC+386Qvt/OkL7fzpC+386Qvt/OkL7fzpC+386Qvt/OkL7fzpC+386Qvt/OkL7fzpC+386Qvt/OkL7fzpC+386Qvt/OkL7fzpC+386Qvt/OkL7fzpC+386Qvt/OkL7fzpC+386Qvt/OkL7fzpC+386Qvt/OkL7fzpC+386Qvt/OkL7fzpC+386Qvt/OkL7fzpC+386Qvt/OkL7fzpC+386Qvt/OkL7fzpC+386Qvt/OkL7fzpC+386Qvt/OkL7fzpC+386Qvt/OkL7fzpC+386Qvt/OkL7fzpC+386Qvt/OkL7fzpC+386Qvt/OkL7fzpC+386Qvt/OkL7fzpC+386Qvt/OkL7fzpC+386Qvt/OkL7fzpC+386Qvt/OkL7fzpC+386Qvt/OkL7fzpC+386Qvt/OkL7fzpC+386Qvt/OkL7fzpC+386Qvt/OkL7fzpC+386Qvt/OkL5h3k6+Yd5OvmHeTr5h3k6+Yd5OvmHeTr5h3k6+Yd5OvmHeTr5h3k6+Yd5OvmHeTr5h3k6+Yd5OvmHeTr5h3k6+Yd5OvmHeTr5h3k6+Yd5OvmHeTr5h3k6+Yd5OvmHeTr5h3k6+Yd5OvmHeTr5h3k6+Yd5OvmHeTr5h3k6+Yd5OvmHeTr5h3k6+Yd5OvmHeTr5h3k6+Yd5OvmHeTr5h3k6+Yd5OvmHeTr5h3k6+Yd5OvmHeTr5h3k6+Yd5OvmHeTr5h3k6+Yd5OvmHeTr5h3k6+Yd5OvmHeTr5h3k6+Yd5OvmHeTr5h3k6+Yd5OvmHeTr5h3k6+Yd5OvmHeTr5h3k6+Yd5OvmHeTr5h3k6+Yd5OvmHeTr5h3k6+Yd5OvmHeTr5h3k6+Yd5OvmHeTr5h3k6+Yd5OvmHeTr5h3k6+Yd5OvmHeTr5h3k6+Yd5OvmHeTr5h3k6+Yd5OvmHeTr5h3k6+Yd5OvmHeTr5h3k6+Yd5OvmHeTr5h3k6+Yd5OvmHeTr5h3k6+Yd5OvmHeTr5h3k6+CD74vQg++L0IPvi9CD74vQg++L0IPvi9CD74vQg++L0IPvi9CD74vQg++L0IPvi9CD74vQg++L0IPvi9CD74vQg++L0IPvi9CD74vQg++L0IPvi9CD74vQg++L0IPvi9CD74vQg++L0IPvi9CD74vQg++L0IPvi9CD74vQg++L0IPvi9CD74vQg++L0IPvi9CD74vQg++L0IPvi9CD74vQg++L0IPvi9CD74vQg++L0IPvi9CD74vQg++L0IPvi9CD74vQg++L0IPvi9CD74vQg++L0IPvi9CD74vQg++L0IPvi9CD74vQg++L0IPvi9CD74vQg++L0IPvi9CD74vQg++L0IPvi9CD74vQg++L0IPvi9CD74vQg++L0IPvi9CD74vQg++L0IPvi9CD74vQg++L0IPvi9CD74vQg++L0IPvi9CD74vQg++L0IPvi9CD74vQg++L0IPvi9CD74vQg++L0IPvi9CD74vQg++L0IPvi9CD74vQg++L0IPvi9CD74vQg++L0IPvi9CD74vdt+Jb3bfiW9234lvdt+Jb3bfiW9234lvdt+Jb3bfiW9234lvdt+Jb3bfiW9234lvdt+Jb3bfiW9234lvdt+Jb3bfiW9234lvdt+Jb3bfiW9234lvdt+Jb3bfiW9234lvdt+Jb3bfiW9234lvdt+Jb3bfiW9234lvdt+Jb3bfiW9234lvdt+Jb3bfiW9234lvdt+Jb3bfiW9234lvdt+Jb3bfiW9234lvdt+Jb3bfiW9234lvdt+Jb3bfiW9234lvdt+Jb3bfiW9234lvdt+Jb3bfiW9234lvdt+Jb3bfiW9234lvdt+Jb3bfiW9234lvdt+Jb3bfiW9234lvdt+Jb3bfiW9234lvdt+Jb3bfiW9234lvdt+Jb3bfiW9234lvdt+Jb3bfiW9234lvdt+Jb3bfiW9234lvdt+Jb3bfiW9234lvdt+Jb3bfiW9234lvdt+Jb3bfiW9234lvdt+Jb3bfiW9234lvdt+Jb3bfiW9234lvdt+Jb3bfiW9234lvdt+Jb3bfiW9234lvdt+Jb2afiU9mn4lPZp+JT2afiU9mn4lPZp+JT2afiU9mn4lPZp+JT2afiU9mn4lPZp+JT2afiU9mn4lPZp+JT2afiU9mn4lPZp+JT2afiU9mn4lPZp+JT2afiU9mn4lPZp+JT2afiU9mn4lPZp+JT2afiU9mn4lPZp+JT2afiU9mn4lPZp+JT2afiU9mn4lPZp+JT2afiU9mn4lPZp+JT2afiU9mn4lPZp+JT2afiU9mn4lPZp+JT2afiU9mn4lPZp+JT2afiU9mn4lPZp+JT2afiU9mn4lPZp+JT2afiU9mn4lPZp+JT2afiU9mn4lPZp+JT2afiU9mn4lPZp+JT2afiU9mn4lPZp+JT2afiU9mn4lPZp+JT2afiU9mn4lPZp+JT2afiU9mn4lPZp+JT2afiU9mn4lPZp+JT2afiU9mn4lPZp+JT2afiU9mn4lPZp+JT2afiU9mn4lPZp+JT2afiU9mn4lPZp+JT2afiU9mn4lPZp+JT2afiU9mn4lPZp+JT2afiU9mn4lPZp+JT2afiU9CD74PQg++D0IPvg9CD74PQg++D0IPvg9CD74PQg++D0IPvg9CD74PQg++D0IPvg9CD74PQg++D0IPvg9CD74PQg++D0IPvg9CD74PQg++D0IPvg9CD74PQg++D0IPvg9CD74PQg++D0IPvg9CD74PQg++D0IPvg9CD74PQg++D0IPvg9CD74PQg++D0IPvg9CD74PQg++D0IPvg9CD74PQg++D0IPvg9CD74PQg++D0IPvg9CD74PQg++D0IPvg9CD74PQg++D0IPvg9CD74PQg++D0IPvg9CD74PQg++D0IPvg9CD74PQg++D0IPvg9CD74PQg++D0IPvg9CD74PQg++D0IPvg9CD74PQg++D0IPvg9CD74PQg++D0IPvg9CD74PQg++D0IPvg9CD74PQg++D0IPvg9CD74PQg++D0IPvg9CD74PQg++D0IPvg9CD74PQg++D0IPvg9CD74PQg++D0IPvg9CD74PQg++D0IPvg9CD74PQg++D0IPvg9CD74PQg++D0IPvg9CD74PWHeTj5h3k4+Yd5OPmHeTj5h3k4+Yd5OPmHeTj5h3k4+Yd5OPmHeTj5h3k4+Yd5OPmHeTj5h3k4+Yd5OPmHeTj5h3k4+Yd5OPmHeTj5h3k4+Yd5OPmHeTj5h3k4+Yd5OPmHeTj5h3k4+Yd5OPmHeTj5h3k4+Yd5OPmHeTj5h3k4+Yd5OPmHeTj5h3k4+Yd5OPmHeTj5h3k4+Yd5OPmHeTj5h3k4+Yd5OPmHeTj5h3k4+Yd5OPmHeTj5h3k4+Yd5OPmHeTj5h3k4+Yd5OPmHeTj5h3k4+Yd5OPmHeTj5h3k4+Yd5OPmHeTj5h3k4+Yd5OPmHeTj5h3k4+Yd5OPmHeTj5h3k4+Yd5OPmHeTj5h3k4+Yd5OPmHeTj5h3k4+Yd5OPmHeTj5h3k4+Yd5OPmHeTj5h3k4+Yd5OPmHeTj5h3k4+Yd5OPmHeTj5h3k4+Yd5OPmHeTj5h3k4+Yd5OPmHeTj5h3k4+Yd5OPmHeTj5h3k4+Yd5OPmHeTj5h3k4+Yd5OPmHeTj5h3k4+Yd5OPmHeTj7fzpA+386QPt/OkD7fzpA+386QPt/OkD7fzpA+386QPt/OkD7fzpA+386QPt/OkD7fzpA+386QPt/OkD7fzpA+386QPt/OkD7fzpA+386QPt/OkD7fzpA+386QPt/OkD7fzpA+386QPt/OkD7fzpA+386QPt/OkD7fzpA+386QPt/OkD7fzpA+386QPt/OkD7fzpA+386QPt/OkD7fzpA+386QPt/OkD7fzpA+386QPt/OkD7fzpA+386QPt/OkD7fzpA+386QPt/OkD7fzpA+386QPt/OkD7fzpA+386QPt/OkD7fzpA+386QPt/OkD7fzpA+386QPt/OkD7fzpA+386QPt/OkD7fzpA+386QPt/OkD7fzpA+386QPt/OkD7fzpA+386QPt/OkD7fzpA+386QPt/OkD7fzpA+386QPt/OkD7fzpA+386QPt/OkD7fzpA+386QPt/OkD7fzpA+386QPt/OkD7fzpA+386QPt/OkD7fzpA+386QPt/OkD7fzpA+386QPt/OkD7fzpA+ji66Po4uuj6OLro+ji66Po4uuj6OLro+ji66Po4uuj6OLro+ji66Po4uuj6OLro+ji66Po4uuj6OLro+ji66Po4uuj6OLro+ji66Po4uuj6OLro+ji66Po4uuj6OLro+ji66Po4uuj6OLro+ji66Po4uuj6OLro+ji66Po4uuj6OLro+ji66Po4uuj6OLro+ji66Po4uuj6OLro+ji66Po4uuj6OLro+ji66Po4uuj6OLro+ji66Po4uuj6OLro+ji66Po4uuj6OLro+ji66Po4uuj6OLro+ji66Po4uuj6OLro+ji66Po4uuj6OLro+ji66Po4uuj6OLro+ji66Po4uuj6OLro+ji66Po4uuj6OLro+ji66Po4uuj6OLro+ji66Po4uuj6OLro+ji66Po4uuj6OLro+ji66Po4uuj6OLro+ji66Po4uuj6OLro+ji66Po4uuj6OLro+ji66Po4uuj6OLro+ji66Po4uuj6OLro+ji66Po4uuj6OLro+ji66Po4uuj6OLro+ji66PjyO4z48juM+PI7jPjyO4z48juM+PI7jPjyO4z48juM+PI7jPjyO4z48juM+PI7jPjyO4z48juM+PI7jPjyO4z48juM+PI7jPjyO4z48juM+PI7jPjyO4z48juM+PI7jPjyO4z48juM+PI7jPjyO4z48juM+PI7jPjyO4z48juM+PI7jPjyO4z48juM+PI7jPjyO4z48juM+PI7jPjyO4z48juM+PI7jPjyO4z48juM+PI7jPjyO4z48juM+PI7jPjyO4z48juM+PI7jPjyO4z48juM+PI7jPjyO4z48juM+PI7jPjyO4z48juM+PI7jPjyO4z48juM+PI7jPjyO4z48juM+PI7jPjyO4z48juM+PI7jPjyO4z48juM+PI7jPjyO4z48juM+PI7jPjyO4z48juM+PI7jPjyO4z48juM+PI7jPjyO4z48juM+PI7jPjyO4z48juM+PI7jPjyO4z48juM+PI7jPjyO4z48juM+PI7jPjyO4z48juM+PI7jPjyO4z48juM+PI7jPjyO4z7ydgY/8nYGP/J2Bj/ydgY/8nYGP/J2Bj/ydgY/8nYGP/J2Bj/ydgY/8nYGP/J2Bj/ydgY/8nYGP/J2Bj/ydgY/8nYGP/J2Bj/ydgY/8nYGP/J2Bj/ydgY/8nYGP/J2Bj/ydgY/8nYGP/J2Bj/ydgY/8nYGP/J2Bj/ydgY/8nYGP/J2Bj/ydgY/8nYGP/J2Bj/ydgY/8nYGP/J2Bj/ydgY/8nYGP/J2Bj/ydgY/8nYGP/J2Bj/ydgY/8nYGP/J2Bj/ydgY/8nYGP/J2Bj/ydgY/8nYGP/J2Bj/ydgY/8nYGP/J2Bj/ydgY/8nYGP/J2Bj/ydgY/8nYGP/J2Bj/ydgY/8nYGP/J2Bj/ydgY/8nYGP/J2Bj/ydgY/8nYGP/J2Bj/ydgY/8nYGP/J2Bj/ydgY/8nYGP/J2Bj/ydgY/8nYGP/J2Bj/ydgY/8nYGP/J2Bj/ydgY/8nYGP/J2Bj/ydgY/8nYGP/J2Bj/ydgY/8nYGP/J2Bj/ydgY/8nYGP/J2Bj/ydgY/8nYGP/J2Bj/ydgY/ySYbP8kmGz/JJhs/ySYbP8kmGz/JJhs/ySYbP8kmGz/JJhs/ySYbP8kmGz/JJhs/ySYbP8kmGz/JJhs/ySYbP8kmGz/JJhs/ySYbP8kmGz/JJhs/ySYbP8kmGz/JJhs/ySYbP8kmGz/JJhs/ySYbP8kmGz/JJhs/ySYbP8kmGz/JJhs/ySYbP8kmGz/JJhs/ySYbP8kmGz/JJhs/ySYbP8kmGz/JJhs/ySYbP8kmGz/JJhs/ySYbP8kmGz/JJhs/ySYbP8kmGz/JJhs/ySYbP8kmGz/JJhs/ySYbP8kmGz/JJhs/ySYbP8kmGz/JJhs/ySYbP8kmGz/JJhs/ySYbP8kmGz/JJhs/ySYbP8kmGz/JJhs/ySYbP8kmGz/JJhs/ySYbP8kmGz/JJhs/ySYbP8kmGz/JJhs/ySYbP8kmGz/JJhs/ySYbP8kmGz/JJhs/ySYbP8kmGz/JJhs/ySYbP8kmGz/JJhs/ySYbP8kmGz/JJhs/ySYbP8kmGz/JJhs/ySYbP8kmGz/JJhs/ySYbP6DWLz+g1i8/oNYvP6DWLz+g1i8/oNYvP6DWLz+g1i8/oNYvP6DWLz+g1i8/oNYvP6DWLz+g1i8/oNYvP6DWLz+g1i8/oNYvP6DWLz+g1i8/oNYvP6DWLz+g1i8/oNYvP6DWLz+g1i8/oNYvP6DWLz+g1i8/oNYvP6DWLz+g1i8/oNYvP6DWLz+g1i8/oNYvP6DWLz+g1i8/oNYvP6DWLz+g1i8/oNYvP6DWLz+g1i8/oNYvP6DWLz+g1i8/oNYvP6DWLz+g1i8/oNYvP6DWLz+g1i8/oNYvP6DWLz+g1i8/oNYvP6DWLz+g1i8/oNYvP6DWLz+g1i8/oNYvP6DWLz+g1i8/oNYvP6DWLz+g1i8/oNYvP6DWLz+g1i8/oNYvP6DWLz+g1i8/oNYvP6DWLz+g1i8/oNYvP6DWLz+g1i8/oNYvP6DWLz+g1i8/oNYvP6DWLz+g1i8/oNYvP6DWLz+g1i8/oNYvP6DWLz+g1i8/oNYvP6DWLz+g1i8/oNYvP6DWLz+g1i8/oNYvP6DWLz93hkQ/d4ZEP3eGRD93hkQ/d4ZEP3eGRD93hkQ/d4ZEP3eGRD93hkQ/d4ZEP3eGRD93hkQ/d4ZEP3eGRD93hkQ/d4ZEP3eGRD93hkQ/d4ZEP3eGRD93hkQ/d4ZEP3eGRD93hkQ/d4ZEP3eGRD93hkQ/d4ZEP3eGRD93hkQ/d4ZEP3eGRD93hkQ/d4ZEP3eGRD93hkQ/d4ZEP3eGRD93hkQ/d4ZEP3eGRD93hkQ/d4ZEP3eGRD93hkQ/d4ZEP3eGRD93hkQ/d4ZEP3eGRD93hkQ/d4ZEP3eGRD93hkQ/d4ZEP3eGRD93hkQ/d4ZEP3eGRD93hkQ/d4ZEP3eGRD93hkQ/d4ZEP3eGRD93hkQ/d4ZEP3eGRD93hkQ/d4ZEP3eGRD93hkQ/d4ZEP3eGRD93hkQ/d4ZEP3eGRD93hkQ/d4ZEP3eGRD93hkQ/d4ZEP3eGRD93hkQ/d4ZEP3eGRD93hkQ/d4ZEP3eGRD93hkQ/d4ZEP3eGRD93hkQ/d4ZEP3eGRD93hkQ/d4ZEP3eGRD93hkQ/TzZZP082WT9PNlk/TzZZP082WT9PNlk/TzZZP082WT9PNlk/TzZZP082WT9PNlk/TzZZP082WT9PNlk/TzZZP082WT9PNlk/TzZZP082WT9PNlk/TzZZP082WT9PNlk/TzZZP082WT9PNlk/TzZZP082WT9PNlk/TzZZP082WT9PNlk/TzZZP082WT9PNlk/TzZZP082WT9PNlk/TzZZP082WT9PNlk/TzZZP082WT9PNlk/TzZZP082WT9PNlk/TzZZP082WT9PNlk/TzZZP082WT9PNlk/TzZZP082WT9PNlk/TzZZP082WT9PNlk/TzZZP082WT9PNlk/TzZZP082WT9PNlk/TzZZP082WT9PNlk/TzZZP082WT9PNlk/TzZZP082WT9PNlk/TzZZP082WT9PNlk/TzZZP082WT9PNlk/TzZZP082WT9PNlk/TzZZP082WT9PNlk/TzZZP082WT9PNlk/TzZZP082WT9PNlk/TzZZP082WT9PNlk/TzZZP082WT9PNlk/TzZZPybmbT8m5m0/JuZtPybmbT8m5m0/JuZtPybmbT8m5m0/JuZtPybmbT8m5m0/JuZtPybmbT8m5m0/JuZtPybmbT8m5m0/JuZtPybmbT8m5m0/JuZtPybmbT8m5m0/JuZtPybmbT8m5m0/JuZtPybmbT8m5m0/JuZtPybmbT8m5m0/JuZtPybmbT8m5m0/JuZtPybmbT8m5m0/JuZtPybmbT8m5m0/JuZtPybmbT8m5m0/JuZtPybmbT8m5m0/JuZtPybmbT8m5m0/JuZtPybmbT8m5m0/JuZtPybmbT8m5m0/JuZtPybmbT8m5m0/JuZtPybmbT8m5m0/JuZtPybmbT8m5m0/JuZtPybmbT8m5m0/JuZtPybmbT8m5m0/JuZtPybmbT8m5m0/JuZtPybmbT8m5m0/JuZtPybmbT8m5m0/JuZtPybmbT8m5m0/JuZtPybmbT8m5m0/JuZtPybmbT8m5m0/JuZtPybmbT8m5m0/JuZtPybmbT8m5m0/JuZtPybmbT8m5m0/JuZtPybmbT/9SoE//UqBP/1KgT/9SoE//UqBP/1KgT/9SoE//UqBP/1KgT/9SoE//UqBP/1KgT/9SoE//UqBP/1KgT/9SoE//UqBP/1KgT/9SoE//UqBP/1KgT/9SoE//UqBP/1KgT/9SoE//UqBP/1KgT/9SoE//UqBP/1KgT/9SoE//UqBP/1KgT/9SoE//UqBP/1KgT/9SoE//UqBP/1KgT/9SoE//UqBP/1KgT/9SoE//UqBP/1KgT/9SoE//UqBP/1KgT/9SoE//UqBP/1KgT/9SoE//UqBP/1KgT/9SoE//UqBP/1KgT/9SoE//UqBP/1KgT/9SoE//UqBP/1KgT/9SoE//UqBP/1KgT/9SoE//UqBP/1KgT/9SoE//UqBP/1KgT/9SoE//UqBP/1KgT/9SoE//UqBP/1KgT/9SoE//UqBP/1KgT/9SoE//UqBP/1KgT/9SoE//UqBP/1KgT/9SoE//UqBP/1KgT/9SoE//UqBP/1KgT/9SoE//UqBP/1KgT/9SoE//UqBP/1KgT/9SoE/6KKLP+iiiz/ooos/6KKLP+iiiz/ooos/6KKLP+iiiz/ooos/6KKLP+iiiz/ooos/6KKLP+iiiz/ooos/6KKLP+iiiz/ooos/6KKLP+iiiz/ooos/6KKLP+iiiz/ooos/6KKLP+iiiz/ooos/6KKLP+iiiz/ooos/6KKLP+iiiz/ooos/6KKLP+iiiz/ooos/6KKLP+iiiz/ooos/6KKLP+iiiz/ooos/6KKLP+iiiz/ooos/6KKLP+iiiz/ooos/6KKLP+iiiz/ooos/6KKLP+iiiz/ooos/6KKLP+iiiz/ooos/6KKLP+iiiz/ooos/6KKLP+iiiz/ooos/6KKLP+iiiz/ooos/6KKLP+iiiz/ooos/6KKLP+iiiz/ooos/6KKLP+iiiz/ooos/6KKLP+iiiz/ooos/6KKLP+iiiz/ooos/6KKLP+iiiz/ooos/6KKLP+iiiz/ooos/6KKLP+iiiz/ooos/6KKLP+iiiz/ooos/6KKLP+iiiz/ooos/6KKLP+iiiz/ooos/6KKLP9T6lT/U+pU/1PqVP9T6lT/U+pU/1PqVP9T6lT/U+pU/1PqVP9T6lT/U+pU/1PqVP9T6lT/U+pU/1PqVP9T6lT/U+pU/1PqVP9T6lT/U+pU/1PqVP9T6lT/U+pU/1PqVP9T6lT/U+pU/1PqVP9T6lT/U+pU/1PqVP9T6lT/U+pU/1PqVP9T6lT/U+pU/1PqVP9T6lT/U+pU/1PqVP9T6lT/U+pU/1PqVP9T6lT/U+pU/1PqVP9T6lT/U+pU/1PqVP9T6lT/U+pU/1PqVP9T6lT/U+pU/1PqVP9T6lT/U+pU/1PqVP9T6lT/U+pU/1PqVP9T6lT/U+pU/1PqVP9T6lT/U+pU/1PqVP9T6lT/U+pU/1PqVP9T6lT/U+pU/1PqVP9T6lT/U+pU/1PqVP9T6lT/U+pU/1PqVP9T6lT/U+pU/1PqVP9T6lT/U+pU/1PqVP9T6lT/U+pU/1PqVP9T6lT/U+pU/1PqVP9T6lT/U+pU/1PqVP9T6lT/U+pU/1PqVP9T6lT/U+pU/1PqVP9T6lT/AUqA/wFKgP8BSoD/AUqA/wFKgP8BSoD/AUqA/wFKgP8BSoD/AUqA/wFKgP8BSoD/AUqA/wFKgP8BSoD/AUqA/wFKgP8BSoD/AUqA/wFKgP8BSoD/AUqA/wFKgP8BSoD/AUqA/wFKgP8BSoD/AUqA/wFKgP8BSoD/AUqA/wFKgP8BSoD/AUqA/wFKgP8BSoD/AUqA/wFKgP8BSoD/AUqA/wFKgP8BSoD/AUqA/wFKgP8BSoD/AUqA/wFKgP8BSoD/AUqA/wFKgP8BSoD/AUqA/wFKgP8BSoD/AUqA/wFKgP8BSoD/AUqA/wFKgP8BSoD/AUqA/wFKgP8BSoD/AUqA/wFKgP8BSoD/AUqA/wFKgP8BSoD/AUqA/wFKgP8BSoD/AUqA/wFKgP8BSoD/AUqA/wFKgP8BSoD/AUqA/wFKgP8BSoD/AUqA/wFKgP8BSoD/AUqA/wFKgP8BSoD/AUqA/wFKgP8BSoD/AUqA/wFKgP8BSoD/AUqA/wFKgP8BSoD/AUqA/wFKgP8BSoD/AUqA/q6qqP6uqqj+rqqo/q6qqP6uqqj+rqqo/q6qqP6uqqj+rqqo/q6qqP6uqqj+rqqo/q6qqP6uqqj+rqqo/q6qqP6uqqj+rqqo/q6qqP6uqqj+rqqo/q6qqP6uqqj+rqqo/q6qqP6uqqj+rqqo/q6qqP6uqqj+rqqo/q6qqP6uqqj+rqqo/q6qqP6uqqj+rqqo/q6qqP6uqqj+rqqo/q6qqP6uqqj+rqqo/q6qqP6uqqj+rqqo/q6qqP6uqqj+rqqo/q6qqP6uqqj+rqqo/q6qqP6uqqj+rqqo/q6qqP6uqqj+rqqo/q6qqP6uqqj+rqqo/q6qqP6uqqj+rqqo/q6qqP6uqqj+rqqo/q6qqP6uqqj+rqqo/q6qqP6uqqj+rqqo/q6qqP6uqqj+rqqo/q6qqP6uqqj+rqqo/q6qqP6uqqj+rqqo/q6qqP6uqqj+rqqo/q6qqP6uqqj+rqqo/q6qqP6uqqj+rqqo/q6qqP6uqqj+rqqo/q6qqP6uqqj+rqqo/q6qqP6uqqj+rqqo/q6qqP5UCtT+VArU/lQK1P5UCtT+VArU/lQK1P5UCtT+VArU/lQK1P5UCtT+VArU/lQK1P5UCtT+VArU/lQK1P5UCtT+VArU/lQK1P5UCtT+VArU/lQK1P5UCtT+VArU/lQK1P5UCtT+VArU/lQK1P5UCtT+VArU/lQK1P5UCtT+VArU/lQK1P5UCtT+VArU/lQK1P5UCtT+VArU/lQK1P5UCtT+VArU/lQK1P5UCtT+VArU/lQK1P5UCtT+VArU/lQK1P5UCtT+VArU/lQK1P5UCtT+VArU/lQK1P5UCtT+VArU/lQK1P5UCtT+VArU/lQK1P5UCtT+VArU/lQK1P5UCtT+VArU/lQK1P5UCtT+VArU/lQK1P5UCtT+VArU/lQK1P5UCtT+VArU/lQK1P5UCtT+VArU/lQK1P5UCtT+VArU/lQK1P5UCtT+VArU/lQK1P5UCtT+VArU/lQK1P5UCtT+VArU/lQK1P5UCtT+VArU/lQK1P5UCtT+VArU/lQK1P5UCtT+VArU/lQK1P5UCtT+BWr8/gVq/P4Favz+BWr8/gVq/P4Favz+BWr8/gVq/P4Favz+BWr8/gVq/P4Favz+BWr8/gVq/P4Favz+BWr8/gVq/P4Favz+BWr8/gVq/P4Favz+BWr8/gVq/P4Favz+BWr8/gVq/P4Favz+BWr8/gVq/P4Favz+BWr8/gVq/P4Favz+BWr8/gVq/P4Favz+BWr8/gVq/P4Favz+BWr8/gVq/P4Favz+BWr8/gVq/P4Favz+BWr8/gVq/P4Favz+BWr8/gVq/P4Favz+BWr8/gVq/P4Favz+BWr8/gVq/P4Favz+BWr8/gVq/P4Favz+BWr8/gVq/P4Favz+BWr8/gVq/P4Favz+BWr8/gVq/P4Favz+BWr8/gVq/P4Favz+BWr8/gVq/P4Favz+BWr8/gVq/P4Favz+BWr8/gVq/P4Favz+BWr8/gVq/P4Favz+BWr8/gVq/P4Favz+BWr8/gVq/P4Favz+BWr8/gVq/P4Favz+BWr8/gVq/P4Favz+BWr8/gVq/P4Favz+BWr8/bLLJP2yyyT9sssk/bLLJP2yyyT9sssk/bLLJP2yyyT9sssk/bLLJP2yyyT9sssk/bLLJP2yyyT9sssk/bLLJP2yyyT9sssk/bLLJP2yyyT9sssk/bLLJP2yyyT9sssk/bLLJP2yyyT9sssk/bLLJP2yyyT9sssk/bLLJP2yyyT9sssk/bLLJP2yyyT9sssk/bLLJP2yyyT9sssk/bLLJP2yyyT9sssk/bLLJP2yyyT9sssk/bLLJP2yyyT9sssk/bLLJP2yyyT9sssk/bLLJP2yyyT9sssk/bLLJP2yyyT9sssk/bLLJP2yyyT9sssk/bLLJP2yyyT9sssk/bLLJP2yyyT9sssk/bLLJP2yyyT9sssk/bLLJP2yyyT9sssk/bLLJP2yyyT9sssk/bLLJP2yyyT9sssk/bLLJP2yyyT9sssk/bLLJP2yyyT9sssk/bLLJP2yyyT9sssk/bLLJP2yyyT9sssk/bLLJP2yyyT9sssk/bLLJP2yyyT9sssk/bLLJP2yyyT9sssk/bLLJP1gK1D9YCtQ/WArUP1gK1D9YCtQ/WArUP1gK1D9YCtQ/WArUP1gK1D9YCtQ/WArUP1gK1D9YCtQ/WArUP1gK1D9YCtQ/WArUP1gK1D9YCtQ/WArUP1gK1D9YCtQ/WArUP1gK1D9YCtQ/WArUP1gK1D9YCtQ/WArUP1gK1D9YCtQ/WArUP1gK1D9YCtQ/WArUP1gK1D9YCtQ/WArUP1gK1D9YCtQ/WArUP1gK1D9YCtQ/WArUP1gK1D9YCtQ/WArUP1gK1D9YCtQ/WArUP1gK1D9YCtQ/WArUP1gK1D9YCtQ/WArUP1gK1D9YCtQ/WArUP1gK1D9YCtQ/WArUP1gK1D9YCtQ/WArUP1gK1D9YCtQ/WArUP1gK1D9YCtQ/WArUP1gK1D9YCtQ/WArUP1gK1D9YCtQ/WArUP1gK1D9YCtQ/WArUP1gK1D9YCtQ/WArUP1gK1D9YCtQ/WArUP1gK1D9YCtQ/WArUP1gK1D9YCtQ/WArUP1gK1D9YCtQ/WArUP1gK1D9YCtQ/WArUP1gK1D9EYt4/RGLeP0Ri3j9EYt4/RGLeP0Ri3j9EYt4/RGLeP0Ri3j9EYt4/RGLeP0Ri3j9EYt4/RGLeP0Ri3j9EYt4/RGLeP0Ri3j9EYt4/RGLeP0Ri3j9EYt4/RGLeP0Ri3j9EYt4/RGLeP0Ri3j9EYt4/RGLeP0Ri3j9EYt4/RGLeP0Ri3j9EYt4/RGLeP0Ri3j9EYt4/RGLeP0Ri3j9EYt4/RGLeP0Ri3j9EYt4/RGLeP0Ri3j9EYt4/RGLeP0Ri3j9EYt4/RGLeP0Ri3j9EYt4/RGLeP0Ri3j9EYt4/RGLeP0Ri3j9EYt4/RGLeP0Ri3j9EYt4/RGLeP0Ri3j9EYt4/RGLeP0Ri3j9EYt4/RGLeP0Ri3j9EYt4/RGLeP0Ri3j9EYt4/RGLeP0Ri3j9EYt4/RGLeP0Ri3j9EYt4/RGLeP0Ri3j9EYt4/RGLeP0Ri3j9EYt4/RGLeP0Ri3j9EYt4/RGLeP0Ri3j9EYt4/RGLeP0Ri3j9EYt4/RGLeP0Ri3j9EYt4/RGLeP0Ri3j9EYt4/L7roPy+66D8vuug/L7roPy+66D8vuug/L7roPy+66D8vuug/L7roPy+66D8vuug/L7roPy+66D8vuug/L7roPy+66D8vuug/L7roPy+66D8vuug/L7roPy+66D8vuug/L7roPy+66D8vuug/L7roPy+66D8vuug/L7roPy+66D8vuug/L7roPy+66D8vuug/L7roPy+66D8vuug/L7roPy+66D8vuug/L7roPy+66D8vuug/L7roPy+66D8vuug/L7roPy+66D8vuug/L7roPy+66D8vuug/L7roPy+66D8vuug/L7roPy+66D8vuug/L7roPy+66D8vuug/L7roPy+66D8vuug/L7roPy+66D8vuug/L7roPy+66D8vuug/L7roPy+66D8vuug/L7roPy+66D8vuug/L7roPy+66D8vuug/L7roPy+66D8vuug/L7roPy+66D8vuug/L7roPy+66D8vuug/L7roPy+66D8vuug/L7roPy+66D8vuug/L7roPy+66D8vuug/L7roPxkS8z8ZEvM/GRLzPxkS8z8ZEvM/GRLzPxkS8z8ZEvM/GRLzPxkS8z8ZEvM/GRLzPxkS8z8ZEvM/GRLzPxkS8z8ZEvM/GRLzPxkS8z8ZEvM/GRLzPxkS8z8ZEvM/GRLzPxkS8z8ZEvM/GRLzPxkS8z8ZEvM/GRLzPxkS8z8ZEvM/GRLzPxkS8z8ZEvM/GRLzPxkS8z8ZEvM/GRLzPxkS8z8ZEvM/GRLzPxkS8z8ZEvM/GRLzPxkS8z8ZEvM/GRLzPxkS8z8ZEvM/GRLzPxkS8z8ZEvM/GRLzPxkS8z8ZEvM/GRLzPxkS8z8ZEvM/GRLzPxkS8z8ZEvM/GRLzPxkS8z8ZEvM/GRLzPxkS8z8ZEvM/GRLzPxkS8z8ZEvM/GRLzPxkS8z8ZEvM/GRLzPxkS8z8ZEvM/GRLzPxkS8z8ZEvM/GRLzPxkS8z8ZEvM/GRLzPxkS8z8ZEvM/GRLzPxkS8z8ZEvM/GRLzPxkS8z8ZEvM/GRLzPxkS8z8ZEvM/GRLzPxkS8z8ZEvM/GRLzPxkS8z8Fav0/BWr9PwVq/T8Fav0/BWr9PwVq/T8Fav0/BWr9PwVq/T8Fav0/BWr9PwVq/T8Fav0/BWr9PwVq/T8Fav0/BWr9PwVq/T8Fav0/BWr9PwVq/T8Fav0/BWr9PwVq/T8Fav0/BWr9PwVq/T8Fav0/BWr9PwVq/T8Fav0/BWr9PwVq/T8Fav0/BWr9PwVq/T8Fav0/BWr9PwVq/T8Fav0/BWr9PwVq/T8Fav0/BWr9PwVq/T8Fav0/BWr9PwVq/T8Fav0/BWr9PwVq/T8Fav0/BWr9PwVq/T8Fav0/BWr9PwVq/T8Fav0/BWr9PwVq/T8Fav0/BWr9PwVq/T8Fav0/BWr9PwVq/T8Fav0/BWr9PwVq/T8Fav0/BWr9PwVq/T8Fav0/BWr9PwVq/T8Fav0/BWr9PwVq/T8Fav0/BWr9PwVq/T8Fav0/BWr9PwVq/T8Fav0/BWr9PwVq/T8Fav0/BWr9PwVq/T8Fav0/BWr9PwVq/T8Fav0/BWr9PwVq/T8Fav0/BWr9PwVq/T8Fav0/+OADQPjgA0D44ANA+OADQPjgA0D44ANA+OADQPjgA0D44ANA+OADQPjgA0D44ANA+OADQPjgA0D44ANA+OADQPjgA0D44ANA+OADQPjgA0D44ANA+OADQPjgA0D44ANA+OADQPjgA0D44ANA+OADQPjgA0D44ANA+OADQPjgA0D44ANA+OADQPjgA0D44ANA+OADQPjgA0D44ANA+OADQPjgA0D44ANA+OADQPjgA0D44ANA+OADQPjgA0D44ANA+OADQPjgA0D44ANA+OADQPjgA0D44ANA+OADQPjgA0D44ANA+OADQPjgA0D44ANA+OADQPjgA0D44ANA+OADQPjgA0D44ANA+OADQPjgA0D44ANA+OADQPjgA0D44ANA+OADQPjgA0D44ANA+OADQPjgA0D44ANA+OADQPjgA0D44ANA+OADQPjgA0D44ANA+OADQPjgA0D44ANA+OADQPjgA0D44ANA+OADQPjgA0D44ANA+OADQPjgA0D44ANA+OADQPjgA0D44ANA+OADQO4MCUDuDAlA7gwJQO4MCUDuDAlA7gwJQO4MCUDuDAlA7gwJQO4MCUDuDAlA7gwJQO4MCUDuDAlA7gwJQO4MCUDuDAlA7gwJQO4MCUDuDAlA7gwJQO4MCUDuDAlA7gwJQO4MCUDuDAlA7gwJQO4MCUDuDAlA7gwJQO4MCUDuDAlA7gwJQO4MCUDuDAlA7gwJQO4MCUDuDAlA7gwJQO4MCUDuDAlA7gwJQO4MCUDuDAlA7gwJQO4MCUDuDAlA7gwJQO4MCUDuDAlA7gwJQO4MCUDuDAlA7gwJQO4MCUDuDAlA7gwJQO4MCUDuDAlA7gwJQO4MCUDuDAlA7gwJQO4MCUDuDAlA7gwJQO4MCUDuDAlA7gwJQO4MCUDuDAlA7gwJQO4MCUDuDAlA7gwJQO4MCUDuDAlA7gwJQO4MCUDuDAlA7gwJQO4MCUDuDAlA7gwJQO4MCUDuDAlA7gwJQO4MCUDuDAlA7gwJQO4MCUDuDAlA7gwJQO4MCUDuDAlA7gwJQO4MCUDuDAlA7gwJQO4MCUDkOA5A5DgOQOQ4DkDkOA5A5DgOQOQ4DkDkOA5A5DgOQOQ4DkDkOA5A5DgOQOQ4DkDkOA5A5DgOQOQ4DkDkOA5A5DgOQOQ4DkDkOA5A5DgOQOQ4DkDkOA5A5DgOQOQ4DkDkOA5A5DgOQOQ4DkDkOA5A5DgOQOQ4DkDkOA5A5DgOQOQ4DkDkOA5A5DgOQOQ4DkDkOA5A5DgOQOQ4DkDkOA5A5DgOQOQ4DkDkOA5A5DgOQOQ4DkDkOA5A5DgOQOQ4DkDkOA5A5DgOQOQ4DkDkOA5A5DgOQOQ4DkDkOA5A5DgOQOQ4DkDkOA5A5DgOQOQ4DkDkOA5A5DgOQOQ4DkDkOA5A5DgOQOQ4DkDkOA5A5DgOQOQ4DkDkOA5A5DgOQOQ4DkDkOA5A5DgOQOQ4DkDkOA5A5DgOQOQ4DkDkOA5A5DgOQOQ4DkDkOA5A5DgOQOQ4DkDkOA5A5DgOQOQ4DkDkOA5A5DgOQOQ4DkDkOA5A5DgOQOQ4DkDkOA5A5DgOQOQ4DkDkOA5A5DgOQOQ4DkDkOA5A2mQTQNpkE0DaZBNA2mQTQNpkE0DaZBNA2mQTQNpkE0DaZBNA2mQTQNpkE0DaZBNA2mQTQNpkE0DaZBNA2mQTQNpkE0DaZBNA2mQTQNpkE0DaZBNA2mQTQNpkE0DaZBNA2mQTQNpkE0DaZBNA2mQTQNpkE0DaZBNA2mQTQNpkE0DaZBNA2mQTQNpkE0DaZBNA2mQTQNpkE0DaZBNA2mQTQNpkE0DaZBNA2mQTQNpkE0DaZBNA2mQTQNpkE0DaZBNA2mQTQNpkE0DaZBNA2mQTQNpkE0DaZBNA2mQTQNpkE0DaZBNA2mQTQNpkE0DaZBNA2mQTQNpkE0DaZBNA2mQTQNpkE0DaZBNA2mQTQNpkE0DaZBNA2mQTQNpkE0DaZBNA2mQTQNpkE0DaZBNA2mQTQNpkE0DaZBNA2mQTQNpkE0DaZBNA2mQTQNpkE0DaZBNA2mQTQNpkE0DaZBNA2mQTQNpkE0DaZBNA2mQTQNpkE0DaZBNA2mQTQNpkE0DaZBNA2mQTQNpkE0DaZBNA2mQTQM6QGEDOkBhAzpAYQM6QGEDOkBhAzpAYQM6QGEDOkBhAzpAYQM6QGEDOkBhAzpAYQM6QGEDOkBhAzpAYQM6QGEDOkBhAzpAYQM6QGEDOkBhAzpAYQM6QGEDOkBhAzpAYQM6QGEDOkBhAzpAYQM6QGEDOkBhAzpAYQM6QGEDOkBhAzpAYQM6QGEDOkBhAzpAYQM6QGEDOkBhAzpAYQM6QGEDOkBhAzpAYQM6QGEDOkBhAzpAYQM6QGEDOkBhAzpAYQM6QGEDOkBhAzpAYQM6QGEDOkBhAzpAYQM6QGEDOkBhAzpAYQM6QGEDOkBhAzpAYQM6QGEDOkBhAzpAYQM6QGEDOkBhAzpAYQM6QGEDOkBhAzpAYQM6QGEDOkBhAzpAYQM6QGEDOkBhAzpAYQM6QGEDOkBhAzpAYQM6QGEDOkBhAzpAYQM6QGEDOkBhAzpAYQM6QGEDOkBhAzpAYQM6QGEDOkBhAzpAYQM6QGEDOkBhAzpAYQM6QGEDOkBhAzpAYQM6QGEDOkBhAzpAYQM6QGEDEvB1AxLwdQMS8HUDEvB1AxLwdQMS8HUDEvB1AxLwdQMS8HUDEvB1AxLwdQMS8HUDEvB1AxLwdQMS8HUDEvB1AxLwdQMS8HUDEvB1AxLwdQMS8HUDEvB1AxLwdQMS8HUDEvB1AxLwdQMS8HUDEvB1AxLwdQMS8HUDEvB1AxLwdQMS8HUDEvB1AxLwdQMS8HUDEvB1AxLwdQMS8HUDEvB1AxLwdQMS8HUDEvB1AxLwdQMS8HUDEvB1AxLwdQMS8HUDEvB1AxLwdQMS8HUDEvB1AxLwdQMS8HUDEvB1AxLwdQMS8HUDEvB1AxLwdQMS8HUDEvB1AxLwdQMS8HUDEvB1AxLwdQMS8HUDEvB1AxLwdQMS8HUDEvB1AxLwdQMS8HUDEvB1AxLwdQMS8HUDEvB1AxLwdQMS8HUDEvB1AxLwdQMS8HUDEvB1AxLwdQMS8HUDEvB1AxLwdQMS8HUDEvB1AxLwdQMS8HUDEvB1AxLwdQMS8HUDEvB1AxLwdQMS8HUDEvB1AxLwdQMS8HUDEvB1AuugiQLroIkC66CJAuugiQLroIkC66CJAuugiQLroIkC66CJAuugiQLroIkC66CJAuugiQLroIkC66CJAuugiQLroIkC66CJAuugiQLroIkC66CJAuugiQLroIkC66CJAuugiQLroIkC66CJAuugiQLroIkC66CJAuugiQLroIkC66CJAuugiQLroIkC66CJAuugiQLroIkC66CJAuugiQLroIkC66CJAuugiQLroIkC66CJAuugiQLroIkC66CJAuugiQLroIkC66CJAuugiQLroIkC66CJAuugiQLroIkC66CJAuugiQLroIkC66CJAuugiQLroIkC66CJAuugiQLroIkC66CJAuugiQLroIkC66CJAuugiQLroIkC66CJAuugiQLroIkC66CJAuugiQLroIkC66CJAuugiQLroIkC66CJAuugiQLroIkC66CJAuugiQLroIkC66CJAuugiQLroIkC66CJAuugiQLroIkC66CJAuugiQLroIkC66CJAuugiQLroIkC66CJAuugiQLAUKECwFChAsBQoQLAUKECwFChAsBQoQLAUKECwFChAsBQoQLAUKECwFChAsBQoQLAUKECwFChAsBQoQLAUKECwFChAsBQoQLAUKECwFChAsBQoQLAUKECwFChAsBQoQLAUKECwFChAsBQoQLAUKECwFChAsBQoQLAUKECwFChAsBQoQLAUKECwFChAsBQoQLAUKECwFChAsBQoQLAUKECwFChAsBQoQLAUKECwFChAsBQoQLAUKECwFChAsBQoQLAUKECwFChAsBQoQLAUKECwFChAsBQoQLAUKECwFChAsBQoQLAUKECwFChAsBQoQLAUKECwFChAsBQoQLAUKECwFChAsBQoQLAUKECwFChAsBQoQLAUKECwFChAsBQoQLAUKECwFChAsBQoQLAUKECwFChAsBQoQLAUKECwFChAsBQoQLAUKECwFChAsBQoQLAUKECwFChAsBQoQLAUKECwFChAsBQoQLAUKECwFChAsBQoQLAUKECwFChAsBQoQLAUKECwFChAsBQoQLAUKECmQC1ApkAtQKZALUCmQC1ApkAtQKZALUCmQC1ApkAtQKZALUCmQC1ApkAtQKZALUCmQC1ApkAtQKZALUCmQC1ApkAtQKZALUCmQC1ApkAtQKZALUCmQC1ApkAtQKZALUCmQC1ApkAtQKZALUCmQC1ApkAtQKZALUCmQC1ApkAtQKZALUCmQC1ApkAtQKZALUCmQC1ApkAtQKZALUCmQC1ApkAtQKZALUCmQC1ApkAtQKZALUCmQC1ApkAtQKZALUCmQC1ApkAtQKZALUCmQC1ApkAtQKZALUCmQC1ApkAtQKZALUCmQC1ApkAtQKZALUCmQC1ApkAtQKZALUCmQC1ApkAtQKZALUCmQC1ApkAtQKZALUCmQC1ApkAtQKZALUCmQC1ApkAtQKZALUCmQC1ApkAtQKZALUCmQC1ApkAtQKZALUCmQC1ApkAtQKZALUCmQC1ApkAtQKZALUCmQC1ApkAtQKZALUCmQC1ApkAtQKZALUCmQC1ApkAtQKZALUCmQC1ApkAtQKZALUCmQC1AnGwyQJxsMkCcbDJAnGwyQJxsMkCcbDJAnGwyQJxsMkCcbDJAnGwyQJxsMkCcbDJAnGwyQJxsMkCcbDJAnGwyQJxsMkCcbDJAnGwyQJxsMkCcbDJAnGwyQJxsMkCcbDJAnGwyQJxsMkCcbDJAnGwyQJxsMkCcbDJAnGwyQJxsMkCcbDJAnGwyQJxsMkCcbDJAnGwyQJxsMkCcbDJAnGwyQJxsMkCcbDJAnGwyQJxsMkCcbDJAnGwyQJxsMkCcbDJAnGwyQJxsMkCcbDJAnGwyQJxsMkCcbDJAnGwyQJxsMkCcbDJAnGwyQJxsMkCcbDJAnGwyQJxsMkCcbDJAnGwyQJxsMkCcbDJAnGwyQJxsMkCcbDJAnGwyQJxsMkCcbDJAnGwyQJxsMkCcbDJAnGwyQJxsMkCcbDJAnGwyQJxsMkCcbDJAnGwyQJxsMkCcbDJAnGwyQJxsMkCcbDJAnGwyQJxsMkCcbDJAnGwyQJxsMkCcbDJAnGwyQJxsMkCcbDJAnGwyQJxsMkCcbDJAnGwyQJCYN0CQmDdAkJg3QJCYN0CQmDdAkJg3QJCYN0CQmDdAkJg3QJCYN0CQmDdAkJg3QJCYN0CQmDdAkJg3QJCYN0CQmDdAkJg3QJCYN0CQmDdAkJg3QJCYN0CQmDdAkJg3QJCYN0CQmDdAkJg3QJCYN0CQmDdAkJg3QJCYN0CQmDdAkJg3QJCYN0CQmDdAkJg3QJCYN0CQmDdAkJg3QJCYN0CQmDdAkJg3QJCYN0CQmDdAkJg3QJCYN0CQmDdAkJg3QJCYN0CQmDdAkJg3QJCYN0CQmDdAkJg3QJCYN0CQmDdAkJg3QJCYN0CQmDdAkJg3QJCYN0CQmDdAkJg3QJCYN0CQmDdAkJg3QJCYN0CQmDdAkJg3QJCYN0CQmDdAkJg3QJCYN0CQmDdAkJg3QJCYN0CQmDdAkJg3QJCYN0CQmDdAkJg3QJCYN0CQmDdAkJg3QJCYN0CQmDdAkJg3QJCYN0CQmDdAkJg3QJCYN0CQmDdAkJg3QJCYN0CQmDdAkJg3QJCYN0CQmDdAkJg3QJCYN0CGxDxAhsQ8QIbEPECGxDxAhsQ8QIbEPECGxDxAhsQ8QIbEPECGxDxAhsQ8QIbEPECGxDxAhsQ8QIbEPECGxDxAhsQ8QIbEPECGxDxAhsQ8QIbEPECGxDxAhsQ8QIbEPECGxDxAhsQ8QIbEPECGxDxAhsQ8QIbEPECGxDxAhsQ8QIbEPECGxDxAhsQ8QIbEPECGxDxAhsQ8QIbEPECGxDxAhsQ8QIbEPECGxDxAhsQ8QIbEPECGxDxAhsQ8QIbEPECGxDxAhsQ8QIbEPECGxDxAhsQ8QIbEPECGxDxAhsQ8QIbEPECGxDxAhsQ8QIbEPECGxDxAhsQ8QIbEPECGxDxAhsQ8QIbEPECGxDxAhsQ8QIbEPECGxDxAhsQ8QIbEPECGxDxAhsQ8QIbEPECGxDxAhsQ8QIbEPECGxDxAhsQ8QIbEPECGxDxAhsQ8QIbEPECGxDxAhsQ8QIbEPECGxDxAhsQ8QIbEPECGxDxAhsQ8QIbEPECGxDxAhsQ8QIbEPECGxDxAhsQ8QIbEPECGxDxAfPBBQHzwQUB88EFAfPBBQHzwQUB88EFAfPBBQHzwQUB88EFAfPBBQHzwQUB88EFAfPBBQHzwQUB88EFAfPBBQHzwQUB88EFAfPBBQHzwQUB88EFAfPBBQHzwQUB88EFAfPBBQHzwQUB88EFAfPBBQHzwQUB88EFAfPBBQHzwQUB88EFAfPBBQHzwQUB88EFAfPBBQHzwQUB88EFAfPBBQHzwQUB88EFAfPBBQHzwQUB88EFAfPBBQHzwQUB88EFAfPBBQHzwQUB88EFAfPBBQHzwQUB88EFAfPBBQHzwQUB88EFAfPBBQHzwQUB88EFAfPBBQHzwQUB88EFAfPBBQHzwQUB88EFAfPBBQHzwQUB88EFAfPBBQHzwQUB88EFAfPBBQHzwQUB88EFAfPBBQHzwQUB88EFAfPBBQHzwQUB88EFAfPBBQHzwQUB88EFAfPBBQHzwQUB88EFAfPBBQHzwQUB88EFAfPBBQHzwQUB88EFAfPBBQHzwQUB88EFAfPBBQHzwQUB88EFAfPBBQHIcR0ByHEdAchxHQHIcR0ByHEdAchxHQHIcR0ByHEdAchxHQHIcR0ByHEdAchxHQHIcR0ByHEdAchxHQHIcR0ByHEdAchxHQHIcR0ByHEdAchxHQHIcR0ByHEdAchxHQHIcR0ByHEdAchxHQHIcR0ByHEdAchxHQHIcR0ByHEdAchxHQHIcR0ByHEdAchxHQHIcR0ByHEdAchxHQHIcR0ByHEdAchxHQHIcR0ByHEdAchxHQHIcR0ByHEdAchxHQHIcR0ByHEdAchxHQHIcR0ByHEdAchxHQHIcR0ByHEdAchxHQHIcR0ByHEdAchxHQHIcR0ByHEdAchxHQHIcR0ByHEdAchxHQHIcR0ByHEdAchxHQHIcR0ByHEdAchxHQHIcR0ByHEdAchxHQHIcR0ByHEdAchxHQHIcR0ByHEdAchxHQHIcR0ByHEdAchxHQHIcR0ByHEdAchxHQHIcR0ByHEdAchxHQHIcR0ByHEdAchxHQHIcR0ByHEdAchxHQHIcR0ByHEdAchxHQHIcR0BoSExAaEhMQGhITEBoSExAaEhMQGhITEBoSExAaEhMQGhITEBoSExAaEhMQGhITEBoSExAaEhMQGhITEBoSExAaEhMQGhITEBoSExAaEhMQGhITEBoSExAaEhMQGhITEBoSExAaEhMQGhITEBoSExAaEhMQGhITEBoSExAaEhMQGhITEBoSExAaEhMQGhITEBoSExAaEhMQGhITEBoSExAaEhMQGhITEBoSExAaEhMQGhITEBoSExAaEhMQGhITEBoSExAaEhMQGhITEBoSExAaEhMQGhITEBoSExAaEhMQGhITEBoSExAaEhMQGhITEBoSExAaEhMQGhITEBoSExAaEhMQGhITEBoSExAaEhMQGhITEBoSExAaEhMQGhITEBoSExAaEhMQGhITEBoSExAaEhMQGhITEBoSExAaEhMQGhITEBoSExAaEhMQGhITEBoSExAaEhMQGhITEBoSExAaEhMQGhITEBoSExAaEhMQGhITEBoSExAaEhMQGhITEBoSExAaEhMQGhITEBoSExAXnRRQF50UUBedFFAXnRRQF50UUBedFFAXnRRQF50UUBedFFAXnRRQF50UUBedFFAXnRRQF50UUBedFFAXnRRQF50UUBedFFAXnRRQF50UUBedFFAXnRRQF50UUBedFFAXnRRQF50UUBedFFAXnRRQF50UUBedFFAXnRRQF50UUBedFFAXnRRQF50UUBedFFAXnRRQF50UUBedFFAXnRRQF50UUBedFFAXnRRQF50UUBedFFAXnRRQF50UUBedFFAXnRRQF50UUBedFFAXnRRQF50UUBedFFAXnRRQF50UUBedFFAXnRRQF50UUBedFFAXnRRQF50UUBedFFAXnRRQF50UUBedFFAXnRRQF50UUBedFFAXnRRQF50UUBedFFAXnRRQF50UUBedFFAXnRRQF50UUBedFFAXnRRQF50UUBedFFAXnRRQF50UUBedFFAXnRRQF50UUBedFFAXnRRQF50UUBedFFAXnRRQF50UUBedFFAXnRRQF50UUBedFFAXnRRQF50UUBedFFAXnRRQFKgVkBSoFZAUqBWQFKgVkBSoFZAUqBWQFKgVkBSoFZAUqBWQFKgVkBSoFZAUqBWQFKgVkBSoFZAUqBWQFKgVkBSoFZAUqBWQFKgVkBSoFZAUqBWQFKgVkBSoFZAUqBWQFKgVkBSoFZAUqBWQFKgVkBSoFZAUqBWQFKgVkBSoFZAUqBWQFKgVkBSoFZAUqBWQFKgVkBSoFZAUqBWQFKgVkBSoFZAUqBWQFKgVkBSoFZAUqBWQFKgVkBSoFZAUqBWQFKgVkBSoFZAUqBWQFKgVkBSoFZAUqBWQFKgVkBSoFZAUqBWQFKgVkBSoFZAUqBWQFKgVkBSoFZAUqBWQFKgVkBSoFZAUqBWQFKgVkBSoFZAUqBWQFKgVkBSoFZAUqBWQFKgVkBSoFZAUqBWQFKgVkBSoFZAUqBWQFKgVkBSoFZAUqBWQFKgVkBSoFZAUqBWQFKgVkBSoFZAUqBWQFKgVkBSoFZAUqBWQFKgVkBSoFZAUqBWQFKgVkBSoFZAUqBWQFKgVkBSoFZAUqBWQFKgVkBIzFtASMxbQEjMW0BIzFtASMxbQEjMW0BIzFtASMxbQEjMW0BIzFtASMxbQEjMW0BIzFtASMxbQEjMW0BIzFtASMxbQEjMW0BIzFtASMxbQEjMW0BIzFtASMxbQEjMW0BIzFtASMxbQEjMW0BIzFtASMxbQEjMW0BIzFtASMxbQEjMW0BIzFtASMxbQEjMW0BIzFtASMxbQEjMW0BIzFtASMxbQEjMW0BIzFtASMxbQEjMW0BIzFtASMxbQEjMW0BIzFtASMxbQEjMW0BIzFtASMxbQEjMW0BIzFtASMxbQEjMW0BIzFtASMxbQEjMW0BIzFtASMxbQEjMW0BIzFtASMxbQEjMW0BIzFtASMxbQEjMW0BIzFtASMxbQEjMW0BIzFtASMxbQEjMW0BIzFtASMxbQEjMW0BIzFtASMxbQEjMW0BIzFtASMxbQEjMW0BIzFtASMxbQEjMW0BIzFtASMxbQEjMW0BIzFtASMxbQEjMW0BIzFtASMxbQEjMW0BIzFtASMxbQEjMW0BIzFtAPvhgQD74YEA++GBAPvhgQD74YEA++GBAPvhgQD74YEA++GBAPvhgQD74YEA++GBAPvhgQD74YEA++GBAPvhgQD74YEA++GBAPvhgQD74YEA++GBAPvhgQD74YEA++GBAPvhgQD74YEA++GBAPvhgQD74YEA++GBAPvhgQD74YEA++GBAPvhgQD74YEA++GBAPvhgQD74YEA++GBAPvhgQD74YEA++GBAPvhgQD74YEA++GBAPvhgQD74YEA++GBAPvhgQD74YEA++GBAPvhgQD74YEA++GBAPvhgQD74YEA++GBAPvhgQD74YEA++GBAPvhgQD74YEA++GBAPvhgQD74YEA++GBAPvhgQD74YEA++GBAPvhgQD74YEA++GBAPvhgQD74YEA++GBAPvhgQD74YEA++GBAPvhgQD74YEA++GBAPvhgQD74YEA++GBAPvhgQD74YEA++GBAPvhgQD74YEA++GBAPvhgQD74YEA++GBAPvhgQD74YEA++GBAPvhgQD74YEA++GBAPvhgQDQkZkA0JGZANCRmQDQkZkA0JGZANCRmQDQkZkA0JGZANCRmQDQkZkA0JGZANCRmQDQkZkA0JGZANCRmQDQkZkA0JGZANCRmQDQkZkA0JGZANCRmQDQkZkA0JGZANCRmQDQkZkA0JGZANCRmQDQkZkA0JGZANCRmQDQkZkA0JGZANCRmQDQkZkA0JGZANCRmQDQkZkA0JGZANCRmQDQkZkA0JGZANCRmQDQkZkA0JGZANCRmQDQkZkA0JGZANCRmQDQkZkA0JGZANCRmQDQkZkA0JGZANCRmQDQkZkA0JGZANCRmQDQkZkA0JGZANCRmQDQkZkA0JGZANCRmQDQkZkA0JGZANCRmQDQkZkA0JGZANCRmQDQkZkA0JGZANCRmQDQkZkA0JGZANCRmQDQkZkA0JGZANCRmQDQkZkA0JGZANCRmQDQkZkA0JGZANCRmQDQkZkA0JGZANCRmQDQkZkA0JGZANCRmQDQkZkA0JGZANCRmQDQkZkA0JGZANCRmQDQkZkA0JGZANCRmQDQkZkAqUGtAKlBrQCpQa0AqUGtAKlBrQCpQa0AqUGtAKlBrQCpQa0AqUGtAKlBrQCpQa0AqUGtAKlBrQCpQa0AqUGtAKlBrQCpQa0AqUGtAKlBrQCpQa0AqUGtAKlBrQCpQa0AqUGtAKlBrQCpQa0AqUGtAKlBrQCpQa0AqUGtAKlBrQCpQa0AqUGtAKlBrQCpQa0AqUGtAKlBrQCpQa0AqUGtAKlBrQCpQa0AqUGtAKlBrQCpQa0AqUGtAKlBrQCpQa0AqUGtAKlBrQCpQa0AqUGtAKlBrQCpQa0AqUGtAKlBrQCpQa0AqUGtAKlBrQCpQa0AqUGtAKlBrQCpQa0AqUGtAKlBrQCpQa0AqUGtAKlBrQCpQa0AqUGtAKlBrQCpQa0AqUGtAKlBrQCpQa0AqUGtAKlBrQCpQa0AqUGtAKlBrQCpQa0AqUGtAKlBrQCpQa0AqUGtAKlBrQCpQa0AqUGtAKlBrQCpQa0AqUGtAKlBrQCpQa0AqUGtAKlBrQCpQa0AqUGtAKlBrQCpQa0AqUGtAIHxwQCB8cEAgfHBAIHxwQCB8cEAgfHBAIHxwQCB8cEAgfHBAIHxwQCB8cEAgfHBAIHxwQCB8cEAgfHBAIHxwQCB8cEAgfHBAIHxwQCB8cEAgfHBAIHxwQCB8cEAgfHBAIHxwQCB8cEAgfHBAIHxwQCB8cEAgfHBAIHxwQCB8cEAgfHBAIHxwQCB8cEAgfHBAIHxwQCB8cEAgfHBAIHxwQCB8cEAgfHBAIHxwQCB8cEAgfHBAIHxwQCB8cEAgfHBAIHxwQCB8cEAgfHBAIHxwQCB8cEAgfHBAIHxwQCB8cEAgfHBAIHxwQCB8cEAgfHBAIHxwQCB8cEAgfHBAIHxwQCB8cEAgfHBAIHxwQCB8cEAgfHBAIHxwQCB8cEAgfHBAIHxwQCB8cEAgfHBAIHxwQCB8cEAgfHBAIHxwQCB8cEAgfHBAIHxwQCB8cEAgfHBAIHxwQCB8cEAgfHBAIHxwQCB8cEAgfHBAIHxwQCB8cEAgfHBAIHxwQCB8cEAgfHBAIHxwQCB8cEAgfHBAIHxwQBSodUAUqHVAFKh1QBSodUAUqHVAFKh1QBSodUAUqHVAFKh1QBSodUAUqHVAFKh1QBSodUAUqHVAFKh1QBSodUAUqHVAFKh1QBSodUAUqHVAFKh1QBSodUAUqHVAFKh1QBSodUAUqHVAFKh1QBSodUAUqHVAFKh1QBSodUAUqHVAFKh1QBSodUAUqHVAFKh1QBSodUAUqHVAFKh1QBSodUAUqHVAFKh1QBSodUAUqHVAFKh1QBSodUAUqHVAFKh1QBSodUAUqHVAFKh1QBSodUAUqHVAFKh1QBSodUAUqHVAFKh1QBSodUAUqHVAFKh1QBSodUAUqHVAFKh1QBSodUAUqHVAFKh1QBSodUAUqHVAFKh1QBSodUAUqHVAFKh1QBSodUAUqHVAFKh1QBSodUAUqHVAFKh1QBSodUAUqHVAFKh1QBSodUAUqHVAFKh1QBSodUAUqHVAFKh1QBSodUAUqHVAFKh1QBSodUAUqHVAFKh1QBSodUAUqHVAFKh1QBSodUAUqHVAFKh1QBSodUAK1HpACtR6QArUekAK1HpACtR6QArUekAK1HpACtR6QArUekAK1HpACtR6QArUekAK1HpACtR6QArUekAK1HpACtR6QArUekAK1HpACtR6QArUekAK1HpACtR6QArUekAK1HpACtR6QArUekAK1HpACtR6QArUekAK1HpACtR6QArUekAK1HpACtR6QArUekAK1HpACtR6QArUekAK1HpACtR6QArUekAK1HpACtR6QArUekAK1HpACtR6QArUekAK1HpACtR6QArUekAK1HpACtR6QArUekAK1HpACtR6QArUekAK1HpACtR6QArUekAK1HpACtR6QArUekAK1HpACtR6QArUekAK1HpACtR6QArUekAK1HpACtR6QArUekAK1HpACtR6QArUekAK1HpACtR6QArUekAK1HpACtR6QArUekAK1HpACtR6QArUekAK1HpACtR6QArUekAK1HpACtR6QArUekAK1HpACtR6QArUekAK1HpACtR6QArUekAK1HpACtR6QArUekAK1HpAAACAQAAAgEAAAIBAAACAQAAAgEAAAIBAAACAQAAAgEAAAIBAAACAQAAAgEAAAIBAAACAQAAAgEAAAIBAAACAQAAAgEAAAIBAAACAQAAAgEAAAIBAAACAQAAAgEAAAIBAAACAQAAAgEAAAIBAAACAQAAAgEAAAIBAAACAQAAAgEAAAIBAAACAQAAAgEAAAIBAAACAQAAAgEAAAIBAAACAQAAAgEAAAIBAAACAQAAAgEAAAIBAAACAQAAAgEAAAIBAAACAQAAAgEAAAIBAAACAQAAAgEAAAIBAAACAQAAAgEAAAIBAAACAQAAAgEAAAIBAAACAQAAAgEAAAIBAAACAQAAAgEAAAIBAAACAQAAAgEAAAIBAAACAQAAAgEAAAIBAAACAQAAAgEAAAIBAAACAQAAAgEAAAIBAAACAQAAAgEAAAIBAAACAQAAAgEAAAIBAAACAQAAAgEAAAIBAAACAQAAAgEAAAIBAAACAQAAAgEAAAIBAAACAQAAAgEAAAIBAAACAQAAAgEAAAIBAAACAQA==",
          "dtype": "f4",
          "shape": "100, 100"
         },
         "z": {
          "bdata": "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",
          "dtype": "f4",
          "shape": "100, 100"
         }
        },
        {
         "marker": {
          "color": "red",
          "size": 6,
          "symbol": "circle"
         },
         "mode": "markers+text",
         "text": [
          "P0",
          "P1",
          "P2",
          "P3",
          "P4",
          "P5",
          "P6",
          "P7",
          "P8",
          "P9",
          "P10",
          "P11",
          "P12",
          "P13",
          "P14",
          "P15",
          "P16",
          "P17",
          "P18",
          "P19",
          "P20",
          "P21",
          "P22",
          "P23",
          "P24",
          "P25",
          "P26",
          "P27",
          "P28",
          "P29",
          "P30",
          "P31",
          "P32",
          "P33",
          "P34",
          "P35",
          "P36",
          "P37",
          "P38",
          "P39",
          "P40",
          "P41",
          "P42",
          "P43",
          "P44",
          "P45",
          "P46",
          "P47",
          "P48",
          "P49",
          "P50",
          "P51",
          "P52",
          "P53",
          "P54",
          "P55",
          "P56",
          "P57",
          "P58",
          "P59",
          "P60",
          "P61",
          "P62",
          "P63",
          "P64",
          "P65",
          "P66",
          "P67",
          "P68",
          "P69",
          "P70",
          "P71",
          "P72",
          "P73",
          "P74",
          "P75",
          "P76",
          "P77",
          "P78",
          "P79",
          "P80",
          "P81",
          "P82",
          "P83",
          "P84",
          "P85",
          "P86",
          "P87",
          "P88",
          "P89",
          "P90",
          "P91",
          "P92",
          "P93",
          "P94",
          "P95",
          "P96",
          "P97",
          "P98",
          "P99",
          "P100",
          "P101",
          "P102",
          "P103",
          "P104",
          "P105",
          "P106",
          "P107",
          "P108",
          "P109",
          "P110",
          "P111",
          "P112",
          "P113",
          "P114",
          "P115",
          "P116",
          "P117",
          "P118",
          "P119",
          "P120",
          "P121",
          "P122",
          "P123",
          "P124",
          "P125",
          "P126",
          "P127",
          "P128",
          "P129",
          "P130",
          "P131",
          "P132",
          "P133",
          "P134",
          "P135",
          "P136",
          "P137",
          "P138",
          "P139",
          "P140",
          "P141",
          "P142",
          "P143",
          "P144",
          "P145",
          "P146",
          "P147",
          "P148",
          "P149",
          "P150",
          "P151",
          "P152",
          "P153",
          "P154",
          "P155",
          "P156",
          "P157",
          "P158",
          "P159",
          "P160",
          "P161",
          "P162",
          "P163",
          "P164",
          "P165",
          "P166",
          "P167",
          "P168",
          "P169",
          "P170",
          "P171",
          "P172",
          "P173",
          "P174",
          "P175",
          "P176",
          "P177",
          "P178",
          "P179",
          "P180",
          "P181",
          "P182",
          "P183",
          "P184",
          "P185",
          "P186",
          "P187",
          "P188",
          "P189",
          "P190",
          "P191",
          "P192",
          "P193",
          "P194",
          "P195",
          "P196",
          "P197",
          "P198",
          "P199",
          "P200",
          "P201",
          "P202",
          "P203",
          "P204",
          "P205",
          "P206",
          "P207",
          "P208",
          "P209",
          "P210",
          "P211",
          "P212",
          "P213",
          "P214",
          "P215",
          "P216",
          "P217",
          "P218",
          "P219",
          "P220",
          "P221",
          "P222",
          "P223",
          "P224",
          "P225",
          "P226",
          "P227",
          "P228",
          "P229",
          "P230",
          "P231",
          "P232",
          "P233",
          "P234",
          "P235",
          "P236",
          "P237",
          "P238",
          "P239",
          "P240",
          "P241",
          "P242",
          "P243",
          "P244",
          "P245",
          "P246",
          "P247",
          "P248",
          "P249",
          "P250",
          "P251",
          "P252",
          "P253",
          "P254",
          "P255",
          "P256",
          "P257",
          "P258",
          "P259",
          "P260",
          "P261",
          "P262",
          "P263",
          "P264",
          "P265",
          "P266",
          "P267",
          "P268",
          "P269",
          "P270",
          "P271",
          "P272",
          "P273",
          "P274",
          "P275",
          "P276",
          "P277",
          "P278",
          "P279",
          "P280",
          "P281"
         ],
         "textposition": "top center",
         "type": "scatter3d",
         "x": {
          "bdata": "AABAQClcL0AhHyBADisSQI9kBUAMZfM/0/vdPzBjyj9idLg/3AuoPwQJmT/0TYs/f359P4OHZj/ViFE/Klg+P7vOLD/5yBw/SSYOP8fIAD8UKuk+5OPSPu6Qvj72Bqw+Rh+bPmS2iz6TV3s+UsNhPmR5Sj66RzU+dgAiPpB5ED6HjAA+KSzkPdLryT3YHLI9BYmcPbT+iD3hoG49OKlOPTnKMT0kvhc9IkUAPZBJ1jxGT7A8mjmOPC9eXzzduyg8R+3vO3cLmTuJsBc7QOZtOf8B1Lr6alS75t2Yu7KYwbv29uS7ib4BvOTRDryZ7Bm810AjvFb8Kry8SDG880s2vH0oOry8/Ty8N+g+vNoBQLwwYkC8lh5AvG1KP7xC9z28+zQ8vPsROrxDmze8kdw0vHzgMbyQsC68Y1UrvK7WJ7xfOyS8qYkgvBrHHLym+Bi8tiIVvDZJEbydbw28/ZgJvAnIBbwe/wG8m4D8u8Ia9bvKz+27VqLmu6aU37ueqNi7zN/Ru3Q7y7uZvMS7AGS+uzgyuLukJ7K7e0Ssu8uIpruF9KC7eoebu2NBlrvjIZG7hyiMu8xUh7sgpoK7yjd8u+hqc7s35Gq7R6Jiu5ijWrur5lK772lLu9crRLvQKj27RGU2u6DZL7tRhim7xWkju26CHbvBzhe7PE0Su2D8DLu02ge7yeYCu2g+/LoiBfO6Cx/qunuJ4brYQdm6lEXRujaSybpQJcK6kfy6uq4VtLptbq26ogSnujnWoLoq4Zq6eSOVujybj7qTRoq6uiOFuukwgLrg2Ha6XaltuiLQZLofSly6WhRUugEsTLo+jkS6Yjg9ut8nNro0Wi+6/cwout99Irqaahy6CZEWugjvELqMggu6oEkGunRCAbpG1vi52oPvuUOK5rk+5t25yJTVucySzblL3cW5gnG+ub9Mt7lebLC5x82puZhuo7l3TJ25EWWXuUO2kbnsPYy57vmGuVbogbmzDnq5U6pwueafZ7kR7F65votWucN7Trk5uUa5IEE/ubcQOLl1JTG5s3wquQEUJLnO6B25vvgXuaVBErmDwQy5MXYHubJdArlm7Pq4DHzxuJpm6LiiqN+4+z7XuBomz7hgW8e4v9u/uGikuLjGsrG41QOruHKVpLgCZZ64IXCYuJm0krhkMI24AOGHuMPEgrgAs3u4uDtyuOcfabgSXGC4Bu1XuIvOT7gF/ke4D3lAuC08ObhxRTK4zpEruHYeJbjT6B64he4YuFwtE7hVow24lk4IuGstA7iHfPy3zvzytzjZ6bf2DOG3KpbYt41w0LcwmMi3AwzBt37IubdfyrK3qQ6styuVpbcoW5+3G16Zt7Kbk7c9D463+7aIt02Rg7dvOX23uK9zt/GCarfJsGG3ATJZtwsFUbd7KEm34pVBt3RMOrd1SzO3Go0stywRJrdc0h+35NAZt9wHFLffdw63XRwJt0H2A7eMAv62/HL0ttNA67aZZOK2rOHZtuaw0ba1y8m2",
          "dtype": "f4"
         },
         "y": {
          "bdata": "AABAQMP1OEA2XjJALDEsQBhnJkAB+SBAdeAbQIAXF0CgmBJAvV4OQCFlCkBwpwZAoSEDQO+f/z/7Xfk/+nbzP/rk7T93oug/UqrjP8z33j97hto/R1LWP2BX0j89ks4/kv/KP0+cxz+aZcQ/yljBP2Vzvj8bs7s/xhW5P2KZtj8OPLQ/CfyxP7DXrz95za0/9durP8sBqj+5Pag/kI6mPzXzpD+eaqM/0POhP+GNoD/0N58/OfGdP+24nD9Xjps/y3CaP6RfmT9JWpg/KGCXP7dwlj91i5U/56+UP5jdkz8bFJM/CFOSP/yZkT+a6JA/iT6QP3Wbjz8P/44/C2mOPyHZjT8MT40/i8qMP2FLjD9T0Ys/KVyLP63rij+tf4o/+BeKP2C0iT+5VIk/2fiIP5egiD/OS4g/WfqHPxWshz/gYIc/mxiHPyfThj9nkIY/P1CGP5QShj9N14U/UZ6FP4lnhT/fMoU/PACFP43PhD+9oIQ/unOEP3JIhD/THoQ/zPaDP07Qgz9Jq4M/roeDP3Blgz+BRIM/0ySDP1sGgz8M6YI/28yCP72xgj+nl4I/j36CP2tmgj8yT4I/2ziCP10jgj+wDoI/y/qBP6jngT8+1YE/h8OBP3yygT8WooE/T5KBPyGDgT+GdIE/eGaBP/JYgT/vS4E/aj+BP14zgT/HJ4E/oByBP+URgT+SB4E/o/2APxT0gD/h6oA/B+KAP4LZgD9Q0YA/bcmAP9bBgD+IuoA/gbOAP76sgD88poA/+Z+AP/KZgD8mlIA/kY6APzKJgD8HhIA/Dn+AP0V6gD+qdYA/PHGAP/hsgD/daIA/6mSAPx1hgD91XYA/8FmAP41WgD9LU4A/KFCAPyNNgD87SoA/cEeAP79EgD8oQoA/qj+AP0Q9gD/2OoA/vjiAP5s2gD+NNIA/kzKAP6wwgD/XLoA/FC2AP2IrgD/AKYA/LiiAP6smgD82JYA/zyOAP3YigD8qIYA/6h+AP7YegD+OHYA/cRyAP18bgD9XGoA/WRmAP2UYgD96F4A/mBaAP74VgD/sFIA/IhSAP2ATgD+lEoA/8RGAP0QRgD+eEIA//g+AP2QPgD/QDoA/QQ6AP7gNgD80DYA/tQyAPzsMgD/FC4A/VAuAP+cKgD9+CoA/GQqAP7gJgD9aCYA/AAmAP6kIgD9WCIA/BgiAP7kHgD9vB4A/JweAP+IGgD+gBoA/YAaAPyMGgD/oBYA/rwWAP3gFgD9DBYA/EAWAP98EgD+wBIA/gwSAP1gEgD8uBIA/BgSAP98DgD+6A4A/lgOAP3MDgD9SA4A/MgOAPxMDgD/1AoA/2QKAP74CgD+kAoA/iwKAP3ICgD9aAoA/QwKAPy0CgD8YAoA/BAKAP/EBgD/eAYA/zAGAP7sBgD+qAYA/mgGAP4sBgD98AYA/bgGAP2ABgD9TAYA/RgGAPzoBgD8uAYA/IwGAPxgBgD8NAYA/AwGAP/kAgD/wAIA/5wCAP94AgD/WAIA/",
          "dtype": "f4"
         },
         "z": {
          "bdata": "AABQQq1pMUIklRdCdsMBQn6n3kHafL9BgiKlQeTXjkFl9XdBNARYQYz1PEHzBiZBaZQSQaMTAkH6H+hAHk7QQKgLvEB4zKpARBqcQDSRj0Dy3IRAhWx3QOnBZ0BRVFpAsc1OQETlREByXTxAFgI1QASnLkDLJilArmEkQLk8IEALoRxAM3sZQKi6FkBUURRAODMSQBhWEEA2sQ5AGz0NQGDzC0CLzgpA5skJQGXhCECOEQhAYFcHQECwBkDyGQZAgZIFQD0YBUCsqQRAhUUEQKnqA0AamANA/UwDQIwIA0AeygJAGZECQPdcAkBBLQJAiwECQHbZAUCvtAFA6JIBQN1zAUBRVwFADT0BQN4kAUCXDgFAD/oAQCLnAECt1QBAksUAQLS2AED7qABATpwAQJmQAEDHhQBAyHsAQItyAEAAagBAGmIAQMxaAEALVABAy00AQANIAECqQgBAtz0AQCM5AEDmNABA+jAAQFktAED9KQBA4SYAQAAkAEBVIQBA3h4AQJUcAEB4GgBAghgAQLIWAEAEFQBAdxMAQAYSAECxEABAdQ8AQFEOAEBCDQBARwwAQF8LAECICgBAwAkAQAgJAEBdCABAvwcAQCwHAEClBgBAJwYAQLMFAEBHBQBA4wQAQIcEAEAxBABA4gMAQJgDAEBUAwBAFQMAQNsCAEClAgBAcwIAQEUCAEAaAgBA8gEAQM0BAECrAQBAjAEAQG4BAEBTAQBAOgEAQCMBAEAOAQBA+gAAQOcAAEDWAABAxgAAQLgAAECqAABAngAAQJIAAECHAABAfQAAQHQAAEBrAABAYwAAQFwAAEBVAABATwAAQEkAAEBEAABAPwAAQDoAAEA2AABAMgAAQC4AAEArAABAKAAAQCUAAEAiAABAHwAAQB0AAEAbAABAGQAAQBcAAEAVAABAFAAAQBIAAEARAABAEAAAQA8AAEAOAABADQAAQAwAAEALAABACgAAQAkAAEAJAABACAAAQAcAAEAHAABABgAAQAYAAEAFAABABQAAQAUAAEAEAABABAAAQAQAAEADAABAAwAAQAMAAEADAABAAgAAQAIAAEACAABAAgAAQAIAAEACAABAAgAAQAEAAEABAABAAQAAQAEAAEABAABAAQAAQAEAAEABAABAAQAAQAEAAEABAABAAQAAQAEAAEABAABAAAAAQAAAAEAAAABAAAAAQAAAAEAAAABAAAAAQAAAAEAAAABAAAAAQAAAAEAAAABAAAAAQAAAAEAAAABAAAAAQAAAAEAAAABAAAAAQAAAAEAAAABAAAAAQAAAAEAAAABAAAAAQAAAAEAAAABAAAAAQAAAAEAAAABAAAAAQAAAAEAAAABAAAAAQAAAAEAAAABAAAAAQAAAAEAAAABAAAAAQAAAAEAAAABAAAAAQAAAAEAAAABAAAAAQAAAAEAAAABAAAAAQAAAAEAAAABAAAAAQAAAAEAAAABAAAAAQAAAAEAAAABAAAAAQAAAAEAAAABA",
          "dtype": "f4"
         }
        }
       ],
       "layout": {
        "autosize": true,
        "scene": {
         "xaxis": {
          "title": {
           "text": "x1"
          }
         },
         "yaxis": {
          "title": {
           "text": "x2"
          }
         },
         "zaxis": {
          "title": {
           "text": "J(x)"
          }
         }
        },
        "template": {
         "data": {
          "bar": [
           {
            "error_x": {
             "color": "#2a3f5f"
            },
            "error_y": {
             "color": "#2a3f5f"
            },
            "marker": {
             "line": {
              "color": "#E5ECF6",
              "width": 0.5
             },
             "pattern": {
              "fillmode": "overlay",
              "size": 10,
              "solidity": 0.2
             }
            },
            "type": "bar"
           }
          ],
          "barpolar": [
           {
            "marker": {
             "line": {
              "color": "#E5ECF6",
              "width": 0.5
             },
             "pattern": {
              "fillmode": "overlay",
              "size": 10,
              "solidity": 0.2
             }
            },
            "type": "barpolar"
           }
          ],
          "carpet": [
           {
            "aaxis": {
             "endlinecolor": "#2a3f5f",
             "gridcolor": "white",
             "linecolor": "white",
             "minorgridcolor": "white",
             "startlinecolor": "#2a3f5f"
            },
            "baxis": {
             "endlinecolor": "#2a3f5f",
             "gridcolor": "white",
             "linecolor": "white",
             "minorgridcolor": "white",
             "startlinecolor": "#2a3f5f"
            },
            "type": "carpet"
           }
          ],
          "choropleth": [
           {
            "colorbar": {
             "outlinewidth": 0,
             "ticks": ""
            },
            "type": "choropleth"
           }
          ],
          "contour": [
           {
            "colorbar": {
             "outlinewidth": 0,
             "ticks": ""
            },
            "colorscale": [
             [
              0,
              "#0d0887"
             ],
             [
              0.1111111111111111,
              "#46039f"
             ],
             [
              0.2222222222222222,
              "#7201a8"
             ],
             [
              0.3333333333333333,
              "#9c179e"
             ],
             [
              0.4444444444444444,
              "#bd3786"
             ],
             [
              0.5555555555555556,
              "#d8576b"
             ],
             [
              0.6666666666666666,
              "#ed7953"
             ],
             [
              0.7777777777777778,
              "#fb9f3a"
             ],
             [
              0.8888888888888888,
              "#fdca26"
             ],
             [
              1,
              "#f0f921"
             ]
            ],
            "type": "contour"
           }
          ],
          "contourcarpet": [
           {
            "colorbar": {
             "outlinewidth": 0,
             "ticks": ""
            },
            "type": "contourcarpet"
           }
          ],
          "heatmap": [
           {
            "colorbar": {
             "outlinewidth": 0,
             "ticks": ""
            },
            "colorscale": [
             [
              0,
              "#0d0887"
             ],
             [
              0.1111111111111111,
              "#46039f"
             ],
             [
              0.2222222222222222,
              "#7201a8"
             ],
             [
              0.3333333333333333,
              "#9c179e"
             ],
             [
              0.4444444444444444,
              "#bd3786"
             ],
             [
              0.5555555555555556,
              "#d8576b"
             ],
             [
              0.6666666666666666,
              "#ed7953"
             ],
             [
              0.7777777777777778,
              "#fb9f3a"
             ],
             [
              0.8888888888888888,
              "#fdca26"
             ],
             [
              1,
              "#f0f921"
             ]
            ],
            "type": "heatmap"
           }
          ],
          "histogram": [
           {
            "marker": {
             "pattern": {
              "fillmode": "overlay",
              "size": 10,
              "solidity": 0.2
             }
            },
            "type": "histogram"
           }
          ],
          "histogram2d": [
           {
            "colorbar": {
             "outlinewidth": 0,
             "ticks": ""
            },
            "colorscale": [
             [
              0,
              "#0d0887"
             ],
             [
              0.1111111111111111,
              "#46039f"
             ],
             [
              0.2222222222222222,
              "#7201a8"
             ],
             [
              0.3333333333333333,
              "#9c179e"
             ],
             [
              0.4444444444444444,
              "#bd3786"
             ],
             [
              0.5555555555555556,
              "#d8576b"
             ],
             [
              0.6666666666666666,
              "#ed7953"
             ],
             [
              0.7777777777777778,
              "#fb9f3a"
             ],
             [
              0.8888888888888888,
              "#fdca26"
             ],
             [
              1,
              "#f0f921"
             ]
            ],
            "type": "histogram2d"
           }
          ],
          "histogram2dcontour": [
           {
            "colorbar": {
             "outlinewidth": 0,
             "ticks": ""
            },
            "colorscale": [
             [
              0,
              "#0d0887"
             ],
             [
              0.1111111111111111,
              "#46039f"
             ],
             [
              0.2222222222222222,
              "#7201a8"
             ],
             [
              0.3333333333333333,
              "#9c179e"
             ],
             [
              0.4444444444444444,
              "#bd3786"
             ],
             [
              0.5555555555555556,
              "#d8576b"
             ],
             [
              0.6666666666666666,
              "#ed7953"
             ],
             [
              0.7777777777777778,
              "#fb9f3a"
             ],
             [
              0.8888888888888888,
              "#fdca26"
             ],
             [
              1,
              "#f0f921"
             ]
            ],
            "type": "histogram2dcontour"
           }
          ],
          "mesh3d": [
           {
            "colorbar": {
             "outlinewidth": 0,
             "ticks": ""
            },
            "type": "mesh3d"
           }
          ],
          "parcoords": [
           {
            "line": {
             "colorbar": {
              "outlinewidth": 0,
              "ticks": ""
             }
            },
            "type": "parcoords"
           }
          ],
          "pie": [
           {
            "automargin": true,
            "type": "pie"
           }
          ],
          "scatter": [
           {
            "fillpattern": {
             "fillmode": "overlay",
             "size": 10,
             "solidity": 0.2
            },
            "type": "scatter"
           }
          ],
          "scatter3d": [
           {
            "line": {
             "colorbar": {
              "outlinewidth": 0,
              "ticks": ""
             }
            },
            "marker": {
             "colorbar": {
              "outlinewidth": 0,
              "ticks": ""
             }
            },
            "type": "scatter3d"
           }
          ],
          "scattercarpet": [
           {
            "marker": {
             "colorbar": {
              "outlinewidth": 0,
              "ticks": ""
             }
            },
            "type": "scattercarpet"
           }
          ],
          "scattergeo": [
           {
            "marker": {
             "colorbar": {
              "outlinewidth": 0,
              "ticks": ""
             }
            },
            "type": "scattergeo"
           }
          ],
          "scattergl": [
           {
            "marker": {
             "colorbar": {
              "outlinewidth": 0,
              "ticks": ""
             }
            },
            "type": "scattergl"
           }
          ],
          "scattermap": [
           {
            "marker": {
             "colorbar": {
              "outlinewidth": 0,
              "ticks": ""
             }
            },
            "type": "scattermap"
           }
          ],
          "scattermapbox": [
           {
            "marker": {
             "colorbar": {
              "outlinewidth": 0,
              "ticks": ""
             }
            },
            "type": "scattermapbox"
           }
          ],
          "scatterpolar": [
           {
            "marker": {
             "colorbar": {
              "outlinewidth": 0,
              "ticks": ""
             }
            },
            "type": "scatterpolar"
           }
          ],
          "scatterpolargl": [
           {
            "marker": {
             "colorbar": {
              "outlinewidth": 0,
              "ticks": ""
             }
            },
            "type": "scatterpolargl"
           }
          ],
          "scatterternary": [
           {
            "marker": {
             "colorbar": {
              "outlinewidth": 0,
              "ticks": ""
             }
            },
            "type": "scatterternary"
           }
          ],
          "surface": [
           {
            "colorbar": {
             "outlinewidth": 0,
             "ticks": ""
            },
            "colorscale": [
             [
              0,
              "#0d0887"
             ],
             [
              0.1111111111111111,
              "#46039f"
             ],
             [
              0.2222222222222222,
              "#7201a8"
             ],
             [
              0.3333333333333333,
              "#9c179e"
             ],
             [
              0.4444444444444444,
              "#bd3786"
             ],
             [
              0.5555555555555556,
              "#d8576b"
             ],
             [
              0.6666666666666666,
              "#ed7953"
             ],
             [
              0.7777777777777778,
              "#fb9f3a"
             ],
             [
              0.8888888888888888,
              "#fdca26"
             ],
             [
              1,
              "#f0f921"
             ]
            ],
            "type": "surface"
           }
          ],
          "table": [
           {
            "cells": {
             "fill": {
              "color": "#EBF0F8"
             },
             "line": {
              "color": "white"
             }
            },
            "header": {
             "fill": {
              "color": "#C8D4E3"
             },
             "line": {
              "color": "white"
             }
            },
            "type": "table"
           }
          ]
         },
         "layout": {
          "annotationdefaults": {
           "arrowcolor": "#2a3f5f",
           "arrowhead": 0,
           "arrowwidth": 1
          },
          "autotypenumbers": "strict",
          "coloraxis": {
           "colorbar": {
            "outlinewidth": 0,
            "ticks": ""
           }
          },
          "colorscale": {
           "diverging": [
            [
             0,
             "#8e0152"
            ],
            [
             0.1,
             "#c51b7d"
            ],
            [
             0.2,
             "#de77ae"
            ],
            [
             0.3,
             "#f1b6da"
            ],
            [
             0.4,
             "#fde0ef"
            ],
            [
             0.5,
             "#f7f7f7"
            ],
            [
             0.6,
             "#e6f5d0"
            ],
            [
             0.7,
             "#b8e186"
            ],
            [
             0.8,
             "#7fbc41"
            ],
            [
             0.9,
             "#4d9221"
            ],
            [
             1,
             "#276419"
            ]
           ],
           "sequential": [
            [
             0,
             "#0d0887"
            ],
            [
             0.1111111111111111,
             "#46039f"
            ],
            [
             0.2222222222222222,
             "#7201a8"
            ],
            [
             0.3333333333333333,
             "#9c179e"
            ],
            [
             0.4444444444444444,
             "#bd3786"
            ],
            [
             0.5555555555555556,
             "#d8576b"
            ],
            [
             0.6666666666666666,
             "#ed7953"
            ],
            [
             0.7777777777777778,
             "#fb9f3a"
            ],
            [
             0.8888888888888888,
             "#fdca26"
            ],
            [
             1,
             "#f0f921"
            ]
           ],
           "sequentialminus": [
            [
             0,
             "#0d0887"
            ],
            [
             0.1111111111111111,
             "#46039f"
            ],
            [
             0.2222222222222222,
             "#7201a8"
            ],
            [
             0.3333333333333333,
             "#9c179e"
            ],
            [
             0.4444444444444444,
             "#bd3786"
            ],
            [
             0.5555555555555556,
             "#d8576b"
            ],
            [
             0.6666666666666666,
             "#ed7953"
            ],
            [
             0.7777777777777778,
             "#fb9f3a"
            ],
            [
             0.8888888888888888,
             "#fdca26"
            ],
            [
             1,
             "#f0f921"
            ]
           ]
          },
          "colorway": [
           "#636efa",
           "#EF553B",
           "#00cc96",
           "#ab63fa",
           "#FFA15A",
           "#19d3f3",
           "#FF6692",
           "#B6E880",
           "#FF97FF",
           "#FECB52"
          ],
          "font": {
           "color": "#2a3f5f"
          },
          "geo": {
           "bgcolor": "white",
           "lakecolor": "white",
           "landcolor": "#E5ECF6",
           "showlakes": true,
           "showland": true,
           "subunitcolor": "white"
          },
          "hoverlabel": {
           "align": "left"
          },
          "hovermode": "closest",
          "mapbox": {
           "style": "light"
          },
          "paper_bgcolor": "white",
          "plot_bgcolor": "#E5ECF6",
          "polar": {
           "angularaxis": {
            "gridcolor": "white",
            "linecolor": "white",
            "ticks": ""
           },
           "bgcolor": "#E5ECF6",
           "radialaxis": {
            "gridcolor": "white",
            "linecolor": "white",
            "ticks": ""
           }
          },
          "scene": {
           "xaxis": {
            "backgroundcolor": "#E5ECF6",
            "gridcolor": "white",
            "gridwidth": 2,
            "linecolor": "white",
            "showbackground": true,
            "ticks": "",
            "zerolinecolor": "white"
           },
           "yaxis": {
            "backgroundcolor": "#E5ECF6",
            "gridcolor": "white",
            "gridwidth": 2,
            "linecolor": "white",
            "showbackground": true,
            "ticks": "",
            "zerolinecolor": "white"
           },
           "zaxis": {
            "backgroundcolor": "#E5ECF6",
            "gridcolor": "white",
            "gridwidth": 2,
            "linecolor": "white",
            "showbackground": true,
            "ticks": "",
            "zerolinecolor": "white"
           }
          },
          "shapedefaults": {
           "line": {
            "color": "#2a3f5f"
           }
          },
          "ternary": {
           "aaxis": {
            "gridcolor": "white",
            "linecolor": "white",
            "ticks": ""
           },
           "baxis": {
            "gridcolor": "white",
            "linecolor": "white",
            "ticks": ""
           },
           "bgcolor": "#E5ECF6",
           "caxis": {
            "gridcolor": "white",
            "linecolor": "white",
            "ticks": ""
           }
          },
          "title": {
           "x": 0.05
          },
          "xaxis": {
           "automargin": true,
           "gridcolor": "white",
           "linecolor": "white",
           "ticks": "",
           "title": {
            "standoff": 15
           },
           "zerolinecolor": "white",
           "zerolinewidth": 2
          },
          "yaxis": {
           "automargin": true,
           "gridcolor": "white",
           "linecolor": "white",
           "ticks": "",
           "title": {
            "standoff": 15
           },
           "zerolinecolor": "white",
           "zerolinewidth": 2
          }
         }
        },
        "title": {
         "text": "Superfície da Função de Custo + Pontos Encontrados (Taxa de Aprendizado = 0.01)"
        }
       }
      }
     },
     "metadata": {},
     "output_type": "display_data"
    }
   ],
   "source": [
    "x_values, costs = dict_of_results[learning_rates[1]]\n",
    "\n",
    "plot_function(f, x_values,costs, title=f\"Superfície da Função de Custo + Pontos Encontrados (Taxa de Aprendizado = {learning_rates[1]})\")"
   ]
  },
  {
   "cell_type": "code",
   "execution_count": 7,
   "id": "38f52e00",
   "metadata": {},
   "outputs": [
    {
     "data": {
      "application/vnd.plotly.v1+json": {
       "config": {
        "plotlyServerURL": "https://plot.ly"
       },
       "data": [
        {
         "colorscale": [
          [
           0,
           "#440154"
          ],
          [
           0.1111111111111111,
           "#482878"
          ],
          [
           0.2222222222222222,
           "#3e4989"
          ],
          [
           0.3333333333333333,
           "#31688e"
          ],
          [
           0.4444444444444444,
           "#26828e"
          ],
          [
           0.5555555555555556,
           "#1f9e89"
          ],
          [
           0.6666666666666666,
           "#35b779"
          ],
          [
           0.7777777777777778,
           "#6ece58"
          ],
          [
           0.8888888888888888,
           "#b5de2b"
          ],
          [
           1,
           "#fde725"
          ]
         ],
         "opacity": 0.8,
         "type": "surface",
         "x": {
          "bdata": "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",
          "dtype": "f4",
          "shape": "100, 100"
         },
         "y": {
          "bdata": "AACAwAAAgMAAAIDAAACAwAAAgMAAAIDAAACAwAAAgMAAAIDAAACAwAAAgMAAAIDAAACAwAAAgMAAAIDAAACAwAAAgMAAAIDAAACAwAAAgMAAAIDAAACAwAAAgMAAAIDAAACAwAAAgMAAAIDAAACAwAAAgMAAAIDAAACAwAAAgMAAAIDAAACAwAAAgMAAAIDAAACAwAAAgMAAAIDAAACAwAAAgMAAAIDAAACAwAAAgMAAAIDAAACAwAAAgMAAAIDAAACAwAAAgMAAAIDAAACAwAAAgMAAAIDAAACAwAAAgMAAAIDAAACAwAAAgMAAAIDAAACAwAAAgMAAAIDAAACAwAAAgMAAAIDAAACAwAAAgMAAAIDAAACAwAAAgMAAAIDAAACAwAAAgMAAAIDAAACAwAAAgMAAAIDAAACAwAAAgMAAAIDAAACAwAAAgMAAAIDAAACAwAAAgMAAAIDAAACAwAAAgMAAAIDAAACAwAAAgMAAAIDAAACAwAAAgMAAAIDAAACAwAAAgMAAAIDAAACAwArUesAK1HrACtR6wArUesAK1HrACtR6wArUesAK1HrACtR6wArUesAK1HrACtR6wArUesAK1HrACtR6wArUesAK1HrACtR6wArUesAK1HrACtR6wArUesAK1HrACtR6wArUesAK1HrACtR6wArUesAK1HrACtR6wArUesAK1HrACtR6wArUesAK1HrACtR6wArUesAK1HrACtR6wArUesAK1HrACtR6wArUesAK1HrACtR6wArUesAK1HrACtR6wArUesAK1HrACtR6wArUesAK1HrACtR6wArUesAK1HrACtR6wArUesAK1HrACtR6wArUesAK1HrACtR6wArUesAK1HrACtR6wArUesAK1HrACtR6wArUesAK1HrACtR6wArUesAK1HrACtR6wArUesAK1HrACtR6wArUesAK1HrACtR6wArUesAK1HrACtR6wArUesAK1HrACtR6wArUesAK1HrACtR6wArUesAK1HrACtR6wArUesAK1HrACtR6wArUesAK1HrACtR6wArUesAUqHXAFKh1wBSodcAUqHXAFKh1wBSodcAUqHXAFKh1wBSodcAUqHXAFKh1wBSodcAUqHXAFKh1wBSodcAUqHXAFKh1wBSodcAUqHXAFKh1wBSodcAUqHXAFKh1wBSodcAUqHXAFKh1wBSodcAUqHXAFKh1wBSodcAUqHXAFKh1wBSodcAUqHXAFKh1wBSodcAUqHXAFKh1wBSodcAUqHXAFKh1wBSodcAUqHXAFKh1wBSodcAUqHXAFKh1wBSodcAUqHXAFKh1wBSodcAUqHXAFKh1wBSodcAUqHXAFKh1wBSodcAUqHXAFKh1wBSodcAUqHXAFKh1wBSodcAUqHXAFKh1wBSodcAUqHXAFKh1wBSodcAUqHXAFKh1wBSodcAUqHXAFKh1wBSodcAUqHXAFKh1wBSodcAUqHXAFKh1wBSodcAUqHXAFKh1wBSodcAUqHXAFKh1wBSodcAUqHXAFKh1wBSodcAUqHXAFKh1wBSodcAUqHXAFKh1wBSodcAUqHXAFKh1wBSodcAUqHXAIHxwwCB8cMAgfHDAIHxwwCB8cMAgfHDAIHxwwCB8cMAgfHDAIHxwwCB8cMAgfHDAIHxwwCB8cMAgfHDAIHxwwCB8cMAgfHDAIHxwwCB8cMAgfHDAIHxwwCB8cMAgfHDAIHxwwCB8cMAgfHDAIHxwwCB8cMAgfHDAIHxwwCB8cMAgfHDAIHxwwCB8cMAgfHDAIHxwwCB8cMAgfHDAIHxwwCB8cMAgfHDAIHxwwCB8cMAgfHDAIHxwwCB8cMAgfHDAIHxwwCB8cMAgfHDAIHxwwCB8cMAgfHDAIHxwwCB8cMAgfHDAIHxwwCB8cMAgfHDAIHxwwCB8cMAgfHDAIHxwwCB8cMAgfHDAIHxwwCB8cMAgfHDAIHxwwCB8cMAgfHDAIHxwwCB8cMAgfHDAIHxwwCB8cMAgfHDAIHxwwCB8cMAgfHDAIHxwwCB8cMAgfHDAIHxwwCB8cMAgfHDAIHxwwCB8cMAgfHDAIHxwwCB8cMAgfHDAIHxwwCB8cMAgfHDAIHxwwCB8cMAgfHDAIHxwwCpQa8AqUGvAKlBrwCpQa8AqUGvAKlBrwCpQa8AqUGvAKlBrwCpQa8AqUGvAKlBrwCpQa8AqUGvAKlBrwCpQa8AqUGvAKlBrwCpQa8AqUGvAKlBrwCpQa8AqUGvAKlBrwCpQa8AqUGvAKlBrwCpQa8AqUGvAKlBrwCpQa8AqUGvAKlBrwCpQa8AqUGvAKlBrwCpQa8AqUGvAKlBrwCpQa8AqUGvAKlBrwCpQa8AqUGvAKlBrwCpQa8AqUGvAKlBrwCpQa8AqUGvAKlBrwCpQa8AqUGvAKlBrwCpQa8AqUGvAKlBrwCpQa8AqUGvAKlBrwCpQa8AqUGvAKlBrwCpQa8AqUGvAKlBrwCpQa8AqUGvAKlBrwCpQa8AqUGvAKlBrwCpQa8AqUGvAKlBrwCpQa8AqUGvAKlBrwCpQa8AqUGvAKlBrwCpQa8AqUGvAKlBrwCpQa8AqUGvAKlBrwCpQa8AqUGvAKlBrwCpQa8AqUGvAKlBrwCpQa8AqUGvAKlBrwCpQa8AqUGvAKlBrwCpQa8A0JGbANCRmwDQkZsA0JGbANCRmwDQkZsA0JGbANCRmwDQkZsA0JGbANCRmwDQkZsA0JGbANCRmwDQkZsA0JGbANCRmwDQkZsA0JGbANCRmwDQkZsA0JGbANCRmwDQkZsA0JGbANCRmwDQkZsA0JGbANCRmwDQkZsA0JGbANCRmwDQkZsA0JGbANCRmwDQkZsA0JGbANCRmwDQkZsA0JGbANCRmwDQkZsA0JGbANCRmwDQkZsA0JGbANCRmwDQkZsA0JGbANCRmwDQkZsA0JGbANCRmwDQkZsA0JGbANCRmwDQkZsA0JGbANCRmwDQkZsA0JGbANCRmwDQkZsA0JGbANCRmwDQkZsA0JGbANCRmwDQkZsA0JGbANCRmwDQkZsA0JGbANCRmwDQkZsA0JGbANCRmwDQkZsA0JGbANCRmwDQkZsA0JGbANCRmwDQkZsA0JGbANCRmwDQkZsA0JGbANCRmwDQkZsA0JGbANCRmwDQkZsA0JGbANCRmwDQkZsA0JGbANCRmwDQkZsA0JGbAPvhgwD74YMA++GDAPvhgwD74YMA++GDAPvhgwD74YMA++GDAPvhgwD74YMA++GDAPvhgwD74YMA++GDAPvhgwD74YMA++GDAPvhgwD74YMA++GDAPvhgwD74YMA++GDAPvhgwD74YMA++GDAPvhgwD74YMA++GDAPvhgwD74YMA++GDAPvhgwD74YMA++GDAPvhgwD74YMA++GDAPvhgwD74YMA++GDAPvhgwD74YMA++GDAPvhgwD74YMA++GDAPvhgwD74YMA++GDAPvhgwD74YMA++GDAPvhgwD74YMA++GDAPvhgwD74YMA++GDAPvhgwD74YMA++GDAPvhgwD74YMA++GDAPvhgwD74YMA++GDAPvhgwD74YMA++GDAPvhgwD74YMA++GDAPvhgwD74YMA++GDAPvhgwD74YMA++GDAPvhgwD74YMA++GDAPvhgwD74YMA++GDAPvhgwD74YMA++GDAPvhgwD74YMA++GDAPvhgwD74YMA++GDAPvhgwD74YMA++GDAPvhgwEjMW8BIzFvASMxbwEjMW8BIzFvASMxbwEjMW8BIzFvASMxbwEjMW8BIzFvASMxbwEjMW8BIzFvASMxbwEjMW8BIzFvASMxbwEjMW8BIzFvASMxbwEjMW8BIzFvASMxbwEjMW8BIzFvASMxbwEjMW8BIzFvASMxbwEjMW8BIzFvASMxbwEjMW8BIzFvASMxbwEjMW8BIzFvASMxbwEjMW8BIzFvASMxbwEjMW8BIzFvASMxbwEjMW8BIzFvASMxbwEjMW8BIzFvASMxbwEjMW8BIzFvASMxbwEjMW8BIzFvASMxbwEjMW8BIzFvASMxbwEjMW8BIzFvASMxbwEjMW8BIzFvASMxbwEjMW8BIzFvASMxbwEjMW8BIzFvASMxbwEjMW8BIzFvASMxbwEjMW8BIzFvASMxbwEjMW8BIzFvASMxbwEjMW8BIzFvASMxbwEjMW8BIzFvASMxbwEjMW8BIzFvASMxbwEjMW8BIzFvASMxbwEjMW8BIzFvASMxbwEjMW8BIzFvASMxbwEjMW8BSoFbAUqBWwFKgVsBSoFbAUqBWwFKgVsBSoFbAUqBWwFKgVsBSoFbAUqBWwFKgVsBSoFbAUqBWwFKgVsBSoFbAUqBWwFKgVsBSoFbAUqBWwFKgVsBSoFbAUqBWwFKgVsBSoFbAUqBWwFKgVsBSoFbAUqBWwFKgVsBSoFbAUqBWwFKgVsBSoFbAUqBWwFKgVsBSoFbAUqBWwFKgVsBSoFbAUqBWwFKgVsBSoFbAUqBWwFKgVsBSoFbAUqBWwFKgVsBSoFbAUqBWwFKgVsBSoFbAUqBWwFKgVsBSoFbAUqBWwFKgVsBSoFbAUqBWwFKgVsBSoFbAUqBWwFKgVsBSoFbAUqBWwFKgVsBSoFbAUqBWwFKgVsBSoFbAUqBWwFKgVsBSoFbAUqBWwFKgVsBSoFbAUqBWwFKgVsBSoFbAUqBWwFKgVsBSoFbAUqBWwFKgVsBSoFbAUqBWwFKgVsBSoFbAUqBWwFKgVsBSoFbAUqBWwFKgVsBSoFbAUqBWwFKgVsBSoFbAUqBWwFKgVsBSoFbAXXRRwF10UcBddFHAXXRRwF10UcBddFHAXXRRwF10UcBddFHAXXRRwF10UcBddFHAXXRRwF10UcBddFHAXXRRwF10UcBddFHAXXRRwF10UcBddFHAXXRRwF10UcBddFHAXXRRwF10UcBddFHAXXRRwF10UcBddFHAXXRRwF10UcBddFHAXXRRwF10UcBddFHAXXRRwF10UcBddFHAXXRRwF10UcBddFHAXXRRwF10UcBddFHAXXRRwF10UcBddFHAXXRRwF10UcBddFHAXXRRwF10UcBddFHAXXRRwF10UcBddFHAXXRRwF10UcBddFHAXXRRwF10UcBddFHAXXRRwF10UcBddFHAXXRRwF10UcBddFHAXXRRwF10UcBddFHAXXRRwF10UcBddFHAXXRRwF10UcBddFHAXXRRwF10UcBddFHAXXRRwF10UcBddFHAXXRRwF10UcBddFHAXXRRwF10UcBddFHAXXRRwF10UcBddFHAXXRRwF10UcBddFHAXXRRwF10UcBddFHAXXRRwGhITMBoSEzAaEhMwGhITMBoSEzAaEhMwGhITMBoSEzAaEhMwGhITMBoSEzAaEhMwGhITMBoSEzAaEhMwGhITMBoSEzAaEhMwGhITMBoSEzAaEhMwGhITMBoSEzAaEhMwGhITMBoSEzAaEhMwGhITMBoSEzAaEhMwGhITMBoSEzAaEhMwGhITMBoSEzAaEhMwGhITMBoSEzAaEhMwGhITMBoSEzAaEhMwGhITMBoSEzAaEhMwGhITMBoSEzAaEhMwGhITMBoSEzAaEhMwGhITMBoSEzAaEhMwGhITMBoSEzAaEhMwGhITMBoSEzAaEhMwGhITMBoSEzAaEhMwGhITMBoSEzAaEhMwGhITMBoSEzAaEhMwGhITMBoSEzAaEhMwGhITMBoSEzAaEhMwGhITMBoSEzAaEhMwGhITMBoSEzAaEhMwGhITMBoSEzAaEhMwGhITMBoSEzAaEhMwGhITMBoSEzAaEhMwGhITMBoSEzAaEhMwGhITMBoSEzAaEhMwGhITMBoSEzAaEhMwGhITMByHEfAchxHwHIcR8ByHEfAchxHwHIcR8ByHEfAchxHwHIcR8ByHEfAchxHwHIcR8ByHEfAchxHwHIcR8ByHEfAchxHwHIcR8ByHEfAchxHwHIcR8ByHEfAchxHwHIcR8ByHEfAchxHwHIcR8ByHEfAchxHwHIcR8ByHEfAchxHwHIcR8ByHEfAchxHwHIcR8ByHEfAchxHwHIcR8ByHEfAchxHwHIcR8ByHEfAchxHwHIcR8ByHEfAchxHwHIcR8ByHEfAchxHwHIcR8ByHEfAchxHwHIcR8ByHEfAchxHwHIcR8ByHEfAchxHwHIcR8ByHEfAchxHwHIcR8ByHEfAchxHwHIcR8ByHEfAchxHwHIcR8ByHEfAchxHwHIcR8ByHEfAchxHwHIcR8ByHEfAchxHwHIcR8ByHEfAchxHwHIcR8ByHEfAchxHwHIcR8ByHEfAchxHwHIcR8ByHEfAchxHwHIcR8ByHEfAchxHwHIcR8ByHEfAchxHwHIcR8ByHEfAchxHwHIcR8ByHEfAfPBBwHzwQcB88EHAfPBBwHzwQcB88EHAfPBBwHzwQcB88EHAfPBBwHzwQcB88EHAfPBBwHzwQcB88EHAfPBBwHzwQcB88EHAfPBBwHzwQcB88EHAfPBBwHzwQcB88EHAfPBBwHzwQcB88EHAfPBBwHzwQcB88EHAfPBBwHzwQcB88EHAfPBBwHzwQcB88EHAfPBBwHzwQcB88EHAfPBBwHzwQcB88EHAfPBBwHzwQcB88EHAfPBBwHzwQcB88EHAfPBBwHzwQcB88EHAfPBBwHzwQcB88EHAfPBBwHzwQcB88EHAfPBBwHzwQcB88EHAfPBBwHzwQcB88EHAfPBBwHzwQcB88EHAfPBBwHzwQcB88EHAfPBBwHzwQcB88EHAfPBBwHzwQcB88EHAfPBBwHzwQcB88EHAfPBBwHzwQcB88EHAfPBBwHzwQcB88EHAfPBBwHzwQcB88EHAfPBBwHzwQcB88EHAfPBBwHzwQcB88EHAfPBBwHzwQcB88EHAfPBBwHzwQcB88EHAfPBBwIbEPMCGxDzAhsQ8wIbEPMCGxDzAhsQ8wIbEPMCGxDzAhsQ8wIbEPMCGxDzAhsQ8wIbEPMCGxDzAhsQ8wIbEPMCGxDzAhsQ8wIbEPMCGxDzAhsQ8wIbEPMCGxDzAhsQ8wIbEPMCGxDzAhsQ8wIbEPMCGxDzAhsQ8wIbEPMCGxDzAhsQ8wIbEPMCGxDzAhsQ8wIbEPMCGxDzAhsQ8wIbEPMCGxDzAhsQ8wIbEPMCGxDzAhsQ8wIbEPMCGxDzAhsQ8wIbEPMCGxDzAhsQ8wIbEPMCGxDzAhsQ8wIbEPMCGxDzAhsQ8wIbEPMCGxDzAhsQ8wIbEPMCGxDzAhsQ8wIbEPMCGxDzAhsQ8wIbEPMCGxDzAhsQ8wIbEPMCGxDzAhsQ8wIbEPMCGxDzAhsQ8wIbEPMCGxDzAhsQ8wIbEPMCGxDzAhsQ8wIbEPMCGxDzAhsQ8wIbEPMCGxDzAhsQ8wIbEPMCGxDzAhsQ8wIbEPMCGxDzAhsQ8wIbEPMCGxDzAhsQ8wIbEPMCGxDzAhsQ8wIbEPMCQmDfAkJg3wJCYN8CQmDfAkJg3wJCYN8CQmDfAkJg3wJCYN8CQmDfAkJg3wJCYN8CQmDfAkJg3wJCYN8CQmDfAkJg3wJCYN8CQmDfAkJg3wJCYN8CQmDfAkJg3wJCYN8CQmDfAkJg3wJCYN8CQmDfAkJg3wJCYN8CQmDfAkJg3wJCYN8CQmDfAkJg3wJCYN8CQmDfAkJg3wJCYN8CQmDfAkJg3wJCYN8CQmDfAkJg3wJCYN8CQmDfAkJg3wJCYN8CQmDfAkJg3wJCYN8CQmDfAkJg3wJCYN8CQmDfAkJg3wJCYN8CQmDfAkJg3wJCYN8CQmDfAkJg3wJCYN8CQmDfAkJg3wJCYN8CQmDfAkJg3wJCYN8CQmDfAkJg3wJCYN8CQmDfAkJg3wJCYN8CQmDfAkJg3wJCYN8CQmDfAkJg3wJCYN8CQmDfAkJg3wJCYN8CQmDfAkJg3wJCYN8CQmDfAkJg3wJCYN8CQmDfAkJg3wJCYN8CQmDfAkJg3wJCYN8CQmDfAkJg3wJCYN8CQmDfAnGwywJxsMsCcbDLAnGwywJxsMsCcbDLAnGwywJxsMsCcbDLAnGwywJxsMsCcbDLAnGwywJxsMsCcbDLAnGwywJxsMsCcbDLAnGwywJxsMsCcbDLAnGwywJxsMsCcbDLAnGwywJxsMsCcbDLAnGwywJxsMsCcbDLAnGwywJxsMsCcbDLAnGwywJxsMsCcbDLAnGwywJxsMsCcbDLAnGwywJxsMsCcbDLAnGwywJxsMsCcbDLAnGwywJxsMsCcbDLAnGwywJxsMsCcbDLAnGwywJxsMsCcbDLAnGwywJxsMsCcbDLAnGwywJxsMsCcbDLAnGwywJxsMsCcbDLAnGwywJxsMsCcbDLAnGwywJxsMsCcbDLAnGwywJxsMsCcbDLAnGwywJxsMsCcbDLAnGwywJxsMsCcbDLAnGwywJxsMsCcbDLAnGwywJxsMsCcbDLAnGwywJxsMsCcbDLAnGwywJxsMsCcbDLAnGwywJxsMsCcbDLAnGwywJxsMsCcbDLAnGwywJxsMsCcbDLAnGwywKZALcCmQC3ApkAtwKZALcCmQC3ApkAtwKZALcCmQC3ApkAtwKZALcCmQC3ApkAtwKZALcCmQC3ApkAtwKZALcCmQC3ApkAtwKZALcCmQC3ApkAtwKZALcCmQC3ApkAtwKZALcCmQC3ApkAtwKZALcCmQC3ApkAtwKZALcCmQC3ApkAtwKZALcCmQC3ApkAtwKZALcCmQC3ApkAtwKZALcCmQC3ApkAtwKZALcCmQC3ApkAtwKZALcCmQC3ApkAtwKZALcCmQC3ApkAtwKZALcCmQC3ApkAtwKZALcCmQC3ApkAtwKZALcCmQC3ApkAtwKZALcCmQC3ApkAtwKZALcCmQC3ApkAtwKZALcCmQC3ApkAtwKZALcCmQC3ApkAtwKZALcCmQC3ApkAtwKZALcCmQC3ApkAtwKZALcCmQC3ApkAtwKZALcCmQC3ApkAtwKZALcCmQC3ApkAtwKZALcCmQC3ApkAtwKZALcCmQC3ApkAtwKZALcCmQC3ApkAtwKZALcCmQC3ApkAtwKZALcCwFCjAsBQowLAUKMCwFCjAsBQowLAUKMCwFCjAsBQowLAUKMCwFCjAsBQowLAUKMCwFCjAsBQowLAUKMCwFCjAsBQowLAUKMCwFCjAsBQowLAUKMCwFCjAsBQowLAUKMCwFCjAsBQowLAUKMCwFCjAsBQowLAUKMCwFCjAsBQowLAUKMCwFCjAsBQowLAUKMCwFCjAsBQowLAUKMCwFCjAsBQowLAUKMCwFCjAsBQowLAUKMCwFCjAsBQowLAUKMCwFCjAsBQowLAUKMCwFCjAsBQowLAUKMCwFCjAsBQowLAUKMCwFCjAsBQowLAUKMCwFCjAsBQowLAUKMCwFCjAsBQowLAUKMCwFCjAsBQowLAUKMCwFCjAsBQowLAUKMCwFCjAsBQowLAUKMCwFCjAsBQowLAUKMCwFCjAsBQowLAUKMCwFCjAsBQowLAUKMCwFCjAsBQowLAUKMCwFCjAsBQowLAUKMCwFCjAsBQowLAUKMCwFCjAsBQowLAUKMCwFCjAsBQowLAUKMCwFCjAuugiwLroIsC66CLAuugiwLroIsC66CLAuugiwLroIsC66CLAuugiwLroIsC66CLAuugiwLroIsC66CLAuugiwLroIsC66CLAuugiwLroIsC66CLAuugiwLroIsC66CLAuugiwLroIsC66CLAuugiwLroIsC66CLAuugiwLroIsC66CLAuugiwLroIsC66CLAuugiwLroIsC66CLAuugiwLroIsC66CLAuugiwLroIsC66CLAuugiwLroIsC66CLAuugiwLroIsC66CLAuugiwLroIsC66CLAuugiwLroIsC66CLAuugiwLroIsC66CLAuugiwLroIsC66CLAuugiwLroIsC66CLAuugiwLroIsC66CLAuugiwLroIsC66CLAuugiwLroIsC66CLAuugiwLroIsC66CLAuugiwLroIsC66CLAuugiwLroIsC66CLAuugiwLroIsC66CLAuugiwLroIsC66CLAuugiwLroIsC66CLAuugiwLroIsC66CLAuugiwLroIsC66CLAuugiwMS8HcDEvB3AxLwdwMS8HcDEvB3AxLwdwMS8HcDEvB3AxLwdwMS8HcDEvB3AxLwdwMS8HcDEvB3AxLwdwMS8HcDEvB3AxLwdwMS8HcDEvB3AxLwdwMS8HcDEvB3AxLwdwMS8HcDEvB3AxLwdwMS8HcDEvB3AxLwdwMS8HcDEvB3AxLwdwMS8HcDEvB3AxLwdwMS8HcDEvB3AxLwdwMS8HcDEvB3AxLwdwMS8HcDEvB3AxLwdwMS8HcDEvB3AxLwdwMS8HcDEvB3AxLwdwMS8HcDEvB3AxLwdwMS8HcDEvB3AxLwdwMS8HcDEvB3AxLwdwMS8HcDEvB3AxLwdwMS8HcDEvB3AxLwdwMS8HcDEvB3AxLwdwMS8HcDEvB3AxLwdwMS8HcDEvB3AxLwdwMS8HcDEvB3AxLwdwMS8HcDEvB3AxLwdwMS8HcDEvB3AxLwdwMS8HcDEvB3AxLwdwMS8HcDEvB3AxLwdwMS8HcDEvB3AxLwdwMS8HcDEvB3AxLwdwMS8HcDEvB3AxLwdwMS8HcDPkBjAz5AYwM+QGMDPkBjAz5AYwM+QGMDPkBjAz5AYwM+QGMDPkBjAz5AYwM+QGMDPkBjAz5AYwM+QGMDPkBjAz5AYwM+QGMDPkBjAz5AYwM+QGMDPkBjAz5AYwM+QGMDPkBjAz5AYwM+QGMDPkBjAz5AYwM+QGMDPkBjAz5AYwM+QGMDPkBjAz5AYwM+QGMDPkBjAz5AYwM+QGMDPkBjAz5AYwM+QGMDPkBjAz5AYwM+QGMDPkBjAz5AYwM+QGMDPkBjAz5AYwM+QGMDPkBjAz5AYwM+QGMDPkBjAz5AYwM+QGMDPkBjAz5AYwM+QGMDPkBjAz5AYwM+QGMDPkBjAz5AYwM+QGMDPkBjAz5AYwM+QGMDPkBjAz5AYwM+QGMDPkBjAz5AYwM+QGMDPkBjAz5AYwM+QGMDPkBjAz5AYwM+QGMDPkBjAz5AYwM+QGMDPkBjAz5AYwM+QGMDPkBjAz5AYwM+QGMDPkBjAz5AYwM+QGMDPkBjAz5AYwM+QGMDPkBjAz5AYwM+QGMDPkBjA2WQTwNlkE8DZZBPA2WQTwNlkE8DZZBPA2WQTwNlkE8DZZBPA2WQTwNlkE8DZZBPA2WQTwNlkE8DZZBPA2WQTwNlkE8DZZBPA2WQTwNlkE8DZZBPA2WQTwNlkE8DZZBPA2WQTwNlkE8DZZBPA2WQTwNlkE8DZZBPA2WQTwNlkE8DZZBPA2WQTwNlkE8DZZBPA2WQTwNlkE8DZZBPA2WQTwNlkE8DZZBPA2WQTwNlkE8DZZBPA2WQTwNlkE8DZZBPA2WQTwNlkE8DZZBPA2WQTwNlkE8DZZBPA2WQTwNlkE8DZZBPA2WQTwNlkE8DZZBPA2WQTwNlkE8DZZBPA2WQTwNlkE8DZZBPA2WQTwNlkE8DZZBPA2WQTwNlkE8DZZBPA2WQTwNlkE8DZZBPA2WQTwNlkE8DZZBPA2WQTwNlkE8DZZBPA2WQTwNlkE8DZZBPA2WQTwNlkE8DZZBPA2WQTwNlkE8DZZBPA2WQTwNlkE8DZZBPA2WQTwNlkE8DZZBPA2WQTwNlkE8DZZBPA2WQTwOQ4DsDkOA7A5DgOwOQ4DsDkOA7A5DgOwOQ4DsDkOA7A5DgOwOQ4DsDkOA7A5DgOwOQ4DsDkOA7A5DgOwOQ4DsDkOA7A5DgOwOQ4DsDkOA7A5DgOwOQ4DsDkOA7A5DgOwOQ4DsDkOA7A5DgOwOQ4DsDkOA7A5DgOwOQ4DsDkOA7A5DgOwOQ4DsDkOA7A5DgOwOQ4DsDkOA7A5DgOwOQ4DsDkOA7A5DgOwOQ4DsDkOA7A5DgOwOQ4DsDkOA7A5DgOwOQ4DsDkOA7A5DgOwOQ4DsDkOA7A5DgOwOQ4DsDkOA7A5DgOwOQ4DsDkOA7A5DgOwOQ4DsDkOA7A5DgOwOQ4DsDkOA7A5DgOwOQ4DsDkOA7A5DgOwOQ4DsDkOA7A5DgOwOQ4DsDkOA7A5DgOwOQ4DsDkOA7A5DgOwOQ4DsDkOA7A5DgOwOQ4DsDkOA7A5DgOwOQ4DsDkOA7A5DgOwOQ4DsDkOA7A5DgOwOQ4DsDkOA7A5DgOwOQ4DsDkOA7A5DgOwOQ4DsDkOA7A5DgOwOQ4DsDuDAnA7gwJwO4MCcDuDAnA7gwJwO4MCcDuDAnA7gwJwO4MCcDuDAnA7gwJwO4MCcDuDAnA7gwJwO4MCcDuDAnA7gwJwO4MCcDuDAnA7gwJwO4MCcDuDAnA7gwJwO4MCcDuDAnA7gwJwO4MCcDuDAnA7gwJwO4MCcDuDAnA7gwJwO4MCcDuDAnA7gwJwO4MCcDuDAnA7gwJwO4MCcDuDAnA7gwJwO4MCcDuDAnA7gwJwO4MCcDuDAnA7gwJwO4MCcDuDAnA7gwJwO4MCcDuDAnA7gwJwO4MCcDuDAnA7gwJwO4MCcDuDAnA7gwJwO4MCcDuDAnA7gwJwO4MCcDuDAnA7gwJwO4MCcDuDAnA7gwJwO4MCcDuDAnA7gwJwO4MCcDuDAnA7gwJwO4MCcDuDAnA7gwJwO4MCcDuDAnA7gwJwO4MCcDuDAnA7gwJwO4MCcDuDAnA7gwJwO4MCcDuDAnA7gwJwO4MCcDuDAnA7gwJwO4MCcDuDAnA7gwJwO4MCcDuDAnA7gwJwO4MCcDuDAnA+OADwPjgA8D44APA+OADwPjgA8D44APA+OADwPjgA8D44APA+OADwPjgA8D44APA+OADwPjgA8D44APA+OADwPjgA8D44APA+OADwPjgA8D44APA+OADwPjgA8D44APA+OADwPjgA8D44APA+OADwPjgA8D44APA+OADwPjgA8D44APA+OADwPjgA8D44APA+OADwPjgA8D44APA+OADwPjgA8D44APA+OADwPjgA8D44APA+OADwPjgA8D44APA+OADwPjgA8D44APA+OADwPjgA8D44APA+OADwPjgA8D44APA+OADwPjgA8D44APA+OADwPjgA8D44APA+OADwPjgA8D44APA+OADwPjgA8D44APA+OADwPjgA8D44APA+OADwPjgA8D44APA+OADwPjgA8D44APA+OADwPjgA8D44APA+OADwPjgA8D44APA+OADwPjgA8D44APA+OADwPjgA8D44APA+OADwPjgA8D44APA+OADwPjgA8D44APA+OADwPjgA8D44APA+OADwAdq/b8Hav2/B2r9vwdq/b8Hav2/B2r9vwdq/b8Hav2/B2r9vwdq/b8Hav2/B2r9vwdq/b8Hav2/B2r9vwdq/b8Hav2/B2r9vwdq/b8Hav2/B2r9vwdq/b8Hav2/B2r9vwdq/b8Hav2/B2r9vwdq/b8Hav2/B2r9vwdq/b8Hav2/B2r9vwdq/b8Hav2/B2r9vwdq/b8Hav2/B2r9vwdq/b8Hav2/B2r9vwdq/b8Hav2/B2r9vwdq/b8Hav2/B2r9vwdq/b8Hav2/B2r9vwdq/b8Hav2/B2r9vwdq/b8Hav2/B2r9vwdq/b8Hav2/B2r9vwdq/b8Hav2/B2r9vwdq/b8Hav2/B2r9vwdq/b8Hav2/B2r9vwdq/b8Hav2/B2r9vwdq/b8Hav2/B2r9vwdq/b8Hav2/B2r9vwdq/b8Hav2/B2r9vwdq/b8Hav2/B2r9vwdq/b8Hav2/B2r9vwdq/b8Hav2/B2r9vwdq/b8Hav2/B2r9vwdq/b8Hav2/B2r9vwdq/b8Hav2/B2r9vwdq/b8ZEvO/GRLzvxkS878ZEvO/GRLzvxkS878ZEvO/GRLzvxkS878ZEvO/GRLzvxkS878ZEvO/GRLzvxkS878ZEvO/GRLzvxkS878ZEvO/GRLzvxkS878ZEvO/GRLzvxkS878ZEvO/GRLzvxkS878ZEvO/GRLzvxkS878ZEvO/GRLzvxkS878ZEvO/GRLzvxkS878ZEvO/GRLzvxkS878ZEvO/GRLzvxkS878ZEvO/GRLzvxkS878ZEvO/GRLzvxkS878ZEvO/GRLzvxkS878ZEvO/GRLzvxkS878ZEvO/GRLzvxkS878ZEvO/GRLzvxkS878ZEvO/GRLzvxkS878ZEvO/GRLzvxkS878ZEvO/GRLzvxkS878ZEvO/GRLzvxkS878ZEvO/GRLzvxkS878ZEvO/GRLzvxkS878ZEvO/GRLzvxkS878ZEvO/GRLzvxkS878ZEvO/GRLzvxkS878ZEvO/GRLzvxkS878ZEvO/GRLzvxkS878ZEvO/GRLzvxkS878ZEvO/GRLzvxkS878ZEvO/L7rovy+66L8vuui/L7rovy+66L8vuui/L7rovy+66L8vuui/L7rovy+66L8vuui/L7rovy+66L8vuui/L7rovy+66L8vuui/L7rovy+66L8vuui/L7rovy+66L8vuui/L7rovy+66L8vuui/L7rovy+66L8vuui/L7rovy+66L8vuui/L7rovy+66L8vuui/L7rovy+66L8vuui/L7rovy+66L8vuui/L7rovy+66L8vuui/L7rovy+66L8vuui/L7rovy+66L8vuui/L7rovy+66L8vuui/L7rovy+66L8vuui/L7rovy+66L8vuui/L7rovy+66L8vuui/L7rovy+66L8vuui/L7rovy+66L8vuui/L7rovy+66L8vuui/L7rovy+66L8vuui/L7rovy+66L8vuui/L7rovy+66L8vuui/L7rovy+66L8vuui/L7rovy+66L8vuui/L7rovy+66L8vuui/L7rovy+66L8vuui/L7rovy+66L8vuui/L7rovy+66L8vuui/L7rov0Ri3r9EYt6/RGLev0Ri3r9EYt6/RGLev0Ri3r9EYt6/RGLev0Ri3r9EYt6/RGLev0Ri3r9EYt6/RGLev0Ri3r9EYt6/RGLev0Ri3r9EYt6/RGLev0Ri3r9EYt6/RGLev0Ri3r9EYt6/RGLev0Ri3r9EYt6/RGLev0Ri3r9EYt6/RGLev0Ri3r9EYt6/RGLev0Ri3r9EYt6/RGLev0Ri3r9EYt6/RGLev0Ri3r9EYt6/RGLev0Ri3r9EYt6/RGLev0Ri3r9EYt6/RGLev0Ri3r9EYt6/RGLev0Ri3r9EYt6/RGLev0Ri3r9EYt6/RGLev0Ri3r9EYt6/RGLev0Ri3r9EYt6/RGLev0Ri3r9EYt6/RGLev0Ri3r9EYt6/RGLev0Ri3r9EYt6/RGLev0Ri3r9EYt6/RGLev0Ri3r9EYt6/RGLev0Ri3r9EYt6/RGLev0Ri3r9EYt6/RGLev0Ri3r9EYt6/RGLev0Ri3r9EYt6/RGLev0Ri3r9EYt6/RGLev0Ri3r9EYt6/RGLev0Ri3r9YCtS/WArUv1gK1L9YCtS/WArUv1gK1L9YCtS/WArUv1gK1L9YCtS/WArUv1gK1L9YCtS/WArUv1gK1L9YCtS/WArUv1gK1L9YCtS/WArUv1gK1L9YCtS/WArUv1gK1L9YCtS/WArUv1gK1L9YCtS/WArUv1gK1L9YCtS/WArUv1gK1L9YCtS/WArUv1gK1L9YCtS/WArUv1gK1L9YCtS/WArUv1gK1L9YCtS/WArUv1gK1L9YCtS/WArUv1gK1L9YCtS/WArUv1gK1L9YCtS/WArUv1gK1L9YCtS/WArUv1gK1L9YCtS/WArUv1gK1L9YCtS/WArUv1gK1L9YCtS/WArUv1gK1L9YCtS/WArUv1gK1L9YCtS/WArUv1gK1L9YCtS/WArUv1gK1L9YCtS/WArUv1gK1L9YCtS/WArUv1gK1L9YCtS/WArUv1gK1L9YCtS/WArUv1gK1L9YCtS/WArUv1gK1L9YCtS/WArUv1gK1L9YCtS/WArUv1gK1L9YCtS/WArUv1gK1L9YCtS/bLLJv2yyyb9sssm/bLLJv2yyyb9sssm/bLLJv2yyyb9sssm/bLLJv2yyyb9sssm/bLLJv2yyyb9sssm/bLLJv2yyyb9sssm/bLLJv2yyyb9sssm/bLLJv2yyyb9sssm/bLLJv2yyyb9sssm/bLLJv2yyyb9sssm/bLLJv2yyyb9sssm/bLLJv2yyyb9sssm/bLLJv2yyyb9sssm/bLLJv2yyyb9sssm/bLLJv2yyyb9sssm/bLLJv2yyyb9sssm/bLLJv2yyyb9sssm/bLLJv2yyyb9sssm/bLLJv2yyyb9sssm/bLLJv2yyyb9sssm/bLLJv2yyyb9sssm/bLLJv2yyyb9sssm/bLLJv2yyyb9sssm/bLLJv2yyyb9sssm/bLLJv2yyyb9sssm/bLLJv2yyyb9sssm/bLLJv2yyyb9sssm/bLLJv2yyyb9sssm/bLLJv2yyyb9sssm/bLLJv2yyyb9sssm/bLLJv2yyyb9sssm/bLLJv2yyyb9sssm/bLLJv2yyyb9sssm/bLLJv4Fav7+BWr+/gVq/v4Fav7+BWr+/gVq/v4Fav7+BWr+/gVq/v4Fav7+BWr+/gVq/v4Fav7+BWr+/gVq/v4Fav7+BWr+/gVq/v4Fav7+BWr+/gVq/v4Fav7+BWr+/gVq/v4Fav7+BWr+/gVq/v4Fav7+BWr+/gVq/v4Fav7+BWr+/gVq/v4Fav7+BWr+/gVq/v4Fav7+BWr+/gVq/v4Fav7+BWr+/gVq/v4Fav7+BWr+/gVq/v4Fav7+BWr+/gVq/v4Fav7+BWr+/gVq/v4Fav7+BWr+/gVq/v4Fav7+BWr+/gVq/v4Fav7+BWr+/gVq/v4Fav7+BWr+/gVq/v4Fav7+BWr+/gVq/v4Fav7+BWr+/gVq/v4Fav7+BWr+/gVq/v4Fav7+BWr+/gVq/v4Fav7+BWr+/gVq/v4Fav7+BWr+/gVq/v4Fav7+BWr+/gVq/v4Fav7+BWr+/gVq/v4Fav7+BWr+/gVq/v4Fav7+BWr+/gVq/v4Fav7+BWr+/gVq/v4Fav7+BWr+/gVq/v4Fav7+XArW/lwK1v5cCtb+XArW/lwK1v5cCtb+XArW/lwK1v5cCtb+XArW/lwK1v5cCtb+XArW/lwK1v5cCtb+XArW/lwK1v5cCtb+XArW/lwK1v5cCtb+XArW/lwK1v5cCtb+XArW/lwK1v5cCtb+XArW/lwK1v5cCtb+XArW/lwK1v5cCtb+XArW/lwK1v5cCtb+XArW/lwK1v5cCtb+XArW/lwK1v5cCtb+XArW/lwK1v5cCtb+XArW/lwK1v5cCtb+XArW/lwK1v5cCtb+XArW/lwK1v5cCtb+XArW/lwK1v5cCtb+XArW/lwK1v5cCtb+XArW/lwK1v5cCtb+XArW/lwK1v5cCtb+XArW/lwK1v5cCtb+XArW/lwK1v5cCtb+XArW/lwK1v5cCtb+XArW/lwK1v5cCtb+XArW/lwK1v5cCtb+XArW/lwK1v5cCtb+XArW/lwK1v5cCtb+XArW/lwK1v5cCtb+XArW/lwK1v5cCtb+XArW/lwK1v5cCtb+XArW/lwK1v5cCtb+XArW/qaqqv6mqqr+pqqq/qaqqv6mqqr+pqqq/qaqqv6mqqr+pqqq/qaqqv6mqqr+pqqq/qaqqv6mqqr+pqqq/qaqqv6mqqr+pqqq/qaqqv6mqqr+pqqq/qaqqv6mqqr+pqqq/qaqqv6mqqr+pqqq/qaqqv6mqqr+pqqq/qaqqv6mqqr+pqqq/qaqqv6mqqr+pqqq/qaqqv6mqqr+pqqq/qaqqv6mqqr+pqqq/qaqqv6mqqr+pqqq/qaqqv6mqqr+pqqq/qaqqv6mqqr+pqqq/qaqqv6mqqr+pqqq/qaqqv6mqqr+pqqq/qaqqv6mqqr+pqqq/qaqqv6mqqr+pqqq/qaqqv6mqqr+pqqq/qaqqv6mqqr+pqqq/qaqqv6mqqr+pqqq/qaqqv6mqqr+pqqq/qaqqv6mqqr+pqqq/qaqqv6mqqr+pqqq/qaqqv6mqqr+pqqq/qaqqv6mqqr+pqqq/qaqqv6mqqr+pqqq/qaqqv6mqqr+pqqq/qaqqv6mqqr+pqqq/qaqqv6mqqr+pqqq/qaqqv8BSoL/AUqC/wFKgv8BSoL/AUqC/wFKgv8BSoL/AUqC/wFKgv8BSoL/AUqC/wFKgv8BSoL/AUqC/wFKgv8BSoL/AUqC/wFKgv8BSoL/AUqC/wFKgv8BSoL/AUqC/wFKgv8BSoL/AUqC/wFKgv8BSoL/AUqC/wFKgv8BSoL/AUqC/wFKgv8BSoL/AUqC/wFKgv8BSoL/AUqC/wFKgv8BSoL/AUqC/wFKgv8BSoL/AUqC/wFKgv8BSoL/AUqC/wFKgv8BSoL/AUqC/wFKgv8BSoL/AUqC/wFKgv8BSoL/AUqC/wFKgv8BSoL/AUqC/wFKgv8BSoL/AUqC/wFKgv8BSoL/AUqC/wFKgv8BSoL/AUqC/wFKgv8BSoL/AUqC/wFKgv8BSoL/AUqC/wFKgv8BSoL/AUqC/wFKgv8BSoL/AUqC/wFKgv8BSoL/AUqC/wFKgv8BSoL/AUqC/wFKgv8BSoL/AUqC/wFKgv8BSoL/AUqC/wFKgv8BSoL/AUqC/wFKgv8BSoL/AUqC/wFKgv8BSoL/U+pW/1PqVv9T6lb/U+pW/1PqVv9T6lb/U+pW/1PqVv9T6lb/U+pW/1PqVv9T6lb/U+pW/1PqVv9T6lb/U+pW/1PqVv9T6lb/U+pW/1PqVv9T6lb/U+pW/1PqVv9T6lb/U+pW/1PqVv9T6lb/U+pW/1PqVv9T6lb/U+pW/1PqVv9T6lb/U+pW/1PqVv9T6lb/U+pW/1PqVv9T6lb/U+pW/1PqVv9T6lb/U+pW/1PqVv9T6lb/U+pW/1PqVv9T6lb/U+pW/1PqVv9T6lb/U+pW/1PqVv9T6lb/U+pW/1PqVv9T6lb/U+pW/1PqVv9T6lb/U+pW/1PqVv9T6lb/U+pW/1PqVv9T6lb/U+pW/1PqVv9T6lb/U+pW/1PqVv9T6lb/U+pW/1PqVv9T6lb/U+pW/1PqVv9T6lb/U+pW/1PqVv9T6lb/U+pW/1PqVv9T6lb/U+pW/1PqVv9T6lb/U+pW/1PqVv9T6lb/U+pW/1PqVv9T6lb/U+pW/1PqVv9T6lb/U+pW/1PqVv9T6lb/U+pW/6KKLv+iii7/ooou/6KKLv+iii7/ooou/6KKLv+iii7/ooou/6KKLv+iii7/ooou/6KKLv+iii7/ooou/6KKLv+iii7/ooou/6KKLv+iii7/ooou/6KKLv+iii7/ooou/6KKLv+iii7/ooou/6KKLv+iii7/ooou/6KKLv+iii7/ooou/6KKLv+iii7/ooou/6KKLv+iii7/ooou/6KKLv+iii7/ooou/6KKLv+iii7/ooou/6KKLv+iii7/ooou/6KKLv+iii7/ooou/6KKLv+iii7/ooou/6KKLv+iii7/ooou/6KKLv+iii7/ooou/6KKLv+iii7/ooou/6KKLv+iii7/ooou/6KKLv+iii7/ooou/6KKLv+iii7/ooou/6KKLv+iii7/ooou/6KKLv+iii7/ooou/6KKLv+iii7/ooou/6KKLv+iii7/ooou/6KKLv+iii7/ooou/6KKLv+iii7/ooou/6KKLv+iii7/ooou/6KKLv+iii7/ooou/6KKLv+iii7/ooou/6KKLv/9Kgb//SoG//0qBv/9Kgb//SoG//0qBv/9Kgb//SoG//0qBv/9Kgb//SoG//0qBv/9Kgb//SoG//0qBv/9Kgb//SoG//0qBv/9Kgb//SoG//0qBv/9Kgb//SoG//0qBv/9Kgb//SoG//0qBv/9Kgb//SoG//0qBv/9Kgb//SoG//0qBv/9Kgb//SoG//0qBv/9Kgb//SoG//0qBv/9Kgb//SoG//0qBv/9Kgb//SoG//0qBv/9Kgb//SoG//0qBv/9Kgb//SoG//0qBv/9Kgb//SoG//0qBv/9Kgb//SoG//0qBv/9Kgb//SoG//0qBv/9Kgb//SoG//0qBv/9Kgb//SoG//0qBv/9Kgb//SoG//0qBv/9Kgb//SoG//0qBv/9Kgb//SoG//0qBv/9Kgb//SoG//0qBv/9Kgb//SoG//0qBv/9Kgb//SoG//0qBv/9Kgb//SoG//0qBv/9Kgb//SoG//0qBv/9Kgb//SoG//0qBv/9Kgb//SoG//0qBv/9Kgb//SoG//0qBv/9Kgb8i5m2/IuZtvyLmbb8i5m2/IuZtvyLmbb8i5m2/IuZtvyLmbb8i5m2/IuZtvyLmbb8i5m2/IuZtvyLmbb8i5m2/IuZtvyLmbb8i5m2/IuZtvyLmbb8i5m2/IuZtvyLmbb8i5m2/IuZtvyLmbb8i5m2/IuZtvyLmbb8i5m2/IuZtvyLmbb8i5m2/IuZtvyLmbb8i5m2/IuZtvyLmbb8i5m2/IuZtvyLmbb8i5m2/IuZtvyLmbb8i5m2/IuZtvyLmbb8i5m2/IuZtvyLmbb8i5m2/IuZtvyLmbb8i5m2/IuZtvyLmbb8i5m2/IuZtvyLmbb8i5m2/IuZtvyLmbb8i5m2/IuZtvyLmbb8i5m2/IuZtvyLmbb8i5m2/IuZtvyLmbb8i5m2/IuZtvyLmbb8i5m2/IuZtvyLmbb8i5m2/IuZtvyLmbb8i5m2/IuZtvyLmbb8i5m2/IuZtvyLmbb8i5m2/IuZtvyLmbb8i5m2/IuZtvyLmbb8i5m2/IuZtvyLmbb8i5m2/IuZtvyLmbb8i5m2/TzZZv082Wb9PNlm/TzZZv082Wb9PNlm/TzZZv082Wb9PNlm/TzZZv082Wb9PNlm/TzZZv082Wb9PNlm/TzZZv082Wb9PNlm/TzZZv082Wb9PNlm/TzZZv082Wb9PNlm/TzZZv082Wb9PNlm/TzZZv082Wb9PNlm/TzZZv082Wb9PNlm/TzZZv082Wb9PNlm/TzZZv082Wb9PNlm/TzZZv082Wb9PNlm/TzZZv082Wb9PNlm/TzZZv082Wb9PNlm/TzZZv082Wb9PNlm/TzZZv082Wb9PNlm/TzZZv082Wb9PNlm/TzZZv082Wb9PNlm/TzZZv082Wb9PNlm/TzZZv082Wb9PNlm/TzZZv082Wb9PNlm/TzZZv082Wb9PNlm/TzZZv082Wb9PNlm/TzZZv082Wb9PNlm/TzZZv082Wb9PNlm/TzZZv082Wb9PNlm/TzZZv082Wb9PNlm/TzZZv082Wb9PNlm/TzZZv082Wb9PNlm/TzZZv082Wb9PNlm/TzZZv082Wb9PNlm/TzZZv3iGRL94hkS/eIZEv3iGRL94hkS/eIZEv3iGRL94hkS/eIZEv3iGRL94hkS/eIZEv3iGRL94hkS/eIZEv3iGRL94hkS/eIZEv3iGRL94hkS/eIZEv3iGRL94hkS/eIZEv3iGRL94hkS/eIZEv3iGRL94hkS/eIZEv3iGRL94hkS/eIZEv3iGRL94hkS/eIZEv3iGRL94hkS/eIZEv3iGRL94hkS/eIZEv3iGRL94hkS/eIZEv3iGRL94hkS/eIZEv3iGRL94hkS/eIZEv3iGRL94hkS/eIZEv3iGRL94hkS/eIZEv3iGRL94hkS/eIZEv3iGRL94hkS/eIZEv3iGRL94hkS/eIZEv3iGRL94hkS/eIZEv3iGRL94hkS/eIZEv3iGRL94hkS/eIZEv3iGRL94hkS/eIZEv3iGRL94hkS/eIZEv3iGRL94hkS/eIZEv3iGRL94hkS/eIZEv3iGRL94hkS/eIZEv3iGRL94hkS/eIZEv3iGRL94hkS/eIZEv3iGRL94hkS/eIZEv3iGRL+g1i+/oNYvv6DWL7+g1i+/oNYvv6DWL7+g1i+/oNYvv6DWL7+g1i+/oNYvv6DWL7+g1i+/oNYvv6DWL7+g1i+/oNYvv6DWL7+g1i+/oNYvv6DWL7+g1i+/oNYvv6DWL7+g1i+/oNYvv6DWL7+g1i+/oNYvv6DWL7+g1i+/oNYvv6DWL7+g1i+/oNYvv6DWL7+g1i+/oNYvv6DWL7+g1i+/oNYvv6DWL7+g1i+/oNYvv6DWL7+g1i+/oNYvv6DWL7+g1i+/oNYvv6DWL7+g1i+/oNYvv6DWL7+g1i+/oNYvv6DWL7+g1i+/oNYvv6DWL7+g1i+/oNYvv6DWL7+g1i+/oNYvv6DWL7+g1i+/oNYvv6DWL7+g1i+/oNYvv6DWL7+g1i+/oNYvv6DWL7+g1i+/oNYvv6DWL7+g1i+/oNYvv6DWL7+g1i+/oNYvv6DWL7+g1i+/oNYvv6DWL7+g1i+/oNYvv6DWL7+g1i+/oNYvv6DWL7+g1i+/oNYvv6DWL7+g1i+/oNYvv6DWL7+g1i+/ySYbv8kmG7/JJhu/ySYbv8kmG7/JJhu/ySYbv8kmG7/JJhu/ySYbv8kmG7/JJhu/ySYbv8kmG7/JJhu/ySYbv8kmG7/JJhu/ySYbv8kmG7/JJhu/ySYbv8kmG7/JJhu/ySYbv8kmG7/JJhu/ySYbv8kmG7/JJhu/ySYbv8kmG7/JJhu/ySYbv8kmG7/JJhu/ySYbv8kmG7/JJhu/ySYbv8kmG7/JJhu/ySYbv8kmG7/JJhu/ySYbv8kmG7/JJhu/ySYbv8kmG7/JJhu/ySYbv8kmG7/JJhu/ySYbv8kmG7/JJhu/ySYbv8kmG7/JJhu/ySYbv8kmG7/JJhu/ySYbv8kmG7/JJhu/ySYbv8kmG7/JJhu/ySYbv8kmG7/JJhu/ySYbv8kmG7/JJhu/ySYbv8kmG7/JJhu/ySYbv8kmG7/JJhu/ySYbv8kmG7/JJhu/ySYbv8kmG7/JJhu/ySYbv8kmG7/JJhu/ySYbv8kmG7/JJhu/ySYbv8kmG7/JJhu/ySYbv8kmG7/JJhu/ySYbv/J2Br/ydga/8nYGv/J2Br/ydga/8nYGv/J2Br/ydga/8nYGv/J2Br/ydga/8nYGv/J2Br/ydga/8nYGv/J2Br/ydga/8nYGv/J2Br/ydga/8nYGv/J2Br/ydga/8nYGv/J2Br/ydga/8nYGv/J2Br/ydga/8nYGv/J2Br/ydga/8nYGv/J2Br/ydga/8nYGv/J2Br/ydga/8nYGv/J2Br/ydga/8nYGv/J2Br/ydga/8nYGv/J2Br/ydga/8nYGv/J2Br/ydga/8nYGv/J2Br/ydga/8nYGv/J2Br/ydga/8nYGv/J2Br/ydga/8nYGv/J2Br/ydga/8nYGv/J2Br/ydga/8nYGv/J2Br/ydga/8nYGv/J2Br/ydga/8nYGv/J2Br/ydga/8nYGv/J2Br/ydga/8nYGv/J2Br/ydga/8nYGv/J2Br/ydga/8nYGv/J2Br/ydga/8nYGv/J2Br/ydga/8nYGv/J2Br/ydga/8nYGv/J2Br/ydga/8nYGv/J2Br/ydga/8nYGv/J2Br88juO+PI7jvjyO4748juO+PI7jvjyO4748juO+PI7jvjyO4748juO+PI7jvjyO4748juO+PI7jvjyO4748juO+PI7jvjyO4748juO+PI7jvjyO4748juO+PI7jvjyO4748juO+PI7jvjyO4748juO+PI7jvjyO4748juO+PI7jvjyO4748juO+PI7jvjyO4748juO+PI7jvjyO4748juO+PI7jvjyO4748juO+PI7jvjyO4748juO+PI7jvjyO4748juO+PI7jvjyO4748juO+PI7jvjyO4748juO+PI7jvjyO4748juO+PI7jvjyO4748juO+PI7jvjyO4748juO+PI7jvjyO4748juO+PI7jvjyO4748juO+PI7jvjyO4748juO+PI7jvjyO4748juO+PI7jvjyO4748juO+PI7jvjyO4748juO+PI7jvjyO4748juO+PI7jvjyO4748juO+PI7jvjyO4748juO+PI7jvjyO4748juO+PI7jvjyO4748juO+PI7jvjyO4748juO+hi66voYuur6GLrq+hi66voYuur6GLrq+hi66voYuur6GLrq+hi66voYuur6GLrq+hi66voYuur6GLrq+hi66voYuur6GLrq+hi66voYuur6GLrq+hi66voYuur6GLrq+hi66voYuur6GLrq+hi66voYuur6GLrq+hi66voYuur6GLrq+hi66voYuur6GLrq+hi66voYuur6GLrq+hi66voYuur6GLrq+hi66voYuur6GLrq+hi66voYuur6GLrq+hi66voYuur6GLrq+hi66voYuur6GLrq+hi66voYuur6GLrq+hi66voYuur6GLrq+hi66voYuur6GLrq+hi66voYuur6GLrq+hi66voYuur6GLrq+hi66voYuur6GLrq+hi66voYuur6GLrq+hi66voYuur6GLrq+hi66voYuur6GLrq+hi66voYuur6GLrq+hi66voYuur6GLrq+hi66voYuur6GLrq+hi66voYuur6GLrq+hi66voYuur6GLrq+hi66voYuur6GLrq+hi66vt/OkL7fzpC+386Qvt/OkL7fzpC+386Qvt/OkL7fzpC+386Qvt/OkL7fzpC+386Qvt/OkL7fzpC+386Qvt/OkL7fzpC+386Qvt/OkL7fzpC+386Qvt/OkL7fzpC+386Qvt/OkL7fzpC+386Qvt/OkL7fzpC+386Qvt/OkL7fzpC+386Qvt/OkL7fzpC+386Qvt/OkL7fzpC+386Qvt/OkL7fzpC+386Qvt/OkL7fzpC+386Qvt/OkL7fzpC+386Qvt/OkL7fzpC+386Qvt/OkL7fzpC+386Qvt/OkL7fzpC+386Qvt/OkL7fzpC+386Qvt/OkL7fzpC+386Qvt/OkL7fzpC+386Qvt/OkL7fzpC+386Qvt/OkL7fzpC+386Qvt/OkL7fzpC+386Qvt/OkL7fzpC+386Qvt/OkL7fzpC+386Qvt/OkL7fzpC+386Qvt/OkL7fzpC+386Qvt/OkL7fzpC+386Qvt/OkL7fzpC+386Qvt/OkL7fzpC+386Qvt/OkL7fzpC+386Qvt/OkL5h3k6+Yd5OvmHeTr5h3k6+Yd5OvmHeTr5h3k6+Yd5OvmHeTr5h3k6+Yd5OvmHeTr5h3k6+Yd5OvmHeTr5h3k6+Yd5OvmHeTr5h3k6+Yd5OvmHeTr5h3k6+Yd5OvmHeTr5h3k6+Yd5OvmHeTr5h3k6+Yd5OvmHeTr5h3k6+Yd5OvmHeTr5h3k6+Yd5OvmHeTr5h3k6+Yd5OvmHeTr5h3k6+Yd5OvmHeTr5h3k6+Yd5OvmHeTr5h3k6+Yd5OvmHeTr5h3k6+Yd5OvmHeTr5h3k6+Yd5OvmHeTr5h3k6+Yd5OvmHeTr5h3k6+Yd5OvmHeTr5h3k6+Yd5OvmHeTr5h3k6+Yd5OvmHeTr5h3k6+Yd5OvmHeTr5h3k6+Yd5OvmHeTr5h3k6+Yd5OvmHeTr5h3k6+Yd5OvmHeTr5h3k6+Yd5OvmHeTr5h3k6+Yd5OvmHeTr5h3k6+Yd5OvmHeTr5h3k6+Yd5OvmHeTr5h3k6+Yd5OvmHeTr5h3k6+Yd5OvmHeTr5h3k6+Yd5OvmHeTr5h3k6+CD74vQg++L0IPvi9CD74vQg++L0IPvi9CD74vQg++L0IPvi9CD74vQg++L0IPvi9CD74vQg++L0IPvi9CD74vQg++L0IPvi9CD74vQg++L0IPvi9CD74vQg++L0IPvi9CD74vQg++L0IPvi9CD74vQg++L0IPvi9CD74vQg++L0IPvi9CD74vQg++L0IPvi9CD74vQg++L0IPvi9CD74vQg++L0IPvi9CD74vQg++L0IPvi9CD74vQg++L0IPvi9CD74vQg++L0IPvi9CD74vQg++L0IPvi9CD74vQg++L0IPvi9CD74vQg++L0IPvi9CD74vQg++L0IPvi9CD74vQg++L0IPvi9CD74vQg++L0IPvi9CD74vQg++L0IPvi9CD74vQg++L0IPvi9CD74vQg++L0IPvi9CD74vQg++L0IPvi9CD74vQg++L0IPvi9CD74vQg++L0IPvi9CD74vQg++L0IPvi9CD74vQg++L0IPvi9CD74vQg++L0IPvi9CD74vQg++L0IPvi9CD74vdt+Jb3bfiW9234lvdt+Jb3bfiW9234lvdt+Jb3bfiW9234lvdt+Jb3bfiW9234lvdt+Jb3bfiW9234lvdt+Jb3bfiW9234lvdt+Jb3bfiW9234lvdt+Jb3bfiW9234lvdt+Jb3bfiW9234lvdt+Jb3bfiW9234lvdt+Jb3bfiW9234lvdt+Jb3bfiW9234lvdt+Jb3bfiW9234lvdt+Jb3bfiW9234lvdt+Jb3bfiW9234lvdt+Jb3bfiW9234lvdt+Jb3bfiW9234lvdt+Jb3bfiW9234lvdt+Jb3bfiW9234lvdt+Jb3bfiW9234lvdt+Jb3bfiW9234lvdt+Jb3bfiW9234lvdt+Jb3bfiW9234lvdt+Jb3bfiW9234lvdt+Jb3bfiW9234lvdt+Jb3bfiW9234lvdt+Jb3bfiW9234lvdt+Jb3bfiW9234lvdt+Jb3bfiW9234lvdt+Jb3bfiW9234lvdt+Jb3bfiW9234lvdt+Jb3bfiW9234lvdt+Jb3bfiW9234lvdt+Jb2afiU9mn4lPZp+JT2afiU9mn4lPZp+JT2afiU9mn4lPZp+JT2afiU9mn4lPZp+JT2afiU9mn4lPZp+JT2afiU9mn4lPZp+JT2afiU9mn4lPZp+JT2afiU9mn4lPZp+JT2afiU9mn4lPZp+JT2afiU9mn4lPZp+JT2afiU9mn4lPZp+JT2afiU9mn4lPZp+JT2afiU9mn4lPZp+JT2afiU9mn4lPZp+JT2afiU9mn4lPZp+JT2afiU9mn4lPZp+JT2afiU9mn4lPZp+JT2afiU9mn4lPZp+JT2afiU9mn4lPZp+JT2afiU9mn4lPZp+JT2afiU9mn4lPZp+JT2afiU9mn4lPZp+JT2afiU9mn4lPZp+JT2afiU9mn4lPZp+JT2afiU9mn4lPZp+JT2afiU9mn4lPZp+JT2afiU9mn4lPZp+JT2afiU9mn4lPZp+JT2afiU9mn4lPZp+JT2afiU9mn4lPZp+JT2afiU9mn4lPZp+JT2afiU9mn4lPZp+JT2afiU9mn4lPZp+JT2afiU9CD74PQg++D0IPvg9CD74PQg++D0IPvg9CD74PQg++D0IPvg9CD74PQg++D0IPvg9CD74PQg++D0IPvg9CD74PQg++D0IPvg9CD74PQg++D0IPvg9CD74PQg++D0IPvg9CD74PQg++D0IPvg9CD74PQg++D0IPvg9CD74PQg++D0IPvg9CD74PQg++D0IPvg9CD74PQg++D0IPvg9CD74PQg++D0IPvg9CD74PQg++D0IPvg9CD74PQg++D0IPvg9CD74PQg++D0IPvg9CD74PQg++D0IPvg9CD74PQg++D0IPvg9CD74PQg++D0IPvg9CD74PQg++D0IPvg9CD74PQg++D0IPvg9CD74PQg++D0IPvg9CD74PQg++D0IPvg9CD74PQg++D0IPvg9CD74PQg++D0IPvg9CD74PQg++D0IPvg9CD74PQg++D0IPvg9CD74PQg++D0IPvg9CD74PQg++D0IPvg9CD74PQg++D0IPvg9CD74PQg++D0IPvg9CD74PQg++D0IPvg9CD74PWHeTj5h3k4+Yd5OPmHeTj5h3k4+Yd5OPmHeTj5h3k4+Yd5OPmHeTj5h3k4+Yd5OPmHeTj5h3k4+Yd5OPmHeTj5h3k4+Yd5OPmHeTj5h3k4+Yd5OPmHeTj5h3k4+Yd5OPmHeTj5h3k4+Yd5OPmHeTj5h3k4+Yd5OPmHeTj5h3k4+Yd5OPmHeTj5h3k4+Yd5OPmHeTj5h3k4+Yd5OPmHeTj5h3k4+Yd5OPmHeTj5h3k4+Yd5OPmHeTj5h3k4+Yd5OPmHeTj5h3k4+Yd5OPmHeTj5h3k4+Yd5OPmHeTj5h3k4+Yd5OPmHeTj5h3k4+Yd5OPmHeTj5h3k4+Yd5OPmHeTj5h3k4+Yd5OPmHeTj5h3k4+Yd5OPmHeTj5h3k4+Yd5OPmHeTj5h3k4+Yd5OPmHeTj5h3k4+Yd5OPmHeTj5h3k4+Yd5OPmHeTj5h3k4+Yd5OPmHeTj5h3k4+Yd5OPmHeTj5h3k4+Yd5OPmHeTj5h3k4+Yd5OPmHeTj5h3k4+Yd5OPmHeTj5h3k4+Yd5OPmHeTj7fzpA+386QPt/OkD7fzpA+386QPt/OkD7fzpA+386QPt/OkD7fzpA+386QPt/OkD7fzpA+386QPt/OkD7fzpA+386QPt/OkD7fzpA+386QPt/OkD7fzpA+386QPt/OkD7fzpA+386QPt/OkD7fzpA+386QPt/OkD7fzpA+386QPt/OkD7fzpA+386QPt/OkD7fzpA+386QPt/OkD7fzpA+386QPt/OkD7fzpA+386QPt/OkD7fzpA+386QPt/OkD7fzpA+386QPt/OkD7fzpA+386QPt/OkD7fzpA+386QPt/OkD7fzpA+386QPt/OkD7fzpA+386QPt/OkD7fzpA+386QPt/OkD7fzpA+386QPt/OkD7fzpA+386QPt/OkD7fzpA+386QPt/OkD7fzpA+386QPt/OkD7fzpA+386QPt/OkD7fzpA+386QPt/OkD7fzpA+386QPt/OkD7fzpA+386QPt/OkD7fzpA+386QPt/OkD7fzpA+386QPt/OkD7fzpA+386QPt/OkD7fzpA+ji66Po4uuj6OLro+ji66Po4uuj6OLro+ji66Po4uuj6OLro+ji66Po4uuj6OLro+ji66Po4uuj6OLro+ji66Po4uuj6OLro+ji66Po4uuj6OLro+ji66Po4uuj6OLro+ji66Po4uuj6OLro+ji66Po4uuj6OLro+ji66Po4uuj6OLro+ji66Po4uuj6OLro+ji66Po4uuj6OLro+ji66Po4uuj6OLro+ji66Po4uuj6OLro+ji66Po4uuj6OLro+ji66Po4uuj6OLro+ji66Po4uuj6OLro+ji66Po4uuj6OLro+ji66Po4uuj6OLro+ji66Po4uuj6OLro+ji66Po4uuj6OLro+ji66Po4uuj6OLro+ji66Po4uuj6OLro+ji66Po4uuj6OLro+ji66Po4uuj6OLro+ji66Po4uuj6OLro+ji66Po4uuj6OLro+ji66Po4uuj6OLro+ji66Po4uuj6OLro+ji66Po4uuj6OLro+ji66Po4uuj6OLro+ji66Po4uuj6OLro+ji66PjyO4z48juM+PI7jPjyO4z48juM+PI7jPjyO4z48juM+PI7jPjyO4z48juM+PI7jPjyO4z48juM+PI7jPjyO4z48juM+PI7jPjyO4z48juM+PI7jPjyO4z48juM+PI7jPjyO4z48juM+PI7jPjyO4z48juM+PI7jPjyO4z48juM+PI7jPjyO4z48juM+PI7jPjyO4z48juM+PI7jPjyO4z48juM+PI7jPjyO4z48juM+PI7jPjyO4z48juM+PI7jPjyO4z48juM+PI7jPjyO4z48juM+PI7jPjyO4z48juM+PI7jPjyO4z48juM+PI7jPjyO4z48juM+PI7jPjyO4z48juM+PI7jPjyO4z48juM+PI7jPjyO4z48juM+PI7jPjyO4z48juM+PI7jPjyO4z48juM+PI7jPjyO4z48juM+PI7jPjyO4z48juM+PI7jPjyO4z48juM+PI7jPjyO4z48juM+PI7jPjyO4z48juM+PI7jPjyO4z48juM+PI7jPjyO4z48juM+PI7jPjyO4z7ydgY/8nYGP/J2Bj/ydgY/8nYGP/J2Bj/ydgY/8nYGP/J2Bj/ydgY/8nYGP/J2Bj/ydgY/8nYGP/J2Bj/ydgY/8nYGP/J2Bj/ydgY/8nYGP/J2Bj/ydgY/8nYGP/J2Bj/ydgY/8nYGP/J2Bj/ydgY/8nYGP/J2Bj/ydgY/8nYGP/J2Bj/ydgY/8nYGP/J2Bj/ydgY/8nYGP/J2Bj/ydgY/8nYGP/J2Bj/ydgY/8nYGP/J2Bj/ydgY/8nYGP/J2Bj/ydgY/8nYGP/J2Bj/ydgY/8nYGP/J2Bj/ydgY/8nYGP/J2Bj/ydgY/8nYGP/J2Bj/ydgY/8nYGP/J2Bj/ydgY/8nYGP/J2Bj/ydgY/8nYGP/J2Bj/ydgY/8nYGP/J2Bj/ydgY/8nYGP/J2Bj/ydgY/8nYGP/J2Bj/ydgY/8nYGP/J2Bj/ydgY/8nYGP/J2Bj/ydgY/8nYGP/J2Bj/ydgY/8nYGP/J2Bj/ydgY/8nYGP/J2Bj/ydgY/8nYGP/J2Bj/ydgY/8nYGP/J2Bj/ydgY/ySYbP8kmGz/JJhs/ySYbP8kmGz/JJhs/ySYbP8kmGz/JJhs/ySYbP8kmGz/JJhs/ySYbP8kmGz/JJhs/ySYbP8kmGz/JJhs/ySYbP8kmGz/JJhs/ySYbP8kmGz/JJhs/ySYbP8kmGz/JJhs/ySYbP8kmGz/JJhs/ySYbP8kmGz/JJhs/ySYbP8kmGz/JJhs/ySYbP8kmGz/JJhs/ySYbP8kmGz/JJhs/ySYbP8kmGz/JJhs/ySYbP8kmGz/JJhs/ySYbP8kmGz/JJhs/ySYbP8kmGz/JJhs/ySYbP8kmGz/JJhs/ySYbP8kmGz/JJhs/ySYbP8kmGz/JJhs/ySYbP8kmGz/JJhs/ySYbP8kmGz/JJhs/ySYbP8kmGz/JJhs/ySYbP8kmGz/JJhs/ySYbP8kmGz/JJhs/ySYbP8kmGz/JJhs/ySYbP8kmGz/JJhs/ySYbP8kmGz/JJhs/ySYbP8kmGz/JJhs/ySYbP8kmGz/JJhs/ySYbP8kmGz/JJhs/ySYbP8kmGz/JJhs/ySYbP6DWLz+g1i8/oNYvP6DWLz+g1i8/oNYvP6DWLz+g1i8/oNYvP6DWLz+g1i8/oNYvP6DWLz+g1i8/oNYvP6DWLz+g1i8/oNYvP6DWLz+g1i8/oNYvP6DWLz+g1i8/oNYvP6DWLz+g1i8/oNYvP6DWLz+g1i8/oNYvP6DWLz+g1i8/oNYvP6DWLz+g1i8/oNYvP6DWLz+g1i8/oNYvP6DWLz+g1i8/oNYvP6DWLz+g1i8/oNYvP6DWLz+g1i8/oNYvP6DWLz+g1i8/oNYvP6DWLz+g1i8/oNYvP6DWLz+g1i8/oNYvP6DWLz+g1i8/oNYvP6DWLz+g1i8/oNYvP6DWLz+g1i8/oNYvP6DWLz+g1i8/oNYvP6DWLz+g1i8/oNYvP6DWLz+g1i8/oNYvP6DWLz+g1i8/oNYvP6DWLz+g1i8/oNYvP6DWLz+g1i8/oNYvP6DWLz+g1i8/oNYvP6DWLz+g1i8/oNYvP6DWLz+g1i8/oNYvP6DWLz+g1i8/oNYvP6DWLz+g1i8/oNYvP6DWLz93hkQ/d4ZEP3eGRD93hkQ/d4ZEP3eGRD93hkQ/d4ZEP3eGRD93hkQ/d4ZEP3eGRD93hkQ/d4ZEP3eGRD93hkQ/d4ZEP3eGRD93hkQ/d4ZEP3eGRD93hkQ/d4ZEP3eGRD93hkQ/d4ZEP3eGRD93hkQ/d4ZEP3eGRD93hkQ/d4ZEP3eGRD93hkQ/d4ZEP3eGRD93hkQ/d4ZEP3eGRD93hkQ/d4ZEP3eGRD93hkQ/d4ZEP3eGRD93hkQ/d4ZEP3eGRD93hkQ/d4ZEP3eGRD93hkQ/d4ZEP3eGRD93hkQ/d4ZEP3eGRD93hkQ/d4ZEP3eGRD93hkQ/d4ZEP3eGRD93hkQ/d4ZEP3eGRD93hkQ/d4ZEP3eGRD93hkQ/d4ZEP3eGRD93hkQ/d4ZEP3eGRD93hkQ/d4ZEP3eGRD93hkQ/d4ZEP3eGRD93hkQ/d4ZEP3eGRD93hkQ/d4ZEP3eGRD93hkQ/d4ZEP3eGRD93hkQ/d4ZEP3eGRD93hkQ/d4ZEP3eGRD93hkQ/d4ZEP3eGRD93hkQ/TzZZP082WT9PNlk/TzZZP082WT9PNlk/TzZZP082WT9PNlk/TzZZP082WT9PNlk/TzZZP082WT9PNlk/TzZZP082WT9PNlk/TzZZP082WT9PNlk/TzZZP082WT9PNlk/TzZZP082WT9PNlk/TzZZP082WT9PNlk/TzZZP082WT9PNlk/TzZZP082WT9PNlk/TzZZP082WT9PNlk/TzZZP082WT9PNlk/TzZZP082WT9PNlk/TzZZP082WT9PNlk/TzZZP082WT9PNlk/TzZZP082WT9PNlk/TzZZP082WT9PNlk/TzZZP082WT9PNlk/TzZZP082WT9PNlk/TzZZP082WT9PNlk/TzZZP082WT9PNlk/TzZZP082WT9PNlk/TzZZP082WT9PNlk/TzZZP082WT9PNlk/TzZZP082WT9PNlk/TzZZP082WT9PNlk/TzZZP082WT9PNlk/TzZZP082WT9PNlk/TzZZP082WT9PNlk/TzZZP082WT9PNlk/TzZZP082WT9PNlk/TzZZPybmbT8m5m0/JuZtPybmbT8m5m0/JuZtPybmbT8m5m0/JuZtPybmbT8m5m0/JuZtPybmbT8m5m0/JuZtPybmbT8m5m0/JuZtPybmbT8m5m0/JuZtPybmbT8m5m0/JuZtPybmbT8m5m0/JuZtPybmbT8m5m0/JuZtPybmbT8m5m0/JuZtPybmbT8m5m0/JuZtPybmbT8m5m0/JuZtPybmbT8m5m0/JuZtPybmbT8m5m0/JuZtPybmbT8m5m0/JuZtPybmbT8m5m0/JuZtPybmbT8m5m0/JuZtPybmbT8m5m0/JuZtPybmbT8m5m0/JuZtPybmbT8m5m0/JuZtPybmbT8m5m0/JuZtPybmbT8m5m0/JuZtPybmbT8m5m0/JuZtPybmbT8m5m0/JuZtPybmbT8m5m0/JuZtPybmbT8m5m0/JuZtPybmbT8m5m0/JuZtPybmbT8m5m0/JuZtPybmbT8m5m0/JuZtPybmbT8m5m0/JuZtPybmbT8m5m0/JuZtPybmbT8m5m0/JuZtPybmbT/9SoE//UqBP/1KgT/9SoE//UqBP/1KgT/9SoE//UqBP/1KgT/9SoE//UqBP/1KgT/9SoE//UqBP/1KgT/9SoE//UqBP/1KgT/9SoE//UqBP/1KgT/9SoE//UqBP/1KgT/9SoE//UqBP/1KgT/9SoE//UqBP/1KgT/9SoE//UqBP/1KgT/9SoE//UqBP/1KgT/9SoE//UqBP/1KgT/9SoE//UqBP/1KgT/9SoE//UqBP/1KgT/9SoE//UqBP/1KgT/9SoE//UqBP/1KgT/9SoE//UqBP/1KgT/9SoE//UqBP/1KgT/9SoE//UqBP/1KgT/9SoE//UqBP/1KgT/9SoE//UqBP/1KgT/9SoE//UqBP/1KgT/9SoE//UqBP/1KgT/9SoE//UqBP/1KgT/9SoE//UqBP/1KgT/9SoE//UqBP/1KgT/9SoE//UqBP/1KgT/9SoE//UqBP/1KgT/9SoE//UqBP/1KgT/9SoE//UqBP/1KgT/9SoE//UqBP/1KgT/9SoE//UqBP/1KgT/9SoE/6KKLP+iiiz/ooos/6KKLP+iiiz/ooos/6KKLP+iiiz/ooos/6KKLP+iiiz/ooos/6KKLP+iiiz/ooos/6KKLP+iiiz/ooos/6KKLP+iiiz/ooos/6KKLP+iiiz/ooos/6KKLP+iiiz/ooos/6KKLP+iiiz/ooos/6KKLP+iiiz/ooos/6KKLP+iiiz/ooos/6KKLP+iiiz/ooos/6KKLP+iiiz/ooos/6KKLP+iiiz/ooos/6KKLP+iiiz/ooos/6KKLP+iiiz/ooos/6KKLP+iiiz/ooos/6KKLP+iiiz/ooos/6KKLP+iiiz/ooos/6KKLP+iiiz/ooos/6KKLP+iiiz/ooos/6KKLP+iiiz/ooos/6KKLP+iiiz/ooos/6KKLP+iiiz/ooos/6KKLP+iiiz/ooos/6KKLP+iiiz/ooos/6KKLP+iiiz/ooos/6KKLP+iiiz/ooos/6KKLP+iiiz/ooos/6KKLP+iiiz/ooos/6KKLP+iiiz/ooos/6KKLP+iiiz/ooos/6KKLP9T6lT/U+pU/1PqVP9T6lT/U+pU/1PqVP9T6lT/U+pU/1PqVP9T6lT/U+pU/1PqVP9T6lT/U+pU/1PqVP9T6lT/U+pU/1PqVP9T6lT/U+pU/1PqVP9T6lT/U+pU/1PqVP9T6lT/U+pU/1PqVP9T6lT/U+pU/1PqVP9T6lT/U+pU/1PqVP9T6lT/U+pU/1PqVP9T6lT/U+pU/1PqVP9T6lT/U+pU/1PqVP9T6lT/U+pU/1PqVP9T6lT/U+pU/1PqVP9T6lT/U+pU/1PqVP9T6lT/U+pU/1PqVP9T6lT/U+pU/1PqVP9T6lT/U+pU/1PqVP9T6lT/U+pU/1PqVP9T6lT/U+pU/1PqVP9T6lT/U+pU/1PqVP9T6lT/U+pU/1PqVP9T6lT/U+pU/1PqVP9T6lT/U+pU/1PqVP9T6lT/U+pU/1PqVP9T6lT/U+pU/1PqVP9T6lT/U+pU/1PqVP9T6lT/U+pU/1PqVP9T6lT/U+pU/1PqVP9T6lT/U+pU/1PqVP9T6lT/U+pU/1PqVP9T6lT/AUqA/wFKgP8BSoD/AUqA/wFKgP8BSoD/AUqA/wFKgP8BSoD/AUqA/wFKgP8BSoD/AUqA/wFKgP8BSoD/AUqA/wFKgP8BSoD/AUqA/wFKgP8BSoD/AUqA/wFKgP8BSoD/AUqA/wFKgP8BSoD/AUqA/wFKgP8BSoD/AUqA/wFKgP8BSoD/AUqA/wFKgP8BSoD/AUqA/wFKgP8BSoD/AUqA/wFKgP8BSoD/AUqA/wFKgP8BSoD/AUqA/wFKgP8BSoD/AUqA/wFKgP8BSoD/AUqA/wFKgP8BSoD/AUqA/wFKgP8BSoD/AUqA/wFKgP8BSoD/AUqA/wFKgP8BSoD/AUqA/wFKgP8BSoD/AUqA/wFKgP8BSoD/AUqA/wFKgP8BSoD/AUqA/wFKgP8BSoD/AUqA/wFKgP8BSoD/AUqA/wFKgP8BSoD/AUqA/wFKgP8BSoD/AUqA/wFKgP8BSoD/AUqA/wFKgP8BSoD/AUqA/wFKgP8BSoD/AUqA/wFKgP8BSoD/AUqA/wFKgP8BSoD/AUqA/q6qqP6uqqj+rqqo/q6qqP6uqqj+rqqo/q6qqP6uqqj+rqqo/q6qqP6uqqj+rqqo/q6qqP6uqqj+rqqo/q6qqP6uqqj+rqqo/q6qqP6uqqj+rqqo/q6qqP6uqqj+rqqo/q6qqP6uqqj+rqqo/q6qqP6uqqj+rqqo/q6qqP6uqqj+rqqo/q6qqP6uqqj+rqqo/q6qqP6uqqj+rqqo/q6qqP6uqqj+rqqo/q6qqP6uqqj+rqqo/q6qqP6uqqj+rqqo/q6qqP6uqqj+rqqo/q6qqP6uqqj+rqqo/q6qqP6uqqj+rqqo/q6qqP6uqqj+rqqo/q6qqP6uqqj+rqqo/q6qqP6uqqj+rqqo/q6qqP6uqqj+rqqo/q6qqP6uqqj+rqqo/q6qqP6uqqj+rqqo/q6qqP6uqqj+rqqo/q6qqP6uqqj+rqqo/q6qqP6uqqj+rqqo/q6qqP6uqqj+rqqo/q6qqP6uqqj+rqqo/q6qqP6uqqj+rqqo/q6qqP6uqqj+rqqo/q6qqP6uqqj+rqqo/q6qqP5UCtT+VArU/lQK1P5UCtT+VArU/lQK1P5UCtT+VArU/lQK1P5UCtT+VArU/lQK1P5UCtT+VArU/lQK1P5UCtT+VArU/lQK1P5UCtT+VArU/lQK1P5UCtT+VArU/lQK1P5UCtT+VArU/lQK1P5UCtT+VArU/lQK1P5UCtT+VArU/lQK1P5UCtT+VArU/lQK1P5UCtT+VArU/lQK1P5UCtT+VArU/lQK1P5UCtT+VArU/lQK1P5UCtT+VArU/lQK1P5UCtT+VArU/lQK1P5UCtT+VArU/lQK1P5UCtT+VArU/lQK1P5UCtT+VArU/lQK1P5UCtT+VArU/lQK1P5UCtT+VArU/lQK1P5UCtT+VArU/lQK1P5UCtT+VArU/lQK1P5UCtT+VArU/lQK1P5UCtT+VArU/lQK1P5UCtT+VArU/lQK1P5UCtT+VArU/lQK1P5UCtT+VArU/lQK1P5UCtT+VArU/lQK1P5UCtT+VArU/lQK1P5UCtT+VArU/lQK1P5UCtT+VArU/lQK1P5UCtT+BWr8/gVq/P4Favz+BWr8/gVq/P4Favz+BWr8/gVq/P4Favz+BWr8/gVq/P4Favz+BWr8/gVq/P4Favz+BWr8/gVq/P4Favz+BWr8/gVq/P4Favz+BWr8/gVq/P4Favz+BWr8/gVq/P4Favz+BWr8/gVq/P4Favz+BWr8/gVq/P4Favz+BWr8/gVq/P4Favz+BWr8/gVq/P4Favz+BWr8/gVq/P4Favz+BWr8/gVq/P4Favz+BWr8/gVq/P4Favz+BWr8/gVq/P4Favz+BWr8/gVq/P4Favz+BWr8/gVq/P4Favz+BWr8/gVq/P4Favz+BWr8/gVq/P4Favz+BWr8/gVq/P4Favz+BWr8/gVq/P4Favz+BWr8/gVq/P4Favz+BWr8/gVq/P4Favz+BWr8/gVq/P4Favz+BWr8/gVq/P4Favz+BWr8/gVq/P4Favz+BWr8/gVq/P4Favz+BWr8/gVq/P4Favz+BWr8/gVq/P4Favz+BWr8/gVq/P4Favz+BWr8/gVq/P4Favz+BWr8/bLLJP2yyyT9sssk/bLLJP2yyyT9sssk/bLLJP2yyyT9sssk/bLLJP2yyyT9sssk/bLLJP2yyyT9sssk/bLLJP2yyyT9sssk/bLLJP2yyyT9sssk/bLLJP2yyyT9sssk/bLLJP2yyyT9sssk/bLLJP2yyyT9sssk/bLLJP2yyyT9sssk/bLLJP2yyyT9sssk/bLLJP2yyyT9sssk/bLLJP2yyyT9sssk/bLLJP2yyyT9sssk/bLLJP2yyyT9sssk/bLLJP2yyyT9sssk/bLLJP2yyyT9sssk/bLLJP2yyyT9sssk/bLLJP2yyyT9sssk/bLLJP2yyyT9sssk/bLLJP2yyyT9sssk/bLLJP2yyyT9sssk/bLLJP2yyyT9sssk/bLLJP2yyyT9sssk/bLLJP2yyyT9sssk/bLLJP2yyyT9sssk/bLLJP2yyyT9sssk/bLLJP2yyyT9sssk/bLLJP2yyyT9sssk/bLLJP2yyyT9sssk/bLLJP2yyyT9sssk/bLLJP2yyyT9sssk/bLLJP1gK1D9YCtQ/WArUP1gK1D9YCtQ/WArUP1gK1D9YCtQ/WArUP1gK1D9YCtQ/WArUP1gK1D9YCtQ/WArUP1gK1D9YCtQ/WArUP1gK1D9YCtQ/WArUP1gK1D9YCtQ/WArUP1gK1D9YCtQ/WArUP1gK1D9YCtQ/WArUP1gK1D9YCtQ/WArUP1gK1D9YCtQ/WArUP1gK1D9YCtQ/WArUP1gK1D9YCtQ/WArUP1gK1D9YCtQ/WArUP1gK1D9YCtQ/WArUP1gK1D9YCtQ/WArUP1gK1D9YCtQ/WArUP1gK1D9YCtQ/WArUP1gK1D9YCtQ/WArUP1gK1D9YCtQ/WArUP1gK1D9YCtQ/WArUP1gK1D9YCtQ/WArUP1gK1D9YCtQ/WArUP1gK1D9YCtQ/WArUP1gK1D9YCtQ/WArUP1gK1D9YCtQ/WArUP1gK1D9YCtQ/WArUP1gK1D9YCtQ/WArUP1gK1D9YCtQ/WArUP1gK1D9YCtQ/WArUP1gK1D9YCtQ/WArUP1gK1D9YCtQ/WArUP1gK1D9EYt4/RGLeP0Ri3j9EYt4/RGLeP0Ri3j9EYt4/RGLeP0Ri3j9EYt4/RGLeP0Ri3j9EYt4/RGLeP0Ri3j9EYt4/RGLeP0Ri3j9EYt4/RGLeP0Ri3j9EYt4/RGLeP0Ri3j9EYt4/RGLeP0Ri3j9EYt4/RGLeP0Ri3j9EYt4/RGLeP0Ri3j9EYt4/RGLeP0Ri3j9EYt4/RGLeP0Ri3j9EYt4/RGLeP0Ri3j9EYt4/RGLeP0Ri3j9EYt4/RGLeP0Ri3j9EYt4/RGLeP0Ri3j9EYt4/RGLeP0Ri3j9EYt4/RGLeP0Ri3j9EYt4/RGLeP0Ri3j9EYt4/RGLeP0Ri3j9EYt4/RGLeP0Ri3j9EYt4/RGLeP0Ri3j9EYt4/RGLeP0Ri3j9EYt4/RGLeP0Ri3j9EYt4/RGLeP0Ri3j9EYt4/RGLeP0Ri3j9EYt4/RGLeP0Ri3j9EYt4/RGLeP0Ri3j9EYt4/RGLeP0Ri3j9EYt4/RGLeP0Ri3j9EYt4/RGLeP0Ri3j9EYt4/RGLeP0Ri3j9EYt4/L7roPy+66D8vuug/L7roPy+66D8vuug/L7roPy+66D8vuug/L7roPy+66D8vuug/L7roPy+66D8vuug/L7roPy+66D8vuug/L7roPy+66D8vuug/L7roPy+66D8vuug/L7roPy+66D8vuug/L7roPy+66D8vuug/L7roPy+66D8vuug/L7roPy+66D8vuug/L7roPy+66D8vuug/L7roPy+66D8vuug/L7roPy+66D8vuug/L7roPy+66D8vuug/L7roPy+66D8vuug/L7roPy+66D8vuug/L7roPy+66D8vuug/L7roPy+66D8vuug/L7roPy+66D8vuug/L7roPy+66D8vuug/L7roPy+66D8vuug/L7roPy+66D8vuug/L7roPy+66D8vuug/L7roPy+66D8vuug/L7roPy+66D8vuug/L7roPy+66D8vuug/L7roPy+66D8vuug/L7roPy+66D8vuug/L7roPy+66D8vuug/L7roPy+66D8vuug/L7roPy+66D8vuug/L7roPxkS8z8ZEvM/GRLzPxkS8z8ZEvM/GRLzPxkS8z8ZEvM/GRLzPxkS8z8ZEvM/GRLzPxkS8z8ZEvM/GRLzPxkS8z8ZEvM/GRLzPxkS8z8ZEvM/GRLzPxkS8z8ZEvM/GRLzPxkS8z8ZEvM/GRLzPxkS8z8ZEvM/GRLzPxkS8z8ZEvM/GRLzPxkS8z8ZEvM/GRLzPxkS8z8ZEvM/GRLzPxkS8z8ZEvM/GRLzPxkS8z8ZEvM/GRLzPxkS8z8ZEvM/GRLzPxkS8z8ZEvM/GRLzPxkS8z8ZEvM/GRLzPxkS8z8ZEvM/GRLzPxkS8z8ZEvM/GRLzPxkS8z8ZEvM/GRLzPxkS8z8ZEvM/GRLzPxkS8z8ZEvM/GRLzPxkS8z8ZEvM/GRLzPxkS8z8ZEvM/GRLzPxkS8z8ZEvM/GRLzPxkS8z8ZEvM/GRLzPxkS8z8ZEvM/GRLzPxkS8z8ZEvM/GRLzPxkS8z8ZEvM/GRLzPxkS8z8ZEvM/GRLzPxkS8z8ZEvM/GRLzPxkS8z8ZEvM/GRLzPxkS8z8Fav0/BWr9PwVq/T8Fav0/BWr9PwVq/T8Fav0/BWr9PwVq/T8Fav0/BWr9PwVq/T8Fav0/BWr9PwVq/T8Fav0/BWr9PwVq/T8Fav0/BWr9PwVq/T8Fav0/BWr9PwVq/T8Fav0/BWr9PwVq/T8Fav0/BWr9PwVq/T8Fav0/BWr9PwVq/T8Fav0/BWr9PwVq/T8Fav0/BWr9PwVq/T8Fav0/BWr9PwVq/T8Fav0/BWr9PwVq/T8Fav0/BWr9PwVq/T8Fav0/BWr9PwVq/T8Fav0/BWr9PwVq/T8Fav0/BWr9PwVq/T8Fav0/BWr9PwVq/T8Fav0/BWr9PwVq/T8Fav0/BWr9PwVq/T8Fav0/BWr9PwVq/T8Fav0/BWr9PwVq/T8Fav0/BWr9PwVq/T8Fav0/BWr9PwVq/T8Fav0/BWr9PwVq/T8Fav0/BWr9PwVq/T8Fav0/BWr9PwVq/T8Fav0/BWr9PwVq/T8Fav0/BWr9PwVq/T8Fav0/BWr9PwVq/T8Fav0/BWr9PwVq/T8Fav0/+OADQPjgA0D44ANA+OADQPjgA0D44ANA+OADQPjgA0D44ANA+OADQPjgA0D44ANA+OADQPjgA0D44ANA+OADQPjgA0D44ANA+OADQPjgA0D44ANA+OADQPjgA0D44ANA+OADQPjgA0D44ANA+OADQPjgA0D44ANA+OADQPjgA0D44ANA+OADQPjgA0D44ANA+OADQPjgA0D44ANA+OADQPjgA0D44ANA+OADQPjgA0D44ANA+OADQPjgA0D44ANA+OADQPjgA0D44ANA+OADQPjgA0D44ANA+OADQPjgA0D44ANA+OADQPjgA0D44ANA+OADQPjgA0D44ANA+OADQPjgA0D44ANA+OADQPjgA0D44ANA+OADQPjgA0D44ANA+OADQPjgA0D44ANA+OADQPjgA0D44ANA+OADQPjgA0D44ANA+OADQPjgA0D44ANA+OADQPjgA0D44ANA+OADQPjgA0D44ANA+OADQPjgA0D44ANA+OADQPjgA0D44ANA+OADQPjgA0D44ANA+OADQO4MCUDuDAlA7gwJQO4MCUDuDAlA7gwJQO4MCUDuDAlA7gwJQO4MCUDuDAlA7gwJQO4MCUDuDAlA7gwJQO4MCUDuDAlA7gwJQO4MCUDuDAlA7gwJQO4MCUDuDAlA7gwJQO4MCUDuDAlA7gwJQO4MCUDuDAlA7gwJQO4MCUDuDAlA7gwJQO4MCUDuDAlA7gwJQO4MCUDuDAlA7gwJQO4MCUDuDAlA7gwJQO4MCUDuDAlA7gwJQO4MCUDuDAlA7gwJQO4MCUDuDAlA7gwJQO4MCUDuDAlA7gwJQO4MCUDuDAlA7gwJQO4MCUDuDAlA7gwJQO4MCUDuDAlA7gwJQO4MCUDuDAlA7gwJQO4MCUDuDAlA7gwJQO4MCUDuDAlA7gwJQO4MCUDuDAlA7gwJQO4MCUDuDAlA7gwJQO4MCUDuDAlA7gwJQO4MCUDuDAlA7gwJQO4MCUDuDAlA7gwJQO4MCUDuDAlA7gwJQO4MCUDuDAlA7gwJQO4MCUDuDAlA7gwJQO4MCUDuDAlA7gwJQO4MCUDkOA5A5DgOQOQ4DkDkOA5A5DgOQOQ4DkDkOA5A5DgOQOQ4DkDkOA5A5DgOQOQ4DkDkOA5A5DgOQOQ4DkDkOA5A5DgOQOQ4DkDkOA5A5DgOQOQ4DkDkOA5A5DgOQOQ4DkDkOA5A5DgOQOQ4DkDkOA5A5DgOQOQ4DkDkOA5A5DgOQOQ4DkDkOA5A5DgOQOQ4DkDkOA5A5DgOQOQ4DkDkOA5A5DgOQOQ4DkDkOA5A5DgOQOQ4DkDkOA5A5DgOQOQ4DkDkOA5A5DgOQOQ4DkDkOA5A5DgOQOQ4DkDkOA5A5DgOQOQ4DkDkOA5A5DgOQOQ4DkDkOA5A5DgOQOQ4DkDkOA5A5DgOQOQ4DkDkOA5A5DgOQOQ4DkDkOA5A5DgOQOQ4DkDkOA5A5DgOQOQ4DkDkOA5A5DgOQOQ4DkDkOA5A5DgOQOQ4DkDkOA5A5DgOQOQ4DkDkOA5A5DgOQOQ4DkDkOA5A5DgOQOQ4DkDkOA5A5DgOQOQ4DkDkOA5A5DgOQOQ4DkDkOA5A5DgOQOQ4DkDkOA5A2mQTQNpkE0DaZBNA2mQTQNpkE0DaZBNA2mQTQNpkE0DaZBNA2mQTQNpkE0DaZBNA2mQTQNpkE0DaZBNA2mQTQNpkE0DaZBNA2mQTQNpkE0DaZBNA2mQTQNpkE0DaZBNA2mQTQNpkE0DaZBNA2mQTQNpkE0DaZBNA2mQTQNpkE0DaZBNA2mQTQNpkE0DaZBNA2mQTQNpkE0DaZBNA2mQTQNpkE0DaZBNA2mQTQNpkE0DaZBNA2mQTQNpkE0DaZBNA2mQTQNpkE0DaZBNA2mQTQNpkE0DaZBNA2mQTQNpkE0DaZBNA2mQTQNpkE0DaZBNA2mQTQNpkE0DaZBNA2mQTQNpkE0DaZBNA2mQTQNpkE0DaZBNA2mQTQNpkE0DaZBNA2mQTQNpkE0DaZBNA2mQTQNpkE0DaZBNA2mQTQNpkE0DaZBNA2mQTQNpkE0DaZBNA2mQTQNpkE0DaZBNA2mQTQNpkE0DaZBNA2mQTQNpkE0DaZBNA2mQTQNpkE0DaZBNA2mQTQNpkE0DaZBNA2mQTQM6QGEDOkBhAzpAYQM6QGEDOkBhAzpAYQM6QGEDOkBhAzpAYQM6QGEDOkBhAzpAYQM6QGEDOkBhAzpAYQM6QGEDOkBhAzpAYQM6QGEDOkBhAzpAYQM6QGEDOkBhAzpAYQM6QGEDOkBhAzpAYQM6QGEDOkBhAzpAYQM6QGEDOkBhAzpAYQM6QGEDOkBhAzpAYQM6QGEDOkBhAzpAYQM6QGEDOkBhAzpAYQM6QGEDOkBhAzpAYQM6QGEDOkBhAzpAYQM6QGEDOkBhAzpAYQM6QGEDOkBhAzpAYQM6QGEDOkBhAzpAYQM6QGEDOkBhAzpAYQM6QGEDOkBhAzpAYQM6QGEDOkBhAzpAYQM6QGEDOkBhAzpAYQM6QGEDOkBhAzpAYQM6QGEDOkBhAzpAYQM6QGEDOkBhAzpAYQM6QGEDOkBhAzpAYQM6QGEDOkBhAzpAYQM6QGEDOkBhAzpAYQM6QGEDOkBhAzpAYQM6QGEDOkBhAzpAYQM6QGEDOkBhAzpAYQM6QGEDOkBhAzpAYQM6QGEDEvB1AxLwdQMS8HUDEvB1AxLwdQMS8HUDEvB1AxLwdQMS8HUDEvB1AxLwdQMS8HUDEvB1AxLwdQMS8HUDEvB1AxLwdQMS8HUDEvB1AxLwdQMS8HUDEvB1AxLwdQMS8HUDEvB1AxLwdQMS8HUDEvB1AxLwdQMS8HUDEvB1AxLwdQMS8HUDEvB1AxLwdQMS8HUDEvB1AxLwdQMS8HUDEvB1AxLwdQMS8HUDEvB1AxLwdQMS8HUDEvB1AxLwdQMS8HUDEvB1AxLwdQMS8HUDEvB1AxLwdQMS8HUDEvB1AxLwdQMS8HUDEvB1AxLwdQMS8HUDEvB1AxLwdQMS8HUDEvB1AxLwdQMS8HUDEvB1AxLwdQMS8HUDEvB1AxLwdQMS8HUDEvB1AxLwdQMS8HUDEvB1AxLwdQMS8HUDEvB1AxLwdQMS8HUDEvB1AxLwdQMS8HUDEvB1AxLwdQMS8HUDEvB1AxLwdQMS8HUDEvB1AxLwdQMS8HUDEvB1AxLwdQMS8HUDEvB1AxLwdQMS8HUDEvB1AuugiQLroIkC66CJAuugiQLroIkC66CJAuugiQLroIkC66CJAuugiQLroIkC66CJAuugiQLroIkC66CJAuugiQLroIkC66CJAuugiQLroIkC66CJAuugiQLroIkC66CJAuugiQLroIkC66CJAuugiQLroIkC66CJAuugiQLroIkC66CJAuugiQLroIkC66CJAuugiQLroIkC66CJAuugiQLroIkC66CJAuugiQLroIkC66CJAuugiQLroIkC66CJAuugiQLroIkC66CJAuugiQLroIkC66CJAuugiQLroIkC66CJAuugiQLroIkC66CJAuugiQLroIkC66CJAuugiQLroIkC66CJAuugiQLroIkC66CJAuugiQLroIkC66CJAuugiQLroIkC66CJAuugiQLroIkC66CJAuugiQLroIkC66CJAuugiQLroIkC66CJAuugiQLroIkC66CJAuugiQLroIkC66CJAuugiQLroIkC66CJAuugiQLroIkC66CJAuugiQLroIkC66CJAuugiQLAUKECwFChAsBQoQLAUKECwFChAsBQoQLAUKECwFChAsBQoQLAUKECwFChAsBQoQLAUKECwFChAsBQoQLAUKECwFChAsBQoQLAUKECwFChAsBQoQLAUKECwFChAsBQoQLAUKECwFChAsBQoQLAUKECwFChAsBQoQLAUKECwFChAsBQoQLAUKECwFChAsBQoQLAUKECwFChAsBQoQLAUKECwFChAsBQoQLAUKECwFChAsBQoQLAUKECwFChAsBQoQLAUKECwFChAsBQoQLAUKECwFChAsBQoQLAUKECwFChAsBQoQLAUKECwFChAsBQoQLAUKECwFChAsBQoQLAUKECwFChAsBQoQLAUKECwFChAsBQoQLAUKECwFChAsBQoQLAUKECwFChAsBQoQLAUKECwFChAsBQoQLAUKECwFChAsBQoQLAUKECwFChAsBQoQLAUKECwFChAsBQoQLAUKECwFChAsBQoQLAUKECwFChAsBQoQLAUKECwFChAsBQoQLAUKECwFChAsBQoQLAUKECmQC1ApkAtQKZALUCmQC1ApkAtQKZALUCmQC1ApkAtQKZALUCmQC1ApkAtQKZALUCmQC1ApkAtQKZALUCmQC1ApkAtQKZALUCmQC1ApkAtQKZALUCmQC1ApkAtQKZALUCmQC1ApkAtQKZALUCmQC1ApkAtQKZALUCmQC1ApkAtQKZALUCmQC1ApkAtQKZALUCmQC1ApkAtQKZALUCmQC1ApkAtQKZALUCmQC1ApkAtQKZALUCmQC1ApkAtQKZALUCmQC1ApkAtQKZALUCmQC1ApkAtQKZALUCmQC1ApkAtQKZALUCmQC1ApkAtQKZALUCmQC1ApkAtQKZALUCmQC1ApkAtQKZALUCmQC1ApkAtQKZALUCmQC1ApkAtQKZALUCmQC1ApkAtQKZALUCmQC1ApkAtQKZALUCmQC1ApkAtQKZALUCmQC1ApkAtQKZALUCmQC1ApkAtQKZALUCmQC1ApkAtQKZALUCmQC1ApkAtQKZALUCmQC1ApkAtQKZALUCmQC1ApkAtQKZALUCmQC1AnGwyQJxsMkCcbDJAnGwyQJxsMkCcbDJAnGwyQJxsMkCcbDJAnGwyQJxsMkCcbDJAnGwyQJxsMkCcbDJAnGwyQJxsMkCcbDJAnGwyQJxsMkCcbDJAnGwyQJxsMkCcbDJAnGwyQJxsMkCcbDJAnGwyQJxsMkCcbDJAnGwyQJxsMkCcbDJAnGwyQJxsMkCcbDJAnGwyQJxsMkCcbDJAnGwyQJxsMkCcbDJAnGwyQJxsMkCcbDJAnGwyQJxsMkCcbDJAnGwyQJxsMkCcbDJAnGwyQJxsMkCcbDJAnGwyQJxsMkCcbDJAnGwyQJxsMkCcbDJAnGwyQJxsMkCcbDJAnGwyQJxsMkCcbDJAnGwyQJxsMkCcbDJAnGwyQJxsMkCcbDJAnGwyQJxsMkCcbDJAnGwyQJxsMkCcbDJAnGwyQJxsMkCcbDJAnGwyQJxsMkCcbDJAnGwyQJxsMkCcbDJAnGwyQJxsMkCcbDJAnGwyQJxsMkCcbDJAnGwyQJxsMkCcbDJAnGwyQJxsMkCcbDJAnGwyQJCYN0CQmDdAkJg3QJCYN0CQmDdAkJg3QJCYN0CQmDdAkJg3QJCYN0CQmDdAkJg3QJCYN0CQmDdAkJg3QJCYN0CQmDdAkJg3QJCYN0CQmDdAkJg3QJCYN0CQmDdAkJg3QJCYN0CQmDdAkJg3QJCYN0CQmDdAkJg3QJCYN0CQmDdAkJg3QJCYN0CQmDdAkJg3QJCYN0CQmDdAkJg3QJCYN0CQmDdAkJg3QJCYN0CQmDdAkJg3QJCYN0CQmDdAkJg3QJCYN0CQmDdAkJg3QJCYN0CQmDdAkJg3QJCYN0CQmDdAkJg3QJCYN0CQmDdAkJg3QJCYN0CQmDdAkJg3QJCYN0CQmDdAkJg3QJCYN0CQmDdAkJg3QJCYN0CQmDdAkJg3QJCYN0CQmDdAkJg3QJCYN0CQmDdAkJg3QJCYN0CQmDdAkJg3QJCYN0CQmDdAkJg3QJCYN0CQmDdAkJg3QJCYN0CQmDdAkJg3QJCYN0CQmDdAkJg3QJCYN0CQmDdAkJg3QJCYN0CQmDdAkJg3QJCYN0CGxDxAhsQ8QIbEPECGxDxAhsQ8QIbEPECGxDxAhsQ8QIbEPECGxDxAhsQ8QIbEPECGxDxAhsQ8QIbEPECGxDxAhsQ8QIbEPECGxDxAhsQ8QIbEPECGxDxAhsQ8QIbEPECGxDxAhsQ8QIbEPECGxDxAhsQ8QIbEPECGxDxAhsQ8QIbEPECGxDxAhsQ8QIbEPECGxDxAhsQ8QIbEPECGxDxAhsQ8QIbEPECGxDxAhsQ8QIbEPECGxDxAhsQ8QIbEPECGxDxAhsQ8QIbEPECGxDxAhsQ8QIbEPECGxDxAhsQ8QIbEPECGxDxAhsQ8QIbEPECGxDxAhsQ8QIbEPECGxDxAhsQ8QIbEPECGxDxAhsQ8QIbEPECGxDxAhsQ8QIbEPECGxDxAhsQ8QIbEPECGxDxAhsQ8QIbEPECGxDxAhsQ8QIbEPECGxDxAhsQ8QIbEPECGxDxAhsQ8QIbEPECGxDxAhsQ8QIbEPECGxDxAhsQ8QIbEPECGxDxAhsQ8QIbEPECGxDxAhsQ8QIbEPECGxDxAfPBBQHzwQUB88EFAfPBBQHzwQUB88EFAfPBBQHzwQUB88EFAfPBBQHzwQUB88EFAfPBBQHzwQUB88EFAfPBBQHzwQUB88EFAfPBBQHzwQUB88EFAfPBBQHzwQUB88EFAfPBBQHzwQUB88EFAfPBBQHzwQUB88EFAfPBBQHzwQUB88EFAfPBBQHzwQUB88EFAfPBBQHzwQUB88EFAfPBBQHzwQUB88EFAfPBBQHzwQUB88EFAfPBBQHzwQUB88EFAfPBBQHzwQUB88EFAfPBBQHzwQUB88EFAfPBBQHzwQUB88EFAfPBBQHzwQUB88EFAfPBBQHzwQUB88EFAfPBBQHzwQUB88EFAfPBBQHzwQUB88EFAfPBBQHzwQUB88EFAfPBBQHzwQUB88EFAfPBBQHzwQUB88EFAfPBBQHzwQUB88EFAfPBBQHzwQUB88EFAfPBBQHzwQUB88EFAfPBBQHzwQUB88EFAfPBBQHzwQUB88EFAfPBBQHzwQUB88EFAfPBBQHzwQUB88EFAfPBBQHIcR0ByHEdAchxHQHIcR0ByHEdAchxHQHIcR0ByHEdAchxHQHIcR0ByHEdAchxHQHIcR0ByHEdAchxHQHIcR0ByHEdAchxHQHIcR0ByHEdAchxHQHIcR0ByHEdAchxHQHIcR0ByHEdAchxHQHIcR0ByHEdAchxHQHIcR0ByHEdAchxHQHIcR0ByHEdAchxHQHIcR0ByHEdAchxHQHIcR0ByHEdAchxHQHIcR0ByHEdAchxHQHIcR0ByHEdAchxHQHIcR0ByHEdAchxHQHIcR0ByHEdAchxHQHIcR0ByHEdAchxHQHIcR0ByHEdAchxHQHIcR0ByHEdAchxHQHIcR0ByHEdAchxHQHIcR0ByHEdAchxHQHIcR0ByHEdAchxHQHIcR0ByHEdAchxHQHIcR0ByHEdAchxHQHIcR0ByHEdAchxHQHIcR0ByHEdAchxHQHIcR0ByHEdAchxHQHIcR0ByHEdAchxHQHIcR0ByHEdAchxHQHIcR0ByHEdAchxHQHIcR0ByHEdAchxHQHIcR0BoSExAaEhMQGhITEBoSExAaEhMQGhITEBoSExAaEhMQGhITEBoSExAaEhMQGhITEBoSExAaEhMQGhITEBoSExAaEhMQGhITEBoSExAaEhMQGhITEBoSExAaEhMQGhITEBoSExAaEhMQGhITEBoSExAaEhMQGhITEBoSExAaEhMQGhITEBoSExAaEhMQGhITEBoSExAaEhMQGhITEBoSExAaEhMQGhITEBoSExAaEhMQGhITEBoSExAaEhMQGhITEBoSExAaEhMQGhITEBoSExAaEhMQGhITEBoSExAaEhMQGhITEBoSExAaEhMQGhITEBoSExAaEhMQGhITEBoSExAaEhMQGhITEBoSExAaEhMQGhITEBoSExAaEhMQGhITEBoSExAaEhMQGhITEBoSExAaEhMQGhITEBoSExAaEhMQGhITEBoSExAaEhMQGhITEBoSExAaEhMQGhITEBoSExAaEhMQGhITEBoSExAaEhMQGhITEBoSExAaEhMQGhITEBoSExAaEhMQGhITEBoSExAXnRRQF50UUBedFFAXnRRQF50UUBedFFAXnRRQF50UUBedFFAXnRRQF50UUBedFFAXnRRQF50UUBedFFAXnRRQF50UUBedFFAXnRRQF50UUBedFFAXnRRQF50UUBedFFAXnRRQF50UUBedFFAXnRRQF50UUBedFFAXnRRQF50UUBedFFAXnRRQF50UUBedFFAXnRRQF50UUBedFFAXnRRQF50UUBedFFAXnRRQF50UUBedFFAXnRRQF50UUBedFFAXnRRQF50UUBedFFAXnRRQF50UUBedFFAXnRRQF50UUBedFFAXnRRQF50UUBedFFAXnRRQF50UUBedFFAXnRRQF50UUBedFFAXnRRQF50UUBedFFAXnRRQF50UUBedFFAXnRRQF50UUBedFFAXnRRQF50UUBedFFAXnRRQF50UUBedFFAXnRRQF50UUBedFFAXnRRQF50UUBedFFAXnRRQF50UUBedFFAXnRRQF50UUBedFFAXnRRQF50UUBedFFAXnRRQF50UUBedFFAXnRRQFKgVkBSoFZAUqBWQFKgVkBSoFZAUqBWQFKgVkBSoFZAUqBWQFKgVkBSoFZAUqBWQFKgVkBSoFZAUqBWQFKgVkBSoFZAUqBWQFKgVkBSoFZAUqBWQFKgVkBSoFZAUqBWQFKgVkBSoFZAUqBWQFKgVkBSoFZAUqBWQFKgVkBSoFZAUqBWQFKgVkBSoFZAUqBWQFKgVkBSoFZAUqBWQFKgVkBSoFZAUqBWQFKgVkBSoFZAUqBWQFKgVkBSoFZAUqBWQFKgVkBSoFZAUqBWQFKgVkBSoFZAUqBWQFKgVkBSoFZAUqBWQFKgVkBSoFZAUqBWQFKgVkBSoFZAUqBWQFKgVkBSoFZAUqBWQFKgVkBSoFZAUqBWQFKgVkBSoFZAUqBWQFKgVkBSoFZAUqBWQFKgVkBSoFZAUqBWQFKgVkBSoFZAUqBWQFKgVkBSoFZAUqBWQFKgVkBSoFZAUqBWQFKgVkBSoFZAUqBWQFKgVkBSoFZAUqBWQFKgVkBSoFZAUqBWQFKgVkBSoFZAUqBWQFKgVkBIzFtASMxbQEjMW0BIzFtASMxbQEjMW0BIzFtASMxbQEjMW0BIzFtASMxbQEjMW0BIzFtASMxbQEjMW0BIzFtASMxbQEjMW0BIzFtASMxbQEjMW0BIzFtASMxbQEjMW0BIzFtASMxbQEjMW0BIzFtASMxbQEjMW0BIzFtASMxbQEjMW0BIzFtASMxbQEjMW0BIzFtASMxbQEjMW0BIzFtASMxbQEjMW0BIzFtASMxbQEjMW0BIzFtASMxbQEjMW0BIzFtASMxbQEjMW0BIzFtASMxbQEjMW0BIzFtASMxbQEjMW0BIzFtASMxbQEjMW0BIzFtASMxbQEjMW0BIzFtASMxbQEjMW0BIzFtASMxbQEjMW0BIzFtASMxbQEjMW0BIzFtASMxbQEjMW0BIzFtASMxbQEjMW0BIzFtASMxbQEjMW0BIzFtASMxbQEjMW0BIzFtASMxbQEjMW0BIzFtASMxbQEjMW0BIzFtASMxbQEjMW0BIzFtASMxbQEjMW0BIzFtASMxbQEjMW0BIzFtAPvhgQD74YEA++GBAPvhgQD74YEA++GBAPvhgQD74YEA++GBAPvhgQD74YEA++GBAPvhgQD74YEA++GBAPvhgQD74YEA++GBAPvhgQD74YEA++GBAPvhgQD74YEA++GBAPvhgQD74YEA++GBAPvhgQD74YEA++GBAPvhgQD74YEA++GBAPvhgQD74YEA++GBAPvhgQD74YEA++GBAPvhgQD74YEA++GBAPvhgQD74YEA++GBAPvhgQD74YEA++GBAPvhgQD74YEA++GBAPvhgQD74YEA++GBAPvhgQD74YEA++GBAPvhgQD74YEA++GBAPvhgQD74YEA++GBAPvhgQD74YEA++GBAPvhgQD74YEA++GBAPvhgQD74YEA++GBAPvhgQD74YEA++GBAPvhgQD74YEA++GBAPvhgQD74YEA++GBAPvhgQD74YEA++GBAPvhgQD74YEA++GBAPvhgQD74YEA++GBAPvhgQD74YEA++GBAPvhgQD74YEA++GBAPvhgQD74YEA++GBAPvhgQDQkZkA0JGZANCRmQDQkZkA0JGZANCRmQDQkZkA0JGZANCRmQDQkZkA0JGZANCRmQDQkZkA0JGZANCRmQDQkZkA0JGZANCRmQDQkZkA0JGZANCRmQDQkZkA0JGZANCRmQDQkZkA0JGZANCRmQDQkZkA0JGZANCRmQDQkZkA0JGZANCRmQDQkZkA0JGZANCRmQDQkZkA0JGZANCRmQDQkZkA0JGZANCRmQDQkZkA0JGZANCRmQDQkZkA0JGZANCRmQDQkZkA0JGZANCRmQDQkZkA0JGZANCRmQDQkZkA0JGZANCRmQDQkZkA0JGZANCRmQDQkZkA0JGZANCRmQDQkZkA0JGZANCRmQDQkZkA0JGZANCRmQDQkZkA0JGZANCRmQDQkZkA0JGZANCRmQDQkZkA0JGZANCRmQDQkZkA0JGZANCRmQDQkZkA0JGZANCRmQDQkZkA0JGZANCRmQDQkZkA0JGZANCRmQDQkZkA0JGZANCRmQDQkZkA0JGZANCRmQDQkZkA0JGZANCRmQDQkZkAqUGtAKlBrQCpQa0AqUGtAKlBrQCpQa0AqUGtAKlBrQCpQa0AqUGtAKlBrQCpQa0AqUGtAKlBrQCpQa0AqUGtAKlBrQCpQa0AqUGtAKlBrQCpQa0AqUGtAKlBrQCpQa0AqUGtAKlBrQCpQa0AqUGtAKlBrQCpQa0AqUGtAKlBrQCpQa0AqUGtAKlBrQCpQa0AqUGtAKlBrQCpQa0AqUGtAKlBrQCpQa0AqUGtAKlBrQCpQa0AqUGtAKlBrQCpQa0AqUGtAKlBrQCpQa0AqUGtAKlBrQCpQa0AqUGtAKlBrQCpQa0AqUGtAKlBrQCpQa0AqUGtAKlBrQCpQa0AqUGtAKlBrQCpQa0AqUGtAKlBrQCpQa0AqUGtAKlBrQCpQa0AqUGtAKlBrQCpQa0AqUGtAKlBrQCpQa0AqUGtAKlBrQCpQa0AqUGtAKlBrQCpQa0AqUGtAKlBrQCpQa0AqUGtAKlBrQCpQa0AqUGtAKlBrQCpQa0AqUGtAKlBrQCpQa0AqUGtAKlBrQCpQa0AqUGtAIHxwQCB8cEAgfHBAIHxwQCB8cEAgfHBAIHxwQCB8cEAgfHBAIHxwQCB8cEAgfHBAIHxwQCB8cEAgfHBAIHxwQCB8cEAgfHBAIHxwQCB8cEAgfHBAIHxwQCB8cEAgfHBAIHxwQCB8cEAgfHBAIHxwQCB8cEAgfHBAIHxwQCB8cEAgfHBAIHxwQCB8cEAgfHBAIHxwQCB8cEAgfHBAIHxwQCB8cEAgfHBAIHxwQCB8cEAgfHBAIHxwQCB8cEAgfHBAIHxwQCB8cEAgfHBAIHxwQCB8cEAgfHBAIHxwQCB8cEAgfHBAIHxwQCB8cEAgfHBAIHxwQCB8cEAgfHBAIHxwQCB8cEAgfHBAIHxwQCB8cEAgfHBAIHxwQCB8cEAgfHBAIHxwQCB8cEAgfHBAIHxwQCB8cEAgfHBAIHxwQCB8cEAgfHBAIHxwQCB8cEAgfHBAIHxwQCB8cEAgfHBAIHxwQCB8cEAgfHBAIHxwQCB8cEAgfHBAIHxwQCB8cEAgfHBAIHxwQCB8cEAgfHBAIHxwQBSodUAUqHVAFKh1QBSodUAUqHVAFKh1QBSodUAUqHVAFKh1QBSodUAUqHVAFKh1QBSodUAUqHVAFKh1QBSodUAUqHVAFKh1QBSodUAUqHVAFKh1QBSodUAUqHVAFKh1QBSodUAUqHVAFKh1QBSodUAUqHVAFKh1QBSodUAUqHVAFKh1QBSodUAUqHVAFKh1QBSodUAUqHVAFKh1QBSodUAUqHVAFKh1QBSodUAUqHVAFKh1QBSodUAUqHVAFKh1QBSodUAUqHVAFKh1QBSodUAUqHVAFKh1QBSodUAUqHVAFKh1QBSodUAUqHVAFKh1QBSodUAUqHVAFKh1QBSodUAUqHVAFKh1QBSodUAUqHVAFKh1QBSodUAUqHVAFKh1QBSodUAUqHVAFKh1QBSodUAUqHVAFKh1QBSodUAUqHVAFKh1QBSodUAUqHVAFKh1QBSodUAUqHVAFKh1QBSodUAUqHVAFKh1QBSodUAUqHVAFKh1QBSodUAUqHVAFKh1QBSodUAUqHVAFKh1QBSodUAK1HpACtR6QArUekAK1HpACtR6QArUekAK1HpACtR6QArUekAK1HpACtR6QArUekAK1HpACtR6QArUekAK1HpACtR6QArUekAK1HpACtR6QArUekAK1HpACtR6QArUekAK1HpACtR6QArUekAK1HpACtR6QArUekAK1HpACtR6QArUekAK1HpACtR6QArUekAK1HpACtR6QArUekAK1HpACtR6QArUekAK1HpACtR6QArUekAK1HpACtR6QArUekAK1HpACtR6QArUekAK1HpACtR6QArUekAK1HpACtR6QArUekAK1HpACtR6QArUekAK1HpACtR6QArUekAK1HpACtR6QArUekAK1HpACtR6QArUekAK1HpACtR6QArUekAK1HpACtR6QArUekAK1HpACtR6QArUekAK1HpACtR6QArUekAK1HpACtR6QArUekAK1HpACtR6QArUekAK1HpACtR6QArUekAK1HpACtR6QArUekAK1HpACtR6QArUekAK1HpACtR6QArUekAK1HpAAACAQAAAgEAAAIBAAACAQAAAgEAAAIBAAACAQAAAgEAAAIBAAACAQAAAgEAAAIBAAACAQAAAgEAAAIBAAACAQAAAgEAAAIBAAACAQAAAgEAAAIBAAACAQAAAgEAAAIBAAACAQAAAgEAAAIBAAACAQAAAgEAAAIBAAACAQAAAgEAAAIBAAACAQAAAgEAAAIBAAACAQAAAgEAAAIBAAACAQAAAgEAAAIBAAACAQAAAgEAAAIBAAACAQAAAgEAAAIBAAACAQAAAgEAAAIBAAACAQAAAgEAAAIBAAACAQAAAgEAAAIBAAACAQAAAgEAAAIBAAACAQAAAgEAAAIBAAACAQAAAgEAAAIBAAACAQAAAgEAAAIBAAACAQAAAgEAAAIBAAACAQAAAgEAAAIBAAACAQAAAgEAAAIBAAACAQAAAgEAAAIBAAACAQAAAgEAAAIBAAACAQAAAgEAAAIBAAACAQAAAgEAAAIBAAACAQAAAgEAAAIBAAACAQAAAgEAAAIBAAACAQAAAgEAAAIBAAACAQA==",
          "dtype": "f4",
          "shape": "100, 100"
         },
         "z": {
          "bdata": "AAAIQ9wSBkNnLARDo0wCQ45zAENRQv1C56r5Qtwg9kIwpPJC5DTvQvjS60JsfuhCPjflQnH94UIC0d5C9bHbQkag2EL2m9VCBqXSQna7z0JG38xCdBDKQgNPx0LymsRCP/TBQuxav0L5zrxCZlC6QjLft0Jee7VC6CSzQtPbsEIeoK5CxnGsQtFQqkI5PahCAjemQis+pEKyUqJCmXSgQuCjnkKH4JxCjCqbQvKBmUK45pdC3FiWQmHYlEJEZZNCiP+RQiqnkEIuXI9Cjx6OQlHujEJyy4tC87WKQtStiUITs4hCtMWHQrPlhkIRE4ZC0E2FQu6VhEJq64NCSE6DQoW+gkIgPIJCHMeBQnhfgUIyBYFCTbiAQsd4gEKhRoBC2iGAQnIKgEJrAIBCwwOAQnoUgEKSMoBCCF6AQt6WgEIU3YBCqjCBQp6RgULy/4FCp3uCQroEg0Itm4NCAD+EQjPwhELEroVCtnqGQgdUh0K4OohCyC6JQjgwikIHP4tCNluMQsSEjUKyu45CAACQQkYJBUPNHQNDBTkBQ9m1/kIHB/tClWX3QoLR80LOSvBCetHsQoZl6ULyBuZCvrXiQuhx30JzO9xCXBLZQqb21UJP6NJCV+fPQr/zzEKIDcpCrzTHQjVpxEIdq8FCYvq+QghXvEIOwblCcDi3Qja9tEJaT7JC3e6vQsCbrUIDVqtCpR2pQqfypkIJ1aRCyMSiQurBoEJqzJ5CSeScQokJm0IoPJlCJnyXQoPJlUJCJJRCXoySQtoBkUK2hI9C8hSOQo6yjEKIXYtC5BWKQp3biEK3rodCMY+GQgl9hUJBeIRC2ICDQtCWgkIouoFC3uqAQvQogELU6H5Cfpp9QulmfEITTntC+U96QqFseUIHpHhCLfZ3QhJjd0K16nZCGY12QjtKdkIcInZCvRR2QhwidkI6SnZCGY12QrfqdkISY3dCLfZ3QgikeEKhbHlC+k96QhJOe0LoZnxCfpp9QtTofkL1KIBC3uqAQii6gULQloJC2YCDQkF4hEIJfYVCMI+GQreuh0Kd24hC4xWKQohdi0LqHwJDHjYAQwKm/EIr7fhCsUH1QpWj8ULbEu5CgI/qQoQZ50LosONCrFXgQs4H3UJSx9lCNJTWQnRu00IXVtBCGEvNQnhNykI4XcdCVnrEQtekwUK13L5C9CG8QpJ0uUKP1LZC7EG0Qqm8sULGRK9CQtqsQh19qkJXLahC8uqlQu21o0JEjqFC/3OfQhdnnUKQZ5tCaXWZQp+Ql0I2uZVCLu+TQoQykkI5g5BCTuGOQsRMjUKYxYtCzEuKQmDfiEJTgIdCpS6GQlnqhEJqs4NC3ImCQqxtgULeXoBC27p+QrvSfEJZBXtCt1J5QtW6d0KwPXZCTNt0QqaTc0LAZnJCmlRxQjBdcEKIgG9Cnb5uQnMXbkIIi21CWxltQm/CbEJAhmxC0WRsQiJebEIxcmxC/6BsQo3qbELbTm1C5c1tQrFnbkI7HG9ChOtvQo3VcEJU2nFC2/lyQiA0dEImiXVC7Ph2Qm6DeEKxKHpCsuh7QnPDfULyuH9CmeSAQhn6gUL3HINCNU2EQtOKhULQ1YZC4Yf+QqC3+kK+9PZCPj/zQhyX70JZ/OtC9m7oQvLu5EJOfOFCChfeQia/2kKidNdCfDfUQrYH0UJP5c1CSdDKQqLIx0JazsRCceHBQugBv0LBL7xC9mq5Qo2ztkKECbRC2GyxQo7drkKiW6xCFuepQup/p0IeJqVCr9miQqKaoEL1aJ5CpEScQrctmkInJJhC9ieWQig5lEK3V5JCpoOQQvS8jkKjA41CsFeLQh65iULqJ4hCFqSGQqMthUKOxINC2WiCQoQagUIcs39C8Et9QoP/ekLVzXhC5rZ2Qra6dEJG2XJCkxJxQqJmb0Jv1W1C+l5sQkYDa0JPwmlCGZxoQqOQZ0Lpn2ZC8MllQrYOZUI7bmRCgOhjQoN9Y0JGLWNCyPdiQgjdYkII3WJCyPdiQkUtY0KDfWNCgehjQjtuZEK2DmVC8cllQumfZkKikGdCGpxoQk/CaUJFA2tC+l5sQm/VbUKiZm9ClBJxQkXZckK2unRC5bZ2QtTNeEKE/3pC8Et9Qhyzf0KEGoFC2WiCQqrq+ELAHfVCOF7xQg6s7UJEB+pC2W/mQs7l4kIiad9C1vnbQuqX2EJeQ9VCMPzRQmLCzkL1lctC5nbIQjdlxULpYMJC+Gm/QmiAvEI4pLlCZ9W2QvUTtELkX7FCMrmuQt4frELsk6lCVxWnQiSkpEJQQKJC2umfQsWgnUIPZZtCuTaZQsIVl0IsApVC9PuSQhwDkUKlF49CizmNQtNoi0J5pYlCf++HQuRGhkKqq4RCzh2DQlKdgUI2KoBC9Ih9QjnYekI/QnhCAsd1Qodmc0LJIHFCy/VuQozlbEIL8GpCSxVpQkhVZ0IHsGVChCVkQr+1YkK6YGFCcyZgQu0GX0ImAl5CHRhdQtRIXEJJlFtCfvpaQnJ7WkIlF1pCmM1ZQsqeWUK6illCapFZQtmyWUIG71lC9EVaQqG3WkIMRFtCN+tbQiGtXELJiV1CMYFeQliTX0I+wGBC5AdiQkpqY0Ju52RCUH9mQvIxaEJT/2lCc+drQlPqbULyB3BCUEByQm2TdEJIAXdC5Il5Qj4tfEIxaPNCoJ7vQm7i60KeM+hCK5LkQhj+4EJld91CEv7ZQhyS1kKKM9NCVOLPQoCezEIKaMlC8z7GQjwjw0LmFMBC7xO9QlYgukIeOrdCRGG0QsyVsUKy165C+CasQp6DqUKk7aZCCGWkQs3poULxe59CdBudQljImkKagphCPEqWQj4flEKeAZJCYPGPQoDujUIA+YtC4BCKQh82iEK+aIZCvKiEQhr2gkLXUIFC6XF/QuNcfEKbYnlCE4N2Qkm+c0I+FHFC9IRuQmcQbEKbtmlCjXdnQj9TZUKwSWNC31phQs+GX0J8zV1C6i5cQherWkICQllCrPNXQhXAVkI/p1VCKKlUQs7FU0I1/VJCWk9SQj+8UULjQ1FCRuZQQmmjUEJKe1BC6m1QQkp7UEJoo1BCReZQQuNDUUJAvFFCWk9SQjX9UkLPxVNCJ6lUQj+nVUIWwFZCrPNXQgFCWUIWq1pC6y5cQn3NXULPhl9C31phQq9JY0I+U2VCjXdnQpy2aUJoEGxC9IRuQj8UcUJJvnNCeADuQj866kJmgeZC7NXiQtI330IXp9tCuyPYQsCt1EIiRdFC5unNQgqcykKNW8dCbijEQrECwUJS6r1CU9+6QrTht0J08bRCkw6yQhI5r0LxcKxCL7apQs4Ip0LLaKRCKNahQuZQn0IA2ZxCfW6aQlgRmEKTwZVCLX+TQidKkUKBIo9COgiNQlP7ikLL+4hCpAmHQtskhUJyTYNCaYOBQn6Nf0LpLnxCE+t4Qv3BdUKns3JCD8BvQjfnbEIdKWpCwoVnQij9ZEJKj2JCLjxgQtADXkIy5ltCUuNZQjH7V0LRLVZCLntUQkvjUkIoZlFCwwNQQh28TkI2j01CEH1MQqiFS0L+qEpCFedJQuo/SUJ+s0hC0kFIQuXqR0K3rkdCSI1HQpiGR0KomkdCdslHQgMTSEJRd0hCXfZIQieQSUKyREpC/BNLQgP+S0LLAk1CUiJOQphcT0KcsVBCYiFSQuarU0InUVVCKRFXQurrWEJq4VpCqPFcQqccX0JmYmFC4cJjQhw+ZkIY1GhC0oRrQn6z6EKd8ORCGjvhQvqS3UI4+NlC1GrWQtHq0kIseM9C6BLMQgS7yEKAcMVCWjPCQpQDv0It4btCJsy4QoDEtUI4yrJCUN2vQsf9rEKeK6pC1WanQmuvpEJhBaJCtmifQmzZnEKAV5pC9OKXQsh7lUL7IZNCjtWQQoCWjkLSZIxChUCKQpQpiEIGIIZC1SOEQgY1gkKVU4BCB/98QqVxeUIC/3VCHKdyQvZpb0KQR2xC6j9pQgFTZkLZgGNCb8lgQsQsXkLZqltCrENZQj/3VkKRxVRCoq5SQnOyUEIC0U5CUQpNQl5eS0IrzUlCt1ZIQgL7RkIMukVC1ZNEQl+IQ0Knl0JCrcFBQnMGQUL4ZUBCPOA/QkB1P0ICJT9ChO8+QsXUPkLF1D5ChO8+QgMlP0I/dT9CPeA/QvllQEJzBkFCrcFBQqeXQkJeiENC1pNEQgy6RUIC+0ZCtlZIQizNSUJfXktCUQpNQgLRTkJzslBCoq5SQpHFVEI/91ZCrkNZQtmqW0LELF5Cb8lgQtmAY0JEgeNCusHfQpAP3ELHathCXNPUQlFJ0UKmzM1CWV3KQmz7xkLgpsNCtF/AQuYlvUJ3+blCadq2QrrIs0JrxLBCfM2tQuvjqkK6B6hC6jilQnh3okJmw59CtBydQmKDmkJu95dC3HiVQqYHk0LSo5BCXU2OQkgEjEKSyIlCPJqHQkZ5hUKuZYNCd1+BQj7NfkJO9npCHjp3QqmYc0L4EXBCBKZsQs5UaUJYHmZCogJjQqsBYEJyG11C+k9aQkCfV0JECVVCCY5SQowtUELP501C0LxLQpKsSUISt0dCUNxFQk8cREIMd0JCiexAQsV8P0LAJz5Ceu08QvLNO0IsyTpCJN85QtkPOUJPWzhChME3QnhCN0Ir3jZCnpQ2QtBlNkLAUTZCb1g2Qt95NkINtjZC+Qw3Qqd+N0ITCzhCPLI4Qid0OULQUDpCN0g7Ql9aPEJGhz1C6s4+Qk4xQEJ0rkFCV0ZDQvj4REJaxkZCeq5IQlmxSkL3zkxCVgdPQnRaUUJPyFNC6lBWQkX0WEJesltCyGneQpit2kLF/tZCVF3TQkLJz0KOQsxCOsnIQkZdxUKx/sFCfK2+Qqhpu0IyM7hCHAq1QmXusUIN4K5CF9+rQn/rqEJGBaZCbiyjQvRgoELbop1CIfKaQsdOmELMuJVCMTCTQva0kEIZR45CneaLQoCTiULCTYdCZBWFQmbqgkLIzIBCD3l9QlFzeUJSiHVCEbhxQpACbkLMZ2pCyudmQoWCY0IAOGBCOghdQjPzWULs+FZCYxlUQppUUUKPqk5CRBtMQrmmSULsTEdC3w1FQpHpQkIB4EBCMfE+Qh8dPULOYztCOsU5QmdBOEJT2DZC/Yk1QmdWNEKQPTNCeT8yQiBcMUKGkzBCrOUvQpBSL0I02i5CmHwuQrk5LkKaES5COwQuQpoRLkK5OS5Cl3wuQjTaLkKRUi9CrOUvQoeTMEIgXDFCeD8yQpA9M0JoVjRC/ok1QlLYNkJnQThCOsU5Qs5jO0IgHT1CMvE+QgDgQEKQ6UJC3w1FQuxMR0K4pklCRRtMQpCqTkKZVFFCYxlUQg5t2UI0tNVCuQjSQqBqzkLl2cpCiVbHQo7gw0Lyd8BCtBy9QtjOuUJbjrZCPVuzQn81sEIgHa1CIRKqQoIUp0JCJKRCYUGhQuBrnkK+o5tC/uiYQps7lkKam5NC9giRQrKDjkLQC4xCSqGJQiZEh0Jh9IRC/LGCQvZ8gEKdqnxCEXZ4QkFcdEIzXXBC4nhsQlKvaEKAAGVCbGxhQhrzXUKGlFpCsFBXQpknVEJDGVFCqyVOQtJMS0K5jkhCX+tFQsNiQ0Lo9EBCyqE+QmxpPELNSzpC7kg4Qs5gNkJskzRCy+AyQudIMULEyy9CX2kuQrkhLULT9CtCq+IqQkTrKUKcDilCsUwoQoalJ0IaGSdCbqcmQoFQJkJTFCZC5fIlQjXsJUJDACZCEi8mQqB4JkLs3CZC+VsnQsX1J0JOqihCl3kpQqBjKkJnaCtC7ocsQjTCLUI5Fy9C/YYwQoARMkLEtjNCxXY1QoZRN0IGRzlCRVc7QkOCPUIAyD9CfihCQrmjREK0OUdCbupJQua1TEIQi9RCjtXQQmwtzUKqkslCSAXGQkSFwkKgEr9CXK27QnZVuELxCrVCzM2xQgaerkKge6tCmWaoQvJepUKrZKJCw3efQjqYnEIRxplCSAGXQt5JlELUn5FCKgOPQt5zjELz8YlCaH2HQjoWhUJuvIJCAHCAQuZhfEKK/ndC7LVzQhCIb0LvdGtCkXxnQvCeY0IP3F9C7jNcQoqmWELnM1VCA9xRQt2eTkJ1fEtCz3RIQueHRUK+tUJCVf4/QqphPUK+3zpCk3g4QiQsNkJ3+jNCiOMxQljnL0LoBS5CNj8sQkSTKkIQAilCnYsnQugvJkLy7iRCu8gjQkO9IkKMzCFCk/YgQlg7IELemh9CIRUfQiWqHkLoWR5CaSQeQqsJHkKrCR5CaSQeQuhZHkIlqh5CIRUfQt6aH0JZOyBCkvYgQozMIUJEvSJCu8gjQvLuJELoLyZCnIsnQhACKUJEkypCNz8sQugFLkJY5y9CiOMxQnb6M0IkLDZCkng4Qr/fOkKqYT1CVP4/Qr61QkLnh0VC0sPPQqgRzELdbMhCdNXEQmhLwUK8zr1CcV+6QoT9tkL3qLNCymGwQv4nrUKQ+6lCgdymQtLKo0KCxqBCk8+dQgPmmkLSCZhCATuVQpB5kkJ+xY9Cyx6NQnmFikKG+YdC8nqFQr4Jg0LppYBC6p58Qr8MeEJTlXNCqDhvQrn2akKMz2ZCHMNiQm3RXkJ8+lpCSz5XQtqcU0IlFlBCM6pMQv5YSUKHIkZC0AZDQtkFQEKiHz1CKFQ6Qm+jN0J0DTVCOJIyQrwxMEL96y1CAMErQsCwKUJBuydCgOAlQn4gJEI8eyJCt/AgQvSAH0LvKx5CqfEcQiLSG0JazRpCUuMZQgkUGUJ+XxhCs8UXQqdGF0Ja4hZCzZgWQv5pFkLvVRZCn1wWQg1+FkI8uhZCKREXQtWCF0JBDxhCbLYYQlV4GUL+VBpCZ0wbQo5eHEJ0ix1CGtMeQn41IEKhsiFChUojQif9JEKIyiZCqbIoQoi1KkIm0yxChAsvQqJeMUJ+zDNCGlU2QnP4OEKNtjtCZo8+QlMXy0KAaMdCDsfDQvwywEJKrLxC9jK5QgLHtUJsaLJCOBevQmLTq0LunKhC13OlQiBYokLJSZ9C0kicQjtVmUICb5ZCKZaTQrDKkEKWDI5C3VuLQoK4iEKIIoZC7JmDQrAegUKqYX1CrqB4Qnf6c0L7bm9CP/5qQkOoZkIEbWJCiExeQsdGWkLIW1ZChotSQgbWTkJEO0tCP7tHQvxVREJ3C0FCsds9QqnGOkJizDdC2uw0QhEoMkIHfi9CvO4sQi96KkJjIChCVeElQge9I0J3syFCp8QfQpbwHUJENxxCspgaQt0UGULJqxdCdV0WQt4pFUIHERRC7hITQpcvEkL+ZhFCIrkQQgcmEEKrrQ9CDlAPQjAND0IR5Q5CstcOQhLlDkIwDQ9CDlAPQqutD0IHJhBCIrkQQv5mEUKWLxJC7xITQggRFELeKRVCdF0WQsqrF0LeFBlCsZgaQkQ3HEKX8B1CqMQfQnezIUIHvSNCVeElQmIgKEIweipCvO4sQgd+L0IQKDJC2uw0QmLMN0KThcZCGNrCQv47v0JEq7tC6Se4QuyxtEJRSbFCFO6tQjagqkK6X6dCnCykQt4GoUJ/7p1CgOOaQuDll0Kh9ZRCwRKSQkA9j0IedYxCXLqJQvsMh0L4bIRCVtqBQiSqfkJcunlCVeV0QgorcEKBi2tCtQZnQqmcYkJdTV5CzhhaQgH/VULw/1FCoRtOQhBSSkI+o0ZCLA9DQteVP0JENzxCb/M4QljKNUIAvDJCacgvQpHvLEJ3MSpCHY4nQoIFJUKllyJCiUQgQioMHkKM7htCrOsZQowDGEIrNhZCiIMUQqbrEkKBbhFCHQwQQnjEDkKRlw1CaoUMQgKOC0JZsQpCcO8JQkRICULauwhCLUoIQkDzB0IRtwdCo5UHQvSOB0ICowdC0dEHQl4bCEKrfwhCt/4IQoKYCUINTQpCVRwLQl4GDEImCw1CrSoOQvNkD0L4uRBCvCkSQj+0E0KCWRVChBkXQkT0GELF6RpCBPocQgIlH0K/aiFCPMsjQnhGJkJz3ChCLI0rQqZYLkLePjFClA7CQnJmvkKuy7pCTT63Qkq+s0KmS7BCYeasQnyOqUL2Q6ZC0gajQgzXn0KmtJxCnp+ZQviXlkKwnZNCybCQQkDRjUIX/4pCTTqIQuSChULZ2IJCLjyAQshZe0LxVXZC2WxxQoGebELm6mdCDVJjQvHTXkKVcFpC+CdWQhn6UUL85k1Cm+5JQvwQRkIaTkJC+KU+QpYYO0LxpTdCDU40QugQMUKB7i1C2eYqQvL5J0LJJyVCX3AiQrXTH0LKUR1CneoaQjCeGEKBbBZCk1UUQmNZEkLzdxBCQbEOQk4FDUIcdAtCp/0JQvOhCEL9YAdCxjoGQk4vBUKWPgRCnmgDQmStAkLoDAJCLIcBQjAcAULzywBCdJYAQrZ7AEK2ewBCdJYAQvLLAEIwHAFCLYcBQugMAkJkrQJCnmgDQpY+BEJPLwVCxjoGQv1gB0LyoQhCqP0JQht0C0JOBQ1CQbEOQvN3EEJjWRJCk1UUQoJsFkIvnhhCnOoaQslRHUK10x9CYHAiQsgnJULy+SdC2uYqQlKyvUKIDbpCHXa2QhPsskJob69CGwCsQi+eqEKiSaVCdAKiQqfInkI6nJtCK32YQnxrlUItZ5JCPXCPQq2GjEJ9qolCq9uGQjoahEIoZoFC7H59QkZMeEJgNHNCOTduQtBUaUIpjWRCPuBfQhROW0Ko1lZC+3lSQg84TkLfEEpCcgRGQsESQkLROz5CoH86Qi3eNkJ8VzNChusvQlKaLELcYylCJUgmQi1HI0L1YCBCfZUdQsPkGkLIThhCjNMVQg9zE0JTLRFCVAIPQhXyDEKU/ApC1CEJQtJhB0KQvAVCDDIEQkjCAkJDbQFC/jIAQuwm/kFdHfxBTEn6Qbqq+EGlQfdBDw72QfcP9UFcR/RBQrTzQaRW80GHLvNB5zvzQcN+80Eg9/NB+qT0QVKI9UEpofZBgO/3QVRz+UGkLPtBdBv9QcQ//0HIzABCbhQCQtJ2A0L28wRC2IsGQns+CELdCwpC/fMLQtz2DUJ7FBBC2EwSQvafFELSDRdCbpYZQsg5HELh9x5CutAhQlLEJELQcLlCXc+1Qko7skKYtK5CRDurQlDPp0K8cKRChh+hQrHbnUI8pZpCJnyXQnBglEIYUpFCIVGOQoldi0JRd4hCeJ6FQv/SgkLlFIBCV8h6QqKBdUKsVXBCd0RrQv9NZkJGcmFCT7FcQhILWEKZf1NC3Q5PQuC4SkKjfUZCJF1CQmZXPkJlbDpCJZw2QqTmMkLhSy9C3ssrQplmKEIVHCVCT+whQkjXHkL/3BtCeP0YQq44FkKkjhNCWf8QQs2KDkIAMQxC8/EJQqTNB0IVxAVCRNUDQjQBAkLiRwBCnVL9QfhK+kHOePdBJNz0Qfh08kFJQ/BBGkfuQWiA7EE17+pBgZPpQUpt6EGRfOdBVsHmQZw75kFe6+VBn9DlQV/r5UGbO+ZBV8HmQZB850FKbehBf5PpQTXv6kFpgOxBGEfuQUhD8EH4dPJBJNz0Qc5490H4SvpBnlL9QeJHAEI0AQJCRdUDQhXEBUKkzQdC8/EJQgAxDELNig5CWf8QQqSOE0KuOBZCeP0YQgDdG0JI1x5CDEq1QvKrsUI2G65C3JeqQuEhp0JEuaNCCF6gQioQnUKtz5lCkJyWQtJ2k0JzXpBCdFONQtRVikKUZYdCtIKEQjStgUIkyn1CoFR4Qtz5ckLYuW1CkJRoQguKY0JDml5CO8VZQvMKVUJma1BCneZLQpB8R0JDLUNCtvg+QufeOkLZ3zZCh/syQvcxL0IlgytCEu8nQsB1JEIqFyFCVtMdQkCqGkLpmxdCUKgUQnjPEUJeEQ9CBG4MQmnlCUKNdwdCcCQFQhLsAkJzzgBCKJf9QebG+UEkLPZB4MbyQRmX70HTnOxBCdjpQb5I50Hy7uRBosriQdLb4EGAIt9BrZ7dQVhQ3EGBN9tBKFTaQU2m2UHyLdlBEuvYQbTd2EHTBdlBb2PZQYv22UEkv9pBPL3bQdLw3EHoWd5Be/jfQYrM4UEa1uNBKBXmQbSJ6EG+M+tBRxPuQU0o8UHScvRB1vL3QVio+0FXk/9B69kBQukEBEKmSgZCIqsIQl8mC0JavA1CFG0QQow4E0LEHhZCvB8ZQgg+sUJGo61C4hWqQuCVpkI8I6NC+L2fQhNmnEKOG5lCaN6VQqKukkI8jI9CNneMQo5viUJHdYZCXoiDQteogEJcrXtCyCN2QvS0cELgYGtCjCdmQvQIYUIeBVxCBhxXQq5NUkIVmk1COQFJQh+DRELCH0BCJdc7QkipN0IoljNCyp0vQijAK0JI/SdCJlUkQsLHIEIgVR1COv0ZQhbAFkKvnRNCCJYQQh+pDUL21gpCjR8IQuKCBUL3AANCy5kAQrqa/EFgN/hBgAn0QSER8EFATuxB3cDoQflo5UGRRuJBq1nfQUCi3EFVINpB6NPXQfm81UGI29NBlS/SQSK50EEteM9BtWzOQbuWzUFA9sxBRIvMQcZVzEHGVcxBRYvMQUD2zEG8ls1BtGzOQSx4z0EhudBBli/SQYnb00H4vNVB6NPXQVUg2kFBotxBqlnfQZNG4kH4aOVB3cDoQUBO7EEiEfBBgQn0QWA3+EG6mvxBypkAQvYAA0LiggVCjR8IQvfWCkIgqQ1CCJYQQq+dE0LETK1CWrWpQk4rpkKkrqJCWD+fQmvdm0LeiJhCsUGVQuMHkkJ1245CaLyLQriqiEJopoVCea+CQtGLf0Jy03lCzzV0QuyybkLISmlCY/1jQr7KXkLXsllCsrVUQkjTT0KgC0tCuF5GQovMQUIhVT1CdPg4Qoe2NEJYjzBC6YIsQjuRKEJIuiRCGP4gQqZcHULy1RlCAGoWQskYE0JU4g9CnsYMQqbFCUJu3wZC9BMEQjtjAUJ/mv1BCKT4QQ/j80GUV+9BmAHrQRrh5kEa9uJBmkDfQZXA20ERdthBCGHVQYKB0kF2189B62LNQd4jy0FOGslBPUbHQaqnxUGWPsRB/wrDQegMwkFORMFBMrHAQZZTwEF4K8BB1zjAQbR7wEEQ9MBB66HBQUOFwkEansNBcOzEQURwxkGVKchBZhjKQbQ8zEGBls5BzCXRQZbq00Hd5NZBohTaQed53UGpFOFB6uTkQanq6EHoJe1BopbxQdw89kGUGPtB5hQAQkC4AkJadgVCMk8IQspCC0IhUQ5CPnapQizipUJ4W6JCJuKeQjJ2m0KdF5hCaMaUQpKCkUIcTI5CBiOLQlAHiEL6+IRCAviBQtMIfkJiPHhCs4pyQsDzbEKNd2dCGBZiQmTPXEJuo1dCN5JSQsGbTUIIwEhCD/9DQtZYP0JazTpCn1w2QqMGMkJlyy1C5qopQielJUIouiFC5ukdQmU0GkKjmRZCnxkTQly0D0LVaQxCEDoJQgolBkLCKgNCOksAQuAM+0HMuPVBNZrwQR6x60GE/eZBaX/iQcw23kGuI9pBDUbWQeyd0kFIK89BIu7LQXrmyEFSFMZBp3fDQXsQwUHN3r5BneK8Qewbu0G4irlBBC+4QcwIt0EVGLZB21y1QR7XtEHihrRBImy0QeKGtEEe17RB2ly1QRUYtkHMCLdBBC+4QbmKuUHsG7tBneK8QczevkF6EMFBp3fDQVIUxkF75shBIu7LQUcrz0HrndJBDUbWQa4j2kHMNt5Ban/iQYT95kEesetBNprwQcy49UHgDPtBOksAQsIqA0IJJQZCEDoJQni6pUK9KaJCYqaeQmcwm0LLx5dCjmyUQrEekUI03o1CFauKQleFh0L5bIRC+mGBQrTIfEI16HZCdCJxQnR3a0Ix52VCrnFgQugWW0Lk1lVCnrFQQhanS0JQt0ZCSOJBQv4nPUJ1iDhCqAM0Qp2ZL0JQSitCwxUnQvT7IkLk/B5ClRgbQgJPF0IyoBNCHwwQQsySDEI4NAlCYvAFQkzHAkLrcf9Buor5QQjZ80HVXO5BIRbpQekE5EEyKd9B+YLaQTwS1kEA19FBQNHNQf8AykE9ZsZB+QDDQTPRv0Hq1rxBIhK6QdaCt0EKKbVBvASzQesVsUGZXK9BxditQXCKrEGacatBQY6qQWbgqUEJaKlBLCWpQcwXqUHsP6lBiZ2pQaMwqkE9+apBVferQewqrUH/k65BkzKwQaQGskEyELRBQE+2QczDuEHXbbtBX02+QWZiwUHqrMRB7izIQXDiy0Fwzc9B7u3TQetD2EFkz9xBXpDhQdWG5kHMsutBQBTxQTKr9kGid/xByDwBQn9YBEJxGaJCDoyeQgoMm0JomZdCIzSUQj7ckEK5kY1Ck1SKQs0kh0JnAoRCYe2AQnPLe0Li1nVCE/1vQgI+akKymWRCHxBfQkqhWUI2TVRC4BNPQkr1SUJz8URCXAhAQgQ6O0JqhjZCkO0xQnRvLUIZDClCe8MkQp2VIEJ/ghxCH4oYQn+sFEKc6RBCfEENQhi0CUJ0QQZCkekCQtVY/0EKFPlBuwTzQeoq7UGYhudBxRfiQXDe3EGY2tdBQAzTQWdzzkEJEMpBLOLFQczpwUHsJr5BiJm6QaRBt0E+H7RBVTKxQex6rkEA+atBk6ypQaWVp0EztKVBQQikQc2RokHYUKFBYEWgQWdvn0Hszp5B72OeQXEunkFyLp5B8GOeQezOnkFmb59BYEWgQddQoUHOkaJBQQikQTS0pUGlladBkqypQQD5q0Hseq5BVjKxQT4ftEGkQbdBiJm6QesmvkHM6cFBLOLFQQoQykFnc85BQAzTQZja10Fw3txBxhfiQZmG50HsKu1BugTzQQgU+UHWWP9BKJOeQh0Jm0JyjJdCJx2UQjq7kEKtZo1CgB+KQrLlhkJEuYNCNpqAQg4Re0JwCHVCkBpvQnBHaUIOj2NCbvFdQopuWEJmBlNCAblNQlyGSEJ2bkNCTnE+QueOOUI+xzRCVBowQiqIK0K9ECdCErQiQiRyHkL2ShpCiD4WQtdMEkLodQ5CtbkKQkQYB0KQkQNCnCUAQtGo+UHjO/NBeATtQYkC50EXNuFBJZ/bQbE91kG8EdFBRBvMQUxax0HRzsJB1Hi+QVZYukFWbbZB1beyQdE3r0FM7atBRdioQbz4pUGzTqNBJtqgQRmbnkGKkZxBeL2aQeYemUHRtZdBO4KWQSSElUGKu5RBbiiUQdHKk0GzopNBErCTQfDyk0FMa5RBJxmVQX/8lUFXFZdBrGOYQX/nmUHSoJtBoo+dQfCzn0G8DaJBCJ2kQdFhp0EZXKpB34utQSLxsEHli7RBJly4QeZhvEEjncBB3w3FQRi0yUHQj85BBqHTQbzn2EHvY95BoRXkQdD86UF9GfBBqmv2QaAnm0LtoJdCmSeUQqa7kEISXY1C3AuKQgfIhkKRkYNCe2iAQoiZekLcfHRC7XpuQryTaEJMx2JCmhVdQqp+V0J2AlJCAqFMQkxaR0JWLkJCIB09QqkmOELySjNC+IkuQr7jKUJEWCVCh+cgQoyRHEJOVhhCzzUUQhAwEEIQRQxC0HQIQk2/BEKMJAFCEEn7QYd+9EGA6e1B8onnQeVf4UFWa9tBRazVQbIi0EGezspBB7DFQe/GwEFWE7xBO5W3QZ5Ms0GAOa9B4FurQb2zp0EaQaRB8wOhQUz8nUEjKptBeY2YQU0mlkGf9JNBb/iRQb0xkEGKoI5B1kSNQZ4ejEHmLYtBrHKKQfDsiUG0nIlB9IGJQbOciUHw7IlBrHKKQeYti0GeHoxB1USNQYqgjkG9MZBBb/iRQZ/0k0FMJpZBeI2YQSMqm0FM/J1B9AOhQRpBpEG8s6dB3lurQX85r0GeTLNBOpW3QVYTvEHuxsBBBrDFQZ3OykGyItBBRKzVQVZr20HkX+FB8YnnQX7p7UHW1pdCelOUQn7dkELjdI1CpxmKQsnLhkJMi4NCLliAQt5kekIiNHRCJB5uQuYiaEJkQmJCpHxcQqLRVkJiQVFC3stLQhlxRkIUMUFCzgs8QkcBN0KAETJCeDwtQi6CKEKk4iNC2l0fQszzGkKApBZC828SQiRWDkIVVwpCxHIGQjWpAkLC9P1Bnsz2QffZ70HPHOlBJZXiQfhC3EFLJtZBGj/QQWiNykE1EcVBgcq/QUq5ukGS3bVBWDexQZ3GrEFei6hBoIWkQWC1oEGdGp1BWbWZQZOFlkFLi5NBgsaQQTY3jkFq3YtBHLmJQUzKh0H6EIZBJo2EQdE+g0H6JYJBoEKBQcaUgEFqHIBBGbN/QVqYf0GX6H9B6FGAQQTlgEGerYFBtquCQUzfg0FgSIVB8+aGQQS7iEGUxIpBoAONQSx4j0E2IpJBvwGVQcYWmEFMYZtBTuGeQdCWokHQgaZBTqKqQUv4rkHGg7NBvkS4QTY7vUEsZ8JBoMjHQZJfzUEELNNB8C3ZQV5l30FK0uVBy6CUQsggkUIkro1C4UiKQvzwhkJ2poNCUWmAQhZzekJILnRCOgRuQu70Z0JeAGJCjSZcQnxnVkIqw1BCmTlLQsbKRUKxdkBCWz07QsQeNkLuGjFC1jEsQn5jJ0LkryJCChceQvCYGUKSNRVC9uwQQhi/DEL5qwhCmrMEQvnVAEIyJvpB6tXyQSi760Hf1eRBFSbeQc2r10H+ZtFBsFfLQeB9xUGO2b9Bumq6QWUxtUGOLbBBNV+rQVrGpkH/YqJBITWeQcI8mkHgeZZBfeySQZmUj0EycoxBSoWJQeDNhkH2S4RBiP+BQTLRf0FRDnxBbLZ4QYTJdUGZR3NBqjBxQbeEb0HCQ25ByW1tQc0CbUHNAm1ByW1tQcJDbkG4hG9BqjBxQZlHc0GEyXVBbLZ4QVEOfEEy0X9BiP+BQfVLhEHgzYZBSoWJQTNyjEGZlI9BfuySQeB5lkHBPJpBITWeQf9iokFbxqZBNl+rQY0tsEFkMbVBumq6QY7Zv0HgfcVBsFfLQf5m0UHKq9dBFibeQYCFkULUCI5CiJmKQp03h0IQ44NC4puAQirEekJMa3RCLy1uQtIJaEI0AWJCVRNcQjRAVkLTh1BCMOpKQk9nRUIs/z9CxrE6QiB/NUI6ZzBCE2orQqqHJkICwCFCGBMdQu6AGEKECRRC1qwPQulqC0K7QwdCTDcDQjiL/kFW3fZB9mTvQQ4i6EGqFOFBwjzaQVia00FuLc1B//XGQRL0wEGhJ7tBrpC1QTkvsEFEA6tBzgymQdRLoUFawJxBXWqYQd5JlEHfXpBBXqmMQVopiUHU3oVBzsmCQYvUf0F2gHpBX5d1QUMZcUEkBm1BA15pQd0gZkG0TmNBiOdgQVjrXkElWl1B7jNcQbR4W0F3KFtBN0NbQfLIW0GquVxBXxVeQRDcX0G/DWJBaapkQRCyZ0G0JGtBVQJvQfJKc0GK/ndBIB19QVpTgUGiTYRBaH2HQaziikFtfY5Brk2SQW5TlkGsjppBZ/+eQaKlo0FYgahBj5KtQUTZskF4VbhBKQe+QVnuw0EGC8pBMl3QQd3k1kHzhI5CnwuLQqufh0IYQYRC4++AQhpYe0Iv63RCApluQpRhaELmRGJC+UJcQspbVkJYj1BCp91KQrRGRUKCyj9CDmk6QloiNUJj9i9CLOUqQrbuJUL8EiFCBVIcQsqrF0JQIBNCla8OQpdZCkJaHgZC3P0BQjrw+0E6GvRBtnnsQbYO5UEu2d1BKtnWQaAO0EGWeclBDBrDQfzvvEFu+7ZBXjyxQcqyq0G1XqZBIEChQQhXnEFuo5dBVCWTQbbcjkGYyYpB+OuGQdZDg0Fkon9BGCh5QckYc0F4dG1BIjtoQcpsY0FuCV9BDhFbQayDV0FFYVRB26lRQW9dT0H+e01BiQVMQRL6SkGXWUpBGSRKQZhZSkES+kpBigVMQf57TUFuXU9B3KlRQUVhVEGrg1dBDxFbQW4JX0HLbGNBIjtoQXd0bUHKGHNBGCh5QWSif0HWQ4NB9+uGQZjJikG23I5BVCWTQW+jl0EJV5xBH0ChQbVepkHKsqtBXTyxQW77tkH+77xBChrDQZZ5yUGgDtBBJp+LQiopiEKNwIRCUmWBQuoufELurXVCskdvQjb8aEJ4y2JCerVcQjy6VkK82VBC+hNLQvloRUK22D9CNGM6QnAINUJryC9CJKMqQp6YJULWqCBCzdMbQoUZF0L6eRJCMPUNQiWLCULWOwVCSgcBQvba+UHX3PFBNxTqQRSB4kFyI9tBSvvTQaUIzUF8S8ZB0cO/QaZxuUH2VLNByG2tQRe8p0HjP6JBLvmcQfjnl0FADJNBBWaOQUr1iUEMuoVBTbSBQRvIe0GVknRBDchtQYBoZ0Hxc2FBXupbQcjLVkEvGFJBks9NQfHxSUFOf0ZBpndDQfzaQEFOqT5BneI8QeeGO0EvljpBdBA6QbX1OUHyRTpBLAE7QWMnPEGWuD1BxrQ/QfIbQkEb7kRBQCtIQWPTS0GB5k9BnWRUQbNNWUHIoV5B2WBkQeeKakHyH3FB+R94QfqKf0F9sINB/NCHQfgmjEFzspBBbXOVQeJpmkHYlZ9BTfekQUCOqkGwWrBBoFy2QQuUvEH2AMNBYaPJQRjUiEJ0YYVCL/yBQpdIfUKNs3ZCQTlwQrXZaULolGNC2mpdQoxbV0L+ZlFCLo1LQhzORULKKUBCN6A6QmYxNUJR3S9C+6MqQmSFJUKOgSBCdpgbQh3KFkKEFhJCqX0NQo7/CEI0nARClVMAQnBL+EEyJfBBczToQTJ54EFu89hBLaPRQWSIykEeo8NBVPO8QQp5tkE+NLBB7iSqQSBLpEHNpp5B+TeZQaT+k0HM+o5BdSyKQZqThUE+MIFBwAR6QQEUckFAjmpBenNjQbHDXEHjflZBE6VQQUA2S0FoMkZBj5lBQbBrPUHPqDlB61A2QQNkM0EX4jBBKcsuQTYfLUFA3itBRwgrQUudKkFLnSpBSAgrQUDeK0E2Hy1BKcsuQRfiMEEDZDNB61A2QdCoOUGxaz1Bj5lBQWoyRkE/NktBEqVQQeR+VkGww1xBenNjQUCOakEAFHJBwAR6QT4wgUGak4VBdSyKQc76jkGk/pNB+TeZQcymnkEfS6RB7ySqQT40sEEJebZBVPO8QR6jw0HJI4ZCfbSCQiClfkIK/HdCr21xQhL6akI2oWRCGWNeQrs/WEIcN1JCPklMQh52RkK8vUBCGiA7QjedNUIUNTBCsOcqQgq1JUIjnSBC/J8bQpS9FkLr9RFCAkkNQte2CEJsPwRCgcX/QaNB90FK8+5BbNrmQQv33kEqSddBxtDPQeSNyEF6gMFBlai6QSsGtEE/ma1B1GGnQeNfoUF0k5tBgfyVQQ2bkEEXb4tBoHiGQae3gUFXWHpBX6xxQWJraUFilWFBYCpaQVkqU0FPlUxBQWtGQTCsQEEcWDtBA282QenwMUHK3S1BqDUqQYL4JkFZJiRBLb8hQf7CH0HKMR5BlAsdQVpQHEEcABxB3BocQZegHEFPkR1BBO0eQbazIEFk5SJBDoIlQbWJKEFZ/CtB+tkvQZciNEEx1jhBxfQ9QVh+Q0HocklBdNJPQf2cVkGC0l1BAnNlQYB+bUH89HVBdNZ+QXQRhEEs7YhBYf6NQRZFk0FKwZhB/HKeQSxapEHadqpBBcmwQa9Qt0HYDb5BOI6DQkQigEJfh3lC+ORyQk1dbEJh8GVCNJ5fQsZmWUIYSlNCKkhNQvtgR0KLlEFC2OI7QuZLNkKzzzBCQW4rQownJkKV+yBCXuobQufzFkIvGBJCNlcNQv2wCEKBJQRCi2n/QZW99kEXR+5BHAbmQZ763UGeJNZBHITOQRgZx0GU479Bi+O4QQQZskH6g6tBbiSlQWL6nkHRBZlBwkaTQS69jUEaaYhBg0qDQdfCfEGmW3NBbl9qQTXOYUH3p1lBtuxRQXScSkEst0NB4Tw9QZItN0FAiTFB608sQZKBJ0E3HiNB1yUfQXSYG0EOdhhBpL4VQTZyE0HGkBFBUhoQQdsOD0Fgbg5B4jgOQWBuDkHbDg9BUhoQQcaQEUE3chNBpL4VQQ52GEF0mBtB1yUfQTceI0GTgSdB7E8sQUCJMUGSLTdB4Dw9QSy3Q0F0nEpBuOxRQfenWUE1zmFBcF9qQaZbc0HawnxBhUqDQRppiEEuvY1BwUaTQdIFmUFi+p5BcCSlQfqDq0EEGbJBjeO4QWgTgUKYVXtCHp90QmcDbkJsgmdCLxxhQrPQWkL1n1RC9olOQriOSEI5rkJCeOg8QnY9N0I0rTFCsDcsQu3cJkLonCFConccQhptF0JSfRJCSqgNQgHuCEJ4TgRCWJP/QUC/9kGqIO5BirflQfCD3UHRhdVBML3NQQ4qxkFpzL5BRqS3QZyxsEF19KlBymyjQZ4anUHy/ZZBwBaRQRBli0Hc6IVBJ6KAQeAhd0Fwam1B/h1kQYU8W0EMxlJBjbpKQQoaQ0GI5DtB/hk1QXO6LkHjxShBUDwjQbodHkEgahlBhCEVQeRDEUFA0Q1BmMkKQe4sCEFA+wVBjjQEQdrYAkEi6AFBZmIBQaZHAUHklwFBHlMCQVR5A0GICgVBuAYHQeNtCUEMQAxBMn0PQVQlE0FzOBdBjrYbQaafIEG58yVByrIrQdjcMUHjcThB6nE/Qe7cRkHrsk5B6PNWQeKfX0HYtmhByjhyQbolfEHRPoNBRaCIQTg3jkGpA5RBmAWaQQU9oEHvqaZBWUytQUEktEGtZn1CJJx2Qlrsb0JTV2lCCN1iQnt9XEKuOFZCoA5QQlH/SULCCkRC8zA+QuJxOEKQzTJC/UMtQinVJ0IWgSJCwUcdQiopGEJTJRNCOzwOQuNtCUJJugRCcCEAQqdG90Hwf+5BuO7lQfiS3UG+bNVB/nvNQb3AxUH6Or5Bteq2QfLPr0Gn6qhB4DqiQZTAm0HIe5VBe2yPQamSiUFY7oNBCv98QV6MckGwhGhB/udeQUu2VUGR70xB1pNEQRejPEFUHTVBkAIuQcZSJ0H6DSFBKTQbQVbFFUF+wRBBpCgMQcf6B0HmNwRBAeAAQTLm+0Ba4vZAfLTyQJlc70Ct2uxAuy7rQMFY6kDBWOpAuy7rQKza7ECYXO9AfbTyQFvi9kAy5vtAAeAAQeY3BEHG+gdBpCgMQX/BEEFWxRVBKDQbQfgNIUHGUidBkAIuQVYdNUEZozxB1ZNEQZLvTEFKtlVBAOheQbGEaEFgjHJBB/98QVfug0GqkolBemyPQcl7lUGWwJtB3zqiQajqqEHwz69BCNx4Qi8YckIVb2tCveBkQiJtXkJEFFhCKNZRQsmyS0IqqkVCS7w/QizpOULLMDRCKJMuQkUQKUIhqCNCvloeQhgoGUIyEBRCChMPQqIwCkL6aAVCD7wAQsxT+EHzZO9Bm6vmQcMn3kFk2dVBiMDNQSjdxUFGL75B47a2Qf5zr0GaZqhBr46hQUfsmkFcf5RB7keOQQFGiEGOeYJBPMV5QVMCb0FnqmRBeL1aQYY7UUGSJEhBlng/QZs3N0GbYS9Bl/YnQZL2IEGIYRpBejcUQWl4DkFUJAlBPDsEQUJ6/0AGVPdAwgPwQHeJ6UAl5eNAzBbfQGse20AG/NdAma/VQCU51ECqmNNAKM7TQKDZ1EAQu9ZAenLZQN3/3EA6Y+FAjpzmQN2r7EAkkfNAZEz7QNDuAUFqogZBAMELQZFKEUEgPxdBrZ4dQTZpJEG7nitBPT8zQbhKO0E0wUNBrKJMQSDvVUGRpl9B/8hpQWVWdEHMTn9BGFmFQUhAi0H2XJFBI6+XQcw2nkH186RBnOarQeOGdEK5yW1CTydnQqefYEK7MlpCjuBTQiCpTUJyjEdCg4pBQlSjO0Lk1jVCMyUwQkCOKkINEiVCmLAfQuVpGkLvPRVCuCwQQkE2C0KIWgZCkJkBQqrm+UG3z/BBPu7nQUVC30HNy9ZBzYrOQVF/xkFRqb5Bzgi3Qcudr0FFaKhBQGihQbWdmkGtCJRBIamNQRN/h0GGioFB5pZ3QcODbEGa22FBbJ5XQTzMTUEJZURB1Gg7QZnXMkFcsSpBG/YiQdalG0GRwBRBRkYOQfc2CEGlkgJBnrL6QOwV8UA1T+hAd17gQLFD2UDk/tJAEJDNQDb3yEBUNMVAbUfCQH4wwECI775Ai4S+QIjvvkB+MMBAbEfCQFQ0xUA298hAEJDNQOT+0kCwQ9lAdl7gQDRP6EDtFfFAn7L6QKWSAkH1NghBREYOQY/AFEHXpRtBHPYiQV2xKkGY1zJB0mg7QQllREE9zE1BbJ5XQZrbYUG/g2xB5ZZ3QYSKgUEUf4dBIamNQa4IlEG2nZpBPmihQUZoqEE5Z3BCwLBpQgUVY0INlFxC0S1WQlTiT0KWsUlCl5tDQligPULYvzdCGfoxQhdPLELUviZCUUkhQozuG0KJrhZCQ4kRQrx+DEL0jgdC67kCQkT/+0EvwPJBm7bpQYLi4EHpQ9hB0NrPQTCnx0ETqb9BcuC3QVBNsEGs76hBhsehQeHUmkG1F5RBDJCNQeA9h0EyIYFBCHR2QaAQa0E+GGBB04pVQWZoS0H0sEFBgGQ4QQqDL0GPDCdBEQEfQY9gF0EKKxBBg2AJQfYAA0HPGPpAqAXvQHzI5EBJYdtAD9DSQNAUy0CIL8RAOSC+QOTmuECIg7RAJPawQLw+rkBKXaxA1FGrQFUcq0DQvKtARDOtQLJ/r0AYorJAd5q2QNBou0AiDcFAbIfHQLHXzkDu/dZAJPrfQFXM6UB+dPRAnPL/QFwjBkFnuAxBbrgTQXIjG0Fy+SJBbDorQWbmM0Fc/TxBT39GQT5sUEEqxFpBDodlQfO0cEHVTXxB2iiEQUhgikEzzZBBm2+XQYNHnkHqVKVBEH1sQkbNZUI8OF9C871YQmdeUkKZGUxCi+9FQj3gP0Kt6zlC3RE0Qs5SLkJ8rihC6CQjQhW2HUIAYhhCrCgTQhYKDkI/BglCJh0EQpud/kFpNvVBswTsQX8I40HFQdpBjLDRQdJUyUGSLsFB1T25QZSCsUHR/KlBjKyiQcaRm0GArJRBtPyNQWuCh0GePYFBoFx2QQKpakFaYF9BtoJUQQsQSkFcCEBBqms2QfY5LUE/cyRBghccQcQmFEEBoQxBO4YFQeas/UBMI/FAq2/lQASS2kBWitBAoVjHQOb8vkAjd7dAWsewQIrtqkCy6aVA1buhQPBjnkAF4ptAEjaaQBpgmUAZYJlAEzaaQATim0DwY55A1LuhQLLppUCK7apAWsewQCJ3t0Dl/L5AoFjHQFaK0EAEktpArG/lQEgj8UDirP1AO4YFQQKhDEHEJhRBhBccQT1zJEH2OS1Bq2s2QV0IQEELEEpBt4JUQVpgX0H+qGpBn1x2QZ49gUFrgodBtvyNQX6slEHGkZtBjKyiQWTIaEJKH2JC75BbQlYdVUJ6xE5CXIZIQv5iQkJgWjxCgGw2QmCZMEIA4SpCXkMlQnrAH0JWWBpC8QoVQk3YD0JnwApCP8MFQtfgAEJcMvhBidjuQTO05UFexdxBBAzUQSqIy0HQOcNB7yC7QZI9s0Gwj6tBTRekQWjUnEEBx5VBG++OQa5MiEHF34FBsFB3QdJMa0H0s19BC4ZUQSbDSUE6az9BSn41QVj8K0Fi5SJBajkaQWz4EUFuIgpBarcCQcZu90C0ROpAmPDdQHZy0kBOysdAHfi9QOb7tECp1axAZoWlQBsLn0DJZplAcJiUQBCgkECqfY1APjGLQMm6iUBOGolAzU+JQERbikC1PIxAHvSOQIGBkkDe5JZAMx6cQIEtokDIEqlACc6wQEJfuUB2xsJAowPNQMkW2EDk/+NA/L7wQA5U/kCMXwZBDgAOQY0LFkEFgh5BfWMnQfKvMEFjZzpB0IlEQTsXT0GdD1pBAHNlQWBBcUG9en1Biw+FQTaXi0FdVJJBBUeZQStvoEE3SWVCzKZeQiEfWEI4slFCDGBLQp4oRULwCz9CAAo5QtAiM0JgVi1CsKQnQr4NIkKKkRxCFjAXQmHpEUJsvQxCNqwHQr61AkILtPtBGDLyQaXl6EGuzt9BOe3WQT9BzkHFysVByom9QUl+tUFLqK1ByQemQcWcnkFAZ5dBOGeQQbKciUGlB4NBN1B5QRv8bEH8EmFB3pRVQbSBSkGO2T9BYpw1QTHKK0H+YiJBx2YZQY/VEEFQrwhBEPQAQZhH80AIfeVAdIjYQNdpzEAzIcFAiK62QNYRrUAeS6RAX1qcQJo/lUDO+o5A+ouJQB/zhEA+MIFAq4Z8QM9YeEDi1nVA6gB1QOPWdUDOWHhArIZ8QD4wgUAf84RA+ouJQM76jkCaP5VAX1qcQB5LpEDWEa1AiK62QDQhwUDYacxAcYjYQAd95UCYR/NAEPQAQVKvCEGQ1RBBxmYZQf5iIkExyitBYpw1QY7ZP0G4gUpB2pRVQfwSYUEb/GxBN1B5QagHg0GynIlBOWeQQUBnl0HFnJ5BiP9hQs1jW0LS4lRCmHxOQhwxSEJeAEJCX+o7QiDvNUKfDjBC30gqQt+dJEKcDR9CGJgZQlQ9FEJO/Q5CCtgJQoPNBEJ3u/9BZRH2QdKc7EG+XeNBKFTaQRKA0UF34chBXHjAQcFEuEGfRrBBAX6oQd/qoEE7jZlBFWWSQW1yi0FGtYRBMlt8Qd22b0GBfWNBIa9XQcJLTEFYU0FB8MU2QYOjLEES7CJBnZ8ZQSa+EEGsRwhBLTwAQVk38UBOzOJAPDfVQCh4yEAIj7xA43uxQLY+p0CD151ASEaVQAiLjUDCpYZAc5aAQDy6dkCD821AvNhmQOppYUAIp11AGpBbQB0lW0ATZlxA+1JfQNTrY0CiMGpAYCFyQBK+e0Bcg4NApv2JQOpNkUAndJlAXXCiQI5CrEC36rZA2mjCQPG8zkAG59tAFOfpQBy9+ECONARBi3UMQYIhFUF4OB5Ba7onQVqnMUFF/ztBL8JGQQ/wUUHxiF1Bz4xpQar7dUHBaoFBKw2IQRLljkF48pVBXTWdQVfrXkJMVlhCANxRQnd8S0KqN0VCnA0/Qk3+OEK9CTNC7S8tQtxwJ0KMzCFC+UIcQiTUFkIQgBFCu0YMQiYoB0JPJAJCbnb6QbzZ8EGIcudB1EDeQZ1E1UHnfcxBq+zDQfCQu0G1arNB83mrQbS+o0HxOJxBreiUQebNjUGe6IZB1ziAQRJ9c0F982ZB4NRaQT8hT0Gf2ENB9Po4QUyILkGegCRB7OMaQTayEUF+6whBxI8AQQc+8UCEMuJA9/zTQGSdxkDNE7pALGCuQIWCo0DXeplAIkmQQGbth0CkZ4BAtm9zQBa8Z0BotF1ArFhVQOKoTkALpUlAKE1GQDWhREA1oURAKE1GQAylSUDiqE5ArFhVQGi0XUAWvGdAt29zQKRngEBm7YdAIkmQQNZ6mUCFgqNALWCuQM4TukBjncZA9vzTQIMy4kAJPvFAxI8AQYDrCEE2shFB6+MaQZ2AJEFMiC5B9vo4QZ/YQ0E+IU9B39RaQXzzZkEXfXNB1jiAQaDohkHmzY1BrOiUQfE4nEGlDFxCSn5VQq4KT0LUsUhCt3NCQlhQPEK6RzZC2lkwQrmGKkJYziRCtzAfQtStGUKwRRRCS/gOQqbFCULArQRCM2H/QWKc9UEPDexBPLPiQeeO2UEQoNBBuebHQd1iv0GCFLdBpvuuQUMYp0Fkap9BAfKXQRyvkEG1oYlBzMmCQcpOeEHtdGtBFwZfQTkCU0FXaUdBdjs8QYp4MUGiICdBsjMdQb+xE0HJmgpB0O4BQapb80Cor+NAotnUQJTZxkB/r7lAZ1utQETdoUAcNZdA7GKNQLRmhEDugHhAZuBpQNLrXEAuo1FAfAZIQLwVQEDw0DlAFjg1QC5LMkA4CjFANHUxQCSMM0AETzdA1708QJ7YQ0BVn0xAABJXQJ4wY0As+3BA1jiAQBDKiEBDMZJAcG6cQJaBp0C2arNAySnAQNq+zUDlKdxA6mrrQOeB+0BuNwZB4xgPQVhlGEHJHCJBNz8sQaDMNkEIxUFBZyhNQcb2WEEjMGVBfdRxQdLjfkESL4ZBuCGNQd1JlEGCp5tBcGNZQsXbUkLZbkxCrxxGQkLlP0KTyDlCpMYzQnTfLUICEyhCUmEiQmDKHEItThdCuOwRQgSmDEIOegdC2WgCQsLk+kFRLfFBXqvnQepe3kH1R9VBfWbMQYa6w0EKRLtBDgOzQZL3qkGPIaNBD4GbQQwWlEGG4IxBf+CFQewrfkHcAXFBvkJkQajuV0GIBUxBZodAQUR0NUEYzCpB7o4gQb68FkGKVQ1BU1kEQTKQ90C6Q+dANs3XQLAsyUAgYrtAiW2uQO9OokBKBpdAoJOMQO72gkBsYHRA7n5kQGJJVkDKv0lAI+I+QG6wNUCsKi5A21AoQP4iJEAToSFAGssgQBOhIUD+IiRA3FAoQKwqLkBusDVAI+I+QMq/SUBlSVZA8H5kQGxgdEDv9oJAoJOMQEsGl0DwTqJAjm2uQB9iu0CvLMlAOM3XQLtD50A3kPdAVlkEQYlVDUG9vBZB7Y4gQRrMKkFDdDVBaodAQYgFTEGn7ldBwkJkQdsBcUHwK35BgeCFQYbgjEELFpRBD4GbQbrvVkK/blBCgwhKQgi9Q0JLjD1CTHY3Qg17MUKMmitCy9QlQsopIEKJmRpCBiQVQkDJD0I7iQpC9WMFQnBZAEJQ0/ZBPyntQau040GXddpBAWzRQemXyEFR+b9BNZC3QZhcr0F8XqdB2JWfQbgCmEEUpZBB7nyJQUeKgkE7mndB6opqQYzmXUE0rVFB1N5FQXF7OkEOgy9BoPUkQTbTGkHFGxFBUM8HQbDb/UC77uxAwdfcQLyWzUC0K79AopaxQInXpEBt7phAR9uNQBueg0DPbXRAW0tjQNnUU0BKCkZArus5QAR5L0BMsiZAhpcfQLIoGkDQZRZA4k4UQOXjE0DbJBVAwxEYQJ6qHEBq7yJAKeAqQNp8NEB+xT9AFbpMQJxaW0AWp2tAg599QPGhiEAaSpNAPcieQFkcq0BpRrhAd0bGQH8c1UCAyORAekr1QDZRA0EpaAxBHOoVQQzXH0H3LipB3/E0QcUfQEGiuEtBgLxXQVsrZEEzBXFBB0p+Qez8hUFQCo1BNU2UQZnFm0GDsVRCNzdOQqvXR0LgkkFC02g7QoNZNUL0ZC9CI4spQhLMI0LAJx5CL54YQlsvE0JG2w1C8aEIQlqDA0IK//xB2izzQSiQ6UH0KOBBP/fWQQr7zUFRNMVBGaO8QVxHtEEfIaxBYjCkQR51nEFe75RBGZ+NQVKEhkEVPn9Bgd5xQfDpZEFRYFhBuEFMQReOQEFzRTVBz2cqQSH1H0F27RVBxFAMQQ4fA0GrsPRANPnjQLkX1EAxDMVAp9a2QBR3qUB67ZxA3DmRQDRchkANqXhAo0VmQCuOVUCmgkZAEyM5QHRvLUDGZyNACgwbQEFcFEBqWA9AhQAMQJNUCkCTVApAhgAMQGpYD0BBXBRACgwbQMZnI0B0by1AFCM5QKiCRkAsjlVAoUVmQAypeEA0XIZA2zmRQHztnEAWd6lApNa2QDEMxUC3F9RANvnjQK+w9EAQHwNBwlAMQXTtFUEi9R9BzWcqQXVFNUEajkBBtkFMQVNgWEHt6WRBhN5xQRc+f0FUhIZBGJ+NQVzvlEEfdZxByahSQi01TEJR3EVCNp4/Qth6OUI5cjNCWYQtQjixJ0LX+CFCNVscQlPYFkIwcBFCyiIMQiXwBkI+2AFCMbb5QWHx70EOYuZBOgjdQeTj00EO9cpBtTvCQdy3uUF/abFBolCpQURtoUFgv5lB/0aSQRoEi0G09oNBlj16QcH4bEHvHmBBD7BTQTWsR0FUEzxBb+UwQYoiJkGbyhtBr90RQbxbCEGMif5AmDHtQKCv3ECiA81Ami2+QI4tsEB4A6NAXK+WQD4xi0AUiYBAyG1tQFt1W0DgKEtAV4g8QMGTL0AfSyRAbq4aQK69EkDieAxAB+AHQB/zBEAqsgNAJh0EQBU0BkD39glAymUPQI+AFkBIRx9A8rkpQI/YNUAgo0NAoBlTQBI8ZEB5CndAaMKFQI7VkECuvpxAxn2pQNISt0DdfcVA4r7UQN/V5EDWwvVA4sIDQVQPDUHFxhZBM+kgQZ12K0EDbzZBZ9JBQcOgTUEf2llBeH5mQc+Nc0EQhIBBuHaHQdyejkF//JVBoo+dQY7VUEKiaEpCdhZEQgvfPUJdwjdCbcAxQj3ZK0LMDCZCGlsgQijEGkL2RxVCg+YPQs2fCkLXcwVCoGIAQlXY9kHkIO1B8Z7jQXxS2kGHO9FBEFrIQRauv0GdN7dBoPauQSLrpkEkFZ9Bn3SXQZ4JkEEY1IhBEtSBQRETdkH76GhB6ClcQcfVT0Gt7ENBim44QWRbLUE/syJBD3YYQeKjDkGuPAVB7oD4QHle50D/EddAgJvHQPX6uEBnMKtA0DueQDMdkkCS1IZAzcN4QGqKZUD6/FNAehtEQO7lNUBVXClAr34eQPpMFUA4xw1AZ+0HQIm/A0CePQFApWcAQJ49AUCJvwNAZ+0HQDfHDUD5TBVArn4eQFVcKUDu5TVAfBtEQPj8U0BnimVAysN4QJDUhkA0HZJA0jueQGgwq0Dy+rhAe5vHQP4R10B6XudA74D4QK48BUHeow5BDnYYQTyzIkFlWy1Bim44Qa7sQ0HI1U9B5ClcQfzoaEESE3ZBEtSBQRjUiEGcCZBBn3SXQSEVn0HSN09CldFIQhiGQkJdVTxCXz82Qh9EMEKfYypC3p0kQtzyHkKaYhlCF+0TQlOSDkJNUglCCC0EQgFF/kF1ZfRBZLvqQdBG4UG7B9hBJf7OQQ4qxkFzi71BWiK1QbzurEGe8KRBACidQdqUlUE4N45BEw+HQWscgEGEvnJBLq9lQdkKWUF40UxBHANBQbmfNUFSpypB7BkgQXv3FUENQAxBmPMCQUEk9EBLN+NATyDTQE7fw0BCdLVAMt+nQBogm0D6No9A2COEQFXNc0Dv/mBAetxPQPhlQEBpmzJAzHwmQCMKHEBrQxNApCgMQNG5BkDv9gJAAeAAQAR1AED6tQFA4qIEQLw7CUCJgA9AR3EXQPkNIUCcVixAMks5QLzrR0A2OFhAoDBqQAHVfUCpkolAzBCVQOhkoUD8jq5ABo+8QAxly0AOEdtACJPrQPvq/EB0jAdBYg4RQVL7GkE+UyVBJxYwQQtEO0Hu3EZBx+BSQaJPX0F6KWxBTm55QRCPg0F2nIpBWd+RQbxXmUGdBaFBk89NQgdwR0I5K0FCLgE7QuDxNEJP/S5CfyMpQm5kI0IbwB1CiTYYQrfHEkKicw1CTDoIQrYbA0K+L/xBkV3yQeDA6EGsWd9B9ifWQcArzUEIZcRBzdO7QRR4s0HVUatBF2GjQdilm0ESIJRB0M+MQQq1hUGEn31B8D9wQVlLY0HEwVZBIaNKQYXvPkHhpjNBOskoQZJWHkHgThRBMrIKQXyAAUGHc/FAD7zgQJHa0EAOz8FAgJmzQPA5pkBWsJlAtPyNQBAfg0DCLnJAWMtfQOETT0BbCEBAyKgyQCj1JkB87RxAwJEUQPbhDUAf3ghAOoYFQEjaA0BI2gNAOoYFQB/eCED24Q1AwJEUQHrtHEAo9SZAyKgyQFwIQEDiE09AWMtfQL8uckAOH4NAtPyNQFawmUDwOaZAhJmzQArPwUCQ2tBAD7zgQIhz8UB8gAFBMrIKQeBOFEGOVh5BOskoQeKmM0GF7z5BJ6NKQcDBVkFZS2NB8D9wQYSffUEKtYVB0M+MQRIglEHVpZtBFmGjQdOcTEL2Q0ZC2QVAQn3iOULf2TNC/ustQt4YKEJ8YCJC2cIcQvc/F0LU1xFCcIoMQspXB0LkPwJCeIX6QarA8EFYMedBhNfdQS6z1EFXxMtB/wrDQSSHukHKOLJB6x+qQYw8okGtjppBRxaTQWTTi0H+xYRBKtx7QVaXbkF+vWFBp05VQcRKSUHnsT1BAoQyQRrBJ0EyaR1BP3wTQVD6CUFa4wBBwG7wQMXs30DGQNBAwmrBQLJqs0CfQKZAhOyZQGBujkA6xoNAFOhzQKfvYUAso1FAowJDQAwONkBpxSpAuSghQPo3GUAt8xJAUloOQGptC0B1LApAcZcKQGCuDEBBcRBAFeAVQNv6HECSwSVAPTQwQNlSPEBpHUpA7JNZQF+2akDChH1Ajv+IQLMSlEDS+59A67qsQPxPukACu8hABvzXQAMT6ED6//hAdWEFQemtDkFWZRhBxIciQS8VLUGWDThB+XBDQVk/T0GxeFtBCh1oQWAsdUFaU4FBAUaIQSduj0HJy5ZB616eQYwnpkGRn0tCZE1FQvYVP0JL+ThCXPcyQisQLUK6QydCCZIhQhb7G0LjfhZCcB0RQrzWC0LFqgZCjpkBQi5G+UHAju9BzgzmQVnA3EFjqdNB68fKQfMbwkF3pblBfWSxQf1YqUH+gqFBfuKZQXh3kkH0QYtB7kGEQcruekG1xG1BnAVhQYSxVEFhyEhBQ0o9QR03MkH0jidBylEdQZd/E0FmGApBMBwBQeoV8UBuyeBA7VLRQGeywkDW57RAQfOnQKTUm0AAjJBAVxmGQEr5eEDaa2dAXIpXQNBUSUA2yzxAj+0xQNu7KEAYNiFASFwbQGouF0B/rBRAhtYTQH+sFEBqLhdASFwbQBk2IUDbuyhAju0xQDbLPEDPVElAXIpXQNtrZ0BK+XhAVhmGQACMkECk1JtAQfOnQNjntEBossJA7FLRQG7J4EDqFfFAMBwBQWYYCkGafxNBxlEdQfOOJ0EdNzJBQ0o9QWXISEGFsVRBnAVhQbTEbUHJ7npB7kGEQfRBi0F6d5JBfOKZQf2CoUH+WKlBzddKQlCMREKSWz5ClkU4QldKMkLWaSxCFaQmQhP5IELQaBtCTvMVQouYEEKGWAtCPjMGQrgoAULgcfhB0sfuQUBT5UErFNxBlArTQXw2ykHjl8FBxy65QSz7sEEM/ahBbDShQUyhmUGlQ5JBghuLQdoohEFi13pBDMhtQbMjYUFb6lRB9htJQZe4PUEwwDJBxjIoQVwQHkHoWBRBdwwLQf8qAkEHafNAClLjQAcR1ED/pcVA7BC4QNZRq0C2aJ9AkFWUQGYYikAzsYBA8j9wQHDJYEDh/lJAROBGQJltPEDipjNAHIwsQEgdJ0BoWiNAeEMhQHzYIEByGSJAWgYlQDSfKUAB5C9AwNQ3QHBxQUAUukxAqq5ZQDNPaECvm3hADkqFQDwcj0BmxJlAh0KlQKOWsUC4wL5AxsDMQMiW20DIQutAw8T7QFuOBkFRpQ9BRCcZQTAUI0EcbC1BBC84QepcQ0HL9U5BqvlaQYBoZ0FXQnRBlsOAQX6bh0HlqI5ByuuVQStknUEMEqVBbPWsQYhFSkK7AERCrdY9QmDHN0LR0jFCAPkrQu85JkKdlSBCCgwbQjadFUIjSRBCzg8LQjfxBUJg7QBCkAj4QeFr7kGuBOVB+dLbQcHW0kEJEMpB0H7BQRMjuUHY/LBBGAypQddQoUEXy5lB0HqSQQxgi0HEeoRB9JV7QV6hbkHDF2JBKvlVQYVFSkHl/D5BPR80QZKsKUHopB9BMggWQYDWDEHIDwRBF2j3QJeG50ATe9hAikXKQPXlvEBdXLBAvKikQBTLmUBow49As5GGQO9rfEBqYG1A1wBgQDZNVECIRUpAzulBQAQ6O0AuNjZASd4yQFYyMUBXMjFASd4yQC02NkAEOjtAzulBQIpFSkA2TVRA1wBgQGpgbUDva3xAtJGGQGjDj0AVy5lAvKikQFxcsED25bxAikXKQBd72ECWhudAFWj3QMcPBEGA1gxBNQgWQeekH0GSrClBPR80QeX8PkGJRUpBKvlVQcgXYkFdoW5B85V7QcR6hEEMYItB0nqSQRbLmUHXUKFBGAypQdf8sEHB6ElCpKpDQkWHPUKpfjdCyZAxQqi9K0JHBSZCpGcgQsHkGkKdfBVCOi8QQpX8CkKt5AVChucAQjwK+EHteu5BGSHlQcP820HsDdNBk1TKQbnQwUFcgrlBgGmxQSCGqUE/2KFB3l+aQfYck0GSD4xBqjeFQX8qfUGoUHBBzOFjQfLdV0EMRUxBKxdBQUNUNkFX/CtBaw8iQXaNGEGCdg9BicoGQRgT/UAXZ+1AEJHeQAWR0EDvZsNA1RK3QLKUq0CJ7KBAXBqXQCQejkDn94VARk99QK9acEALEmVAWnVbQJyEU0DOP01A9KZIQAy6RUAWeURAE+REQAL7RkDivUpAtixQQHxHV0A1DmBA3oBqQHufdkAFNYJARvCJQICBkkCz6JtA3iWmQAQ5sUAiIr1AOuHJQEx210BY4eVAViL1QKmcAkEkEwtBnPQTQRFBHUGC+CZB7BoxQVaoO0G9oEZBIQRSQYDSXUHeC2pBMrB2QcTfgUHtnIhBlY+PQbq3lkFfFZ5Bf6ilQR9xrUE+b7VBeMFJQguKQ0JcbT1Cb2s3QkCEMULOtytCHAYmQipvIEL28hpCg5EVQs9KEELZHgtCog0GQisXAULkdvhB9fTuQYGo5UGLkdxBErDTQRkEy0GfjcJBoky6QSZBskEka6pBo8qiQaJfm0EaKpRBFSqNQYxfhkEDlX9B69VyQc+BZkG0mFpBjRpPQWsHREFCXzlBFSIvQelPJUGy6BtBfuwSQURbCkEGNQJBifP0QAFT5kB0iNhA3JPLQEB1v0CcLLRA8bmpQEIdoECJVpdAymWPQARLiEA3BoJAxy55QBL9b0BQd2hAgJ1iQKJvXkC37VtAvhdbQLbtW0Cib15Af51iQFB3aEAS/W9Axy55QDYGgkAES4hAyWWPQIhWl0BBHaBA8rmpQJwstEBAdb9A3JPLQHOI2EADU+ZAjPP0QAQ1AkFCWwpBfOwSQbToG0HoTyVBFyIvQUBfOUFqB0RBkBpPQbOYWkHRgWZB7tVyQQKVf0GLX4ZBFCqNQRsqlEGgX5tBpMqiQSRrqkEkQbJBoky6Qa7PSULwnkNC8Yg9QrSNN0I0rTFCc+crQnE8JkIurCBCqjYbQubbFULimxBCnXYLQhVsBkJOfAFCik75QfrZ70HlmuZBTpHdQTa91EGcHsxBgrXDQeSBu0HHg7NBJrurQQQopEFiypxBOqKVQZSvjkFs8odBwGqBQSgxdkHK92lBbyleQQfGUkGkzUdBOkA9Qc0dM0FfZilB6BkgQXM4F0H4wQ5BebYGQe4r/kDkwO9A1SviQLxs1UCeg8lAeHC+QEsztEAazKpA4DqiQJ9/mkBYmpNACYuNQLRRiEBY7oNA9GCAQBZTe0A1kHdARnl1QEkOdUBAT3ZAJjx5QADVfUDnDIJARwWGQKDTikDwd5BAPPKWQIBCnkC9aKZA9GSvQCQ3uUBL38NAbl3PQIix20Ce2+hArNv2QNrYAkHXrgpB1O8SQc6bG0HEsiRBtjQuQaYhOEGOeUJBdzxNQVxqWEE+A2RBHAdwQfd1fEHlp4RBT0qLQTcikkGeL5lBg3KgQebqp0HGmK9BJXy3QQOVv0FiE0pCVOlDQgTaPUJ35TdCpwsyQpVMLEJDqCZCsB4hQtyvG0LIWxZCdCIRQt4DDEIGAAdC7hYCQiuR+kH7KfFBRvjnQQ/83kFWNdZBHKTNQWFIxUEjIr1BZjG1QSR2rUFi8KVBH6CeQVaFl0ERoJBBR/CJQfx1g0FdYnpBv0NuQSOQYkF6R1dB12lMQSz3QUF+7zdBz1IuQRchJUFhWhxBpf4TQeYNDEEiiARBudr6QCl77UCN8eBA7j3VQEdgykCYWMBA5ia3QCrLrkBnRadAnZWgQM27mkD2t5VAGIqRQDQyjkBIsItAVgSKQF0uiUBdLolAVgSKQEiwi0A0Mo5AGIqRQPe3lUDOu5pAnZWgQGZFp0Aoy65A5Ca3QJpYwEBIYMpA7T3VQI7x4EAoe+1Autr6QCSIBEHmDQxBo/4TQV9aHEEYISVBzlIuQX/vN0Eu90FB1WlMQXxHV0EhkGJBwkNuQV9iekH9dYNBRvCJQQ+gkEFXhZdBHqCeQWLwpUEldq1BZDG1QSMivUFhSMVBlIxKQjVpREKWYD5CuXI4QpmfMkI25yxClEknQrHGIUKNXhxCKREXQoTeEUKexgxCdskHQg7nAkLKPvxB+eTyQaPA6UHM0eBBcxjYQZiUz0E9RsdBXi2/QQFKt0EenK9BvCOoQdngoEFw05lBivuSQSBZjEE07IVBjGl/Qa5lc0HQzGdB555cQQLcUUEXhEdBKJc9QTgVNEE//ipBSFIiQUwRGkFLOxJBSNAKQUHQA0FwdvpAUiLuQDKk4kAI/NdA2CnOQKQtxUBmB71AIbe1QNY8r0CEmKlALMqkQMzRoEBmr51A+WKbQITsmUAKTJlAiIGZQACNmkBwbpxA2iWfQD2zokCaFqdA7k+sQDxfskCERLlAxP/AQACRyUAy+NJAXjXdQINI6ECiMfRAXXgAQeVCB0FreA5B7RgWQWgkHkHkmiZBXHwvQdDIOEFBgEJBr6JMQRYwV0F8KGJB4IttQUBaeUHOyYJB+xuJQaOjj0HMYJZBdFOdQZp7pEE+2atBYWyzQf80u0EeM8NBu2bLQUQ7S0KWHkVCphw/Qnk1OUIIaTNCVrctQmMgKEIwpCJCvEIdQgf8F0IT0BJC3L4NQmTICEKs7ANCZVf+QfMK9UH+8+tBhhLjQYxm2kER8NFBFa/JQZajwUGYzblBFS2yQRLCqkGPjKNBhoycQf/BlUH0LI9BaM2IQVqjgkGVXXlBd99tQUzMYkEnJFhB+uZNQcsUREGarTpBYbExQSkgKUHr+SBBqj4ZQWXuEUEeCQtB1I4EQQn//EBmtvFAvEPnQAqn3UBT4NRAlO/MQM7UxUABkL9ALSG6QFOItUByxbFAitiuQJzBrECmgKtAqRWrQKaAq0CcwaxAitiuQHLFsUBUiLVALiG6QAKQv0DN1MVAlO/MQFLg1EALp91AvUPnQGi28UAK//xA1I4EQR4JC0Fm7hFBqz4ZQez5IEEnIClBYbExQZitOkHMFERB/OZNQSkkWEFOzGJBdN9tQZhdeUFbo4JBac2IQfYsj0H+wZVBhoycQY2Mo0ETwqpBFi2yQZjNuUGWo8FBFK/JQRLw0UFzH0xCdAlGQjQOQEK3LTpC9mc0QvO8LkKxLClCLbcjQmhcHkJkHBlCH/cTQpjsDkLQ/AlCyCcFQn5tAELqm/dBVJLuQTu+5UGhH91BhrbUQemCzEHKhMRBLLy8QQgptUFly61BQqOmQZewn0Fw85hBxmuSQZkZjEHq/IVBuhWAQRXIdEGqz2lBREJfQdYfVUFmaEtB9RtCQXo6OUECxDBBg7goQQEYIUF74hlB8xcTQWi4DEHYwwZBRjoBQV43+EAr0O5A8j7mQLKD3kBqntdAHI/RQMZVzEBq8sdAB2XEQJ2twUAtzL9AtcC+QDeLvkCyK79AJqLAQJPuwkD6EMZAWQnKQLLXzkAEfNRATvbaQJJG4kDPbOpABmnzQDc7/UCw8QNBwLAJQc7aD0HYbxZB328dQePaJEHjsCxB3PE0QdadPUHMtEZBvzZQQa4jWkGae2RBfz5vQWRsekGjAoNBkgSJQQA8j0HsqJVBU0ucQTsjo0GiMKpBh3OxQerruEHMmcBBKn3IQQeW0EFk5NhBIDlNQtEpR0JBNUFCc1s7QmKcNUIP+C9CfG4qQqj/JEKUqx9CP3IaQqpTFULTTxBCumYLQmKYBkLI5AFC3pf6Qaeb8UHu1OhBs0PgQfjn10G7wc9B+9DHQbwVwEH4j7hBtT+xQfEkqkGmP6NB34+cQZQVlkHG0I9BeMGJQafng0GuhnxBAqlxQVs2Z0GsLl1B+5FTQUlgSkGNmUFB1D05QRRNMUFRxylBi6wiQcL8G0H2txVBJd4PQVJvCkF7awVBoNIAQYZJ+UDDw/FA+hPrQCo65UBTNuBAdQjcQJGw2EClLtZAs4LUQLqs00C6rNNAs4LUQKUu1kCQsNhAdQjcQFM24EAqOuVA+hPrQMLD8UCESflAoNIAQXprBUFSbwpBJt4PQfW3FUHC/BtBi6wiQVHHKUEUTTFB1D05QYyZQUFFYEpB+pFTQawuXUFbNmdBBqlxQaqGfEGn54NBeMGJQcbQj0GTFZZB34+cQaY/o0HuJKpBtD+xQfmPuEG8FcBB/dDHQbrBz0H359dBtEPgQUuITkKsf0hCzJFCQq6+PEJNBjdCqWgxQsblK0KifSZCPTAhQpj9G0Kz5RZCjOgRQiMGDUJ6PghCkJEDQs7+/UH3D/VBnlbsQcLS40FmhNtBiWvTQSmIy0FK2sNB5WG8QQEftUGdEa5BsjmnQUqXoEFeKppB8fKTQQLxjUGQJIhBoI2CQVNYekFrAHBBfBNmQYqRXEGXelNBms5KQaCNQkGgtzpBnEwzQZVMLEGLtyVBfo0fQWzOGUFYehRBQJEPQSUTC0EHAAdB5FcDQcAaAEEskfpA08L1QHTK8UAOqO5AoFvsQC3l6kCyROpAMXrqQKiF60AYZ+1Agh7wQOWr80BBD/hAl0j9QPKrAUGWHgVBNvwIQdNEDUFt+BFBBBcXQZagHEEklSJBsPQoQTi/L0G+9DZBQJU+Qb+gRkE3F09BrvhXQSRFYUGU/GpBAh91QWysf0FoUoVBGQSLQUrrkEH4B5dBJFqdQdDho0H2nqpBnpGxQcO5uEFoF8BBiqrHQStzz0FIcddB5KTfQQAO6EH1DFBCBQtKQtUjREJnVz5CtaU4QsIOM0KPki1CGzEoQmXqIkJwvh1COq0YQsO2E0IK2w5CERoKQtdzBUJe6ABCQ+/4QUpD8EHOzOdB0ovfQVSA10FTqs9B1AnIQc+ewEFKablBRmmyQbqeq0GyCaVBJqqeQRiAmEGIi5JBdsyMQeZCh0HP7oFBdaB5QUXOb0ESZ2ZB3mpdQaHZVEFms0xBJPhEQeCnPUGYwjZBTUgwQQA5KkGtlCRBWFsfQf+MGkGjKRZBRDESQeGjDkF6gQtBEcoIQaR9BkEznARBvyUDQUgaAkHMeQFBTkQBQc15AUFIGgJBvyUDQTOcBEGkfQZBEcoIQXuBC0Hiow5BRDESQaMpFkH/jBpBWFsfQa6UJEEAOSpBTUgwQZjCNkHgpz1BJPhEQWazTEGk2VRB22pdQRFnZkFFzm9BdqB5QdHugUHmQodBd8yMQYiLkkEYgJhBJqqeQbIJpUG8nqtBQ2myQUppuUHPnsBB0wnIQVWqz0FWgNdB0ovfQc7M50FKQ/BBHMdRQt3LS0Jc60VCniVAQpx6OkJZ6jRC1XQvQhEaKkIL2iRCxrQfQkCqGkJ5uhVCb+UQQiYrDEKciwdC0gYDQow5/UHymvRB1jHsQTn+40EbANxBejfUQVqkzEG1RsVBkB6+Qeort0G/brBBFuepQemUo0E7eJ1BC5GXQVnfkUEoY4xBcByHQTwLgkEGX3pBkhJxQR4xaEGgul9BJK9XQaIOUEEc2UhBkw5CQQivO0F5ujVB5TAwQVASK0G2XiZBGRYiQXk4HkHVxRpBLr4XQYMhFUHV7xJBJCkRQW/ND0G23A5B+1YOQTw8DkF6jA5BtEcPQeptEEEd/xFBTfsTQXpiFkGiNBlByHEcQekZIEEILSRBI6soQTuULUFQ6DJBYac4QW7RPkF4ZkVBf2ZMQYPRU0GDp1tBgOhjQXaUbEFsq3VBXy1/QSeNhEEduYlBkhqPQYKxlEHzfZpB4n+gQVC3pkE7JK1BpsazQYyeukHyq8FB1+7IQTpn0EEcFdhBfPjfQVcR6EG0X/BBj+P4QcK2U0Izwk1CYuhHQlMpQkIBhTxCbvs2QpqMMUKFOCxCMP8mQprgIULE3BxCrPMXQlIlE0K5cQ5C39gJQsRaBUJo9wBCll35QdoB8UGd2+hB3urgQZwv2UHcqdFBllnKQdE+w0GLWbxBv6m1QXYvr0Gp6qhBWtuiQYoBnUE3XZdBZu6RQQ61jEE4sYdB4OKCQQqUfEFVzXNBlnFrQdmAY0EW+1tBUOBUQYYwTkG660dB6hFCQRajPEFAnzdBZQYzQYbYLkGmFStBwr0nQdnQJEHuTiJB/zcgQQyMHkEXSx1BHnUcQSEKHEEhChxBHnUcQRdLHUEMjB5B/zcgQe5OIkHZ0CRBwb0nQaYVK0GH2C5BZQYzQT+fN0EWozxB6hFCQbrrR0GGME5BT+BUQRX7W0HYgGNBl3FrQVPNc0EJlHxB3+KCQTixh0EPtYxBZe6RQTldl0GJAZ1BWduiQajqqEF1L69BwKm1QYpZvEHQPsNBllnKQdqp0UGeL9lB3urgQZ7b6EHaAfFBlF35QWj3AELn21VCB+5PQuYaSkKHYkRC5cQ+QgFCOULd2TNCeIwuQtJZKULsQSRCxkQfQl5iGkK0mhVCy+0QQqBbDEI25AdCiocDQjiL/kHcPPZB/iPuQZ9A5kG9kt5BXBrXQXbXz0EQyshBKvLBQb1Pu0HU4rRBZquuQXepqEEG3aJBE0adQaHkl0GpuJJBM8KNQToBiUG/dYRBxB+AQYj+d0GKKHBBhr1oQYC9YUF0KFtBaP5UQVc/T0FC60lBKgJFQQ+EQEHwcDxBz8g4QamLNUGAuTJBVFIwQSRWLkHxxCxBu54rQYDjKkFCkypBAq4qQb4zK0F2JCxBLIAtQdxGL0GLeDFBNRU0QdwcN0GAjzpBIG0+Qb21QkFXaUdB7YdMQYARUkEPBlhBmmVeQSIwZUGoZWxBKgZ0QagRfEESRIJBzLSGQQZbi0G/NpBB9keVQauOmkHeCqBBjrylQb6jq0FtwLFBmRK4QUSavkFuV8VBEkrMQThy00Hcz9pB/2LiQZ8r6kG+KfJBWl36QTpjAUKHsgVCijZYQlpPUkLogkxCOdFGQkc6QUITvjtCn1w2QukVMULz6StCvdgmQkfiIUKPBh1ClUUYQlufE0LgEw9CJaMKQilNBkLrEQJC2eL7QVvX80FbAexB2WDkQdj13EFRwNVBS8DOQcT1x0G4YMFBLQG7QSDXtEGQ4q5BfiOpQeuZo0HYRZ5BQCeZQSo+lEGQio9BdQyLQdnDhkG5sIJBNKZ9Qe9VdkGncG9BXPZoQQ3nYkG8Ql1BZglYQQ47U0Gx105BUt9KQe9RR0GJL0RBH3hBQbIrP0FBSj1BztM7QVbIOkHbJzpBXPI5QdsnOkFWyDpBzdM7QUJKPUGyKz9BH3hBQYgvREHvUUdBUt9KQbHXTkENO1NBZglYQbtCXUEO52JBXPZoQaZwb0HtVXZBMqZ9QbqwgkHYw4ZBdgyLQZCKj0EpPpRBQieZQdhFnkHtmaNBgCOpQY/irkEf17RBLAG7QbhgwUHD9cdBTMDOQVDA1UHW9dxB2mDkQVwB7EFc1/NB2uL7QeoRAkIoTQZCJKMKQqvGWkIq5lRCaSBPQmp1SUIn5UNCo28+Qt4UOULZ1DNCk68uQgylKUJGtSRCPuAfQvMlG0JphhZCngESQpSXDUJHSAlCuRMFQur5AEK19flBFS3yQfKZ6kFQPONBKhTcQYMh1UFcZM5Br9zHQYSKwUHWbbtBpoa1QfTUr0HAWKpBDRKlQdQAoEEeJZtB5H6WQSgOkkHs0o1BLM2JQez8hUEpYoJByPl9QTyad0GtpXFBGxxsQYX9ZkHrSWJBTgFeQa4jWkEKsVZBY6lTQbkMUUEK205BWRRNQaS4S0Hsx0pBMEJKQXAnSkGud0pB6TJLQR9ZTEFT6k1BguZPQa5NUkHXH1VB/VxYQR8FXEE9GGBBWJZkQXB/aUGF025BlpJ0QaS8ekHWqIBB2iiEQVzeh0FcyYtB2umPQdc/lEFQy5hBSoydQcGCokG3rqdBLBCtQR6nskGNc7hBfXW+QeqsxEHVGctBQLzRQSiU2EGMod9BceTmQdRc7kG2CvZBFu79QXoDA0KnKgdClGwLQkHJD0JKjF1CerJXQmjzUUIYT0xChsVGQrFWQUKdAjxCR8k2QrGqMULapixCw70nQmvvIkLQOx5C9qIZQtokFUKAwRBC43gMQgVLCELmNwRChj8AQszD+EEIPvFBxu3pQf/S4kG47dtB8D3VQaPDzkHYfshBiW/CQbiVvEFm8bZBkoKxQT9JrEFmRadBDneiQTTenUHYeplB+0yVQZpUkUG6kY1BVwSKQXKshkELioNBJJ2AQXTLe0Gdx3ZBwi5yQeQAbkEDPmpBH+ZmQTf5Y0FLd2FBXGBfQWq0XUF1c1xBe51bQX4yW0F+MltBe51bQXVzXEFqtF1BXWBfQUt3YUE3+WNBH+ZmQQM+akHlAG5Bwi5yQZ3HdkF0y3tBJJ2AQQyKg0FyrIZBVgSKQbmRjUGaVJFB+0yVQdl6mUE13p1BDneiQWZFp0E+SaxBlIKxQWjxtkG6lbxBiG/CQdd+yEGkw85B7z3VQbjt20EC0+JBxO3pQQk+8UHMw/hBhz8AQuY3BEIFSwhC4ngMQn7BEELcJBVCaIdgQke0WkLl+1RCRV5PQmLbSUI+c0RC2SU/QjPzOUJM2zRCJt4vQr/7KkIWNCZCK4chQgH1HEKVfRhC6iAUQv3eD0LOtwtCX6sHQrC5A0J+xf9BGk34QTgK8UHQ/OlB6STjQYGC3EGTFdZBJ97PQTjcyUHHD8RB1Hi+QWAXuUFs67NB8vSuQfszqkGAqKVBhFKhQQYynUEFR5lBhJGVQYARkkH7xo5B9LGLQWzSiEFiKIZB1rODQch0gUFy1n5BUC57QSvxd0ECH3VB1rdyQaa7cEFyKm9BPARuQQJJbUHE+GxBgxNtQT+ZbUH4iW5BreVvQV+scUEM3nNBt3p2QV6CeUEC9XxBUmmAQaCNgkFs54RBt3aHQYA7ikHINY1BjmWQQdLKk0GVZZdB1jWbQZU7n0HSdqNBj+enQceNrEF/abFBtnq2QWzBu0GfPcFBUO/GQX/WzEEt89JBWUXZQQTN30EuiuZB1nztQfik9EGdAvxB4MoBQjCvBUJArglCDsgNQpr8EULoSxZC9LUaQgO4Y0KS611C4DlYQvCiUkK9Jk1CSMVHQpN+QkKdUj1CZkE4Qu9KM0I4by5CP64pQgQIJUKKfCBCzgscQtK1F0KVehNCFloPQldUC0JXaQdCFpkDQijH/0GlkfhBnpHxQRbH6kENMuRBftLdQXKo10Hjs9FB0vTLQT5rxkEqF8FBlfi7QXsPt0HjW7JByN2tQSqVqUENgqVBa6ShQUr8nUGmiZpBgUyXQdlElEGwcpFBBtaOQdlujEEsPYpB/ECIQUp6hkEX6YRBYo2DQSxngkFzdoFBObuAQX41gEGAyn9BApV/QYDKf0F+NYBBOruAQXR2gUEsZ4JBYo2DQRfphEFKeoZB/ECIQSw9ikHZboxBBtaOQbBykUHaRJRBgEyXQaaJmkFK/J1Ba6ShQQyCpUEqlalByd2tQeNbskF8D7dBlPi7QSoXwUE/a8ZB0vTLQeSz0UFwqNdBf9LdQQsy5EEWx+pBnZHxQaaR+EEox/9BFpkDQlZpB0JXVAtCFloPQpR6E0LRtRdCzgscQop8IEIeHmdCXFhhQlqtW0IaHVZCl6dQQtFMS0LMDEZChudAQv/cO0I47TZCMBgyQuddLUJcvihCkTkkQoXPH0I6gBtCrEsXQt0xE0LNMg9CfU4LQuyEB0Ia1gNCCEIAQmiR+UFA1PJBl0zsQWj65UG83d9BjPbZQdpE1EGmyM5B8YHJQbxwxEEClb9Byu66QQ5+tkHQQrJBEj2uQdBsqkEO0qZBymyjQQQ9oEG8Qp1B832aQajul0HblJVBjHCTQb2BkUFqyI9Bl0SOQUL2jEFq3YtBEvqKQThMikHc04lB/pCJQZ6DiUG8q4lBWgmKQXWcikEOZYtBJ2OMQbyWjUHS/45BZJ6QQXVykkEEfJRBEbuWQZ4vmUGo2ZtBMbmeQTfOoUG7GKVBwJioQUFOrEFAObBBv1m0Qb2vuEE3O71BLvzBQabyxkGcHsxBEYDRQQQX10F149xBYeXiQc8c6UG7ie9BJCz2QQwE/UG6CAJCK6oFQlxmCUJOPQ1C/i4RQmw7FUKaYhlCh6QdQjMBIkKeeCZCtrlqQqX6ZEJSVl9CwsxZQu5dVELZCU9Cg9BJQu2xREIWrj9C/sQ6Qqb2NUINQzFCMqosQhcsKEK6yCNCHoAfQkFSG0IiPxdCwkYTQiJpD0JApgtCHv4HQrxwBEIY/gBCZkz7QR3S9EFOje5BAX7oQTCk4kHe/9xBCpHXQbRX0kHfU81BhIXIQazsw0FPib9Bclu7QRNjt0EwoLNBzhKwQeq6rEGDmKlBm6umQTH0o0FGcqFB2SWfQeoOnUF5LZtBhoGZQRILmEEdypZBpb6VQazolEEySJRBNd2TQbenk0G3p5NBNd2TQTFIlEGs6JRBpr6VQRzKlkETC5hBh4GZQXgtm0HqDp1B2CWfQUVyoUEx9KNBnKumQYOYqUHpuqxBzhKwQTCgs0ESY7dBclu7QU+Jv0Gs7MNBhoXIQd5TzUG0V9JBCpHXQd//3EExpOJBAX7oQU6N7kEb0vRBZkz7QRj+AEK8cARCH/4HQkCmC0IhaQ9CwkYTQiI/F0JAUhtCHoAfQrrII0IWLChCMqosQs2KbkJr0mhCyTRjQuixXULESVhCX/xSQrnJTULSsUhCq7RDQkPSPkKbCjpCsl01QobLMEIbVCxCbvcnQoK1I0JUjh9C5YEbQjWQF0JEuRNCE/0PQqFbDELu1AhC+mgFQsUXAkKgwv1BMIv3QUSJ8UHSvOtB4CXmQWzE4EF2mNtBAKLWQQTh0UGLVc1Bjv/IQRDfxEES9MBBjj69QYy+uUEGdLZBAF+zQXd/sEFt1a1B4WCrQdQhqUFEGKdBM0SlQaClo0GMPKJB9gihQd4KoEFFQp9BKa+eQYxRnkFtKZ5BzTaeQat5nkEH8p5B4Z+fQTqDoEEQnKFBZ+qiQTpupEGLJ6ZBXBaoQao6qkF3lKxBwiOvQYzosUHU4rRBmRK4Qd13u0GfEr9B4eLCQaDoxkHdI8tBmZTPQdM61EGKFtlBwCfeQXVu40Gq6uhBXJzuQYuD9EE3oPpBMnkAQgi9A0KcGwdC8JQKQgMpDkLT1xFCZKEVQraFGULFhB1Ck54hQiHTJUJtIipCeIwuQkQRM0JikXJCsN9sQr5IZ0KMzGFCGWtcQmMkV0Jt+FFCNudMQr7wR0IGFUNCDlQ+QtWtOUJZIjVCnrEwQqFbLEJkIChC5v8jQif6H0ImDxxC5j4YQmSJFEKi7hBCn24NQloJCkLVvgZCEI8DQgh6AEKC//pBckD1Qd6270HKYupBM0TlQRxb4EGBp9tBaCnXQcrg0kGszc5BDPDKQelHx0FG1cNBIJjAQXmQvUFQvrpBpSG4QXm6tUHLiLNBnIyxQerFr0G2NK5BAtmsQcyyq0ETwqpB2gaqQR6BqUHfMKlBIBapQeAwqUEegalB2QaqQRLCqkHLsqtBAdmsQbc0rkHqxa9Bm4yxQcyIs0F4urVBpSG4QVC+ukF6kL1BIZjAQUXVw0HpR8dBC/DKQazNzkHK4NJBaCnXQYOn20EcW+BBNETlQcpi6kHetu9BckD1QYP/+kEJegBCD48DQta+BkJaCQpCn24NQqLuEEJliRRC5T4YQiYPHEIn+h9C5v8jQmQgKEKiWyxCnrEwQlkiNULUrTlCds12QnQicUIxkmtCsBxmQuzBYELmgVtCoFxWQhhSUUJQYkxCSI1HQgDTQkJ2Mz5Cqq45Qp5ENUJR9TBCxcAsQvamKELnpyRClsMgQgX6HEI0SxlCIbcVQs49EkI53w5CZJsLQk5yCEL2YwVCX3ACQgwv/0HZsvlBJGz0Qe1a70E2f+pB+tjlQUBo4UEDLd1BQyfZQQRX1UFAvNFB/VbOQTcny0HuLMhBJWjFQdrYwkEOf8BBv1q+QfBrvEGdsrpByS65QXTgt0Gex7ZBReS1QWs2tUEOvrRBMHu0QdBttEHwlbRBjfO0QaeGtUFBT7ZBWU23Qe+AuEEE6rlBloi7QadcvUE3Zr9BRKXBQdAZxEHaw8ZBZKPJQWq4zEHvAtBB8oLTQXM410F0I9tB8kPfQe+Z40FqJehBYubsQdrc8UHOCPdBQ2r8QZsAAULU5gNCy+cGQoADCkL3OQ1CLIsQQh/3E0LTfRdCRh8bQnbbHkJmsiJCF6QmQoawKkK01y5CohkzQkx2N0K47TtC439AQgY/e0K0mnVCIRFwQk+iakI7TmVC5BRgQk72WkJ38lVCXwlRQgY7TEJuh0dClO5CQnhwPkIcDTpCfsQ1QqKWMUKDgy1CI4spQoKtJUKh6iFCf0IeQhy1GkJ5QhdClOoTQm+tEEIJiw1CYYMKQnmWB0JQxARC5gwCQnjg/kGg3PlBSA71QWx18EESEuxBM+TnQdTr40H0KOBBkJvcQaxD2UFFIdZBXTTTQfN80EEI+81Bmq7LQayXyUE6tsdBSArGQdSTxEHeUsNBaEfCQW5xwUH00MBB92XAQXgwwEF4MMBB92XAQfTQwEFuccFBZ0fCQd9Sw0HUk8RBSQrGQTu2x0Grl8lBm67LQQf7zUHzfNBBXTTTQUYh1kGrQ9lBj5vcQfIo4EHT6+NBM+TnQRAS7EFtdfBBSA71QaDc+UF24P5B5gwCQlDEBEJ5lgdCYYMKQgiLDUJurRBClOoTQnhCF0IctRpCgEIeQqLqIUKCrSVCIospQoKDLUKhljFCfsQ1QhwNOkJ3cD5Cku5CQm2HR0IW5n9CdEh6QpDFdEJuXW9CChBqQmTdZEJ9xV9CVshaQu3lVUJFHlFCXHFMQjLfR0LFZ0NCGQs/QizJOkL/oTZCkJUyQuCjLkLvzCpCvhAnQktvI0KY6B9CpHwcQm8rGUL69BVCRNkSQkzYD0IU8gxCmiYKQuB1B0Ll3wRCqWQCQi4EAELefPtB5Cb3QWUG80FlG+9B5GXrQeDl50Fcm+RBVIbhQcym3kHC/NtBNojZQShJ10GZP9VBiGvTQfXM0UHgY9BBSjDPQTQyzkGZac1Bf9bMQeF4zEHCUMxBIV7MQQChzEFcGc1BNsfNQY6qzkFmw89BuhHRQY+V0kHgTtRBsD3WQQBi2EHLu9pBF0vdQeAP4EEoCuNB7jnmQTKf6UH0Oe1BNQrxQfQP9UEyS/lB7rv9QRQxAULwngNCiycGQuXKCEL+iAtC2GEOQnBVEULHYxRC3IwXQrLQGkJGLx5CmqghQqw8JUJ/6yhCDrUsQl+ZMEJvmDRCPbI4QsrmPEIYNkFCI6BFQu4kSkJ4xE5CUmGCQrIrf0J+r3lCDE50QlgHb0Jh22lCKspkQrPTX0L691pCAjdWQsiQUUJOBU1CkZRIQpU+REJXA0BC2uI7QhvdN0Ib8jNC2iEwQlhsLEKW0ShCklElQk7sIULJoR5CA3IbQv1cGEK0YhVCLYMSQmO+D0JZFA1CDoUKQoEQCEK1tgVCpncDQllTAUKUk/5B87X6QdIN90Etm/NBCF7wQWBW7UE3hOpBjufnQWGA5UGzTuNBg1LhQdKL30Ge+t1B6Z7cQbJ420H6h9pBwMzZQQZH2UHI9thBCNzYQcf22EEFR9lBwczZQfqH2kGyeNtB6Z7cQZ363UHSi99Bg1LhQbJO40FhgOVBjOfnQTeE6kFgVu1BCF7wQS2b80HQDfdB87X6QZOT/kFZUwFCp3cDQrW2BUKCEAhCDoUKQlkUDUJjvg9CLIMSQrViFUL9XBhCBHIbQsihHkJO7CFCklElQpXRKEJYbCxC2yEwQhryM0Ia3TdC2uI7QlgDQEKWPkRCkpRIQkwFTULHkFFCAjdWQlnqhEI4IoJC685+Qil0eUIkNHRC3Q5vQlYEakKOFGVChT9gQjyFW0Kz5VZC6GBSQtz2TUKPp0lCAXNFQjRZQUIkWj1C1HU5QkKsNUJw/TFCXmkuQgrwKkJ2kSdCoU0kQoskIUI0Fh5CnCIbQsRJGEKqixVCT+gSQrRfEELY8Q1Cu54LQlxmCUK/SAdC4EUFQr5dA0JekAFCd7v/QbGL/EFpkflBoMz2QVU99EGI4/FBOb/vQWnQ7UEYF+xBQ5PqQe5E6UEYLOhBwEjnQeSa5kGJIuZBq9/lQUrS5UFp+uVBB1jmQSPr5kG7s+dB07HoQWrl6UF9TutBEe3sQSLB7kGwyvBBvwnzQUp+9UFUKPhB3Qf7QeQc/kG0swBCtnMCQndOBEL2QwZCNlQIQjR/CkLyxAxCbiUPQqqgEUKlNhRCXucWQtiyGUIQmRxCCJofQr61IkIz7CVCaD0pQlypLEIQMDBCgtEzQrWNN0KjZDtCU1Y/QsNiQ0LwiUdC3stLQosoUEL0n1RCHzJZQgrfXUIejodCVcmEQusRgkLDz35CbpZ5Qtd3dEIAdG9C6IpqQo68ZUL2CGFCHHBcQgHyV0KkjlNCCEZPQikYS0IMBUdCrAxDQgwvP0IqbDtCCMQ3QqU2NEIBxDBCHWwtQvcuKkKRDCdC6gQkQgIYIULZRR5CcI4bQsTxGELYbxZCrAgUQkC8EUKQig9Co3MNQnN3C0IClglCUc8HQl4jBkIskgRCtxsDQgLAAUINfwBCrLH+Qb2a/EFNufpBWg35QeaW90HwVfZBeEr1QYB09EEF1PNBCWnzQYsz80GKM/NBCGnzQQXU80GBdPRBeUr1QfBV9kHmlvdBWg35QU25+kG9mvxBq7H+QQ1/AEICwAFCtxsDQiuSBEJfIwZCUc8HQgKWCUJzdwtConMNQpKKD0JAvBFCrQgUQtlvFkLF8RhCb44bQtlFHkIBGCFC6gQkQpIMJ0L4LipCHGwtQgHEMEKmNjRCCMQ3QitsO0INLz9CqwxDQgsFR0IqGEtCCEZPQqSOU0IB8ldCHHBcQvYIYUKQvGVCo0yKQjKLh0If14RCbjCCQjYuf0JQFnpCKBl1QsA2cEIWb2tCLcJmQgQwYkKYuF1C61tZQv4ZVULQ8lBCYuZMQrL0SELCHUVCkGFBQh7APUJqOTpCds02QkJ8M0LMRTBCFiotQh4pKkLlQidCbXckQrPGIUK4MB9CfLUcQv9UGkJCDxhCQ+QVQgXUE0KF3hFCxAMQQsJDDkJ/ngxC/BMLQjikCUIzTwhC7hQHQmb1BUKe8ARClgYEQk03A0LCggJC+OgBQutpAUKfBQFCEbwAQkONAEI0eQBC438AQlKhAEKA3QBCbjQBQhqmAUKFMgJCsNkCQpqbA0JDeARCqm8FQtKBBkK4rgdCXfYIQsJYCkLm1QtCym0NQmsgD0LM7RBC7dUSQszYFEJs9hZCyS4ZQuaBG0LD7x1CXnggQrgbI0LR2SVCqrIoQkKmK0KatC5CsN0xQoMhNUIYgDhCbPk7Qn+NP0JRPENC4wVHQjHqSkJB6U5CEANTQp03V0LqhltC9/BfQsB1ZEJKFWlClM9tQuYljULMZ4pCEreHQrgThUK+fYJCROp/QszzekIUGHZCGldxQuCwbEJmJWhCq7RjQq5eX0JwI1tC8gJXQjT9UkI0Ek9C80FLQnGMR0Ku8UNCq3FAQmcMPULiwTlCHJI2QhZ9M0LOgjBCRaMtQnzeKkJyNChCJ6UlQpowI0LO1iBCwZceQnJzHELjaRpCE3sYQgKnFkKw7RRCHU8TQkrLEUI0YhBC4BMPQkngDUJyxwxCWskLQgLmCkJoHQpCjW8JQnLcCEIWZAhCeQYIQpzDB0J9mwdCHY4HQnybB0KbwwdCeQYIQhZkCEJy3AhCjW8JQmgdCkIB5gpCWskLQnLHDEJJ4A1C3xMPQjRiEEJJyxFCHE8TQrDtFEIBpxZCEnsYQuNpGkJxcxxCwZceQs7WIEKbMCNCJ6UlQnI0KEJ83ipCRaMtQs2CMEIVfTNCHZI2QuLBOUJmDD1Cq3FAQq7xQ0JxjEdC80FLQjUST0Iy/VJC8gJXQnEjW0KuXl9CqrRjQmclaELgsGxCGldxQhQYdkLpGZBCJ1+NQsWxikLDEYhCIH+FQtz5gkL4gYBC6C58Qp50d0IU1XJCSlBuQj/maULxlmVCZGJhQpVIXUKHSVlCNmVVQqabUULU7E1CwFhKQm3fRkLYgENCBD1AQu0TPUKWBTpCABI3QiY5NEINezFCstcuQhdPLEI64SlCHY4nQsBVJUIgOCNCQjUhQiJNH0LAfx1CHs0bQjs1GkIXuBhCslUXQg0OFkIn4RRC/84TQpfXEkLu+hFCBDkRQtmREEJuBRBCwpMPQtU8D0KnAA9CON8OQojYDkKX7A5CZhsPQvNkD0JAyQ9CTEgQQhfiEEKhlhFC6mUSQvNPE0K7VBRCQnQVQoeuFkKMAxhCUXMZQtT9GkIXoxxCGGMeQtk9IEJaMyJCmEMkQpduJkJUtChC0RQrQg2QLUIIJjBCwdYyQjqiNUJyiDhCaok7QiGlPkKW20FCyixFQr+YSEJyH0xC5MBPQhZ9U0IIVFdCtUVbQiRSX0JTeWNCQLtnQuwXbEJYj3BCgiF1QmvOeUIVln5CqyiTQkFxkEI2x41CjSqLQkKbiEJWGYZCyqSDQp49gUKhx31Cxy55Qq2wdEJRTXBCswRsQtXWZ0K2w2NCWMtfQrjtW0LWKlhCtIJUQlH1UEKtgk1CyCpKQqTtRkI8y0NClsNAQq7WPUKEBDtCG004QnGwNUKFLjNCWMcwQut6LkI+SSxCTjIqQh82KEKuVCZC/I0kQgriIkLXUCFCY9ofQq5+HkK5PR1CghccQgoMG0JSGxpCWUUZQh+KGEKk6RdC6GMXQuz4FkKuqBZCMHMWQnFYFkJxWBZCMHMWQq6oFkLs+BZC6GMXQqTpF0IfihhCWUUZQlIbGkIKDBtCghccQrg9HUKufh5CY9ofQtdQIUIK4iJC/Y0kQq5UJkIeNihCTzIqQjxJLELsei5CWccwQoUuM0JxsDVCG004QoUEO0Kt1j1ClcNAQj3LQ0Kk7UZCyipKQqyCTUJR9VBCtIJUQtYqWEK37VtCWctfQrbDY0LV1mdCtARsQlBNcEKssHRCyC55QqLHfUKePYFCyqSDQixSlkIanpNCaPeQQhZejkIj0otCj1OJQlvihkKGfoRCESiCQvi9f0KORntC4ul2QvOnckLFgG5CVnRqQqiCZkK2q2JChu9eQhNOW0Jgx1dCbFtUQjYKUULC001CCrhKQhO3R0Lc0ERCYgVCQqhUP0KuvjxCcUM6QvTiN0I3nTVCOXIzQvphMUJ6bC9CupEtQrfRK0J2LCpC8aEoQi4yJ0Io3SVC4qIkQluDI0KUfiJCi5QhQkPFIEK4ECBC7HYfQuH3HkKUkx5CBkoeQjgbHkIpBx5C2A0eQkcvHkJ1ax5CY8IeQg80H0J6wB9CpWcgQo8pIUI3BiJCoP0iQscPJEKuPCVCU4QmQrfmJ0LbYylCvvsqQmGuLELCey5C4mMwQsJmMkJghDRCv7w2QtsPOUK4fTtCUwY+Qq2pQELHZ0NCn0BGQjc0SUKOQkxCpWtPQnqvUkINDlZCYYdZQnQbXUJGymBC15NkQih4aEI1d2xCBJFwQpPFdELfFHlC6n59QtwBgUKgUYNCxK6FQkkZiEJtlplCs+WWQlhClEJerJFCwyOPQoeojEKqOopCLtqHQhGHhUJUQYNC9giBQvC7fUKygHlCM2B1QnRacUJ2b21CNJ9pQrLpZULwTmJC7M5eQqhpW0IjH1hCXu9UQlbaUUIP4E5CiABMQr07SUKzkUZCaQJEQtyNQUIPND9CAfU8QrPQOkIjxzhCVNg2QkQENULxSjNCXqwxQoooMEJ2vy5CIXEtQos9LEK0JCtCnCYqQkNDKUKqeihCz8wnQrM5J0JXwSZCu2MmQt0gJkK++CVCX+slQr74JULcICZCumMmQljBJkK0OSdCz8wnQql6KEJDQylCmyYqQrMkK0KLPSxCIXEtQna/LkKKKDBCXqwxQvBKM0JDBDVCVNg2QiTHOEK00DpCAfU8QhA0P0LcjUFCaAJEQrSRRkK+O0lChwBMQg/gTkJW2lFCXe9UQiQfWEKqaVtC7M5eQvBOYkKy6WVCNJ9pQnVvbUJ2WnFCM2B1QrKAeULwu31C9giBQlRBg0ISh4VCLtqHQqo6ikKHqIxCbPWcQgpImkIIqJdCZhWVQiKQkkI+GJBCua2NQpVQi0LQAIlCar6GQmWJhEK+YYJCd0eAQiB1fEIQdnhCwpF0QjDIcEJeGW1CTIVpQvgLZkJjrWJCjmlfQnhAXEIgMllCiT5WQrFlU0KWp1BCPQROQqJ7S0LFDUlCqLpGQkqCREKsZEJCzGFAQqx5PkJKrDxCqPk6QsZhOUKh5DdCPYI2Qpc6NUKxDTRCivsyQiIEMkJ5JzFCkGUwQmW+L0L5MS9CTcAuQmBpLkIxLS5CwgsuQhMFLkIiGS5C8EcuQn6RLkLL9S5C13QvQqIOMEIswzBCdpIxQn58MkJGgTNCzaA0QhPbNUIXMDdC2584Ql8qOkKhzztCpI89QmRqP0LkX0FCJHBDQiGbRULg4EdCXEFKQpi8TEKTUk9CTQNSQsXOVEL9tFdC9LVaQqvRXUIiCGFCVllkQknFZ0L9S2tCcO1uQqGpckKSgHZCQ3J6Qq9+fkLvUoFC5nODQjyihULx3YdCByeKQnt9jEJQ4Y5ChFKRQipvoEIgxZ1CdSibQiqZmEI/F5ZCs6KTQoY7kUK64Y5CTJWMQj5WikKRJIhCQwCGQlPpg0LE34FCKMd/Qorpe0KnJnhChn50QiPxcEJ+fm1CmiZqQnTpZkIOx2NCZr9gQn/SXUJXAFtC7EhYQkKsVUJXKlNCKcNQQrx2TkIORUxCIC5KQu8xSEJ/UEZCzolEQtvdQkKoTEFCNNY/Qn96PkKJOT1CUxM8QtsHO0IjFzpCKkE5QvGFOEJ15TdCuV83Qr30NkKApDZCAW82QkJUNkJDVDZCAW82Qn+kNkK99DZCuV83QnXlN0LwhThCKkE5QiMXOkLbBztCUxM8Qok5PUJ/ej5CNNY/QqhMQULb3UJCzYlEQoBQRkLvMUhCHy5KQg9FTEK8dk5CKsNQQlYqU0JCrFVC7EhYQlYAW0J/0l1CZr9gQg3HY0J06WZCmiZqQn5+bUIh8XBChX50QqYmeEKI6XtCKcd/QsTfgUJS6YNCQgCGQpEkiEI/VopCTJWMQrrhjkKGO5FCsqKTQj4XlkKoA6RC9lyhQqLDnkKwN5xCHbmZQuhHl0IT5JRCno2SQopEkELUCI5CftqLQoi5iULwpYdCuJ+FQuGmg0Jpu4FCoLp/Qi4ZfEJ7knhChiZ1QlLVcULcnm5CJoNrQi2CaEL2m2VCfdBiQsIfYELIiV1CjQ5bQg+uWEJSaFZCUz1UQhUtUkKUN1BC1FxOQtKcTEKQ90pCDG1JQkf9R0JDqEZC/W1FQnZOREKuSUNCpl9CQl2QQULT20BCB0JAQvvCP0KuXj9CIRU/QlLmPkJD0j5C89g+QmL6PkKPNj9CfY0/Qin/P0KVi0BCvzJBQqn0QUJS0UJCushDQuHaRELIB0ZCbU9HQtKxSEL1LkpC2cZLQnp5TULdRk9C/C5RQtwxU0J7T1VC2IdXQvbaWULSSFxCbdFeQsh0YULhMmRCugtnQlH/aUKoDW1CvjZwQpV6c0Io2XZCe1J6Qo7mfUKwyoBCeK+CQqGhhEIpoYZCD66IQlbIikL974xCAiWPQmhnkUIut5NCURSWQtZ+mEK69ppC5bKnQooPpUKPeaJC9fCfQrp1nULcB5tCYKeYQkNUlkKGDpRCKNaRQiqrj0KMjY1CTH2LQmx6iULshIdCzJyFQgvCg0Kq9IFCqDSAQgwEfUKIuXlCwol2Qrt0c0JyenBC65ptQiLWakIWLGhCzZxlQkEoY0JzzmBCZY9eQhdrXEKIYVpCt3JYQqaeVkJW5VRCwkZTQu7CUULaWVBChQtPQu7XTUIXv0xCAMFLQqfdSkINFUpCNGdJQhjUSEK7W0hCHv5HQkG7R0Iik0dCwoVHQiKTR0JBu0dCHv5HQrtbSEIY1EhCM2dJQg0VSkKn3UpCAMFLQhe/TELu101ChQtPQtpZUELuwlFCwkZTQlXlVEKmnlZCuHJYQohhWkIXa1xCZo9eQnPOYEJBKGNCzJxlQhcsaEIi1mpC65ptQnN6cEK6dHNCwYl2Qoe5eUINBH1CqTSAQqr0gUILwoNCzJyFQuyEh0JseolCTH2LQouNjUIqq49CKNaRQoYOlEJDVJZCYKeYQt0Hm0K4dZ1C9PCfQuF8q0Le3KhCO0qmQvnEo0IWTaFCkOKeQmyFnEKmNZpCQfOXQju+lUKVlpNCTnyRQmZvj0Lfb41Ct32LQu+YiUKGwYdCffeFQtM6hEKIi4JCnumAQiaqfkLPm3tCNqh4Ql7PdUJFEXNC6m1wQk/lbUJzd2tCVSRpQvfrZkJYzmRCestiQlnjYEL4FV9CVmNdQnPLW0JQTlpC6utYQkWkV0Jed1ZCN2VVQs9tVEImkVNCPM9SQhIoUkKnm1FC+ilRQg3TUELfllBCcHVQQsBuUELQglBCnrFQQiv7UEJ4X1FChN5RQk94UkLZLFNCI/xTQizmVELz6lVCegpXQsBEWELFmVlCiQlbQgyUXEJPOV5CUPlfQhLUYUKRyWNC0NllQs8EaEKLSmpCCqtsQkUmb0JAvHFC+mx0QnM4d0KrHnpCoh99QqwdgELnuIFCgmGDQnwXhULV2oZCjquIQqeJikIfdYxC+G2OQi90kELFh5JCvKiUQhLXlkLIEplC3VubQlKynUImFqBCWoeiQu4FpUKcYa9C8sSsQqY1qkK8s6dCMD+lQgPYokI2fqBCyTGeQrzym0IOwZlCwJyXQtCFlUJAfJNCEYCRQkGRj0LRr41CwNuLQg4VikK8W4hCyq+GQjcRhUIEgINCMPyBQryFgEJQOX5C54F7QjrleEJQY3ZCJPxzQravcUIIfm9CGWdtQupqa0J4iWlCx8JnQtYWZkKihWRCLg9jQnmzYUKEcmBCTExfQtVAXkIdUF1CJHpcQuq+W0JwHltCtJhaQrYtWkJ53VlC+6dZQjyNWUI8jVlC/KdZQnrdWUK2LVpCs5haQm8eW0LqvltCJHpcQh1QXULWQF5CTExfQoNyYEJ5s2FCLg9jQqKFZELVFmZCyMJnQniJaULqamtCGWdtQgh+b0K3r3FCI/xzQlFjdkI75XhC5oF7QlA5fkK8hYBCMPyBQgSAg0I3EYVCyq+GQrxbiEIOFYpCv9uLQtGvjUJBkY9CEYCRQkF8k0LRhZVCv5yXQg7BmUK88ptCyjGeQjd+oEIE2KJCMD+lQryzp0KnNapCF2GzQsTHsELQO65CPr2rQgpMqUI16KZCwJGkQqtIokL1DKBCn96dQqm9m0ISqplC2qOXQgKrlUKKv5NCcuGRQrgQkEJfTY5CZZeMQsruikKPU4lCtMWHQjhFhkIc0oRCYGyDQgMUgkIFyYBC0BZ/QlO2fEKVcHpCl0V4Qlc1dkLYP3RCFmVyQhWlcELU/25CT3VtQowFbEKGsGpCQHZpQrlWaELyUWdC6WdmQqCYZUIW5GRCS0pkQj/LY0LyZmNCZB1jQpbuYkKG2mJCNuFiQqYCY0LTPmNCwJVjQm0HZELYk2RCAztlQu38ZUKV2WZC/tBnQiXjaEILEGpCsVdrQha6bEI5N25CHM9vQr6BcUIfT3NCQTd1Qh86d0K+V3lCHZB7QjjjfUKKKIBC2GyBQoa+gkKSHYRC/4mFQsoDh0L1iohCgR+KQmzBi0K2cI1CYC2PQmn3kELSzpJCm7OUQsOllkJKpZhCMrKaQnjMnEIe9J5CJCmhQopro0JPu6VCdBioQveCqkLc+qxCH4CvQk97t0JU5bRCuFyyQn7hr0Kic61CJROrQgjAqEJKeqZC7EGkQu4WokJQ+Z9CEemdQjDmm0Kx8JlCkAiYQtAtlkJuYJRCbaCSQsvtkEKISI9CpbCNQiImjEL+qIpCOjmJQtbWh0LQgYZCKjqFQuX/g0L+0oJCeLOBQlChgEIROX9CQUp9Qi92e0LevHlCTB54QniadkJkMXVCDeNzQnivckKglnFCiZhwQjC1b0KX7G5CvD5uQqGrbUJFM21Cp9VsQsqSbEKramxCTF1sQqtqbELKkmxCqNVsQkQzbUKhq21CvD5uQpfsbkIwtW9CiJhwQqGWcUJ3r3JCDuNzQmMxdUJ4mnZCSx54Qt28eUIwdntCQEp9QhI5f0JQoYBCeLOBQv7SgkLk/4NCKjqFQtCBhkLW1odCOTmJQv6oikIiJoxCpLCNQohIj0LL7ZBCbaCSQm9glELPLZZCkAiYQrLwmUIx5ptCEOmdQlD5n0LuFqJC7EGkQkp6pkIHwKhCJBOrQqJzrUJ94a9CuFyyQlTltEJIsLtCpR25QmGYtkJ+ILRC+rWxQtVYr0IQCa1CqsaqQqSRqEL+aaZCuE+kQtBCokJIQ6BCIFGeQlhsnELvlJpC5sqYQjwOl0LyXpVCB72TQnwokkJQoZBChSePQhi7jUIMXIxCXgqLQhHGiUIjj4hClGWHQmVJhkKVOoVCJjmEQhZFg0JlXoJCFIWBQiO5gEIi9X9CvpJ+QhdLfUIxHnxCCgx7QqIUekL5N3lCD3Z4QuTOd0J6QndCzdB2Qt95dkKxPXZCQhx2QpMVdkKiKXZCcVh2Qv6hdkJKBndCV4V3QiIfeEKs03hC9aJ5Qv6MekLGkXtCTLF8QpLrfUKXQH9CLliAQnAdgUIR8IFCEdCCQnK9g0IyuIRCUcCFQtHVhkKw+IdC7iiJQotmikKJsYtC5gmNQqNvjkK+4o9COmORQhXxkkJQjJRC6zSWQuXql0I+rplC936bQhBdnUKISJ9CYEGhQphHo0IwW6VCJXynQnyqqUIy5qtCRy+uQruFsEKQ6bJCxFq1QlbZt0JLZbpCAADAQrVwvULJ7rpCPnq4QhITtkJEubNC12yxQsotr0Ic/KxCzdeqQt7AqEJQt6ZCH7ukQk/MokLe6qBCzhafQhxQnULKlptC2OqZQkVMmEISu5ZCPjeVQsrAk0K2V5JCAfyQQqytj0K2bI5CIDmNQuoSjEIS+opCmu6JQoPwiELL/4dCchyHQnlGhkLffYVCpcKEQssUhEJQdINCNOGCQnhbgkIc44FCIHiBQoMagUJGyoBCaIeAQupRgELKKYBCDA+AQqwBgEKsAYBCDA+AQsspgELqUYBCaIeAQkbKgEKDGoFCIHiBQhzjgUJ4W4JCNOGCQlB0g0LLFIRCpMKEQt99hUJ5RoZCchyHQsr/h0KD8IhCm+6JQhP6ikLpEoxCIDmNQrZsjkKrrY9CAfyQQrZXkkLKwJNCPjeVQhK7lkJETJhC2OqZQsqWm0IcUJ1CzhafQt7qoEJPzKJCILukQk+3pkLewKhCzteqQhv8rELKLa9C2GyxQkS5s0IRE7ZCPnq4QsnuukK0cL1CAADAQg==",
          "dtype": "f4",
          "shape": "100, 100"
         }
        },
        {
         "marker": {
          "color": "red",
          "size": 6,
          "symbol": "circle"
         },
         "mode": "markers+text",
         "text": [
          "P0",
          "P1",
          "P2",
          "P3",
          "P4",
          "P5",
          "P6",
          "P7",
          "P8",
          "P9",
          "P10",
          "P11",
          "P12",
          "P13",
          "P14",
          "P15",
          "P16",
          "P17",
          "P18",
          "P19",
          "P20",
          "P21",
          "P22",
          "P23",
          "P24",
          "P25",
          "P26",
          "P27",
          "P28",
          "P29",
          "P30",
          "P31",
          "P32",
          "P33",
          "P34",
          "P35",
          "P36",
          "P37",
          "P38",
          "P39",
          "P40",
          "P41",
          "P42",
          "P43",
          "P44",
          "P45",
          "P46",
          "P47",
          "P48",
          "P49",
          "P50",
          "P51",
          "P52",
          "P53",
          "P54",
          "P55",
          "P56",
          "P57",
          "P58",
          "P59",
          "P60",
          "P61",
          "P62",
          "P63",
          "P64",
          "P65",
          "P66",
          "P67",
          "P68",
          "P69",
          "P70",
          "P71",
          "P72",
          "P73",
          "P74",
          "P75",
          "P76",
          "P77",
          "P78",
          "P79",
          "P80",
          "P81",
          "P82",
          "P83",
          "P84",
          "P85",
          "P86",
          "P87",
          "P88",
          "P89",
          "P90",
          "P91",
          "P92",
          "P93",
          "P94",
          "P95",
          "P96",
          "P97",
          "P98",
          "P99",
          "P100",
          "P101",
          "P102",
          "P103",
          "P104",
          "P105",
          "P106",
          "P107",
          "P108",
          "P109",
          "P110",
          "P111",
          "P112",
          "P113",
          "P114",
          "P115",
          "P116",
          "P117",
          "P118",
          "P119",
          "P120",
          "P121",
          "P122",
          "P123",
          "P124",
          "P125",
          "P126",
          "P127",
          "P128",
          "P129",
          "P130",
          "P131",
          "P132",
          "P133",
          "P134",
          "P135",
          "P136",
          "P137",
          "P138",
          "P139",
          "P140",
          "P141",
          "P142",
          "P143",
          "P144",
          "P145",
          "P146",
          "P147",
          "P148",
          "P149",
          "P150",
          "P151",
          "P152",
          "P153",
          "P154",
          "P155",
          "P156",
          "P157",
          "P158",
          "P159",
          "P160",
          "P161",
          "P162",
          "P163",
          "P164",
          "P165",
          "P166",
          "P167",
          "P168",
          "P169",
          "P170",
          "P171",
          "P172",
          "P173",
          "P174",
          "P175",
          "P176",
          "P177",
          "P178",
          "P179",
          "P180",
          "P181",
          "P182",
          "P183",
          "P184",
          "P185",
          "P186",
          "P187",
          "P188",
          "P189",
          "P190",
          "P191",
          "P192",
          "P193",
          "P194",
          "P195",
          "P196",
          "P197",
          "P198",
          "P199",
          "P200",
          "P201",
          "P202",
          "P203",
          "P204",
          "P205",
          "P206",
          "P207",
          "P208",
          "P209",
          "P210",
          "P211",
          "P212",
          "P213",
          "P214",
          "P215",
          "P216",
          "P217",
          "P218",
          "P219",
          "P220",
          "P221",
          "P222",
          "P223",
          "P224",
          "P225",
          "P226",
          "P227",
          "P228",
          "P229",
          "P230",
          "P231",
          "P232",
          "P233",
          "P234",
          "P235",
          "P236",
          "P237",
          "P238",
          "P239",
          "P240",
          "P241",
          "P242",
          "P243",
          "P244",
          "P245",
          "P246",
          "P247",
          "P248",
          "P249",
          "P250",
          "P251",
          "P252",
          "P253",
          "P254",
          "P255",
          "P256",
          "P257",
          "P258",
          "P259",
          "P260",
          "P261",
          "P262",
          "P263",
          "P264",
          "P265",
          "P266",
          "P267",
          "P268",
          "P269",
          "P270",
          "P271",
          "P272",
          "P273",
          "P274",
          "P275",
          "P276",
          "P277",
          "P278",
          "P279",
          "P280",
          "P281",
          "P282",
          "P283",
          "P284",
          "P285",
          "P286",
          "P287",
          "P288",
          "P289",
          "P290",
          "P291",
          "P292",
          "P293",
          "P294",
          "P295",
          "P296",
          "P297",
          "P298",
          "P299",
          "P300",
          "P301",
          "P302",
          "P303",
          "P304",
          "P305",
          "P306",
          "P307",
          "P308",
          "P309",
          "P310",
          "P311",
          "P312",
          "P313",
          "P314",
          "P315",
          "P316",
          "P317",
          "P318",
          "P319",
          "P320",
          "P321",
          "P322",
          "P323",
          "P324",
          "P325",
          "P326",
          "P327",
          "P328",
          "P329",
          "P330",
          "P331",
          "P332",
          "P333",
          "P334",
          "P335",
          "P336",
          "P337",
          "P338",
          "P339",
          "P340",
          "P341",
          "P342",
          "P343",
          "P344",
          "P345",
          "P346",
          "P347",
          "P348",
          "P349",
          "P350",
          "P351",
          "P352",
          "P353",
          "P354",
          "P355",
          "P356",
          "P357",
          "P358",
          "P359",
          "P360",
          "P361",
          "P362",
          "P363",
          "P364",
          "P365",
          "P366",
          "P367",
          "P368",
          "P369",
          "P370",
          "P371",
          "P372",
          "P373",
          "P374",
          "P375",
          "P376",
          "P377",
          "P378",
          "P379",
          "P380",
          "P381",
          "P382",
          "P383",
          "P384",
          "P385",
          "P386",
          "P387",
          "P388",
          "P389",
          "P390",
          "P391",
          "P392",
          "P393",
          "P394",
          "P395",
          "P396",
          "P397",
          "P398",
          "P399",
          "P400",
          "P401",
          "P402",
          "P403",
          "P404",
          "P405",
          "P406",
          "P407",
          "P408",
          "P409",
          "P410",
          "P411",
          "P412",
          "P413",
          "P414",
          "P415",
          "P416",
          "P417",
          "P418",
          "P419",
          "P420",
          "P421",
          "P422",
          "P423",
          "P424",
          "P425",
          "P426",
          "P427",
          "P428",
          "P429",
          "P430",
          "P431",
          "P432",
          "P433",
          "P434",
          "P435",
          "P436",
          "P437",
          "P438",
          "P439",
          "P440",
          "P441",
          "P442",
          "P443",
          "P444",
          "P445",
          "P446",
          "P447",
          "P448",
          "P449",
          "P450",
          "P451",
          "P452",
          "P453",
          "P454",
          "P455",
          "P456",
          "P457",
          "P458",
          "P459",
          "P460",
          "P461",
          "P462",
          "P463",
          "P464",
          "P465",
          "P466",
          "P467",
          "P468",
          "P469",
          "P470",
          "P471",
          "P472",
          "P473",
          "P474",
          "P475",
          "P476",
          "P477",
          "P478",
          "P479",
          "P480",
          "P481",
          "P482",
          "P483",
          "P484",
          "P485",
          "P486",
          "P487",
          "P488",
          "P489",
          "P490",
          "P491",
          "P492",
          "P493",
          "P494",
          "P495",
          "P496",
          "P497",
          "P498",
          "P499",
          "P500",
          "P501",
          "P502",
          "P503",
          "P504",
          "P505",
          "P506",
          "P507",
          "P508",
          "P509",
          "P510",
          "P511",
          "P512",
          "P513",
          "P514",
          "P515",
          "P516",
          "P517",
          "P518",
          "P519",
          "P520",
          "P521",
          "P522",
          "P523",
          "P524",
          "P525",
          "P526",
          "P527",
          "P528",
          "P529",
          "P530",
          "P531",
          "P532",
          "P533",
          "P534",
          "P535",
          "P536",
          "P537",
          "P538",
          "P539",
          "P540",
          "P541",
          "P542",
          "P543",
          "P544",
          "P545",
          "P546",
          "P547",
          "P548",
          "P549",
          "P550",
          "P551",
          "P552",
          "P553",
          "P554",
          "P555",
          "P556",
          "P557",
          "P558",
          "P559",
          "P560",
          "P561",
          "P562",
          "P563",
          "P564",
          "P565",
          "P566",
          "P567",
          "P568",
          "P569",
          "P570",
          "P571",
          "P572",
          "P573",
          "P574",
          "P575",
          "P576",
          "P577",
          "P578",
          "P579",
          "P580",
          "P581",
          "P582",
          "P583",
          "P584",
          "P585",
          "P586",
          "P587",
          "P588",
          "P589",
          "P590",
          "P591",
          "P592",
          "P593",
          "P594",
          "P595",
          "P596",
          "P597",
          "P598",
          "P599",
          "P600",
          "P601",
          "P602",
          "P603",
          "P604",
          "P605",
          "P606",
          "P607",
          "P608",
          "P609",
          "P610",
          "P611",
          "P612",
          "P613",
          "P614",
          "P615",
          "P616",
          "P617",
          "P618",
          "P619",
          "P620",
          "P621",
          "P622",
          "P623",
          "P624",
          "P625",
          "P626",
          "P627",
          "P628",
          "P629",
          "P630",
          "P631",
          "P632",
          "P633",
          "P634",
          "P635",
          "P636",
          "P637",
          "P638",
          "P639",
          "P640",
          "P641",
          "P642",
          "P643",
          "P644",
          "P645",
          "P646",
          "P647",
          "P648",
          "P649",
          "P650",
          "P651",
          "P652",
          "P653",
          "P654",
          "P655",
          "P656",
          "P657",
          "P658",
          "P659",
          "P660",
          "P661",
          "P662",
          "P663",
          "P664",
          "P665",
          "P666",
          "P667",
          "P668",
          "P669",
          "P670",
          "P671",
          "P672",
          "P673",
          "P674",
          "P675",
          "P676",
          "P677",
          "P678",
          "P679",
          "P680",
          "P681",
          "P682",
          "P683",
          "P684",
          "P685",
          "P686",
          "P687",
          "P688",
          "P689",
          "P690",
          "P691",
          "P692",
          "P693",
          "P694",
          "P695",
          "P696",
          "P697",
          "P698",
          "P699",
          "P700",
          "P701",
          "P702",
          "P703",
          "P704",
          "P705",
          "P706",
          "P707",
          "P708",
          "P709",
          "P710",
          "P711",
          "P712",
          "P713",
          "P714",
          "P715",
          "P716",
          "P717",
          "P718",
          "P719",
          "P720",
          "P721",
          "P722",
          "P723",
          "P724",
          "P725",
          "P726",
          "P727",
          "P728",
          "P729",
          "P730",
          "P731",
          "P732",
          "P733",
          "P734",
          "P735",
          "P736",
          "P737",
          "P738",
          "P739",
          "P740",
          "P741",
          "P742",
          "P743",
          "P744",
          "P745",
          "P746",
          "P747",
          "P748",
          "P749",
          "P750",
          "P751",
          "P752",
          "P753",
          "P754",
          "P755",
          "P756",
          "P757",
          "P758",
          "P759",
          "P760",
          "P761",
          "P762",
          "P763",
          "P764",
          "P765",
          "P766",
          "P767",
          "P768",
          "P769",
          "P770",
          "P771",
          "P772",
          "P773",
          "P774",
          "P775",
          "P776",
          "P777",
          "P778",
          "P779",
          "P780",
          "P781",
          "P782",
          "P783",
          "P784",
          "P785",
          "P786",
          "P787",
          "P788",
          "P789",
          "P790",
          "P791",
          "P792",
          "P793",
          "P794",
          "P795",
          "P796",
          "P797",
          "P798",
          "P799",
          "P800",
          "P801",
          "P802",
          "P803",
          "P804",
          "P805",
          "P806",
          "P807",
          "P808",
          "P809",
          "P810",
          "P811",
          "P812",
          "P813",
          "P814",
          "P815",
          "P816",
          "P817",
          "P818",
          "P819",
          "P820",
          "P821",
          "P822",
          "P823",
          "P824",
          "P825",
          "P826",
          "P827",
          "P828",
          "P829",
          "P830",
          "P831",
          "P832",
          "P833",
          "P834",
          "P835",
          "P836",
          "P837",
          "P838",
          "P839",
          "P840",
          "P841",
          "P842",
          "P843",
          "P844",
          "P845",
          "P846",
          "P847",
          "P848",
          "P849",
          "P850",
          "P851",
          "P852",
          "P853",
          "P854",
          "P855",
          "P856",
          "P857",
          "P858",
          "P859",
          "P860",
          "P861",
          "P862",
          "P863",
          "P864",
          "P865",
          "P866",
          "P867",
          "P868",
          "P869",
          "P870",
          "P871",
          "P872",
          "P873",
          "P874",
          "P875",
          "P876",
          "P877",
          "P878",
          "P879",
          "P880",
          "P881",
          "P882",
          "P883",
          "P884",
          "P885",
          "P886",
          "P887",
          "P888",
          "P889",
          "P890",
          "P891",
          "P892",
          "P893",
          "P894",
          "P895",
          "P896",
          "P897",
          "P898",
          "P899",
          "P900",
          "P901",
          "P902",
          "P903",
          "P904",
          "P905",
          "P906",
          "P907",
          "P908",
          "P909",
          "P910",
          "P911",
          "P912",
          "P913",
          "P914",
          "P915",
          "P916",
          "P917",
          "P918",
          "P919",
          "P920",
          "P921",
          "P922",
          "P923",
          "P924",
          "P925",
          "P926",
          "P927",
          "P928",
          "P929",
          "P930",
          "P931",
          "P932",
          "P933",
          "P934",
          "P935",
          "P936",
          "P937",
          "P938",
          "P939",
          "P940",
          "P941",
          "P942",
          "P943",
          "P944",
          "P945",
          "P946",
          "P947",
          "P948",
          "P949",
          "P950",
          "P951",
          "P952",
          "P953",
          "P954",
          "P955",
          "P956",
          "P957",
          "P958",
          "P959",
          "P960",
          "P961",
          "P962",
          "P963",
          "P964",
          "P965",
          "P966",
          "P967",
          "P968",
          "P969",
          "P970",
          "P971",
          "P972",
          "P973",
          "P974",
          "P975",
          "P976",
          "P977",
          "P978",
          "P979",
          "P980",
          "P981",
          "P982",
          "P983",
          "P984",
          "P985",
          "P986",
          "P987",
          "P988",
          "P989",
          "P990",
          "P991",
          "P992",
          "P993",
          "P994",
          "P995",
          "P996",
          "P997",
          "P998",
          "P999",
          "P1000"
         ],
         "textposition": "top center",
         "type": "scatter3d",
         "x": {
          "bdata": "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",
          "dtype": "f4"
         },
         "y": {
          "bdata": "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",
          "dtype": "f4"
         },
         "z": {
          "bdata": "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",
          "dtype": "f4"
         }
        }
       ],
       "layout": {
        "autosize": true,
        "scene": {
         "xaxis": {
          "title": {
           "text": "x1"
          }
         },
         "yaxis": {
          "title": {
           "text": "x2"
          }
         },
         "zaxis": {
          "title": {
           "text": "J(x)"
          }
         }
        },
        "template": {
         "data": {
          "bar": [
           {
            "error_x": {
             "color": "#2a3f5f"
            },
            "error_y": {
             "color": "#2a3f5f"
            },
            "marker": {
             "line": {
              "color": "#E5ECF6",
              "width": 0.5
             },
             "pattern": {
              "fillmode": "overlay",
              "size": 10,
              "solidity": 0.2
             }
            },
            "type": "bar"
           }
          ],
          "barpolar": [
           {
            "marker": {
             "line": {
              "color": "#E5ECF6",
              "width": 0.5
             },
             "pattern": {
              "fillmode": "overlay",
              "size": 10,
              "solidity": 0.2
             }
            },
            "type": "barpolar"
           }
          ],
          "carpet": [
           {
            "aaxis": {
             "endlinecolor": "#2a3f5f",
             "gridcolor": "white",
             "linecolor": "white",
             "minorgridcolor": "white",
             "startlinecolor": "#2a3f5f"
            },
            "baxis": {
             "endlinecolor": "#2a3f5f",
             "gridcolor": "white",
             "linecolor": "white",
             "minorgridcolor": "white",
             "startlinecolor": "#2a3f5f"
            },
            "type": "carpet"
           }
          ],
          "choropleth": [
           {
            "colorbar": {
             "outlinewidth": 0,
             "ticks": ""
            },
            "type": "choropleth"
           }
          ],
          "contour": [
           {
            "colorbar": {
             "outlinewidth": 0,
             "ticks": ""
            },
            "colorscale": [
             [
              0,
              "#0d0887"
             ],
             [
              0.1111111111111111,
              "#46039f"
             ],
             [
              0.2222222222222222,
              "#7201a8"
             ],
             [
              0.3333333333333333,
              "#9c179e"
             ],
             [
              0.4444444444444444,
              "#bd3786"
             ],
             [
              0.5555555555555556,
              "#d8576b"
             ],
             [
              0.6666666666666666,
              "#ed7953"
             ],
             [
              0.7777777777777778,
              "#fb9f3a"
             ],
             [
              0.8888888888888888,
              "#fdca26"
             ],
             [
              1,
              "#f0f921"
             ]
            ],
            "type": "contour"
           }
          ],
          "contourcarpet": [
           {
            "colorbar": {
             "outlinewidth": 0,
             "ticks": ""
            },
            "type": "contourcarpet"
           }
          ],
          "heatmap": [
           {
            "colorbar": {
             "outlinewidth": 0,
             "ticks": ""
            },
            "colorscale": [
             [
              0,
              "#0d0887"
             ],
             [
              0.1111111111111111,
              "#46039f"
             ],
             [
              0.2222222222222222,
              "#7201a8"
             ],
             [
              0.3333333333333333,
              "#9c179e"
             ],
             [
              0.4444444444444444,
              "#bd3786"
             ],
             [
              0.5555555555555556,
              "#d8576b"
             ],
             [
              0.6666666666666666,
              "#ed7953"
             ],
             [
              0.7777777777777778,
              "#fb9f3a"
             ],
             [
              0.8888888888888888,
              "#fdca26"
             ],
             [
              1,
              "#f0f921"
             ]
            ],
            "type": "heatmap"
           }
          ],
          "histogram": [
           {
            "marker": {
             "pattern": {
              "fillmode": "overlay",
              "size": 10,
              "solidity": 0.2
             }
            },
            "type": "histogram"
           }
          ],
          "histogram2d": [
           {
            "colorbar": {
             "outlinewidth": 0,
             "ticks": ""
            },
            "colorscale": [
             [
              0,
              "#0d0887"
             ],
             [
              0.1111111111111111,
              "#46039f"
             ],
             [
              0.2222222222222222,
              "#7201a8"
             ],
             [
              0.3333333333333333,
              "#9c179e"
             ],
             [
              0.4444444444444444,
              "#bd3786"
             ],
             [
              0.5555555555555556,
              "#d8576b"
             ],
             [
              0.6666666666666666,
              "#ed7953"
             ],
             [
              0.7777777777777778,
              "#fb9f3a"
             ],
             [
              0.8888888888888888,
              "#fdca26"
             ],
             [
              1,
              "#f0f921"
             ]
            ],
            "type": "histogram2d"
           }
          ],
          "histogram2dcontour": [
           {
            "colorbar": {
             "outlinewidth": 0,
             "ticks": ""
            },
            "colorscale": [
             [
              0,
              "#0d0887"
             ],
             [
              0.1111111111111111,
              "#46039f"
             ],
             [
              0.2222222222222222,
              "#7201a8"
             ],
             [
              0.3333333333333333,
              "#9c179e"
             ],
             [
              0.4444444444444444,
              "#bd3786"
             ],
             [
              0.5555555555555556,
              "#d8576b"
             ],
             [
              0.6666666666666666,
              "#ed7953"
             ],
             [
              0.7777777777777778,
              "#fb9f3a"
             ],
             [
              0.8888888888888888,
              "#fdca26"
             ],
             [
              1,
              "#f0f921"
             ]
            ],
            "type": "histogram2dcontour"
           }
          ],
          "mesh3d": [
           {
            "colorbar": {
             "outlinewidth": 0,
             "ticks": ""
            },
            "type": "mesh3d"
           }
          ],
          "parcoords": [
           {
            "line": {
             "colorbar": {
              "outlinewidth": 0,
              "ticks": ""
             }
            },
            "type": "parcoords"
           }
          ],
          "pie": [
           {
            "automargin": true,
            "type": "pie"
           }
          ],
          "scatter": [
           {
            "fillpattern": {
             "fillmode": "overlay",
             "size": 10,
             "solidity": 0.2
            },
            "type": "scatter"
           }
          ],
          "scatter3d": [
           {
            "line": {
             "colorbar": {
              "outlinewidth": 0,
              "ticks": ""
             }
            },
            "marker": {
             "colorbar": {
              "outlinewidth": 0,
              "ticks": ""
             }
            },
            "type": "scatter3d"
           }
          ],
          "scattercarpet": [
           {
            "marker": {
             "colorbar": {
              "outlinewidth": 0,
              "ticks": ""
             }
            },
            "type": "scattercarpet"
           }
          ],
          "scattergeo": [
           {
            "marker": {
             "colorbar": {
              "outlinewidth": 0,
              "ticks": ""
             }
            },
            "type": "scattergeo"
           }
          ],
          "scattergl": [
           {
            "marker": {
             "colorbar": {
              "outlinewidth": 0,
              "ticks": ""
             }
            },
            "type": "scattergl"
           }
          ],
          "scattermap": [
           {
            "marker": {
             "colorbar": {
              "outlinewidth": 0,
              "ticks": ""
             }
            },
            "type": "scattermap"
           }
          ],
          "scattermapbox": [
           {
            "marker": {
             "colorbar": {
              "outlinewidth": 0,
              "ticks": ""
             }
            },
            "type": "scattermapbox"
           }
          ],
          "scatterpolar": [
           {
            "marker": {
             "colorbar": {
              "outlinewidth": 0,
              "ticks": ""
             }
            },
            "type": "scatterpolar"
           }
          ],
          "scatterpolargl": [
           {
            "marker": {
             "colorbar": {
              "outlinewidth": 0,
              "ticks": ""
             }
            },
            "type": "scatterpolargl"
           }
          ],
          "scatterternary": [
           {
            "marker": {
             "colorbar": {
              "outlinewidth": 0,
              "ticks": ""
             }
            },
            "type": "scatterternary"
           }
          ],
          "surface": [
           {
            "colorbar": {
             "outlinewidth": 0,
             "ticks": ""
            },
            "colorscale": [
             [
              0,
              "#0d0887"
             ],
             [
              0.1111111111111111,
              "#46039f"
             ],
             [
              0.2222222222222222,
              "#7201a8"
             ],
             [
              0.3333333333333333,
              "#9c179e"
             ],
             [
              0.4444444444444444,
              "#bd3786"
             ],
             [
              0.5555555555555556,
              "#d8576b"
             ],
             [
              0.6666666666666666,
              "#ed7953"
             ],
             [
              0.7777777777777778,
              "#fb9f3a"
             ],
             [
              0.8888888888888888,
              "#fdca26"
             ],
             [
              1,
              "#f0f921"
             ]
            ],
            "type": "surface"
           }
          ],
          "table": [
           {
            "cells": {
             "fill": {
              "color": "#EBF0F8"
             },
             "line": {
              "color": "white"
             }
            },
            "header": {
             "fill": {
              "color": "#C8D4E3"
             },
             "line": {
              "color": "white"
             }
            },
            "type": "table"
           }
          ]
         },
         "layout": {
          "annotationdefaults": {
           "arrowcolor": "#2a3f5f",
           "arrowhead": 0,
           "arrowwidth": 1
          },
          "autotypenumbers": "strict",
          "coloraxis": {
           "colorbar": {
            "outlinewidth": 0,
            "ticks": ""
           }
          },
          "colorscale": {
           "diverging": [
            [
             0,
             "#8e0152"
            ],
            [
             0.1,
             "#c51b7d"
            ],
            [
             0.2,
             "#de77ae"
            ],
            [
             0.3,
             "#f1b6da"
            ],
            [
             0.4,
             "#fde0ef"
            ],
            [
             0.5,
             "#f7f7f7"
            ],
            [
             0.6,
             "#e6f5d0"
            ],
            [
             0.7,
             "#b8e186"
            ],
            [
             0.8,
             "#7fbc41"
            ],
            [
             0.9,
             "#4d9221"
            ],
            [
             1,
             "#276419"
            ]
           ],
           "sequential": [
            [
             0,
             "#0d0887"
            ],
            [
             0.1111111111111111,
             "#46039f"
            ],
            [
             0.2222222222222222,
             "#7201a8"
            ],
            [
             0.3333333333333333,
             "#9c179e"
            ],
            [
             0.4444444444444444,
             "#bd3786"
            ],
            [
             0.5555555555555556,
             "#d8576b"
            ],
            [
             0.6666666666666666,
             "#ed7953"
            ],
            [
             0.7777777777777778,
             "#fb9f3a"
            ],
            [
             0.8888888888888888,
             "#fdca26"
            ],
            [
             1,
             "#f0f921"
            ]
           ],
           "sequentialminus": [
            [
             0,
             "#0d0887"
            ],
            [
             0.1111111111111111,
             "#46039f"
            ],
            [
             0.2222222222222222,
             "#7201a8"
            ],
            [
             0.3333333333333333,
             "#9c179e"
            ],
            [
             0.4444444444444444,
             "#bd3786"
            ],
            [
             0.5555555555555556,
             "#d8576b"
            ],
            [
             0.6666666666666666,
             "#ed7953"
            ],
            [
             0.7777777777777778,
             "#fb9f3a"
            ],
            [
             0.8888888888888888,
             "#fdca26"
            ],
            [
             1,
             "#f0f921"
            ]
           ]
          },
          "colorway": [
           "#636efa",
           "#EF553B",
           "#00cc96",
           "#ab63fa",
           "#FFA15A",
           "#19d3f3",
           "#FF6692",
           "#B6E880",
           "#FF97FF",
           "#FECB52"
          ],
          "font": {
           "color": "#2a3f5f"
          },
          "geo": {
           "bgcolor": "white",
           "lakecolor": "white",
           "landcolor": "#E5ECF6",
           "showlakes": true,
           "showland": true,
           "subunitcolor": "white"
          },
          "hoverlabel": {
           "align": "left"
          },
          "hovermode": "closest",
          "mapbox": {
           "style": "light"
          },
          "paper_bgcolor": "white",
          "plot_bgcolor": "#E5ECF6",
          "polar": {
           "angularaxis": {
            "gridcolor": "white",
            "linecolor": "white",
            "ticks": ""
           },
           "bgcolor": "#E5ECF6",
           "radialaxis": {
            "gridcolor": "white",
            "linecolor": "white",
            "ticks": ""
           }
          },
          "scene": {
           "xaxis": {
            "backgroundcolor": "#E5ECF6",
            "gridcolor": "white",
            "gridwidth": 2,
            "linecolor": "white",
            "showbackground": true,
            "ticks": "",
            "zerolinecolor": "white"
           },
           "yaxis": {
            "backgroundcolor": "#E5ECF6",
            "gridcolor": "white",
            "gridwidth": 2,
            "linecolor": "white",
            "showbackground": true,
            "ticks": "",
            "zerolinecolor": "white"
           },
           "zaxis": {
            "backgroundcolor": "#E5ECF6",
            "gridcolor": "white",
            "gridwidth": 2,
            "linecolor": "white",
            "showbackground": true,
            "ticks": "",
            "zerolinecolor": "white"
           }
          },
          "shapedefaults": {
           "line": {
            "color": "#2a3f5f"
           }
          },
          "ternary": {
           "aaxis": {
            "gridcolor": "white",
            "linecolor": "white",
            "ticks": ""
           },
           "baxis": {
            "gridcolor": "white",
            "linecolor": "white",
            "ticks": ""
           },
           "bgcolor": "#E5ECF6",
           "caxis": {
            "gridcolor": "white",
            "linecolor": "white",
            "ticks": ""
           }
          },
          "title": {
           "x": 0.05
          },
          "xaxis": {
           "automargin": true,
           "gridcolor": "white",
           "linecolor": "white",
           "ticks": "",
           "title": {
            "standoff": 15
           },
           "zerolinecolor": "white",
           "zerolinewidth": 2
          },
          "yaxis": {
           "automargin": true,
           "gridcolor": "white",
           "linecolor": "white",
           "ticks": "",
           "title": {
            "standoff": 15
           },
           "zerolinecolor": "white",
           "zerolinewidth": 2
          }
         }
        },
        "title": {
         "text": "Superfície da Função de Custo + Pontos Encontrados (Taxa de Aprendizado = 0.001)"
        }
       }
      }
     },
     "metadata": {},
     "output_type": "display_data"
    }
   ],
   "source": [
    "x_values, costs = dict_of_results[learning_rates[2]]\n",
    "\n",
    "plot_function(f, x_values,costs, title=f\"Superfície da Função de Custo + Pontos Encontrados (Taxa de Aprendizado = {learning_rates[2]})\")"
   ]
  },
  {
   "cell_type": "code",
   "execution_count": 8,
   "id": "6decc617",
   "metadata": {},
   "outputs": [
    {
     "data": {
      "application/vnd.plotly.v1+json": {
       "config": {
        "plotlyServerURL": "https://plot.ly"
       },
       "data": [
        {
         "colorscale": [
          [
           0,
           "#440154"
          ],
          [
           0.1111111111111111,
           "#482878"
          ],
          [
           0.2222222222222222,
           "#3e4989"
          ],
          [
           0.3333333333333333,
           "#31688e"
          ],
          [
           0.4444444444444444,
           "#26828e"
          ],
          [
           0.5555555555555556,
           "#1f9e89"
          ],
          [
           0.6666666666666666,
           "#35b779"
          ],
          [
           0.7777777777777778,
           "#6ece58"
          ],
          [
           0.8888888888888888,
           "#b5de2b"
          ],
          [
           1,
           "#fde725"
          ]
         ],
         "opacity": 0.8,
         "type": "surface",
         "x": {
          "bdata": "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",
          "dtype": "f4",
          "shape": "100, 100"
         },
         "y": {
          "bdata": "AACAwAAAgMAAAIDAAACAwAAAgMAAAIDAAACAwAAAgMAAAIDAAACAwAAAgMAAAIDAAACAwAAAgMAAAIDAAACAwAAAgMAAAIDAAACAwAAAgMAAAIDAAACAwAAAgMAAAIDAAACAwAAAgMAAAIDAAACAwAAAgMAAAIDAAACAwAAAgMAAAIDAAACAwAAAgMAAAIDAAACAwAAAgMAAAIDAAACAwAAAgMAAAIDAAACAwAAAgMAAAIDAAACAwAAAgMAAAIDAAACAwAAAgMAAAIDAAACAwAAAgMAAAIDAAACAwAAAgMAAAIDAAACAwAAAgMAAAIDAAACAwAAAgMAAAIDAAACAwAAAgMAAAIDAAACAwAAAgMAAAIDAAACAwAAAgMAAAIDAAACAwAAAgMAAAIDAAACAwAAAgMAAAIDAAACAwAAAgMAAAIDAAACAwAAAgMAAAIDAAACAwAAAgMAAAIDAAACAwAAAgMAAAIDAAACAwAAAgMAAAIDAAACAwAAAgMAAAIDAAACAwAAAgMAAAIDAAACAwArUesAK1HrACtR6wArUesAK1HrACtR6wArUesAK1HrACtR6wArUesAK1HrACtR6wArUesAK1HrACtR6wArUesAK1HrACtR6wArUesAK1HrACtR6wArUesAK1HrACtR6wArUesAK1HrACtR6wArUesAK1HrACtR6wArUesAK1HrACtR6wArUesAK1HrACtR6wArUesAK1HrACtR6wArUesAK1HrACtR6wArUesAK1HrACtR6wArUesAK1HrACtR6wArUesAK1HrACtR6wArUesAK1HrACtR6wArUesAK1HrACtR6wArUesAK1HrACtR6wArUesAK1HrACtR6wArUesAK1HrACtR6wArUesAK1HrACtR6wArUesAK1HrACtR6wArUesAK1HrACtR6wArUesAK1HrACtR6wArUesAK1HrACtR6wArUesAK1HrACtR6wArUesAK1HrACtR6wArUesAK1HrACtR6wArUesAK1HrACtR6wArUesAK1HrACtR6wArUesAK1HrACtR6wArUesAUqHXAFKh1wBSodcAUqHXAFKh1wBSodcAUqHXAFKh1wBSodcAUqHXAFKh1wBSodcAUqHXAFKh1wBSodcAUqHXAFKh1wBSodcAUqHXAFKh1wBSodcAUqHXAFKh1wBSodcAUqHXAFKh1wBSodcAUqHXAFKh1wBSodcAUqHXAFKh1wBSodcAUqHXAFKh1wBSodcAUqHXAFKh1wBSodcAUqHXAFKh1wBSodcAUqHXAFKh1wBSodcAUqHXAFKh1wBSodcAUqHXAFKh1wBSodcAUqHXAFKh1wBSodcAUqHXAFKh1wBSodcAUqHXAFKh1wBSodcAUqHXAFKh1wBSodcAUqHXAFKh1wBSodcAUqHXAFKh1wBSodcAUqHXAFKh1wBSodcAUqHXAFKh1wBSodcAUqHXAFKh1wBSodcAUqHXAFKh1wBSodcAUqHXAFKh1wBSodcAUqHXAFKh1wBSodcAUqHXAFKh1wBSodcAUqHXAFKh1wBSodcAUqHXAFKh1wBSodcAUqHXAFKh1wBSodcAUqHXAIHxwwCB8cMAgfHDAIHxwwCB8cMAgfHDAIHxwwCB8cMAgfHDAIHxwwCB8cMAgfHDAIHxwwCB8cMAgfHDAIHxwwCB8cMAgfHDAIHxwwCB8cMAgfHDAIHxwwCB8cMAgfHDAIHxwwCB8cMAgfHDAIHxwwCB8cMAgfHDAIHxwwCB8cMAgfHDAIHxwwCB8cMAgfHDAIHxwwCB8cMAgfHDAIHxwwCB8cMAgfHDAIHxwwCB8cMAgfHDAIHxwwCB8cMAgfHDAIHxwwCB8cMAgfHDAIHxwwCB8cMAgfHDAIHxwwCB8cMAgfHDAIHxwwCB8cMAgfHDAIHxwwCB8cMAgfHDAIHxwwCB8cMAgfHDAIHxwwCB8cMAgfHDAIHxwwCB8cMAgfHDAIHxwwCB8cMAgfHDAIHxwwCB8cMAgfHDAIHxwwCB8cMAgfHDAIHxwwCB8cMAgfHDAIHxwwCB8cMAgfHDAIHxwwCB8cMAgfHDAIHxwwCB8cMAgfHDAIHxwwCB8cMAgfHDAIHxwwCB8cMAgfHDAIHxwwCpQa8AqUGvAKlBrwCpQa8AqUGvAKlBrwCpQa8AqUGvAKlBrwCpQa8AqUGvAKlBrwCpQa8AqUGvAKlBrwCpQa8AqUGvAKlBrwCpQa8AqUGvAKlBrwCpQa8AqUGvAKlBrwCpQa8AqUGvAKlBrwCpQa8AqUGvAKlBrwCpQa8AqUGvAKlBrwCpQa8AqUGvAKlBrwCpQa8AqUGvAKlBrwCpQa8AqUGvAKlBrwCpQa8AqUGvAKlBrwCpQa8AqUGvAKlBrwCpQa8AqUGvAKlBrwCpQa8AqUGvAKlBrwCpQa8AqUGvAKlBrwCpQa8AqUGvAKlBrwCpQa8AqUGvAKlBrwCpQa8AqUGvAKlBrwCpQa8AqUGvAKlBrwCpQa8AqUGvAKlBrwCpQa8AqUGvAKlBrwCpQa8AqUGvAKlBrwCpQa8AqUGvAKlBrwCpQa8AqUGvAKlBrwCpQa8AqUGvAKlBrwCpQa8AqUGvAKlBrwCpQa8AqUGvAKlBrwCpQa8AqUGvAKlBrwCpQa8AqUGvAKlBrwCpQa8A0JGbANCRmwDQkZsA0JGbANCRmwDQkZsA0JGbANCRmwDQkZsA0JGbANCRmwDQkZsA0JGbANCRmwDQkZsA0JGbANCRmwDQkZsA0JGbANCRmwDQkZsA0JGbANCRmwDQkZsA0JGbANCRmwDQkZsA0JGbANCRmwDQkZsA0JGbANCRmwDQkZsA0JGbANCRmwDQkZsA0JGbANCRmwDQkZsA0JGbANCRmwDQkZsA0JGbANCRmwDQkZsA0JGbANCRmwDQkZsA0JGbANCRmwDQkZsA0JGbANCRmwDQkZsA0JGbANCRmwDQkZsA0JGbANCRmwDQkZsA0JGbANCRmwDQkZsA0JGbANCRmwDQkZsA0JGbANCRmwDQkZsA0JGbANCRmwDQkZsA0JGbANCRmwDQkZsA0JGbANCRmwDQkZsA0JGbANCRmwDQkZsA0JGbANCRmwDQkZsA0JGbANCRmwDQkZsA0JGbANCRmwDQkZsA0JGbANCRmwDQkZsA0JGbANCRmwDQkZsA0JGbANCRmwDQkZsA0JGbAPvhgwD74YMA++GDAPvhgwD74YMA++GDAPvhgwD74YMA++GDAPvhgwD74YMA++GDAPvhgwD74YMA++GDAPvhgwD74YMA++GDAPvhgwD74YMA++GDAPvhgwD74YMA++GDAPvhgwD74YMA++GDAPvhgwD74YMA++GDAPvhgwD74YMA++GDAPvhgwD74YMA++GDAPvhgwD74YMA++GDAPvhgwD74YMA++GDAPvhgwD74YMA++GDAPvhgwD74YMA++GDAPvhgwD74YMA++GDAPvhgwD74YMA++GDAPvhgwD74YMA++GDAPvhgwD74YMA++GDAPvhgwD74YMA++GDAPvhgwD74YMA++GDAPvhgwD74YMA++GDAPvhgwD74YMA++GDAPvhgwD74YMA++GDAPvhgwD74YMA++GDAPvhgwD74YMA++GDAPvhgwD74YMA++GDAPvhgwD74YMA++GDAPvhgwD74YMA++GDAPvhgwD74YMA++GDAPvhgwD74YMA++GDAPvhgwD74YMA++GDAPvhgwEjMW8BIzFvASMxbwEjMW8BIzFvASMxbwEjMW8BIzFvASMxbwEjMW8BIzFvASMxbwEjMW8BIzFvASMxbwEjMW8BIzFvASMxbwEjMW8BIzFvASMxbwEjMW8BIzFvASMxbwEjMW8BIzFvASMxbwEjMW8BIzFvASMxbwEjMW8BIzFvASMxbwEjMW8BIzFvASMxbwEjMW8BIzFvASMxbwEjMW8BIzFvASMxbwEjMW8BIzFvASMxbwEjMW8BIzFvASMxbwEjMW8BIzFvASMxbwEjMW8BIzFvASMxbwEjMW8BIzFvASMxbwEjMW8BIzFvASMxbwEjMW8BIzFvASMxbwEjMW8BIzFvASMxbwEjMW8BIzFvASMxbwEjMW8BIzFvASMxbwEjMW8BIzFvASMxbwEjMW8BIzFvASMxbwEjMW8BIzFvASMxbwEjMW8BIzFvASMxbwEjMW8BIzFvASMxbwEjMW8BIzFvASMxbwEjMW8BIzFvASMxbwEjMW8BIzFvASMxbwEjMW8BIzFvASMxbwEjMW8BSoFbAUqBWwFKgVsBSoFbAUqBWwFKgVsBSoFbAUqBWwFKgVsBSoFbAUqBWwFKgVsBSoFbAUqBWwFKgVsBSoFbAUqBWwFKgVsBSoFbAUqBWwFKgVsBSoFbAUqBWwFKgVsBSoFbAUqBWwFKgVsBSoFbAUqBWwFKgVsBSoFbAUqBWwFKgVsBSoFbAUqBWwFKgVsBSoFbAUqBWwFKgVsBSoFbAUqBWwFKgVsBSoFbAUqBWwFKgVsBSoFbAUqBWwFKgVsBSoFbAUqBWwFKgVsBSoFbAUqBWwFKgVsBSoFbAUqBWwFKgVsBSoFbAUqBWwFKgVsBSoFbAUqBWwFKgVsBSoFbAUqBWwFKgVsBSoFbAUqBWwFKgVsBSoFbAUqBWwFKgVsBSoFbAUqBWwFKgVsBSoFbAUqBWwFKgVsBSoFbAUqBWwFKgVsBSoFbAUqBWwFKgVsBSoFbAUqBWwFKgVsBSoFbAUqBWwFKgVsBSoFbAUqBWwFKgVsBSoFbAUqBWwFKgVsBSoFbAUqBWwFKgVsBSoFbAXXRRwF10UcBddFHAXXRRwF10UcBddFHAXXRRwF10UcBddFHAXXRRwF10UcBddFHAXXRRwF10UcBddFHAXXRRwF10UcBddFHAXXRRwF10UcBddFHAXXRRwF10UcBddFHAXXRRwF10UcBddFHAXXRRwF10UcBddFHAXXRRwF10UcBddFHAXXRRwF10UcBddFHAXXRRwF10UcBddFHAXXRRwF10UcBddFHAXXRRwF10UcBddFHAXXRRwF10UcBddFHAXXRRwF10UcBddFHAXXRRwF10UcBddFHAXXRRwF10UcBddFHAXXRRwF10UcBddFHAXXRRwF10UcBddFHAXXRRwF10UcBddFHAXXRRwF10UcBddFHAXXRRwF10UcBddFHAXXRRwF10UcBddFHAXXRRwF10UcBddFHAXXRRwF10UcBddFHAXXRRwF10UcBddFHAXXRRwF10UcBddFHAXXRRwF10UcBddFHAXXRRwF10UcBddFHAXXRRwF10UcBddFHAXXRRwF10UcBddFHAXXRRwGhITMBoSEzAaEhMwGhITMBoSEzAaEhMwGhITMBoSEzAaEhMwGhITMBoSEzAaEhMwGhITMBoSEzAaEhMwGhITMBoSEzAaEhMwGhITMBoSEzAaEhMwGhITMBoSEzAaEhMwGhITMBoSEzAaEhMwGhITMBoSEzAaEhMwGhITMBoSEzAaEhMwGhITMBoSEzAaEhMwGhITMBoSEzAaEhMwGhITMBoSEzAaEhMwGhITMBoSEzAaEhMwGhITMBoSEzAaEhMwGhITMBoSEzAaEhMwGhITMBoSEzAaEhMwGhITMBoSEzAaEhMwGhITMBoSEzAaEhMwGhITMBoSEzAaEhMwGhITMBoSEzAaEhMwGhITMBoSEzAaEhMwGhITMBoSEzAaEhMwGhITMBoSEzAaEhMwGhITMBoSEzAaEhMwGhITMBoSEzAaEhMwGhITMBoSEzAaEhMwGhITMBoSEzAaEhMwGhITMBoSEzAaEhMwGhITMBoSEzAaEhMwGhITMBoSEzAaEhMwGhITMBoSEzAaEhMwGhITMByHEfAchxHwHIcR8ByHEfAchxHwHIcR8ByHEfAchxHwHIcR8ByHEfAchxHwHIcR8ByHEfAchxHwHIcR8ByHEfAchxHwHIcR8ByHEfAchxHwHIcR8ByHEfAchxHwHIcR8ByHEfAchxHwHIcR8ByHEfAchxHwHIcR8ByHEfAchxHwHIcR8ByHEfAchxHwHIcR8ByHEfAchxHwHIcR8ByHEfAchxHwHIcR8ByHEfAchxHwHIcR8ByHEfAchxHwHIcR8ByHEfAchxHwHIcR8ByHEfAchxHwHIcR8ByHEfAchxHwHIcR8ByHEfAchxHwHIcR8ByHEfAchxHwHIcR8ByHEfAchxHwHIcR8ByHEfAchxHwHIcR8ByHEfAchxHwHIcR8ByHEfAchxHwHIcR8ByHEfAchxHwHIcR8ByHEfAchxHwHIcR8ByHEfAchxHwHIcR8ByHEfAchxHwHIcR8ByHEfAchxHwHIcR8ByHEfAchxHwHIcR8ByHEfAchxHwHIcR8ByHEfAchxHwHIcR8ByHEfAfPBBwHzwQcB88EHAfPBBwHzwQcB88EHAfPBBwHzwQcB88EHAfPBBwHzwQcB88EHAfPBBwHzwQcB88EHAfPBBwHzwQcB88EHAfPBBwHzwQcB88EHAfPBBwHzwQcB88EHAfPBBwHzwQcB88EHAfPBBwHzwQcB88EHAfPBBwHzwQcB88EHAfPBBwHzwQcB88EHAfPBBwHzwQcB88EHAfPBBwHzwQcB88EHAfPBBwHzwQcB88EHAfPBBwHzwQcB88EHAfPBBwHzwQcB88EHAfPBBwHzwQcB88EHAfPBBwHzwQcB88EHAfPBBwHzwQcB88EHAfPBBwHzwQcB88EHAfPBBwHzwQcB88EHAfPBBwHzwQcB88EHAfPBBwHzwQcB88EHAfPBBwHzwQcB88EHAfPBBwHzwQcB88EHAfPBBwHzwQcB88EHAfPBBwHzwQcB88EHAfPBBwHzwQcB88EHAfPBBwHzwQcB88EHAfPBBwHzwQcB88EHAfPBBwHzwQcB88EHAfPBBwHzwQcB88EHAfPBBwIbEPMCGxDzAhsQ8wIbEPMCGxDzAhsQ8wIbEPMCGxDzAhsQ8wIbEPMCGxDzAhsQ8wIbEPMCGxDzAhsQ8wIbEPMCGxDzAhsQ8wIbEPMCGxDzAhsQ8wIbEPMCGxDzAhsQ8wIbEPMCGxDzAhsQ8wIbEPMCGxDzAhsQ8wIbEPMCGxDzAhsQ8wIbEPMCGxDzAhsQ8wIbEPMCGxDzAhsQ8wIbEPMCGxDzAhsQ8wIbEPMCGxDzAhsQ8wIbEPMCGxDzAhsQ8wIbEPMCGxDzAhsQ8wIbEPMCGxDzAhsQ8wIbEPMCGxDzAhsQ8wIbEPMCGxDzAhsQ8wIbEPMCGxDzAhsQ8wIbEPMCGxDzAhsQ8wIbEPMCGxDzAhsQ8wIbEPMCGxDzAhsQ8wIbEPMCGxDzAhsQ8wIbEPMCGxDzAhsQ8wIbEPMCGxDzAhsQ8wIbEPMCGxDzAhsQ8wIbEPMCGxDzAhsQ8wIbEPMCGxDzAhsQ8wIbEPMCGxDzAhsQ8wIbEPMCGxDzAhsQ8wIbEPMCGxDzAhsQ8wIbEPMCQmDfAkJg3wJCYN8CQmDfAkJg3wJCYN8CQmDfAkJg3wJCYN8CQmDfAkJg3wJCYN8CQmDfAkJg3wJCYN8CQmDfAkJg3wJCYN8CQmDfAkJg3wJCYN8CQmDfAkJg3wJCYN8CQmDfAkJg3wJCYN8CQmDfAkJg3wJCYN8CQmDfAkJg3wJCYN8CQmDfAkJg3wJCYN8CQmDfAkJg3wJCYN8CQmDfAkJg3wJCYN8CQmDfAkJg3wJCYN8CQmDfAkJg3wJCYN8CQmDfAkJg3wJCYN8CQmDfAkJg3wJCYN8CQmDfAkJg3wJCYN8CQmDfAkJg3wJCYN8CQmDfAkJg3wJCYN8CQmDfAkJg3wJCYN8CQmDfAkJg3wJCYN8CQmDfAkJg3wJCYN8CQmDfAkJg3wJCYN8CQmDfAkJg3wJCYN8CQmDfAkJg3wJCYN8CQmDfAkJg3wJCYN8CQmDfAkJg3wJCYN8CQmDfAkJg3wJCYN8CQmDfAkJg3wJCYN8CQmDfAkJg3wJCYN8CQmDfAkJg3wJCYN8CQmDfAnGwywJxsMsCcbDLAnGwywJxsMsCcbDLAnGwywJxsMsCcbDLAnGwywJxsMsCcbDLAnGwywJxsMsCcbDLAnGwywJxsMsCcbDLAnGwywJxsMsCcbDLAnGwywJxsMsCcbDLAnGwywJxsMsCcbDLAnGwywJxsMsCcbDLAnGwywJxsMsCcbDLAnGwywJxsMsCcbDLAnGwywJxsMsCcbDLAnGwywJxsMsCcbDLAnGwywJxsMsCcbDLAnGwywJxsMsCcbDLAnGwywJxsMsCcbDLAnGwywJxsMsCcbDLAnGwywJxsMsCcbDLAnGwywJxsMsCcbDLAnGwywJxsMsCcbDLAnGwywJxsMsCcbDLAnGwywJxsMsCcbDLAnGwywJxsMsCcbDLAnGwywJxsMsCcbDLAnGwywJxsMsCcbDLAnGwywJxsMsCcbDLAnGwywJxsMsCcbDLAnGwywJxsMsCcbDLAnGwywJxsMsCcbDLAnGwywJxsMsCcbDLAnGwywJxsMsCcbDLAnGwywJxsMsCcbDLAnGwywKZALcCmQC3ApkAtwKZALcCmQC3ApkAtwKZALcCmQC3ApkAtwKZALcCmQC3ApkAtwKZALcCmQC3ApkAtwKZALcCmQC3ApkAtwKZALcCmQC3ApkAtwKZALcCmQC3ApkAtwKZALcCmQC3ApkAtwKZALcCmQC3ApkAtwKZALcCmQC3ApkAtwKZALcCmQC3ApkAtwKZALcCmQC3ApkAtwKZALcCmQC3ApkAtwKZALcCmQC3ApkAtwKZALcCmQC3ApkAtwKZALcCmQC3ApkAtwKZALcCmQC3ApkAtwKZALcCmQC3ApkAtwKZALcCmQC3ApkAtwKZALcCmQC3ApkAtwKZALcCmQC3ApkAtwKZALcCmQC3ApkAtwKZALcCmQC3ApkAtwKZALcCmQC3ApkAtwKZALcCmQC3ApkAtwKZALcCmQC3ApkAtwKZALcCmQC3ApkAtwKZALcCmQC3ApkAtwKZALcCmQC3ApkAtwKZALcCmQC3ApkAtwKZALcCmQC3ApkAtwKZALcCmQC3ApkAtwKZALcCwFCjAsBQowLAUKMCwFCjAsBQowLAUKMCwFCjAsBQowLAUKMCwFCjAsBQowLAUKMCwFCjAsBQowLAUKMCwFCjAsBQowLAUKMCwFCjAsBQowLAUKMCwFCjAsBQowLAUKMCwFCjAsBQowLAUKMCwFCjAsBQowLAUKMCwFCjAsBQowLAUKMCwFCjAsBQowLAUKMCwFCjAsBQowLAUKMCwFCjAsBQowLAUKMCwFCjAsBQowLAUKMCwFCjAsBQowLAUKMCwFCjAsBQowLAUKMCwFCjAsBQowLAUKMCwFCjAsBQowLAUKMCwFCjAsBQowLAUKMCwFCjAsBQowLAUKMCwFCjAsBQowLAUKMCwFCjAsBQowLAUKMCwFCjAsBQowLAUKMCwFCjAsBQowLAUKMCwFCjAsBQowLAUKMCwFCjAsBQowLAUKMCwFCjAsBQowLAUKMCwFCjAsBQowLAUKMCwFCjAsBQowLAUKMCwFCjAsBQowLAUKMCwFCjAsBQowLAUKMCwFCjAsBQowLAUKMCwFCjAuugiwLroIsC66CLAuugiwLroIsC66CLAuugiwLroIsC66CLAuugiwLroIsC66CLAuugiwLroIsC66CLAuugiwLroIsC66CLAuugiwLroIsC66CLAuugiwLroIsC66CLAuugiwLroIsC66CLAuugiwLroIsC66CLAuugiwLroIsC66CLAuugiwLroIsC66CLAuugiwLroIsC66CLAuugiwLroIsC66CLAuugiwLroIsC66CLAuugiwLroIsC66CLAuugiwLroIsC66CLAuugiwLroIsC66CLAuugiwLroIsC66CLAuugiwLroIsC66CLAuugiwLroIsC66CLAuugiwLroIsC66CLAuugiwLroIsC66CLAuugiwLroIsC66CLAuugiwLroIsC66CLAuugiwLroIsC66CLAuugiwLroIsC66CLAuugiwLroIsC66CLAuugiwLroIsC66CLAuugiwLroIsC66CLAuugiwLroIsC66CLAuugiwLroIsC66CLAuugiwLroIsC66CLAuugiwMS8HcDEvB3AxLwdwMS8HcDEvB3AxLwdwMS8HcDEvB3AxLwdwMS8HcDEvB3AxLwdwMS8HcDEvB3AxLwdwMS8HcDEvB3AxLwdwMS8HcDEvB3AxLwdwMS8HcDEvB3AxLwdwMS8HcDEvB3AxLwdwMS8HcDEvB3AxLwdwMS8HcDEvB3AxLwdwMS8HcDEvB3AxLwdwMS8HcDEvB3AxLwdwMS8HcDEvB3AxLwdwMS8HcDEvB3AxLwdwMS8HcDEvB3AxLwdwMS8HcDEvB3AxLwdwMS8HcDEvB3AxLwdwMS8HcDEvB3AxLwdwMS8HcDEvB3AxLwdwMS8HcDEvB3AxLwdwMS8HcDEvB3AxLwdwMS8HcDEvB3AxLwdwMS8HcDEvB3AxLwdwMS8HcDEvB3AxLwdwMS8HcDEvB3AxLwdwMS8HcDEvB3AxLwdwMS8HcDEvB3AxLwdwMS8HcDEvB3AxLwdwMS8HcDEvB3AxLwdwMS8HcDEvB3AxLwdwMS8HcDEvB3AxLwdwMS8HcDEvB3AxLwdwMS8HcDPkBjAz5AYwM+QGMDPkBjAz5AYwM+QGMDPkBjAz5AYwM+QGMDPkBjAz5AYwM+QGMDPkBjAz5AYwM+QGMDPkBjAz5AYwM+QGMDPkBjAz5AYwM+QGMDPkBjAz5AYwM+QGMDPkBjAz5AYwM+QGMDPkBjAz5AYwM+QGMDPkBjAz5AYwM+QGMDPkBjAz5AYwM+QGMDPkBjAz5AYwM+QGMDPkBjAz5AYwM+QGMDPkBjAz5AYwM+QGMDPkBjAz5AYwM+QGMDPkBjAz5AYwM+QGMDPkBjAz5AYwM+QGMDPkBjAz5AYwM+QGMDPkBjAz5AYwM+QGMDPkBjAz5AYwM+QGMDPkBjAz5AYwM+QGMDPkBjAz5AYwM+QGMDPkBjAz5AYwM+QGMDPkBjAz5AYwM+QGMDPkBjAz5AYwM+QGMDPkBjAz5AYwM+QGMDPkBjAz5AYwM+QGMDPkBjAz5AYwM+QGMDPkBjAz5AYwM+QGMDPkBjAz5AYwM+QGMDPkBjAz5AYwM+QGMDPkBjAz5AYwM+QGMDPkBjA2WQTwNlkE8DZZBPA2WQTwNlkE8DZZBPA2WQTwNlkE8DZZBPA2WQTwNlkE8DZZBPA2WQTwNlkE8DZZBPA2WQTwNlkE8DZZBPA2WQTwNlkE8DZZBPA2WQTwNlkE8DZZBPA2WQTwNlkE8DZZBPA2WQTwNlkE8DZZBPA2WQTwNlkE8DZZBPA2WQTwNlkE8DZZBPA2WQTwNlkE8DZZBPA2WQTwNlkE8DZZBPA2WQTwNlkE8DZZBPA2WQTwNlkE8DZZBPA2WQTwNlkE8DZZBPA2WQTwNlkE8DZZBPA2WQTwNlkE8DZZBPA2WQTwNlkE8DZZBPA2WQTwNlkE8DZZBPA2WQTwNlkE8DZZBPA2WQTwNlkE8DZZBPA2WQTwNlkE8DZZBPA2WQTwNlkE8DZZBPA2WQTwNlkE8DZZBPA2WQTwNlkE8DZZBPA2WQTwNlkE8DZZBPA2WQTwNlkE8DZZBPA2WQTwNlkE8DZZBPA2WQTwNlkE8DZZBPA2WQTwNlkE8DZZBPA2WQTwNlkE8DZZBPA2WQTwOQ4DsDkOA7A5DgOwOQ4DsDkOA7A5DgOwOQ4DsDkOA7A5DgOwOQ4DsDkOA7A5DgOwOQ4DsDkOA7A5DgOwOQ4DsDkOA7A5DgOwOQ4DsDkOA7A5DgOwOQ4DsDkOA7A5DgOwOQ4DsDkOA7A5DgOwOQ4DsDkOA7A5DgOwOQ4DsDkOA7A5DgOwOQ4DsDkOA7A5DgOwOQ4DsDkOA7A5DgOwOQ4DsDkOA7A5DgOwOQ4DsDkOA7A5DgOwOQ4DsDkOA7A5DgOwOQ4DsDkOA7A5DgOwOQ4DsDkOA7A5DgOwOQ4DsDkOA7A5DgOwOQ4DsDkOA7A5DgOwOQ4DsDkOA7A5DgOwOQ4DsDkOA7A5DgOwOQ4DsDkOA7A5DgOwOQ4DsDkOA7A5DgOwOQ4DsDkOA7A5DgOwOQ4DsDkOA7A5DgOwOQ4DsDkOA7A5DgOwOQ4DsDkOA7A5DgOwOQ4DsDkOA7A5DgOwOQ4DsDkOA7A5DgOwOQ4DsDkOA7A5DgOwOQ4DsDkOA7A5DgOwOQ4DsDkOA7A5DgOwOQ4DsDuDAnA7gwJwO4MCcDuDAnA7gwJwO4MCcDuDAnA7gwJwO4MCcDuDAnA7gwJwO4MCcDuDAnA7gwJwO4MCcDuDAnA7gwJwO4MCcDuDAnA7gwJwO4MCcDuDAnA7gwJwO4MCcDuDAnA7gwJwO4MCcDuDAnA7gwJwO4MCcDuDAnA7gwJwO4MCcDuDAnA7gwJwO4MCcDuDAnA7gwJwO4MCcDuDAnA7gwJwO4MCcDuDAnA7gwJwO4MCcDuDAnA7gwJwO4MCcDuDAnA7gwJwO4MCcDuDAnA7gwJwO4MCcDuDAnA7gwJwO4MCcDuDAnA7gwJwO4MCcDuDAnA7gwJwO4MCcDuDAnA7gwJwO4MCcDuDAnA7gwJwO4MCcDuDAnA7gwJwO4MCcDuDAnA7gwJwO4MCcDuDAnA7gwJwO4MCcDuDAnA7gwJwO4MCcDuDAnA7gwJwO4MCcDuDAnA7gwJwO4MCcDuDAnA7gwJwO4MCcDuDAnA7gwJwO4MCcDuDAnA7gwJwO4MCcDuDAnA7gwJwO4MCcDuDAnA+OADwPjgA8D44APA+OADwPjgA8D44APA+OADwPjgA8D44APA+OADwPjgA8D44APA+OADwPjgA8D44APA+OADwPjgA8D44APA+OADwPjgA8D44APA+OADwPjgA8D44APA+OADwPjgA8D44APA+OADwPjgA8D44APA+OADwPjgA8D44APA+OADwPjgA8D44APA+OADwPjgA8D44APA+OADwPjgA8D44APA+OADwPjgA8D44APA+OADwPjgA8D44APA+OADwPjgA8D44APA+OADwPjgA8D44APA+OADwPjgA8D44APA+OADwPjgA8D44APA+OADwPjgA8D44APA+OADwPjgA8D44APA+OADwPjgA8D44APA+OADwPjgA8D44APA+OADwPjgA8D44APA+OADwPjgA8D44APA+OADwPjgA8D44APA+OADwPjgA8D44APA+OADwPjgA8D44APA+OADwPjgA8D44APA+OADwPjgA8D44APA+OADwPjgA8D44APA+OADwPjgA8D44APA+OADwAdq/b8Hav2/B2r9vwdq/b8Hav2/B2r9vwdq/b8Hav2/B2r9vwdq/b8Hav2/B2r9vwdq/b8Hav2/B2r9vwdq/b8Hav2/B2r9vwdq/b8Hav2/B2r9vwdq/b8Hav2/B2r9vwdq/b8Hav2/B2r9vwdq/b8Hav2/B2r9vwdq/b8Hav2/B2r9vwdq/b8Hav2/B2r9vwdq/b8Hav2/B2r9vwdq/b8Hav2/B2r9vwdq/b8Hav2/B2r9vwdq/b8Hav2/B2r9vwdq/b8Hav2/B2r9vwdq/b8Hav2/B2r9vwdq/b8Hav2/B2r9vwdq/b8Hav2/B2r9vwdq/b8Hav2/B2r9vwdq/b8Hav2/B2r9vwdq/b8Hav2/B2r9vwdq/b8Hav2/B2r9vwdq/b8Hav2/B2r9vwdq/b8Hav2/B2r9vwdq/b8Hav2/B2r9vwdq/b8Hav2/B2r9vwdq/b8Hav2/B2r9vwdq/b8Hav2/B2r9vwdq/b8Hav2/B2r9vwdq/b8Hav2/B2r9vwdq/b8Hav2/B2r9vwdq/b8ZEvO/GRLzvxkS878ZEvO/GRLzvxkS878ZEvO/GRLzvxkS878ZEvO/GRLzvxkS878ZEvO/GRLzvxkS878ZEvO/GRLzvxkS878ZEvO/GRLzvxkS878ZEvO/GRLzvxkS878ZEvO/GRLzvxkS878ZEvO/GRLzvxkS878ZEvO/GRLzvxkS878ZEvO/GRLzvxkS878ZEvO/GRLzvxkS878ZEvO/GRLzvxkS878ZEvO/GRLzvxkS878ZEvO/GRLzvxkS878ZEvO/GRLzvxkS878ZEvO/GRLzvxkS878ZEvO/GRLzvxkS878ZEvO/GRLzvxkS878ZEvO/GRLzvxkS878ZEvO/GRLzvxkS878ZEvO/GRLzvxkS878ZEvO/GRLzvxkS878ZEvO/GRLzvxkS878ZEvO/GRLzvxkS878ZEvO/GRLzvxkS878ZEvO/GRLzvxkS878ZEvO/GRLzvxkS878ZEvO/GRLzvxkS878ZEvO/GRLzvxkS878ZEvO/GRLzvxkS878ZEvO/GRLzvxkS878ZEvO/L7rovy+66L8vuui/L7rovy+66L8vuui/L7rovy+66L8vuui/L7rovy+66L8vuui/L7rovy+66L8vuui/L7rovy+66L8vuui/L7rovy+66L8vuui/L7rovy+66L8vuui/L7rovy+66L8vuui/L7rovy+66L8vuui/L7rovy+66L8vuui/L7rovy+66L8vuui/L7rovy+66L8vuui/L7rovy+66L8vuui/L7rovy+66L8vuui/L7rovy+66L8vuui/L7rovy+66L8vuui/L7rovy+66L8vuui/L7rovy+66L8vuui/L7rovy+66L8vuui/L7rovy+66L8vuui/L7rovy+66L8vuui/L7rovy+66L8vuui/L7rovy+66L8vuui/L7rovy+66L8vuui/L7rovy+66L8vuui/L7rovy+66L8vuui/L7rovy+66L8vuui/L7rovy+66L8vuui/L7rovy+66L8vuui/L7rovy+66L8vuui/L7rovy+66L8vuui/L7rovy+66L8vuui/L7rov0Ri3r9EYt6/RGLev0Ri3r9EYt6/RGLev0Ri3r9EYt6/RGLev0Ri3r9EYt6/RGLev0Ri3r9EYt6/RGLev0Ri3r9EYt6/RGLev0Ri3r9EYt6/RGLev0Ri3r9EYt6/RGLev0Ri3r9EYt6/RGLev0Ri3r9EYt6/RGLev0Ri3r9EYt6/RGLev0Ri3r9EYt6/RGLev0Ri3r9EYt6/RGLev0Ri3r9EYt6/RGLev0Ri3r9EYt6/RGLev0Ri3r9EYt6/RGLev0Ri3r9EYt6/RGLev0Ri3r9EYt6/RGLev0Ri3r9EYt6/RGLev0Ri3r9EYt6/RGLev0Ri3r9EYt6/RGLev0Ri3r9EYt6/RGLev0Ri3r9EYt6/RGLev0Ri3r9EYt6/RGLev0Ri3r9EYt6/RGLev0Ri3r9EYt6/RGLev0Ri3r9EYt6/RGLev0Ri3r9EYt6/RGLev0Ri3r9EYt6/RGLev0Ri3r9EYt6/RGLev0Ri3r9EYt6/RGLev0Ri3r9EYt6/RGLev0Ri3r9EYt6/RGLev0Ri3r9YCtS/WArUv1gK1L9YCtS/WArUv1gK1L9YCtS/WArUv1gK1L9YCtS/WArUv1gK1L9YCtS/WArUv1gK1L9YCtS/WArUv1gK1L9YCtS/WArUv1gK1L9YCtS/WArUv1gK1L9YCtS/WArUv1gK1L9YCtS/WArUv1gK1L9YCtS/WArUv1gK1L9YCtS/WArUv1gK1L9YCtS/WArUv1gK1L9YCtS/WArUv1gK1L9YCtS/WArUv1gK1L9YCtS/WArUv1gK1L9YCtS/WArUv1gK1L9YCtS/WArUv1gK1L9YCtS/WArUv1gK1L9YCtS/WArUv1gK1L9YCtS/WArUv1gK1L9YCtS/WArUv1gK1L9YCtS/WArUv1gK1L9YCtS/WArUv1gK1L9YCtS/WArUv1gK1L9YCtS/WArUv1gK1L9YCtS/WArUv1gK1L9YCtS/WArUv1gK1L9YCtS/WArUv1gK1L9YCtS/WArUv1gK1L9YCtS/WArUv1gK1L9YCtS/WArUv1gK1L9YCtS/WArUv1gK1L9YCtS/bLLJv2yyyb9sssm/bLLJv2yyyb9sssm/bLLJv2yyyb9sssm/bLLJv2yyyb9sssm/bLLJv2yyyb9sssm/bLLJv2yyyb9sssm/bLLJv2yyyb9sssm/bLLJv2yyyb9sssm/bLLJv2yyyb9sssm/bLLJv2yyyb9sssm/bLLJv2yyyb9sssm/bLLJv2yyyb9sssm/bLLJv2yyyb9sssm/bLLJv2yyyb9sssm/bLLJv2yyyb9sssm/bLLJv2yyyb9sssm/bLLJv2yyyb9sssm/bLLJv2yyyb9sssm/bLLJv2yyyb9sssm/bLLJv2yyyb9sssm/bLLJv2yyyb9sssm/bLLJv2yyyb9sssm/bLLJv2yyyb9sssm/bLLJv2yyyb9sssm/bLLJv2yyyb9sssm/bLLJv2yyyb9sssm/bLLJv2yyyb9sssm/bLLJv2yyyb9sssm/bLLJv2yyyb9sssm/bLLJv2yyyb9sssm/bLLJv2yyyb9sssm/bLLJv2yyyb9sssm/bLLJv2yyyb9sssm/bLLJv4Fav7+BWr+/gVq/v4Fav7+BWr+/gVq/v4Fav7+BWr+/gVq/v4Fav7+BWr+/gVq/v4Fav7+BWr+/gVq/v4Fav7+BWr+/gVq/v4Fav7+BWr+/gVq/v4Fav7+BWr+/gVq/v4Fav7+BWr+/gVq/v4Fav7+BWr+/gVq/v4Fav7+BWr+/gVq/v4Fav7+BWr+/gVq/v4Fav7+BWr+/gVq/v4Fav7+BWr+/gVq/v4Fav7+BWr+/gVq/v4Fav7+BWr+/gVq/v4Fav7+BWr+/gVq/v4Fav7+BWr+/gVq/v4Fav7+BWr+/gVq/v4Fav7+BWr+/gVq/v4Fav7+BWr+/gVq/v4Fav7+BWr+/gVq/v4Fav7+BWr+/gVq/v4Fav7+BWr+/gVq/v4Fav7+BWr+/gVq/v4Fav7+BWr+/gVq/v4Fav7+BWr+/gVq/v4Fav7+BWr+/gVq/v4Fav7+BWr+/gVq/v4Fav7+BWr+/gVq/v4Fav7+BWr+/gVq/v4Fav7+BWr+/gVq/v4Fav7+BWr+/gVq/v4Fav7+XArW/lwK1v5cCtb+XArW/lwK1v5cCtb+XArW/lwK1v5cCtb+XArW/lwK1v5cCtb+XArW/lwK1v5cCtb+XArW/lwK1v5cCtb+XArW/lwK1v5cCtb+XArW/lwK1v5cCtb+XArW/lwK1v5cCtb+XArW/lwK1v5cCtb+XArW/lwK1v5cCtb+XArW/lwK1v5cCtb+XArW/lwK1v5cCtb+XArW/lwK1v5cCtb+XArW/lwK1v5cCtb+XArW/lwK1v5cCtb+XArW/lwK1v5cCtb+XArW/lwK1v5cCtb+XArW/lwK1v5cCtb+XArW/lwK1v5cCtb+XArW/lwK1v5cCtb+XArW/lwK1v5cCtb+XArW/lwK1v5cCtb+XArW/lwK1v5cCtb+XArW/lwK1v5cCtb+XArW/lwK1v5cCtb+XArW/lwK1v5cCtb+XArW/lwK1v5cCtb+XArW/lwK1v5cCtb+XArW/lwK1v5cCtb+XArW/lwK1v5cCtb+XArW/lwK1v5cCtb+XArW/lwK1v5cCtb+XArW/qaqqv6mqqr+pqqq/qaqqv6mqqr+pqqq/qaqqv6mqqr+pqqq/qaqqv6mqqr+pqqq/qaqqv6mqqr+pqqq/qaqqv6mqqr+pqqq/qaqqv6mqqr+pqqq/qaqqv6mqqr+pqqq/qaqqv6mqqr+pqqq/qaqqv6mqqr+pqqq/qaqqv6mqqr+pqqq/qaqqv6mqqr+pqqq/qaqqv6mqqr+pqqq/qaqqv6mqqr+pqqq/qaqqv6mqqr+pqqq/qaqqv6mqqr+pqqq/qaqqv6mqqr+pqqq/qaqqv6mqqr+pqqq/qaqqv6mqqr+pqqq/qaqqv6mqqr+pqqq/qaqqv6mqqr+pqqq/qaqqv6mqqr+pqqq/qaqqv6mqqr+pqqq/qaqqv6mqqr+pqqq/qaqqv6mqqr+pqqq/qaqqv6mqqr+pqqq/qaqqv6mqqr+pqqq/qaqqv6mqqr+pqqq/qaqqv6mqqr+pqqq/qaqqv6mqqr+pqqq/qaqqv6mqqr+pqqq/qaqqv6mqqr+pqqq/qaqqv6mqqr+pqqq/qaqqv8BSoL/AUqC/wFKgv8BSoL/AUqC/wFKgv8BSoL/AUqC/wFKgv8BSoL/AUqC/wFKgv8BSoL/AUqC/wFKgv8BSoL/AUqC/wFKgv8BSoL/AUqC/wFKgv8BSoL/AUqC/wFKgv8BSoL/AUqC/wFKgv8BSoL/AUqC/wFKgv8BSoL/AUqC/wFKgv8BSoL/AUqC/wFKgv8BSoL/AUqC/wFKgv8BSoL/AUqC/wFKgv8BSoL/AUqC/wFKgv8BSoL/AUqC/wFKgv8BSoL/AUqC/wFKgv8BSoL/AUqC/wFKgv8BSoL/AUqC/wFKgv8BSoL/AUqC/wFKgv8BSoL/AUqC/wFKgv8BSoL/AUqC/wFKgv8BSoL/AUqC/wFKgv8BSoL/AUqC/wFKgv8BSoL/AUqC/wFKgv8BSoL/AUqC/wFKgv8BSoL/AUqC/wFKgv8BSoL/AUqC/wFKgv8BSoL/AUqC/wFKgv8BSoL/AUqC/wFKgv8BSoL/AUqC/wFKgv8BSoL/AUqC/wFKgv8BSoL/AUqC/wFKgv8BSoL/U+pW/1PqVv9T6lb/U+pW/1PqVv9T6lb/U+pW/1PqVv9T6lb/U+pW/1PqVv9T6lb/U+pW/1PqVv9T6lb/U+pW/1PqVv9T6lb/U+pW/1PqVv9T6lb/U+pW/1PqVv9T6lb/U+pW/1PqVv9T6lb/U+pW/1PqVv9T6lb/U+pW/1PqVv9T6lb/U+pW/1PqVv9T6lb/U+pW/1PqVv9T6lb/U+pW/1PqVv9T6lb/U+pW/1PqVv9T6lb/U+pW/1PqVv9T6lb/U+pW/1PqVv9T6lb/U+pW/1PqVv9T6lb/U+pW/1PqVv9T6lb/U+pW/1PqVv9T6lb/U+pW/1PqVv9T6lb/U+pW/1PqVv9T6lb/U+pW/1PqVv9T6lb/U+pW/1PqVv9T6lb/U+pW/1PqVv9T6lb/U+pW/1PqVv9T6lb/U+pW/1PqVv9T6lb/U+pW/1PqVv9T6lb/U+pW/1PqVv9T6lb/U+pW/1PqVv9T6lb/U+pW/1PqVv9T6lb/U+pW/1PqVv9T6lb/U+pW/1PqVv9T6lb/U+pW/6KKLv+iii7/ooou/6KKLv+iii7/ooou/6KKLv+iii7/ooou/6KKLv+iii7/ooou/6KKLv+iii7/ooou/6KKLv+iii7/ooou/6KKLv+iii7/ooou/6KKLv+iii7/ooou/6KKLv+iii7/ooou/6KKLv+iii7/ooou/6KKLv+iii7/ooou/6KKLv+iii7/ooou/6KKLv+iii7/ooou/6KKLv+iii7/ooou/6KKLv+iii7/ooou/6KKLv+iii7/ooou/6KKLv+iii7/ooou/6KKLv+iii7/ooou/6KKLv+iii7/ooou/6KKLv+iii7/ooou/6KKLv+iii7/ooou/6KKLv+iii7/ooou/6KKLv+iii7/ooou/6KKLv+iii7/ooou/6KKLv+iii7/ooou/6KKLv+iii7/ooou/6KKLv+iii7/ooou/6KKLv+iii7/ooou/6KKLv+iii7/ooou/6KKLv+iii7/ooou/6KKLv+iii7/ooou/6KKLv+iii7/ooou/6KKLv+iii7/ooou/6KKLv/9Kgb//SoG//0qBv/9Kgb//SoG//0qBv/9Kgb//SoG//0qBv/9Kgb//SoG//0qBv/9Kgb//SoG//0qBv/9Kgb//SoG//0qBv/9Kgb//SoG//0qBv/9Kgb//SoG//0qBv/9Kgb//SoG//0qBv/9Kgb//SoG//0qBv/9Kgb//SoG//0qBv/9Kgb//SoG//0qBv/9Kgb//SoG//0qBv/9Kgb//SoG//0qBv/9Kgb//SoG//0qBv/9Kgb//SoG//0qBv/9Kgb//SoG//0qBv/9Kgb//SoG//0qBv/9Kgb//SoG//0qBv/9Kgb//SoG//0qBv/9Kgb//SoG//0qBv/9Kgb//SoG//0qBv/9Kgb//SoG//0qBv/9Kgb//SoG//0qBv/9Kgb//SoG//0qBv/9Kgb//SoG//0qBv/9Kgb//SoG//0qBv/9Kgb//SoG//0qBv/9Kgb//SoG//0qBv/9Kgb//SoG//0qBv/9Kgb//SoG//0qBv/9Kgb//SoG//0qBv/9Kgb//SoG//0qBv/9Kgb8i5m2/IuZtvyLmbb8i5m2/IuZtvyLmbb8i5m2/IuZtvyLmbb8i5m2/IuZtvyLmbb8i5m2/IuZtvyLmbb8i5m2/IuZtvyLmbb8i5m2/IuZtvyLmbb8i5m2/IuZtvyLmbb8i5m2/IuZtvyLmbb8i5m2/IuZtvyLmbb8i5m2/IuZtvyLmbb8i5m2/IuZtvyLmbb8i5m2/IuZtvyLmbb8i5m2/IuZtvyLmbb8i5m2/IuZtvyLmbb8i5m2/IuZtvyLmbb8i5m2/IuZtvyLmbb8i5m2/IuZtvyLmbb8i5m2/IuZtvyLmbb8i5m2/IuZtvyLmbb8i5m2/IuZtvyLmbb8i5m2/IuZtvyLmbb8i5m2/IuZtvyLmbb8i5m2/IuZtvyLmbb8i5m2/IuZtvyLmbb8i5m2/IuZtvyLmbb8i5m2/IuZtvyLmbb8i5m2/IuZtvyLmbb8i5m2/IuZtvyLmbb8i5m2/IuZtvyLmbb8i5m2/IuZtvyLmbb8i5m2/IuZtvyLmbb8i5m2/IuZtvyLmbb8i5m2/TzZZv082Wb9PNlm/TzZZv082Wb9PNlm/TzZZv082Wb9PNlm/TzZZv082Wb9PNlm/TzZZv082Wb9PNlm/TzZZv082Wb9PNlm/TzZZv082Wb9PNlm/TzZZv082Wb9PNlm/TzZZv082Wb9PNlm/TzZZv082Wb9PNlm/TzZZv082Wb9PNlm/TzZZv082Wb9PNlm/TzZZv082Wb9PNlm/TzZZv082Wb9PNlm/TzZZv082Wb9PNlm/TzZZv082Wb9PNlm/TzZZv082Wb9PNlm/TzZZv082Wb9PNlm/TzZZv082Wb9PNlm/TzZZv082Wb9PNlm/TzZZv082Wb9PNlm/TzZZv082Wb9PNlm/TzZZv082Wb9PNlm/TzZZv082Wb9PNlm/TzZZv082Wb9PNlm/TzZZv082Wb9PNlm/TzZZv082Wb9PNlm/TzZZv082Wb9PNlm/TzZZv082Wb9PNlm/TzZZv082Wb9PNlm/TzZZv082Wb9PNlm/TzZZv082Wb9PNlm/TzZZv082Wb9PNlm/TzZZv3iGRL94hkS/eIZEv3iGRL94hkS/eIZEv3iGRL94hkS/eIZEv3iGRL94hkS/eIZEv3iGRL94hkS/eIZEv3iGRL94hkS/eIZEv3iGRL94hkS/eIZEv3iGRL94hkS/eIZEv3iGRL94hkS/eIZEv3iGRL94hkS/eIZEv3iGRL94hkS/eIZEv3iGRL94hkS/eIZEv3iGRL94hkS/eIZEv3iGRL94hkS/eIZEv3iGRL94hkS/eIZEv3iGRL94hkS/eIZEv3iGRL94hkS/eIZEv3iGRL94hkS/eIZEv3iGRL94hkS/eIZEv3iGRL94hkS/eIZEv3iGRL94hkS/eIZEv3iGRL94hkS/eIZEv3iGRL94hkS/eIZEv3iGRL94hkS/eIZEv3iGRL94hkS/eIZEv3iGRL94hkS/eIZEv3iGRL94hkS/eIZEv3iGRL94hkS/eIZEv3iGRL94hkS/eIZEv3iGRL94hkS/eIZEv3iGRL94hkS/eIZEv3iGRL94hkS/eIZEv3iGRL94hkS/eIZEv3iGRL+g1i+/oNYvv6DWL7+g1i+/oNYvv6DWL7+g1i+/oNYvv6DWL7+g1i+/oNYvv6DWL7+g1i+/oNYvv6DWL7+g1i+/oNYvv6DWL7+g1i+/oNYvv6DWL7+g1i+/oNYvv6DWL7+g1i+/oNYvv6DWL7+g1i+/oNYvv6DWL7+g1i+/oNYvv6DWL7+g1i+/oNYvv6DWL7+g1i+/oNYvv6DWL7+g1i+/oNYvv6DWL7+g1i+/oNYvv6DWL7+g1i+/oNYvv6DWL7+g1i+/oNYvv6DWL7+g1i+/oNYvv6DWL7+g1i+/oNYvv6DWL7+g1i+/oNYvv6DWL7+g1i+/oNYvv6DWL7+g1i+/oNYvv6DWL7+g1i+/oNYvv6DWL7+g1i+/oNYvv6DWL7+g1i+/oNYvv6DWL7+g1i+/oNYvv6DWL7+g1i+/oNYvv6DWL7+g1i+/oNYvv6DWL7+g1i+/oNYvv6DWL7+g1i+/oNYvv6DWL7+g1i+/oNYvv6DWL7+g1i+/oNYvv6DWL7+g1i+/oNYvv6DWL7+g1i+/ySYbv8kmG7/JJhu/ySYbv8kmG7/JJhu/ySYbv8kmG7/JJhu/ySYbv8kmG7/JJhu/ySYbv8kmG7/JJhu/ySYbv8kmG7/JJhu/ySYbv8kmG7/JJhu/ySYbv8kmG7/JJhu/ySYbv8kmG7/JJhu/ySYbv8kmG7/JJhu/ySYbv8kmG7/JJhu/ySYbv8kmG7/JJhu/ySYbv8kmG7/JJhu/ySYbv8kmG7/JJhu/ySYbv8kmG7/JJhu/ySYbv8kmG7/JJhu/ySYbv8kmG7/JJhu/ySYbv8kmG7/JJhu/ySYbv8kmG7/JJhu/ySYbv8kmG7/JJhu/ySYbv8kmG7/JJhu/ySYbv8kmG7/JJhu/ySYbv8kmG7/JJhu/ySYbv8kmG7/JJhu/ySYbv8kmG7/JJhu/ySYbv8kmG7/JJhu/ySYbv8kmG7/JJhu/ySYbv8kmG7/JJhu/ySYbv8kmG7/JJhu/ySYbv8kmG7/JJhu/ySYbv8kmG7/JJhu/ySYbv8kmG7/JJhu/ySYbv8kmG7/JJhu/ySYbv/J2Br/ydga/8nYGv/J2Br/ydga/8nYGv/J2Br/ydga/8nYGv/J2Br/ydga/8nYGv/J2Br/ydga/8nYGv/J2Br/ydga/8nYGv/J2Br/ydga/8nYGv/J2Br/ydga/8nYGv/J2Br/ydga/8nYGv/J2Br/ydga/8nYGv/J2Br/ydga/8nYGv/J2Br/ydga/8nYGv/J2Br/ydga/8nYGv/J2Br/ydga/8nYGv/J2Br/ydga/8nYGv/J2Br/ydga/8nYGv/J2Br/ydga/8nYGv/J2Br/ydga/8nYGv/J2Br/ydga/8nYGv/J2Br/ydga/8nYGv/J2Br/ydga/8nYGv/J2Br/ydga/8nYGv/J2Br/ydga/8nYGv/J2Br/ydga/8nYGv/J2Br/ydga/8nYGv/J2Br/ydga/8nYGv/J2Br/ydga/8nYGv/J2Br/ydga/8nYGv/J2Br/ydga/8nYGv/J2Br/ydga/8nYGv/J2Br/ydga/8nYGv/J2Br/ydga/8nYGv/J2Br/ydga/8nYGv/J2Br88juO+PI7jvjyO4748juO+PI7jvjyO4748juO+PI7jvjyO4748juO+PI7jvjyO4748juO+PI7jvjyO4748juO+PI7jvjyO4748juO+PI7jvjyO4748juO+PI7jvjyO4748juO+PI7jvjyO4748juO+PI7jvjyO4748juO+PI7jvjyO4748juO+PI7jvjyO4748juO+PI7jvjyO4748juO+PI7jvjyO4748juO+PI7jvjyO4748juO+PI7jvjyO4748juO+PI7jvjyO4748juO+PI7jvjyO4748juO+PI7jvjyO4748juO+PI7jvjyO4748juO+PI7jvjyO4748juO+PI7jvjyO4748juO+PI7jvjyO4748juO+PI7jvjyO4748juO+PI7jvjyO4748juO+PI7jvjyO4748juO+PI7jvjyO4748juO+PI7jvjyO4748juO+PI7jvjyO4748juO+PI7jvjyO4748juO+PI7jvjyO4748juO+PI7jvjyO4748juO+PI7jvjyO4748juO+hi66voYuur6GLrq+hi66voYuur6GLrq+hi66voYuur6GLrq+hi66voYuur6GLrq+hi66voYuur6GLrq+hi66voYuur6GLrq+hi66voYuur6GLrq+hi66voYuur6GLrq+hi66voYuur6GLrq+hi66voYuur6GLrq+hi66voYuur6GLrq+hi66voYuur6GLrq+hi66voYuur6GLrq+hi66voYuur6GLrq+hi66voYuur6GLrq+hi66voYuur6GLrq+hi66voYuur6GLrq+hi66voYuur6GLrq+hi66voYuur6GLrq+hi66voYuur6GLrq+hi66voYuur6GLrq+hi66voYuur6GLrq+hi66voYuur6GLrq+hi66voYuur6GLrq+hi66voYuur6GLrq+hi66voYuur6GLrq+hi66voYuur6GLrq+hi66voYuur6GLrq+hi66voYuur6GLrq+hi66voYuur6GLrq+hi66voYuur6GLrq+hi66voYuur6GLrq+hi66voYuur6GLrq+hi66vt/OkL7fzpC+386Qvt/OkL7fzpC+386Qvt/OkL7fzpC+386Qvt/OkL7fzpC+386Qvt/OkL7fzpC+386Qvt/OkL7fzpC+386Qvt/OkL7fzpC+386Qvt/OkL7fzpC+386Qvt/OkL7fzpC+386Qvt/OkL7fzpC+386Qvt/OkL7fzpC+386Qvt/OkL7fzpC+386Qvt/OkL7fzpC+386Qvt/OkL7fzpC+386Qvt/OkL7fzpC+386Qvt/OkL7fzpC+386Qvt/OkL7fzpC+386Qvt/OkL7fzpC+386Qvt/OkL7fzpC+386Qvt/OkL7fzpC+386Qvt/OkL7fzpC+386Qvt/OkL7fzpC+386Qvt/OkL7fzpC+386Qvt/OkL7fzpC+386Qvt/OkL7fzpC+386Qvt/OkL7fzpC+386Qvt/OkL7fzpC+386Qvt/OkL7fzpC+386Qvt/OkL7fzpC+386Qvt/OkL7fzpC+386Qvt/OkL7fzpC+386Qvt/OkL7fzpC+386Qvt/OkL7fzpC+386Qvt/OkL5h3k6+Yd5OvmHeTr5h3k6+Yd5OvmHeTr5h3k6+Yd5OvmHeTr5h3k6+Yd5OvmHeTr5h3k6+Yd5OvmHeTr5h3k6+Yd5OvmHeTr5h3k6+Yd5OvmHeTr5h3k6+Yd5OvmHeTr5h3k6+Yd5OvmHeTr5h3k6+Yd5OvmHeTr5h3k6+Yd5OvmHeTr5h3k6+Yd5OvmHeTr5h3k6+Yd5OvmHeTr5h3k6+Yd5OvmHeTr5h3k6+Yd5OvmHeTr5h3k6+Yd5OvmHeTr5h3k6+Yd5OvmHeTr5h3k6+Yd5OvmHeTr5h3k6+Yd5OvmHeTr5h3k6+Yd5OvmHeTr5h3k6+Yd5OvmHeTr5h3k6+Yd5OvmHeTr5h3k6+Yd5OvmHeTr5h3k6+Yd5OvmHeTr5h3k6+Yd5OvmHeTr5h3k6+Yd5OvmHeTr5h3k6+Yd5OvmHeTr5h3k6+Yd5OvmHeTr5h3k6+Yd5OvmHeTr5h3k6+Yd5OvmHeTr5h3k6+Yd5OvmHeTr5h3k6+Yd5OvmHeTr5h3k6+Yd5OvmHeTr5h3k6+CD74vQg++L0IPvi9CD74vQg++L0IPvi9CD74vQg++L0IPvi9CD74vQg++L0IPvi9CD74vQg++L0IPvi9CD74vQg++L0IPvi9CD74vQg++L0IPvi9CD74vQg++L0IPvi9CD74vQg++L0IPvi9CD74vQg++L0IPvi9CD74vQg++L0IPvi9CD74vQg++L0IPvi9CD74vQg++L0IPvi9CD74vQg++L0IPvi9CD74vQg++L0IPvi9CD74vQg++L0IPvi9CD74vQg++L0IPvi9CD74vQg++L0IPvi9CD74vQg++L0IPvi9CD74vQg++L0IPvi9CD74vQg++L0IPvi9CD74vQg++L0IPvi9CD74vQg++L0IPvi9CD74vQg++L0IPvi9CD74vQg++L0IPvi9CD74vQg++L0IPvi9CD74vQg++L0IPvi9CD74vQg++L0IPvi9CD74vQg++L0IPvi9CD74vQg++L0IPvi9CD74vQg++L0IPvi9CD74vQg++L0IPvi9CD74vQg++L0IPvi9CD74vdt+Jb3bfiW9234lvdt+Jb3bfiW9234lvdt+Jb3bfiW9234lvdt+Jb3bfiW9234lvdt+Jb3bfiW9234lvdt+Jb3bfiW9234lvdt+Jb3bfiW9234lvdt+Jb3bfiW9234lvdt+Jb3bfiW9234lvdt+Jb3bfiW9234lvdt+Jb3bfiW9234lvdt+Jb3bfiW9234lvdt+Jb3bfiW9234lvdt+Jb3bfiW9234lvdt+Jb3bfiW9234lvdt+Jb3bfiW9234lvdt+Jb3bfiW9234lvdt+Jb3bfiW9234lvdt+Jb3bfiW9234lvdt+Jb3bfiW9234lvdt+Jb3bfiW9234lvdt+Jb3bfiW9234lvdt+Jb3bfiW9234lvdt+Jb3bfiW9234lvdt+Jb3bfiW9234lvdt+Jb3bfiW9234lvdt+Jb3bfiW9234lvdt+Jb3bfiW9234lvdt+Jb3bfiW9234lvdt+Jb3bfiW9234lvdt+Jb3bfiW9234lvdt+Jb3bfiW9234lvdt+Jb3bfiW9234lvdt+Jb2afiU9mn4lPZp+JT2afiU9mn4lPZp+JT2afiU9mn4lPZp+JT2afiU9mn4lPZp+JT2afiU9mn4lPZp+JT2afiU9mn4lPZp+JT2afiU9mn4lPZp+JT2afiU9mn4lPZp+JT2afiU9mn4lPZp+JT2afiU9mn4lPZp+JT2afiU9mn4lPZp+JT2afiU9mn4lPZp+JT2afiU9mn4lPZp+JT2afiU9mn4lPZp+JT2afiU9mn4lPZp+JT2afiU9mn4lPZp+JT2afiU9mn4lPZp+JT2afiU9mn4lPZp+JT2afiU9mn4lPZp+JT2afiU9mn4lPZp+JT2afiU9mn4lPZp+JT2afiU9mn4lPZp+JT2afiU9mn4lPZp+JT2afiU9mn4lPZp+JT2afiU9mn4lPZp+JT2afiU9mn4lPZp+JT2afiU9mn4lPZp+JT2afiU9mn4lPZp+JT2afiU9mn4lPZp+JT2afiU9mn4lPZp+JT2afiU9mn4lPZp+JT2afiU9mn4lPZp+JT2afiU9mn4lPZp+JT2afiU9CD74PQg++D0IPvg9CD74PQg++D0IPvg9CD74PQg++D0IPvg9CD74PQg++D0IPvg9CD74PQg++D0IPvg9CD74PQg++D0IPvg9CD74PQg++D0IPvg9CD74PQg++D0IPvg9CD74PQg++D0IPvg9CD74PQg++D0IPvg9CD74PQg++D0IPvg9CD74PQg++D0IPvg9CD74PQg++D0IPvg9CD74PQg++D0IPvg9CD74PQg++D0IPvg9CD74PQg++D0IPvg9CD74PQg++D0IPvg9CD74PQg++D0IPvg9CD74PQg++D0IPvg9CD74PQg++D0IPvg9CD74PQg++D0IPvg9CD74PQg++D0IPvg9CD74PQg++D0IPvg9CD74PQg++D0IPvg9CD74PQg++D0IPvg9CD74PQg++D0IPvg9CD74PQg++D0IPvg9CD74PQg++D0IPvg9CD74PQg++D0IPvg9CD74PQg++D0IPvg9CD74PQg++D0IPvg9CD74PQg++D0IPvg9CD74PQg++D0IPvg9CD74PWHeTj5h3k4+Yd5OPmHeTj5h3k4+Yd5OPmHeTj5h3k4+Yd5OPmHeTj5h3k4+Yd5OPmHeTj5h3k4+Yd5OPmHeTj5h3k4+Yd5OPmHeTj5h3k4+Yd5OPmHeTj5h3k4+Yd5OPmHeTj5h3k4+Yd5OPmHeTj5h3k4+Yd5OPmHeTj5h3k4+Yd5OPmHeTj5h3k4+Yd5OPmHeTj5h3k4+Yd5OPmHeTj5h3k4+Yd5OPmHeTj5h3k4+Yd5OPmHeTj5h3k4+Yd5OPmHeTj5h3k4+Yd5OPmHeTj5h3k4+Yd5OPmHeTj5h3k4+Yd5OPmHeTj5h3k4+Yd5OPmHeTj5h3k4+Yd5OPmHeTj5h3k4+Yd5OPmHeTj5h3k4+Yd5OPmHeTj5h3k4+Yd5OPmHeTj5h3k4+Yd5OPmHeTj5h3k4+Yd5OPmHeTj5h3k4+Yd5OPmHeTj5h3k4+Yd5OPmHeTj5h3k4+Yd5OPmHeTj5h3k4+Yd5OPmHeTj5h3k4+Yd5OPmHeTj5h3k4+Yd5OPmHeTj5h3k4+Yd5OPmHeTj7fzpA+386QPt/OkD7fzpA+386QPt/OkD7fzpA+386QPt/OkD7fzpA+386QPt/OkD7fzpA+386QPt/OkD7fzpA+386QPt/OkD7fzpA+386QPt/OkD7fzpA+386QPt/OkD7fzpA+386QPt/OkD7fzpA+386QPt/OkD7fzpA+386QPt/OkD7fzpA+386QPt/OkD7fzpA+386QPt/OkD7fzpA+386QPt/OkD7fzpA+386QPt/OkD7fzpA+386QPt/OkD7fzpA+386QPt/OkD7fzpA+386QPt/OkD7fzpA+386QPt/OkD7fzpA+386QPt/OkD7fzpA+386QPt/OkD7fzpA+386QPt/OkD7fzpA+386QPt/OkD7fzpA+386QPt/OkD7fzpA+386QPt/OkD7fzpA+386QPt/OkD7fzpA+386QPt/OkD7fzpA+386QPt/OkD7fzpA+386QPt/OkD7fzpA+386QPt/OkD7fzpA+386QPt/OkD7fzpA+386QPt/OkD7fzpA+386QPt/OkD7fzpA+ji66Po4uuj6OLro+ji66Po4uuj6OLro+ji66Po4uuj6OLro+ji66Po4uuj6OLro+ji66Po4uuj6OLro+ji66Po4uuj6OLro+ji66Po4uuj6OLro+ji66Po4uuj6OLro+ji66Po4uuj6OLro+ji66Po4uuj6OLro+ji66Po4uuj6OLro+ji66Po4uuj6OLro+ji66Po4uuj6OLro+ji66Po4uuj6OLro+ji66Po4uuj6OLro+ji66Po4uuj6OLro+ji66Po4uuj6OLro+ji66Po4uuj6OLro+ji66Po4uuj6OLro+ji66Po4uuj6OLro+ji66Po4uuj6OLro+ji66Po4uuj6OLro+ji66Po4uuj6OLro+ji66Po4uuj6OLro+ji66Po4uuj6OLro+ji66Po4uuj6OLro+ji66Po4uuj6OLro+ji66Po4uuj6OLro+ji66Po4uuj6OLro+ji66Po4uuj6OLro+ji66Po4uuj6OLro+ji66Po4uuj6OLro+ji66Po4uuj6OLro+ji66PjyO4z48juM+PI7jPjyO4z48juM+PI7jPjyO4z48juM+PI7jPjyO4z48juM+PI7jPjyO4z48juM+PI7jPjyO4z48juM+PI7jPjyO4z48juM+PI7jPjyO4z48juM+PI7jPjyO4z48juM+PI7jPjyO4z48juM+PI7jPjyO4z48juM+PI7jPjyO4z48juM+PI7jPjyO4z48juM+PI7jPjyO4z48juM+PI7jPjyO4z48juM+PI7jPjyO4z48juM+PI7jPjyO4z48juM+PI7jPjyO4z48juM+PI7jPjyO4z48juM+PI7jPjyO4z48juM+PI7jPjyO4z48juM+PI7jPjyO4z48juM+PI7jPjyO4z48juM+PI7jPjyO4z48juM+PI7jPjyO4z48juM+PI7jPjyO4z48juM+PI7jPjyO4z48juM+PI7jPjyO4z48juM+PI7jPjyO4z48juM+PI7jPjyO4z48juM+PI7jPjyO4z48juM+PI7jPjyO4z48juM+PI7jPjyO4z48juM+PI7jPjyO4z7ydgY/8nYGP/J2Bj/ydgY/8nYGP/J2Bj/ydgY/8nYGP/J2Bj/ydgY/8nYGP/J2Bj/ydgY/8nYGP/J2Bj/ydgY/8nYGP/J2Bj/ydgY/8nYGP/J2Bj/ydgY/8nYGP/J2Bj/ydgY/8nYGP/J2Bj/ydgY/8nYGP/J2Bj/ydgY/8nYGP/J2Bj/ydgY/8nYGP/J2Bj/ydgY/8nYGP/J2Bj/ydgY/8nYGP/J2Bj/ydgY/8nYGP/J2Bj/ydgY/8nYGP/J2Bj/ydgY/8nYGP/J2Bj/ydgY/8nYGP/J2Bj/ydgY/8nYGP/J2Bj/ydgY/8nYGP/J2Bj/ydgY/8nYGP/J2Bj/ydgY/8nYGP/J2Bj/ydgY/8nYGP/J2Bj/ydgY/8nYGP/J2Bj/ydgY/8nYGP/J2Bj/ydgY/8nYGP/J2Bj/ydgY/8nYGP/J2Bj/ydgY/8nYGP/J2Bj/ydgY/8nYGP/J2Bj/ydgY/8nYGP/J2Bj/ydgY/8nYGP/J2Bj/ydgY/8nYGP/J2Bj/ydgY/8nYGP/J2Bj/ydgY/ySYbP8kmGz/JJhs/ySYbP8kmGz/JJhs/ySYbP8kmGz/JJhs/ySYbP8kmGz/JJhs/ySYbP8kmGz/JJhs/ySYbP8kmGz/JJhs/ySYbP8kmGz/JJhs/ySYbP8kmGz/JJhs/ySYbP8kmGz/JJhs/ySYbP8kmGz/JJhs/ySYbP8kmGz/JJhs/ySYbP8kmGz/JJhs/ySYbP8kmGz/JJhs/ySYbP8kmGz/JJhs/ySYbP8kmGz/JJhs/ySYbP8kmGz/JJhs/ySYbP8kmGz/JJhs/ySYbP8kmGz/JJhs/ySYbP8kmGz/JJhs/ySYbP8kmGz/JJhs/ySYbP8kmGz/JJhs/ySYbP8kmGz/JJhs/ySYbP8kmGz/JJhs/ySYbP8kmGz/JJhs/ySYbP8kmGz/JJhs/ySYbP8kmGz/JJhs/ySYbP8kmGz/JJhs/ySYbP8kmGz/JJhs/ySYbP8kmGz/JJhs/ySYbP8kmGz/JJhs/ySYbP8kmGz/JJhs/ySYbP8kmGz/JJhs/ySYbP8kmGz/JJhs/ySYbP6DWLz+g1i8/oNYvP6DWLz+g1i8/oNYvP6DWLz+g1i8/oNYvP6DWLz+g1i8/oNYvP6DWLz+g1i8/oNYvP6DWLz+g1i8/oNYvP6DWLz+g1i8/oNYvP6DWLz+g1i8/oNYvP6DWLz+g1i8/oNYvP6DWLz+g1i8/oNYvP6DWLz+g1i8/oNYvP6DWLz+g1i8/oNYvP6DWLz+g1i8/oNYvP6DWLz+g1i8/oNYvP6DWLz+g1i8/oNYvP6DWLz+g1i8/oNYvP6DWLz+g1i8/oNYvP6DWLz+g1i8/oNYvP6DWLz+g1i8/oNYvP6DWLz+g1i8/oNYvP6DWLz+g1i8/oNYvP6DWLz+g1i8/oNYvP6DWLz+g1i8/oNYvP6DWLz+g1i8/oNYvP6DWLz+g1i8/oNYvP6DWLz+g1i8/oNYvP6DWLz+g1i8/oNYvP6DWLz+g1i8/oNYvP6DWLz+g1i8/oNYvP6DWLz+g1i8/oNYvP6DWLz+g1i8/oNYvP6DWLz+g1i8/oNYvP6DWLz+g1i8/oNYvP6DWLz93hkQ/d4ZEP3eGRD93hkQ/d4ZEP3eGRD93hkQ/d4ZEP3eGRD93hkQ/d4ZEP3eGRD93hkQ/d4ZEP3eGRD93hkQ/d4ZEP3eGRD93hkQ/d4ZEP3eGRD93hkQ/d4ZEP3eGRD93hkQ/d4ZEP3eGRD93hkQ/d4ZEP3eGRD93hkQ/d4ZEP3eGRD93hkQ/d4ZEP3eGRD93hkQ/d4ZEP3eGRD93hkQ/d4ZEP3eGRD93hkQ/d4ZEP3eGRD93hkQ/d4ZEP3eGRD93hkQ/d4ZEP3eGRD93hkQ/d4ZEP3eGRD93hkQ/d4ZEP3eGRD93hkQ/d4ZEP3eGRD93hkQ/d4ZEP3eGRD93hkQ/d4ZEP3eGRD93hkQ/d4ZEP3eGRD93hkQ/d4ZEP3eGRD93hkQ/d4ZEP3eGRD93hkQ/d4ZEP3eGRD93hkQ/d4ZEP3eGRD93hkQ/d4ZEP3eGRD93hkQ/d4ZEP3eGRD93hkQ/d4ZEP3eGRD93hkQ/d4ZEP3eGRD93hkQ/d4ZEP3eGRD93hkQ/d4ZEP3eGRD93hkQ/TzZZP082WT9PNlk/TzZZP082WT9PNlk/TzZZP082WT9PNlk/TzZZP082WT9PNlk/TzZZP082WT9PNlk/TzZZP082WT9PNlk/TzZZP082WT9PNlk/TzZZP082WT9PNlk/TzZZP082WT9PNlk/TzZZP082WT9PNlk/TzZZP082WT9PNlk/TzZZP082WT9PNlk/TzZZP082WT9PNlk/TzZZP082WT9PNlk/TzZZP082WT9PNlk/TzZZP082WT9PNlk/TzZZP082WT9PNlk/TzZZP082WT9PNlk/TzZZP082WT9PNlk/TzZZP082WT9PNlk/TzZZP082WT9PNlk/TzZZP082WT9PNlk/TzZZP082WT9PNlk/TzZZP082WT9PNlk/TzZZP082WT9PNlk/TzZZP082WT9PNlk/TzZZP082WT9PNlk/TzZZP082WT9PNlk/TzZZP082WT9PNlk/TzZZP082WT9PNlk/TzZZP082WT9PNlk/TzZZP082WT9PNlk/TzZZP082WT9PNlk/TzZZPybmbT8m5m0/JuZtPybmbT8m5m0/JuZtPybmbT8m5m0/JuZtPybmbT8m5m0/JuZtPybmbT8m5m0/JuZtPybmbT8m5m0/JuZtPybmbT8m5m0/JuZtPybmbT8m5m0/JuZtPybmbT8m5m0/JuZtPybmbT8m5m0/JuZtPybmbT8m5m0/JuZtPybmbT8m5m0/JuZtPybmbT8m5m0/JuZtPybmbT8m5m0/JuZtPybmbT8m5m0/JuZtPybmbT8m5m0/JuZtPybmbT8m5m0/JuZtPybmbT8m5m0/JuZtPybmbT8m5m0/JuZtPybmbT8m5m0/JuZtPybmbT8m5m0/JuZtPybmbT8m5m0/JuZtPybmbT8m5m0/JuZtPybmbT8m5m0/JuZtPybmbT8m5m0/JuZtPybmbT8m5m0/JuZtPybmbT8m5m0/JuZtPybmbT8m5m0/JuZtPybmbT8m5m0/JuZtPybmbT8m5m0/JuZtPybmbT8m5m0/JuZtPybmbT8m5m0/JuZtPybmbT8m5m0/JuZtPybmbT/9SoE//UqBP/1KgT/9SoE//UqBP/1KgT/9SoE//UqBP/1KgT/9SoE//UqBP/1KgT/9SoE//UqBP/1KgT/9SoE//UqBP/1KgT/9SoE//UqBP/1KgT/9SoE//UqBP/1KgT/9SoE//UqBP/1KgT/9SoE//UqBP/1KgT/9SoE//UqBP/1KgT/9SoE//UqBP/1KgT/9SoE//UqBP/1KgT/9SoE//UqBP/1KgT/9SoE//UqBP/1KgT/9SoE//UqBP/1KgT/9SoE//UqBP/1KgT/9SoE//UqBP/1KgT/9SoE//UqBP/1KgT/9SoE//UqBP/1KgT/9SoE//UqBP/1KgT/9SoE//UqBP/1KgT/9SoE//UqBP/1KgT/9SoE//UqBP/1KgT/9SoE//UqBP/1KgT/9SoE//UqBP/1KgT/9SoE//UqBP/1KgT/9SoE//UqBP/1KgT/9SoE//UqBP/1KgT/9SoE//UqBP/1KgT/9SoE//UqBP/1KgT/9SoE//UqBP/1KgT/9SoE//UqBP/1KgT/9SoE/6KKLP+iiiz/ooos/6KKLP+iiiz/ooos/6KKLP+iiiz/ooos/6KKLP+iiiz/ooos/6KKLP+iiiz/ooos/6KKLP+iiiz/ooos/6KKLP+iiiz/ooos/6KKLP+iiiz/ooos/6KKLP+iiiz/ooos/6KKLP+iiiz/ooos/6KKLP+iiiz/ooos/6KKLP+iiiz/ooos/6KKLP+iiiz/ooos/6KKLP+iiiz/ooos/6KKLP+iiiz/ooos/6KKLP+iiiz/ooos/6KKLP+iiiz/ooos/6KKLP+iiiz/ooos/6KKLP+iiiz/ooos/6KKLP+iiiz/ooos/6KKLP+iiiz/ooos/6KKLP+iiiz/ooos/6KKLP+iiiz/ooos/6KKLP+iiiz/ooos/6KKLP+iiiz/ooos/6KKLP+iiiz/ooos/6KKLP+iiiz/ooos/6KKLP+iiiz/ooos/6KKLP+iiiz/ooos/6KKLP+iiiz/ooos/6KKLP+iiiz/ooos/6KKLP+iiiz/ooos/6KKLP+iiiz/ooos/6KKLP9T6lT/U+pU/1PqVP9T6lT/U+pU/1PqVP9T6lT/U+pU/1PqVP9T6lT/U+pU/1PqVP9T6lT/U+pU/1PqVP9T6lT/U+pU/1PqVP9T6lT/U+pU/1PqVP9T6lT/U+pU/1PqVP9T6lT/U+pU/1PqVP9T6lT/U+pU/1PqVP9T6lT/U+pU/1PqVP9T6lT/U+pU/1PqVP9T6lT/U+pU/1PqVP9T6lT/U+pU/1PqVP9T6lT/U+pU/1PqVP9T6lT/U+pU/1PqVP9T6lT/U+pU/1PqVP9T6lT/U+pU/1PqVP9T6lT/U+pU/1PqVP9T6lT/U+pU/1PqVP9T6lT/U+pU/1PqVP9T6lT/U+pU/1PqVP9T6lT/U+pU/1PqVP9T6lT/U+pU/1PqVP9T6lT/U+pU/1PqVP9T6lT/U+pU/1PqVP9T6lT/U+pU/1PqVP9T6lT/U+pU/1PqVP9T6lT/U+pU/1PqVP9T6lT/U+pU/1PqVP9T6lT/U+pU/1PqVP9T6lT/U+pU/1PqVP9T6lT/U+pU/1PqVP9T6lT/AUqA/wFKgP8BSoD/AUqA/wFKgP8BSoD/AUqA/wFKgP8BSoD/AUqA/wFKgP8BSoD/AUqA/wFKgP8BSoD/AUqA/wFKgP8BSoD/AUqA/wFKgP8BSoD/AUqA/wFKgP8BSoD/AUqA/wFKgP8BSoD/AUqA/wFKgP8BSoD/AUqA/wFKgP8BSoD/AUqA/wFKgP8BSoD/AUqA/wFKgP8BSoD/AUqA/wFKgP8BSoD/AUqA/wFKgP8BSoD/AUqA/wFKgP8BSoD/AUqA/wFKgP8BSoD/AUqA/wFKgP8BSoD/AUqA/wFKgP8BSoD/AUqA/wFKgP8BSoD/AUqA/wFKgP8BSoD/AUqA/wFKgP8BSoD/AUqA/wFKgP8BSoD/AUqA/wFKgP8BSoD/AUqA/wFKgP8BSoD/AUqA/wFKgP8BSoD/AUqA/wFKgP8BSoD/AUqA/wFKgP8BSoD/AUqA/wFKgP8BSoD/AUqA/wFKgP8BSoD/AUqA/wFKgP8BSoD/AUqA/wFKgP8BSoD/AUqA/wFKgP8BSoD/AUqA/q6qqP6uqqj+rqqo/q6qqP6uqqj+rqqo/q6qqP6uqqj+rqqo/q6qqP6uqqj+rqqo/q6qqP6uqqj+rqqo/q6qqP6uqqj+rqqo/q6qqP6uqqj+rqqo/q6qqP6uqqj+rqqo/q6qqP6uqqj+rqqo/q6qqP6uqqj+rqqo/q6qqP6uqqj+rqqo/q6qqP6uqqj+rqqo/q6qqP6uqqj+rqqo/q6qqP6uqqj+rqqo/q6qqP6uqqj+rqqo/q6qqP6uqqj+rqqo/q6qqP6uqqj+rqqo/q6qqP6uqqj+rqqo/q6qqP6uqqj+rqqo/q6qqP6uqqj+rqqo/q6qqP6uqqj+rqqo/q6qqP6uqqj+rqqo/q6qqP6uqqj+rqqo/q6qqP6uqqj+rqqo/q6qqP6uqqj+rqqo/q6qqP6uqqj+rqqo/q6qqP6uqqj+rqqo/q6qqP6uqqj+rqqo/q6qqP6uqqj+rqqo/q6qqP6uqqj+rqqo/q6qqP6uqqj+rqqo/q6qqP6uqqj+rqqo/q6qqP6uqqj+rqqo/q6qqP5UCtT+VArU/lQK1P5UCtT+VArU/lQK1P5UCtT+VArU/lQK1P5UCtT+VArU/lQK1P5UCtT+VArU/lQK1P5UCtT+VArU/lQK1P5UCtT+VArU/lQK1P5UCtT+VArU/lQK1P5UCtT+VArU/lQK1P5UCtT+VArU/lQK1P5UCtT+VArU/lQK1P5UCtT+VArU/lQK1P5UCtT+VArU/lQK1P5UCtT+VArU/lQK1P5UCtT+VArU/lQK1P5UCtT+VArU/lQK1P5UCtT+VArU/lQK1P5UCtT+VArU/lQK1P5UCtT+VArU/lQK1P5UCtT+VArU/lQK1P5UCtT+VArU/lQK1P5UCtT+VArU/lQK1P5UCtT+VArU/lQK1P5UCtT+VArU/lQK1P5UCtT+VArU/lQK1P5UCtT+VArU/lQK1P5UCtT+VArU/lQK1P5UCtT+VArU/lQK1P5UCtT+VArU/lQK1P5UCtT+VArU/lQK1P5UCtT+VArU/lQK1P5UCtT+VArU/lQK1P5UCtT+VArU/lQK1P5UCtT+BWr8/gVq/P4Favz+BWr8/gVq/P4Favz+BWr8/gVq/P4Favz+BWr8/gVq/P4Favz+BWr8/gVq/P4Favz+BWr8/gVq/P4Favz+BWr8/gVq/P4Favz+BWr8/gVq/P4Favz+BWr8/gVq/P4Favz+BWr8/gVq/P4Favz+BWr8/gVq/P4Favz+BWr8/gVq/P4Favz+BWr8/gVq/P4Favz+BWr8/gVq/P4Favz+BWr8/gVq/P4Favz+BWr8/gVq/P4Favz+BWr8/gVq/P4Favz+BWr8/gVq/P4Favz+BWr8/gVq/P4Favz+BWr8/gVq/P4Favz+BWr8/gVq/P4Favz+BWr8/gVq/P4Favz+BWr8/gVq/P4Favz+BWr8/gVq/P4Favz+BWr8/gVq/P4Favz+BWr8/gVq/P4Favz+BWr8/gVq/P4Favz+BWr8/gVq/P4Favz+BWr8/gVq/P4Favz+BWr8/gVq/P4Favz+BWr8/gVq/P4Favz+BWr8/gVq/P4Favz+BWr8/gVq/P4Favz+BWr8/bLLJP2yyyT9sssk/bLLJP2yyyT9sssk/bLLJP2yyyT9sssk/bLLJP2yyyT9sssk/bLLJP2yyyT9sssk/bLLJP2yyyT9sssk/bLLJP2yyyT9sssk/bLLJP2yyyT9sssk/bLLJP2yyyT9sssk/bLLJP2yyyT9sssk/bLLJP2yyyT9sssk/bLLJP2yyyT9sssk/bLLJP2yyyT9sssk/bLLJP2yyyT9sssk/bLLJP2yyyT9sssk/bLLJP2yyyT9sssk/bLLJP2yyyT9sssk/bLLJP2yyyT9sssk/bLLJP2yyyT9sssk/bLLJP2yyyT9sssk/bLLJP2yyyT9sssk/bLLJP2yyyT9sssk/bLLJP2yyyT9sssk/bLLJP2yyyT9sssk/bLLJP2yyyT9sssk/bLLJP2yyyT9sssk/bLLJP2yyyT9sssk/bLLJP2yyyT9sssk/bLLJP2yyyT9sssk/bLLJP2yyyT9sssk/bLLJP2yyyT9sssk/bLLJP2yyyT9sssk/bLLJP2yyyT9sssk/bLLJP1gK1D9YCtQ/WArUP1gK1D9YCtQ/WArUP1gK1D9YCtQ/WArUP1gK1D9YCtQ/WArUP1gK1D9YCtQ/WArUP1gK1D9YCtQ/WArUP1gK1D9YCtQ/WArUP1gK1D9YCtQ/WArUP1gK1D9YCtQ/WArUP1gK1D9YCtQ/WArUP1gK1D9YCtQ/WArUP1gK1D9YCtQ/WArUP1gK1D9YCtQ/WArUP1gK1D9YCtQ/WArUP1gK1D9YCtQ/WArUP1gK1D9YCtQ/WArUP1gK1D9YCtQ/WArUP1gK1D9YCtQ/WArUP1gK1D9YCtQ/WArUP1gK1D9YCtQ/WArUP1gK1D9YCtQ/WArUP1gK1D9YCtQ/WArUP1gK1D9YCtQ/WArUP1gK1D9YCtQ/WArUP1gK1D9YCtQ/WArUP1gK1D9YCtQ/WArUP1gK1D9YCtQ/WArUP1gK1D9YCtQ/WArUP1gK1D9YCtQ/WArUP1gK1D9YCtQ/WArUP1gK1D9YCtQ/WArUP1gK1D9YCtQ/WArUP1gK1D9YCtQ/WArUP1gK1D9EYt4/RGLeP0Ri3j9EYt4/RGLeP0Ri3j9EYt4/RGLeP0Ri3j9EYt4/RGLeP0Ri3j9EYt4/RGLeP0Ri3j9EYt4/RGLeP0Ri3j9EYt4/RGLeP0Ri3j9EYt4/RGLeP0Ri3j9EYt4/RGLeP0Ri3j9EYt4/RGLeP0Ri3j9EYt4/RGLeP0Ri3j9EYt4/RGLeP0Ri3j9EYt4/RGLeP0Ri3j9EYt4/RGLeP0Ri3j9EYt4/RGLeP0Ri3j9EYt4/RGLeP0Ri3j9EYt4/RGLeP0Ri3j9EYt4/RGLeP0Ri3j9EYt4/RGLeP0Ri3j9EYt4/RGLeP0Ri3j9EYt4/RGLeP0Ri3j9EYt4/RGLeP0Ri3j9EYt4/RGLeP0Ri3j9EYt4/RGLeP0Ri3j9EYt4/RGLeP0Ri3j9EYt4/RGLeP0Ri3j9EYt4/RGLeP0Ri3j9EYt4/RGLeP0Ri3j9EYt4/RGLeP0Ri3j9EYt4/RGLeP0Ri3j9EYt4/RGLeP0Ri3j9EYt4/RGLeP0Ri3j9EYt4/RGLeP0Ri3j9EYt4/L7roPy+66D8vuug/L7roPy+66D8vuug/L7roPy+66D8vuug/L7roPy+66D8vuug/L7roPy+66D8vuug/L7roPy+66D8vuug/L7roPy+66D8vuug/L7roPy+66D8vuug/L7roPy+66D8vuug/L7roPy+66D8vuug/L7roPy+66D8vuug/L7roPy+66D8vuug/L7roPy+66D8vuug/L7roPy+66D8vuug/L7roPy+66D8vuug/L7roPy+66D8vuug/L7roPy+66D8vuug/L7roPy+66D8vuug/L7roPy+66D8vuug/L7roPy+66D8vuug/L7roPy+66D8vuug/L7roPy+66D8vuug/L7roPy+66D8vuug/L7roPy+66D8vuug/L7roPy+66D8vuug/L7roPy+66D8vuug/L7roPy+66D8vuug/L7roPy+66D8vuug/L7roPy+66D8vuug/L7roPy+66D8vuug/L7roPy+66D8vuug/L7roPy+66D8vuug/L7roPy+66D8vuug/L7roPxkS8z8ZEvM/GRLzPxkS8z8ZEvM/GRLzPxkS8z8ZEvM/GRLzPxkS8z8ZEvM/GRLzPxkS8z8ZEvM/GRLzPxkS8z8ZEvM/GRLzPxkS8z8ZEvM/GRLzPxkS8z8ZEvM/GRLzPxkS8z8ZEvM/GRLzPxkS8z8ZEvM/GRLzPxkS8z8ZEvM/GRLzPxkS8z8ZEvM/GRLzPxkS8z8ZEvM/GRLzPxkS8z8ZEvM/GRLzPxkS8z8ZEvM/GRLzPxkS8z8ZEvM/GRLzPxkS8z8ZEvM/GRLzPxkS8z8ZEvM/GRLzPxkS8z8ZEvM/GRLzPxkS8z8ZEvM/GRLzPxkS8z8ZEvM/GRLzPxkS8z8ZEvM/GRLzPxkS8z8ZEvM/GRLzPxkS8z8ZEvM/GRLzPxkS8z8ZEvM/GRLzPxkS8z8ZEvM/GRLzPxkS8z8ZEvM/GRLzPxkS8z8ZEvM/GRLzPxkS8z8ZEvM/GRLzPxkS8z8ZEvM/GRLzPxkS8z8ZEvM/GRLzPxkS8z8ZEvM/GRLzPxkS8z8ZEvM/GRLzPxkS8z8Fav0/BWr9PwVq/T8Fav0/BWr9PwVq/T8Fav0/BWr9PwVq/T8Fav0/BWr9PwVq/T8Fav0/BWr9PwVq/T8Fav0/BWr9PwVq/T8Fav0/BWr9PwVq/T8Fav0/BWr9PwVq/T8Fav0/BWr9PwVq/T8Fav0/BWr9PwVq/T8Fav0/BWr9PwVq/T8Fav0/BWr9PwVq/T8Fav0/BWr9PwVq/T8Fav0/BWr9PwVq/T8Fav0/BWr9PwVq/T8Fav0/BWr9PwVq/T8Fav0/BWr9PwVq/T8Fav0/BWr9PwVq/T8Fav0/BWr9PwVq/T8Fav0/BWr9PwVq/T8Fav0/BWr9PwVq/T8Fav0/BWr9PwVq/T8Fav0/BWr9PwVq/T8Fav0/BWr9PwVq/T8Fav0/BWr9PwVq/T8Fav0/BWr9PwVq/T8Fav0/BWr9PwVq/T8Fav0/BWr9PwVq/T8Fav0/BWr9PwVq/T8Fav0/BWr9PwVq/T8Fav0/BWr9PwVq/T8Fav0/BWr9PwVq/T8Fav0/BWr9PwVq/T8Fav0/+OADQPjgA0D44ANA+OADQPjgA0D44ANA+OADQPjgA0D44ANA+OADQPjgA0D44ANA+OADQPjgA0D44ANA+OADQPjgA0D44ANA+OADQPjgA0D44ANA+OADQPjgA0D44ANA+OADQPjgA0D44ANA+OADQPjgA0D44ANA+OADQPjgA0D44ANA+OADQPjgA0D44ANA+OADQPjgA0D44ANA+OADQPjgA0D44ANA+OADQPjgA0D44ANA+OADQPjgA0D44ANA+OADQPjgA0D44ANA+OADQPjgA0D44ANA+OADQPjgA0D44ANA+OADQPjgA0D44ANA+OADQPjgA0D44ANA+OADQPjgA0D44ANA+OADQPjgA0D44ANA+OADQPjgA0D44ANA+OADQPjgA0D44ANA+OADQPjgA0D44ANA+OADQPjgA0D44ANA+OADQPjgA0D44ANA+OADQPjgA0D44ANA+OADQPjgA0D44ANA+OADQPjgA0D44ANA+OADQPjgA0D44ANA+OADQPjgA0D44ANA+OADQO4MCUDuDAlA7gwJQO4MCUDuDAlA7gwJQO4MCUDuDAlA7gwJQO4MCUDuDAlA7gwJQO4MCUDuDAlA7gwJQO4MCUDuDAlA7gwJQO4MCUDuDAlA7gwJQO4MCUDuDAlA7gwJQO4MCUDuDAlA7gwJQO4MCUDuDAlA7gwJQO4MCUDuDAlA7gwJQO4MCUDuDAlA7gwJQO4MCUDuDAlA7gwJQO4MCUDuDAlA7gwJQO4MCUDuDAlA7gwJQO4MCUDuDAlA7gwJQO4MCUDuDAlA7gwJQO4MCUDuDAlA7gwJQO4MCUDuDAlA7gwJQO4MCUDuDAlA7gwJQO4MCUDuDAlA7gwJQO4MCUDuDAlA7gwJQO4MCUDuDAlA7gwJQO4MCUDuDAlA7gwJQO4MCUDuDAlA7gwJQO4MCUDuDAlA7gwJQO4MCUDuDAlA7gwJQO4MCUDuDAlA7gwJQO4MCUDuDAlA7gwJQO4MCUDuDAlA7gwJQO4MCUDuDAlA7gwJQO4MCUDuDAlA7gwJQO4MCUDuDAlA7gwJQO4MCUDkOA5A5DgOQOQ4DkDkOA5A5DgOQOQ4DkDkOA5A5DgOQOQ4DkDkOA5A5DgOQOQ4DkDkOA5A5DgOQOQ4DkDkOA5A5DgOQOQ4DkDkOA5A5DgOQOQ4DkDkOA5A5DgOQOQ4DkDkOA5A5DgOQOQ4DkDkOA5A5DgOQOQ4DkDkOA5A5DgOQOQ4DkDkOA5A5DgOQOQ4DkDkOA5A5DgOQOQ4DkDkOA5A5DgOQOQ4DkDkOA5A5DgOQOQ4DkDkOA5A5DgOQOQ4DkDkOA5A5DgOQOQ4DkDkOA5A5DgOQOQ4DkDkOA5A5DgOQOQ4DkDkOA5A5DgOQOQ4DkDkOA5A5DgOQOQ4DkDkOA5A5DgOQOQ4DkDkOA5A5DgOQOQ4DkDkOA5A5DgOQOQ4DkDkOA5A5DgOQOQ4DkDkOA5A5DgOQOQ4DkDkOA5A5DgOQOQ4DkDkOA5A5DgOQOQ4DkDkOA5A5DgOQOQ4DkDkOA5A5DgOQOQ4DkDkOA5A5DgOQOQ4DkDkOA5A5DgOQOQ4DkDkOA5A5DgOQOQ4DkDkOA5A2mQTQNpkE0DaZBNA2mQTQNpkE0DaZBNA2mQTQNpkE0DaZBNA2mQTQNpkE0DaZBNA2mQTQNpkE0DaZBNA2mQTQNpkE0DaZBNA2mQTQNpkE0DaZBNA2mQTQNpkE0DaZBNA2mQTQNpkE0DaZBNA2mQTQNpkE0DaZBNA2mQTQNpkE0DaZBNA2mQTQNpkE0DaZBNA2mQTQNpkE0DaZBNA2mQTQNpkE0DaZBNA2mQTQNpkE0DaZBNA2mQTQNpkE0DaZBNA2mQTQNpkE0DaZBNA2mQTQNpkE0DaZBNA2mQTQNpkE0DaZBNA2mQTQNpkE0DaZBNA2mQTQNpkE0DaZBNA2mQTQNpkE0DaZBNA2mQTQNpkE0DaZBNA2mQTQNpkE0DaZBNA2mQTQNpkE0DaZBNA2mQTQNpkE0DaZBNA2mQTQNpkE0DaZBNA2mQTQNpkE0DaZBNA2mQTQNpkE0DaZBNA2mQTQNpkE0DaZBNA2mQTQNpkE0DaZBNA2mQTQNpkE0DaZBNA2mQTQNpkE0DaZBNA2mQTQM6QGEDOkBhAzpAYQM6QGEDOkBhAzpAYQM6QGEDOkBhAzpAYQM6QGEDOkBhAzpAYQM6QGEDOkBhAzpAYQM6QGEDOkBhAzpAYQM6QGEDOkBhAzpAYQM6QGEDOkBhAzpAYQM6QGEDOkBhAzpAYQM6QGEDOkBhAzpAYQM6QGEDOkBhAzpAYQM6QGEDOkBhAzpAYQM6QGEDOkBhAzpAYQM6QGEDOkBhAzpAYQM6QGEDOkBhAzpAYQM6QGEDOkBhAzpAYQM6QGEDOkBhAzpAYQM6QGEDOkBhAzpAYQM6QGEDOkBhAzpAYQM6QGEDOkBhAzpAYQM6QGEDOkBhAzpAYQM6QGEDOkBhAzpAYQM6QGEDOkBhAzpAYQM6QGEDOkBhAzpAYQM6QGEDOkBhAzpAYQM6QGEDOkBhAzpAYQM6QGEDOkBhAzpAYQM6QGEDOkBhAzpAYQM6QGEDOkBhAzpAYQM6QGEDOkBhAzpAYQM6QGEDOkBhAzpAYQM6QGEDOkBhAzpAYQM6QGEDOkBhAzpAYQM6QGEDEvB1AxLwdQMS8HUDEvB1AxLwdQMS8HUDEvB1AxLwdQMS8HUDEvB1AxLwdQMS8HUDEvB1AxLwdQMS8HUDEvB1AxLwdQMS8HUDEvB1AxLwdQMS8HUDEvB1AxLwdQMS8HUDEvB1AxLwdQMS8HUDEvB1AxLwdQMS8HUDEvB1AxLwdQMS8HUDEvB1AxLwdQMS8HUDEvB1AxLwdQMS8HUDEvB1AxLwdQMS8HUDEvB1AxLwdQMS8HUDEvB1AxLwdQMS8HUDEvB1AxLwdQMS8HUDEvB1AxLwdQMS8HUDEvB1AxLwdQMS8HUDEvB1AxLwdQMS8HUDEvB1AxLwdQMS8HUDEvB1AxLwdQMS8HUDEvB1AxLwdQMS8HUDEvB1AxLwdQMS8HUDEvB1AxLwdQMS8HUDEvB1AxLwdQMS8HUDEvB1AxLwdQMS8HUDEvB1AxLwdQMS8HUDEvB1AxLwdQMS8HUDEvB1AxLwdQMS8HUDEvB1AxLwdQMS8HUDEvB1AxLwdQMS8HUDEvB1AxLwdQMS8HUDEvB1AuugiQLroIkC66CJAuugiQLroIkC66CJAuugiQLroIkC66CJAuugiQLroIkC66CJAuugiQLroIkC66CJAuugiQLroIkC66CJAuugiQLroIkC66CJAuugiQLroIkC66CJAuugiQLroIkC66CJAuugiQLroIkC66CJAuugiQLroIkC66CJAuugiQLroIkC66CJAuugiQLroIkC66CJAuugiQLroIkC66CJAuugiQLroIkC66CJAuugiQLroIkC66CJAuugiQLroIkC66CJAuugiQLroIkC66CJAuugiQLroIkC66CJAuugiQLroIkC66CJAuugiQLroIkC66CJAuugiQLroIkC66CJAuugiQLroIkC66CJAuugiQLroIkC66CJAuugiQLroIkC66CJAuugiQLroIkC66CJAuugiQLroIkC66CJAuugiQLroIkC66CJAuugiQLroIkC66CJAuugiQLroIkC66CJAuugiQLroIkC66CJAuugiQLroIkC66CJAuugiQLroIkC66CJAuugiQLAUKECwFChAsBQoQLAUKECwFChAsBQoQLAUKECwFChAsBQoQLAUKECwFChAsBQoQLAUKECwFChAsBQoQLAUKECwFChAsBQoQLAUKECwFChAsBQoQLAUKECwFChAsBQoQLAUKECwFChAsBQoQLAUKECwFChAsBQoQLAUKECwFChAsBQoQLAUKECwFChAsBQoQLAUKECwFChAsBQoQLAUKECwFChAsBQoQLAUKECwFChAsBQoQLAUKECwFChAsBQoQLAUKECwFChAsBQoQLAUKECwFChAsBQoQLAUKECwFChAsBQoQLAUKECwFChAsBQoQLAUKECwFChAsBQoQLAUKECwFChAsBQoQLAUKECwFChAsBQoQLAUKECwFChAsBQoQLAUKECwFChAsBQoQLAUKECwFChAsBQoQLAUKECwFChAsBQoQLAUKECwFChAsBQoQLAUKECwFChAsBQoQLAUKECwFChAsBQoQLAUKECwFChAsBQoQLAUKECwFChAsBQoQLAUKECwFChAsBQoQLAUKECmQC1ApkAtQKZALUCmQC1ApkAtQKZALUCmQC1ApkAtQKZALUCmQC1ApkAtQKZALUCmQC1ApkAtQKZALUCmQC1ApkAtQKZALUCmQC1ApkAtQKZALUCmQC1ApkAtQKZALUCmQC1ApkAtQKZALUCmQC1ApkAtQKZALUCmQC1ApkAtQKZALUCmQC1ApkAtQKZALUCmQC1ApkAtQKZALUCmQC1ApkAtQKZALUCmQC1ApkAtQKZALUCmQC1ApkAtQKZALUCmQC1ApkAtQKZALUCmQC1ApkAtQKZALUCmQC1ApkAtQKZALUCmQC1ApkAtQKZALUCmQC1ApkAtQKZALUCmQC1ApkAtQKZALUCmQC1ApkAtQKZALUCmQC1ApkAtQKZALUCmQC1ApkAtQKZALUCmQC1ApkAtQKZALUCmQC1ApkAtQKZALUCmQC1ApkAtQKZALUCmQC1ApkAtQKZALUCmQC1ApkAtQKZALUCmQC1ApkAtQKZALUCmQC1ApkAtQKZALUCmQC1ApkAtQKZALUCmQC1AnGwyQJxsMkCcbDJAnGwyQJxsMkCcbDJAnGwyQJxsMkCcbDJAnGwyQJxsMkCcbDJAnGwyQJxsMkCcbDJAnGwyQJxsMkCcbDJAnGwyQJxsMkCcbDJAnGwyQJxsMkCcbDJAnGwyQJxsMkCcbDJAnGwyQJxsMkCcbDJAnGwyQJxsMkCcbDJAnGwyQJxsMkCcbDJAnGwyQJxsMkCcbDJAnGwyQJxsMkCcbDJAnGwyQJxsMkCcbDJAnGwyQJxsMkCcbDJAnGwyQJxsMkCcbDJAnGwyQJxsMkCcbDJAnGwyQJxsMkCcbDJAnGwyQJxsMkCcbDJAnGwyQJxsMkCcbDJAnGwyQJxsMkCcbDJAnGwyQJxsMkCcbDJAnGwyQJxsMkCcbDJAnGwyQJxsMkCcbDJAnGwyQJxsMkCcbDJAnGwyQJxsMkCcbDJAnGwyQJxsMkCcbDJAnGwyQJxsMkCcbDJAnGwyQJxsMkCcbDJAnGwyQJxsMkCcbDJAnGwyQJxsMkCcbDJAnGwyQJxsMkCcbDJAnGwyQJCYN0CQmDdAkJg3QJCYN0CQmDdAkJg3QJCYN0CQmDdAkJg3QJCYN0CQmDdAkJg3QJCYN0CQmDdAkJg3QJCYN0CQmDdAkJg3QJCYN0CQmDdAkJg3QJCYN0CQmDdAkJg3QJCYN0CQmDdAkJg3QJCYN0CQmDdAkJg3QJCYN0CQmDdAkJg3QJCYN0CQmDdAkJg3QJCYN0CQmDdAkJg3QJCYN0CQmDdAkJg3QJCYN0CQmDdAkJg3QJCYN0CQmDdAkJg3QJCYN0CQmDdAkJg3QJCYN0CQmDdAkJg3QJCYN0CQmDdAkJg3QJCYN0CQmDdAkJg3QJCYN0CQmDdAkJg3QJCYN0CQmDdAkJg3QJCYN0CQmDdAkJg3QJCYN0CQmDdAkJg3QJCYN0CQmDdAkJg3QJCYN0CQmDdAkJg3QJCYN0CQmDdAkJg3QJCYN0CQmDdAkJg3QJCYN0CQmDdAkJg3QJCYN0CQmDdAkJg3QJCYN0CQmDdAkJg3QJCYN0CQmDdAkJg3QJCYN0CQmDdAkJg3QJCYN0CGxDxAhsQ8QIbEPECGxDxAhsQ8QIbEPECGxDxAhsQ8QIbEPECGxDxAhsQ8QIbEPECGxDxAhsQ8QIbEPECGxDxAhsQ8QIbEPECGxDxAhsQ8QIbEPECGxDxAhsQ8QIbEPECGxDxAhsQ8QIbEPECGxDxAhsQ8QIbEPECGxDxAhsQ8QIbEPECGxDxAhsQ8QIbEPECGxDxAhsQ8QIbEPECGxDxAhsQ8QIbEPECGxDxAhsQ8QIbEPECGxDxAhsQ8QIbEPECGxDxAhsQ8QIbEPECGxDxAhsQ8QIbEPECGxDxAhsQ8QIbEPECGxDxAhsQ8QIbEPECGxDxAhsQ8QIbEPECGxDxAhsQ8QIbEPECGxDxAhsQ8QIbEPECGxDxAhsQ8QIbEPECGxDxAhsQ8QIbEPECGxDxAhsQ8QIbEPECGxDxAhsQ8QIbEPECGxDxAhsQ8QIbEPECGxDxAhsQ8QIbEPECGxDxAhsQ8QIbEPECGxDxAhsQ8QIbEPECGxDxAhsQ8QIbEPECGxDxAhsQ8QIbEPECGxDxAfPBBQHzwQUB88EFAfPBBQHzwQUB88EFAfPBBQHzwQUB88EFAfPBBQHzwQUB88EFAfPBBQHzwQUB88EFAfPBBQHzwQUB88EFAfPBBQHzwQUB88EFAfPBBQHzwQUB88EFAfPBBQHzwQUB88EFAfPBBQHzwQUB88EFAfPBBQHzwQUB88EFAfPBBQHzwQUB88EFAfPBBQHzwQUB88EFAfPBBQHzwQUB88EFAfPBBQHzwQUB88EFAfPBBQHzwQUB88EFAfPBBQHzwQUB88EFAfPBBQHzwQUB88EFAfPBBQHzwQUB88EFAfPBBQHzwQUB88EFAfPBBQHzwQUB88EFAfPBBQHzwQUB88EFAfPBBQHzwQUB88EFAfPBBQHzwQUB88EFAfPBBQHzwQUB88EFAfPBBQHzwQUB88EFAfPBBQHzwQUB88EFAfPBBQHzwQUB88EFAfPBBQHzwQUB88EFAfPBBQHzwQUB88EFAfPBBQHzwQUB88EFAfPBBQHzwQUB88EFAfPBBQHzwQUB88EFAfPBBQHIcR0ByHEdAchxHQHIcR0ByHEdAchxHQHIcR0ByHEdAchxHQHIcR0ByHEdAchxHQHIcR0ByHEdAchxHQHIcR0ByHEdAchxHQHIcR0ByHEdAchxHQHIcR0ByHEdAchxHQHIcR0ByHEdAchxHQHIcR0ByHEdAchxHQHIcR0ByHEdAchxHQHIcR0ByHEdAchxHQHIcR0ByHEdAchxHQHIcR0ByHEdAchxHQHIcR0ByHEdAchxHQHIcR0ByHEdAchxHQHIcR0ByHEdAchxHQHIcR0ByHEdAchxHQHIcR0ByHEdAchxHQHIcR0ByHEdAchxHQHIcR0ByHEdAchxHQHIcR0ByHEdAchxHQHIcR0ByHEdAchxHQHIcR0ByHEdAchxHQHIcR0ByHEdAchxHQHIcR0ByHEdAchxHQHIcR0ByHEdAchxHQHIcR0ByHEdAchxHQHIcR0ByHEdAchxHQHIcR0ByHEdAchxHQHIcR0ByHEdAchxHQHIcR0ByHEdAchxHQHIcR0ByHEdAchxHQHIcR0BoSExAaEhMQGhITEBoSExAaEhMQGhITEBoSExAaEhMQGhITEBoSExAaEhMQGhITEBoSExAaEhMQGhITEBoSExAaEhMQGhITEBoSExAaEhMQGhITEBoSExAaEhMQGhITEBoSExAaEhMQGhITEBoSExAaEhMQGhITEBoSExAaEhMQGhITEBoSExAaEhMQGhITEBoSExAaEhMQGhITEBoSExAaEhMQGhITEBoSExAaEhMQGhITEBoSExAaEhMQGhITEBoSExAaEhMQGhITEBoSExAaEhMQGhITEBoSExAaEhMQGhITEBoSExAaEhMQGhITEBoSExAaEhMQGhITEBoSExAaEhMQGhITEBoSExAaEhMQGhITEBoSExAaEhMQGhITEBoSExAaEhMQGhITEBoSExAaEhMQGhITEBoSExAaEhMQGhITEBoSExAaEhMQGhITEBoSExAaEhMQGhITEBoSExAaEhMQGhITEBoSExAaEhMQGhITEBoSExAaEhMQGhITEBoSExAaEhMQGhITEBoSExAXnRRQF50UUBedFFAXnRRQF50UUBedFFAXnRRQF50UUBedFFAXnRRQF50UUBedFFAXnRRQF50UUBedFFAXnRRQF50UUBedFFAXnRRQF50UUBedFFAXnRRQF50UUBedFFAXnRRQF50UUBedFFAXnRRQF50UUBedFFAXnRRQF50UUBedFFAXnRRQF50UUBedFFAXnRRQF50UUBedFFAXnRRQF50UUBedFFAXnRRQF50UUBedFFAXnRRQF50UUBedFFAXnRRQF50UUBedFFAXnRRQF50UUBedFFAXnRRQF50UUBedFFAXnRRQF50UUBedFFAXnRRQF50UUBedFFAXnRRQF50UUBedFFAXnRRQF50UUBedFFAXnRRQF50UUBedFFAXnRRQF50UUBedFFAXnRRQF50UUBedFFAXnRRQF50UUBedFFAXnRRQF50UUBedFFAXnRRQF50UUBedFFAXnRRQF50UUBedFFAXnRRQF50UUBedFFAXnRRQF50UUBedFFAXnRRQF50UUBedFFAXnRRQFKgVkBSoFZAUqBWQFKgVkBSoFZAUqBWQFKgVkBSoFZAUqBWQFKgVkBSoFZAUqBWQFKgVkBSoFZAUqBWQFKgVkBSoFZAUqBWQFKgVkBSoFZAUqBWQFKgVkBSoFZAUqBWQFKgVkBSoFZAUqBWQFKgVkBSoFZAUqBWQFKgVkBSoFZAUqBWQFKgVkBSoFZAUqBWQFKgVkBSoFZAUqBWQFKgVkBSoFZAUqBWQFKgVkBSoFZAUqBWQFKgVkBSoFZAUqBWQFKgVkBSoFZAUqBWQFKgVkBSoFZAUqBWQFKgVkBSoFZAUqBWQFKgVkBSoFZAUqBWQFKgVkBSoFZAUqBWQFKgVkBSoFZAUqBWQFKgVkBSoFZAUqBWQFKgVkBSoFZAUqBWQFKgVkBSoFZAUqBWQFKgVkBSoFZAUqBWQFKgVkBSoFZAUqBWQFKgVkBSoFZAUqBWQFKgVkBSoFZAUqBWQFKgVkBSoFZAUqBWQFKgVkBSoFZAUqBWQFKgVkBSoFZAUqBWQFKgVkBSoFZAUqBWQFKgVkBIzFtASMxbQEjMW0BIzFtASMxbQEjMW0BIzFtASMxbQEjMW0BIzFtASMxbQEjMW0BIzFtASMxbQEjMW0BIzFtASMxbQEjMW0BIzFtASMxbQEjMW0BIzFtASMxbQEjMW0BIzFtASMxbQEjMW0BIzFtASMxbQEjMW0BIzFtASMxbQEjMW0BIzFtASMxbQEjMW0BIzFtASMxbQEjMW0BIzFtASMxbQEjMW0BIzFtASMxbQEjMW0BIzFtASMxbQEjMW0BIzFtASMxbQEjMW0BIzFtASMxbQEjMW0BIzFtASMxbQEjMW0BIzFtASMxbQEjMW0BIzFtASMxbQEjMW0BIzFtASMxbQEjMW0BIzFtASMxbQEjMW0BIzFtASMxbQEjMW0BIzFtASMxbQEjMW0BIzFtASMxbQEjMW0BIzFtASMxbQEjMW0BIzFtASMxbQEjMW0BIzFtASMxbQEjMW0BIzFtASMxbQEjMW0BIzFtASMxbQEjMW0BIzFtASMxbQEjMW0BIzFtASMxbQEjMW0BIzFtAPvhgQD74YEA++GBAPvhgQD74YEA++GBAPvhgQD74YEA++GBAPvhgQD74YEA++GBAPvhgQD74YEA++GBAPvhgQD74YEA++GBAPvhgQD74YEA++GBAPvhgQD74YEA++GBAPvhgQD74YEA++GBAPvhgQD74YEA++GBAPvhgQD74YEA++GBAPvhgQD74YEA++GBAPvhgQD74YEA++GBAPvhgQD74YEA++GBAPvhgQD74YEA++GBAPvhgQD74YEA++GBAPvhgQD74YEA++GBAPvhgQD74YEA++GBAPvhgQD74YEA++GBAPvhgQD74YEA++GBAPvhgQD74YEA++GBAPvhgQD74YEA++GBAPvhgQD74YEA++GBAPvhgQD74YEA++GBAPvhgQD74YEA++GBAPvhgQD74YEA++GBAPvhgQD74YEA++GBAPvhgQD74YEA++GBAPvhgQD74YEA++GBAPvhgQD74YEA++GBAPvhgQD74YEA++GBAPvhgQD74YEA++GBAPvhgQD74YEA++GBAPvhgQDQkZkA0JGZANCRmQDQkZkA0JGZANCRmQDQkZkA0JGZANCRmQDQkZkA0JGZANCRmQDQkZkA0JGZANCRmQDQkZkA0JGZANCRmQDQkZkA0JGZANCRmQDQkZkA0JGZANCRmQDQkZkA0JGZANCRmQDQkZkA0JGZANCRmQDQkZkA0JGZANCRmQDQkZkA0JGZANCRmQDQkZkA0JGZANCRmQDQkZkA0JGZANCRmQDQkZkA0JGZANCRmQDQkZkA0JGZANCRmQDQkZkA0JGZANCRmQDQkZkA0JGZANCRmQDQkZkA0JGZANCRmQDQkZkA0JGZANCRmQDQkZkA0JGZANCRmQDQkZkA0JGZANCRmQDQkZkA0JGZANCRmQDQkZkA0JGZANCRmQDQkZkA0JGZANCRmQDQkZkA0JGZANCRmQDQkZkA0JGZANCRmQDQkZkA0JGZANCRmQDQkZkA0JGZANCRmQDQkZkA0JGZANCRmQDQkZkA0JGZANCRmQDQkZkA0JGZANCRmQDQkZkA0JGZANCRmQDQkZkAqUGtAKlBrQCpQa0AqUGtAKlBrQCpQa0AqUGtAKlBrQCpQa0AqUGtAKlBrQCpQa0AqUGtAKlBrQCpQa0AqUGtAKlBrQCpQa0AqUGtAKlBrQCpQa0AqUGtAKlBrQCpQa0AqUGtAKlBrQCpQa0AqUGtAKlBrQCpQa0AqUGtAKlBrQCpQa0AqUGtAKlBrQCpQa0AqUGtAKlBrQCpQa0AqUGtAKlBrQCpQa0AqUGtAKlBrQCpQa0AqUGtAKlBrQCpQa0AqUGtAKlBrQCpQa0AqUGtAKlBrQCpQa0AqUGtAKlBrQCpQa0AqUGtAKlBrQCpQa0AqUGtAKlBrQCpQa0AqUGtAKlBrQCpQa0AqUGtAKlBrQCpQa0AqUGtAKlBrQCpQa0AqUGtAKlBrQCpQa0AqUGtAKlBrQCpQa0AqUGtAKlBrQCpQa0AqUGtAKlBrQCpQa0AqUGtAKlBrQCpQa0AqUGtAKlBrQCpQa0AqUGtAKlBrQCpQa0AqUGtAKlBrQCpQa0AqUGtAKlBrQCpQa0AqUGtAIHxwQCB8cEAgfHBAIHxwQCB8cEAgfHBAIHxwQCB8cEAgfHBAIHxwQCB8cEAgfHBAIHxwQCB8cEAgfHBAIHxwQCB8cEAgfHBAIHxwQCB8cEAgfHBAIHxwQCB8cEAgfHBAIHxwQCB8cEAgfHBAIHxwQCB8cEAgfHBAIHxwQCB8cEAgfHBAIHxwQCB8cEAgfHBAIHxwQCB8cEAgfHBAIHxwQCB8cEAgfHBAIHxwQCB8cEAgfHBAIHxwQCB8cEAgfHBAIHxwQCB8cEAgfHBAIHxwQCB8cEAgfHBAIHxwQCB8cEAgfHBAIHxwQCB8cEAgfHBAIHxwQCB8cEAgfHBAIHxwQCB8cEAgfHBAIHxwQCB8cEAgfHBAIHxwQCB8cEAgfHBAIHxwQCB8cEAgfHBAIHxwQCB8cEAgfHBAIHxwQCB8cEAgfHBAIHxwQCB8cEAgfHBAIHxwQCB8cEAgfHBAIHxwQCB8cEAgfHBAIHxwQCB8cEAgfHBAIHxwQCB8cEAgfHBAIHxwQCB8cEAgfHBAIHxwQBSodUAUqHVAFKh1QBSodUAUqHVAFKh1QBSodUAUqHVAFKh1QBSodUAUqHVAFKh1QBSodUAUqHVAFKh1QBSodUAUqHVAFKh1QBSodUAUqHVAFKh1QBSodUAUqHVAFKh1QBSodUAUqHVAFKh1QBSodUAUqHVAFKh1QBSodUAUqHVAFKh1QBSodUAUqHVAFKh1QBSodUAUqHVAFKh1QBSodUAUqHVAFKh1QBSodUAUqHVAFKh1QBSodUAUqHVAFKh1QBSodUAUqHVAFKh1QBSodUAUqHVAFKh1QBSodUAUqHVAFKh1QBSodUAUqHVAFKh1QBSodUAUqHVAFKh1QBSodUAUqHVAFKh1QBSodUAUqHVAFKh1QBSodUAUqHVAFKh1QBSodUAUqHVAFKh1QBSodUAUqHVAFKh1QBSodUAUqHVAFKh1QBSodUAUqHVAFKh1QBSodUAUqHVAFKh1QBSodUAUqHVAFKh1QBSodUAUqHVAFKh1QBSodUAUqHVAFKh1QBSodUAUqHVAFKh1QBSodUAK1HpACtR6QArUekAK1HpACtR6QArUekAK1HpACtR6QArUekAK1HpACtR6QArUekAK1HpACtR6QArUekAK1HpACtR6QArUekAK1HpACtR6QArUekAK1HpACtR6QArUekAK1HpACtR6QArUekAK1HpACtR6QArUekAK1HpACtR6QArUekAK1HpACtR6QArUekAK1HpACtR6QArUekAK1HpACtR6QArUekAK1HpACtR6QArUekAK1HpACtR6QArUekAK1HpACtR6QArUekAK1HpACtR6QArUekAK1HpACtR6QArUekAK1HpACtR6QArUekAK1HpACtR6QArUekAK1HpACtR6QArUekAK1HpACtR6QArUekAK1HpACtR6QArUekAK1HpACtR6QArUekAK1HpACtR6QArUekAK1HpACtR6QArUekAK1HpACtR6QArUekAK1HpACtR6QArUekAK1HpACtR6QArUekAK1HpACtR6QArUekAK1HpACtR6QArUekAK1HpACtR6QArUekAK1HpAAACAQAAAgEAAAIBAAACAQAAAgEAAAIBAAACAQAAAgEAAAIBAAACAQAAAgEAAAIBAAACAQAAAgEAAAIBAAACAQAAAgEAAAIBAAACAQAAAgEAAAIBAAACAQAAAgEAAAIBAAACAQAAAgEAAAIBAAACAQAAAgEAAAIBAAACAQAAAgEAAAIBAAACAQAAAgEAAAIBAAACAQAAAgEAAAIBAAACAQAAAgEAAAIBAAACAQAAAgEAAAIBAAACAQAAAgEAAAIBAAACAQAAAgEAAAIBAAACAQAAAgEAAAIBAAACAQAAAgEAAAIBAAACAQAAAgEAAAIBAAACAQAAAgEAAAIBAAACAQAAAgEAAAIBAAACAQAAAgEAAAIBAAACAQAAAgEAAAIBAAACAQAAAgEAAAIBAAACAQAAAgEAAAIBAAACAQAAAgEAAAIBAAACAQAAAgEAAAIBAAACAQAAAgEAAAIBAAACAQAAAgEAAAIBAAACAQAAAgEAAAIBAAACAQAAAgEAAAIBAAACAQAAAgEAAAIBAAACAQA==",
          "dtype": "f4",
          "shape": "100, 100"
         },
         "z": {
          "bdata": "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",
          "dtype": "f4",
          "shape": "100, 100"
         }
        },
        {
         "marker": {
          "color": "red",
          "size": 6,
          "symbol": "circle"
         },
         "mode": "markers+text",
         "text": [
          "P0",
          "P1",
          "P2",
          "P3",
          "P4",
          "P5",
          "P6",
          "P7",
          "P8",
          "P9",
          "P10",
          "P11",
          "P12",
          "P13",
          "P14",
          "P15",
          "P16",
          "P17",
          "P18",
          "P19",
          "P20",
          "P21",
          "P22",
          "P23",
          "P24",
          "P25",
          "P26",
          "P27",
          "P28",
          "P29",
          "P30",
          "P31",
          "P32",
          "P33",
          "P34",
          "P35",
          "P36",
          "P37",
          "P38",
          "P39",
          "P40",
          "P41",
          "P42",
          "P43",
          "P44",
          "P45",
          "P46",
          "P47",
          "P48",
          "P49",
          "P50",
          "P51",
          "P52",
          "P53",
          "P54",
          "P55",
          "P56",
          "P57",
          "P58",
          "P59",
          "P60",
          "P61",
          "P62",
          "P63",
          "P64",
          "P65",
          "P66",
          "P67",
          "P68",
          "P69",
          "P70",
          "P71",
          "P72",
          "P73",
          "P74",
          "P75",
          "P76",
          "P77",
          "P78",
          "P79",
          "P80",
          "P81",
          "P82",
          "P83",
          "P84",
          "P85",
          "P86",
          "P87",
          "P88",
          "P89",
          "P90",
          "P91",
          "P92",
          "P93",
          "P94",
          "P95",
          "P96",
          "P97",
          "P98",
          "P99",
          "P100",
          "P101",
          "P102",
          "P103",
          "P104",
          "P105",
          "P106",
          "P107",
          "P108",
          "P109",
          "P110",
          "P111",
          "P112",
          "P113",
          "P114",
          "P115",
          "P116",
          "P117",
          "P118",
          "P119",
          "P120",
          "P121",
          "P122",
          "P123",
          "P124",
          "P125",
          "P126",
          "P127",
          "P128",
          "P129",
          "P130",
          "P131",
          "P132",
          "P133",
          "P134",
          "P135",
          "P136",
          "P137",
          "P138",
          "P139",
          "P140",
          "P141",
          "P142",
          "P143",
          "P144",
          "P145",
          "P146",
          "P147",
          "P148",
          "P149",
          "P150",
          "P151",
          "P152",
          "P153",
          "P154",
          "P155",
          "P156",
          "P157",
          "P158",
          "P159",
          "P160",
          "P161",
          "P162",
          "P163",
          "P164",
          "P165",
          "P166",
          "P167",
          "P168",
          "P169",
          "P170",
          "P171",
          "P172",
          "P173",
          "P174",
          "P175",
          "P176",
          "P177",
          "P178",
          "P179",
          "P180",
          "P181",
          "P182",
          "P183",
          "P184",
          "P185",
          "P186",
          "P187",
          "P188",
          "P189",
          "P190",
          "P191",
          "P192",
          "P193",
          "P194",
          "P195",
          "P196",
          "P197",
          "P198",
          "P199",
          "P200",
          "P201",
          "P202",
          "P203",
          "P204",
          "P205",
          "P206",
          "P207",
          "P208",
          "P209",
          "P210",
          "P211",
          "P212",
          "P213",
          "P214",
          "P215",
          "P216",
          "P217",
          "P218",
          "P219",
          "P220",
          "P221",
          "P222",
          "P223",
          "P224",
          "P225",
          "P226",
          "P227",
          "P228",
          "P229",
          "P230",
          "P231",
          "P232",
          "P233",
          "P234",
          "P235",
          "P236",
          "P237",
          "P238",
          "P239",
          "P240",
          "P241",
          "P242",
          "P243",
          "P244",
          "P245",
          "P246",
          "P247",
          "P248",
          "P249",
          "P250",
          "P251",
          "P252",
          "P253",
          "P254",
          "P255",
          "P256",
          "P257",
          "P258",
          "P259",
          "P260",
          "P261",
          "P262",
          "P263",
          "P264",
          "P265",
          "P266",
          "P267",
          "P268",
          "P269",
          "P270",
          "P271",
          "P272",
          "P273",
          "P274",
          "P275",
          "P276",
          "P277",
          "P278",
          "P279",
          "P280",
          "P281",
          "P282",
          "P283",
          "P284",
          "P285",
          "P286",
          "P287",
          "P288",
          "P289",
          "P290",
          "P291",
          "P292",
          "P293",
          "P294",
          "P295",
          "P296",
          "P297",
          "P298",
          "P299",
          "P300",
          "P301",
          "P302",
          "P303",
          "P304",
          "P305",
          "P306",
          "P307",
          "P308",
          "P309",
          "P310",
          "P311",
          "P312",
          "P313",
          "P314",
          "P315",
          "P316",
          "P317",
          "P318",
          "P319",
          "P320",
          "P321",
          "P322",
          "P323",
          "P324",
          "P325",
          "P326",
          "P327",
          "P328",
          "P329",
          "P330",
          "P331",
          "P332",
          "P333",
          "P334",
          "P335",
          "P336",
          "P337",
          "P338",
          "P339",
          "P340",
          "P341",
          "P342",
          "P343",
          "P344",
          "P345",
          "P346",
          "P347",
          "P348",
          "P349",
          "P350",
          "P351",
          "P352",
          "P353",
          "P354",
          "P355",
          "P356",
          "P357",
          "P358",
          "P359",
          "P360",
          "P361",
          "P362",
          "P363",
          "P364",
          "P365",
          "P366",
          "P367",
          "P368",
          "P369",
          "P370",
          "P371",
          "P372",
          "P373",
          "P374",
          "P375",
          "P376",
          "P377",
          "P378",
          "P379",
          "P380",
          "P381",
          "P382",
          "P383",
          "P384",
          "P385",
          "P386",
          "P387",
          "P388",
          "P389",
          "P390",
          "P391",
          "P392",
          "P393",
          "P394",
          "P395",
          "P396",
          "P397",
          "P398",
          "P399",
          "P400",
          "P401",
          "P402",
          "P403",
          "P404",
          "P405",
          "P406",
          "P407",
          "P408",
          "P409",
          "P410",
          "P411",
          "P412",
          "P413",
          "P414",
          "P415",
          "P416",
          "P417",
          "P418",
          "P419",
          "P420",
          "P421",
          "P422",
          "P423",
          "P424",
          "P425",
          "P426",
          "P427",
          "P428",
          "P429",
          "P430",
          "P431",
          "P432",
          "P433",
          "P434",
          "P435",
          "P436",
          "P437",
          "P438",
          "P439",
          "P440",
          "P441",
          "P442",
          "P443",
          "P444",
          "P445",
          "P446",
          "P447",
          "P448",
          "P449",
          "P450",
          "P451",
          "P452",
          "P453",
          "P454",
          "P455",
          "P456",
          "P457",
          "P458",
          "P459",
          "P460",
          "P461",
          "P462",
          "P463",
          "P464",
          "P465",
          "P466",
          "P467",
          "P468",
          "P469",
          "P470",
          "P471",
          "P472",
          "P473",
          "P474",
          "P475",
          "P476",
          "P477",
          "P478",
          "P479",
          "P480",
          "P481",
          "P482",
          "P483",
          "P484",
          "P485",
          "P486",
          "P487",
          "P488",
          "P489",
          "P490",
          "P491",
          "P492",
          "P493",
          "P494",
          "P495",
          "P496",
          "P497",
          "P498",
          "P499",
          "P500",
          "P501",
          "P502",
          "P503",
          "P504",
          "P505",
          "P506",
          "P507",
          "P508",
          "P509",
          "P510",
          "P511",
          "P512",
          "P513",
          "P514",
          "P515",
          "P516",
          "P517",
          "P518",
          "P519",
          "P520",
          "P521",
          "P522",
          "P523",
          "P524",
          "P525",
          "P526",
          "P527",
          "P528",
          "P529",
          "P530",
          "P531",
          "P532",
          "P533",
          "P534",
          "P535",
          "P536",
          "P537",
          "P538",
          "P539",
          "P540",
          "P541",
          "P542",
          "P543",
          "P544",
          "P545",
          "P546",
          "P547",
          "P548",
          "P549",
          "P550",
          "P551",
          "P552",
          "P553",
          "P554",
          "P555",
          "P556",
          "P557",
          "P558",
          "P559",
          "P560",
          "P561",
          "P562",
          "P563",
          "P564",
          "P565",
          "P566",
          "P567",
          "P568",
          "P569",
          "P570",
          "P571",
          "P572",
          "P573",
          "P574",
          "P575",
          "P576",
          "P577",
          "P578",
          "P579",
          "P580",
          "P581",
          "P582",
          "P583",
          "P584",
          "P585",
          "P586",
          "P587",
          "P588",
          "P589",
          "P590",
          "P591",
          "P592",
          "P593",
          "P594",
          "P595",
          "P596",
          "P597",
          "P598",
          "P599",
          "P600",
          "P601",
          "P602",
          "P603",
          "P604",
          "P605",
          "P606",
          "P607",
          "P608",
          "P609",
          "P610",
          "P611",
          "P612",
          "P613",
          "P614",
          "P615",
          "P616",
          "P617",
          "P618",
          "P619",
          "P620",
          "P621",
          "P622",
          "P623",
          "P624",
          "P625",
          "P626",
          "P627",
          "P628",
          "P629",
          "P630",
          "P631",
          "P632",
          "P633",
          "P634",
          "P635",
          "P636",
          "P637",
          "P638",
          "P639",
          "P640",
          "P641",
          "P642",
          "P643",
          "P644",
          "P645",
          "P646",
          "P647",
          "P648",
          "P649",
          "P650",
          "P651",
          "P652",
          "P653",
          "P654",
          "P655",
          "P656",
          "P657",
          "P658",
          "P659",
          "P660",
          "P661",
          "P662",
          "P663",
          "P664",
          "P665",
          "P666",
          "P667",
          "P668",
          "P669",
          "P670",
          "P671",
          "P672",
          "P673",
          "P674",
          "P675",
          "P676",
          "P677",
          "P678",
          "P679",
          "P680",
          "P681",
          "P682",
          "P683",
          "P684",
          "P685",
          "P686",
          "P687",
          "P688",
          "P689",
          "P690",
          "P691",
          "P692",
          "P693",
          "P694",
          "P695",
          "P696",
          "P697",
          "P698",
          "P699",
          "P700",
          "P701",
          "P702",
          "P703",
          "P704",
          "P705",
          "P706",
          "P707",
          "P708",
          "P709",
          "P710",
          "P711",
          "P712",
          "P713",
          "P714",
          "P715",
          "P716",
          "P717",
          "P718",
          "P719",
          "P720",
          "P721",
          "P722",
          "P723",
          "P724",
          "P725",
          "P726",
          "P727",
          "P728",
          "P729",
          "P730",
          "P731",
          "P732",
          "P733",
          "P734",
          "P735",
          "P736",
          "P737",
          "P738",
          "P739",
          "P740",
          "P741",
          "P742",
          "P743",
          "P744",
          "P745",
          "P746",
          "P747",
          "P748",
          "P749",
          "P750",
          "P751",
          "P752",
          "P753",
          "P754",
          "P755",
          "P756",
          "P757",
          "P758",
          "P759",
          "P760",
          "P761",
          "P762",
          "P763",
          "P764",
          "P765",
          "P766",
          "P767",
          "P768",
          "P769",
          "P770",
          "P771",
          "P772",
          "P773",
          "P774",
          "P775",
          "P776",
          "P777",
          "P778",
          "P779",
          "P780",
          "P781",
          "P782",
          "P783",
          "P784",
          "P785",
          "P786",
          "P787",
          "P788",
          "P789",
          "P790",
          "P791",
          "P792",
          "P793",
          "P794",
          "P795",
          "P796",
          "P797",
          "P798",
          "P799",
          "P800",
          "P801",
          "P802",
          "P803",
          "P804",
          "P805",
          "P806",
          "P807",
          "P808",
          "P809",
          "P810",
          "P811",
          "P812",
          "P813",
          "P814",
          "P815",
          "P816",
          "P817",
          "P818",
          "P819",
          "P820",
          "P821",
          "P822",
          "P823",
          "P824",
          "P825",
          "P826",
          "P827",
          "P828",
          "P829",
          "P830",
          "P831",
          "P832",
          "P833",
          "P834",
          "P835",
          "P836",
          "P837",
          "P838",
          "P839",
          "P840",
          "P841",
          "P842",
          "P843",
          "P844",
          "P845",
          "P846",
          "P847",
          "P848",
          "P849",
          "P850",
          "P851",
          "P852",
          "P853",
          "P854",
          "P855",
          "P856",
          "P857",
          "P858",
          "P859",
          "P860",
          "P861",
          "P862",
          "P863",
          "P864",
          "P865",
          "P866",
          "P867",
          "P868",
          "P869",
          "P870",
          "P871",
          "P872",
          "P873",
          "P874",
          "P875",
          "P876",
          "P877",
          "P878",
          "P879",
          "P880",
          "P881",
          "P882",
          "P883",
          "P884",
          "P885",
          "P886",
          "P887",
          "P888",
          "P889",
          "P890",
          "P891",
          "P892",
          "P893",
          "P894",
          "P895",
          "P896",
          "P897",
          "P898",
          "P899",
          "P900",
          "P901",
          "P902",
          "P903",
          "P904",
          "P905",
          "P906",
          "P907",
          "P908",
          "P909",
          "P910",
          "P911",
          "P912",
          "P913",
          "P914",
          "P915",
          "P916",
          "P917",
          "P918",
          "P919",
          "P920",
          "P921",
          "P922",
          "P923",
          "P924",
          "P925",
          "P926",
          "P927",
          "P928",
          "P929",
          "P930",
          "P931",
          "P932",
          "P933",
          "P934",
          "P935",
          "P936",
          "P937",
          "P938",
          "P939",
          "P940",
          "P941",
          "P942",
          "P943",
          "P944",
          "P945",
          "P946",
          "P947",
          "P948",
          "P949",
          "P950",
          "P951",
          "P952",
          "P953",
          "P954",
          "P955",
          "P956",
          "P957",
          "P958",
          "P959",
          "P960",
          "P961",
          "P962",
          "P963",
          "P964",
          "P965",
          "P966",
          "P967",
          "P968",
          "P969",
          "P970",
          "P971",
          "P972",
          "P973",
          "P974",
          "P975",
          "P976",
          "P977",
          "P978",
          "P979",
          "P980",
          "P981",
          "P982",
          "P983",
          "P984",
          "P985",
          "P986",
          "P987",
          "P988",
          "P989",
          "P990",
          "P991",
          "P992",
          "P993",
          "P994",
          "P995",
          "P996",
          "P997",
          "P998",
          "P999",
          "P1000"
         ],
         "textposition": "top center",
         "type": "scatter3d",
         "x": {
          "bdata": "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",
          "dtype": "f4"
         },
         "y": {
          "bdata": "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",
          "dtype": "f4"
         },
         "z": {
          "bdata": "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",
          "dtype": "f4"
         }
        }
       ],
       "layout": {
        "autosize": true,
        "scene": {
         "xaxis": {
          "title": {
           "text": "x1"
          }
         },
         "yaxis": {
          "title": {
           "text": "x2"
          }
         },
         "zaxis": {
          "title": {
           "text": "J(x)"
          }
         }
        },
        "template": {
         "data": {
          "bar": [
           {
            "error_x": {
             "color": "#2a3f5f"
            },
            "error_y": {
             "color": "#2a3f5f"
            },
            "marker": {
             "line": {
              "color": "#E5ECF6",
              "width": 0.5
             },
             "pattern": {
              "fillmode": "overlay",
              "size": 10,
              "solidity": 0.2
             }
            },
            "type": "bar"
           }
          ],
          "barpolar": [
           {
            "marker": {
             "line": {
              "color": "#E5ECF6",
              "width": 0.5
             },
             "pattern": {
              "fillmode": "overlay",
              "size": 10,
              "solidity": 0.2
             }
            },
            "type": "barpolar"
           }
          ],
          "carpet": [
           {
            "aaxis": {
             "endlinecolor": "#2a3f5f",
             "gridcolor": "white",
             "linecolor": "white",
             "minorgridcolor": "white",
             "startlinecolor": "#2a3f5f"
            },
            "baxis": {
             "endlinecolor": "#2a3f5f",
             "gridcolor": "white",
             "linecolor": "white",
             "minorgridcolor": "white",
             "startlinecolor": "#2a3f5f"
            },
            "type": "carpet"
           }
          ],
          "choropleth": [
           {
            "colorbar": {
             "outlinewidth": 0,
             "ticks": ""
            },
            "type": "choropleth"
           }
          ],
          "contour": [
           {
            "colorbar": {
             "outlinewidth": 0,
             "ticks": ""
            },
            "colorscale": [
             [
              0,
              "#0d0887"
             ],
             [
              0.1111111111111111,
              "#46039f"
             ],
             [
              0.2222222222222222,
              "#7201a8"
             ],
             [
              0.3333333333333333,
              "#9c179e"
             ],
             [
              0.4444444444444444,
              "#bd3786"
             ],
             [
              0.5555555555555556,
              "#d8576b"
             ],
             [
              0.6666666666666666,
              "#ed7953"
             ],
             [
              0.7777777777777778,
              "#fb9f3a"
             ],
             [
              0.8888888888888888,
              "#fdca26"
             ],
             [
              1,
              "#f0f921"
             ]
            ],
            "type": "contour"
           }
          ],
          "contourcarpet": [
           {
            "colorbar": {
             "outlinewidth": 0,
             "ticks": ""
            },
            "type": "contourcarpet"
           }
          ],
          "heatmap": [
           {
            "colorbar": {
             "outlinewidth": 0,
             "ticks": ""
            },
            "colorscale": [
             [
              0,
              "#0d0887"
             ],
             [
              0.1111111111111111,
              "#46039f"
             ],
             [
              0.2222222222222222,
              "#7201a8"
             ],
             [
              0.3333333333333333,
              "#9c179e"
             ],
             [
              0.4444444444444444,
              "#bd3786"
             ],
             [
              0.5555555555555556,
              "#d8576b"
             ],
             [
              0.6666666666666666,
              "#ed7953"
             ],
             [
              0.7777777777777778,
              "#fb9f3a"
             ],
             [
              0.8888888888888888,
              "#fdca26"
             ],
             [
              1,
              "#f0f921"
             ]
            ],
            "type": "heatmap"
           }
          ],
          "histogram": [
           {
            "marker": {
             "pattern": {
              "fillmode": "overlay",
              "size": 10,
              "solidity": 0.2
             }
            },
            "type": "histogram"
           }
          ],
          "histogram2d": [
           {
            "colorbar": {
             "outlinewidth": 0,
             "ticks": ""
            },
            "colorscale": [
             [
              0,
              "#0d0887"
             ],
             [
              0.1111111111111111,
              "#46039f"
             ],
             [
              0.2222222222222222,
              "#7201a8"
             ],
             [
              0.3333333333333333,
              "#9c179e"
             ],
             [
              0.4444444444444444,
              "#bd3786"
             ],
             [
              0.5555555555555556,
              "#d8576b"
             ],
             [
              0.6666666666666666,
              "#ed7953"
             ],
             [
              0.7777777777777778,
              "#fb9f3a"
             ],
             [
              0.8888888888888888,
              "#fdca26"
             ],
             [
              1,
              "#f0f921"
             ]
            ],
            "type": "histogram2d"
           }
          ],
          "histogram2dcontour": [
           {
            "colorbar": {
             "outlinewidth": 0,
             "ticks": ""
            },
            "colorscale": [
             [
              0,
              "#0d0887"
             ],
             [
              0.1111111111111111,
              "#46039f"
             ],
             [
              0.2222222222222222,
              "#7201a8"
             ],
             [
              0.3333333333333333,
              "#9c179e"
             ],
             [
              0.4444444444444444,
              "#bd3786"
             ],
             [
              0.5555555555555556,
              "#d8576b"
             ],
             [
              0.6666666666666666,
              "#ed7953"
             ],
             [
              0.7777777777777778,
              "#fb9f3a"
             ],
             [
              0.8888888888888888,
              "#fdca26"
             ],
             [
              1,
              "#f0f921"
             ]
            ],
            "type": "histogram2dcontour"
           }
          ],
          "mesh3d": [
           {
            "colorbar": {
             "outlinewidth": 0,
             "ticks": ""
            },
            "type": "mesh3d"
           }
          ],
          "parcoords": [
           {
            "line": {
             "colorbar": {
              "outlinewidth": 0,
              "ticks": ""
             }
            },
            "type": "parcoords"
           }
          ],
          "pie": [
           {
            "automargin": true,
            "type": "pie"
           }
          ],
          "scatter": [
           {
            "fillpattern": {
             "fillmode": "overlay",
             "size": 10,
             "solidity": 0.2
            },
            "type": "scatter"
           }
          ],
          "scatter3d": [
           {
            "line": {
             "colorbar": {
              "outlinewidth": 0,
              "ticks": ""
             }
            },
            "marker": {
             "colorbar": {
              "outlinewidth": 0,
              "ticks": ""
             }
            },
            "type": "scatter3d"
           }
          ],
          "scattercarpet": [
           {
            "marker": {
             "colorbar": {
              "outlinewidth": 0,
              "ticks": ""
             }
            },
            "type": "scattercarpet"
           }
          ],
          "scattergeo": [
           {
            "marker": {
             "colorbar": {
              "outlinewidth": 0,
              "ticks": ""
             }
            },
            "type": "scattergeo"
           }
          ],
          "scattergl": [
           {
            "marker": {
             "colorbar": {
              "outlinewidth": 0,
              "ticks": ""
             }
            },
            "type": "scattergl"
           }
          ],
          "scattermap": [
           {
            "marker": {
             "colorbar": {
              "outlinewidth": 0,
              "ticks": ""
             }
            },
            "type": "scattermap"
           }
          ],
          "scattermapbox": [
           {
            "marker": {
             "colorbar": {
              "outlinewidth": 0,
              "ticks": ""
             }
            },
            "type": "scattermapbox"
           }
          ],
          "scatterpolar": [
           {
            "marker": {
             "colorbar": {
              "outlinewidth": 0,
              "ticks": ""
             }
            },
            "type": "scatterpolar"
           }
          ],
          "scatterpolargl": [
           {
            "marker": {
             "colorbar": {
              "outlinewidth": 0,
              "ticks": ""
             }
            },
            "type": "scatterpolargl"
           }
          ],
          "scatterternary": [
           {
            "marker": {
             "colorbar": {
              "outlinewidth": 0,
              "ticks": ""
             }
            },
            "type": "scatterternary"
           }
          ],
          "surface": [
           {
            "colorbar": {
             "outlinewidth": 0,
             "ticks": ""
            },
            "colorscale": [
             [
              0,
              "#0d0887"
             ],
             [
              0.1111111111111111,
              "#46039f"
             ],
             [
              0.2222222222222222,
              "#7201a8"
             ],
             [
              0.3333333333333333,
              "#9c179e"
             ],
             [
              0.4444444444444444,
              "#bd3786"
             ],
             [
              0.5555555555555556,
              "#d8576b"
             ],
             [
              0.6666666666666666,
              "#ed7953"
             ],
             [
              0.7777777777777778,
              "#fb9f3a"
             ],
             [
              0.8888888888888888,
              "#fdca26"
             ],
             [
              1,
              "#f0f921"
             ]
            ],
            "type": "surface"
           }
          ],
          "table": [
           {
            "cells": {
             "fill": {
              "color": "#EBF0F8"
             },
             "line": {
              "color": "white"
             }
            },
            "header": {
             "fill": {
              "color": "#C8D4E3"
             },
             "line": {
              "color": "white"
             }
            },
            "type": "table"
           }
          ]
         },
         "layout": {
          "annotationdefaults": {
           "arrowcolor": "#2a3f5f",
           "arrowhead": 0,
           "arrowwidth": 1
          },
          "autotypenumbers": "strict",
          "coloraxis": {
           "colorbar": {
            "outlinewidth": 0,
            "ticks": ""
           }
          },
          "colorscale": {
           "diverging": [
            [
             0,
             "#8e0152"
            ],
            [
             0.1,
             "#c51b7d"
            ],
            [
             0.2,
             "#de77ae"
            ],
            [
             0.3,
             "#f1b6da"
            ],
            [
             0.4,
             "#fde0ef"
            ],
            [
             0.5,
             "#f7f7f7"
            ],
            [
             0.6,
             "#e6f5d0"
            ],
            [
             0.7,
             "#b8e186"
            ],
            [
             0.8,
             "#7fbc41"
            ],
            [
             0.9,
             "#4d9221"
            ],
            [
             1,
             "#276419"
            ]
           ],
           "sequential": [
            [
             0,
             "#0d0887"
            ],
            [
             0.1111111111111111,
             "#46039f"
            ],
            [
             0.2222222222222222,
             "#7201a8"
            ],
            [
             0.3333333333333333,
             "#9c179e"
            ],
            [
             0.4444444444444444,
             "#bd3786"
            ],
            [
             0.5555555555555556,
             "#d8576b"
            ],
            [
             0.6666666666666666,
             "#ed7953"
            ],
            [
             0.7777777777777778,
             "#fb9f3a"
            ],
            [
             0.8888888888888888,
             "#fdca26"
            ],
            [
             1,
             "#f0f921"
            ]
           ],
           "sequentialminus": [
            [
             0,
             "#0d0887"
            ],
            [
             0.1111111111111111,
             "#46039f"
            ],
            [
             0.2222222222222222,
             "#7201a8"
            ],
            [
             0.3333333333333333,
             "#9c179e"
            ],
            [
             0.4444444444444444,
             "#bd3786"
            ],
            [
             0.5555555555555556,
             "#d8576b"
            ],
            [
             0.6666666666666666,
             "#ed7953"
            ],
            [
             0.7777777777777778,
             "#fb9f3a"
            ],
            [
             0.8888888888888888,
             "#fdca26"
            ],
            [
             1,
             "#f0f921"
            ]
           ]
          },
          "colorway": [
           "#636efa",
           "#EF553B",
           "#00cc96",
           "#ab63fa",
           "#FFA15A",
           "#19d3f3",
           "#FF6692",
           "#B6E880",
           "#FF97FF",
           "#FECB52"
          ],
          "font": {
           "color": "#2a3f5f"
          },
          "geo": {
           "bgcolor": "white",
           "lakecolor": "white",
           "landcolor": "#E5ECF6",
           "showlakes": true,
           "showland": true,
           "subunitcolor": "white"
          },
          "hoverlabel": {
           "align": "left"
          },
          "hovermode": "closest",
          "mapbox": {
           "style": "light"
          },
          "paper_bgcolor": "white",
          "plot_bgcolor": "#E5ECF6",
          "polar": {
           "angularaxis": {
            "gridcolor": "white",
            "linecolor": "white",
            "ticks": ""
           },
           "bgcolor": "#E5ECF6",
           "radialaxis": {
            "gridcolor": "white",
            "linecolor": "white",
            "ticks": ""
           }
          },
          "scene": {
           "xaxis": {
            "backgroundcolor": "#E5ECF6",
            "gridcolor": "white",
            "gridwidth": 2,
            "linecolor": "white",
            "showbackground": true,
            "ticks": "",
            "zerolinecolor": "white"
           },
           "yaxis": {
            "backgroundcolor": "#E5ECF6",
            "gridcolor": "white",
            "gridwidth": 2,
            "linecolor": "white",
            "showbackground": true,
            "ticks": "",
            "zerolinecolor": "white"
           },
           "zaxis": {
            "backgroundcolor": "#E5ECF6",
            "gridcolor": "white",
            "gridwidth": 2,
            "linecolor": "white",
            "showbackground": true,
            "ticks": "",
            "zerolinecolor": "white"
           }
          },
          "shapedefaults": {
           "line": {
            "color": "#2a3f5f"
           }
          },
          "ternary": {
           "aaxis": {
            "gridcolor": "white",
            "linecolor": "white",
            "ticks": ""
           },
           "baxis": {
            "gridcolor": "white",
            "linecolor": "white",
            "ticks": ""
           },
           "bgcolor": "#E5ECF6",
           "caxis": {
            "gridcolor": "white",
            "linecolor": "white",
            "ticks": ""
           }
          },
          "title": {
           "x": 0.05
          },
          "xaxis": {
           "automargin": true,
           "gridcolor": "white",
           "linecolor": "white",
           "ticks": "",
           "title": {
            "standoff": 15
           },
           "zerolinecolor": "white",
           "zerolinewidth": 2
          },
          "yaxis": {
           "automargin": true,
           "gridcolor": "white",
           "linecolor": "white",
           "ticks": "",
           "title": {
            "standoff": 15
           },
           "zerolinecolor": "white",
           "zerolinewidth": 2
          }
         }
        },
        "title": {
         "text": "Superfície da Função de Custo + Pontos Encontrados (Taxa de Aprendizado = 0.3)"
        }
       }
      }
     },
     "metadata": {},
     "output_type": "display_data"
    }
   ],
   "source": [
    "x_values, costs = dict_of_results[learning_rates[3]]\n",
    "\n",
    "plot_function(f, x_values,costs, title=f\"Superfície da Função de Custo + Pontos Encontrados (Taxa de Aprendizado = {learning_rates[3]})\")"
   ]
  }
 ],
 "metadata": {
  "kernelspec": {
   "display_name": "rna-tarefas-mestrado (3.13.2)",
   "language": "python",
   "name": "python3"
  },
  "language_info": {
   "codemirror_mode": {
    "name": "ipython",
    "version": 3
   },
   "file_extension": ".py",
   "mimetype": "text/x-python",
   "name": "python",
   "nbconvert_exporter": "python",
   "pygments_lexer": "ipython3",
   "version": "3.13.2"
  }
 },
 "nbformat": 4,
 "nbformat_minor": 5
}
