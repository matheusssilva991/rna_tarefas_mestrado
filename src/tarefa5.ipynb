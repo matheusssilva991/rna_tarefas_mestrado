{
 "cells": [
  {
   "cell_type": "code",
   "execution_count": null,
   "id": "749e9c66",
   "metadata": {},
   "outputs": [],
   "source": [
    "import numpy as np\n",
    "import sys\n",
    "import os\n",
    "import pandas as pd\n",
    "import plotly.graph_objects as go\n",
    "\n",
    "sys.path.append(os.path.abspath(\"../libs\"))\n",
    "sys.path.append(os.path.abspath(\"../utils\"))\n",
    "\n",
    "from levenberg_marquadt import levenberg_marquadt\n",
    "from normalize import  MinMaxNormalizer\n",
    "from loss_fn_tarefa5 import make_mse_loss_for_network\n",
    "from activations_fn import tanh_derivative\n",
    "from network import hidden_forward, unflatten_weights, make_jacobian_fn, make_residuals_fn\n",
    "\n",
    "pd.set_option('display.float_format', '{:.5f}'.format)"
   ]
  },
  {
   "cell_type": "markdown",
   "id": "f77a74e5",
   "metadata": {},
   "source": [
    "# Ajuste de curva por otimização"
   ]
  },
  {
   "cell_type": "markdown",
   "id": "76c8d133",
   "metadata": {},
   "source": [
    "## Carregar os dados"
   ]
  },
  {
   "cell_type": "code",
   "execution_count": 9,
   "id": "037534c3",
   "metadata": {},
   "outputs": [
    {
     "data": {
      "application/vnd.plotly.v1+json": {
       "config": {
        "plotlyServerURL": "https://plot.ly"
       },
       "data": [
        {
         "marker": {
          "color": "red",
          "size": 3,
          "symbol": "circle"
         },
         "mode": "markers",
         "name": "Pontos de Dados Originais",
         "type": "scatter3d",
         "x": {
          "bdata": "AAAAAAAAFMBDYt7OkJgTwIbEvJ0hMRPAyiabbLLJEsANiXk7Q2ISwFDrVwrU+hHAk0022WSTEcDWrxSo9SsRwBoS83aGxBDAXXTRRRddEMBBrV8pUOsPwMdxHMdxHA/ATjbZZJNNDsDU+pUCtX4NwFq/UqDWrwzA4oMPPvjgC8BoSMzbGRILwO4MiXk7QwrAdNFFF110CcD6lQK1fqUIwIFav1Kg1gfACB988MEHB8CO4ziO4zgGwBWo9SsFagXAm2yyySabBMAiMW9nSMwDwKj1KwVq/QLALrrooosuAsC1fqVArV8BwDxDYt7OkADAhA8++OCD/7+RmLczJOb9v54hMW9nSPy/qqqqqqqq+r+4MyTm7Qz5v8S8nSExb/e/0UUXXXTR9b/fzpCYtzP0v+tXCtT6lfK/+OCDDz748L8K1PqVArXuvyTm7QyJeeu/Pvjggw8+6L9YCtT6lQLlv3Icx3Ecx+G/GF100UUX3b9LgVq/UqDWv3+lQK1fKdC/ZZNNNtlkw78yb2dIzNupvzJvZ0jM26k/ZZNNNtlkwz9/pUCtXynQP0uBWr9SoNY/GF100UUX3T9yHMdxHMfhP1gK1PqVAuU/Pvjggw8+6D8k5u0MiXnrPwrU+pUCte4/+OCDDz748D/rVwrU+pXyP9/OkJi3M/Q/0UUXXXTR9T/EvJ0hMW/3P7gzJObtDPk/qqqqqqqq+j+eITFvZ0j8P5GYtzMk5v0/hA8++OCD/z88Q2LezpAAQLV+pUCtXwFALrrooosuAkCo9SsFav0CQCIxb2dIzANAm2yyySabBEAVqPUrBWoFQI7jOI7jOAZACB988MEHB0CBWr9SoNYHQPqVArV+pQhAdNFFF110CUDuDIl5O0MKQGhIzNsZEgtA4oMPPvjgC0Bav1Kg1q8MQNT6lQK1fg1ATjbZZJNNDkDHcRzHcRwPQEGtXylQ6w9AXXTRRRddEEAaEvN2hsQQQNavFKj1KxFAk0022WSTEUBQ61cK1PoRQA2JeTtDYhJAyiabbLLJEkCGxLydITETQENi3s6QmBNAAAAAAAAAFEA=",
          "dtype": "f8"
         },
         "y": {
          "bdata": "AAAAAAAACMCEDz744IMHwAgffPDBBwfAjC666KKLBsAQPvjggw8GwJRNNtlkkwXAF1100UUXBcCbbLLJJpsEwB988MEHHwTAo4suuuiiA8Anm2yyySYDwKuqqqqqqgLALrrooosuAsCyySabbLIBwDbZZJNNNgHAuuiiiy66AMA++OCDDz4AwIQPPvjgg/+/jC666KKL/r+TTTbZZJP9v5pssskmm/y/pIsuuuii+7+rqqqqqqr6v7LJJptssvm/uuiiiy66+L/CBx988MH3v8omm2yyyfa/0UUXXXTR9b/aZJNNNtn0v+GDDz744PO/6KKLLrro8r/xwQcffPDxv/jggw8++PC/AAAAAAAA8L8QPvjggw/uvx988MEHH+y/Lrrooosu6r8++OCDDz7ov0422WSTTea/XXTRRRdd5L9ssskmm2ziv3zwwQcffOC/GF100UUX3b832WSTTTbZv1VVVVVVVdW/dNFFF1100b8mm2yyySbLv2WTTTbZZMO/RhdddNFFt78IH3zwwQefvwgffPDBB58/RhdddNFFtz9lk0022WTDPyabbLLJJss/dNFFF1100T9VVVVVVVXVPzfZZJNNNtk/GF100UUX3T988MEHH3zgP2yyySabbOI/XXTRRRdd5D9ONtlkk03mPz744IMPPug/Lrrooosu6j8ffPDBBx/sPxA++OCDD+4/AAAAAAAA8D/44IMPPvjwP/HBBx988PE/6KKLLrro8j/hgw8++ODzP9pkk0022fQ/0UUXXXTR9T/KJptsssn2P8IHH3zwwfc/uuiiiy66+D+yySabbLL5P6uqqqqqqvo/pIsuuuii+z+abLLJJpv8P5NNNtlkk/0/jC666KKL/j+EDz744IP/Pz744IMPPgBAuuiiiy66AEA22WSTTTYBQLLJJptssgFALrrooosuAkCrqqqqqqoCQCebbLLJJgNAo4suuuiiA0AffPDBBx8EQJtssskmmwRAF1100UUXBUCUTTbZZJMFQBA++OCDDwZAjC666KKLBkAIH3zwwQcHQIQPPvjggwdAAAAAAAAACEA=",
          "dtype": "f8"
         },
         "z": {
          "bdata": "o82WIehZ7b+f9iyd0xHuvyFs1NUFYu2/FjUYCDfx7L+x70guNevtv4xGsiDU/e2/rzVDDVXu7b8zHgVKGM3vvyJU3RNq/+y/CaKEFMMf7b9ZR6UetMbtvwRRKq2bAe+/vANwMobm7r9lx2oaesHvvzGCYgmzVe6/QBmtA9EM7r9///1tjKvtvyeSEjYQ/++/Gr9mzO5y778gXEfo74Luvy88moxS0u6/jGtiJAby7L8IHVM8Tf3sv8Ng/flX3uy/sHq4Jk5M779s/J6qvF/vvxhjWx/mCO6/hLfSVSWb7b/OYRh+Pijtv/w1Kg43QO2/dkYMWZQz7L+jbEO8rfDsv5Hmx1kdZ+6/uPBlKYkv7L8IOeGbLrbqv7nTkSb4ytS/yveRzCy93L+mLompl3GrP2+20qOFR6E/3Nj9WEU8uT/A65SOTf+Lv8r6eDHQpOk/jF2CsGt96T+ChwnEixPlPyU+qYyAhew/YGguEOCR7j+ZZCRDES/vP94g/zxRte8/VbFMxDaH8D/z7SnVi23vPzvzpVCXUfA/8gu6Ly048T8IL11CQlbwPzMFSkV3AvA/bLVAt0yR8T9WxG169vXwPwhkdTMMYPA/qWrRETuy8D8PpqrqeCvxP9baYV524/A/miyof/yy8D8weStQEffwPzcUDdj7SfA/lOWRGjFL8T+fiJ3QX0/xP/JBMQd7x/A/i1Kg0T818T+XlSvxn6XwP4rk6OE2KfE/C3Dv5xE/8D+go3NzgdDwPznmlUegEfE/xEJKS34+8D+dRY/hrRnwP8XGjPwUivA/7jgNf6i28D8jtU4kVTbxP5p0OGl3NfA/8XwuT0Jx8T/0+qUfQFrwP+qGYekNm/A/aJsvKimt8D9FJpKJaY7xPxeF4niBSPA/7C9tZWFp8T+K61aFy+HwP6t+ft6ug/A/7F9WppNw8T9WN6iIDN7wP8v303SZvfA/XsPOT/JK8T9PBuOIypPwP+fSwQq5jfE/8JKgNorj8D+td0lyUTvxPwO0ltuTFvE/UV+AuwxU8D+EAMOO3FXxP2Jtrct+YvE/otQFxQER8D8=",
          "dtype": "f8"
         }
        }
       ],
       "layout": {
        "margin": {
         "b": 0,
         "l": 0,
         "r": 0,
         "t": 50
        },
        "scene": {
         "xaxis": {
          "title": {
           "text": "Eixo X1"
          }
         },
         "yaxis": {
          "title": {
           "text": "Eixo X2"
          }
         },
         "zaxis": {
          "title": {
           "text": "Eixo Y (Valor)"
          }
         }
        },
        "template": {
         "data": {
          "bar": [
           {
            "error_x": {
             "color": "#2a3f5f"
            },
            "error_y": {
             "color": "#2a3f5f"
            },
            "marker": {
             "line": {
              "color": "#E5ECF6",
              "width": 0.5
             },
             "pattern": {
              "fillmode": "overlay",
              "size": 10,
              "solidity": 0.2
             }
            },
            "type": "bar"
           }
          ],
          "barpolar": [
           {
            "marker": {
             "line": {
              "color": "#E5ECF6",
              "width": 0.5
             },
             "pattern": {
              "fillmode": "overlay",
              "size": 10,
              "solidity": 0.2
             }
            },
            "type": "barpolar"
           }
          ],
          "carpet": [
           {
            "aaxis": {
             "endlinecolor": "#2a3f5f",
             "gridcolor": "white",
             "linecolor": "white",
             "minorgridcolor": "white",
             "startlinecolor": "#2a3f5f"
            },
            "baxis": {
             "endlinecolor": "#2a3f5f",
             "gridcolor": "white",
             "linecolor": "white",
             "minorgridcolor": "white",
             "startlinecolor": "#2a3f5f"
            },
            "type": "carpet"
           }
          ],
          "choropleth": [
           {
            "colorbar": {
             "outlinewidth": 0,
             "ticks": ""
            },
            "type": "choropleth"
           }
          ],
          "contour": [
           {
            "colorbar": {
             "outlinewidth": 0,
             "ticks": ""
            },
            "colorscale": [
             [
              0,
              "#0d0887"
             ],
             [
              0.1111111111111111,
              "#46039f"
             ],
             [
              0.2222222222222222,
              "#7201a8"
             ],
             [
              0.3333333333333333,
              "#9c179e"
             ],
             [
              0.4444444444444444,
              "#bd3786"
             ],
             [
              0.5555555555555556,
              "#d8576b"
             ],
             [
              0.6666666666666666,
              "#ed7953"
             ],
             [
              0.7777777777777778,
              "#fb9f3a"
             ],
             [
              0.8888888888888888,
              "#fdca26"
             ],
             [
              1,
              "#f0f921"
             ]
            ],
            "type": "contour"
           }
          ],
          "contourcarpet": [
           {
            "colorbar": {
             "outlinewidth": 0,
             "ticks": ""
            },
            "type": "contourcarpet"
           }
          ],
          "heatmap": [
           {
            "colorbar": {
             "outlinewidth": 0,
             "ticks": ""
            },
            "colorscale": [
             [
              0,
              "#0d0887"
             ],
             [
              0.1111111111111111,
              "#46039f"
             ],
             [
              0.2222222222222222,
              "#7201a8"
             ],
             [
              0.3333333333333333,
              "#9c179e"
             ],
             [
              0.4444444444444444,
              "#bd3786"
             ],
             [
              0.5555555555555556,
              "#d8576b"
             ],
             [
              0.6666666666666666,
              "#ed7953"
             ],
             [
              0.7777777777777778,
              "#fb9f3a"
             ],
             [
              0.8888888888888888,
              "#fdca26"
             ],
             [
              1,
              "#f0f921"
             ]
            ],
            "type": "heatmap"
           }
          ],
          "histogram": [
           {
            "marker": {
             "pattern": {
              "fillmode": "overlay",
              "size": 10,
              "solidity": 0.2
             }
            },
            "type": "histogram"
           }
          ],
          "histogram2d": [
           {
            "colorbar": {
             "outlinewidth": 0,
             "ticks": ""
            },
            "colorscale": [
             [
              0,
              "#0d0887"
             ],
             [
              0.1111111111111111,
              "#46039f"
             ],
             [
              0.2222222222222222,
              "#7201a8"
             ],
             [
              0.3333333333333333,
              "#9c179e"
             ],
             [
              0.4444444444444444,
              "#bd3786"
             ],
             [
              0.5555555555555556,
              "#d8576b"
             ],
             [
              0.6666666666666666,
              "#ed7953"
             ],
             [
              0.7777777777777778,
              "#fb9f3a"
             ],
             [
              0.8888888888888888,
              "#fdca26"
             ],
             [
              1,
              "#f0f921"
             ]
            ],
            "type": "histogram2d"
           }
          ],
          "histogram2dcontour": [
           {
            "colorbar": {
             "outlinewidth": 0,
             "ticks": ""
            },
            "colorscale": [
             [
              0,
              "#0d0887"
             ],
             [
              0.1111111111111111,
              "#46039f"
             ],
             [
              0.2222222222222222,
              "#7201a8"
             ],
             [
              0.3333333333333333,
              "#9c179e"
             ],
             [
              0.4444444444444444,
              "#bd3786"
             ],
             [
              0.5555555555555556,
              "#d8576b"
             ],
             [
              0.6666666666666666,
              "#ed7953"
             ],
             [
              0.7777777777777778,
              "#fb9f3a"
             ],
             [
              0.8888888888888888,
              "#fdca26"
             ],
             [
              1,
              "#f0f921"
             ]
            ],
            "type": "histogram2dcontour"
           }
          ],
          "mesh3d": [
           {
            "colorbar": {
             "outlinewidth": 0,
             "ticks": ""
            },
            "type": "mesh3d"
           }
          ],
          "parcoords": [
           {
            "line": {
             "colorbar": {
              "outlinewidth": 0,
              "ticks": ""
             }
            },
            "type": "parcoords"
           }
          ],
          "pie": [
           {
            "automargin": true,
            "type": "pie"
           }
          ],
          "scatter": [
           {
            "fillpattern": {
             "fillmode": "overlay",
             "size": 10,
             "solidity": 0.2
            },
            "type": "scatter"
           }
          ],
          "scatter3d": [
           {
            "line": {
             "colorbar": {
              "outlinewidth": 0,
              "ticks": ""
             }
            },
            "marker": {
             "colorbar": {
              "outlinewidth": 0,
              "ticks": ""
             }
            },
            "type": "scatter3d"
           }
          ],
          "scattercarpet": [
           {
            "marker": {
             "colorbar": {
              "outlinewidth": 0,
              "ticks": ""
             }
            },
            "type": "scattercarpet"
           }
          ],
          "scattergeo": [
           {
            "marker": {
             "colorbar": {
              "outlinewidth": 0,
              "ticks": ""
             }
            },
            "type": "scattergeo"
           }
          ],
          "scattergl": [
           {
            "marker": {
             "colorbar": {
              "outlinewidth": 0,
              "ticks": ""
             }
            },
            "type": "scattergl"
           }
          ],
          "scattermap": [
           {
            "marker": {
             "colorbar": {
              "outlinewidth": 0,
              "ticks": ""
             }
            },
            "type": "scattermap"
           }
          ],
          "scattermapbox": [
           {
            "marker": {
             "colorbar": {
              "outlinewidth": 0,
              "ticks": ""
             }
            },
            "type": "scattermapbox"
           }
          ],
          "scatterpolar": [
           {
            "marker": {
             "colorbar": {
              "outlinewidth": 0,
              "ticks": ""
             }
            },
            "type": "scatterpolar"
           }
          ],
          "scatterpolargl": [
           {
            "marker": {
             "colorbar": {
              "outlinewidth": 0,
              "ticks": ""
             }
            },
            "type": "scatterpolargl"
           }
          ],
          "scatterternary": [
           {
            "marker": {
             "colorbar": {
              "outlinewidth": 0,
              "ticks": ""
             }
            },
            "type": "scatterternary"
           }
          ],
          "surface": [
           {
            "colorbar": {
             "outlinewidth": 0,
             "ticks": ""
            },
            "colorscale": [
             [
              0,
              "#0d0887"
             ],
             [
              0.1111111111111111,
              "#46039f"
             ],
             [
              0.2222222222222222,
              "#7201a8"
             ],
             [
              0.3333333333333333,
              "#9c179e"
             ],
             [
              0.4444444444444444,
              "#bd3786"
             ],
             [
              0.5555555555555556,
              "#d8576b"
             ],
             [
              0.6666666666666666,
              "#ed7953"
             ],
             [
              0.7777777777777778,
              "#fb9f3a"
             ],
             [
              0.8888888888888888,
              "#fdca26"
             ],
             [
              1,
              "#f0f921"
             ]
            ],
            "type": "surface"
           }
          ],
          "table": [
           {
            "cells": {
             "fill": {
              "color": "#EBF0F8"
             },
             "line": {
              "color": "white"
             }
            },
            "header": {
             "fill": {
              "color": "#C8D4E3"
             },
             "line": {
              "color": "white"
             }
            },
            "type": "table"
           }
          ]
         },
         "layout": {
          "annotationdefaults": {
           "arrowcolor": "#2a3f5f",
           "arrowhead": 0,
           "arrowwidth": 1
          },
          "autotypenumbers": "strict",
          "coloraxis": {
           "colorbar": {
            "outlinewidth": 0,
            "ticks": ""
           }
          },
          "colorscale": {
           "diverging": [
            [
             0,
             "#8e0152"
            ],
            [
             0.1,
             "#c51b7d"
            ],
            [
             0.2,
             "#de77ae"
            ],
            [
             0.3,
             "#f1b6da"
            ],
            [
             0.4,
             "#fde0ef"
            ],
            [
             0.5,
             "#f7f7f7"
            ],
            [
             0.6,
             "#e6f5d0"
            ],
            [
             0.7,
             "#b8e186"
            ],
            [
             0.8,
             "#7fbc41"
            ],
            [
             0.9,
             "#4d9221"
            ],
            [
             1,
             "#276419"
            ]
           ],
           "sequential": [
            [
             0,
             "#0d0887"
            ],
            [
             0.1111111111111111,
             "#46039f"
            ],
            [
             0.2222222222222222,
             "#7201a8"
            ],
            [
             0.3333333333333333,
             "#9c179e"
            ],
            [
             0.4444444444444444,
             "#bd3786"
            ],
            [
             0.5555555555555556,
             "#d8576b"
            ],
            [
             0.6666666666666666,
             "#ed7953"
            ],
            [
             0.7777777777777778,
             "#fb9f3a"
            ],
            [
             0.8888888888888888,
             "#fdca26"
            ],
            [
             1,
             "#f0f921"
            ]
           ],
           "sequentialminus": [
            [
             0,
             "#0d0887"
            ],
            [
             0.1111111111111111,
             "#46039f"
            ],
            [
             0.2222222222222222,
             "#7201a8"
            ],
            [
             0.3333333333333333,
             "#9c179e"
            ],
            [
             0.4444444444444444,
             "#bd3786"
            ],
            [
             0.5555555555555556,
             "#d8576b"
            ],
            [
             0.6666666666666666,
             "#ed7953"
            ],
            [
             0.7777777777777778,
             "#fb9f3a"
            ],
            [
             0.8888888888888888,
             "#fdca26"
            ],
            [
             1,
             "#f0f921"
            ]
           ]
          },
          "colorway": [
           "#636efa",
           "#EF553B",
           "#00cc96",
           "#ab63fa",
           "#FFA15A",
           "#19d3f3",
           "#FF6692",
           "#B6E880",
           "#FF97FF",
           "#FECB52"
          ],
          "font": {
           "color": "#2a3f5f"
          },
          "geo": {
           "bgcolor": "white",
           "lakecolor": "white",
           "landcolor": "#E5ECF6",
           "showlakes": true,
           "showland": true,
           "subunitcolor": "white"
          },
          "hoverlabel": {
           "align": "left"
          },
          "hovermode": "closest",
          "mapbox": {
           "style": "light"
          },
          "paper_bgcolor": "white",
          "plot_bgcolor": "#E5ECF6",
          "polar": {
           "angularaxis": {
            "gridcolor": "white",
            "linecolor": "white",
            "ticks": ""
           },
           "bgcolor": "#E5ECF6",
           "radialaxis": {
            "gridcolor": "white",
            "linecolor": "white",
            "ticks": ""
           }
          },
          "scene": {
           "xaxis": {
            "backgroundcolor": "#E5ECF6",
            "gridcolor": "white",
            "gridwidth": 2,
            "linecolor": "white",
            "showbackground": true,
            "ticks": "",
            "zerolinecolor": "white"
           },
           "yaxis": {
            "backgroundcolor": "#E5ECF6",
            "gridcolor": "white",
            "gridwidth": 2,
            "linecolor": "white",
            "showbackground": true,
            "ticks": "",
            "zerolinecolor": "white"
           },
           "zaxis": {
            "backgroundcolor": "#E5ECF6",
            "gridcolor": "white",
            "gridwidth": 2,
            "linecolor": "white",
            "showbackground": true,
            "ticks": "",
            "zerolinecolor": "white"
           }
          },
          "shapedefaults": {
           "line": {
            "color": "#2a3f5f"
           }
          },
          "ternary": {
           "aaxis": {
            "gridcolor": "white",
            "linecolor": "white",
            "ticks": ""
           },
           "baxis": {
            "gridcolor": "white",
            "linecolor": "white",
            "ticks": ""
           },
           "bgcolor": "#E5ECF6",
           "caxis": {
            "gridcolor": "white",
            "linecolor": "white",
            "ticks": ""
           }
          },
          "title": {
           "x": 0.05
          },
          "xaxis": {
           "automargin": true,
           "gridcolor": "white",
           "linecolor": "white",
           "ticks": "",
           "title": {
            "standoff": 15
           },
           "zerolinecolor": "white",
           "zerolinewidth": 2
          },
          "yaxis": {
           "automargin": true,
           "gridcolor": "white",
           "linecolor": "white",
           "ticks": "",
           "title": {
            "standoff": 15
           },
           "zerolinecolor": "white",
           "zerolinewidth": 2
          }
         }
        },
        "title": {
         "text": "y = f(x1, x2)",
         "x": 0.5
        }
       }
      }
     },
     "metadata": {},
     "output_type": "display_data"
    }
   ],
   "source": [
    "# Carregamento dos dados\n",
    "df = pd.read_excel('../data/Trabalho4dados.xlsx')\n",
    "\n",
    "x1_data, x2_data = df['x1'], df['x2']\n",
    "\n",
    "df_pivot = df.pivot(index='x2', columns='x1', values='y')\n",
    "\n",
    "fig = go.Figure()\n",
    "\n",
    "# Adicionar os Pontos de Dados Originais\n",
    "fig.add_trace(go.Scatter3d(\n",
    "    x=df['x1'],\n",
    "    y=df['x2'],\n",
    "    z=df['y'],\n",
    "    mode='markers',\n",
    "    marker=dict(size=3, color='red', symbol='circle'),\n",
    "    name='Pontos de Dados Originais'\n",
    "))\n",
    "\n",
    "# Melhorar o Layout\n",
    "fig.update_layout(\n",
    "    title=dict(text='y = f(x1, x2)', x=0.5),\n",
    "    scene=dict(\n",
    "        xaxis_title='Eixo X1',\n",
    "        yaxis_title='Eixo X2',\n",
    "        zaxis_title='Eixo Y (Valor)'\n",
    "    ),\n",
    "    margin=dict(l=0, r=0, b=0, t=50)\n",
    ")\n",
    "\n",
    "fig.show()"
   ]
  },
  {
   "cell_type": "markdown",
   "id": "a11523f5",
   "metadata": {},
   "source": [
    "## Calcular as funções de perda"
   ]
  },
  {
   "cell_type": "markdown",
   "id": "4e4192a6",
   "metadata": {},
   "source": [
    "### Pré-processamento dos dados"
   ]
  },
  {
   "cell_type": "code",
   "execution_count": 10,
   "id": "fedadb6e",
   "metadata": {},
   "outputs": [],
   "source": [
    "features = df[['x1', 'x2']]\n",
    "y = df['y']\n",
    "\n",
    "# Criar os objetos para Padronização\n",
    "scaler = MinMaxNormalizer(-1, 1)\n",
    "scaler_y = MinMaxNormalizer(-1, 1)\n",
    "\n",
    "# Cria as cópias dos dados para padronizar\n",
    "scaled_features = features.copy()\n",
    "scaled_y = y.copy()\n",
    "\n",
    "# Ajusta os padronizadores aos dados\n",
    "scaler.fit(scaled_features)\n",
    "scaler_y.fit(scaled_y.to_frame())\n",
    "\n",
    "# Padroniza os dados\n",
    "scaled_features = scaler.normalize(scaled_features)\n",
    "scaled_y = scaler_y.normalize(scaled_y.to_frame()).squeeze()\n",
    "\n",
    "# Preparar dados\n",
    "x1_scaled = scaled_features['x1'].values\n",
    "x2_scaled = scaled_features['x2'].values\n",
    "y_scaled = scaled_y.values\n",
    "\n",
    "# Definir parâmetros da rede neural\n",
    "n_neurons = 2\n",
    "n_iterations = 10000\n",
    "tolerance = 1e-6\n",
    "alpha = 1e-3\n",
    "\n",
    "# Inicializar listas para armazenar os pesos\n",
    "neurons_weights = []\n",
    "neurons_raw_weights = []\n",
    "\n",
    "# Inicializar pesos para cada neurônio (2 ocultos + 1 de saída)\n",
    "# Cada neurônio oculto tem 3 pesos (x1, x2, bias)\n",
    "hidden_weights = [np.random.randn(3) for _ in range(n_neurons)]\n",
    "# Neurônio de saída tem n_neurons + 1 pesos (saídas dos neurônios ocultos + bias)\n",
    "output_weights = np.random.randn(n_neurons + 1)\n",
    "\n",
    "# Combinar todos os pesos em uma lista\n",
    "initial_weights_list = hidden_weights + [output_weights]\n",
    "\n",
    "# Concatenar todos os pesos em um único vetor para o Levenberg-Marquardt\n",
    "initial_weights_flat = np.concatenate([w.flatten() for w in initial_weights_list])\n"
   ]
  },
  {
   "cell_type": "markdown",
   "id": "b33b3e2f",
   "metadata": {},
   "source": [
    "### Inicializar as funções de perda e gradiente"
   ]
  },
  {
   "cell_type": "code",
   "execution_count": 11,
   "id": "fbb2eb86",
   "metadata": {},
   "outputs": [],
   "source": [
    "# Função de custo e gradiente\n",
    "loss_function, _ = make_mse_loss_for_network(x1_scaled, x2_scaled, y_scaled, activation_fn=np.tanh)\n",
    "\n",
    "# Função de resíduos e jacobiana\n",
    "residuals_fn = make_residuals_fn(\n",
    "    x1_scaled,\n",
    "    x2_scaled,\n",
    "    y_scaled,\n",
    "    n_neurons=n_neurons,\n",
    "    activation_fn=np.tanh\n",
    ")\n",
    "jacobian_fn = make_jacobian_fn(\n",
    "    x1_scaled,\n",
    "    x2_scaled,\n",
    "    n_neurons=n_neurons,\n",
    "    activation_fn=np.tanh,\n",
    "    activation_deriv=tanh_derivative\n",
    ")"
   ]
  },
  {
   "cell_type": "markdown",
   "id": "f4a0a850",
   "metadata": {},
   "source": [
    "### Rodar os experimentos"
   ]
  },
  {
   "cell_type": "code",
   "execution_count": null,
   "id": "6ec386dc",
   "metadata": {},
   "outputs": [
    {
     "name": "stdout",
     "output_type": "stream",
     "text": [
      "Treinando rede com 2 neurônios na camada oculta...\n",
      "3 [3, 3, 3]\n"
     ]
    }
   ],
   "source": [
    "print(f\"Treinando rede com {n_neurons} neurônios na camada oculta...\")\n",
    "\n",
    "# Treinar com Levenberg-Marquardt\n",
    "weights_flat, losses, n_iters = levenberg_marquadt(\n",
    "    initial_weights_flat, residuals_fn, loss_function, jacobian_fn,\n",
    "    alpha=alpha, alpha_variability=10, max_iter=n_iterations,\n",
    "    tolerance=tolerance, stopping_criteria=[1, 3]\n",
    ")\n",
    "\n",
    "# Usar os pesos finais\n",
    "final_weights_flat = weights_flat[-1]\n",
    "\n",
    "# Reconstruir os pesos para cada neurônio\n",
    "idx = 0\n",
    "for i in range(n_neurons):\n",
    "    w_hidden = final_weights_flat[idx:idx+3]\n",
    "    neurons_raw_weights.append(w_hidden)\n",
    "    idx += 3\n",
    "\n",
    "w_output = final_weights_flat[idx:]\n",
    "neurons_raw_weights.append(w_output)\n",
    "\n",
    "# Armazenar os pesos normalizados para uso na predição\n",
    "neurons_weights = neurons_raw_weights.copy()\n",
    "\n",
    "print(len(neurons_weights), [len(w) for w in neurons_weights])\n",
    "# Fazer previsão usando a rede treinada\n",
    "y_hat_scaled = hidden_forward(\n",
    "    x1_scaled,\n",
    "    x2_scaled,\n",
    "    neurons_weights=neurons_weights,\n",
    "    activation_fn=np.tanh\n",
    ")\n",
    "# Desnormalizar as previsões\n",
    "# Convertendo para DataFrame com o mesmo índice usado no treinamento\n",
    "y_hat_df = pd.DataFrame(y_hat_scaled.reshape(-1, 1), index=y.index)\n",
    "y_hat = scaler_y.denormalize(y_hat_df).flatten()"
   ]
  },
  {
   "cell_type": "markdown",
   "id": "4636062a",
   "metadata": {},
   "source": [
    "## Resultados"
   ]
  },
  {
   "cell_type": "code",
   "execution_count": 13,
   "id": "dbc3f0f6",
   "metadata": {},
   "outputs": [
    {
     "data": {
      "text/html": [
       "<div>\n",
       "<style scoped>\n",
       "    .dataframe tbody tr th:only-of-type {\n",
       "        vertical-align: middle;\n",
       "    }\n",
       "\n",
       "    .dataframe tbody tr th {\n",
       "        vertical-align: top;\n",
       "    }\n",
       "\n",
       "    .dataframe thead th {\n",
       "        text-align: right;\n",
       "    }\n",
       "</style>\n",
       "<table border=\"1\" class=\"dataframe\">\n",
       "  <thead>\n",
       "    <tr style=\"text-align: right;\">\n",
       "      <th></th>\n",
       "      <th>Feature_Set</th>\n",
       "      <th>Loss_Function</th>\n",
       "      <th>Final_Loss</th>\n",
       "      <th>MSE_Final</th>\n",
       "      <th>RMSE_Final</th>\n",
       "      <th>MAE_Final</th>\n",
       "      <th>Iterations</th>\n",
       "      <th>Pesos_Neuronio_1</th>\n",
       "      <th>Pesos_Neuronio_2</th>\n",
       "      <th>Pesos_Neuronio_3</th>\n",
       "    </tr>\n",
       "  </thead>\n",
       "  <tbody>\n",
       "    <tr>\n",
       "      <th>0</th>\n",
       "      <td>MinMax(-1,1)</td>\n",
       "      <td>MSE</td>\n",
       "      <td>0.00474</td>\n",
       "      <td>0.00522</td>\n",
       "      <td>0.07222</td>\n",
       "      <td>0.04102</td>\n",
       "      <td>14</td>\n",
       "      <td>[-2.113904, -2.080318, -1.109331]</td>\n",
       "      <td>[-0.645363, -1.777609, -1.188523]</td>\n",
       "      <td>[-2.950495, 1.267199, 0.260162]</td>\n",
       "    </tr>\n",
       "  </tbody>\n",
       "</table>\n",
       "</div>"
      ],
      "text/plain": [
       "    Feature_Set Loss_Function  Final_Loss  MSE_Final  RMSE_Final  MAE_Final  \\\n",
       "0  MinMax(-1,1)           MSE     0.00474    0.00522     0.07222    0.04102   \n",
       "\n",
       "   Iterations                   Pesos_Neuronio_1  \\\n",
       "0          14  [-2.113904, -2.080318, -1.109331]   \n",
       "\n",
       "                    Pesos_Neuronio_2                 Pesos_Neuronio_3  \n",
       "0  [-0.645363, -1.777609, -1.188523]  [-2.950495, 1.267199, 0.260162]  "
      ]
     },
     "execution_count": 13,
     "metadata": {},
     "output_type": "execute_result"
    }
   ],
   "source": [
    "# Calcular métricas\n",
    "mse_final = np.mean((y - y_hat) ** 2)\n",
    "rmse_final = np.sqrt(mse_final)\n",
    "mae_final = np.mean(np.abs(y - y_hat))\n",
    "\n",
    "# Preparar resultados para exibição\n",
    "dict_results = {\n",
    "    'Feature_Set': \"MinMax(-1,1)\",\n",
    "    'Loss_Function': \"MSE\",\n",
    "    'Final_Loss': losses[-1],\n",
    "    'MSE_Final': mse_final,\n",
    "    'RMSE_Final': rmse_final,\n",
    "    'MAE_Final': mae_final,\n",
    "    'Iterations': n_iters\n",
    "}\n",
    "\n",
    "# Adiciona os pesos de cada neurônio em colunas separadas\n",
    "for i, weights in enumerate(neurons_weights):\n",
    "    dict_results[f'Pesos_Neuronio_{i+1}'] = [float(f'{w:.6f}') for w in weights]\n",
    "\n",
    "df_result = pd.DataFrame([dict_results])\n",
    "df_result"
   ]
  },
  {
   "cell_type": "code",
   "execution_count": null,
   "id": "872089b5",
   "metadata": {},
   "outputs": [
    {
     "data": {
      "application/vnd.plotly.v1+json": {
       "config": {
        "plotlyServerURL": "https://plot.ly"
       },
       "data": [
        {
         "colorscale": [
          [
           0,
           "rgb(247,251,255)"
          ],
          [
           0.125,
           "rgb(222,235,247)"
          ],
          [
           0.25,
           "rgb(198,219,239)"
          ],
          [
           0.375,
           "rgb(158,202,225)"
          ],
          [
           0.5,
           "rgb(107,174,214)"
          ],
          [
           0.625,
           "rgb(66,146,198)"
          ],
          [
           0.75,
           "rgb(33,113,181)"
          ],
          [
           0.875,
           "rgb(8,81,156)"
          ],
          [
           1,
           "rgb(8,48,107)"
          ]
         ],
         "name": "Superfície de Predição",
         "opacity": 0.7,
         "showscale": false,
         "type": "surface",
         "x": {
          "bdata": "AAAAAAAAFMBY7mmE5Z4SwLDc0wjLPRHAEpZ7GmG5D8DCck8jLPcMwHJPIyz3NArAIyz3NMJyB8DUCMs9jbAEwITlnkZY7gHAaITlnkZY/r/KPY2w3NP4vyz3NMJyT/O/GGG5pxGW67/Y0wjLPY3gv4AaYbmnEca/gBphuacRxj/g0wjLPY3gPyBhuacRlus/MPc0wnJP8z/MPY2w3NP4P2yE5Z5GWP4/huWeRljuAUDUCMs9jbAEQCQs9zTCcgdAdE8jLPc0CkDEck8jLPcMQBSWexphuQ9AstzTCMs9EUBY7mmE5Z4SQAAAAAAAABRAAAAAAAAAFMBY7mmE5Z4SwLDc0wjLPRHAEpZ7GmG5D8DCck8jLPcMwHJPIyz3NArAIyz3NMJyB8DUCMs9jbAEwITlnkZY7gHAaITlnkZY/r/KPY2w3NP4vyz3NMJyT/O/GGG5pxGW67/Y0wjLPY3gv4AaYbmnEca/gBphuacRxj/g0wjLPY3gPyBhuacRlus/MPc0wnJP8z/MPY2w3NP4P2yE5Z5GWP4/huWeRljuAUDUCMs9jbAEQCQs9zTCcgdAdE8jLPc0CkDEck8jLPcMQBSWexphuQ9AstzTCMs9EUBY7mmE5Z4SQAAAAAAAABRAAAAAAAAAFMBY7mmE5Z4SwLDc0wjLPRHAEpZ7GmG5D8DCck8jLPcMwHJPIyz3NArAIyz3NMJyB8DUCMs9jbAEwITlnkZY7gHAaITlnkZY/r/KPY2w3NP4vyz3NMJyT/O/GGG5pxGW67/Y0wjLPY3gv4AaYbmnEca/gBphuacRxj/g0wjLPY3gPyBhuacRlus/MPc0wnJP8z/MPY2w3NP4P2yE5Z5GWP4/huWeRljuAUDUCMs9jbAEQCQs9zTCcgdAdE8jLPc0CkDEck8jLPcMQBSWexphuQ9AstzTCMs9EUBY7mmE5Z4SQAAAAAAAABRAAAAAAAAAFMBY7mmE5Z4SwLDc0wjLPRHAEpZ7GmG5D8DCck8jLPcMwHJPIyz3NArAIyz3NMJyB8DUCMs9jbAEwITlnkZY7gHAaITlnkZY/r/KPY2w3NP4vyz3NMJyT/O/GGG5pxGW67/Y0wjLPY3gv4AaYbmnEca/gBphuacRxj/g0wjLPY3gPyBhuacRlus/MPc0wnJP8z/MPY2w3NP4P2yE5Z5GWP4/huWeRljuAUDUCMs9jbAEQCQs9zTCcgdAdE8jLPc0CkDEck8jLPcMQBSWexphuQ9AstzTCMs9EUBY7mmE5Z4SQAAAAAAAABRAAAAAAAAAFMBY7mmE5Z4SwLDc0wjLPRHAEpZ7GmG5D8DCck8jLPcMwHJPIyz3NArAIyz3NMJyB8DUCMs9jbAEwITlnkZY7gHAaITlnkZY/r/KPY2w3NP4vyz3NMJyT/O/GGG5pxGW67/Y0wjLPY3gv4AaYbmnEca/gBphuacRxj/g0wjLPY3gPyBhuacRlus/MPc0wnJP8z/MPY2w3NP4P2yE5Z5GWP4/huWeRljuAUDUCMs9jbAEQCQs9zTCcgdAdE8jLPc0CkDEck8jLPcMQBSWexphuQ9AstzTCMs9EUBY7mmE5Z4SQAAAAAAAABRAAAAAAAAAFMBY7mmE5Z4SwLDc0wjLPRHAEpZ7GmG5D8DCck8jLPcMwHJPIyz3NArAIyz3NMJyB8DUCMs9jbAEwITlnkZY7gHAaITlnkZY/r/KPY2w3NP4vyz3NMJyT/O/GGG5pxGW67/Y0wjLPY3gv4AaYbmnEca/gBphuacRxj/g0wjLPY3gPyBhuacRlus/MPc0wnJP8z/MPY2w3NP4P2yE5Z5GWP4/huWeRljuAUDUCMs9jbAEQCQs9zTCcgdAdE8jLPc0CkDEck8jLPcMQBSWexphuQ9AstzTCMs9EUBY7mmE5Z4SQAAAAAAAABRAAAAAAAAAFMBY7mmE5Z4SwLDc0wjLPRHAEpZ7GmG5D8DCck8jLPcMwHJPIyz3NArAIyz3NMJyB8DUCMs9jbAEwITlnkZY7gHAaITlnkZY/r/KPY2w3NP4vyz3NMJyT/O/GGG5pxGW67/Y0wjLPY3gv4AaYbmnEca/gBphuacRxj/g0wjLPY3gPyBhuacRlus/MPc0wnJP8z/MPY2w3NP4P2yE5Z5GWP4/huWeRljuAUDUCMs9jbAEQCQs9zTCcgdAdE8jLPc0CkDEck8jLPcMQBSWexphuQ9AstzTCMs9EUBY7mmE5Z4SQAAAAAAAABRAAAAAAAAAFMBY7mmE5Z4SwLDc0wjLPRHAEpZ7GmG5D8DCck8jLPcMwHJPIyz3NArAIyz3NMJyB8DUCMs9jbAEwITlnkZY7gHAaITlnkZY/r/KPY2w3NP4vyz3NMJyT/O/GGG5pxGW67/Y0wjLPY3gv4AaYbmnEca/gBphuacRxj/g0wjLPY3gPyBhuacRlus/MPc0wnJP8z/MPY2w3NP4P2yE5Z5GWP4/huWeRljuAUDUCMs9jbAEQCQs9zTCcgdAdE8jLPc0CkDEck8jLPcMQBSWexphuQ9AstzTCMs9EUBY7mmE5Z4SQAAAAAAAABRAAAAAAAAAFMBY7mmE5Z4SwLDc0wjLPRHAEpZ7GmG5D8DCck8jLPcMwHJPIyz3NArAIyz3NMJyB8DUCMs9jbAEwITlnkZY7gHAaITlnkZY/r/KPY2w3NP4vyz3NMJyT/O/GGG5pxGW67/Y0wjLPY3gv4AaYbmnEca/gBphuacRxj/g0wjLPY3gPyBhuacRlus/MPc0wnJP8z/MPY2w3NP4P2yE5Z5GWP4/huWeRljuAUDUCMs9jbAEQCQs9zTCcgdAdE8jLPc0CkDEck8jLPcMQBSWexphuQ9AstzTCMs9EUBY7mmE5Z4SQAAAAAAAABRAAAAAAAAAFMBY7mmE5Z4SwLDc0wjLPRHAEpZ7GmG5D8DCck8jLPcMwHJPIyz3NArAIyz3NMJyB8DUCMs9jbAEwITlnkZY7gHAaITlnkZY/r/KPY2w3NP4vyz3NMJyT/O/GGG5pxGW67/Y0wjLPY3gv4AaYbmnEca/gBphuacRxj/g0wjLPY3gPyBhuacRlus/MPc0wnJP8z/MPY2w3NP4P2yE5Z5GWP4/huWeRljuAUDUCMs9jbAEQCQs9zTCcgdAdE8jLPc0CkDEck8jLPcMQBSWexphuQ9AstzTCMs9EUBY7mmE5Z4SQAAAAAAAABRAAAAAAAAAFMBY7mmE5Z4SwLDc0wjLPRHAEpZ7GmG5D8DCck8jLPcMwHJPIyz3NArAIyz3NMJyB8DUCMs9jbAEwITlnkZY7gHAaITlnkZY/r/KPY2w3NP4vyz3NMJyT/O/GGG5pxGW67/Y0wjLPY3gv4AaYbmnEca/gBphuacRxj/g0wjLPY3gPyBhuacRlus/MPc0wnJP8z/MPY2w3NP4P2yE5Z5GWP4/huWeRljuAUDUCMs9jbAEQCQs9zTCcgdAdE8jLPc0CkDEck8jLPcMQBSWexphuQ9AstzTCMs9EUBY7mmE5Z4SQAAAAAAAABRAAAAAAAAAFMBY7mmE5Z4SwLDc0wjLPRHAEpZ7GmG5D8DCck8jLPcMwHJPIyz3NArAIyz3NMJyB8DUCMs9jbAEwITlnkZY7gHAaITlnkZY/r/KPY2w3NP4vyz3NMJyT/O/GGG5pxGW67/Y0wjLPY3gv4AaYbmnEca/gBphuacRxj/g0wjLPY3gPyBhuacRlus/MPc0wnJP8z/MPY2w3NP4P2yE5Z5GWP4/huWeRljuAUDUCMs9jbAEQCQs9zTCcgdAdE8jLPc0CkDEck8jLPcMQBSWexphuQ9AstzTCMs9EUBY7mmE5Z4SQAAAAAAAABRAAAAAAAAAFMBY7mmE5Z4SwLDc0wjLPRHAEpZ7GmG5D8DCck8jLPcMwHJPIyz3NArAIyz3NMJyB8DUCMs9jbAEwITlnkZY7gHAaITlnkZY/r/KPY2w3NP4vyz3NMJyT/O/GGG5pxGW67/Y0wjLPY3gv4AaYbmnEca/gBphuacRxj/g0wjLPY3gPyBhuacRlus/MPc0wnJP8z/MPY2w3NP4P2yE5Z5GWP4/huWeRljuAUDUCMs9jbAEQCQs9zTCcgdAdE8jLPc0CkDEck8jLPcMQBSWexphuQ9AstzTCMs9EUBY7mmE5Z4SQAAAAAAAABRAAAAAAAAAFMBY7mmE5Z4SwLDc0wjLPRHAEpZ7GmG5D8DCck8jLPcMwHJPIyz3NArAIyz3NMJyB8DUCMs9jbAEwITlnkZY7gHAaITlnkZY/r/KPY2w3NP4vyz3NMJyT/O/GGG5pxGW67/Y0wjLPY3gv4AaYbmnEca/gBphuacRxj/g0wjLPY3gPyBhuacRlus/MPc0wnJP8z/MPY2w3NP4P2yE5Z5GWP4/huWeRljuAUDUCMs9jbAEQCQs9zTCcgdAdE8jLPc0CkDEck8jLPcMQBSWexphuQ9AstzTCMs9EUBY7mmE5Z4SQAAAAAAAABRAAAAAAAAAFMBY7mmE5Z4SwLDc0wjLPRHAEpZ7GmG5D8DCck8jLPcMwHJPIyz3NArAIyz3NMJyB8DUCMs9jbAEwITlnkZY7gHAaITlnkZY/r/KPY2w3NP4vyz3NMJyT/O/GGG5pxGW67/Y0wjLPY3gv4AaYbmnEca/gBphuacRxj/g0wjLPY3gPyBhuacRlus/MPc0wnJP8z/MPY2w3NP4P2yE5Z5GWP4/huWeRljuAUDUCMs9jbAEQCQs9zTCcgdAdE8jLPc0CkDEck8jLPcMQBSWexphuQ9AstzTCMs9EUBY7mmE5Z4SQAAAAAAAABRAAAAAAAAAFMBY7mmE5Z4SwLDc0wjLPRHAEpZ7GmG5D8DCck8jLPcMwHJPIyz3NArAIyz3NMJyB8DUCMs9jbAEwITlnkZY7gHAaITlnkZY/r/KPY2w3NP4vyz3NMJyT/O/GGG5pxGW67/Y0wjLPY3gv4AaYbmnEca/gBphuacRxj/g0wjLPY3gPyBhuacRlus/MPc0wnJP8z/MPY2w3NP4P2yE5Z5GWP4/huWeRljuAUDUCMs9jbAEQCQs9zTCcgdAdE8jLPc0CkDEck8jLPcMQBSWexphuQ9AstzTCMs9EUBY7mmE5Z4SQAAAAAAAABRAAAAAAAAAFMBY7mmE5Z4SwLDc0wjLPRHAEpZ7GmG5D8DCck8jLPcMwHJPIyz3NArAIyz3NMJyB8DUCMs9jbAEwITlnkZY7gHAaITlnkZY/r/KPY2w3NP4vyz3NMJyT/O/GGG5pxGW67/Y0wjLPY3gv4AaYbmnEca/gBphuacRxj/g0wjLPY3gPyBhuacRlus/MPc0wnJP8z/MPY2w3NP4P2yE5Z5GWP4/huWeRljuAUDUCMs9jbAEQCQs9zTCcgdAdE8jLPc0CkDEck8jLPcMQBSWexphuQ9AstzTCMs9EUBY7mmE5Z4SQAAAAAAAABRAAAAAAAAAFMBY7mmE5Z4SwLDc0wjLPRHAEpZ7GmG5D8DCck8jLPcMwHJPIyz3NArAIyz3NMJyB8DUCMs9jbAEwITlnkZY7gHAaITlnkZY/r/KPY2w3NP4vyz3NMJyT/O/GGG5pxGW67/Y0wjLPY3gv4AaYbmnEca/gBphuacRxj/g0wjLPY3gPyBhuacRlus/MPc0wnJP8z/MPY2w3NP4P2yE5Z5GWP4/huWeRljuAUDUCMs9jbAEQCQs9zTCcgdAdE8jLPc0CkDEck8jLPcMQBSWexphuQ9AstzTCMs9EUBY7mmE5Z4SQAAAAAAAABRAAAAAAAAAFMBY7mmE5Z4SwLDc0wjLPRHAEpZ7GmG5D8DCck8jLPcMwHJPIyz3NArAIyz3NMJyB8DUCMs9jbAEwITlnkZY7gHAaITlnkZY/r/KPY2w3NP4vyz3NMJyT/O/GGG5pxGW67/Y0wjLPY3gv4AaYbmnEca/gBphuacRxj/g0wjLPY3gPyBhuacRlus/MPc0wnJP8z/MPY2w3NP4P2yE5Z5GWP4/huWeRljuAUDUCMs9jbAEQCQs9zTCcgdAdE8jLPc0CkDEck8jLPcMQBSWexphuQ9AstzTCMs9EUBY7mmE5Z4SQAAAAAAAABRAAAAAAAAAFMBY7mmE5Z4SwLDc0wjLPRHAEpZ7GmG5D8DCck8jLPcMwHJPIyz3NArAIyz3NMJyB8DUCMs9jbAEwITlnkZY7gHAaITlnkZY/r/KPY2w3NP4vyz3NMJyT/O/GGG5pxGW67/Y0wjLPY3gv4AaYbmnEca/gBphuacRxj/g0wjLPY3gPyBhuacRlus/MPc0wnJP8z/MPY2w3NP4P2yE5Z5GWP4/huWeRljuAUDUCMs9jbAEQCQs9zTCcgdAdE8jLPc0CkDEck8jLPcMQBSWexphuQ9AstzTCMs9EUBY7mmE5Z4SQAAAAAAAABRAAAAAAAAAFMBY7mmE5Z4SwLDc0wjLPRHAEpZ7GmG5D8DCck8jLPcMwHJPIyz3NArAIyz3NMJyB8DUCMs9jbAEwITlnkZY7gHAaITlnkZY/r/KPY2w3NP4vyz3NMJyT/O/GGG5pxGW67/Y0wjLPY3gv4AaYbmnEca/gBphuacRxj/g0wjLPY3gPyBhuacRlus/MPc0wnJP8z/MPY2w3NP4P2yE5Z5GWP4/huWeRljuAUDUCMs9jbAEQCQs9zTCcgdAdE8jLPc0CkDEck8jLPcMQBSWexphuQ9AstzTCMs9EUBY7mmE5Z4SQAAAAAAAABRAAAAAAAAAFMBY7mmE5Z4SwLDc0wjLPRHAEpZ7GmG5D8DCck8jLPcMwHJPIyz3NArAIyz3NMJyB8DUCMs9jbAEwITlnkZY7gHAaITlnkZY/r/KPY2w3NP4vyz3NMJyT/O/GGG5pxGW67/Y0wjLPY3gv4AaYbmnEca/gBphuacRxj/g0wjLPY3gPyBhuacRlus/MPc0wnJP8z/MPY2w3NP4P2yE5Z5GWP4/huWeRljuAUDUCMs9jbAEQCQs9zTCcgdAdE8jLPc0CkDEck8jLPcMQBSWexphuQ9AstzTCMs9EUBY7mmE5Z4SQAAAAAAAABRAAAAAAAAAFMBY7mmE5Z4SwLDc0wjLPRHAEpZ7GmG5D8DCck8jLPcMwHJPIyz3NArAIyz3NMJyB8DUCMs9jbAEwITlnkZY7gHAaITlnkZY/r/KPY2w3NP4vyz3NMJyT/O/GGG5pxGW67/Y0wjLPY3gv4AaYbmnEca/gBphuacRxj/g0wjLPY3gPyBhuacRlus/MPc0wnJP8z/MPY2w3NP4P2yE5Z5GWP4/huWeRljuAUDUCMs9jbAEQCQs9zTCcgdAdE8jLPc0CkDEck8jLPcMQBSWexphuQ9AstzTCMs9EUBY7mmE5Z4SQAAAAAAAABRAAAAAAAAAFMBY7mmE5Z4SwLDc0wjLPRHAEpZ7GmG5D8DCck8jLPcMwHJPIyz3NArAIyz3NMJyB8DUCMs9jbAEwITlnkZY7gHAaITlnkZY/r/KPY2w3NP4vyz3NMJyT/O/GGG5pxGW67/Y0wjLPY3gv4AaYbmnEca/gBphuacRxj/g0wjLPY3gPyBhuacRlus/MPc0wnJP8z/MPY2w3NP4P2yE5Z5GWP4/huWeRljuAUDUCMs9jbAEQCQs9zTCcgdAdE8jLPc0CkDEck8jLPcMQBSWexphuQ9AstzTCMs9EUBY7mmE5Z4SQAAAAAAAABRAAAAAAAAAFMBY7mmE5Z4SwLDc0wjLPRHAEpZ7GmG5D8DCck8jLPcMwHJPIyz3NArAIyz3NMJyB8DUCMs9jbAEwITlnkZY7gHAaITlnkZY/r/KPY2w3NP4vyz3NMJyT/O/GGG5pxGW67/Y0wjLPY3gv4AaYbmnEca/gBphuacRxj/g0wjLPY3gPyBhuacRlus/MPc0wnJP8z/MPY2w3NP4P2yE5Z5GWP4/huWeRljuAUDUCMs9jbAEQCQs9zTCcgdAdE8jLPc0CkDEck8jLPcMQBSWexphuQ9AstzTCMs9EUBY7mmE5Z4SQAAAAAAAABRAAAAAAAAAFMBY7mmE5Z4SwLDc0wjLPRHAEpZ7GmG5D8DCck8jLPcMwHJPIyz3NArAIyz3NMJyB8DUCMs9jbAEwITlnkZY7gHAaITlnkZY/r/KPY2w3NP4vyz3NMJyT/O/GGG5pxGW67/Y0wjLPY3gv4AaYbmnEca/gBphuacRxj/g0wjLPY3gPyBhuacRlus/MPc0wnJP8z/MPY2w3NP4P2yE5Z5GWP4/huWeRljuAUDUCMs9jbAEQCQs9zTCcgdAdE8jLPc0CkDEck8jLPcMQBSWexphuQ9AstzTCMs9EUBY7mmE5Z4SQAAAAAAAABRAAAAAAAAAFMBY7mmE5Z4SwLDc0wjLPRHAEpZ7GmG5D8DCck8jLPcMwHJPIyz3NArAIyz3NMJyB8DUCMs9jbAEwITlnkZY7gHAaITlnkZY/r/KPY2w3NP4vyz3NMJyT/O/GGG5pxGW67/Y0wjLPY3gv4AaYbmnEca/gBphuacRxj/g0wjLPY3gPyBhuacRlus/MPc0wnJP8z/MPY2w3NP4P2yE5Z5GWP4/huWeRljuAUDUCMs9jbAEQCQs9zTCcgdAdE8jLPc0CkDEck8jLPcMQBSWexphuQ9AstzTCMs9EUBY7mmE5Z4SQAAAAAAAABRAAAAAAAAAFMBY7mmE5Z4SwLDc0wjLPRHAEpZ7GmG5D8DCck8jLPcMwHJPIyz3NArAIyz3NMJyB8DUCMs9jbAEwITlnkZY7gHAaITlnkZY/r/KPY2w3NP4vyz3NMJyT/O/GGG5pxGW67/Y0wjLPY3gv4AaYbmnEca/gBphuacRxj/g0wjLPY3gPyBhuacRlus/MPc0wnJP8z/MPY2w3NP4P2yE5Z5GWP4/huWeRljuAUDUCMs9jbAEQCQs9zTCcgdAdE8jLPc0CkDEck8jLPcMQBSWexphuQ9AstzTCMs9EUBY7mmE5Z4SQAAAAAAAABRAAAAAAAAAFMBY7mmE5Z4SwLDc0wjLPRHAEpZ7GmG5D8DCck8jLPcMwHJPIyz3NArAIyz3NMJyB8DUCMs9jbAEwITlnkZY7gHAaITlnkZY/r/KPY2w3NP4vyz3NMJyT/O/GGG5pxGW67/Y0wjLPY3gv4AaYbmnEca/gBphuacRxj/g0wjLPY3gPyBhuacRlus/MPc0wnJP8z/MPY2w3NP4P2yE5Z5GWP4/huWeRljuAUDUCMs9jbAEQCQs9zTCcgdAdE8jLPc0CkDEck8jLPcMQBSWexphuQ9AstzTCMs9EUBY7mmE5Z4SQAAAAAAAABRAAAAAAAAAFMBY7mmE5Z4SwLDc0wjLPRHAEpZ7GmG5D8DCck8jLPcMwHJPIyz3NArAIyz3NMJyB8DUCMs9jbAEwITlnkZY7gHAaITlnkZY/r/KPY2w3NP4vyz3NMJyT/O/GGG5pxGW67/Y0wjLPY3gv4AaYbmnEca/gBphuacRxj/g0wjLPY3gPyBhuacRlus/MPc0wnJP8z/MPY2w3NP4P2yE5Z5GWP4/huWeRljuAUDUCMs9jbAEQCQs9zTCcgdAdE8jLPc0CkDEck8jLPcMQBSWexphuQ9AstzTCMs9EUBY7mmE5Z4SQAAAAAAAABRA",
          "dtype": "f8",
          "shape": "30, 30"
         },
         "y": {
          "bdata": "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",
          "dtype": "f8",
          "shape": "30, 30"
         },
         "z": {
          "bdata": "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",
          "dtype": "f8",
          "shape": "30, 30"
         }
        },
        {
         "marker": {
          "color": "red",
          "line": {
           "color": "darkred",
           "width": 1
          },
          "size": 7,
          "symbol": "circle"
         },
         "mode": "markers",
         "name": "Dados Originais",
         "type": "scatter3d",
         "x": {
          "bdata": "AAAAAAAAFMBDYt7OkJgTwIbEvJ0hMRPAyiabbLLJEsANiXk7Q2ISwFDrVwrU+hHAk0022WSTEcDWrxSo9SsRwBoS83aGxBDAXXTRRRddEMBBrV8pUOsPwMdxHMdxHA/ATjbZZJNNDsDU+pUCtX4NwFq/UqDWrwzA4oMPPvjgC8BoSMzbGRILwO4MiXk7QwrAdNFFF110CcD6lQK1fqUIwIFav1Kg1gfACB988MEHB8CO4ziO4zgGwBWo9SsFagXAm2yyySabBMAiMW9nSMwDwKj1KwVq/QLALrrooosuAsC1fqVArV8BwDxDYt7OkADAhA8++OCD/7+RmLczJOb9v54hMW9nSPy/qqqqqqqq+r+4MyTm7Qz5v8S8nSExb/e/0UUXXXTR9b/fzpCYtzP0v+tXCtT6lfK/+OCDDz748L8K1PqVArXuvyTm7QyJeeu/Pvjggw8+6L9YCtT6lQLlv3Icx3Ecx+G/GF100UUX3b9LgVq/UqDWv3+lQK1fKdC/ZZNNNtlkw78yb2dIzNupvzJvZ0jM26k/ZZNNNtlkwz9/pUCtXynQP0uBWr9SoNY/GF100UUX3T9yHMdxHMfhP1gK1PqVAuU/Pvjggw8+6D8k5u0MiXnrPwrU+pUCte4/+OCDDz748D/rVwrU+pXyP9/OkJi3M/Q/0UUXXXTR9T/EvJ0hMW/3P7gzJObtDPk/qqqqqqqq+j+eITFvZ0j8P5GYtzMk5v0/hA8++OCD/z88Q2LezpAAQLV+pUCtXwFALrrooosuAkCo9SsFav0CQCIxb2dIzANAm2yyySabBEAVqPUrBWoFQI7jOI7jOAZACB988MEHB0CBWr9SoNYHQPqVArV+pQhAdNFFF110CUDuDIl5O0MKQGhIzNsZEgtA4oMPPvjgC0Bav1Kg1q8MQNT6lQK1fg1ATjbZZJNNDkDHcRzHcRwPQEGtXylQ6w9AXXTRRRddEEAaEvN2hsQQQNavFKj1KxFAk0022WSTEUBQ61cK1PoRQA2JeTtDYhJAyiabbLLJEkCGxLydITETQENi3s6QmBNAAAAAAAAAFEA=",
          "dtype": "f8"
         },
         "y": {
          "bdata": "AAAAAAAACMCEDz744IMHwAgffPDBBwfAjC666KKLBsAQPvjggw8GwJRNNtlkkwXAF1100UUXBcCbbLLJJpsEwB988MEHHwTAo4suuuiiA8Anm2yyySYDwKuqqqqqqgLALrrooosuAsCyySabbLIBwDbZZJNNNgHAuuiiiy66AMA++OCDDz4AwIQPPvjgg/+/jC666KKL/r+TTTbZZJP9v5pssskmm/y/pIsuuuii+7+rqqqqqqr6v7LJJptssvm/uuiiiy66+L/CBx988MH3v8omm2yyyfa/0UUXXXTR9b/aZJNNNtn0v+GDDz744PO/6KKLLrro8r/xwQcffPDxv/jggw8++PC/AAAAAAAA8L8QPvjggw/uvx988MEHH+y/Lrrooosu6r8++OCDDz7ov0422WSTTea/XXTRRRdd5L9ssskmm2ziv3zwwQcffOC/GF100UUX3b832WSTTTbZv1VVVVVVVdW/dNFFF1100b8mm2yyySbLv2WTTTbZZMO/RhdddNFFt78IH3zwwQefvwgffPDBB58/RhdddNFFtz9lk0022WTDPyabbLLJJss/dNFFF1100T9VVVVVVVXVPzfZZJNNNtk/GF100UUX3T988MEHH3zgP2yyySabbOI/XXTRRRdd5D9ONtlkk03mPz744IMPPug/Lrrooosu6j8ffPDBBx/sPxA++OCDD+4/AAAAAAAA8D/44IMPPvjwP/HBBx988PE/6KKLLrro8j/hgw8++ODzP9pkk0022fQ/0UUXXXTR9T/KJptsssn2P8IHH3zwwfc/uuiiiy66+D+yySabbLL5P6uqqqqqqvo/pIsuuuii+z+abLLJJpv8P5NNNtlkk/0/jC666KKL/j+EDz744IP/Pz744IMPPgBAuuiiiy66AEA22WSTTTYBQLLJJptssgFALrrooosuAkCrqqqqqqoCQCebbLLJJgNAo4suuuiiA0AffPDBBx8EQJtssskmmwRAF1100UUXBUCUTTbZZJMFQBA++OCDDwZAjC666KKLBkAIH3zwwQcHQIQPPvjggwdAAAAAAAAACEA=",
          "dtype": "f8"
         },
         "z": {
          "bdata": "o82WIehZ7b+f9iyd0xHuvyFs1NUFYu2/FjUYCDfx7L+x70guNevtv4xGsiDU/e2/rzVDDVXu7b8zHgVKGM3vvyJU3RNq/+y/CaKEFMMf7b9ZR6UetMbtvwRRKq2bAe+/vANwMobm7r9lx2oaesHvvzGCYgmzVe6/QBmtA9EM7r9///1tjKvtvyeSEjYQ/++/Gr9mzO5y778gXEfo74Luvy88moxS0u6/jGtiJAby7L8IHVM8Tf3sv8Ng/flX3uy/sHq4Jk5M779s/J6qvF/vvxhjWx/mCO6/hLfSVSWb7b/OYRh+Pijtv/w1Kg43QO2/dkYMWZQz7L+jbEO8rfDsv5Hmx1kdZ+6/uPBlKYkv7L8IOeGbLrbqv7nTkSb4ytS/yveRzCy93L+mLompl3GrP2+20qOFR6E/3Nj9WEU8uT/A65SOTf+Lv8r6eDHQpOk/jF2CsGt96T+ChwnEixPlPyU+qYyAhew/YGguEOCR7j+ZZCRDES/vP94g/zxRte8/VbFMxDaH8D/z7SnVi23vPzvzpVCXUfA/8gu6Ly048T8IL11CQlbwPzMFSkV3AvA/bLVAt0yR8T9WxG169vXwPwhkdTMMYPA/qWrRETuy8D8PpqrqeCvxP9baYV524/A/miyof/yy8D8weStQEffwPzcUDdj7SfA/lOWRGjFL8T+fiJ3QX0/xP/JBMQd7x/A/i1Kg0T818T+XlSvxn6XwP4rk6OE2KfE/C3Dv5xE/8D+go3NzgdDwPznmlUegEfE/xEJKS34+8D+dRY/hrRnwP8XGjPwUivA/7jgNf6i28D8jtU4kVTbxP5p0OGl3NfA/8XwuT0Jx8T/0+qUfQFrwP+qGYekNm/A/aJsvKimt8D9FJpKJaY7xPxeF4niBSPA/7C9tZWFp8T+K61aFy+HwP6t+ft6ug/A/7F9WppNw8T9WN6iIDN7wP8v303SZvfA/XsPOT/JK8T9PBuOIypPwP+fSwQq5jfE/8JKgNorj8D+td0lyUTvxPwO0ltuTFvE/UV+AuwxU8D+EAMOO3FXxP2Jtrct+YvE/otQFxQER8D8=",
          "dtype": "f8"
         }
        },
        {
         "marker": {
          "color": "blue",
          "line": {
           "color": "darkblue",
           "width": 1
          },
          "size": 7,
          "symbol": "diamond"
         },
         "mode": "markers",
         "name": "Valores Previstos",
         "type": "scatter3d",
         "x": {
          "bdata": "AAAAAAAAFMBDYt7OkJgTwIbEvJ0hMRPAyiabbLLJEsANiXk7Q2ISwFDrVwrU+hHAk0022WSTEcDWrxSo9SsRwBoS83aGxBDAXXTRRRddEMBBrV8pUOsPwMdxHMdxHA/ATjbZZJNNDsDU+pUCtX4NwFq/UqDWrwzA4oMPPvjgC8BoSMzbGRILwO4MiXk7QwrAdNFFF110CcD6lQK1fqUIwIFav1Kg1gfACB988MEHB8CO4ziO4zgGwBWo9SsFagXAm2yyySabBMAiMW9nSMwDwKj1KwVq/QLALrrooosuAsC1fqVArV8BwDxDYt7OkADAhA8++OCD/7+RmLczJOb9v54hMW9nSPy/qqqqqqqq+r+4MyTm7Qz5v8S8nSExb/e/0UUXXXTR9b/fzpCYtzP0v+tXCtT6lfK/+OCDDz748L8K1PqVArXuvyTm7QyJeeu/Pvjggw8+6L9YCtT6lQLlv3Icx3Ecx+G/GF100UUX3b9LgVq/UqDWv3+lQK1fKdC/ZZNNNtlkw78yb2dIzNupvzJvZ0jM26k/ZZNNNtlkwz9/pUCtXynQP0uBWr9SoNY/GF100UUX3T9yHMdxHMfhP1gK1PqVAuU/Pvjggw8+6D8k5u0MiXnrPwrU+pUCte4/+OCDDz748D/rVwrU+pXyP9/OkJi3M/Q/0UUXXXTR9T/EvJ0hMW/3P7gzJObtDPk/qqqqqqqq+j+eITFvZ0j8P5GYtzMk5v0/hA8++OCD/z88Q2LezpAAQLV+pUCtXwFALrrooosuAkCo9SsFav0CQCIxb2dIzANAm2yyySabBEAVqPUrBWoFQI7jOI7jOAZACB988MEHB0CBWr9SoNYHQPqVArV+pQhAdNFFF110CUDuDIl5O0MKQGhIzNsZEgtA4oMPPvjgC0Bav1Kg1q8MQNT6lQK1fg1ATjbZZJNNDkDHcRzHcRwPQEGtXylQ6w9AXXTRRRddEEAaEvN2hsQQQNavFKj1KxFAk0022WSTEUBQ61cK1PoRQA2JeTtDYhJAyiabbLLJEkCGxLydITETQENi3s6QmBNAAAAAAAAAFEA=",
          "dtype": "f8"
         },
         "y": {
          "bdata": "AAAAAAAACMCEDz744IMHwAgffPDBBwfAjC666KKLBsAQPvjggw8GwJRNNtlkkwXAF1100UUXBcCbbLLJJpsEwB988MEHHwTAo4suuuiiA8Anm2yyySYDwKuqqqqqqgLALrrooosuAsCyySabbLIBwDbZZJNNNgHAuuiiiy66AMA++OCDDz4AwIQPPvjgg/+/jC666KKL/r+TTTbZZJP9v5pssskmm/y/pIsuuuii+7+rqqqqqqr6v7LJJptssvm/uuiiiy66+L/CBx988MH3v8omm2yyyfa/0UUXXXTR9b/aZJNNNtn0v+GDDz744PO/6KKLLrro8r/xwQcffPDxv/jggw8++PC/AAAAAAAA8L8QPvjggw/uvx988MEHH+y/Lrrooosu6r8++OCDDz7ov0422WSTTea/XXTRRRdd5L9ssskmm2ziv3zwwQcffOC/GF100UUX3b832WSTTTbZv1VVVVVVVdW/dNFFF1100b8mm2yyySbLv2WTTTbZZMO/RhdddNFFt78IH3zwwQefvwgffPDBB58/RhdddNFFtz9lk0022WTDPyabbLLJJss/dNFFF1100T9VVVVVVVXVPzfZZJNNNtk/GF100UUX3T988MEHH3zgP2yyySabbOI/XXTRRRdd5D9ONtlkk03mPz744IMPPug/Lrrooosu6j8ffPDBBx/sPxA++OCDD+4/AAAAAAAA8D/44IMPPvjwP/HBBx988PE/6KKLLrro8j/hgw8++ODzP9pkk0022fQ/0UUXXXTR9T/KJptsssn2P8IHH3zwwfc/uuiiiy66+D+yySabbLL5P6uqqqqqqvo/pIsuuuii+z+abLLJJpv8P5NNNtlkk/0/jC666KKL/j+EDz744IP/Pz744IMPPgBAuuiiiy66AEA22WSTTTYBQLLJJptssgFALrrooosuAkCrqqqqqqoCQCebbLLJJgNAo4suuuiiA0AffPDBBx8EQJtssskmmwRAF1100UUXBUCUTTbZZJMFQBA++OCDDwZAjC666KKLBkAIH3zwwQcHQIQPPvjggwdAAAAAAAAACEA=",
          "dtype": "f8"
         },
         "z": {
          "bdata": "2+rRAhpp7b/8s/7dl33tvysyL9jbku2/X+KM9s6o7b8iCOAOVb/tv5Tr/7RM1u2/263/To/t7b+oBGVT8QTuv+T5eLFCHO6/wnNgX08z7r9QXTAE4Enuv6tdxq26X+6/NhMJe6N07r8OkYAbXYjuv8jA+vyomu6/yN7C9kar7r+68sA29Lnuv3xBcCVpxu6/dDc13lXQ7r/L8AO0XNfuv16QwPwJ2+6/z8sc+cfa7r+Io2ELzdXuv/8tImkBy+6/U3Ho0te47r9seB1REp3uv29LkBVodO6/qI0zBvw57r8IQA0ojObtvz4kRts6b+2/8cEYONLD7L+uSLQ6eszrvw1mvxo1Z+q/BzoSI1lm6L9C5SFO6JLlv1bUPfqCt+G/wimPbLxv2b/A3bBzwb/KvwB0w8bZAUi/zDznXOemyj/WbUPWgorZP7V3qtmy6eE/n6aVvID65T/pxWztnw7pP015VLtPVOs/NbHYHo/87D8RdGLYVDHuP/MzJkQJE+8/I7TkDmC57z8cQRodmxrwP8Kz0fAzSfA/NsXEXKRs8D+Mjhol3IfwP7ACPgTynPA/ggdUdWat8D/6DyJMUbrwP1r7es+AxPA/esnrBo/M8D9MvyRs8NLwP3b3QST+1/A/+BtoL/3b8D/IL/SDI9/wP16tD7qb4fA/kh0bt4fj8D/OXdekAuXwP2yZamgi5vA/EsJUvfjm8D/EhYQNlOfwP9bCSxgA6PA/CAjRdEbo8D8kvgv5bujwP16j2guA6PA/7I8C537o8D/AAqTMb+jwPzQj0TJW6PA/zpJI5zTo8D8+2+AsDujwP7h319Pj5/A/3lr0Tbfn8D/QCEG/iefwPzxr7Atc5/A/UEHX4y7n8D9AMy7MAufwP2aEZCfY5vA/UPPTO6/m8D8GtDo5iObwP/T2Rj1j5vA/fKZXV0Dm8D9ql5OLH+bwP6QPc9UA5vA/8A/TKeTl8D9kEKZ4yeXwP0C6Uq6w5fA/cIXOtJnl8D+a5H90hOXwP7bJ8dRw5fA/5LZgvV7l8D90OCgVTuXwP0iEFsQ+5fA/BgersjDl8D8=",
          "dtype": "f8"
         }
        },
        {
         "line": {
          "color": "rgba(0,100,0,0.5)",
          "width": 2
         },
         "mode": "lines",
         "showlegend": false,
         "type": "scatter3d",
         "x": [
          -5,
          -5
         ],
         "y": [
          -3,
          -3
         ],
         "z": [
          -0.9172249465977312,
          -0.9190797858312537
         ]
        },
        {
         "line": {
          "color": "rgba(0,100,0,0.5)",
          "width": 2
         },
         "mode": "lines",
         "showlegend": false,
         "type": "scatter3d",
         "x": [
          -4.898989898989899,
          -4.898989898989899
         ],
         "y": [
          -2.9393939393939394,
          -2.9393939393939394
         ],
         "z": [
          -0.9396761007153208,
          -0.9215812049711753
         ]
        },
        {
         "line": {
          "color": "rgba(0,100,0,0.5)",
          "width": 2
         },
         "mode": "lines",
         "showlegend": false,
         "type": "scatter3d",
         "x": [
          -4.797979797979798,
          -4.797979797979798
         ],
         "y": [
          -2.878787878787879,
          -2.878787878787879
         ],
         "z": [
          -0.918215673099784,
          -0.9241770956373946
         ]
        },
        {
         "line": {
          "color": "rgba(0,100,0,0.5)",
          "width": 2
         },
         "mode": "lines",
         "showlegend": false,
         "type": "scatter3d",
         "x": [
          -4.696969696969697,
          -4.696969696969697
         ],
         "y": [
          -2.8181818181818183,
          -2.8181818181818183
         ],
         "z": [
          -0.9044451864334941,
          -0.9268565001903645
         ]
        },
        {
         "line": {
          "color": "rgba(0,100,0,0.5)",
          "width": 2
         },
         "mode": "lines",
         "showlegend": false,
         "type": "scatter3d",
         "x": [
          -4.595959595959596,
          -4.595959595959596
         ],
         "y": [
          -2.757575757575758,
          -2.757575757575758
         ],
         "z": [
          -0.934961882019243,
          -0.929605988553025
         ]
        },
        {
         "line": {
          "color": "rgba(0,100,0,0.5)",
          "width": 2
         },
         "mode": "lines",
         "showlegend": false,
         "type": "scatter3d",
         "x": [
          -4.494949494949495,
          -4.494949494949495
         ],
         "y": [
          -2.6969696969696972,
          -2.6969696969696972
         ],
         "z": [
          -0.9372349394418094,
          -0.932409623637215
         ]
        },
        {
         "line": {
          "color": "rgba(0,100,0,0.5)",
          "width": 2
         },
         "mode": "lines",
         "showlegend": false,
         "type": "scatter3d",
         "x": [
          -4.393939393939394,
          -4.393939393939394
         ],
         "y": [
          -2.6363636363636362,
          -2.6363636363636362
         ],
         "z": [
          -0.9353432902368491,
          -0.9352489989227551
         ]
        },
        {
         "line": {
          "color": "rgba(0,100,0,0.5)",
          "width": 2
         },
         "mode": "lines",
         "showlegend": false,
         "type": "scatter3d",
         "x": [
          -4.292929292929292,
          -4.292929292929292
         ],
         "y": [
          -2.5757575757575757,
          -2.5757575757575757
         ],
         "z": [
          -0.993785996027276,
          -0.9381033543396784
         ]
        },
        {
         "line": {
          "color": "rgba(0,100,0,0.5)",
          "width": 2
         },
         "mode": "lines",
         "showlegend": false,
         "type": "scatter3d",
         "x": [
          -4.191919191919192,
          -4.191919191919192
         ],
         "y": [
          -2.515151515151515,
          -2.515151515151515
         ],
         "z": [
          -0.9061785114269052,
          -0.94094977057085
         ]
        },
        {
         "line": {
          "color": "rgba(0,100,0,0.5)",
          "width": 2
         },
         "mode": "lines",
         "showlegend": false,
         "type": "scatter3d",
         "x": [
          -4.090909090909091,
          -4.090909090909091
         ],
         "y": [
          -2.4545454545454546,
          -2.4545454545454546
         ],
         "z": [
          -0.9101272011512843,
          -0.9437634337260692
         ]
        },
        {
         "line": {
          "color": "rgba(0,100,0,0.5)",
          "width": 2
         },
         "mode": "lines",
         "showlegend": false,
         "type": "scatter3d",
         "x": [
          -3.98989898989899,
          -3.98989898989899
         ],
         "y": [
          -2.393939393939394,
          -2.393939393939394
         ],
         "z": [
          -0.9305058096453919,
          -0.9465179521384162
         ]
        },
        {
         "line": {
          "color": "rgba(0,100,0,0.5)",
          "width": 2
         },
         "mode": "lines",
         "showlegend": false,
         "type": "scatter3d",
         "x": [
          -3.888888888888889,
          -3.888888888888889
         ],
         "y": [
          -2.3333333333333335,
          -2.3333333333333335
         ],
         "z": [
          -0.9689463026175251,
          -0.9491856950798384
         ]
        },
        {
         "line": {
          "color": "rgba(0,100,0,0.5)",
          "width": 2
         },
         "mode": "lines",
         "showlegend": false,
         "type": "scatter3d",
         "x": [
          -3.787878787878788,
          -3.787878787878788
         ],
         "y": [
          -2.2727272727272725,
          -2.2727272727272725
         ],
         "z": [
          -0.9656401620014701,
          -0.9517381098781701
         ]
        },
        {
         "line": {
          "color": "rgba(0,100,0,0.5)",
          "width": 2
         },
         "mode": "lines",
         "showlegend": false,
         "type": "scatter3d",
         "x": [
          -3.686868686868687,
          -3.686868686868687
         ],
         "y": [
          -2.212121212121212,
          -2.212121212121212
         ],
         "z": [
          -0.9923677936514933,
          -0.9541459595825772
         ]
        },
        {
         "line": {
          "color": "rgba(0,100,0,0.5)",
          "width": 2
         },
         "mode": "lines",
         "showlegend": false,
         "type": "scatter3d",
         "x": [
          -3.5858585858585856,
          -3.5858585858585856
         ],
         "y": [
          -2.1515151515151514,
          -2.1515151515151514
         ],
         "z": [
          -0.9479613478943688,
          -0.9563794079786243
         ]
        },
        {
         "line": {
          "color": "rgba(0,100,0,0.5)",
          "width": 2
         },
         "mode": "lines",
         "showlegend": false,
         "type": "scatter3d",
         "x": [
          -3.4848484848484853,
          -3.4848484848484853
         ],
         "y": [
          -2.090909090909091,
          -2.090909090909091
         ],
         "z": [
          -0.9390645095634582,
          -0.9584078616671485
         ]
        },
        {
         "line": {
          "color": "rgba(0,100,0,0.5)",
          "width": 2
         },
         "mode": "lines",
         "showlegend": false,
         "type": "scatter3d",
         "x": [
          -3.383838383838384,
          -3.383838383838384
         ],
         "y": [
          -2.0303030303030303,
          -2.0303030303030303
         ],
         "z": [
          -0.9271909855160486,
          -0.9601994580658222
         ]
        },
        {
         "line": {
          "color": "rgba(0,100,0,0.5)",
          "width": 2
         },
         "mode": "lines",
         "showlegend": false,
         "type": "scatter3d",
         "x": [
          -3.282828282828283,
          -3.282828282828283
         ],
         "y": [
          -1.9696969696969697,
          -1.9696969696969697
         ],
         "z": [
          -0.9998856597999904,
          -0.9617200595112503
         ]
        },
        {
         "line": {
          "color": "rgba(0,100,0,0.5)",
          "width": 2
         },
         "mode": "lines",
         "showlegend": false,
         "type": "scatter3d",
         "x": [
          -3.1818181818181817,
          -3.1818181818181817
         ],
         "y": [
          -1.9090909090909092,
          -1.9090909090909092
         ],
         "z": [
          -0.9827798835958419,
          -0.9629315700528722
         ]
        },
        {
         "line": {
          "color": "rgba(0,100,0,0.5)",
          "width": 2
         },
         "mode": "lines",
         "showlegend": false,
         "type": "scatter3d",
         "x": [
          -3.0808080808080804,
          -3.0808080808080804
         ],
         "y": [
          -1.8484848484848484,
          -1.8484848484848484
         ],
         "z": [
          -0.9534835373586965,
          -0.9637893215108532
         ]
        },
        {
         "line": {
          "color": "rgba(0,100,0,0.5)",
          "width": 2
         },
         "mode": "lines",
         "showlegend": false,
         "type": "scatter3d",
         "x": [
          -2.9797979797979797,
          -2.9797979797979797
         ],
         "y": [
          -1.7878787878787876,
          -1.7878787878787876
         ],
         "z": [
          -0.9631741281645015,
          -0.9642381607595885
         ]
        },
        {
         "line": {
          "color": "rgba(0,100,0,0.5)",
          "width": 2
         },
         "mode": "lines",
         "showlegend": false,
         "type": "scatter3d",
         "x": [
          -2.878787878787879,
          -2.878787878787879
         ],
         "y": [
          -1.7272727272727275,
          -1.7272727272727275
         ],
         "z": [
          -0.9045439444192751,
          -0.964206682727644
         ]
        },
        {
         "line": {
          "color": "rgba(0,100,0,0.5)",
          "width": 2
         },
         "mode": "lines",
         "showlegend": false,
         "type": "scatter3d",
         "x": [
          -2.7777777777777777,
          -2.7777777777777777
         ],
         "y": [
          -1.6666666666666667,
          -1.6666666666666667
         ],
         "z": [
          -0.9059206178871202,
          -0.963598749379444
         ]
        },
        {
         "line": {
          "color": "rgba(0,100,0,0.5)",
          "width": 2
         },
         "mode": "lines",
         "showlegend": false,
         "type": "scatter3d",
         "x": [
          -2.676767676767677,
          -2.676767676767677
         ],
         "y": [
          -1.606060606060606,
          -1.606060606060606
         ],
         "z": [
          -0.9021415598499732,
          -0.9622809461010887
         ]
        },
        {
         "line": {
          "color": "rgba(0,100,0,0.5)",
          "width": 2
         },
         "mode": "lines",
         "showlegend": false,
         "type": "scatter3d",
         "x": [
          -2.5757575757575757,
          -2.5757575757575757
         ],
         "y": [
          -1.5454545454545454,
          -1.5454545454545454
         ],
         "z": [
          -0.9780646091711187,
          -0.960063850335738
         ]
        },
        {
         "line": {
          "color": "rgba(0,100,0,0.5)",
          "width": 2
         },
         "mode": "lines",
         "showlegend": false,
         "type": "scatter3d",
         "x": [
          -2.474747474747475,
          -2.474747474747475
         ],
         "y": [
          -1.4848484848484849,
          -1.4848484848484849
         ],
         "z": [
          -0.9804366428796931,
          -0.9566737732200301
         ]
        },
        {
         "line": {
          "color": "rgba(0,100,0,0.5)",
          "width": 2
         },
         "mode": "lines",
         "showlegend": false,
         "type": "scatter3d",
         "x": [
          -2.3737373737373737,
          -2.3737373737373737
         ],
         "y": [
          -1.4242424242424243,
          -1.4242424242424243
         ],
         "z": [
          -0.9385862934533149,
          -0.9517097874798831
         ]
        },
        {
         "line": {
          "color": "rgba(0,100,0,0.5)",
          "width": 2
         },
         "mode": "lines",
         "showlegend": false,
         "type": "scatter3d",
         "x": [
          -2.2727272727272725,
          -2.2727272727272725
         ],
         "y": [
          -1.3636363636363635,
          -1.3636363636363635
         ],
         "z": [
          -0.9251887012703581,
          -0.944578182327338
         ]
        },
        {
         "line": {
          "color": "rgba(0,100,0,0.5)",
          "width": 2
         },
         "mode": "lines",
         "showlegend": false,
         "type": "scatter3d",
         "x": [
          -2.1717171717171717,
          -2.1717171717171717
         ],
         "y": [
          -1.3030303030303032,
          -1.3030303030303032
         ],
         "z": [
          -0.9111626112745002,
          -0.9343930036793617
         ]
        },
        {
         "line": {
          "color": "rgba(0,100,0,0.5)",
          "width": 2
         },
         "mode": "lines",
         "showlegend": false,
         "type": "scatter3d",
         "x": [
          -2.070707070707071,
          -2.070707070707071
         ],
         "y": [
          -1.2424242424242424,
          -1.2424242424242424
         ],
         "z": [
          -0.9140887524278578,
          -0.9198278696723106
         ]
        },
        {
         "line": {
          "color": "rgba(0,100,0,0.5)",
          "width": 2
         },
         "mode": "lines",
         "showlegend": false,
         "type": "scatter3d",
         "x": [
          -1.9696969696969697,
          -1.9696969696969697
         ],
         "y": [
          -1.1818181818181817,
          -1.1818181818181817
         ],
         "z": [
          -0.8812963237016465,
          -0.8989039512289861
         ]
        },
        {
         "line": {
          "color": "rgba(0,100,0,0.5)",
          "width": 2
         },
         "mode": "lines",
         "showlegend": false,
         "type": "scatter3d",
         "x": [
          -1.8686868686868687,
          -1.8686868686868687
         ],
         "y": [
          -1.1212121212121213,
          -1.1212121212121213
         ],
         "z": [
          -0.904379718496234,
          -0.8687106272284575
         ]
        },
        {
         "line": {
          "color": "rgba(0,100,0,0.5)",
          "width": 2
         },
         "mode": "lines",
         "showlegend": false,
         "type": "scatter3d",
         "x": [
          -1.7676767676767677,
          -1.7676767676767677
         ],
         "y": [
          -1.0606060606060606,
          -1.0606060606060606
         ],
         "z": [
          -0.9500872376949748,
          -0.825098564378267
         ]
        },
        {
         "line": {
          "color": "rgba(0,100,0,0.5)",
          "width": 2
         },
         "mode": "lines",
         "showlegend": false,
         "type": "scatter3d",
         "x": [
          -1.6666666666666665,
          -1.6666666666666665
         ],
         "y": [
          -1,
          -1
         ],
         "z": [
          -0.8808027084883383,
          -0.7624936757072768
         ]
        },
        {
         "line": {
          "color": "rgba(0,100,0,0.5)",
          "width": 2
         },
         "mode": "lines",
         "showlegend": false,
         "type": "scatter3d",
         "x": [
          -1.5656565656565657,
          -1.5656565656565657
         ],
         "y": [
          -0.9393939393939394,
          -0.9393939393939394
         ],
         "z": [
          -0.8347390217329869,
          -0.6741830373786473
         ]
        },
        {
         "line": {
          "color": "rgba(0,100,0,0.5)",
          "width": 2
         },
         "mode": "lines",
         "showlegend": false,
         "type": "scatter3d",
         "x": [
          -1.4646464646464645,
          -1.4646464646464645
         ],
         "y": [
          -0.8787878787878788,
          -0.8787878787878788
         ],
         "z": [
          -0.3248882652908907,
          -0.5536513221292221
         ]
        },
        {
         "line": {
          "color": "rgba(0,100,0,0.5)",
          "width": 2
         },
         "mode": "lines",
         "showlegend": false,
         "type": "scatter3d",
         "x": [
          -1.3636363636363635,
          -1.3636363636363635
         ],
         "y": [
          -0.8181818181818181,
          -0.8181818181818181
         ],
         "z": [
          -0.4490463254695639,
          -0.39744482614028354
         ]
        },
        {
         "line": {
          "color": "rgba(0,100,0,0.5)",
          "width": 2
         },
         "mode": "lines",
         "showlegend": false,
         "type": "scatter3d",
         "x": [
          -1.2626262626262628,
          -1.2626262626262628
         ],
         "y": [
          -0.7575757575757576,
          -0.7575757575757576
         ],
         "z": [
          0.05360101646928443,
          -0.2089769186875241
         ]
        },
        {
         "line": {
          "color": "rgba(0,100,0,0.5)",
          "width": 2
         },
         "mode": "lines",
         "showlegend": false,
         "type": "scatter3d",
         "x": [
          -1.1616161616161615,
          -1.1616161616161615
         ],
         "y": [
          -0.696969696969697,
          -0.696969696969697
         ],
         "z": [
          0.03374879479211478,
          -0.0007326424943375764
         ]
        },
        {
         "line": {
          "color": "rgba(0,100,0,0.5)",
          "width": 2
         },
         "mode": "lines",
         "showlegend": false,
         "type": "scatter3d",
         "x": [
          -1.0606060606060606,
          -1.0606060606060606
         ],
         "y": [
          -0.6363636363636364,
          -0.6363636363636364
         ],
         "z": [
          0.09857591078420874,
          0.2082184985760932
         ]
        },
        {
         "line": {
          "color": "rgba(0,100,0,0.5)",
          "width": 2
         },
         "mode": "lines",
         "showlegend": false,
         "type": "scatter3d",
         "x": [
          -0.9595959595959596,
          -0.9595959595959596
         ],
         "y": [
          -0.5757575757575757,
          -0.5757575757575757
         ],
         "z": [
          -0.013670545495747422,
          0.3990790455261196
         ]
        },
        {
         "line": {
          "color": "rgba(0,100,0,0.5)",
          "width": 2
         },
         "mode": "lines",
         "showlegend": false,
         "type": "scatter3d",
         "x": [
          -0.8585858585858586,
          -0.8585858585858586
         ],
         "y": [
          -0.5151515151515151,
          -0.5151515151515151
         ],
         "z": [
          0.8013688055287613,
          0.5597776652609726
         ]
        },
        {
         "line": {
          "color": "rgba(0,100,0,0.5)",
          "width": 2
         },
         "mode": "lines",
         "showlegend": false,
         "type": "scatter3d",
         "x": [
          -0.7575757575757576,
          -0.7575757575757576
         ],
         "y": [
          -0.4545454545454546,
          -0.4545454545454546
         ],
         "z": [
          0.7965601394125073,
          0.6868289645473914
         ]
        },
        {
         "line": {
          "color": "rgba(0,100,0,0.5)",
          "width": 2
         },
         "mode": "lines",
         "showlegend": false,
         "type": "scatter3d",
         "x": [
          -0.6565656565656566,
          -0.6565656565656566
         ],
         "y": [
          -0.393939393939394,
          -0.393939393939394
         ],
         "z": [
          0.6586359814502745,
          0.783035243721483
         ]
        },
        {
         "line": {
          "color": "rgba(0,100,0,0.5)",
          "width": 2
         },
         "mode": "lines",
         "showlegend": false,
         "type": "scatter3d",
         "x": [
          -0.5555555555555556,
          -0.5555555555555556
         ],
         "y": [
          -0.3333333333333333,
          -0.3333333333333333
         ],
         "z": [
          0.891296648720474,
          0.854041925314769
         ]
        },
        {
         "line": {
          "color": "rgba(0,100,0,0.5)",
          "width": 2
         },
         "mode": "lines",
         "showlegend": false,
         "type": "scatter3d",
         "x": [
          -0.4545454545454546,
          -0.4545454545454546
         ],
         "y": [
          -0.2727272727272727,
          -0.2727272727272727
         ],
         "z": [
          0.9553070369759205,
          0.9058299639196209
         ]
        },
        {
         "line": {
          "color": "rgba(0,100,0,0.5)",
          "width": 2
         },
         "mode": "lines",
         "showlegend": false,
         "type": "scatter3d",
         "x": [
          -0.35353535353535354,
          -0.35353535353535354
         ],
         "y": [
          -0.2121212121212121,
          -0.2121212121212121
         ],
         "z": [
          0.9744955359812081,
          0.943521902681484
         ]
        },
        {
         "line": {
          "color": "rgba(0,100,0,0.5)",
          "width": 2
         },
         "mode": "lines",
         "showlegend": false,
         "type": "scatter3d",
         "x": [
          -0.25252525252525254,
          -0.25252525252525254
         ],
         "y": [
          -0.15151515151515152,
          -0.15151515151515152
         ],
         "z": [
          0.9908834639873267,
          0.9710737544097569
         ]
        },
        {
         "line": {
          "color": "rgba(0,100,0,0.5)",
          "width": 2
         },
         "mode": "lines",
         "showlegend": false,
         "type": "scatter3d",
         "x": [
          -0.15151515151515152,
          -0.15151515151515152
         ],
         "y": [
          -0.09090909090909091,
          -0.09090909090909091
         ],
         "z": [
          1.0330112140610102,
          0.9913788119207577
         ]
        },
        {
         "line": {
          "color": "rgba(0,100,0,0.5)",
          "width": 2
         },
         "mode": "lines",
         "showlegend": false,
         "type": "scatter3d",
         "x": [
          -0.05050505050505051,
          -0.05050505050505051
         ],
         "y": [
          -0.030303030303030304,
          -0.030303030303030304
         ],
         "z": [
          0.9821223414759842,
          1.0064955841845125
         ]
        },
        {
         "line": {
          "color": "rgba(0,100,0,0.5)",
          "width": 2
         },
         "mode": "lines",
         "showlegend": false,
         "type": "scatter3d",
         "x": [
          0.05050505050505051,
          0.05050505050505051
         ],
         "y": [
          0.030303030303030304,
          0.030303030303030304
         ],
         "z": [
          1.0199196958848933,
          1.0178718001363767
         ]
        },
        {
         "line": {
          "color": "rgba(0,100,0,0.5)",
          "width": 2
         },
         "mode": "lines",
         "showlegend": false,
         "type": "scatter3d",
         "x": [
          0.15151515151515152,
          0.15151515151515152
         ],
         "y": [
          0.09090909090909091,
          0.09090909090909091
         ],
         "z": [
          1.0762149681402176,
          1.0265239356779836
         ]
        },
        {
         "line": {
          "color": "rgba(0,100,0,0.5)",
          "width": 2
         },
         "mode": "lines",
         "showlegend": false,
         "type": "scatter3d",
         "x": [
          0.25252525252525254,
          0.25252525252525254
         ],
         "y": [
          0.15151515151515152,
          0.15151515151515152
         ],
         "z": [
          1.021059283480044,
          1.033168930946803
         ]
        },
        {
         "line": {
          "color": "rgba(0,100,0,0.5)",
          "width": 2
         },
         "mode": "lines",
         "showlegend": false,
         "type": "scatter3d",
         "x": [
          0.35353535353535354,
          0.35353535353535354
         ],
         "y": [
          0.2121212121212121,
          0.2121212121212121
         ],
         "z": [
          1.0006020266158202,
          1.038316742488103
         ]
        },
        {
         "line": {
          "color": "rgba(0,100,0,0.5)",
          "width": 2
         },
         "mode": "lines",
         "showlegend": false,
         "type": "scatter3d",
         "x": [
          0.4545454545454546,
          0.4545454545454546
         ],
         "y": [
          0.2727272727272727,
          0.2727272727272727
         ],
         "z": [
          1.0979735525428067,
          1.042334039987026
         ]
        },
        {
         "line": {
          "color": "rgba(0,100,0,0.5)",
          "width": 2
         },
         "mode": "lines",
         "showlegend": false,
         "type": "scatter3d",
         "x": [
          0.5555555555555556,
          0.5555555555555556
         ],
         "y": [
          0.3333333333333333,
          0.3333333333333333
         ],
         "z": [
          1.0600495130895715,
          1.0454876874873649
         ]
        },
        {
         "line": {
          "color": "rgba(0,100,0,0.5)",
          "width": 2
         },
         "mode": "lines",
         "showlegend": false,
         "type": "scatter3d",
         "x": [
          0.6565656565656566,
          0.6565656565656566
         ],
         "y": [
          0.393939393939394,
          0.393939393939394
         ],
         "z": [
          1.0234491357898623,
          1.0479744057372131
         ]
        },
        {
         "line": {
          "color": "rgba(0,100,0,0.5)",
          "width": 2
         },
         "mode": "lines",
         "showlegend": false,
         "type": "scatter3d",
         "x": [
          0.7575757575757576,
          0.7575757575757576
         ],
         "y": [
          0.4545454545454546,
          0.4545454545454546
         ],
         "z": [
          1.0435133644120163,
          1.0499410887101406
         ]
        },
        {
         "line": {
          "color": "rgba(0,100,0,0.5)",
          "width": 2
         },
         "mode": "lines",
         "showlegend": false,
         "type": "scatter3d",
         "x": [
          0.8585858585858586,
          0.8585858585858586
         ],
         "y": [
          0.5151515151515151,
          0.5151515151515151
         ],
         "z": [
          1.0731133619941635,
          1.0514988159520327
         ]
        },
        {
         "line": {
          "color": "rgba(0,100,0,0.5)",
          "width": 2
         },
         "mode": "lines",
         "showlegend": false,
         "type": "scatter3d",
         "x": [
          0.9595959595959596,
          0.9595959595959596
         ],
         "y": [
          0.5757575757575757,
          0.5757575757575757
         ],
         "z": [
          1.0555328070455992,
          1.052732602721759
         ]
        },
        {
         "line": {
          "color": "rgba(0,100,0,0.5)",
          "width": 2
         },
         "mode": "lines",
         "showlegend": false,
         "type": "scatter3d",
         "x": [
          1.0606060606060606,
          1.0606060606060606
         ],
         "y": [
          0.6363636363636364,
          0.6363636363636364
         ],
         "z": [
          1.0436978327368593,
          1.0537082530806838
         ]
        },
        {
         "line": {
          "color": "rgba(0,100,0,0.5)",
          "width": 2
         },
         "mode": "lines",
         "showlegend": false,
         "type": "scatter3d",
         "x": [
          1.1616161616161615,
          1.1616161616161615
         ],
         "y": [
          0.696969696969697,
          0.696969696969697
         ],
         "z": [
          1.0603192454942238,
          1.0544772295424867
         ]
        },
        {
         "line": {
          "color": "rgba(0,100,0,0.5)",
          "width": 2
         },
         "mode": "lines",
         "showlegend": false,
         "type": "scatter3d",
         "x": [
          1.2626262626262628,
          1.2626262626262628
         ],
         "y": [
          0.7575757575757576,
          0.7575757575757576
         ],
         "z": [
          1.0180624427314464,
          1.055080153276172
         ]
        },
        {
         "line": {
          "color": "rgba(0,100,0,0.5)",
          "width": 2
         },
         "mode": "lines",
         "showlegend": false,
         "type": "scatter3d",
         "x": [
          1.3636363636363635,
          1.3636363636363635
         ],
         "y": [
          0.8181818181818181,
          0.8181818181818181
         ],
         "z": [
          1.0808573758971294,
          1.055549350030422
         ]
        },
        {
         "line": {
          "color": "rgba(0,100,0,0.5)",
          "width": 2
         },
         "mode": "lines",
         "showlegend": false,
         "type": "scatter3d",
         "x": [
          1.4646464646464645,
          1.4646464646464645
         ],
         "y": [
          0.8787878787878788,
          0.8787878787878788
         ],
         "z": [
          1.0818784855878574,
          1.0559107245552357
         ]
        },
        {
         "line": {
          "color": "rgba(0,100,0,0.5)",
          "width": 2
         },
         "mode": "lines",
         "showlegend": false,
         "type": "scatter3d",
         "x": [
          1.5656565656565657,
          1.5656565656565657
         ],
         "y": [
          0.9393939393939394,
          0.9393939393939394
         ],
         "z": [
          1.0487013131097425,
          1.056185157658173
         ]
        },
        {
         "line": {
          "color": "rgba(0,100,0,0.5)",
          "width": 2
         },
         "mode": "lines",
         "showlegend": false,
         "type": "scatter3d",
         "x": [
          1.6666666666666665,
          1.6666666666666665
         ],
         "y": [
          1,
          1
         ],
         "z": [
          1.0755003155256044,
          1.0563895602937277
         ]
        },
        {
         "line": {
          "color": "rgba(0,100,0,0.5)",
          "width": 2
         },
         "mode": "lines",
         "showlegend": false,
         "type": "scatter3d",
         "x": [
          1.7676767676767677,
          1.7676767676767677
         ],
         "y": [
          1.0606060606060606,
          1.0606060606060606
         ],
         "z": [
          1.040435735770506,
          1.0565376785310585
         ]
        },
        {
         "line": {
          "color": "rgba(0,100,0,0.5)",
          "width": 2
         },
         "mode": "lines",
         "showlegend": false,
         "type": "scatter3d",
         "x": [
          1.8686868686868687,
          1.8686868686868687
         ],
         "y": [
          1.1212121212121213,
          1.1212121212121213
         ],
         "z": [
          1.0725621056174384,
          1.056640715509436
         ]
        },
        {
         "line": {
          "color": "rgba(0,100,0,0.5)",
          "width": 2
         },
         "mode": "lines",
         "showlegend": false,
         "type": "scatter3d",
         "x": [
          1.9696969696969697,
          1.9696969696969697
         ],
         "y": [
          1.1818181818181817,
          1.1818181818181817
         ],
         "z": [
          1.0153979358647145,
          1.0567078173776299
         ]
        },
        {
         "line": {
          "color": "rgba(0,100,0,0.5)",
          "width": 2
         },
         "mode": "lines",
         "showlegend": false,
         "type": "scatter3d",
         "x": [
          2.070707070707071,
          2.070707070707071
         ],
         "y": [
          1.2424242424242424,
          1.2424242424242424
         ],
         "z": [
          1.050904704077972,
          1.0567464569429683
         ]
        },
        {
         "line": {
          "color": "rgba(0,100,0,0.5)",
          "width": 2
         },
         "mode": "lines",
         "showlegend": false,
         "type": "scatter3d",
         "x": [
          2.1717171717171717,
          2.1717171717171717
         ],
         "y": [
          1.3030303030303032,
          1.3030303030303032
         ],
         "z": [
          1.0668032451925582,
          1.0567627394722972
         ]
        },
        {
         "line": {
          "color": "rgba(0,100,0,0.5)",
          "width": 2
         },
         "mode": "lines",
         "showlegend": false,
         "type": "scatter3d",
         "x": [
          2.2727272727272725,
          2.2727272727272725
         ],
         "y": [
          1.3636363636363635,
          1.3636363636363635
         ],
         "z": [
          1.0152571621912765,
          1.056761648543211
         ]
        },
        {
         "line": {
          "color": "rgba(0,100,0,0.5)",
          "width": 2
         },
         "mode": "lines",
         "showlegend": false,
         "type": "scatter3d",
         "x": [
          2.3737373737373737,
          2.3737373737373737
         ],
         "y": [
          1.4242424242424243,
          1.4242424242424243
         ],
         "z": [
          1.0062693415569364,
          1.0567472451950124
         ]
        },
        {
         "line": {
          "color": "rgba(0,100,0,0.5)",
          "width": 2
         },
         "mode": "lines",
         "showlegend": false,
         "type": "scatter3d",
         "x": [
          2.474747474747475,
          2.474747474747475
         ],
         "y": [
          1.4848484848484849,
          1.4848484848484849
         ],
         "z": [
          1.0337114205580502,
          1.0567228302990772
         ]
        },
        {
         "line": {
          "color": "rgba(0,100,0,0.5)",
          "width": 2
         },
         "mode": "lines",
         "showlegend": false,
         "type": "scatter3d",
         "x": [
          2.5757575757575757,
          2.5757575757575757
         ],
         "y": [
          1.5454545454545454,
          1.5454545454545454
         ],
         "z": [
          1.0445942843394351,
          1.0566910776625948
         ]
        },
        {
         "line": {
          "color": "rgba(0,100,0,0.5)",
          "width": 2
         },
         "mode": "lines",
         "showlegend": false,
         "type": "scatter3d",
         "x": [
          2.676767676767677,
          2.676767676767677
         ],
         "y": [
          1.606060606060606,
          1.606060606060606
         ],
         "z": [
          1.075764791322691,
          1.0566541436252943
         ]
        },
        {
         "line": {
          "color": "rgba(0,100,0,0.5)",
          "width": 2
         },
         "mode": "lines",
         "showlegend": false,
         "type": "scatter3d",
         "x": [
          2.7777777777777777,
          2.7777777777777777
         ],
         "y": [
          1.6666666666666667,
          1.6666666666666667
         ],
         "z": [
          1.013053332345669,
          1.0566137576165442
         ]
        },
        {
         "line": {
          "color": "rgba(0,100,0,0.5)",
          "width": 2
         },
         "mode": "lines",
         "showlegend": false,
         "type": "scatter3d",
         "x": [
          2.878787878787879,
          2.878787878787879
         ],
         "y": [
          1.7272727272727275,
          1.7272727272727275
         ],
         "z": [
          1.0901511281043066,
          1.0565712971780878
         ]
        },
        {
         "line": {
          "color": "rgba(0,100,0,0.5)",
          "width": 2
         },
         "mode": "lines",
         "showlegend": false,
         "type": "scatter3d",
         "x": [
          2.9797979797979797,
          2.9797979797979797
         ],
         "y": [
          1.7878787878787876,
          1.7878787878787876
         ],
         "z": [
          1.0220338093055803,
          1.05652785023317
         ]
        },
        {
         "line": {
          "color": "rgba(0,100,0,0.5)",
          "width": 2
         },
         "mode": "lines",
         "showlegend": false,
         "type": "scatter3d",
         "x": [
          3.0808080808080804,
          3.0808080808080804
         ],
         "y": [
          1.8484848484848484,
          1.8484848484848484
         ],
         "z": [
          1.0378550640529576,
          1.0564842668306502
         ]
        },
        {
         "line": {
          "color": "rgba(0,100,0,0.5)",
          "width": 2
         },
         "mode": "lines",
         "showlegend": false,
         "type": "scatter3d",
         "x": [
          3.1818181818181817,
          3.1818181818181817
         ],
         "y": [
          1.9090909090909092,
          1.9090909090909092
         ],
         "z": [
          1.042275585926939,
          1.0564412021668268
         ]
        },
        {
         "line": {
          "color": "rgba(0,100,0,0.5)",
          "width": 2
         },
         "mode": "lines",
         "showlegend": false,
         "type": "scatter3d",
         "x": [
          3.282828282828283,
          3.282828282828283
         ],
         "y": [
          1.9696969696969697,
          1.9696969696969697
         ],
         "z": [
          1.0972686170447485,
          1.056399152355155
         ]
        },
        {
         "line": {
          "color": "rgba(0,100,0,0.5)",
          "width": 2
         },
         "mode": "lines",
         "showlegend": false,
         "type": "scatter3d",
         "x": [
          3.383838383838384,
          3.383838383838384
         ],
         "y": [
          2.0303030303030303,
          2.0303030303030303
         ],
         "z": [
          1.0177015993179503,
          1.056358484151383
         ]
        },
        {
         "line": {
          "color": "rgba(0,100,0,0.5)",
          "width": 2
         },
         "mode": "lines",
         "showlegend": false,
         "type": "scatter3d",
         "x": [
          3.4848484848484853,
          3.4848484848484853
         ],
         "y": [
          2.090909090909091,
          2.090909090909091
         ],
         "z": [
          1.0882276498768944,
          1.0563194596317835
         ]
        },
        {
         "line": {
          "color": "rgba(0,100,0,0.5)",
          "width": 2
         },
         "mode": "lines",
         "showlegend": false,
         "type": "scatter3d",
         "x": [
          3.5858585858585856,
          3.5858585858585856
         ],
         "y": [
          2.1515151515151514,
          2.1515151515151514
         ],
         "z": [
          1.0551257332396937,
          1.0562822566528225
         ]
        },
        {
         "line": {
          "color": "rgba(0,100,0,0.5)",
          "width": 2
         },
         "mode": "lines",
         "showlegend": false,
         "type": "scatter3d",
         "x": [
          3.686868686868687,
          3.686868686868687
         ],
         "y": [
          2.212121212121212,
          2.212121212121212
         ],
         "z": [
          1.0321491900612425,
          1.0562469857827042
         ]
        },
        {
         "line": {
          "color": "rgba(0,100,0,0.5)",
          "width": 2
         },
         "mode": "lines",
         "showlegend": false,
         "type": "scatter3d",
         "x": [
          3.787878787878788,
          3.787878787878788
         ],
         "y": [
          2.2727272727272725,
          2.2727272727272725
         ],
         "z": [
          1.0899845597796185,
          1.0562137042819861
         ]
        },
        {
         "line": {
          "color": "rgba(0,100,0,0.5)",
          "width": 2
         },
         "mode": "lines",
         "showlegend": false,
         "type": "scatter3d",
         "x": [
          3.888888888888889,
          3.888888888888889
         ],
         "y": [
          2.3333333333333335,
          2.3333333333333335
         ],
         "z": [
          1.0542111719291447,
          1.0561824276168985
         ]
        },
        {
         "line": {
          "color": "rgba(0,100,0,0.5)",
          "width": 2
         },
         "mode": "lines",
         "showlegend": false,
         "type": "scatter3d",
         "x": [
          3.98989898989899,
          3.98989898989899
         ],
         "y": [
          2.393939393939394,
          2.393939393939394
         ],
         "z": [
          1.0462889255136243,
          1.056153138911193
         ]
        },
        {
         "line": {
          "color": "rgba(0,100,0,0.5)",
          "width": 2
         },
         "mode": "lines",
         "showlegend": false,
         "type": "scatter3d",
         "x": [
          4.090909090909091,
          4.090909090909091
         ],
         "y": [
          2.4545454545454546,
          2.4545454545454546
         ],
         "z": [
          1.0807974927413038,
          1.056125796677403
         ]
        },
        {
         "line": {
          "color": "rgba(0,100,0,0.5)",
          "width": 2
         },
         "mode": "lines",
         "showlegend": false,
         "type": "scatter3d",
         "x": [
          4.191919191919192,
          4.191919191919192
         ],
         "y": [
          2.515151515151515,
          2.515151515151515
         ],
         "z": [
          1.036081824030038,
          1.056100341113983
         ]
        },
        {
         "line": {
          "color": "rgba(0,100,0,0.5)",
          "width": 2
         },
         "mode": "lines",
         "showlegend": false,
         "type": "scatter3d",
         "x": [
          4.292929292929292,
          4.292929292929292
         ],
         "y": [
          2.5757575757575757,
          2.5757575757575757
         ],
         "z": [
          1.0971002979469462,
          1.0560766992090436
         ]
        },
        {
         "line": {
          "color": "rgba(0,100,0,0.5)",
          "width": 2
         },
         "mode": "lines",
         "showlegend": false,
         "type": "scatter3d",
         "x": [
          4.393939393939394,
          4.393939393939394
         ],
         "y": [
          2.6363636363636362,
          2.6363636363636362
         ],
         "z": [
          1.055551732432999,
          1.0560547888529435
         ]
        },
        {
         "line": {
          "color": "rgba(0,100,0,0.5)",
          "width": 2
         },
         "mode": "lines",
         "showlegend": false,
         "type": "scatter3d",
         "x": [
          4.494949494949495,
          4.494949494949495
         ],
         "y": [
          2.6969696969696972,
          2.6969696969696972
         ],
         "z": [
          1.0769819702468155,
          1.056034522129528
         ]
        },
        {
         "line": {
          "color": "rgba(0,100,0,0.5)",
          "width": 2
         },
         "mode": "lines",
         "showlegend": false,
         "type": "scatter3d",
         "x": [
          4.595959595959596,
          4.595959595959596
         ],
         "y": [
          2.757575757575758,
          2.757575757575758
         ],
         "z": [
          1.0680121019061068,
          1.0560158079284583
         ]
        },
        {
         "line": {
          "color": "rgba(0,100,0,0.5)",
          "width": 2
         },
         "mode": "lines",
         "showlegend": false,
         "type": "scatter3d",
         "x": [
          4.696969696969697,
          4.696969696969697
         ],
         "y": [
          2.8181818181818183,
          2.8181818181818183
         ],
         "z": [
          1.020519955089146,
          1.0559985539979886
         ]
        },
        {
         "line": {
          "color": "rgba(0,100,0,0.5)",
          "width": 2
         },
         "mode": "lines",
         "showlegend": false,
         "type": "scatter3d",
         "x": [
          4.797979797979798,
          4.797979797979798
         ],
         "y": [
          2.878787878787879,
          2.878787878787879
         ],
         "z": [
          1.0834622933034845,
          1.0559826685380616
         ]
        },
        {
         "line": {
          "color": "rgba(0,100,0,0.5)",
          "width": 2
         },
         "mode": "lines",
         "showlegend": false,
         "type": "scatter3d",
         "x": [
          4.898989898989899,
          4.898989898989899
         ],
         "y": [
          2.9393939393939394,
          2.9393939393939394
         ],
         "z": [
          1.0865467029714968,
          1.0559680614171771
         ]
        },
        {
         "line": {
          "color": "rgba(0,100,0,0.5)",
          "width": 2
         },
         "mode": "lines",
         "showlegend": false,
         "type": "scatter3d",
         "x": [
          5,
          5
         ],
         "y": [
          3,
          3
         ],
         "z": [
          1.0041520782663516,
          1.0559546450826374
         ]
        }
       ],
       "layout": {
        "height": 800,
        "legend": {
         "bgcolor": "rgba(255,255,255,0.8)",
         "bordercolor": "black",
         "borderwidth": 1,
         "x": 0.01,
         "xanchor": "left",
         "y": 0.99,
         "yanchor": "top"
        },
        "scene": {
         "aspectmode": "cube",
         "camera": {
          "eye": {
           "x": 1.5,
           "y": -1.5,
           "z": 1
          },
          "up": {
           "x": 0,
           "y": 0,
           "z": 1
          }
         },
         "xaxis": {
          "gridcolor": "lightgray",
          "title": {
           "text": "x1"
          }
         },
         "yaxis": {
          "gridcolor": "lightgray",
          "title": {
           "text": "x2"
          }
         },
         "zaxis": {
          "gridcolor": "lightgray",
          "title": {
           "text": "y"
          }
         }
        },
        "template": {
         "data": {
          "bar": [
           {
            "error_x": {
             "color": "#2a3f5f"
            },
            "error_y": {
             "color": "#2a3f5f"
            },
            "marker": {
             "line": {
              "color": "#E5ECF6",
              "width": 0.5
             },
             "pattern": {
              "fillmode": "overlay",
              "size": 10,
              "solidity": 0.2
             }
            },
            "type": "bar"
           }
          ],
          "barpolar": [
           {
            "marker": {
             "line": {
              "color": "#E5ECF6",
              "width": 0.5
             },
             "pattern": {
              "fillmode": "overlay",
              "size": 10,
              "solidity": 0.2
             }
            },
            "type": "barpolar"
           }
          ],
          "carpet": [
           {
            "aaxis": {
             "endlinecolor": "#2a3f5f",
             "gridcolor": "white",
             "linecolor": "white",
             "minorgridcolor": "white",
             "startlinecolor": "#2a3f5f"
            },
            "baxis": {
             "endlinecolor": "#2a3f5f",
             "gridcolor": "white",
             "linecolor": "white",
             "minorgridcolor": "white",
             "startlinecolor": "#2a3f5f"
            },
            "type": "carpet"
           }
          ],
          "choropleth": [
           {
            "colorbar": {
             "outlinewidth": 0,
             "ticks": ""
            },
            "type": "choropleth"
           }
          ],
          "contour": [
           {
            "colorbar": {
             "outlinewidth": 0,
             "ticks": ""
            },
            "colorscale": [
             [
              0,
              "#0d0887"
             ],
             [
              0.1111111111111111,
              "#46039f"
             ],
             [
              0.2222222222222222,
              "#7201a8"
             ],
             [
              0.3333333333333333,
              "#9c179e"
             ],
             [
              0.4444444444444444,
              "#bd3786"
             ],
             [
              0.5555555555555556,
              "#d8576b"
             ],
             [
              0.6666666666666666,
              "#ed7953"
             ],
             [
              0.7777777777777778,
              "#fb9f3a"
             ],
             [
              0.8888888888888888,
              "#fdca26"
             ],
             [
              1,
              "#f0f921"
             ]
            ],
            "type": "contour"
           }
          ],
          "contourcarpet": [
           {
            "colorbar": {
             "outlinewidth": 0,
             "ticks": ""
            },
            "type": "contourcarpet"
           }
          ],
          "heatmap": [
           {
            "colorbar": {
             "outlinewidth": 0,
             "ticks": ""
            },
            "colorscale": [
             [
              0,
              "#0d0887"
             ],
             [
              0.1111111111111111,
              "#46039f"
             ],
             [
              0.2222222222222222,
              "#7201a8"
             ],
             [
              0.3333333333333333,
              "#9c179e"
             ],
             [
              0.4444444444444444,
              "#bd3786"
             ],
             [
              0.5555555555555556,
              "#d8576b"
             ],
             [
              0.6666666666666666,
              "#ed7953"
             ],
             [
              0.7777777777777778,
              "#fb9f3a"
             ],
             [
              0.8888888888888888,
              "#fdca26"
             ],
             [
              1,
              "#f0f921"
             ]
            ],
            "type": "heatmap"
           }
          ],
          "histogram": [
           {
            "marker": {
             "pattern": {
              "fillmode": "overlay",
              "size": 10,
              "solidity": 0.2
             }
            },
            "type": "histogram"
           }
          ],
          "histogram2d": [
           {
            "colorbar": {
             "outlinewidth": 0,
             "ticks": ""
            },
            "colorscale": [
             [
              0,
              "#0d0887"
             ],
             [
              0.1111111111111111,
              "#46039f"
             ],
             [
              0.2222222222222222,
              "#7201a8"
             ],
             [
              0.3333333333333333,
              "#9c179e"
             ],
             [
              0.4444444444444444,
              "#bd3786"
             ],
             [
              0.5555555555555556,
              "#d8576b"
             ],
             [
              0.6666666666666666,
              "#ed7953"
             ],
             [
              0.7777777777777778,
              "#fb9f3a"
             ],
             [
              0.8888888888888888,
              "#fdca26"
             ],
             [
              1,
              "#f0f921"
             ]
            ],
            "type": "histogram2d"
           }
          ],
          "histogram2dcontour": [
           {
            "colorbar": {
             "outlinewidth": 0,
             "ticks": ""
            },
            "colorscale": [
             [
              0,
              "#0d0887"
             ],
             [
              0.1111111111111111,
              "#46039f"
             ],
             [
              0.2222222222222222,
              "#7201a8"
             ],
             [
              0.3333333333333333,
              "#9c179e"
             ],
             [
              0.4444444444444444,
              "#bd3786"
             ],
             [
              0.5555555555555556,
              "#d8576b"
             ],
             [
              0.6666666666666666,
              "#ed7953"
             ],
             [
              0.7777777777777778,
              "#fb9f3a"
             ],
             [
              0.8888888888888888,
              "#fdca26"
             ],
             [
              1,
              "#f0f921"
             ]
            ],
            "type": "histogram2dcontour"
           }
          ],
          "mesh3d": [
           {
            "colorbar": {
             "outlinewidth": 0,
             "ticks": ""
            },
            "type": "mesh3d"
           }
          ],
          "parcoords": [
           {
            "line": {
             "colorbar": {
              "outlinewidth": 0,
              "ticks": ""
             }
            },
            "type": "parcoords"
           }
          ],
          "pie": [
           {
            "automargin": true,
            "type": "pie"
           }
          ],
          "scatter": [
           {
            "fillpattern": {
             "fillmode": "overlay",
             "size": 10,
             "solidity": 0.2
            },
            "type": "scatter"
           }
          ],
          "scatter3d": [
           {
            "line": {
             "colorbar": {
              "outlinewidth": 0,
              "ticks": ""
             }
            },
            "marker": {
             "colorbar": {
              "outlinewidth": 0,
              "ticks": ""
             }
            },
            "type": "scatter3d"
           }
          ],
          "scattercarpet": [
           {
            "marker": {
             "colorbar": {
              "outlinewidth": 0,
              "ticks": ""
             }
            },
            "type": "scattercarpet"
           }
          ],
          "scattergeo": [
           {
            "marker": {
             "colorbar": {
              "outlinewidth": 0,
              "ticks": ""
             }
            },
            "type": "scattergeo"
           }
          ],
          "scattergl": [
           {
            "marker": {
             "colorbar": {
              "outlinewidth": 0,
              "ticks": ""
             }
            },
            "type": "scattergl"
           }
          ],
          "scattermap": [
           {
            "marker": {
             "colorbar": {
              "outlinewidth": 0,
              "ticks": ""
             }
            },
            "type": "scattermap"
           }
          ],
          "scattermapbox": [
           {
            "marker": {
             "colorbar": {
              "outlinewidth": 0,
              "ticks": ""
             }
            },
            "type": "scattermapbox"
           }
          ],
          "scatterpolar": [
           {
            "marker": {
             "colorbar": {
              "outlinewidth": 0,
              "ticks": ""
             }
            },
            "type": "scatterpolar"
           }
          ],
          "scatterpolargl": [
           {
            "marker": {
             "colorbar": {
              "outlinewidth": 0,
              "ticks": ""
             }
            },
            "type": "scatterpolargl"
           }
          ],
          "scatterternary": [
           {
            "marker": {
             "colorbar": {
              "outlinewidth": 0,
              "ticks": ""
             }
            },
            "type": "scatterternary"
           }
          ],
          "surface": [
           {
            "colorbar": {
             "outlinewidth": 0,
             "ticks": ""
            },
            "colorscale": [
             [
              0,
              "#0d0887"
             ],
             [
              0.1111111111111111,
              "#46039f"
             ],
             [
              0.2222222222222222,
              "#7201a8"
             ],
             [
              0.3333333333333333,
              "#9c179e"
             ],
             [
              0.4444444444444444,
              "#bd3786"
             ],
             [
              0.5555555555555556,
              "#d8576b"
             ],
             [
              0.6666666666666666,
              "#ed7953"
             ],
             [
              0.7777777777777778,
              "#fb9f3a"
             ],
             [
              0.8888888888888888,
              "#fdca26"
             ],
             [
              1,
              "#f0f921"
             ]
            ],
            "type": "surface"
           }
          ],
          "table": [
           {
            "cells": {
             "fill": {
              "color": "#EBF0F8"
             },
             "line": {
              "color": "white"
             }
            },
            "header": {
             "fill": {
              "color": "#C8D4E3"
             },
             "line": {
              "color": "white"
             }
            },
            "type": "table"
           }
          ]
         },
         "layout": {
          "annotationdefaults": {
           "arrowcolor": "#2a3f5f",
           "arrowhead": 0,
           "arrowwidth": 1
          },
          "autotypenumbers": "strict",
          "coloraxis": {
           "colorbar": {
            "outlinewidth": 0,
            "ticks": ""
           }
          },
          "colorscale": {
           "diverging": [
            [
             0,
             "#8e0152"
            ],
            [
             0.1,
             "#c51b7d"
            ],
            [
             0.2,
             "#de77ae"
            ],
            [
             0.3,
             "#f1b6da"
            ],
            [
             0.4,
             "#fde0ef"
            ],
            [
             0.5,
             "#f7f7f7"
            ],
            [
             0.6,
             "#e6f5d0"
            ],
            [
             0.7,
             "#b8e186"
            ],
            [
             0.8,
             "#7fbc41"
            ],
            [
             0.9,
             "#4d9221"
            ],
            [
             1,
             "#276419"
            ]
           ],
           "sequential": [
            [
             0,
             "#0d0887"
            ],
            [
             0.1111111111111111,
             "#46039f"
            ],
            [
             0.2222222222222222,
             "#7201a8"
            ],
            [
             0.3333333333333333,
             "#9c179e"
            ],
            [
             0.4444444444444444,
             "#bd3786"
            ],
            [
             0.5555555555555556,
             "#d8576b"
            ],
            [
             0.6666666666666666,
             "#ed7953"
            ],
            [
             0.7777777777777778,
             "#fb9f3a"
            ],
            [
             0.8888888888888888,
             "#fdca26"
            ],
            [
             1,
             "#f0f921"
            ]
           ],
           "sequentialminus": [
            [
             0,
             "#0d0887"
            ],
            [
             0.1111111111111111,
             "#46039f"
            ],
            [
             0.2222222222222222,
             "#7201a8"
            ],
            [
             0.3333333333333333,
             "#9c179e"
            ],
            [
             0.4444444444444444,
             "#bd3786"
            ],
            [
             0.5555555555555556,
             "#d8576b"
            ],
            [
             0.6666666666666666,
             "#ed7953"
            ],
            [
             0.7777777777777778,
             "#fb9f3a"
            ],
            [
             0.8888888888888888,
             "#fdca26"
            ],
            [
             1,
             "#f0f921"
            ]
           ]
          },
          "colorway": [
           "#636efa",
           "#EF553B",
           "#00cc96",
           "#ab63fa",
           "#FFA15A",
           "#19d3f3",
           "#FF6692",
           "#B6E880",
           "#FF97FF",
           "#FECB52"
          ],
          "font": {
           "color": "#2a3f5f"
          },
          "geo": {
           "bgcolor": "white",
           "lakecolor": "white",
           "landcolor": "#E5ECF6",
           "showlakes": true,
           "showland": true,
           "subunitcolor": "white"
          },
          "hoverlabel": {
           "align": "left"
          },
          "hovermode": "closest",
          "mapbox": {
           "style": "light"
          },
          "paper_bgcolor": "white",
          "plot_bgcolor": "#E5ECF6",
          "polar": {
           "angularaxis": {
            "gridcolor": "white",
            "linecolor": "white",
            "ticks": ""
           },
           "bgcolor": "#E5ECF6",
           "radialaxis": {
            "gridcolor": "white",
            "linecolor": "white",
            "ticks": ""
           }
          },
          "scene": {
           "xaxis": {
            "backgroundcolor": "#E5ECF6",
            "gridcolor": "white",
            "gridwidth": 2,
            "linecolor": "white",
            "showbackground": true,
            "ticks": "",
            "zerolinecolor": "white"
           },
           "yaxis": {
            "backgroundcolor": "#E5ECF6",
            "gridcolor": "white",
            "gridwidth": 2,
            "linecolor": "white",
            "showbackground": true,
            "ticks": "",
            "zerolinecolor": "white"
           },
           "zaxis": {
            "backgroundcolor": "#E5ECF6",
            "gridcolor": "white",
            "gridwidth": 2,
            "linecolor": "white",
            "showbackground": true,
            "ticks": "",
            "zerolinecolor": "white"
           }
          },
          "shapedefaults": {
           "line": {
            "color": "#2a3f5f"
           }
          },
          "ternary": {
           "aaxis": {
            "gridcolor": "white",
            "linecolor": "white",
            "ticks": ""
           },
           "baxis": {
            "gridcolor": "white",
            "linecolor": "white",
            "ticks": ""
           },
           "bgcolor": "#E5ECF6",
           "caxis": {
            "gridcolor": "white",
            "linecolor": "white",
            "ticks": ""
           }
          },
          "title": {
           "x": 0.05
          },
          "xaxis": {
           "automargin": true,
           "gridcolor": "white",
           "linecolor": "white",
           "ticks": "",
           "title": {
            "standoff": 15
           },
           "zerolinecolor": "white",
           "zerolinewidth": 2
          },
          "yaxis": {
           "automargin": true,
           "gridcolor": "white",
           "linecolor": "white",
           "ticks": "",
           "title": {
            "standoff": 15
           },
           "zerolinecolor": "white",
           "zerolinewidth": 2
          }
         }
        },
        "title": {
         "text": "Modelo do Neurônio: Valores Reais vs. Previstos"
        },
        "width": 1000
       }
      }
     },
     "metadata": {},
     "output_type": "display_data"
    }
   ],
   "source": [
    "# Gere a malha para a superfície\n",
    "x1_range = np.linspace(df['x1'].min(), df['x1'].max(), 30)\n",
    "x2_range = np.linspace(df['x2'].min(), df['x2'].max(), 30)\n",
    "x1_grid, x2_grid = np.meshgrid(x1_range, x2_range)\n",
    "\n",
    "# Normalize a malha com o mesmo scaler usado no treino\n",
    "x1_grid_flat = x1_grid.flatten()\n",
    "x2_grid_flat = x2_grid.flatten()\n",
    "mesh_df = pd.DataFrame({'x1': x1_grid_flat, 'x2': x2_grid_flat})\n",
    "mesh_scaled = scaler.normalize(mesh_df)\n",
    "x1_mesh_scaled = mesh_scaled['x1'].values\n",
    "x2_mesh_scaled = mesh_scaled['x2'].values\n",
    "\n",
    "# Predição na malha\n",
    "y_grid_scaled = hidden_forward(\n",
    "    x1_mesh_scaled, x2_mesh_scaled, neurons_weights=neurons_weights, activation_fn=np.tanh\n",
    ")\n",
    "y_grid_pred = scaler_y.denormalize(pd.DataFrame(y_grid_scaled.reshape(-1, 1))).flatten()\n",
    "y_grid_pred = y_grid_pred.reshape(x1_grid.shape)\n",
    "\n",
    "fig = go.Figure()\n",
    "\n",
    "# Superfície de predição\n",
    "fig.add_trace(go.Surface(\n",
    "    x=x1_grid, y=x2_grid, z=y_grid_pred,\n",
    "    colorscale='Blues', opacity=0.7, showscale=False, name='Superfície de Predição'\n",
    "))\n",
    "\n",
    "# Pontos originais\n",
    "fig.add_trace(go.Scatter3d(\n",
    "    x=df['x1'], y=df['x2'], z=df['y'],\n",
    "    mode='markers',\n",
    "    marker=dict(size=7, color='red', symbol='circle', line=dict(width=1, color='darkred')),\n",
    "    name='Dados Originais'\n",
    "))\n",
    "\n",
    "# Pontos previstos\n",
    "fig.add_trace(go.Scatter3d(\n",
    "    x=df['x1'], y=df['x2'], z=y_hat,\n",
    "    mode='markers',\n",
    "    marker=dict(size=7, color='blue', symbol='diamond', line=dict(width=1, color='darkblue')),\n",
    "    name='Valores Previstos'\n",
    "))\n",
    "\n",
    "# Linhas verticais\n",
    "for i in range(len(df)):\n",
    "    fig.add_trace(go.Scatter3d(\n",
    "        x=[df['x1'].iloc[i], df['x1'].iloc[i]],\n",
    "        y=[df['x2'].iloc[i], df['x2'].iloc[i]],\n",
    "        z=[df['y'].iloc[i], y_hat[i]],\n",
    "        mode='lines',\n",
    "        line=dict(color='rgba(0,100,0,0.5)', width=2),\n",
    "        showlegend=False\n",
    "    ))\n",
    "\n",
    "# Layout\n",
    "fig.update_layout(\n",
    "    title='Modelo do Neurônio: Valores Reais vs. Previstos',\n",
    "    scene=dict(\n",
    "        xaxis_title='x1',\n",
    "        yaxis_title='x2',\n",
    "        zaxis_title='y',\n",
    "        aspectmode='cube',\n",
    "        camera=dict(\n",
    "            eye=dict(x=1.5, y=-1.5, z=1),\n",
    "            up=dict(x=0, y=0, z=1)\n",
    "        ),\n",
    "        xaxis=dict(gridcolor='lightgray'),\n",
    "        yaxis=dict(gridcolor='lightgray'),\n",
    "        zaxis=dict(gridcolor='lightgray')\n",
    "    ),\n",
    "    width=1000,\n",
    "    height=800,\n",
    "    legend=dict(\n",
    "        yanchor=\"top\",\n",
    "        y=0.99,\n",
    "        xanchor=\"left\",\n",
    "        x=0.01,\n",
    "        bgcolor=\"rgba(255,255,255,0.8)\",\n",
    "        bordercolor=\"black\",\n",
    "        borderwidth=1\n",
    "    )\n",
    ")\n",
    "\n",
    "fig.show()"
   ]
  }
 ],
 "metadata": {
  "kernelspec": {
   "display_name": "rna-tarefas-mestrado (3.13.2)",
   "language": "python",
   "name": "python3"
  },
  "language_info": {
   "codemirror_mode": {
    "name": "ipython",
    "version": 3
   },
   "file_extension": ".py",
   "mimetype": "text/x-python",
   "name": "python",
   "nbconvert_exporter": "python",
   "pygments_lexer": "ipython3",
   "version": "3.13.2"
  }
 },
 "nbformat": 4,
 "nbformat_minor": 5
}
